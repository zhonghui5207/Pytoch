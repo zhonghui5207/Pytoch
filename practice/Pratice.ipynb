{
 "cells": [
  {
   "cell_type": "markdown",
   "metadata": {},
   "source": [
    "# 预备知识"
   ]
  },
  {
   "cell_type": "markdown",
   "metadata": {},
   "source": [
    "## 数据操作"
   ]
  },
  {
   "cell_type": "markdown",
   "metadata": {},
   "source": [
    "### 创建tensor"
   ]
  },
  {
   "cell_type": "code",
   "execution_count": 1,
   "metadata": {},
   "outputs": [],
   "source": [
    "import torch"
   ]
  },
  {
   "cell_type": "code",
   "execution_count": 15,
   "metadata": {},
   "outputs": [],
   "source": [
    "import numpy as np"
   ]
  },
  {
   "cell_type": "code",
   "execution_count": 2,
   "metadata": {},
   "outputs": [
    {
     "data": {
      "text/plain": [
       "tensor([[ 0.0000e+00,  0.0000e+00,  2.4153e-33],\n",
       "        [ 1.4013e-45, -7.7987e-36,  4.5754e-41],\n",
       "        [-1.0649e-37,  4.5754e-41,  2.4204e-33],\n",
       "        [ 1.4013e-45,  2.4107e-33,  1.4013e-45],\n",
       "        [ 0.0000e+00,  0.0000e+00,  0.0000e+00]])"
      ]
     },
     "execution_count": 2,
     "metadata": {},
     "output_type": "execute_result"
    }
   ],
   "source": [
    "# 未初始化 tensor\n",
    "torch.empty(5,3)"
   ]
  },
  {
   "cell_type": "code",
   "execution_count": 3,
   "metadata": {},
   "outputs": [
    {
     "data": {
      "text/plain": [
       "tensor([[-0.1113, -0.0239, -1.4283],\n",
       "        [ 0.8953, -0.1287,  0.9335],\n",
       "        [-0.9187,  0.5247, -0.9564],\n",
       "        [-0.9037,  1.2366, -0.1941],\n",
       "        [ 0.6389, -1.1047, -0.3533]])"
      ]
     },
     "execution_count": 3,
     "metadata": {},
     "output_type": "execute_result"
    }
   ],
   "source": [
    "# 初始化 \n",
    "torch.randn(5,3)"
   ]
  },
  {
   "cell_type": "code",
   "execution_count": 4,
   "metadata": {},
   "outputs": [
    {
     "data": {
      "text/plain": [
       "tensor([[0., 0., 0.],\n",
       "        [0., 0., 0.],\n",
       "        [0., 0., 0.],\n",
       "        [0., 0., 0.],\n",
       "        [0., 0., 0.]])"
      ]
     },
     "execution_count": 4,
     "metadata": {},
     "output_type": "execute_result"
    }
   ],
   "source": [
    "# 全零\n",
    "torch.zeros(5,3)"
   ]
  },
  {
   "cell_type": "code",
   "execution_count": 6,
   "metadata": {},
   "outputs": [],
   "source": [
    "# 直接创建\n",
    "x = torch.Tensor([5.4,3])"
   ]
  },
  {
   "cell_type": "code",
   "execution_count": 7,
   "metadata": {},
   "outputs": [
    {
     "data": {
      "text/plain": [
       "tensor([5.4000, 3.0000])"
      ]
     },
     "execution_count": 7,
     "metadata": {},
     "output_type": "execute_result"
    }
   ],
   "source": [
    "x"
   ]
  },
  {
   "cell_type": "code",
   "execution_count": 8,
   "metadata": {},
   "outputs": [],
   "source": [
    "x = x.new_ones(5,3,dtype=torch.float64)"
   ]
  },
  {
   "cell_type": "code",
   "execution_count": 9,
   "metadata": {},
   "outputs": [
    {
     "data": {
      "text/plain": [
       "tensor([[1., 1., 1.],\n",
       "        [1., 1., 1.],\n",
       "        [1., 1., 1.],\n",
       "        [1., 1., 1.],\n",
       "        [1., 1., 1.]], dtype=torch.float64)"
      ]
     },
     "execution_count": 9,
     "metadata": {},
     "output_type": "execute_result"
    }
   ],
   "source": [
    "x"
   ]
  },
  {
   "cell_type": "code",
   "execution_count": 10,
   "metadata": {},
   "outputs": [],
   "source": [
    "x = torch.randn_like(x,dtype=torch.float)"
   ]
  },
  {
   "cell_type": "code",
   "execution_count": 11,
   "metadata": {},
   "outputs": [
    {
     "data": {
      "text/plain": [
       "tensor([[ 0.2558, -2.5110,  0.9224],\n",
       "        [ 0.2972,  0.1293, -0.3202],\n",
       "        [ 0.3940,  0.7585,  1.0187],\n",
       "        [ 0.3075,  0.9384, -0.6080],\n",
       "        [ 0.8044, -0.6716,  0.8548]])"
      ]
     },
     "execution_count": 11,
     "metadata": {},
     "output_type": "execute_result"
    }
   ],
   "source": [
    "x"
   ]
  },
  {
   "cell_type": "code",
   "execution_count": 12,
   "metadata": {},
   "outputs": [
    {
     "data": {
      "text/plain": [
       "torch.Size([5, 3])"
      ]
     },
     "execution_count": 12,
     "metadata": {},
     "output_type": "execute_result"
    }
   ],
   "source": [
    "# 获取形状\n",
    "x.size()"
   ]
  },
  {
   "cell_type": "code",
   "execution_count": 13,
   "metadata": {},
   "outputs": [
    {
     "data": {
      "text/plain": [
       "torch.Size([5, 3])"
      ]
     },
     "execution_count": 13,
     "metadata": {},
     "output_type": "execute_result"
    }
   ],
   "source": [
    "x.shape"
   ]
  },
  {
   "cell_type": "code",
   "execution_count": 16,
   "metadata": {},
   "outputs": [
    {
     "data": {
      "text/plain": [
       "tensor([[2., 4.],\n",
       "        [4., 5.]])"
      ]
     },
     "execution_count": 16,
     "metadata": {},
     "output_type": "execute_result"
    }
   ],
   "source": [
    "# 根据numpy\n",
    "torch.tensor(np.array([[2,4],[4,5]]),dtype=torch.float)"
   ]
  },
  {
   "cell_type": "code",
   "execution_count": 18,
   "metadata": {},
   "outputs": [
    {
     "data": {
      "text/plain": [
       "tensor([[1., 0.],\n",
       "        [0., 1.]])"
      ]
     },
     "execution_count": 18,
     "metadata": {},
     "output_type": "execute_result"
    }
   ],
   "source": [
    "torch.eye(2,2)"
   ]
  },
  {
   "cell_type": "code",
   "execution_count": 25,
   "metadata": {},
   "outputs": [],
   "source": [
    "x  = torch.arange(1,12,2).view(2,3)"
   ]
  },
  {
   "cell_type": "code",
   "execution_count": 26,
   "metadata": {},
   "outputs": [
    {
     "data": {
      "text/plain": [
       "torch.Size([2, 3])"
      ]
     },
     "execution_count": 26,
     "metadata": {},
     "output_type": "execute_result"
    }
   ],
   "source": [
    "x.size()"
   ]
  },
  {
   "cell_type": "code",
   "execution_count": 34,
   "metadata": {},
   "outputs": [
    {
     "data": {
      "text/plain": [
       "tensor([ 1.,  2.,  3.,  4.,  5.,  6.,  7.,  8.,  9., 10.], dtype=torch.float64)"
      ]
     },
     "execution_count": 34,
     "metadata": {},
     "output_type": "execute_result"
    }
   ],
   "source": [
    "torch.linspace(1,10,10,dtype=float)"
   ]
  },
  {
   "cell_type": "code",
   "execution_count": 39,
   "metadata": {},
   "outputs": [
    {
     "data": {
      "text/plain": [
       "tensor([[1.8975, 0.6649],\n",
       "        [0.0799, 0.1688]])"
      ]
     },
     "execution_count": 39,
     "metadata": {},
     "output_type": "execute_result"
    }
   ],
   "source": [
    "torch.normal(0,1,(2,2))"
   ]
  },
  {
   "cell_type": "code",
   "execution_count": 40,
   "metadata": {},
   "outputs": [
    {
     "ename": "AttributeError",
     "evalue": "module 'torch' has no attribute 'uniform'",
     "output_type": "error",
     "traceback": [
      "\u001b[0;31m---------------------------------------------------------------------------\u001b[0m",
      "\u001b[0;31mAttributeError\u001b[0m                            Traceback (most recent call last)",
      "\u001b[0;32m<ipython-input-40-f4c9f1249acf>\u001b[0m in \u001b[0;36m<module>\u001b[0;34m\u001b[0m\n\u001b[0;32m----> 1\u001b[0;31m \u001b[0mtorch\u001b[0m\u001b[0;34m.\u001b[0m\u001b[0muniform\u001b[0m\u001b[0;34m(\u001b[0m\u001b[0;36m0\u001b[0m\u001b[0;34m,\u001b[0m\u001b[0;36m1\u001b[0m\u001b[0;34m,\u001b[0m\u001b[0;34m(\u001b[0m\u001b[0;36m2\u001b[0m\u001b[0;34m,\u001b[0m\u001b[0;36m2\u001b[0m\u001b[0;34m)\u001b[0m\u001b[0;34m)\u001b[0m\u001b[0;34m\u001b[0m\u001b[0;34m\u001b[0m\u001b[0m\n\u001b[0m",
      "\u001b[0;31mAttributeError\u001b[0m: module 'torch' has no attribute 'uniform'"
     ]
    }
   ],
   "source": []
  },
  {
   "cell_type": "markdown",
   "metadata": {},
   "source": [
    "### 操作"
   ]
  },
  {
   "cell_type": "code",
   "execution_count": null,
   "metadata": {},
   "outputs": [],
   "source": [
    "# 算数操作"
   ]
  },
  {
   "cell_type": "code",
   "execution_count": 41,
   "metadata": {},
   "outputs": [],
   "source": [
    "\n",
    "# 加法形式1\n",
    "x = torch.randn(5,3)"
   ]
  },
  {
   "cell_type": "code",
   "execution_count": 42,
   "metadata": {},
   "outputs": [
    {
     "data": {
      "text/plain": [
       "tensor([[ 0.7086, -0.7837,  1.3360],\n",
       "        [ 1.1197,  1.9167,  0.8196],\n",
       "        [ 0.3701, -1.4880,  0.0214],\n",
       "        [-1.7331, -0.2454, -1.4524],\n",
       "        [-1.4059,  0.2681,  0.5895]])"
      ]
     },
     "execution_count": 42,
     "metadata": {},
     "output_type": "execute_result"
    }
   ],
   "source": [
    "x"
   ]
  },
  {
   "cell_type": "code",
   "execution_count": 43,
   "metadata": {},
   "outputs": [],
   "source": [
    "y = torch.rand(5,3)"
   ]
  },
  {
   "cell_type": "code",
   "execution_count": 44,
   "metadata": {},
   "outputs": [
    {
     "data": {
      "text/plain": [
       "tensor([[0.3692, 0.2018, 0.7290],\n",
       "        [0.3640, 0.4273, 0.0786],\n",
       "        [0.2943, 0.6365, 0.5373],\n",
       "        [0.6194, 0.7344, 0.9623],\n",
       "        [0.0420, 0.1156, 0.6017]])"
      ]
     },
     "execution_count": 44,
     "metadata": {},
     "output_type": "execute_result"
    }
   ],
   "source": [
    "y"
   ]
  },
  {
   "cell_type": "code",
   "execution_count": 45,
   "metadata": {},
   "outputs": [
    {
     "data": {
      "text/plain": [
       "tensor([[ 1.0778, -0.5819,  2.0650],\n",
       "        [ 1.4837,  2.3440,  0.8982],\n",
       "        [ 0.6643, -0.8515,  0.5587],\n",
       "        [-1.1137,  0.4890, -0.4901],\n",
       "        [-1.3639,  0.3837,  1.1912]])"
      ]
     },
     "execution_count": 45,
     "metadata": {},
     "output_type": "execute_result"
    }
   ],
   "source": [
    "x + y"
   ]
  },
  {
   "cell_type": "code",
   "execution_count": 46,
   "metadata": {},
   "outputs": [
    {
     "data": {
      "text/plain": [
       "tensor([[ 1.0778, -0.5819,  2.0650],\n",
       "        [ 1.4837,  2.3440,  0.8982],\n",
       "        [ 0.6643, -0.8515,  0.5587],\n",
       "        [-1.1137,  0.4890, -0.4901],\n",
       "        [-1.3639,  0.3837,  1.1912]])"
      ]
     },
     "execution_count": 46,
     "metadata": {},
     "output_type": "execute_result"
    }
   ],
   "source": [
    "# 加法形式2\n",
    "torch.add(x,y)"
   ]
  },
  {
   "cell_type": "code",
   "execution_count": 47,
   "metadata": {},
   "outputs": [
    {
     "data": {
      "text/plain": [
       "tensor([[ 1.0778, -0.5819,  2.0650],\n",
       "        [ 1.4837,  2.3440,  0.8982],\n",
       "        [ 0.6643, -0.8515,  0.5587],\n",
       "        [-1.1137,  0.4890, -0.4901],\n",
       "        [-1.3639,  0.3837,  1.1912]])"
      ]
     },
     "execution_count": 47,
     "metadata": {},
     "output_type": "execute_result"
    }
   ],
   "source": [
    "# 可以指定输出\n",
    "result = torch.empty(5,3)\n",
    "torch.add(x,y,out=result)"
   ]
  },
  {
   "cell_type": "code",
   "execution_count": 48,
   "metadata": {},
   "outputs": [
    {
     "data": {
      "text/plain": [
       "tensor([[ 1.0778, -0.5819,  2.0650],\n",
       "        [ 1.4837,  2.3440,  0.8982],\n",
       "        [ 0.6643, -0.8515,  0.5587],\n",
       "        [-1.1137,  0.4890, -0.4901],\n",
       "        [-1.3639,  0.3837,  1.1912]])"
      ]
     },
     "execution_count": 48,
     "metadata": {},
     "output_type": "execute_result"
    }
   ],
   "source": [
    "result"
   ]
  },
  {
   "cell_type": "code",
   "execution_count": 49,
   "metadata": {},
   "outputs": [
    {
     "data": {
      "text/plain": [
       "tensor([[ 1.0778, -0.5819,  2.0650],\n",
       "        [ 1.4837,  2.3440,  0.8982],\n",
       "        [ 0.6643, -0.8515,  0.5587],\n",
       "        [-1.1137,  0.4890, -0.4901],\n",
       "        [-1.3639,  0.3837,  1.1912]])"
      ]
     },
     "execution_count": 49,
     "metadata": {},
     "output_type": "execute_result"
    }
   ],
   "source": [
    "# 加法形式3\n",
    "y.add_(x)"
   ]
  },
  {
   "cell_type": "code",
   "execution_count": 50,
   "metadata": {},
   "outputs": [
    {
     "data": {
      "text/plain": [
       "tensor([[ 1.0778, -0.5819,  2.0650],\n",
       "        [ 1.4837,  2.3440,  0.8982],\n",
       "        [ 0.6643, -0.8515,  0.5587],\n",
       "        [-1.1137,  0.4890, -0.4901],\n",
       "        [-1.3639,  0.3837,  1.1912]])"
      ]
     },
     "execution_count": 50,
     "metadata": {},
     "output_type": "execute_result"
    }
   ],
   "source": [
    "y"
   ]
  },
  {
   "cell_type": "code",
   "execution_count": 51,
   "metadata": {},
   "outputs": [
    {
     "data": {
      "text/plain": [
       "tensor([[ 0.7086, -0.7837,  1.3360],\n",
       "        [ 1.1197,  1.9167,  0.8196],\n",
       "        [ 0.3701, -1.4880,  0.0214],\n",
       "        [-1.7331, -0.2454, -1.4524],\n",
       "        [-1.4059,  0.2681,  0.5895]])"
      ]
     },
     "execution_count": 51,
     "metadata": {},
     "output_type": "execute_result"
    }
   ],
   "source": [
    "x"
   ]
  },
  {
   "cell_type": "code",
   "execution_count": 52,
   "metadata": {},
   "outputs": [
    {
     "data": {
      "text/plain": [
       "tensor([[ 0.7086,  1.1197,  0.3701, -1.7331, -1.4059],\n",
       "        [-0.7837,  1.9167, -1.4880, -0.2454,  0.2681],\n",
       "        [ 1.3360,  0.8196,  0.0214, -1.4524,  0.5895]])"
      ]
     },
     "execution_count": 52,
     "metadata": {},
     "output_type": "execute_result"
    }
   ],
   "source": [
    "x.t_()"
   ]
  },
  {
   "cell_type": "code",
   "execution_count": 54,
   "metadata": {},
   "outputs": [
    {
     "data": {
      "text/plain": [
       "tensor([[ 0.7086, -0.7837,  1.3360],\n",
       "        [ 1.1197,  1.9167,  0.8196],\n",
       "        [ 0.3701, -1.4880,  0.0214],\n",
       "        [-1.7331, -0.2454, -1.4524],\n",
       "        [-1.4059,  0.2681,  0.5895]])"
      ]
     },
     "execution_count": 54,
     "metadata": {},
     "output_type": "execute_result"
    }
   ],
   "source": [
    "x.t_()"
   ]
  },
  {
   "cell_type": "code",
   "execution_count": 55,
   "metadata": {},
   "outputs": [
    {
     "data": {
      "text/plain": [
       "tensor([[ 1.0778, -0.5819,  2.0650],\n",
       "        [ 1.4837,  2.3440,  0.8982],\n",
       "        [ 0.6643, -0.8515,  0.5587],\n",
       "        [-1.1137,  0.4890, -0.4901],\n",
       "        [-1.3639,  0.3837,  1.1912]])"
      ]
     },
     "execution_count": 55,
     "metadata": {},
     "output_type": "execute_result"
    }
   ],
   "source": [
    "x.copy_(y)"
   ]
  },
  {
   "cell_type": "code",
   "execution_count": 56,
   "metadata": {},
   "outputs": [
    {
     "data": {
      "text/plain": [
       "tensor([[ 1.0778, -0.5819,  2.0650],\n",
       "        [ 1.4837,  2.3440,  0.8982],\n",
       "        [ 0.6643, -0.8515,  0.5587],\n",
       "        [-1.1137,  0.4890, -0.4901],\n",
       "        [-1.3639,  0.3837,  1.1912]])"
      ]
     },
     "execution_count": 56,
     "metadata": {},
     "output_type": "execute_result"
    }
   ],
   "source": [
    "x"
   ]
  },
  {
   "cell_type": "code",
   "execution_count": null,
   "metadata": {},
   "outputs": [],
   "source": [
    "# 索引\n",
    "# 索引出来的结果与原数据共享内存，修改一个 另一个也随着变"
   ]
  },
  {
   "cell_type": "code",
   "execution_count": 57,
   "metadata": {},
   "outputs": [],
   "source": [
    "y = x[0,:]"
   ]
  },
  {
   "cell_type": "code",
   "execution_count": 58,
   "metadata": {},
   "outputs": [
    {
     "data": {
      "text/plain": [
       "tensor([ 1.0778, -0.5819,  2.0650])"
      ]
     },
     "execution_count": 58,
     "metadata": {},
     "output_type": "execute_result"
    }
   ],
   "source": [
    "y"
   ]
  },
  {
   "cell_type": "code",
   "execution_count": 59,
   "metadata": {},
   "outputs": [],
   "source": [
    "y +=1"
   ]
  },
  {
   "cell_type": "code",
   "execution_count": 60,
   "metadata": {},
   "outputs": [
    {
     "data": {
      "text/plain": [
       "tensor([2.0778, 0.4181, 3.0650])"
      ]
     },
     "execution_count": 60,
     "metadata": {},
     "output_type": "execute_result"
    }
   ],
   "source": [
    "y"
   ]
  },
  {
   "cell_type": "code",
   "execution_count": 61,
   "metadata": {},
   "outputs": [
    {
     "data": {
      "text/plain": [
       "tensor([2.0778, 0.4181, 3.0650])"
      ]
     },
     "execution_count": 61,
     "metadata": {},
     "output_type": "execute_result"
    }
   ],
   "source": [
    "x[0,:]"
   ]
  },
  {
   "cell_type": "code",
   "execution_count": 62,
   "metadata": {},
   "outputs": [
    {
     "data": {
      "text/plain": [
       "tensor([[ 2.0778,  0.4181,  3.0650],\n",
       "        [ 1.4837,  2.3440,  0.8982],\n",
       "        [ 0.6643, -0.8515,  0.5587],\n",
       "        [-1.1137,  0.4890, -0.4901],\n",
       "        [-1.3639,  0.3837,  1.1912]])"
      ]
     },
     "execution_count": 62,
     "metadata": {},
     "output_type": "execute_result"
    }
   ],
   "source": [
    "x"
   ]
  },
  {
   "cell_type": "code",
   "execution_count": 68,
   "metadata": {},
   "outputs": [
    {
     "data": {
      "text/plain": [
       "tensor([[ 2.0778,  2.0778,  0.4181],\n",
       "        [ 1.4837,  1.4837,  2.3440],\n",
       "        [ 0.6643,  0.6643, -0.8515],\n",
       "        [-1.1137, -1.1137,  0.4890],\n",
       "        [-1.3639, -1.3639,  0.3837]])"
      ]
     },
     "execution_count": 68,
     "metadata": {},
     "output_type": "execute_result"
    }
   ],
   "source": [
    "torch.index_select(x,1,torch.LongTensor([0.,0.,1.]))"
   ]
  },
  {
   "cell_type": "code",
   "execution_count": 69,
   "metadata": {},
   "outputs": [
    {
     "ename": "RuntimeError",
     "evalue": "Index tensor must have the same number of dimensions as input tensor",
     "output_type": "error",
     "traceback": [
      "\u001b[0;31m---------------------------------------------------------------------------\u001b[0m",
      "\u001b[0;31mRuntimeError\u001b[0m                              Traceback (most recent call last)",
      "\u001b[0;32m<ipython-input-69-b70b9ff869ef>\u001b[0m in \u001b[0;36m<module>\u001b[0;34m\u001b[0m\n\u001b[0;32m----> 1\u001b[0;31m \u001b[0mtorch\u001b[0m\u001b[0;34m.\u001b[0m\u001b[0mgather\u001b[0m\u001b[0;34m(\u001b[0m\u001b[0mx\u001b[0m\u001b[0;34m,\u001b[0m\u001b[0;36m0\u001b[0m\u001b[0;34m,\u001b[0m\u001b[0mtorch\u001b[0m\u001b[0;34m.\u001b[0m\u001b[0mLongTensor\u001b[0m\u001b[0;34m(\u001b[0m\u001b[0;34m[\u001b[0m\u001b[0;36m1.\u001b[0m\u001b[0;34m,\u001b[0m\u001b[0;36m1.\u001b[0m\u001b[0;34m,\u001b[0m\u001b[0;36m0.\u001b[0m\u001b[0;34m]\u001b[0m\u001b[0;34m)\u001b[0m\u001b[0;34m)\u001b[0m\u001b[0;34m\u001b[0m\u001b[0;34m\u001b[0m\u001b[0m\n\u001b[0m",
      "\u001b[0;31mRuntimeError\u001b[0m: Index tensor must have the same number of dimensions as input tensor"
     ]
    }
   ],
   "source": [
    "# torch.gather(x,0,torch.LongTensor([1.,1.,0.]))"
   ]
  },
  {
   "cell_type": "code",
   "execution_count": 70,
   "metadata": {},
   "outputs": [],
   "source": [
    "# 改变形状\n",
    "y = x.view(15)"
   ]
  },
  {
   "cell_type": "code",
   "execution_count": 71,
   "metadata": {},
   "outputs": [
    {
     "data": {
      "text/plain": [
       "tensor([ 2.0778,  0.4181,  3.0650,  1.4837,  2.3440,  0.8982,  0.6643, -0.8515,\n",
       "         0.5587, -1.1137,  0.4890, -0.4901, -1.3639,  0.3837,  1.1912])"
      ]
     },
     "execution_count": 71,
     "metadata": {},
     "output_type": "execute_result"
    }
   ],
   "source": [
    "y"
   ]
  },
  {
   "cell_type": "code",
   "execution_count": 73,
   "metadata": {},
   "outputs": [],
   "source": [
    "z = x.view(-1,5)"
   ]
  },
  {
   "cell_type": "code",
   "execution_count": 74,
   "metadata": {},
   "outputs": [
    {
     "data": {
      "text/plain": [
       "tensor([[ 2.0778,  0.4181,  3.0650,  1.4837,  2.3440],\n",
       "        [ 0.8982,  0.6643, -0.8515,  0.5587, -1.1137],\n",
       "        [ 0.4890, -0.4901, -1.3639,  0.3837,  1.1912]])"
      ]
     },
     "execution_count": 74,
     "metadata": {},
     "output_type": "execute_result"
    }
   ],
   "source": [
    "z "
   ]
  },
  {
   "cell_type": "code",
   "execution_count": 75,
   "metadata": {},
   "outputs": [
    {
     "data": {
      "text/plain": [
       "torch.Size([5, 3])"
      ]
     },
     "execution_count": 75,
     "metadata": {},
     "output_type": "execute_result"
    }
   ],
   "source": [
    "x.shape"
   ]
  },
  {
   "cell_type": "code",
   "execution_count": 76,
   "metadata": {},
   "outputs": [
    {
     "data": {
      "text/plain": [
       "torch.Size([15])"
      ]
     },
     "execution_count": 76,
     "metadata": {},
     "output_type": "execute_result"
    }
   ],
   "source": [
    "y.shape"
   ]
  },
  {
   "cell_type": "code",
   "execution_count": 77,
   "metadata": {},
   "outputs": [
    {
     "data": {
      "text/plain": [
       "torch.Size([3, 5])"
      ]
     },
     "execution_count": 77,
     "metadata": {},
     "output_type": "execute_result"
    }
   ],
   "source": [
    "z.shape"
   ]
  },
  {
   "cell_type": "code",
   "execution_count": 78,
   "metadata": {},
   "outputs": [],
   "source": [
    "# view()返回新的size 但是 是共享 data 的 改变其中一个另外一个也跟着改变\n",
    "x += 1"
   ]
  },
  {
   "cell_type": "code",
   "execution_count": 79,
   "metadata": {},
   "outputs": [
    {
     "data": {
      "text/plain": [
       "tensor([[ 3.0778,  1.4181,  4.0650],\n",
       "        [ 2.4837,  3.3440,  1.8982],\n",
       "        [ 1.6643,  0.1485,  1.5587],\n",
       "        [-0.1137,  1.4890,  0.5099],\n",
       "        [-0.3639,  1.3837,  2.1912]])"
      ]
     },
     "execution_count": 79,
     "metadata": {},
     "output_type": "execute_result"
    }
   ],
   "source": [
    "x"
   ]
  },
  {
   "cell_type": "code",
   "execution_count": 80,
   "metadata": {},
   "outputs": [
    {
     "data": {
      "text/plain": [
       "tensor([ 3.0778,  1.4181,  4.0650,  2.4837,  3.3440,  1.8982,  1.6643,  0.1485,\n",
       "         1.5587, -0.1137,  1.4890,  0.5099, -0.3639,  1.3837,  2.1912])"
      ]
     },
     "execution_count": 80,
     "metadata": {},
     "output_type": "execute_result"
    }
   ],
   "source": [
    "y"
   ]
  },
  {
   "cell_type": "code",
   "execution_count": 81,
   "metadata": {},
   "outputs": [
    {
     "data": {
      "text/plain": [
       "tensor([[ 3.0778,  1.4181,  4.0650,  2.4837,  3.3440],\n",
       "        [ 1.8982,  1.6643,  0.1485,  1.5587, -0.1137],\n",
       "        [ 1.4890,  0.5099, -0.3639,  1.3837,  2.1912]])"
      ]
     },
     "execution_count": 81,
     "metadata": {},
     "output_type": "execute_result"
    }
   ],
   "source": [
    "z"
   ]
  },
  {
   "cell_type": "code",
   "execution_count": 82,
   "metadata": {},
   "outputs": [],
   "source": [
    "#不变量共享 先用clone 创建一个副本然后在使用view\n",
    "x_cp = x.clone().view(15)"
   ]
  },
  {
   "cell_type": "code",
   "execution_count": 83,
   "metadata": {},
   "outputs": [
    {
     "data": {
      "text/plain": [
       "tensor([ 3.0778,  1.4181,  4.0650,  2.4837,  3.3440,  1.8982,  1.6643,  0.1485,\n",
       "         1.5587, -0.1137,  1.4890,  0.5099, -0.3639,  1.3837,  2.1912])"
      ]
     },
     "execution_count": 83,
     "metadata": {},
     "output_type": "execute_result"
    }
   ],
   "source": [
    "x_cp"
   ]
  },
  {
   "cell_type": "code",
   "execution_count": 84,
   "metadata": {},
   "outputs": [],
   "source": [
    "x +=1"
   ]
  },
  {
   "cell_type": "code",
   "execution_count": 85,
   "metadata": {},
   "outputs": [
    {
     "data": {
      "text/plain": [
       "tensor([[4.0778, 2.4181, 5.0650],\n",
       "        [3.4837, 4.3440, 2.8982],\n",
       "        [2.6643, 1.1485, 2.5587],\n",
       "        [0.8863, 2.4890, 1.5099],\n",
       "        [0.6361, 2.3837, 3.1912]])"
      ]
     },
     "execution_count": 85,
     "metadata": {},
     "output_type": "execute_result"
    }
   ],
   "source": [
    "x"
   ]
  },
  {
   "cell_type": "code",
   "execution_count": 86,
   "metadata": {},
   "outputs": [
    {
     "data": {
      "text/plain": [
       "tensor([ 3.0778,  1.4181,  4.0650,  2.4837,  3.3440,  1.8982,  1.6643,  0.1485,\n",
       "         1.5587, -0.1137,  1.4890,  0.5099, -0.3639,  1.3837,  2.1912])"
      ]
     },
     "execution_count": 86,
     "metadata": {},
     "output_type": "execute_result"
    }
   ],
   "source": [
    "x_cp"
   ]
  },
  {
   "cell_type": "code",
   "execution_count": 87,
   "metadata": {},
   "outputs": [],
   "source": [
    "# item 将Tensor 转成 python number \n",
    "x = torch.randn(1)"
   ]
  },
  {
   "cell_type": "code",
   "execution_count": 88,
   "metadata": {},
   "outputs": [
    {
     "data": {
      "text/plain": [
       "tensor([0.5193])"
      ]
     },
     "execution_count": 88,
     "metadata": {},
     "output_type": "execute_result"
    }
   ],
   "source": [
    "x"
   ]
  },
  {
   "cell_type": "code",
   "execution_count": 89,
   "metadata": {},
   "outputs": [
    {
     "data": {
      "text/plain": [
       "0.5193179845809937"
      ]
     },
     "execution_count": 89,
     "metadata": {},
     "output_type": "execute_result"
    }
   ],
   "source": [
    "x.item()"
   ]
  },
  {
   "cell_type": "code",
   "execution_count": 90,
   "metadata": {},
   "outputs": [
    {
     "data": {
      "text/plain": [
       "tensor([ 3.0778,  1.4181,  4.0650,  2.4837,  3.3440,  1.8982,  1.6643,  0.1485,\n",
       "         1.5587, -0.1137,  1.4890,  0.5099, -0.3639,  1.3837,  2.1912])"
      ]
     },
     "execution_count": 90,
     "metadata": {},
     "output_type": "execute_result"
    }
   ],
   "source": [
    "# 线性代数\n",
    "x_cp"
   ]
  },
  {
   "cell_type": "code",
   "execution_count": 96,
   "metadata": {},
   "outputs": [],
   "source": [
    "y_cp = x_cp.view(-1,5)"
   ]
  },
  {
   "cell_type": "code",
   "execution_count": 97,
   "metadata": {},
   "outputs": [
    {
     "data": {
      "text/plain": [
       "tensor(4.3782)"
      ]
     },
     "execution_count": 97,
     "metadata": {},
     "output_type": "execute_result"
    }
   ],
   "source": [
    "torch.trace(y_cp)"
   ]
  },
  {
   "cell_type": "code",
   "execution_count": 98,
   "metadata": {},
   "outputs": [
    {
     "data": {
      "text/plain": [
       "tensor([[ 3.0778,  1.4181,  4.0650,  2.4837,  3.3440],\n",
       "        [ 1.8982,  1.6643,  0.1485,  1.5587, -0.1137],\n",
       "        [ 1.4890,  0.5099, -0.3639,  1.3837,  2.1912]])"
      ]
     },
     "execution_count": 98,
     "metadata": {},
     "output_type": "execute_result"
    }
   ],
   "source": [
    "y_cp"
   ]
  },
  {
   "cell_type": "code",
   "execution_count": 100,
   "metadata": {},
   "outputs": [],
   "source": [
    "n = torch.diag(y_cp)"
   ]
  },
  {
   "cell_type": "code",
   "execution_count": 101,
   "metadata": {},
   "outputs": [
    {
     "data": {
      "text/plain": [
       "tensor(4.3782)"
      ]
     },
     "execution_count": 101,
     "metadata": {},
     "output_type": "execute_result"
    }
   ],
   "source": [
    "n.sum()"
   ]
  },
  {
   "cell_type": "code",
   "execution_count": 102,
   "metadata": {},
   "outputs": [
    {
     "data": {
      "text/plain": [
       "tensor([[ 3.0778,  1.8982,  1.4890],\n",
       "        [ 1.4181,  1.6643,  0.5099],\n",
       "        [ 4.0650,  0.1485, -0.3639],\n",
       "        [ 2.4837,  1.5587,  1.3837],\n",
       "        [ 3.3440, -0.1137,  2.1912]])"
      ]
     },
     "execution_count": 102,
     "metadata": {},
     "output_type": "execute_result"
    }
   ],
   "source": [
    "y_cp.t_()"
   ]
  },
  {
   "cell_type": "markdown",
   "metadata": {},
   "source": [
    "### 广播机制"
   ]
  },
  {
   "cell_type": "code",
   "execution_count": 103,
   "metadata": {},
   "outputs": [],
   "source": [
    "x = torch.arange(1,3).view(1,2)"
   ]
  },
  {
   "cell_type": "code",
   "execution_count": 104,
   "metadata": {},
   "outputs": [
    {
     "data": {
      "text/plain": [
       "tensor([[1, 2]])"
      ]
     },
     "execution_count": 104,
     "metadata": {},
     "output_type": "execute_result"
    }
   ],
   "source": [
    "x"
   ]
  },
  {
   "cell_type": "code",
   "execution_count": 105,
   "metadata": {},
   "outputs": [],
   "source": [
    "y = torch.arange(1,4).view(3,1)"
   ]
  },
  {
   "cell_type": "code",
   "execution_count": 106,
   "metadata": {},
   "outputs": [
    {
     "data": {
      "text/plain": [
       "tensor([[1],\n",
       "        [2],\n",
       "        [3]])"
      ]
     },
     "execution_count": 106,
     "metadata": {},
     "output_type": "execute_result"
    }
   ],
   "source": [
    "y"
   ]
  },
  {
   "cell_type": "code",
   "execution_count": 107,
   "metadata": {},
   "outputs": [
    {
     "data": {
      "text/plain": [
       "tensor([[2, 3],\n",
       "        [3, 4],\n",
       "        [4, 5]])"
      ]
     },
     "execution_count": 107,
     "metadata": {},
     "output_type": "execute_result"
    }
   ],
   "source": [
    "x + y"
   ]
  },
  {
   "cell_type": "markdown",
   "metadata": {},
   "source": [
    "### 运算内存开销"
   ]
  },
  {
   "cell_type": "code",
   "execution_count": null,
   "metadata": {},
   "outputs": [],
   "source": [
    "# 索引操作是不会 开辟新内存，但是 y = x + y 这样的运算会新开内存，然后将\n",
    "# y指向新内存"
   ]
  },
  {
   "cell_type": "code",
   "execution_count": 108,
   "metadata": {},
   "outputs": [],
   "source": [
    "x = torch.tensor([1,2])"
   ]
  },
  {
   "cell_type": "code",
   "execution_count": 109,
   "metadata": {},
   "outputs": [],
   "source": [
    "y = torch.tensor([3,4])"
   ]
  },
  {
   "cell_type": "code",
   "execution_count": 110,
   "metadata": {},
   "outputs": [],
   "source": [
    "id_before = id(y)"
   ]
  },
  {
   "cell_type": "code",
   "execution_count": 111,
   "metadata": {},
   "outputs": [
    {
     "data": {
      "text/plain": [
       "140237196385744"
      ]
     },
     "execution_count": 111,
     "metadata": {},
     "output_type": "execute_result"
    }
   ],
   "source": [
    "id_before"
   ]
  },
  {
   "cell_type": "code",
   "execution_count": 112,
   "metadata": {},
   "outputs": [],
   "source": [
    "y = y + x "
   ]
  },
  {
   "cell_type": "code",
   "execution_count": 113,
   "metadata": {},
   "outputs": [
    {
     "data": {
      "text/plain": [
       "False"
      ]
     },
     "execution_count": 113,
     "metadata": {},
     "output_type": "execute_result"
    }
   ],
   "source": [
    "id(y) == id_before"
   ]
  },
  {
   "cell_type": "code",
   "execution_count": 114,
   "metadata": {},
   "outputs": [],
   "source": [
    "# 如果想指定结果到原来y的内存，我们可以 使用前面介绍的索引来进行替换操作"
   ]
  },
  {
   "cell_type": "code",
   "execution_count": 115,
   "metadata": {},
   "outputs": [],
   "source": [
    "x = torch.tensor([1,2])\n",
    "y = torch.tensor([3,4])\n",
    "id_before = id(y)\n",
    "y[:] = x + y "
   ]
  },
  {
   "cell_type": "code",
   "execution_count": 116,
   "metadata": {},
   "outputs": [
    {
     "data": {
      "text/plain": [
       "True"
      ]
     },
     "execution_count": 116,
     "metadata": {},
     "output_type": "execute_result"
    }
   ],
   "source": [
    "id(y) == id_before"
   ]
  },
  {
   "cell_type": "code",
   "execution_count": 117,
   "metadata": {},
   "outputs": [],
   "source": [
    "# 运算符全名函数中的out 参数 或者 自加运算 += 达到 上述效果 "
   ]
  },
  {
   "cell_type": "code",
   "execution_count": 118,
   "metadata": {},
   "outputs": [
    {
     "data": {
      "text/plain": [
       "tensor([5, 8])"
      ]
     },
     "execution_count": 118,
     "metadata": {},
     "output_type": "execute_result"
    }
   ],
   "source": [
    "torch.add(x,y,out=y)"
   ]
  },
  {
   "cell_type": "code",
   "execution_count": 119,
   "metadata": {},
   "outputs": [
    {
     "data": {
      "text/plain": [
       "True"
      ]
     },
     "execution_count": 119,
     "metadata": {},
     "output_type": "execute_result"
    }
   ],
   "source": [
    "id(y) == id_before"
   ]
  },
  {
   "cell_type": "markdown",
   "metadata": {},
   "source": [
    "### Tensor 和 Numpy 相互转换 "
   ]
  },
  {
   "cell_type": "code",
   "execution_count": 121,
   "metadata": {},
   "outputs": [],
   "source": [
    "# 容易使用numpy() 和 from_numpy() 将 Tensor 和 Numpy中的数据相互转换\n",
    "# 但是要注意的是数组之间 共享相同的内存 改变其中一个另外一个也改变"
   ]
  },
  {
   "cell_type": "code",
   "execution_count": 122,
   "metadata": {},
   "outputs": [],
   "source": [
    "a = torch.ones(5)"
   ]
  },
  {
   "cell_type": "code",
   "execution_count": 123,
   "metadata": {},
   "outputs": [
    {
     "data": {
      "text/plain": [
       "tensor([1., 1., 1., 1., 1.])"
      ]
     },
     "execution_count": 123,
     "metadata": {},
     "output_type": "execute_result"
    }
   ],
   "source": [
    "a"
   ]
  },
  {
   "cell_type": "code",
   "execution_count": 124,
   "metadata": {},
   "outputs": [],
   "source": [
    "b = a.numpy()"
   ]
  },
  {
   "cell_type": "code",
   "execution_count": 125,
   "metadata": {},
   "outputs": [
    {
     "data": {
      "text/plain": [
       "array([1., 1., 1., 1., 1.], dtype=float32)"
      ]
     },
     "execution_count": 125,
     "metadata": {},
     "output_type": "execute_result"
    }
   ],
   "source": [
    "b"
   ]
  },
  {
   "cell_type": "code",
   "execution_count": 126,
   "metadata": {},
   "outputs": [],
   "source": [
    "a +=1 "
   ]
  },
  {
   "cell_type": "code",
   "execution_count": 127,
   "metadata": {},
   "outputs": [
    {
     "data": {
      "text/plain": [
       "tensor([2., 2., 2., 2., 2.])"
      ]
     },
     "execution_count": 127,
     "metadata": {},
     "output_type": "execute_result"
    }
   ],
   "source": [
    "a"
   ]
  },
  {
   "cell_type": "code",
   "execution_count": 128,
   "metadata": {},
   "outputs": [
    {
     "data": {
      "text/plain": [
       "array([2., 2., 2., 2., 2.], dtype=float32)"
      ]
     },
     "execution_count": 128,
     "metadata": {},
     "output_type": "execute_result"
    }
   ],
   "source": [
    "b"
   ]
  },
  {
   "cell_type": "code",
   "execution_count": 129,
   "metadata": {},
   "outputs": [],
   "source": [
    "b +=1"
   ]
  },
  {
   "cell_type": "code",
   "execution_count": 130,
   "metadata": {},
   "outputs": [
    {
     "data": {
      "text/plain": [
       "array([3., 3., 3., 3., 3.], dtype=float32)"
      ]
     },
     "execution_count": 130,
     "metadata": {},
     "output_type": "execute_result"
    }
   ],
   "source": [
    "b"
   ]
  },
  {
   "cell_type": "code",
   "execution_count": 131,
   "metadata": {},
   "outputs": [
    {
     "data": {
      "text/plain": [
       "tensor([3., 3., 3., 3., 3.])"
      ]
     },
     "execution_count": 131,
     "metadata": {},
     "output_type": "execute_result"
    }
   ],
   "source": [
    "a"
   ]
  },
  {
   "cell_type": "code",
   "execution_count": 132,
   "metadata": {},
   "outputs": [],
   "source": [
    "a = np.ones(5)"
   ]
  },
  {
   "cell_type": "code",
   "execution_count": 133,
   "metadata": {},
   "outputs": [
    {
     "data": {
      "text/plain": [
       "array([1., 1., 1., 1., 1.])"
      ]
     },
     "execution_count": 133,
     "metadata": {},
     "output_type": "execute_result"
    }
   ],
   "source": [
    "a"
   ]
  },
  {
   "cell_type": "code",
   "execution_count": 134,
   "metadata": {},
   "outputs": [],
   "source": [
    "b = torch.from_numpy(a)"
   ]
  },
  {
   "cell_type": "code",
   "execution_count": 135,
   "metadata": {},
   "outputs": [
    {
     "data": {
      "text/plain": [
       "tensor([1., 1., 1., 1., 1.], dtype=torch.float64)"
      ]
     },
     "execution_count": 135,
     "metadata": {},
     "output_type": "execute_result"
    }
   ],
   "source": [
    "b"
   ]
  },
  {
   "cell_type": "code",
   "execution_count": 136,
   "metadata": {},
   "outputs": [],
   "source": [
    "a +=1"
   ]
  },
  {
   "cell_type": "code",
   "execution_count": 137,
   "metadata": {},
   "outputs": [
    {
     "data": {
      "text/plain": [
       "array([2., 2., 2., 2., 2.])"
      ]
     },
     "execution_count": 137,
     "metadata": {},
     "output_type": "execute_result"
    }
   ],
   "source": [
    "a"
   ]
  },
  {
   "cell_type": "code",
   "execution_count": 138,
   "metadata": {},
   "outputs": [
    {
     "data": {
      "text/plain": [
       "tensor([2., 2., 2., 2., 2.], dtype=torch.float64)"
      ]
     },
     "execution_count": 138,
     "metadata": {},
     "output_type": "execute_result"
    }
   ],
   "source": [
    "b"
   ]
  },
  {
   "cell_type": "code",
   "execution_count": 140,
   "metadata": {},
   "outputs": [],
   "source": [
    "# 直接用 torch.tensor()  会进行数据拷贝 返回的tensor 和原来的数据不在进行\n",
    "# 数据共享\n",
    "c = torch.tensor(a)"
   ]
  },
  {
   "cell_type": "code",
   "execution_count": 141,
   "metadata": {},
   "outputs": [
    {
     "data": {
      "text/plain": [
       "tensor([2., 2., 2., 2., 2.], dtype=torch.float64)"
      ]
     },
     "execution_count": 141,
     "metadata": {},
     "output_type": "execute_result"
    }
   ],
   "source": [
    "c"
   ]
  },
  {
   "cell_type": "code",
   "execution_count": 142,
   "metadata": {},
   "outputs": [],
   "source": [
    "a+=1"
   ]
  },
  {
   "cell_type": "code",
   "execution_count": 143,
   "metadata": {},
   "outputs": [
    {
     "data": {
      "text/plain": [
       "tensor([2., 2., 2., 2., 2.], dtype=torch.float64)"
      ]
     },
     "execution_count": 143,
     "metadata": {},
     "output_type": "execute_result"
    }
   ],
   "source": [
    "c"
   ]
  },
  {
   "cell_type": "code",
   "execution_count": 144,
   "metadata": {},
   "outputs": [
    {
     "data": {
      "text/plain": [
       "array([3., 3., 3., 3., 3.])"
      ]
     },
     "execution_count": 144,
     "metadata": {},
     "output_type": "execute_result"
    }
   ],
   "source": [
    "a"
   ]
  },
  {
   "cell_type": "code",
   "execution_count": null,
   "metadata": {},
   "outputs": [],
   "source": [
    "### tensor on GPU"
   ]
  },
  {
   "cell_type": "markdown",
   "metadata": {},
   "source": [
    "## 自动求梯度"
   ]
  },
  {
   "cell_type": "markdown",
   "metadata": {},
   "source": [
    "### 概念"
   ]
  },
  {
   "cell_type": "code",
   "execution_count": 145,
   "metadata": {},
   "outputs": [],
   "source": [
    "# 属性为 requires_grad 设置为True  将追踪其上的所有操作  可以利用链式法则\n",
    "# 进行梯度传播了 计算完成后 可以调用 。backward()来完成所有的梯度计算\n",
    "# 此Tensor的梯度累计到.grad属性中"
   ]
  },
  {
   "cell_type": "markdown",
   "metadata": {},
   "source": [
    "### Tensor"
   ]
  },
  {
   "cell_type": "code",
   "execution_count": 146,
   "metadata": {},
   "outputs": [],
   "source": [
    "x = torch.ones(2,2,requires_grad=True)"
   ]
  },
  {
   "cell_type": "code",
   "execution_count": 147,
   "metadata": {},
   "outputs": [
    {
     "data": {
      "text/plain": [
       "tensor([[1., 1.],\n",
       "        [1., 1.]], requires_grad=True)"
      ]
     },
     "execution_count": 147,
     "metadata": {},
     "output_type": "execute_result"
    }
   ],
   "source": [
    "x"
   ]
  },
  {
   "cell_type": "code",
   "execution_count": 149,
   "metadata": {},
   "outputs": [
    {
     "name": "stdout",
     "output_type": "stream",
     "text": [
      "None\n"
     ]
    }
   ],
   "source": [
    "print(x.grad_fn)"
   ]
  },
  {
   "cell_type": "code",
   "execution_count": 150,
   "metadata": {},
   "outputs": [],
   "source": [
    "y = x + 2"
   ]
  },
  {
   "cell_type": "code",
   "execution_count": 151,
   "metadata": {},
   "outputs": [
    {
     "data": {
      "text/plain": [
       "tensor([[3., 3.],\n",
       "        [3., 3.]], grad_fn=<AddBackward0>)"
      ]
     },
     "execution_count": 151,
     "metadata": {},
     "output_type": "execute_result"
    }
   ],
   "source": [
    "y"
   ]
  },
  {
   "cell_type": "code",
   "execution_count": 152,
   "metadata": {},
   "outputs": [
    {
     "data": {
      "text/plain": [
       "<AddBackward0 at 0x7f8b846627d0>"
      ]
     },
     "execution_count": 152,
     "metadata": {},
     "output_type": "execute_result"
    }
   ],
   "source": [
    "y.grad_fn"
   ]
  },
  {
   "cell_type": "code",
   "execution_count": 153,
   "metadata": {},
   "outputs": [],
   "source": [
    "# 直接创建的成为叶子节点，叶子节点对应的grad_fn 是 None"
   ]
  },
  {
   "cell_type": "code",
   "execution_count": 154,
   "metadata": {},
   "outputs": [
    {
     "data": {
      "text/plain": [
       "True"
      ]
     },
     "execution_count": 154,
     "metadata": {},
     "output_type": "execute_result"
    }
   ],
   "source": [
    "x.is_leaf"
   ]
  },
  {
   "cell_type": "code",
   "execution_count": 156,
   "metadata": {},
   "outputs": [
    {
     "data": {
      "text/plain": [
       "False"
      ]
     },
     "execution_count": 156,
     "metadata": {},
     "output_type": "execute_result"
    }
   ],
   "source": [
    "y.is_leaf"
   ]
  },
  {
   "cell_type": "code",
   "execution_count": 157,
   "metadata": {},
   "outputs": [],
   "source": [
    "z = y * y * 3"
   ]
  },
  {
   "cell_type": "code",
   "execution_count": 158,
   "metadata": {},
   "outputs": [
    {
     "data": {
      "text/plain": [
       "tensor([[27., 27.],\n",
       "        [27., 27.]], grad_fn=<MulBackward0>)"
      ]
     },
     "execution_count": 158,
     "metadata": {},
     "output_type": "execute_result"
    }
   ],
   "source": [
    "z"
   ]
  },
  {
   "cell_type": "code",
   "execution_count": 159,
   "metadata": {},
   "outputs": [],
   "source": [
    "out = z.mean()"
   ]
  },
  {
   "cell_type": "code",
   "execution_count": 160,
   "metadata": {},
   "outputs": [
    {
     "data": {
      "text/plain": [
       "tensor(27., grad_fn=<MeanBackward0>)"
      ]
     },
     "execution_count": 160,
     "metadata": {},
     "output_type": "execute_result"
    }
   ],
   "source": [
    "out"
   ]
  },
  {
   "cell_type": "code",
   "execution_count": 161,
   "metadata": {},
   "outputs": [],
   "source": [
    "a = torch.randn(2,2)"
   ]
  },
  {
   "cell_type": "code",
   "execution_count": 162,
   "metadata": {},
   "outputs": [
    {
     "data": {
      "text/plain": [
       "tensor([[-0.0293, -0.8738],\n",
       "        [ 1.2695,  0.0943]])"
      ]
     },
     "execution_count": 162,
     "metadata": {},
     "output_type": "execute_result"
    }
   ],
   "source": [
    "a"
   ]
  },
  {
   "cell_type": "code",
   "execution_count": 163,
   "metadata": {},
   "outputs": [],
   "source": [
    "a = ((a * 3) / (a - 1))"
   ]
  },
  {
   "cell_type": "code",
   "execution_count": 164,
   "metadata": {},
   "outputs": [
    {
     "data": {
      "text/plain": [
       "tensor([[ 0.0853,  1.3990],\n",
       "        [14.1313, -0.3122]])"
      ]
     },
     "execution_count": 164,
     "metadata": {},
     "output_type": "execute_result"
    }
   ],
   "source": [
    "a"
   ]
  },
  {
   "cell_type": "code",
   "execution_count": 165,
   "metadata": {},
   "outputs": [
    {
     "data": {
      "text/plain": [
       "False"
      ]
     },
     "execution_count": 165,
     "metadata": {},
     "output_type": "execute_result"
    }
   ],
   "source": [
    "a.requires_grad"
   ]
  },
  {
   "cell_type": "code",
   "execution_count": 166,
   "metadata": {},
   "outputs": [
    {
     "data": {
      "text/plain": [
       "tensor([[ 0.0853,  1.3990],\n",
       "        [14.1313, -0.3122]], requires_grad=True)"
      ]
     },
     "execution_count": 166,
     "metadata": {},
     "output_type": "execute_result"
    }
   ],
   "source": [
    "a.requires_grad_(True)"
   ]
  },
  {
   "cell_type": "code",
   "execution_count": 167,
   "metadata": {},
   "outputs": [],
   "source": [
    "b = (a * a).sum()"
   ]
  },
  {
   "cell_type": "code",
   "execution_count": 168,
   "metadata": {},
   "outputs": [
    {
     "data": {
      "text/plain": [
       "tensor(201.7562, grad_fn=<SumBackward0>)"
      ]
     },
     "execution_count": 168,
     "metadata": {},
     "output_type": "execute_result"
    }
   ],
   "source": [
    "b"
   ]
  },
  {
   "cell_type": "code",
   "execution_count": 169,
   "metadata": {},
   "outputs": [
    {
     "data": {
      "text/plain": [
       "<SumBackward0 at 0x7f8b89286e90>"
      ]
     },
     "execution_count": 169,
     "metadata": {},
     "output_type": "execute_result"
    }
   ],
   "source": [
    "b.grad_fn"
   ]
  },
  {
   "cell_type": "markdown",
   "metadata": {},
   "source": [
    "### 梯度"
   ]
  },
  {
   "cell_type": "code",
   "execution_count": 170,
   "metadata": {},
   "outputs": [
    {
     "data": {
      "text/plain": [
       "tensor(27., grad_fn=<MeanBackward0>)"
      ]
     },
     "execution_count": 170,
     "metadata": {},
     "output_type": "execute_result"
    }
   ],
   "source": [
    "out"
   ]
  },
  {
   "cell_type": "code",
   "execution_count": 171,
   "metadata": {},
   "outputs": [],
   "source": [
    "out.backward()"
   ]
  },
  {
   "cell_type": "code",
   "execution_count": 172,
   "metadata": {},
   "outputs": [
    {
     "data": {
      "text/plain": [
       "tensor([[1., 1.],\n",
       "        [1., 1.]], requires_grad=True)"
      ]
     },
     "execution_count": 172,
     "metadata": {},
     "output_type": "execute_result"
    }
   ],
   "source": [
    "x"
   ]
  },
  {
   "cell_type": "code",
   "execution_count": 173,
   "metadata": {},
   "outputs": [
    {
     "data": {
      "text/plain": [
       "tensor([[4.5000, 4.5000],\n",
       "        [4.5000, 4.5000]])"
      ]
     },
     "execution_count": 173,
     "metadata": {},
     "output_type": "execute_result"
    }
   ],
   "source": [
    "x.grad"
   ]
  },
  {
   "cell_type": "code",
   "execution_count": 175,
   "metadata": {},
   "outputs": [],
   "source": [
    "# grad 在反向传播过程中是累加的，这意味 这 没运行一次反向传播 梯度都会累加之前\n",
    "# 之前的梯度，所以一般在反向传播之前需要把 梯度清零"
   ]
  },
  {
   "cell_type": "code",
   "execution_count": 176,
   "metadata": {},
   "outputs": [],
   "source": [
    "out2 = x.sum()"
   ]
  },
  {
   "cell_type": "code",
   "execution_count": 177,
   "metadata": {},
   "outputs": [
    {
     "data": {
      "text/plain": [
       "tensor(4., grad_fn=<SumBackward0>)"
      ]
     },
     "execution_count": 177,
     "metadata": {},
     "output_type": "execute_result"
    }
   ],
   "source": [
    "out2"
   ]
  },
  {
   "cell_type": "code",
   "execution_count": 178,
   "metadata": {},
   "outputs": [],
   "source": [
    "out2.backward()"
   ]
  },
  {
   "cell_type": "code",
   "execution_count": 179,
   "metadata": {},
   "outputs": [
    {
     "data": {
      "text/plain": [
       "tensor([[5.5000, 5.5000],\n",
       "        [5.5000, 5.5000]])"
      ]
     },
     "execution_count": 179,
     "metadata": {},
     "output_type": "execute_result"
    }
   ],
   "source": [
    "x.grad"
   ]
  },
  {
   "cell_type": "code",
   "execution_count": 180,
   "metadata": {},
   "outputs": [],
   "source": [
    "out3 = x.sum()"
   ]
  },
  {
   "cell_type": "code",
   "execution_count": 181,
   "metadata": {},
   "outputs": [
    {
     "data": {
      "text/plain": [
       "tensor([[0., 0.],\n",
       "        [0., 0.]])"
      ]
     },
     "execution_count": 181,
     "metadata": {},
     "output_type": "execute_result"
    }
   ],
   "source": [
    "x.grad.data.zero_()"
   ]
  },
  {
   "cell_type": "code",
   "execution_count": 182,
   "metadata": {},
   "outputs": [],
   "source": [
    "out3.backward()"
   ]
  },
  {
   "cell_type": "code",
   "execution_count": 183,
   "metadata": {},
   "outputs": [
    {
     "data": {
      "text/plain": [
       "tensor([[1., 1.],\n",
       "        [1., 1.]])"
      ]
     },
     "execution_count": 183,
     "metadata": {},
     "output_type": "execute_result"
    }
   ],
   "source": [
    "x.grad"
   ]
  },
  {
   "cell_type": "code",
   "execution_count": 184,
   "metadata": {},
   "outputs": [],
   "source": [
    "x  = torch.tensor([1.,2.,3.,4.],requires_grad=True)"
   ]
  },
  {
   "cell_type": "code",
   "execution_count": 185,
   "metadata": {},
   "outputs": [
    {
     "data": {
      "text/plain": [
       "tensor([1., 2., 3., 4.], requires_grad=True)"
      ]
     },
     "execution_count": 185,
     "metadata": {},
     "output_type": "execute_result"
    }
   ],
   "source": [
    "x"
   ]
  },
  {
   "cell_type": "code",
   "execution_count": 186,
   "metadata": {},
   "outputs": [],
   "source": [
    "y = x * 2 "
   ]
  },
  {
   "cell_type": "code",
   "execution_count": 187,
   "metadata": {},
   "outputs": [
    {
     "data": {
      "text/plain": [
       "tensor([2., 4., 6., 8.], grad_fn=<MulBackward0>)"
      ]
     },
     "execution_count": 187,
     "metadata": {},
     "output_type": "execute_result"
    }
   ],
   "source": [
    "y"
   ]
  },
  {
   "cell_type": "code",
   "execution_count": 188,
   "metadata": {},
   "outputs": [],
   "source": [
    "z = y.view(2,2)"
   ]
  },
  {
   "cell_type": "code",
   "execution_count": 189,
   "metadata": {},
   "outputs": [
    {
     "data": {
      "text/plain": [
       "tensor([[2., 4.],\n",
       "        [6., 8.]], grad_fn=<ViewBackward0>)"
      ]
     },
     "execution_count": 189,
     "metadata": {},
     "output_type": "execute_result"
    }
   ],
   "source": [
    "z"
   ]
  },
  {
   "cell_type": "code",
   "execution_count": 190,
   "metadata": {},
   "outputs": [],
   "source": [
    "# z 不是标量 所以在调用 backward 时 需要传入一个和z 同形的权重向量进行加权#\n",
    "# 求和得到一个标量\n",
    "v = torch.tensor([[1.,0.1],[0.01,0.001]],dtype=torch.float)"
   ]
  },
  {
   "cell_type": "code",
   "execution_count": 191,
   "metadata": {},
   "outputs": [],
   "source": [
    "z.backward(v)"
   ]
  },
  {
   "cell_type": "code",
   "execution_count": 192,
   "metadata": {},
   "outputs": [
    {
     "data": {
      "text/plain": [
       "tensor([2.0000, 0.2000, 0.0200, 0.0020])"
      ]
     },
     "execution_count": 192,
     "metadata": {},
     "output_type": "execute_result"
    }
   ],
   "source": [
    "x.grad"
   ]
  },
  {
   "cell_type": "code",
   "execution_count": 193,
   "metadata": {},
   "outputs": [],
   "source": [
    "# 中断 梯度追踪"
   ]
  },
  {
   "cell_type": "code",
   "execution_count": 194,
   "metadata": {},
   "outputs": [],
   "source": [
    "x = torch.tensor(1.0,requires_grad=True)"
   ]
  },
  {
   "cell_type": "code",
   "execution_count": 195,
   "metadata": {},
   "outputs": [
    {
     "data": {
      "text/plain": [
       "tensor(1., requires_grad=True)"
      ]
     },
     "execution_count": 195,
     "metadata": {},
     "output_type": "execute_result"
    }
   ],
   "source": [
    "x"
   ]
  },
  {
   "cell_type": "code",
   "execution_count": 196,
   "metadata": {},
   "outputs": [],
   "source": [
    "y1 = x ** 2"
   ]
  },
  {
   "cell_type": "code",
   "execution_count": 197,
   "metadata": {},
   "outputs": [],
   "source": [
    "with torch.no_grad():\n",
    "    y2 = x ** 3 \n",
    "y3 = y1 + y2 "
   ]
  },
  {
   "cell_type": "code",
   "execution_count": 198,
   "metadata": {},
   "outputs": [
    {
     "data": {
      "text/plain": [
       "True"
      ]
     },
     "execution_count": 198,
     "metadata": {},
     "output_type": "execute_result"
    }
   ],
   "source": [
    "x.requires_grad"
   ]
  },
  {
   "cell_type": "code",
   "execution_count": 199,
   "metadata": {},
   "outputs": [
    {
     "data": {
      "text/plain": [
       "tensor(1., grad_fn=<PowBackward0>)"
      ]
     },
     "execution_count": 199,
     "metadata": {},
     "output_type": "execute_result"
    }
   ],
   "source": [
    "y1"
   ]
  },
  {
   "cell_type": "code",
   "execution_count": 200,
   "metadata": {},
   "outputs": [
    {
     "data": {
      "text/plain": [
       "True"
      ]
     },
     "execution_count": 200,
     "metadata": {},
     "output_type": "execute_result"
    }
   ],
   "source": [
    "y1.requires_grad"
   ]
  },
  {
   "cell_type": "code",
   "execution_count": 201,
   "metadata": {},
   "outputs": [
    {
     "data": {
      "text/plain": [
       "False"
      ]
     },
     "execution_count": 201,
     "metadata": {},
     "output_type": "execute_result"
    }
   ],
   "source": [
    "y2.requires_grad"
   ]
  },
  {
   "cell_type": "code",
   "execution_count": 202,
   "metadata": {},
   "outputs": [
    {
     "data": {
      "text/plain": [
       "True"
      ]
     },
     "execution_count": 202,
     "metadata": {},
     "output_type": "execute_result"
    }
   ],
   "source": [
    "y3.requires_grad"
   ]
  },
  {
   "cell_type": "code",
   "execution_count": 203,
   "metadata": {},
   "outputs": [],
   "source": [
    "y3.backward()"
   ]
  },
  {
   "cell_type": "code",
   "execution_count": 204,
   "metadata": {},
   "outputs": [
    {
     "data": {
      "text/plain": [
       "tensor(2.)"
      ]
     },
     "execution_count": 204,
     "metadata": {},
     "output_type": "execute_result"
    }
   ],
   "source": [
    "x.grad"
   ]
  },
  {
   "cell_type": "code",
   "execution_count": 205,
   "metadata": {},
   "outputs": [],
   "source": [
    "# 想要修改 tensor 的数值，但是有不希望被 autograd 记录  需要对tensor.data\n",
    "# 进行操作"
   ]
  },
  {
   "cell_type": "code",
   "execution_count": 206,
   "metadata": {},
   "outputs": [],
   "source": [
    "x = torch.ones(1,requires_grad=True)"
   ]
  },
  {
   "cell_type": "code",
   "execution_count": 207,
   "metadata": {},
   "outputs": [
    {
     "data": {
      "text/plain": [
       "tensor([1.], requires_grad=True)"
      ]
     },
     "execution_count": 207,
     "metadata": {},
     "output_type": "execute_result"
    }
   ],
   "source": [
    "x"
   ]
  },
  {
   "cell_type": "code",
   "execution_count": 208,
   "metadata": {},
   "outputs": [
    {
     "data": {
      "text/plain": [
       "tensor([1.])"
      ]
     },
     "execution_count": 208,
     "metadata": {},
     "output_type": "execute_result"
    }
   ],
   "source": [
    "x.data"
   ]
  },
  {
   "cell_type": "code",
   "execution_count": 209,
   "metadata": {},
   "outputs": [
    {
     "data": {
      "text/plain": [
       "False"
      ]
     },
     "execution_count": 209,
     "metadata": {},
     "output_type": "execute_result"
    }
   ],
   "source": [
    "x.data.requires_grad"
   ]
  },
  {
   "cell_type": "code",
   "execution_count": 210,
   "metadata": {},
   "outputs": [],
   "source": [
    "y = 2 * x"
   ]
  },
  {
   "cell_type": "code",
   "execution_count": 211,
   "metadata": {},
   "outputs": [
    {
     "data": {
      "text/plain": [
       "tensor([2.], grad_fn=<MulBackward0>)"
      ]
     },
     "execution_count": 211,
     "metadata": {},
     "output_type": "execute_result"
    }
   ],
   "source": [
    "y"
   ]
  },
  {
   "cell_type": "code",
   "execution_count": 212,
   "metadata": {},
   "outputs": [],
   "source": [
    "x.data *= 100"
   ]
  },
  {
   "cell_type": "code",
   "execution_count": 213,
   "metadata": {},
   "outputs": [
    {
     "data": {
      "text/plain": [
       "tensor([100.], requires_grad=True)"
      ]
     },
     "execution_count": 213,
     "metadata": {},
     "output_type": "execute_result"
    }
   ],
   "source": [
    "x"
   ]
  },
  {
   "cell_type": "code",
   "execution_count": 214,
   "metadata": {},
   "outputs": [],
   "source": [
    "y.backward()"
   ]
  },
  {
   "cell_type": "code",
   "execution_count": 215,
   "metadata": {},
   "outputs": [
    {
     "data": {
      "text/plain": [
       "tensor([100.], requires_grad=True)"
      ]
     },
     "execution_count": 215,
     "metadata": {},
     "output_type": "execute_result"
    }
   ],
   "source": [
    "x"
   ]
  },
  {
   "cell_type": "code",
   "execution_count": 216,
   "metadata": {},
   "outputs": [
    {
     "data": {
      "text/plain": [
       "tensor([2.])"
      ]
     },
     "execution_count": 216,
     "metadata": {},
     "output_type": "execute_result"
    }
   ],
   "source": [
    "x.grad"
   ]
  },
  {
   "cell_type": "markdown",
   "metadata": {},
   "source": [
    "# 深度学习基础"
   ]
  },
  {
   "cell_type": "markdown",
   "metadata": {},
   "source": [
    "## 线性回归"
   ]
  },
  {
   "cell_type": "code",
   "execution_count": null,
   "metadata": {},
   "outputs": [],
   "source": [
    "# 线性回归输出是一个连续值，因此适用于回归问题 回归问题很常见，预测房屋价格，气温，销售额等连续值的问题，\n",
    "# 与回归问题不同，分类问题中模型的最终输出是一个离散值，我们所说的图像分类，垃圾邮件识别\n",
    "# 疾病检测 softmax 回归则适用于分类问题"
   ]
  },
  {
   "cell_type": "markdown",
   "metadata": {},
   "source": [
    "### 线性回归的基本要素"
   ]
  },
  {
   "cell_type": "code",
   "execution_count": 217,
   "metadata": {},
   "outputs": [],
   "source": [
    "# 这个应用目标是预测一栋房子的售出价格  我们知道这个价格取决于很多因素，这里我们假设价格只取决于 面积 和 房龄 "
   ]
  },
  {
   "cell_type": "markdown",
   "metadata": {},
   "source": [
    "#### 模型定义"
   ]
  },
  {
   "cell_type": "code",
   "execution_count": 218,
   "metadata": {},
   "outputs": [],
   "source": [
    "# 房屋的面积 为 x1,房龄的面积为x2 售出的价格为y 我们需要建立 基于输入 x1和x2 来计算输出y的表达式 也就是模型\n",
    "# y^ = x1 w1 + x2 w2 + b\n",
    "# 其中w1 和 w2 是权重 b 是偏差  且均是标量 他们都是线性回归的参数\n",
    "# 模型输出y^是线性回归对真实价格y 的预测或是 估计 我们通常允许他们之间有一定的误差"
   ]
  },
  {
   "cell_type": "markdown",
   "metadata": {},
   "source": [
    "#### 模型训练"
   ]
  },
  {
   "cell_type": "code",
   "execution_count": 219,
   "metadata": {
    "collapsed": true
   },
   "outputs": [
    {
     "data": {
      "text/plain": [
       "'\\n1) 训练数据  \\n  通常收集一系列的真实数据，例如真实的房屋价格和他们对应的面积和房龄，我们希望在这些数据上 寻找模型参数使模型的预测%%capture\\n  价格 和真实 价格的误差最小，该数据集 称为 训练数据集  一栋房屋被称为 样本，真实售出的价格叫做标签，用来预测%%latex\\n  标签的两个因素叫做特征,特征用来表征样本的特点。\\n 我们采集的样本数为n  索引为i的样本的特征为x1（i）和 x2(i),标签为 y(i) 对于索引为i的房屋，线性回归模型的房屋\\n 价格预测的表达式为 \\n                 y^(i) = x1(i) w1 + x2(i) w2 + b \\n2) 损失函数  \\n    在模型训练中，需要衡量价格预测与真实值之间的误差，通常我们会选取一个非负数作为误差，且数值越小越好，一个常用的选择 \\n    是平方函数，它的评估索引为i的样本误差的表达式为  \\n                l(i) (w1,w2,b) = 1/2(y^(i) - y(i))²\\n    通常用训练数据的所有样本误差的平均来 衡量模型预测的质量 \\n     \\n3) 优化算法   \\n    小批量梯度下降，步骤：先选取一组模型参数的初始值，如随机选取，接下来对参数进行多次迭代，使每次迭代都可能降低损失函数的值 \\n    在 每次迭代中，先随机均匀采样一个由固定数目训练数据样本所组成的小批量B 然后求小批量中数据样本的平均均匀有关模型参数的导数  \\n    最后用此结果与预先设定的一个正数的乘积作为模型参数在本次迭代的减少量\\n        \\n'"
      ]
     },
     "execution_count": 219,
     "metadata": {},
     "output_type": "execute_result"
    }
   ],
   "source": [
    "# 通过数据来寻找特定的模型参数值，是模型在数据上的误差尽可能小，这个过程叫做模型训练 \n",
    "# 模型模型所涉及的三要素\n",
    "\"\"\"\n",
    "1) 训练数据  \n",
    "  通常收集一系列的真实数据，例如真实的房屋价格和他们对应的面积和房龄，我们希望在这些数据上 寻找模型参数使模型的预测%%capture\n",
    "  价格 和真实 价格的误差最小，该数据集 称为 训练数据集  一栋房屋被称为 样本，真实售出的价格叫做标签，用来预测%%latex\n",
    "  标签的两个因素叫做特征,特征用来表征样本的特点。\n",
    " 我们采集的样本数为n  索引为i的样本的特征为x1（i）和 x2(i),标签为 y(i) 对于索引为i的房屋，线性回归模型的房屋\n",
    " 价格预测的表达式为 \n",
    "                 y^(i) = x1(i) w1 + x2(i) w2 + b \n",
    "2) 损失函数  \n",
    "    在模型训练中，需要衡量价格预测与真实值之间的误差，通常我们会选取一个非负数作为误差，且数值越小越好，一个常用的选择 \n",
    "    是平方函数，它的评估索引为i的样本误差的表达式为  \n",
    "                l(i) (w1,w2,b) = 1/2(y^(i) - y(i))²\n",
    "    通常用训练数据的所有样本误差的平均来 衡量模型预测的质量 \n",
    "     \n",
    "3) 优化算法   \n",
    "    小批量梯度下降，步骤：先选取一组模型参数的初始值，如随机选取，接下来对参数进行多次迭代，使每次迭代都可能降低损失函数的值 \n",
    "    在 每次迭代中，先随机均匀采样一个由固定数目训练数据样本所组成的小批量B 然后求小批量中数据样本的平均均匀有关模型参数的导数  \n",
    "    最后用此结果与预先设定的一个正数的乘积作为模型参数在本次迭代的减少量\n",
    "        \n",
    "\"\"\""
   ]
  },
  {
   "cell_type": "markdown",
   "metadata": {},
   "source": [
    "#### 模型预测"
   ]
  },
  {
   "cell_type": "code",
   "execution_count": 220,
   "metadata": {},
   "outputs": [],
   "source": [
    "# 模型训练完后，我们将模型参数 w1,w2,b 在优化算法停止时的值记作 w1^,w2^,b^  这里我们得到的并不一定是最小化\n",
    "# 损失函数的最优解 w1*,w2*,b* 而是最优解的一个近似,我们就可以使用学出的模型 x1 w1^ + x2 w2^ + b^ 来估算\n",
    "# 训练数据集以外任意一栋面积为x1 房龄为x2 的房屋价格，这里的估算也叫做 模型预测，模型推断，模型测试"
   ]
  },
  {
   "cell_type": "markdown",
   "metadata": {},
   "source": [
    "### 线性回归的表示方法"
   ]
  },
  {
   "cell_type": "markdown",
   "metadata": {},
   "source": [
    "#### 神经网络图"
   ]
  },
  {
   "cell_type": "markdown",
   "metadata": {},
   "source": [
    "#### 矢量计算表达式"
   ]
  },
  {
   "cell_type": "code",
   "execution_count": 222,
   "metadata": {},
   "outputs": [],
   "source": [
    "a = torch.ones(1000)\n",
    "b = torch.ones(1000)"
   ]
  },
  {
   "cell_type": "code",
   "execution_count": 224,
   "metadata": {},
   "outputs": [],
   "source": [
    "from time import time"
   ]
  },
  {
   "cell_type": "code",
   "execution_count": 225,
   "metadata": {},
   "outputs": [
    {
     "name": "stdout",
     "output_type": "stream",
     "text": [
      "0.023530960083007812\n"
     ]
    }
   ],
   "source": [
    "start = time()\n",
    "c  = torch.zeros(1000)\n",
    "for i in range(1000):\n",
    "    c[i] = a[i] + b[i]\n",
    "print(time() - start)"
   ]
  },
  {
   "cell_type": "code",
   "execution_count": 226,
   "metadata": {},
   "outputs": [
    {
     "name": "stdout",
     "output_type": "stream",
     "text": [
      "0.00011324882507324219\n"
     ]
    }
   ],
   "source": [
    "start = time()\n",
    "d = a + b \n",
    "print(time() - start)"
   ]
  },
  {
   "cell_type": "code",
   "execution_count": 227,
   "metadata": {},
   "outputs": [
    {
     "data": {
      "text/plain": [
       "tensor([11., 11., 11.])"
      ]
     },
     "execution_count": 227,
     "metadata": {},
     "output_type": "execute_result"
    }
   ],
   "source": [
    "a  = torch.ones(3)\n",
    "b = 10\n",
    "a + b "
   ]
  },
  {
   "cell_type": "markdown",
   "metadata": {},
   "source": [
    "## 线性回归的从零开始实现"
   ]
  },
  {
   "cell_type": "code",
   "execution_count": 228,
   "metadata": {},
   "outputs": [],
   "source": [
    "%matplotlib inline\n",
    "import torch\n",
    "from IPython import display\n",
    "from matplotlib import pyplot as plt \n",
    "import numpy as np \n",
    "import random"
   ]
  },
  {
   "cell_type": "markdown",
   "metadata": {},
   "source": [
    "### 生成数据集 "
   ]
  },
  {
   "cell_type": "code",
   "execution_count": 229,
   "metadata": {},
   "outputs": [],
   "source": [
    "# 构造简单的人工训练数据集 设训练数据集样本数为1000 输入个数为2 我们使用线性回归模型的真实权重 w = [2,-3.4]\n",
    "# 和偏差b = 4.2  以及一个随机噪声项 来生成标签 \n",
    "#  Y = Xw + b + e"
   ]
  },
  {
   "cell_type": "code",
   "execution_count": 230,
   "metadata": {},
   "outputs": [],
   "source": [
    "num_inputs = 2\n",
    "num_examples = 1000\n",
    "true_w = [2,-3.4]\n",
    "true_b = 4.2"
   ]
  },
  {
   "cell_type": "code",
   "execution_count": 231,
   "metadata": {},
   "outputs": [],
   "source": [
    "features = torch.randn(num_examples,num_inputs,dtype=torch.float)"
   ]
  },
  {
   "cell_type": "code",
   "execution_count": 233,
   "metadata": {},
   "outputs": [
    {
     "data": {
      "text/plain": [
       "tensor([[-0.7740, -0.3611],\n",
       "        [ 0.3573,  0.4827],\n",
       "        [-0.3865, -1.3188],\n",
       "        ...,\n",
       "        [-1.5395,  0.7065],\n",
       "        [-0.2205,  1.4166],\n",
       "        [-1.0628, -1.0049]])"
      ]
     },
     "execution_count": 233,
     "metadata": {},
     "output_type": "execute_result"
    }
   ],
   "source": [
    "features"
   ]
  },
  {
   "cell_type": "code",
   "execution_count": 234,
   "metadata": {},
   "outputs": [],
   "source": [
    "labels = true_w[0] * features[:,0] + true_w[1] * features[:,1] + true_b"
   ]
  },
  {
   "cell_type": "code",
   "execution_count": 236,
   "metadata": {},
   "outputs": [
    {
     "data": {
      "text/plain": [
       "torch.Size([1000])"
      ]
     },
     "execution_count": 236,
     "metadata": {},
     "output_type": "execute_result"
    }
   ],
   "source": [
    "labels.shape"
   ]
  },
  {
   "cell_type": "code",
   "execution_count": 237,
   "metadata": {},
   "outputs": [
    {
     "data": {
      "text/plain": [
       "torch.Size([1000])"
      ]
     },
     "execution_count": 237,
     "metadata": {},
     "output_type": "execute_result"
    }
   ],
   "source": [
    "labels.size()"
   ]
  },
  {
   "cell_type": "code",
   "execution_count": 238,
   "metadata": {},
   "outputs": [],
   "source": [
    "labels += torch.tensor(np.random.normal(0,0.01,size=labels.size()),dtype=torch.float32)"
   ]
  },
  {
   "cell_type": "code",
   "execution_count": 239,
   "metadata": {
    "collapsed": true
   },
   "outputs": [
    {
     "data": {
      "text/plain": [
       "tensor([ 3.8928,  3.2644,  7.8991,  3.7897,  6.7244,  2.7179,  8.9103,  4.1548,\n",
       "         3.6820,  0.1884,  4.9139,  6.3130,  8.4086,  1.7055, -1.7703,  5.7587,\n",
       "         3.2462,  6.8706,  3.5039,  2.4164, 13.6838, -2.6070, -3.4203,  5.7284,\n",
       "        11.2216,  0.5555,  4.1927,  5.9103,  4.1201,  2.9054, -2.6687,  6.5300,\n",
       "        -3.3912,  2.4833,  5.3816,  6.9253,  2.3425,  5.1237,  5.7498, -4.1793,\n",
       "        10.7793,  0.7495, -2.2293,  3.1815,  6.5810,  5.4912, -1.7662,  4.3309,\n",
       "         7.0045,  7.1244, -0.0366,  2.1052,  8.1386,  7.1965,  7.2891,  9.7359,\n",
       "         2.7948, 12.0449,  6.3835,  3.0806,  6.0670,  4.8028,  2.6301, -0.4319,\n",
       "         2.4351,  7.1461,  8.6958,  7.9386,  3.2282,  6.1553, 10.1932,  5.5438,\n",
       "         5.9377,  1.8964, -1.6534,  1.6802,  8.9063,  9.8287,  4.1300,  3.8037,\n",
       "         7.3531,  5.7481,  2.2589,  5.6907,  4.9018, 11.2578,  5.2296, -2.5270,\n",
       "         1.3032,  9.0893,  4.8252,  4.2852,  7.0011,  0.3448, -0.2996,  4.4705,\n",
       "         1.5652,  1.3944, -3.1253,  6.2404, 10.2854,  9.6025,  4.2957,  2.9309,\n",
       "         1.2820,  0.1677,  5.1732,  4.7592,  5.1982,  3.4416,  5.9864, 12.6704,\n",
       "         8.5417,  4.7259, 10.5555,  1.5168, -2.7244,  4.6921,  4.9036, -2.3850,\n",
       "         2.2911, -1.7796,  8.9494, -6.8823,  2.6813,  1.5204, 11.4727,  2.1634,\n",
       "        12.4851,  4.5196, -4.0199,  2.6682,  1.4765,  1.2103,  1.8461,  9.8764,\n",
       "         6.2350,  5.0677,  6.4404, -1.1829,  0.5914, -0.5281, -0.0662,  4.9381,\n",
       "         7.3372,  0.5174,  9.2821, -3.1469,  4.7005,  4.7245, 10.0477,  6.1539,\n",
       "        -5.8007,  0.8107,  4.1271,  0.8236, -1.1338,  9.8316,  4.2489,  8.0427,\n",
       "        -0.5483,  3.4676,  5.8426,  0.2865,  3.8283, 13.4466,  6.5227, -4.3060,\n",
       "        10.7515,  4.4333,  4.2133,  6.2958, -0.6383,  6.4449,  5.0916,  2.0815,\n",
       "         9.7738,  0.1271,  2.7711,  0.0364,  0.5136,  4.5038,  6.8522,  9.8617,\n",
       "        -3.4590,  3.5569,  4.9610, 10.5934,  0.0339,  8.4584,  6.2533,  0.3667,\n",
       "         8.6376,  5.1778,  6.4107,  0.2543,  7.9589,  1.3648,  8.0113, -0.4664,\n",
       "        -3.7880,  0.5129,  2.1439,  4.1551,  4.1533, 11.2493,  1.8601,  6.8926,\n",
       "         3.2718,  1.3114,  2.9844,  7.7747,  8.9602,  3.1091, -0.4089,  9.1976,\n",
       "         4.1286,  0.5767, -3.3219, 10.9523,  5.3252,  2.9471,  9.6499,  7.6437,\n",
       "         2.7995, 11.9969,  6.4080,  4.1898,  0.3253,  0.5964,  7.2791, -1.6640,\n",
       "        10.2078,  9.9972,  5.5362,  1.7806,  3.4821,  2.3349,  6.4449, 10.6067,\n",
       "         0.7163,  1.4182,  6.7313,  2.3239, 10.3570,  0.9486, -0.2340,  1.6586,\n",
       "         2.1757,  0.0933,  8.7242,  8.7000, -3.0681,  0.1818,  4.2861,  4.7001,\n",
       "         2.8456,  2.9868, -3.7034, 10.9583,  4.8507,  5.3486, -2.7730, -1.8967,\n",
       "        -0.9006,  4.6331,  5.2223,  4.8666,  5.5673,  3.4684,  3.7706,  4.7822,\n",
       "         2.9440,  6.5665, 13.6544,  9.5011,  7.0047,  2.5768,  5.3122,  0.8262,\n",
       "         1.7643,  1.7646,  5.7766,  7.9274,  2.4483,  0.6064,  1.7658,  2.0549,\n",
       "        13.3479,  1.4999,  3.5422,  7.2360,  1.6571,  6.7133,  7.0752,  3.6164,\n",
       "        -1.9282,  3.8021, -1.6735, -3.0021,  6.7146,  4.9525, -0.8139,  6.1400,\n",
       "         1.6808,  6.4526,  6.0442,  2.0211, -3.4545, 10.7054,  0.8566,  4.2549,\n",
       "         4.8828, 12.7585,  5.5386,  3.3021,  0.9489,  2.0570,  0.1769,  6.5013,\n",
       "         3.3680,  7.2496,  4.1397,  5.2106,  7.3097,  3.3131,  1.7209,  6.9321,\n",
       "         3.9484,  1.7215,  1.2600,  3.9433, -3.8317,  8.7382, 14.0711, 12.5165,\n",
       "         4.9605,  4.1410,  3.0148,  7.9918,  2.4202, -0.7167,  6.3803,  8.9647,\n",
       "         4.7426,  1.9990,  9.9947, -4.4928,  4.5280,  3.5232, 12.6206,  1.8349,\n",
       "         9.4549,  2.7408,  3.5423,  6.3556, -2.1051,  6.5403,  0.6869,  3.2297,\n",
       "         3.2517,  5.7650,  4.2570,  1.7539,  8.3509,  3.9224, 10.1100,  1.9566,\n",
       "        12.9189,  4.7043,  4.7383, -2.9065,  1.5882,  4.4458,  2.0612,  1.4714,\n",
       "         0.9193,  3.6698, -3.7488,  3.9318,  2.2200,  6.5280,  6.9563,  4.6083,\n",
       "        -0.1327,  0.7354,  0.1204,  2.7079,  0.4228,  6.5977,  3.9806,  5.5017,\n",
       "         4.3736,  3.3680,  8.9929,  7.6583,  3.6508,  0.9777,  2.3390,  5.4544,\n",
       "         8.0654,  6.7142, -4.3836,  7.4003,  6.1880,  8.0139, 10.8914, -0.4645,\n",
       "         6.9682,  5.0052, 13.4763,  1.8454, -0.0500,  2.9954,  6.8700,  6.7910,\n",
       "         1.2900, -1.0008,  1.4837,  6.7854, -5.5927,  1.3767,  7.8844,  7.2235,\n",
       "         7.6031,  1.0362,  4.8528, -1.4429,  2.8523,  8.7420,  2.4889,  3.7957,\n",
       "        15.9024,  3.6818, -0.6718, 14.3335,  1.9700,  5.1517,  8.9834,  7.4679,\n",
       "        10.3897,  3.2707,  6.0120,  3.0643, 14.8329,  7.4554,  2.6599, -3.9823,\n",
       "         9.2125,  6.2566,  3.4992,  3.3475,  2.2928,  4.7139, 11.9635,  6.3112,\n",
       "        -2.2602,  5.9715,  1.8303,  5.6712, -0.2521,  5.0180,  3.0243,  0.1596,\n",
       "         1.3754,  2.3701,  0.8029,  5.9416, 12.3336,  9.5635,  0.9145,  2.6440,\n",
       "        13.4354,  3.0391,  8.4106,  3.4402,  6.1011,  6.5365,  2.9871,  4.6212,\n",
       "         5.5594,  9.2537,  2.3974,  3.3429,  4.4555,  9.4501, -0.6387,  3.3593,\n",
       "         5.6725,  4.4593,  5.8863,  4.6887,  0.4468,  2.7284,  4.4500, 10.9669,\n",
       "         8.1506, -0.5231, 12.2861,  3.2916,  2.7792,  3.7476,  4.0084,  2.0227,\n",
       "         7.7825,  5.8436,  4.4703,  8.7147,  9.4367,  1.3679,  9.0570,  7.8742,\n",
       "         7.5897, 10.0867,  0.1553,  1.7954,  3.7076,  2.0300,  3.6276, 15.5324,\n",
       "         4.7701,  9.2873,  4.5945,  2.0374,  4.8294,  6.9112, -1.0717,  5.0053,\n",
       "         5.1342, -0.2045, 10.4854,  3.4114, 13.9737,  0.5841,  5.0977,  0.6037,\n",
       "         4.0170,  3.0559,  5.9663,  1.6521, -2.9103,  9.0801, -6.6637,  7.0855,\n",
       "         3.4847,  8.7602,  1.6353,  6.0817,  7.9850, -1.0121,  0.8160,  7.0649,\n",
       "         5.2251,  5.6869,  6.6178,  5.2790,  2.0288,  4.7788,  3.2595,  3.9010,\n",
       "         2.1349,  8.1071,  8.8901,  2.7674, -1.9117,  9.1472,  6.3554, -1.3428,\n",
       "         4.8836,  8.2339,  5.8542,  9.0300,  7.6088,  5.2881,  4.8746,  8.6838,\n",
       "         1.4315, -0.8228,  0.0643, -2.0493,  4.9514,  5.6597,  1.1491,  5.8737,\n",
       "         3.4733,  0.4465,  2.2666,  1.7208,  5.6096,  5.4395,  8.0735,  4.0834,\n",
       "         7.9963,  1.9848,  3.0273,  2.3998,  5.1777,  2.9250,  0.8905,  6.5854,\n",
       "         0.9415,  5.5947,  5.6093,  5.3813,  3.5142,  3.1209,  3.0231, -4.5983,\n",
       "         1.2325,  5.7095,  1.2161,  7.5721,  2.7468,  2.8144, -1.5764,  3.4070,\n",
       "         5.0395,  4.0823,  3.2174, -0.1685,  3.5098,  2.3373,  9.8635,  4.2759,\n",
       "         5.5318, -0.5028,  7.7355,  3.5562,  7.0580,  3.9027,  1.1657,  4.8282,\n",
       "         5.0095, -1.9167, 10.5625,  9.8351,  7.1003,  7.0210,  6.7504, -0.3936,\n",
       "         2.8526,  2.5541,  5.0080,  1.5406,  5.6582,  3.5990,  8.9041, 12.1812,\n",
       "         6.1913,  3.0839,  5.3691, -2.5126,  0.2086, 11.1622, 11.9078,  2.2044,\n",
       "         5.8530,  5.7232, -4.2598,  4.8228,  1.9849,  3.2452, -3.1884,  5.7037,\n",
       "         6.1777,  1.7366, -2.2502,  4.6460,  8.0098, -1.0815,  9.8453,  0.9244,\n",
       "         3.3075,  1.5420, -2.3181,  9.1060,  6.4321,  8.2259,  1.7422,  5.3720,\n",
       "        11.2492,  7.9780, 13.2494,  4.0702,  2.2109,  1.0369,  6.3806,  3.3261,\n",
       "         0.9704, -1.9518,  7.4450,  8.3543,  2.2331,  9.1738,  9.9293,  6.8046,\n",
       "        -0.5617,  6.0501,  6.2578,  3.6765,  3.5884,  5.3686,  8.3997,  9.3546,\n",
       "         5.9343,  5.1919,  6.7636,  0.4740, -1.4180,  6.0182,  4.4899,  9.6658,\n",
       "         6.4639, 11.5037, -2.6644,  2.1787,  3.8718,  6.6058,  2.8160,  5.3039,\n",
       "         0.2389, -1.4438,  2.6818, -0.2722,  4.5855,  9.3949,  6.3162,  3.9630,\n",
       "         4.1025,  6.1587,  5.5578,  1.9782, -1.5877,  7.6677,  6.2980,  4.6243,\n",
       "         1.4857,  4.7550,  6.5279,  4.6844,  1.3085,  1.2876,  7.2878,  0.6920,\n",
       "         8.6517,  3.6090, 10.2052,  6.3905,  5.9043,  3.0105, 10.5262,  8.0990,\n",
       "         1.5378,  9.9948, -0.8451,  8.8051,  2.5239,  3.1271,  1.8521,  5.9719,\n",
       "         8.1632,  5.3070,  1.6868,  6.8204,  8.1459,  5.4337,  7.7323,  4.1548,\n",
       "         5.6213,  6.0264,  0.7253,  0.6842,  2.9260, 11.0147, -1.9031,  2.6078,\n",
       "         1.4616,  6.7619,  2.3494, -1.2178,  8.7131,  4.9083,  2.8764,  7.7386,\n",
       "        -2.6233,  8.4066,  7.9939,  1.9261,  5.8516,  6.8972,  3.3110,  3.8416,\n",
       "        11.3707,  3.8307,  5.7877,  8.5130,  4.9981, -0.3868,  4.3502,  2.2704,\n",
       "         2.7221,  9.1756,  6.0495, 11.4858,  8.9366,  5.7132,  6.0149,  7.0610,\n",
       "         1.3197,  5.6401,  0.1219, -0.5046,  4.7155,  9.2701,  5.1435,  9.3459,\n",
       "         1.1209,  0.1037,  9.8838,  9.4574,  5.5848,  2.0548,  3.7728,  5.6675,\n",
       "         3.5175,  6.3397,  2.1028, -4.6467, -2.0014,  3.2839, -3.4694, -1.9153,\n",
       "        10.1594,  7.2476, -1.1071,  3.4832, -1.6862,  4.1069,  9.6844,  2.1948,\n",
       "        -0.6221,  3.0775, 11.2616,  0.6593,  3.7580,  4.8753,  3.6555,  4.9563,\n",
       "        10.0813,  1.1969,  1.6427,  4.1295,  2.0668, -3.6914,  3.0763,  2.9914,\n",
       "         8.3963, 14.1822,  4.4373,  6.9332,  2.3786,  5.0500,  6.9806,  1.1298,\n",
       "         1.4499,  7.9255,  2.7706,  5.6585,  5.7852,  5.1639,  6.2493, -4.6313,\n",
       "         6.8695,  4.5671,  6.4908,  4.2555,  2.0742,  4.0495, -0.7133,  3.8665,\n",
       "         2.1558,  0.7213,  5.1616, -3.9773,  3.7518,  3.9079,  5.3325, -1.7144,\n",
       "         0.5121,  7.8938,  4.4781,  1.4029,  7.8703, -2.5572,  0.2063,  4.2228,\n",
       "         5.7824,  7.0892,  2.3767,  0.7604,  1.6912,  3.0250,  2.8302,  4.7024,\n",
       "        -0.2373, -2.3769,  5.4958,  1.9616,  2.5987,  9.3293,  5.4061,  2.0047,\n",
       "         3.3414,  5.8320, -1.8962,  4.5737,  8.2119,  2.4716,  6.1998,  1.5968,\n",
       "        -1.7318,  3.6798,  2.5364,  3.0912,  2.8228,  3.8473,  8.0719, 10.3215,\n",
       "         3.7460,  3.8519,  2.5469,  3.8461,  7.8084,  1.2652,  4.7385,  8.8392,\n",
       "         3.5978,  6.2064, -0.0195,  1.4847,  9.0864, -0.5270,  4.5902,  9.3259,\n",
       "         0.0527,  6.6690,  9.1866,  9.1380,  3.3720,  5.4677,  5.6643,  0.8305,\n",
       "         2.7745,  4.5845,  0.5057,  6.1183, -0.1505,  5.3764,  5.1789,  2.2712,\n",
       "         7.3588, -0.4741,  3.8462,  7.1365,  1.9915,  0.9698,  8.2011,  3.5412,\n",
       "         8.5225,  1.4732,  3.8302,  3.8611,  7.4172,  6.3762, -0.1242, -3.1071,\n",
       "        10.1436, -1.0926,  9.0469, -2.9444,  4.1635,  6.5633, 13.8274,  2.1936,\n",
       "         2.1519,  0.1710,  9.7970, -1.3076,  2.1858,  5.0954,  5.4520,  8.7146,\n",
       "         8.3478,  6.3306,  2.7121,  3.0208,  6.3239, -1.2754, -1.0454,  5.4828])"
      ]
     },
     "execution_count": 239,
     "metadata": {},
     "output_type": "execute_result"
    }
   ],
   "source": [
    "labels"
   ]
  },
  {
   "cell_type": "code",
   "execution_count": 240,
   "metadata": {},
   "outputs": [
    {
     "data": {
      "text/plain": [
       "tensor([-0.7740, -0.3611])"
      ]
     },
     "execution_count": 240,
     "metadata": {},
     "output_type": "execute_result"
    }
   ],
   "source": [
    "features[0]"
   ]
  },
  {
   "cell_type": "code",
   "execution_count": 241,
   "metadata": {},
   "outputs": [
    {
     "data": {
      "text/plain": [
       "tensor(3.8928)"
      ]
     },
     "execution_count": 241,
     "metadata": {},
     "output_type": "execute_result"
    }
   ],
   "source": [
    "labels[0]"
   ]
  },
  {
   "cell_type": "code",
   "execution_count": 247,
   "metadata": {},
   "outputs": [
    {
     "data": {
      "text/plain": [
       "tensor([[ 0.3573,  0.4827],\n",
       "        [-0.3865, -1.3188],\n",
       "        [-0.3744, -0.9644],\n",
       "        [-0.8857, -0.0803],\n",
       "        [ 1.2485, -0.6487]])"
      ]
     },
     "execution_count": 247,
     "metadata": {},
     "output_type": "execute_result"
    }
   ],
   "source": [
    "features.index_select(0,torch.LongTensor([1,2,4,5,6]))"
   ]
  },
  {
   "cell_type": "code",
   "execution_count": 242,
   "metadata": {},
   "outputs": [],
   "source": [
    "# 生成 features[:,1] 和标签 labels 的散点图。观察两者的线性关系"
   ]
  },
  {
   "cell_type": "code",
   "execution_count": 243,
   "metadata": {},
   "outputs": [],
   "source": [
    "def use_svg_display():\n",
    "    # 用矢量图显示\n",
    "    display.set_matplotlib_formats('svg')\n",
    "def set_figsize(figsize=(3.5,2.5)):\n",
    "    use_svg_display()\n",
    "    # 设置图的尺寸\n",
    "    plt.rcParams['figure.figsize'] = figsize"
   ]
  },
  {
   "cell_type": "code",
   "execution_count": 244,
   "metadata": {},
   "outputs": [],
   "source": [
    "set_figsize()"
   ]
  },
  {
   "cell_type": "code",
   "execution_count": 245,
   "metadata": {},
   "outputs": [
    {
     "data": {
      "text/plain": [
       "<matplotlib.collections.PathCollection at 0x7f8b6c6bf810>"
      ]
     },
     "execution_count": 245,
     "metadata": {},
     "output_type": "execute_result"
    },
    {
     "data": {
      "image/svg+xml": [
       "<?xml version=\"1.0\" encoding=\"utf-8\" standalone=\"no\"?>\n",
       "<!DOCTYPE svg PUBLIC \"-//W3C//DTD SVG 1.1//EN\"\n",
       "  \"http://www.w3.org/Graphics/SVG/1.1/DTD/svg11.dtd\">\n",
       "<svg xmlns:xlink=\"http://www.w3.org/1999/xlink\" width=\"231.442187pt\" height=\"166.978125pt\" viewBox=\"0 0 231.442187 166.978125\" xmlns=\"http://www.w3.org/2000/svg\" version=\"1.1\">\n",
       " <metadata>\n",
       "  <rdf:RDF xmlns:dc=\"http://purl.org/dc/elements/1.1/\" xmlns:cc=\"http://creativecommons.org/ns#\" xmlns:rdf=\"http://www.w3.org/1999/02/22-rdf-syntax-ns#\">\n",
       "   <cc:Work>\n",
       "    <dc:type rdf:resource=\"http://purl.org/dc/dcmitype/StillImage\"/>\n",
       "    <dc:date>2022-10-12T11:31:02.087841</dc:date>\n",
       "    <dc:format>image/svg+xml</dc:format>\n",
       "    <dc:creator>\n",
       "     <cc:Agent>\n",
       "      <dc:title>Matplotlib v3.5.1, https://matplotlib.org/</dc:title>\n",
       "     </cc:Agent>\n",
       "    </dc:creator>\n",
       "   </cc:Work>\n",
       "  </rdf:RDF>\n",
       " </metadata>\n",
       " <defs>\n",
       "  <style type=\"text/css\">*{stroke-linejoin: round; stroke-linecap: butt}</style>\n",
       " </defs>\n",
       " <g id=\"figure_1\">\n",
       "  <g id=\"patch_1\">\n",
       "   <path d=\"M 0 166.978125 \n",
       "L 231.442187 166.978125 \n",
       "L 231.442187 0 \n",
       "L 0 0 \n",
       "L 0 166.978125 \n",
       "z\n",
       "\" style=\"fill: none\"/>\n",
       "  </g>\n",
       "  <g id=\"axes_1\">\n",
       "   <g id=\"patch_2\">\n",
       "    <path d=\"M 28.942188 143.1 \n",
       "L 224.242188 143.1 \n",
       "L 224.242188 7.2 \n",
       "L 28.942188 7.2 \n",
       "z\n",
       "\" style=\"fill: #ffffff\"/>\n",
       "   </g>\n",
       "   <g id=\"PathCollection_1\">\n",
       "    <defs>\n",
       "     <path id=\"mde9751aa6a\" d=\"M 0 0.5 \n",
       "C 0.132602 0.5 0.25979 0.447317 0.353553 0.353553 \n",
       "C 0.447317 0.25979 0.5 0.132602 0.5 0 \n",
       "C 0.5 -0.132602 0.447317 -0.25979 0.353553 -0.353553 \n",
       "C 0.25979 -0.447317 0.132602 -0.5 0 -0.5 \n",
       "C -0.132602 -0.5 -0.25979 -0.447317 -0.353553 -0.353553 \n",
       "C -0.447317 -0.25979 -0.5 -0.132602 -0.5 0 \n",
       "C -0.5 0.132602 -0.447317 0.25979 -0.353553 0.353553 \n",
       "C -0.25979 0.447317 -0.132602 0.5 0 0.5 \n",
       "z\n",
       "\" style=\"stroke: #1f77b4\"/>\n",
       "    </defs>\n",
       "    <g clip-path=\"url(#p438e3ad410)\">\n",
       "     <use xlink:href=\"#mde9751aa6a\" x=\"125.731697\" y=\"78.496901\" style=\"fill: #1f77b4; stroke: #1f77b4\"/>\n",
       "     <use xlink:href=\"#mde9751aa6a\" x=\"149.968684\" y=\"81.904702\" style=\"fill: #1f77b4; stroke: #1f77b4\"/>\n",
       "     <use xlink:href=\"#mde9751aa6a\" x=\"98.226445\" y=\"56.77352\" style=\"fill: #1f77b4; stroke: #1f77b4\"/>\n",
       "     <use xlink:href=\"#mde9751aa6a\" x=\"151.432047\" y=\"79.056038\" style=\"fill: #1f77b4; stroke: #1f77b4\"/>\n",
       "     <use xlink:href=\"#mde9751aa6a\" x=\"108.404324\" y=\"63.143138\" style=\"fill: #1f77b4; stroke: #1f77b4\"/>\n",
       "     <use xlink:href=\"#mde9751aa6a\" x=\"133.796774\" y=\"84.867826\" style=\"fill: #1f77b4; stroke: #1f77b4\"/>\n",
       "     <use xlink:href=\"#mde9751aa6a\" x=\"117.472579\" y=\"51.290861\" style=\"fill: #1f77b4; stroke: #1f77b4\"/>\n",
       "     <use xlink:href=\"#mde9751aa6a\" x=\"148.945926\" y=\"77.076567\" style=\"fill: #1f77b4; stroke: #1f77b4\"/>\n",
       "     <use xlink:href=\"#mde9751aa6a\" x=\"109.774177\" y=\"79.64029\" style=\"fill: #1f77b4; stroke: #1f77b4\"/>\n",
       "     <use xlink:href=\"#mde9751aa6a\" x=\"173.370988\" y=\"98.583323\" style=\"fill: #1f77b4; stroke: #1f77b4\"/>\n",
       "     <use xlink:href=\"#mde9751aa6a\" x=\"126.82238\" y=\"72.960131\" style=\"fill: #1f77b4; stroke: #1f77b4\"/>\n",
       "     <use xlink:href=\"#mde9751aa6a\" x=\"122.023179\" y=\"65.373903\" style=\"fill: #1f77b4; stroke: #1f77b4\"/>\n",
       "     <use xlink:href=\"#mde9751aa6a\" x=\"116.151002\" y=\"54.011311\" style=\"fill: #1f77b4; stroke: #1f77b4\"/>\n",
       "     <use xlink:href=\"#mde9751aa6a\" x=\"140.462561\" y=\"90.35705\" style=\"fill: #1f77b4; stroke: #1f77b4\"/>\n",
       "     <use xlink:href=\"#mde9751aa6a\" x=\"197.603467\" y=\"109.204003\" style=\"fill: #1f77b4; stroke: #1f77b4\"/>\n",
       "     <use xlink:href=\"#mde9751aa6a\" x=\"130.099987\" y=\"68.379619\" style=\"fill: #1f77b4; stroke: #1f77b4\"/>\n",
       "     <use xlink:href=\"#mde9751aa6a\" x=\"168.429249\" y=\"82.003382\" style=\"fill: #1f77b4; stroke: #1f77b4\"/>\n",
       "     <use xlink:href=\"#mde9751aa6a\" x=\"145.695219\" y=\"62.350726\" style=\"fill: #1f77b4; stroke: #1f77b4\"/>\n",
       "     <use xlink:href=\"#mde9751aa6a\" x=\"167.879068\" y=\"80.605638\" style=\"fill: #1f77b4; stroke: #1f77b4\"/>\n",
       "     <use xlink:href=\"#mde9751aa6a\" x=\"111.006033\" y=\"86.502561\" style=\"fill: #1f77b4; stroke: #1f77b4\"/>\n",
       "     <use xlink:href=\"#mde9751aa6a\" x=\"70.80271\" y=\"25.407503\" style=\"fill: #1f77b4; stroke: #1f77b4\"/>\n",
       "     <use xlink:href=\"#mde9751aa6a\" x=\"154.709926\" y=\"113.740748\" style=\"fill: #1f77b4; stroke: #1f77b4\"/>\n",
       "     <use xlink:href=\"#mde9751aa6a\" x=\"159.425123\" y=\"118.150672\" style=\"fill: #1f77b4; stroke: #1f77b4\"/>\n",
       "     <use xlink:href=\"#mde9751aa6a\" x=\"109.890533\" y=\"68.543998\" style=\"fill: #1f77b4; stroke: #1f77b4\"/>\n",
       "     <use xlink:href=\"#mde9751aa6a\" x=\"63.115032\" y=\"38.758268\" style=\"fill: #1f77b4; stroke: #1f77b4\"/>\n",
       "     <use xlink:href=\"#mde9751aa6a\" x=\"136.1676\" y=\"96.592897\" style=\"fill: #1f77b4; stroke: #1f77b4\"/>\n",
       "     <use xlink:href=\"#mde9751aa6a\" x=\"141.804209\" y=\"76.871049\" style=\"fill: #1f77b4; stroke: #1f77b4\"/>\n",
       "     <use xlink:href=\"#mde9751aa6a\" x=\"127.423575\" y=\"67.557786\" style=\"fill: #1f77b4; stroke: #1f77b4\"/>\n",
       "     <use xlink:href=\"#mde9751aa6a\" x=\"155.111808\" y=\"77.264516\" style=\"fill: #1f77b4; stroke: #1f77b4\"/>\n",
       "     <use xlink:href=\"#mde9751aa6a\" x=\"139.019366\" y=\"83.850785\" style=\"fill: #1f77b4; stroke: #1f77b4\"/>\n",
       "     <use xlink:href=\"#mde9751aa6a\" x=\"169.722297\" y=\"114.075653\" style=\"fill: #1f77b4; stroke: #1f77b4\"/>\n",
       "     <use xlink:href=\"#mde9751aa6a\" x=\"116.262253\" y=\"64.197128\" style=\"fill: #1f77b4; stroke: #1f77b4\"/>\n",
       "     <use xlink:href=\"#mde9751aa6a\" x=\"171.706219\" y=\"117.993162\" style=\"fill: #1f77b4; stroke: #1f77b4\"/>\n",
       "     <use xlink:href=\"#mde9751aa6a\" x=\"146.088565\" y=\"86.139908\" style=\"fill: #1f77b4; stroke: #1f77b4\"/>\n",
       "     <use xlink:href=\"#mde9751aa6a\" x=\"136.476256\" y=\"70.424121\" style=\"fill: #1f77b4; stroke: #1f77b4\"/>\n",
       "     <use xlink:href=\"#mde9751aa6a\" x=\"128.49255\" y=\"62.053801\" style=\"fill: #1f77b4; stroke: #1f77b4\"/>\n",
       "     <use xlink:href=\"#mde9751aa6a\" x=\"126.353541\" y=\"86.903399\" style=\"fill: #1f77b4; stroke: #1f77b4\"/>\n",
       "     <use xlink:href=\"#mde9751aa6a\" x=\"166.795494\" y=\"71.82285\" style=\"fill: #1f77b4; stroke: #1f77b4\"/>\n",
       "     <use xlink:href=\"#mde9751aa6a\" x=\"140.142519\" y=\"68.427866\" style=\"fill: #1f77b4; stroke: #1f77b4\"/>\n",
       "     <use xlink:href=\"#mde9751aa6a\" x=\"194.861078\" y=\"122.26659\" style=\"fill: #1f77b4; stroke: #1f77b4\"/>\n",
       "     <use xlink:href=\"#mde9751aa6a\" x=\"108.911386\" y=\"41.156651\" style=\"fill: #1f77b4; stroke: #1f77b4\"/>\n",
       "     <use xlink:href=\"#mde9751aa6a\" x=\"131.64276\" y=\"95.541232\" style=\"fill: #1f77b4; stroke: #1f77b4\"/>\n",
       "     <use xlink:href=\"#mde9751aa6a\" x=\"156.997105\" y=\"111.693097\" style=\"fill: #1f77b4; stroke: #1f77b4\"/>\n",
       "     <use xlink:href=\"#mde9751aa6a\" x=\"142.991843\" y=\"82.353848\" style=\"fill: #1f77b4; stroke: #1f77b4\"/>\n",
       "     <use xlink:href=\"#mde9751aa6a\" x=\"136.637191\" y=\"63.920665\" style=\"fill: #1f77b4; stroke: #1f77b4\"/>\n",
       "     <use xlink:href=\"#mde9751aa6a\" x=\"105.788395\" y=\"69.83007\" style=\"fill: #1f77b4; stroke: #1f77b4\"/>\n",
       "     <use xlink:href=\"#mde9751aa6a\" x=\"157.054825\" y=\"109.181805\" style=\"fill: #1f77b4; stroke: #1f77b4\"/>\n",
       "     <use xlink:href=\"#mde9751aa6a\" x=\"133.063765\" y=\"76.121824\" style=\"fill: #1f77b4; stroke: #1f77b4\"/>\n",
       "     <use xlink:href=\"#mde9751aa6a\" x=\"101.991904\" y=\"61.624558\" style=\"fill: #1f77b4; stroke: #1f77b4\"/>\n",
       "     <use xlink:href=\"#mde9751aa6a\" x=\"122.017274\" y=\"60.974424\" style=\"fill: #1f77b4; stroke: #1f77b4\"/>\n",
       "     <use xlink:href=\"#mde9751aa6a\" x=\"178.292344\" y=\"99.803174\" style=\"fill: #1f77b4; stroke: #1f77b4\"/>\n",
       "     <use xlink:href=\"#mde9751aa6a\" x=\"157.808681\" y=\"88.189782\" style=\"fill: #1f77b4; stroke: #1f77b4\"/>\n",
       "     <use xlink:href=\"#mde9751aa6a\" x=\"115.040703\" y=\"55.474997\" style=\"fill: #1f77b4; stroke: #1f77b4\"/>\n",
       "     <use xlink:href=\"#mde9751aa6a\" x=\"124.073069\" y=\"60.583387\" style=\"fill: #1f77b4; stroke: #1f77b4\"/>\n",
       "     <use xlink:href=\"#mde9751aa6a\" x=\"95.354983\" y=\"60.081382\" style=\"fill: #1f77b4; stroke: #1f77b4\"/>\n",
       "     <use xlink:href=\"#mde9751aa6a\" x=\"106.1052\" y=\"46.813885\" style=\"fill: #1f77b4; stroke: #1f77b4\"/>\n",
       "     <use xlink:href=\"#mde9751aa6a\" x=\"147.255803\" y=\"84.450732\" style=\"fill: #1f77b4; stroke: #1f77b4\"/>\n",
       "     <use xlink:href=\"#mde9751aa6a\" x=\"89.872883\" y=\"34.294018\" style=\"fill: #1f77b4; stroke: #1f77b4\"/>\n",
       "     <use xlink:href=\"#mde9751aa6a\" x=\"114.803648\" y=\"64.991926\" style=\"fill: #1f77b4; stroke: #1f77b4\"/>\n",
       "     <use xlink:href=\"#mde9751aa6a\" x=\"133.148668\" y=\"82.900867\" style=\"fill: #1f77b4; stroke: #1f77b4\"/>\n",
       "     <use xlink:href=\"#mde9751aa6a\" x=\"127.336829\" y=\"66.707884\" style=\"fill: #1f77b4; stroke: #1f77b4\"/>\n",
       "     <use xlink:href=\"#mde9751aa6a\" x=\"124.358805\" y=\"73.562554\" style=\"fill: #1f77b4; stroke: #1f77b4\"/>\n",
       "     <use xlink:href=\"#mde9751aa6a\" x=\"159.962894\" y=\"85.343966\" style=\"fill: #1f77b4; stroke: #1f77b4\"/>\n",
       "     <use xlink:href=\"#mde9751aa6a\" x=\"146.215113\" y=\"101.946877\" style=\"fill: #1f77b4; stroke: #1f77b4\"/>\n",
       "     <use xlink:href=\"#mde9751aa6a\" x=\"159.506134\" y=\"86.401158\" style=\"fill: #1f77b4; stroke: #1f77b4\"/>\n",
       "     <use xlink:href=\"#mde9751aa6a\" x=\"112.764418\" y=\"60.856735\" style=\"fill: #1f77b4; stroke: #1f77b4\"/>\n",
       "     <use xlink:href=\"#mde9751aa6a\" x=\"116.644225\" y=\"52.453774\" style=\"fill: #1f77b4; stroke: #1f77b4\"/>\n",
       "     <use xlink:href=\"#mde9751aa6a\" x=\"80.89463\" y=\"56.559713\" style=\"fill: #1f77b4; stroke: #1f77b4\"/>\n",
       "     <use xlink:href=\"#mde9751aa6a\" x=\"135.731878\" y=\"82.100643\" style=\"fill: #1f77b4; stroke: #1f77b4\"/>\n",
       "     <use xlink:href=\"#mde9751aa6a\" x=\"123.817838\" y=\"66.229169\" style=\"fill: #1f77b4; stroke: #1f77b4\"/>\n",
       "     <use xlink:href=\"#mde9751aa6a\" x=\"96.003909\" y=\"44.334237\" style=\"fill: #1f77b4; stroke: #1f77b4\"/>\n",
       "     <use xlink:href=\"#mde9751aa6a\" x=\"121.094485\" y=\"69.544713\" style=\"fill: #1f77b4; stroke: #1f77b4\"/>\n",
       "     <use xlink:href=\"#mde9751aa6a\" x=\"121.438988\" y=\"67.408825\" style=\"fill: #1f77b4; stroke: #1f77b4\"/>\n",
       "     <use xlink:href=\"#mde9751aa6a\" x=\"130.631708\" y=\"89.322353\" style=\"fill: #1f77b4; stroke: #1f77b4\"/>\n",
       "     <use xlink:href=\"#mde9751aa6a\" x=\"147.509426\" y=\"108.570081\" style=\"fill: #1f77b4; stroke: #1f77b4\"/>\n",
       "     <use xlink:href=\"#mde9751aa6a\" x=\"136.408354\" y=\"90.494279\" style=\"fill: #1f77b4; stroke: #1f77b4\"/>\n",
       "     <use xlink:href=\"#mde9751aa6a\" x=\"90.763785\" y=\"51.312564\" style=\"fill: #1f77b4; stroke: #1f77b4\"/>\n",
       "     <use xlink:href=\"#mde9751aa6a\" x=\"95.477014\" y=\"46.310607\" style=\"fill: #1f77b4; stroke: #1f77b4\"/>\n",
       "     <use xlink:href=\"#mde9751aa6a\" x=\"117.111628\" y=\"77.210873\" style=\"fill: #1f77b4; stroke: #1f77b4\"/>\n",
       "     <use xlink:href=\"#mde9751aa6a\" x=\"153.12453\" y=\"78.979932\" style=\"fill: #1f77b4; stroke: #1f77b4\"/>\n",
       "     <use xlink:href=\"#mde9751aa6a\" x=\"104.765854\" y=\"59.734445\" style=\"fill: #1f77b4; stroke: #1f77b4\"/>\n",
       "     <use xlink:href=\"#mde9751aa6a\" x=\"141.124055\" y=\"68.437179\" style=\"fill: #1f77b4; stroke: #1f77b4\"/>\n",
       "     <use xlink:href=\"#mde9751aa6a\" x=\"158.229929\" y=\"87.356542\" style=\"fill: #1f77b4; stroke: #1f77b4\"/>\n",
       "     <use xlink:href=\"#mde9751aa6a\" x=\"135.609279\" y=\"68.748071\" style=\"fill: #1f77b4; stroke: #1f77b4\"/>\n",
       "     <use xlink:href=\"#mde9751aa6a\" x=\"159.436973\" y=\"73.025959\" style=\"fill: #1f77b4; stroke: #1f77b4\"/>\n",
       "     <use xlink:href=\"#mde9751aa6a\" x=\"105.987535\" y=\"38.562087\" style=\"fill: #1f77b4; stroke: #1f77b4\"/>\n",
       "     <use xlink:href=\"#mde9751aa6a\" x=\"111.732003\" y=\"71.24871\" style=\"fill: #1f77b4; stroke: #1f77b4\"/>\n",
       "     <use xlink:href=\"#mde9751aa6a\" x=\"203.642085\" y=\"113.307052\" style=\"fill: #1f77b4; stroke: #1f77b4\"/>\n",
       "     <use xlink:href=\"#mde9751aa6a\" x=\"178.128419\" y=\"92.538884\" style=\"fill: #1f77b4; stroke: #1f77b4\"/>\n",
       "     <use xlink:href=\"#mde9751aa6a\" x=\"105.729671\" y=\"50.320007\" style=\"fill: #1f77b4; stroke: #1f77b4\"/>\n",
       "     <use xlink:href=\"#mde9751aa6a\" x=\"130.694426\" y=\"73.441566\" style=\"fill: #1f77b4; stroke: #1f77b4\"/>\n",
       "     <use xlink:href=\"#mde9751aa6a\" x=\"127.465698\" y=\"76.369367\" style=\"fill: #1f77b4; stroke: #1f77b4\"/>\n",
       "     <use xlink:href=\"#mde9751aa6a\" x=\"102.617811\" y=\"61.643094\" style=\"fill: #1f77b4; stroke: #1f77b4\"/>\n",
       "     <use xlink:href=\"#mde9751aa6a\" x=\"172.57061\" y=\"97.735497\" style=\"fill: #1f77b4; stroke: #1f77b4\"/>\n",
       "     <use xlink:href=\"#mde9751aa6a\" x=\"168.682274\" y=\"101.229318\" style=\"fill: #1f77b4; stroke: #1f77b4\"/>\n",
       "     <use xlink:href=\"#mde9751aa6a\" x=\"115.459427\" y=\"75.36459\" style=\"fill: #1f77b4; stroke: #1f77b4\"/>\n",
       "     <use xlink:href=\"#mde9751aa6a\" x=\"170.530162\" y=\"91.11801\" style=\"fill: #1f77b4; stroke: #1f77b4\"/>\n",
       "     <use xlink:href=\"#mde9751aa6a\" x=\"148.371306\" y=\"92.044244\" style=\"fill: #1f77b4; stroke: #1f77b4\"/>\n",
       "     <use xlink:href=\"#mde9751aa6a\" x=\"172.412488\" y=\"116.551474\" style=\"fill: #1f77b4; stroke: #1f77b4\"/>\n",
       "     <use xlink:href=\"#mde9751aa6a\" x=\"111.931453\" y=\"65.767804\" style=\"fill: #1f77b4; stroke: #1f77b4\"/>\n",
       "     <use xlink:href=\"#mde9751aa6a\" x=\"96.636054\" y=\"43.83473\" style=\"fill: #1f77b4; stroke: #1f77b4\"/>\n",
       "     <use xlink:href=\"#mde9751aa6a\" x=\"105.267734\" y=\"47.537405\" style=\"fill: #1f77b4; stroke: #1f77b4\"/>\n",
       "     <use xlink:href=\"#mde9751aa6a\" x=\"141.115745\" y=\"76.312578\" style=\"fill: #1f77b4; stroke: #1f77b4\"/>\n",
       "     <use xlink:href=\"#mde9751aa6a\" x=\"163.73276\" y=\"83.712857\" style=\"fill: #1f77b4; stroke: #1f77b4\"/>\n",
       "     <use xlink:href=\"#mde9751aa6a\" x=\"144.117395\" y=\"92.653477\" style=\"fill: #1f77b4; stroke: #1f77b4\"/>\n",
       "     <use xlink:href=\"#mde9751aa6a\" x=\"172.695503\" y=\"98.695881\" style=\"fill: #1f77b4; stroke: #1f77b4\"/>\n",
       "     <use xlink:href=\"#mde9751aa6a\" x=\"121.546351\" y=\"71.554454\" style=\"fill: #1f77b4; stroke: #1f77b4\"/>\n",
       "     <use xlink:href=\"#mde9751aa6a\" x=\"119.699373\" y=\"73.799171\" style=\"fill: #1f77b4; stroke: #1f77b4\"/>\n",
       "     <use xlink:href=\"#mde9751aa6a\" x=\"137.619511\" y=\"71.418873\" style=\"fill: #1f77b4; stroke: #1f77b4\"/>\n",
       "     <use xlink:href=\"#mde9751aa6a\" x=\"144.274452\" y=\"80.943594\" style=\"fill: #1f77b4; stroke: #1f77b4\"/>\n",
       "     <use xlink:href=\"#mde9751aa6a\" x=\"143.939962\" y=\"67.144791\" style=\"fill: #1f77b4; stroke: #1f77b4\"/>\n",
       "     <use xlink:href=\"#mde9751aa6a\" x=\"94.871951\" y=\"30.902379\" style=\"fill: #1f77b4; stroke: #1f77b4\"/>\n",
       "     <use xlink:href=\"#mde9751aa6a\" x=\"132.233899\" y=\"53.289445\" style=\"fill: #1f77b4; stroke: #1f77b4\"/>\n",
       "     <use xlink:href=\"#mde9751aa6a\" x=\"124.998093\" y=\"73.979516\" style=\"fill: #1f77b4; stroke: #1f77b4\"/>\n",
       "     <use xlink:href=\"#mde9751aa6a\" x=\"103.262611\" y=\"42.370108\" style=\"fill: #1f77b4; stroke: #1f77b4\"/>\n",
       "     <use xlink:href=\"#mde9751aa6a\" x=\"154.552679\" y=\"91.380281\" style=\"fill: #1f77b4; stroke: #1f77b4\"/>\n",
       "     <use xlink:href=\"#mde9751aa6a\" x=\"164.421017\" y=\"114.377216\" style=\"fill: #1f77b4; stroke: #1f77b4\"/>\n",
       "     <use xlink:href=\"#mde9751aa6a\" x=\"129.124264\" y=\"74.163165\" style=\"fill: #1f77b4; stroke: #1f77b4\"/>\n",
       "     <use xlink:href=\"#mde9751aa6a\" x=\"122.695489\" y=\"73.015963\" style=\"fill: #1f77b4; stroke: #1f77b4\"/>\n",
       "     <use xlink:href=\"#mde9751aa6a\" x=\"190.153078\" y=\"112.536923\" style=\"fill: #1f77b4; stroke: #1f77b4\"/>\n",
       "     <use xlink:href=\"#mde9751aa6a\" x=\"179.71301\" y=\"87.182202\" style=\"fill: #1f77b4; stroke: #1f77b4\"/>\n",
       "     <use xlink:href=\"#mde9751aa6a\" x=\"183.387877\" y=\"109.25435\" style=\"fill: #1f77b4; stroke: #1f77b4\"/>\n",
       "     <use xlink:href=\"#mde9751aa6a\" x=\"111.026113\" y=\"51.078556\" style=\"fill: #1f77b4; stroke: #1f77b4\"/>\n",
       "     <use xlink:href=\"#mde9751aa6a\" x=\"200.056126\" y=\"136.922727\" style=\"fill: #1f77b4; stroke: #1f77b4\"/>\n",
       "     <use xlink:href=\"#mde9751aa6a\" x=\"150.581273\" y=\"85.065937\" style=\"fill: #1f77b4; stroke: #1f77b4\"/>\n",
       "     <use xlink:href=\"#mde9751aa6a\" x=\"143.98588\" y=\"91.360797\" style=\"fill: #1f77b4; stroke: #1f77b4\"/>\n",
       "     <use xlink:href=\"#mde9751aa6a\" x=\"94.78015\" y=\"37.396799\" style=\"fill: #1f77b4; stroke: #1f77b4\"/>\n",
       "     <use xlink:href=\"#mde9751aa6a\" x=\"128.853029\" y=\"87.874645\" style=\"fill: #1f77b4; stroke: #1f77b4\"/>\n",
       "     <use xlink:href=\"#mde9751aa6a\" x=\"100.263178\" y=\"31.90729\" style=\"fill: #1f77b4; stroke: #1f77b4\"/>\n",
       "     <use xlink:href=\"#mde9751aa6a\" x=\"136.118074\" y=\"75.098374\" style=\"fill: #1f77b4; stroke: #1f77b4\"/>\n",
       "     <use xlink:href=\"#mde9751aa6a\" x=\"194.77872\" y=\"121.401989\" style=\"fill: #1f77b4; stroke: #1f77b4\"/>\n",
       "     <use xlink:href=\"#mde9751aa6a\" x=\"146.941511\" y=\"85.136965\" style=\"fill: #1f77b4; stroke: #1f77b4\"/>\n",
       "     <use xlink:href=\"#mde9751aa6a\" x=\"154.418904\" y=\"91.59897\" style=\"fill: #1f77b4; stroke: #1f77b4\"/>\n",
       "     <use xlink:href=\"#mde9751aa6a\" x=\"161.449612\" y=\"93.042435\" style=\"fill: #1f77b4; stroke: #1f77b4\"/>\n",
       "     <use xlink:href=\"#mde9751aa6a\" x=\"151.088855\" y=\"89.59484\" style=\"fill: #1f77b4; stroke: #1f77b4\"/>\n",
       "     <use xlink:href=\"#mde9751aa6a\" x=\"125.559609\" y=\"46.052249\" style=\"fill: #1f77b4; stroke: #1f77b4\"/>\n",
       "     <use xlink:href=\"#mde9751aa6a\" x=\"109.817312\" y=\"65.796971\" style=\"fill: #1f77b4; stroke: #1f77b4\"/>\n",
       "     <use xlink:href=\"#mde9751aa6a\" x=\"125.492394\" y=\"72.126334\" style=\"fill: #1f77b4; stroke: #1f77b4\"/>\n",
       "     <use xlink:href=\"#mde9751aa6a\" x=\"132.79843\" y=\"64.683366\" style=\"fill: #1f77b4; stroke: #1f77b4\"/>\n",
       "     <use xlink:href=\"#mde9751aa6a\" x=\"175.869753\" y=\"106.019276\" style=\"fill: #1f77b4; stroke: #1f77b4\"/>\n",
       "     <use xlink:href=\"#mde9751aa6a\" x=\"160.757405\" y=\"96.398297\" style=\"fill: #1f77b4; stroke: #1f77b4\"/>\n",
       "     <use xlink:href=\"#mde9751aa6a\" x=\"151.212134\" y=\"102.468335\" style=\"fill: #1f77b4; stroke: #1f77b4\"/>\n",
       "     <use xlink:href=\"#mde9751aa6a\" x=\"182.078867\" y=\"99.963918\" style=\"fill: #1f77b4; stroke: #1f77b4\"/>\n",
       "     <use xlink:href=\"#mde9751aa6a\" x=\"142.392578\" y=\"72.829359\" style=\"fill: #1f77b4; stroke: #1f77b4\"/>\n",
       "     <use xlink:href=\"#mde9751aa6a\" x=\"79.912105\" y=\"59.820678\" style=\"fill: #1f77b4; stroke: #1f77b4\"/>\n",
       "     <use xlink:href=\"#mde9751aa6a\" x=\"159.082786\" y=\"96.799483\" style=\"fill: #1f77b4; stroke: #1f77b4\"/>\n",
       "     <use xlink:href=\"#mde9751aa6a\" x=\"110.364353\" y=\"49.274808\" style=\"fill: #1f77b4; stroke: #1f77b4\"/>\n",
       "     <use xlink:href=\"#mde9751aa6a\" x=\"190.515356\" y=\"116.668342\" style=\"fill: #1f77b4; stroke: #1f77b4\"/>\n",
       "     <use xlink:href=\"#mde9751aa6a\" x=\"125.976325\" y=\"74.117532\" style=\"fill: #1f77b4; stroke: #1f77b4\"/>\n",
       "     <use xlink:href=\"#mde9751aa6a\" x=\"150.402648\" y=\"73.987445\" style=\"fill: #1f77b4; stroke: #1f77b4\"/>\n",
       "     <use xlink:href=\"#mde9751aa6a\" x=\"66.781383\" y=\"45.12312\" style=\"fill: #1f77b4; stroke: #1f77b4\"/>\n",
       "     <use xlink:href=\"#mde9751aa6a\" x=\"123.61456\" y=\"66.236662\" style=\"fill: #1f77b4; stroke: #1f77b4\"/>\n",
       "     <use xlink:href=\"#mde9751aa6a\" x=\"180.77775\" y=\"131.058233\" style=\"fill: #1f77b4; stroke: #1f77b4\"/>\n",
       "     <use xlink:href=\"#mde9751aa6a\" x=\"140.363519\" y=\"95.209269\" style=\"fill: #1f77b4; stroke: #1f77b4\"/>\n",
       "     <use xlink:href=\"#mde9751aa6a\" x=\"126.887849\" y=\"77.226852\" style=\"fill: #1f77b4; stroke: #1f77b4\"/>\n",
       "     <use xlink:href=\"#mde9751aa6a\" x=\"149.933891\" y=\"95.139393\" style=\"fill: #1f77b4; stroke: #1f77b4\"/>\n",
       "     <use xlink:href=\"#mde9751aa6a\" x=\"198.122179\" y=\"105.753036\" style=\"fill: #1f77b4; stroke: #1f77b4\"/>\n",
       "     <use xlink:href=\"#mde9751aa6a\" x=\"103.573414\" y=\"46.295151\" style=\"fill: #1f77b4; stroke: #1f77b4\"/>\n",
       "     <use xlink:href=\"#mde9751aa6a\" x=\"120.550954\" y=\"76.566332\" style=\"fill: #1f77b4; stroke: #1f77b4\"/>\n",
       "     <use xlink:href=\"#mde9751aa6a\" x=\"94.349127\" y=\"55.995168\" style=\"fill: #1f77b4; stroke: #1f77b4\"/>\n",
       "     <use xlink:href=\"#mde9751aa6a\" x=\"171.769955\" y=\"102.57801\" style=\"fill: #1f77b4; stroke: #1f77b4\"/>\n",
       "     <use xlink:href=\"#mde9751aa6a\" x=\"117.175432\" y=\"80.802367\" style=\"fill: #1f77b4; stroke: #1f77b4\"/>\n",
       "     <use xlink:href=\"#mde9751aa6a\" x=\"130.422097\" y=\"67.924888\" style=\"fill: #1f77b4; stroke: #1f77b4\"/>\n",
       "     <use xlink:href=\"#mde9751aa6a\" x=\"173.532715\" y=\"98.051578\" style=\"fill: #1f77b4; stroke: #1f77b4\"/>\n",
       "     <use xlink:href=\"#mde9751aa6a\" x=\"120.886419\" y=\"78.846787\" style=\"fill: #1f77b4; stroke: #1f77b4\"/>\n",
       "     <use xlink:href=\"#mde9751aa6a\" x=\"60.254896\" y=\"26.693417\" style=\"fill: #1f77b4; stroke: #1f77b4\"/>\n",
       "     <use xlink:href=\"#mde9751aa6a\" x=\"137.686255\" y=\"64.236785\" style=\"fill: #1f77b4; stroke: #1f77b4\"/>\n",
       "     <use xlink:href=\"#mde9751aa6a\" x=\"182.324945\" y=\"122.953418\" style=\"fill: #1f77b4; stroke: #1f77b4\"/>\n",
       "     <use xlink:href=\"#mde9751aa6a\" x=\"108.479334\" y=\"41.307255\" style=\"fill: #1f77b4; stroke: #1f77b4\"/>\n",
       "     <use xlink:href=\"#mde9751aa6a\" x=\"163.463362\" y=\"75.566406\" style=\"fill: #1f77b4; stroke: #1f77b4\"/>\n",
       "     <use xlink:href=\"#mde9751aa6a\" x=\"129.739348\" y=\"76.759418\" style=\"fill: #1f77b4; stroke: #1f77b4\"/>\n",
       "     <use xlink:href=\"#mde9751aa6a\" x=\"116.058288\" y=\"65.467101\" style=\"fill: #1f77b4; stroke: #1f77b4\"/>\n",
       "     <use xlink:href=\"#mde9751aa6a\" x=\"148.485297\" y=\"103.066217\" style=\"fill: #1f77b4; stroke: #1f77b4\"/>\n",
       "     <use xlink:href=\"#mde9751aa6a\" x=\"113.442955\" y=\"64.659029\" style=\"fill: #1f77b4; stroke: #1f77b4\"/>\n",
       "     <use xlink:href=\"#mde9751aa6a\" x=\"150.63841\" y=\"71.996563\" style=\"fill: #1f77b4; stroke: #1f77b4\"/>\n",
       "     <use xlink:href=\"#mde9751aa6a\" x=\"130.33972\" y=\"88.318278\" style=\"fill: #1f77b4; stroke: #1f77b4\"/>\n",
       "     <use xlink:href=\"#mde9751aa6a\" x=\"121.125646\" y=\"46.608421\" style=\"fill: #1f77b4; stroke: #1f77b4\"/>\n",
       "     <use xlink:href=\"#mde9751aa6a\" x=\"137.328217\" y=\"98.915672\" style=\"fill: #1f77b4; stroke: #1f77b4\"/>\n",
       "     <use xlink:href=\"#mde9751aa6a\" x=\"163.049787\" y=\"84.579376\" style=\"fill: #1f77b4; stroke: #1f77b4\"/>\n",
       "     <use xlink:href=\"#mde9751aa6a\" x=\"157.69301\" y=\"99.40739\" style=\"fill: #1f77b4; stroke: #1f77b4\"/>\n",
       "     <use xlink:href=\"#mde9751aa6a\" x=\"154.142752\" y=\"96.82022\" style=\"fill: #1f77b4; stroke: #1f77b4\"/>\n",
       "     <use xlink:href=\"#mde9751aa6a\" x=\"154.646805\" y=\"75.184124\" style=\"fill: #1f77b4; stroke: #1f77b4\"/>\n",
       "     <use xlink:href=\"#mde9751aa6a\" x=\"78.589221\" y=\"62.450368\" style=\"fill: #1f77b4; stroke: #1f77b4\"/>\n",
       "     <use xlink:href=\"#mde9751aa6a\" x=\"93.073086\" y=\"46.132018\" style=\"fill: #1f77b4; stroke: #1f77b4\"/>\n",
       "     <use xlink:href=\"#mde9751aa6a\" x=\"182.942875\" y=\"118.360691\" style=\"fill: #1f77b4; stroke: #1f77b4\"/>\n",
       "     <use xlink:href=\"#mde9751aa6a\" x=\"164.220727\" y=\"80.318404\" style=\"fill: #1f77b4; stroke: #1f77b4\"/>\n",
       "     <use xlink:href=\"#mde9751aa6a\" x=\"127.031531\" y=\"72.704805\" style=\"fill: #1f77b4; stroke: #1f77b4\"/>\n",
       "     <use xlink:href=\"#mde9751aa6a\" x=\"85.488865\" y=\"42.164649\" style=\"fill: #1f77b4; stroke: #1f77b4\"/>\n",
       "     <use xlink:href=\"#mde9751aa6a\" x=\"167.327542\" y=\"99.421329\" style=\"fill: #1f77b4; stroke: #1f77b4\"/>\n",
       "     <use xlink:href=\"#mde9751aa6a\" x=\"116.90495\" y=\"53.741012\" style=\"fill: #1f77b4; stroke: #1f77b4\"/>\n",
       "     <use xlink:href=\"#mde9751aa6a\" x=\"128.563712\" y=\"65.697621\" style=\"fill: #1f77b4; stroke: #1f77b4\"/>\n",
       "     <use xlink:href=\"#mde9751aa6a\" x=\"156.867427\" y=\"97.616449\" style=\"fill: #1f77b4; stroke: #1f77b4\"/>\n",
       "     <use xlink:href=\"#mde9751aa6a\" x=\"99.011926\" y=\"52.769429\" style=\"fill: #1f77b4; stroke: #1f77b4\"/>\n",
       "     <use xlink:href=\"#mde9751aa6a\" x=\"134.039357\" y=\"71.52932\" style=\"fill: #1f77b4; stroke: #1f77b4\"/>\n",
       "     <use xlink:href=\"#mde9751aa6a\" x=\"129.625444\" y=\"64.844464\" style=\"fill: #1f77b4; stroke: #1f77b4\"/>\n",
       "     <use xlink:href=\"#mde9751aa6a\" x=\"129.453817\" y=\"98.225968\" style=\"fill: #1f77b4; stroke: #1f77b4\"/>\n",
       "     <use xlink:href=\"#mde9751aa6a\" x=\"128.283607\" y=\"56.449346\" style=\"fill: #1f77b4; stroke: #1f77b4\"/>\n",
       "     <use xlink:href=\"#mde9751aa6a\" x=\"160.307599\" y=\"92.20468\" style=\"fill: #1f77b4; stroke: #1f77b4\"/>\n",
       "     <use xlink:href=\"#mde9751aa6a\" x=\"123.996696\" y=\"56.165473\" style=\"fill: #1f77b4; stroke: #1f77b4\"/>\n",
       "     <use xlink:href=\"#mde9751aa6a\" x=\"159.64716\" y=\"102.133952\" style=\"fill: #1f77b4; stroke: #1f77b4\"/>\n",
       "     <use xlink:href=\"#mde9751aa6a\" x=\"191.339612\" y=\"120.144536\" style=\"fill: #1f77b4; stroke: #1f77b4\"/>\n",
       "     <use xlink:href=\"#mde9751aa6a\" x=\"167.047807\" y=\"96.823997\" style=\"fill: #1f77b4; stroke: #1f77b4\"/>\n",
       "     <use xlink:href=\"#mde9751aa6a\" x=\"141.760027\" y=\"87.979854\" style=\"fill: #1f77b4; stroke: #1f77b4\"/>\n",
       "     <use xlink:href=\"#mde9751aa6a\" x=\"117.668887\" y=\"77.074553\" style=\"fill: #1f77b4; stroke: #1f77b4\"/>\n",
       "     <use xlink:href=\"#mde9751aa6a\" x=\"108.531314\" y=\"77.08481\" style=\"fill: #1f77b4; stroke: #1f77b4\"/>\n",
       "     <use xlink:href=\"#mde9751aa6a\" x=\"89.860561\" y=\"38.608073\" style=\"fill: #1f77b4; stroke: #1f77b4\"/>\n",
       "     <use xlink:href=\"#mde9751aa6a\" x=\"134.364187\" y=\"89.519204\" style=\"fill: #1f77b4; stroke: #1f77b4\"/>\n",
       "     <use xlink:href=\"#mde9751aa6a\" x=\"110.857611\" y=\"62.231534\" style=\"fill: #1f77b4; stroke: #1f77b4\"/>\n",
       "     <use xlink:href=\"#mde9751aa6a\" x=\"132.144259\" y=\"81.864575\" style=\"fill: #1f77b4; stroke: #1f77b4\"/>\n",
       "     <use xlink:href=\"#mde9751aa6a\" x=\"149.948871\" y=\"92.493937\" style=\"fill: #1f77b4; stroke: #1f77b4\"/>\n",
       "     <use xlink:href=\"#mde9751aa6a\" x=\"159.549915\" y=\"83.42271\" style=\"fill: #1f77b4; stroke: #1f77b4\"/>\n",
       "     <use xlink:href=\"#mde9751aa6a\" x=\"105.400482\" y=\"57.448119\" style=\"fill: #1f77b4; stroke: #1f77b4\"/>\n",
       "     <use xlink:href=\"#mde9751aa6a\" x=\"129.30269\" y=\"51.020122\" style=\"fill: #1f77b4; stroke: #1f77b4\"/>\n",
       "     <use xlink:href=\"#mde9751aa6a\" x=\"148.996039\" y=\"82.746542\" style=\"fill: #1f77b4; stroke: #1f77b4\"/>\n",
       "     <use xlink:href=\"#mde9751aa6a\" x=\"196.528086\" y=\"101.822091\" style=\"fill: #1f77b4; stroke: #1f77b4\"/>\n",
       "     <use xlink:href=\"#mde9751aa6a\" x=\"102.270989\" y=\"49.732993\" style=\"fill: #1f77b4; stroke: #1f77b4\"/>\n",
       "     <use xlink:href=\"#mde9751aa6a\" x=\"149.923131\" y=\"77.21824\" style=\"fill: #1f77b4; stroke: #1f77b4\"/>\n",
       "     <use xlink:href=\"#mde9751aa6a\" x=\"142.389475\" y=\"96.478133\" style=\"fill: #1f77b4; stroke: #1f77b4\"/>\n",
       "     <use xlink:href=\"#mde9751aa6a\" x=\"185.311666\" y=\"117.617502\" style=\"fill: #1f77b4; stroke: #1f77b4\"/>\n",
       "     <use xlink:href=\"#mde9751aa6a\" x=\"80.194668\" y=\"40.218143\" style=\"fill: #1f77b4; stroke: #1f77b4\"/>\n",
       "     <use xlink:href=\"#mde9751aa6a\" x=\"129.513662\" y=\"70.730015\" style=\"fill: #1f77b4; stroke: #1f77b4\"/>\n",
       "     <use xlink:href=\"#mde9751aa6a\" x=\"145.350135\" y=\"83.624972\" style=\"fill: #1f77b4; stroke: #1f77b4\"/>\n",
       "     <use xlink:href=\"#mde9751aa6a\" x=\"111.864134\" y=\"47.280567\" style=\"fill: #1f77b4; stroke: #1f77b4\"/>\n",
       "     <use xlink:href=\"#mde9751aa6a\" x=\"124.721125\" y=\"58.158422\" style=\"fill: #1f77b4; stroke: #1f77b4\"/>\n",
       "     <use xlink:href=\"#mde9751aa6a\" x=\"143.751803\" y=\"84.425301\" style=\"fill: #1f77b4; stroke: #1f77b4\"/>\n",
       "     <use xlink:href=\"#mde9751aa6a\" x=\"90.271988\" y=\"34.554104\" style=\"fill: #1f77b4; stroke: #1f77b4\"/>\n",
       "     <use xlink:href=\"#mde9751aa6a\" x=\"125.47813\" y=\"64.858796\" style=\"fill: #1f77b4; stroke: #1f77b4\"/>\n",
       "     <use xlink:href=\"#mde9751aa6a\" x=\"132.531545\" y=\"76.886609\" style=\"fill: #1f77b4; stroke: #1f77b4\"/>\n",
       "     <use xlink:href=\"#mde9751aa6a\" x=\"161.2477\" y=\"97.841277\" style=\"fill: #1f77b4; stroke: #1f77b4\"/>\n",
       "     <use xlink:href=\"#mde9751aa6a\" x=\"151.614884\" y=\"96.370984\" style=\"fill: #1f77b4; stroke: #1f77b4\"/>\n",
       "     <use xlink:href=\"#mde9751aa6a\" x=\"128.950985\" y=\"60.135552\" style=\"fill: #1f77b4; stroke: #1f77b4\"/>\n",
       "     <use xlink:href=\"#mde9751aa6a\" x=\"133.17975\" y=\"108.627721\" style=\"fill: #1f77b4; stroke: #1f77b4\"/>\n",
       "     <use xlink:href=\"#mde9751aa6a\" x=\"99.589203\" y=\"44.255011\" style=\"fill: #1f77b4; stroke: #1f77b4\"/>\n",
       "     <use xlink:href=\"#mde9751aa6a\" x=\"105.269207\" y=\"45.397256\" style=\"fill: #1f77b4; stroke: #1f77b4\"/>\n",
       "     <use xlink:href=\"#mde9751aa6a\" x=\"147.354373\" y=\"69.586206\" style=\"fill: #1f77b4; stroke: #1f77b4\"/>\n",
       "     <use xlink:href=\"#mde9751aa6a\" x=\"172.420459\" y=\"89.949911\" style=\"fill: #1f77b4; stroke: #1f77b4\"/>\n",
       "     <use xlink:href=\"#mde9751aa6a\" x=\"110.249949\" y=\"80.724177\" style=\"fill: #1f77b4; stroke: #1f77b4\"/>\n",
       "     <use xlink:href=\"#mde9751aa6a\" x=\"169.996433\" y=\"86.94465\" style=\"fill: #1f77b4; stroke: #1f77b4\"/>\n",
       "     <use xlink:href=\"#mde9751aa6a\" x=\"140.803825\" y=\"64.658959\" style=\"fill: #1f77b4; stroke: #1f77b4\"/>\n",
       "     <use xlink:href=\"#mde9751aa6a\" x=\"113.629543\" y=\"42.092213\" style=\"fill: #1f77b4; stroke: #1f77b4\"/>\n",
       "     <use xlink:href=\"#mde9751aa6a\" x=\"147.443843\" y=\"95.721162\" style=\"fill: #1f77b4; stroke: #1f77b4\"/>\n",
       "     <use xlink:href=\"#mde9751aa6a\" x=\"160.679267\" y=\"91.914926\" style=\"fill: #1f77b4; stroke: #1f77b4\"/>\n",
       "     <use xlink:href=\"#mde9751aa6a\" x=\"150.564845\" y=\"63.105769\" style=\"fill: #1f77b4; stroke: #1f77b4\"/>\n",
       "     <use xlink:href=\"#mde9751aa6a\" x=\"138.622033\" y=\"87.004203\" style=\"fill: #1f77b4; stroke: #1f77b4\"/>\n",
       "     <use xlink:href=\"#mde9751aa6a\" x=\"123.174936\" y=\"43.446256\" style=\"fill: #1f77b4; stroke: #1f77b4\"/>\n",
       "     <use xlink:href=\"#mde9751aa6a\" x=\"174.11606\" y=\"94.461372\" style=\"fill: #1f77b4; stroke: #1f77b4\"/>\n",
       "     <use xlink:href=\"#mde9751aa6a\" x=\"149.967482\" y=\"100.873974\" style=\"fill: #1f77b4; stroke: #1f77b4\"/>\n",
       "     <use xlink:href=\"#mde9751aa6a\" x=\"160.813584\" y=\"90.611813\" style=\"fill: #1f77b4; stroke: #1f77b4\"/>\n",
       "     <use xlink:href=\"#mde9751aa6a\" x=\"152.821819\" y=\"87.807475\" style=\"fill: #1f77b4; stroke: #1f77b4\"/>\n",
       "     <use xlink:href=\"#mde9751aa6a\" x=\"178.220059\" y=\"99.099202\" style=\"fill: #1f77b4; stroke: #1f77b4\"/>\n",
       "     <use xlink:href=\"#mde9751aa6a\" x=\"121.711738\" y=\"52.299738\" style=\"fill: #1f77b4; stroke: #1f77b4\"/>\n",
       "     <use xlink:href=\"#mde9751aa6a\" x=\"112.885022\" y=\"52.430929\" style=\"fill: #1f77b4; stroke: #1f77b4\"/>\n",
       "     <use xlink:href=\"#mde9751aa6a\" x=\"197.432389\" y=\"116.241082\" style=\"fill: #1f77b4; stroke: #1f77b4\"/>\n",
       "     <use xlink:href=\"#mde9751aa6a\" x=\"177.809135\" y=\"98.619052\" style=\"fill: #1f77b4; stroke: #1f77b4\"/>\n",
       "     <use xlink:href=\"#mde9751aa6a\" x=\"120.696422\" y=\"76.364483\" style=\"fill: #1f77b4; stroke: #1f77b4\"/>\n",
       "     <use xlink:href=\"#mde9751aa6a\" x=\"136.73004\" y=\"74.119712\" style=\"fill: #1f77b4; stroke: #1f77b4\"/>\n",
       "     <use xlink:href=\"#mde9751aa6a\" x=\"155.452282\" y=\"84.175103\" style=\"fill: #1f77b4; stroke: #1f77b4\"/>\n",
       "     <use xlink:href=\"#mde9751aa6a\" x=\"132.657207\" y=\"83.409723\" style=\"fill: #1f77b4; stroke: #1f77b4\"/>\n",
       "     <use xlink:href=\"#mde9751aa6a\" x=\"188.969519\" y=\"119.685805\" style=\"fill: #1f77b4; stroke: #1f77b4\"/>\n",
       "     <use xlink:href=\"#mde9751aa6a\" x=\"94.168209\" y=\"40.185787\" style=\"fill: #1f77b4; stroke: #1f77b4\"/>\n",
       "     <use xlink:href=\"#mde9751aa6a\" x=\"113.953564\" y=\"73.302947\" style=\"fill: #1f77b4; stroke: #1f77b4\"/>\n",
       "     <use xlink:href=\"#mde9751aa6a\" x=\"125.296581\" y=\"70.603416\" style=\"fill: #1f77b4; stroke: #1f77b4\"/>\n",
       "     <use xlink:href=\"#mde9751aa6a\" x=\"199.800697\" y=\"114.640924\" style=\"fill: #1f77b4; stroke: #1f77b4\"/>\n",
       "     <use xlink:href=\"#mde9751aa6a\" x=\"205.08793\" y=\"109.88921\" style=\"fill: #1f77b4; stroke: #1f77b4\"/>\n",
       "     <use xlink:href=\"#mde9751aa6a\" x=\"152.207149\" y=\"104.488155\" style=\"fill: #1f77b4; stroke: #1f77b4\"/>\n",
       "     <use xlink:href=\"#mde9751aa6a\" x=\"101.321367\" y=\"74.483013\" style=\"fill: #1f77b4; stroke: #1f77b4\"/>\n",
       "     <use xlink:href=\"#mde9751aa6a\" x=\"131.708124\" y=\"71.28837\" style=\"fill: #1f77b4; stroke: #1f77b4\"/>\n",
       "     <use xlink:href=\"#mde9751aa6a\" x=\"119.752565\" y=\"73.216837\" style=\"fill: #1f77b4; stroke: #1f77b4\"/>\n",
       "     <use xlink:href=\"#mde9751aa6a\" x=\"131.300069\" y=\"69.417341\" style=\"fill: #1f77b4; stroke: #1f77b4\"/>\n",
       "     <use xlink:href=\"#mde9751aa6a\" x=\"136.111458\" y=\"80.798119\" style=\"fill: #1f77b4; stroke: #1f77b4\"/>\n",
       "     <use xlink:href=\"#mde9751aa6a\" x=\"147.523318\" y=\"79.159919\" style=\"fill: #1f77b4; stroke: #1f77b4\"/>\n",
       "     <use xlink:href=\"#mde9751aa6a\" x=\"144.196022\" y=\"73.674638\" style=\"fill: #1f77b4; stroke: #1f77b4\"/>\n",
       "     <use xlink:href=\"#mde9751aa6a\" x=\"136.763034\" y=\"83.64171\" style=\"fill: #1f77b4; stroke: #1f77b4\"/>\n",
       "     <use xlink:href=\"#mde9751aa6a\" x=\"121.609319\" y=\"63.999483\" style=\"fill: #1f77b4; stroke: #1f77b4\"/>\n",
       "     <use xlink:href=\"#mde9751aa6a\" x=\"89.922348\" y=\"25.567063\" style=\"fill: #1f77b4; stroke: #1f77b4\"/>\n",
       "     <use xlink:href=\"#mde9751aa6a\" x=\"125.550549\" y=\"48.08716\" style=\"fill: #1f77b4; stroke: #1f77b4\"/>\n",
       "     <use xlink:href=\"#mde9751aa6a\" x=\"120.530989\" y=\"61.623516\" style=\"fill: #1f77b4; stroke: #1f77b4\"/>\n",
       "     <use xlink:href=\"#mde9751aa6a\" x=\"157.027617\" y=\"85.632615\" style=\"fill: #1f77b4; stroke: #1f77b4\"/>\n",
       "     <use xlink:href=\"#mde9751aa6a\" x=\"129.486126\" y=\"70.800823\" style=\"fill: #1f77b4; stroke: #1f77b4\"/>\n",
       "     <use xlink:href=\"#mde9751aa6a\" x=\"157.418856\" y=\"95.124902\" style=\"fill: #1f77b4; stroke: #1f77b4\"/>\n",
       "     <use xlink:href=\"#mde9751aa6a\" x=\"161.936006\" y=\"90.0385\" style=\"fill: #1f77b4; stroke: #1f77b4\"/>\n",
       "     <use xlink:href=\"#mde9751aa6a\" x=\"158.174934\" y=\"90.036529\" style=\"fill: #1f77b4; stroke: #1f77b4\"/>\n",
       "     <use xlink:href=\"#mde9751aa6a\" x=\"129.873771\" y=\"68.282281\" style=\"fill: #1f77b4; stroke: #1f77b4\"/>\n",
       "     <use xlink:href=\"#mde9751aa6a\" x=\"121.463624\" y=\"56.620016\" style=\"fill: #1f77b4; stroke: #1f77b4\"/>\n",
       "     <use xlink:href=\"#mde9751aa6a\" x=\"145.669475\" y=\"86.329331\" style=\"fill: #1f77b4; stroke: #1f77b4\"/>\n",
       "     <use xlink:href=\"#mde9751aa6a\" x=\"153.563616\" y=\"96.31671\" style=\"fill: #1f77b4; stroke: #1f77b4\"/>\n",
       "     <use xlink:href=\"#mde9751aa6a\" x=\"154.93959\" y=\"90.030324\" style=\"fill: #1f77b4; stroke: #1f77b4\"/>\n",
       "     <use xlink:href=\"#mde9751aa6a\" x=\"150.62642\" y=\"88.462506\" style=\"fill: #1f77b4; stroke: #1f77b4\"/>\n",
       "     <use xlink:href=\"#mde9751aa6a\" x=\"68.323214\" y=\"27.228559\" style=\"fill: #1f77b4; stroke: #1f77b4\"/>\n",
       "     <use xlink:href=\"#mde9751aa6a\" x=\"156.095595\" y=\"91.47213\" style=\"fill: #1f77b4; stroke: #1f77b4\"/>\n",
       "     <use xlink:href=\"#mde9751aa6a\" x=\"124.209571\" y=\"80.3983\" style=\"fill: #1f77b4; stroke: #1f77b4\"/>\n",
       "     <use xlink:href=\"#mde9751aa6a\" x=\"109.516212\" y=\"60.369283\" style=\"fill: #1f77b4; stroke: #1f77b4\"/>\n",
       "     <use xlink:href=\"#mde9751aa6a\" x=\"153.051298\" y=\"90.619472\" style=\"fill: #1f77b4; stroke: #1f77b4\"/>\n",
       "     <use xlink:href=\"#mde9751aa6a\" x=\"125.069411\" y=\"63.203425\" style=\"fill: #1f77b4; stroke: #1f77b4\"/>\n",
       "     <use xlink:href=\"#mde9751aa6a\" x=\"143.819401\" y=\"61.241025\" style=\"fill: #1f77b4; stroke: #1f77b4\"/>\n",
       "     <use xlink:href=\"#mde9751aa6a\" x=\"114.575107\" y=\"79.995666\" style=\"fill: #1f77b4; stroke: #1f77b4\"/>\n",
       "     <use xlink:href=\"#mde9751aa6a\" x=\"198.204448\" y=\"110.06005\" style=\"fill: #1f77b4; stroke: #1f77b4\"/>\n",
       "     <use xlink:href=\"#mde9751aa6a\" x=\"150.597812\" y=\"78.988659\" style=\"fill: #1f77b4; stroke: #1f77b4\"/>\n",
       "     <use xlink:href=\"#mde9751aa6a\" x=\"179.415635\" y=\"108.679073\" style=\"fill: #1f77b4; stroke: #1f77b4\"/>\n",
       "     <use xlink:href=\"#mde9751aa6a\" x=\"204.65839\" y=\"115.883071\" style=\"fill: #1f77b4; stroke: #1f77b4\"/>\n",
       "     <use xlink:href=\"#mde9751aa6a\" x=\"135.280519\" y=\"63.196633\" style=\"fill: #1f77b4; stroke: #1f77b4\"/>\n",
       "     <use xlink:href=\"#mde9751aa6a\" x=\"144.002816\" y=\"72.751143\" style=\"fill: #1f77b4; stroke: #1f77b4\"/>\n",
       "     <use xlink:href=\"#mde9751aa6a\" x=\"194.961665\" y=\"104.018078\" style=\"fill: #1f77b4; stroke: #1f77b4\"/>\n",
       "     <use xlink:href=\"#mde9751aa6a\" x=\"108.133152\" y=\"66.311871\" style=\"fill: #1f77b4; stroke: #1f77b4\"/>\n",
       "     <use xlink:href=\"#mde9751aa6a\" x=\"157.490886\" y=\"90.491389\" style=\"fill: #1f77b4; stroke: #1f77b4\"/>\n",
       "     <use xlink:href=\"#mde9751aa6a\" x=\"108.42182\" y=\"64.617037\" style=\"fill: #1f77b4; stroke: #1f77b4\"/>\n",
       "     <use xlink:href=\"#mde9751aa6a\" x=\"122.674927\" y=\"66.831373\" style=\"fill: #1f77b4; stroke: #1f77b4\"/>\n",
       "     <use xlink:href=\"#mde9751aa6a\" x=\"161.605854\" y=\"88.645764\" style=\"fill: #1f77b4; stroke: #1f77b4\"/>\n",
       "     <use xlink:href=\"#mde9751aa6a\" x=\"193.583893\" y=\"118.336137\" style=\"fill: #1f77b4; stroke: #1f77b4\"/>\n",
       "     <use xlink:href=\"#mde9751aa6a\" x=\"96.503649\" y=\"41.55721\" style=\"fill: #1f77b4; stroke: #1f77b4\"/>\n",
       "     <use xlink:href=\"#mde9751aa6a\" x=\"136.291795\" y=\"94.960098\" style=\"fill: #1f77b4; stroke: #1f77b4\"/>\n",
       "     <use xlink:href=\"#mde9751aa6a\" x=\"154.044838\" y=\"76.533725\" style=\"fill: #1f77b4; stroke: #1f77b4\"/>\n",
       "     <use xlink:href=\"#mde9751aa6a\" x=\"122.710726\" y=\"73.12882\" style=\"fill: #1f77b4; stroke: #1f77b4\"/>\n",
       "     <use xlink:href=\"#mde9751aa6a\" x=\"94.534017\" y=\"30.424378\" style=\"fill: #1f77b4; stroke: #1f77b4\"/>\n",
       "     <use xlink:href=\"#mde9751aa6a\" x=\"90.353538\" y=\"69.572963\" style=\"fill: #1f77b4; stroke: #1f77b4\"/>\n",
       "     <use xlink:href=\"#mde9751aa6a\" x=\"128.12512\" y=\"81.700075\" style=\"fill: #1f77b4; stroke: #1f77b4\"/>\n",
       "     <use xlink:href=\"#mde9751aa6a\" x=\"178.920504\" y=\"94.459506\" style=\"fill: #1f77b4; stroke: #1f77b4\"/>\n",
       "     <use xlink:href=\"#mde9751aa6a\" x=\"140.322742\" y=\"88.451484\" style=\"fill: #1f77b4; stroke: #1f77b4\"/>\n",
       "     <use xlink:href=\"#mde9751aa6a\" x=\"145.864613\" y=\"98.645716\" style=\"fill: #1f77b4; stroke: #1f77b4\"/>\n",
       "     <use xlink:href=\"#mde9751aa6a\" x=\"131.780871\" y=\"64.353104\" style=\"fill: #1f77b4; stroke: #1f77b4\"/>\n",
       "     <use xlink:href=\"#mde9751aa6a\" x=\"151.736754\" y=\"81.342778\" style=\"fill: #1f77b4; stroke: #1f77b4\"/>\n",
       "     <use xlink:href=\"#mde9751aa6a\" x=\"145.053662\" y=\"60.295458\" style=\"fill: #1f77b4; stroke: #1f77b4\"/>\n",
       "     <use xlink:href=\"#mde9751aa6a\" x=\"122.992496\" y=\"77.158244\" style=\"fill: #1f77b4; stroke: #1f77b4\"/>\n",
       "     <use xlink:href=\"#mde9751aa6a\" x=\"152.393272\" y=\"71.351512\" style=\"fill: #1f77b4; stroke: #1f77b4\"/>\n",
       "     <use xlink:href=\"#mde9751aa6a\" x=\"130.309726\" y=\"59.969386\" style=\"fill: #1f77b4; stroke: #1f77b4\"/>\n",
       "     <use xlink:href=\"#mde9751aa6a\" x=\"123.50982\" y=\"81.64064\" style=\"fill: #1f77b4; stroke: #1f77b4\"/>\n",
       "     <use xlink:href=\"#mde9751aa6a\" x=\"144.626247\" y=\"90.273803\" style=\"fill: #1f77b4; stroke: #1f77b4\"/>\n",
       "     <use xlink:href=\"#mde9751aa6a\" x=\"132.833436\" y=\"62.016954\" style=\"fill: #1f77b4; stroke: #1f77b4\"/>\n",
       "     <use xlink:href=\"#mde9751aa6a\" x=\"131.904232\" y=\"78.195691\" style=\"fill: #1f77b4; stroke: #1f77b4\"/>\n",
       "     <use xlink:href=\"#mde9751aa6a\" x=\"150.836044\" y=\"90.270398\" style=\"fill: #1f77b4; stroke: #1f77b4\"/>\n",
       "     <use xlink:href=\"#mde9751aa6a\" x=\"141.367972\" y=\"92.772768\" style=\"fill: #1f77b4; stroke: #1f77b4\"/>\n",
       "     <use xlink:href=\"#mde9751aa6a\" x=\"129.382328\" y=\"78.223039\" style=\"fill: #1f77b4; stroke: #1f77b4\"/>\n",
       "     <use xlink:href=\"#mde9751aa6a\" x=\"179.477012\" y=\"120.381758\" style=\"fill: #1f77b4; stroke: #1f77b4\"/>\n",
       "     <use xlink:href=\"#mde9751aa6a\" x=\"97.017848\" y=\"52.223847\" style=\"fill: #1f77b4; stroke: #1f77b4\"/>\n",
       "     <use xlink:href=\"#mde9751aa6a\" x=\"70.421152\" y=\"23.307239\" style=\"fill: #1f77b4; stroke: #1f77b4\"/>\n",
       "     <use xlink:href=\"#mde9751aa6a\" x=\"77.877252\" y=\"31.736597\" style=\"fill: #1f77b4; stroke: #1f77b4\"/>\n",
       "     <use xlink:href=\"#mde9751aa6a\" x=\"111.384479\" y=\"72.707791\" style=\"fill: #1f77b4; stroke: #1f77b4\"/>\n",
       "     <use xlink:href=\"#mde9751aa6a\" x=\"161.985115\" y=\"77.151225\" style=\"fill: #1f77b4; stroke: #1f77b4\"/>\n",
       "     <use xlink:href=\"#mde9751aa6a\" x=\"139.325911\" y=\"83.258109\" style=\"fill: #1f77b4; stroke: #1f77b4\"/>\n",
       "     <use xlink:href=\"#mde9751aa6a\" x=\"121.640449\" y=\"56.271194\" style=\"fill: #1f77b4; stroke: #1f77b4\"/>\n",
       "     <use xlink:href=\"#mde9751aa6a\" x=\"170.672401\" y=\"86.482091\" style=\"fill: #1f77b4; stroke: #1f77b4\"/>\n",
       "     <use xlink:href=\"#mde9751aa6a\" x=\"152.605137\" y=\"103.491089\" style=\"fill: #1f77b4; stroke: #1f77b4\"/>\n",
       "     <use xlink:href=\"#mde9751aa6a\" x=\"128.358615\" y=\"65.009058\" style=\"fill: #1f77b4; stroke: #1f77b4\"/>\n",
       "     <use xlink:href=\"#mde9751aa6a\" x=\"112.12462\" y=\"50.995477\" style=\"fill: #1f77b4; stroke: #1f77b4\"/>\n",
       "     <use xlink:href=\"#mde9751aa6a\" x=\"149.368172\" y=\"73.889016\" style=\"fill: #1f77b4; stroke: #1f77b4\"/>\n",
       "     <use xlink:href=\"#mde9751aa6a\" x=\"162.557165\" y=\"88.765707\" style=\"fill: #1f77b4; stroke: #1f77b4\"/>\n",
       "     <use xlink:href=\"#mde9751aa6a\" x=\"109.495148\" y=\"45.410546\" style=\"fill: #1f77b4; stroke: #1f77b4\"/>\n",
       "     <use xlink:href=\"#mde9751aa6a\" x=\"196.718584\" y=\"123.966089\" style=\"fill: #1f77b4; stroke: #1f77b4\"/>\n",
       "     <use xlink:href=\"#mde9751aa6a\" x=\"125.347029\" y=\"75.052765\" style=\"fill: #1f77b4; stroke: #1f77b4\"/>\n",
       "     <use xlink:href=\"#mde9751aa6a\" x=\"142.864952\" y=\"80.501018\" style=\"fill: #1f77b4; stroke: #1f77b4\"/>\n",
       "     <use xlink:href=\"#mde9751aa6a\" x=\"90.460733\" y=\"31.172409\" style=\"fill: #1f77b4; stroke: #1f77b4\"/>\n",
       "     <use xlink:href=\"#mde9751aa6a\" x=\"154.564667\" y=\"89.655525\" style=\"fill: #1f77b4; stroke: #1f77b4\"/>\n",
       "     <use xlink:href=\"#mde9751aa6a\" x=\"108.26459\" y=\"48.337902\" style=\"fill: #1f77b4; stroke: #1f77b4\"/>\n",
       "     <use xlink:href=\"#mde9751aa6a\" x=\"141.795003\" y=\"84.74345\" style=\"fill: #1f77b4; stroke: #1f77b4\"/>\n",
       "     <use xlink:href=\"#mde9751aa6a\" x=\"138.624775\" y=\"80.397429\" style=\"fill: #1f77b4; stroke: #1f77b4\"/>\n",
       "     <use xlink:href=\"#mde9751aa6a\" x=\"126.312554\" y=\"65.142943\" style=\"fill: #1f77b4; stroke: #1f77b4\"/>\n",
       "     <use xlink:href=\"#mde9751aa6a\" x=\"146.537178\" y=\"111.019721\" style=\"fill: #1f77b4; stroke: #1f77b4\"/>\n",
       "     <use xlink:href=\"#mde9751aa6a\" x=\"120.23347\" y=\"64.141287\" style=\"fill: #1f77b4; stroke: #1f77b4\"/>\n",
       "     <use xlink:href=\"#mde9751aa6a\" x=\"148.591332\" y=\"95.880167\" style=\"fill: #1f77b4; stroke: #1f77b4\"/>\n",
       "     <use xlink:href=\"#mde9751aa6a\" x=\"140.28653\" y=\"82.092528\" style=\"fill: #1f77b4; stroke: #1f77b4\"/>\n",
       "     <use xlink:href=\"#mde9751aa6a\" x=\"130.075302\" y=\"81.973205\" style=\"fill: #1f77b4; stroke: #1f77b4\"/>\n",
       "     <use xlink:href=\"#mde9751aa6a\" x=\"120.581477\" y=\"68.345684\" style=\"fill: #1f77b4; stroke: #1f77b4\"/>\n",
       "     <use xlink:href=\"#mde9751aa6a\" x=\"130.705915\" y=\"76.522258\" style=\"fill: #1f77b4; stroke: #1f77b4\"/>\n",
       "     <use xlink:href=\"#mde9751aa6a\" x=\"153.752672\" y=\"90.094791\" style=\"fill: #1f77b4; stroke: #1f77b4\"/>\n",
       "     <use xlink:href=\"#mde9751aa6a\" x=\"97.708428\" y=\"54.323676\" style=\"fill: #1f77b4; stroke: #1f77b4\"/>\n",
       "     <use xlink:href=\"#mde9751aa6a\" x=\"133.876477\" y=\"78.336332\" style=\"fill: #1f77b4; stroke: #1f77b4\"/>\n",
       "     <use xlink:href=\"#mde9751aa6a\" x=\"86.223446\" y=\"44.785773\" style=\"fill: #1f77b4; stroke: #1f77b4\"/>\n",
       "     <use xlink:href=\"#mde9751aa6a\" x=\"151.857887\" y=\"88.995487\" style=\"fill: #1f77b4; stroke: #1f77b4\"/>\n",
       "     <use xlink:href=\"#mde9751aa6a\" x=\"53.148032\" y=\"29.554754\" style=\"fill: #1f77b4; stroke: #1f77b4\"/>\n",
       "     <use xlink:href=\"#mde9751aa6a\" x=\"147.022233\" y=\"74.097135\" style=\"fill: #1f77b4; stroke: #1f77b4\"/>\n",
       "     <use xlink:href=\"#mde9751aa6a\" x=\"145.235771\" y=\"73.912503\" style=\"fill: #1f77b4; stroke: #1f77b4\"/>\n",
       "     <use xlink:href=\"#mde9751aa6a\" x=\"169.408987\" y=\"115.364843\" style=\"fill: #1f77b4; stroke: #1f77b4\"/>\n",
       "     <use xlink:href=\"#mde9751aa6a\" x=\"127.895421\" y=\"90.993042\" style=\"fill: #1f77b4; stroke: #1f77b4\"/>\n",
       "     <use xlink:href=\"#mde9751aa6a\" x=\"128.319864\" y=\"75.498706\" style=\"fill: #1f77b4; stroke: #1f77b4\"/>\n",
       "     <use xlink:href=\"#mde9751aa6a\" x=\"143.704442\" y=\"88.428632\" style=\"fill: #1f77b4; stroke: #1f77b4\"/>\n",
       "     <use xlink:href=\"#mde9751aa6a\" x=\"124.480417\" y=\"91.626487\" style=\"fill: #1f77b4; stroke: #1f77b4\"/>\n",
       "     <use xlink:href=\"#mde9751aa6a\" x=\"163.641563\" y=\"94.620317\" style=\"fill: #1f77b4; stroke: #1f77b4\"/>\n",
       "     <use xlink:href=\"#mde9751aa6a\" x=\"149.715381\" y=\"79.706114\" style=\"fill: #1f77b4; stroke: #1f77b4\"/>\n",
       "     <use xlink:href=\"#mde9751aa6a\" x=\"163.173776\" y=\"119.932161\" style=\"fill: #1f77b4; stroke: #1f77b4\"/>\n",
       "     <use xlink:href=\"#mde9751aa6a\" x=\"134.341656\" y=\"78.285554\" style=\"fill: #1f77b4; stroke: #1f77b4\"/>\n",
       "     <use xlink:href=\"#mde9751aa6a\" x=\"134.668481\" y=\"87.567488\" style=\"fill: #1f77b4; stroke: #1f77b4\"/>\n",
       "     <use xlink:href=\"#mde9751aa6a\" x=\"122.092889\" y=\"64.208339\" style=\"fill: #1f77b4; stroke: #1f77b4\"/>\n",
       "     <use xlink:href=\"#mde9751aa6a\" x=\"112.821818\" y=\"61.885815\" style=\"fill: #1f77b4; stroke: #1f77b4\"/>\n",
       "     <use xlink:href=\"#mde9751aa6a\" x=\"146.371974\" y=\"74.617172\" style=\"fill: #1f77b4; stroke: #1f77b4\"/>\n",
       "     <use xlink:href=\"#mde9751aa6a\" x=\"177.981609\" y=\"100.324752\" style=\"fill: #1f77b4; stroke: #1f77b4\"/>\n",
       "     <use xlink:href=\"#mde9751aa6a\" x=\"142.887935\" y=\"95.617379\" style=\"fill: #1f77b4; stroke: #1f77b4\"/>\n",
       "     <use xlink:href=\"#mde9751aa6a\" x=\"160.020105\" y=\"98.952323\" style=\"fill: #1f77b4; stroke: #1f77b4\"/>\n",
       "     <use xlink:href=\"#mde9751aa6a\" x=\"137.484196\" y=\"84.922011\" style=\"fill: #1f77b4; stroke: #1f77b4\"/>\n",
       "     <use xlink:href=\"#mde9751aa6a\" x=\"151.111018\" y=\"97.312405\" style=\"fill: #1f77b4; stroke: #1f77b4\"/>\n",
       "     <use xlink:href=\"#mde9751aa6a\" x=\"112.212606\" y=\"63.830233\" style=\"fill: #1f77b4; stroke: #1f77b4\"/>\n",
       "     <use xlink:href=\"#mde9751aa6a\" x=\"134.236425\" y=\"78.020887\" style=\"fill: #1f77b4; stroke: #1f77b4\"/>\n",
       "     <use xlink:href=\"#mde9751aa6a\" x=\"116.56129\" y=\"69.773255\" style=\"fill: #1f77b4; stroke: #1f77b4\"/>\n",
       "     <use xlink:href=\"#mde9751aa6a\" x=\"148.906358\" y=\"75.890013\" style=\"fill: #1f77b4; stroke: #1f77b4\"/>\n",
       "     <use xlink:href=\"#mde9751aa6a\" x=\"151.681472\" y=\"81.34279\" style=\"fill: #1f77b4; stroke: #1f77b4\"/>\n",
       "     <use xlink:href=\"#mde9751aa6a\" x=\"121.813427\" y=\"50.842831\" style=\"fill: #1f77b4; stroke: #1f77b4\"/>\n",
       "     <use xlink:href=\"#mde9751aa6a\" x=\"113.316934\" y=\"58.079397\" style=\"fill: #1f77b4; stroke: #1f77b4\"/>\n",
       "     <use xlink:href=\"#mde9751aa6a\" x=\"149.082059\" y=\"79.809097\" style=\"fill: #1f77b4; stroke: #1f77b4\"/>\n",
       "     <use xlink:href=\"#mde9751aa6a\" x=\"145.629558\" y=\"94.303614\" style=\"fill: #1f77b4; stroke: #1f77b4\"/>\n",
       "     <use xlink:href=\"#mde9751aa6a\" x=\"127.808835\" y=\"86.922129\" style=\"fill: #1f77b4; stroke: #1f77b4\"/>\n",
       "     <use xlink:href=\"#mde9751aa6a\" x=\"113.377302\" y=\"70.029736\" style=\"fill: #1f77b4; stroke: #1f77b4\"/>\n",
       "     <use xlink:href=\"#mde9751aa6a\" x=\"120.35784\" y=\"55.872251\" style=\"fill: #1f77b4; stroke: #1f77b4\"/>\n",
       "     <use xlink:href=\"#mde9751aa6a\" x=\"111.09955\" y=\"63.1986\" style=\"fill: #1f77b4; stroke: #1f77b4\"/>\n",
       "     <use xlink:href=\"#mde9751aa6a\" x=\"199.829629\" y=\"123.374194\" style=\"fill: #1f77b4; stroke: #1f77b4\"/>\n",
       "     <use xlink:href=\"#mde9751aa6a\" x=\"112.945151\" y=\"59.478369\" style=\"fill: #1f77b4; stroke: #1f77b4\"/>\n",
       "     <use xlink:href=\"#mde9751aa6a\" x=\"113.360378\" y=\"66.051661\" style=\"fill: #1f77b4; stroke: #1f77b4\"/>\n",
       "     <use xlink:href=\"#mde9751aa6a\" x=\"121.948214\" y=\"56.151263\" style=\"fill: #1f77b4; stroke: #1f77b4\"/>\n",
       "     <use xlink:href=\"#mde9751aa6a\" x=\"81.476122\" y=\"40.548602\" style=\"fill: #1f77b4; stroke: #1f77b4\"/>\n",
       "     <use xlink:href=\"#mde9751aa6a\" x=\"180.814567\" y=\"102.123686\" style=\"fill: #1f77b4; stroke: #1f77b4\"/>\n",
       "     <use xlink:href=\"#mde9751aa6a\" x=\"140.024734\" y=\"61.821417\" style=\"fill: #1f77b4; stroke: #1f77b4\"/>\n",
       "     <use xlink:href=\"#mde9751aa6a\" x=\"155.718965\" y=\"72.465148\" style=\"fill: #1f77b4; stroke: #1f77b4\"/>\n",
       "     <use xlink:href=\"#mde9751aa6a\" x=\"54.578593\" y=\"26.532254\" style=\"fill: #1f77b4; stroke: #1f77b4\"/>\n",
       "     <use xlink:href=\"#mde9751aa6a\" x=\"134.896259\" y=\"89.598816\" style=\"fill: #1f77b4; stroke: #1f77b4\"/>\n",
       "     <use xlink:href=\"#mde9751aa6a\" x=\"133.548305\" y=\"99.875825\" style=\"fill: #1f77b4; stroke: #1f77b4\"/>\n",
       "     <use xlink:href=\"#mde9751aa6a\" x=\"152.529505\" y=\"83.363042\" style=\"fill: #1f77b4; stroke: #1f77b4\"/>\n",
       "     <use xlink:href=\"#mde9751aa6a\" x=\"124.197958\" y=\"62.353733\" style=\"fill: #1f77b4; stroke: #1f77b4\"/>\n",
       "     <use xlink:href=\"#mde9751aa6a\" x=\"99.347881\" y=\"62.78213\" style=\"fill: #1f77b4; stroke: #1f77b4\"/>\n",
       "     <use xlink:href=\"#mde9751aa6a\" x=\"141.712663\" y=\"92.610313\" style=\"fill: #1f77b4; stroke: #1f77b4\"/>\n",
       "     <use xlink:href=\"#mde9751aa6a\" x=\"172.550241\" y=\"105.031606\" style=\"fill: #1f77b4; stroke: #1f77b4\"/>\n",
       "     <use xlink:href=\"#mde9751aa6a\" x=\"139.17732\" y=\"91.559881\" style=\"fill: #1f77b4; stroke: #1f77b4\"/>\n",
       "     <use xlink:href=\"#mde9751aa6a\" x=\"105.757627\" y=\"62.812466\" style=\"fill: #1f77b4; stroke: #1f77b4\"/>\n",
       "     <use xlink:href=\"#mde9751aa6a\" x=\"184.91871\" y=\"129.930036\" style=\"fill: #1f77b4; stroke: #1f77b4\"/>\n",
       "     <use xlink:href=\"#mde9751aa6a\" x=\"149.894392\" y=\"92.139951\" style=\"fill: #1f77b4; stroke: #1f77b4\"/>\n",
       "     <use xlink:href=\"#mde9751aa6a\" x=\"121.974798\" y=\"56.853277\" style=\"fill: #1f77b4; stroke: #1f77b4\"/>\n",
       "     <use xlink:href=\"#mde9751aa6a\" x=\"116.457753\" y=\"60.437071\" style=\"fill: #1f77b4; stroke: #1f77b4\"/>\n",
       "     <use xlink:href=\"#mde9751aa6a\" x=\"107.383713\" y=\"58.378553\" style=\"fill: #1f77b4; stroke: #1f77b4\"/>\n",
       "     <use xlink:href=\"#mde9751aa6a\" x=\"153.904724\" y=\"93.98664\" style=\"fill: #1f77b4; stroke: #1f77b4\"/>\n",
       "     <use xlink:href=\"#mde9751aa6a\" x=\"134.315683\" y=\"73.291449\" style=\"fill: #1f77b4; stroke: #1f77b4\"/>\n",
       "     <use xlink:href=\"#mde9751aa6a\" x=\"183.110652\" y=\"107.428649\" style=\"fill: #1f77b4; stroke: #1f77b4\"/>\n",
       "     <use xlink:href=\"#mde9751aa6a\" x=\"148.177666\" y=\"84.138876\" style=\"fill: #1f77b4; stroke: #1f77b4\"/>\n",
       "     <use xlink:href=\"#mde9751aa6a\" x=\"91.376445\" y=\"52.203359\" style=\"fill: #1f77b4; stroke: #1f77b4\"/>\n",
       "     <use xlink:href=\"#mde9751aa6a\" x=\"137.605603\" y=\"86.109277\" style=\"fill: #1f77b4; stroke: #1f77b4\"/>\n",
       "     <use xlink:href=\"#mde9751aa6a\" x=\"137.685415\" y=\"79.023702\" style=\"fill: #1f77b4; stroke: #1f77b4\"/>\n",
       "     <use xlink:href=\"#mde9751aa6a\" x=\"56.624468\" y=\"13.377273\" style=\"fill: #1f77b4; stroke: #1f77b4\"/>\n",
       "     <use xlink:href=\"#mde9751aa6a\" x=\"119.953135\" y=\"79.641176\" style=\"fill: #1f77b4; stroke: #1f77b4\"/>\n",
       "     <use xlink:href=\"#mde9751aa6a\" x=\"163.889079\" y=\"103.247651\" style=\"fill: #1f77b4; stroke: #1f77b4\"/>\n",
       "     <use xlink:href=\"#mde9751aa6a\" x=\"70.698356\" y=\"21.884782\" style=\"fill: #1f77b4; stroke: #1f77b4\"/>\n",
       "     <use xlink:href=\"#mde9751aa6a\" x=\"159.142017\" y=\"88.923293\" style=\"fill: #1f77b4; stroke: #1f77b4\"/>\n",
       "     <use xlink:href=\"#mde9751aa6a\" x=\"87.210363\" y=\"71.670918\" style=\"fill: #1f77b4; stroke: #1f77b4\"/>\n",
       "     <use xlink:href=\"#mde9751aa6a\" x=\"87.858022\" y=\"50.89433\" style=\"fill: #1f77b4; stroke: #1f77b4\"/>\n",
       "     <use xlink:href=\"#mde9751aa6a\" x=\"115.97667\" y=\"59.111859\" style=\"fill: #1f77b4; stroke: #1f77b4\"/>\n",
       "     <use xlink:href=\"#mde9751aa6a\" x=\"90.95229\" y=\"43.269099\" style=\"fill: #1f77b4; stroke: #1f77b4\"/>\n",
       "     <use xlink:href=\"#mde9751aa6a\" x=\"175.437926\" y=\"81.870529\" style=\"fill: #1f77b4; stroke: #1f77b4\"/>\n",
       "     <use xlink:href=\"#mde9751aa6a\" x=\"140.660561\" y=\"67.006174\" style=\"fill: #1f77b4; stroke: #1f77b4\"/>\n",
       "     <use xlink:href=\"#mde9751aa6a\" x=\"163.09929\" y=\"82.989518\" style=\"fill: #1f77b4; stroke: #1f77b4\"/>\n",
       "     <use xlink:href=\"#mde9751aa6a\" x=\"37.81946\" y=\"19.176515\" style=\"fill: #1f77b4; stroke: #1f77b4\"/>\n",
       "     <use xlink:href=\"#mde9751aa6a\" x=\"107.094778\" y=\"59.179583\" style=\"fill: #1f77b4; stroke: #1f77b4\"/>\n",
       "     <use xlink:href=\"#mde9751aa6a\" x=\"133.155845\" y=\"85.182428\" style=\"fill: #1f77b4; stroke: #1f77b4\"/>\n",
       "     <use xlink:href=\"#mde9751aa6a\" x=\"185.640592\" y=\"121.198272\" style=\"fill: #1f77b4; stroke: #1f77b4\"/>\n",
       "     <use xlink:href=\"#mde9751aa6a\" x=\"113.865375\" y=\"49.651833\" style=\"fill: #1f77b4; stroke: #1f77b4\"/>\n",
       "     <use xlink:href=\"#mde9751aa6a\" x=\"145.969855\" y=\"65.679908\" style=\"fill: #1f77b4; stroke: #1f77b4\"/>\n",
       "     <use xlink:href=\"#mde9751aa6a\" x=\"142.826936\" y=\"80.63139\" style=\"fill: #1f77b4; stroke: #1f77b4\"/>\n",
       "     <use xlink:href=\"#mde9751aa6a\" x=\"154.759644\" y=\"81.453884\" style=\"fill: #1f77b4; stroke: #1f77b4\"/>\n",
       "     <use xlink:href=\"#mde9751aa6a\" x=\"170.166166\" y=\"87.172966\" style=\"fill: #1f77b4; stroke: #1f77b4\"/>\n",
       "     <use xlink:href=\"#mde9751aa6a\" x=\"130.034806\" y=\"74.04477\" style=\"fill: #1f77b4; stroke: #1f77b4\"/>\n",
       "     <use xlink:href=\"#mde9751aa6a\" x=\"84.663106\" y=\"34.735129\" style=\"fill: #1f77b4; stroke: #1f77b4\"/>\n",
       "     <use xlink:href=\"#mde9751aa6a\" x=\"139.696458\" y=\"65.383852\" style=\"fill: #1f77b4; stroke: #1f77b4\"/>\n",
       "     <use xlink:href=\"#mde9751aa6a\" x=\"168.37532\" y=\"111.860361\" style=\"fill: #1f77b4; stroke: #1f77b4\"/>\n",
       "     <use xlink:href=\"#mde9751aa6a\" x=\"109.78617\" y=\"67.225522\" style=\"fill: #1f77b4; stroke: #1f77b4\"/>\n",
       "     <use xlink:href=\"#mde9751aa6a\" x=\"132.315019\" y=\"89.6806\" style=\"fill: #1f77b4; stroke: #1f77b4\"/>\n",
       "     <use xlink:href=\"#mde9751aa6a\" x=\"129.444009\" y=\"68.854314\" style=\"fill: #1f77b4; stroke: #1f77b4\"/>\n",
       "     <use xlink:href=\"#mde9751aa6a\" x=\"155.161836\" y=\"100.971703\" style=\"fill: #1f77b4; stroke: #1f77b4\"/>\n",
       "     <use xlink:href=\"#mde9751aa6a\" x=\"129.704877\" y=\"72.395808\" style=\"fill: #1f77b4; stroke: #1f77b4\"/>\n",
       "     <use xlink:href=\"#mde9751aa6a\" x=\"145.959838\" y=\"83.206241\" style=\"fill: #1f77b4; stroke: #1f77b4\"/>\n",
       "     <use xlink:href=\"#mde9751aa6a\" x=\"153.94951\" y=\"98.739446\" style=\"fill: #1f77b4; stroke: #1f77b4\"/>\n",
       "     <use xlink:href=\"#mde9751aa6a\" x=\"152.47935\" y=\"92.147161\" style=\"fill: #1f77b4; stroke: #1f77b4\"/>\n",
       "     <use xlink:href=\"#mde9751aa6a\" x=\"117.695515\" y=\"86.753829\" style=\"fill: #1f77b4; stroke: #1f77b4\"/>\n",
       "     <use xlink:href=\"#mde9751aa6a\" x=\"147.882471\" y=\"95.251502\" style=\"fill: #1f77b4; stroke: #1f77b4\"/>\n",
       "     <use xlink:href=\"#mde9751aa6a\" x=\"124.471671\" y=\"67.387794\" style=\"fill: #1f77b4; stroke: #1f77b4\"/>\n",
       "     <use xlink:href=\"#mde9751aa6a\" x=\"84.946162\" y=\"32.728534\" style=\"fill: #1f77b4; stroke: #1f77b4\"/>\n",
       "     <use xlink:href=\"#mde9751aa6a\" x=\"105.937005\" y=\"47.748826\" style=\"fill: #1f77b4; stroke: #1f77b4\"/>\n",
       "     <use xlink:href=\"#mde9751aa6a\" x=\"152.934306\" y=\"94.646557\" style=\"fill: #1f77b4; stroke: #1f77b4\"/>\n",
       "     <use xlink:href=\"#mde9751aa6a\" x=\"143.245899\" y=\"85.268499\" style=\"fill: #1f77b4; stroke: #1f77b4\"/>\n",
       "     <use xlink:href=\"#mde9751aa6a\" x=\"72.7408\" y=\"26.754255\" style=\"fill: #1f77b4; stroke: #1f77b4\"/>\n",
       "     <use xlink:href=\"#mde9751aa6a\" x=\"139.848321\" y=\"83.125841\" style=\"fill: #1f77b4; stroke: #1f77b4\"/>\n",
       "     <use xlink:href=\"#mde9751aa6a\" x=\"113.933447\" y=\"54.000224\" style=\"fill: #1f77b4; stroke: #1f77b4\"/>\n",
       "     <use xlink:href=\"#mde9751aa6a\" x=\"119.217799\" y=\"80.951126\" style=\"fill: #1f77b4; stroke: #1f77b4\"/>\n",
       "     <use xlink:href=\"#mde9751aa6a\" x=\"121.92595\" y=\"66.523085\" style=\"fill: #1f77b4; stroke: #1f77b4\"/>\n",
       "     <use xlink:href=\"#mde9751aa6a\" x=\"84.115671\" y=\"64.162026\" style=\"fill: #1f77b4; stroke: #1f77b4\"/>\n",
       "     <use xlink:href=\"#mde9751aa6a\" x=\"148.873765\" y=\"83.408235\" style=\"fill: #1f77b4; stroke: #1f77b4\"/>\n",
       "     <use xlink:href=\"#mde9751aa6a\" x=\"148.283956\" y=\"74.547404\" style=\"fill: #1f77b4; stroke: #1f77b4\"/>\n",
       "     <use xlink:href=\"#mde9751aa6a\" x=\"117.934624\" y=\"69.460176\" style=\"fill: #1f77b4; stroke: #1f77b4\"/>\n",
       "     <use xlink:href=\"#mde9751aa6a\" x=\"115.291216\" y=\"49.428891\" style=\"fill: #1f77b4; stroke: #1f77b4\"/>\n",
       "     <use xlink:href=\"#mde9751aa6a\" x=\"167.499849\" y=\"86.605531\" style=\"fill: #1f77b4; stroke: #1f77b4\"/>\n",
       "     <use xlink:href=\"#mde9751aa6a\" x=\"183.523059\" y=\"81.47873\" style=\"fill: #1f77b4; stroke: #1f77b4\"/>\n",
       "     <use xlink:href=\"#mde9751aa6a\" x=\"127.105993\" y=\"75.445828\" style=\"fill: #1f77b4; stroke: #1f77b4\"/>\n",
       "     <use xlink:href=\"#mde9751aa6a\" x=\"122.431423\" y=\"48.363778\" style=\"fill: #1f77b4; stroke: #1f77b4\"/>\n",
       "     <use xlink:href=\"#mde9751aa6a\" x=\"157.006482\" y=\"103.067937\" style=\"fill: #1f77b4; stroke: #1f77b4\"/>\n",
       "     <use xlink:href=\"#mde9751aa6a\" x=\"123.406777\" y=\"81.389813\" style=\"fill: #1f77b4; stroke: #1f77b4\"/>\n",
       "     <use xlink:href=\"#mde9751aa6a\" x=\"107.994493\" y=\"68.847139\" style=\"fill: #1f77b4; stroke: #1f77b4\"/>\n",
       "     <use xlink:href=\"#mde9751aa6a\" x=\"135.537943\" y=\"75.425317\" style=\"fill: #1f77b4; stroke: #1f77b4\"/>\n",
       "     <use xlink:href=\"#mde9751aa6a\" x=\"127.527799\" y=\"67.687573\" style=\"fill: #1f77b4; stroke: #1f77b4\"/>\n",
       "     <use xlink:href=\"#mde9751aa6a\" x=\"152.234148\" y=\"74.181558\" style=\"fill: #1f77b4; stroke: #1f77b4\"/>\n",
       "     <use xlink:href=\"#mde9751aa6a\" x=\"163.786433\" y=\"97.182235\" style=\"fill: #1f77b4; stroke: #1f77b4\"/>\n",
       "     <use xlink:href=\"#mde9751aa6a\" x=\"138.279728\" y=\"84.810522\" style=\"fill: #1f77b4; stroke: #1f77b4\"/>\n",
       "     <use xlink:href=\"#mde9751aa6a\" x=\"128.955804\" y=\"75.475782\" style=\"fill: #1f77b4; stroke: #1f77b4\"/>\n",
       "     <use xlink:href=\"#mde9751aa6a\" x=\"94.279691\" y=\"40.13904\" style=\"fill: #1f77b4; stroke: #1f77b4\"/>\n",
       "     <use xlink:href=\"#mde9751aa6a\" x=\"123.624385\" y=\"55.409882\" style=\"fill: #1f77b4; stroke: #1f77b4\"/>\n",
       "     <use xlink:href=\"#mde9751aa6a\" x=\"135.375365\" y=\"102.44144\" style=\"fill: #1f77b4; stroke: #1f77b4\"/>\n",
       "     <use xlink:href=\"#mde9751aa6a\" x=\"93.097571\" y=\"32.985967\" style=\"fill: #1f77b4; stroke: #1f77b4\"/>\n",
       "     <use xlink:href=\"#mde9751aa6a\" x=\"136.905506\" y=\"81.756789\" style=\"fill: #1f77b4; stroke: #1f77b4\"/>\n",
       "     <use xlink:href=\"#mde9751aa6a\" x=\"142.867353\" y=\"84.535309\" style=\"fill: #1f77b4; stroke: #1f77b4\"/>\n",
       "     <use xlink:href=\"#mde9751aa6a\" x=\"130.967217\" y=\"79.284194\" style=\"fill: #1f77b4; stroke: #1f77b4\"/>\n",
       "     <use xlink:href=\"#mde9751aa6a\" x=\"116.014817\" y=\"77.870254\" style=\"fill: #1f77b4; stroke: #1f77b4\"/>\n",
       "     <use xlink:href=\"#mde9751aa6a\" x=\"156.079941\" y=\"88.637041\" style=\"fill: #1f77b4; stroke: #1f77b4\"/>\n",
       "     <use xlink:href=\"#mde9751aa6a\" x=\"97.86048\" y=\"57.406212\" style=\"fill: #1f77b4; stroke: #1f77b4\"/>\n",
       "     <use xlink:href=\"#mde9751aa6a\" x=\"120.232222\" y=\"67.919148\" style=\"fill: #1f77b4; stroke: #1f77b4\"/>\n",
       "     <use xlink:href=\"#mde9751aa6a\" x=\"141.372228\" y=\"75.365534\" style=\"fill: #1f77b4; stroke: #1f77b4\"/>\n",
       "     <use xlink:href=\"#mde9751aa6a\" x=\"106.883531\" y=\"52.351345\" style=\"fill: #1f77b4; stroke: #1f77b4\"/>\n",
       "     <use xlink:href=\"#mde9751aa6a\" x=\"101.217363\" y=\"48.436608\" style=\"fill: #1f77b4; stroke: #1f77b4\"/>\n",
       "     <use xlink:href=\"#mde9751aa6a\" x=\"151.313513\" y=\"92.187591\" style=\"fill: #1f77b4; stroke: #1f77b4\"/>\n",
       "     <use xlink:href=\"#mde9751aa6a\" x=\"88.603601\" y=\"50.495204\" style=\"fill: #1f77b4; stroke: #1f77b4\"/>\n",
       "     <use xlink:href=\"#mde9751aa6a\" x=\"94.827033\" y=\"56.908499\" style=\"fill: #1f77b4; stroke: #1f77b4\"/>\n",
       "     <use xlink:href=\"#mde9751aa6a\" x=\"127.033632\" y=\"58.45159\" style=\"fill: #1f77b4; stroke: #1f77b4\"/>\n",
       "     <use xlink:href=\"#mde9751aa6a\" x=\"94.475801\" y=\"44.912165\" style=\"fill: #1f77b4; stroke: #1f77b4\"/>\n",
       "     <use xlink:href=\"#mde9751aa6a\" x=\"161.749197\" y=\"98.762795\" style=\"fill: #1f77b4; stroke: #1f77b4\"/>\n",
       "     <use xlink:href=\"#mde9751aa6a\" x=\"144.195693\" y=\"89.869616\" style=\"fill: #1f77b4; stroke: #1f77b4\"/>\n",
       "     <use xlink:href=\"#mde9751aa6a\" x=\"142.555828\" y=\"79.501353\" style=\"fill: #1f77b4; stroke: #1f77b4\"/>\n",
       "     <use xlink:href=\"#mde9751aa6a\" x=\"152.679058\" y=\"88.597918\" style=\"fill: #1f77b4; stroke: #1f77b4\"/>\n",
       "     <use xlink:href=\"#mde9751aa6a\" x=\"188.711396\" y=\"79.934942\" style=\"fill: #1f77b4; stroke: #1f77b4\"/>\n",
       "     <use xlink:href=\"#mde9751aa6a\" x=\"52.338851\" y=\"15.383738\" style=\"fill: #1f77b4; stroke: #1f77b4\"/>\n",
       "     <use xlink:href=\"#mde9751aa6a\" x=\"153.811871\" y=\"73.740355\" style=\"fill: #1f77b4; stroke: #1f77b4\"/>\n",
       "     <use xlink:href=\"#mde9751aa6a\" x=\"123.480612\" y=\"49.246346\" style=\"fill: #1f77b4; stroke: #1f77b4\"/>\n",
       "     <use xlink:href=\"#mde9751aa6a\" x=\"142.236717\" y=\"74.692502\" style=\"fill: #1f77b4; stroke: #1f77b4\"/>\n",
       "     <use xlink:href=\"#mde9751aa6a\" x=\"135.644168\" y=\"88.557627\" style=\"fill: #1f77b4; stroke: #1f77b4\"/>\n",
       "     <use xlink:href=\"#mde9751aa6a\" x=\"114.684992\" y=\"73.418453\" style=\"fill: #1f77b4; stroke: #1f77b4\"/>\n",
       "     <use xlink:href=\"#mde9751aa6a\" x=\"122.381567\" y=\"62.130282\" style=\"fill: #1f77b4; stroke: #1f77b4\"/>\n",
       "     <use xlink:href=\"#mde9751aa6a\" x=\"164.551055\" y=\"105.415789\" style=\"fill: #1f77b4; stroke: #1f77b4\"/>\n",
       "     <use xlink:href=\"#mde9751aa6a\" x=\"121.806232\" y=\"72.464563\" style=\"fill: #1f77b4; stroke: #1f77b4\"/>\n",
       "     <use xlink:href=\"#mde9751aa6a\" x=\"154.134778\" y=\"71.76594\" style=\"fill: #1f77b4; stroke: #1f77b4\"/>\n",
       "     <use xlink:href=\"#mde9751aa6a\" x=\"175.197593\" y=\"100.71385\" style=\"fill: #1f77b4; stroke: #1f77b4\"/>\n",
       "     <use xlink:href=\"#mde9751aa6a\" x=\"123.929775\" y=\"42.750251\" style=\"fill: #1f77b4; stroke: #1f77b4\"/>\n",
       "     <use xlink:href=\"#mde9751aa6a\" x=\"153.363205\" y=\"81.10713\" style=\"fill: #1f77b4; stroke: #1f77b4\"/>\n",
       "     <use xlink:href=\"#mde9751aa6a\" x=\"67.009613\" y=\"23.835689\" style=\"fill: #1f77b4; stroke: #1f77b4\"/>\n",
       "     <use xlink:href=\"#mde9751aa6a\" x=\"143.609576\" y=\"96.437657\" style=\"fill: #1f77b4; stroke: #1f77b4\"/>\n",
       "     <use xlink:href=\"#mde9751aa6a\" x=\"137.42877\" y=\"71.963838\" style=\"fill: #1f77b4; stroke: #1f77b4\"/>\n",
       "     <use xlink:href=\"#mde9751aa6a\" x=\"152.322651\" y=\"96.331771\" style=\"fill: #1f77b4; stroke: #1f77b4\"/>\n",
       "     <use xlink:href=\"#mde9751aa6a\" x=\"138.813074\" y=\"77.823445\" style=\"fill: #1f77b4; stroke: #1f77b4\"/>\n",
       "     <use xlink:href=\"#mde9751aa6a\" x=\"131.867875\" y=\"83.035013\" style=\"fill: #1f77b4; stroke: #1f77b4\"/>\n",
       "     <use xlink:href=\"#mde9751aa6a\" x=\"116.94706\" y=\"67.254113\" style=\"fill: #1f77b4; stroke: #1f77b4\"/>\n",
       "     <use xlink:href=\"#mde9751aa6a\" x=\"175.635149\" y=\"90.646649\" style=\"fill: #1f77b4; stroke: #1f77b4\"/>\n",
       "     <use xlink:href=\"#mde9751aa6a\" x=\"153.960341\" y=\"115.38553\" style=\"fill: #1f77b4; stroke: #1f77b4\"/>\n",
       "     <use xlink:href=\"#mde9751aa6a\" x=\"72.028789\" y=\"50.370249\" style=\"fill: #1f77b4; stroke: #1f77b4\"/>\n",
       "     <use xlink:href=\"#mde9751aa6a\" x=\"204.424771\" y=\"135.737596\" style=\"fill: #1f77b4; stroke: #1f77b4\"/>\n",
       "     <use xlink:href=\"#mde9751aa6a\" x=\"108.60062\" y=\"61.185255\" style=\"fill: #1f77b4; stroke: #1f77b4\"/>\n",
       "     <use xlink:href=\"#mde9751aa6a\" x=\"122.573575\" y=\"80.710084\" style=\"fill: #1f77b4; stroke: #1f77b4\"/>\n",
       "     <use xlink:href=\"#mde9751aa6a\" x=\"108.25661\" y=\"52.104772\" style=\"fill: #1f77b4; stroke: #1f77b4\"/>\n",
       "     <use xlink:href=\"#mde9751aa6a\" x=\"164.596043\" y=\"90.737867\" style=\"fill: #1f77b4; stroke: #1f77b4\"/>\n",
       "     <use xlink:href=\"#mde9751aa6a\" x=\"104.471534\" y=\"66.628058\" style=\"fill: #1f77b4; stroke: #1f77b4\"/>\n",
       "     <use xlink:href=\"#mde9751aa6a\" x=\"99.926041\" y=\"56.308092\" style=\"fill: #1f77b4; stroke: #1f77b4\"/>\n",
       "     <use xlink:href=\"#mde9751aa6a\" x=\"152.457509\" y=\"105.092771\" style=\"fill: #1f77b4; stroke: #1f77b4\"/>\n",
       "     <use xlink:href=\"#mde9751aa6a\" x=\"146.578568\" y=\"95.180566\" style=\"fill: #1f77b4; stroke: #1f77b4\"/>\n",
       "     <use xlink:href=\"#mde9751aa6a\" x=\"112.375053\" y=\"61.297134\" style=\"fill: #1f77b4; stroke: #1f77b4\"/>\n",
       "     <use xlink:href=\"#mde9751aa6a\" x=\"158.745588\" y=\"71.272989\" style=\"fill: #1f77b4; stroke: #1f77b4\"/>\n",
       "     <use xlink:href=\"#mde9751aa6a\" x=\"105.664279\" y=\"68.768771\" style=\"fill: #1f77b4; stroke: #1f77b4\"/>\n",
       "     <use xlink:href=\"#mde9751aa6a\" x=\"121.723172\" y=\"63.7212\" style=\"fill: #1f77b4; stroke: #1f77b4\"/>\n",
       "     <use xlink:href=\"#mde9751aa6a\" x=\"99.829967\" y=\"70.98064\" style=\"fill: #1f77b4; stroke: #1f77b4\"/>\n",
       "     <use xlink:href=\"#mde9751aa6a\" x=\"145.269082\" y=\"88.604316\" style=\"fill: #1f77b4; stroke: #1f77b4\"/>\n",
       "     <use xlink:href=\"#mde9751aa6a\" x=\"120.775122\" y=\"73.692835\" style=\"fill: #1f77b4; stroke: #1f77b4\"/>\n",
       "     <use xlink:href=\"#mde9751aa6a\" x=\"135.465905\" y=\"81.930859\" style=\"fill: #1f77b4; stroke: #1f77b4\"/>\n",
       "     <use xlink:href=\"#mde9751aa6a\" x=\"118.714707\" y=\"78.452727\" style=\"fill: #1f77b4; stroke: #1f77b4\"/>\n",
       "     <use xlink:href=\"#mde9751aa6a\" x=\"157.036591\" y=\"88.029039\" style=\"fill: #1f77b4; stroke: #1f77b4\"/>\n",
       "     <use xlink:href=\"#mde9751aa6a\" x=\"129.751497\" y=\"55.646103\" style=\"fill: #1f77b4; stroke: #1f77b4\"/>\n",
       "     <use xlink:href=\"#mde9751aa6a\" x=\"108.341589\" y=\"51.400291\" style=\"fill: #1f77b4; stroke: #1f77b4\"/>\n",
       "     <use xlink:href=\"#mde9751aa6a\" x=\"140.203366\" y=\"84.599266\" style=\"fill: #1f77b4; stroke: #1f77b4\"/>\n",
       "     <use xlink:href=\"#mde9751aa6a\" x=\"166.813764\" y=\"109.970822\" style=\"fill: #1f77b4; stroke: #1f77b4\"/>\n",
       "     <use xlink:href=\"#mde9751aa6a\" x=\"108.202462\" y=\"50.005976\" style=\"fill: #1f77b4; stroke: #1f77b4\"/>\n",
       "     <use xlink:href=\"#mde9751aa6a\" x=\"118.622693\" y=\"65.143933\" style=\"fill: #1f77b4; stroke: #1f77b4\"/>\n",
       "     <use xlink:href=\"#mde9751aa6a\" x=\"163.257189\" y=\"106.885817\" style=\"fill: #1f77b4; stroke: #1f77b4\"/>\n",
       "     <use xlink:href=\"#mde9751aa6a\" x=\"149.483167\" y=\"73.124624\" style=\"fill: #1f77b4; stroke: #1f77b4\"/>\n",
       "     <use xlink:href=\"#mde9751aa6a\" x=\"98.371525\" y=\"54.958109\" style=\"fill: #1f77b4; stroke: #1f77b4\"/>\n",
       "     <use xlink:href=\"#mde9751aa6a\" x=\"125.071464\" y=\"67.861984\" style=\"fill: #1f77b4; stroke: #1f77b4\"/>\n",
       "     <use xlink:href=\"#mde9751aa6a\" x=\"108.57495\" y=\"50.64167\" style=\"fill: #1f77b4; stroke: #1f77b4\"/>\n",
       "     <use xlink:href=\"#mde9751aa6a\" x=\"102.280329\" y=\"58.347852\" style=\"fill: #1f77b4; stroke: #1f77b4\"/>\n",
       "     <use xlink:href=\"#mde9751aa6a\" x=\"116.211002\" y=\"70.93159\" style=\"fill: #1f77b4; stroke: #1f77b4\"/>\n",
       "     <use xlink:href=\"#mde9751aa6a\" x=\"138.966805\" y=\"73.173545\" style=\"fill: #1f77b4; stroke: #1f77b4\"/>\n",
       "     <use xlink:href=\"#mde9751aa6a\" x=\"125.463647\" y=\"52.51878\" style=\"fill: #1f77b4; stroke: #1f77b4\"/>\n",
       "     <use xlink:href=\"#mde9751aa6a\" x=\"163.336603\" y=\"91.843214\" style=\"fill: #1f77b4; stroke: #1f77b4\"/>\n",
       "     <use xlink:href=\"#mde9751aa6a\" x=\"187.29639\" y=\"104.066313\" style=\"fill: #1f77b4; stroke: #1f77b4\"/>\n",
       "     <use xlink:href=\"#mde9751aa6a\" x=\"179.96078\" y=\"99.256499\" style=\"fill: #1f77b4; stroke: #1f77b4\"/>\n",
       "     <use xlink:href=\"#mde9751aa6a\" x=\"160.407232\" y=\"110.716924\" style=\"fill: #1f77b4; stroke: #1f77b4\"/>\n",
       "     <use xlink:href=\"#mde9751aa6a\" x=\"142.541728\" y=\"72.757294\" style=\"fill: #1f77b4; stroke: #1f77b4\"/>\n",
       "     <use xlink:href=\"#mde9751aa6a\" x=\"135.388815\" y=\"68.916442\" style=\"fill: #1f77b4; stroke: #1f77b4\"/>\n",
       "     <use xlink:href=\"#mde9751aa6a\" x=\"150.002863\" y=\"93.374213\" style=\"fill: #1f77b4; stroke: #1f77b4\"/>\n",
       "     <use xlink:href=\"#mde9751aa6a\" x=\"149.070814\" y=\"67.756258\" style=\"fill: #1f77b4; stroke: #1f77b4\"/>\n",
       "     <use xlink:href=\"#mde9751aa6a\" x=\"135.595159\" y=\"80.771897\" style=\"fill: #1f77b4; stroke: #1f77b4\"/>\n",
       "     <use xlink:href=\"#mde9751aa6a\" x=\"116.817038\" y=\"97.184172\" style=\"fill: #1f77b4; stroke: #1f77b4\"/>\n",
       "     <use xlink:href=\"#mde9751aa6a\" x=\"137.411969\" y=\"87.314895\" style=\"fill: #1f77b4; stroke: #1f77b4\"/>\n",
       "     <use xlink:href=\"#mde9751aa6a\" x=\"147.700135\" y=\"90.274491\" style=\"fill: #1f77b4; stroke: #1f77b4\"/>\n",
       "     <use xlink:href=\"#mde9751aa6a\" x=\"99.886235\" y=\"69.187871\" style=\"fill: #1f77b4; stroke: #1f77b4\"/>\n",
       "     <use xlink:href=\"#mde9751aa6a\" x=\"123.582262\" y=\"70.110475\" style=\"fill: #1f77b4; stroke: #1f77b4\"/>\n",
       "     <use xlink:href=\"#mde9751aa6a\" x=\"102.010685\" y=\"55.828255\" style=\"fill: #1f77b4; stroke: #1f77b4\"/>\n",
       "     <use xlink:href=\"#mde9751aa6a\" x=\"141.50713\" y=\"77.463676\" style=\"fill: #1f77b4; stroke: #1f77b4\"/>\n",
       "     <use xlink:href=\"#mde9751aa6a\" x=\"133.562669\" y=\"56.246929\" style=\"fill: #1f77b4; stroke: #1f77b4\"/>\n",
       "     <use xlink:href=\"#mde9751aa6a\" x=\"159.494483\" y=\"88.842796\" style=\"fill: #1f77b4; stroke: #1f77b4\"/>\n",
       "     <use xlink:href=\"#mde9751aa6a\" x=\"119.032828\" y=\"83.190082\" style=\"fill: #1f77b4; stroke: #1f77b4\"/>\n",
       "     <use xlink:href=\"#mde9751aa6a\" x=\"141.542235\" y=\"86.59282\" style=\"fill: #1f77b4; stroke: #1f77b4\"/>\n",
       "     <use xlink:href=\"#mde9751aa6a\" x=\"121.592589\" y=\"71.529819\" style=\"fill: #1f77b4; stroke: #1f77b4\"/>\n",
       "     <use xlink:href=\"#mde9751aa6a\" x=\"154.787355\" y=\"83.744936\" style=\"fill: #1f77b4; stroke: #1f77b4\"/>\n",
       "     <use xlink:href=\"#mde9751aa6a\" x=\"143.642284\" y=\"94.776388\" style=\"fill: #1f77b4; stroke: #1f77b4\"/>\n",
       "     <use xlink:href=\"#mde9751aa6a\" x=\"115.505723\" y=\"63.896844\" style=\"fill: #1f77b4; stroke: #1f77b4\"/>\n",
       "     <use xlink:href=\"#mde9751aa6a\" x=\"143.7706\" y=\"94.500151\" style=\"fill: #1f77b4; stroke: #1f77b4\"/>\n",
       "     <use xlink:href=\"#mde9751aa6a\" x=\"124.382707\" y=\"69.268602\" style=\"fill: #1f77b4; stroke: #1f77b4\"/>\n",
       "     <use xlink:href=\"#mde9751aa6a\" x=\"145.954476\" y=\"69.189724\" style=\"fill: #1f77b4; stroke: #1f77b4\"/>\n",
       "     <use xlink:href=\"#mde9751aa6a\" x=\"134.0855\" y=\"70.425794\" style=\"fill: #1f77b4; stroke: #1f77b4\"/>\n",
       "     <use xlink:href=\"#mde9751aa6a\" x=\"130.64971\" y=\"80.549934\" style=\"fill: #1f77b4; stroke: #1f77b4\"/>\n",
       "     <use xlink:href=\"#mde9751aa6a\" x=\"128.614642\" y=\"82.682775\" style=\"fill: #1f77b4; stroke: #1f77b4\"/>\n",
       "     <use xlink:href=\"#mde9751aa6a\" x=\"138.596381\" y=\"83.212994\" style=\"fill: #1f77b4; stroke: #1f77b4\"/>\n",
       "     <use xlink:href=\"#mde9751aa6a\" x=\"193.43187\" y=\"124.538421\" style=\"fill: #1f77b4; stroke: #1f77b4\"/>\n",
       "     <use xlink:href=\"#mde9751aa6a\" x=\"140.83172\" y=\"92.921978\" style=\"fill: #1f77b4; stroke: #1f77b4\"/>\n",
       "     <use xlink:href=\"#mde9751aa6a\" x=\"126.862353\" y=\"68.646484\" style=\"fill: #1f77b4; stroke: #1f77b4\"/>\n",
       "     <use xlink:href=\"#mde9751aa6a\" x=\"161.560034\" y=\"93.011097\" style=\"fill: #1f77b4; stroke: #1f77b4\"/>\n",
       "     <use xlink:href=\"#mde9751aa6a\" x=\"149.95785\" y=\"58.546867\" style=\"fill: #1f77b4; stroke: #1f77b4\"/>\n",
       "     <use xlink:href=\"#mde9751aa6a\" x=\"142.330972\" y=\"84.711168\" style=\"fill: #1f77b4; stroke: #1f77b4\"/>\n",
       "     <use xlink:href=\"#mde9751aa6a\" x=\"137.612219\" y=\"84.344719\" style=\"fill: #1f77b4; stroke: #1f77b4\"/>\n",
       "     <use xlink:href=\"#mde9751aa6a\" x=\"170.919294\" y=\"108.15287\" style=\"fill: #1f77b4; stroke: #1f77b4\"/>\n",
       "     <use xlink:href=\"#mde9751aa6a\" x=\"158.843076\" y=\"81.131295\" style=\"fill: #1f77b4; stroke: #1f77b4\"/>\n",
       "     <use xlink:href=\"#mde9751aa6a\" x=\"130.128921\" y=\"72.279195\" style=\"fill: #1f77b4; stroke: #1f77b4\"/>\n",
       "     <use xlink:href=\"#mde9751aa6a\" x=\"128.642575\" y=\"77.469356\" style=\"fill: #1f77b4; stroke: #1f77b4\"/>\n",
       "     <use xlink:href=\"#mde9751aa6a\" x=\"137.724089\" y=\"82.159247\" style=\"fill: #1f77b4; stroke: #1f77b4\"/>\n",
       "     <use xlink:href=\"#mde9751aa6a\" x=\"156.240165\" y=\"100.518593\" style=\"fill: #1f77b4; stroke: #1f77b4\"/>\n",
       "     <use xlink:href=\"#mde9751aa6a\" x=\"159.474557\" y=\"80.573741\" style=\"fill: #1f77b4; stroke: #1f77b4\"/>\n",
       "     <use xlink:href=\"#mde9751aa6a\" x=\"144.252739\" y=\"86.931472\" style=\"fill: #1f77b4; stroke: #1f77b4\"/>\n",
       "     <use xlink:href=\"#mde9751aa6a\" x=\"94.4991\" y=\"46.122436\" style=\"fill: #1f77b4; stroke: #1f77b4\"/>\n",
       "     <use xlink:href=\"#mde9751aa6a\" x=\"156.994779\" y=\"76.419723\" style=\"fill: #1f77b4; stroke: #1f77b4\"/>\n",
       "     <use xlink:href=\"#mde9751aa6a\" x=\"109.615893\" y=\"69.610021\" style=\"fill: #1f77b4; stroke: #1f77b4\"/>\n",
       "     <use xlink:href=\"#mde9751aa6a\" x=\"158.708713\" y=\"102.331338\" style=\"fill: #1f77b4; stroke: #1f77b4\"/>\n",
       "     <use xlink:href=\"#mde9751aa6a\" x=\"119.067197\" y=\"57.661073\" style=\"fill: #1f77b4; stroke: #1f77b4\"/>\n",
       "     <use xlink:href=\"#mde9751aa6a\" x=\"138.058624\" y=\"80.321956\" style=\"fill: #1f77b4; stroke: #1f77b4\"/>\n",
       "     <use xlink:href=\"#mde9751aa6a\" x=\"135.668731\" y=\"61.33425\" style=\"fill: #1f77b4; stroke: #1f77b4\"/>\n",
       "     <use xlink:href=\"#mde9751aa6a\" x=\"138.38034\" y=\"78.443412\" style=\"fill: #1f77b4; stroke: #1f77b4\"/>\n",
       "     <use xlink:href=\"#mde9751aa6a\" x=\"175.107952\" y=\"93.284265\" style=\"fill: #1f77b4; stroke: #1f77b4\"/>\n",
       "     <use xlink:href=\"#mde9751aa6a\" x=\"140.369498\" y=\"73.425124\" style=\"fill: #1f77b4; stroke: #1f77b4\"/>\n",
       "     <use xlink:href=\"#mde9751aa6a\" x=\"152.270779\" y=\"72.441909\" style=\"fill: #1f77b4; stroke: #1f77b4\"/>\n",
       "     <use xlink:href=\"#mde9751aa6a\" x=\"161.040054\" y=\"109.997902\" style=\"fill: #1f77b4; stroke: #1f77b4\"/>\n",
       "     <use xlink:href=\"#mde9751aa6a\" x=\"117.907192\" y=\"42.33209\" style=\"fill: #1f77b4; stroke: #1f77b4\"/>\n",
       "     <use xlink:href=\"#mde9751aa6a\" x=\"85.812655\" y=\"46.27624\" style=\"fill: #1f77b4; stroke: #1f77b4\"/>\n",
       "     <use xlink:href=\"#mde9751aa6a\" x=\"137.003712\" y=\"61.105224\" style=\"fill: #1f77b4; stroke: #1f77b4\"/>\n",
       "     <use xlink:href=\"#mde9751aa6a\" x=\"96.400521\" y=\"61.534863\" style=\"fill: #1f77b4; stroke: #1f77b4\"/>\n",
       "     <use xlink:href=\"#mde9751aa6a\" x=\"118.642305\" y=\"63.002437\" style=\"fill: #1f77b4; stroke: #1f77b4\"/>\n",
       "     <use xlink:href=\"#mde9751aa6a\" x=\"171.756629\" y=\"101.73931\" style=\"fill: #1f77b4; stroke: #1f77b4\"/>\n",
       "     <use xlink:href=\"#mde9751aa6a\" x=\"179.423082\" y=\"84.137124\" style=\"fill: #1f77b4; stroke: #1f77b4\"/>\n",
       "     <use xlink:href=\"#mde9751aa6a\" x=\"176.491086\" y=\"85.755938\" style=\"fill: #1f77b4; stroke: #1f77b4\"/>\n",
       "     <use xlink:href=\"#mde9751aa6a\" x=\"122.14451\" y=\"72.450239\" style=\"fill: #1f77b4; stroke: #1f77b4\"/>\n",
       "     <use xlink:href=\"#mde9751aa6a\" x=\"138.502864\" y=\"91.251265\" style=\"fill: #1f77b4; stroke: #1f77b4\"/>\n",
       "     <use xlink:href=\"#mde9751aa6a\" x=\"134.827829\" y=\"68.924488\" style=\"fill: #1f77b4; stroke: #1f77b4\"/>\n",
       "     <use xlink:href=\"#mde9751aa6a\" x=\"151.942457\" y=\"80.090032\" style=\"fill: #1f77b4; stroke: #1f77b4\"/>\n",
       "     <use xlink:href=\"#mde9751aa6a\" x=\"87.577014\" y=\"51.32408\" style=\"fill: #1f77b4; stroke: #1f77b4\"/>\n",
       "     <use xlink:href=\"#mde9751aa6a\" x=\"80.45212\" y=\"33.554897\" style=\"fill: #1f77b4; stroke: #1f77b4\"/>\n",
       "     <use xlink:href=\"#mde9751aa6a\" x=\"120.196814\" y=\"66.034152\" style=\"fill: #1f77b4; stroke: #1f77b4\"/>\n",
       "     <use xlink:href=\"#mde9751aa6a\" x=\"119.144223\" y=\"82.883305\" style=\"fill: #1f77b4; stroke: #1f77b4\"/>\n",
       "     <use xlink:href=\"#mde9751aa6a\" x=\"140.016281\" y=\"70.492093\" style=\"fill: #1f77b4; stroke: #1f77b4\"/>\n",
       "     <use xlink:href=\"#mde9751aa6a\" x=\"215.364915\" y=\"113.229139\" style=\"fill: #1f77b4; stroke: #1f77b4\"/>\n",
       "     <use xlink:href=\"#mde9751aa6a\" x=\"164.804842\" y=\"98.474029\" style=\"fill: #1f77b4; stroke: #1f77b4\"/>\n",
       "     <use xlink:href=\"#mde9751aa6a\" x=\"79.419644\" y=\"39.080086\" style=\"fill: #1f77b4; stroke: #1f77b4\"/>\n",
       "     <use xlink:href=\"#mde9751aa6a\" x=\"89.159869\" y=\"35.037318\" style=\"fill: #1f77b4; stroke: #1f77b4\"/>\n",
       "     <use xlink:href=\"#mde9751aa6a\" x=\"134.290232\" y=\"87.652109\" style=\"fill: #1f77b4; stroke: #1f77b4\"/>\n",
       "     <use xlink:href=\"#mde9751aa6a\" x=\"119.187365\" y=\"67.868358\" style=\"fill: #1f77b4; stroke: #1f77b4\"/>\n",
       "     <use xlink:href=\"#mde9751aa6a\" x=\"112.995078\" y=\"68.572344\" style=\"fill: #1f77b4; stroke: #1f77b4\"/>\n",
       "     <use xlink:href=\"#mde9751aa6a\" x=\"170.85879\" y=\"122.702788\" style=\"fill: #1f77b4; stroke: #1f77b4\"/>\n",
       "     <use xlink:href=\"#mde9751aa6a\" x=\"133.868411\" y=\"73.454088\" style=\"fill: #1f77b4; stroke: #1f77b4\"/>\n",
       "     <use xlink:href=\"#mde9751aa6a\" x=\"147.908752\" y=\"88.842054\" style=\"fill: #1f77b4; stroke: #1f77b4\"/>\n",
       "     <use xlink:href=\"#mde9751aa6a\" x=\"128.198129\" y=\"82.008618\" style=\"fill: #1f77b4; stroke: #1f77b4\"/>\n",
       "     <use xlink:href=\"#mde9751aa6a\" x=\"173.789911\" y=\"116.8934\" style=\"fill: #1f77b4; stroke: #1f77b4\"/>\n",
       "     <use xlink:href=\"#mde9751aa6a\" x=\"124.909266\" y=\"68.678095\" style=\"fill: #1f77b4; stroke: #1f77b4\"/>\n",
       "     <use xlink:href=\"#mde9751aa6a\" x=\"126.526322\" y=\"66.107837\" style=\"fill: #1f77b4; stroke: #1f77b4\"/>\n",
       "     <use xlink:href=\"#mde9751aa6a\" x=\"153.078638\" y=\"90.188579\" style=\"fill: #1f77b4; stroke: #1f77b4\"/>\n",
       "     <use xlink:href=\"#mde9751aa6a\" x=\"161.794497\" y=\"111.805986\" style=\"fill: #1f77b4; stroke: #1f77b4\"/>\n",
       "     <use xlink:href=\"#mde9751aa6a\" x=\"169.032935\" y=\"74.413237\" style=\"fill: #1f77b4; stroke: #1f77b4\"/>\n",
       "     <use xlink:href=\"#mde9751aa6a\" x=\"123.716833\" y=\"56.173613\" style=\"fill: #1f77b4; stroke: #1f77b4\"/>\n",
       "     <use xlink:href=\"#mde9751aa6a\" x=\"173.308368\" y=\"105.469079\" style=\"fill: #1f77b4; stroke: #1f77b4\"/>\n",
       "     <use xlink:href=\"#mde9751aa6a\" x=\"94.763486\" y=\"46.220894\" style=\"fill: #1f77b4; stroke: #1f77b4\"/>\n",
       "     <use xlink:href=\"#mde9751aa6a\" x=\"122.564734\" y=\"94.592517\" style=\"fill: #1f77b4; stroke: #1f77b4\"/>\n",
       "     <use xlink:href=\"#mde9751aa6a\" x=\"156.413742\" y=\"81.670973\" style=\"fill: #1f77b4; stroke: #1f77b4\"/>\n",
       "     <use xlink:href=\"#mde9751aa6a\" x=\"163.276436\" y=\"91.243721\" style=\"fill: #1f77b4; stroke: #1f77b4\"/>\n",
       "     <use xlink:href=\"#mde9751aa6a\" x=\"190.135541\" y=\"112.174344\" style=\"fill: #1f77b4; stroke: #1f77b4\"/>\n",
       "     <use xlink:href=\"#mde9751aa6a\" x=\"107.543831\" y=\"50.229466\" style=\"fill: #1f77b4; stroke: #1f77b4\"/>\n",
       "     <use xlink:href=\"#mde9751aa6a\" x=\"123.891278\" y=\"64.728125\" style=\"fill: #1f77b4; stroke: #1f77b4\"/>\n",
       "     <use xlink:href=\"#mde9751aa6a\" x=\"97.90232\" y=\"55.001463\" style=\"fill: #1f77b4; stroke: #1f77b4\"/>\n",
       "     <use xlink:href=\"#mde9751aa6a\" x=\"170.772289\" y=\"90.158134\" style=\"fill: #1f77b4; stroke: #1f77b4\"/>\n",
       "     <use xlink:href=\"#mde9751aa6a\" x=\"144.735163\" y=\"70.476628\" style=\"fill: #1f77b4; stroke: #1f77b4\"/>\n",
       "     <use xlink:href=\"#mde9751aa6a\" x=\"96.578368\" y=\"38.608725\" style=\"fill: #1f77b4; stroke: #1f77b4\"/>\n",
       "     <use xlink:href=\"#mde9751aa6a\" x=\"108.770787\" y=\"56.346002\" style=\"fill: #1f77b4; stroke: #1f77b4\"/>\n",
       "     <use xlink:href=\"#mde9751aa6a\" x=\"65.681097\" y=\"27.762615\" style=\"fill: #1f77b4; stroke: #1f77b4\"/>\n",
       "     <use xlink:href=\"#mde9751aa6a\" x=\"128.336621\" y=\"77.535407\" style=\"fill: #1f77b4; stroke: #1f77b4\"/>\n",
       "     <use xlink:href=\"#mde9751aa6a\" x=\"126.658321\" y=\"87.616672\" style=\"fill: #1f77b4; stroke: #1f77b4\"/>\n",
       "     <use xlink:href=\"#mde9751aa6a\" x=\"171.225406\" y=\"93.982531\" style=\"fill: #1f77b4; stroke: #1f77b4\"/>\n",
       "     <use xlink:href=\"#mde9751aa6a\" x=\"125.718071\" y=\"65.007439\" style=\"fill: #1f77b4; stroke: #1f77b4\"/>\n",
       "     <use xlink:href=\"#mde9751aa6a\" x=\"140.061084\" y=\"81.570112\" style=\"fill: #1f77b4; stroke: #1f77b4\"/>\n",
       "     <use xlink:href=\"#mde9751aa6a\" x=\"140.71971\" y=\"94.343183\" style=\"fill: #1f77b4; stroke: #1f77b4\"/>\n",
       "     <use xlink:href=\"#mde9751aa6a\" x=\"170.48597\" y=\"110.188204\" style=\"fill: #1f77b4; stroke: #1f77b4\"/>\n",
       "     <use xlink:href=\"#mde9751aa6a\" x=\"143.945436\" y=\"59.236031\" style=\"fill: #1f77b4; stroke: #1f77b4\"/>\n",
       "     <use xlink:href=\"#mde9751aa6a\" x=\"104.477276\" y=\"54.305453\" style=\"fill: #1f77b4; stroke: #1f77b4\"/>\n",
       "     <use xlink:href=\"#mde9751aa6a\" x=\"152.002659\" y=\"87.496609\" style=\"fill: #1f77b4; stroke: #1f77b4\"/>\n",
       "     <use xlink:href=\"#mde9751aa6a\" x=\"81.371916\" y=\"49.862105\" style=\"fill: #1f77b4; stroke: #1f77b4\"/>\n",
       "     <use xlink:href=\"#mde9751aa6a\" x=\"96.476394\" y=\"45.765376\" style=\"fill: #1f77b4; stroke: #1f77b4\"/>\n",
       "     <use xlink:href=\"#mde9751aa6a\" x=\"115.791468\" y=\"62.708245\" style=\"fill: #1f77b4; stroke: #1f77b4\"/>\n",
       "     <use xlink:href=\"#mde9751aa6a\" x=\"170.237246\" y=\"102.650765\" style=\"fill: #1f77b4; stroke: #1f77b4\"/>\n",
       "     <use xlink:href=\"#mde9751aa6a\" x=\"102.833509\" y=\"66.799723\" style=\"fill: #1f77b4; stroke: #1f77b4\"/>\n",
       "     <use xlink:href=\"#mde9751aa6a\" x=\"135.226178\" y=\"65.673092\" style=\"fill: #1f77b4; stroke: #1f77b4\"/>\n",
       "     <use xlink:href=\"#mde9751aa6a\" x=\"146.657297\" y=\"79.669734\" style=\"fill: #1f77b4; stroke: #1f77b4\"/>\n",
       "     <use xlink:href=\"#mde9751aa6a\" x=\"173.974718\" y=\"80.147505\" style=\"fill: #1f77b4; stroke: #1f77b4\"/>\n",
       "     <use xlink:href=\"#mde9751aa6a\" x=\"135.218143\" y=\"70.494753\" style=\"fill: #1f77b4; stroke: #1f77b4\"/>\n",
       "     <use xlink:href=\"#mde9751aa6a\" x=\"88.09664\" y=\"54.059216\" style=\"fill: #1f77b4; stroke: #1f77b4\"/>\n",
       "     <use xlink:href=\"#mde9751aa6a\" x=\"79.086082\" y=\"48.881499\" style=\"fill: #1f77b4; stroke: #1f77b4\"/>\n",
       "     <use xlink:href=\"#mde9751aa6a\" x=\"124.075436\" y=\"67.427599\" style=\"fill: #1f77b4; stroke: #1f77b4\"/>\n",
       "     <use xlink:href=\"#mde9751aa6a\" x=\"143.293489\" y=\"71.452971\" style=\"fill: #1f77b4; stroke: #1f77b4\"/>\n",
       "     <use xlink:href=\"#mde9751aa6a\" x=\"108.829474\" y=\"62.93051\" style=\"fill: #1f77b4; stroke: #1f77b4\"/>\n",
       "     <use xlink:href=\"#mde9751aa6a\" x=\"146.877909\" y=\"97.034927\" style=\"fill: #1f77b4; stroke: #1f77b4\"/>\n",
       "     <use xlink:href=\"#mde9751aa6a\" x=\"190.199588\" y=\"107.29397\" style=\"fill: #1f77b4; stroke: #1f77b4\"/>\n",
       "     <use xlink:href=\"#mde9751aa6a\" x=\"149.150081\" y=\"66.972335\" style=\"fill: #1f77b4; stroke: #1f77b4\"/>\n",
       "     <use xlink:href=\"#mde9751aa6a\" x=\"118.432601\" y=\"75.259677\" style=\"fill: #1f77b4; stroke: #1f77b4\"/>\n",
       "     <use xlink:href=\"#mde9751aa6a\" x=\"137.985518\" y=\"47.194359\" style=\"fill: #1f77b4; stroke: #1f77b4\"/>\n",
       "     <use xlink:href=\"#mde9751aa6a\" x=\"113.497989\" y=\"64.555627\" style=\"fill: #1f77b4; stroke: #1f77b4\"/>\n",
       "     <use xlink:href=\"#mde9751aa6a\" x=\"93.879264\" y=\"37.228759\" style=\"fill: #1f77b4; stroke: #1f77b4\"/>\n",
       "     <use xlink:href=\"#mde9751aa6a\" x=\"203.589816\" y=\"114.051911\" style=\"fill: #1f77b4; stroke: #1f77b4\"/>\n",
       "     <use xlink:href=\"#mde9751aa6a\" x=\"140.068492\" y=\"87.791192\" style=\"fill: #1f77b4; stroke: #1f77b4\"/>\n",
       "     <use xlink:href=\"#mde9751aa6a\" x=\"146.931384\" y=\"78.610788\" style=\"fill: #1f77b4; stroke: #1f77b4\"/>\n",
       "     <use xlink:href=\"#mde9751aa6a\" x=\"124.088953\" y=\"63.786196\" style=\"fill: #1f77b4; stroke: #1f77b4\"/>\n",
       "     <use xlink:href=\"#mde9751aa6a\" x=\"140.109213\" y=\"84.336014\" style=\"fill: #1f77b4; stroke: #1f77b4\"/>\n",
       "     <use xlink:href=\"#mde9751aa6a\" x=\"136.324749\" y=\"70.845517\" style=\"fill: #1f77b4; stroke: #1f77b4\"/>\n",
       "     <use xlink:href=\"#mde9751aa6a\" x=\"176.996332\" y=\"98.309721\" style=\"fill: #1f77b4; stroke: #1f77b4\"/>\n",
       "     <use xlink:href=\"#mde9751aa6a\" x=\"186.171311\" y=\"107.433824\" style=\"fill: #1f77b4; stroke: #1f77b4\"/>\n",
       "     <use xlink:href=\"#mde9751aa6a\" x=\"157.56641\" y=\"85.063357\" style=\"fill: #1f77b4; stroke: #1f77b4\"/>\n",
       "     <use xlink:href=\"#mde9751aa6a\" x=\"152.853226\" y=\"101.081149\" style=\"fill: #1f77b4; stroke: #1f77b4\"/>\n",
       "     <use xlink:href=\"#mde9751aa6a\" x=\"164.238687\" y=\"74.740844\" style=\"fill: #1f77b4; stroke: #1f77b4\"/>\n",
       "     <use xlink:href=\"#mde9751aa6a\" x=\"84.604838\" y=\"48.663227\" style=\"fill: #1f77b4; stroke: #1f77b4\"/>\n",
       "     <use xlink:href=\"#mde9751aa6a\" x=\"135.886207\" y=\"65.356445\" style=\"fill: #1f77b4; stroke: #1f77b4\"/>\n",
       "     <use xlink:href=\"#mde9751aa6a\" x=\"127.808107\" y=\"78.116427\" style=\"fill: #1f77b4; stroke: #1f77b4\"/>\n",
       "     <use xlink:href=\"#mde9751aa6a\" x=\"153.517236\" y=\"77.360132\" style=\"fill: #1f77b4; stroke: #1f77b4\"/>\n",
       "     <use xlink:href=\"#mde9751aa6a\" x=\"131.649517\" y=\"66.210489\" style=\"fill: #1f77b4; stroke: #1f77b4\"/>\n",
       "     <use xlink:href=\"#mde9751aa6a\" x=\"95.501077\" y=\"69.468912\" style=\"fill: #1f77b4; stroke: #1f77b4\"/>\n",
       "     <use xlink:href=\"#mde9751aa6a\" x=\"150.507841\" y=\"88.878438\" style=\"fill: #1f77b4; stroke: #1f77b4\"/>\n",
       "     <use xlink:href=\"#mde9751aa6a\" x=\"188.28554\" y=\"108.214088\" style=\"fill: #1f77b4; stroke: #1f77b4\"/>\n",
       "     <use xlink:href=\"#mde9751aa6a\" x=\"134.078845\" y=\"58.028335\" style=\"fill: #1f77b4; stroke: #1f77b4\"/>\n",
       "     <use xlink:href=\"#mde9751aa6a\" x=\"106.781773\" y=\"65.455585\" style=\"fill: #1f77b4; stroke: #1f77b4\"/>\n",
       "     <use xlink:href=\"#mde9751aa6a\" x=\"134.526893\" y=\"74.530481\" style=\"fill: #1f77b4; stroke: #1f77b4\"/>\n",
       "     <use xlink:href=\"#mde9751aa6a\" x=\"163.27461\" y=\"91.548939\" style=\"fill: #1f77b4; stroke: #1f77b4\"/>\n",
       "     <use xlink:href=\"#mde9751aa6a\" x=\"118.845872\" y=\"73.821926\" style=\"fill: #1f77b4; stroke: #1f77b4\"/>\n",
       "     <use xlink:href=\"#mde9751aa6a\" x=\"135.848274\" y=\"64.208514\" style=\"fill: #1f77b4; stroke: #1f77b4\"/>\n",
       "     <use xlink:href=\"#mde9751aa6a\" x=\"153.707301\" y=\"74.204691\" style=\"fill: #1f77b4; stroke: #1f77b4\"/>\n",
       "     <use xlink:href=\"#mde9751aa6a\" x=\"162.5325\" y=\"92.50997\" style=\"fill: #1f77b4; stroke: #1f77b4\"/>\n",
       "     <use xlink:href=\"#mde9751aa6a\" x=\"175.906656\" y=\"92.623252\" style=\"fill: #1f77b4; stroke: #1f77b4\"/>\n",
       "     <use xlink:href=\"#mde9751aa6a\" x=\"128.474851\" y=\"60.08819\" style=\"fill: #1f77b4; stroke: #1f77b4\"/>\n",
       "     <use xlink:href=\"#mde9751aa6a\" x=\"163.175206\" y=\"95.852973\" style=\"fill: #1f77b4; stroke: #1f77b4\"/>\n",
       "     <use xlink:href=\"#mde9751aa6a\" x=\"105.133282\" y=\"52.692881\" style=\"fill: #1f77b4; stroke: #1f77b4\"/>\n",
       "     <use xlink:href=\"#mde9751aa6a\" x=\"179.099429\" y=\"80.035745\" style=\"fill: #1f77b4; stroke: #1f77b4\"/>\n",
       "     <use xlink:href=\"#mde9751aa6a\" x=\"113.380339\" y=\"44.269609\" style=\"fill: #1f77b4; stroke: #1f77b4\"/>\n",
       "     <use xlink:href=\"#mde9751aa6a\" x=\"136.86248\" y=\"64.953632\" style=\"fill: #1f77b4; stroke: #1f77b4\"/>\n",
       "     <use xlink:href=\"#mde9751aa6a\" x=\"103.900639\" y=\"67.590292\" style=\"fill: #1f77b4; stroke: #1f77b4\"/>\n",
       "     <use xlink:href=\"#mde9751aa6a\" x=\"98.834825\" y=\"83.281203\" style=\"fill: #1f77b4; stroke: #1f77b4\"/>\n",
       "     <use xlink:href=\"#mde9751aa6a\" x=\"84.904602\" y=\"42.528648\" style=\"fill: #1f77b4; stroke: #1f77b4\"/>\n",
       "     <use xlink:href=\"#mde9751aa6a\" x=\"102.231344\" y=\"55.689634\" style=\"fill: #1f77b4; stroke: #1f77b4\"/>\n",
       "     <use xlink:href=\"#mde9751aa6a\" x=\"170.569482\" y=\"91.266607\" style=\"fill: #1f77b4; stroke: #1f77b4\"/>\n",
       "     <use xlink:href=\"#mde9751aa6a\" x=\"85.446788\" y=\"45.410297\" style=\"fill: #1f77b4; stroke: #1f77b4\"/>\n",
       "     <use xlink:href=\"#mde9751aa6a\" x=\"163.695761\" y=\"104.187532\" style=\"fill: #1f77b4; stroke: #1f77b4\"/>\n",
       "     <use xlink:href=\"#mde9751aa6a\" x=\"102.565909\" y=\"51.861052\" style=\"fill: #1f77b4; stroke: #1f77b4\"/>\n",
       "     <use xlink:href=\"#mde9751aa6a\" x=\"149.513055\" y=\"85.919616\" style=\"fill: #1f77b4; stroke: #1f77b4\"/>\n",
       "     <use xlink:href=\"#mde9751aa6a\" x=\"130.179902\" y=\"82.649054\" style=\"fill: #1f77b4; stroke: #1f77b4\"/>\n",
       "     <use xlink:href=\"#mde9751aa6a\" x=\"149.222713\" y=\"89.562569\" style=\"fill: #1f77b4; stroke: #1f77b4\"/>\n",
       "     <use xlink:href=\"#mde9751aa6a\" x=\"132.76609\" y=\"67.223666\" style=\"fill: #1f77b4; stroke: #1f77b4\"/>\n",
       "     <use xlink:href=\"#mde9751aa6a\" x=\"99.488637\" y=\"55.341924\" style=\"fill: #1f77b4; stroke: #1f77b4\"/>\n",
       "     <use xlink:href=\"#mde9751aa6a\" x=\"116.842062\" y=\"70.828721\" style=\"fill: #1f77b4; stroke: #1f77b4\"/>\n",
       "     <use xlink:href=\"#mde9751aa6a\" x=\"134.359496\" y=\"90.458665\" style=\"fill: #1f77b4; stroke: #1f77b4\"/>\n",
       "     <use xlink:href=\"#mde9751aa6a\" x=\"129.369365\" y=\"62.622829\" style=\"fill: #1f77b4; stroke: #1f77b4\"/>\n",
       "     <use xlink:href=\"#mde9751aa6a\" x=\"101.226669\" y=\"55.435252\" style=\"fill: #1f77b4; stroke: #1f77b4\"/>\n",
       "     <use xlink:href=\"#mde9751aa6a\" x=\"121.871882\" y=\"70.142079\" style=\"fill: #1f77b4; stroke: #1f77b4\"/>\n",
       "     <use xlink:href=\"#mde9751aa6a\" x=\"144.425517\" y=\"57.677988\" style=\"fill: #1f77b4; stroke: #1f77b4\"/>\n",
       "     <use xlink:href=\"#mde9751aa6a\" x=\"143.174642\" y=\"77.076345\" style=\"fill: #1f77b4; stroke: #1f77b4\"/>\n",
       "     <use xlink:href=\"#mde9751aa6a\" x=\"120.708336\" y=\"69.124884\" style=\"fill: #1f77b4; stroke: #1f77b4\"/>\n",
       "     <use xlink:href=\"#mde9751aa6a\" x=\"111.886578\" y=\"66.92793\" style=\"fill: #1f77b4; stroke: #1f77b4\"/>\n",
       "     <use xlink:href=\"#mde9751aa6a\" x=\"154.783714\" y=\"95.671979\" style=\"fill: #1f77b4; stroke: #1f77b4\"/>\n",
       "     <use xlink:href=\"#mde9751aa6a\" x=\"152.445394\" y=\"95.895112\" style=\"fill: #1f77b4; stroke: #1f77b4\"/>\n",
       "     <use xlink:href=\"#mde9751aa6a\" x=\"138.718983\" y=\"83.739118\" style=\"fill: #1f77b4; stroke: #1f77b4\"/>\n",
       "     <use xlink:href=\"#mde9751aa6a\" x=\"113.957288\" y=\"39.879803\" style=\"fill: #1f77b4; stroke: #1f77b4\"/>\n",
       "     <use xlink:href=\"#mde9751aa6a\" x=\"184.443461\" y=\"109.924102\" style=\"fill: #1f77b4; stroke: #1f77b4\"/>\n",
       "     <use xlink:href=\"#mde9751aa6a\" x=\"151.915136\" y=\"85.464485\" style=\"fill: #1f77b4; stroke: #1f77b4\"/>\n",
       "     <use xlink:href=\"#mde9751aa6a\" x=\"144.368455\" y=\"91.679788\" style=\"fill: #1f77b4; stroke: #1f77b4\"/>\n",
       "     <use xlink:href=\"#mde9751aa6a\" x=\"129.689928\" y=\"62.939981\" style=\"fill: #1f77b4; stroke: #1f77b4\"/>\n",
       "     <use xlink:href=\"#mde9751aa6a\" x=\"154.52191\" y=\"86.865892\" style=\"fill: #1f77b4; stroke: #1f77b4\"/>\n",
       "     <use xlink:href=\"#mde9751aa6a\" x=\"162.980406\" y=\"106.208468\" style=\"fill: #1f77b4; stroke: #1f77b4\"/>\n",
       "     <use xlink:href=\"#mde9751aa6a\" x=\"103.005292\" y=\"52.360162\" style=\"fill: #1f77b4; stroke: #1f77b4\"/>\n",
       "     <use xlink:href=\"#mde9751aa6a\" x=\"108.458301\" y=\"72.990648\" style=\"fill: #1f77b4; stroke: #1f77b4\"/>\n",
       "     <use xlink:href=\"#mde9751aa6a\" x=\"168.117576\" y=\"84.00848\" style=\"fill: #1f77b4; stroke: #1f77b4\"/>\n",
       "     <use xlink:href=\"#mde9751aa6a\" x=\"114.047676\" y=\"57.644135\" style=\"fill: #1f77b4; stroke: #1f77b4\"/>\n",
       "     <use xlink:href=\"#mde9751aa6a\" x=\"185.182712\" y=\"113.829324\" style=\"fill: #1f77b4; stroke: #1f77b4\"/>\n",
       "     <use xlink:href=\"#mde9751aa6a\" x=\"116.436896\" y=\"54.02217\" style=\"fill: #1f77b4; stroke: #1f77b4\"/>\n",
       "     <use xlink:href=\"#mde9751aa6a\" x=\"78.107063\" y=\"56.259528\" style=\"fill: #1f77b4; stroke: #1f77b4\"/>\n",
       "     <use xlink:href=\"#mde9751aa6a\" x=\"134.026369\" y=\"89.161054\" style=\"fill: #1f77b4; stroke: #1f77b4\"/>\n",
       "     <use xlink:href=\"#mde9751aa6a\" x=\"123.742491\" y=\"67.875814\" style=\"fill: #1f77b4; stroke: #1f77b4\"/>\n",
       "     <use xlink:href=\"#mde9751aa6a\" x=\"116.546185\" y=\"62.206276\" style=\"fill: #1f77b4; stroke: #1f77b4\"/>\n",
       "     <use xlink:href=\"#mde9751aa6a\" x=\"126.127529\" y=\"81.651693\" style=\"fill: #1f77b4; stroke: #1f77b4\"/>\n",
       "     <use xlink:href=\"#mde9751aa6a\" x=\"153.379173\" y=\"78.774587\" style=\"fill: #1f77b4; stroke: #1f77b4\"/>\n",
       "     <use xlink:href=\"#mde9751aa6a\" x=\"86.784343\" y=\"37.949724\" style=\"fill: #1f77b4; stroke: #1f77b4\"/>\n",
       "     <use xlink:href=\"#mde9751aa6a\" x=\"130.506847\" y=\"78.833588\" style=\"fill: #1f77b4; stroke: #1f77b4\"/>\n",
       "     <use xlink:href=\"#mde9751aa6a\" x=\"109.599775\" y=\"68.222395\" style=\"fill: #1f77b4; stroke: #1f77b4\"/>\n",
       "     <use xlink:href=\"#mde9751aa6a\" x=\"112.575825\" y=\"53.444982\" style=\"fill: #1f77b4; stroke: #1f77b4\"/>\n",
       "     <use xlink:href=\"#mde9751aa6a\" x=\"119.127449\" y=\"72.503564\" style=\"fill: #1f77b4; stroke: #1f77b4\"/>\n",
       "     <use xlink:href=\"#mde9751aa6a\" x=\"155.272106\" y=\"101.702255\" style=\"fill: #1f77b4; stroke: #1f77b4\"/>\n",
       "     <use xlink:href=\"#mde9751aa6a\" x=\"144.081787\" y=\"76.01678\" style=\"fill: #1f77b4; stroke: #1f77b4\"/>\n",
       "     <use xlink:href=\"#mde9751aa6a\" x=\"178.518262\" y=\"87.294342\" style=\"fill: #1f77b4; stroke: #1f77b4\"/>\n",
       "     <use xlink:href=\"#mde9751aa6a\" x=\"151.666001\" y=\"84.845152\" style=\"fill: #1f77b4; stroke: #1f77b4\"/>\n",
       "     <use xlink:href=\"#mde9751aa6a\" x=\"112.578232\" y=\"49.852161\" style=\"fill: #1f77b4; stroke: #1f77b4\"/>\n",
       "     <use xlink:href=\"#mde9751aa6a\" x=\"137.127077\" y=\"66.802733\" style=\"fill: #1f77b4; stroke: #1f77b4\"/>\n",
       "     <use xlink:href=\"#mde9751aa6a\" x=\"57.456492\" y=\"37.325552\" style=\"fill: #1f77b4; stroke: #1f77b4\"/>\n",
       "     <use xlink:href=\"#mde9751aa6a\" x=\"118.081325\" y=\"51.147931\" style=\"fill: #1f77b4; stroke: #1f77b4\"/>\n",
       "     <use xlink:href=\"#mde9751aa6a\" x=\"141.096842\" y=\"68.626309\" style=\"fill: #1f77b4; stroke: #1f77b4\"/>\n",
       "     <use xlink:href=\"#mde9751aa6a\" x=\"143.036039\" y=\"66.990589\" style=\"fill: #1f77b4; stroke: #1f77b4\"/>\n",
       "     <use xlink:href=\"#mde9751aa6a\" x=\"96.396286\" y=\"61.318191\" style=\"fill: #1f77b4; stroke: #1f77b4\"/>\n",
       "     <use xlink:href=\"#mde9751aa6a\" x=\"126.675239\" y=\"92.448942\" style=\"fill: #1f77b4; stroke: #1f77b4\"/>\n",
       "     <use xlink:href=\"#mde9751aa6a\" x=\"112.426835\" y=\"69.022711\" style=\"fill: #1f77b4; stroke: #1f77b4\"/>\n",
       "     <use xlink:href=\"#mde9751aa6a\" x=\"176.703144\" y=\"98.944208\" style=\"fill: #1f77b4; stroke: #1f77b4\"/>\n",
       "     <use xlink:href=\"#mde9751aa6a\" x=\"143.193715\" y=\"102.340894\" style=\"fill: #1f77b4; stroke: #1f77b4\"/>\n",
       "     <use xlink:href=\"#mde9751aa6a\" x=\"129.659511\" y=\"74.036214\" style=\"fill: #1f77b4; stroke: #1f77b4\"/>\n",
       "     <use xlink:href=\"#mde9751aa6a\" x=\"97.619055\" y=\"49.339596\" style=\"fill: #1f77b4; stroke: #1f77b4\"/>\n",
       "     <use xlink:href=\"#mde9751aa6a\" x=\"124.260135\" y=\"71.715614\" style=\"fill: #1f77b4; stroke: #1f77b4\"/>\n",
       "     <use xlink:href=\"#mde9751aa6a\" x=\"117.332316\" y=\"48.928639\" style=\"fill: #1f77b4; stroke: #1f77b4\"/>\n",
       "     <use xlink:href=\"#mde9751aa6a\" x=\"135.663946\" y=\"93.527232\" style=\"fill: #1f77b4; stroke: #1f77b4\"/>\n",
       "     <use xlink:href=\"#mde9751aa6a\" x=\"158.321012\" y=\"99.04252\" style=\"fill: #1f77b4; stroke: #1f77b4\"/>\n",
       "     <use xlink:href=\"#mde9751aa6a\" x=\"102.622687\" y=\"46.011857\" style=\"fill: #1f77b4; stroke: #1f77b4\"/>\n",
       "     <use xlink:href=\"#mde9751aa6a\" x=\"104.945485\" y=\"48.323919\" style=\"fill: #1f77b4; stroke: #1f77b4\"/>\n",
       "     <use xlink:href=\"#mde9751aa6a\" x=\"115.508188\" y=\"69.322627\" style=\"fill: #1f77b4; stroke: #1f77b4\"/>\n",
       "     <use xlink:href=\"#mde9751aa6a\" x=\"141.184829\" y=\"88.463285\" style=\"fill: #1f77b4; stroke: #1f77b4\"/>\n",
       "     <use xlink:href=\"#mde9751aa6a\" x=\"138.33404\" y=\"79.147816\" style=\"fill: #1f77b4; stroke: #1f77b4\"/>\n",
       "     <use xlink:href=\"#mde9751aa6a\" x=\"112.032299\" y=\"68.874184\" style=\"fill: #1f77b4; stroke: #1f77b4\"/>\n",
       "     <use xlink:href=\"#mde9751aa6a\" x=\"144.75018\" y=\"80.532061\" style=\"fill: #1f77b4; stroke: #1f77b4\"/>\n",
       "     <use xlink:href=\"#mde9751aa6a\" x=\"127.061354\" y=\"65.22906\" style=\"fill: #1f77b4; stroke: #1f77b4\"/>\n",
       "     <use xlink:href=\"#mde9751aa6a\" x=\"117.785849\" y=\"88.203128\" style=\"fill: #1f77b4; stroke: #1f77b4\"/>\n",
       "     <use xlink:href=\"#mde9751aa6a\" x=\"197.263701\" y=\"124.800958\" style=\"fill: #1f77b4; stroke: #1f77b4\"/>\n",
       "     <use xlink:href=\"#mde9751aa6a\" x=\"170.656161\" y=\"110.457045\" style=\"fill: #1f77b4; stroke: #1f77b4\"/>\n",
       "     <use xlink:href=\"#mde9751aa6a\" x=\"152.749041\" y=\"81.798738\" style=\"fill: #1f77b4; stroke: #1f77b4\"/>\n",
       "     <use xlink:href=\"#mde9751aa6a\" x=\"170.497636\" y=\"118.417106\" style=\"fill: #1f77b4; stroke: #1f77b4\"/>\n",
       "     <use xlink:href=\"#mde9751aa6a\" x=\"167.203577\" y=\"109.990488\" style=\"fill: #1f77b4; stroke: #1f77b4\"/>\n",
       "     <use xlink:href=\"#mde9751aa6a\" x=\"86.781974\" y=\"44.517755\" style=\"fill: #1f77b4; stroke: #1f77b4\"/>\n",
       "     <use xlink:href=\"#mde9751aa6a\" x=\"119.710225\" y=\"60.306503\" style=\"fill: #1f77b4; stroke: #1f77b4\"/>\n",
       "     <use xlink:href=\"#mde9751aa6a\" x=\"165.92242\" y=\"105.60788\" style=\"fill: #1f77b4; stroke: #1f77b4\"/>\n",
       "     <use xlink:href=\"#mde9751aa6a\" x=\"153.904534\" y=\"80.718113\" style=\"fill: #1f77b4; stroke: #1f77b4\"/>\n",
       "     <use xlink:href=\"#mde9751aa6a\" x=\"170.222595\" y=\"108.748234\" style=\"fill: #1f77b4; stroke: #1f77b4\"/>\n",
       "     <use xlink:href=\"#mde9751aa6a\" x=\"117.442685\" y=\"77.336324\" style=\"fill: #1f77b4; stroke: #1f77b4\"/>\n",
       "     <use xlink:href=\"#mde9751aa6a\" x=\"99.904704\" y=\"47.093238\" style=\"fill: #1f77b4; stroke: #1f77b4\"/>\n",
       "     <use xlink:href=\"#mde9751aa6a\" x=\"139.480091\" y=\"87.70396\" style=\"fill: #1f77b4; stroke: #1f77b4\"/>\n",
       "     <use xlink:href=\"#mde9751aa6a\" x=\"179.847096\" y=\"102.978355\" style=\"fill: #1f77b4; stroke: #1f77b4\"/>\n",
       "     <use xlink:href=\"#mde9751aa6a\" x=\"140.885933\" y=\"82.917752\" style=\"fill: #1f77b4; stroke: #1f77b4\"/>\n",
       "     <use xlink:href=\"#mde9751aa6a\" x=\"91.676185\" y=\"38.5415\" style=\"fill: #1f77b4; stroke: #1f77b4\"/>\n",
       "     <use xlink:href=\"#mde9751aa6a\" x=\"138.603035\" y=\"96.03013\" style=\"fill: #1f77b4; stroke: #1f77b4\"/>\n",
       "     <use xlink:href=\"#mde9751aa6a\" x=\"106.44575\" y=\"79.227752\" style=\"fill: #1f77b4; stroke: #1f77b4\"/>\n",
       "     <use xlink:href=\"#mde9751aa6a\" x=\"121.770824\" y=\"73.169561\" style=\"fill: #1f77b4; stroke: #1f77b4\"/>\n",
       "     <use xlink:href=\"#mde9751aa6a\" x=\"182.835539\" y=\"79.783792\" style=\"fill: #1f77b4; stroke: #1f77b4\"/>\n",
       "     <use xlink:href=\"#mde9751aa6a\" x=\"126.381578\" y=\"72.730557\" style=\"fill: #1f77b4; stroke: #1f77b4\"/>\n",
       "     <use xlink:href=\"#mde9751aa6a\" x=\"103.489252\" y=\"44.941072\" style=\"fill: #1f77b4; stroke: #1f77b4\"/>\n",
       "     <use xlink:href=\"#mde9751aa6a\" x=\"154.555437\" y=\"93.115303\" style=\"fill: #1f77b4; stroke: #1f77b4\"/>\n",
       "     <use xlink:href=\"#mde9751aa6a\" x=\"165.746042\" y=\"90.69776\" style=\"fill: #1f77b4; stroke: #1f77b4\"/>\n",
       "     <use xlink:href=\"#mde9751aa6a\" x=\"124.433869\" y=\"77.213456\" style=\"fill: #1f77b4; stroke: #1f77b4\"/>\n",
       "     <use xlink:href=\"#mde9751aa6a\" x=\"166.552439\" y=\"88.398007\" style=\"fill: #1f77b4; stroke: #1f77b4\"/>\n",
       "     <use xlink:href=\"#mde9751aa6a\" x=\"186.070046\" y=\"119.620852\" style=\"fill: #1f77b4; stroke: #1f77b4\"/>\n",
       "     <use xlink:href=\"#mde9751aa6a\" x=\"139.126788\" y=\"82.924335\" style=\"fill: #1f77b4; stroke: #1f77b4\"/>\n",
       "     <use xlink:href=\"#mde9751aa6a\" x=\"139.572011\" y=\"83.384553\" style=\"fill: #1f77b4; stroke: #1f77b4\"/>\n",
       "     <use xlink:href=\"#mde9751aa6a\" x=\"99.133152\" y=\"54.077615\" style=\"fill: #1f77b4; stroke: #1f77b4\"/>\n",
       "     <use xlink:href=\"#mde9751aa6a\" x=\"46.19927\" y=\"22.704831\" style=\"fill: #1f77b4; stroke: #1f77b4\"/>\n",
       "     <use xlink:href=\"#mde9751aa6a\" x=\"99.071731\" y=\"75.544723\" style=\"fill: #1f77b4; stroke: #1f77b4\"/>\n",
       "     <use xlink:href=\"#mde9751aa6a\" x=\"110.810078\" y=\"62.01094\" style=\"fill: #1f77b4; stroke: #1f77b4\"/>\n",
       "     <use xlink:href=\"#mde9751aa6a\" x=\"153.363546\" y=\"86.707354\" style=\"fill: #1f77b4; stroke: #1f77b4\"/>\n",
       "     <use xlink:href=\"#mde9751aa6a\" x=\"131.826332\" y=\"72.222282\" style=\"fill: #1f77b4; stroke: #1f77b4\"/>\n",
       "     <use xlink:href=\"#mde9751aa6a\" x=\"161.760751\" y=\"61.754004\" style=\"fill: #1f77b4; stroke: #1f77b4\"/>\n",
       "     <use xlink:href=\"#mde9751aa6a\" x=\"153.268176\" y=\"93.478719\" style=\"fill: #1f77b4; stroke: #1f77b4\"/>\n",
       "     <use xlink:href=\"#mde9751aa6a\" x=\"130.16122\" y=\"91.743461\" style=\"fill: #1f77b4; stroke: #1f77b4\"/>\n",
       "     <use xlink:href=\"#mde9751aa6a\" x=\"127.730773\" y=\"56.630562\" style=\"fill: #1f77b4; stroke: #1f77b4\"/>\n",
       "     <use xlink:href=\"#mde9751aa6a\" x=\"144.172986\" y=\"84.581928\" style=\"fill: #1f77b4; stroke: #1f77b4\"/>\n",
       "     <use xlink:href=\"#mde9751aa6a\" x=\"110.579511\" y=\"68.922782\" style=\"fill: #1f77b4; stroke: #1f77b4\"/>\n",
       "     <use xlink:href=\"#mde9751aa6a\" x=\"136.901727\" y=\"68.235723\" style=\"fill: #1f77b4; stroke: #1f77b4\"/>\n",
       "     <use xlink:href=\"#mde9751aa6a\" x=\"114.596188\" y=\"71.604715\" style=\"fill: #1f77b4; stroke: #1f77b4\"/>\n",
       "     <use xlink:href=\"#mde9751aa6a\" x=\"130.861504\" y=\"65.719361\" style=\"fill: #1f77b4; stroke: #1f77b4\"/>\n",
       "     <use xlink:href=\"#mde9751aa6a\" x=\"187.753567\" y=\"124.717421\" style=\"fill: #1f77b4; stroke: #1f77b4\"/>\n",
       "     <use xlink:href=\"#mde9751aa6a\" x=\"112.20904\" y=\"62.356479\" style=\"fill: #1f77b4; stroke: #1f77b4\"/>\n",
       "     <use xlink:href=\"#mde9751aa6a\" x=\"133.535616\" y=\"74.84076\" style=\"fill: #1f77b4; stroke: #1f77b4\"/>\n",
       "     <use xlink:href=\"#mde9751aa6a\" x=\"141.13265\" y=\"64.409761\" style=\"fill: #1f77b4; stroke: #1f77b4\"/>\n",
       "     <use xlink:href=\"#mde9751aa6a\" x=\"132.944387\" y=\"76.530623\" style=\"fill: #1f77b4; stroke: #1f77b4\"/>\n",
       "     <use xlink:href=\"#mde9751aa6a\" x=\"163.437619\" y=\"88.357808\" style=\"fill: #1f77b4; stroke: #1f77b4\"/>\n",
       "     <use xlink:href=\"#mde9751aa6a\" x=\"121.4392\" y=\"77.647627\" style=\"fill: #1f77b4; stroke: #1f77b4\"/>\n",
       "     <use xlink:href=\"#mde9751aa6a\" x=\"166.58448\" y=\"103.47253\" style=\"fill: #1f77b4; stroke: #1f77b4\"/>\n",
       "     <use xlink:href=\"#mde9751aa6a\" x=\"158.217924\" y=\"78.639578\" style=\"fill: #1f77b4; stroke: #1f77b4\"/>\n",
       "     <use xlink:href=\"#mde9751aa6a\" x=\"158.453635\" y=\"87.915415\" style=\"fill: #1f77b4; stroke: #1f77b4\"/>\n",
       "     <use xlink:href=\"#mde9751aa6a\" x=\"165.983479\" y=\"95.694121\" style=\"fill: #1f77b4; stroke: #1f77b4\"/>\n",
       "     <use xlink:href=\"#mde9751aa6a\" x=\"116.647298\" y=\"71.61712\" style=\"fill: #1f77b4; stroke: #1f77b4\"/>\n",
       "     <use xlink:href=\"#mde9751aa6a\" x=\"188.129397\" y=\"121.171286\" style=\"fill: #1f77b4; stroke: #1f77b4\"/>\n",
       "     <use xlink:href=\"#mde9751aa6a\" x=\"120.006997\" y=\"79.26157\" style=\"fill: #1f77b4; stroke: #1f77b4\"/>\n",
       "     <use xlink:href=\"#mde9751aa6a\" x=\"147.094225\" y=\"78.414942\" style=\"fill: #1f77b4; stroke: #1f77b4\"/>\n",
       "     <use xlink:href=\"#mde9751aa6a\" x=\"153.462373\" y=\"70.690751\" style=\"fill: #1f77b4; stroke: #1f77b4\"/>\n",
       "     <use xlink:href=\"#mde9751aa6a\" x=\"169.466519\" y=\"108.90087\" style=\"fill: #1f77b4; stroke: #1f77b4\"/>\n",
       "     <use xlink:href=\"#mde9751aa6a\" x=\"146.489594\" y=\"96.82847\" style=\"fill: #1f77b4; stroke: #1f77b4\"/>\n",
       "     <use xlink:href=\"#mde9751aa6a\" x=\"123.471479\" y=\"56.802639\" style=\"fill: #1f77b4; stroke: #1f77b4\"/>\n",
       "     <use xlink:href=\"#mde9751aa6a\" x=\"151.773937\" y=\"75.323565\" style=\"fill: #1f77b4; stroke: #1f77b4\"/>\n",
       "     <use xlink:href=\"#mde9751aa6a\" x=\"159.630024\" y=\"91.997796\" style=\"fill: #1f77b4; stroke: #1f77b4\"/>\n",
       "     <use xlink:href=\"#mde9751aa6a\" x=\"102.739825\" y=\"56.929995\" style=\"fill: #1f77b4; stroke: #1f77b4\"/>\n",
       "     <use xlink:href=\"#mde9751aa6a\" x=\"151.088326\" y=\"113.471028\" style=\"fill: #1f77b4; stroke: #1f77b4\"/>\n",
       "     <use xlink:href=\"#mde9751aa6a\" x=\"121.965329\" y=\"98.486133\" style=\"fill: #1f77b4; stroke: #1f77b4\"/>\n",
       "     <use xlink:href=\"#mde9751aa6a\" x=\"101.743324\" y=\"76.707689\" style=\"fill: #1f77b4; stroke: #1f77b4\"/>\n",
       "     <use xlink:href=\"#mde9751aa6a\" x=\"118.13117\" y=\"68.251195\" style=\"fill: #1f77b4; stroke: #1f77b4\"/>\n",
       "     <use xlink:href=\"#mde9751aa6a\" x=\"109.274146\" y=\"61.165364\" style=\"fill: #1f77b4; stroke: #1f77b4\"/>\n",
       "     <use xlink:href=\"#mde9751aa6a\" x=\"125.877794\" y=\"86.718026\" style=\"fill: #1f77b4; stroke: #1f77b4\"/>\n",
       "     <use xlink:href=\"#mde9751aa6a\" x=\"160.10542\" y=\"95.482089\" style=\"fill: #1f77b4; stroke: #1f77b4\"/>\n",
       "     <use xlink:href=\"#mde9751aa6a\" x=\"129.311245\" y=\"90.43488\" style=\"fill: #1f77b4; stroke: #1f77b4\"/>\n",
       "     <use xlink:href=\"#mde9751aa6a\" x=\"142.591861\" y=\"83.202507\" style=\"fill: #1f77b4; stroke: #1f77b4\"/>\n",
       "     <use xlink:href=\"#mde9751aa6a\" x=\"133.505207\" y=\"84.259028\" style=\"fill: #1f77b4; stroke: #1f77b4\"/>\n",
       "     <use xlink:href=\"#mde9751aa6a\" x=\"107.664396\" y=\"74.107296\" style=\"fill: #1f77b4; stroke: #1f77b4\"/>\n",
       "     <use xlink:href=\"#mde9751aa6a\" x=\"172.774924\" y=\"100.891844\" style=\"fill: #1f77b4; stroke: #1f77b4\"/>\n",
       "     <use xlink:href=\"#mde9751aa6a\" x=\"169.98447\" y=\"112.49335\" style=\"fill: #1f77b4; stroke: #1f77b4\"/>\n",
       "     <use xlink:href=\"#mde9751aa6a\" x=\"125.274833\" y=\"69.805249\" style=\"fill: #1f77b4; stroke: #1f77b4\"/>\n",
       "     <use xlink:href=\"#mde9751aa6a\" x=\"156.949717\" y=\"88.968464\" style=\"fill: #1f77b4; stroke: #1f77b4\"/>\n",
       "     <use xlink:href=\"#mde9751aa6a\" x=\"150.014479\" y=\"85.51403\" style=\"fill: #1f77b4; stroke: #1f77b4\"/>\n",
       "     <use xlink:href=\"#mde9751aa6a\" x=\"112.153574\" y=\"49.019019\" style=\"fill: #1f77b4; stroke: #1f77b4\"/>\n",
       "     <use xlink:href=\"#mde9751aa6a\" x=\"129.686477\" y=\"70.29149\" style=\"fill: #1f77b4; stroke: #1f77b4\"/>\n",
       "     <use xlink:href=\"#mde9751aa6a\" x=\"152.156959\" y=\"88.734857\" style=\"fill: #1f77b4; stroke: #1f77b4\"/>\n",
       "     <use xlink:href=\"#mde9751aa6a\" x=\"150.70891\" y=\"81.48716\" style=\"fill: #1f77b4; stroke: #1f77b4\"/>\n",
       "     <use xlink:href=\"#mde9751aa6a\" x=\"128.846422\" y=\"67.982409\" style=\"fill: #1f77b4; stroke: #1f77b4\"/>\n",
       "     <use xlink:href=\"#mde9751aa6a\" x=\"163.445895\" y=\"109.886648\" style=\"fill: #1f77b4; stroke: #1f77b4\"/>\n",
       "     <use xlink:href=\"#mde9751aa6a\" x=\"141.039124\" y=\"74.805038\" style=\"fill: #1f77b4; stroke: #1f77b4\"/>\n",
       "     <use xlink:href=\"#mde9751aa6a\" x=\"123.141643\" y=\"55.077551\" style=\"fill: #1f77b4; stroke: #1f77b4\"/>\n",
       "     <use xlink:href=\"#mde9751aa6a\" x=\"154.913231\" y=\"86.203356\" style=\"fill: #1f77b4; stroke: #1f77b4\"/>\n",
       "     <use xlink:href=\"#mde9751aa6a\" x=\"110.811998\" y=\"65.988025\" style=\"fill: #1f77b4; stroke: #1f77b4\"/>\n",
       "     <use xlink:href=\"#mde9751aa6a\" x=\"143.22007\" y=\"90.946772\" style=\"fill: #1f77b4; stroke: #1f77b4\"/>\n",
       "     <use xlink:href=\"#mde9751aa6a\" x=\"191.43532\" y=\"108.995557\" style=\"fill: #1f77b4; stroke: #1f77b4\"/>\n",
       "     <use xlink:href=\"#mde9751aa6a\" x=\"143.294177\" y=\"79.651996\" style=\"fill: #1f77b4; stroke: #1f77b4\"/>\n",
       "     <use xlink:href=\"#mde9751aa6a\" x=\"141.578039\" y=\"85.85169\" style=\"fill: #1f77b4; stroke: #1f77b4\"/>\n",
       "     <use xlink:href=\"#mde9751aa6a\" x=\"161.210228\" y=\"82.843517\" style=\"fill: #1f77b4; stroke: #1f77b4\"/>\n",
       "     <use xlink:href=\"#mde9751aa6a\" x=\"159.86564\" y=\"84.298725\" style=\"fill: #1f77b4; stroke: #1f77b4\"/>\n",
       "     <use xlink:href=\"#mde9751aa6a\" x=\"114.058047\" y=\"78.74359\" style=\"fill: #1f77b4; stroke: #1f77b4\"/>\n",
       "     <use xlink:href=\"#mde9751aa6a\" x=\"107.504479\" y=\"55.837\" style=\"fill: #1f77b4; stroke: #1f77b4\"/>\n",
       "     <use xlink:href=\"#mde9751aa6a\" x=\"95.505196\" y=\"43.638921\" style=\"fill: #1f77b4; stroke: #1f77b4\"/>\n",
       "     <use xlink:href=\"#mde9751aa6a\" x=\"145.458903\" y=\"79.293334\" style=\"fill: #1f77b4; stroke: #1f77b4\"/>\n",
       "     <use xlink:href=\"#mde9751aa6a\" x=\"159.815619\" y=\"78.71866\" style=\"fill: #1f77b4; stroke: #1f77b4\"/>\n",
       "     <use xlink:href=\"#mde9751aa6a\" x=\"166.20788\" y=\"85.794775\" style=\"fill: #1f77b4; stroke: #1f77b4\"/>\n",
       "     <use xlink:href=\"#mde9751aa6a\" x=\"133.358118\" y=\"78.750311\" style=\"fill: #1f77b4; stroke: #1f77b4\"/>\n",
       "     <use xlink:href=\"#mde9751aa6a\" x=\"145.686149\" y=\"57.265359\" style=\"fill: #1f77b4; stroke: #1f77b4\"/>\n",
       "     <use xlink:href=\"#mde9751aa6a\" x=\"156.640436\" y=\"92.744745\" style=\"fill: #1f77b4; stroke: #1f77b4\"/>\n",
       "     <use xlink:href=\"#mde9751aa6a\" x=\"139.70398\" y=\"73.911655\" style=\"fill: #1f77b4; stroke: #1f77b4\"/>\n",
       "     <use xlink:href=\"#mde9751aa6a\" x=\"111.652781\" y=\"51.676496\" style=\"fill: #1f77b4; stroke: #1f77b4\"/>\n",
       "     <use xlink:href=\"#mde9751aa6a\" x=\"143.412675\" y=\"80.096503\" style=\"fill: #1f77b4; stroke: #1f77b4\"/>\n",
       "     <use xlink:href=\"#mde9751aa6a\" x=\"125.328152\" y=\"65.951993\" style=\"fill: #1f77b4; stroke: #1f77b4\"/>\n",
       "     <use xlink:href=\"#mde9751aa6a\" x=\"161.722473\" y=\"99.71086\" style=\"fill: #1f77b4; stroke: #1f77b4\"/>\n",
       "     <use xlink:href=\"#mde9751aa6a\" x=\"183.988608\" y=\"91.554706\" style=\"fill: #1f77b4; stroke: #1f77b4\"/>\n",
       "     <use xlink:href=\"#mde9751aa6a\" x=\"113.410378\" y=\"50.335965\" style=\"fill: #1f77b4; stroke: #1f77b4\"/>\n",
       "     <use xlink:href=\"#mde9751aa6a\" x=\"171.974207\" y=\"102.462347\" style=\"fill: #1f77b4; stroke: #1f77b4\"/>\n",
       "     <use xlink:href=\"#mde9751aa6a\" x=\"109.220177\" y=\"74.71564\" style=\"fill: #1f77b4; stroke: #1f77b4\"/>\n",
       "     <use xlink:href=\"#mde9751aa6a\" x=\"107.313304\" y=\"49.037165\" style=\"fill: #1f77b4; stroke: #1f77b4\"/>\n",
       "     <use xlink:href=\"#mde9751aa6a\" x=\"144.099507\" y=\"99.319027\" style=\"fill: #1f77b4; stroke: #1f77b4\"/>\n",
       "     <use xlink:href=\"#mde9751aa6a\" x=\"120.014639\" y=\"63.443827\" style=\"fill: #1f77b4; stroke: #1f77b4\"/>\n",
       "     <use xlink:href=\"#mde9751aa6a\" x=\"79.138368\" y=\"49.792652\" style=\"fill: #1f77b4; stroke: #1f77b4\"/>\n",
       "     <use xlink:href=\"#mde9751aa6a\" x=\"97.354984\" y=\"50.05611\" style=\"fill: #1f77b4; stroke: #1f77b4\"/>\n",
       "     <use xlink:href=\"#mde9751aa6a\" x=\"128.570821\" y=\"81.321182\" style=\"fill: #1f77b4; stroke: #1f77b4\"/>\n",
       "     <use xlink:href=\"#mde9751aa6a\" x=\"131.567474\" y=\"69.957292\" style=\"fill: #1f77b4; stroke: #1f77b4\"/>\n",
       "     <use xlink:href=\"#mde9751aa6a\" x=\"104.645091\" y=\"68.891507\" style=\"fill: #1f77b4; stroke: #1f77b4\"/>\n",
       "     <use xlink:href=\"#mde9751aa6a\" x=\"165.296205\" y=\"95.101502\" style=\"fill: #1f77b4; stroke: #1f77b4\"/>\n",
       "     <use xlink:href=\"#mde9751aa6a\" x=\"161.474545\" y=\"84.560723\" style=\"fill: #1f77b4; stroke: #1f77b4\"/>\n",
       "     <use xlink:href=\"#mde9751aa6a\" x=\"123.758528\" y=\"74.74637\" style=\"fill: #1f77b4; stroke: #1f77b4\"/>\n",
       "     <use xlink:href=\"#mde9751aa6a\" x=\"141.698516\" y=\"96.862877\" style=\"fill: #1f77b4; stroke: #1f77b4\"/>\n",
       "     <use xlink:href=\"#mde9751aa6a\" x=\"137.058756\" y=\"66.429506\" style=\"fill: #1f77b4; stroke: #1f77b4\"/>\n",
       "     <use xlink:href=\"#mde9751aa6a\" x=\"157.781312\" y=\"100.420989\" style=\"fill: #1f77b4; stroke: #1f77b4\"/>\n",
       "     <use xlink:href=\"#mde9751aa6a\" x=\"142.896824\" y=\"70.452717\" style=\"fill: #1f77b4; stroke: #1f77b4\"/>\n",
       "     <use xlink:href=\"#mde9751aa6a\" x=\"151.719877\" y=\"71.523306\" style=\"fill: #1f77b4; stroke: #1f77b4\"/>\n",
       "     <use xlink:href=\"#mde9751aa6a\" x=\"158.842909\" y=\"87.289716\" style=\"fill: #1f77b4; stroke: #1f77b4\"/>\n",
       "     <use xlink:href=\"#mde9751aa6a\" x=\"90.109306\" y=\"59.703472\" style=\"fill: #1f77b4; stroke: #1f77b4\"/>\n",
       "     <use xlink:href=\"#mde9751aa6a\" x=\"177.295904\" y=\"102.175767\" style=\"fill: #1f77b4; stroke: #1f77b4\"/>\n",
       "     <use xlink:href=\"#mde9751aa6a\" x=\"139.144837\" y=\"78.749557\" style=\"fill: #1f77b4; stroke: #1f77b4\"/>\n",
       "     <use xlink:href=\"#mde9751aa6a\" x=\"114.613345\" y=\"60.908929\" style=\"fill: #1f77b4; stroke: #1f77b4\"/>\n",
       "     <use xlink:href=\"#mde9751aa6a\" x=\"163.440545\" y=\"88.806566\" style=\"fill: #1f77b4; stroke: #1f77b4\"/>\n",
       "     <use xlink:href=\"#mde9751aa6a\" x=\"169.995208\" y=\"94.346695\" style=\"fill: #1f77b4; stroke: #1f77b4\"/>\n",
       "     <use xlink:href=\"#mde9751aa6a\" x=\"110.842635\" y=\"55.136\" style=\"fill: #1f77b4; stroke: #1f77b4\"/>\n",
       "     <use xlink:href=\"#mde9751aa6a\" x=\"166.266179\" y=\"80.40354\" style=\"fill: #1f77b4; stroke: #1f77b4\"/>\n",
       "     <use xlink:href=\"#mde9751aa6a\" x=\"117.756176\" y=\"53.393214\" style=\"fill: #1f77b4; stroke: #1f77b4\"/>\n",
       "     <use xlink:href=\"#mde9751aa6a\" x=\"171.382481\" y=\"91.61669\" style=\"fill: #1f77b4; stroke: #1f77b4\"/>\n",
       "     <use xlink:href=\"#mde9751aa6a\" x=\"141.958914\" y=\"78.836335\" style=\"fill: #1f77b4; stroke: #1f77b4\"/>\n",
       "     <use xlink:href=\"#mde9751aa6a\" x=\"146.218986\" y=\"78.668694\" style=\"fill: #1f77b4; stroke: #1f77b4\"/>\n",
       "     <use xlink:href=\"#mde9751aa6a\" x=\"100.46429\" y=\"59.386494\" style=\"fill: #1f77b4; stroke: #1f77b4\"/>\n",
       "     <use xlink:href=\"#mde9751aa6a\" x=\"134.038625\" y=\"65.031128\" style=\"fill: #1f77b4; stroke: #1f77b4\"/>\n",
       "     <use xlink:href=\"#mde9751aa6a\" x=\"172.652746\" y=\"100.278348\" style=\"fill: #1f77b4; stroke: #1f77b4\"/>\n",
       "     <use xlink:href=\"#mde9751aa6a\" x=\"164.895244\" y=\"116.452673\" style=\"fill: #1f77b4; stroke: #1f77b4\"/>\n",
       "     <use xlink:href=\"#mde9751aa6a\" x=\"107.419826\" y=\"44.603181\" style=\"fill: #1f77b4; stroke: #1f77b4\"/>\n",
       "     <use xlink:href=\"#mde9751aa6a\" x=\"157.181988\" y=\"105.529239\" style=\"fill: #1f77b4; stroke: #1f77b4\"/>\n",
       "     <use xlink:href=\"#mde9751aa6a\" x=\"115.183653\" y=\"50.549841\" style=\"fill: #1f77b4; stroke: #1f77b4\"/>\n",
       "     <use xlink:href=\"#mde9751aa6a\" x=\"204.831721\" y=\"115.570483\" style=\"fill: #1f77b4; stroke: #1f77b4\"/>\n",
       "     <use xlink:href=\"#mde9751aa6a\" x=\"149.424961\" y=\"77.029404\" style=\"fill: #1f77b4; stroke: #1f77b4\"/>\n",
       "     <use xlink:href=\"#mde9751aa6a\" x=\"140.670601\" y=\"64.01671\" style=\"fill: #1f77b4; stroke: #1f77b4\"/>\n",
       "     <use xlink:href=\"#mde9751aa6a\" x=\"63.8592\" y=\"24.628611\" style=\"fill: #1f77b4; stroke: #1f77b4\"/>\n",
       "     <use xlink:href=\"#mde9751aa6a\" x=\"122.828406\" y=\"87.710875\" style=\"fill: #1f77b4; stroke: #1f77b4\"/>\n",
       "     <use xlink:href=\"#mde9751aa6a\" x=\"135.764416\" y=\"87.936838\" style=\"fill: #1f77b4; stroke: #1f77b4\"/>\n",
       "     <use xlink:href=\"#mde9751aa6a\" x=\"146.116118\" y=\"98.67775\" style=\"fill: #1f77b4; stroke: #1f77b4\"/>\n",
       "     <use xlink:href=\"#mde9751aa6a\" x=\"98.642464\" y=\"46.482676\" style=\"fill: #1f77b4; stroke: #1f77b4\"/>\n",
       "     <use xlink:href=\"#mde9751aa6a\" x=\"158.547997\" y=\"106.695377\" style=\"fill: #1f77b4; stroke: #1f77b4\"/>\n",
       "     <use xlink:href=\"#mde9751aa6a\" x=\"154.999078\" y=\"87.752734\" style=\"fill: #1f77b4; stroke: #1f77b4\"/>\n",
       "     <use xlink:href=\"#mde9751aa6a\" x=\"99.967789\" y=\"71.975972\" style=\"fill: #1f77b4; stroke: #1f77b4\"/>\n",
       "     <use xlink:href=\"#mde9751aa6a\" x=\"108.736761\" y=\"70.042752\" style=\"fill: #1f77b4; stroke: #1f77b4\"/>\n",
       "     <use xlink:href=\"#mde9751aa6a\" x=\"116.072693\" y=\"52.351754\" style=\"fill: #1f77b4; stroke: #1f77b4\"/>\n",
       "     <use xlink:href=\"#mde9751aa6a\" x=\"113.315001\" y=\"54.340658\" style=\"fill: #1f77b4; stroke: #1f77b4\"/>\n",
       "     <use xlink:href=\"#mde9751aa6a\" x=\"134.466936\" y=\"65.278532\" style=\"fill: #1f77b4; stroke: #1f77b4\"/>\n",
       "     <use xlink:href=\"#mde9751aa6a\" x=\"123.554621\" y=\"84.898939\" style=\"fill: #1f77b4; stroke: #1f77b4\"/>\n",
       "     <use xlink:href=\"#mde9751aa6a\" x=\"130.990248\" y=\"83.225508\" style=\"fill: #1f77b4; stroke: #1f77b4\"/>\n",
       "     <use xlink:href=\"#mde9751aa6a\" x=\"149.283601\" y=\"65.315024\" style=\"fill: #1f77b4; stroke: #1f77b4\"/>\n",
       "     <use xlink:href=\"#mde9751aa6a\" x=\"156.394246\" y=\"106.520754\" style=\"fill: #1f77b4; stroke: #1f77b4\"/>\n",
       "     <use xlink:href=\"#mde9751aa6a\" x=\"176.791535\" y=\"105.273405\" style=\"fill: #1f77b4; stroke: #1f77b4\"/>\n",
       "     <use xlink:href=\"#mde9751aa6a\" x=\"107.242149\" y=\"69.875568\" style=\"fill: #1f77b4; stroke: #1f77b4\"/>\n",
       "    </g>\n",
       "   </g>\n",
       "   <g id=\"matplotlib.axis_1\">\n",
       "    <g id=\"xtick_1\">\n",
       "     <g id=\"line2d_1\">\n",
       "      <defs>\n",
       "       <path id=\"mcfe51e0ef2\" d=\"M 0 0 \n",
       "L 0 3.5 \n",
       "\" style=\"stroke: #000000; stroke-width: 0.8\"/>\n",
       "      </defs>\n",
       "      <g>\n",
       "       <use xlink:href=\"#mcfe51e0ef2\" x=\"78.660205\" y=\"143.1\" style=\"stroke: #000000; stroke-width: 0.8\"/>\n",
       "      </g>\n",
       "     </g>\n",
       "     <g id=\"text_1\">\n",
       "      <!-- −2 -->\n",
       "      <g transform=\"translate(71.289112 157.698438)scale(0.1 -0.1)\">\n",
       "       <defs>\n",
       "        <path id=\"DejaVuSans-2212\" d=\"M 678 2272 \n",
       "L 4684 2272 \n",
       "L 4684 1741 \n",
       "L 678 1741 \n",
       "L 678 2272 \n",
       "z\n",
       "\" transform=\"scale(0.015625)\"/>\n",
       "        <path id=\"DejaVuSans-32\" d=\"M 1228 531 \n",
       "L 3431 531 \n",
       "L 3431 0 \n",
       "L 469 0 \n",
       "L 469 531 \n",
       "Q 828 903 1448 1529 \n",
       "Q 2069 2156 2228 2338 \n",
       "Q 2531 2678 2651 2914 \n",
       "Q 2772 3150 2772 3378 \n",
       "Q 2772 3750 2511 3984 \n",
       "Q 2250 4219 1831 4219 \n",
       "Q 1534 4219 1204 4116 \n",
       "Q 875 4013 500 3803 \n",
       "L 500 4441 \n",
       "Q 881 4594 1212 4672 \n",
       "Q 1544 4750 1819 4750 \n",
       "Q 2544 4750 2975 4387 \n",
       "Q 3406 4025 3406 3419 \n",
       "Q 3406 3131 3298 2873 \n",
       "Q 3191 2616 2906 2266 \n",
       "Q 2828 2175 2409 1742 \n",
       "Q 1991 1309 1228 531 \n",
       "z\n",
       "\" transform=\"scale(0.015625)\"/>\n",
       "       </defs>\n",
       "       <use xlink:href=\"#DejaVuSans-2212\"/>\n",
       "       <use xlink:href=\"#DejaVuSans-32\" x=\"83.789062\"/>\n",
       "      </g>\n",
       "     </g>\n",
       "    </g>\n",
       "    <g id=\"xtick_2\">\n",
       "     <g id=\"line2d_2\">\n",
       "      <g>\n",
       "       <use xlink:href=\"#mcfe51e0ef2\" x=\"136.103475\" y=\"143.1\" style=\"stroke: #000000; stroke-width: 0.8\"/>\n",
       "      </g>\n",
       "     </g>\n",
       "     <g id=\"text_2\">\n",
       "      <!-- 0 -->\n",
       "      <g transform=\"translate(132.922225 157.698438)scale(0.1 -0.1)\">\n",
       "       <defs>\n",
       "        <path id=\"DejaVuSans-30\" d=\"M 2034 4250 \n",
       "Q 1547 4250 1301 3770 \n",
       "Q 1056 3291 1056 2328 \n",
       "Q 1056 1369 1301 889 \n",
       "Q 1547 409 2034 409 \n",
       "Q 2525 409 2770 889 \n",
       "Q 3016 1369 3016 2328 \n",
       "Q 3016 3291 2770 3770 \n",
       "Q 2525 4250 2034 4250 \n",
       "z\n",
       "M 2034 4750 \n",
       "Q 2819 4750 3233 4129 \n",
       "Q 3647 3509 3647 2328 \n",
       "Q 3647 1150 3233 529 \n",
       "Q 2819 -91 2034 -91 \n",
       "Q 1250 -91 836 529 \n",
       "Q 422 1150 422 2328 \n",
       "Q 422 3509 836 4129 \n",
       "Q 1250 4750 2034 4750 \n",
       "z\n",
       "\" transform=\"scale(0.015625)\"/>\n",
       "       </defs>\n",
       "       <use xlink:href=\"#DejaVuSans-30\"/>\n",
       "      </g>\n",
       "     </g>\n",
       "    </g>\n",
       "    <g id=\"xtick_3\">\n",
       "     <g id=\"line2d_3\">\n",
       "      <g>\n",
       "       <use xlink:href=\"#mcfe51e0ef2\" x=\"193.546744\" y=\"143.1\" style=\"stroke: #000000; stroke-width: 0.8\"/>\n",
       "      </g>\n",
       "     </g>\n",
       "     <g id=\"text_3\">\n",
       "      <!-- 2 -->\n",
       "      <g transform=\"translate(190.365494 157.698438)scale(0.1 -0.1)\">\n",
       "       <use xlink:href=\"#DejaVuSans-32\"/>\n",
       "      </g>\n",
       "     </g>\n",
       "    </g>\n",
       "   </g>\n",
       "   <g id=\"matplotlib.axis_2\">\n",
       "    <g id=\"ytick_1\">\n",
       "     <g id=\"line2d_4\">\n",
       "      <defs>\n",
       "       <path id=\"m224ef2960b\" d=\"M 0 0 \n",
       "L -3.5 0 \n",
       "\" style=\"stroke: #000000; stroke-width: 0.8\"/>\n",
       "      </defs>\n",
       "      <g>\n",
       "       <use xlink:href=\"#m224ef2960b\" x=\"28.942188\" y=\"126.716454\" style=\"stroke: #000000; stroke-width: 0.8\"/>\n",
       "      </g>\n",
       "     </g>\n",
       "     <g id=\"text_4\">\n",
       "      <!-- −5 -->\n",
       "      <g transform=\"translate(7.2 130.515672)scale(0.1 -0.1)\">\n",
       "       <defs>\n",
       "        <path id=\"DejaVuSans-35\" d=\"M 691 4666 \n",
       "L 3169 4666 \n",
       "L 3169 4134 \n",
       "L 1269 4134 \n",
       "L 1269 2991 \n",
       "Q 1406 3038 1543 3061 \n",
       "Q 1681 3084 1819 3084 \n",
       "Q 2600 3084 3056 2656 \n",
       "Q 3513 2228 3513 1497 \n",
       "Q 3513 744 3044 326 \n",
       "Q 2575 -91 1722 -91 \n",
       "Q 1428 -91 1123 -41 \n",
       "Q 819 9 494 109 \n",
       "L 494 744 \n",
       "Q 775 591 1075 516 \n",
       "Q 1375 441 1709 441 \n",
       "Q 2250 441 2565 725 \n",
       "Q 2881 1009 2881 1497 \n",
       "Q 2881 1984 2565 2268 \n",
       "Q 2250 2553 1709 2553 \n",
       "Q 1456 2553 1204 2497 \n",
       "Q 953 2441 691 2322 \n",
       "L 691 4666 \n",
       "z\n",
       "\" transform=\"scale(0.015625)\"/>\n",
       "       </defs>\n",
       "       <use xlink:href=\"#DejaVuSans-2212\"/>\n",
       "       <use xlink:href=\"#DejaVuSans-35\" x=\"83.789062\"/>\n",
       "      </g>\n",
       "     </g>\n",
       "    </g>\n",
       "    <g id=\"ytick_2\">\n",
       "     <g id=\"line2d_5\">\n",
       "      <g>\n",
       "       <use xlink:href=\"#m224ef2960b\" x=\"28.942188\" y=\"99.60498\" style=\"stroke: #000000; stroke-width: 0.8\"/>\n",
       "      </g>\n",
       "     </g>\n",
       "     <g id=\"text_5\">\n",
       "      <!-- 0 -->\n",
       "      <g transform=\"translate(15.579688 103.404199)scale(0.1 -0.1)\">\n",
       "       <use xlink:href=\"#DejaVuSans-30\"/>\n",
       "      </g>\n",
       "     </g>\n",
       "    </g>\n",
       "    <g id=\"ytick_3\">\n",
       "     <g id=\"line2d_6\">\n",
       "      <g>\n",
       "       <use xlink:href=\"#m224ef2960b\" x=\"28.942188\" y=\"72.493506\" style=\"stroke: #000000; stroke-width: 0.8\"/>\n",
       "      </g>\n",
       "     </g>\n",
       "     <g id=\"text_6\">\n",
       "      <!-- 5 -->\n",
       "      <g transform=\"translate(15.579688 76.292725)scale(0.1 -0.1)\">\n",
       "       <use xlink:href=\"#DejaVuSans-35\"/>\n",
       "      </g>\n",
       "     </g>\n",
       "    </g>\n",
       "    <g id=\"ytick_4\">\n",
       "     <g id=\"line2d_7\">\n",
       "      <g>\n",
       "       <use xlink:href=\"#m224ef2960b\" x=\"28.942188\" y=\"45.382032\" style=\"stroke: #000000; stroke-width: 0.8\"/>\n",
       "      </g>\n",
       "     </g>\n",
       "     <g id=\"text_7\">\n",
       "      <!-- 10 -->\n",
       "      <g transform=\"translate(9.217188 49.181251)scale(0.1 -0.1)\">\n",
       "       <defs>\n",
       "        <path id=\"DejaVuSans-31\" d=\"M 794 531 \n",
       "L 1825 531 \n",
       "L 1825 4091 \n",
       "L 703 3866 \n",
       "L 703 4441 \n",
       "L 1819 4666 \n",
       "L 2450 4666 \n",
       "L 2450 531 \n",
       "L 3481 531 \n",
       "L 3481 0 \n",
       "L 794 0 \n",
       "L 794 531 \n",
       "z\n",
       "\" transform=\"scale(0.015625)\"/>\n",
       "       </defs>\n",
       "       <use xlink:href=\"#DejaVuSans-31\"/>\n",
       "       <use xlink:href=\"#DejaVuSans-30\" x=\"63.623047\"/>\n",
       "      </g>\n",
       "     </g>\n",
       "    </g>\n",
       "    <g id=\"ytick_5\">\n",
       "     <g id=\"line2d_8\">\n",
       "      <g>\n",
       "       <use xlink:href=\"#m224ef2960b\" x=\"28.942188\" y=\"18.270558\" style=\"stroke: #000000; stroke-width: 0.8\"/>\n",
       "      </g>\n",
       "     </g>\n",
       "     <g id=\"text_8\">\n",
       "      <!-- 15 -->\n",
       "      <g transform=\"translate(9.217188 22.069777)scale(0.1 -0.1)\">\n",
       "       <use xlink:href=\"#DejaVuSans-31\"/>\n",
       "       <use xlink:href=\"#DejaVuSans-35\" x=\"63.623047\"/>\n",
       "      </g>\n",
       "     </g>\n",
       "    </g>\n",
       "   </g>\n",
       "   <g id=\"patch_3\">\n",
       "    <path d=\"M 28.942188 143.1 \n",
       "L 28.942188 7.2 \n",
       "\" style=\"fill: none; stroke: #000000; stroke-width: 0.8; stroke-linejoin: miter; stroke-linecap: square\"/>\n",
       "   </g>\n",
       "   <g id=\"patch_4\">\n",
       "    <path d=\"M 224.242188 143.1 \n",
       "L 224.242188 7.2 \n",
       "\" style=\"fill: none; stroke: #000000; stroke-width: 0.8; stroke-linejoin: miter; stroke-linecap: square\"/>\n",
       "   </g>\n",
       "   <g id=\"patch_5\">\n",
       "    <path d=\"M 28.942187 143.1 \n",
       "L 224.242188 143.1 \n",
       "\" style=\"fill: none; stroke: #000000; stroke-width: 0.8; stroke-linejoin: miter; stroke-linecap: square\"/>\n",
       "   </g>\n",
       "   <g id=\"patch_6\">\n",
       "    <path d=\"M 28.942187 7.2 \n",
       "L 224.242188 7.2 \n",
       "\" style=\"fill: none; stroke: #000000; stroke-width: 0.8; stroke-linejoin: miter; stroke-linecap: square\"/>\n",
       "   </g>\n",
       "  </g>\n",
       " </g>\n",
       " <defs>\n",
       "  <clipPath id=\"p438e3ad410\">\n",
       "   <rect x=\"28.942188\" y=\"7.2\" width=\"195.3\" height=\"135.9\"/>\n",
       "  </clipPath>\n",
       " </defs>\n",
       "</svg>\n"
      ],
      "text/plain": [
       "<Figure size 252x180 with 1 Axes>"
      ]
     },
     "metadata": {
      "needs_background": "light"
     },
     "output_type": "display_data"
    }
   ],
   "source": [
    "plt.scatter(features[:,1].numpy(),labels.numpy(),1)"
   ]
  },
  {
   "cell_type": "markdown",
   "metadata": {},
   "source": [
    "### 读取数据"
   ]
  },
  {
   "cell_type": "code",
   "execution_count": 248,
   "metadata": {},
   "outputs": [],
   "source": [
    "def data_iter(batch_size,features,labels):\n",
    "    num_examples = len(features)\n",
    "    indices = list(range(num_examples))\n",
    "    random.shuffle(indices)\n",
    "    for i in range(0,num_examples,batch_size):\n",
    "        j = torch.LongTensor(indices[i:min(i+batch_size,num_examples)])\n",
    "        yield features.index_select(0,j),labels.index_select(0,j)"
   ]
  },
  {
   "cell_type": "code",
   "execution_count": 250,
   "metadata": {},
   "outputs": [
    {
     "name": "stdout",
     "output_type": "stream",
     "text": [
      "tensor([[-1.1604, -0.4711],\n",
      "        [ 1.2114, -0.0287],\n",
      "        [ 0.9234, -0.6947],\n",
      "        [-0.2187, -0.8318],\n",
      "        [-0.8439,  1.7133],\n",
      "        [-0.6648, -0.6774],\n",
      "        [ 0.2617,  0.9460],\n",
      "        [-1.1815,  0.7278],\n",
      "        [-0.1449,  0.5589],\n",
      "        [ 0.6286, -0.4145]]) tensor([ 3.4847,  6.7146,  8.4086,  6.5977, -3.3219,  5.1616,  1.4857, -0.6387,\n",
      "         2.0047,  6.8700])\n"
     ]
    }
   ],
   "source": [
    "batch_size = 10 \n",
    "for X,y in data_iter(batch_size,features,labels):\n",
    "    print(X,y)\n",
    "    break"
   ]
  },
  {
   "cell_type": "markdown",
   "metadata": {},
   "source": [
    "### 初始化模型参数"
   ]
  },
  {
   "cell_type": "code",
   "execution_count": 251,
   "metadata": {},
   "outputs": [],
   "source": [
    "w = torch.tensor(np.random.normal(0,0.01,( num_inputs,1)),dtype=torch.float32)"
   ]
  },
  {
   "cell_type": "code",
   "execution_count": 252,
   "metadata": {},
   "outputs": [
    {
     "data": {
      "text/plain": [
       "tensor([[-0.0023],\n",
       "        [-0.0161]])"
      ]
     },
     "execution_count": 252,
     "metadata": {},
     "output_type": "execute_result"
    }
   ],
   "source": [
    "w"
   ]
  },
  {
   "cell_type": "code",
   "execution_count": 253,
   "metadata": {},
   "outputs": [],
   "source": [
    "b = torch.zeros(1,dtype=torch.float32)"
   ]
  },
  {
   "cell_type": "code",
   "execution_count": 254,
   "metadata": {},
   "outputs": [
    {
     "data": {
      "text/plain": [
       "tensor([0.])"
      ]
     },
     "execution_count": 254,
     "metadata": {},
     "output_type": "execute_result"
    }
   ],
   "source": [
    "b"
   ]
  },
  {
   "cell_type": "code",
   "execution_count": 255,
   "metadata": {},
   "outputs": [
    {
     "data": {
      "text/plain": [
       "tensor([0.], requires_grad=True)"
      ]
     },
     "execution_count": 255,
     "metadata": {},
     "output_type": "execute_result"
    }
   ],
   "source": [
    "# 这些参数要求梯度来迭代参数的值，设置 requires_grad=True\n",
    "w.requires_grad_(requires_grad = True)\n",
    "b.requires_grad_(requires_grad = True)"
   ]
  },
  {
   "cell_type": "markdown",
   "metadata": {},
   "source": [
    "### 定义模型"
   ]
  },
  {
   "cell_type": "code",
   "execution_count": 256,
   "metadata": {},
   "outputs": [],
   "source": [
    "def linreg(X,w,b):\n",
    "    return torch.mm(X,w) + b "
   ]
  },
  {
   "cell_type": "markdown",
   "metadata": {},
   "source": [
    "### 定义损失函数"
   ]
  },
  {
   "cell_type": "code",
   "execution_count": 257,
   "metadata": {},
   "outputs": [],
   "source": [
    "def squared_loss(y_hat,y):\n",
    "    # 返回的是向量\n",
    "    return (y_hat - y.view(y_hat.size())) ** 2 / 2"
   ]
  },
  {
   "cell_type": "markdown",
   "metadata": {},
   "source": [
    "### 定义优化算法"
   ]
  },
  {
   "cell_type": "code",
   "execution_count": 258,
   "metadata": {},
   "outputs": [],
   "source": [
    "# 通过不断迭代模型参数来优化损失函数\n",
    "def sgd(params,lr,batch_size):\n",
    "    for param in params:\n",
    "        param.data -= lr * param.grad/ batch_size # 自动求梯度计算的是一个批量样本的 梯度和\n",
    "        # 我们将它除以批量大小来得到平均值\n",
    "        "
   ]
  },
  {
   "cell_type": "markdown",
   "metadata": {},
   "source": [
    "### 训练模型"
   ]
  },
  {
   "cell_type": "code",
   "execution_count": 259,
   "metadata": {},
   "outputs": [
    {
     "data": {
      "text/plain": [
       "'\\n在一个迭代周期 中，我们将完成遍历一遍data_iter函数，并对训练数据集中所有样本都使用一次，这里的迭代周期个数num_epochs\\n和学习率lr都是超参数，分别设3和0.03 在实践中要反复调整这个参数 \\n\\n'"
      ]
     },
     "execution_count": 259,
     "metadata": {},
     "output_type": "execute_result"
    }
   ],
   "source": [
    "# 多次迭代模型参数，在每次迭代中，我们根据当前读取的小批量数据样本，通过调用反向函数backward计算小批量\n",
    "# 随机梯度，并调用优化算法sgd迭代模型参数，batch_size 为10，每个小批量的损失l 的形状为（10，1）\n",
    "# 由于l并不是标量 所以调用.sum() 将其求和得到一个标量，在运行l.backward() 得到该变量有关模型参数\n",
    "# 的梯度。注意在每次更新完参数后不要 忘记将参数的梯度清零\n",
    "\n",
    "\"\"\"\n",
    "在一个迭代周期 中，我们将完成遍历一遍data_iter函数，并对训练数据集中所有样本都使用一次，这里的迭代周期个数num_epochs\n",
    "和学习率lr都是超参数，分别设3和0.03 在实践中要反复调整这个参数 \n",
    "\n",
    "\"\"\""
   ]
  },
  {
   "cell_type": "code",
   "execution_count": 261,
   "metadata": {},
   "outputs": [
    {
     "data": {
      "text/plain": [
       "tensor([[-0.0023],\n",
       "        [-0.0161]], requires_grad=True)"
      ]
     },
     "execution_count": 261,
     "metadata": {},
     "output_type": "execute_result"
    }
   ],
   "source": [
    "w"
   ]
  },
  {
   "cell_type": "code",
   "execution_count": 263,
   "metadata": {},
   "outputs": [
    {
     "name": "stdout",
     "output_type": "stream",
     "text": [
      "epoch:1 loss 0.04\n",
      "epoch:2 loss 0.00\n",
      "epoch:3 loss 0.00\n"
     ]
    }
   ],
   "source": [
    "lr = 0.03\n",
    "num_epoch=3\n",
    "net = linreg\n",
    "loss = squared_loss\n",
    "\n",
    "for epoch in range(num_epoch):\n",
    "    # 每一次迭代周期中，会使用训练数据集中所有样本一次，X和y分别是小批量样本的特征和标签\n",
    "    for X,y in data_iter(batch_size,features,labels):\n",
    "        l = loss(net(X,w,b),y).sum() # l 是小批量X和y的损失\n",
    "        l.backward() # 小批量的损失对模型参数求导数\n",
    "        sgd([w,b],lr,batch_size) # 使用小批量随机梯度下降迭代模型参数\n",
    "        \n",
    "        # 不要忘记梯度清零\n",
    "        w.grad.data.zero_()\n",
    "        b.grad.data.zero_()\n",
    "\n",
    "    train_l = loss(net(features,w,b),labels)\n",
    "    \n",
    "    print(\"epoch:%d loss %.2f\" %(epoch + 1 ,train_l.mean().item()))"
   ]
  },
  {
   "cell_type": "code",
   "execution_count": 264,
   "metadata": {},
   "outputs": [
    {
     "name": "stdout",
     "output_type": "stream",
     "text": [
      "[2, -3.4] \n",
      " tensor([[ 1.9997],\n",
      "        [-3.3993]], requires_grad=True)\n",
      "4.2 \n",
      " tensor([4.2000], requires_grad=True)\n"
     ]
    }
   ],
   "source": [
    "print(true_w, '\\n',w)\n",
    "print(true_b, '\\n',b)"
   ]
  },
  {
   "cell_type": "markdown",
   "metadata": {},
   "source": [
    "## 线性回归简洁实现"
   ]
  },
  {
   "cell_type": "markdown",
   "metadata": {},
   "source": [
    "### 生成数据集"
   ]
  },
  {
   "cell_type": "code",
   "execution_count": 265,
   "metadata": {},
   "outputs": [],
   "source": [
    "num_inputs =2 \n",
    "num_examples = 1000\n",
    "true_w = [2,-3.4]\n",
    "true_b = 4.2\n",
    "\n",
    "features = torch.tensor(np.random.normal(0,1,(num_examples,num_inputs)),dtype=torch.float)\n",
    "labels = true_w[0] * features[:,0] + true_w[1] * features[:,1] + true_b\n",
    "labels += torch.tensor(np.random.normal(0,0.01,size = labels.size()),dtype=torch.float)\n"
   ]
  },
  {
   "cell_type": "markdown",
   "metadata": {},
   "source": [
    "### 读取数据"
   ]
  },
  {
   "cell_type": "code",
   "execution_count": 266,
   "metadata": {},
   "outputs": [],
   "source": [
    "# Pytorch 提供data 包来读取数据，由于data 常用做变量名，我们将导入的data模块用Data 代替在每次一迭代中\n",
    "# 我们将随机读取包含数据样本的小批量\n",
    "import torch.utils.data as Data\n",
    "\n",
    "batch_size = 10 \n",
    "# 将训练数据的特征和标签组合 \n",
    "dataset = Data.TensorDataset(features,labels)\n"
   ]
  },
  {
   "cell_type": "code",
   "execution_count": 269,
   "metadata": {},
   "outputs": [],
   "source": [
    "# 读取小批量\n",
    "data_iter = Data.DataLoader(dataset,batch_size,shuffle=True)"
   ]
  },
  {
   "cell_type": "code",
   "execution_count": 270,
   "metadata": {},
   "outputs": [
    {
     "data": {
      "text/plain": [
       "<torch.utils.data.dataloader.DataLoader at 0x7f8b6e18c2d0>"
      ]
     },
     "execution_count": 270,
     "metadata": {},
     "output_type": "execute_result"
    }
   ],
   "source": [
    "data_iter"
   ]
  },
  {
   "cell_type": "code",
   "execution_count": 273,
   "metadata": {},
   "outputs": [],
   "source": [
    "import torch.nn as nn"
   ]
  },
  {
   "cell_type": "markdown",
   "metadata": {},
   "source": [
    "### 定义模型"
   ]
  },
  {
   "cell_type": "code",
   "execution_count": 272,
   "metadata": {},
   "outputs": [],
   "source": [
    "# Pytorch 提供大量预定义层，我们只要关注使用哪些层来构造函数 首先导入 torch.nn 模块，该模块定义了大量的\n",
    "# 神经网络层，之前用过autograd 而 nn 就是利用 autograd 来定义模型，nn的核心数据结构是Module 他是一个\n",
    "# 抽象概念，既可以表示神经网络的某一个层，也可以表示一个包含很多层的神经网络，在实际使用中 最常见的就是继承\n",
    "# nn.Module 撰写自己的网络层，一个nn.Module实例应该包含 一些层以及返回输出的前向传播（forward）方法，"
   ]
  },
  {
   "cell_type": "code",
   "execution_count": 274,
   "metadata": {},
   "outputs": [],
   "source": [
    "class LinearNet(nn.Module):\n",
    "    def __init__(self,n_feature):\n",
    "        super(LinearNet,self).__init__()\n",
    "        self.linear = nn.Linear(n_feature,1)\n",
    "        \n",
    "    # forward前向传播 \n",
    "    def forward(self,x):\n",
    "        y = self.linear(x)\n",
    "        return y\n",
    "net = LinearNet(num_inputs)"
   ]
  },
  {
   "cell_type": "code",
   "execution_count": 275,
   "metadata": {},
   "outputs": [
    {
     "data": {
      "text/plain": [
       "LinearNet(\n",
       "  (linear): Linear(in_features=2, out_features=1, bias=True)\n",
       ")"
      ]
     },
     "execution_count": 275,
     "metadata": {},
     "output_type": "execute_result"
    }
   ],
   "source": [
    "net"
   ]
  },
  {
   "cell_type": "code",
   "execution_count": 276,
   "metadata": {},
   "outputs": [],
   "source": [
    "# 我们还可以用nn.Sequential 来更加方便的搭建网络，Sequential 是一个有序的容器，网络层将按照在传入的\n",
    "# Sequential的顺序依次被添加到计算图中\n"
   ]
  },
  {
   "cell_type": "code",
   "execution_count": 278,
   "metadata": {},
   "outputs": [
    {
     "name": "stdout",
     "output_type": "stream",
     "text": [
      "Sequential(\n",
      "  (linear): Linear(in_features=2, out_features=1, bias=True)\n",
      ")\n"
     ]
    }
   ],
   "source": [
    "# 写法一\n",
    "net = nn.Sequential(\n",
    "nn.Linear(num_inputs,1)\n",
    "    # 此外还可以传 其他层\n",
    ")\n",
    "# 写法二\n",
    "net  = nn.Sequential()\n",
    "net.add_module('linear',nn.Linear(num_inputs,1))\n",
    "# net.add_module()\n",
    "\n",
    "# 写法三\n",
    "from collections import OrderedDict\n",
    "\n",
    "net = nn.Sequential(OrderedDict([\n",
    "    ('linear',nn.Linear(num_inputs,1))\n",
    "    # ....\n",
    "    \n",
    "]))\n",
    "\n",
    "print(net)"
   ]
  },
  {
   "cell_type": "code",
   "execution_count": 279,
   "metadata": {},
   "outputs": [
    {
     "data": {
      "text/plain": [
       "Linear(in_features=2, out_features=1, bias=True)"
      ]
     },
     "execution_count": 279,
     "metadata": {},
     "output_type": "execute_result"
    }
   ],
   "source": [
    "net[0]"
   ]
  },
  {
   "cell_type": "code",
   "execution_count": 280,
   "metadata": {},
   "outputs": [],
   "source": [
    "# 可以通过net.parameters() 来 查看模型所有的可学习参数"
   ]
  },
  {
   "cell_type": "code",
   "execution_count": 281,
   "metadata": {},
   "outputs": [
    {
     "name": "stdout",
     "output_type": "stream",
     "text": [
      "Parameter containing:\n",
      "tensor([[-0.1082,  0.5079]], requires_grad=True)\n",
      "Parameter containing:\n",
      "tensor([-0.4594], requires_grad=True)\n"
     ]
    }
   ],
   "source": [
    "for param in net.parameters():\n",
    "    print(param)"
   ]
  },
  {
   "cell_type": "markdown",
   "metadata": {},
   "source": [
    "### 初始化模型参数"
   ]
  },
  {
   "cell_type": "code",
   "execution_count": 282,
   "metadata": {},
   "outputs": [],
   "source": [
    "# 在net 前，我们要初始化模型参数，线性回归模型参数中的权重 和偏差 Pytorch在init模块中 提供了多种\n",
    "# 参数初始化方法 \n"
   ]
  },
  {
   "cell_type": "code",
   "execution_count": 283,
   "metadata": {},
   "outputs": [
    {
     "data": {
      "text/plain": [
       "Parameter containing:\n",
       "tensor([0.0100], requires_grad=True)"
      ]
     },
     "execution_count": 283,
     "metadata": {},
     "output_type": "execute_result"
    }
   ],
   "source": [
    "from torch.nn import init\n",
    "\n",
    "init.normal_(net[0].weight,mean=0,std=0.01)\n",
    "init.constant_(net[0].bias,val=0.01)"
   ]
  },
  {
   "cell_type": "markdown",
   "metadata": {},
   "source": [
    "### 定义损失函数"
   ]
  },
  {
   "cell_type": "code",
   "execution_count": 284,
   "metadata": {},
   "outputs": [],
   "source": [
    "loss = nn.MSELoss()"
   ]
  },
  {
   "cell_type": "markdown",
   "metadata": {},
   "source": [
    "### 优化算法"
   ]
  },
  {
   "cell_type": "code",
   "execution_count": 285,
   "metadata": {},
   "outputs": [],
   "source": [
    "import torch.optim as optim \n",
    "optimizer = optim.SGD(net.parameters(),lr=0.03)"
   ]
  },
  {
   "cell_type": "code",
   "execution_count": 286,
   "metadata": {},
   "outputs": [
    {
     "data": {
      "text/plain": [
       "SGD (\n",
       "Parameter Group 0\n",
       "    dampening: 0\n",
       "    lr: 0.03\n",
       "    momentum: 0\n",
       "    nesterov: False\n",
       "    weight_decay: 0\n",
       ")"
      ]
     },
     "execution_count": 286,
     "metadata": {},
     "output_type": "execute_result"
    }
   ],
   "source": [
    "optimizer"
   ]
  },
  {
   "cell_type": "markdown",
   "metadata": {},
   "source": [
    "### 训练模型"
   ]
  },
  {
   "cell_type": "code",
   "execution_count": 288,
   "metadata": {},
   "outputs": [
    {
     "name": "stdout",
     "output_type": "stream",
     "text": [
      "epoch 1 loss 0.00\n",
      "epoch 2 loss 0.00\n",
      "epoch 3 loss 0.00\n"
     ]
    }
   ],
   "source": [
    "num_epoch = 3\n",
    "for epoch in range(1,num_epoch+1):\n",
    "    for X,y in data_iter:\n",
    "        out_put = net(X)\n",
    "        l = loss(out_put,y.view(-1,1))\n",
    "        optimizer.zero_grad()\n",
    "        l.backward()\n",
    "        optimizer.step()\n",
    "        \n",
    "    print(\"epoch %d loss %.2f\" %(epoch,l.item()))"
   ]
  },
  {
   "cell_type": "code",
   "execution_count": 289,
   "metadata": {},
   "outputs": [],
   "source": [
    "dense = net[0]"
   ]
  },
  {
   "cell_type": "code",
   "execution_count": 290,
   "metadata": {},
   "outputs": [
    {
     "name": "stdout",
     "output_type": "stream",
     "text": [
      "[2, -3.4] Parameter containing:\n",
      "tensor([[ 2.0001, -3.4001]], requires_grad=True)\n"
     ]
    }
   ],
   "source": [
    "print(true_w,dense.weight)"
   ]
  },
  {
   "cell_type": "markdown",
   "metadata": {},
   "source": [
    "## softmax回归"
   ]
  },
  {
   "cell_type": "markdown",
   "metadata": {},
   "source": [
    "### 分类问题"
   ]
  },
  {
   "cell_type": "code",
   "execution_count": 291,
   "metadata": {},
   "outputs": [
    {
     "data": {
      "text/plain": [
       "'\\n我们考虑一个简单的分类问题，其输入图像的高和宽均为2像素，且色彩为灰度，这样%hist个像素值都可以用一个标量表示  \\n我们将图像中的4个像素分别即记为X1,X2,X3,X4 假设训练数据集中图像的真实标签为 狗、猫、鸡 这类标签，\\n分别对应离散值Y1,Y2,y3\\n我们通常，使用离散数值 来表示类别  例如 y1 = 1,y2= 2 y3 = 3 如此 一张图像的标签为 1，2，3这个3个数值中一个\\n虽然我们仍然可以使用回归模型来建模，并将预测值就近定点化到 1、2、3这3个离散值值一，但是这种连续续值到离散值的转化\\n通常会影响到分类质量，因此 我们一般使用更合适离散值输出的模型来解决分类问题\\n'"
      ]
     },
     "execution_count": 291,
     "metadata": {},
     "output_type": "execute_result"
    }
   ],
   "source": [
    "\"\"\"\n",
    "我们考虑一个简单的分类问题，其输入图像的高和宽均为2像素，且色彩为灰度，这样%hist个像素值都可以用一个标量表示  \n",
    "我们将图像中的4个像素分别即记为X1,X2,X3,X4 假设训练数据集中图像的真实标签为 狗、猫、鸡 这类标签，\n",
    "分别对应离散值Y1,Y2,y3\n",
    "我们通常，使用离散数值 来表示类别  例如 y1 = 1,y2= 2 y3 = 3 如此 一张图像的标签为 1，2，3这个3个数值中一个\n",
    "虽然我们仍然可以使用回归模型来建模，并将预测值就近定点化到 1、2、3这3个离散值值一，但是这种连续续值到离散值的转化\n",
    "通常会影响到分类质量，因此 我们一般使用更合适离散值输出的模型来解决分类问题\n",
    "\"\"\""
   ]
  },
  {
   "cell_type": "markdown",
   "metadata": {},
   "source": [
    "### softmax 回归模型"
   ]
  },
  {
   "cell_type": "code",
   "execution_count": 292,
   "metadata": {},
   "outputs": [
    {
     "data": {
      "text/plain": [
       "'\\nsoftmax回归跟线性回归一样将输入特征与权重做线性叠加。与线性回归的一个主要不同在于，\\nsoftmax回归的输出值个数等于标签里的类别数。因为一共有4种特征和3种输出动物类别，所以权重包含12个标量（带下标的ww）、\\n偏差包含3个标量（带下标的b），且对每个输入计算o1,o2,o3o 这3个输出\\n\\n\\n'"
      ]
     },
     "execution_count": 292,
     "metadata": {},
     "output_type": "execute_result"
    }
   ],
   "source": [
    "\"\"\"\n",
    "softmax回归跟线性回归一样将输入特征与权重做线性叠加。与线性回归的一个主要不同在于，\n",
    "softmax回归的输出值个数等于标签里的类别数。因为一共有4种特征和3种输出动物类别，所以权重包含12个标量（带下标的ww）、\n",
    "偏差包含3个标量（带下标的b），且对每个输入计算o1,o2,o3o 这3个输出\n",
    "\n",
    "\n",
    "\"\"\""
   ]
  },
  {
   "cell_type": "markdown",
   "metadata": {},
   "source": [
    "## 图像分类数据集"
   ]
  },
  {
   "cell_type": "markdown",
   "metadata": {},
   "source": [
    "### 获取数据集"
   ]
  },
  {
   "cell_type": "code",
   "execution_count": 294,
   "metadata": {},
   "outputs": [],
   "source": [
    "import torch\n",
    "import torchvision\n",
    "import torchvision.transforms as transforms\n",
    "import matplotlib.pyplot as plt\n",
    "import time\n",
    "import sys\n",
    "sys.path.append(\"..\") # 为了导入上层目录的d2lzh_pytorch\n",
    "import d2lzh_pytorch as d2l  "
   ]
  },
  {
   "cell_type": "code",
   "execution_count": 296,
   "metadata": {
    "collapsed": true
   },
   "outputs": [
    {
     "name": "stdout",
     "output_type": "stream",
     "text": [
      "Downloading http://fashion-mnist.s3-website.eu-central-1.amazonaws.com/train-images-idx3-ubyte.gz\n",
      "Downloading http://fashion-mnist.s3-website.eu-central-1.amazonaws.com/train-images-idx3-ubyte.gz to /Users/shizhonghui/Datasets/FashionMNIST/FashionMNIST/raw/train-images-idx3-ubyte.gz\n"
     ]
    },
    {
     "data": {
      "application/vnd.jupyter.widget-view+json": {
       "model_id": "a024b730c4ef4771bb3a7488390f4564",
       "version_major": 2,
       "version_minor": 0
      },
      "text/plain": [
       "  0%|          | 0/26421880 [00:00<?, ?it/s]"
      ]
     },
     "metadata": {},
     "output_type": "display_data"
    },
    {
     "name": "stdout",
     "output_type": "stream",
     "text": [
      "Extracting /Users/shizhonghui/Datasets/FashionMNIST/FashionMNIST/raw/train-images-idx3-ubyte.gz to /Users/shizhonghui/Datasets/FashionMNIST/FashionMNIST/raw\n",
      "\n",
      "Downloading http://fashion-mnist.s3-website.eu-central-1.amazonaws.com/train-labels-idx1-ubyte.gz\n",
      "Downloading http://fashion-mnist.s3-website.eu-central-1.amazonaws.com/train-labels-idx1-ubyte.gz to /Users/shizhonghui/Datasets/FashionMNIST/FashionMNIST/raw/train-labels-idx1-ubyte.gz\n"
     ]
    },
    {
     "data": {
      "application/vnd.jupyter.widget-view+json": {
       "model_id": "d9b1e76579be4328a0bda2c61c39c63c",
       "version_major": 2,
       "version_minor": 0
      },
      "text/plain": [
       "  0%|          | 0/29515 [00:00<?, ?it/s]"
      ]
     },
     "metadata": {},
     "output_type": "display_data"
    },
    {
     "name": "stdout",
     "output_type": "stream",
     "text": [
      "Extracting /Users/shizhonghui/Datasets/FashionMNIST/FashionMNIST/raw/train-labels-idx1-ubyte.gz to /Users/shizhonghui/Datasets/FashionMNIST/FashionMNIST/raw\n",
      "\n",
      "Downloading http://fashion-mnist.s3-website.eu-central-1.amazonaws.com/t10k-images-idx3-ubyte.gz\n",
      "Downloading http://fashion-mnist.s3-website.eu-central-1.amazonaws.com/t10k-images-idx3-ubyte.gz to /Users/shizhonghui/Datasets/FashionMNIST/FashionMNIST/raw/t10k-images-idx3-ubyte.gz\n"
     ]
    },
    {
     "data": {
      "application/vnd.jupyter.widget-view+json": {
       "model_id": "c1c54c8066804f9a94e59c39c5e2257d",
       "version_major": 2,
       "version_minor": 0
      },
      "text/plain": [
       "  0%|          | 0/4422102 [00:00<?, ?it/s]"
      ]
     },
     "metadata": {},
     "output_type": "display_data"
    },
    {
     "name": "stdout",
     "output_type": "stream",
     "text": [
      "Extracting /Users/shizhonghui/Datasets/FashionMNIST/FashionMNIST/raw/t10k-images-idx3-ubyte.gz to /Users/shizhonghui/Datasets/FashionMNIST/FashionMNIST/raw\n",
      "\n",
      "Downloading http://fashion-mnist.s3-website.eu-central-1.amazonaws.com/t10k-labels-idx1-ubyte.gz\n",
      "Downloading http://fashion-mnist.s3-website.eu-central-1.amazonaws.com/t10k-labels-idx1-ubyte.gz to /Users/shizhonghui/Datasets/FashionMNIST/FashionMNIST/raw/t10k-labels-idx1-ubyte.gz\n"
     ]
    },
    {
     "data": {
      "application/vnd.jupyter.widget-view+json": {
       "model_id": "6415da658b9941558e7d23e66d024145",
       "version_major": 2,
       "version_minor": 0
      },
      "text/plain": [
       "  0%|          | 0/5148 [00:00<?, ?it/s]"
      ]
     },
     "metadata": {},
     "output_type": "display_data"
    },
    {
     "name": "stdout",
     "output_type": "stream",
     "text": [
      "Extracting /Users/shizhonghui/Datasets/FashionMNIST/FashionMNIST/raw/t10k-labels-idx1-ubyte.gz to /Users/shizhonghui/Datasets/FashionMNIST/FashionMNIST/raw\n",
      "\n"
     ]
    }
   ],
   "source": [
    "mnist_train = torchvision.datasets.FashionMNIST(root='~/Datasets/FashionMNIST', train=True, download=True, transform=transforms.ToTensor())\n",
    "mnist_test = torchvision.datasets.FashionMNIST(root='~/Datasets/FashionMNIST', train=False, download=True, transform=transforms.ToTensor())"
   ]
  },
  {
   "cell_type": "code",
   "execution_count": 297,
   "metadata": {},
   "outputs": [
    {
     "data": {
      "text/plain": [
       "torchvision.datasets.mnist.FashionMNIST"
      ]
     },
     "execution_count": 297,
     "metadata": {},
     "output_type": "execute_result"
    }
   ],
   "source": [
    "type(mnist_train)"
   ]
  },
  {
   "cell_type": "code",
   "execution_count": 298,
   "metadata": {},
   "outputs": [
    {
     "data": {
      "text/plain": [
       "60000"
      ]
     },
     "execution_count": 298,
     "metadata": {},
     "output_type": "execute_result"
    }
   ],
   "source": [
    "len(mnist_train)"
   ]
  },
  {
   "cell_type": "code",
   "execution_count": 299,
   "metadata": {},
   "outputs": [
    {
     "data": {
      "text/plain": [
       "10000"
      ]
     },
     "execution_count": 299,
     "metadata": {},
     "output_type": "execute_result"
    }
   ],
   "source": [
    "len(mnist_test)"
   ]
  },
  {
   "cell_type": "code",
   "execution_count": 300,
   "metadata": {},
   "outputs": [],
   "source": [
    "feature,label = mnist_train[0]"
   ]
  },
  {
   "cell_type": "code",
   "execution_count": 301,
   "metadata": {},
   "outputs": [
    {
     "data": {
      "text/plain": [
       "torch.Size([1, 28, 28])"
      ]
     },
     "execution_count": 301,
     "metadata": {},
     "output_type": "execute_result"
    }
   ],
   "source": [
    "feature.shape"
   ]
  },
  {
   "cell_type": "code",
   "execution_count": 303,
   "metadata": {},
   "outputs": [
    {
     "data": {
      "text/plain": [
       "9"
      ]
     },
     "execution_count": 303,
     "metadata": {},
     "output_type": "execute_result"
    }
   ],
   "source": [
    "label"
   ]
  },
  {
   "cell_type": "code",
   "execution_count": 304,
   "metadata": {},
   "outputs": [],
   "source": [
    "# 本函数已保存在d2lzh包中方便以后使用\n",
    "def get_fashion_mnist_labels(labels):\n",
    "    text_labels = ['t-shirt', 'trouser', 'pullover', 'dress', 'coat',\n",
    "                   'sandal', 'shirt', 'sneaker', 'bag', 'ankle boot']\n",
    "    return [text_labels[int(i)] for i in labels]"
   ]
  },
  {
   "cell_type": "code",
   "execution_count": 305,
   "metadata": {},
   "outputs": [],
   "source": [
    "# 本函数已保存在d2lzh包中方便以后使用\n",
    "def show_fashion_mnist(images, labels):\n",
    "    d2l.use_svg_display()\n",
    "    # 这里的_表示我们忽略（不使用）的变量\n",
    "    _, figs = plt.subplots(1, len(images), figsize=(12, 12))\n",
    "    for f, img, lbl in zip(figs, images, labels):\n",
    "        f.imshow(img.view((28, 28)).numpy())\n",
    "        f.set_title(lbl)\n",
    "        f.axes.get_xaxis().set_visible(False)\n",
    "        f.axes.get_yaxis().set_visible(False)\n",
    "    plt.show()"
   ]
  },
  {
   "cell_type": "code",
   "execution_count": 306,
   "metadata": {},
   "outputs": [
    {
     "data": {
      "image/svg+xml": [
       "<?xml version=\"1.0\" encoding=\"utf-8\" standalone=\"no\"?>\n",
       "<!DOCTYPE svg PUBLIC \"-//W3C//DTD SVG 1.1//EN\"\n",
       "  \"http://www.w3.org/Graphics/SVG/1.1/DTD/svg11.dtd\">\n",
       "<svg xmlns:xlink=\"http://www.w3.org/1999/xlink\" width=\"687.5pt\" height=\"89.763888pt\" viewBox=\"0 0 687.5 89.763888\" xmlns=\"http://www.w3.org/2000/svg\" version=\"1.1\">\n",
       " <metadata>\n",
       "  <rdf:RDF xmlns:dc=\"http://purl.org/dc/elements/1.1/\" xmlns:cc=\"http://creativecommons.org/ns#\" xmlns:rdf=\"http://www.w3.org/1999/02/22-rdf-syntax-ns#\">\n",
       "   <cc:Work>\n",
       "    <dc:type rdf:resource=\"http://purl.org/dc/dcmitype/StillImage\"/>\n",
       "    <dc:date>2022-10-17T16:12:04.330073</dc:date>\n",
       "    <dc:format>image/svg+xml</dc:format>\n",
       "    <dc:creator>\n",
       "     <cc:Agent>\n",
       "      <dc:title>Matplotlib v3.5.1, https://matplotlib.org/</dc:title>\n",
       "     </cc:Agent>\n",
       "    </dc:creator>\n",
       "   </cc:Work>\n",
       "  </rdf:RDF>\n",
       " </metadata>\n",
       " <defs>\n",
       "  <style type=\"text/css\">*{stroke-linejoin: round; stroke-linecap: butt}</style>\n",
       " </defs>\n",
       " <g id=\"figure_1\">\n",
       "  <g id=\"patch_1\">\n",
       "   <path d=\"M 0 89.763888 \n",
       "L 687.5 89.763888 \n",
       "L 687.5 -0 \n",
       "L 0 -0 \n",
       "L 0 89.763888 \n",
       "z\n",
       "\" style=\"fill: none\"/>\n",
       "  </g>\n",
       "  <g id=\"axes_1\">\n",
       "   <g id=\"patch_2\">\n",
       "    <path d=\"M 10.7 79.063888 \n",
       "L 67.445763 79.063888 \n",
       "L 67.445763 22.318125 \n",
       "L 10.7 22.318125 \n",
       "z\n",
       "\" style=\"fill: #ffffff\"/>\n",
       "   </g>\n",
       "   <g clip-path=\"url(#p13a5de95be)\">\n",
       "    <image xlink:href=\"data:image/png;base64,\n",
       "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\" id=\"imagefbdcf1d727\" transform=\"scale(1 -1)translate(0 -57)\" x=\"10.7\" y=\"-22.063888\" width=\"57\" height=\"57\"/>\n",
       "   </g>\n",
       "   <g id=\"patch_3\">\n",
       "    <path d=\"M 10.7 79.063888 \n",
       "L 10.7 22.318125 \n",
       "\" style=\"fill: none; stroke: #000000; stroke-width: 0.8; stroke-linejoin: miter; stroke-linecap: square\"/>\n",
       "   </g>\n",
       "   <g id=\"patch_4\">\n",
       "    <path d=\"M 67.445763 79.063888 \n",
       "L 67.445763 22.318125 \n",
       "\" style=\"fill: none; stroke: #000000; stroke-width: 0.8; stroke-linejoin: miter; stroke-linecap: square\"/>\n",
       "   </g>\n",
       "   <g id=\"patch_5\">\n",
       "    <path d=\"M 10.7 79.063888 \n",
       "L 67.445763 79.063888 \n",
       "\" style=\"fill: none; stroke: #000000; stroke-width: 0.8; stroke-linejoin: miter; stroke-linecap: square\"/>\n",
       "   </g>\n",
       "   <g id=\"patch_6\">\n",
       "    <path d=\"M 10.7 22.318125 \n",
       "L 67.445763 22.318125 \n",
       "\" style=\"fill: none; stroke: #000000; stroke-width: 0.8; stroke-linejoin: miter; stroke-linecap: square\"/>\n",
       "   </g>\n",
       "   <g id=\"text_1\">\n",
       "    <!-- ankle boot -->\n",
       "    <g transform=\"translate(7.349756 16.318125)scale(0.12 -0.12)\">\n",
       "     <defs>\n",
       "      <path id=\"DejaVuSans-61\" d=\"M 2194 1759 \n",
       "Q 1497 1759 1228 1600 \n",
       "Q 959 1441 959 1056 \n",
       "Q 959 750 1161 570 \n",
       "Q 1363 391 1709 391 \n",
       "Q 2188 391 2477 730 \n",
       "Q 2766 1069 2766 1631 \n",
       "L 2766 1759 \n",
       "L 2194 1759 \n",
       "z\n",
       "M 3341 1997 \n",
       "L 3341 0 \n",
       "L 2766 0 \n",
       "L 2766 531 \n",
       "Q 2569 213 2275 61 \n",
       "Q 1981 -91 1556 -91 \n",
       "Q 1019 -91 701 211 \n",
       "Q 384 513 384 1019 \n",
       "Q 384 1609 779 1909 \n",
       "Q 1175 2209 1959 2209 \n",
       "L 2766 2209 \n",
       "L 2766 2266 \n",
       "Q 2766 2663 2505 2880 \n",
       "Q 2244 3097 1772 3097 \n",
       "Q 1472 3097 1187 3025 \n",
       "Q 903 2953 641 2809 \n",
       "L 641 3341 \n",
       "Q 956 3463 1253 3523 \n",
       "Q 1550 3584 1831 3584 \n",
       "Q 2591 3584 2966 3190 \n",
       "Q 3341 2797 3341 1997 \n",
       "z\n",
       "\" transform=\"scale(0.015625)\"/>\n",
       "      <path id=\"DejaVuSans-6e\" d=\"M 3513 2113 \n",
       "L 3513 0 \n",
       "L 2938 0 \n",
       "L 2938 2094 \n",
       "Q 2938 2591 2744 2837 \n",
       "Q 2550 3084 2163 3084 \n",
       "Q 1697 3084 1428 2787 \n",
       "Q 1159 2491 1159 1978 \n",
       "L 1159 0 \n",
       "L 581 0 \n",
       "L 581 3500 \n",
       "L 1159 3500 \n",
       "L 1159 2956 \n",
       "Q 1366 3272 1645 3428 \n",
       "Q 1925 3584 2291 3584 \n",
       "Q 2894 3584 3203 3211 \n",
       "Q 3513 2838 3513 2113 \n",
       "z\n",
       "\" transform=\"scale(0.015625)\"/>\n",
       "      <path id=\"DejaVuSans-6b\" d=\"M 581 4863 \n",
       "L 1159 4863 \n",
       "L 1159 1991 \n",
       "L 2875 3500 \n",
       "L 3609 3500 \n",
       "L 1753 1863 \n",
       "L 3688 0 \n",
       "L 2938 0 \n",
       "L 1159 1709 \n",
       "L 1159 0 \n",
       "L 581 0 \n",
       "L 581 4863 \n",
       "z\n",
       "\" transform=\"scale(0.015625)\"/>\n",
       "      <path id=\"DejaVuSans-6c\" d=\"M 603 4863 \n",
       "L 1178 4863 \n",
       "L 1178 0 \n",
       "L 603 0 \n",
       "L 603 4863 \n",
       "z\n",
       "\" transform=\"scale(0.015625)\"/>\n",
       "      <path id=\"DejaVuSans-65\" d=\"M 3597 1894 \n",
       "L 3597 1613 \n",
       "L 953 1613 \n",
       "Q 991 1019 1311 708 \n",
       "Q 1631 397 2203 397 \n",
       "Q 2534 397 2845 478 \n",
       "Q 3156 559 3463 722 \n",
       "L 3463 178 \n",
       "Q 3153 47 2828 -22 \n",
       "Q 2503 -91 2169 -91 \n",
       "Q 1331 -91 842 396 \n",
       "Q 353 884 353 1716 \n",
       "Q 353 2575 817 3079 \n",
       "Q 1281 3584 2069 3584 \n",
       "Q 2775 3584 3186 3129 \n",
       "Q 3597 2675 3597 1894 \n",
       "z\n",
       "M 3022 2063 \n",
       "Q 3016 2534 2758 2815 \n",
       "Q 2500 3097 2075 3097 \n",
       "Q 1594 3097 1305 2825 \n",
       "Q 1016 2553 972 2059 \n",
       "L 3022 2063 \n",
       "z\n",
       "\" transform=\"scale(0.015625)\"/>\n",
       "      <path id=\"DejaVuSans-20\" transform=\"scale(0.015625)\"/>\n",
       "      <path id=\"DejaVuSans-62\" d=\"M 3116 1747 \n",
       "Q 3116 2381 2855 2742 \n",
       "Q 2594 3103 2138 3103 \n",
       "Q 1681 3103 1420 2742 \n",
       "Q 1159 2381 1159 1747 \n",
       "Q 1159 1113 1420 752 \n",
       "Q 1681 391 2138 391 \n",
       "Q 2594 391 2855 752 \n",
       "Q 3116 1113 3116 1747 \n",
       "z\n",
       "M 1159 2969 \n",
       "Q 1341 3281 1617 3432 \n",
       "Q 1894 3584 2278 3584 \n",
       "Q 2916 3584 3314 3078 \n",
       "Q 3713 2572 3713 1747 \n",
       "Q 3713 922 3314 415 \n",
       "Q 2916 -91 2278 -91 \n",
       "Q 1894 -91 1617 61 \n",
       "Q 1341 213 1159 525 \n",
       "L 1159 0 \n",
       "L 581 0 \n",
       "L 581 4863 \n",
       "L 1159 4863 \n",
       "L 1159 2969 \n",
       "z\n",
       "\" transform=\"scale(0.015625)\"/>\n",
       "      <path id=\"DejaVuSans-6f\" d=\"M 1959 3097 \n",
       "Q 1497 3097 1228 2736 \n",
       "Q 959 2375 959 1747 \n",
       "Q 959 1119 1226 758 \n",
       "Q 1494 397 1959 397 \n",
       "Q 2419 397 2687 759 \n",
       "Q 2956 1122 2956 1747 \n",
       "Q 2956 2369 2687 2733 \n",
       "Q 2419 3097 1959 3097 \n",
       "z\n",
       "M 1959 3584 \n",
       "Q 2709 3584 3137 3096 \n",
       "Q 3566 2609 3566 1747 \n",
       "Q 3566 888 3137 398 \n",
       "Q 2709 -91 1959 -91 \n",
       "Q 1206 -91 779 398 \n",
       "Q 353 888 353 1747 \n",
       "Q 353 2609 779 3096 \n",
       "Q 1206 3584 1959 3584 \n",
       "z\n",
       "\" transform=\"scale(0.015625)\"/>\n",
       "      <path id=\"DejaVuSans-74\" d=\"M 1172 4494 \n",
       "L 1172 3500 \n",
       "L 2356 3500 \n",
       "L 2356 3053 \n",
       "L 1172 3053 \n",
       "L 1172 1153 \n",
       "Q 1172 725 1289 603 \n",
       "Q 1406 481 1766 481 \n",
       "L 2356 481 \n",
       "L 2356 0 \n",
       "L 1766 0 \n",
       "Q 1100 0 847 248 \n",
       "Q 594 497 594 1153 \n",
       "L 594 3053 \n",
       "L 172 3053 \n",
       "L 172 3500 \n",
       "L 594 3500 \n",
       "L 594 4494 \n",
       "L 1172 4494 \n",
       "z\n",
       "\" transform=\"scale(0.015625)\"/>\n",
       "     </defs>\n",
       "     <use xlink:href=\"#DejaVuSans-61\"/>\n",
       "     <use xlink:href=\"#DejaVuSans-6e\" x=\"61.279297\"/>\n",
       "     <use xlink:href=\"#DejaVuSans-6b\" x=\"124.658203\"/>\n",
       "     <use xlink:href=\"#DejaVuSans-6c\" x=\"182.568359\"/>\n",
       "     <use xlink:href=\"#DejaVuSans-65\" x=\"210.351562\"/>\n",
       "     <use xlink:href=\"#DejaVuSans-20\" x=\"271.875\"/>\n",
       "     <use xlink:href=\"#DejaVuSans-62\" x=\"303.662109\"/>\n",
       "     <use xlink:href=\"#DejaVuSans-6f\" x=\"367.138672\"/>\n",
       "     <use xlink:href=\"#DejaVuSans-6f\" x=\"428.320312\"/>\n",
       "     <use xlink:href=\"#DejaVuSans-74\" x=\"489.501953\"/>\n",
       "    </g>\n",
       "   </g>\n",
       "  </g>\n",
       "  <g id=\"axes_2\">\n",
       "   <g id=\"patch_7\">\n",
       "    <path d=\"M 78.794915 79.063888 \n",
       "L 135.540678 79.063888 \n",
       "L 135.540678 22.318125 \n",
       "L 78.794915 22.318125 \n",
       "z\n",
       "\" style=\"fill: #ffffff\"/>\n",
       "   </g>\n",
       "   <g clip-path=\"url(#p8202a480db)\">\n",
       "    <image xlink:href=\"data:image/png;base64,\n",
       "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\" id=\"image8151036efc\" transform=\"scale(1 -1)translate(0 -57)\" x=\"78.794915\" y=\"-22.063888\" width=\"57\" height=\"57\"/>\n",
       "   </g>\n",
       "   <g id=\"patch_8\">\n",
       "    <path d=\"M 78.794915 79.063888 \n",
       "L 78.794915 22.318125 \n",
       "\" style=\"fill: none; stroke: #000000; stroke-width: 0.8; stroke-linejoin: miter; stroke-linecap: square\"/>\n",
       "   </g>\n",
       "   <g id=\"patch_9\">\n",
       "    <path d=\"M 135.540678 79.063888 \n",
       "L 135.540678 22.318125 \n",
       "\" style=\"fill: none; stroke: #000000; stroke-width: 0.8; stroke-linejoin: miter; stroke-linecap: square\"/>\n",
       "   </g>\n",
       "   <g id=\"patch_10\">\n",
       "    <path d=\"M 78.794915 79.063888 \n",
       "L 135.540678 79.063888 \n",
       "\" style=\"fill: none; stroke: #000000; stroke-width: 0.8; stroke-linejoin: miter; stroke-linecap: square\"/>\n",
       "   </g>\n",
       "   <g id=\"patch_11\">\n",
       "    <path d=\"M 78.794915 22.318125 \n",
       "L 135.540678 22.318125 \n",
       "\" style=\"fill: none; stroke: #000000; stroke-width: 0.8; stroke-linejoin: miter; stroke-linecap: square\"/>\n",
       "   </g>\n",
       "   <g id=\"text_2\">\n",
       "    <!-- t-shirt -->\n",
       "    <g transform=\"translate(89.237172 16.318125)scale(0.12 -0.12)\">\n",
       "     <defs>\n",
       "      <path id=\"DejaVuSans-2d\" d=\"M 313 2009 \n",
       "L 1997 2009 \n",
       "L 1997 1497 \n",
       "L 313 1497 \n",
       "L 313 2009 \n",
       "z\n",
       "\" transform=\"scale(0.015625)\"/>\n",
       "      <path id=\"DejaVuSans-73\" d=\"M 2834 3397 \n",
       "L 2834 2853 \n",
       "Q 2591 2978 2328 3040 \n",
       "Q 2066 3103 1784 3103 \n",
       "Q 1356 3103 1142 2972 \n",
       "Q 928 2841 928 2578 \n",
       "Q 928 2378 1081 2264 \n",
       "Q 1234 2150 1697 2047 \n",
       "L 1894 2003 \n",
       "Q 2506 1872 2764 1633 \n",
       "Q 3022 1394 3022 966 \n",
       "Q 3022 478 2636 193 \n",
       "Q 2250 -91 1575 -91 \n",
       "Q 1294 -91 989 -36 \n",
       "Q 684 19 347 128 \n",
       "L 347 722 \n",
       "Q 666 556 975 473 \n",
       "Q 1284 391 1588 391 \n",
       "Q 1994 391 2212 530 \n",
       "Q 2431 669 2431 922 \n",
       "Q 2431 1156 2273 1281 \n",
       "Q 2116 1406 1581 1522 \n",
       "L 1381 1569 \n",
       "Q 847 1681 609 1914 \n",
       "Q 372 2147 372 2553 \n",
       "Q 372 3047 722 3315 \n",
       "Q 1072 3584 1716 3584 \n",
       "Q 2034 3584 2315 3537 \n",
       "Q 2597 3491 2834 3397 \n",
       "z\n",
       "\" transform=\"scale(0.015625)\"/>\n",
       "      <path id=\"DejaVuSans-68\" d=\"M 3513 2113 \n",
       "L 3513 0 \n",
       "L 2938 0 \n",
       "L 2938 2094 \n",
       "Q 2938 2591 2744 2837 \n",
       "Q 2550 3084 2163 3084 \n",
       "Q 1697 3084 1428 2787 \n",
       "Q 1159 2491 1159 1978 \n",
       "L 1159 0 \n",
       "L 581 0 \n",
       "L 581 4863 \n",
       "L 1159 4863 \n",
       "L 1159 2956 \n",
       "Q 1366 3272 1645 3428 \n",
       "Q 1925 3584 2291 3584 \n",
       "Q 2894 3584 3203 3211 \n",
       "Q 3513 2838 3513 2113 \n",
       "z\n",
       "\" transform=\"scale(0.015625)\"/>\n",
       "      <path id=\"DejaVuSans-69\" d=\"M 603 3500 \n",
       "L 1178 3500 \n",
       "L 1178 0 \n",
       "L 603 0 \n",
       "L 603 3500 \n",
       "z\n",
       "M 603 4863 \n",
       "L 1178 4863 \n",
       "L 1178 4134 \n",
       "L 603 4134 \n",
       "L 603 4863 \n",
       "z\n",
       "\" transform=\"scale(0.015625)\"/>\n",
       "      <path id=\"DejaVuSans-72\" d=\"M 2631 2963 \n",
       "Q 2534 3019 2420 3045 \n",
       "Q 2306 3072 2169 3072 \n",
       "Q 1681 3072 1420 2755 \n",
       "Q 1159 2438 1159 1844 \n",
       "L 1159 0 \n",
       "L 581 0 \n",
       "L 581 3500 \n",
       "L 1159 3500 \n",
       "L 1159 2956 \n",
       "Q 1341 3275 1631 3429 \n",
       "Q 1922 3584 2338 3584 \n",
       "Q 2397 3584 2469 3576 \n",
       "Q 2541 3569 2628 3553 \n",
       "L 2631 2963 \n",
       "z\n",
       "\" transform=\"scale(0.015625)\"/>\n",
       "     </defs>\n",
       "     <use xlink:href=\"#DejaVuSans-74\"/>\n",
       "     <use xlink:href=\"#DejaVuSans-2d\" x=\"39.208984\"/>\n",
       "     <use xlink:href=\"#DejaVuSans-73\" x=\"75.292969\"/>\n",
       "     <use xlink:href=\"#DejaVuSans-68\" x=\"127.392578\"/>\n",
       "     <use xlink:href=\"#DejaVuSans-69\" x=\"190.771484\"/>\n",
       "     <use xlink:href=\"#DejaVuSans-72\" x=\"218.554688\"/>\n",
       "     <use xlink:href=\"#DejaVuSans-74\" x=\"259.667969\"/>\n",
       "    </g>\n",
       "   </g>\n",
       "  </g>\n",
       "  <g id=\"axes_3\">\n",
       "   <g id=\"patch_12\">\n",
       "    <path d=\"M 146.889831 79.063888 \n",
       "L 203.635593 79.063888 \n",
       "L 203.635593 22.318125 \n",
       "L 146.889831 22.318125 \n",
       "z\n",
       "\" style=\"fill: #ffffff\"/>\n",
       "   </g>\n",
       "   <g clip-path=\"url(#pc4c5ecda03)\">\n",
       "    <image xlink:href=\"data:image/png;base64,\n",
       "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\" id=\"imageab0f0b12ee\" transform=\"scale(1 -1)translate(0 -57)\" x=\"146.889831\" y=\"-22.063888\" width=\"57\" height=\"57\"/>\n",
       "   </g>\n",
       "   <g id=\"patch_13\">\n",
       "    <path d=\"M 146.889831 79.063888 \n",
       "L 146.889831 22.318125 \n",
       "\" style=\"fill: none; stroke: #000000; stroke-width: 0.8; stroke-linejoin: miter; stroke-linecap: square\"/>\n",
       "   </g>\n",
       "   <g id=\"patch_14\">\n",
       "    <path d=\"M 203.635593 79.063888 \n",
       "L 203.635593 22.318125 \n",
       "\" style=\"fill: none; stroke: #000000; stroke-width: 0.8; stroke-linejoin: miter; stroke-linecap: square\"/>\n",
       "   </g>\n",
       "   <g id=\"patch_15\">\n",
       "    <path d=\"M 146.889831 79.063888 \n",
       "L 203.635593 79.063888 \n",
       "\" style=\"fill: none; stroke: #000000; stroke-width: 0.8; stroke-linejoin: miter; stroke-linecap: square\"/>\n",
       "   </g>\n",
       "   <g id=\"patch_16\">\n",
       "    <path d=\"M 146.889831 22.318125 \n",
       "L 203.635593 22.318125 \n",
       "\" style=\"fill: none; stroke: #000000; stroke-width: 0.8; stroke-linejoin: miter; stroke-linecap: square\"/>\n",
       "   </g>\n",
       "   <g id=\"text_3\">\n",
       "    <!-- t-shirt -->\n",
       "    <g transform=\"translate(157.332087 16.318125)scale(0.12 -0.12)\">\n",
       "     <use xlink:href=\"#DejaVuSans-74\"/>\n",
       "     <use xlink:href=\"#DejaVuSans-2d\" x=\"39.208984\"/>\n",
       "     <use xlink:href=\"#DejaVuSans-73\" x=\"75.292969\"/>\n",
       "     <use xlink:href=\"#DejaVuSans-68\" x=\"127.392578\"/>\n",
       "     <use xlink:href=\"#DejaVuSans-69\" x=\"190.771484\"/>\n",
       "     <use xlink:href=\"#DejaVuSans-72\" x=\"218.554688\"/>\n",
       "     <use xlink:href=\"#DejaVuSans-74\" x=\"259.667969\"/>\n",
       "    </g>\n",
       "   </g>\n",
       "  </g>\n",
       "  <g id=\"axes_4\">\n",
       "   <g id=\"patch_17\">\n",
       "    <path d=\"M 214.984746 79.063888 \n",
       "L 271.730508 79.063888 \n",
       "L 271.730508 22.318125 \n",
       "L 214.984746 22.318125 \n",
       "z\n",
       "\" style=\"fill: #ffffff\"/>\n",
       "   </g>\n",
       "   <g clip-path=\"url(#pb01698280d)\">\n",
       "    <image xlink:href=\"data:image/png;base64,\n",
       "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\" id=\"imagea6d9c7a22d\" transform=\"scale(1 -1)translate(0 -57)\" x=\"214.984746\" y=\"-22.063888\" width=\"57\" height=\"57\"/>\n",
       "   </g>\n",
       "   <g id=\"patch_18\">\n",
       "    <path d=\"M 214.984746 79.063888 \n",
       "L 214.984746 22.318125 \n",
       "\" style=\"fill: none; stroke: #000000; stroke-width: 0.8; stroke-linejoin: miter; stroke-linecap: square\"/>\n",
       "   </g>\n",
       "   <g id=\"patch_19\">\n",
       "    <path d=\"M 271.730508 79.063888 \n",
       "L 271.730508 22.318125 \n",
       "\" style=\"fill: none; stroke: #000000; stroke-width: 0.8; stroke-linejoin: miter; stroke-linecap: square\"/>\n",
       "   </g>\n",
       "   <g id=\"patch_20\">\n",
       "    <path d=\"M 214.984746 79.063888 \n",
       "L 271.730508 79.063888 \n",
       "\" style=\"fill: none; stroke: #000000; stroke-width: 0.8; stroke-linejoin: miter; stroke-linecap: square\"/>\n",
       "   </g>\n",
       "   <g id=\"patch_21\">\n",
       "    <path d=\"M 214.984746 22.318125 \n",
       "L 271.730508 22.318125 \n",
       "\" style=\"fill: none; stroke: #000000; stroke-width: 0.8; stroke-linejoin: miter; stroke-linecap: square\"/>\n",
       "   </g>\n",
       "   <g id=\"text_4\">\n",
       "    <!-- dress -->\n",
       "    <g transform=\"translate(227.273877 16.318125)scale(0.12 -0.12)\">\n",
       "     <defs>\n",
       "      <path id=\"DejaVuSans-64\" d=\"M 2906 2969 \n",
       "L 2906 4863 \n",
       "L 3481 4863 \n",
       "L 3481 0 \n",
       "L 2906 0 \n",
       "L 2906 525 \n",
       "Q 2725 213 2448 61 \n",
       "Q 2172 -91 1784 -91 \n",
       "Q 1150 -91 751 415 \n",
       "Q 353 922 353 1747 \n",
       "Q 353 2572 751 3078 \n",
       "Q 1150 3584 1784 3584 \n",
       "Q 2172 3584 2448 3432 \n",
       "Q 2725 3281 2906 2969 \n",
       "z\n",
       "M 947 1747 \n",
       "Q 947 1113 1208 752 \n",
       "Q 1469 391 1925 391 \n",
       "Q 2381 391 2643 752 \n",
       "Q 2906 1113 2906 1747 \n",
       "Q 2906 2381 2643 2742 \n",
       "Q 2381 3103 1925 3103 \n",
       "Q 1469 3103 1208 2742 \n",
       "Q 947 2381 947 1747 \n",
       "z\n",
       "\" transform=\"scale(0.015625)\"/>\n",
       "     </defs>\n",
       "     <use xlink:href=\"#DejaVuSans-64\"/>\n",
       "     <use xlink:href=\"#DejaVuSans-72\" x=\"63.476562\"/>\n",
       "     <use xlink:href=\"#DejaVuSans-65\" x=\"102.339844\"/>\n",
       "     <use xlink:href=\"#DejaVuSans-73\" x=\"163.863281\"/>\n",
       "     <use xlink:href=\"#DejaVuSans-73\" x=\"215.962891\"/>\n",
       "    </g>\n",
       "   </g>\n",
       "  </g>\n",
       "  <g id=\"axes_5\">\n",
       "   <g id=\"patch_22\">\n",
       "    <path d=\"M 283.079661 79.063888 \n",
       "L 339.825424 79.063888 \n",
       "L 339.825424 22.318125 \n",
       "L 283.079661 22.318125 \n",
       "z\n",
       "\" style=\"fill: #ffffff\"/>\n",
       "   </g>\n",
       "   <g clip-path=\"url(#pe3bb9c3608)\">\n",
       "    <image xlink:href=\"data:image/png;base64,\n",
       "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\" id=\"imagee4eff4d4d3\" transform=\"scale(1 -1)translate(0 -57)\" x=\"283.079661\" y=\"-22.063888\" width=\"57\" height=\"57\"/>\n",
       "   </g>\n",
       "   <g id=\"patch_23\">\n",
       "    <path d=\"M 283.079661 79.063888 \n",
       "L 283.079661 22.318125 \n",
       "\" style=\"fill: none; stroke: #000000; stroke-width: 0.8; stroke-linejoin: miter; stroke-linecap: square\"/>\n",
       "   </g>\n",
       "   <g id=\"patch_24\">\n",
       "    <path d=\"M 339.825424 79.063888 \n",
       "L 339.825424 22.318125 \n",
       "\" style=\"fill: none; stroke: #000000; stroke-width: 0.8; stroke-linejoin: miter; stroke-linecap: square\"/>\n",
       "   </g>\n",
       "   <g id=\"patch_25\">\n",
       "    <path d=\"M 283.079661 79.063888 \n",
       "L 339.825424 79.063888 \n",
       "\" style=\"fill: none; stroke: #000000; stroke-width: 0.8; stroke-linejoin: miter; stroke-linecap: square\"/>\n",
       "   </g>\n",
       "   <g id=\"patch_26\">\n",
       "    <path d=\"M 283.079661 22.318125 \n",
       "L 339.825424 22.318125 \n",
       "\" style=\"fill: none; stroke: #000000; stroke-width: 0.8; stroke-linejoin: miter; stroke-linecap: square\"/>\n",
       "   </g>\n",
       "   <g id=\"text_5\">\n",
       "    <!-- t-shirt -->\n",
       "    <g transform=\"translate(293.521917 16.318125)scale(0.12 -0.12)\">\n",
       "     <use xlink:href=\"#DejaVuSans-74\"/>\n",
       "     <use xlink:href=\"#DejaVuSans-2d\" x=\"39.208984\"/>\n",
       "     <use xlink:href=\"#DejaVuSans-73\" x=\"75.292969\"/>\n",
       "     <use xlink:href=\"#DejaVuSans-68\" x=\"127.392578\"/>\n",
       "     <use xlink:href=\"#DejaVuSans-69\" x=\"190.771484\"/>\n",
       "     <use xlink:href=\"#DejaVuSans-72\" x=\"218.554688\"/>\n",
       "     <use xlink:href=\"#DejaVuSans-74\" x=\"259.667969\"/>\n",
       "    </g>\n",
       "   </g>\n",
       "  </g>\n",
       "  <g id=\"axes_6\">\n",
       "   <g id=\"patch_27\">\n",
       "    <path d=\"M 351.174576 79.063888 \n",
       "L 407.920339 79.063888 \n",
       "L 407.920339 22.318125 \n",
       "L 351.174576 22.318125 \n",
       "z\n",
       "\" style=\"fill: #ffffff\"/>\n",
       "   </g>\n",
       "   <g clip-path=\"url(#peedda2ccc3)\">\n",
       "    <image xlink:href=\"data:image/png;base64,\n",
       "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\" id=\"image5564765ca0\" transform=\"scale(1 -1)translate(0 -57)\" x=\"351.174576\" y=\"-22.063888\" width=\"57\" height=\"57\"/>\n",
       "   </g>\n",
       "   <g id=\"patch_28\">\n",
       "    <path d=\"M 351.174576 79.063888 \n",
       "L 351.174576 22.318125 \n",
       "\" style=\"fill: none; stroke: #000000; stroke-width: 0.8; stroke-linejoin: miter; stroke-linecap: square\"/>\n",
       "   </g>\n",
       "   <g id=\"patch_29\">\n",
       "    <path d=\"M 407.920339 79.063888 \n",
       "L 407.920339 22.318125 \n",
       "\" style=\"fill: none; stroke: #000000; stroke-width: 0.8; stroke-linejoin: miter; stroke-linecap: square\"/>\n",
       "   </g>\n",
       "   <g id=\"patch_30\">\n",
       "    <path d=\"M 351.174576 79.063888 \n",
       "L 407.920339 79.063888 \n",
       "\" style=\"fill: none; stroke: #000000; stroke-width: 0.8; stroke-linejoin: miter; stroke-linecap: square\"/>\n",
       "   </g>\n",
       "   <g id=\"patch_31\">\n",
       "    <path d=\"M 351.174576 22.318125 \n",
       "L 407.920339 22.318125 \n",
       "\" style=\"fill: none; stroke: #000000; stroke-width: 0.8; stroke-linejoin: miter; stroke-linecap: square\"/>\n",
       "   </g>\n",
       "   <g id=\"text_6\">\n",
       "    <!-- pullover -->\n",
       "    <g transform=\"translate(355.221208 16.318125)scale(0.12 -0.12)\">\n",
       "     <defs>\n",
       "      <path id=\"DejaVuSans-70\" d=\"M 1159 525 \n",
       "L 1159 -1331 \n",
       "L 581 -1331 \n",
       "L 581 3500 \n",
       "L 1159 3500 \n",
       "L 1159 2969 \n",
       "Q 1341 3281 1617 3432 \n",
       "Q 1894 3584 2278 3584 \n",
       "Q 2916 3584 3314 3078 \n",
       "Q 3713 2572 3713 1747 \n",
       "Q 3713 922 3314 415 \n",
       "Q 2916 -91 2278 -91 \n",
       "Q 1894 -91 1617 61 \n",
       "Q 1341 213 1159 525 \n",
       "z\n",
       "M 3116 1747 \n",
       "Q 3116 2381 2855 2742 \n",
       "Q 2594 3103 2138 3103 \n",
       "Q 1681 3103 1420 2742 \n",
       "Q 1159 2381 1159 1747 \n",
       "Q 1159 1113 1420 752 \n",
       "Q 1681 391 2138 391 \n",
       "Q 2594 391 2855 752 \n",
       "Q 3116 1113 3116 1747 \n",
       "z\n",
       "\" transform=\"scale(0.015625)\"/>\n",
       "      <path id=\"DejaVuSans-75\" d=\"M 544 1381 \n",
       "L 544 3500 \n",
       "L 1119 3500 \n",
       "L 1119 1403 \n",
       "Q 1119 906 1312 657 \n",
       "Q 1506 409 1894 409 \n",
       "Q 2359 409 2629 706 \n",
       "Q 2900 1003 2900 1516 \n",
       "L 2900 3500 \n",
       "L 3475 3500 \n",
       "L 3475 0 \n",
       "L 2900 0 \n",
       "L 2900 538 \n",
       "Q 2691 219 2414 64 \n",
       "Q 2138 -91 1772 -91 \n",
       "Q 1169 -91 856 284 \n",
       "Q 544 659 544 1381 \n",
       "z\n",
       "M 1991 3584 \n",
       "L 1991 3584 \n",
       "z\n",
       "\" transform=\"scale(0.015625)\"/>\n",
       "      <path id=\"DejaVuSans-76\" d=\"M 191 3500 \n",
       "L 800 3500 \n",
       "L 1894 563 \n",
       "L 2988 3500 \n",
       "L 3597 3500 \n",
       "L 2284 0 \n",
       "L 1503 0 \n",
       "L 191 3500 \n",
       "z\n",
       "\" transform=\"scale(0.015625)\"/>\n",
       "     </defs>\n",
       "     <use xlink:href=\"#DejaVuSans-70\"/>\n",
       "     <use xlink:href=\"#DejaVuSans-75\" x=\"63.476562\"/>\n",
       "     <use xlink:href=\"#DejaVuSans-6c\" x=\"126.855469\"/>\n",
       "     <use xlink:href=\"#DejaVuSans-6c\" x=\"154.638672\"/>\n",
       "     <use xlink:href=\"#DejaVuSans-6f\" x=\"182.421875\"/>\n",
       "     <use xlink:href=\"#DejaVuSans-76\" x=\"243.603516\"/>\n",
       "     <use xlink:href=\"#DejaVuSans-65\" x=\"302.783203\"/>\n",
       "     <use xlink:href=\"#DejaVuSans-72\" x=\"364.306641\"/>\n",
       "    </g>\n",
       "   </g>\n",
       "  </g>\n",
       "  <g id=\"axes_7\">\n",
       "   <g id=\"patch_32\">\n",
       "    <path d=\"M 419.269492 79.063888 \n",
       "L 476.015254 79.063888 \n",
       "L 476.015254 22.318125 \n",
       "L 419.269492 22.318125 \n",
       "z\n",
       "\" style=\"fill: #ffffff\"/>\n",
       "   </g>\n",
       "   <g clip-path=\"url(#pcda2de76f5)\">\n",
       "    <image xlink:href=\"data:image/png;base64,\n",
       "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\" id=\"imaged9e90b67bd\" transform=\"scale(1 -1)translate(0 -57)\" x=\"419.269492\" y=\"-22.063888\" width=\"57\" height=\"57\"/>\n",
       "   </g>\n",
       "   <g id=\"patch_33\">\n",
       "    <path d=\"M 419.269492 79.063888 \n",
       "L 419.269492 22.318125 \n",
       "\" style=\"fill: none; stroke: #000000; stroke-width: 0.8; stroke-linejoin: miter; stroke-linecap: square\"/>\n",
       "   </g>\n",
       "   <g id=\"patch_34\">\n",
       "    <path d=\"M 476.015254 79.063888 \n",
       "L 476.015254 22.318125 \n",
       "\" style=\"fill: none; stroke: #000000; stroke-width: 0.8; stroke-linejoin: miter; stroke-linecap: square\"/>\n",
       "   </g>\n",
       "   <g id=\"patch_35\">\n",
       "    <path d=\"M 419.269492 79.063888 \n",
       "L 476.015254 79.063888 \n",
       "\" style=\"fill: none; stroke: #000000; stroke-width: 0.8; stroke-linejoin: miter; stroke-linecap: square\"/>\n",
       "   </g>\n",
       "   <g id=\"patch_36\">\n",
       "    <path d=\"M 419.269492 22.318125 \n",
       "L 476.015254 22.318125 \n",
       "\" style=\"fill: none; stroke: #000000; stroke-width: 0.8; stroke-linejoin: miter; stroke-linecap: square\"/>\n",
       "   </g>\n",
       "   <g id=\"text_7\">\n",
       "    <!-- sneaker -->\n",
       "    <g transform=\"translate(423.930185 16.318125)scale(0.12 -0.12)\">\n",
       "     <use xlink:href=\"#DejaVuSans-73\"/>\n",
       "     <use xlink:href=\"#DejaVuSans-6e\" x=\"52.099609\"/>\n",
       "     <use xlink:href=\"#DejaVuSans-65\" x=\"115.478516\"/>\n",
       "     <use xlink:href=\"#DejaVuSans-61\" x=\"177.001953\"/>\n",
       "     <use xlink:href=\"#DejaVuSans-6b\" x=\"238.28125\"/>\n",
       "     <use xlink:href=\"#DejaVuSans-65\" x=\"292.566406\"/>\n",
       "     <use xlink:href=\"#DejaVuSans-72\" x=\"354.089844\"/>\n",
       "    </g>\n",
       "   </g>\n",
       "  </g>\n",
       "  <g id=\"axes_8\">\n",
       "   <g id=\"patch_37\">\n",
       "    <path d=\"M 487.364407 79.063888 \n",
       "L 544.110169 79.063888 \n",
       "L 544.110169 22.318125 \n",
       "L 487.364407 22.318125 \n",
       "z\n",
       "\" style=\"fill: #ffffff\"/>\n",
       "   </g>\n",
       "   <g clip-path=\"url(#p063b3d4caa)\">\n",
       "    <image xlink:href=\"data:image/png;base64,\n",
       "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\" id=\"image8505501957\" transform=\"scale(1 -1)translate(0 -57)\" x=\"487.364407\" y=\"-22.063888\" width=\"57\" height=\"57\"/>\n",
       "   </g>\n",
       "   <g id=\"patch_38\">\n",
       "    <path d=\"M 487.364407 79.063888 \n",
       "L 487.364407 22.318125 \n",
       "\" style=\"fill: none; stroke: #000000; stroke-width: 0.8; stroke-linejoin: miter; stroke-linecap: square\"/>\n",
       "   </g>\n",
       "   <g id=\"patch_39\">\n",
       "    <path d=\"M 544.110169 79.063888 \n",
       "L 544.110169 22.318125 \n",
       "\" style=\"fill: none; stroke: #000000; stroke-width: 0.8; stroke-linejoin: miter; stroke-linecap: square\"/>\n",
       "   </g>\n",
       "   <g id=\"patch_40\">\n",
       "    <path d=\"M 487.364407 79.063888 \n",
       "L 544.110169 79.063888 \n",
       "\" style=\"fill: none; stroke: #000000; stroke-width: 0.8; stroke-linejoin: miter; stroke-linecap: square\"/>\n",
       "   </g>\n",
       "   <g id=\"patch_41\">\n",
       "    <path d=\"M 487.364407 22.318125 \n",
       "L 544.110169 22.318125 \n",
       "\" style=\"fill: none; stroke: #000000; stroke-width: 0.8; stroke-linejoin: miter; stroke-linecap: square\"/>\n",
       "   </g>\n",
       "   <g id=\"text_8\">\n",
       "    <!-- pullover -->\n",
       "    <g transform=\"translate(491.411038 16.318125)scale(0.12 -0.12)\">\n",
       "     <use xlink:href=\"#DejaVuSans-70\"/>\n",
       "     <use xlink:href=\"#DejaVuSans-75\" x=\"63.476562\"/>\n",
       "     <use xlink:href=\"#DejaVuSans-6c\" x=\"126.855469\"/>\n",
       "     <use xlink:href=\"#DejaVuSans-6c\" x=\"154.638672\"/>\n",
       "     <use xlink:href=\"#DejaVuSans-6f\" x=\"182.421875\"/>\n",
       "     <use xlink:href=\"#DejaVuSans-76\" x=\"243.603516\"/>\n",
       "     <use xlink:href=\"#DejaVuSans-65\" x=\"302.783203\"/>\n",
       "     <use xlink:href=\"#DejaVuSans-72\" x=\"364.306641\"/>\n",
       "    </g>\n",
       "   </g>\n",
       "  </g>\n",
       "  <g id=\"axes_9\">\n",
       "   <g id=\"patch_42\">\n",
       "    <path d=\"M 555.459322 79.063888 \n",
       "L 612.205085 79.063888 \n",
       "L 612.205085 22.318125 \n",
       "L 555.459322 22.318125 \n",
       "z\n",
       "\" style=\"fill: #ffffff\"/>\n",
       "   </g>\n",
       "   <g clip-path=\"url(#p9a35156d3c)\">\n",
       "    <image xlink:href=\"data:image/png;base64,\n",
       "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\" id=\"image7bc71e4179\" transform=\"scale(1 -1)translate(0 -57)\" x=\"555.459322\" y=\"-22.063888\" width=\"57\" height=\"57\"/>\n",
       "   </g>\n",
       "   <g id=\"patch_43\">\n",
       "    <path d=\"M 555.459322 79.063888 \n",
       "L 555.459322 22.318125 \n",
       "\" style=\"fill: none; stroke: #000000; stroke-width: 0.8; stroke-linejoin: miter; stroke-linecap: square\"/>\n",
       "   </g>\n",
       "   <g id=\"patch_44\">\n",
       "    <path d=\"M 612.205085 79.063888 \n",
       "L 612.205085 22.318125 \n",
       "\" style=\"fill: none; stroke: #000000; stroke-width: 0.8; stroke-linejoin: miter; stroke-linecap: square\"/>\n",
       "   </g>\n",
       "   <g id=\"patch_45\">\n",
       "    <path d=\"M 555.459322 79.063888 \n",
       "L 612.205085 79.063888 \n",
       "\" style=\"fill: none; stroke: #000000; stroke-width: 0.8; stroke-linejoin: miter; stroke-linecap: square\"/>\n",
       "   </g>\n",
       "   <g id=\"patch_46\">\n",
       "    <path d=\"M 555.459322 22.318125 \n",
       "L 612.205085 22.318125 \n",
       "\" style=\"fill: none; stroke: #000000; stroke-width: 0.8; stroke-linejoin: miter; stroke-linecap: square\"/>\n",
       "   </g>\n",
       "   <g id=\"text_9\">\n",
       "    <!-- sandal -->\n",
       "    <g transform=\"translate(564.074391 16.318125)scale(0.12 -0.12)\">\n",
       "     <use xlink:href=\"#DejaVuSans-73\"/>\n",
       "     <use xlink:href=\"#DejaVuSans-61\" x=\"52.099609\"/>\n",
       "     <use xlink:href=\"#DejaVuSans-6e\" x=\"113.378906\"/>\n",
       "     <use xlink:href=\"#DejaVuSans-64\" x=\"176.757812\"/>\n",
       "     <use xlink:href=\"#DejaVuSans-61\" x=\"240.234375\"/>\n",
       "     <use xlink:href=\"#DejaVuSans-6c\" x=\"301.513672\"/>\n",
       "    </g>\n",
       "   </g>\n",
       "  </g>\n",
       "  <g id=\"axes_10\">\n",
       "   <g id=\"patch_47\">\n",
       "    <path d=\"M 623.554237 79.063888 \n",
       "L 680.3 79.063888 \n",
       "L 680.3 22.318125 \n",
       "L 623.554237 22.318125 \n",
       "z\n",
       "\" style=\"fill: #ffffff\"/>\n",
       "   </g>\n",
       "   <g clip-path=\"url(#pea9b290d28)\">\n",
       "    <image xlink:href=\"data:image/png;base64,\n",
       "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\" id=\"image62ba12e92a\" transform=\"scale(1 -1)translate(0 -57)\" x=\"623.554237\" y=\"-22.063888\" width=\"57\" height=\"57\"/>\n",
       "   </g>\n",
       "   <g id=\"patch_48\">\n",
       "    <path d=\"M 623.554237 79.063888 \n",
       "L 623.554237 22.318125 \n",
       "\" style=\"fill: none; stroke: #000000; stroke-width: 0.8; stroke-linejoin: miter; stroke-linecap: square\"/>\n",
       "   </g>\n",
       "   <g id=\"patch_49\">\n",
       "    <path d=\"M 680.3 79.063888 \n",
       "L 680.3 22.318125 \n",
       "\" style=\"fill: none; stroke: #000000; stroke-width: 0.8; stroke-linejoin: miter; stroke-linecap: square\"/>\n",
       "   </g>\n",
       "   <g id=\"patch_50\">\n",
       "    <path d=\"M 623.554237 79.063888 \n",
       "L 680.3 79.063888 \n",
       "\" style=\"fill: none; stroke: #000000; stroke-width: 0.8; stroke-linejoin: miter; stroke-linecap: square\"/>\n",
       "   </g>\n",
       "   <g id=\"patch_51\">\n",
       "    <path d=\"M 623.554237 22.318125 \n",
       "L 680.3 22.318125 \n",
       "\" style=\"fill: none; stroke: #000000; stroke-width: 0.8; stroke-linejoin: miter; stroke-linecap: square\"/>\n",
       "   </g>\n",
       "   <g id=\"text_10\">\n",
       "    <!-- sandal -->\n",
       "    <g transform=\"translate(632.169306 16.318125)scale(0.12 -0.12)\">\n",
       "     <use xlink:href=\"#DejaVuSans-73\"/>\n",
       "     <use xlink:href=\"#DejaVuSans-61\" x=\"52.099609\"/>\n",
       "     <use xlink:href=\"#DejaVuSans-6e\" x=\"113.378906\"/>\n",
       "     <use xlink:href=\"#DejaVuSans-64\" x=\"176.757812\"/>\n",
       "     <use xlink:href=\"#DejaVuSans-61\" x=\"240.234375\"/>\n",
       "     <use xlink:href=\"#DejaVuSans-6c\" x=\"301.513672\"/>\n",
       "    </g>\n",
       "   </g>\n",
       "  </g>\n",
       " </g>\n",
       " <defs>\n",
       "  <clipPath id=\"p13a5de95be\">\n",
       "   <rect x=\"10.7\" y=\"22.318125\" width=\"56.745763\" height=\"56.745763\"/>\n",
       "  </clipPath>\n",
       "  <clipPath id=\"p8202a480db\">\n",
       "   <rect x=\"78.794915\" y=\"22.318125\" width=\"56.745763\" height=\"56.745763\"/>\n",
       "  </clipPath>\n",
       "  <clipPath id=\"pc4c5ecda03\">\n",
       "   <rect x=\"146.889831\" y=\"22.318125\" width=\"56.745763\" height=\"56.745763\"/>\n",
       "  </clipPath>\n",
       "  <clipPath id=\"pb01698280d\">\n",
       "   <rect x=\"214.984746\" y=\"22.318125\" width=\"56.745763\" height=\"56.745763\"/>\n",
       "  </clipPath>\n",
       "  <clipPath id=\"pe3bb9c3608\">\n",
       "   <rect x=\"283.079661\" y=\"22.318125\" width=\"56.745763\" height=\"56.745763\"/>\n",
       "  </clipPath>\n",
       "  <clipPath id=\"peedda2ccc3\">\n",
       "   <rect x=\"351.174576\" y=\"22.318125\" width=\"56.745763\" height=\"56.745763\"/>\n",
       "  </clipPath>\n",
       "  <clipPath id=\"pcda2de76f5\">\n",
       "   <rect x=\"419.269492\" y=\"22.318125\" width=\"56.745763\" height=\"56.745763\"/>\n",
       "  </clipPath>\n",
       "  <clipPath id=\"p063b3d4caa\">\n",
       "   <rect x=\"487.364407\" y=\"22.318125\" width=\"56.745763\" height=\"56.745763\"/>\n",
       "  </clipPath>\n",
       "  <clipPath id=\"p9a35156d3c\">\n",
       "   <rect x=\"555.459322\" y=\"22.318125\" width=\"56.745763\" height=\"56.745763\"/>\n",
       "  </clipPath>\n",
       "  <clipPath id=\"pea9b290d28\">\n",
       "   <rect x=\"623.554237\" y=\"22.318125\" width=\"56.745763\" height=\"56.745763\"/>\n",
       "  </clipPath>\n",
       " </defs>\n",
       "</svg>\n"
      ],
      "text/plain": [
       "<Figure size 864x864 with 10 Axes>"
      ]
     },
     "metadata": {
      "needs_background": "light"
     },
     "output_type": "display_data"
    }
   ],
   "source": [
    "X, y = [], []\n",
    "for i in range(10):\n",
    "    X.append(mnist_train[i][0])\n",
    "    y.append(mnist_train[i][1])\n",
    "show_fashion_mnist(X, get_fashion_mnist_labels(y))"
   ]
  },
  {
   "cell_type": "code",
   "execution_count": 307,
   "metadata": {},
   "outputs": [],
   "source": [
    "batch_size = 256\n",
    "if sys.platform.startswith('win'):\n",
    "    num_workers = 0  # 0表示不用额外的进程来加速读取数据\n",
    "else:\n",
    "    num_workers = 4\n",
    "train_iter = torch.utils.data.DataLoader(mnist_train, batch_size=batch_size, shuffle=True, num_workers=num_workers)\n",
    "test_iter = torch.utils.data.DataLoader(mnist_test, batch_size=batch_size, shuffle=False, num_workers=num_workers)\n"
   ]
  },
  {
   "cell_type": "code",
   "execution_count": 308,
   "metadata": {},
   "outputs": [
    {
     "name": "stdout",
     "output_type": "stream",
     "text": [
      "1.42 sec\n"
     ]
    }
   ],
   "source": [
    "start = time.time()\n",
    "for X, y in train_iter:\n",
    "    continue\n",
    "print('%.2f sec' % (time.time() - start))"
   ]
  },
  {
   "cell_type": "markdown",
   "metadata": {},
   "source": [
    "## softmax 回归的从零到一的实现"
   ]
  },
  {
   "cell_type": "markdown",
   "metadata": {},
   "source": [
    "### 获取和读取数据"
   ]
  },
  {
   "cell_type": "code",
   "execution_count": 310,
   "metadata": {},
   "outputs": [],
   "source": [
    "batch_size = 256\n",
    "train_iter,test_iter = d2l.load_data_fashion_mnist(batch_size)"
   ]
  },
  {
   "cell_type": "markdown",
   "metadata": {},
   "source": [
    "### 初始化参数"
   ]
  },
  {
   "cell_type": "code",
   "execution_count": 311,
   "metadata": {},
   "outputs": [],
   "source": [
    "num_inputs = 784\n",
    "num_outputs = 10\n",
    "W = torch.tensor(np.random.normal(0,0.01,(num_inputs,num_outputs)),dtype=torch.float)\n",
    "b = torch.zeros(num_outputs,dtype=torch.float)\n"
   ]
  },
  {
   "cell_type": "code",
   "execution_count": 312,
   "metadata": {},
   "outputs": [
    {
     "data": {
      "text/plain": [
       "tensor([0., 0., 0., 0., 0., 0., 0., 0., 0., 0.], requires_grad=True)"
      ]
     },
     "execution_count": 312,
     "metadata": {},
     "output_type": "execute_result"
    }
   ],
   "source": [
    "W.requires_grad_(requires_grad=True)\n",
    "b.requires_grad_(requires_grad=True)\n"
   ]
  },
  {
   "cell_type": "markdown",
   "metadata": {},
   "source": [
    "### 实现softmax运算"
   ]
  },
  {
   "cell_type": "code",
   "execution_count": 313,
   "metadata": {},
   "outputs": [],
   "source": [
    "X = torch.tensor([[1,2,3],[4,5,6]])"
   ]
  },
  {
   "cell_type": "code",
   "execution_count": 320,
   "metadata": {},
   "outputs": [],
   "source": [
    "from torch.nn import functional  as F"
   ]
  },
  {
   "cell_type": "code",
   "execution_count": 315,
   "metadata": {},
   "outputs": [
    {
     "data": {
      "text/plain": [
       "torch.Size([2, 3])"
      ]
     },
     "execution_count": 315,
     "metadata": {},
     "output_type": "execute_result"
    }
   ],
   "source": [
    "X.shape"
   ]
  },
  {
   "cell_type": "code",
   "execution_count": 314,
   "metadata": {},
   "outputs": [
    {
     "data": {
      "text/plain": [
       "tensor([[5, 7, 9]])"
      ]
     },
     "execution_count": 314,
     "metadata": {},
     "output_type": "execute_result"
    }
   ],
   "source": [
    "X.sum(dim=0,keepdim=True)"
   ]
  },
  {
   "cell_type": "code",
   "execution_count": 316,
   "metadata": {},
   "outputs": [
    {
     "data": {
      "text/plain": [
       "tensor([[ 6],\n",
       "        [15]])"
      ]
     },
     "execution_count": 316,
     "metadata": {},
     "output_type": "execute_result"
    }
   ],
   "source": [
    "X.sum(dim=1,keepdim=True)"
   ]
  },
  {
   "cell_type": "code",
   "execution_count": 317,
   "metadata": {},
   "outputs": [],
   "source": [
    "X = torch.randn((2,5))"
   ]
  },
  {
   "cell_type": "code",
   "execution_count": 318,
   "metadata": {},
   "outputs": [
    {
     "data": {
      "text/plain": [
       "tensor([[ 0.6149,  0.3852,  0.7503,  2.0048,  0.2883],\n",
       "        [-0.6312,  1.3755, -0.3476, -1.0000,  0.8032]])"
      ]
     },
     "execution_count": 318,
     "metadata": {},
     "output_type": "execute_result"
    }
   ],
   "source": [
    "X"
   ]
  },
  {
   "cell_type": "code",
   "execution_count": 321,
   "metadata": {},
   "outputs": [
    {
     "name": "stderr",
     "output_type": "stream",
     "text": [
      "/Users/shizhonghui/anaconda3/envs/Tianchi/lib/python3.7/site-packages/ipykernel_launcher.py:1: UserWarning: Implicit dimension choice for softmax has been deprecated. Change the call to include dim=X as an argument.\n",
      "  \"\"\"Entry point for launching an IPython kernel.\n"
     ]
    }
   ],
   "source": [
    "X_pro = F.softmax(X)"
   ]
  },
  {
   "cell_type": "code",
   "execution_count": 322,
   "metadata": {},
   "outputs": [
    {
     "data": {
      "text/plain": [
       "tensor([[0.1303, 0.1035, 0.1492, 0.5230, 0.0940],\n",
       "        [0.0682, 0.5076, 0.0906, 0.0472, 0.2864]])"
      ]
     },
     "execution_count": 322,
     "metadata": {},
     "output_type": "execute_result"
    }
   ],
   "source": [
    "X_pro"
   ]
  },
  {
   "cell_type": "code",
   "execution_count": 323,
   "metadata": {},
   "outputs": [
    {
     "data": {
      "text/plain": [
       "tensor([[1.0000],\n",
       "        [1.0000]])"
      ]
     },
     "execution_count": 323,
     "metadata": {},
     "output_type": "execute_result"
    }
   ],
   "source": [
    "X_pro.sum(dim=1,keepdim=True)"
   ]
  },
  {
   "cell_type": "markdown",
   "metadata": {},
   "source": [
    "### 定义模型"
   ]
  },
  {
   "cell_type": "code",
   "execution_count": 325,
   "metadata": {},
   "outputs": [],
   "source": [
    "def net(X):\n",
    "    return F.softmax(torch.mm(X.view((-1,num_inputs)),W) + b)"
   ]
  },
  {
   "cell_type": "markdown",
   "metadata": {},
   "source": [
    "### 定义损失函数"
   ]
  },
  {
   "cell_type": "code",
   "execution_count": 326,
   "metadata": {},
   "outputs": [],
   "source": [
    "y_hat = torch.tensor([[0.1,0.3,0.6],[0.3,0.2,0.5]])\n",
    "y = torch.LongTensor([0,2])"
   ]
  },
  {
   "cell_type": "code",
   "execution_count": 328,
   "metadata": {},
   "outputs": [
    {
     "data": {
      "text/plain": [
       "tensor([[0],\n",
       "        [2]])"
      ]
     },
     "execution_count": 328,
     "metadata": {},
     "output_type": "execute_result"
    }
   ],
   "source": [
    "y.view(-1,1)"
   ]
  },
  {
   "cell_type": "code",
   "execution_count": 329,
   "metadata": {},
   "outputs": [
    {
     "data": {
      "text/plain": [
       "tensor([[0.1000],\n",
       "        [0.5000]])"
      ]
     },
     "execution_count": 329,
     "metadata": {},
     "output_type": "execute_result"
    }
   ],
   "source": [
    "y_hat.gather(1,y.view(-1,1))"
   ]
  },
  {
   "cell_type": "code",
   "execution_count": 348,
   "metadata": {},
   "outputs": [],
   "source": [
    "def cross_entropy(y_hat,y):\n",
    "    return -torch.log(y_hat.gather(1,y.view(-1,1)))"
   ]
  },
  {
   "cell_type": "markdown",
   "metadata": {},
   "source": [
    "### 计算分类准确率"
   ]
  },
  {
   "cell_type": "code",
   "execution_count": 331,
   "metadata": {},
   "outputs": [],
   "source": [
    "def accuracy(y_hat,y):\n",
    "    return (y_hat.argmax(dim=1) == y ).float().mean().item()"
   ]
  },
  {
   "cell_type": "code",
   "execution_count": 332,
   "metadata": {},
   "outputs": [
    {
     "data": {
      "text/plain": [
       "tensor([2, 2])"
      ]
     },
     "execution_count": 332,
     "metadata": {},
     "output_type": "execute_result"
    }
   ],
   "source": [
    "y_hat.argmax(dim=1)"
   ]
  },
  {
   "cell_type": "code",
   "execution_count": 333,
   "metadata": {},
   "outputs": [
    {
     "data": {
      "text/plain": [
       "tensor([False,  True])"
      ]
     },
     "execution_count": 333,
     "metadata": {},
     "output_type": "execute_result"
    }
   ],
   "source": [
    "y_hat.argmax(dim=1) == y "
   ]
  },
  {
   "cell_type": "code",
   "execution_count": 334,
   "metadata": {},
   "outputs": [
    {
     "data": {
      "text/plain": [
       "tensor([0., 1.])"
      ]
     },
     "execution_count": 334,
     "metadata": {},
     "output_type": "execute_result"
    }
   ],
   "source": [
    "(y_hat.argmax(dim=1) == y).float()"
   ]
  },
  {
   "cell_type": "code",
   "execution_count": 335,
   "metadata": {},
   "outputs": [
    {
     "data": {
      "text/plain": [
       "tensor(0.5000)"
      ]
     },
     "execution_count": 335,
     "metadata": {},
     "output_type": "execute_result"
    }
   ],
   "source": [
    "(y_hat.argmax(dim=1) == y).float().mean()"
   ]
  },
  {
   "cell_type": "code",
   "execution_count": 336,
   "metadata": {},
   "outputs": [
    {
     "data": {
      "text/plain": [
       "0.5"
      ]
     },
     "execution_count": 336,
     "metadata": {},
     "output_type": "execute_result"
    }
   ],
   "source": [
    "(y_hat.argmax(dim=1) == y).float().mean().item()"
   ]
  },
  {
   "cell_type": "code",
   "execution_count": 337,
   "metadata": {},
   "outputs": [],
   "source": [
    "# 本函数已保存在d2lzh_pytorch包中方便以后使用。该函数将被逐步改进：它的完整实现将在“图像增广”一节中描述\n",
    "def evaluate_accuracy(data_iter, net):\n",
    "    acc_sum, n = 0.0, 0\n",
    "    for X, y in data_iter:\n",
    "        acc_sum += (net(X).argmax(dim=1) == y).float().sum().item()\n",
    "        n += y.shape[0]\n",
    "    return acc_sum / n\n"
   ]
  },
  {
   "cell_type": "code",
   "execution_count": 338,
   "metadata": {},
   "outputs": [
    {
     "name": "stderr",
     "output_type": "stream",
     "text": [
      "/Users/shizhonghui/anaconda3/envs/Tianchi/lib/python3.7/site-packages/ipykernel_launcher.py:2: UserWarning: Implicit dimension choice for softmax has been deprecated. Change the call to include dim=X as an argument.\n",
      "  \n"
     ]
    },
    {
     "data": {
      "text/plain": [
       "0.0815"
      ]
     },
     "execution_count": 338,
     "metadata": {},
     "output_type": "execute_result"
    }
   ],
   "source": [
    "evaluate_accuracy(test_iter,net)"
   ]
  },
  {
   "cell_type": "code",
   "execution_count": null,
   "metadata": {},
   "outputs": [],
   "source": []
  },
  {
   "cell_type": "markdown",
   "metadata": {},
   "source": [
    "### 训练模型"
   ]
  },
  {
   "cell_type": "code",
   "execution_count": 356,
   "metadata": {},
   "outputs": [],
   "source": [
    "num_epoch,lr = 5,0.1\n",
    "def train_ch3(net,train_iter,test_iter,loss,num_epoch,batch_size,params= None,lr=None,optimizer=None):\n",
    "    for epoch in range(num_epoch):\n",
    "        train_l_sum,train_acc_sum,n = 0.0,0.0,0\n",
    "        for X,y in train_iter:\n",
    "            y_hat = net(X)\n",
    "            l = loss(y_hat,y)\n",
    "            # 梯度清零\n",
    "            if optimizer is not None:\n",
    "                optimizer.zero_gard()\n",
    "            elif params is not None and params[0].grad is not None:\n",
    "                for param in params:\n",
    "                    print(\"过\")\n",
    "                    print(param)\n",
    "            #print(\"1\")\n",
    "                    param.grad.data.zero_()\n",
    "                    \n",
    "            l.backward()\n",
    "            \n",
    "            if optimizer is None:\n",
    "                d2l.sgd(params,lr,batch_size)\n",
    "                \n",
    "            else:\n",
    "                optimizer.step()\n",
    "                \n",
    "            train_l_sum +=l.sum()\n",
    "            \n",
    "            train_acc_sum += (y_hat.argmax(dim=1) == y).sum().item()\n",
    "            n += y.shape[0]\n",
    "        test_acc = evaluate_accuracy(test_iter,net)\n",
    "        print('epoch %d, loss %.4f, train acc %.3f, test acc %.3f'\n",
    "              % (epoch + 1, train_l_sum / n, train_acc_sum / n, test_acc))\n",
    "        "
   ]
  },
  {
   "cell_type": "code",
   "execution_count": 357,
   "metadata": {},
   "outputs": [
    {
     "name": "stderr",
     "output_type": "stream",
     "text": [
      "/Users/shizhonghui/anaconda3/envs/Tianchi/lib/python3.7/site-packages/ipykernel_launcher.py:2: UserWarning: Implicit dimension choice for softmax has been deprecated. Change the call to include dim=X as an argument.\n",
      "  \n"
     ]
    },
    {
     "name": "stdout",
     "output_type": "stream",
     "text": [
      "1\n",
      "1\n",
      "1\n",
      "1\n",
      "1\n",
      "1\n",
      "1\n",
      "1\n",
      "1\n",
      "1\n",
      "1\n",
      "1\n",
      "1\n",
      "1\n",
      "1\n",
      "1\n",
      "1\n",
      "1\n",
      "1\n",
      "1\n",
      "1\n",
      "1\n",
      "1\n",
      "1\n",
      "1\n",
      "1\n",
      "1\n",
      "1\n",
      "1\n",
      "1\n",
      "1\n",
      "1\n",
      "1\n",
      "1\n",
      "1\n",
      "1\n",
      "1\n",
      "1\n",
      "1\n",
      "1\n",
      "1\n",
      "1\n",
      "1\n",
      "1\n",
      "1\n",
      "1\n",
      "1\n",
      "1\n",
      "1\n",
      "1\n",
      "1\n",
      "1\n",
      "1\n",
      "1\n",
      "1\n",
      "1\n",
      "1\n",
      "1\n",
      "1\n",
      "1\n",
      "1\n",
      "1\n",
      "1\n",
      "1\n",
      "1\n",
      "1\n",
      "1\n",
      "1\n",
      "1\n",
      "1\n",
      "1\n",
      "1\n",
      "1\n",
      "1\n",
      "1\n",
      "1\n",
      "1\n",
      "1\n",
      "1\n",
      "1\n",
      "1\n",
      "1\n",
      "1\n",
      "1\n",
      "1\n",
      "1\n",
      "1\n",
      "1\n",
      "1\n",
      "1\n",
      "1\n",
      "1\n",
      "1\n",
      "1\n",
      "1\n",
      "1\n",
      "1\n",
      "1\n",
      "1\n",
      "1\n",
      "1\n",
      "1\n",
      "1\n",
      "1\n",
      "1\n",
      "1\n",
      "1\n",
      "1\n",
      "1\n",
      "1\n",
      "1\n",
      "1\n",
      "1\n",
      "1\n",
      "1\n",
      "1\n",
      "1\n",
      "1\n",
      "1\n",
      "1\n",
      "1\n",
      "1\n",
      "1\n",
      "1\n",
      "1\n",
      "1\n",
      "1\n",
      "1\n",
      "1\n",
      "1\n",
      "1\n",
      "1\n",
      "1\n",
      "1\n",
      "1\n",
      "1\n",
      "1\n",
      "1\n",
      "1\n",
      "1\n",
      "1\n",
      "1\n",
      "1\n",
      "1\n",
      "1\n",
      "1\n",
      "1\n",
      "1\n",
      "1\n",
      "1\n",
      "1\n",
      "1\n",
      "1\n",
      "1\n",
      "1\n",
      "1\n",
      "1\n",
      "1\n",
      "1\n",
      "1\n",
      "1\n",
      "1\n",
      "1\n",
      "1\n",
      "1\n",
      "1\n",
      "1\n",
      "1\n",
      "1\n",
      "1\n",
      "1\n",
      "1\n",
      "1\n",
      "1\n",
      "1\n",
      "1\n",
      "1\n",
      "1\n",
      "1\n",
      "1\n",
      "1\n",
      "1\n",
      "1\n",
      "1\n",
      "1\n",
      "1\n",
      "1\n",
      "1\n",
      "1\n",
      "1\n",
      "1\n",
      "1\n",
      "1\n",
      "1\n",
      "1\n",
      "1\n",
      "1\n",
      "1\n",
      "1\n",
      "1\n",
      "1\n",
      "1\n",
      "1\n",
      "1\n",
      "1\n",
      "1\n",
      "1\n",
      "1\n",
      "1\n",
      "1\n",
      "1\n",
      "1\n",
      "1\n",
      "1\n",
      "1\n",
      "1\n",
      "1\n",
      "1\n",
      "1\n",
      "1\n",
      "1\n",
      "1\n",
      "1\n",
      "1\n",
      "1\n",
      "1\n",
      "1\n",
      "1\n",
      "1\n",
      "1\n",
      "1\n",
      "1\n",
      "1\n",
      "1\n",
      "1\n",
      "1\n",
      "1\n",
      "1\n",
      "1\n",
      "1\n",
      "1\n",
      "1\n",
      "1\n",
      "1\n",
      "1\n",
      "1\n",
      "1\n",
      "1\n",
      "1\n",
      "1\n",
      "1\n",
      "1\n",
      "1\n",
      "1\n",
      "1\n",
      "1\n",
      "1\n",
      "1\n",
      "1\n",
      "1\n",
      "1\n",
      "1\n",
      "1\n",
      "1\n",
      "1\n",
      "1\n",
      "1\n",
      "1\n",
      "1\n",
      "1\n",
      "1\n",
      "1\n",
      "1\n",
      "1\n",
      "1\n",
      "1\n",
      "1\n",
      "1\n",
      "1\n",
      "1\n",
      "1\n",
      "1\n",
      "1\n",
      "1\n",
      "1\n",
      "1\n",
      "1\n",
      "1\n",
      "1\n",
      "1\n",
      "1\n",
      "1\n",
      "1\n",
      "1\n",
      "1\n",
      "1\n",
      "1\n",
      "1\n",
      "1\n",
      "1\n",
      "1\n",
      "1\n",
      "1\n",
      "1\n",
      "1\n",
      "1\n",
      "1\n",
      "1\n",
      "1\n",
      "1\n",
      "1\n",
      "1\n",
      "1\n",
      "1\n",
      "1\n",
      "1\n",
      "1\n",
      "1\n",
      "1\n",
      "1\n",
      "1\n",
      "1\n",
      "1\n",
      "1\n",
      "1\n",
      "1\n",
      "1\n",
      "1\n",
      "1\n",
      "1\n",
      "1\n",
      "1\n",
      "1\n",
      "1\n",
      "1\n",
      "1\n",
      "1\n",
      "1\n",
      "1\n",
      "1\n",
      "1\n",
      "1\n",
      "1\n",
      "1\n",
      "1\n",
      "1\n",
      "1\n",
      "1\n",
      "1\n",
      "1\n",
      "1\n",
      "1\n",
      "1\n",
      "1\n",
      "1\n",
      "1\n",
      "1\n",
      "1\n",
      "1\n",
      "1\n",
      "1\n",
      "1\n",
      "1\n",
      "1\n",
      "1\n",
      "1\n",
      "1\n",
      "1\n",
      "1\n",
      "1\n",
      "1\n",
      "1\n",
      "1\n",
      "1\n",
      "1\n",
      "1\n",
      "1\n",
      "1\n",
      "1\n",
      "1\n",
      "1\n",
      "1\n",
      "1\n",
      "1\n",
      "1\n",
      "1\n",
      "1\n",
      "1\n",
      "1\n",
      "1\n",
      "1\n",
      "1\n",
      "1\n",
      "1\n",
      "1\n",
      "1\n",
      "1\n",
      "1\n",
      "1\n",
      "1\n",
      "1\n",
      "1\n",
      "1\n",
      "1\n",
      "1\n",
      "1\n",
      "1\n",
      "1\n",
      "1\n",
      "1\n",
      "1\n",
      "1\n",
      "1\n",
      "1\n",
      "1\n",
      "1\n",
      "1\n",
      "1\n",
      "1\n",
      "1\n",
      "1\n",
      "1\n",
      "1\n",
      "1\n",
      "1\n",
      "1\n",
      "1\n",
      "1\n",
      "1\n",
      "1\n",
      "1\n",
      "1\n",
      "1\n",
      "1\n",
      "1\n",
      "1\n",
      "1\n",
      "1\n",
      "1\n",
      "1\n",
      "1\n",
      "1\n",
      "1\n",
      "1\n",
      "1\n",
      "1\n",
      "1\n",
      "1\n",
      "1\n",
      "1\n",
      "1\n",
      "1\n",
      "1\n",
      "1\n",
      "1\n",
      "1\n",
      "1\n",
      "1\n",
      "1\n",
      "1\n",
      "1\n",
      "1\n",
      "1\n",
      "1\n",
      "1\n",
      "1\n",
      "1\n",
      "1\n",
      "1\n",
      "1\n",
      "1\n",
      "1\n",
      "1\n",
      "1\n",
      "1\n",
      "1\n",
      "1\n",
      "1\n",
      "1\n",
      "1\n",
      "1\n",
      "1\n",
      "1\n",
      "1\n",
      "1\n",
      "1\n",
      "1\n",
      "1\n",
      "1\n",
      "1\n",
      "1\n",
      "1\n",
      "1\n",
      "1\n",
      "1\n",
      "1\n",
      "1\n",
      "1\n",
      "1\n",
      "1\n",
      "1\n",
      "1\n",
      "1\n",
      "1\n",
      "1\n",
      "1\n",
      "1\n",
      "1\n",
      "1\n",
      "1\n",
      "1\n",
      "1\n",
      "1\n",
      "1\n",
      "1\n",
      "1\n",
      "1\n",
      "1\n",
      "1\n",
      "1\n",
      "1\n",
      "1\n",
      "1\n",
      "1\n",
      "1\n",
      "1\n",
      "1\n",
      "1\n",
      "1\n",
      "1\n",
      "1\n",
      "1\n",
      "1\n",
      "1\n",
      "1\n",
      "1\n",
      "1\n",
      "1\n",
      "1\n",
      "1\n",
      "1\n",
      "1\n",
      "1\n",
      "1\n",
      "1\n",
      "1\n",
      "1\n",
      "1\n",
      "1\n",
      "1\n",
      "1\n",
      "1\n",
      "1\n",
      "1\n",
      "1\n",
      "1\n",
      "1\n",
      "1\n",
      "1\n",
      "1\n",
      "1\n",
      "1\n",
      "1\n",
      "1\n",
      "1\n",
      "1\n",
      "1\n",
      "1\n",
      "1\n",
      "1\n",
      "1\n",
      "1\n",
      "1\n",
      "1\n",
      "1\n",
      "1\n",
      "1\n",
      "1\n",
      "1\n",
      "1\n",
      "1\n",
      "1\n",
      "1\n",
      "1\n",
      "1\n",
      "1\n",
      "1\n",
      "1\n",
      "1\n",
      "1\n",
      "1\n",
      "1\n",
      "1\n",
      "1\n",
      "1\n",
      "1\n",
      "1\n",
      "1\n",
      "1\n",
      "1\n",
      "1\n",
      "1\n",
      "1\n",
      "1\n",
      "1\n",
      "1\n",
      "1\n",
      "1\n",
      "1\n",
      "1\n",
      "1\n",
      "1\n",
      "1\n",
      "1\n",
      "1\n",
      "1\n",
      "1\n",
      "1\n",
      "1\n",
      "1\n",
      "1\n",
      "1\n",
      "1\n",
      "1\n",
      "1\n",
      "1\n",
      "1\n",
      "1\n",
      "1\n",
      "1\n",
      "1\n",
      "1\n",
      "1\n",
      "1\n",
      "1\n",
      "1\n",
      "1\n",
      "1\n",
      "1\n",
      "1\n",
      "1\n",
      "1\n",
      "1\n",
      "1\n",
      "1\n",
      "1\n",
      "1\n",
      "1\n",
      "1\n",
      "1\n",
      "1\n",
      "1\n",
      "1\n",
      "1\n",
      "1\n",
      "1\n",
      "1\n",
      "1\n",
      "1\n",
      "1\n",
      "1\n",
      "1\n",
      "1\n",
      "1\n",
      "1\n",
      "1\n",
      "1\n",
      "1\n",
      "1\n",
      "1\n",
      "1\n",
      "1\n",
      "1\n",
      "1\n",
      "1\n",
      "1\n",
      "1\n",
      "1\n",
      "1\n",
      "1\n",
      "1\n",
      "1\n",
      "1\n",
      "1\n",
      "1\n",
      "1\n",
      "1\n",
      "1\n",
      "1\n",
      "1\n",
      "1\n",
      "1\n",
      "1\n",
      "1\n",
      "1\n",
      "1\n",
      "1\n",
      "1\n",
      "1\n",
      "1\n",
      "1\n",
      "1\n",
      "1\n",
      "1\n",
      "1\n",
      "1\n",
      "1\n",
      "1\n",
      "1\n",
      "1\n",
      "1\n",
      "1\n",
      "1\n",
      "1\n",
      "1\n",
      "1\n",
      "1\n",
      "1\n",
      "1\n",
      "1\n",
      "1\n",
      "1\n",
      "1\n",
      "1\n",
      "1\n",
      "1\n",
      "1\n",
      "1\n",
      "1\n",
      "1\n",
      "1\n",
      "1\n",
      "1\n",
      "1\n",
      "1\n",
      "1\n",
      "1\n",
      "1\n",
      "1\n",
      "1\n",
      "1\n",
      "1\n",
      "1\n",
      "1\n",
      "1\n",
      "1\n",
      "1\n",
      "1\n",
      "1\n",
      "1\n",
      "1\n",
      "1\n",
      "1\n",
      "1\n",
      "1\n",
      "1\n",
      "1\n",
      "1\n",
      "1\n",
      "1\n",
      "1\n",
      "1\n",
      "1\n",
      "1\n",
      "1\n",
      "1\n",
      "1\n",
      "1\n",
      "1\n",
      "1\n",
      "1\n",
      "1\n",
      "1\n",
      "1\n",
      "1\n",
      "1\n",
      "1\n",
      "1\n",
      "1\n",
      "1\n",
      "1\n",
      "1\n",
      "1\n",
      "1\n",
      "1\n",
      "1\n",
      "1\n",
      "1\n",
      "1\n",
      "1\n",
      "1\n",
      "1\n",
      "1\n",
      "1\n",
      "1\n",
      "1\n",
      "1\n",
      "1\n",
      "1\n",
      "1\n",
      "1\n",
      "1\n",
      "1\n",
      "1\n",
      "1\n",
      "1\n",
      "1\n",
      "1\n",
      "1\n",
      "1\n",
      "1\n",
      "1\n",
      "1\n",
      "1\n",
      "1\n",
      "1\n",
      "1\n",
      "1\n",
      "1\n",
      "1\n",
      "1\n",
      "1\n",
      "1\n",
      "1\n",
      "1\n",
      "1\n",
      "1\n",
      "1\n",
      "1\n",
      "1\n",
      "1\n",
      "1\n",
      "1\n",
      "1\n",
      "1\n",
      "1\n",
      "1\n",
      "1\n",
      "1\n",
      "1\n",
      "1\n",
      "1\n",
      "1\n",
      "1\n",
      "1\n",
      "1\n",
      "1\n",
      "1\n",
      "1\n",
      "1\n",
      "1\n",
      "1\n",
      "1\n",
      "1\n",
      "1\n",
      "1\n",
      "1\n",
      "1\n",
      "1\n",
      "1\n",
      "1\n",
      "1\n",
      "1\n",
      "1\n",
      "1\n",
      "1\n",
      "1\n",
      "1\n",
      "1\n",
      "1\n",
      "1\n",
      "1\n",
      "1\n",
      "1\n",
      "1\n",
      "1\n",
      "1\n",
      "1\n",
      "1\n",
      "1\n",
      "1\n",
      "1\n",
      "1\n",
      "1\n",
      "1\n",
      "1\n",
      "1\n",
      "1\n",
      "1\n",
      "1\n",
      "1\n",
      "1\n",
      "1\n",
      "1\n",
      "1\n",
      "1\n",
      "1\n",
      "1\n",
      "1\n",
      "1\n",
      "1\n",
      "1\n",
      "1\n",
      "1\n",
      "1\n",
      "1\n",
      "1\n",
      "1\n",
      "1\n",
      "1\n",
      "1\n",
      "1\n",
      "1\n",
      "1\n",
      "1\n",
      "1\n",
      "1\n",
      "1\n",
      "1\n",
      "1\n",
      "1\n",
      "1\n",
      "1\n",
      "1\n",
      "1\n",
      "1\n",
      "1\n",
      "1\n",
      "1\n",
      "1\n",
      "1\n",
      "1\n",
      "1\n",
      "1\n",
      "1\n",
      "1\n",
      "1\n",
      "1\n",
      "1\n",
      "1\n",
      "1\n",
      "1\n",
      "1\n",
      "1\n",
      "1\n",
      "1\n",
      "1\n",
      "1\n",
      "1\n",
      "1\n",
      "1\n",
      "1\n",
      "1\n",
      "1\n",
      "1\n",
      "1\n",
      "1\n",
      "1\n",
      "1\n",
      "1\n",
      "1\n",
      "1\n",
      "1\n",
      "1\n",
      "1\n",
      "1\n",
      "1\n",
      "1\n",
      "1\n",
      "1\n",
      "1\n",
      "1\n",
      "1\n",
      "1\n",
      "1\n",
      "1\n",
      "1\n",
      "1\n",
      "1\n",
      "1\n",
      "1\n",
      "1\n",
      "1\n",
      "1\n",
      "1\n",
      "1\n",
      "1\n",
      "1\n",
      "1\n",
      "1\n",
      "1\n",
      "1\n",
      "1\n",
      "1\n",
      "1\n",
      "1\n",
      "1\n",
      "1\n",
      "1\n",
      "1\n",
      "1\n",
      "1\n",
      "1\n",
      "1\n",
      "1\n",
      "1\n",
      "1\n",
      "1\n",
      "1\n",
      "1\n",
      "1\n",
      "1\n",
      "1\n",
      "1\n",
      "1\n",
      "1\n",
      "1\n",
      "1\n",
      "1\n",
      "1\n",
      "1\n",
      "1\n",
      "1\n",
      "1\n",
      "1\n",
      "1\n",
      "1\n",
      "1\n",
      "1\n",
      "1\n",
      "1\n",
      "1\n",
      "1\n",
      "1\n",
      "1\n",
      "1\n",
      "1\n",
      "1\n",
      "1\n",
      "1\n",
      "1\n",
      "1\n",
      "1\n",
      "1\n",
      "1\n",
      "1\n",
      "1\n",
      "1\n",
      "1\n",
      "1\n",
      "1\n",
      "1\n",
      "1\n",
      "1\n",
      "1\n",
      "1\n",
      "1\n",
      "1\n",
      "1\n",
      "1\n",
      "1\n",
      "1\n",
      "1\n",
      "1\n",
      "1\n",
      "1\n",
      "1\n",
      "1\n",
      "1\n",
      "1\n",
      "1\n",
      "1\n",
      "1\n",
      "1\n",
      "1\n",
      "1\n",
      "1\n",
      "1\n",
      "1\n",
      "1\n",
      "1\n",
      "1\n",
      "1\n",
      "1\n",
      "1\n",
      "1\n",
      "1\n",
      "1\n",
      "1\n",
      "1\n",
      "1\n",
      "1\n",
      "1\n",
      "1\n",
      "1\n",
      "1\n",
      "1\n",
      "1\n",
      "1\n",
      "1\n",
      "1\n",
      "1\n",
      "1\n",
      "1\n",
      "1\n",
      "1\n",
      "1\n",
      "1\n",
      "1\n",
      "1\n",
      "1\n",
      "1\n",
      "1\n",
      "1\n",
      "1\n",
      "1\n",
      "1\n",
      "1\n",
      "1\n",
      "1\n",
      "1\n",
      "1\n",
      "1\n",
      "1\n",
      "1\n",
      "1\n",
      "1\n",
      "1\n",
      "1\n",
      "1\n",
      "1\n",
      "1\n",
      "1\n",
      "1\n",
      "1\n",
      "1\n",
      "1\n",
      "1\n",
      "1\n",
      "1\n",
      "1\n",
      "1\n",
      "1\n",
      "1\n",
      "1\n",
      "1\n",
      "1\n",
      "1\n",
      "1\n",
      "1\n",
      "1\n",
      "1\n",
      "1\n",
      "1\n",
      "1\n",
      "1\n",
      "1\n",
      "1\n",
      "1\n",
      "1\n",
      "1\n",
      "1\n",
      "1\n",
      "1\n",
      "1\n",
      "1\n",
      "1\n",
      "1\n",
      "1\n",
      "1\n",
      "1\n",
      "1\n",
      "1\n",
      "1\n",
      "1\n"
     ]
    }
   ],
   "source": [
    "train_ch3(net,train_iter,test_iter,cross_entropy,num_epoch,batch_size,[W,b],lr)"
   ]
  },
  {
   "cell_type": "code",
   "execution_count": 347,
   "metadata": {},
   "outputs": [
    {
     "name": "stdout",
     "output_type": "stream",
     "text": [
      "tensor([[[[0., 0., 0.,  ..., 0., 0., 0.],\n",
      "          [0., 0., 0.,  ..., 0., 0., 0.],\n",
      "          [0., 0., 0.,  ..., 0., 0., 0.],\n",
      "          ...,\n",
      "          [0., 0., 0.,  ..., 0., 0., 0.],\n",
      "          [0., 0., 0.,  ..., 0., 0., 0.],\n",
      "          [0., 0., 0.,  ..., 0., 0., 0.]]],\n",
      "\n",
      "\n",
      "        [[[0., 0., 0.,  ..., 0., 0., 0.],\n",
      "          [0., 0., 0.,  ..., 0., 0., 0.],\n",
      "          [0., 0., 0.,  ..., 0., 0., 0.],\n",
      "          ...,\n",
      "          [0., 0., 0.,  ..., 0., 0., 0.],\n",
      "          [0., 0., 0.,  ..., 0., 0., 0.],\n",
      "          [0., 0., 0.,  ..., 0., 0., 0.]]],\n",
      "\n",
      "\n",
      "        [[[0., 0., 0.,  ..., 0., 0., 0.],\n",
      "          [0., 0., 0.,  ..., 0., 0., 0.],\n",
      "          [0., 0., 0.,  ..., 0., 0., 0.],\n",
      "          ...,\n",
      "          [0., 0., 0.,  ..., 0., 0., 0.],\n",
      "          [0., 0., 0.,  ..., 0., 0., 0.],\n",
      "          [0., 0., 0.,  ..., 0., 0., 0.]]],\n",
      "\n",
      "\n",
      "        ...,\n",
      "\n",
      "\n",
      "        [[[0., 0., 0.,  ..., 0., 0., 0.],\n",
      "          [0., 0., 0.,  ..., 0., 0., 0.],\n",
      "          [0., 0., 0.,  ..., 0., 0., 0.],\n",
      "          ...,\n",
      "          [0., 0., 0.,  ..., 0., 0., 0.],\n",
      "          [0., 0., 0.,  ..., 0., 0., 0.],\n",
      "          [0., 0., 0.,  ..., 0., 0., 0.]]],\n",
      "\n",
      "\n",
      "        [[[0., 0., 0.,  ..., 0., 0., 0.],\n",
      "          [0., 0., 0.,  ..., 0., 0., 0.],\n",
      "          [0., 0., 0.,  ..., 0., 0., 0.],\n",
      "          ...,\n",
      "          [0., 0., 0.,  ..., 0., 0., 0.],\n",
      "          [0., 0., 0.,  ..., 0., 0., 0.],\n",
      "          [0., 0., 0.,  ..., 0., 0., 0.]]],\n",
      "\n",
      "\n",
      "        [[[0., 0., 0.,  ..., 0., 0., 0.],\n",
      "          [0., 0., 0.,  ..., 0., 0., 0.],\n",
      "          [0., 0., 0.,  ..., 0., 0., 0.],\n",
      "          ...,\n",
      "          [0., 0., 0.,  ..., 0., 0., 0.],\n",
      "          [0., 0., 0.,  ..., 0., 0., 0.],\n",
      "          [0., 0., 0.,  ..., 0., 0., 0.]]]]) tensor([0, 7, 7, 1, 2, 2, 5, 0, 6, 6, 3, 5, 6, 4, 6, 2, 6, 1, 5, 8, 3, 6, 9, 1,\n",
      "        0, 6, 4, 9, 4, 7, 0, 0, 8, 3, 7, 0, 8, 1, 3, 8, 0, 4, 8, 7, 8, 5, 9, 0,\n",
      "        6, 7, 5, 6, 0, 3, 1, 3, 3, 0, 9, 0, 4, 8, 4, 0, 9, 5, 5, 6, 7, 3, 0, 8,\n",
      "        8, 6, 9, 7, 5, 1, 0, 7, 2, 4, 0, 6, 3, 2, 9, 6, 0, 2, 6, 3, 9, 5, 1, 5,\n",
      "        3, 5, 9, 0, 9, 9, 2, 3, 5, 9, 0, 7, 5, 7, 7, 4, 9, 0, 8, 8, 9, 4, 5, 5,\n",
      "        9, 2, 1, 5, 2, 5, 7, 7, 0, 0, 0, 5, 7, 0, 3, 9, 6, 1, 3, 0, 8, 3, 7, 9,\n",
      "        2, 2, 8, 2, 8, 0, 0, 3, 5, 3, 1, 5, 9, 5, 8, 4, 8, 1, 3, 0, 8, 3, 8, 9,\n",
      "        4, 7, 8, 2, 5, 0, 9, 5, 4, 8, 8, 2, 4, 6, 3, 0, 2, 7, 9, 0, 2, 4, 4, 0,\n",
      "        4, 3, 5, 9, 3, 2, 8, 4, 5, 5, 6, 7, 1, 2, 7, 1, 0, 2, 5, 4, 5, 1, 9, 5,\n",
      "        6, 4, 2, 5, 8, 6, 6, 1, 3, 1, 4, 6, 7, 8, 7, 5, 6, 2, 1, 8, 9, 8, 8, 2,\n",
      "        3, 4, 0, 1, 4, 8, 0, 5, 1, 8, 9, 7, 2, 5, 5, 4])\n"
     ]
    }
   ],
   "source": [
    "for X,y in train_iter:\n",
    "    print(X,y)\n",
    "    break"
   ]
  },
  {
   "cell_type": "code",
   "execution_count": null,
   "metadata": {},
   "outputs": [],
   "source": []
  }
 ],
 "metadata": {
  "kernelspec": {
   "display_name": "Tianchi",
   "language": "python",
   "name": "tianchi"
  },
  "language_info": {
   "codemirror_mode": {
    "name": "ipython",
    "version": 3
   },
   "file_extension": ".py",
   "mimetype": "text/x-python",
   "name": "python",
   "nbconvert_exporter": "python",
   "pygments_lexer": "ipython3",
   "version": "3.7.9"
  },
  "toc": {
   "base_numbering": 1,
   "nav_menu": {},
   "number_sections": true,
   "sideBar": true,
   "skip_h1_title": false,
   "title_cell": "Table of Contents",
   "title_sidebar": "Contents",
   "toc_cell": false,
   "toc_position": {
    "height": "861px",
    "left": "32px",
    "top": "111.141px",
    "width": "280px"
   },
   "toc_section_display": true,
   "toc_window_display": true
  }
 },
 "nbformat": 4,
 "nbformat_minor": 4
}
