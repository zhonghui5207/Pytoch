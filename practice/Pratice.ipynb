{
 "cells": [
  {
   "cell_type": "markdown",
   "metadata": {},
   "source": [
    "# 预备知识"
   ]
  },
  {
   "cell_type": "markdown",
   "metadata": {},
   "source": [
    "## 数据操作"
   ]
  },
  {
   "cell_type": "markdown",
   "metadata": {},
   "source": [
    "### 创建tensor"
   ]
  },
  {
   "cell_type": "code",
   "execution_count": 1,
   "metadata": {},
   "outputs": [],
   "source": [
    "import torch"
   ]
  },
  {
   "cell_type": "code",
   "execution_count": 2,
   "metadata": {},
   "outputs": [],
   "source": [
    "import numpy as np"
   ]
  },
  {
   "cell_type": "code",
   "execution_count": 3,
   "metadata": {},
   "outputs": [
    {
     "data": {
      "text/plain": [
       "tensor([[0., 0., 0.],\n",
       "        [0., 0., 0.],\n",
       "        [0., 0., 0.],\n",
       "        [0., 0., 0.],\n",
       "        [0., 0., 0.]])"
      ]
     },
     "execution_count": 3,
     "metadata": {},
     "output_type": "execute_result"
    }
   ],
   "source": [
    "# 未初始化 tensor\n",
    "torch.empty(5,3)"
   ]
  },
  {
   "cell_type": "code",
   "execution_count": 4,
   "metadata": {},
   "outputs": [
    {
     "data": {
      "text/plain": [
       "tensor([[ 1.1585,  0.3926, -0.6831],\n",
       "        [-0.1275,  2.3331, -1.3922],\n",
       "        [-0.4505,  0.4497,  1.0492],\n",
       "        [-0.4440,  0.5029, -0.2260],\n",
       "        [-0.1019, -1.7609,  0.6084]])"
      ]
     },
     "execution_count": 4,
     "metadata": {},
     "output_type": "execute_result"
    }
   ],
   "source": [
    "# 初始化 \n",
    "torch.randn(5,3)"
   ]
  },
  {
   "cell_type": "code",
   "execution_count": 5,
   "metadata": {},
   "outputs": [
    {
     "data": {
      "text/plain": [
       "tensor([[0., 0., 0.],\n",
       "        [0., 0., 0.],\n",
       "        [0., 0., 0.],\n",
       "        [0., 0., 0.],\n",
       "        [0., 0., 0.]])"
      ]
     },
     "execution_count": 5,
     "metadata": {},
     "output_type": "execute_result"
    }
   ],
   "source": [
    "# 全零\n",
    "torch.zeros(5,3)"
   ]
  },
  {
   "cell_type": "code",
   "execution_count": 6,
   "metadata": {},
   "outputs": [],
   "source": [
    "# 直接创建\n",
    "x = torch.Tensor([5.4,3])"
   ]
  },
  {
   "cell_type": "code",
   "execution_count": 7,
   "metadata": {},
   "outputs": [
    {
     "data": {
      "text/plain": [
       "tensor([5.4000, 3.0000])"
      ]
     },
     "execution_count": 7,
     "metadata": {},
     "output_type": "execute_result"
    }
   ],
   "source": [
    "x"
   ]
  },
  {
   "cell_type": "code",
   "execution_count": 8,
   "metadata": {},
   "outputs": [],
   "source": [
    "x = x.new_ones(5,3,dtype=torch.float64)"
   ]
  },
  {
   "cell_type": "code",
   "execution_count": 9,
   "metadata": {},
   "outputs": [
    {
     "data": {
      "text/plain": [
       "tensor([[1., 1., 1.],\n",
       "        [1., 1., 1.],\n",
       "        [1., 1., 1.],\n",
       "        [1., 1., 1.],\n",
       "        [1., 1., 1.]], dtype=torch.float64)"
      ]
     },
     "execution_count": 9,
     "metadata": {},
     "output_type": "execute_result"
    }
   ],
   "source": [
    "x"
   ]
  },
  {
   "cell_type": "code",
   "execution_count": 10,
   "metadata": {},
   "outputs": [],
   "source": [
    "x = torch.randn_like(x,dtype=torch.float)"
   ]
  },
  {
   "cell_type": "code",
   "execution_count": 11,
   "metadata": {},
   "outputs": [
    {
     "data": {
      "text/plain": [
       "tensor([[-0.1713, -0.7466,  1.1650],\n",
       "        [-0.5314,  0.0124,  1.0302],\n",
       "        [ 0.5010,  0.6976, -0.9144],\n",
       "        [-2.1223, -1.1868, -0.0283],\n",
       "        [ 0.8524,  0.3269,  0.8803]])"
      ]
     },
     "execution_count": 11,
     "metadata": {},
     "output_type": "execute_result"
    }
   ],
   "source": [
    "x"
   ]
  },
  {
   "cell_type": "code",
   "execution_count": 12,
   "metadata": {},
   "outputs": [
    {
     "data": {
      "text/plain": [
       "torch.Size([5, 3])"
      ]
     },
     "execution_count": 12,
     "metadata": {},
     "output_type": "execute_result"
    }
   ],
   "source": [
    "# 获取形状\n",
    "x.size()"
   ]
  },
  {
   "cell_type": "code",
   "execution_count": 13,
   "metadata": {},
   "outputs": [
    {
     "data": {
      "text/plain": [
       "torch.Size([5, 3])"
      ]
     },
     "execution_count": 13,
     "metadata": {},
     "output_type": "execute_result"
    }
   ],
   "source": [
    "x.shape"
   ]
  },
  {
   "cell_type": "code",
   "execution_count": 14,
   "metadata": {},
   "outputs": [
    {
     "data": {
      "text/plain": [
       "tensor([[2., 4.],\n",
       "        [4., 5.]])"
      ]
     },
     "execution_count": 14,
     "metadata": {},
     "output_type": "execute_result"
    }
   ],
   "source": [
    "# 根据numpy\n",
    "torch.tensor(np.array([[2,4],[4,5]]),dtype=torch.float)"
   ]
  },
  {
   "cell_type": "code",
   "execution_count": 15,
   "metadata": {},
   "outputs": [
    {
     "data": {
      "text/plain": [
       "tensor([[1., 0.],\n",
       "        [0., 1.]])"
      ]
     },
     "execution_count": 15,
     "metadata": {},
     "output_type": "execute_result"
    }
   ],
   "source": [
    "torch.eye(2,2)"
   ]
  },
  {
   "cell_type": "code",
   "execution_count": 16,
   "metadata": {},
   "outputs": [],
   "source": [
    "x  = torch.arange(1,12,2).view(2,3)"
   ]
  },
  {
   "cell_type": "code",
   "execution_count": 17,
   "metadata": {},
   "outputs": [
    {
     "data": {
      "text/plain": [
       "torch.Size([2, 3])"
      ]
     },
     "execution_count": 17,
     "metadata": {},
     "output_type": "execute_result"
    }
   ],
   "source": [
    "x.size()"
   ]
  },
  {
   "cell_type": "code",
   "execution_count": 18,
   "metadata": {},
   "outputs": [
    {
     "data": {
      "text/plain": [
       "tensor([ 1.,  2.,  3.,  4.,  5.,  6.,  7.,  8.,  9., 10.], dtype=torch.float64)"
      ]
     },
     "execution_count": 18,
     "metadata": {},
     "output_type": "execute_result"
    }
   ],
   "source": [
    "torch.linspace(1,10,10,dtype=float)"
   ]
  },
  {
   "cell_type": "code",
   "execution_count": 19,
   "metadata": {},
   "outputs": [
    {
     "data": {
      "text/plain": [
       "tensor([[-1.2655,  2.1629],\n",
       "        [ 1.5668, -0.9819]])"
      ]
     },
     "execution_count": 19,
     "metadata": {},
     "output_type": "execute_result"
    }
   ],
   "source": [
    "torch.normal(0,1,(2,2))"
   ]
  },
  {
   "cell_type": "code",
   "execution_count": null,
   "metadata": {},
   "outputs": [],
   "source": []
  },
  {
   "cell_type": "markdown",
   "metadata": {},
   "source": [
    "### 操作"
   ]
  },
  {
   "cell_type": "code",
   "execution_count": 20,
   "metadata": {},
   "outputs": [],
   "source": [
    "# 算数操作"
   ]
  },
  {
   "cell_type": "code",
   "execution_count": 21,
   "metadata": {},
   "outputs": [],
   "source": [
    "\n",
    "# 加法形式1\n",
    "x = torch.randn(5,3)"
   ]
  },
  {
   "cell_type": "code",
   "execution_count": 22,
   "metadata": {},
   "outputs": [
    {
     "data": {
      "text/plain": [
       "tensor([[-0.2926, -0.7623,  1.5390],\n",
       "        [ 0.3188,  0.5515, -0.1707],\n",
       "        [ 1.4451,  1.1138, -0.8118],\n",
       "        [-0.0128, -0.1971,  1.2627],\n",
       "        [ 0.3455,  0.5919, -0.1015]])"
      ]
     },
     "execution_count": 22,
     "metadata": {},
     "output_type": "execute_result"
    }
   ],
   "source": [
    "x"
   ]
  },
  {
   "cell_type": "code",
   "execution_count": 23,
   "metadata": {},
   "outputs": [],
   "source": [
    "y = torch.rand(5,3)"
   ]
  },
  {
   "cell_type": "code",
   "execution_count": 24,
   "metadata": {},
   "outputs": [
    {
     "data": {
      "text/plain": [
       "tensor([[0.8971, 0.4673, 0.1177],\n",
       "        [0.1062, 0.1964, 0.2920],\n",
       "        [0.8480, 0.2702, 0.6667],\n",
       "        [0.5776, 0.1055, 0.4679],\n",
       "        [0.2733, 0.1169, 0.9018]])"
      ]
     },
     "execution_count": 24,
     "metadata": {},
     "output_type": "execute_result"
    }
   ],
   "source": [
    "y"
   ]
  },
  {
   "cell_type": "code",
   "execution_count": 25,
   "metadata": {},
   "outputs": [
    {
     "data": {
      "text/plain": [
       "tensor([[ 0.6046, -0.2950,  1.6567],\n",
       "        [ 0.4251,  0.7479,  0.1213],\n",
       "        [ 2.2930,  1.3839, -0.1451],\n",
       "        [ 0.5648, -0.0916,  1.7306],\n",
       "        [ 0.6188,  0.7088,  0.8003]])"
      ]
     },
     "execution_count": 25,
     "metadata": {},
     "output_type": "execute_result"
    }
   ],
   "source": [
    "x + y"
   ]
  },
  {
   "cell_type": "code",
   "execution_count": 26,
   "metadata": {},
   "outputs": [
    {
     "data": {
      "text/plain": [
       "tensor([[ 0.6046, -0.2950,  1.6567],\n",
       "        [ 0.4251,  0.7479,  0.1213],\n",
       "        [ 2.2930,  1.3839, -0.1451],\n",
       "        [ 0.5648, -0.0916,  1.7306],\n",
       "        [ 0.6188,  0.7088,  0.8003]])"
      ]
     },
     "execution_count": 26,
     "metadata": {},
     "output_type": "execute_result"
    }
   ],
   "source": [
    "# 加法形式2\n",
    "torch.add(x,y)"
   ]
  },
  {
   "cell_type": "code",
   "execution_count": 27,
   "metadata": {},
   "outputs": [
    {
     "data": {
      "text/plain": [
       "tensor([[ 0.6046, -0.2950,  1.6567],\n",
       "        [ 0.4251,  0.7479,  0.1213],\n",
       "        [ 2.2930,  1.3839, -0.1451],\n",
       "        [ 0.5648, -0.0916,  1.7306],\n",
       "        [ 0.6188,  0.7088,  0.8003]])"
      ]
     },
     "execution_count": 27,
     "metadata": {},
     "output_type": "execute_result"
    }
   ],
   "source": [
    "# 可以指定输出\n",
    "result = torch.empty(5,3)\n",
    "torch.add(x,y,out=result)"
   ]
  },
  {
   "cell_type": "code",
   "execution_count": 28,
   "metadata": {},
   "outputs": [
    {
     "data": {
      "text/plain": [
       "tensor([[ 0.6046, -0.2950,  1.6567],\n",
       "        [ 0.4251,  0.7479,  0.1213],\n",
       "        [ 2.2930,  1.3839, -0.1451],\n",
       "        [ 0.5648, -0.0916,  1.7306],\n",
       "        [ 0.6188,  0.7088,  0.8003]])"
      ]
     },
     "execution_count": 28,
     "metadata": {},
     "output_type": "execute_result"
    }
   ],
   "source": [
    "result"
   ]
  },
  {
   "cell_type": "code",
   "execution_count": 29,
   "metadata": {},
   "outputs": [
    {
     "data": {
      "text/plain": [
       "tensor([[ 0.6046, -0.2950,  1.6567],\n",
       "        [ 0.4251,  0.7479,  0.1213],\n",
       "        [ 2.2930,  1.3839, -0.1451],\n",
       "        [ 0.5648, -0.0916,  1.7306],\n",
       "        [ 0.6188,  0.7088,  0.8003]])"
      ]
     },
     "execution_count": 29,
     "metadata": {},
     "output_type": "execute_result"
    }
   ],
   "source": [
    "# 加法形式3\n",
    "y.add_(x)"
   ]
  },
  {
   "cell_type": "code",
   "execution_count": 30,
   "metadata": {},
   "outputs": [
    {
     "data": {
      "text/plain": [
       "tensor([[ 0.6046, -0.2950,  1.6567],\n",
       "        [ 0.4251,  0.7479,  0.1213],\n",
       "        [ 2.2930,  1.3839, -0.1451],\n",
       "        [ 0.5648, -0.0916,  1.7306],\n",
       "        [ 0.6188,  0.7088,  0.8003]])"
      ]
     },
     "execution_count": 30,
     "metadata": {},
     "output_type": "execute_result"
    }
   ],
   "source": [
    "y"
   ]
  },
  {
   "cell_type": "code",
   "execution_count": 31,
   "metadata": {},
   "outputs": [
    {
     "data": {
      "text/plain": [
       "tensor([[-0.2926, -0.7623,  1.5390],\n",
       "        [ 0.3188,  0.5515, -0.1707],\n",
       "        [ 1.4451,  1.1138, -0.8118],\n",
       "        [-0.0128, -0.1971,  1.2627],\n",
       "        [ 0.3455,  0.5919, -0.1015]])"
      ]
     },
     "execution_count": 31,
     "metadata": {},
     "output_type": "execute_result"
    }
   ],
   "source": [
    "x"
   ]
  },
  {
   "cell_type": "code",
   "execution_count": 32,
   "metadata": {},
   "outputs": [
    {
     "data": {
      "text/plain": [
       "tensor([[-0.2926,  0.3188,  1.4451, -0.0128,  0.3455],\n",
       "        [-0.7623,  0.5515,  1.1138, -0.1971,  0.5919],\n",
       "        [ 1.5390, -0.1707, -0.8118,  1.2627, -0.1015]])"
      ]
     },
     "execution_count": 32,
     "metadata": {},
     "output_type": "execute_result"
    }
   ],
   "source": [
    "x.t_()"
   ]
  },
  {
   "cell_type": "code",
   "execution_count": 33,
   "metadata": {},
   "outputs": [
    {
     "data": {
      "text/plain": [
       "tensor([[-0.2926, -0.7623,  1.5390],\n",
       "        [ 0.3188,  0.5515, -0.1707],\n",
       "        [ 1.4451,  1.1138, -0.8118],\n",
       "        [-0.0128, -0.1971,  1.2627],\n",
       "        [ 0.3455,  0.5919, -0.1015]])"
      ]
     },
     "execution_count": 33,
     "metadata": {},
     "output_type": "execute_result"
    }
   ],
   "source": [
    "x.t_()"
   ]
  },
  {
   "cell_type": "code",
   "execution_count": 34,
   "metadata": {},
   "outputs": [
    {
     "data": {
      "text/plain": [
       "tensor([[ 0.6046, -0.2950,  1.6567],\n",
       "        [ 0.4251,  0.7479,  0.1213],\n",
       "        [ 2.2930,  1.3839, -0.1451],\n",
       "        [ 0.5648, -0.0916,  1.7306],\n",
       "        [ 0.6188,  0.7088,  0.8003]])"
      ]
     },
     "execution_count": 34,
     "metadata": {},
     "output_type": "execute_result"
    }
   ],
   "source": [
    "x.copy_(y)"
   ]
  },
  {
   "cell_type": "code",
   "execution_count": 35,
   "metadata": {},
   "outputs": [
    {
     "data": {
      "text/plain": [
       "tensor([[ 0.6046, -0.2950,  1.6567],\n",
       "        [ 0.4251,  0.7479,  0.1213],\n",
       "        [ 2.2930,  1.3839, -0.1451],\n",
       "        [ 0.5648, -0.0916,  1.7306],\n",
       "        [ 0.6188,  0.7088,  0.8003]])"
      ]
     },
     "execution_count": 35,
     "metadata": {},
     "output_type": "execute_result"
    }
   ],
   "source": [
    "x"
   ]
  },
  {
   "cell_type": "code",
   "execution_count": 36,
   "metadata": {},
   "outputs": [],
   "source": [
    "# 索引\n",
    "# 索引出来的结果与原数据共享内存，修改一个 另一个也随着变"
   ]
  },
  {
   "cell_type": "code",
   "execution_count": 37,
   "metadata": {},
   "outputs": [],
   "source": [
    "y = x[0,:]"
   ]
  },
  {
   "cell_type": "code",
   "execution_count": 38,
   "metadata": {},
   "outputs": [
    {
     "data": {
      "text/plain": [
       "tensor([ 0.6046, -0.2950,  1.6567])"
      ]
     },
     "execution_count": 38,
     "metadata": {},
     "output_type": "execute_result"
    }
   ],
   "source": [
    "y"
   ]
  },
  {
   "cell_type": "code",
   "execution_count": 39,
   "metadata": {},
   "outputs": [],
   "source": [
    "y +=1"
   ]
  },
  {
   "cell_type": "code",
   "execution_count": 40,
   "metadata": {},
   "outputs": [
    {
     "data": {
      "text/plain": [
       "tensor([1.6046, 0.7050, 2.6567])"
      ]
     },
     "execution_count": 40,
     "metadata": {},
     "output_type": "execute_result"
    }
   ],
   "source": [
    "y"
   ]
  },
  {
   "cell_type": "code",
   "execution_count": 41,
   "metadata": {},
   "outputs": [
    {
     "data": {
      "text/plain": [
       "tensor([1.6046, 0.7050, 2.6567])"
      ]
     },
     "execution_count": 41,
     "metadata": {},
     "output_type": "execute_result"
    }
   ],
   "source": [
    "x[0,:]"
   ]
  },
  {
   "cell_type": "code",
   "execution_count": 42,
   "metadata": {},
   "outputs": [
    {
     "data": {
      "text/plain": [
       "tensor([[ 1.6046,  0.7050,  2.6567],\n",
       "        [ 0.4251,  0.7479,  0.1213],\n",
       "        [ 2.2930,  1.3839, -0.1451],\n",
       "        [ 0.5648, -0.0916,  1.7306],\n",
       "        [ 0.6188,  0.7088,  0.8003]])"
      ]
     },
     "execution_count": 42,
     "metadata": {},
     "output_type": "execute_result"
    }
   ],
   "source": [
    "x"
   ]
  },
  {
   "cell_type": "code",
   "execution_count": 43,
   "metadata": {},
   "outputs": [
    {
     "data": {
      "text/plain": [
       "tensor([[ 1.6046,  1.6046,  0.7050],\n",
       "        [ 0.4251,  0.4251,  0.7479],\n",
       "        [ 2.2930,  2.2930,  1.3839],\n",
       "        [ 0.5648,  0.5648, -0.0916],\n",
       "        [ 0.6188,  0.6188,  0.7088]])"
      ]
     },
     "execution_count": 43,
     "metadata": {},
     "output_type": "execute_result"
    }
   ],
   "source": [
    "torch.index_select(x,1,torch.LongTensor([0.,0.,1.]))"
   ]
  },
  {
   "cell_type": "code",
   "execution_count": 44,
   "metadata": {},
   "outputs": [],
   "source": [
    "# torch.gather(x,0,torch.LongTensor([1.,1.,0.]))"
   ]
  },
  {
   "cell_type": "code",
   "execution_count": 45,
   "metadata": {},
   "outputs": [],
   "source": [
    "# 改变形状\n",
    "y = x.view(15)"
   ]
  },
  {
   "cell_type": "code",
   "execution_count": 46,
   "metadata": {},
   "outputs": [
    {
     "data": {
      "text/plain": [
       "tensor([ 1.6046,  0.7050,  2.6567,  0.4251,  0.7479,  0.1213,  2.2930,  1.3839,\n",
       "        -0.1451,  0.5648, -0.0916,  1.7306,  0.6188,  0.7088,  0.8003])"
      ]
     },
     "execution_count": 46,
     "metadata": {},
     "output_type": "execute_result"
    }
   ],
   "source": [
    "y"
   ]
  },
  {
   "cell_type": "code",
   "execution_count": 47,
   "metadata": {},
   "outputs": [],
   "source": [
    "z = x.view(-1,5)"
   ]
  },
  {
   "cell_type": "code",
   "execution_count": 48,
   "metadata": {},
   "outputs": [
    {
     "data": {
      "text/plain": [
       "tensor([[ 1.6046,  0.7050,  2.6567,  0.4251,  0.7479],\n",
       "        [ 0.1213,  2.2930,  1.3839, -0.1451,  0.5648],\n",
       "        [-0.0916,  1.7306,  0.6188,  0.7088,  0.8003]])"
      ]
     },
     "execution_count": 48,
     "metadata": {},
     "output_type": "execute_result"
    }
   ],
   "source": [
    "z "
   ]
  },
  {
   "cell_type": "code",
   "execution_count": 49,
   "metadata": {},
   "outputs": [
    {
     "data": {
      "text/plain": [
       "torch.Size([5, 3])"
      ]
     },
     "execution_count": 49,
     "metadata": {},
     "output_type": "execute_result"
    }
   ],
   "source": [
    "x.shape"
   ]
  },
  {
   "cell_type": "code",
   "execution_count": 50,
   "metadata": {},
   "outputs": [
    {
     "data": {
      "text/plain": [
       "torch.Size([15])"
      ]
     },
     "execution_count": 50,
     "metadata": {},
     "output_type": "execute_result"
    }
   ],
   "source": [
    "y.shape"
   ]
  },
  {
   "cell_type": "code",
   "execution_count": 51,
   "metadata": {},
   "outputs": [
    {
     "data": {
      "text/plain": [
       "torch.Size([3, 5])"
      ]
     },
     "execution_count": 51,
     "metadata": {},
     "output_type": "execute_result"
    }
   ],
   "source": [
    "z.shape"
   ]
  },
  {
   "cell_type": "code",
   "execution_count": 52,
   "metadata": {},
   "outputs": [],
   "source": [
    "# view()返回新的size 但是 是共享 data 的 改变其中一个另外一个也跟着改变\n",
    "x += 1"
   ]
  },
  {
   "cell_type": "code",
   "execution_count": 53,
   "metadata": {},
   "outputs": [
    {
     "data": {
      "text/plain": [
       "tensor([[2.6046, 1.7050, 3.6567],\n",
       "        [1.4251, 1.7479, 1.1213],\n",
       "        [3.2930, 2.3839, 0.8549],\n",
       "        [1.5648, 0.9084, 2.7306],\n",
       "        [1.6188, 1.7088, 1.8003]])"
      ]
     },
     "execution_count": 53,
     "metadata": {},
     "output_type": "execute_result"
    }
   ],
   "source": [
    "x"
   ]
  },
  {
   "cell_type": "code",
   "execution_count": 54,
   "metadata": {},
   "outputs": [
    {
     "data": {
      "text/plain": [
       "tensor([2.6046, 1.7050, 3.6567, 1.4251, 1.7479, 1.1213, 3.2930, 2.3839, 0.8549,\n",
       "        1.5648, 0.9084, 2.7306, 1.6188, 1.7088, 1.8003])"
      ]
     },
     "execution_count": 54,
     "metadata": {},
     "output_type": "execute_result"
    }
   ],
   "source": [
    "y"
   ]
  },
  {
   "cell_type": "code",
   "execution_count": 55,
   "metadata": {},
   "outputs": [
    {
     "data": {
      "text/plain": [
       "tensor([[2.6046, 1.7050, 3.6567, 1.4251, 1.7479],\n",
       "        [1.1213, 3.2930, 2.3839, 0.8549, 1.5648],\n",
       "        [0.9084, 2.7306, 1.6188, 1.7088, 1.8003]])"
      ]
     },
     "execution_count": 55,
     "metadata": {},
     "output_type": "execute_result"
    }
   ],
   "source": [
    "z"
   ]
  },
  {
   "cell_type": "code",
   "execution_count": 56,
   "metadata": {},
   "outputs": [],
   "source": [
    "#不变量共享 先用clone 创建一个副本然后在使用view\n",
    "x_cp = x.clone().view(15)"
   ]
  },
  {
   "cell_type": "code",
   "execution_count": 57,
   "metadata": {},
   "outputs": [
    {
     "data": {
      "text/plain": [
       "tensor([2.6046, 1.7050, 3.6567, 1.4251, 1.7479, 1.1213, 3.2930, 2.3839, 0.8549,\n",
       "        1.5648, 0.9084, 2.7306, 1.6188, 1.7088, 1.8003])"
      ]
     },
     "execution_count": 57,
     "metadata": {},
     "output_type": "execute_result"
    }
   ],
   "source": [
    "x_cp"
   ]
  },
  {
   "cell_type": "code",
   "execution_count": 58,
   "metadata": {},
   "outputs": [],
   "source": [
    "x +=1"
   ]
  },
  {
   "cell_type": "code",
   "execution_count": 59,
   "metadata": {},
   "outputs": [
    {
     "data": {
      "text/plain": [
       "tensor([[3.6046, 2.7050, 4.6567],\n",
       "        [2.4251, 2.7479, 2.1213],\n",
       "        [4.2930, 3.3839, 1.8549],\n",
       "        [2.5648, 1.9084, 3.7306],\n",
       "        [2.6188, 2.7088, 2.8003]])"
      ]
     },
     "execution_count": 59,
     "metadata": {},
     "output_type": "execute_result"
    }
   ],
   "source": [
    "x"
   ]
  },
  {
   "cell_type": "code",
   "execution_count": 60,
   "metadata": {},
   "outputs": [
    {
     "data": {
      "text/plain": [
       "tensor([2.6046, 1.7050, 3.6567, 1.4251, 1.7479, 1.1213, 3.2930, 2.3839, 0.8549,\n",
       "        1.5648, 0.9084, 2.7306, 1.6188, 1.7088, 1.8003])"
      ]
     },
     "execution_count": 60,
     "metadata": {},
     "output_type": "execute_result"
    }
   ],
   "source": [
    "x_cp"
   ]
  },
  {
   "cell_type": "code",
   "execution_count": 61,
   "metadata": {},
   "outputs": [],
   "source": [
    "# item 将Tensor 转成 python number \n",
    "x = torch.randn(1)"
   ]
  },
  {
   "cell_type": "code",
   "execution_count": 62,
   "metadata": {},
   "outputs": [
    {
     "data": {
      "text/plain": [
       "tensor([-0.6034])"
      ]
     },
     "execution_count": 62,
     "metadata": {},
     "output_type": "execute_result"
    }
   ],
   "source": [
    "x"
   ]
  },
  {
   "cell_type": "code",
   "execution_count": 63,
   "metadata": {},
   "outputs": [
    {
     "data": {
      "text/plain": [
       "-0.6034459471702576"
      ]
     },
     "execution_count": 63,
     "metadata": {},
     "output_type": "execute_result"
    }
   ],
   "source": [
    "x.item()"
   ]
  },
  {
   "cell_type": "code",
   "execution_count": 64,
   "metadata": {},
   "outputs": [
    {
     "data": {
      "text/plain": [
       "tensor([2.6046, 1.7050, 3.6567, 1.4251, 1.7479, 1.1213, 3.2930, 2.3839, 0.8549,\n",
       "        1.5648, 0.9084, 2.7306, 1.6188, 1.7088, 1.8003])"
      ]
     },
     "execution_count": 64,
     "metadata": {},
     "output_type": "execute_result"
    }
   ],
   "source": [
    "# 线性代数\n",
    "x_cp"
   ]
  },
  {
   "cell_type": "code",
   "execution_count": 65,
   "metadata": {},
   "outputs": [],
   "source": [
    "y_cp = x_cp.view(-1,5)"
   ]
  },
  {
   "cell_type": "code",
   "execution_count": 66,
   "metadata": {},
   "outputs": [
    {
     "data": {
      "text/plain": [
       "tensor(7.5163)"
      ]
     },
     "execution_count": 66,
     "metadata": {},
     "output_type": "execute_result"
    }
   ],
   "source": [
    "torch.trace(y_cp)"
   ]
  },
  {
   "cell_type": "code",
   "execution_count": 67,
   "metadata": {},
   "outputs": [
    {
     "data": {
      "text/plain": [
       "tensor([[2.6046, 1.7050, 3.6567, 1.4251, 1.7479],\n",
       "        [1.1213, 3.2930, 2.3839, 0.8549, 1.5648],\n",
       "        [0.9084, 2.7306, 1.6188, 1.7088, 1.8003]])"
      ]
     },
     "execution_count": 67,
     "metadata": {},
     "output_type": "execute_result"
    }
   ],
   "source": [
    "y_cp"
   ]
  },
  {
   "cell_type": "code",
   "execution_count": 68,
   "metadata": {},
   "outputs": [],
   "source": [
    "n = torch.diag(y_cp)"
   ]
  },
  {
   "cell_type": "code",
   "execution_count": 69,
   "metadata": {},
   "outputs": [
    {
     "data": {
      "text/plain": [
       "tensor(7.5163)"
      ]
     },
     "execution_count": 69,
     "metadata": {},
     "output_type": "execute_result"
    }
   ],
   "source": [
    "n.sum()"
   ]
  },
  {
   "cell_type": "code",
   "execution_count": 70,
   "metadata": {},
   "outputs": [
    {
     "data": {
      "text/plain": [
       "tensor([[2.6046, 1.1213, 0.9084],\n",
       "        [1.7050, 3.2930, 2.7306],\n",
       "        [3.6567, 2.3839, 1.6188],\n",
       "        [1.4251, 0.8549, 1.7088],\n",
       "        [1.7479, 1.5648, 1.8003]])"
      ]
     },
     "execution_count": 70,
     "metadata": {},
     "output_type": "execute_result"
    }
   ],
   "source": [
    "y_cp.t_()"
   ]
  },
  {
   "cell_type": "markdown",
   "metadata": {},
   "source": [
    "### 广播机制"
   ]
  },
  {
   "cell_type": "code",
   "execution_count": 71,
   "metadata": {},
   "outputs": [],
   "source": [
    "x = torch.arange(1,3).view(1,2)"
   ]
  },
  {
   "cell_type": "code",
   "execution_count": 72,
   "metadata": {},
   "outputs": [
    {
     "data": {
      "text/plain": [
       "tensor([[1, 2]])"
      ]
     },
     "execution_count": 72,
     "metadata": {},
     "output_type": "execute_result"
    }
   ],
   "source": [
    "x"
   ]
  },
  {
   "cell_type": "code",
   "execution_count": 73,
   "metadata": {},
   "outputs": [],
   "source": [
    "y = torch.arange(1,4).view(3,1)"
   ]
  },
  {
   "cell_type": "code",
   "execution_count": 74,
   "metadata": {},
   "outputs": [
    {
     "data": {
      "text/plain": [
       "tensor([[1],\n",
       "        [2],\n",
       "        [3]])"
      ]
     },
     "execution_count": 74,
     "metadata": {},
     "output_type": "execute_result"
    }
   ],
   "source": [
    "y"
   ]
  },
  {
   "cell_type": "code",
   "execution_count": 75,
   "metadata": {},
   "outputs": [
    {
     "data": {
      "text/plain": [
       "tensor([[2, 3],\n",
       "        [3, 4],\n",
       "        [4, 5]])"
      ]
     },
     "execution_count": 75,
     "metadata": {},
     "output_type": "execute_result"
    }
   ],
   "source": [
    "x + y"
   ]
  },
  {
   "cell_type": "markdown",
   "metadata": {},
   "source": [
    "### 运算内存开销"
   ]
  },
  {
   "cell_type": "code",
   "execution_count": 76,
   "metadata": {},
   "outputs": [],
   "source": [
    "# 索引操作是不会 开辟新内存，但是 y = x + y 这样的运算会新开内存，然后将\n",
    "# y指向新内存"
   ]
  },
  {
   "cell_type": "code",
   "execution_count": 77,
   "metadata": {},
   "outputs": [],
   "source": [
    "x = torch.tensor([1,2])"
   ]
  },
  {
   "cell_type": "code",
   "execution_count": 78,
   "metadata": {},
   "outputs": [],
   "source": [
    "y = torch.tensor([3,4])"
   ]
  },
  {
   "cell_type": "code",
   "execution_count": 79,
   "metadata": {},
   "outputs": [],
   "source": [
    "id_before = id(y)"
   ]
  },
  {
   "cell_type": "code",
   "execution_count": 80,
   "metadata": {},
   "outputs": [
    {
     "data": {
      "text/plain": [
       "140522005567344"
      ]
     },
     "execution_count": 80,
     "metadata": {},
     "output_type": "execute_result"
    }
   ],
   "source": [
    "id_before"
   ]
  },
  {
   "cell_type": "code",
   "execution_count": 81,
   "metadata": {},
   "outputs": [],
   "source": [
    "y = y + x "
   ]
  },
  {
   "cell_type": "code",
   "execution_count": 82,
   "metadata": {},
   "outputs": [
    {
     "data": {
      "text/plain": [
       "False"
      ]
     },
     "execution_count": 82,
     "metadata": {},
     "output_type": "execute_result"
    }
   ],
   "source": [
    "id(y) == id_before"
   ]
  },
  {
   "cell_type": "code",
   "execution_count": 83,
   "metadata": {},
   "outputs": [],
   "source": [
    "# 如果想指定结果到原来y的内存，我们可以 使用前面介绍的索引来进行替换操作"
   ]
  },
  {
   "cell_type": "code",
   "execution_count": 84,
   "metadata": {},
   "outputs": [],
   "source": [
    "x = torch.tensor([1,2])\n",
    "y = torch.tensor([3,4])\n",
    "id_before = id(y)\n",
    "y[:] = x + y "
   ]
  },
  {
   "cell_type": "code",
   "execution_count": 85,
   "metadata": {},
   "outputs": [
    {
     "data": {
      "text/plain": [
       "True"
      ]
     },
     "execution_count": 85,
     "metadata": {},
     "output_type": "execute_result"
    }
   ],
   "source": [
    "id(y) == id_before"
   ]
  },
  {
   "cell_type": "code",
   "execution_count": 86,
   "metadata": {},
   "outputs": [],
   "source": [
    "# 运算符全名函数中的out 参数 或者 自加运算 += 达到 上述效果 "
   ]
  },
  {
   "cell_type": "code",
   "execution_count": 87,
   "metadata": {},
   "outputs": [
    {
     "data": {
      "text/plain": [
       "tensor([5, 8])"
      ]
     },
     "execution_count": 87,
     "metadata": {},
     "output_type": "execute_result"
    }
   ],
   "source": [
    "torch.add(x,y,out=y)"
   ]
  },
  {
   "cell_type": "code",
   "execution_count": 88,
   "metadata": {},
   "outputs": [
    {
     "data": {
      "text/plain": [
       "True"
      ]
     },
     "execution_count": 88,
     "metadata": {},
     "output_type": "execute_result"
    }
   ],
   "source": [
    "id(y) == id_before"
   ]
  },
  {
   "cell_type": "markdown",
   "metadata": {},
   "source": [
    "### Tensor 和 Numpy 相互转换 "
   ]
  },
  {
   "cell_type": "code",
   "execution_count": 89,
   "metadata": {},
   "outputs": [],
   "source": [
    "# 容易使用numpy() 和 from_numpy() 将 Tensor 和 Numpy中的数据相互转换\n",
    "# 但是要注意的是数组之间 共享相同的内存 改变其中一个另外一个也改变"
   ]
  },
  {
   "cell_type": "code",
   "execution_count": 90,
   "metadata": {},
   "outputs": [],
   "source": [
    "a = torch.ones(5)"
   ]
  },
  {
   "cell_type": "code",
   "execution_count": 91,
   "metadata": {},
   "outputs": [
    {
     "data": {
      "text/plain": [
       "tensor([1., 1., 1., 1., 1.])"
      ]
     },
     "execution_count": 91,
     "metadata": {},
     "output_type": "execute_result"
    }
   ],
   "source": [
    "a"
   ]
  },
  {
   "cell_type": "code",
   "execution_count": 92,
   "metadata": {},
   "outputs": [],
   "source": [
    "b = a.numpy()"
   ]
  },
  {
   "cell_type": "code",
   "execution_count": 93,
   "metadata": {},
   "outputs": [
    {
     "data": {
      "text/plain": [
       "array([1., 1., 1., 1., 1.], dtype=float32)"
      ]
     },
     "execution_count": 93,
     "metadata": {},
     "output_type": "execute_result"
    }
   ],
   "source": [
    "b"
   ]
  },
  {
   "cell_type": "code",
   "execution_count": 94,
   "metadata": {},
   "outputs": [],
   "source": [
    "a +=1 "
   ]
  },
  {
   "cell_type": "code",
   "execution_count": 95,
   "metadata": {},
   "outputs": [
    {
     "data": {
      "text/plain": [
       "tensor([2., 2., 2., 2., 2.])"
      ]
     },
     "execution_count": 95,
     "metadata": {},
     "output_type": "execute_result"
    }
   ],
   "source": [
    "a"
   ]
  },
  {
   "cell_type": "code",
   "execution_count": 96,
   "metadata": {},
   "outputs": [
    {
     "data": {
      "text/plain": [
       "array([2., 2., 2., 2., 2.], dtype=float32)"
      ]
     },
     "execution_count": 96,
     "metadata": {},
     "output_type": "execute_result"
    }
   ],
   "source": [
    "b"
   ]
  },
  {
   "cell_type": "code",
   "execution_count": 97,
   "metadata": {},
   "outputs": [],
   "source": [
    "b +=1"
   ]
  },
  {
   "cell_type": "code",
   "execution_count": 98,
   "metadata": {},
   "outputs": [
    {
     "data": {
      "text/plain": [
       "array([3., 3., 3., 3., 3.], dtype=float32)"
      ]
     },
     "execution_count": 98,
     "metadata": {},
     "output_type": "execute_result"
    }
   ],
   "source": [
    "b"
   ]
  },
  {
   "cell_type": "code",
   "execution_count": 99,
   "metadata": {},
   "outputs": [
    {
     "data": {
      "text/plain": [
       "tensor([3., 3., 3., 3., 3.])"
      ]
     },
     "execution_count": 99,
     "metadata": {},
     "output_type": "execute_result"
    }
   ],
   "source": [
    "a"
   ]
  },
  {
   "cell_type": "code",
   "execution_count": 100,
   "metadata": {},
   "outputs": [],
   "source": [
    "a = np.ones(5)"
   ]
  },
  {
   "cell_type": "code",
   "execution_count": 101,
   "metadata": {},
   "outputs": [
    {
     "data": {
      "text/plain": [
       "array([1., 1., 1., 1., 1.])"
      ]
     },
     "execution_count": 101,
     "metadata": {},
     "output_type": "execute_result"
    }
   ],
   "source": [
    "a"
   ]
  },
  {
   "cell_type": "code",
   "execution_count": 102,
   "metadata": {},
   "outputs": [],
   "source": [
    "b = torch.from_numpy(a)"
   ]
  },
  {
   "cell_type": "code",
   "execution_count": 103,
   "metadata": {},
   "outputs": [
    {
     "data": {
      "text/plain": [
       "tensor([1., 1., 1., 1., 1.], dtype=torch.float64)"
      ]
     },
     "execution_count": 103,
     "metadata": {},
     "output_type": "execute_result"
    }
   ],
   "source": [
    "b"
   ]
  },
  {
   "cell_type": "code",
   "execution_count": 104,
   "metadata": {},
   "outputs": [],
   "source": [
    "a +=1"
   ]
  },
  {
   "cell_type": "code",
   "execution_count": 105,
   "metadata": {},
   "outputs": [
    {
     "data": {
      "text/plain": [
       "array([2., 2., 2., 2., 2.])"
      ]
     },
     "execution_count": 105,
     "metadata": {},
     "output_type": "execute_result"
    }
   ],
   "source": [
    "a"
   ]
  },
  {
   "cell_type": "code",
   "execution_count": 106,
   "metadata": {},
   "outputs": [
    {
     "data": {
      "text/plain": [
       "tensor([2., 2., 2., 2., 2.], dtype=torch.float64)"
      ]
     },
     "execution_count": 106,
     "metadata": {},
     "output_type": "execute_result"
    }
   ],
   "source": [
    "b"
   ]
  },
  {
   "cell_type": "code",
   "execution_count": 107,
   "metadata": {},
   "outputs": [],
   "source": [
    "# 直接用 torch.tensor()  会进行数据拷贝 返回的tensor 和原来的数据不在进行\n",
    "# 数据共享\n",
    "c = torch.tensor(a)"
   ]
  },
  {
   "cell_type": "code",
   "execution_count": 108,
   "metadata": {},
   "outputs": [
    {
     "data": {
      "text/plain": [
       "tensor([2., 2., 2., 2., 2.], dtype=torch.float64)"
      ]
     },
     "execution_count": 108,
     "metadata": {},
     "output_type": "execute_result"
    }
   ],
   "source": [
    "c"
   ]
  },
  {
   "cell_type": "code",
   "execution_count": 109,
   "metadata": {},
   "outputs": [],
   "source": [
    "a+=1"
   ]
  },
  {
   "cell_type": "code",
   "execution_count": 110,
   "metadata": {},
   "outputs": [
    {
     "data": {
      "text/plain": [
       "tensor([2., 2., 2., 2., 2.], dtype=torch.float64)"
      ]
     },
     "execution_count": 110,
     "metadata": {},
     "output_type": "execute_result"
    }
   ],
   "source": [
    "c"
   ]
  },
  {
   "cell_type": "code",
   "execution_count": 111,
   "metadata": {},
   "outputs": [
    {
     "data": {
      "text/plain": [
       "array([3., 3., 3., 3., 3.])"
      ]
     },
     "execution_count": 111,
     "metadata": {},
     "output_type": "execute_result"
    }
   ],
   "source": [
    "a"
   ]
  },
  {
   "cell_type": "code",
   "execution_count": 112,
   "metadata": {},
   "outputs": [],
   "source": [
    "### tensor on GPU"
   ]
  },
  {
   "cell_type": "markdown",
   "metadata": {},
   "source": [
    "## 自动求梯度"
   ]
  },
  {
   "cell_type": "markdown",
   "metadata": {},
   "source": [
    "### 概念"
   ]
  },
  {
   "cell_type": "code",
   "execution_count": 113,
   "metadata": {},
   "outputs": [],
   "source": [
    "# 属性为 requires_grad 设置为True  将追踪其上的所有操作  可以利用链式法则\n",
    "# 进行梯度传播了 计算完成后 可以调用 。backward()来完成所有的梯度计算\n",
    "# 此Tensor的梯度累计到.grad属性中"
   ]
  },
  {
   "cell_type": "markdown",
   "metadata": {},
   "source": [
    "### Tensor"
   ]
  },
  {
   "cell_type": "code",
   "execution_count": 114,
   "metadata": {},
   "outputs": [],
   "source": [
    "x = torch.ones(2,2,requires_grad=True)"
   ]
  },
  {
   "cell_type": "code",
   "execution_count": 115,
   "metadata": {},
   "outputs": [
    {
     "data": {
      "text/plain": [
       "tensor([[1., 1.],\n",
       "        [1., 1.]], requires_grad=True)"
      ]
     },
     "execution_count": 115,
     "metadata": {},
     "output_type": "execute_result"
    }
   ],
   "source": [
    "x"
   ]
  },
  {
   "cell_type": "code",
   "execution_count": 116,
   "metadata": {},
   "outputs": [
    {
     "name": "stdout",
     "output_type": "stream",
     "text": [
      "None\n"
     ]
    }
   ],
   "source": [
    "print(x.grad_fn)"
   ]
  },
  {
   "cell_type": "code",
   "execution_count": 117,
   "metadata": {},
   "outputs": [],
   "source": [
    "y = x + 2"
   ]
  },
  {
   "cell_type": "code",
   "execution_count": 118,
   "metadata": {},
   "outputs": [
    {
     "data": {
      "text/plain": [
       "tensor([[3., 3.],\n",
       "        [3., 3.]], grad_fn=<AddBackward0>)"
      ]
     },
     "execution_count": 118,
     "metadata": {},
     "output_type": "execute_result"
    }
   ],
   "source": [
    "y"
   ]
  },
  {
   "cell_type": "code",
   "execution_count": 119,
   "metadata": {},
   "outputs": [
    {
     "data": {
      "text/plain": [
       "<AddBackward0 at 0x7fcdd4614250>"
      ]
     },
     "execution_count": 119,
     "metadata": {},
     "output_type": "execute_result"
    }
   ],
   "source": [
    "y.grad_fn"
   ]
  },
  {
   "cell_type": "code",
   "execution_count": 120,
   "metadata": {},
   "outputs": [],
   "source": [
    "# 直接创建的成为叶子节点，叶子节点对应的grad_fn 是 None"
   ]
  },
  {
   "cell_type": "code",
   "execution_count": 121,
   "metadata": {},
   "outputs": [
    {
     "data": {
      "text/plain": [
       "True"
      ]
     },
     "execution_count": 121,
     "metadata": {},
     "output_type": "execute_result"
    }
   ],
   "source": [
    "x.is_leaf"
   ]
  },
  {
   "cell_type": "code",
   "execution_count": 122,
   "metadata": {},
   "outputs": [
    {
     "data": {
      "text/plain": [
       "False"
      ]
     },
     "execution_count": 122,
     "metadata": {},
     "output_type": "execute_result"
    }
   ],
   "source": [
    "y.is_leaf"
   ]
  },
  {
   "cell_type": "code",
   "execution_count": 123,
   "metadata": {},
   "outputs": [],
   "source": [
    "z = y * y * 3"
   ]
  },
  {
   "cell_type": "code",
   "execution_count": 124,
   "metadata": {},
   "outputs": [
    {
     "data": {
      "text/plain": [
       "tensor([[27., 27.],\n",
       "        [27., 27.]], grad_fn=<MulBackward0>)"
      ]
     },
     "execution_count": 124,
     "metadata": {},
     "output_type": "execute_result"
    }
   ],
   "source": [
    "z"
   ]
  },
  {
   "cell_type": "code",
   "execution_count": 125,
   "metadata": {},
   "outputs": [],
   "source": [
    "out = z.mean()"
   ]
  },
  {
   "cell_type": "code",
   "execution_count": 126,
   "metadata": {},
   "outputs": [
    {
     "data": {
      "text/plain": [
       "tensor(27., grad_fn=<MeanBackward0>)"
      ]
     },
     "execution_count": 126,
     "metadata": {},
     "output_type": "execute_result"
    }
   ],
   "source": [
    "out"
   ]
  },
  {
   "cell_type": "code",
   "execution_count": 127,
   "metadata": {},
   "outputs": [],
   "source": [
    "a = torch.randn(2,2)"
   ]
  },
  {
   "cell_type": "code",
   "execution_count": 128,
   "metadata": {},
   "outputs": [
    {
     "data": {
      "text/plain": [
       "tensor([[1.3981, 0.0056],\n",
       "        [0.0961, 0.0172]])"
      ]
     },
     "execution_count": 128,
     "metadata": {},
     "output_type": "execute_result"
    }
   ],
   "source": [
    "a"
   ]
  },
  {
   "cell_type": "code",
   "execution_count": 129,
   "metadata": {},
   "outputs": [],
   "source": [
    "a = ((a * 3) / (a - 1))"
   ]
  },
  {
   "cell_type": "code",
   "execution_count": 130,
   "metadata": {},
   "outputs": [
    {
     "data": {
      "text/plain": [
       "tensor([[10.5364, -0.0169],\n",
       "        [-0.3191, -0.0524]])"
      ]
     },
     "execution_count": 130,
     "metadata": {},
     "output_type": "execute_result"
    }
   ],
   "source": [
    "a"
   ]
  },
  {
   "cell_type": "code",
   "execution_count": 131,
   "metadata": {},
   "outputs": [
    {
     "data": {
      "text/plain": [
       "False"
      ]
     },
     "execution_count": 131,
     "metadata": {},
     "output_type": "execute_result"
    }
   ],
   "source": [
    "a.requires_grad"
   ]
  },
  {
   "cell_type": "code",
   "execution_count": 132,
   "metadata": {},
   "outputs": [
    {
     "data": {
      "text/plain": [
       "tensor([[10.5364, -0.0169],\n",
       "        [-0.3191, -0.0524]], requires_grad=True)"
      ]
     },
     "execution_count": 132,
     "metadata": {},
     "output_type": "execute_result"
    }
   ],
   "source": [
    "a.requires_grad_(True)"
   ]
  },
  {
   "cell_type": "code",
   "execution_count": 133,
   "metadata": {},
   "outputs": [],
   "source": [
    "b = (a * a).sum()"
   ]
  },
  {
   "cell_type": "code",
   "execution_count": 134,
   "metadata": {},
   "outputs": [
    {
     "data": {
      "text/plain": [
       "tensor(111.1212, grad_fn=<SumBackward0>)"
      ]
     },
     "execution_count": 134,
     "metadata": {},
     "output_type": "execute_result"
    }
   ],
   "source": [
    "b"
   ]
  },
  {
   "cell_type": "code",
   "execution_count": 135,
   "metadata": {},
   "outputs": [
    {
     "data": {
      "text/plain": [
       "<SumBackward0 at 0x7fcdd46285d0>"
      ]
     },
     "execution_count": 135,
     "metadata": {},
     "output_type": "execute_result"
    }
   ],
   "source": [
    "b.grad_fn"
   ]
  },
  {
   "cell_type": "markdown",
   "metadata": {},
   "source": [
    "### 梯度"
   ]
  },
  {
   "cell_type": "code",
   "execution_count": 136,
   "metadata": {},
   "outputs": [
    {
     "data": {
      "text/plain": [
       "tensor(27., grad_fn=<MeanBackward0>)"
      ]
     },
     "execution_count": 136,
     "metadata": {},
     "output_type": "execute_result"
    }
   ],
   "source": [
    "out"
   ]
  },
  {
   "cell_type": "code",
   "execution_count": 137,
   "metadata": {},
   "outputs": [],
   "source": [
    "out.backward()"
   ]
  },
  {
   "cell_type": "code",
   "execution_count": 138,
   "metadata": {},
   "outputs": [
    {
     "data": {
      "text/plain": [
       "tensor([[1., 1.],\n",
       "        [1., 1.]], requires_grad=True)"
      ]
     },
     "execution_count": 138,
     "metadata": {},
     "output_type": "execute_result"
    }
   ],
   "source": [
    "x"
   ]
  },
  {
   "cell_type": "code",
   "execution_count": 139,
   "metadata": {},
   "outputs": [
    {
     "data": {
      "text/plain": [
       "tensor([[4.5000, 4.5000],\n",
       "        [4.5000, 4.5000]])"
      ]
     },
     "execution_count": 139,
     "metadata": {},
     "output_type": "execute_result"
    }
   ],
   "source": [
    "x.grad"
   ]
  },
  {
   "cell_type": "code",
   "execution_count": 140,
   "metadata": {},
   "outputs": [],
   "source": [
    "# grad 在反向传播过程中是累加的，这意味 这 没运行一次反向传播 梯度都会累加之前\n",
    "# 之前的梯度，所以一般在反向传播之前需要把 梯度清零"
   ]
  },
  {
   "cell_type": "code",
   "execution_count": 141,
   "metadata": {},
   "outputs": [],
   "source": [
    "out2 = x.sum()"
   ]
  },
  {
   "cell_type": "code",
   "execution_count": 142,
   "metadata": {},
   "outputs": [
    {
     "data": {
      "text/plain": [
       "tensor(4., grad_fn=<SumBackward0>)"
      ]
     },
     "execution_count": 142,
     "metadata": {},
     "output_type": "execute_result"
    }
   ],
   "source": [
    "out2"
   ]
  },
  {
   "cell_type": "code",
   "execution_count": 143,
   "metadata": {},
   "outputs": [],
   "source": [
    "out2.backward()"
   ]
  },
  {
   "cell_type": "code",
   "execution_count": 144,
   "metadata": {},
   "outputs": [
    {
     "data": {
      "text/plain": [
       "tensor([[5.5000, 5.5000],\n",
       "        [5.5000, 5.5000]])"
      ]
     },
     "execution_count": 144,
     "metadata": {},
     "output_type": "execute_result"
    }
   ],
   "source": [
    "x.grad"
   ]
  },
  {
   "cell_type": "code",
   "execution_count": 145,
   "metadata": {},
   "outputs": [],
   "source": [
    "out3 = x.sum()"
   ]
  },
  {
   "cell_type": "code",
   "execution_count": 146,
   "metadata": {},
   "outputs": [
    {
     "data": {
      "text/plain": [
       "tensor([[0., 0.],\n",
       "        [0., 0.]])"
      ]
     },
     "execution_count": 146,
     "metadata": {},
     "output_type": "execute_result"
    }
   ],
   "source": [
    "x.grad.data.zero_()"
   ]
  },
  {
   "cell_type": "code",
   "execution_count": 147,
   "metadata": {},
   "outputs": [],
   "source": [
    "out3.backward()"
   ]
  },
  {
   "cell_type": "code",
   "execution_count": 148,
   "metadata": {},
   "outputs": [
    {
     "data": {
      "text/plain": [
       "tensor([[1., 1.],\n",
       "        [1., 1.]])"
      ]
     },
     "execution_count": 148,
     "metadata": {},
     "output_type": "execute_result"
    }
   ],
   "source": [
    "x.grad"
   ]
  },
  {
   "cell_type": "code",
   "execution_count": 149,
   "metadata": {},
   "outputs": [],
   "source": [
    "x  = torch.tensor([1.,2.,3.,4.],requires_grad=True)"
   ]
  },
  {
   "cell_type": "code",
   "execution_count": 150,
   "metadata": {},
   "outputs": [
    {
     "data": {
      "text/plain": [
       "tensor([1., 2., 3., 4.], requires_grad=True)"
      ]
     },
     "execution_count": 150,
     "metadata": {},
     "output_type": "execute_result"
    }
   ],
   "source": [
    "x"
   ]
  },
  {
   "cell_type": "code",
   "execution_count": 151,
   "metadata": {},
   "outputs": [],
   "source": [
    "y = x * 2 "
   ]
  },
  {
   "cell_type": "code",
   "execution_count": 152,
   "metadata": {},
   "outputs": [
    {
     "data": {
      "text/plain": [
       "tensor([2., 4., 6., 8.], grad_fn=<MulBackward0>)"
      ]
     },
     "execution_count": 152,
     "metadata": {},
     "output_type": "execute_result"
    }
   ],
   "source": [
    "y"
   ]
  },
  {
   "cell_type": "code",
   "execution_count": 153,
   "metadata": {},
   "outputs": [],
   "source": [
    "z = y.view(2,2)"
   ]
  },
  {
   "cell_type": "code",
   "execution_count": 154,
   "metadata": {},
   "outputs": [
    {
     "data": {
      "text/plain": [
       "tensor([[2., 4.],\n",
       "        [6., 8.]], grad_fn=<ViewBackward0>)"
      ]
     },
     "execution_count": 154,
     "metadata": {},
     "output_type": "execute_result"
    }
   ],
   "source": [
    "z"
   ]
  },
  {
   "cell_type": "code",
   "execution_count": 155,
   "metadata": {},
   "outputs": [],
   "source": [
    "# z 不是标量 所以在调用 backward 时 需要传入一个和z 同形的权重向量进行加权#\n",
    "# 求和得到一个标量\n",
    "v = torch.tensor([[1.,0.1],[0.01,0.001]],dtype=torch.float)"
   ]
  },
  {
   "cell_type": "code",
   "execution_count": 156,
   "metadata": {},
   "outputs": [],
   "source": [
    "z.backward(v)"
   ]
  },
  {
   "cell_type": "code",
   "execution_count": 157,
   "metadata": {},
   "outputs": [
    {
     "data": {
      "text/plain": [
       "tensor([2.0000, 0.2000, 0.0200, 0.0020])"
      ]
     },
     "execution_count": 157,
     "metadata": {},
     "output_type": "execute_result"
    }
   ],
   "source": [
    "x.grad"
   ]
  },
  {
   "cell_type": "code",
   "execution_count": 158,
   "metadata": {},
   "outputs": [],
   "source": [
    "# 中断 梯度追踪"
   ]
  },
  {
   "cell_type": "code",
   "execution_count": 159,
   "metadata": {},
   "outputs": [],
   "source": [
    "x = torch.tensor(1.0,requires_grad=True)"
   ]
  },
  {
   "cell_type": "code",
   "execution_count": 160,
   "metadata": {},
   "outputs": [
    {
     "data": {
      "text/plain": [
       "tensor(1., requires_grad=True)"
      ]
     },
     "execution_count": 160,
     "metadata": {},
     "output_type": "execute_result"
    }
   ],
   "source": [
    "x"
   ]
  },
  {
   "cell_type": "code",
   "execution_count": 161,
   "metadata": {},
   "outputs": [],
   "source": [
    "y1 = x ** 2"
   ]
  },
  {
   "cell_type": "code",
   "execution_count": 162,
   "metadata": {},
   "outputs": [],
   "source": [
    "with torch.no_grad():\n",
    "    y2 = x ** 3 \n",
    "y3 = y1 + y2 "
   ]
  },
  {
   "cell_type": "code",
   "execution_count": 163,
   "metadata": {},
   "outputs": [
    {
     "data": {
      "text/plain": [
       "True"
      ]
     },
     "execution_count": 163,
     "metadata": {},
     "output_type": "execute_result"
    }
   ],
   "source": [
    "x.requires_grad"
   ]
  },
  {
   "cell_type": "code",
   "execution_count": 164,
   "metadata": {},
   "outputs": [
    {
     "data": {
      "text/plain": [
       "tensor(1., grad_fn=<PowBackward0>)"
      ]
     },
     "execution_count": 164,
     "metadata": {},
     "output_type": "execute_result"
    }
   ],
   "source": [
    "y1"
   ]
  },
  {
   "cell_type": "code",
   "execution_count": 165,
   "metadata": {},
   "outputs": [
    {
     "data": {
      "text/plain": [
       "True"
      ]
     },
     "execution_count": 165,
     "metadata": {},
     "output_type": "execute_result"
    }
   ],
   "source": [
    "y1.requires_grad"
   ]
  },
  {
   "cell_type": "code",
   "execution_count": 166,
   "metadata": {},
   "outputs": [
    {
     "data": {
      "text/plain": [
       "False"
      ]
     },
     "execution_count": 166,
     "metadata": {},
     "output_type": "execute_result"
    }
   ],
   "source": [
    "y2.requires_grad"
   ]
  },
  {
   "cell_type": "code",
   "execution_count": 167,
   "metadata": {},
   "outputs": [
    {
     "data": {
      "text/plain": [
       "True"
      ]
     },
     "execution_count": 167,
     "metadata": {},
     "output_type": "execute_result"
    }
   ],
   "source": [
    "y3.requires_grad"
   ]
  },
  {
   "cell_type": "code",
   "execution_count": 168,
   "metadata": {},
   "outputs": [],
   "source": [
    "y3.backward()"
   ]
  },
  {
   "cell_type": "code",
   "execution_count": 169,
   "metadata": {},
   "outputs": [
    {
     "data": {
      "text/plain": [
       "tensor(2.)"
      ]
     },
     "execution_count": 169,
     "metadata": {},
     "output_type": "execute_result"
    }
   ],
   "source": [
    "x.grad"
   ]
  },
  {
   "cell_type": "code",
   "execution_count": 170,
   "metadata": {},
   "outputs": [],
   "source": [
    "# 想要修改 tensor 的数值，但是有不希望被 autograd 记录  需要对tensor.data\n",
    "# 进行操作"
   ]
  },
  {
   "cell_type": "code",
   "execution_count": 171,
   "metadata": {},
   "outputs": [],
   "source": [
    "x = torch.ones(1,requires_grad=True)"
   ]
  },
  {
   "cell_type": "code",
   "execution_count": 172,
   "metadata": {},
   "outputs": [
    {
     "data": {
      "text/plain": [
       "tensor([1.], requires_grad=True)"
      ]
     },
     "execution_count": 172,
     "metadata": {},
     "output_type": "execute_result"
    }
   ],
   "source": [
    "x"
   ]
  },
  {
   "cell_type": "code",
   "execution_count": 173,
   "metadata": {},
   "outputs": [
    {
     "data": {
      "text/plain": [
       "tensor([1.])"
      ]
     },
     "execution_count": 173,
     "metadata": {},
     "output_type": "execute_result"
    }
   ],
   "source": [
    "x.data"
   ]
  },
  {
   "cell_type": "code",
   "execution_count": 174,
   "metadata": {},
   "outputs": [
    {
     "data": {
      "text/plain": [
       "False"
      ]
     },
     "execution_count": 174,
     "metadata": {},
     "output_type": "execute_result"
    }
   ],
   "source": [
    "x.data.requires_grad"
   ]
  },
  {
   "cell_type": "code",
   "execution_count": 175,
   "metadata": {},
   "outputs": [],
   "source": [
    "y = 2 * x"
   ]
  },
  {
   "cell_type": "code",
   "execution_count": 176,
   "metadata": {},
   "outputs": [
    {
     "data": {
      "text/plain": [
       "tensor([2.], grad_fn=<MulBackward0>)"
      ]
     },
     "execution_count": 176,
     "metadata": {},
     "output_type": "execute_result"
    }
   ],
   "source": [
    "y"
   ]
  },
  {
   "cell_type": "code",
   "execution_count": 177,
   "metadata": {},
   "outputs": [],
   "source": [
    "x.data *= 100"
   ]
  },
  {
   "cell_type": "code",
   "execution_count": 178,
   "metadata": {},
   "outputs": [
    {
     "data": {
      "text/plain": [
       "tensor([100.], requires_grad=True)"
      ]
     },
     "execution_count": 178,
     "metadata": {},
     "output_type": "execute_result"
    }
   ],
   "source": [
    "x"
   ]
  },
  {
   "cell_type": "code",
   "execution_count": 179,
   "metadata": {},
   "outputs": [],
   "source": [
    "y.backward()"
   ]
  },
  {
   "cell_type": "code",
   "execution_count": 180,
   "metadata": {},
   "outputs": [
    {
     "data": {
      "text/plain": [
       "tensor([100.], requires_grad=True)"
      ]
     },
     "execution_count": 180,
     "metadata": {},
     "output_type": "execute_result"
    }
   ],
   "source": [
    "x"
   ]
  },
  {
   "cell_type": "code",
   "execution_count": 181,
   "metadata": {},
   "outputs": [
    {
     "data": {
      "text/plain": [
       "tensor([2.])"
      ]
     },
     "execution_count": 181,
     "metadata": {},
     "output_type": "execute_result"
    }
   ],
   "source": [
    "x.grad"
   ]
  },
  {
   "cell_type": "markdown",
   "metadata": {},
   "source": [
    "# 深度学习基础"
   ]
  },
  {
   "cell_type": "markdown",
   "metadata": {},
   "source": [
    "## 线性回归"
   ]
  },
  {
   "cell_type": "code",
   "execution_count": 182,
   "metadata": {},
   "outputs": [],
   "source": [
    "# 线性回归输出是一个连续值，因此适用于回归问题 回归问题很常见，预测房屋价格，气温，销售额等连续值的问题，\n",
    "# 与回归问题不同，分类问题中模型的最终输出是一个离散值，我们所说的图像分类，垃圾邮件识别\n",
    "# 疾病检测 softmax 回归则适用于分类问题"
   ]
  },
  {
   "cell_type": "markdown",
   "metadata": {},
   "source": [
    "### 线性回归的基本要素"
   ]
  },
  {
   "cell_type": "code",
   "execution_count": 183,
   "metadata": {},
   "outputs": [],
   "source": [
    "# 这个应用目标是预测一栋房子的售出价格  我们知道这个价格取决于很多因素，这里我们假设价格只取决于 面积 和 房龄 "
   ]
  },
  {
   "cell_type": "markdown",
   "metadata": {},
   "source": [
    "#### 模型定义"
   ]
  },
  {
   "cell_type": "code",
   "execution_count": 184,
   "metadata": {},
   "outputs": [],
   "source": [
    "# 房屋的面积 为 x1,房龄的面积为x2 售出的价格为y 我们需要建立 基于输入 x1和x2 来计算输出y的表达式 也就是模型\n",
    "# y^ = x1 w1 + x2 w2 + b\n",
    "# 其中w1 和 w2 是权重 b 是偏差  且均是标量 他们都是线性回归的参数\n",
    "# 模型输出y^是线性回归对真实价格y 的预测或是 估计 我们通常允许他们之间有一定的误差"
   ]
  },
  {
   "cell_type": "markdown",
   "metadata": {},
   "source": [
    "#### 模型训练"
   ]
  },
  {
   "cell_type": "code",
   "execution_count": 185,
   "metadata": {},
   "outputs": [
    {
     "data": {
      "text/plain": [
       "'\\n1) 训练数据  \\n  通常收集一系列的真实数据，例如真实的房屋价格和他们对应的面积和房龄，我们希望在这些数据上 寻找模型参数使模型的预测%%capture\\n  价格 和真实 价格的误差最小，该数据集 称为 训练数据集  一栋房屋被称为 样本，真实售出的价格叫做标签，用来预测%%latex\\n  标签的两个因素叫做特征,特征用来表征样本的特点。\\n 我们采集的样本数为n  索引为i的样本的特征为x1（i）和 x2(i),标签为 y(i) 对于索引为i的房屋，线性回归模型的房屋\\n 价格预测的表达式为 \\n                 y^(i) = x1(i) w1 + x2(i) w2 + b \\n2) 损失函数  \\n    在模型训练中，需要衡量价格预测与真实值之间的误差，通常我们会选取一个非负数作为误差，且数值越小越好，一个常用的选择 \\n    是平方函数，它的评估索引为i的样本误差的表达式为  \\n                l(i) (w1,w2,b) = 1/2(y^(i) - y(i))²\\n    通常用训练数据的所有样本误差的平均来 衡量模型预测的质量 \\n     \\n3) 优化算法   \\n    小批量梯度下降，步骤：先选取一组模型参数的初始值，如随机选取，接下来对参数进行多次迭代，使每次迭代都可能降低损失函数的值 \\n    在 每次迭代中，先随机均匀采样一个由固定数目训练数据样本所组成的小批量B 然后求小批量中数据样本的平均均匀有关模型参数的导数  \\n    最后用此结果与预先设定的一个正数的乘积作为模型参数在本次迭代的减少量\\n        \\n'"
      ]
     },
     "execution_count": 185,
     "metadata": {},
     "output_type": "execute_result"
    }
   ],
   "source": [
    "# 通过数据来寻找特定的模型参数值，是模型在数据上的误差尽可能小，这个过程叫做模型训练 \n",
    "# 模型模型所涉及的三要素\n",
    "\"\"\"\n",
    "1) 训练数据  \n",
    "  通常收集一系列的真实数据，例如真实的房屋价格和他们对应的面积和房龄，我们希望在这些数据上 寻找模型参数使模型的预测%%capture\n",
    "  价格 和真实 价格的误差最小，该数据集 称为 训练数据集  一栋房屋被称为 样本，真实售出的价格叫做标签，用来预测%%latex\n",
    "  标签的两个因素叫做特征,特征用来表征样本的特点。\n",
    " 我们采集的样本数为n  索引为i的样本的特征为x1（i）和 x2(i),标签为 y(i) 对于索引为i的房屋，线性回归模型的房屋\n",
    " 价格预测的表达式为 \n",
    "                 y^(i) = x1(i) w1 + x2(i) w2 + b \n",
    "2) 损失函数  \n",
    "    在模型训练中，需要衡量价格预测与真实值之间的误差，通常我们会选取一个非负数作为误差，且数值越小越好，一个常用的选择 \n",
    "    是平方函数，它的评估索引为i的样本误差的表达式为  \n",
    "                l(i) (w1,w2,b) = 1/2(y^(i) - y(i))²\n",
    "    通常用训练数据的所有样本误差的平均来 衡量模型预测的质量 \n",
    "     \n",
    "3) 优化算法   \n",
    "    小批量梯度下降，步骤：先选取一组模型参数的初始值，如随机选取，接下来对参数进行多次迭代，使每次迭代都可能降低损失函数的值 \n",
    "    在 每次迭代中，先随机均匀采样一个由固定数目训练数据样本所组成的小批量B 然后求小批量中数据样本的平均均匀有关模型参数的导数  \n",
    "    最后用此结果与预先设定的一个正数的乘积作为模型参数在本次迭代的减少量\n",
    "        \n",
    "\"\"\""
   ]
  },
  {
   "cell_type": "markdown",
   "metadata": {},
   "source": [
    "#### 模型预测"
   ]
  },
  {
   "cell_type": "code",
   "execution_count": 186,
   "metadata": {},
   "outputs": [],
   "source": [
    "# 模型训练完后，我们将模型参数 w1,w2,b 在优化算法停止时的值记作 w1^,w2^,b^  这里我们得到的并不一定是最小化\n",
    "# 损失函数的最优解 w1*,w2*,b* 而是最优解的一个近似,我们就可以使用学出的模型 x1 w1^ + x2 w2^ + b^ 来估算\n",
    "# 训练数据集以外任意一栋面积为x1 房龄为x2 的房屋价格，这里的估算也叫做 模型预测，模型推断，模型测试"
   ]
  },
  {
   "cell_type": "markdown",
   "metadata": {},
   "source": [
    "### 线性回归的表示方法"
   ]
  },
  {
   "cell_type": "markdown",
   "metadata": {},
   "source": [
    "#### 神经网络图"
   ]
  },
  {
   "cell_type": "markdown",
   "metadata": {},
   "source": [
    "#### 矢量计算表达式"
   ]
  },
  {
   "cell_type": "code",
   "execution_count": 187,
   "metadata": {},
   "outputs": [],
   "source": [
    "a = torch.ones(1000)\n",
    "b = torch.ones(1000)"
   ]
  },
  {
   "cell_type": "code",
   "execution_count": 188,
   "metadata": {},
   "outputs": [],
   "source": [
    "from time import time"
   ]
  },
  {
   "cell_type": "code",
   "execution_count": 189,
   "metadata": {},
   "outputs": [
    {
     "name": "stdout",
     "output_type": "stream",
     "text": [
      "0.009359121322631836\n"
     ]
    }
   ],
   "source": [
    "start = time()\n",
    "c  = torch.zeros(1000)\n",
    "for i in range(1000):\n",
    "    c[i] = a[i] + b[i]\n",
    "print(time() - start)"
   ]
  },
  {
   "cell_type": "code",
   "execution_count": 190,
   "metadata": {},
   "outputs": [
    {
     "name": "stdout",
     "output_type": "stream",
     "text": [
      "0.0001270771026611328\n"
     ]
    }
   ],
   "source": [
    "start = time()\n",
    "d = a + b \n",
    "print(time() - start)"
   ]
  },
  {
   "cell_type": "code",
   "execution_count": 191,
   "metadata": {},
   "outputs": [
    {
     "data": {
      "text/plain": [
       "tensor([11., 11., 11.])"
      ]
     },
     "execution_count": 191,
     "metadata": {},
     "output_type": "execute_result"
    }
   ],
   "source": [
    "a  = torch.ones(3)\n",
    "b = 10\n",
    "a + b "
   ]
  },
  {
   "cell_type": "markdown",
   "metadata": {},
   "source": [
    "## 线性回归的从零开始实现"
   ]
  },
  {
   "cell_type": "code",
   "execution_count": 192,
   "metadata": {},
   "outputs": [],
   "source": [
    "%matplotlib inline\n",
    "import torch\n",
    "from IPython import display\n",
    "from matplotlib import pyplot as plt \n",
    "import numpy as np \n",
    "import random"
   ]
  },
  {
   "cell_type": "markdown",
   "metadata": {},
   "source": [
    "### 生成数据集 "
   ]
  },
  {
   "cell_type": "code",
   "execution_count": 193,
   "metadata": {},
   "outputs": [],
   "source": [
    "# 构造简单的人工训练数据集 设训练数据集样本数为1000 输入个数为2 我们使用线性回归模型的真实权重 w = [2,-3.4]\n",
    "# 和偏差b = 4.2  以及一个随机噪声项 来生成标签 \n",
    "#  Y = Xw + b + e"
   ]
  },
  {
   "cell_type": "code",
   "execution_count": 194,
   "metadata": {},
   "outputs": [],
   "source": [
    "num_inputs = 2\n",
    "num_examples = 1000\n",
    "true_w = [2,-3.4]\n",
    "true_b = 4.2"
   ]
  },
  {
   "cell_type": "code",
   "execution_count": 195,
   "metadata": {},
   "outputs": [],
   "source": [
    "features = torch.randn(num_examples,num_inputs,dtype=torch.float)"
   ]
  },
  {
   "cell_type": "code",
   "execution_count": 196,
   "metadata": {},
   "outputs": [
    {
     "data": {
      "text/plain": [
       "tensor([[ 1.4205,  1.8216],\n",
       "        [ 1.0518,  2.6231],\n",
       "        [-0.2873,  0.0723],\n",
       "        ...,\n",
       "        [ 0.4132,  0.4281],\n",
       "        [-1.2197, -1.9871],\n",
       "        [-0.4696, -0.7161]])"
      ]
     },
     "execution_count": 196,
     "metadata": {},
     "output_type": "execute_result"
    }
   ],
   "source": [
    "features"
   ]
  },
  {
   "cell_type": "code",
   "execution_count": 197,
   "metadata": {},
   "outputs": [],
   "source": [
    "labels = true_w[0] * features[:,0] + true_w[1] * features[:,1] + true_b"
   ]
  },
  {
   "cell_type": "code",
   "execution_count": 198,
   "metadata": {},
   "outputs": [
    {
     "data": {
      "text/plain": [
       "torch.Size([1000])"
      ]
     },
     "execution_count": 198,
     "metadata": {},
     "output_type": "execute_result"
    }
   ],
   "source": [
    "labels.shape"
   ]
  },
  {
   "cell_type": "code",
   "execution_count": 199,
   "metadata": {},
   "outputs": [
    {
     "data": {
      "text/plain": [
       "torch.Size([1000])"
      ]
     },
     "execution_count": 199,
     "metadata": {},
     "output_type": "execute_result"
    }
   ],
   "source": [
    "labels.size()"
   ]
  },
  {
   "cell_type": "code",
   "execution_count": 200,
   "metadata": {},
   "outputs": [],
   "source": [
    "labels += torch.tensor(np.random.normal(0,0.01,size=labels.size()),dtype=torch.float32)"
   ]
  },
  {
   "cell_type": "code",
   "execution_count": 201,
   "metadata": {},
   "outputs": [
    {
     "data": {
      "text/plain": [
       "tensor([ 0.8375, -2.6111,  3.3854,  5.1774,  4.3593,  3.9080,  0.6844,  3.6697,\n",
       "         2.0291,  1.2082, -0.2365,  3.4630,  1.5041,  5.4023,  4.0154, -0.5257,\n",
       "         0.2074,  4.8380,  6.2573,  3.5926,  5.3748, 10.1747,  6.3323, 11.9758,\n",
       "         9.4407,  4.1085,  5.1516, -6.8132,  9.1024,  3.9306,  0.2622,  2.3052,\n",
       "        -0.7073,  5.1441,  5.6080, -3.1637,  3.4546, -4.6051,  2.8867,  0.6131,\n",
       "        -2.4955,  2.3164,  2.9416,  7.1214, -1.4388,  3.0541,  1.5731, 12.6378,\n",
       "        -4.1070,  9.4028, -3.0943,  3.7168, 11.5363, -1.6930, 12.9295,  0.7904,\n",
       "         3.0631, -1.5529,  3.3586, 10.6576, -0.2877,  2.2601, -2.5504,  1.9617,\n",
       "         0.7512,  3.3353,  3.4573,  5.8790,  2.3868,  8.0618,  3.1822,  0.7199,\n",
       "         2.9417, -1.4714,  5.4288,  8.8436,  3.9398,  4.4759,  1.3334, 11.5070,\n",
       "         0.3946,  3.3849,  6.8998,  3.4057,  2.9724,  7.8188,  4.5946,  3.7536,\n",
       "         6.5426,  1.6260,  5.0044, 19.0151,  5.9860,  2.4514,  9.4883,  4.1981,\n",
       "         3.1638,  6.1914,  8.9679,  2.5330,  9.0641, -2.4786,  1.4810,  0.3348,\n",
       "         6.2029,  0.7641,  0.6385,  5.8434,  0.5038,  4.3757,  2.5471,  5.9976,\n",
       "        11.2156,  1.9437,  5.2142, 10.6477,  5.0905,  6.6245,  8.0886, -0.9295,\n",
       "         1.9838, -5.9622,  0.9383,  4.1551, 10.6298, 11.9590,  8.4933,  2.0608,\n",
       "         8.3716,  0.2442, -0.3602,  6.7884,  1.2444, -1.6650,  2.2704,  5.5536,\n",
       "        10.4513,  9.0490, 10.1532,  1.2232, -1.0682,  3.4364,  9.5614, 10.5624,\n",
       "         8.9725, -0.2581,  2.2971,  4.2599, -0.6982,  5.1878,  2.3179,  1.7864,\n",
       "        10.5627,  8.3802,  3.1160,  4.1373,  5.2396,  5.1111,  1.1032,  1.6188,\n",
       "         3.8595,  6.0733, -0.1071,  2.2579, 10.0349, -0.3264,  7.0466,  1.6607,\n",
       "         8.1616, -4.1620,  4.0497,  4.6020,  6.4953,  6.3418,  5.6701,  3.3543,\n",
       "         9.4258,  5.4299,  1.0911, 12.7341,  5.1328,  0.2094,  2.2398,  1.7010,\n",
       "         7.4593, -0.5974,  9.3960, -0.3838, 10.8302,  4.8658,  9.4360,  6.1226,\n",
       "         6.3383,  4.1921,  0.9833, -1.3551, -0.8597,  4.1974, -1.0258,  1.5307,\n",
       "         2.4917,  4.3308,  5.7641,  3.1398,  9.5951,  8.2655, -0.8685, -0.2158,\n",
       "         1.3322,  1.6266, -3.0654,  4.9824,  2.2827,  3.5078,  0.5788,  1.6184,\n",
       "         3.0954,  3.0659,  3.7283,  0.3667,  0.5840,  7.1791,  5.4292,  5.9046,\n",
       "         0.6759,  2.9079,  2.5260,  5.3200,  8.8134,  2.4699, -1.2347, 13.6869,\n",
       "        12.7885,  4.0925,  8.2290, -1.8470,  7.5518,  3.9311, -0.9773,  0.1566,\n",
       "         2.2099,  7.6425, 12.4269,  3.0752, -3.3397,  0.3185,  5.6638,  5.1528,\n",
       "         2.0889,  2.5373,  7.4151,  2.1341,  6.9703,  8.7849, -1.3125,  0.8419,\n",
       "         2.9862,  3.4576,  4.1908,  3.4691,  4.8255,  8.0454,  3.2126,  6.2796,\n",
       "         5.6038,  6.7501,  0.5190,  2.2052, -2.0284,  1.9595,  3.8775,  0.7546,\n",
       "         7.2715,  3.2201,  1.9749,  2.9196, -0.8045,  2.7194,  4.5226,  2.0092,\n",
       "        -0.3210, -2.6819,  3.2261,  6.0139,  3.7766,  6.3508,  3.5577, -2.2128,\n",
       "         8.6751,  3.5024,  5.5198, 12.1940,  8.4424, 10.3540, -1.5133,  8.5285,\n",
       "         9.3965,  7.4465,  6.3466,  8.6389,  0.2306,  1.1512,  0.0978,  2.1201,\n",
       "         1.2137,  3.2129,  8.1786,  4.1029,  4.5594, 11.3282,  0.8001,  8.7299,\n",
       "         2.6843,  1.2538,  3.9242,  0.2050, -3.8612,  3.4706,  1.6864,  5.4267,\n",
       "         3.3760,  4.0072,  3.6012,  4.4497, 11.6111,  9.2272,  1.9835,  2.0887,\n",
       "         5.6992,  4.8633, -2.1130,  8.2466,  5.6355,  6.2359,  7.4734, -0.1493,\n",
       "         4.0245,  0.6381,  2.3627, -0.9905,  0.6529, -0.0328,  9.4226,  4.0528,\n",
       "         6.9674, -1.9635,  8.9371,  7.0190,  7.8687,  0.1945,  8.4228,  4.8770,\n",
       "         0.6997,  1.2986,  6.6315,  5.7325,  3.6798, -4.3139,  3.1369,  1.6620,\n",
       "        10.0306,  4.9044,  5.0772, -0.8765,  1.0387,  9.8505, -1.1959,  0.8815,\n",
       "         6.7200,  1.7973,  2.3247,  4.1341,  5.6005,  8.5766,  3.1063, -2.9622,\n",
       "         4.1816,  4.8882,  1.5652,  7.4137,  6.7164,  6.8990,  3.0582,  1.5775,\n",
       "         8.0060,  0.8846,  9.8850,  4.6820,  3.1933,  6.7149,  1.7232,  5.6798,\n",
       "         7.0706,  6.3394,  5.6374,  2.1677, 11.1107,  5.9321,  3.1438,  4.2166,\n",
       "         4.1791,  2.2202,  5.9913,  5.6200,  7.9934,  4.1173,  1.9395,  1.4253,\n",
       "        -2.1833,  1.3474,  7.5945, -2.0723, 13.6488,  4.9480,  5.8455, 12.4260,\n",
       "         5.0031, -2.4599,  3.6893,  5.5793,  9.7795,  7.9357,  2.2418, 10.2555,\n",
       "        -0.5186,  6.6933,  1.5576,  4.6245,  0.4824, -3.6566,  6.8988, -2.4945,\n",
       "         9.9677,  6.3933,  4.3030,  8.3919,  3.2183, -0.8143,  4.1174,  7.4183,\n",
       "         6.4214, -0.6008,  2.5650, -4.6122,  0.1231, 11.5316,  6.6653,  3.9495,\n",
       "         9.1499,  5.6282,  1.6752, -1.2947, -1.5494,  3.4782,  2.3866, 12.7391,\n",
       "         5.1519, -2.4794,  5.7780, -6.2566,  6.1633,  5.9400,  7.4861,  1.1008,\n",
       "         4.8712,  5.3378,  7.6164,  8.1669,  2.2310,  8.5849,  7.0364,  3.9073,\n",
       "         1.3296,  5.2247, -0.5245,  3.7621,  1.3155, -6.3029,  3.2176,  1.3417,\n",
       "         4.2677,  4.9602,  7.0011, -2.4064, -0.8984,  1.3642,  7.4588,  3.3707,\n",
       "         8.0059,  3.9859, -3.1620,  4.2313,  3.4479, -4.8933,  5.4244, 10.4911,\n",
       "         6.1730,  6.1864,  5.7631,  7.4391,  6.7018,  3.3785, -0.4683, -5.0639,\n",
       "         0.5691,  4.9748,  5.7528,  4.2970,  8.9510,  2.3140, -0.1527,  7.4160,\n",
       "         8.6651,  3.8644,  0.3307, -1.1855,  7.3106,  0.8974, -0.8566,  4.7963,\n",
       "         5.9353,  1.3343, -0.3642,  1.4454,  8.0095,  7.6372,  7.7940,  9.7176,\n",
       "         6.0436, 11.5015, -3.5419,  1.5934,  4.9961,  8.1897,  9.0934,  3.6606,\n",
       "         5.4268, -0.3508,  1.1222, -1.0840,  7.0766, -2.3129, -5.7122,  3.4875,\n",
       "        14.9575, -0.6098,  8.0751,  5.7146,  4.7397,  8.1800,  5.4418,  4.8534,\n",
       "         1.9669, 13.9060,  8.2320,  4.4729, -0.4042, -3.2818, -1.0622,  1.8151,\n",
       "         1.9250,  4.8694,  7.1944,  0.5843,  2.1667,  2.0193,  4.6810, 11.2656,\n",
       "         2.1342, -2.8731,  2.3852,  1.4419,  4.8228,  2.4543,  7.5297, -2.9730,\n",
       "        -0.9958,  4.1781,  9.3799,  8.5637, -5.6004,  3.9779,  2.7664,  2.2312,\n",
       "         6.6668,  4.0030,  3.1549, -1.7912,  6.4835,  7.9006, -0.1885,  7.9484,\n",
       "         5.0421, -4.1527,  1.7073,  2.2899,  5.4766,  6.6476,  2.9624,  7.5418,\n",
       "         4.8191, -0.6780,  4.3584,  8.0567,  4.1850,  6.1807,  7.8105, -1.0764,\n",
       "         4.0178,  4.1714,  0.0362,  1.9145,  3.0417, -1.2964, -3.1846,  6.3322,\n",
       "         0.9415,  6.2622,  3.5356,  4.3332,  4.2541,  3.2266, -1.2714,  5.5274,\n",
       "         4.2029, -2.9118,  4.8546,  4.2458,  4.5044,  6.4107,  5.4099,  0.8689,\n",
       "         9.5078, -4.2406,  5.4228,  6.1866, 12.2668,  3.9029,  6.4857,  9.8068,\n",
       "         8.5227, -3.3414,  2.1476, -0.0803,  0.4292,  1.8234,  3.0335,  3.1156,\n",
       "         8.1726,  1.1953,  2.4297,  5.4241,  6.5225,  1.7472,  3.4389,  5.0344,\n",
       "        -2.1080,  2.5011,  2.3462, -0.4182,  7.9337, -4.5174,  5.6445,  1.3118,\n",
       "         3.6726, -0.6517,  3.6680,  1.8442,  6.2931,  2.0978,  4.3414,  5.2512,\n",
       "         9.0901,  3.1433,  7.8088,  4.9313,  7.2357,  0.2723,  1.5890,  1.3723,\n",
       "         9.6147,  6.8755,  5.9811, -2.2487,  6.9271, -0.8959, -0.5535,  4.1206,\n",
       "         2.6425,  5.8019,  5.7925,  4.3180, 12.2535, 12.5830, -1.1414, -1.4279,\n",
       "        -0.0641,  6.3005,  5.9590,  2.8571,  6.0252,  8.4100,  2.6429,  9.5029,\n",
       "         7.8916,  6.6366,  8.2958,  9.6359, 15.2443,  3.4435,  2.8552,  3.9891,\n",
       "        11.6054,  3.2879, -7.3728,  7.2576,  6.5466,  2.3520,  7.9052,  3.4512,\n",
       "         2.1094,  2.0575,  2.0942, -0.4054,  0.3764,  5.5568,  2.4748,  0.1836,\n",
       "         8.3252,  9.2948, -0.7691,  9.3154, -4.3559,  5.0388, -1.9672,  7.0097,\n",
       "         5.5849,  5.0620,  7.1543,  3.3516, -2.1557, -0.6416,  8.9918,  1.9920,\n",
       "         3.7228,  4.7030, 10.0755,  8.0976, -0.9149, -1.1017, -0.4789,  3.3870,\n",
       "        -6.6093,  6.3381,  8.4247,  1.1059, -0.9896,  7.0078,  5.3639,  2.4786,\n",
       "        10.6107, 11.5087,  2.0551,  6.2164, 10.1224,  4.4508,  5.0318, -4.0304,\n",
       "         0.4218, 11.1180, 10.1322,  0.0454,  5.1627,  2.0735, 12.0806,  5.7294,\n",
       "         7.7192, 10.1109,  3.7428,  6.9195, -0.3446,  2.0047,  0.3345,  4.6399,\n",
       "        -4.2132,  5.6435,  1.1310,  5.3990,  2.4570,  1.3365,  3.8406,  1.8649,\n",
       "        10.0662,  4.8255, -0.8826,  2.8942,  5.7565,  5.4285,  6.4011,  3.8958,\n",
       "         6.8650,  2.6758, 12.5061,  4.7457,  8.2448,  3.6151,  4.6868, -3.9164,\n",
       "         9.1721,  2.9838,  9.6947,  2.7252,  6.6795,  8.7181,  2.1376,  5.2051,\n",
       "         4.4251, -2.4480, -0.4130,  3.3508,  3.6610,  1.0908,  7.5446,  8.8303,\n",
       "        -1.0985, -3.7453,  2.3368,  5.9826, 10.6999,  5.2067, 10.6721,  5.7538,\n",
       "         1.0504, -1.6121,  3.9819,  8.6071, -3.7013,  2.1878,  8.6469,  9.3013,\n",
       "         1.7881,  4.5567,  6.1893, -2.9775,  3.9542, 12.5391,  2.9153,  6.2147,\n",
       "         6.1848,  9.2559,  3.5677, 10.9019,  4.4697,  7.3910,  3.8718,  0.5146,\n",
       "         3.1943,  6.0024, -0.5295,  0.9536,  5.8951,  0.3724, -2.3700,  0.1314,\n",
       "         2.0675,  4.0915,  4.5090, -0.0866,  9.0442, -3.1044,  1.1911,  7.7323,\n",
       "         0.4736,  2.1889,  7.9722,  9.6585,  5.2195,  6.9869, 12.0578,  1.1630,\n",
       "         0.3090, -2.2395,  7.1198,  6.9115,  2.7901, -2.4794,  7.5527, -1.6009,\n",
       "         2.0844,  3.9567,  3.9209, -0.9817,  8.9539, 10.9100, -3.9031,  2.2445,\n",
       "        -0.5743,  5.8629, 10.5077,  8.4700,  3.0998, 11.4446,  4.7835,  6.2912,\n",
       "         8.3623,  4.9990,  0.7302,  2.0993,  5.4044,  0.3892, 10.3172,  1.4370,\n",
       "         4.6112,  4.0745,  6.6763,  1.9042,  5.4890,  9.2475, -8.7397, 12.1426,\n",
       "         3.7018, -1.4717,  5.0933, 11.2405,  2.5702,  3.0863, -3.6466,  2.3728,\n",
       "        -3.8949,  2.5777, -0.6653,  2.5912,  4.3537,  2.0508,  4.6072,  1.8070,\n",
       "         9.5450,  8.4122,  7.1901,  0.9695,  0.4057,  6.1165,  4.8381,  4.2795,\n",
       "         8.1215,  3.5454,  3.5103,  9.4634,  2.1605, -5.3230, -0.0609,  7.7422,\n",
       "         6.7181,  0.9391, -1.1051,  0.8826, -0.3856,  9.2045,  5.9263,  0.7518,\n",
       "         0.7823,  8.0848, -1.9422,  4.2964, 12.1832,  0.6730,  5.8047,  3.4082,\n",
       "        11.5641,  8.5760,  3.5317, -0.8457,  3.2603,  1.6787,  2.5130,  8.1342,\n",
       "        11.8585,  3.0990,  7.8888,  7.7276,  0.7303, -0.4501,  7.8972,  0.9202,\n",
       "         4.5645,  6.3175,  3.2861, 12.5942,  8.3409,  7.8951,  1.8671, -5.0875,\n",
       "         1.5076,  0.8663,  4.4692,  2.0666,  7.3240,  3.5567,  8.5152,  5.6724])"
      ]
     },
     "execution_count": 201,
     "metadata": {},
     "output_type": "execute_result"
    }
   ],
   "source": [
    "labels"
   ]
  },
  {
   "cell_type": "code",
   "execution_count": 202,
   "metadata": {},
   "outputs": [
    {
     "data": {
      "text/plain": [
       "tensor([1.4205, 1.8216])"
      ]
     },
     "execution_count": 202,
     "metadata": {},
     "output_type": "execute_result"
    }
   ],
   "source": [
    "features[0]"
   ]
  },
  {
   "cell_type": "code",
   "execution_count": 203,
   "metadata": {},
   "outputs": [
    {
     "data": {
      "text/plain": [
       "tensor(0.8375)"
      ]
     },
     "execution_count": 203,
     "metadata": {},
     "output_type": "execute_result"
    }
   ],
   "source": [
    "labels[0]"
   ]
  },
  {
   "cell_type": "code",
   "execution_count": 204,
   "metadata": {},
   "outputs": [
    {
     "data": {
      "text/plain": [
       "tensor([[ 1.0518,  2.6231],\n",
       "        [-0.2873,  0.0723],\n",
       "        [-0.0828, -0.0981],\n",
       "        [-0.2817, -0.0809],\n",
       "        [-1.3029,  0.2625]])"
      ]
     },
     "execution_count": 204,
     "metadata": {},
     "output_type": "execute_result"
    }
   ],
   "source": [
    "features.index_select(0,torch.LongTensor([1,2,4,5,6]))"
   ]
  },
  {
   "cell_type": "code",
   "execution_count": 205,
   "metadata": {},
   "outputs": [],
   "source": [
    "# 生成 features[:,1] 和标签 labels 的散点图。观察两者的线性关系"
   ]
  },
  {
   "cell_type": "code",
   "execution_count": 206,
   "metadata": {},
   "outputs": [],
   "source": [
    "def use_svg_display():\n",
    "    # 用矢量图显示\n",
    "    display.set_matplotlib_formats('svg')\n",
    "def set_figsize(figsize=(3.5,2.5)):\n",
    "    use_svg_display()\n",
    "    # 设置图的尺寸\n",
    "    plt.rcParams['figure.figsize'] = figsize"
   ]
  },
  {
   "cell_type": "code",
   "execution_count": 207,
   "metadata": {},
   "outputs": [],
   "source": [
    "set_figsize()"
   ]
  },
  {
   "cell_type": "code",
   "execution_count": 208,
   "metadata": {},
   "outputs": [
    {
     "data": {
      "text/plain": [
       "<matplotlib.collections.PathCollection at 0x7fcdd5969190>"
      ]
     },
     "execution_count": 208,
     "metadata": {},
     "output_type": "execute_result"
    },
    {
     "data": {
      "image/svg+xml": [
       "<?xml version=\"1.0\" encoding=\"utf-8\" standalone=\"no\"?>\n",
       "<!DOCTYPE svg PUBLIC \"-//W3C//DTD SVG 1.1//EN\"\n",
       "  \"http://www.w3.org/Graphics/SVG/1.1/DTD/svg11.dtd\">\n",
       "<svg xmlns:xlink=\"http://www.w3.org/1999/xlink\" width=\"237.804688pt\" height=\"168.984308pt\" viewBox=\"0 0 237.804688 168.984308\" xmlns=\"http://www.w3.org/2000/svg\" version=\"1.1\">\n",
       " <metadata>\n",
       "  <rdf:RDF xmlns:dc=\"http://purl.org/dc/elements/1.1/\" xmlns:cc=\"http://creativecommons.org/ns#\" xmlns:rdf=\"http://www.w3.org/1999/02/22-rdf-syntax-ns#\">\n",
       "   <cc:Work>\n",
       "    <dc:type rdf:resource=\"http://purl.org/dc/dcmitype/StillImage\"/>\n",
       "    <dc:date>2023-01-05T18:54:11.052975</dc:date>\n",
       "    <dc:format>image/svg+xml</dc:format>\n",
       "    <dc:creator>\n",
       "     <cc:Agent>\n",
       "      <dc:title>Matplotlib v3.5.1, https://matplotlib.org/</dc:title>\n",
       "     </cc:Agent>\n",
       "    </dc:creator>\n",
       "   </cc:Work>\n",
       "  </rdf:RDF>\n",
       " </metadata>\n",
       " <defs>\n",
       "  <style type=\"text/css\">*{stroke-linejoin: round; stroke-linecap: butt}</style>\n",
       " </defs>\n",
       " <g id=\"figure_1\">\n",
       "  <g id=\"patch_1\">\n",
       "   <path d=\"M 0 168.984308 \n",
       "L 237.804688 168.984308 \n",
       "L 237.804688 0 \n",
       "L 0 0 \n",
       "L 0 168.984308 \n",
       "z\n",
       "\" style=\"fill: none\"/>\n",
       "  </g>\n",
       "  <g id=\"axes_1\">\n",
       "   <g id=\"patch_2\">\n",
       "    <path d=\"M 35.304688 145.106183 \n",
       "L 230.604688 145.106183 \n",
       "L 230.604688 9.206183 \n",
       "L 35.304688 9.206183 \n",
       "z\n",
       "\" style=\"fill: #ffffff\"/>\n",
       "   </g>\n",
       "   <g id=\"PathCollection_1\">\n",
       "    <defs>\n",
       "     <path id=\"mbc0223f3f5\" d=\"M 0 0.5 \n",
       "C 0.132602 0.5 0.25979 0.447317 0.353553 0.353553 \n",
       "C 0.447317 0.25979 0.5 0.132602 0.5 0 \n",
       "C 0.5 -0.132602 0.447317 -0.25979 0.353553 -0.353553 \n",
       "C 0.25979 -0.447317 0.132602 -0.5 0 -0.5 \n",
       "C -0.132602 -0.5 -0.25979 -0.447317 -0.353553 -0.353553 \n",
       "C -0.447317 -0.25979 -0.5 -0.132602 -0.5 0 \n",
       "C -0.5 0.132602 -0.447317 0.25979 -0.353553 0.353553 \n",
       "C -0.25979 0.447317 -0.132602 0.5 0 0.5 \n",
       "z\n",
       "\" style=\"stroke: #1f77b4\"/>\n",
       "    </defs>\n",
       "    <g clip-path=\"url(#p76417491e0)\">\n",
       "     <use xlink:href=\"#mbc0223f3f5\" x=\"183.177309\" y=\"96.297648\" style=\"fill: #1f77b4; stroke: #1f77b4\"/>\n",
       "     <use xlink:href=\"#mbc0223f3f5\" x=\"203.672942\" y=\"111.648576\" style=\"fill: #1f77b4; stroke: #1f77b4\"/>\n",
       "     <use xlink:href=\"#mbc0223f3f5\" x=\"138.444848\" y=\"84.956083\" style=\"fill: #1f77b4; stroke: #1f77b4\"/>\n",
       "     <use xlink:href=\"#mbc0223f3f5\" x=\"138.421327\" y=\"76.979603\" style=\"fill: #1f77b4; stroke: #1f77b4\"/>\n",
       "     <use xlink:href=\"#mbc0223f3f5\" x=\"134.088116\" y=\"80.621066\" style=\"fill: #1f77b4; stroke: #1f77b4\"/>\n",
       "     <use xlink:href=\"#mbc0223f3f5\" x=\"134.527586\" y=\"82.630023\" style=\"fill: #1f77b4; stroke: #1f77b4\"/>\n",
       "     <use xlink:href=\"#mbc0223f3f5\" x=\"143.308876\" y=\"96.979197\" style=\"fill: #1f77b4; stroke: #1f77b4\"/>\n",
       "     <use xlink:href=\"#mbc0223f3f5\" x=\"136.900456\" y=\"83.690803\" style=\"fill: #1f77b4; stroke: #1f77b4\"/>\n",
       "     <use xlink:href=\"#mbc0223f3f5\" x=\"163.445075\" y=\"90.993775\" style=\"fill: #1f77b4; stroke: #1f77b4\"/>\n",
       "     <use xlink:href=\"#mbc0223f3f5\" x=\"156.775337\" y=\"94.647466\" style=\"fill: #1f77b4; stroke: #1f77b4\"/>\n",
       "     <use xlink:href=\"#mbc0223f3f5\" x=\"170.906191\" y=\"101.078458\" style=\"fill: #1f77b4; stroke: #1f77b4\"/>\n",
       "     <use xlink:href=\"#mbc0223f3f5\" x=\"147.819146\" y=\"84.610753\" style=\"fill: #1f77b4; stroke: #1f77b4\"/>\n",
       "     <use xlink:href=\"#mbc0223f3f5\" x=\"158.949117\" y=\"93.330533\" style=\"fill: #1f77b4; stroke: #1f77b4\"/>\n",
       "     <use xlink:href=\"#mbc0223f3f5\" x=\"127.028292\" y=\"75.978129\" style=\"fill: #1f77b4; stroke: #1f77b4\"/>\n",
       "     <use xlink:href=\"#mbc0223f3f5\" x=\"145.971022\" y=\"82.152088\" style=\"fill: #1f77b4; stroke: #1f77b4\"/>\n",
       "     <use xlink:href=\"#mbc0223f3f5\" x=\"168.398029\" y=\"102.365638\" style=\"fill: #1f77b4; stroke: #1f77b4\"/>\n",
       "     <use xlink:href=\"#mbc0223f3f5\" x=\"136.989476\" y=\"99.102491\" style=\"fill: #1f77b4; stroke: #1f77b4\"/>\n",
       "     <use xlink:href=\"#mbc0223f3f5\" x=\"153.519763\" y=\"78.490143\" style=\"fill: #1f77b4; stroke: #1f77b4\"/>\n",
       "     <use xlink:href=\"#mbc0223f3f5\" x=\"153.148756\" y=\"72.172304\" style=\"fill: #1f77b4; stroke: #1f77b4\"/>\n",
       "     <use xlink:href=\"#mbc0223f3f5\" x=\"158.910955\" y=\"84.034088\" style=\"fill: #1f77b4; stroke: #1f77b4\"/>\n",
       "     <use xlink:href=\"#mbc0223f3f5\" x=\"142.632365\" y=\"76.100575\" style=\"fill: #1f77b4; stroke: #1f77b4\"/>\n",
       "     <use xlink:href=\"#mbc0223f3f5\" x=\"119.595593\" y=\"54.734996\" style=\"fill: #1f77b4; stroke: #1f77b4\"/>\n",
       "     <use xlink:href=\"#mbc0223f3f5\" x=\"103.966279\" y=\"71.838611\" style=\"fill: #1f77b4; stroke: #1f77b4\"/>\n",
       "     <use xlink:href=\"#mbc0223f3f5\" x=\"107.785557\" y=\"46.717411\" style=\"fill: #1f77b4; stroke: #1f77b4\"/>\n",
       "     <use xlink:href=\"#mbc0223f3f5\" x=\"98.427421\" y=\"58.001919\" style=\"fill: #1f77b4; stroke: #1f77b4\"/>\n",
       "     <use xlink:href=\"#mbc0223f3f5\" x=\"149.218402\" y=\"81.737291\" style=\"fill: #1f77b4; stroke: #1f77b4\"/>\n",
       "     <use xlink:href=\"#mbc0223f3f5\" x=\"138.830267\" y=\"77.094223\" style=\"fill: #1f77b4; stroke: #1f77b4\"/>\n",
       "     <use xlink:href=\"#mbc0223f3f5\" x=\"221.727415\" y=\"130.353402\" style=\"fill: #1f77b4; stroke: #1f77b4\"/>\n",
       "     <use xlink:href=\"#mbc0223f3f5\" x=\"104.278066\" y=\"59.507937\" style=\"fill: #1f77b4; stroke: #1f77b4\"/>\n",
       "     <use xlink:href=\"#mbc0223f3f5\" x=\"124.175238\" y=\"82.529576\" style=\"fill: #1f77b4; stroke: #1f77b4\"/>\n",
       "     <use xlink:href=\"#mbc0223f3f5\" x=\"179.637427\" y=\"98.858522\" style=\"fill: #1f77b4; stroke: #1f77b4\"/>\n",
       "     <use xlink:href=\"#mbc0223f3f5\" x=\"141.091728\" y=\"89.764524\" style=\"fill: #1f77b4; stroke: #1f77b4\"/>\n",
       "     <use xlink:href=\"#mbc0223f3f5\" x=\"160.932492\" y=\"103.174178\" style=\"fill: #1f77b4; stroke: #1f77b4\"/>\n",
       "     <use xlink:href=\"#mbc0223f3f5\" x=\"134.714477\" y=\"77.127855\" style=\"fill: #1f77b4; stroke: #1f77b4\"/>\n",
       "     <use xlink:href=\"#mbc0223f3f5\" x=\"111.383916\" y=\"75.062628\" style=\"fill: #1f77b4; stroke: #1f77b4\"/>\n",
       "     <use xlink:href=\"#mbc0223f3f5\" x=\"179.580814\" y=\"114.108276\" style=\"fill: #1f77b4; stroke: #1f77b4\"/>\n",
       "     <use xlink:href=\"#mbc0223f3f5\" x=\"149.044917\" y=\"84.648223\" style=\"fill: #1f77b4; stroke: #1f77b4\"/>\n",
       "     <use xlink:href=\"#mbc0223f3f5\" x=\"201.028663\" y=\"120.524335\" style=\"fill: #1f77b4; stroke: #1f77b4\"/>\n",
       "     <use xlink:href=\"#mbc0223f3f5\" x=\"132.109851\" y=\"87.175973\" style=\"fill: #1f77b4; stroke: #1f77b4\"/>\n",
       "     <use xlink:href=\"#mbc0223f3f5\" x=\"161.612391\" y=\"97.296754\" style=\"fill: #1f77b4; stroke: #1f77b4\"/>\n",
       "     <use xlink:href=\"#mbc0223f3f5\" x=\"165.148728\" y=\"111.133988\" style=\"fill: #1f77b4; stroke: #1f77b4\"/>\n",
       "     <use xlink:href=\"#mbc0223f3f5\" x=\"139.770591\" y=\"89.714691\" style=\"fill: #1f77b4; stroke: #1f77b4\"/>\n",
       "     <use xlink:href=\"#mbc0223f3f5\" x=\"143.338959\" y=\"86.931564\" style=\"fill: #1f77b4; stroke: #1f77b4\"/>\n",
       "     <use xlink:href=\"#mbc0223f3f5\" x=\"113.737692\" y=\"68.326225\" style=\"fill: #1f77b4; stroke: #1f77b4\"/>\n",
       "     <use xlink:href=\"#mbc0223f3f5\" x=\"188.648294\" y=\"106.430139\" style=\"fill: #1f77b4; stroke: #1f77b4\"/>\n",
       "     <use xlink:href=\"#mbc0223f3f5\" x=\"118.501928\" y=\"86.431151\" style=\"fill: #1f77b4; stroke: #1f77b4\"/>\n",
       "     <use xlink:href=\"#mbc0223f3f5\" x=\"137.956439\" y=\"93.023282\" style=\"fill: #1f77b4; stroke: #1f77b4\"/>\n",
       "     <use xlink:href=\"#mbc0223f3f5\" x=\"102.339875\" y=\"43.770843\" style=\"fill: #1f77b4; stroke: #1f77b4\"/>\n",
       "     <use xlink:href=\"#mbc0223f3f5\" x=\"180.623994\" y=\"118.307139\" style=\"fill: #1f77b4; stroke: #1f77b4\"/>\n",
       "     <use xlink:href=\"#mbc0223f3f5\" x=\"102.524181\" y=\"58.171036\" style=\"fill: #1f77b4; stroke: #1f77b4\"/>\n",
       "     <use xlink:href=\"#mbc0223f3f5\" x=\"161.308779\" y=\"113.799343\" style=\"fill: #1f77b4; stroke: #1f77b4\"/>\n",
       "     <use xlink:href=\"#mbc0223f3f5\" x=\"134.147364\" y=\"83.481147\" style=\"fill: #1f77b4; stroke: #1f77b4\"/>\n",
       "     <use xlink:href=\"#mbc0223f3f5\" x=\"76.981279\" y=\"48.673939\" style=\"fill: #1f77b4; stroke: #1f77b4\"/>\n",
       "     <use xlink:href=\"#mbc0223f3f5\" x=\"180.339056\" y=\"107.561717\" style=\"fill: #1f77b4; stroke: #1f77b4\"/>\n",
       "     <use xlink:href=\"#mbc0223f3f5\" x=\"80.844011\" y=\"42.472525\" style=\"fill: #1f77b4; stroke: #1f77b4\"/>\n",
       "     <use xlink:href=\"#mbc0223f3f5\" x=\"156.097789\" y=\"96.507348\" style=\"fill: #1f77b4; stroke: #1f77b4\"/>\n",
       "     <use xlink:href=\"#mbc0223f3f5\" x=\"144.346247\" y=\"86.390973\" style=\"fill: #1f77b4; stroke: #1f77b4\"/>\n",
       "     <use xlink:href=\"#mbc0223f3f5\" x=\"167.898487\" y=\"106.938097\" style=\"fill: #1f77b4; stroke: #1f77b4\"/>\n",
       "     <use xlink:href=\"#mbc0223f3f5\" x=\"139.817471\" y=\"85.075438\" style=\"fill: #1f77b4; stroke: #1f77b4\"/>\n",
       "     <use xlink:href=\"#mbc0223f3f5\" x=\"119.142008\" y=\"52.585163\" style=\"fill: #1f77b4; stroke: #1f77b4\"/>\n",
       "     <use xlink:href=\"#mbc0223f3f5\" x=\"182.857114\" y=\"101.306479\" style=\"fill: #1f77b4; stroke: #1f77b4\"/>\n",
       "     <use xlink:href=\"#mbc0223f3f5\" x=\"129.424613\" y=\"89.965276\" style=\"fill: #1f77b4; stroke: #1f77b4\"/>\n",
       "     <use xlink:href=\"#mbc0223f3f5\" x=\"152.098069\" y=\"111.378346\" style=\"fill: #1f77b4; stroke: #1f77b4\"/>\n",
       "     <use xlink:href=\"#mbc0223f3f5\" x=\"156.754749\" y=\"91.293759\" style=\"fill: #1f77b4; stroke: #1f77b4\"/>\n",
       "     <use xlink:href=\"#mbc0223f3f5\" x=\"152.712553\" y=\"96.681905\" style=\"fill: #1f77b4; stroke: #1f77b4\"/>\n",
       "     <use xlink:href=\"#mbc0223f3f5\" x=\"121.860722\" y=\"85.179049\" style=\"fill: #1f77b4; stroke: #1f77b4\"/>\n",
       "     <use xlink:href=\"#mbc0223f3f5\" x=\"143.740691\" y=\"84.636154\" style=\"fill: #1f77b4; stroke: #1f77b4\"/>\n",
       "     <use xlink:href=\"#mbc0223f3f5\" x=\"117.129485\" y=\"73.856584\" style=\"fill: #1f77b4; stroke: #1f77b4\"/>\n",
       "     <use xlink:href=\"#mbc0223f3f5\" x=\"153.011149\" y=\"89.401255\" style=\"fill: #1f77b4; stroke: #1f77b4\"/>\n",
       "     <use xlink:href=\"#mbc0223f3f5\" x=\"120.800413\" y=\"64.140025\" style=\"fill: #1f77b4; stroke: #1f77b4\"/>\n",
       "     <use xlink:href=\"#mbc0223f3f5\" x=\"145.102925\" y=\"85.860756\" style=\"fill: #1f77b4; stroke: #1f77b4\"/>\n",
       "     <use xlink:href=\"#mbc0223f3f5\" x=\"165.567199\" y=\"96.821401\" style=\"fill: #1f77b4; stroke: #1f77b4\"/>\n",
       "     <use xlink:href=\"#mbc0223f3f5\" x=\"153.674384\" y=\"86.931435\" style=\"fill: #1f77b4; stroke: #1f77b4\"/>\n",
       "     <use xlink:href=\"#mbc0223f3f5\" x=\"183.563343\" y=\"106.575561\" style=\"fill: #1f77b4; stroke: #1f77b4\"/>\n",
       "     <use xlink:href=\"#mbc0223f3f5\" x=\"148.284536\" y=\"75.860397\" style=\"fill: #1f77b4; stroke: #1f77b4\"/>\n",
       "     <use xlink:href=\"#mbc0223f3f5\" x=\"121.83593\" y=\"60.659989\" style=\"fill: #1f77b4; stroke: #1f77b4\"/>\n",
       "     <use xlink:href=\"#mbc0223f3f5\" x=\"137.242378\" y=\"82.488629\" style=\"fill: #1f77b4; stroke: #1f77b4\"/>\n",
       "     <use xlink:href=\"#mbc0223f3f5\" x=\"149.989764\" y=\"80.101941\" style=\"fill: #1f77b4; stroke: #1f77b4\"/>\n",
       "     <use xlink:href=\"#mbc0223f3f5\" x=\"164.528077\" y=\"94.090504\" style=\"fill: #1f77b4; stroke: #1f77b4\"/>\n",
       "     <use xlink:href=\"#mbc0223f3f5\" x=\"94.270594\" y=\"48.804306\" style=\"fill: #1f77b4; stroke: #1f77b4\"/>\n",
       "     <use xlink:href=\"#mbc0223f3f5\" x=\"166.605446\" y=\"98.269427\" style=\"fill: #1f77b4; stroke: #1f77b4\"/>\n",
       "     <use xlink:href=\"#mbc0223f3f5\" x=\"143.742559\" y=\"84.958509\" style=\"fill: #1f77b4; stroke: #1f77b4\"/>\n",
       "     <use xlink:href=\"#mbc0223f3f5\" x=\"121.687729\" y=\"69.312363\" style=\"fill: #1f77b4; stroke: #1f77b4\"/>\n",
       "     <use xlink:href=\"#mbc0223f3f5\" x=\"162.447044\" y=\"84.865661\" style=\"fill: #1f77b4; stroke: #1f77b4\"/>\n",
       "     <use xlink:href=\"#mbc0223f3f5\" x=\"147.400116\" y=\"86.794544\" style=\"fill: #1f77b4; stroke: #1f77b4\"/>\n",
       "     <use xlink:href=\"#mbc0223f3f5\" x=\"105.363144\" y=\"65.221746\" style=\"fill: #1f77b4; stroke: #1f77b4\"/>\n",
       "     <use xlink:href=\"#mbc0223f3f5\" x=\"139.193939\" y=\"79.573885\" style=\"fill: #1f77b4; stroke: #1f77b4\"/>\n",
       "     <use xlink:href=\"#mbc0223f3f5\" x=\"149.947661\" y=\"83.317146\" style=\"fill: #1f77b4; stroke: #1f77b4\"/>\n",
       "     <use xlink:href=\"#mbc0223f3f5\" x=\"126.356175\" y=\"70.902681\" style=\"fill: #1f77b4; stroke: #1f77b4\"/>\n",
       "     <use xlink:href=\"#mbc0223f3f5\" x=\"133.842735\" y=\"92.78793\" style=\"fill: #1f77b4; stroke: #1f77b4\"/>\n",
       "     <use xlink:href=\"#mbc0223f3f5\" x=\"125.758266\" y=\"77.749465\" style=\"fill: #1f77b4; stroke: #1f77b4\"/>\n",
       "     <use xlink:href=\"#mbc0223f3f5\" x=\"44.18196\" y=\"15.383456\" style=\"fill: #1f77b4; stroke: #1f77b4\"/>\n",
       "     <use xlink:href=\"#mbc0223f3f5\" x=\"142.714793\" y=\"73.380182\" style=\"fill: #1f77b4; stroke: #1f77b4\"/>\n",
       "     <use xlink:href=\"#mbc0223f3f5\" x=\"169.440767\" y=\"89.113848\" style=\"fill: #1f77b4; stroke: #1f77b4\"/>\n",
       "     <use xlink:href=\"#mbc0223f3f5\" x=\"130.097131\" y=\"57.790372\" style=\"fill: #1f77b4; stroke: #1f77b4\"/>\n",
       "     <use xlink:href=\"#mbc0223f3f5\" x=\"123.603862\" y=\"81.338543\" style=\"fill: #1f77b4; stroke: #1f77b4\"/>\n",
       "     <use xlink:href=\"#mbc0223f3f5\" x=\"152.481912\" y=\"85.942586\" style=\"fill: #1f77b4; stroke: #1f77b4\"/>\n",
       "     <use xlink:href=\"#mbc0223f3f5\" x=\"147.454235\" y=\"72.465994\" style=\"fill: #1f77b4; stroke: #1f77b4\"/>\n",
       "     <use xlink:href=\"#mbc0223f3f5\" x=\"90.019329\" y=\"60.106813\" style=\"fill: #1f77b4; stroke: #1f77b4\"/>\n",
       "     <use xlink:href=\"#mbc0223f3f5\" x=\"152.341999\" y=\"88.750433\" style=\"fill: #1f77b4; stroke: #1f77b4\"/>\n",
       "     <use xlink:href=\"#mbc0223f3f5\" x=\"108.307846\" y=\"59.678332\" style=\"fill: #1f77b4; stroke: #1f77b4\"/>\n",
       "     <use xlink:href=\"#mbc0223f3f5\" x=\"163.221267\" y=\"111.058818\" style=\"fill: #1f77b4; stroke: #1f77b4\"/>\n",
       "     <use xlink:href=\"#mbc0223f3f5\" x=\"147.364686\" y=\"93.433171\" style=\"fill: #1f77b4; stroke: #1f77b4\"/>\n",
       "     <use xlink:href=\"#mbc0223f3f5\" x=\"143.386435\" y=\"98.535412\" style=\"fill: #1f77b4; stroke: #1f77b4\"/>\n",
       "     <use xlink:href=\"#mbc0223f3f5\" x=\"108.099432\" y=\"72.414783\" style=\"fill: #1f77b4; stroke: #1f77b4\"/>\n",
       "     <use xlink:href=\"#mbc0223f3f5\" x=\"176.090385\" y=\"96.624514\" style=\"fill: #1f77b4; stroke: #1f77b4\"/>\n",
       "     <use xlink:href=\"#mbc0223f3f5\" x=\"180.83912\" y=\"97.183506\" style=\"fill: #1f77b4; stroke: #1f77b4\"/>\n",
       "     <use xlink:href=\"#mbc0223f3f5\" x=\"121.994249\" y=\"74.014704\" style=\"fill: #1f77b4; stroke: #1f77b4\"/>\n",
       "     <use xlink:href=\"#mbc0223f3f5\" x=\"143.773065\" y=\"97.783099\" style=\"fill: #1f77b4; stroke: #1f77b4\"/>\n",
       "     <use xlink:href=\"#mbc0223f3f5\" x=\"118.287503\" y=\"80.54805\" style=\"fill: #1f77b4; stroke: #1f77b4\"/>\n",
       "     <use xlink:href=\"#mbc0223f3f5\" x=\"131.432495\" y=\"88.687724\" style=\"fill: #1f77b4; stroke: #1f77b4\"/>\n",
       "     <use xlink:href=\"#mbc0223f3f5\" x=\"123.509664\" y=\"73.328271\" style=\"fill: #1f77b4; stroke: #1f77b4\"/>\n",
       "     <use xlink:href=\"#mbc0223f3f5\" x=\"79.16703\" y=\"50.101278\" style=\"fill: #1f77b4; stroke: #1f77b4\"/>\n",
       "     <use xlink:href=\"#mbc0223f3f5\" x=\"160.368829\" y=\"91.373914\" style=\"fill: #1f77b4; stroke: #1f77b4\"/>\n",
       "     <use xlink:href=\"#mbc0223f3f5\" x=\"124.117519\" y=\"76.815567\" style=\"fill: #1f77b4; stroke: #1f77b4\"/>\n",
       "     <use xlink:href=\"#mbc0223f3f5\" x=\"101.929641\" y=\"52.629215\" style=\"fill: #1f77b4; stroke: #1f77b4\"/>\n",
       "     <use xlink:href=\"#mbc0223f3f5\" x=\"128.74473\" y=\"77.366454\" style=\"fill: #1f77b4; stroke: #1f77b4\"/>\n",
       "     <use xlink:href=\"#mbc0223f3f5\" x=\"136.927753\" y=\"70.537801\" style=\"fill: #1f77b4; stroke: #1f77b4\"/>\n",
       "     <use xlink:href=\"#mbc0223f3f5\" x=\"143.86009\" y=\"64.020805\" style=\"fill: #1f77b4; stroke: #1f77b4\"/>\n",
       "     <use xlink:href=\"#mbc0223f3f5\" x=\"156.026566\" y=\"104.163149\" style=\"fill: #1f77b4; stroke: #1f77b4\"/>\n",
       "     <use xlink:href=\"#mbc0223f3f5\" x=\"162.066335\" y=\"91.19517\" style=\"fill: #1f77b4; stroke: #1f77b4\"/>\n",
       "     <use xlink:href=\"#mbc0223f3f5\" x=\"203.990201\" y=\"126.565621\" style=\"fill: #1f77b4; stroke: #1f77b4\"/>\n",
       "     <use xlink:href=\"#mbc0223f3f5\" x=\"168.447277\" y=\"95.849278\" style=\"fill: #1f77b4; stroke: #1f77b4\"/>\n",
       "     <use xlink:href=\"#mbc0223f3f5\" x=\"128.284312\" y=\"81.529843\" style=\"fill: #1f77b4; stroke: #1f77b4\"/>\n",
       "     <use xlink:href=\"#mbc0223f3f5\" x=\"97.505679\" y=\"52.708824\" style=\"fill: #1f77b4; stroke: #1f77b4\"/>\n",
       "     <use xlink:href=\"#mbc0223f3f5\" x=\"87.084464\" y=\"46.792215\" style=\"fill: #1f77b4; stroke: #1f77b4\"/>\n",
       "     <use xlink:href=\"#mbc0223f3f5\" x=\"149.747183\" y=\"62.219484\" style=\"fill: #1f77b4; stroke: #1f77b4\"/>\n",
       "     <use xlink:href=\"#mbc0223f3f5\" x=\"136.134603\" y=\"90.852526\" style=\"fill: #1f77b4; stroke: #1f77b4\"/>\n",
       "     <use xlink:href=\"#mbc0223f3f5\" x=\"136.251795\" y=\"62.760952\" style=\"fill: #1f77b4; stroke: #1f77b4\"/>\n",
       "     <use xlink:href=\"#mbc0223f3f5\" x=\"154.607551\" y=\"98.938927\" style=\"fill: #1f77b4; stroke: #1f77b4\"/>\n",
       "     <use xlink:href=\"#mbc0223f3f5\" x=\"153.041778\" y=\"101.629121\" style=\"fill: #1f77b4; stroke: #1f77b4\"/>\n",
       "     <use xlink:href=\"#mbc0223f3f5\" x=\"119.330571\" y=\"69.808552\" style=\"fill: #1f77b4; stroke: #1f77b4\"/>\n",
       "     <use xlink:href=\"#mbc0223f3f5\" x=\"148.405178\" y=\"94.486324\" style=\"fill: #1f77b4; stroke: #1f77b4\"/>\n",
       "     <use xlink:href=\"#mbc0223f3f5\" x=\"165.757421\" y=\"107.437033\" style=\"fill: #1f77b4; stroke: #1f77b4\"/>\n",
       "     <use xlink:href=\"#mbc0223f3f5\" x=\"158.523642\" y=\"89.919368\" style=\"fill: #1f77b4; stroke: #1f77b4\"/>\n",
       "     <use xlink:href=\"#mbc0223f3f5\" x=\"138.575564\" y=\"75.304958\" style=\"fill: #1f77b4; stroke: #1f77b4\"/>\n",
       "     <use xlink:href=\"#mbc0223f3f5\" x=\"121.679707\" y=\"53.503467\" style=\"fill: #1f77b4; stroke: #1f77b4\"/>\n",
       "     <use xlink:href=\"#mbc0223f3f5\" x=\"104.254515\" y=\"59.74577\" style=\"fill: #1f77b4; stroke: #1f77b4\"/>\n",
       "     <use xlink:href=\"#mbc0223f3f5\" x=\"105.073515\" y=\"54.830346\" style=\"fill: #1f77b4; stroke: #1f77b4\"/>\n",
       "     <use xlink:href=\"#mbc0223f3f5\" x=\"159.759715\" y=\"94.580979\" style=\"fill: #1f77b4; stroke: #1f77b4\"/>\n",
       "     <use xlink:href=\"#mbc0223f3f5\" x=\"178.375345\" y=\"104.78074\" style=\"fill: #1f77b4; stroke: #1f77b4\"/>\n",
       "     <use xlink:href=\"#mbc0223f3f5\" x=\"132.159692\" y=\"84.729355\" style=\"fill: #1f77b4; stroke: #1f77b4\"/>\n",
       "     <use xlink:href=\"#mbc0223f3f5\" x=\"115.450842\" y=\"57.464797\" style=\"fill: #1f77b4; stroke: #1f77b4\"/>\n",
       "     <use xlink:href=\"#mbc0223f3f5\" x=\"116.187596\" y=\"53.009009\" style=\"fill: #1f77b4; stroke: #1f77b4\"/>\n",
       "     <use xlink:href=\"#mbc0223f3f5\" x=\"99.437739\" y=\"60.086321\" style=\"fill: #1f77b4; stroke: #1f77b4\"/>\n",
       "     <use xlink:href=\"#mbc0223f3f5\" x=\"160.582359\" y=\"101.1746\" style=\"fill: #1f77b4; stroke: #1f77b4\"/>\n",
       "     <use xlink:href=\"#mbc0223f3f5\" x=\"155.51856\" y=\"89.80065\" style=\"fill: #1f77b4; stroke: #1f77b4\"/>\n",
       "     <use xlink:href=\"#mbc0223f3f5\" x=\"152.942783\" y=\"81.063515\" style=\"fill: #1f77b4; stroke: #1f77b4\"/>\n",
       "     <use xlink:href=\"#mbc0223f3f5\" x=\"158.771571\" y=\"103.133496\" style=\"fill: #1f77b4; stroke: #1f77b4\"/>\n",
       "     <use xlink:href=\"#mbc0223f3f5\" x=\"120.330482\" y=\"76.933212\" style=\"fill: #1f77b4; stroke: #1f77b4\"/>\n",
       "     <use xlink:href=\"#mbc0223f3f5\" x=\"169.78375\" y=\"89.707892\" style=\"fill: #1f77b4; stroke: #1f77b4\"/>\n",
       "     <use xlink:href=\"#mbc0223f3f5\" x=\"137.951179\" y=\"92.07384\" style=\"fill: #1f77b4; stroke: #1f77b4\"/>\n",
       "     <use xlink:href=\"#mbc0223f3f5\" x=\"113.01942\" y=\"53.007786\" style=\"fill: #1f77b4; stroke: #1f77b4\"/>\n",
       "     <use xlink:href=\"#mbc0223f3f5\" x=\"116.010904\" y=\"62.722534\" style=\"fill: #1f77b4; stroke: #1f77b4\"/>\n",
       "     <use xlink:href=\"#mbc0223f3f5\" x=\"123.777531\" y=\"86.155333\" style=\"fill: #1f77b4; stroke: #1f77b4\"/>\n",
       "     <use xlink:href=\"#mbc0223f3f5\" x=\"160.416435\" y=\"81.609169\" style=\"fill: #1f77b4; stroke: #1f77b4\"/>\n",
       "     <use xlink:href=\"#mbc0223f3f5\" x=\"148.259138\" y=\"76.702467\" style=\"fill: #1f77b4; stroke: #1f77b4\"/>\n",
       "     <use xlink:href=\"#mbc0223f3f5\" x=\"131.525704\" y=\"77.274632\" style=\"fill: #1f77b4; stroke: #1f77b4\"/>\n",
       "     <use xlink:href=\"#mbc0223f3f5\" x=\"129.008651\" y=\"95.115169\" style=\"fill: #1f77b4; stroke: #1f77b4\"/>\n",
       "     <use xlink:href=\"#mbc0223f3f5\" x=\"148.397409\" y=\"92.819946\" style=\"fill: #1f77b4; stroke: #1f77b4\"/>\n",
       "     <use xlink:href=\"#mbc0223f3f5\" x=\"132.335729\" y=\"82.845835\" style=\"fill: #1f77b4; stroke: #1f77b4\"/>\n",
       "     <use xlink:href=\"#mbc0223f3f5\" x=\"124.718646\" y=\"72.991701\" style=\"fill: #1f77b4; stroke: #1f77b4\"/>\n",
       "     <use xlink:href=\"#mbc0223f3f5\" x=\"156.874572\" y=\"100.502563\" style=\"fill: #1f77b4; stroke: #1f77b4\"/>\n",
       "     <use xlink:href=\"#mbc0223f3f5\" x=\"150.998484\" y=\"89.974961\" style=\"fill: #1f77b4; stroke: #1f77b4\"/>\n",
       "     <use xlink:href=\"#mbc0223f3f5\" x=\"115.732508\" y=\"55.357076\" style=\"fill: #1f77b4; stroke: #1f77b4\"/>\n",
       "     <use xlink:href=\"#mbc0223f3f5\" x=\"165.450419\" y=\"101.478883\" style=\"fill: #1f77b4; stroke: #1f77b4\"/>\n",
       "     <use xlink:href=\"#mbc0223f3f5\" x=\"140.860067\" y=\"68.658845\" style=\"fill: #1f77b4; stroke: #1f77b4\"/>\n",
       "     <use xlink:href=\"#mbc0223f3f5\" x=\"134.496222\" y=\"92.633396\" style=\"fill: #1f77b4; stroke: #1f77b4\"/>\n",
       "     <use xlink:href=\"#mbc0223f3f5\" x=\"116.698058\" y=\"63.69585\" style=\"fill: #1f77b4; stroke: #1f77b4\"/>\n",
       "     <use xlink:href=\"#mbc0223f3f5\" x=\"210.690039\" y=\"118.552288\" style=\"fill: #1f77b4; stroke: #1f77b4\"/>\n",
       "     <use xlink:href=\"#mbc0223f3f5\" x=\"126.405406\" y=\"81.999232\" style=\"fill: #1f77b4; stroke: #1f77b4\"/>\n",
       "     <use xlink:href=\"#mbc0223f3f5\" x=\"114.243877\" y=\"79.540758\" style=\"fill: #1f77b4; stroke: #1f77b4\"/>\n",
       "     <use xlink:href=\"#mbc0223f3f5\" x=\"144.748007\" y=\"71.113159\" style=\"fill: #1f77b4; stroke: #1f77b4\"/>\n",
       "     <use xlink:href=\"#mbc0223f3f5\" x=\"96.966115\" y=\"71.796272\" style=\"fill: #1f77b4; stroke: #1f77b4\"/>\n",
       "     <use xlink:href=\"#mbc0223f3f5\" x=\"105.934483\" y=\"74.786062\" style=\"fill: #1f77b4; stroke: #1f77b4\"/>\n",
       "     <use xlink:href=\"#mbc0223f3f5\" x=\"150.287175\" y=\"85.094516\" style=\"fill: #1f77b4; stroke: #1f77b4\"/>\n",
       "     <use xlink:href=\"#mbc0223f3f5\" x=\"97.276933\" y=\"58.068338\" style=\"fill: #1f77b4; stroke: #1f77b4\"/>\n",
       "     <use xlink:href=\"#mbc0223f3f5\" x=\"150.256429\" y=\"75.855543\" style=\"fill: #1f77b4; stroke: #1f77b4\"/>\n",
       "     <use xlink:href=\"#mbc0223f3f5\" x=\"149.040996\" y=\"95.168735\" style=\"fill: #1f77b4; stroke: #1f77b4\"/>\n",
       "     <use xlink:href=\"#mbc0223f3f5\" x=\"77.566915\" y=\"43.342234\" style=\"fill: #1f77b4; stroke: #1f77b4\"/>\n",
       "     <use xlink:href=\"#mbc0223f3f5\" x=\"119.074224\" y=\"77.177782\" style=\"fill: #1f77b4; stroke: #1f77b4\"/>\n",
       "     <use xlink:href=\"#mbc0223f3f5\" x=\"151.835132\" y=\"99.093544\" style=\"fill: #1f77b4; stroke: #1f77b4\"/>\n",
       "     <use xlink:href=\"#mbc0223f3f5\" x=\"135.16352\" y=\"90.055461\" style=\"fill: #1f77b4; stroke: #1f77b4\"/>\n",
       "     <use xlink:href=\"#mbc0223f3f5\" x=\"157.38905\" y=\"92.454144\" style=\"fill: #1f77b4; stroke: #1f77b4\"/>\n",
       "     <use xlink:href=\"#mbc0223f3f5\" x=\"113.048197\" y=\"66.822121\" style=\"fill: #1f77b4; stroke: #1f77b4\"/>\n",
       "     <use xlink:href=\"#mbc0223f3f5\" x=\"178.993987\" y=\"102.684921\" style=\"fill: #1f77b4; stroke: #1f77b4\"/>\n",
       "     <use xlink:href=\"#mbc0223f3f5\" x=\"112.767027\" y=\"58.201142\" style=\"fill: #1f77b4; stroke: #1f77b4\"/>\n",
       "     <use xlink:href=\"#mbc0223f3f5\" x=\"160.440323\" y=\"101.734348\" style=\"fill: #1f77b4; stroke: #1f77b4\"/>\n",
       "     <use xlink:href=\"#mbc0223f3f5\" x=\"105.811537\" y=\"51.817146\" style=\"fill: #1f77b4; stroke: #1f77b4\"/>\n",
       "     <use xlink:href=\"#mbc0223f3f5\" x=\"126.147457\" y=\"78.366707\" style=\"fill: #1f77b4; stroke: #1f77b4\"/>\n",
       "     <use xlink:href=\"#mbc0223f3f5\" x=\"115.399431\" y=\"58.022872\" style=\"fill: #1f77b4; stroke: #1f77b4\"/>\n",
       "     <use xlink:href=\"#mbc0223f3f5\" x=\"139.476337\" y=\"72.772262\" style=\"fill: #1f77b4; stroke: #1f77b4\"/>\n",
       "     <use xlink:href=\"#mbc0223f3f5\" x=\"129.411968\" y=\"71.811951\" style=\"fill: #1f77b4; stroke: #1f77b4\"/>\n",
       "     <use xlink:href=\"#mbc0223f3f5\" x=\"128.961376\" y=\"81.365527\" style=\"fill: #1f77b4; stroke: #1f77b4\"/>\n",
       "     <use xlink:href=\"#mbc0223f3f5\" x=\"162.41529\" y=\"95.648791\" style=\"fill: #1f77b4; stroke: #1f77b4\"/>\n",
       "     <use xlink:href=\"#mbc0223f3f5\" x=\"184.820996\" y=\"106.057805\" style=\"fill: #1f77b4; stroke: #1f77b4\"/>\n",
       "     <use xlink:href=\"#mbc0223f3f5\" x=\"141.017437\" y=\"103.852543\" style=\"fill: #1f77b4; stroke: #1f77b4\"/>\n",
       "     <use xlink:href=\"#mbc0223f3f5\" x=\"137.282548\" y=\"81.34161\" style=\"fill: #1f77b4; stroke: #1f77b4\"/>\n",
       "     <use xlink:href=\"#mbc0223f3f5\" x=\"160.149087\" y=\"104.591821\" style=\"fill: #1f77b4; stroke: #1f77b4\"/>\n",
       "     <use xlink:href=\"#mbc0223f3f5\" x=\"144.528088\" y=\"93.211996\" style=\"fill: #1f77b4; stroke: #1f77b4\"/>\n",
       "     <use xlink:href=\"#mbc0223f3f5\" x=\"137.906068\" y=\"88.934196\" style=\"fill: #1f77b4; stroke: #1f77b4\"/>\n",
       "     <use xlink:href=\"#mbc0223f3f5\" x=\"138.187139\" y=\"80.747784\" style=\"fill: #1f77b4; stroke: #1f77b4\"/>\n",
       "     <use xlink:href=\"#mbc0223f3f5\" x=\"121.321824\" y=\"74.367859\" style=\"fill: #1f77b4; stroke: #1f77b4\"/>\n",
       "     <use xlink:href=\"#mbc0223f3f5\" x=\"138.689745\" y=\"86.049338\" style=\"fill: #1f77b4; stroke: #1f77b4\"/>\n",
       "     <use xlink:href=\"#mbc0223f3f5\" x=\"102.283309\" y=\"57.314978\" style=\"fill: #1f77b4; stroke: #1f77b4\"/>\n",
       "     <use xlink:href=\"#mbc0223f3f5\" x=\"102.259026\" y=\"63.233115\" style=\"fill: #1f77b4; stroke: #1f77b4\"/>\n",
       "     <use xlink:href=\"#mbc0223f3f5\" x=\"174.546693\" y=\"103.891525\" style=\"fill: #1f77b4; stroke: #1f77b4\"/>\n",
       "     <use xlink:href=\"#mbc0223f3f5\" x=\"165.351426\" y=\"100.986569\" style=\"fill: #1f77b4; stroke: #1f77b4\"/>\n",
       "     <use xlink:href=\"#mbc0223f3f5\" x=\"148.068624\" y=\"94.095758\" style=\"fill: #1f77b4; stroke: #1f77b4\"/>\n",
       "     <use xlink:href=\"#mbc0223f3f5\" x=\"132.713601\" y=\"92.785347\" style=\"fill: #1f77b4; stroke: #1f77b4\"/>\n",
       "     <use xlink:href=\"#mbc0223f3f5\" x=\"176.289117\" y=\"113.670683\" style=\"fill: #1f77b4; stroke: #1f77b4\"/>\n",
       "     <use xlink:href=\"#mbc0223f3f5\" x=\"132.365365\" y=\"77.847258\" style=\"fill: #1f77b4; stroke: #1f77b4\"/>\n",
       "     <use xlink:href=\"#mbc0223f3f5\" x=\"131.391357\" y=\"89.864688\" style=\"fill: #1f77b4; stroke: #1f77b4\"/>\n",
       "     <use xlink:href=\"#mbc0223f3f5\" x=\"134.670777\" y=\"84.411191\" style=\"fill: #1f77b4; stroke: #1f77b4\"/>\n",
       "     <use xlink:href=\"#mbc0223f3f5\" x=\"166.415742\" y=\"97.449496\" style=\"fill: #1f77b4; stroke: #1f77b4\"/>\n",
       "     <use xlink:href=\"#mbc0223f3f5\" x=\"165.319797\" y=\"92.82185\" style=\"fill: #1f77b4; stroke: #1f77b4\"/>\n",
       "     <use xlink:href=\"#mbc0223f3f5\" x=\"118.195874\" y=\"86.246986\" style=\"fill: #1f77b4; stroke: #1f77b4\"/>\n",
       "     <use xlink:href=\"#mbc0223f3f5\" x=\"129.950109\" y=\"86.378529\" style=\"fill: #1f77b4; stroke: #1f77b4\"/>\n",
       "     <use xlink:href=\"#mbc0223f3f5\" x=\"142.629572\" y=\"83.429924\" style=\"fill: #1f77b4; stroke: #1f77b4\"/>\n",
       "     <use xlink:href=\"#mbc0223f3f5\" x=\"165.370493\" y=\"98.393456\" style=\"fill: #1f77b4; stroke: #1f77b4\"/>\n",
       "     <use xlink:href=\"#mbc0223f3f5\" x=\"146.580705\" y=\"97.426356\" style=\"fill: #1f77b4; stroke: #1f77b4\"/>\n",
       "     <use xlink:href=\"#mbc0223f3f5\" x=\"132.318638\" y=\"68.069107\" style=\"fill: #1f77b4; stroke: #1f77b4\"/>\n",
       "     <use xlink:href=\"#mbc0223f3f5\" x=\"152.196379\" y=\"75.858485\" style=\"fill: #1f77b4; stroke: #1f77b4\"/>\n",
       "     <use xlink:href=\"#mbc0223f3f5\" x=\"119.732133\" y=\"73.742322\" style=\"fill: #1f77b4; stroke: #1f77b4\"/>\n",
       "     <use xlink:href=\"#mbc0223f3f5\" x=\"161.908916\" y=\"97.017251\" style=\"fill: #1f77b4; stroke: #1f77b4\"/>\n",
       "     <use xlink:href=\"#mbc0223f3f5\" x=\"150.739351\" y=\"87.081551\" style=\"fill: #1f77b4; stroke: #1f77b4\"/>\n",
       "     <use xlink:href=\"#mbc0223f3f5\" x=\"149.852476\" y=\"88.781659\" style=\"fill: #1f77b4; stroke: #1f77b4\"/>\n",
       "     <use xlink:href=\"#mbc0223f3f5\" x=\"110.347703\" y=\"76.344818\" style=\"fill: #1f77b4; stroke: #1f77b4\"/>\n",
       "     <use xlink:href=\"#mbc0223f3f5\" x=\"115.244746\" y=\"60.794318\" style=\"fill: #1f77b4; stroke: #1f77b4\"/>\n",
       "     <use xlink:href=\"#mbc0223f3f5\" x=\"156.061391\" y=\"89.031308\" style=\"fill: #1f77b4; stroke: #1f77b4\"/>\n",
       "     <use xlink:href=\"#mbc0223f3f5\" x=\"168.04449\" y=\"105.521922\" style=\"fill: #1f77b4; stroke: #1f77b4\"/>\n",
       "     <use xlink:href=\"#mbc0223f3f5\" x=\"80.650646\" y=\"39.100871\" style=\"fill: #1f77b4; stroke: #1f77b4\"/>\n",
       "     <use xlink:href=\"#mbc0223f3f5\" x=\"92.412077\" y=\"43.100046\" style=\"fill: #1f77b4; stroke: #1f77b4\"/>\n",
       "     <use xlink:href=\"#mbc0223f3f5\" x=\"159.230865\" y=\"81.808877\" style=\"fill: #1f77b4; stroke: #1f77b4\"/>\n",
       "     <use xlink:href=\"#mbc0223f3f5\" x=\"111.265684\" y=\"63.395618\" style=\"fill: #1f77b4; stroke: #1f77b4\"/>\n",
       "     <use xlink:href=\"#mbc0223f3f5\" x=\"191.820237\" y=\"108.247304\" style=\"fill: #1f77b4; stroke: #1f77b4\"/>\n",
       "     <use xlink:href=\"#mbc0223f3f5\" x=\"118.94348\" y=\"66.410228\" style=\"fill: #1f77b4; stroke: #1f77b4\"/>\n",
       "     <use xlink:href=\"#mbc0223f3f5\" x=\"138.603895\" y=\"82.526946\" style=\"fill: #1f77b4; stroke: #1f77b4\"/>\n",
       "     <use xlink:href=\"#mbc0223f3f5\" x=\"170.595772\" y=\"104.376202\" style=\"fill: #1f77b4; stroke: #1f77b4\"/>\n",
       "     <use xlink:href=\"#mbc0223f3f5\" x=\"165.830564\" y=\"99.328842\" style=\"fill: #1f77b4; stroke: #1f77b4\"/>\n",
       "     <use xlink:href=\"#mbc0223f3f5\" x=\"145.384583\" y=\"90.188643\" style=\"fill: #1f77b4; stroke: #1f77b4\"/>\n",
       "     <use xlink:href=\"#mbc0223f3f5\" x=\"129.219235\" y=\"66.00666\" style=\"fill: #1f77b4; stroke: #1f77b4\"/>\n",
       "     <use xlink:href=\"#mbc0223f3f5\" x=\"82.712704\" y=\"44.709544\" style=\"fill: #1f77b4; stroke: #1f77b4\"/>\n",
       "     <use xlink:href=\"#mbc0223f3f5\" x=\"134.658361\" y=\"86.336814\" style=\"fill: #1f77b4; stroke: #1f77b4\"/>\n",
       "     <use xlink:href=\"#mbc0223f3f5\" x=\"178.531959\" y=\"114.891991\" style=\"fill: #1f77b4; stroke: #1f77b4\"/>\n",
       "     <use xlink:href=\"#mbc0223f3f5\" x=\"152.093278\" y=\"98.608068\" style=\"fill: #1f77b4; stroke: #1f77b4\"/>\n",
       "     <use xlink:href=\"#mbc0223f3f5\" x=\"131.965486\" y=\"74.814222\" style=\"fill: #1f77b4; stroke: #1f77b4\"/>\n",
       "     <use xlink:href=\"#mbc0223f3f5\" x=\"148.341879\" y=\"77.089038\" style=\"fill: #1f77b4; stroke: #1f77b4\"/>\n",
       "     <use xlink:href=\"#mbc0223f3f5\" x=\"162.653988\" y=\"90.727328\" style=\"fill: #1f77b4; stroke: #1f77b4\"/>\n",
       "     <use xlink:href=\"#mbc0223f3f5\" x=\"153.20569\" y=\"88.73145\" style=\"fill: #1f77b4; stroke: #1f77b4\"/>\n",
       "     <use xlink:href=\"#mbc0223f3f5\" x=\"124.400619\" y=\"67.018715\" style=\"fill: #1f77b4; stroke: #1f77b4\"/>\n",
       "     <use xlink:href=\"#mbc0223f3f5\" x=\"136.679339\" y=\"90.526393\" style=\"fill: #1f77b4; stroke: #1f77b4\"/>\n",
       "     <use xlink:href=\"#mbc0223f3f5\" x=\"136.00781\" y=\"68.998704\" style=\"fill: #1f77b4; stroke: #1f77b4\"/>\n",
       "     <use xlink:href=\"#mbc0223f3f5\" x=\"106.574692\" y=\"60.921493\" style=\"fill: #1f77b4; stroke: #1f77b4\"/>\n",
       "     <use xlink:href=\"#mbc0223f3f5\" x=\"184.008346\" y=\"105.868045\" style=\"fill: #1f77b4; stroke: #1f77b4\"/>\n",
       "     <use xlink:href=\"#mbc0223f3f5\" x=\"156.175297\" y=\"96.278129\" style=\"fill: #1f77b4; stroke: #1f77b4\"/>\n",
       "     <use xlink:href=\"#mbc0223f3f5\" x=\"138.631901\" y=\"86.733045\" style=\"fill: #1f77b4; stroke: #1f77b4\"/>\n",
       "     <use xlink:href=\"#mbc0223f3f5\" x=\"154.569214\" y=\"84.634863\" style=\"fill: #1f77b4; stroke: #1f77b4\"/>\n",
       "     <use xlink:href=\"#mbc0223f3f5\" x=\"133.968025\" y=\"81.371088\" style=\"fill: #1f77b4; stroke: #1f77b4\"/>\n",
       "     <use xlink:href=\"#mbc0223f3f5\" x=\"152.069213\" y=\"84.583587\" style=\"fill: #1f77b4; stroke: #1f77b4\"/>\n",
       "     <use xlink:href=\"#mbc0223f3f5\" x=\"129.945978\" y=\"78.545792\" style=\"fill: #1f77b4; stroke: #1f77b4\"/>\n",
       "     <use xlink:href=\"#mbc0223f3f5\" x=\"115.04739\" y=\"64.213236\" style=\"fill: #1f77b4; stroke: #1f77b4\"/>\n",
       "     <use xlink:href=\"#mbc0223f3f5\" x=\"115.409446\" y=\"85.725222\" style=\"fill: #1f77b4; stroke: #1f77b4\"/>\n",
       "     <use xlink:href=\"#mbc0223f3f5\" x=\"118.024745\" y=\"72.07302\" style=\"fill: #1f77b4; stroke: #1f77b4\"/>\n",
       "     <use xlink:href=\"#mbc0223f3f5\" x=\"124.748671\" y=\"75.081321\" style=\"fill: #1f77b4; stroke: #1f77b4\"/>\n",
       "     <use xlink:href=\"#mbc0223f3f5\" x=\"111.211723\" y=\"69.978791\" style=\"fill: #1f77b4; stroke: #1f77b4\"/>\n",
       "     <use xlink:href=\"#mbc0223f3f5\" x=\"163.351237\" y=\"97.71542\" style=\"fill: #1f77b4; stroke: #1f77b4\"/>\n",
       "     <use xlink:href=\"#mbc0223f3f5\" x=\"153.048925\" y=\"90.209705\" style=\"fill: #1f77b4; stroke: #1f77b4\"/>\n",
       "     <use xlink:href=\"#mbc0223f3f5\" x=\"171.649852\" y=\"109.05463\" style=\"fill: #1f77b4; stroke: #1f77b4\"/>\n",
       "     <use xlink:href=\"#mbc0223f3f5\" x=\"142.617551\" y=\"91.303399\" style=\"fill: #1f77b4; stroke: #1f77b4\"/>\n",
       "     <use xlink:href=\"#mbc0223f3f5\" x=\"132.739069\" y=\"82.765926\" style=\"fill: #1f77b4; stroke: #1f77b4\"/>\n",
       "     <use xlink:href=\"#mbc0223f3f5\" x=\"160.237186\" y=\"96.666685\" style=\"fill: #1f77b4; stroke: #1f77b4\"/>\n",
       "     <use xlink:href=\"#mbc0223f3f5\" x=\"120.778128\" y=\"67.657745\" style=\"fill: #1f77b4; stroke: #1f77b4\"/>\n",
       "     <use xlink:href=\"#mbc0223f3f5\" x=\"138.82194\" y=\"85.692014\" style=\"fill: #1f77b4; stroke: #1f77b4\"/>\n",
       "     <use xlink:href=\"#mbc0223f3f5\" x=\"149.392135\" y=\"91.23493\" style=\"fill: #1f77b4; stroke: #1f77b4\"/>\n",
       "     <use xlink:href=\"#mbc0223f3f5\" x=\"158.527902\" y=\"87.02964\" style=\"fill: #1f77b4; stroke: #1f77b4\"/>\n",
       "     <use xlink:href=\"#mbc0223f3f5\" x=\"160.507384\" y=\"103.606734\" style=\"fill: #1f77b4; stroke: #1f77b4\"/>\n",
       "     <use xlink:href=\"#mbc0223f3f5\" x=\"141.516262\" y=\"87.921026\" style=\"fill: #1f77b4; stroke: #1f77b4\"/>\n",
       "     <use xlink:href=\"#mbc0223f3f5\" x=\"122.981327\" y=\"79.894022\" style=\"fill: #1f77b4; stroke: #1f77b4\"/>\n",
       "     <use xlink:href=\"#mbc0223f3f5\" x=\"148.142344\" y=\"91.08202\" style=\"fill: #1f77b4; stroke: #1f77b4\"/>\n",
       "     <use xlink:href=\"#mbc0223f3f5\" x=\"158.40089\" y=\"101.454536\" style=\"fill: #1f77b4; stroke: #1f77b4\"/>\n",
       "     <use xlink:href=\"#mbc0223f3f5\" x=\"208.50249\" y=\"111.963642\" style=\"fill: #1f77b4; stroke: #1f77b4\"/>\n",
       "     <use xlink:href=\"#mbc0223f3f5\" x=\"128.177742\" y=\"85.665479\" style=\"fill: #1f77b4; stroke: #1f77b4\"/>\n",
       "     <use xlink:href=\"#mbc0223f3f5\" x=\"130.671086\" y=\"73.255777\" style=\"fill: #1f77b4; stroke: #1f77b4\"/>\n",
       "     <use xlink:href=\"#mbc0223f3f5\" x=\"140.301996\" y=\"83.214864\" style=\"fill: #1f77b4; stroke: #1f77b4\"/>\n",
       "     <use xlink:href=\"#mbc0223f3f5\" x=\"115.712138\" y=\"71.756427\" style=\"fill: #1f77b4; stroke: #1f77b4\"/>\n",
       "     <use xlink:href=\"#mbc0223f3f5\" x=\"139.547055\" y=\"84.189321\" style=\"fill: #1f77b4; stroke: #1f77b4\"/>\n",
       "     <use xlink:href=\"#mbc0223f3f5\" x=\"160.904494\" y=\"109.875524\" style=\"fill: #1f77b4; stroke: #1f77b4\"/>\n",
       "     <use xlink:href=\"#mbc0223f3f5\" x=\"125.871731\" y=\"61.409936\" style=\"fill: #1f77b4; stroke: #1f77b4\"/>\n",
       "     <use xlink:href=\"#mbc0223f3f5\" x=\"145.341159\" y=\"84.435349\" style=\"fill: #1f77b4; stroke: #1f77b4\"/>\n",
       "     <use xlink:href=\"#mbc0223f3f5\" x=\"123.568467\" y=\"75.455258\" style=\"fill: #1f77b4; stroke: #1f77b4\"/>\n",
       "     <use xlink:href=\"#mbc0223f3f5\" x=\"105.661083\" y=\"45.746358\" style=\"fill: #1f77b4; stroke: #1f77b4\"/>\n",
       "     <use xlink:href=\"#mbc0223f3f5\" x=\"116.304709\" y=\"62.445736\" style=\"fill: #1f77b4; stroke: #1f77b4\"/>\n",
       "     <use xlink:href=\"#mbc0223f3f5\" x=\"90.376944\" y=\"53.936694\" style=\"fill: #1f77b4; stroke: #1f77b4\"/>\n",
       "     <use xlink:href=\"#mbc0223f3f5\" x=\"172.156311\" y=\"106.761853\" style=\"fill: #1f77b4; stroke: #1f77b4\"/>\n",
       "     <use xlink:href=\"#mbc0223f3f5\" x=\"116.085517\" y=\"62.062537\" style=\"fill: #1f77b4; stroke: #1f77b4\"/>\n",
       "     <use xlink:href=\"#mbc0223f3f5\" x=\"113.166149\" y=\"58.198922\" style=\"fill: #1f77b4; stroke: #1f77b4\"/>\n",
       "     <use xlink:href=\"#mbc0223f3f5\" x=\"113.698822\" y=\"66.879086\" style=\"fill: #1f77b4; stroke: #1f77b4\"/>\n",
       "     <use xlink:href=\"#mbc0223f3f5\" x=\"117.140458\" y=\"71.775042\" style=\"fill: #1f77b4; stroke: #1f77b4\"/>\n",
       "     <use xlink:href=\"#mbc0223f3f5\" x=\"108.551151\" y=\"61.571174\" style=\"fill: #1f77b4; stroke: #1f77b4\"/>\n",
       "     <use xlink:href=\"#mbc0223f3f5\" x=\"131.584086\" y=\"98.999064\" style=\"fill: #1f77b4; stroke: #1f77b4\"/>\n",
       "     <use xlink:href=\"#mbc0223f3f5\" x=\"147.6775\" y=\"94.901349\" style=\"fill: #1f77b4; stroke: #1f77b4\"/>\n",
       "     <use xlink:href=\"#mbc0223f3f5\" x=\"172.636287\" y=\"99.590425\" style=\"fill: #1f77b4; stroke: #1f77b4\"/>\n",
       "     <use xlink:href=\"#mbc0223f3f5\" x=\"172.909288\" y=\"90.588647\" style=\"fill: #1f77b4; stroke: #1f77b4\"/>\n",
       "     <use xlink:href=\"#mbc0223f3f5\" x=\"148.293695\" y=\"94.623047\" style=\"fill: #1f77b4; stroke: #1f77b4\"/>\n",
       "     <use xlink:href=\"#mbc0223f3f5\" x=\"132.860422\" y=\"85.724086\" style=\"fill: #1f77b4; stroke: #1f77b4\"/>\n",
       "     <use xlink:href=\"#mbc0223f3f5\" x=\"90.970984\" y=\"63.620037\" style=\"fill: #1f77b4; stroke: #1f77b4\"/>\n",
       "     <use xlink:href=\"#mbc0223f3f5\" x=\"144.621963\" y=\"81.762197\" style=\"fill: #1f77b4; stroke: #1f77b4\"/>\n",
       "     <use xlink:href=\"#mbc0223f3f5\" x=\"116.884818\" y=\"79.730179\" style=\"fill: #1f77b4; stroke: #1f77b4\"/>\n",
       "     <use xlink:href=\"#mbc0223f3f5\" x=\"79.565245\" y=\"49.600032\" style=\"fill: #1f77b4; stroke: #1f77b4\"/>\n",
       "     <use xlink:href=\"#mbc0223f3f5\" x=\"145.360431\" y=\"96.464443\" style=\"fill: #1f77b4; stroke: #1f77b4\"/>\n",
       "     <use xlink:href=\"#mbc0223f3f5\" x=\"119.906575\" y=\"61.165922\" style=\"fill: #1f77b4; stroke: #1f77b4\"/>\n",
       "     <use xlink:href=\"#mbc0223f3f5\" x=\"138.687875\" y=\"88.077084\" style=\"fill: #1f77b4; stroke: #1f77b4\"/>\n",
       "     <use xlink:href=\"#mbc0223f3f5\" x=\"153.138774\" y=\"94.444848\" style=\"fill: #1f77b4; stroke: #1f77b4\"/>\n",
       "     <use xlink:href=\"#mbc0223f3f5\" x=\"128.274301\" y=\"82.557693\" style=\"fill: #1f77b4; stroke: #1f77b4\"/>\n",
       "     <use xlink:href=\"#mbc0223f3f5\" x=\"155.883253\" y=\"99.113322\" style=\"fill: #1f77b4; stroke: #1f77b4\"/>\n",
       "     <use xlink:href=\"#mbc0223f3f5\" x=\"186.413728\" y=\"117.213033\" style=\"fill: #1f77b4; stroke: #1f77b4\"/>\n",
       "     <use xlink:href=\"#mbc0223f3f5\" x=\"145.456416\" y=\"84.57706\" style=\"fill: #1f77b4; stroke: #1f77b4\"/>\n",
       "     <use xlink:href=\"#mbc0223f3f5\" x=\"162.20423\" y=\"92.518828\" style=\"fill: #1f77b4; stroke: #1f77b4\"/>\n",
       "     <use xlink:href=\"#mbc0223f3f5\" x=\"133.142484\" y=\"75.869563\" style=\"fill: #1f77b4; stroke: #1f77b4\"/>\n",
       "     <use xlink:href=\"#mbc0223f3f5\" x=\"131.14832\" y=\"84.997983\" style=\"fill: #1f77b4; stroke: #1f77b4\"/>\n",
       "     <use xlink:href=\"#mbc0223f3f5\" x=\"138.247083\" y=\"82.188598\" style=\"fill: #1f77b4; stroke: #1f77b4\"/>\n",
       "     <use xlink:href=\"#mbc0223f3f5\" x=\"140.90165\" y=\"83.995476\" style=\"fill: #1f77b4; stroke: #1f77b4\"/>\n",
       "     <use xlink:href=\"#mbc0223f3f5\" x=\"142.006922\" y=\"80.218648\" style=\"fill: #1f77b4; stroke: #1f77b4\"/>\n",
       "     <use xlink:href=\"#mbc0223f3f5\" x=\"94.70423\" y=\"48.341028\" style=\"fill: #1f77b4; stroke: #1f77b4\"/>\n",
       "     <use xlink:href=\"#mbc0223f3f5\" x=\"105.766078\" y=\"58.952315\" style=\"fill: #1f77b4; stroke: #1f77b4\"/>\n",
       "     <use xlink:href=\"#mbc0223f3f5\" x=\"142.285142\" y=\"91.196504\" style=\"fill: #1f77b4; stroke: #1f77b4\"/>\n",
       "     <use xlink:href=\"#mbc0223f3f5\" x=\"167.291373\" y=\"90.728486\" style=\"fill: #1f77b4; stroke: #1f77b4\"/>\n",
       "     <use xlink:href=\"#mbc0223f3f5\" x=\"132.078679\" y=\"74.656864\" style=\"fill: #1f77b4; stroke: #1f77b4\"/>\n",
       "     <use xlink:href=\"#mbc0223f3f5\" x=\"147.822409\" y=\"78.37781\" style=\"fill: #1f77b4; stroke: #1f77b4\"/>\n",
       "     <use xlink:href=\"#mbc0223f3f5\" x=\"190.48381\" y=\"109.431608\" style=\"fill: #1f77b4; stroke: #1f77b4\"/>\n",
       "     <use xlink:href=\"#mbc0223f3f5\" x=\"119.924177\" y=\"63.317445\" style=\"fill: #1f77b4; stroke: #1f77b4\"/>\n",
       "     <use xlink:href=\"#mbc0223f3f5\" x=\"158.097211\" y=\"74.940343\" style=\"fill: #1f77b4; stroke: #1f77b4\"/>\n",
       "     <use xlink:href=\"#mbc0223f3f5\" x=\"142.845939\" y=\"72.267552\" style=\"fill: #1f77b4; stroke: #1f77b4\"/>\n",
       "     <use xlink:href=\"#mbc0223f3f5\" x=\"111.249522\" y=\"66.759408\" style=\"fill: #1f77b4; stroke: #1f77b4\"/>\n",
       "     <use xlink:href=\"#mbc0223f3f5\" x=\"149.187858\" y=\"100.69053\" style=\"fill: #1f77b4; stroke: #1f77b4\"/>\n",
       "     <use xlink:href=\"#mbc0223f3f5\" x=\"155.371711\" y=\"82.111407\" style=\"fill: #1f77b4; stroke: #1f77b4\"/>\n",
       "     <use xlink:href=\"#mbc0223f3f5\" x=\"137.257806\" y=\"97.185434\" style=\"fill: #1f77b4; stroke: #1f77b4\"/>\n",
       "     <use xlink:href=\"#mbc0223f3f5\" x=\"125.101242\" y=\"89.508661\" style=\"fill: #1f77b4; stroke: #1f77b4\"/>\n",
       "     <use xlink:href=\"#mbc0223f3f5\" x=\"185.031553\" y=\"104.434643\" style=\"fill: #1f77b4; stroke: #1f77b4\"/>\n",
       "     <use xlink:href=\"#mbc0223f3f5\" x=\"169.903044\" y=\"97.119271\" style=\"fill: #1f77b4; stroke: #1f77b4\"/>\n",
       "     <use xlink:href=\"#mbc0223f3f5\" x=\"163.501931\" y=\"100.171662\" style=\"fill: #1f77b4; stroke: #1f77b4\"/>\n",
       "     <use xlink:href=\"#mbc0223f3f5\" x=\"120.343904\" y=\"58.082597\" style=\"fill: #1f77b4; stroke: #1f77b4\"/>\n",
       "     <use xlink:href=\"#mbc0223f3f5\" x=\"135.61563\" y=\"81.985469\" style=\"fill: #1f77b4; stroke: #1f77b4\"/>\n",
       "     <use xlink:href=\"#mbc0223f3f5\" x=\"122.743347\" y=\"69.011699\" style=\"fill: #1f77b4; stroke: #1f77b4\"/>\n",
       "     <use xlink:href=\"#mbc0223f3f5\" x=\"143.595412\" y=\"108.766146\" style=\"fill: #1f77b4; stroke: #1f77b4\"/>\n",
       "     <use xlink:href=\"#mbc0223f3f5\" x=\"108.075689\" y=\"60.244011\" style=\"fill: #1f77b4; stroke: #1f77b4\"/>\n",
       "     <use xlink:href=\"#mbc0223f3f5\" x=\"124.43084\" y=\"68.781679\" style=\"fill: #1f77b4; stroke: #1f77b4\"/>\n",
       "     <use xlink:href=\"#mbc0223f3f5\" x=\"92.16373\" y=\"64.999706\" style=\"fill: #1f77b4; stroke: #1f77b4\"/>\n",
       "     <use xlink:href=\"#mbc0223f3f5\" x=\"159.3104\" y=\"99.159815\" style=\"fill: #1f77b4; stroke: #1f77b4\"/>\n",
       "     <use xlink:href=\"#mbc0223f3f5\" x=\"97.179745\" y=\"62.533317\" style=\"fill: #1f77b4; stroke: #1f77b4\"/>\n",
       "     <use xlink:href=\"#mbc0223f3f5\" x=\"99.237403\" y=\"78.31643\" style=\"fill: #1f77b4; stroke: #1f77b4\"/>\n",
       "     <use xlink:href=\"#mbc0223f3f5\" x=\"156.174649\" y=\"96.911162\" style=\"fill: #1f77b4; stroke: #1f77b4\"/>\n",
       "     <use xlink:href=\"#mbc0223f3f5\" x=\"139.174872\" y=\"94.245413\" style=\"fill: #1f77b4; stroke: #1f77b4\"/>\n",
       "     <use xlink:href=\"#mbc0223f3f5\" x=\"152.399728\" y=\"70.506604\" style=\"fill: #1f77b4; stroke: #1f77b4\"/>\n",
       "     <use xlink:href=\"#mbc0223f3f5\" x=\"113.108062\" y=\"74.508538\" style=\"fill: #1f77b4; stroke: #1f77b4\"/>\n",
       "     <use xlink:href=\"#mbc0223f3f5\" x=\"151.128219\" y=\"83.645973\" style=\"fill: #1f77b4; stroke: #1f77b4\"/>\n",
       "     <use xlink:href=\"#mbc0223f3f5\" x=\"217.900763\" y=\"119.228363\" style=\"fill: #1f77b4; stroke: #1f77b4\"/>\n",
       "     <use xlink:href=\"#mbc0223f3f5\" x=\"139.932986\" y=\"86.062224\" style=\"fill: #1f77b4; stroke: #1f77b4\"/>\n",
       "     <use xlink:href=\"#mbc0223f3f5\" x=\"139.989695\" y=\"92.627704\" style=\"fill: #1f77b4; stroke: #1f77b4\"/>\n",
       "     <use xlink:href=\"#mbc0223f3f5\" x=\"102.685303\" y=\"55.376132\" style=\"fill: #1f77b4; stroke: #1f77b4\"/>\n",
       "     <use xlink:href=\"#mbc0223f3f5\" x=\"121.360816\" y=\"78.194485\" style=\"fill: #1f77b4; stroke: #1f77b4\"/>\n",
       "     <use xlink:href=\"#mbc0223f3f5\" x=\"149.458418\" y=\"77.425584\" style=\"fill: #1f77b4; stroke: #1f77b4\"/>\n",
       "     <use xlink:href=\"#mbc0223f3f5\" x=\"168.565944\" y=\"103.927414\" style=\"fill: #1f77b4; stroke: #1f77b4\"/>\n",
       "     <use xlink:href=\"#mbc0223f3f5\" x=\"163.349978\" y=\"95.402354\" style=\"fill: #1f77b4; stroke: #1f77b4\"/>\n",
       "     <use xlink:href=\"#mbc0223f3f5\" x=\"94.477219\" y=\"56.177818\" style=\"fill: #1f77b4; stroke: #1f77b4\"/>\n",
       "     <use xlink:href=\"#mbc0223f3f5\" x=\"149.300461\" y=\"105.348949\" style=\"fill: #1f77b4; stroke: #1f77b4\"/>\n",
       "     <use xlink:href=\"#mbc0223f3f5\" x=\"141.457099\" y=\"96.10196\" style=\"fill: #1f77b4; stroke: #1f77b4\"/>\n",
       "     <use xlink:href=\"#mbc0223f3f5\" x=\"127.022926\" y=\"70.112871\" style=\"fill: #1f77b4; stroke: #1f77b4\"/>\n",
       "     <use xlink:href=\"#mbc0223f3f5\" x=\"158.935139\" y=\"92.025516\" style=\"fill: #1f77b4; stroke: #1f77b4\"/>\n",
       "     <use xlink:href=\"#mbc0223f3f5\" x=\"132.011022\" y=\"89.677923\" style=\"fill: #1f77b4; stroke: #1f77b4\"/>\n",
       "     <use xlink:href=\"#mbc0223f3f5\" x=\"123.21478\" y=\"81.62331\" style=\"fill: #1f77b4; stroke: #1f77b4\"/>\n",
       "     <use xlink:href=\"#mbc0223f3f5\" x=\"121.471531\" y=\"75.096043\" style=\"fill: #1f77b4; stroke: #1f77b4\"/>\n",
       "     <use xlink:href=\"#mbc0223f3f5\" x=\"119.06213\" y=\"61.848703\" style=\"fill: #1f77b4; stroke: #1f77b4\"/>\n",
       "     <use xlink:href=\"#mbc0223f3f5\" x=\"128.509007\" y=\"86.198511\" style=\"fill: #1f77b4; stroke: #1f77b4\"/>\n",
       "     <use xlink:href=\"#mbc0223f3f5\" x=\"165.948127\" y=\"113.211296\" style=\"fill: #1f77b4; stroke: #1f77b4\"/>\n",
       "     <use xlink:href=\"#mbc0223f3f5\" x=\"142.750599\" y=\"81.41226\" style=\"fill: #1f77b4; stroke: #1f77b4\"/>\n",
       "     <use xlink:href=\"#mbc0223f3f5\" x=\"129.089238\" y=\"78.266716\" style=\"fill: #1f77b4; stroke: #1f77b4\"/>\n",
       "     <use xlink:href=\"#mbc0223f3f5\" x=\"159.837649\" y=\"93.058569\" style=\"fill: #1f77b4; stroke: #1f77b4\"/>\n",
       "     <use xlink:href=\"#mbc0223f3f5\" x=\"126.938897\" y=\"67.025076\" style=\"fill: #1f77b4; stroke: #1f77b4\"/>\n",
       "     <use xlink:href=\"#mbc0223f3f5\" x=\"90.522954\" y=\"70.12906\" style=\"fill: #1f77b4; stroke: #1f77b4\"/>\n",
       "     <use xlink:href=\"#mbc0223f3f5\" x=\"122.650906\" y=\"69.316156\" style=\"fill: #1f77b4; stroke: #1f77b4\"/>\n",
       "     <use xlink:href=\"#mbc0223f3f5\" x=\"146.251254\" y=\"86.412648\" style=\"fill: #1f77b4; stroke: #1f77b4\"/>\n",
       "     <use xlink:href=\"#mbc0223f3f5\" x=\"165.758539\" y=\"93.003597\" style=\"fill: #1f77b4; stroke: #1f77b4\"/>\n",
       "     <use xlink:href=\"#mbc0223f3f5\" x=\"118.034754\" y=\"64.388547\" style=\"fill: #1f77b4; stroke: #1f77b4\"/>\n",
       "     <use xlink:href=\"#mbc0223f3f5\" x=\"144.700888\" y=\"96.0879\" style=\"fill: #1f77b4; stroke: #1f77b4\"/>\n",
       "     <use xlink:href=\"#mbc0223f3f5\" x=\"84.693585\" y=\"56.024204\" style=\"fill: #1f77b4; stroke: #1f77b4\"/>\n",
       "     <use xlink:href=\"#mbc0223f3f5\" x=\"169.643139\" y=\"79.184605\" style=\"fill: #1f77b4; stroke: #1f77b4\"/>\n",
       "     <use xlink:href=\"#mbc0223f3f5\" x=\"156.718119\" y=\"85.811377\" style=\"fill: #1f77b4; stroke: #1f77b4\"/>\n",
       "     <use xlink:href=\"#mbc0223f3f5\" x=\"134.886252\" y=\"70.135447\" style=\"fill: #1f77b4; stroke: #1f77b4\"/>\n",
       "     <use xlink:href=\"#mbc0223f3f5\" x=\"155.378877\" y=\"92.355182\" style=\"fill: #1f77b4; stroke: #1f77b4\"/>\n",
       "     <use xlink:href=\"#mbc0223f3f5\" x=\"126.083335\" y=\"74.743189\" style=\"fill: #1f77b4; stroke: #1f77b4\"/>\n",
       "     <use xlink:href=\"#mbc0223f3f5\" x=\"110.887066\" y=\"68.552016\" style=\"fill: #1f77b4; stroke: #1f77b4\"/>\n",
       "     <use xlink:href=\"#mbc0223f3f5\" x=\"113.284254\" y=\"71.807061\" style=\"fill: #1f77b4; stroke: #1f77b4\"/>\n",
       "     <use xlink:href=\"#mbc0223f3f5\" x=\"136.869779\" y=\"74.931895\" style=\"fill: #1f77b4; stroke: #1f77b4\"/>\n",
       "     <use xlink:href=\"#mbc0223f3f5\" x=\"161.800971\" y=\"90.376457\" style=\"fill: #1f77b4; stroke: #1f77b4\"/>\n",
       "     <use xlink:href=\"#mbc0223f3f5\" x=\"100.024555\" y=\"50.568262\" style=\"fill: #1f77b4; stroke: #1f77b4\"/>\n",
       "     <use xlink:href=\"#mbc0223f3f5\" x=\"147.961846\" y=\"73.620129\" style=\"fill: #1f77b4; stroke: #1f77b4\"/>\n",
       "     <use xlink:href=\"#mbc0223f3f5\" x=\"156.802038\" y=\"86.03165\" style=\"fill: #1f77b4; stroke: #1f77b4\"/>\n",
       "     <use xlink:href=\"#mbc0223f3f5\" x=\"134.704232\" y=\"81.256256\" style=\"fill: #1f77b4; stroke: #1f77b4\"/>\n",
       "     <use xlink:href=\"#mbc0223f3f5\" x=\"136.627134\" y=\"81.42321\" style=\"fill: #1f77b4; stroke: #1f77b4\"/>\n",
       "     <use xlink:href=\"#mbc0223f3f5\" x=\"157.418434\" y=\"90.142769\" style=\"fill: #1f77b4; stroke: #1f77b4\"/>\n",
       "     <use xlink:href=\"#mbc0223f3f5\" x=\"130.739026\" y=\"73.356653\" style=\"fill: #1f77b4; stroke: #1f77b4\"/>\n",
       "     <use xlink:href=\"#mbc0223f3f5\" x=\"106.087394\" y=\"75.009508\" style=\"fill: #1f77b4; stroke: #1f77b4\"/>\n",
       "     <use xlink:href=\"#mbc0223f3f5\" x=\"128.372757\" y=\"64.444597\" style=\"fill: #1f77b4; stroke: #1f77b4\"/>\n",
       "     <use xlink:href=\"#mbc0223f3f5\" x=\"145.673826\" y=\"81.698283\" style=\"fill: #1f77b4; stroke: #1f77b4\"/>\n",
       "     <use xlink:href=\"#mbc0223f3f5\" x=\"169.879195\" y=\"91.392562\" style=\"fill: #1f77b4; stroke: #1f77b4\"/>\n",
       "     <use xlink:href=\"#mbc0223f3f5\" x=\"168.428918\" y=\"93.681474\" style=\"fill: #1f77b4; stroke: #1f77b4\"/>\n",
       "     <use xlink:href=\"#mbc0223f3f5\" x=\"153.688699\" y=\"109.744303\" style=\"fill: #1f77b4; stroke: #1f77b4\"/>\n",
       "     <use xlink:href=\"#mbc0223f3f5\" x=\"150.318055\" y=\"94.028118\" style=\"fill: #1f77b4; stroke: #1f77b4\"/>\n",
       "     <use xlink:href=\"#mbc0223f3f5\" x=\"99.042838\" y=\"66.219964\" style=\"fill: #1f77b4; stroke: #1f77b4\"/>\n",
       "     <use xlink:href=\"#mbc0223f3f5\" x=\"147.301715\" y=\"109.250154\" style=\"fill: #1f77b4; stroke: #1f77b4\"/>\n",
       "     <use xlink:href=\"#mbc0223f3f5\" x=\"74.302402\" y=\"39.270519\" style=\"fill: #1f77b4; stroke: #1f77b4\"/>\n",
       "     <use xlink:href=\"#mbc0223f3f5\" x=\"125.977528\" y=\"78.0008\" style=\"fill: #1f77b4; stroke: #1f77b4\"/>\n",
       "     <use xlink:href=\"#mbc0223f3f5\" x=\"126.985155\" y=\"74.005494\" style=\"fill: #1f77b4; stroke: #1f77b4\"/>\n",
       "     <use xlink:href=\"#mbc0223f3f5\" x=\"100.276632\" y=\"44.713517\" style=\"fill: #1f77b4; stroke: #1f77b4\"/>\n",
       "     <use xlink:href=\"#mbc0223f3f5\" x=\"123.572285\" y=\"77.755245\" style=\"fill: #1f77b4; stroke: #1f77b4\"/>\n",
       "     <use xlink:href=\"#mbc0223f3f5\" x=\"183.169923\" y=\"110.975444\" style=\"fill: #1f77b4; stroke: #1f77b4\"/>\n",
       "     <use xlink:href=\"#mbc0223f3f5\" x=\"132.21193\" y=\"83.603497\" style=\"fill: #1f77b4; stroke: #1f77b4\"/>\n",
       "     <use xlink:href=\"#mbc0223f3f5\" x=\"134.992186\" y=\"75.190344\" style=\"fill: #1f77b4; stroke: #1f77b4\"/>\n",
       "     <use xlink:href=\"#mbc0223f3f5\" x=\"111.554631\" y=\"56.493998\" style=\"fill: #1f77b4; stroke: #1f77b4\"/>\n",
       "     <use xlink:href=\"#mbc0223f3f5\" x=\"106.876213\" y=\"64.701454\" style=\"fill: #1f77b4; stroke: #1f77b4\"/>\n",
       "     <use xlink:href=\"#mbc0223f3f5\" x=\"153.353472\" y=\"90.046704\" style=\"fill: #1f77b4; stroke: #1f77b4\"/>\n",
       "     <use xlink:href=\"#mbc0223f3f5\" x=\"88.558551\" y=\"54.375248\" style=\"fill: #1f77b4; stroke: #1f77b4\"/>\n",
       "     <use xlink:href=\"#mbc0223f3f5\" x=\"142.378185\" y=\"102.334082\" style=\"fill: #1f77b4; stroke: #1f77b4\"/>\n",
       "     <use xlink:href=\"#mbc0223f3f5\" x=\"116.972351\" y=\"70.231609\" style=\"fill: #1f77b4; stroke: #1f77b4\"/>\n",
       "     <use xlink:href=\"#mbc0223f3f5\" x=\"142.311578\" y=\"93.092531\" style=\"fill: #1f77b4; stroke: #1f77b4\"/>\n",
       "     <use xlink:href=\"#mbc0223f3f5\" x=\"119.609541\" y=\"79.440745\" style=\"fill: #1f77b4; stroke: #1f77b4\"/>\n",
       "     <use xlink:href=\"#mbc0223f3f5\" x=\"166.483591\" y=\"97.878212\" style=\"fill: #1f77b4; stroke: #1f77b4\"/>\n",
       "     <use xlink:href=\"#mbc0223f3f5\" x=\"180.650306\" y=\"116.302433\" style=\"fill: #1f77b4; stroke: #1f77b4\"/>\n",
       "     <use xlink:href=\"#mbc0223f3f5\" x=\"112.901901\" y=\"69.317088\" style=\"fill: #1f77b4; stroke: #1f77b4\"/>\n",
       "     <use xlink:href=\"#mbc0223f3f5\" x=\"169.948482\" y=\"111.129788\" style=\"fill: #1f77b4; stroke: #1f77b4\"/>\n",
       "     <use xlink:href=\"#mbc0223f3f5\" x=\"126.952475\" y=\"55.656343\" style=\"fill: #1f77b4; stroke: #1f77b4\"/>\n",
       "     <use xlink:href=\"#mbc0223f3f5\" x=\"119.681478\" y=\"71.567256\" style=\"fill: #1f77b4; stroke: #1f77b4\"/>\n",
       "     <use xlink:href=\"#mbc0223f3f5\" x=\"126.923565\" y=\"80.8716\" style=\"fill: #1f77b4; stroke: #1f77b4\"/>\n",
       "     <use xlink:href=\"#mbc0223f3f5\" x=\"131.350931\" y=\"62.670481\" style=\"fill: #1f77b4; stroke: #1f77b4\"/>\n",
       "     <use xlink:href=\"#mbc0223f3f5\" x=\"119.666191\" y=\"85.7002\" style=\"fill: #1f77b4; stroke: #1f77b4\"/>\n",
       "     <use xlink:href=\"#mbc0223f3f5\" x=\"151.692018\" y=\"103.650571\" style=\"fill: #1f77b4; stroke: #1f77b4\"/>\n",
       "     <use xlink:href=\"#mbc0223f3f5\" x=\"133.756744\" y=\"81.698073\" style=\"fill: #1f77b4; stroke: #1f77b4\"/>\n",
       "     <use xlink:href=\"#mbc0223f3f5\" x=\"139.290246\" y=\"67.004589\" style=\"fill: #1f77b4; stroke: #1f77b4\"/>\n",
       "     <use xlink:href=\"#mbc0223f3f5\" x=\"107.084806\" y=\"71.442023\" style=\"fill: #1f77b4; stroke: #1f77b4\"/>\n",
       "     <use xlink:href=\"#mbc0223f3f5\" x=\"152.828304\" y=\"102.699956\" style=\"fill: #1f77b4; stroke: #1f77b4\"/>\n",
       "     <use xlink:href=\"#mbc0223f3f5\" x=\"113.641971\" y=\"88.607914\" style=\"fill: #1f77b4; stroke: #1f77b4\"/>\n",
       "     <use xlink:href=\"#mbc0223f3f5\" x=\"198.166773\" y=\"120.55594\" style=\"fill: #1f77b4; stroke: #1f77b4\"/>\n",
       "     <use xlink:href=\"#mbc0223f3f5\" x=\"174.662235\" y=\"99.477691\" style=\"fill: #1f77b4; stroke: #1f77b4\"/>\n",
       "     <use xlink:href=\"#mbc0223f3f5\" x=\"117.020845\" y=\"48.694719\" style=\"fill: #1f77b4; stroke: #1f77b4\"/>\n",
       "     <use xlink:href=\"#mbc0223f3f5\" x=\"117.814681\" y=\"70.356278\" style=\"fill: #1f77b4; stroke: #1f77b4\"/>\n",
       "     <use xlink:href=\"#mbc0223f3f5\" x=\"136.011635\" y=\"82.445076\" style=\"fill: #1f77b4; stroke: #1f77b4\"/>\n",
       "     <use xlink:href=\"#mbc0223f3f5\" x=\"104.322406\" y=\"59.296373\" style=\"fill: #1f77b4; stroke: #1f77b4\"/>\n",
       "     <use xlink:href=\"#mbc0223f3f5\" x=\"133.426875\" y=\"74.972737\" style=\"fill: #1f77b4; stroke: #1f77b4\"/>\n",
       "     <use xlink:href=\"#mbc0223f3f5\" x=\"146.603973\" y=\"92.568987\" style=\"fill: #1f77b4; stroke: #1f77b4\"/>\n",
       "     <use xlink:href=\"#mbc0223f3f5\" x=\"169.247615\" y=\"105.789066\" style=\"fill: #1f77b4; stroke: #1f77b4\"/>\n",
       "     <use xlink:href=\"#mbc0223f3f5\" x=\"154.718185\" y=\"106.922688\" style=\"fill: #1f77b4; stroke: #1f77b4\"/>\n",
       "     <use xlink:href=\"#mbc0223f3f5\" x=\"127.482454\" y=\"84.543081\" style=\"fill: #1f77b4; stroke: #1f77b4\"/>\n",
       "     <use xlink:href=\"#mbc0223f3f5\" x=\"151.213508\" y=\"89.402156\" style=\"fill: #1f77b4; stroke: #1f77b4\"/>\n",
       "     <use xlink:href=\"#mbc0223f3f5\" x=\"82.534507\" y=\"43.319897\" style=\"fill: #1f77b4; stroke: #1f77b4\"/>\n",
       "     <use xlink:href=\"#mbc0223f3f5\" x=\"141.38661\" y=\"77.093045\" style=\"fill: #1f77b4; stroke: #1f77b4\"/>\n",
       "     <use xlink:href=\"#mbc0223f3f5\" x=\"145.603168\" y=\"111.06245\" style=\"fill: #1f77b4; stroke: #1f77b4\"/>\n",
       "     <use xlink:href=\"#mbc0223f3f5\" x=\"147.301523\" y=\"74.305948\" style=\"fill: #1f77b4; stroke: #1f77b4\"/>\n",
       "     <use xlink:href=\"#mbc0223f3f5\" x=\"193.1706\" y=\"127.876046\" style=\"fill: #1f77b4; stroke: #1f77b4\"/>\n",
       "     <use xlink:href=\"#mbc0223f3f5\" x=\"143.744283\" y=\"72.590828\" style=\"fill: #1f77b4; stroke: #1f77b4\"/>\n",
       "     <use xlink:href=\"#mbc0223f3f5\" x=\"124.787457\" y=\"73.584665\" style=\"fill: #1f77b4; stroke: #1f77b4\"/>\n",
       "     <use xlink:href=\"#mbc0223f3f5\" x=\"130.905588\" y=\"66.70281\" style=\"fill: #1f77b4; stroke: #1f77b4\"/>\n",
       "     <use xlink:href=\"#mbc0223f3f5\" x=\"166.367433\" y=\"95.125758\" style=\"fill: #1f77b4; stroke: #1f77b4\"/>\n",
       "     <use xlink:href=\"#mbc0223f3f5\" x=\"134.613322\" y=\"78.34247\" style=\"fill: #1f77b4; stroke: #1f77b4\"/>\n",
       "     <use xlink:href=\"#mbc0223f3f5\" x=\"147.048009\" y=\"76.265642\" style=\"fill: #1f77b4; stroke: #1f77b4\"/>\n",
       "     <use xlink:href=\"#mbc0223f3f5\" x=\"89.630027\" y=\"66.122596\" style=\"fill: #1f77b4; stroke: #1f77b4\"/>\n",
       "     <use xlink:href=\"#mbc0223f3f5\" x=\"108.046993\" y=\"63.672298\" style=\"fill: #1f77b4; stroke: #1f77b4\"/>\n",
       "     <use xlink:href=\"#mbc0223f3f5\" x=\"165.34059\" y=\"90.094821\" style=\"fill: #1f77b4; stroke: #1f77b4\"/>\n",
       "     <use xlink:href=\"#mbc0223f3f5\" x=\"116.759055\" y=\"61.811473\" style=\"fill: #1f77b4; stroke: #1f77b4\"/>\n",
       "     <use xlink:href=\"#mbc0223f3f5\" x=\"116.006045\" y=\"68.704272\" style=\"fill: #1f77b4; stroke: #1f77b4\"/>\n",
       "     <use xlink:href=\"#mbc0223f3f5\" x=\"135.075272\" y=\"82.63297\" style=\"fill: #1f77b4; stroke: #1f77b4\"/>\n",
       "     <use xlink:href=\"#mbc0223f3f5\" x=\"151.193309\" y=\"94.107375\" style=\"fill: #1f77b4; stroke: #1f77b4\"/>\n",
       "     <use xlink:href=\"#mbc0223f3f5\" x=\"123.984741\" y=\"76.76906\" style=\"fill: #1f77b4; stroke: #1f77b4\"/>\n",
       "     <use xlink:href=\"#mbc0223f3f5\" x=\"156.996239\" y=\"102.360502\" style=\"fill: #1f77b4; stroke: #1f77b4\"/>\n",
       "     <use xlink:href=\"#mbc0223f3f5\" x=\"126.95299\" y=\"83.279631\" style=\"fill: #1f77b4; stroke: #1f77b4\"/>\n",
       "     <use xlink:href=\"#mbc0223f3f5\" x=\"149.868409\" y=\"94.169897\" style=\"fill: #1f77b4; stroke: #1f77b4\"/>\n",
       "     <use xlink:href=\"#mbc0223f3f5\" x=\"202.034101\" y=\"128.082066\" style=\"fill: #1f77b4; stroke: #1f77b4\"/>\n",
       "     <use xlink:href=\"#mbc0223f3f5\" x=\"165.972897\" y=\"85.703306\" style=\"fill: #1f77b4; stroke: #1f77b4\"/>\n",
       "     <use xlink:href=\"#mbc0223f3f5\" x=\"135.29094\" y=\"94.05362\" style=\"fill: #1f77b4; stroke: #1f77b4\"/>\n",
       "     <use xlink:href=\"#mbc0223f3f5\" x=\"137.750016\" y=\"81.028981\" style=\"fill: #1f77b4; stroke: #1f77b4\"/>\n",
       "     <use xlink:href=\"#mbc0223f3f5\" x=\"125.120369\" y=\"77.946468\" style=\"fill: #1f77b4; stroke: #1f77b4\"/>\n",
       "     <use xlink:href=\"#mbc0223f3f5\" x=\"112.022902\" y=\"68.861761\" style=\"fill: #1f77b4; stroke: #1f77b4\"/>\n",
       "     <use xlink:href=\"#mbc0223f3f5\" x=\"174.036585\" y=\"110.737236\" style=\"fill: #1f77b4; stroke: #1f77b4\"/>\n",
       "     <use xlink:href=\"#mbc0223f3f5\" x=\"163.958475\" y=\"104.024804\" style=\"fill: #1f77b4; stroke: #1f77b4\"/>\n",
       "     <use xlink:href=\"#mbc0223f3f5\" x=\"149.0996\" y=\"93.95316\" style=\"fill: #1f77b4; stroke: #1f77b4\"/>\n",
       "     <use xlink:href=\"#mbc0223f3f5\" x=\"133.951562\" y=\"66.82421\" style=\"fill: #1f77b4; stroke: #1f77b4\"/>\n",
       "     <use xlink:href=\"#mbc0223f3f5\" x=\"117.902148\" y=\"85.021482\" style=\"fill: #1f77b4; stroke: #1f77b4\"/>\n",
       "     <use xlink:href=\"#mbc0223f3f5\" x=\"105.304279\" y=\"64.389056\" style=\"fill: #1f77b4; stroke: #1f77b4\"/>\n",
       "     <use xlink:href=\"#mbc0223f3f5\" x=\"127.550177\" y=\"82.283407\" style=\"fill: #1f77b4; stroke: #1f77b4\"/>\n",
       "     <use xlink:href=\"#mbc0223f3f5\" x=\"171.961743\" y=\"114.100835\" style=\"fill: #1f77b4; stroke: #1f77b4\"/>\n",
       "     <use xlink:href=\"#mbc0223f3f5\" x=\"130.003841\" y=\"81.190798\" style=\"fill: #1f77b4; stroke: #1f77b4\"/>\n",
       "     <use xlink:href=\"#mbc0223f3f5\" x=\"144.318722\" y=\"84.678172\" style=\"fill: #1f77b4; stroke: #1f77b4\"/>\n",
       "     <use xlink:href=\"#mbc0223f3f5\" x=\"196.829359\" y=\"121.807277\" style=\"fill: #1f77b4; stroke: #1f77b4\"/>\n",
       "     <use xlink:href=\"#mbc0223f3f5\" x=\"123.609337\" y=\"75.880031\" style=\"fill: #1f77b4; stroke: #1f77b4\"/>\n",
       "     <use xlink:href=\"#mbc0223f3f5\" x=\"118.260944\" y=\"53.32648\" style=\"fill: #1f77b4; stroke: #1f77b4\"/>\n",
       "     <use xlink:href=\"#mbc0223f3f5\" x=\"107.022871\" y=\"72.547865\" style=\"fill: #1f77b4; stroke: #1f77b4\"/>\n",
       "     <use xlink:href=\"#mbc0223f3f5\" x=\"105.400821\" y=\"72.488285\" style=\"fill: #1f77b4; stroke: #1f77b4\"/>\n",
       "     <use xlink:href=\"#mbc0223f3f5\" x=\"143.020986\" y=\"74.372168\" style=\"fill: #1f77b4; stroke: #1f77b4\"/>\n",
       "     <use xlink:href=\"#mbc0223f3f5\" x=\"125.777634\" y=\"66.912079\" style=\"fill: #1f77b4; stroke: #1f77b4\"/>\n",
       "     <use xlink:href=\"#mbc0223f3f5\" x=\"109.460047\" y=\"70.194012\" style=\"fill: #1f77b4; stroke: #1f77b4\"/>\n",
       "     <use xlink:href=\"#mbc0223f3f5\" x=\"126.885739\" y=\"84.986726\" style=\"fill: #1f77b4; stroke: #1f77b4\"/>\n",
       "     <use xlink:href=\"#mbc0223f3f5\" x=\"156.826194\" y=\"102.110219\" style=\"fill: #1f77b4; stroke: #1f77b4\"/>\n",
       "     <use xlink:href=\"#mbc0223f3f5\" x=\"204.861722\" y=\"122.566773\" style=\"fill: #1f77b4; stroke: #1f77b4\"/>\n",
       "     <use xlink:href=\"#mbc0223f3f5\" x=\"160.959314\" y=\"97.492645\" style=\"fill: #1f77b4; stroke: #1f77b4\"/>\n",
       "     <use xlink:href=\"#mbc0223f3f5\" x=\"118.739367\" y=\"77.881384\" style=\"fill: #1f77b4; stroke: #1f77b4\"/>\n",
       "     <use xlink:href=\"#mbc0223f3f5\" x=\"122.085062\" y=\"74.418327\" style=\"fill: #1f77b4; stroke: #1f77b4\"/>\n",
       "     <use xlink:href=\"#mbc0223f3f5\" x=\"141.536018\" y=\"80.898308\" style=\"fill: #1f77b4; stroke: #1f77b4\"/>\n",
       "     <use xlink:href=\"#mbc0223f3f5\" x=\"100.182419\" y=\"60.181743\" style=\"fill: #1f77b4; stroke: #1f77b4\"/>\n",
       "     <use xlink:href=\"#mbc0223f3f5\" x=\"145.937651\" y=\"89.725243\" style=\"fill: #1f77b4; stroke: #1f77b4\"/>\n",
       "     <use xlink:href=\"#mbc0223f3f5\" x=\"177.644763\" y=\"100.705329\" style=\"fill: #1f77b4; stroke: #1f77b4\"/>\n",
       "     <use xlink:href=\"#mbc0223f3f5\" x=\"91.649202\" y=\"67.014497\" style=\"fill: #1f77b4; stroke: #1f77b4\"/>\n",
       "     <use xlink:href=\"#mbc0223f3f5\" x=\"115.459414\" y=\"61.454488\" style=\"fill: #1f77b4; stroke: #1f77b4\"/>\n",
       "     <use xlink:href=\"#mbc0223f3f5\" x=\"127.335086\" y=\"82.824179\" style=\"fill: #1f77b4; stroke: #1f77b4\"/>\n",
       "     <use xlink:href=\"#mbc0223f3f5\" x=\"150.74336\" y=\"98.553606\" style=\"fill: #1f77b4; stroke: #1f77b4\"/>\n",
       "     <use xlink:href=\"#mbc0223f3f5\" x=\"147.707621\" y=\"105.302718\" style=\"fill: #1f77b4; stroke: #1f77b4\"/>\n",
       "     <use xlink:href=\"#mbc0223f3f5\" x=\"132.846996\" y=\"67.483703\" style=\"fill: #1f77b4; stroke: #1f77b4\"/>\n",
       "     <use xlink:href=\"#mbc0223f3f5\" x=\"162.131417\" y=\"96.031\" style=\"fill: #1f77b4; stroke: #1f77b4\"/>\n",
       "     <use xlink:href=\"#mbc0223f3f5\" x=\"190.481786\" y=\"103.838929\" style=\"fill: #1f77b4; stroke: #1f77b4\"/>\n",
       "     <use xlink:href=\"#mbc0223f3f5\" x=\"125.82633\" y=\"78.675703\" style=\"fill: #1f77b4; stroke: #1f77b4\"/>\n",
       "     <use xlink:href=\"#mbc0223f3f5\" x=\"122.202647\" y=\"73.605719\" style=\"fill: #1f77b4; stroke: #1f77b4\"/>\n",
       "     <use xlink:href=\"#mbc0223f3f5\" x=\"155.455238\" y=\"94.086516\" style=\"fill: #1f77b4; stroke: #1f77b4\"/>\n",
       "     <use xlink:href=\"#mbc0223f3f5\" x=\"157.823447\" y=\"101.646827\" style=\"fill: #1f77b4; stroke: #1f77b4\"/>\n",
       "     <use xlink:href=\"#mbc0223f3f5\" x=\"186.707458\" y=\"93.591714\" style=\"fill: #1f77b4; stroke: #1f77b4\"/>\n",
       "     <use xlink:href=\"#mbc0223f3f5\" x=\"136.49797\" y=\"64.372776\" style=\"fill: #1f77b4; stroke: #1f77b4\"/>\n",
       "     <use xlink:href=\"#mbc0223f3f5\" x=\"121.800785\" y=\"66.029968\" style=\"fill: #1f77b4; stroke: #1f77b4\"/>\n",
       "     <use xlink:href=\"#mbc0223f3f5\" x=\"104.365524\" y=\"65.332011\" style=\"fill: #1f77b4; stroke: #1f77b4\"/>\n",
       "     <use xlink:href=\"#mbc0223f3f5\" x=\"103.65594\" y=\"56.769519\" style=\"fill: #1f77b4; stroke: #1f77b4\"/>\n",
       "     <use xlink:href=\"#mbc0223f3f5\" x=\"110.091291\" y=\"73.12373\" style=\"fill: #1f77b4; stroke: #1f77b4\"/>\n",
       "     <use xlink:href=\"#mbc0223f3f5\" x=\"85.196478\" y=\"48.828805\" style=\"fill: #1f77b4; stroke: #1f77b4\"/>\n",
       "     <use xlink:href=\"#mbc0223f3f5\" x=\"185.439224\" y=\"115.791778\" style=\"fill: #1f77b4; stroke: #1f77b4\"/>\n",
       "     <use xlink:href=\"#mbc0223f3f5\" x=\"156.454711\" y=\"92.933042\" style=\"fill: #1f77b4; stroke: #1f77b4\"/>\n",
       "     <use xlink:href=\"#mbc0223f3f5\" x=\"129.33866\" y=\"77.786298\" style=\"fill: #1f77b4; stroke: #1f77b4\"/>\n",
       "     <use xlink:href=\"#mbc0223f3f5\" x=\"134.511026\" y=\"63.570645\" style=\"fill: #1f77b4; stroke: #1f77b4\"/>\n",
       "     <use xlink:href=\"#mbc0223f3f5\" x=\"103.150986\" y=\"59.548028\" style=\"fill: #1f77b4; stroke: #1f77b4\"/>\n",
       "     <use xlink:href=\"#mbc0223f3f5\" x=\"125.431292\" y=\"83.731433\" style=\"fill: #1f77b4; stroke: #1f77b4\"/>\n",
       "     <use xlink:href=\"#mbc0223f3f5\" x=\"123.103373\" y=\"75.869452\" style=\"fill: #1f77b4; stroke: #1f77b4\"/>\n",
       "     <use xlink:href=\"#mbc0223f3f5\" x=\"169.793937\" y=\"101.58738\" style=\"fill: #1f77b4; stroke: #1f77b4\"/>\n",
       "     <use xlink:href=\"#mbc0223f3f5\" x=\"166.061682\" y=\"95.030428\" style=\"fill: #1f77b4; stroke: #1f77b4\"/>\n",
       "     <use xlink:href=\"#mbc0223f3f5\" x=\"165.955516\" y=\"104.851051\" style=\"fill: #1f77b4; stroke: #1f77b4\"/>\n",
       "     <use xlink:href=\"#mbc0223f3f5\" x=\"105.624982\" y=\"68.52531\" style=\"fill: #1f77b4; stroke: #1f77b4\"/>\n",
       "     <use xlink:href=\"#mbc0223f3f5\" x=\"158.600395\" y=\"110.32119\" style=\"fill: #1f77b4; stroke: #1f77b4\"/>\n",
       "     <use xlink:href=\"#mbc0223f3f5\" x=\"183.059737\" y=\"125.45273\" style=\"fill: #1f77b4; stroke: #1f77b4\"/>\n",
       "     <use xlink:href=\"#mbc0223f3f5\" x=\"141.604563\" y=\"84.501832\" style=\"fill: #1f77b4; stroke: #1f77b4\"/>\n",
       "     <use xlink:href=\"#mbc0223f3f5\" x=\"90.201354\" y=\"33.444849\" style=\"fill: #1f77b4; stroke: #1f77b4\"/>\n",
       "     <use xlink:href=\"#mbc0223f3f5\" x=\"167.157535\" y=\"102.740088\" style=\"fill: #1f77b4; stroke: #1f77b4\"/>\n",
       "     <use xlink:href=\"#mbc0223f3f5\" x=\"129.614721\" y=\"64.0807\" style=\"fill: #1f77b4; stroke: #1f77b4\"/>\n",
       "     <use xlink:href=\"#mbc0223f3f5\" x=\"118.635723\" y=\"74.587992\" style=\"fill: #1f77b4; stroke: #1f77b4\"/>\n",
       "     <use xlink:href=\"#mbc0223f3f5\" x=\"147.307853\" y=\"78.927615\" style=\"fill: #1f77b4; stroke: #1f77b4\"/>\n",
       "     <use xlink:href=\"#mbc0223f3f5\" x=\"94.840851\" y=\"63.614034\" style=\"fill: #1f77b4; stroke: #1f77b4\"/>\n",
       "     <use xlink:href=\"#mbc0223f3f5\" x=\"111.170501\" y=\"75.802477\" style=\"fill: #1f77b4; stroke: #1f77b4\"/>\n",
       "     <use xlink:href=\"#mbc0223f3f5\" x=\"142.180582\" y=\"78.421813\" style=\"fill: #1f77b4; stroke: #1f77b4\"/>\n",
       "     <use xlink:href=\"#mbc0223f3f5\" x=\"142.868434\" y=\"91.270534\" style=\"fill: #1f77b4; stroke: #1f77b4\"/>\n",
       "     <use xlink:href=\"#mbc0223f3f5\" x=\"76.345036\" y=\"38.125484\" style=\"fill: #1f77b4; stroke: #1f77b4\"/>\n",
       "     <use xlink:href=\"#mbc0223f3f5\" x=\"97.154401\" y=\"63.382467\" style=\"fill: #1f77b4; stroke: #1f77b4\"/>\n",
       "     <use xlink:href=\"#mbc0223f3f5\" x=\"161.94239\" y=\"80.11533\" style=\"fill: #1f77b4; stroke: #1f77b4\"/>\n",
       "     <use xlink:href=\"#mbc0223f3f5\" x=\"154.494318\" y=\"101.824971\" style=\"fill: #1f77b4; stroke: #1f77b4\"/>\n",
       "     <use xlink:href=\"#mbc0223f3f5\" x=\"168.326203\" y=\"114.634211\" style=\"fill: #1f77b4; stroke: #1f77b4\"/>\n",
       "     <use xlink:href=\"#mbc0223f3f5\" x=\"153.361135\" y=\"104.753874\" style=\"fill: #1f77b4; stroke: #1f77b4\"/>\n",
       "     <use xlink:href=\"#mbc0223f3f5\" x=\"139.447195\" y=\"91.946046\" style=\"fill: #1f77b4; stroke: #1f77b4\"/>\n",
       "     <use xlink:href=\"#mbc0223f3f5\" x=\"134.652487\" y=\"91.456915\" style=\"fill: #1f77b4; stroke: #1f77b4\"/>\n",
       "     <use xlink:href=\"#mbc0223f3f5\" x=\"111.120177\" y=\"78.350646\" style=\"fill: #1f77b4; stroke: #1f77b4\"/>\n",
       "     <use xlink:href=\"#mbc0223f3f5\" x=\"133.776832\" y=\"68.000913\" style=\"fill: #1f77b4; stroke: #1f77b4\"/>\n",
       "     <use xlink:href=\"#mbc0223f3f5\" x=\"164.268522\" y=\"97.424675\" style=\"fill: #1f77b4; stroke: #1f77b4\"/>\n",
       "     <use xlink:href=\"#mbc0223f3f5\" x=\"136.420584\" y=\"90.381273\" style=\"fill: #1f77b4; stroke: #1f77b4\"/>\n",
       "     <use xlink:href=\"#mbc0223f3f5\" x=\"155.305564\" y=\"91.037038\" style=\"fill: #1f77b4; stroke: #1f77b4\"/>\n",
       "     <use xlink:href=\"#mbc0223f3f5\" x=\"140.279982\" y=\"79.18898\" style=\"fill: #1f77b4; stroke: #1f77b4\"/>\n",
       "     <use xlink:href=\"#mbc0223f3f5\" x=\"94.148724\" y=\"49.879093\" style=\"fill: #1f77b4; stroke: #1f77b4\"/>\n",
       "     <use xlink:href=\"#mbc0223f3f5\" x=\"146.47814\" y=\"90.525715\" style=\"fill: #1f77b4; stroke: #1f77b4\"/>\n",
       "     <use xlink:href=\"#mbc0223f3f5\" x=\"184.401794\" y=\"112.814868\" style=\"fill: #1f77b4; stroke: #1f77b4\"/>\n",
       "     <use xlink:href=\"#mbc0223f3f5\" x=\"146.161768\" y=\"89.408644\" style=\"fill: #1f77b4; stroke: #1f77b4\"/>\n",
       "     <use xlink:href=\"#mbc0223f3f5\" x=\"162.512039\" y=\"93.607304\" style=\"fill: #1f77b4; stroke: #1f77b4\"/>\n",
       "     <use xlink:href=\"#mbc0223f3f5\" x=\"112.061641\" y=\"78.557833\" style=\"fill: #1f77b4; stroke: #1f77b4\"/>\n",
       "     <use xlink:href=\"#mbc0223f3f5\" x=\"155.359863\" y=\"89.100809\" style=\"fill: #1f77b4; stroke: #1f77b4\"/>\n",
       "     <use xlink:href=\"#mbc0223f3f5\" x=\"126.49614\" y=\"66.508759\" style=\"fill: #1f77b4; stroke: #1f77b4\"/>\n",
       "     <use xlink:href=\"#mbc0223f3f5\" x=\"175.312805\" y=\"113.259411\" style=\"fill: #1f77b4; stroke: #1f77b4\"/>\n",
       "     <use xlink:href=\"#mbc0223f3f5\" x=\"154.61122\" y=\"104.458515\" style=\"fill: #1f77b4; stroke: #1f77b4\"/>\n",
       "     <use xlink:href=\"#mbc0223f3f5\" x=\"123.351108\" y=\"81.427831\" style=\"fill: #1f77b4; stroke: #1f77b4\"/>\n",
       "     <use xlink:href=\"#mbc0223f3f5\" x=\"118.274858\" y=\"58.272889\" style=\"fill: #1f77b4; stroke: #1f77b4\"/>\n",
       "     <use xlink:href=\"#mbc0223f3f5\" x=\"124.695873\" y=\"61.905838\" style=\"fill: #1f77b4; stroke: #1f77b4\"/>\n",
       "     <use xlink:href=\"#mbc0223f3f5\" x=\"171.63911\" y=\"124.95495\" style=\"fill: #1f77b4; stroke: #1f77b4\"/>\n",
       "     <use xlink:href=\"#mbc0223f3f5\" x=\"142.01124\" y=\"82.318943\" style=\"fill: #1f77b4; stroke: #1f77b4\"/>\n",
       "     <use xlink:href=\"#mbc0223f3f5\" x=\"134.662723\" y=\"87.711704\" style=\"fill: #1f77b4; stroke: #1f77b4\"/>\n",
       "     <use xlink:href=\"#mbc0223f3f5\" x=\"136.577173\" y=\"90.093741\" style=\"fill: #1f77b4; stroke: #1f77b4\"/>\n",
       "     <use xlink:href=\"#mbc0223f3f5\" x=\"122.876334\" y=\"70.349827\" style=\"fill: #1f77b4; stroke: #1f77b4\"/>\n",
       "     <use xlink:href=\"#mbc0223f3f5\" x=\"142.712043\" y=\"82.207124\" style=\"fill: #1f77b4; stroke: #1f77b4\"/>\n",
       "     <use xlink:href=\"#mbc0223f3f5\" x=\"144.778649\" y=\"85.98248\" style=\"fill: #1f77b4; stroke: #1f77b4\"/>\n",
       "     <use xlink:href=\"#mbc0223f3f5\" x=\"157.741177\" y=\"107.998975\" style=\"fill: #1f77b4; stroke: #1f77b4\"/>\n",
       "     <use xlink:href=\"#mbc0223f3f5\" x=\"143.861141\" y=\"71.165503\" style=\"fill: #1f77b4; stroke: #1f77b4\"/>\n",
       "     <use xlink:href=\"#mbc0223f3f5\" x=\"74.452865\" y=\"64.857687\" style=\"fill: #1f77b4; stroke: #1f77b4\"/>\n",
       "     <use xlink:href=\"#mbc0223f3f5\" x=\"166.981741\" y=\"100.865044\" style=\"fill: #1f77b4; stroke: #1f77b4\"/>\n",
       "     <use xlink:href=\"#mbc0223f3f5\" x=\"121.682289\" y=\"64.644841\" style=\"fill: #1f77b4; stroke: #1f77b4\"/>\n",
       "     <use xlink:href=\"#mbc0223f3f5\" x=\"128.128816\" y=\"77.581558\" style=\"fill: #1f77b4; stroke: #1f77b4\"/>\n",
       "     <use xlink:href=\"#mbc0223f3f5\" x=\"185.979705\" y=\"118.510569\" style=\"fill: #1f77b4; stroke: #1f77b4\"/>\n",
       "     <use xlink:href=\"#mbc0223f3f5\" x=\"155.095184\" y=\"92.426192\" style=\"fill: #1f77b4; stroke: #1f77b4\"/>\n",
       "     <use xlink:href=\"#mbc0223f3f5\" x=\"152.377471\" y=\"89.832599\" style=\"fill: #1f77b4; stroke: #1f77b4\"/>\n",
       "     <use xlink:href=\"#mbc0223f3f5\" x=\"145.161153\" y=\"75.647685\" style=\"fill: #1f77b4; stroke: #1f77b4\"/>\n",
       "     <use xlink:href=\"#mbc0223f3f5\" x=\"113.58718\" y=\"70.43525\" style=\"fill: #1f77b4; stroke: #1f77b4\"/>\n",
       "     <use xlink:href=\"#mbc0223f3f5\" x=\"142.101088\" y=\"86.839239\" style=\"fill: #1f77b4; stroke: #1f77b4\"/>\n",
       "     <use xlink:href=\"#mbc0223f3f5\" x=\"97.488925\" y=\"66.454772\" style=\"fill: #1f77b4; stroke: #1f77b4\"/>\n",
       "     <use xlink:href=\"#mbc0223f3f5\" x=\"136.208403\" y=\"78.57448\" style=\"fill: #1f77b4; stroke: #1f77b4\"/>\n",
       "     <use xlink:href=\"#mbc0223f3f5\" x=\"177.436084\" y=\"103.043863\" style=\"fill: #1f77b4; stroke: #1f77b4\"/>\n",
       "     <use xlink:href=\"#mbc0223f3f5\" x=\"157.007995\" y=\"80.625079\" style=\"fill: #1f77b4; stroke: #1f77b4\"/>\n",
       "     <use xlink:href=\"#mbc0223f3f5\" x=\"97.71566\" y=\"64.162592\" style=\"fill: #1f77b4; stroke: #1f77b4\"/>\n",
       "     <use xlink:href=\"#mbc0223f3f5\" x=\"180.063028\" y=\"81.397001\" style=\"fill: #1f77b4; stroke: #1f77b4\"/>\n",
       "     <use xlink:href=\"#mbc0223f3f5\" x=\"149.303024\" y=\"72.513641\" style=\"fill: #1f77b4; stroke: #1f77b4\"/>\n",
       "     <use xlink:href=\"#mbc0223f3f5\" x=\"111.918808\" y=\"65.258883\" style=\"fill: #1f77b4; stroke: #1f77b4\"/>\n",
       "     <use xlink:href=\"#mbc0223f3f5\" x=\"176.029852\" y=\"104.817099\" style=\"fill: #1f77b4; stroke: #1f77b4\"/>\n",
       "     <use xlink:href=\"#mbc0223f3f5\" x=\"129.980276\" y=\"82.14114\" style=\"fill: #1f77b4; stroke: #1f77b4\"/>\n",
       "     <use xlink:href=\"#mbc0223f3f5\" x=\"133.818699\" y=\"81.457292\" style=\"fill: #1f77b4; stroke: #1f77b4\"/>\n",
       "     <use xlink:href=\"#mbc0223f3f5\" x=\"158.3163\" y=\"99.864761\" style=\"fill: #1f77b4; stroke: #1f77b4\"/>\n",
       "     <use xlink:href=\"#mbc0223f3f5\" x=\"151.306724\" y=\"91.503693\" style=\"fill: #1f77b4; stroke: #1f77b4\"/>\n",
       "     <use xlink:href=\"#mbc0223f3f5\" x=\"130.195168\" y=\"86.485964\" style=\"fill: #1f77b4; stroke: #1f77b4\"/>\n",
       "     <use xlink:href=\"#mbc0223f3f5\" x=\"165.144061\" y=\"105.796309\" style=\"fill: #1f77b4; stroke: #1f77b4\"/>\n",
       "     <use xlink:href=\"#mbc0223f3f5\" x=\"165.629823\" y=\"114.201601\" style=\"fill: #1f77b4; stroke: #1f77b4\"/>\n",
       "     <use xlink:href=\"#mbc0223f3f5\" x=\"114.685972\" y=\"71.839184\" style=\"fill: #1f77b4; stroke: #1f77b4\"/>\n",
       "     <use xlink:href=\"#mbc0223f3f5\" x=\"160.825924\" y=\"95.835042\" style=\"fill: #1f77b4; stroke: #1f77b4\"/>\n",
       "     <use xlink:href=\"#mbc0223f3f5\" x=\"138.435047\" y=\"72.150722\" style=\"fill: #1f77b4; stroke: #1f77b4\"/>\n",
       "     <use xlink:href=\"#mbc0223f3f5\" x=\"144.090409\" y=\"84.287838\" style=\"fill: #1f77b4; stroke: #1f77b4\"/>\n",
       "     <use xlink:href=\"#mbc0223f3f5\" x=\"131.759443\" y=\"80.73735\" style=\"fill: #1f77b4; stroke: #1f77b4\"/>\n",
       "     <use xlink:href=\"#mbc0223f3f5\" x=\"128.677484\" y=\"81.089348\" style=\"fill: #1f77b4; stroke: #1f77b4\"/>\n",
       "     <use xlink:href=\"#mbc0223f3f5\" x=\"126.473585\" y=\"85.662986\" style=\"fill: #1f77b4; stroke: #1f77b4\"/>\n",
       "     <use xlink:href=\"#mbc0223f3f5\" x=\"179.346716\" y=\"105.685245\" style=\"fill: #1f77b4; stroke: #1f77b4\"/>\n",
       "     <use xlink:href=\"#mbc0223f3f5\" x=\"112.814109\" y=\"75.421552\" style=\"fill: #1f77b4; stroke: #1f77b4\"/>\n",
       "     <use xlink:href=\"#mbc0223f3f5\" x=\"156.190561\" y=\"81.317169\" style=\"fill: #1f77b4; stroke: #1f77b4\"/>\n",
       "     <use xlink:href=\"#mbc0223f3f5\" x=\"169.278534\" y=\"112.987028\" style=\"fill: #1f77b4; stroke: #1f77b4\"/>\n",
       "     <use xlink:href=\"#mbc0223f3f5\" x=\"146.444369\" y=\"78.416547\" style=\"fill: #1f77b4; stroke: #1f77b4\"/>\n",
       "     <use xlink:href=\"#mbc0223f3f5\" x=\"146.746323\" y=\"81.126495\" style=\"fill: #1f77b4; stroke: #1f77b4\"/>\n",
       "     <use xlink:href=\"#mbc0223f3f5\" x=\"134.143754\" y=\"79.974999\" style=\"fill: #1f77b4; stroke: #1f77b4\"/>\n",
       "     <use xlink:href=\"#mbc0223f3f5\" x=\"111.454683\" y=\"71.489842\" style=\"fill: #1f77b4; stroke: #1f77b4\"/>\n",
       "     <use xlink:href=\"#mbc0223f3f5\" x=\"112.935388\" y=\"75.94461\" style=\"fill: #1f77b4; stroke: #1f77b4\"/>\n",
       "     <use xlink:href=\"#mbc0223f3f5\" x=\"153.240277\" y=\"96.15801\" style=\"fill: #1f77b4; stroke: #1f77b4\"/>\n",
       "     <use xlink:href=\"#mbc0223f3f5\" x=\"111.845125\" y=\"57.703644\" style=\"fill: #1f77b4; stroke: #1f77b4\"/>\n",
       "     <use xlink:href=\"#mbc0223f3f5\" x=\"169.443519\" y=\"118.901888\" style=\"fill: #1f77b4; stroke: #1f77b4\"/>\n",
       "     <use xlink:href=\"#mbc0223f3f5\" x=\"123.985103\" y=\"75.887088\" style=\"fill: #1f77b4; stroke: #1f77b4\"/>\n",
       "     <use xlink:href=\"#mbc0223f3f5\" x=\"127.642386\" y=\"72.48726\" style=\"fill: #1f77b4; stroke: #1f77b4\"/>\n",
       "     <use xlink:href=\"#mbc0223f3f5\" x=\"99.178944\" y=\"45.42232\" style=\"fill: #1f77b4; stroke: #1f77b4\"/>\n",
       "     <use xlink:href=\"#mbc0223f3f5\" x=\"142.716266\" y=\"82.65264\" style=\"fill: #1f77b4; stroke: #1f77b4\"/>\n",
       "     <use xlink:href=\"#mbc0223f3f5\" x=\"117.448587\" y=\"71.155843\" style=\"fill: #1f77b4; stroke: #1f77b4\"/>\n",
       "     <use xlink:href=\"#mbc0223f3f5\" x=\"113.921157\" y=\"56.372567\" style=\"fill: #1f77b4; stroke: #1f77b4\"/>\n",
       "     <use xlink:href=\"#mbc0223f3f5\" x=\"124.405803\" y=\"62.088488\" style=\"fill: #1f77b4; stroke: #1f77b4\"/>\n",
       "     <use xlink:href=\"#mbc0223f3f5\" x=\"169.173929\" y=\"114.899252\" style=\"fill: #1f77b4; stroke: #1f77b4\"/>\n",
       "     <use xlink:href=\"#mbc0223f3f5\" x=\"144.975197\" y=\"90.466281\" style=\"fill: #1f77b4; stroke: #1f77b4\"/>\n",
       "     <use xlink:href=\"#mbc0223f3f5\" x=\"189.037096\" y=\"100.382996\" style=\"fill: #1f77b4; stroke: #1f77b4\"/>\n",
       "     <use xlink:href=\"#mbc0223f3f5\" x=\"152.735909\" y=\"98.115372\" style=\"fill: #1f77b4; stroke: #1f77b4\"/>\n",
       "     <use xlink:href=\"#mbc0223f3f5\" x=\"162.401002\" y=\"91.909336\" style=\"fill: #1f77b4; stroke: #1f77b4\"/>\n",
       "     <use xlink:href=\"#mbc0223f3f5\" x=\"147.213036\" y=\"86.522579\" style=\"fill: #1f77b4; stroke: #1f77b4\"/>\n",
       "     <use xlink:href=\"#mbc0223f3f5\" x=\"124.08556\" y=\"86.157012\" style=\"fill: #1f77b4; stroke: #1f77b4\"/>\n",
       "     <use xlink:href=\"#mbc0223f3f5\" x=\"115.460744\" y=\"63.646887\" style=\"fill: #1f77b4; stroke: #1f77b4\"/>\n",
       "     <use xlink:href=\"#mbc0223f3f5\" x=\"161.042116\" y=\"94.704937\" style=\"fill: #1f77b4; stroke: #1f77b4\"/>\n",
       "     <use xlink:href=\"#mbc0223f3f5\" x=\"156.594574\" y=\"89.210172\" style=\"fill: #1f77b4; stroke: #1f77b4\"/>\n",
       "     <use xlink:href=\"#mbc0223f3f5\" x=\"125.063614\" y=\"75.881425\" style=\"fill: #1f77b4; stroke: #1f77b4\"/>\n",
       "     <use xlink:href=\"#mbc0223f3f5\" x=\"116.819062\" y=\"70.991846\" style=\"fill: #1f77b4; stroke: #1f77b4\"/>\n",
       "     <use xlink:href=\"#mbc0223f3f5\" x=\"161.028554\" y=\"92.248177\" style=\"fill: #1f77b4; stroke: #1f77b4\"/>\n",
       "     <use xlink:href=\"#mbc0223f3f5\" x=\"143.164561\" y=\"84.718274\" style=\"fill: #1f77b4; stroke: #1f77b4\"/>\n",
       "     <use xlink:href=\"#mbc0223f3f5\" x=\"120.312028\" y=\"77.615999\" style=\"fill: #1f77b4; stroke: #1f77b4\"/>\n",
       "     <use xlink:href=\"#mbc0223f3f5\" x=\"172.54069\" y=\"109.409252\" style=\"fill: #1f77b4; stroke: #1f77b4\"/>\n",
       "     <use xlink:href=\"#mbc0223f3f5\" x=\"143.186882\" y=\"88.892321\" style=\"fill: #1f77b4; stroke: #1f77b4\"/>\n",
       "     <use xlink:href=\"#mbc0223f3f5\" x=\"142.906078\" y=\"89.582138\" style=\"fill: #1f77b4; stroke: #1f77b4\"/>\n",
       "     <use xlink:href=\"#mbc0223f3f5\" x=\"169.164388\" y=\"101.887234\" style=\"fill: #1f77b4; stroke: #1f77b4\"/>\n",
       "     <use xlink:href=\"#mbc0223f3f5\" x=\"111.725244\" y=\"64.710237\" style=\"fill: #1f77b4; stroke: #1f77b4\"/>\n",
       "     <use xlink:href=\"#mbc0223f3f5\" x=\"169.056763\" y=\"120.134396\" style=\"fill: #1f77b4; stroke: #1f77b4\"/>\n",
       "     <use xlink:href=\"#mbc0223f3f5\" x=\"131.88792\" y=\"74.900273\" style=\"fill: #1f77b4; stroke: #1f77b4\"/>\n",
       "     <use xlink:href=\"#mbc0223f3f5\" x=\"146.044675\" y=\"94.186714\" style=\"fill: #1f77b4; stroke: #1f77b4\"/>\n",
       "     <use xlink:href=\"#mbc0223f3f5\" x=\"135.878479\" y=\"83.677815\" style=\"fill: #1f77b4; stroke: #1f77b4\"/>\n",
       "     <use xlink:href=\"#mbc0223f3f5\" x=\"171.992277\" y=\"102.926651\" style=\"fill: #1f77b4; stroke: #1f77b4\"/>\n",
       "     <use xlink:href=\"#mbc0223f3f5\" x=\"126.191036\" y=\"83.698188\" style=\"fill: #1f77b4; stroke: #1f77b4\"/>\n",
       "     <use xlink:href=\"#mbc0223f3f5\" x=\"125.875485\" y=\"91.816746\" style=\"fill: #1f77b4; stroke: #1f77b4\"/>\n",
       "     <use xlink:href=\"#mbc0223f3f5\" x=\"141.131643\" y=\"72.012974\" style=\"fill: #1f77b4; stroke: #1f77b4\"/>\n",
       "     <use xlink:href=\"#mbc0223f3f5\" x=\"131.031664\" y=\"90.687845\" style=\"fill: #1f77b4; stroke: #1f77b4\"/>\n",
       "     <use xlink:href=\"#mbc0223f3f5\" x=\"130.830373\" y=\"80.700661\" style=\"fill: #1f77b4; stroke: #1f77b4\"/>\n",
       "     <use xlink:href=\"#mbc0223f3f5\" x=\"148.074403\" y=\"76.650914\" style=\"fill: #1f77b4; stroke: #1f77b4\"/>\n",
       "     <use xlink:href=\"#mbc0223f3f5\" x=\"111.464311\" y=\"59.562589\" style=\"fill: #1f77b4; stroke: #1f77b4\"/>\n",
       "     <use xlink:href=\"#mbc0223f3f5\" x=\"174.134389\" y=\"86.034002\" style=\"fill: #1f77b4; stroke: #1f77b4\"/>\n",
       "     <use xlink:href=\"#mbc0223f3f5\" x=\"124.370554\" y=\"65.266222\" style=\"fill: #1f77b4; stroke: #1f77b4\"/>\n",
       "     <use xlink:href=\"#mbc0223f3f5\" x=\"120.806067\" y=\"78.075064\" style=\"fill: #1f77b4; stroke: #1f77b4\"/>\n",
       "     <use xlink:href=\"#mbc0223f3f5\" x=\"104.805882\" y=\"67.817174\" style=\"fill: #1f77b4; stroke: #1f77b4\"/>\n",
       "     <use xlink:href=\"#mbc0223f3f5\" x=\"168.108742\" y=\"98.813655\" style=\"fill: #1f77b4; stroke: #1f77b4\"/>\n",
       "     <use xlink:href=\"#mbc0223f3f5\" x=\"183.853746\" y=\"92.95245\" style=\"fill: #1f77b4; stroke: #1f77b4\"/>\n",
       "     <use xlink:href=\"#mbc0223f3f5\" x=\"174.629667\" y=\"93.917041\" style=\"fill: #1f77b4; stroke: #1f77b4\"/>\n",
       "     <use xlink:href=\"#mbc0223f3f5\" x=\"121.861899\" y=\"57.22741\" style=\"fill: #1f77b4; stroke: #1f77b4\"/>\n",
       "     <use xlink:href=\"#mbc0223f3f5\" x=\"126.831238\" y=\"69.420446\" style=\"fill: #1f77b4; stroke: #1f77b4\"/>\n",
       "     <use xlink:href=\"#mbc0223f3f5\" x=\"127.555062\" y=\"73.401942\" style=\"fill: #1f77b4; stroke: #1f77b4\"/>\n",
       "     <use xlink:href=\"#mbc0223f3f5\" x=\"161.2888\" y=\"110.035548\" style=\"fill: #1f77b4; stroke: #1f77b4\"/>\n",
       "     <use xlink:href=\"#mbc0223f3f5\" x=\"92.785317\" y=\"69.190821\" style=\"fill: #1f77b4; stroke: #1f77b4\"/>\n",
       "     <use xlink:href=\"#mbc0223f3f5\" x=\"151.747943\" y=\"104.013742\" style=\"fill: #1f77b4; stroke: #1f77b4\"/>\n",
       "     <use xlink:href=\"#mbc0223f3f5\" x=\"173.301206\" y=\"102.489632\" style=\"fill: #1f77b4; stroke: #1f77b4\"/>\n",
       "     <use xlink:href=\"#mbc0223f3f5\" x=\"136.892002\" y=\"81.683701\" style=\"fill: #1f77b4; stroke: #1f77b4\"/>\n",
       "     <use xlink:href=\"#mbc0223f3f5\" x=\"166.133389\" y=\"88.263304\" style=\"fill: #1f77b4; stroke: #1f77b4\"/>\n",
       "     <use xlink:href=\"#mbc0223f3f5\" x=\"116.538083\" y=\"74.19977\" style=\"fill: #1f77b4; stroke: #1f77b4\"/>\n",
       "     <use xlink:href=\"#mbc0223f3f5\" x=\"122.255552\" y=\"74.241323\" style=\"fill: #1f77b4; stroke: #1f77b4\"/>\n",
       "     <use xlink:href=\"#mbc0223f3f5\" x=\"150.161714\" y=\"80.804873\" style=\"fill: #1f77b4; stroke: #1f77b4\"/>\n",
       "     <use xlink:href=\"#mbc0223f3f5\" x=\"74.419749\" y=\"45.481229\" style=\"fill: #1f77b4; stroke: #1f77b4\"/>\n",
       "     <use xlink:href=\"#mbc0223f3f5\" x=\"76.770704\" y=\"44.014835\" style=\"fill: #1f77b4; stroke: #1f77b4\"/>\n",
       "     <use xlink:href=\"#mbc0223f3f5\" x=\"164.095322\" y=\"105.106642\" style=\"fill: #1f77b4; stroke: #1f77b4\"/>\n",
       "     <use xlink:href=\"#mbc0223f3f5\" x=\"184.485679\" y=\"106.381746\" style=\"fill: #1f77b4; stroke: #1f77b4\"/>\n",
       "     <use xlink:href=\"#mbc0223f3f5\" x=\"156.545336\" y=\"100.311028\" style=\"fill: #1f77b4; stroke: #1f77b4\"/>\n",
       "     <use xlink:href=\"#mbc0223f3f5\" x=\"136.132115\" y=\"71.979984\" style=\"fill: #1f77b4; stroke: #1f77b4\"/>\n",
       "     <use xlink:href=\"#mbc0223f3f5\" x=\"134.878729\" y=\"73.500075\" style=\"fill: #1f77b4; stroke: #1f77b4\"/>\n",
       "     <use xlink:href=\"#mbc0223f3f5\" x=\"135.234436\" y=\"87.307764\" style=\"fill: #1f77b4; stroke: #1f77b4\"/>\n",
       "     <use xlink:href=\"#mbc0223f3f5\" x=\"109.827405\" y=\"73.205425\" style=\"fill: #1f77b4; stroke: #1f77b4\"/>\n",
       "     <use xlink:href=\"#mbc0223f3f5\" x=\"122.80541\" y=\"62.590027\" style=\"fill: #1f77b4; stroke: #1f77b4\"/>\n",
       "     <use xlink:href=\"#mbc0223f3f5\" x=\"135.612725\" y=\"88.261556\" style=\"fill: #1f77b4; stroke: #1f77b4\"/>\n",
       "     <use xlink:href=\"#mbc0223f3f5\" x=\"94.506062\" y=\"57.725205\" style=\"fill: #1f77b4; stroke: #1f77b4\"/>\n",
       "     <use xlink:href=\"#mbc0223f3f5\" x=\"126.85566\" y=\"64.897827\" style=\"fill: #1f77b4; stroke: #1f77b4\"/>\n",
       "     <use xlink:href=\"#mbc0223f3f5\" x=\"123.743181\" y=\"70.483937\" style=\"fill: #1f77b4; stroke: #1f77b4\"/>\n",
       "     <use xlink:href=\"#mbc0223f3f5\" x=\"103.800486\" y=\"63.098388\" style=\"fill: #1f77b4; stroke: #1f77b4\"/>\n",
       "     <use xlink:href=\"#mbc0223f3f5\" x=\"106.039009\" y=\"57.13305\" style=\"fill: #1f77b4; stroke: #1f77b4\"/>\n",
       "     <use xlink:href=\"#mbc0223f3f5\" x=\"54.594811\" y=\"32.168206\" style=\"fill: #1f77b4; stroke: #1f77b4\"/>\n",
       "     <use xlink:href=\"#mbc0223f3f5\" x=\"131.065228\" y=\"84.697529\" style=\"fill: #1f77b4; stroke: #1f77b4\"/>\n",
       "     <use xlink:href=\"#mbc0223f3f5\" x=\"149.241797\" y=\"87.316152\" style=\"fill: #1f77b4; stroke: #1f77b4\"/>\n",
       "     <use xlink:href=\"#mbc0223f3f5\" x=\"141.602196\" y=\"82.269167\" style=\"fill: #1f77b4; stroke: #1f77b4\"/>\n",
       "     <use xlink:href=\"#mbc0223f3f5\" x=\"108.460818\" y=\"48.366406\" style=\"fill: #1f77b4; stroke: #1f77b4\"/>\n",
       "     <use xlink:href=\"#mbc0223f3f5\" x=\"139.600848\" y=\"85.390137\" style=\"fill: #1f77b4; stroke: #1f77b4\"/>\n",
       "     <use xlink:href=\"#mbc0223f3f5\" x=\"200.265825\" y=\"132.844356\" style=\"fill: #1f77b4; stroke: #1f77b4\"/>\n",
       "     <use xlink:href=\"#mbc0223f3f5\" x=\"115.803604\" y=\"67.719615\" style=\"fill: #1f77b4; stroke: #1f77b4\"/>\n",
       "     <use xlink:href=\"#mbc0223f3f5\" x=\"97.518981\" y=\"70.884882\" style=\"fill: #1f77b4; stroke: #1f77b4\"/>\n",
       "     <use xlink:href=\"#mbc0223f3f5\" x=\"165.509525\" y=\"89.556208\" style=\"fill: #1f77b4; stroke: #1f77b4\"/>\n",
       "     <use xlink:href=\"#mbc0223f3f5\" x=\"112.683477\" y=\"64.837304\" style=\"fill: #1f77b4; stroke: #1f77b4\"/>\n",
       "     <use xlink:href=\"#mbc0223f3f5\" x=\"144.000771\" y=\"84.663143\" style=\"fill: #1f77b4; stroke: #1f77b4\"/>\n",
       "     <use xlink:href=\"#mbc0223f3f5\" x=\"149.354457\" y=\"90.635901\" style=\"fill: #1f77b4; stroke: #1f77b4\"/>\n",
       "     <use xlink:href=\"#mbc0223f3f5\" x=\"165.850795\" y=\"90.867106\" style=\"fill: #1f77b4; stroke: #1f77b4\"/>\n",
       "     <use xlink:href=\"#mbc0223f3f5\" x=\"154.896385\" y=\"90.703722\" style=\"fill: #1f77b4; stroke: #1f77b4\"/>\n",
       "     <use xlink:href=\"#mbc0223f3f5\" x=\"129.247114\" y=\"101.830493\" style=\"fill: #1f77b4; stroke: #1f77b4\"/>\n",
       "     <use xlink:href=\"#mbc0223f3f5\" x=\"140.907901\" y=\"98.35015\" style=\"fill: #1f77b4; stroke: #1f77b4\"/>\n",
       "     <use xlink:href=\"#mbc0223f3f5\" x=\"112.978701\" y=\"75.290448\" style=\"fill: #1f77b4; stroke: #1f77b4\"/>\n",
       "     <use xlink:href=\"#mbc0223f3f5\" x=\"141.794019\" y=\"89.009455\" style=\"fill: #1f77b4; stroke: #1f77b4\"/>\n",
       "     <use xlink:href=\"#mbc0223f3f5\" x=\"165.523569\" y=\"99.208286\" style=\"fill: #1f77b4; stroke: #1f77b4\"/>\n",
       "     <use xlink:href=\"#mbc0223f3f5\" x=\"101.519056\" y=\"62.967367\" style=\"fill: #1f77b4; stroke: #1f77b4\"/>\n",
       "     <use xlink:href=\"#mbc0223f3f5\" x=\"106.578222\" y=\"58.651612\" style=\"fill: #1f77b4; stroke: #1f77b4\"/>\n",
       "     <use xlink:href=\"#mbc0223f3f5\" x=\"191.653361\" y=\"103.449344\" style=\"fill: #1f77b4; stroke: #1f77b4\"/>\n",
       "     <use xlink:href=\"#mbc0223f3f5\" x=\"122.071901\" y=\"58.559926\" style=\"fill: #1f77b4; stroke: #1f77b4\"/>\n",
       "     <use xlink:href=\"#mbc0223f3f5\" x=\"192.078688\" y=\"119.415093\" style=\"fill: #1f77b4; stroke: #1f77b4\"/>\n",
       "     <use xlink:href=\"#mbc0223f3f5\" x=\"131.316794\" y=\"77.596236\" style=\"fill: #1f77b4; stroke: #1f77b4\"/>\n",
       "     <use xlink:href=\"#mbc0223f3f5\" x=\"169.514306\" y=\"108.782492\" style=\"fill: #1f77b4; stroke: #1f77b4\"/>\n",
       "     <use xlink:href=\"#mbc0223f3f5\" x=\"124.260846\" y=\"68.823097\" style=\"fill: #1f77b4; stroke: #1f77b4\"/>\n",
       "     <use xlink:href=\"#mbc0223f3f5\" x=\"135.510998\" y=\"75.165533\" style=\"fill: #1f77b4; stroke: #1f77b4\"/>\n",
       "     <use xlink:href=\"#mbc0223f3f5\" x=\"141.610101\" y=\"77.49309\" style=\"fill: #1f77b4; stroke: #1f77b4\"/>\n",
       "     <use xlink:href=\"#mbc0223f3f5\" x=\"140.541686\" y=\"68.179798\" style=\"fill: #1f77b4; stroke: #1f77b4\"/>\n",
       "     <use xlink:href=\"#mbc0223f3f5\" x=\"145.025388\" y=\"85.106471\" style=\"fill: #1f77b4; stroke: #1f77b4\"/>\n",
       "     <use xlink:href=\"#mbc0223f3f5\" x=\"145.159594\" y=\"109.62166\" style=\"fill: #1f77b4; stroke: #1f77b4\"/>\n",
       "     <use xlink:href=\"#mbc0223f3f5\" x=\"177.512224\" y=\"102.881536\" style=\"fill: #1f77b4; stroke: #1f77b4\"/>\n",
       "     <use xlink:href=\"#mbc0223f3f5\" x=\"122.478273\" y=\"60.000324\" style=\"fill: #1f77b4; stroke: #1f77b4\"/>\n",
       "     <use xlink:href=\"#mbc0223f3f5\" x=\"151.530403\" y=\"91.15856\" style=\"fill: #1f77b4; stroke: #1f77b4\"/>\n",
       "     <use xlink:href=\"#mbc0223f3f5\" x=\"125.301471\" y=\"83.454166\" style=\"fill: #1f77b4; stroke: #1f77b4\"/>\n",
       "     <use xlink:href=\"#mbc0223f3f5\" x=\"151.088833\" y=\"79.091325\" style=\"fill: #1f77b4; stroke: #1f77b4\"/>\n",
       "     <use xlink:href=\"#mbc0223f3f5\" x=\"111.786194\" y=\"55.176603\" style=\"fill: #1f77b4; stroke: #1f77b4\"/>\n",
       "     <use xlink:href=\"#mbc0223f3f5\" x=\"101.029024\" y=\"63.980799\" style=\"fill: #1f77b4; stroke: #1f77b4\"/>\n",
       "     <use xlink:href=\"#mbc0223f3f5\" x=\"149.41463\" y=\"104.098311\" style=\"fill: #1f77b4; stroke: #1f77b4\"/>\n",
       "     <use xlink:href=\"#mbc0223f3f5\" x=\"179.054193\" y=\"104.929936\" style=\"fill: #1f77b4; stroke: #1f77b4\"/>\n",
       "     <use xlink:href=\"#mbc0223f3f5\" x=\"151.383113\" y=\"102.157324\" style=\"fill: #1f77b4; stroke: #1f77b4\"/>\n",
       "     <use xlink:href=\"#mbc0223f3f5\" x=\"146.063824\" y=\"84.948943\" style=\"fill: #1f77b4; stroke: #1f77b4\"/>\n",
       "     <use xlink:href=\"#mbc0223f3f5\" x=\"180.841135\" y=\"129.445801\" style=\"fill: #1f77b4; stroke: #1f77b4\"/>\n",
       "     <use xlink:href=\"#mbc0223f3f5\" x=\"94.26426\" y=\"71.812597\" style=\"fill: #1f77b4; stroke: #1f77b4\"/>\n",
       "     <use xlink:href=\"#mbc0223f3f5\" x=\"103.373943\" y=\"62.524852\" style=\"fill: #1f77b4; stroke: #1f77b4\"/>\n",
       "     <use xlink:href=\"#mbc0223f3f5\" x=\"153.66971\" y=\"95.103098\" style=\"fill: #1f77b4; stroke: #1f77b4\"/>\n",
       "     <use xlink:href=\"#mbc0223f3f5\" x=\"184.923863\" y=\"104.430865\" style=\"fill: #1f77b4; stroke: #1f77b4\"/>\n",
       "     <use xlink:href=\"#mbc0223f3f5\" x=\"141.405523\" y=\"68.831835\" style=\"fill: #1f77b4; stroke: #1f77b4\"/>\n",
       "     <use xlink:href=\"#mbc0223f3f5\" x=\"123.201668\" y=\"76.149135\" style=\"fill: #1f77b4; stroke: #1f77b4\"/>\n",
       "     <use xlink:href=\"#mbc0223f3f5\" x=\"147.139056\" y=\"88.992586\" style=\"fill: #1f77b4; stroke: #1f77b4\"/>\n",
       "     <use xlink:href=\"#mbc0223f3f5\" x=\"78.328649\" y=\"52.79418\" style=\"fill: #1f77b4; stroke: #1f77b4\"/>\n",
       "     <use xlink:href=\"#mbc0223f3f5\" x=\"101.706044\" y=\"48.796754\" style=\"fill: #1f77b4; stroke: #1f77b4\"/>\n",
       "     <use xlink:href=\"#mbc0223f3f5\" x=\"157.470872\" y=\"90.87802\" style=\"fill: #1f77b4; stroke: #1f77b4\"/>\n",
       "     <use xlink:href=\"#mbc0223f3f5\" x=\"140.767866\" y=\"72.354587\" style=\"fill: #1f77b4; stroke: #1f77b4\"/>\n",
       "     <use xlink:href=\"#mbc0223f3f5\" x=\"125.722366\" y=\"54.967518\" style=\"fill: #1f77b4; stroke: #1f77b4\"/>\n",
       "     <use xlink:href=\"#mbc0223f3f5\" x=\"121.856335\" y=\"80.213825\" style=\"fill: #1f77b4; stroke: #1f77b4\"/>\n",
       "     <use xlink:href=\"#mbc0223f3f5\" x=\"127.254679\" y=\"77.627575\" style=\"fill: #1f77b4; stroke: #1f77b4\"/>\n",
       "     <use xlink:href=\"#mbc0223f3f5\" x=\"212.419042\" y=\"117.966237\" style=\"fill: #1f77b4; stroke: #1f77b4\"/>\n",
       "     <use xlink:href=\"#mbc0223f3f5\" x=\"168.774654\" y=\"98.148354\" style=\"fill: #1f77b4; stroke: #1f77b4\"/>\n",
       "     <use xlink:href=\"#mbc0223f3f5\" x=\"89.672136\" y=\"50.536029\" style=\"fill: #1f77b4; stroke: #1f77b4\"/>\n",
       "     <use xlink:href=\"#mbc0223f3f5\" x=\"115.7751\" y=\"54.924205\" style=\"fill: #1f77b4; stroke: #1f77b4\"/>\n",
       "     <use xlink:href=\"#mbc0223f3f5\" x=\"160.634491\" y=\"99.823883\" style=\"fill: #1f77b4; stroke: #1f77b4\"/>\n",
       "     <use xlink:href=\"#mbc0223f3f5\" x=\"141.505315\" y=\"77.045018\" style=\"fill: #1f77b4; stroke: #1f77b4\"/>\n",
       "     <use xlink:href=\"#mbc0223f3f5\" x=\"150.977321\" y=\"90.796037\" style=\"fill: #1f77b4; stroke: #1f77b4\"/>\n",
       "     <use xlink:href=\"#mbc0223f3f5\" x=\"76.270231\" y=\"46.251264\" style=\"fill: #1f77b4; stroke: #1f77b4\"/>\n",
       "     <use xlink:href=\"#mbc0223f3f5\" x=\"126.288181\" y=\"74.52218\" style=\"fill: #1f77b4; stroke: #1f77b4\"/>\n",
       "     <use xlink:href=\"#mbc0223f3f5\" x=\"112.601336\" y=\"65.665104\" style=\"fill: #1f77b4; stroke: #1f77b4\"/>\n",
       "     <use xlink:href=\"#mbc0223f3f5\" x=\"101.396506\" y=\"55.018842\" style=\"fill: #1f77b4; stroke: #1f77b4\"/>\n",
       "     <use xlink:href=\"#mbc0223f3f5\" x=\"146.756859\" y=\"83.365315\" style=\"fill: #1f77b4; stroke: #1f77b4\"/>\n",
       "     <use xlink:href=\"#mbc0223f3f5\" x=\"119.372053\" y=\"69.224986\" style=\"fill: #1f77b4; stroke: #1f77b4\"/>\n",
       "     <use xlink:href=\"#mbc0223f3f5\" x=\"169.296135\" y=\"101.559676\" style=\"fill: #1f77b4; stroke: #1f77b4\"/>\n",
       "     <use xlink:href=\"#mbc0223f3f5\" x=\"156.225483\" y=\"91.102034\" style=\"fill: #1f77b4; stroke: #1f77b4\"/>\n",
       "     <use xlink:href=\"#mbc0223f3f5\" x=\"148.103437\" y=\"98.536838\" style=\"fill: #1f77b4; stroke: #1f77b4\"/>\n",
       "     <use xlink:href=\"#mbc0223f3f5\" x=\"130.253978\" y=\"79.371925\" style=\"fill: #1f77b4; stroke: #1f77b4\"/>\n",
       "     <use xlink:href=\"#mbc0223f3f5\" x=\"186.702681\" y=\"118.780185\" style=\"fill: #1f77b4; stroke: #1f77b4\"/>\n",
       "     <use xlink:href=\"#mbc0223f3f5\" x=\"144.023723\" y=\"74.904871\" style=\"fill: #1f77b4; stroke: #1f77b4\"/>\n",
       "     <use xlink:href=\"#mbc0223f3f5\" x=\"167.001585\" y=\"94.991078\" style=\"fill: #1f77b4; stroke: #1f77b4\"/>\n",
       "     <use xlink:href=\"#mbc0223f3f5\" x=\"132.091665\" y=\"75.992972\" style=\"fill: #1f77b4; stroke: #1f77b4\"/>\n",
       "     <use xlink:href=\"#mbc0223f3f5\" x=\"158.355816\" y=\"89.088983\" style=\"fill: #1f77b4; stroke: #1f77b4\"/>\n",
       "     <use xlink:href=\"#mbc0223f3f5\" x=\"164.416001\" y=\"94.076565\" style=\"fill: #1f77b4; stroke: #1f77b4\"/>\n",
       "     <use xlink:href=\"#mbc0223f3f5\" x=\"134.305049\" y=\"82.930184\" style=\"fill: #1f77b4; stroke: #1f77b4\"/>\n",
       "     <use xlink:href=\"#mbc0223f3f5\" x=\"149.043631\" y=\"91.724481\" style=\"fill: #1f77b4; stroke: #1f77b4\"/>\n",
       "     <use xlink:href=\"#mbc0223f3f5\" x=\"103.135041\" y=\"55.217713\" style=\"fill: #1f77b4; stroke: #1f77b4\"/>\n",
       "     <use xlink:href=\"#mbc0223f3f5\" x=\"132.975735\" y=\"78.545976\" style=\"fill: #1f77b4; stroke: #1f77b4\"/>\n",
       "     <use xlink:href=\"#mbc0223f3f5\" x=\"189.970668\" y=\"103.954588\" style=\"fill: #1f77b4; stroke: #1f77b4\"/>\n",
       "     <use xlink:href=\"#mbc0223f3f5\" x=\"148.354062\" y=\"87.1425\" style=\"fill: #1f77b4; stroke: #1f77b4\"/>\n",
       "     <use xlink:href=\"#mbc0223f3f5\" x=\"154.115025\" y=\"74.401795\" style=\"fill: #1f77b4; stroke: #1f77b4\"/>\n",
       "     <use xlink:href=\"#mbc0223f3f5\" x=\"124.119013\" y=\"75.861917\" style=\"fill: #1f77b4; stroke: #1f77b4\"/>\n",
       "     <use xlink:href=\"#mbc0223f3f5\" x=\"150.301844\" y=\"71.532508\" style=\"fill: #1f77b4; stroke: #1f77b4\"/>\n",
       "     <use xlink:href=\"#mbc0223f3f5\" x=\"150.053485\" y=\"82.684393\" style=\"fill: #1f77b4; stroke: #1f77b4\"/>\n",
       "     <use xlink:href=\"#mbc0223f3f5\" x=\"112.336258\" y=\"69.467478\" style=\"fill: #1f77b4; stroke: #1f77b4\"/>\n",
       "     <use xlink:href=\"#mbc0223f3f5\" x=\"144.075085\" y=\"88.114848\" style=\"fill: #1f77b4; stroke: #1f77b4\"/>\n",
       "     <use xlink:href=\"#mbc0223f3f5\" x=\"76.91768\" y=\"44.356945\" style=\"fill: #1f77b4; stroke: #1f77b4\"/>\n",
       "     <use xlink:href=\"#mbc0223f3f5\" x=\"112.45974\" y=\"78.900868\" style=\"fill: #1f77b4; stroke: #1f77b4\"/>\n",
       "     <use xlink:href=\"#mbc0223f3f5\" x=\"111.628347\" y=\"63.325294\" style=\"fill: #1f77b4; stroke: #1f77b4\"/>\n",
       "     <use xlink:href=\"#mbc0223f3f5\" x=\"121.56864\" y=\"83.933964\" style=\"fill: #1f77b4; stroke: #1f77b4\"/>\n",
       "     <use xlink:href=\"#mbc0223f3f5\" x=\"117.353959\" y=\"79.163087\" style=\"fill: #1f77b4; stroke: #1f77b4\"/>\n",
       "     <use xlink:href=\"#mbc0223f3f5\" x=\"172.964349\" y=\"117.458935\" style=\"fill: #1f77b4; stroke: #1f77b4\"/>\n",
       "     <use xlink:href=\"#mbc0223f3f5\" x=\"105.225691\" y=\"59.197908\" style=\"fill: #1f77b4; stroke: #1f77b4\"/>\n",
       "     <use xlink:href=\"#mbc0223f3f5\" x=\"119.146401\" y=\"86.744033\" style=\"fill: #1f77b4; stroke: #1f77b4\"/>\n",
       "     <use xlink:href=\"#mbc0223f3f5\" x=\"97.434005\" y=\"56.871525\" style=\"fill: #1f77b4; stroke: #1f77b4\"/>\n",
       "     <use xlink:href=\"#mbc0223f3f5\" x=\"158.089907\" y=\"87.895196\" style=\"fill: #1f77b4; stroke: #1f77b4\"/>\n",
       "     <use xlink:href=\"#mbc0223f3f5\" x=\"100.760074\" y=\"70.29328\" style=\"fill: #1f77b4; stroke: #1f77b4\"/>\n",
       "     <use xlink:href=\"#mbc0223f3f5\" x=\"106.744871\" y=\"61.218783\" style=\"fill: #1f77b4; stroke: #1f77b4\"/>\n",
       "     <use xlink:href=\"#mbc0223f3f5\" x=\"143.672317\" y=\"90.510662\" style=\"fill: #1f77b4; stroke: #1f77b4\"/>\n",
       "     <use xlink:href=\"#mbc0223f3f5\" x=\"121.619223\" y=\"76.856344\" style=\"fill: #1f77b4; stroke: #1f77b4\"/>\n",
       "     <use xlink:href=\"#mbc0223f3f5\" x=\"134.90654\" y=\"80.328246\" style=\"fill: #1f77b4; stroke: #1f77b4\"/>\n",
       "     <use xlink:href=\"#mbc0223f3f5\" x=\"167.855875\" y=\"110.922742\" style=\"fill: #1f77b4; stroke: #1f77b4\"/>\n",
       "     <use xlink:href=\"#mbc0223f3f5\" x=\"158.980612\" y=\"101.864012\" style=\"fill: #1f77b4; stroke: #1f77b4\"/>\n",
       "     <use xlink:href=\"#mbc0223f3f5\" x=\"137.908895\" y=\"85.110288\" style=\"fill: #1f77b4; stroke: #1f77b4\"/>\n",
       "     <use xlink:href=\"#mbc0223f3f5\" x=\"140.776855\" y=\"83.729621\" style=\"fill: #1f77b4; stroke: #1f77b4\"/>\n",
       "     <use xlink:href=\"#mbc0223f3f5\" x=\"168.50525\" y=\"95.170308\" style=\"fill: #1f77b4; stroke: #1f77b4\"/>\n",
       "     <use xlink:href=\"#mbc0223f3f5\" x=\"119.505639\" y=\"66.442062\" style=\"fill: #1f77b4; stroke: #1f77b4\"/>\n",
       "     <use xlink:href=\"#mbc0223f3f5\" x=\"134.45671\" y=\"60.719149\" style=\"fill: #1f77b4; stroke: #1f77b4\"/>\n",
       "     <use xlink:href=\"#mbc0223f3f5\" x=\"156.243512\" y=\"104.915714\" style=\"fill: #1f77b4; stroke: #1f77b4\"/>\n",
       "     <use xlink:href=\"#mbc0223f3f5\" x=\"169.505082\" y=\"116.697327\" style=\"fill: #1f77b4; stroke: #1f77b4\"/>\n",
       "     <use xlink:href=\"#mbc0223f3f5\" x=\"156.7396\" y=\"89.623914\" style=\"fill: #1f77b4; stroke: #1f77b4\"/>\n",
       "     <use xlink:href=\"#mbc0223f3f5\" x=\"131.91694\" y=\"73.39525\" style=\"fill: #1f77b4; stroke: #1f77b4\"/>\n",
       "     <use xlink:href=\"#mbc0223f3f5\" x=\"78.135455\" y=\"52.397007\" style=\"fill: #1f77b4; stroke: #1f77b4\"/>\n",
       "     <use xlink:href=\"#mbc0223f3f5\" x=\"139.615501\" y=\"76.848839\" style=\"fill: #1f77b4; stroke: #1f77b4\"/>\n",
       "     <use xlink:href=\"#mbc0223f3f5\" x=\"110.340951\" y=\"52.52068\" style=\"fill: #1f77b4; stroke: #1f77b4\"/>\n",
       "     <use xlink:href=\"#mbc0223f3f5\" x=\"112.775579\" y=\"74.413581\" style=\"fill: #1f77b4; stroke: #1f77b4\"/>\n",
       "     <use xlink:href=\"#mbc0223f3f5\" x=\"148.378443\" y=\"95.350263\" style=\"fill: #1f77b4; stroke: #1f77b4\"/>\n",
       "     <use xlink:href=\"#mbc0223f3f5\" x=\"159.321882\" y=\"107.201772\" style=\"fill: #1f77b4; stroke: #1f77b4\"/>\n",
       "     <use xlink:href=\"#mbc0223f3f5\" x=\"134.416231\" y=\"82.301088\" style=\"fill: #1f77b4; stroke: #1f77b4\"/>\n",
       "     <use xlink:href=\"#mbc0223f3f5\" x=\"105.188843\" y=\"61.712528\" style=\"fill: #1f77b4; stroke: #1f77b4\"/>\n",
       "     <use xlink:href=\"#mbc0223f3f5\" x=\"172.660335\" y=\"116.501251\" style=\"fill: #1f77b4; stroke: #1f77b4\"/>\n",
       "     <use xlink:href=\"#mbc0223f3f5\" x=\"131.526752\" y=\"90.287099\" style=\"fill: #1f77b4; stroke: #1f77b4\"/>\n",
       "     <use xlink:href=\"#mbc0223f3f5\" x=\"126.66976\" y=\"61.535354\" style=\"fill: #1f77b4; stroke: #1f77b4\"/>\n",
       "     <use xlink:href=\"#mbc0223f3f5\" x=\"105.646418\" y=\"58.622712\" style=\"fill: #1f77b4; stroke: #1f77b4\"/>\n",
       "     <use xlink:href=\"#mbc0223f3f5\" x=\"150.577792\" y=\"92.066394\" style=\"fill: #1f77b4; stroke: #1f77b4\"/>\n",
       "     <use xlink:href=\"#mbc0223f3f5\" x=\"123.818014\" y=\"79.742409\" style=\"fill: #1f77b4; stroke: #1f77b4\"/>\n",
       "     <use xlink:href=\"#mbc0223f3f5\" x=\"131.179554\" y=\"72.475079\" style=\"fill: #1f77b4; stroke: #1f77b4\"/>\n",
       "     <use xlink:href=\"#mbc0223f3f5\" x=\"158.645676\" y=\"113.279484\" style=\"fill: #1f77b4; stroke: #1f77b4\"/>\n",
       "     <use xlink:href=\"#mbc0223f3f5\" x=\"143.503264\" y=\"82.424243\" style=\"fill: #1f77b4; stroke: #1f77b4\"/>\n",
       "     <use xlink:href=\"#mbc0223f3f5\" x=\"89.961939\" y=\"44.209979\" style=\"fill: #1f77b4; stroke: #1f77b4\"/>\n",
       "     <use xlink:href=\"#mbc0223f3f5\" x=\"138.611549\" y=\"87.048783\" style=\"fill: #1f77b4; stroke: #1f77b4\"/>\n",
       "     <use xlink:href=\"#mbc0223f3f5\" x=\"105.306684\" y=\"72.362241\" style=\"fill: #1f77b4; stroke: #1f77b4\"/>\n",
       "     <use xlink:href=\"#mbc0223f3f5\" x=\"108.239995\" y=\"72.495317\" style=\"fill: #1f77b4; stroke: #1f77b4\"/>\n",
       "     <use xlink:href=\"#mbc0223f3f5\" x=\"95.229077\" y=\"58.824618\" style=\"fill: #1f77b4; stroke: #1f77b4\"/>\n",
       "     <use xlink:href=\"#mbc0223f3f5\" x=\"119.127797\" y=\"84.144948\" style=\"fill: #1f77b4; stroke: #1f77b4\"/>\n",
       "     <use xlink:href=\"#mbc0223f3f5\" x=\"99.977544\" y=\"51.497836\" style=\"fill: #1f77b4; stroke: #1f77b4\"/>\n",
       "     <use xlink:href=\"#mbc0223f3f5\" x=\"134.796611\" y=\"80.12981\" style=\"fill: #1f77b4; stroke: #1f77b4\"/>\n",
       "     <use xlink:href=\"#mbc0223f3f5\" x=\"140.198408\" y=\"67.12611\" style=\"fill: #1f77b4; stroke: #1f77b4\"/>\n",
       "     <use xlink:href=\"#mbc0223f3f5\" x=\"124.859619\" y=\"82.791068\" style=\"fill: #1f77b4; stroke: #1f77b4\"/>\n",
       "     <use xlink:href=\"#mbc0223f3f5\" x=\"162.708022\" y=\"97.735181\" style=\"fill: #1f77b4; stroke: #1f77b4\"/>\n",
       "     <use xlink:href=\"#mbc0223f3f5\" x=\"123.447687\" y=\"85.806677\" style=\"fill: #1f77b4; stroke: #1f77b4\"/>\n",
       "     <use xlink:href=\"#mbc0223f3f5\" x=\"135.840506\" y=\"73.307141\" style=\"fill: #1f77b4; stroke: #1f77b4\"/>\n",
       "     <use xlink:href=\"#mbc0223f3f5\" x=\"158.420528\" y=\"102.382565\" style=\"fill: #1f77b4; stroke: #1f77b4\"/>\n",
       "     <use xlink:href=\"#mbc0223f3f5\" x=\"164.569738\" y=\"95.78098\" style=\"fill: #1f77b4; stroke: #1f77b4\"/>\n",
       "     <use xlink:href=\"#mbc0223f3f5\" x=\"127.751737\" y=\"73.784877\" style=\"fill: #1f77b4; stroke: #1f77b4\"/>\n",
       "     <use xlink:href=\"#mbc0223f3f5\" x=\"158.571357\" y=\"98.368255\" style=\"fill: #1f77b4; stroke: #1f77b4\"/>\n",
       "     <use xlink:href=\"#mbc0223f3f5\" x=\"186.158593\" y=\"110.575593\" style=\"fill: #1f77b4; stroke: #1f77b4\"/>\n",
       "     <use xlink:href=\"#mbc0223f3f5\" x=\"159.81515\" y=\"99.44073\" style=\"fill: #1f77b4; stroke: #1f77b4\"/>\n",
       "     <use xlink:href=\"#mbc0223f3f5\" x=\"150.482928\" y=\"90.822426\" style=\"fill: #1f77b4; stroke: #1f77b4\"/>\n",
       "     <use xlink:href=\"#mbc0223f3f5\" x=\"149.993166\" y=\"81.813336\" style=\"fill: #1f77b4; stroke: #1f77b4\"/>\n",
       "     <use xlink:href=\"#mbc0223f3f5\" x=\"128.263057\" y=\"79.954854\" style=\"fill: #1f77b4; stroke: #1f77b4\"/>\n",
       "     <use xlink:href=\"#mbc0223f3f5\" x=\"173.57249\" y=\"100.411145\" style=\"fill: #1f77b4; stroke: #1f77b4\"/>\n",
       "     <use xlink:href=\"#mbc0223f3f5\" x=\"120.63558\" y=\"59.767276\" style=\"fill: #1f77b4; stroke: #1f77b4\"/>\n",
       "     <use xlink:href=\"#mbc0223f3f5\" x=\"177.897438\" y=\"113.844231\" style=\"fill: #1f77b4; stroke: #1f77b4\"/>\n",
       "     <use xlink:href=\"#mbc0223f3f5\" x=\"143.575754\" y=\"94.72368\" style=\"fill: #1f77b4; stroke: #1f77b4\"/>\n",
       "     <use xlink:href=\"#mbc0223f3f5\" x=\"126.041405\" y=\"65.606645\" style=\"fill: #1f77b4; stroke: #1f77b4\"/>\n",
       "     <use xlink:href=\"#mbc0223f3f5\" x=\"161.0497\" y=\"97.91768\" style=\"fill: #1f77b4; stroke: #1f77b4\"/>\n",
       "     <use xlink:href=\"#mbc0223f3f5\" x=\"153.862558\" y=\"90.28205\" style=\"fill: #1f77b4; stroke: #1f77b4\"/>\n",
       "     <use xlink:href=\"#mbc0223f3f5\" x=\"82.607995\" y=\"64.538752\" style=\"fill: #1f77b4; stroke: #1f77b4\"/>\n",
       "     <use xlink:href=\"#mbc0223f3f5\" x=\"88.171776\" y=\"57.032648\" style=\"fill: #1f77b4; stroke: #1f77b4\"/>\n",
       "     <use xlink:href=\"#mbc0223f3f5\" x=\"134.51077\" y=\"76.792037\" style=\"fill: #1f77b4; stroke: #1f77b4\"/>\n",
       "     <use xlink:href=\"#mbc0223f3f5\" x=\"126.738254\" y=\"68.924856\" style=\"fill: #1f77b4; stroke: #1f77b4\"/>\n",
       "     <use xlink:href=\"#mbc0223f3f5\" x=\"86.170474\" y=\"46.352573\" style=\"fill: #1f77b4; stroke: #1f77b4\"/>\n",
       "     <use xlink:href=\"#mbc0223f3f5\" x=\"138.298282\" y=\"94.848667\" style=\"fill: #1f77b4; stroke: #1f77b4\"/>\n",
       "     <use xlink:href=\"#mbc0223f3f5\" x=\"162.075423\" y=\"98.650158\" style=\"fill: #1f77b4; stroke: #1f77b4\"/>\n",
       "     <use xlink:href=\"#mbc0223f3f5\" x=\"159.155321\" y=\"109.994371\" style=\"fill: #1f77b4; stroke: #1f77b4\"/>\n",
       "     <use xlink:href=\"#mbc0223f3f5\" x=\"86.031582\" y=\"68.333319\" style=\"fill: #1f77b4; stroke: #1f77b4\"/>\n",
       "     <use xlink:href=\"#mbc0223f3f5\" x=\"115.633993\" y=\"69.260467\" style=\"fill: #1f77b4; stroke: #1f77b4\"/>\n",
       "     <use xlink:href=\"#mbc0223f3f5\" x=\"135.085594\" y=\"87.606247\" style=\"fill: #1f77b4; stroke: #1f77b4\"/>\n",
       "     <use xlink:href=\"#mbc0223f3f5\" x=\"187.994743\" y=\"111.062267\" style=\"fill: #1f77b4; stroke: #1f77b4\"/>\n",
       "     <use xlink:href=\"#mbc0223f3f5\" x=\"107.538686\" y=\"66.406076\" style=\"fill: #1f77b4; stroke: #1f77b4\"/>\n",
       "     <use xlink:href=\"#mbc0223f3f5\" x=\"163.776209\" y=\"107.151747\" style=\"fill: #1f77b4; stroke: #1f77b4\"/>\n",
       "     <use xlink:href=\"#mbc0223f3f5\" x=\"150.1084\" y=\"90.747472\" style=\"fill: #1f77b4; stroke: #1f77b4\"/>\n",
       "     <use xlink:href=\"#mbc0223f3f5\" x=\"128.188549\" y=\"82.413047\" style=\"fill: #1f77b4; stroke: #1f77b4\"/>\n",
       "     <use xlink:href=\"#mbc0223f3f5\" x=\"112.462953\" y=\"82.572541\" style=\"fill: #1f77b4; stroke: #1f77b4\"/>\n",
       "     <use xlink:href=\"#mbc0223f3f5\" x=\"157.162878\" y=\"104.395742\" style=\"fill: #1f77b4; stroke: #1f77b4\"/>\n",
       "     <use xlink:href=\"#mbc0223f3f5\" x=\"103.005288\" y=\"60.169144\" style=\"fill: #1f77b4; stroke: #1f77b4\"/>\n",
       "     <use xlink:href=\"#mbc0223f3f5\" x=\"98.963759\" y=\"51.461744\" style=\"fill: #1f77b4; stroke: #1f77b4\"/>\n",
       "     <use xlink:href=\"#mbc0223f3f5\" x=\"185.563959\" y=\"117.399734\" style=\"fill: #1f77b4; stroke: #1f77b4\"/>\n",
       "     <use xlink:href=\"#mbc0223f3f5\" x=\"153.11711\" y=\"90.03477\" style=\"fill: #1f77b4; stroke: #1f77b4\"/>\n",
       "     <use xlink:href=\"#mbc0223f3f5\" x=\"138.824803\" y=\"102.582308\" style=\"fill: #1f77b4; stroke: #1f77b4\"/>\n",
       "     <use xlink:href=\"#mbc0223f3f5\" x=\"144.255109\" y=\"73.928076\" style=\"fill: #1f77b4; stroke: #1f77b4\"/>\n",
       "     <use xlink:href=\"#mbc0223f3f5\" x=\"85.879717\" y=\"53.252627\" style=\"fill: #1f77b4; stroke: #1f77b4\"/>\n",
       "     <use xlink:href=\"#mbc0223f3f5\" x=\"109.635589\" y=\"62.322954\" style=\"fill: #1f77b4; stroke: #1f77b4\"/>\n",
       "     <use xlink:href=\"#mbc0223f3f5\" x=\"144.526085\" y=\"86.2274\" style=\"fill: #1f77b4; stroke: #1f77b4\"/>\n",
       "     <use xlink:href=\"#mbc0223f3f5\" x=\"103.209373\" y=\"49.081962\" style=\"fill: #1f77b4; stroke: #1f77b4\"/>\n",
       "     <use xlink:href=\"#mbc0223f3f5\" x=\"137.775198\" y=\"78.732961\" style=\"fill: #1f77b4; stroke: #1f77b4\"/>\n",
       "     <use xlink:href=\"#mbc0223f3f5\" x=\"127.274136\" y=\"72.02176\" style=\"fill: #1f77b4; stroke: #1f77b4\"/>\n",
       "     <use xlink:href=\"#mbc0223f3f5\" x=\"113.703432\" y=\"62.802313\" style=\"fill: #1f77b4; stroke: #1f77b4\"/>\n",
       "     <use xlink:href=\"#mbc0223f3f5\" x=\"117.750873\" y=\"77.773516\" style=\"fill: #1f77b4; stroke: #1f77b4\"/>\n",
       "     <use xlink:href=\"#mbc0223f3f5\" x=\"166.835283\" y=\"96.775578\" style=\"fill: #1f77b4; stroke: #1f77b4\"/>\n",
       "     <use xlink:href=\"#mbc0223f3f5\" x=\"146.790612\" y=\"90.68086\" style=\"fill: #1f77b4; stroke: #1f77b4\"/>\n",
       "     <use xlink:href=\"#mbc0223f3f5\" x=\"135.532895\" y=\"75.969125\" style=\"fill: #1f77b4; stroke: #1f77b4\"/>\n",
       "     <use xlink:href=\"#mbc0223f3f5\" x=\"123.543275\" y=\"98.293139\" style=\"fill: #1f77b4; stroke: #1f77b4\"/>\n",
       "     <use xlink:href=\"#mbc0223f3f5\" x=\"86.508775\" y=\"54.100343\" style=\"fill: #1f77b4; stroke: #1f77b4\"/>\n",
       "     <use xlink:href=\"#mbc0223f3f5\" x=\"162.924352\" y=\"93.629022\" style=\"fill: #1f77b4; stroke: #1f77b4\"/>\n",
       "     <use xlink:href=\"#mbc0223f3f5\" x=\"142.75601\" y=\"79.499674\" style=\"fill: #1f77b4; stroke: #1f77b4\"/>\n",
       "     <use xlink:href=\"#mbc0223f3f5\" x=\"134.756645\" y=\"81.888642\" style=\"fill: #1f77b4; stroke: #1f77b4\"/>\n",
       "     <use xlink:href=\"#mbc0223f3f5\" x=\"103.85855\" y=\"70.307219\" style=\"fill: #1f77b4; stroke: #1f77b4\"/>\n",
       "     <use xlink:href=\"#mbc0223f3f5\" x=\"133.261959\" y=\"91.54962\" style=\"fill: #1f77b4; stroke: #1f77b4\"/>\n",
       "     <use xlink:href=\"#mbc0223f3f5\" x=\"148.648286\" y=\"75.592437\" style=\"fill: #1f77b4; stroke: #1f77b4\"/>\n",
       "     <use xlink:href=\"#mbc0223f3f5\" x=\"109.810484\" y=\"58.862327\" style=\"fill: #1f77b4; stroke: #1f77b4\"/>\n",
       "     <use xlink:href=\"#mbc0223f3f5\" x=\"214.472302\" y=\"138.92891\" style=\"fill: #1f77b4; stroke: #1f77b4\"/>\n",
       "     <use xlink:href=\"#mbc0223f3f5\" x=\"100.185799\" y=\"45.97503\" style=\"fill: #1f77b4; stroke: #1f77b4\"/>\n",
       "     <use xlink:href=\"#mbc0223f3f5\" x=\"156.233852\" y=\"83.547975\" style=\"fill: #1f77b4; stroke: #1f77b4\"/>\n",
       "     <use xlink:href=\"#mbc0223f3f5\" x=\"187.98094\" y=\"106.576732\" style=\"fill: #1f77b4; stroke: #1f77b4\"/>\n",
       "     <use xlink:href=\"#mbc0223f3f5\" x=\"156.8104\" y=\"77.353782\" style=\"fill: #1f77b4; stroke: #1f77b4\"/>\n",
       "     <use xlink:href=\"#mbc0223f3f5\" x=\"96.92183\" y=\"49.990396\" style=\"fill: #1f77b4; stroke: #1f77b4\"/>\n",
       "     <use xlink:href=\"#mbc0223f3f5\" x=\"115.357597\" y=\"88.58517\" style=\"fill: #1f77b4; stroke: #1f77b4\"/>\n",
       "     <use xlink:href=\"#mbc0223f3f5\" x=\"140.115467\" y=\"86.287534\" style=\"fill: #1f77b4; stroke: #1f77b4\"/>\n",
       "     <use xlink:href=\"#mbc0223f3f5\" x=\"186.039967\" y=\"116.257908\" style=\"fill: #1f77b4; stroke: #1f77b4\"/>\n",
       "     <use xlink:href=\"#mbc0223f3f5\" x=\"132.47689\" y=\"89.463741\" style=\"fill: #1f77b4; stroke: #1f77b4\"/>\n",
       "     <use xlink:href=\"#mbc0223f3f5\" x=\"211.270224\" y=\"117.363372\" style=\"fill: #1f77b4; stroke: #1f77b4\"/>\n",
       "     <use xlink:href=\"#mbc0223f3f5\" x=\"137.119642\" y=\"88.551711\" style=\"fill: #1f77b4; stroke: #1f77b4\"/>\n",
       "     <use xlink:href=\"#mbc0223f3f5\" x=\"137.901587\" y=\"102.987379\" style=\"fill: #1f77b4; stroke: #1f77b4\"/>\n",
       "     <use xlink:href=\"#mbc0223f3f5\" x=\"145.847792\" y=\"88.491597\" style=\"fill: #1f77b4; stroke: #1f77b4\"/>\n",
       "     <use xlink:href=\"#mbc0223f3f5\" x=\"116.944606\" y=\"80.645836\" style=\"fill: #1f77b4; stroke: #1f77b4\"/>\n",
       "     <use xlink:href=\"#mbc0223f3f5\" x=\"154.403079\" y=\"90.897134\" style=\"fill: #1f77b4; stroke: #1f77b4\"/>\n",
       "     <use xlink:href=\"#mbc0223f3f5\" x=\"132.334682\" y=\"79.517512\" style=\"fill: #1f77b4; stroke: #1f77b4\"/>\n",
       "     <use xlink:href=\"#mbc0223f3f5\" x=\"138.824851\" y=\"91.98201\" style=\"fill: #1f77b4; stroke: #1f77b4\"/>\n",
       "     <use xlink:href=\"#mbc0223f3f5\" x=\"110.107746\" y=\"57.537732\" style=\"fill: #1f77b4; stroke: #1f77b4\"/>\n",
       "     <use xlink:href=\"#mbc0223f3f5\" x=\"98.263957\" y=\"62.580217\" style=\"fill: #1f77b4; stroke: #1f77b4\"/>\n",
       "     <use xlink:href=\"#mbc0223f3f5\" x=\"129.310932\" y=\"68.020231\" style=\"fill: #1f77b4; stroke: #1f77b4\"/>\n",
       "     <use xlink:href=\"#mbc0223f3f5\" x=\"148.850675\" y=\"95.71027\" style=\"fill: #1f77b4; stroke: #1f77b4\"/>\n",
       "     <use xlink:href=\"#mbc0223f3f5\" x=\"177.406412\" y=\"98.22\" style=\"fill: #1f77b4; stroke: #1f77b4\"/>\n",
       "     <use xlink:href=\"#mbc0223f3f5\" x=\"120.969493\" y=\"72.79899\" style=\"fill: #1f77b4; stroke: #1f77b4\"/>\n",
       "     <use xlink:href=\"#mbc0223f3f5\" x=\"123.768175\" y=\"78.489567\" style=\"fill: #1f77b4; stroke: #1f77b4\"/>\n",
       "     <use xlink:href=\"#mbc0223f3f5\" x=\"128.889852\" y=\"80.976373\" style=\"fill: #1f77b4; stroke: #1f77b4\"/>\n",
       "     <use xlink:href=\"#mbc0223f3f5\" x=\"115.647433\" y=\"63.874306\" style=\"fill: #1f77b4; stroke: #1f77b4\"/>\n",
       "     <use xlink:href=\"#mbc0223f3f5\" x=\"141.131372\" y=\"84.24405\" style=\"fill: #1f77b4; stroke: #1f77b4\"/>\n",
       "     <use xlink:href=\"#mbc0223f3f5\" x=\"118.120368\" y=\"84.400264\" style=\"fill: #1f77b4; stroke: #1f77b4\"/>\n",
       "     <use xlink:href=\"#mbc0223f3f5\" x=\"106.029062\" y=\"57.901025\" style=\"fill: #1f77b4; stroke: #1f77b4\"/>\n",
       "     <use xlink:href=\"#mbc0223f3f5\" x=\"145.238134\" y=\"90.408568\" style=\"fill: #1f77b4; stroke: #1f77b4\"/>\n",
       "     <use xlink:href=\"#mbc0223f3f5\" x=\"196.985931\" y=\"123.720048\" style=\"fill: #1f77b4; stroke: #1f77b4\"/>\n",
       "     <use xlink:href=\"#mbc0223f3f5\" x=\"163.858711\" y=\"100.297029\" style=\"fill: #1f77b4; stroke: #1f77b4\"/>\n",
       "     <use xlink:href=\"#mbc0223f3f5\" x=\"136.112263\" y=\"65.56251\" style=\"fill: #1f77b4; stroke: #1f77b4\"/>\n",
       "     <use xlink:href=\"#mbc0223f3f5\" x=\"122.801616\" y=\"70.121315\" style=\"fill: #1f77b4; stroke: #1f77b4\"/>\n",
       "     <use xlink:href=\"#mbc0223f3f5\" x=\"161.812136\" y=\"95.845683\" style=\"fill: #1f77b4; stroke: #1f77b4\"/>\n",
       "     <use xlink:href=\"#mbc0223f3f5\" x=\"161.353489\" y=\"104.944796\" style=\"fill: #1f77b4; stroke: #1f77b4\"/>\n",
       "     <use xlink:href=\"#mbc0223f3f5\" x=\"169.627114\" y=\"96.097078\" style=\"fill: #1f77b4; stroke: #1f77b4\"/>\n",
       "     <use xlink:href=\"#mbc0223f3f5\" x=\"164.757426\" y=\"101.742049\" style=\"fill: #1f77b4; stroke: #1f77b4\"/>\n",
       "     <use xlink:href=\"#mbc0223f3f5\" x=\"99.967043\" y=\"59.053442\" style=\"fill: #1f77b4; stroke: #1f77b4\"/>\n",
       "     <use xlink:href=\"#mbc0223f3f5\" x=\"124.417674\" y=\"73.645829\" style=\"fill: #1f77b4; stroke: #1f77b4\"/>\n",
       "     <use xlink:href=\"#mbc0223f3f5\" x=\"166.223981\" y=\"96.679053\" style=\"fill: #1f77b4; stroke: #1f77b4\"/>\n",
       "     <use xlink:href=\"#mbc0223f3f5\" x=\"143.674282\" y=\"96.543462\" style=\"fill: #1f77b4; stroke: #1f77b4\"/>\n",
       "     <use xlink:href=\"#mbc0223f3f5\" x=\"120.243809\" y=\"64.037862\" style=\"fill: #1f77b4; stroke: #1f77b4\"/>\n",
       "     <use xlink:href=\"#mbc0223f3f5\" x=\"170.008366\" y=\"108.671008\" style=\"fill: #1f77b4; stroke: #1f77b4\"/>\n",
       "     <use xlink:href=\"#mbc0223f3f5\" x=\"147.156409\" y=\"80.90085\" style=\"fill: #1f77b4; stroke: #1f77b4\"/>\n",
       "     <use xlink:href=\"#mbc0223f3f5\" x=\"86.47839\" y=\"45.794247\" style=\"fill: #1f77b4; stroke: #1f77b4\"/>\n",
       "     <use xlink:href=\"#mbc0223f3f5\" x=\"157.016864\" y=\"97.030177\" style=\"fill: #1f77b4; stroke: #1f77b4\"/>\n",
       "     <use xlink:href=\"#mbc0223f3f5\" x=\"137.711509\" y=\"74.187319\" style=\"fill: #1f77b4; stroke: #1f77b4\"/>\n",
       "     <use xlink:href=\"#mbc0223f3f5\" x=\"131.959408\" y=\"84.85483\" style=\"fill: #1f77b4; stroke: #1f77b4\"/>\n",
       "     <use xlink:href=\"#mbc0223f3f5\" x=\"109.379862\" y=\"48.550087\" style=\"fill: #1f77b4; stroke: #1f77b4\"/>\n",
       "     <use xlink:href=\"#mbc0223f3f5\" x=\"129.296221\" y=\"61.851292\" style=\"fill: #1f77b4; stroke: #1f77b4\"/>\n",
       "     <use xlink:href=\"#mbc0223f3f5\" x=\"140.272536\" y=\"84.304958\" style=\"fill: #1f77b4; stroke: #1f77b4\"/>\n",
       "     <use xlink:href=\"#mbc0223f3f5\" x=\"189.822681\" y=\"103.790159\" style=\"fill: #1f77b4; stroke: #1f77b4\"/>\n",
       "     <use xlink:href=\"#mbc0223f3f5\" x=\"159.488757\" y=\"85.513235\" style=\"fill: #1f77b4; stroke: #1f77b4\"/>\n",
       "     <use xlink:href=\"#mbc0223f3f5\" x=\"157.937635\" y=\"92.553485\" style=\"fill: #1f77b4; stroke: #1f77b4\"/>\n",
       "     <use xlink:href=\"#mbc0223f3f5\" x=\"147.219423\" y=\"88.839427\" style=\"fill: #1f77b4; stroke: #1f77b4\"/>\n",
       "     <use xlink:href=\"#mbc0223f3f5\" x=\"101.32065\" y=\"63.817562\" style=\"fill: #1f77b4; stroke: #1f77b4\"/>\n",
       "     <use xlink:href=\"#mbc0223f3f5\" x=\"85.917421\" y=\"47.239616\" style=\"fill: #1f77b4; stroke: #1f77b4\"/>\n",
       "     <use xlink:href=\"#mbc0223f3f5\" x=\"158.658651\" y=\"86.230986\" style=\"fill: #1f77b4; stroke: #1f77b4\"/>\n",
       "     <use xlink:href=\"#mbc0223f3f5\" x=\"126.602394\" y=\"64.909947\" style=\"fill: #1f77b4; stroke: #1f77b4\"/>\n",
       "     <use xlink:href=\"#mbc0223f3f5\" x=\"83.613873\" y=\"65.627503\" style=\"fill: #1f77b4; stroke: #1f77b4\"/>\n",
       "     <use xlink:href=\"#mbc0223f3f5\" x=\"144.646599\" y=\"96.775125\" style=\"fill: #1f77b4; stroke: #1f77b4\"/>\n",
       "     <use xlink:href=\"#mbc0223f3f5\" x=\"174.881906\" y=\"102.029229\" style=\"fill: #1f77b4; stroke: #1f77b4\"/>\n",
       "     <use xlink:href=\"#mbc0223f3f5\" x=\"126.468419\" y=\"64.872628\" style=\"fill: #1f77b4; stroke: #1f77b4\"/>\n",
       "     <use xlink:href=\"#mbc0223f3f5\" x=\"144.971127\" y=\"95.92983\" style=\"fill: #1f77b4; stroke: #1f77b4\"/>\n",
       "     <use xlink:href=\"#mbc0223f3f5\" x=\"151.373139\" y=\"79.707652\" style=\"fill: #1f77b4; stroke: #1f77b4\"/>\n",
       "     <use xlink:href=\"#mbc0223f3f5\" x=\"129.446617\" y=\"71.90465\" style=\"fill: #1f77b4; stroke: #1f77b4\"/>\n",
       "     <use xlink:href=\"#mbc0223f3f5\" x=\"136.092436\" y=\"85.398435\" style=\"fill: #1f77b4; stroke: #1f77b4\"/>\n",
       "     <use xlink:href=\"#mbc0223f3f5\" x=\"93.051682\" y=\"43.964895\" style=\"fill: #1f77b4; stroke: #1f77b4\"/>\n",
       "     <use xlink:href=\"#mbc0223f3f5\" x=\"111.920689\" y=\"62.897764\" style=\"fill: #1f77b4; stroke: #1f77b4\"/>\n",
       "     <use xlink:href=\"#mbc0223f3f5\" x=\"93.473326\" y=\"64.882063\" style=\"fill: #1f77b4; stroke: #1f77b4\"/>\n",
       "     <use xlink:href=\"#mbc0223f3f5\" x=\"131.066109\" y=\"91.714607\" style=\"fill: #1f77b4; stroke: #1f77b4\"/>\n",
       "     <use xlink:href=\"#mbc0223f3f5\" x=\"191.089832\" y=\"122.671681\" style=\"fill: #1f77b4; stroke: #1f77b4\"/>\n",
       "     <use xlink:href=\"#mbc0223f3f5\" x=\"169.821509\" y=\"93.31484\" style=\"fill: #1f77b4; stroke: #1f77b4\"/>\n",
       "     <use xlink:href=\"#mbc0223f3f5\" x=\"167.474699\" y=\"96.169352\" style=\"fill: #1f77b4; stroke: #1f77b4\"/>\n",
       "     <use xlink:href=\"#mbc0223f3f5\" x=\"112.130706\" y=\"80.131833\" style=\"fill: #1f77b4; stroke: #1f77b4\"/>\n",
       "     <use xlink:href=\"#mbc0223f3f5\" x=\"152.332931\" y=\"90.826715\" style=\"fill: #1f77b4; stroke: #1f77b4\"/>\n",
       "     <use xlink:href=\"#mbc0223f3f5\" x=\"124.628796\" y=\"67.424367\" style=\"fill: #1f77b4; stroke: #1f77b4\"/>\n",
       "     <use xlink:href=\"#mbc0223f3f5\" x=\"147.54434\" y=\"84.193697\" style=\"fill: #1f77b4; stroke: #1f77b4\"/>\n",
       "     <use xlink:href=\"#mbc0223f3f5\" x=\"85.785583\" y=\"62.121765\" style=\"fill: #1f77b4; stroke: #1f77b4\"/>\n",
       "     <use xlink:href=\"#mbc0223f3f5\" x=\"118.284532\" y=\"74.776229\" style=\"fill: #1f77b4; stroke: #1f77b4\"/>\n",
       "    </g>\n",
       "   </g>\n",
       "   <g id=\"matplotlib.axis_1\">\n",
       "    <g id=\"xtick_1\">\n",
       "     <g id=\"line2d_1\">\n",
       "      <defs>\n",
       "       <path id=\"m60a6970471\" d=\"M 0 0 \n",
       "L 0 3.5 \n",
       "\" style=\"stroke: #000000; stroke-width: 0.8\"/>\n",
       "      </defs>\n",
       "      <g>\n",
       "       <use xlink:href=\"#m60a6970471\" x=\"85.455204\" y=\"145.106183\" style=\"stroke: #000000; stroke-width: 0.8\"/>\n",
       "      </g>\n",
       "     </g>\n",
       "     <g id=\"text_1\">\n",
       "      <!-- −2 -->\n",
       "      <g transform=\"translate(78.08411 159.70462)scale(0.1 -0.1)\">\n",
       "       <defs>\n",
       "        <path id=\"DejaVuSans-2212\" d=\"M 678 2272 \n",
       "L 4684 2272 \n",
       "L 4684 1741 \n",
       "L 678 1741 \n",
       "L 678 2272 \n",
       "z\n",
       "\" transform=\"scale(0.015625)\"/>\n",
       "        <path id=\"DejaVuSans-32\" d=\"M 1228 531 \n",
       "L 3431 531 \n",
       "L 3431 0 \n",
       "L 469 0 \n",
       "L 469 531 \n",
       "Q 828 903 1448 1529 \n",
       "Q 2069 2156 2228 2338 \n",
       "Q 2531 2678 2651 2914 \n",
       "Q 2772 3150 2772 3378 \n",
       "Q 2772 3750 2511 3984 \n",
       "Q 2250 4219 1831 4219 \n",
       "Q 1534 4219 1204 4116 \n",
       "Q 875 4013 500 3803 \n",
       "L 500 4441 \n",
       "Q 881 4594 1212 4672 \n",
       "Q 1544 4750 1819 4750 \n",
       "Q 2544 4750 2975 4387 \n",
       "Q 3406 4025 3406 3419 \n",
       "Q 3406 3131 3298 2873 \n",
       "Q 3191 2616 2906 2266 \n",
       "Q 2828 2175 2409 1742 \n",
       "Q 1991 1309 1228 531 \n",
       "z\n",
       "\" transform=\"scale(0.015625)\"/>\n",
       "       </defs>\n",
       "       <use xlink:href=\"#DejaVuSans-2212\"/>\n",
       "       <use xlink:href=\"#DejaVuSans-32\" x=\"83.789062\"/>\n",
       "      </g>\n",
       "     </g>\n",
       "    </g>\n",
       "    <g id=\"xtick_2\">\n",
       "     <g id=\"line2d_2\">\n",
       "      <g>\n",
       "       <use xlink:href=\"#m60a6970471\" x=\"136.596851\" y=\"145.106183\" style=\"stroke: #000000; stroke-width: 0.8\"/>\n",
       "      </g>\n",
       "     </g>\n",
       "     <g id=\"text_2\">\n",
       "      <!-- 0 -->\n",
       "      <g transform=\"translate(133.415601 159.70462)scale(0.1 -0.1)\">\n",
       "       <defs>\n",
       "        <path id=\"DejaVuSans-30\" d=\"M 2034 4250 \n",
       "Q 1547 4250 1301 3770 \n",
       "Q 1056 3291 1056 2328 \n",
       "Q 1056 1369 1301 889 \n",
       "Q 1547 409 2034 409 \n",
       "Q 2525 409 2770 889 \n",
       "Q 3016 1369 3016 2328 \n",
       "Q 3016 3291 2770 3770 \n",
       "Q 2525 4250 2034 4250 \n",
       "z\n",
       "M 2034 4750 \n",
       "Q 2819 4750 3233 4129 \n",
       "Q 3647 3509 3647 2328 \n",
       "Q 3647 1150 3233 529 \n",
       "Q 2819 -91 2034 -91 \n",
       "Q 1250 -91 836 529 \n",
       "Q 422 1150 422 2328 \n",
       "Q 422 3509 836 4129 \n",
       "Q 1250 4750 2034 4750 \n",
       "z\n",
       "\" transform=\"scale(0.015625)\"/>\n",
       "       </defs>\n",
       "       <use xlink:href=\"#DejaVuSans-30\"/>\n",
       "      </g>\n",
       "     </g>\n",
       "    </g>\n",
       "    <g id=\"xtick_3\">\n",
       "     <g id=\"line2d_3\">\n",
       "      <g>\n",
       "       <use xlink:href=\"#m60a6970471\" x=\"187.738499\" y=\"145.106183\" style=\"stroke: #000000; stroke-width: 0.8\"/>\n",
       "      </g>\n",
       "     </g>\n",
       "     <g id=\"text_3\">\n",
       "      <!-- 2 -->\n",
       "      <g transform=\"translate(184.557249 159.70462)scale(0.1 -0.1)\">\n",
       "       <use xlink:href=\"#DejaVuSans-32\"/>\n",
       "      </g>\n",
       "     </g>\n",
       "    </g>\n",
       "   </g>\n",
       "   <g id=\"matplotlib.axis_2\">\n",
       "    <g id=\"ytick_1\">\n",
       "     <g id=\"line2d_4\">\n",
       "      <defs>\n",
       "       <path id=\"m8dcb2ffa4c\" d=\"M 0 0 \n",
       "L -3.5 0 \n",
       "\" style=\"stroke: #000000; stroke-width: 0.8\"/>\n",
       "      </defs>\n",
       "      <g>\n",
       "       <use xlink:href=\"#m8dcb2ffa4c\" x=\"35.304688\" y=\"144.539018\" style=\"stroke: #000000; stroke-width: 0.8\"/>\n",
       "      </g>\n",
       "     </g>\n",
       "     <g id=\"text_4\">\n",
       "      <!-- −10 -->\n",
       "      <g transform=\"translate(7.2 148.338236)scale(0.1 -0.1)\">\n",
       "       <defs>\n",
       "        <path id=\"DejaVuSans-31\" d=\"M 794 531 \n",
       "L 1825 531 \n",
       "L 1825 4091 \n",
       "L 703 3866 \n",
       "L 703 4441 \n",
       "L 1819 4666 \n",
       "L 2450 4666 \n",
       "L 2450 531 \n",
       "L 3481 531 \n",
       "L 3481 0 \n",
       "L 794 0 \n",
       "L 794 531 \n",
       "z\n",
       "\" transform=\"scale(0.015625)\"/>\n",
       "       </defs>\n",
       "       <use xlink:href=\"#DejaVuSans-2212\"/>\n",
       "       <use xlink:href=\"#DejaVuSans-31\" x=\"83.789062\"/>\n",
       "       <use xlink:href=\"#DejaVuSans-30\" x=\"147.412109\"/>\n",
       "      </g>\n",
       "     </g>\n",
       "    </g>\n",
       "    <g id=\"ytick_2\">\n",
       "     <g id=\"line2d_5\">\n",
       "      <g>\n",
       "       <use xlink:href=\"#m8dcb2ffa4c\" x=\"35.304688\" y=\"100.025751\" style=\"stroke: #000000; stroke-width: 0.8\"/>\n",
       "      </g>\n",
       "     </g>\n",
       "     <g id=\"text_5\">\n",
       "      <!-- 0 -->\n",
       "      <g transform=\"translate(21.942187 103.82497)scale(0.1 -0.1)\">\n",
       "       <use xlink:href=\"#DejaVuSans-30\"/>\n",
       "      </g>\n",
       "     </g>\n",
       "    </g>\n",
       "    <g id=\"ytick_3\">\n",
       "     <g id=\"line2d_6\">\n",
       "      <g>\n",
       "       <use xlink:href=\"#m8dcb2ffa4c\" x=\"35.304688\" y=\"55.512485\" style=\"stroke: #000000; stroke-width: 0.8\"/>\n",
       "      </g>\n",
       "     </g>\n",
       "     <g id=\"text_6\">\n",
       "      <!-- 10 -->\n",
       "      <g transform=\"translate(15.579687 59.311704)scale(0.1 -0.1)\">\n",
       "       <use xlink:href=\"#DejaVuSans-31\"/>\n",
       "       <use xlink:href=\"#DejaVuSans-30\" x=\"63.623047\"/>\n",
       "      </g>\n",
       "     </g>\n",
       "    </g>\n",
       "    <g id=\"ytick_4\">\n",
       "     <g id=\"line2d_7\">\n",
       "      <g>\n",
       "       <use xlink:href=\"#m8dcb2ffa4c\" x=\"35.304688\" y=\"10.999219\" style=\"stroke: #000000; stroke-width: 0.8\"/>\n",
       "      </g>\n",
       "     </g>\n",
       "     <g id=\"text_7\">\n",
       "      <!-- 20 -->\n",
       "      <g transform=\"translate(15.579687 14.798437)scale(0.1 -0.1)\">\n",
       "       <use xlink:href=\"#DejaVuSans-32\"/>\n",
       "       <use xlink:href=\"#DejaVuSans-30\" x=\"63.623047\"/>\n",
       "      </g>\n",
       "     </g>\n",
       "    </g>\n",
       "   </g>\n",
       "   <g id=\"patch_3\">\n",
       "    <path d=\"M 35.304688 145.106183 \n",
       "L 35.304688 9.206183 \n",
       "\" style=\"fill: none; stroke: #000000; stroke-width: 0.8; stroke-linejoin: miter; stroke-linecap: square\"/>\n",
       "   </g>\n",
       "   <g id=\"patch_4\">\n",
       "    <path d=\"M 230.604688 145.106183 \n",
       "L 230.604688 9.206183 \n",
       "\" style=\"fill: none; stroke: #000000; stroke-width: 0.8; stroke-linejoin: miter; stroke-linecap: square\"/>\n",
       "   </g>\n",
       "   <g id=\"patch_5\">\n",
       "    <path d=\"M 35.304688 145.106183 \n",
       "L 230.604688 145.106183 \n",
       "\" style=\"fill: none; stroke: #000000; stroke-width: 0.8; stroke-linejoin: miter; stroke-linecap: square\"/>\n",
       "   </g>\n",
       "   <g id=\"patch_6\">\n",
       "    <path d=\"M 35.304688 9.206183 \n",
       "L 230.604688 9.206183 \n",
       "\" style=\"fill: none; stroke: #000000; stroke-width: 0.8; stroke-linejoin: miter; stroke-linecap: square\"/>\n",
       "   </g>\n",
       "  </g>\n",
       " </g>\n",
       " <defs>\n",
       "  <clipPath id=\"p76417491e0\">\n",
       "   <rect x=\"35.304688\" y=\"9.206183\" width=\"195.3\" height=\"135.9\"/>\n",
       "  </clipPath>\n",
       " </defs>\n",
       "</svg>\n"
      ],
      "text/plain": [
       "<Figure size 252x180 with 1 Axes>"
      ]
     },
     "metadata": {
      "needs_background": "light"
     },
     "output_type": "display_data"
    }
   ],
   "source": [
    "plt.scatter(features[:,1].numpy(),labels.numpy(),1)"
   ]
  },
  {
   "cell_type": "markdown",
   "metadata": {},
   "source": [
    "### 读取数据"
   ]
  },
  {
   "cell_type": "code",
   "execution_count": 209,
   "metadata": {},
   "outputs": [],
   "source": [
    "def data_iter(batch_size,features,labels):\n",
    "    num_examples = len(features)\n",
    "    indices = list(range(num_examples))\n",
    "    random.shuffle(indices)\n",
    "    for i in range(0,num_examples,batch_size):\n",
    "        j = torch.LongTensor(indices[i:min(i+batch_size,num_examples)])\n",
    "        yield features.index_select(0,j),labels.index_select(0,j)"
   ]
  },
  {
   "cell_type": "code",
   "execution_count": 210,
   "metadata": {},
   "outputs": [
    {
     "name": "stdout",
     "output_type": "stream",
     "text": [
      "tensor([[-0.1246, -0.2601],\n",
      "        [-0.3357, -0.4932],\n",
      "        [ 1.2055,  0.2512],\n",
      "        [-0.4696, -0.7161],\n",
      "        [-1.3029,  0.2625],\n",
      "        [-0.0864,  0.9899],\n",
      "        [-2.3438, -0.8977],\n",
      "        [-1.2397, -0.1793],\n",
      "        [-0.1107,  0.5840],\n",
      "        [ 1.4573, -0.5521]]) tensor([4.8255, 5.2247, 5.7631, 5.6724, 0.6844, 0.6759, 2.5650, 2.3247, 1.9920,\n",
      "        8.9918])\n"
     ]
    }
   ],
   "source": [
    "batch_size = 10 \n",
    "for X,y in data_iter(batch_size,features,labels):\n",
    "    print(X,y)\n",
    "    break"
   ]
  },
  {
   "cell_type": "markdown",
   "metadata": {},
   "source": [
    "### 初始化模型参数"
   ]
  },
  {
   "cell_type": "code",
   "execution_count": 211,
   "metadata": {},
   "outputs": [],
   "source": [
    "w = torch.tensor(np.random.normal(0,0.01,( num_inputs,1)),dtype=torch.float32)"
   ]
  },
  {
   "cell_type": "code",
   "execution_count": 212,
   "metadata": {},
   "outputs": [
    {
     "data": {
      "text/plain": [
       "tensor([[ 0.0039],\n",
       "        [-0.0466]])"
      ]
     },
     "execution_count": 212,
     "metadata": {},
     "output_type": "execute_result"
    }
   ],
   "source": [
    "w"
   ]
  },
  {
   "cell_type": "code",
   "execution_count": 213,
   "metadata": {},
   "outputs": [],
   "source": [
    "b = torch.zeros(1,dtype=torch.float32)"
   ]
  },
  {
   "cell_type": "code",
   "execution_count": 214,
   "metadata": {},
   "outputs": [
    {
     "data": {
      "text/plain": [
       "tensor([0.])"
      ]
     },
     "execution_count": 214,
     "metadata": {},
     "output_type": "execute_result"
    }
   ],
   "source": [
    "b"
   ]
  },
  {
   "cell_type": "code",
   "execution_count": 215,
   "metadata": {},
   "outputs": [
    {
     "data": {
      "text/plain": [
       "tensor([0.], requires_grad=True)"
      ]
     },
     "execution_count": 215,
     "metadata": {},
     "output_type": "execute_result"
    }
   ],
   "source": [
    "# 这些参数要求梯度来迭代参数的值，设置 requires_grad=True\n",
    "w.requires_grad_(requires_grad = True)\n",
    "b.requires_grad_(requires_grad = True)"
   ]
  },
  {
   "cell_type": "markdown",
   "metadata": {},
   "source": [
    "### 定义模型"
   ]
  },
  {
   "cell_type": "code",
   "execution_count": 216,
   "metadata": {},
   "outputs": [],
   "source": [
    "def linreg(X,w,b):\n",
    "    return torch.mm(X,w) + b "
   ]
  },
  {
   "cell_type": "markdown",
   "metadata": {},
   "source": [
    "### 定义损失函数"
   ]
  },
  {
   "cell_type": "code",
   "execution_count": 217,
   "metadata": {},
   "outputs": [],
   "source": [
    "def squared_loss(y_hat,y):\n",
    "    # 返回的是向量\n",
    "    return (y_hat - y.view(y_hat.size())) ** 2 / 2"
   ]
  },
  {
   "cell_type": "markdown",
   "metadata": {},
   "source": [
    "### 定义优化算法"
   ]
  },
  {
   "cell_type": "code",
   "execution_count": 218,
   "metadata": {},
   "outputs": [],
   "source": [
    "# 通过不断迭代模型参数来优化损失函数\n",
    "def sgd(params,lr,batch_size):\n",
    "    for param in params:\n",
    "        param.data -= lr * param.grad/ batch_size # 自动求梯度计算的是一个批量样本的 梯度和\n",
    "        # 我们将它除以批量大小来得到平均值\n",
    "        "
   ]
  },
  {
   "cell_type": "markdown",
   "metadata": {},
   "source": [
    "### 训练模型"
   ]
  },
  {
   "cell_type": "code",
   "execution_count": 219,
   "metadata": {},
   "outputs": [
    {
     "data": {
      "text/plain": [
       "'\\n在一个迭代周期 中，我们将完成遍历一遍data_iter函数，并对训练数据集中所有样本都使用一次，这里的迭代周期个数num_epochs\\n和学习率lr都是超参数，分别设3和0.03 在实践中要反复调整这个参数 \\n\\n'"
      ]
     },
     "execution_count": 219,
     "metadata": {},
     "output_type": "execute_result"
    }
   ],
   "source": [
    "# 多次迭代模型参数，在每次迭代中，我们根据当前读取的小批量数据样本，通过调用反向函数backward计算小批量\n",
    "# 随机梯度，并调用优化算法sgd迭代模型参数，batch_size 为10，每个小批量的损失l 的形状为（10，1）\n",
    "# 由于l并不是标量 所以调用.sum() 将其求和得到一个标量，在运行l.backward() 得到该变量有关模型参数\n",
    "# 的梯度。注意在每次更新完参数后不要 忘记将参数的梯度清零\n",
    "\n",
    "\"\"\"\n",
    "在一个迭代周期 中，我们将完成遍历一遍data_iter函数，并对训练数据集中所有样本都使用一次，这里的迭代周期个数num_epochs\n",
    "和学习率lr都是超参数，分别设3和0.03 在实践中要反复调整这个参数 \n",
    "\n",
    "\"\"\""
   ]
  },
  {
   "cell_type": "code",
   "execution_count": 220,
   "metadata": {},
   "outputs": [
    {
     "data": {
      "text/plain": [
       "tensor([[ 0.0039],\n",
       "        [-0.0466]], requires_grad=True)"
      ]
     },
     "execution_count": 220,
     "metadata": {},
     "output_type": "execute_result"
    }
   ],
   "source": [
    "w"
   ]
  },
  {
   "cell_type": "code",
   "execution_count": 221,
   "metadata": {},
   "outputs": [
    {
     "name": "stdout",
     "output_type": "stream",
     "text": [
      "epoch:1 loss 0.05\n",
      "epoch:2 loss 0.00\n",
      "epoch:3 loss 0.00\n"
     ]
    }
   ],
   "source": [
    "lr = 0.03\n",
    "num_epoch=3\n",
    "net = linreg\n",
    "loss = squared_loss\n",
    "\n",
    "for epoch in range(num_epoch):\n",
    "    # 每一次迭代周期中，会使用训练数据集中所有样本一次，X和y分别是小批量样本的特征和标签\n",
    "    for X,y in data_iter(batch_size,features,labels):\n",
    "        l = loss(net(X,w,b),y).sum() # l 是小批量X和y的损失\n",
    "        l.backward() # 小批量的损失对模型参数求导数\n",
    "        sgd([w,b],lr,batch_size) # 使用小批量随机梯度下降迭代模型参数\n",
    "        \n",
    "        # 不要忘记梯度清零\n",
    "        w.grad.data.zero_()\n",
    "        b.grad.data.zero_()\n",
    "\n",
    "    train_l = loss(net(features,w,b),labels)\n",
    "    \n",
    "    print(\"epoch:%d loss %.2f\" %(epoch + 1 ,train_l.mean().item()))"
   ]
  },
  {
   "cell_type": "code",
   "execution_count": 222,
   "metadata": {},
   "outputs": [
    {
     "name": "stdout",
     "output_type": "stream",
     "text": [
      "[2, -3.4] \n",
      " tensor([[ 2.0000],\n",
      "        [-3.3997]], requires_grad=True)\n",
      "4.2 \n",
      " tensor([4.1987], requires_grad=True)\n"
     ]
    }
   ],
   "source": [
    "print(true_w, '\\n',w)\n",
    "print(true_b, '\\n',b)"
   ]
  },
  {
   "cell_type": "markdown",
   "metadata": {},
   "source": [
    "## 线性回归简洁实现"
   ]
  },
  {
   "cell_type": "markdown",
   "metadata": {},
   "source": [
    "### 生成数据集"
   ]
  },
  {
   "cell_type": "code",
   "execution_count": 223,
   "metadata": {},
   "outputs": [],
   "source": [
    "num_inputs =2 \n",
    "num_examples = 1000\n",
    "true_w = [2,-3.4]\n",
    "true_b = 4.2\n",
    "\n",
    "features = torch.tensor(np.random.normal(0,1,(num_examples,num_inputs)),dtype=torch.float)\n",
    "labels = true_w[0] * features[:,0] + true_w[1] * features[:,1] + true_b\n",
    "labels += torch.tensor(np.random.normal(0,0.01,size = labels.size()),dtype=torch.float)\n"
   ]
  },
  {
   "cell_type": "markdown",
   "metadata": {},
   "source": [
    "### 读取数据"
   ]
  },
  {
   "cell_type": "code",
   "execution_count": 224,
   "metadata": {},
   "outputs": [],
   "source": [
    "# Pytorch 提供data 包来读取数据，由于data 常用做变量名，我们将导入的data模块用Data 代替在每次一迭代中\n",
    "# 我们将随机读取包含数据样本的小批量\n",
    "import torch.utils.data as Data\n",
    "\n",
    "batch_size = 10 \n",
    "# 将训练数据的特征和标签组合 \n",
    "dataset = Data.TensorDataset(features,labels)\n"
   ]
  },
  {
   "cell_type": "code",
   "execution_count": 225,
   "metadata": {},
   "outputs": [],
   "source": [
    "# 读取小批量\n",
    "data_iter = Data.DataLoader(dataset,batch_size,shuffle=True)"
   ]
  },
  {
   "cell_type": "code",
   "execution_count": 226,
   "metadata": {},
   "outputs": [
    {
     "data": {
      "text/plain": [
       "<torch.utils.data.dataloader.DataLoader at 0x7fcdd4628b10>"
      ]
     },
     "execution_count": 226,
     "metadata": {},
     "output_type": "execute_result"
    }
   ],
   "source": [
    "data_iter"
   ]
  },
  {
   "cell_type": "code",
   "execution_count": 227,
   "metadata": {},
   "outputs": [],
   "source": [
    "import torch.nn as nn"
   ]
  },
  {
   "cell_type": "markdown",
   "metadata": {},
   "source": [
    "### 定义模型"
   ]
  },
  {
   "cell_type": "code",
   "execution_count": 228,
   "metadata": {},
   "outputs": [],
   "source": [
    "# Pytorch 提供大量预定义层，我们只要关注使用哪些层来构造函数 首先导入 torch.nn 模块，该模块定义了大量的\n",
    "# 神经网络层，之前用过autograd 而 nn 就是利用 autograd 来定义模型，nn的核心数据结构是Module 他是一个\n",
    "# 抽象概念，既可以表示神经网络的某一个层，也可以表示一个包含很多层的神经网络，在实际使用中 最常见的就是继承\n",
    "# nn.Module 撰写自己的网络层，一个nn.Module实例应该包含 一些层以及返回输出的前向传播（forward）方法，"
   ]
  },
  {
   "cell_type": "code",
   "execution_count": 229,
   "metadata": {},
   "outputs": [],
   "source": [
    "class LinearNet(nn.Module):\n",
    "    def __init__(self,n_feature):\n",
    "        super(LinearNet,self).__init__()\n",
    "        self.linear = nn.Linear(n_feature,1)\n",
    "        \n",
    "    # forward前向传播 \n",
    "    def forward(self,x):\n",
    "        y = self.linear(x)\n",
    "        return y\n",
    "net = LinearNet(num_inputs)"
   ]
  },
  {
   "cell_type": "code",
   "execution_count": 230,
   "metadata": {},
   "outputs": [
    {
     "data": {
      "text/plain": [
       "LinearNet(\n",
       "  (linear): Linear(in_features=2, out_features=1, bias=True)\n",
       ")"
      ]
     },
     "execution_count": 230,
     "metadata": {},
     "output_type": "execute_result"
    }
   ],
   "source": [
    "net"
   ]
  },
  {
   "cell_type": "code",
   "execution_count": 231,
   "metadata": {},
   "outputs": [],
   "source": [
    "# 我们还可以用nn.Sequential 来更加方便的搭建网络，Sequential 是一个有序的容器，网络层将按照在传入的\n",
    "# Sequential的顺序依次被添加到计算图中\n"
   ]
  },
  {
   "cell_type": "code",
   "execution_count": 232,
   "metadata": {},
   "outputs": [
    {
     "name": "stdout",
     "output_type": "stream",
     "text": [
      "Sequential(\n",
      "  (linear): Linear(in_features=2, out_features=1, bias=True)\n",
      ")\n"
     ]
    }
   ],
   "source": [
    "# 写法一\n",
    "net = nn.Sequential(\n",
    "nn.Linear(num_inputs,1)\n",
    "    # 此外还可以传 其他层\n",
    ")\n",
    "# 写法二\n",
    "net  = nn.Sequential()\n",
    "net.add_module('linear',nn.Linear(num_inputs,1))\n",
    "# net.add_module()\n",
    "\n",
    "# 写法三\n",
    "from collections import OrderedDict\n",
    "\n",
    "net = nn.Sequential(OrderedDict([\n",
    "    ('linear',nn.Linear(num_inputs,1))\n",
    "    # ....\n",
    "    \n",
    "]))\n",
    "\n",
    "print(net)"
   ]
  },
  {
   "cell_type": "code",
   "execution_count": 233,
   "metadata": {},
   "outputs": [
    {
     "data": {
      "text/plain": [
       "Linear(in_features=2, out_features=1, bias=True)"
      ]
     },
     "execution_count": 233,
     "metadata": {},
     "output_type": "execute_result"
    }
   ],
   "source": [
    "net[0]"
   ]
  },
  {
   "cell_type": "code",
   "execution_count": 234,
   "metadata": {},
   "outputs": [],
   "source": [
    "# 可以通过net.parameters() 来 查看模型所有的可学习参数"
   ]
  },
  {
   "cell_type": "code",
   "execution_count": 235,
   "metadata": {},
   "outputs": [
    {
     "name": "stdout",
     "output_type": "stream",
     "text": [
      "Parameter containing:\n",
      "tensor([[0.2880, 0.5560]], requires_grad=True)\n",
      "Parameter containing:\n",
      "tensor([-0.6274], requires_grad=True)\n"
     ]
    }
   ],
   "source": [
    "for param in net.parameters():\n",
    "    print(param)"
   ]
  },
  {
   "cell_type": "markdown",
   "metadata": {},
   "source": [
    "### 初始化模型参数"
   ]
  },
  {
   "cell_type": "code",
   "execution_count": 236,
   "metadata": {},
   "outputs": [],
   "source": [
    "# 在net 前，我们要初始化模型参数，线性回归模型参数中的权重 和偏差 Pytorch在init模块中 提供了多种\n",
    "# 参数初始化方法 \n"
   ]
  },
  {
   "cell_type": "code",
   "execution_count": 237,
   "metadata": {},
   "outputs": [
    {
     "data": {
      "text/plain": [
       "Parameter containing:\n",
       "tensor([0.0100], requires_grad=True)"
      ]
     },
     "execution_count": 237,
     "metadata": {},
     "output_type": "execute_result"
    }
   ],
   "source": [
    "from torch.nn import init\n",
    "\n",
    "init.normal_(net[0].weight,mean=0,std=0.01)\n",
    "init.constant_(net[0].bias,val=0.01)"
   ]
  },
  {
   "cell_type": "markdown",
   "metadata": {},
   "source": [
    "### 定义损失函数"
   ]
  },
  {
   "cell_type": "code",
   "execution_count": 238,
   "metadata": {},
   "outputs": [],
   "source": [
    "loss = nn.MSELoss()"
   ]
  },
  {
   "cell_type": "markdown",
   "metadata": {},
   "source": [
    "### 优化算法"
   ]
  },
  {
   "cell_type": "code",
   "execution_count": 239,
   "metadata": {},
   "outputs": [],
   "source": [
    "import torch.optim as optim \n",
    "optimizer = optim.SGD(net.parameters(),lr=0.03)"
   ]
  },
  {
   "cell_type": "code",
   "execution_count": 240,
   "metadata": {},
   "outputs": [
    {
     "data": {
      "text/plain": [
       "SGD (\n",
       "Parameter Group 0\n",
       "    dampening: 0\n",
       "    lr: 0.03\n",
       "    momentum: 0\n",
       "    nesterov: False\n",
       "    weight_decay: 0\n",
       ")"
      ]
     },
     "execution_count": 240,
     "metadata": {},
     "output_type": "execute_result"
    }
   ],
   "source": [
    "optimizer"
   ]
  },
  {
   "cell_type": "markdown",
   "metadata": {},
   "source": [
    "### 训练模型"
   ]
  },
  {
   "cell_type": "code",
   "execution_count": 241,
   "metadata": {},
   "outputs": [
    {
     "name": "stdout",
     "output_type": "stream",
     "text": [
      "epoch 1 loss 0.00\n",
      "epoch 2 loss 0.00\n",
      "epoch 3 loss 0.00\n"
     ]
    }
   ],
   "source": [
    "num_epoch = 3\n",
    "for epoch in range(1,num_epoch+1):\n",
    "    for X,y in data_iter:\n",
    "        out_put = net(X)\n",
    "        l = loss(out_put,y.view(-1,1))\n",
    "        optimizer.zero_grad()\n",
    "        l.backward()\n",
    "        optimizer.step()\n",
    "        \n",
    "    print(\"epoch %d loss %.2f\" %(epoch,l.item()))"
   ]
  },
  {
   "cell_type": "code",
   "execution_count": 242,
   "metadata": {},
   "outputs": [],
   "source": [
    "dense = net[0]"
   ]
  },
  {
   "cell_type": "code",
   "execution_count": 243,
   "metadata": {},
   "outputs": [
    {
     "name": "stdout",
     "output_type": "stream",
     "text": [
      "[2, -3.4] Parameter containing:\n",
      "tensor([[ 2.0004, -3.4006]], requires_grad=True)\n"
     ]
    }
   ],
   "source": [
    "print(true_w,dense.weight)"
   ]
  },
  {
   "cell_type": "markdown",
   "metadata": {},
   "source": [
    "## softmax回归"
   ]
  },
  {
   "cell_type": "markdown",
   "metadata": {},
   "source": [
    "### 分类问题"
   ]
  },
  {
   "cell_type": "code",
   "execution_count": 244,
   "metadata": {},
   "outputs": [
    {
     "data": {
      "text/plain": [
       "'\\n我们考虑一个简单的分类问题，其输入图像的高和宽均为2像素，且色彩为灰度，这样%hist个像素值都可以用一个标量表示  \\n我们将图像中的4个像素分别即记为X1,X2,X3,X4 假设训练数据集中图像的真实标签为 狗、猫、鸡 这类标签，\\n分别对应离散值Y1,Y2,y3\\n我们通常，使用离散数值 来表示类别  例如 y1 = 1,y2= 2 y3 = 3 如此 一张图像的标签为 1，2，3这个3个数值中一个\\n虽然我们仍然可以使用回归模型来建模，并将预测值就近定点化到 1、2、3这3个离散值值一，但是这种连续续值到离散值的转化\\n通常会影响到分类质量，因此 我们一般使用更合适离散值输出的模型来解决分类问题\\n'"
      ]
     },
     "execution_count": 244,
     "metadata": {},
     "output_type": "execute_result"
    }
   ],
   "source": [
    "\"\"\"\n",
    "我们考虑一个简单的分类问题，其输入图像的高和宽均为2像素，且色彩为灰度，这样%hist个像素值都可以用一个标量表示  \n",
    "我们将图像中的4个像素分别即记为X1,X2,X3,X4 假设训练数据集中图像的真实标签为 狗、猫、鸡 这类标签，\n",
    "分别对应离散值Y1,Y2,y3\n",
    "我们通常，使用离散数值 来表示类别  例如 y1 = 1,y2= 2 y3 = 3 如此 一张图像的标签为 1，2，3这个3个数值中一个\n",
    "虽然我们仍然可以使用回归模型来建模，并将预测值就近定点化到 1、2、3这3个离散值值一，但是这种连续续值到离散值的转化\n",
    "通常会影响到分类质量，因此 我们一般使用更合适离散值输出的模型来解决分类问题\n",
    "\"\"\""
   ]
  },
  {
   "cell_type": "markdown",
   "metadata": {},
   "source": [
    "### softmax 回归模型"
   ]
  },
  {
   "cell_type": "code",
   "execution_count": 245,
   "metadata": {},
   "outputs": [
    {
     "data": {
      "text/plain": [
       "'\\nsoftmax回归跟线性回归一样将输入特征与权重做线性叠加。与线性回归的一个主要不同在于，\\nsoftmax回归的输出值个数等于标签里的类别数。因为一共有4种特征和3种输出动物类别，所以权重包含12个标量（带下标的ww）、\\n偏差包含3个标量（带下标的b），且对每个输入计算o1,o2,o3o 这3个输出\\n\\n\\n'"
      ]
     },
     "execution_count": 245,
     "metadata": {},
     "output_type": "execute_result"
    }
   ],
   "source": [
    "\"\"\"\n",
    "softmax回归跟线性回归一样将输入特征与权重做线性叠加。与线性回归的一个主要不同在于，\n",
    "softmax回归的输出值个数等于标签里的类别数。因为一共有4种特征和3种输出动物类别，所以权重包含12个标量（带下标的ww）、\n",
    "偏差包含3个标量（带下标的b），且对每个输入计算o1,o2,o3o 这3个输出\n",
    "\n",
    "\n",
    "\"\"\""
   ]
  },
  {
   "cell_type": "markdown",
   "metadata": {},
   "source": [
    "## 图像分类数据集"
   ]
  },
  {
   "cell_type": "markdown",
   "metadata": {},
   "source": [
    "### 获取数据集"
   ]
  },
  {
   "cell_type": "code",
   "execution_count": 246,
   "metadata": {},
   "outputs": [],
   "source": [
    "import torch\n",
    "import torchvision\n",
    "import torchvision.transforms as transforms\n",
    "import matplotlib.pyplot as plt\n",
    "import time\n",
    "import sys\n",
    "sys.path.append(\"..\") # 为了导入上层目录的d2lzh_pytorch\n",
    "import d2lzh_pytorch as d2l  "
   ]
  },
  {
   "cell_type": "code",
   "execution_count": 247,
   "metadata": {},
   "outputs": [],
   "source": [
    "mnist_train = torchvision.datasets.FashionMNIST(root='~/Datasets/FashionMNIST', train=True, download=True, transform=transforms.ToTensor())\n",
    "mnist_test = torchvision.datasets.FashionMNIST(root='~/Datasets/FashionMNIST', train=False, download=True, transform=transforms.ToTensor())"
   ]
  },
  {
   "cell_type": "code",
   "execution_count": 248,
   "metadata": {},
   "outputs": [
    {
     "data": {
      "text/plain": [
       "torchvision.datasets.mnist.FashionMNIST"
      ]
     },
     "execution_count": 248,
     "metadata": {},
     "output_type": "execute_result"
    }
   ],
   "source": [
    "type(mnist_train)"
   ]
  },
  {
   "cell_type": "code",
   "execution_count": 249,
   "metadata": {},
   "outputs": [
    {
     "data": {
      "text/plain": [
       "60000"
      ]
     },
     "execution_count": 249,
     "metadata": {},
     "output_type": "execute_result"
    }
   ],
   "source": [
    "len(mnist_train)"
   ]
  },
  {
   "cell_type": "code",
   "execution_count": 250,
   "metadata": {},
   "outputs": [
    {
     "data": {
      "text/plain": [
       "10000"
      ]
     },
     "execution_count": 250,
     "metadata": {},
     "output_type": "execute_result"
    }
   ],
   "source": [
    "len(mnist_test)"
   ]
  },
  {
   "cell_type": "code",
   "execution_count": 251,
   "metadata": {},
   "outputs": [],
   "source": [
    "feature,label = mnist_train[0]"
   ]
  },
  {
   "cell_type": "code",
   "execution_count": 252,
   "metadata": {},
   "outputs": [
    {
     "data": {
      "text/plain": [
       "torch.Size([1, 28, 28])"
      ]
     },
     "execution_count": 252,
     "metadata": {},
     "output_type": "execute_result"
    }
   ],
   "source": [
    "feature.shape"
   ]
  },
  {
   "cell_type": "code",
   "execution_count": 253,
   "metadata": {},
   "outputs": [
    {
     "data": {
      "text/plain": [
       "9"
      ]
     },
     "execution_count": 253,
     "metadata": {},
     "output_type": "execute_result"
    }
   ],
   "source": [
    "label"
   ]
  },
  {
   "cell_type": "code",
   "execution_count": 254,
   "metadata": {},
   "outputs": [],
   "source": [
    "# 本函数已保存在d2lzh包中方便以后使用\n",
    "def get_fashion_mnist_labels(labels):\n",
    "    text_labels = ['t-shirt', 'trouser', 'pullover', 'dress', 'coat',\n",
    "                   'sandal', 'shirt', 'sneaker', 'bag', 'ankle boot']\n",
    "    return [text_labels[int(i)] for i in labels]"
   ]
  },
  {
   "cell_type": "code",
   "execution_count": 255,
   "metadata": {},
   "outputs": [],
   "source": [
    "# 本函数已保存在d2lzh包中方便以后使用\n",
    "def show_fashion_mnist(images, labels):\n",
    "    d2l.use_svg_display()\n",
    "    # 这里的_表示我们忽略（不使用）的变量\n",
    "    _, figs = plt.subplots(1, len(images), figsize=(12, 12))\n",
    "    for f, img, lbl in zip(figs, images, labels):\n",
    "        f.imshow(img.view((28, 28)).numpy())\n",
    "        f.set_title(lbl)\n",
    "        f.axes.get_xaxis().set_visible(False)\n",
    "        f.axes.get_yaxis().set_visible(False)\n",
    "    plt.show()"
   ]
  },
  {
   "cell_type": "code",
   "execution_count": 256,
   "metadata": {},
   "outputs": [
    {
     "data": {
      "image/svg+xml": [
       "<?xml version=\"1.0\" encoding=\"utf-8\" standalone=\"no\"?>\n",
       "<!DOCTYPE svg PUBLIC \"-//W3C//DTD SVG 1.1//EN\"\n",
       "  \"http://www.w3.org/Graphics/SVG/1.1/DTD/svg11.dtd\">\n",
       "<svg xmlns:xlink=\"http://www.w3.org/1999/xlink\" width=\"687.5pt\" height=\"89.763888pt\" viewBox=\"0 0 687.5 89.763888\" xmlns=\"http://www.w3.org/2000/svg\" version=\"1.1\">\n",
       " <metadata>\n",
       "  <rdf:RDF xmlns:dc=\"http://purl.org/dc/elements/1.1/\" xmlns:cc=\"http://creativecommons.org/ns#\" xmlns:rdf=\"http://www.w3.org/1999/02/22-rdf-syntax-ns#\">\n",
       "   <cc:Work>\n",
       "    <dc:type rdf:resource=\"http://purl.org/dc/dcmitype/StillImage\"/>\n",
       "    <dc:date>2023-01-05T18:54:12.379450</dc:date>\n",
       "    <dc:format>image/svg+xml</dc:format>\n",
       "    <dc:creator>\n",
       "     <cc:Agent>\n",
       "      <dc:title>Matplotlib v3.5.1, https://matplotlib.org/</dc:title>\n",
       "     </cc:Agent>\n",
       "    </dc:creator>\n",
       "   </cc:Work>\n",
       "  </rdf:RDF>\n",
       " </metadata>\n",
       " <defs>\n",
       "  <style type=\"text/css\">*{stroke-linejoin: round; stroke-linecap: butt}</style>\n",
       " </defs>\n",
       " <g id=\"figure_1\">\n",
       "  <g id=\"patch_1\">\n",
       "   <path d=\"M 0 89.763888 \n",
       "L 687.5 89.763888 \n",
       "L 687.5 -0 \n",
       "L 0 -0 \n",
       "L 0 89.763888 \n",
       "z\n",
       "\" style=\"fill: none\"/>\n",
       "  </g>\n",
       "  <g id=\"axes_1\">\n",
       "   <g id=\"patch_2\">\n",
       "    <path d=\"M 10.7 79.063888 \n",
       "L 67.445763 79.063888 \n",
       "L 67.445763 22.318125 \n",
       "L 10.7 22.318125 \n",
       "z\n",
       "\" style=\"fill: #ffffff\"/>\n",
       "   </g>\n",
       "   <g clip-path=\"url(#p96d2e86af8)\">\n",
       "    <image xlink:href=\"data:image/png;base64,\n",
       "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\" id=\"image099b7279b0\" transform=\"scale(1 -1)translate(0 -57)\" x=\"10.7\" y=\"-22.063888\" width=\"57\" height=\"57\"/>\n",
       "   </g>\n",
       "   <g id=\"patch_3\">\n",
       "    <path d=\"M 10.7 79.063888 \n",
       "L 10.7 22.318125 \n",
       "\" style=\"fill: none; stroke: #000000; stroke-width: 0.8; stroke-linejoin: miter; stroke-linecap: square\"/>\n",
       "   </g>\n",
       "   <g id=\"patch_4\">\n",
       "    <path d=\"M 67.445763 79.063888 \n",
       "L 67.445763 22.318125 \n",
       "\" style=\"fill: none; stroke: #000000; stroke-width: 0.8; stroke-linejoin: miter; stroke-linecap: square\"/>\n",
       "   </g>\n",
       "   <g id=\"patch_5\">\n",
       "    <path d=\"M 10.7 79.063888 \n",
       "L 67.445763 79.063888 \n",
       "\" style=\"fill: none; stroke: #000000; stroke-width: 0.8; stroke-linejoin: miter; stroke-linecap: square\"/>\n",
       "   </g>\n",
       "   <g id=\"patch_6\">\n",
       "    <path d=\"M 10.7 22.318125 \n",
       "L 67.445763 22.318125 \n",
       "\" style=\"fill: none; stroke: #000000; stroke-width: 0.8; stroke-linejoin: miter; stroke-linecap: square\"/>\n",
       "   </g>\n",
       "   <g id=\"text_1\">\n",
       "    <!-- ankle boot -->\n",
       "    <g transform=\"translate(7.349756 16.318125)scale(0.12 -0.12)\">\n",
       "     <defs>\n",
       "      <path id=\"DejaVuSans-61\" d=\"M 2194 1759 \n",
       "Q 1497 1759 1228 1600 \n",
       "Q 959 1441 959 1056 \n",
       "Q 959 750 1161 570 \n",
       "Q 1363 391 1709 391 \n",
       "Q 2188 391 2477 730 \n",
       "Q 2766 1069 2766 1631 \n",
       "L 2766 1759 \n",
       "L 2194 1759 \n",
       "z\n",
       "M 3341 1997 \n",
       "L 3341 0 \n",
       "L 2766 0 \n",
       "L 2766 531 \n",
       "Q 2569 213 2275 61 \n",
       "Q 1981 -91 1556 -91 \n",
       "Q 1019 -91 701 211 \n",
       "Q 384 513 384 1019 \n",
       "Q 384 1609 779 1909 \n",
       "Q 1175 2209 1959 2209 \n",
       "L 2766 2209 \n",
       "L 2766 2266 \n",
       "Q 2766 2663 2505 2880 \n",
       "Q 2244 3097 1772 3097 \n",
       "Q 1472 3097 1187 3025 \n",
       "Q 903 2953 641 2809 \n",
       "L 641 3341 \n",
       "Q 956 3463 1253 3523 \n",
       "Q 1550 3584 1831 3584 \n",
       "Q 2591 3584 2966 3190 \n",
       "Q 3341 2797 3341 1997 \n",
       "z\n",
       "\" transform=\"scale(0.015625)\"/>\n",
       "      <path id=\"DejaVuSans-6e\" d=\"M 3513 2113 \n",
       "L 3513 0 \n",
       "L 2938 0 \n",
       "L 2938 2094 \n",
       "Q 2938 2591 2744 2837 \n",
       "Q 2550 3084 2163 3084 \n",
       "Q 1697 3084 1428 2787 \n",
       "Q 1159 2491 1159 1978 \n",
       "L 1159 0 \n",
       "L 581 0 \n",
       "L 581 3500 \n",
       "L 1159 3500 \n",
       "L 1159 2956 \n",
       "Q 1366 3272 1645 3428 \n",
       "Q 1925 3584 2291 3584 \n",
       "Q 2894 3584 3203 3211 \n",
       "Q 3513 2838 3513 2113 \n",
       "z\n",
       "\" transform=\"scale(0.015625)\"/>\n",
       "      <path id=\"DejaVuSans-6b\" d=\"M 581 4863 \n",
       "L 1159 4863 \n",
       "L 1159 1991 \n",
       "L 2875 3500 \n",
       "L 3609 3500 \n",
       "L 1753 1863 \n",
       "L 3688 0 \n",
       "L 2938 0 \n",
       "L 1159 1709 \n",
       "L 1159 0 \n",
       "L 581 0 \n",
       "L 581 4863 \n",
       "z\n",
       "\" transform=\"scale(0.015625)\"/>\n",
       "      <path id=\"DejaVuSans-6c\" d=\"M 603 4863 \n",
       "L 1178 4863 \n",
       "L 1178 0 \n",
       "L 603 0 \n",
       "L 603 4863 \n",
       "z\n",
       "\" transform=\"scale(0.015625)\"/>\n",
       "      <path id=\"DejaVuSans-65\" d=\"M 3597 1894 \n",
       "L 3597 1613 \n",
       "L 953 1613 \n",
       "Q 991 1019 1311 708 \n",
       "Q 1631 397 2203 397 \n",
       "Q 2534 397 2845 478 \n",
       "Q 3156 559 3463 722 \n",
       "L 3463 178 \n",
       "Q 3153 47 2828 -22 \n",
       "Q 2503 -91 2169 -91 \n",
       "Q 1331 -91 842 396 \n",
       "Q 353 884 353 1716 \n",
       "Q 353 2575 817 3079 \n",
       "Q 1281 3584 2069 3584 \n",
       "Q 2775 3584 3186 3129 \n",
       "Q 3597 2675 3597 1894 \n",
       "z\n",
       "M 3022 2063 \n",
       "Q 3016 2534 2758 2815 \n",
       "Q 2500 3097 2075 3097 \n",
       "Q 1594 3097 1305 2825 \n",
       "Q 1016 2553 972 2059 \n",
       "L 3022 2063 \n",
       "z\n",
       "\" transform=\"scale(0.015625)\"/>\n",
       "      <path id=\"DejaVuSans-20\" transform=\"scale(0.015625)\"/>\n",
       "      <path id=\"DejaVuSans-62\" d=\"M 3116 1747 \n",
       "Q 3116 2381 2855 2742 \n",
       "Q 2594 3103 2138 3103 \n",
       "Q 1681 3103 1420 2742 \n",
       "Q 1159 2381 1159 1747 \n",
       "Q 1159 1113 1420 752 \n",
       "Q 1681 391 2138 391 \n",
       "Q 2594 391 2855 752 \n",
       "Q 3116 1113 3116 1747 \n",
       "z\n",
       "M 1159 2969 \n",
       "Q 1341 3281 1617 3432 \n",
       "Q 1894 3584 2278 3584 \n",
       "Q 2916 3584 3314 3078 \n",
       "Q 3713 2572 3713 1747 \n",
       "Q 3713 922 3314 415 \n",
       "Q 2916 -91 2278 -91 \n",
       "Q 1894 -91 1617 61 \n",
       "Q 1341 213 1159 525 \n",
       "L 1159 0 \n",
       "L 581 0 \n",
       "L 581 4863 \n",
       "L 1159 4863 \n",
       "L 1159 2969 \n",
       "z\n",
       "\" transform=\"scale(0.015625)\"/>\n",
       "      <path id=\"DejaVuSans-6f\" d=\"M 1959 3097 \n",
       "Q 1497 3097 1228 2736 \n",
       "Q 959 2375 959 1747 \n",
       "Q 959 1119 1226 758 \n",
       "Q 1494 397 1959 397 \n",
       "Q 2419 397 2687 759 \n",
       "Q 2956 1122 2956 1747 \n",
       "Q 2956 2369 2687 2733 \n",
       "Q 2419 3097 1959 3097 \n",
       "z\n",
       "M 1959 3584 \n",
       "Q 2709 3584 3137 3096 \n",
       "Q 3566 2609 3566 1747 \n",
       "Q 3566 888 3137 398 \n",
       "Q 2709 -91 1959 -91 \n",
       "Q 1206 -91 779 398 \n",
       "Q 353 888 353 1747 \n",
       "Q 353 2609 779 3096 \n",
       "Q 1206 3584 1959 3584 \n",
       "z\n",
       "\" transform=\"scale(0.015625)\"/>\n",
       "      <path id=\"DejaVuSans-74\" d=\"M 1172 4494 \n",
       "L 1172 3500 \n",
       "L 2356 3500 \n",
       "L 2356 3053 \n",
       "L 1172 3053 \n",
       "L 1172 1153 \n",
       "Q 1172 725 1289 603 \n",
       "Q 1406 481 1766 481 \n",
       "L 2356 481 \n",
       "L 2356 0 \n",
       "L 1766 0 \n",
       "Q 1100 0 847 248 \n",
       "Q 594 497 594 1153 \n",
       "L 594 3053 \n",
       "L 172 3053 \n",
       "L 172 3500 \n",
       "L 594 3500 \n",
       "L 594 4494 \n",
       "L 1172 4494 \n",
       "z\n",
       "\" transform=\"scale(0.015625)\"/>\n",
       "     </defs>\n",
       "     <use xlink:href=\"#DejaVuSans-61\"/>\n",
       "     <use xlink:href=\"#DejaVuSans-6e\" x=\"61.279297\"/>\n",
       "     <use xlink:href=\"#DejaVuSans-6b\" x=\"124.658203\"/>\n",
       "     <use xlink:href=\"#DejaVuSans-6c\" x=\"182.568359\"/>\n",
       "     <use xlink:href=\"#DejaVuSans-65\" x=\"210.351562\"/>\n",
       "     <use xlink:href=\"#DejaVuSans-20\" x=\"271.875\"/>\n",
       "     <use xlink:href=\"#DejaVuSans-62\" x=\"303.662109\"/>\n",
       "     <use xlink:href=\"#DejaVuSans-6f\" x=\"367.138672\"/>\n",
       "     <use xlink:href=\"#DejaVuSans-6f\" x=\"428.320312\"/>\n",
       "     <use xlink:href=\"#DejaVuSans-74\" x=\"489.501953\"/>\n",
       "    </g>\n",
       "   </g>\n",
       "  </g>\n",
       "  <g id=\"axes_2\">\n",
       "   <g id=\"patch_7\">\n",
       "    <path d=\"M 78.794915 79.063888 \n",
       "L 135.540678 79.063888 \n",
       "L 135.540678 22.318125 \n",
       "L 78.794915 22.318125 \n",
       "z\n",
       "\" style=\"fill: #ffffff\"/>\n",
       "   </g>\n",
       "   <g clip-path=\"url(#p409ae3425c)\">\n",
       "    <image xlink:href=\"data:image/png;base64,\n",
       "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\" id=\"image33c0d1f504\" transform=\"scale(1 -1)translate(0 -57)\" x=\"78.794915\" y=\"-22.063888\" width=\"57\" height=\"57\"/>\n",
       "   </g>\n",
       "   <g id=\"patch_8\">\n",
       "    <path d=\"M 78.794915 79.063888 \n",
       "L 78.794915 22.318125 \n",
       "\" style=\"fill: none; stroke: #000000; stroke-width: 0.8; stroke-linejoin: miter; stroke-linecap: square\"/>\n",
       "   </g>\n",
       "   <g id=\"patch_9\">\n",
       "    <path d=\"M 135.540678 79.063888 \n",
       "L 135.540678 22.318125 \n",
       "\" style=\"fill: none; stroke: #000000; stroke-width: 0.8; stroke-linejoin: miter; stroke-linecap: square\"/>\n",
       "   </g>\n",
       "   <g id=\"patch_10\">\n",
       "    <path d=\"M 78.794915 79.063888 \n",
       "L 135.540678 79.063888 \n",
       "\" style=\"fill: none; stroke: #000000; stroke-width: 0.8; stroke-linejoin: miter; stroke-linecap: square\"/>\n",
       "   </g>\n",
       "   <g id=\"patch_11\">\n",
       "    <path d=\"M 78.794915 22.318125 \n",
       "L 135.540678 22.318125 \n",
       "\" style=\"fill: none; stroke: #000000; stroke-width: 0.8; stroke-linejoin: miter; stroke-linecap: square\"/>\n",
       "   </g>\n",
       "   <g id=\"text_2\">\n",
       "    <!-- t-shirt -->\n",
       "    <g transform=\"translate(89.237172 16.318125)scale(0.12 -0.12)\">\n",
       "     <defs>\n",
       "      <path id=\"DejaVuSans-2d\" d=\"M 313 2009 \n",
       "L 1997 2009 \n",
       "L 1997 1497 \n",
       "L 313 1497 \n",
       "L 313 2009 \n",
       "z\n",
       "\" transform=\"scale(0.015625)\"/>\n",
       "      <path id=\"DejaVuSans-73\" d=\"M 2834 3397 \n",
       "L 2834 2853 \n",
       "Q 2591 2978 2328 3040 \n",
       "Q 2066 3103 1784 3103 \n",
       "Q 1356 3103 1142 2972 \n",
       "Q 928 2841 928 2578 \n",
       "Q 928 2378 1081 2264 \n",
       "Q 1234 2150 1697 2047 \n",
       "L 1894 2003 \n",
       "Q 2506 1872 2764 1633 \n",
       "Q 3022 1394 3022 966 \n",
       "Q 3022 478 2636 193 \n",
       "Q 2250 -91 1575 -91 \n",
       "Q 1294 -91 989 -36 \n",
       "Q 684 19 347 128 \n",
       "L 347 722 \n",
       "Q 666 556 975 473 \n",
       "Q 1284 391 1588 391 \n",
       "Q 1994 391 2212 530 \n",
       "Q 2431 669 2431 922 \n",
       "Q 2431 1156 2273 1281 \n",
       "Q 2116 1406 1581 1522 \n",
       "L 1381 1569 \n",
       "Q 847 1681 609 1914 \n",
       "Q 372 2147 372 2553 \n",
       "Q 372 3047 722 3315 \n",
       "Q 1072 3584 1716 3584 \n",
       "Q 2034 3584 2315 3537 \n",
       "Q 2597 3491 2834 3397 \n",
       "z\n",
       "\" transform=\"scale(0.015625)\"/>\n",
       "      <path id=\"DejaVuSans-68\" d=\"M 3513 2113 \n",
       "L 3513 0 \n",
       "L 2938 0 \n",
       "L 2938 2094 \n",
       "Q 2938 2591 2744 2837 \n",
       "Q 2550 3084 2163 3084 \n",
       "Q 1697 3084 1428 2787 \n",
       "Q 1159 2491 1159 1978 \n",
       "L 1159 0 \n",
       "L 581 0 \n",
       "L 581 4863 \n",
       "L 1159 4863 \n",
       "L 1159 2956 \n",
       "Q 1366 3272 1645 3428 \n",
       "Q 1925 3584 2291 3584 \n",
       "Q 2894 3584 3203 3211 \n",
       "Q 3513 2838 3513 2113 \n",
       "z\n",
       "\" transform=\"scale(0.015625)\"/>\n",
       "      <path id=\"DejaVuSans-69\" d=\"M 603 3500 \n",
       "L 1178 3500 \n",
       "L 1178 0 \n",
       "L 603 0 \n",
       "L 603 3500 \n",
       "z\n",
       "M 603 4863 \n",
       "L 1178 4863 \n",
       "L 1178 4134 \n",
       "L 603 4134 \n",
       "L 603 4863 \n",
       "z\n",
       "\" transform=\"scale(0.015625)\"/>\n",
       "      <path id=\"DejaVuSans-72\" d=\"M 2631 2963 \n",
       "Q 2534 3019 2420 3045 \n",
       "Q 2306 3072 2169 3072 \n",
       "Q 1681 3072 1420 2755 \n",
       "Q 1159 2438 1159 1844 \n",
       "L 1159 0 \n",
       "L 581 0 \n",
       "L 581 3500 \n",
       "L 1159 3500 \n",
       "L 1159 2956 \n",
       "Q 1341 3275 1631 3429 \n",
       "Q 1922 3584 2338 3584 \n",
       "Q 2397 3584 2469 3576 \n",
       "Q 2541 3569 2628 3553 \n",
       "L 2631 2963 \n",
       "z\n",
       "\" transform=\"scale(0.015625)\"/>\n",
       "     </defs>\n",
       "     <use xlink:href=\"#DejaVuSans-74\"/>\n",
       "     <use xlink:href=\"#DejaVuSans-2d\" x=\"39.208984\"/>\n",
       "     <use xlink:href=\"#DejaVuSans-73\" x=\"75.292969\"/>\n",
       "     <use xlink:href=\"#DejaVuSans-68\" x=\"127.392578\"/>\n",
       "     <use xlink:href=\"#DejaVuSans-69\" x=\"190.771484\"/>\n",
       "     <use xlink:href=\"#DejaVuSans-72\" x=\"218.554688\"/>\n",
       "     <use xlink:href=\"#DejaVuSans-74\" x=\"259.667969\"/>\n",
       "    </g>\n",
       "   </g>\n",
       "  </g>\n",
       "  <g id=\"axes_3\">\n",
       "   <g id=\"patch_12\">\n",
       "    <path d=\"M 146.889831 79.063888 \n",
       "L 203.635593 79.063888 \n",
       "L 203.635593 22.318125 \n",
       "L 146.889831 22.318125 \n",
       "z\n",
       "\" style=\"fill: #ffffff\"/>\n",
       "   </g>\n",
       "   <g clip-path=\"url(#p592125a939)\">\n",
       "    <image xlink:href=\"data:image/png;base64,\n",
       "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\" id=\"image551a1ceae1\" transform=\"scale(1 -1)translate(0 -57)\" x=\"146.889831\" y=\"-22.063888\" width=\"57\" height=\"57\"/>\n",
       "   </g>\n",
       "   <g id=\"patch_13\">\n",
       "    <path d=\"M 146.889831 79.063888 \n",
       "L 146.889831 22.318125 \n",
       "\" style=\"fill: none; stroke: #000000; stroke-width: 0.8; stroke-linejoin: miter; stroke-linecap: square\"/>\n",
       "   </g>\n",
       "   <g id=\"patch_14\">\n",
       "    <path d=\"M 203.635593 79.063888 \n",
       "L 203.635593 22.318125 \n",
       "\" style=\"fill: none; stroke: #000000; stroke-width: 0.8; stroke-linejoin: miter; stroke-linecap: square\"/>\n",
       "   </g>\n",
       "   <g id=\"patch_15\">\n",
       "    <path d=\"M 146.889831 79.063888 \n",
       "L 203.635593 79.063888 \n",
       "\" style=\"fill: none; stroke: #000000; stroke-width: 0.8; stroke-linejoin: miter; stroke-linecap: square\"/>\n",
       "   </g>\n",
       "   <g id=\"patch_16\">\n",
       "    <path d=\"M 146.889831 22.318125 \n",
       "L 203.635593 22.318125 \n",
       "\" style=\"fill: none; stroke: #000000; stroke-width: 0.8; stroke-linejoin: miter; stroke-linecap: square\"/>\n",
       "   </g>\n",
       "   <g id=\"text_3\">\n",
       "    <!-- t-shirt -->\n",
       "    <g transform=\"translate(157.332087 16.318125)scale(0.12 -0.12)\">\n",
       "     <use xlink:href=\"#DejaVuSans-74\"/>\n",
       "     <use xlink:href=\"#DejaVuSans-2d\" x=\"39.208984\"/>\n",
       "     <use xlink:href=\"#DejaVuSans-73\" x=\"75.292969\"/>\n",
       "     <use xlink:href=\"#DejaVuSans-68\" x=\"127.392578\"/>\n",
       "     <use xlink:href=\"#DejaVuSans-69\" x=\"190.771484\"/>\n",
       "     <use xlink:href=\"#DejaVuSans-72\" x=\"218.554688\"/>\n",
       "     <use xlink:href=\"#DejaVuSans-74\" x=\"259.667969\"/>\n",
       "    </g>\n",
       "   </g>\n",
       "  </g>\n",
       "  <g id=\"axes_4\">\n",
       "   <g id=\"patch_17\">\n",
       "    <path d=\"M 214.984746 79.063888 \n",
       "L 271.730508 79.063888 \n",
       "L 271.730508 22.318125 \n",
       "L 214.984746 22.318125 \n",
       "z\n",
       "\" style=\"fill: #ffffff\"/>\n",
       "   </g>\n",
       "   <g clip-path=\"url(#pd966ee617c)\">\n",
       "    <image xlink:href=\"data:image/png;base64,\n",
       "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\" id=\"imagedfb250d4f9\" transform=\"scale(1 -1)translate(0 -57)\" x=\"214.984746\" y=\"-22.063888\" width=\"57\" height=\"57\"/>\n",
       "   </g>\n",
       "   <g id=\"patch_18\">\n",
       "    <path d=\"M 214.984746 79.063888 \n",
       "L 214.984746 22.318125 \n",
       "\" style=\"fill: none; stroke: #000000; stroke-width: 0.8; stroke-linejoin: miter; stroke-linecap: square\"/>\n",
       "   </g>\n",
       "   <g id=\"patch_19\">\n",
       "    <path d=\"M 271.730508 79.063888 \n",
       "L 271.730508 22.318125 \n",
       "\" style=\"fill: none; stroke: #000000; stroke-width: 0.8; stroke-linejoin: miter; stroke-linecap: square\"/>\n",
       "   </g>\n",
       "   <g id=\"patch_20\">\n",
       "    <path d=\"M 214.984746 79.063888 \n",
       "L 271.730508 79.063888 \n",
       "\" style=\"fill: none; stroke: #000000; stroke-width: 0.8; stroke-linejoin: miter; stroke-linecap: square\"/>\n",
       "   </g>\n",
       "   <g id=\"patch_21\">\n",
       "    <path d=\"M 214.984746 22.318125 \n",
       "L 271.730508 22.318125 \n",
       "\" style=\"fill: none; stroke: #000000; stroke-width: 0.8; stroke-linejoin: miter; stroke-linecap: square\"/>\n",
       "   </g>\n",
       "   <g id=\"text_4\">\n",
       "    <!-- dress -->\n",
       "    <g transform=\"translate(227.273877 16.318125)scale(0.12 -0.12)\">\n",
       "     <defs>\n",
       "      <path id=\"DejaVuSans-64\" d=\"M 2906 2969 \n",
       "L 2906 4863 \n",
       "L 3481 4863 \n",
       "L 3481 0 \n",
       "L 2906 0 \n",
       "L 2906 525 \n",
       "Q 2725 213 2448 61 \n",
       "Q 2172 -91 1784 -91 \n",
       "Q 1150 -91 751 415 \n",
       "Q 353 922 353 1747 \n",
       "Q 353 2572 751 3078 \n",
       "Q 1150 3584 1784 3584 \n",
       "Q 2172 3584 2448 3432 \n",
       "Q 2725 3281 2906 2969 \n",
       "z\n",
       "M 947 1747 \n",
       "Q 947 1113 1208 752 \n",
       "Q 1469 391 1925 391 \n",
       "Q 2381 391 2643 752 \n",
       "Q 2906 1113 2906 1747 \n",
       "Q 2906 2381 2643 2742 \n",
       "Q 2381 3103 1925 3103 \n",
       "Q 1469 3103 1208 2742 \n",
       "Q 947 2381 947 1747 \n",
       "z\n",
       "\" transform=\"scale(0.015625)\"/>\n",
       "     </defs>\n",
       "     <use xlink:href=\"#DejaVuSans-64\"/>\n",
       "     <use xlink:href=\"#DejaVuSans-72\" x=\"63.476562\"/>\n",
       "     <use xlink:href=\"#DejaVuSans-65\" x=\"102.339844\"/>\n",
       "     <use xlink:href=\"#DejaVuSans-73\" x=\"163.863281\"/>\n",
       "     <use xlink:href=\"#DejaVuSans-73\" x=\"215.962891\"/>\n",
       "    </g>\n",
       "   </g>\n",
       "  </g>\n",
       "  <g id=\"axes_5\">\n",
       "   <g id=\"patch_22\">\n",
       "    <path d=\"M 283.079661 79.063888 \n",
       "L 339.825424 79.063888 \n",
       "L 339.825424 22.318125 \n",
       "L 283.079661 22.318125 \n",
       "z\n",
       "\" style=\"fill: #ffffff\"/>\n",
       "   </g>\n",
       "   <g clip-path=\"url(#p4c2bed7f62)\">\n",
       "    <image xlink:href=\"data:image/png;base64,\n",
       "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\" id=\"image32cfbb1234\" transform=\"scale(1 -1)translate(0 -57)\" x=\"283.079661\" y=\"-22.063888\" width=\"57\" height=\"57\"/>\n",
       "   </g>\n",
       "   <g id=\"patch_23\">\n",
       "    <path d=\"M 283.079661 79.063888 \n",
       "L 283.079661 22.318125 \n",
       "\" style=\"fill: none; stroke: #000000; stroke-width: 0.8; stroke-linejoin: miter; stroke-linecap: square\"/>\n",
       "   </g>\n",
       "   <g id=\"patch_24\">\n",
       "    <path d=\"M 339.825424 79.063888 \n",
       "L 339.825424 22.318125 \n",
       "\" style=\"fill: none; stroke: #000000; stroke-width: 0.8; stroke-linejoin: miter; stroke-linecap: square\"/>\n",
       "   </g>\n",
       "   <g id=\"patch_25\">\n",
       "    <path d=\"M 283.079661 79.063888 \n",
       "L 339.825424 79.063888 \n",
       "\" style=\"fill: none; stroke: #000000; stroke-width: 0.8; stroke-linejoin: miter; stroke-linecap: square\"/>\n",
       "   </g>\n",
       "   <g id=\"patch_26\">\n",
       "    <path d=\"M 283.079661 22.318125 \n",
       "L 339.825424 22.318125 \n",
       "\" style=\"fill: none; stroke: #000000; stroke-width: 0.8; stroke-linejoin: miter; stroke-linecap: square\"/>\n",
       "   </g>\n",
       "   <g id=\"text_5\">\n",
       "    <!-- t-shirt -->\n",
       "    <g transform=\"translate(293.521917 16.318125)scale(0.12 -0.12)\">\n",
       "     <use xlink:href=\"#DejaVuSans-74\"/>\n",
       "     <use xlink:href=\"#DejaVuSans-2d\" x=\"39.208984\"/>\n",
       "     <use xlink:href=\"#DejaVuSans-73\" x=\"75.292969\"/>\n",
       "     <use xlink:href=\"#DejaVuSans-68\" x=\"127.392578\"/>\n",
       "     <use xlink:href=\"#DejaVuSans-69\" x=\"190.771484\"/>\n",
       "     <use xlink:href=\"#DejaVuSans-72\" x=\"218.554688\"/>\n",
       "     <use xlink:href=\"#DejaVuSans-74\" x=\"259.667969\"/>\n",
       "    </g>\n",
       "   </g>\n",
       "  </g>\n",
       "  <g id=\"axes_6\">\n",
       "   <g id=\"patch_27\">\n",
       "    <path d=\"M 351.174576 79.063888 \n",
       "L 407.920339 79.063888 \n",
       "L 407.920339 22.318125 \n",
       "L 351.174576 22.318125 \n",
       "z\n",
       "\" style=\"fill: #ffffff\"/>\n",
       "   </g>\n",
       "   <g clip-path=\"url(#pae4fbed64b)\">\n",
       "    <image xlink:href=\"data:image/png;base64,\n",
       "iVBORw0KGgoAAAANSUhEUgAAADkAAAA5CAYAAACMGIOFAAAR/ElEQVR4nL2by48l113HP+dRj1v33u7p7pnxjMdPbCcOTkgCIQteYoHIKhGRkJBYsI6EEPw9CAmJBQsEiA2EDSECRd4EEsexHAfHsT0ejz0z3XO7+z6q6jx+LE5V3XvH3fNy4Eilqltddep8z+/9PafV76k/FM5pZm+Pd//0c6yea9FFQKJi8lrJ+GZk/9UP8e++nx5UKp3l3K5+YU392iu8/cdTwq7nwqU5s8MJF/8zY3LTU373dWJdf+Ide35vCowmZqCyiMkCiCIUEAoFWq+f/X8AN3wqM4RxxFSezAZ0Foh59skxbbSzQSqF2d2B/Qs0lz3PXj3imekRRgnfXXwWP844+GH1f4nl3FZfLPn6V37Ajq25We/ylrnMredLorFM7NlwzpekMWANZJFJ3rCfLym0x4zSzIlNs6bHY1RZbKtsfATJarW+3nxPK7AWvEdWNeI84lpirnhpdItKN8xDwThrCbkQM7Xd18OAlLpB1y0EhY+aKOkcVoZipVAugLXMv/Z5jp8zhALEgF2BaUA0iAIVQW2Mvb8PwL1jkvSsiuAraHeF8rbi4usN+e0F8vpbHf7YzYmiCRa7Utj6/Mk9G6QIhAAxdp2mlwMaokKF7hmlWV7SLJ6JxDyCBrPQ6EYhGtBA3MAiHcD+YAMw3WTEDuQkoi82LLMRq5sZuinRSg/Pmw4ogArpkHN8w/mSFElAjFAaR6H9ALaXjDKa4xfhi7/6Mz5eTpnXBXWTEbyhKFuKzBM6LRBRxKhQSgbNHgbZ96sE5yyutVyYLnn54BavFU9yPNsFSnY6dSyVI1OBTIX0rqj7Or/zbTJ24ldJkloJphPLMPtaEyaBl6cfE6WzUSW4YJiOaiZ5m1Q8aoIoQtQDoL4NE9dd15llZTP2qhXXRjN+Xu1zVO0k76n0oAGGuDXp6j5u4HyQkGZHku73TRWBUFrEmKR1QTEPBSuf0XpL6w3OGY7cmLuqQrp3JSqiqPTOPaPqJdtLWSmh9pajdszJsiSfKbJlQJUF0ShqySBCEy0uGJRP6vroICV+4pZWgjaCWMD0RgVRNBG1ZfcxaDYnV6IabFINqNZSHL5hItambzvRhKDJms7urEU0ODFkKhAlfeNe5/bwIO8BF0URUUwnK2b7hlhYDCBGGNuGS+WcTIdkgxvDNiqpVX9/E3qvur20fafyURR7xZL9fInWgmm6dy4f4CYK0/XRe1kEVJTBUT4WyM1WFS2no4DYXhqQqcDIOHy2zji0EjSC1QGjhCBqsNv1M3G4F0XhReOjxouhssnZAXQnYlUQcrX1Deik+Kkk2fUZRYGCS6MF7a4lZNP08obNaiW0wWyB0WrtIKKoret0XkteI7TR0ARL3iELQZMtBRUFt1/ixxBQODFrX/HYjkdtSyWQfu/kK07Lgmh3h7/3f+ub3wSJ2ppl3bn6ZMPro/fgIWpcWAOQqNAuveNHhpBtD3PTKT46SEhub0OSAc3V8oRMRd7OrqRHukwoAUoDtWrbNrSKeDEDOI0Mzw79d6DT8+lvmQqIKOwqEoqUeLhdIYrGDX3LA9X17LT9jBYlBfV9u+BiMSfatarcK8l7AfYTMKgoauvvWkX0GaM0KiKA9mky3FQRRpFAsm99Px3daOdnPN6B7wxfyTDTE1OnGe5xRWijxZ3hVAD8hu2cNahBwt0zSglGr+0YUagghExR7wtMPS5aooqYbrpUSGHkkUEigpzhkse6wRATyBhBFC6aLQey2frE3urzR9Gr+2brvTOk8CAGQiWYPKTvbEqyDyHntPuqq1IKnYcUr0jOJ4jeUk/tYeHzbWfTedT+WH9sfd1PSOzSvU3nUxiPVZGISimpQMgUYc8znawI90zokAw8aoLeN2MiI93iOrUKaKLotcuOijrYTwBKYM/+aA9o8LCsA3wvcb1ZZUiSZFa1TIr2TEn+QhzPuR0EqDu/vglqMzzIhpsfvOrG9XDurkvjyFQkiEaCQrURMXDt4JgnJ8cE0TgxQ5L+oAT9U4MkQhNskg59oF9nMb2k7o1n96Z3PXCrA7ZT9yiqi5PJ0V0bH3O5OB36fdj20LnrvergC4WaTkHT2ZTesMO4Meg4nNe5ph6eiXE9WKsCVkesDikP7ot0l0qMi8WcXbvCRTO8E0V1VchjOp6z2hDrMoWqSoRt77jpcLZUcVMlNx3TkGxLAqgi2WbcFBJIgV27otLt1ngE0EFSLP20CXpKBtJgMjx+BPHCBBQ03m55134yBkCoLV4mqXP3m7XN2j4x2DQwlWhIWQtv8O6ldilORj5lgt4PeitLEUKpCJMCFLTenGkjQxIw2Kpax9MOaG+zfb/mXg+iQKxGOuojyEa46Z2Y3D8ZeCh1jaII3YANKdMIRUqYEXAdyE1p9YPe+tggWdm6l+mAVWFb2p2zUibipwV+BJVuqUxDpkIah0qTZFrQ7fkoHwhSusQcGIBmyhMzCKOkQ95rRBSmL65l20bP/PBGTpucTRyk6ER39adCW8FNLKFMIEvltmJyEIVpBd2GR2frBpCkmc1U5/WUT2AySeSSQPBmq+qPKHw0Q/WRwotCyzoB4Awb7gtrLzoV2sYlBm+sCUXSgloyjtwYjXAhW9I4y85pwM5b5JF41y2USXqFTpV6qVOREzMIeSKmoksVfR/b+muNGti6PunejHEiaqBAvDIDwDYYrIppokzEjxQxT8NpYsadZkyuA4V2tN6SnXjUfIWcwUs9EKSESJhb3plfZJI1jIxj115Gq5SBuLEi5ILOInkX26ZZQ67DYH99iQbbXFHfeukXxjMyDhcN3mhcNNxqJklLMkDBsa+46ys+WuyglTBrRyxmI+zJAjVfPqYkJWJODddnF9irVpTWpTimA9EK7VQjRcTaQGE9VgWmNjA2OnE7rGc25bxrymOwyU6SmQpbkr7dTjisdwitJtqkUMdhxJ12wuE8UZ2HpsIcWfTRKfHkFOLZvOT9QYZIdqo5PRmxO6qpbMul/JTKtMhBS90WqFbh74z4CZe5Md5h1eS41qJ0HDhUpUBv/O6bUoJ0uW0i7BPLng5N9BpWhtUTivhEzVfH7/BedpGfTw8oreMLFz7kX+IvE67sYYBYN2cCfQDIQD6D9k6Ou6SprONacZcDM+fJJ2bc1LuYGyXZbY2bj5nlFcVdzWjR+RWVFoFEJRsWK8P9tbYkglp7UB6yAEQQSwpTlVBfc7x47TZfq27xdnabN3ev8vzoDn+x/zqVafnOU7/FOEbUR7eQRwaZWVZXhPzpBZeqBYX2vLO6xLvqIpkJTKY1y2eEldcc7M85qBYcrSpqZweH1a/t5Dp2UhW0SisQsuGANh2SUoICDGB76Yrir48/y5vLq/z725/he8Xz/OjqNb7/7rO8cGOJuXOCD4+hrirL4PkF33jxdZpo8dHwxvFV5m3BJG94fu+IZ5464iBb8M3d/+aVLB/ebcTjCCxjoBZwrBOKiMKJpkVjEDIVKVWgVEKlFHt6xEmsuR40P6yf4p9ufZnjdsRf/vQ3md8ec+FHGciIN0Y7XPwoot/4KX6xOBfH/b2rc6i3x/xD/BJ7O0sK62m8JQo8M73LxWLO+4t93nBXefXweXITyLXH6shutmJk3NBXnyToe/Kv9UJRJFOBVcw5cSVzVzBrRoN0Vy7DOZNy5V0IpdBe8fgq42A6QbxHmuYxQC6WXPtuy/LNkqNXRri9gJ448tLzXHXIK9UNvvP+Z1i9P2XnbU11K+K6mLa6qHA7QsxT4jAshWkBDaIlXUeFCmqo7vOZZvSRwjjB1DB/SuG+OEeplHSoLFI/GbAHK771yqv83ZUvE/9xD+0coW3PpEDU/XZ/6PGY469/gcUVzeKaEKuIahRKQF9bMqkaTt7ap7yj8GMh5hAzSS6/CqgiDN40eg1hzeOik9cVAWK6r0xEnIZWo2tNNt/gcYJCu8Qp2Tm4KSye9YxuWJ7/m/eJR3eJy+WZIB9gk5bj5zXLZxI1qbxi5x1NeRThvyqQimvzVOt9/Ccr/uyV/0jjV5E7bso8FHzcTJm1FbN6xKLNiFGfyc6Ncse0aHhucsRv7L7N++0Br82e4kc/fo4X/7ZBLx162aCaFpkdpz0E3kMUvGs/0d8jS3J5OW11EZX2BKgghFFaMt95N1Dc9Xz42wX1s+2abHFJcqrVXXhQ23Wf7i471RXdhZhcUJVHVgZzarALTXm4MWAP2ULQIa12lYee7Hs/Ptce4QGSjIsFO3//fXatRV99grhTcfN39lhcA/9kgy0dxdGYyXsNv/RXN4l3Z/d0ENPOkCxHFTlkFsksZJaYW2JpEaOIuUG3AdME9GyB3PhoqPJn3/wSL//5Gzw3OuTzow9wYjgME+ah5EZzgX9+8/N89vUdwu3bjwcSbTBXnkB2xhx9cZ96X3PyUkDttVw+OGWUOT743Jh2Z4fyaEq+eBrdCioItg4oFxPpK4BWyfcYhejuGK4h5ppYGHRl0Xtjwjij2cu4+7JmN1tRmSQprSIXzJIomlXIkaDPXDB+aJC6LDj59ac4fdpw5Q/e44+eeGNw+YV2GCL1kxlRNMdhxDLk/HxxwGE95oO7OzSnBWZmsXM9OA3lE42pHWgniRgOKTOKBpo9RX05Yp9c8o2XfkDWrZPPQ8lb9VUq07Bv5hz5MW/NLqNm2QN3hN1fkjFi6oipNaXxXLKn3PZTmpjW7LWKqYjVqeKodIurDNOsSVXCqOS0GtGsMvAqhQuvkq0G0F4Na4t9iRmmnmJ/xdMHM67mxwQUy1AQSXsTEt8qzENB7W3aK/CAzVH3j5PeM7pxCkw5qivqmHG93mfmKkbGYXUYGLQ6ZkQUl7NTrhV3eam6NbDu9y6j97/NBhUSUQTRaetKv7QMGISpqTkOIz5udrA6MA8FN+tdlk2Odp92fRJQtcPWgWOXcRyqtNMjZDjRZF1he6zXOWOlWzJJ3YbN6r/LdMKQ4YQBaKbCsBwHKQsKollKYhxcNMxDwSLk2BgptOfElSxmI6oTlTZWPS5IiYJa1tiTktlJxVvLJ7hdT6hDtt6A1NEZI+sojUskMvKJotl353RtKE16fmJbxqYhSr9ErnGiB5ZgFTJO2pIQNW00jLOWkXHcPN1h8pOcyfWY4uXjgkQiUtfolSO0JcduNDDlIeph4NJRHjUZOm4Sxonj6SkQL3pYwcpMTmE8S9uym6VhxC6J99EMk9cGOzDmfYHtRbNsMsa3hNGhRz6NJBEhHB5hADXb54PTC1yuTtmxLbfDhMZbMhMwOuKiSUe33t8TYK03+GDSrqygCV4To0briDaRIvdMygbTLb5ugtncSGFV7NiHyCpkLGcjnn31NhzeTTnrfdqDeVcRaB3lx5obN/dY+pyxbSmMJzOhW+PY9m5CWh8JUeODwYcEsK/+pdsxEoPGB03tLG0wW6tfwLBsMHxLRRY+53+OLmIPs8TrLFefMoR0LS6XPPPtGavXxtz61oTfv/wmmQ7M2hF1sLTRJpWUjpXrl+yixnlD22TYzGNtxJhIjJoQEsXhXAKnyzRxamNNpOeUCu1xopm7gg+OLpC9OuXy9UA8PDpzO/ZjgZQomMMTSqV478Yu3x6/giZV+aXxlMYlSnGDglRKEBOwJtAWLePcUWXtQPO7YHBRD9IrrR/IsF47+n09s3bErB5xazYh3KzY+zBS3WqRcP9Mp2/3TdC3HrQ2HS88i9uvuPG7I1ZPO1584SM+t/sRhfZkKnDiRzTRDtT/F8fXebn4kH1dc0FHehfhBGrRXPe7vNNe5mO3y4fNLoX2TEzalXynmfDO8QEfv7fP+D3LU/92ij5ewq07SOtSafUQ7aEXfMSn0sZ8eIv8uGL80jOIzvhZcYnDRcUod2Q6DiTy1eqYS/kcSHTkcSxYynY8DCgchkqnvPTYjRIjUI9YOctiVdDcLamuW8Y3BHP9FrJcEU5OHnbYwCNIcv2GQhmD3t1B5TmUBZJZ4m5FqCyzF0qWTyjcryz46rPvUQdLHTKuzy4wPy2RkJbIdR6weeCpgxlfOXif1+5e4+2blyl+POLpfz1Gtx6aFuUD1A3StITjk5SMP+J/LzzyBkJEEO8Jh0dbt83FA8xkzOjCFXxpWbUGL5rTtmTuchaLEpnlKK/QAWJpaIvIrCppoqX2GaE25Cegf3ad2DT3rREfpf0vOSqejnzNLdEAAAAASUVORK5CYII=\" id=\"imageb6a4950581\" transform=\"scale(1 -1)translate(0 -57)\" x=\"351.174576\" y=\"-22.063888\" width=\"57\" height=\"57\"/>\n",
       "   </g>\n",
       "   <g id=\"patch_28\">\n",
       "    <path d=\"M 351.174576 79.063888 \n",
       "L 351.174576 22.318125 \n",
       "\" style=\"fill: none; stroke: #000000; stroke-width: 0.8; stroke-linejoin: miter; stroke-linecap: square\"/>\n",
       "   </g>\n",
       "   <g id=\"patch_29\">\n",
       "    <path d=\"M 407.920339 79.063888 \n",
       "L 407.920339 22.318125 \n",
       "\" style=\"fill: none; stroke: #000000; stroke-width: 0.8; stroke-linejoin: miter; stroke-linecap: square\"/>\n",
       "   </g>\n",
       "   <g id=\"patch_30\">\n",
       "    <path d=\"M 351.174576 79.063888 \n",
       "L 407.920339 79.063888 \n",
       "\" style=\"fill: none; stroke: #000000; stroke-width: 0.8; stroke-linejoin: miter; stroke-linecap: square\"/>\n",
       "   </g>\n",
       "   <g id=\"patch_31\">\n",
       "    <path d=\"M 351.174576 22.318125 \n",
       "L 407.920339 22.318125 \n",
       "\" style=\"fill: none; stroke: #000000; stroke-width: 0.8; stroke-linejoin: miter; stroke-linecap: square\"/>\n",
       "   </g>\n",
       "   <g id=\"text_6\">\n",
       "    <!-- pullover -->\n",
       "    <g transform=\"translate(355.221208 16.318125)scale(0.12 -0.12)\">\n",
       "     <defs>\n",
       "      <path id=\"DejaVuSans-70\" d=\"M 1159 525 \n",
       "L 1159 -1331 \n",
       "L 581 -1331 \n",
       "L 581 3500 \n",
       "L 1159 3500 \n",
       "L 1159 2969 \n",
       "Q 1341 3281 1617 3432 \n",
       "Q 1894 3584 2278 3584 \n",
       "Q 2916 3584 3314 3078 \n",
       "Q 3713 2572 3713 1747 \n",
       "Q 3713 922 3314 415 \n",
       "Q 2916 -91 2278 -91 \n",
       "Q 1894 -91 1617 61 \n",
       "Q 1341 213 1159 525 \n",
       "z\n",
       "M 3116 1747 \n",
       "Q 3116 2381 2855 2742 \n",
       "Q 2594 3103 2138 3103 \n",
       "Q 1681 3103 1420 2742 \n",
       "Q 1159 2381 1159 1747 \n",
       "Q 1159 1113 1420 752 \n",
       "Q 1681 391 2138 391 \n",
       "Q 2594 391 2855 752 \n",
       "Q 3116 1113 3116 1747 \n",
       "z\n",
       "\" transform=\"scale(0.015625)\"/>\n",
       "      <path id=\"DejaVuSans-75\" d=\"M 544 1381 \n",
       "L 544 3500 \n",
       "L 1119 3500 \n",
       "L 1119 1403 \n",
       "Q 1119 906 1312 657 \n",
       "Q 1506 409 1894 409 \n",
       "Q 2359 409 2629 706 \n",
       "Q 2900 1003 2900 1516 \n",
       "L 2900 3500 \n",
       "L 3475 3500 \n",
       "L 3475 0 \n",
       "L 2900 0 \n",
       "L 2900 538 \n",
       "Q 2691 219 2414 64 \n",
       "Q 2138 -91 1772 -91 \n",
       "Q 1169 -91 856 284 \n",
       "Q 544 659 544 1381 \n",
       "z\n",
       "M 1991 3584 \n",
       "L 1991 3584 \n",
       "z\n",
       "\" transform=\"scale(0.015625)\"/>\n",
       "      <path id=\"DejaVuSans-76\" d=\"M 191 3500 \n",
       "L 800 3500 \n",
       "L 1894 563 \n",
       "L 2988 3500 \n",
       "L 3597 3500 \n",
       "L 2284 0 \n",
       "L 1503 0 \n",
       "L 191 3500 \n",
       "z\n",
       "\" transform=\"scale(0.015625)\"/>\n",
       "     </defs>\n",
       "     <use xlink:href=\"#DejaVuSans-70\"/>\n",
       "     <use xlink:href=\"#DejaVuSans-75\" x=\"63.476562\"/>\n",
       "     <use xlink:href=\"#DejaVuSans-6c\" x=\"126.855469\"/>\n",
       "     <use xlink:href=\"#DejaVuSans-6c\" x=\"154.638672\"/>\n",
       "     <use xlink:href=\"#DejaVuSans-6f\" x=\"182.421875\"/>\n",
       "     <use xlink:href=\"#DejaVuSans-76\" x=\"243.603516\"/>\n",
       "     <use xlink:href=\"#DejaVuSans-65\" x=\"302.783203\"/>\n",
       "     <use xlink:href=\"#DejaVuSans-72\" x=\"364.306641\"/>\n",
       "    </g>\n",
       "   </g>\n",
       "  </g>\n",
       "  <g id=\"axes_7\">\n",
       "   <g id=\"patch_32\">\n",
       "    <path d=\"M 419.269492 79.063888 \n",
       "L 476.015254 79.063888 \n",
       "L 476.015254 22.318125 \n",
       "L 419.269492 22.318125 \n",
       "z\n",
       "\" style=\"fill: #ffffff\"/>\n",
       "   </g>\n",
       "   <g clip-path=\"url(#pe3fe7fd1e7)\">\n",
       "    <image xlink:href=\"data:image/png;base64,\n",
       "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\" id=\"image50228af6d7\" transform=\"scale(1 -1)translate(0 -57)\" x=\"419.269492\" y=\"-22.063888\" width=\"57\" height=\"57\"/>\n",
       "   </g>\n",
       "   <g id=\"patch_33\">\n",
       "    <path d=\"M 419.269492 79.063888 \n",
       "L 419.269492 22.318125 \n",
       "\" style=\"fill: none; stroke: #000000; stroke-width: 0.8; stroke-linejoin: miter; stroke-linecap: square\"/>\n",
       "   </g>\n",
       "   <g id=\"patch_34\">\n",
       "    <path d=\"M 476.015254 79.063888 \n",
       "L 476.015254 22.318125 \n",
       "\" style=\"fill: none; stroke: #000000; stroke-width: 0.8; stroke-linejoin: miter; stroke-linecap: square\"/>\n",
       "   </g>\n",
       "   <g id=\"patch_35\">\n",
       "    <path d=\"M 419.269492 79.063888 \n",
       "L 476.015254 79.063888 \n",
       "\" style=\"fill: none; stroke: #000000; stroke-width: 0.8; stroke-linejoin: miter; stroke-linecap: square\"/>\n",
       "   </g>\n",
       "   <g id=\"patch_36\">\n",
       "    <path d=\"M 419.269492 22.318125 \n",
       "L 476.015254 22.318125 \n",
       "\" style=\"fill: none; stroke: #000000; stroke-width: 0.8; stroke-linejoin: miter; stroke-linecap: square\"/>\n",
       "   </g>\n",
       "   <g id=\"text_7\">\n",
       "    <!-- sneaker -->\n",
       "    <g transform=\"translate(423.930185 16.318125)scale(0.12 -0.12)\">\n",
       "     <use xlink:href=\"#DejaVuSans-73\"/>\n",
       "     <use xlink:href=\"#DejaVuSans-6e\" x=\"52.099609\"/>\n",
       "     <use xlink:href=\"#DejaVuSans-65\" x=\"115.478516\"/>\n",
       "     <use xlink:href=\"#DejaVuSans-61\" x=\"177.001953\"/>\n",
       "     <use xlink:href=\"#DejaVuSans-6b\" x=\"238.28125\"/>\n",
       "     <use xlink:href=\"#DejaVuSans-65\" x=\"292.566406\"/>\n",
       "     <use xlink:href=\"#DejaVuSans-72\" x=\"354.089844\"/>\n",
       "    </g>\n",
       "   </g>\n",
       "  </g>\n",
       "  <g id=\"axes_8\">\n",
       "   <g id=\"patch_37\">\n",
       "    <path d=\"M 487.364407 79.063888 \n",
       "L 544.110169 79.063888 \n",
       "L 544.110169 22.318125 \n",
       "L 487.364407 22.318125 \n",
       "z\n",
       "\" style=\"fill: #ffffff\"/>\n",
       "   </g>\n",
       "   <g clip-path=\"url(#p8991ef9b1f)\">\n",
       "    <image xlink:href=\"data:image/png;base64,\n",
       "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\" id=\"image0b98ca37fb\" transform=\"scale(1 -1)translate(0 -57)\" x=\"487.364407\" y=\"-22.063888\" width=\"57\" height=\"57\"/>\n",
       "   </g>\n",
       "   <g id=\"patch_38\">\n",
       "    <path d=\"M 487.364407 79.063888 \n",
       "L 487.364407 22.318125 \n",
       "\" style=\"fill: none; stroke: #000000; stroke-width: 0.8; stroke-linejoin: miter; stroke-linecap: square\"/>\n",
       "   </g>\n",
       "   <g id=\"patch_39\">\n",
       "    <path d=\"M 544.110169 79.063888 \n",
       "L 544.110169 22.318125 \n",
       "\" style=\"fill: none; stroke: #000000; stroke-width: 0.8; stroke-linejoin: miter; stroke-linecap: square\"/>\n",
       "   </g>\n",
       "   <g id=\"patch_40\">\n",
       "    <path d=\"M 487.364407 79.063888 \n",
       "L 544.110169 79.063888 \n",
       "\" style=\"fill: none; stroke: #000000; stroke-width: 0.8; stroke-linejoin: miter; stroke-linecap: square\"/>\n",
       "   </g>\n",
       "   <g id=\"patch_41\">\n",
       "    <path d=\"M 487.364407 22.318125 \n",
       "L 544.110169 22.318125 \n",
       "\" style=\"fill: none; stroke: #000000; stroke-width: 0.8; stroke-linejoin: miter; stroke-linecap: square\"/>\n",
       "   </g>\n",
       "   <g id=\"text_8\">\n",
       "    <!-- pullover -->\n",
       "    <g transform=\"translate(491.411038 16.318125)scale(0.12 -0.12)\">\n",
       "     <use xlink:href=\"#DejaVuSans-70\"/>\n",
       "     <use xlink:href=\"#DejaVuSans-75\" x=\"63.476562\"/>\n",
       "     <use xlink:href=\"#DejaVuSans-6c\" x=\"126.855469\"/>\n",
       "     <use xlink:href=\"#DejaVuSans-6c\" x=\"154.638672\"/>\n",
       "     <use xlink:href=\"#DejaVuSans-6f\" x=\"182.421875\"/>\n",
       "     <use xlink:href=\"#DejaVuSans-76\" x=\"243.603516\"/>\n",
       "     <use xlink:href=\"#DejaVuSans-65\" x=\"302.783203\"/>\n",
       "     <use xlink:href=\"#DejaVuSans-72\" x=\"364.306641\"/>\n",
       "    </g>\n",
       "   </g>\n",
       "  </g>\n",
       "  <g id=\"axes_9\">\n",
       "   <g id=\"patch_42\">\n",
       "    <path d=\"M 555.459322 79.063888 \n",
       "L 612.205085 79.063888 \n",
       "L 612.205085 22.318125 \n",
       "L 555.459322 22.318125 \n",
       "z\n",
       "\" style=\"fill: #ffffff\"/>\n",
       "   </g>\n",
       "   <g clip-path=\"url(#p0417950239)\">\n",
       "    <image xlink:href=\"data:image/png;base64,\n",
       "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\" id=\"imagea2e2075889\" transform=\"scale(1 -1)translate(0 -57)\" x=\"555.459322\" y=\"-22.063888\" width=\"57\" height=\"57\"/>\n",
       "   </g>\n",
       "   <g id=\"patch_43\">\n",
       "    <path d=\"M 555.459322 79.063888 \n",
       "L 555.459322 22.318125 \n",
       "\" style=\"fill: none; stroke: #000000; stroke-width: 0.8; stroke-linejoin: miter; stroke-linecap: square\"/>\n",
       "   </g>\n",
       "   <g id=\"patch_44\">\n",
       "    <path d=\"M 612.205085 79.063888 \n",
       "L 612.205085 22.318125 \n",
       "\" style=\"fill: none; stroke: #000000; stroke-width: 0.8; stroke-linejoin: miter; stroke-linecap: square\"/>\n",
       "   </g>\n",
       "   <g id=\"patch_45\">\n",
       "    <path d=\"M 555.459322 79.063888 \n",
       "L 612.205085 79.063888 \n",
       "\" style=\"fill: none; stroke: #000000; stroke-width: 0.8; stroke-linejoin: miter; stroke-linecap: square\"/>\n",
       "   </g>\n",
       "   <g id=\"patch_46\">\n",
       "    <path d=\"M 555.459322 22.318125 \n",
       "L 612.205085 22.318125 \n",
       "\" style=\"fill: none; stroke: #000000; stroke-width: 0.8; stroke-linejoin: miter; stroke-linecap: square\"/>\n",
       "   </g>\n",
       "   <g id=\"text_9\">\n",
       "    <!-- sandal -->\n",
       "    <g transform=\"translate(564.074391 16.318125)scale(0.12 -0.12)\">\n",
       "     <use xlink:href=\"#DejaVuSans-73\"/>\n",
       "     <use xlink:href=\"#DejaVuSans-61\" x=\"52.099609\"/>\n",
       "     <use xlink:href=\"#DejaVuSans-6e\" x=\"113.378906\"/>\n",
       "     <use xlink:href=\"#DejaVuSans-64\" x=\"176.757812\"/>\n",
       "     <use xlink:href=\"#DejaVuSans-61\" x=\"240.234375\"/>\n",
       "     <use xlink:href=\"#DejaVuSans-6c\" x=\"301.513672\"/>\n",
       "    </g>\n",
       "   </g>\n",
       "  </g>\n",
       "  <g id=\"axes_10\">\n",
       "   <g id=\"patch_47\">\n",
       "    <path d=\"M 623.554237 79.063888 \n",
       "L 680.3 79.063888 \n",
       "L 680.3 22.318125 \n",
       "L 623.554237 22.318125 \n",
       "z\n",
       "\" style=\"fill: #ffffff\"/>\n",
       "   </g>\n",
       "   <g clip-path=\"url(#pe3c6f269c6)\">\n",
       "    <image xlink:href=\"data:image/png;base64,\n",
       "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\" id=\"image0055d7b786\" transform=\"scale(1 -1)translate(0 -57)\" x=\"623.554237\" y=\"-22.063888\" width=\"57\" height=\"57\"/>\n",
       "   </g>\n",
       "   <g id=\"patch_48\">\n",
       "    <path d=\"M 623.554237 79.063888 \n",
       "L 623.554237 22.318125 \n",
       "\" style=\"fill: none; stroke: #000000; stroke-width: 0.8; stroke-linejoin: miter; stroke-linecap: square\"/>\n",
       "   </g>\n",
       "   <g id=\"patch_49\">\n",
       "    <path d=\"M 680.3 79.063888 \n",
       "L 680.3 22.318125 \n",
       "\" style=\"fill: none; stroke: #000000; stroke-width: 0.8; stroke-linejoin: miter; stroke-linecap: square\"/>\n",
       "   </g>\n",
       "   <g id=\"patch_50\">\n",
       "    <path d=\"M 623.554237 79.063888 \n",
       "L 680.3 79.063888 \n",
       "\" style=\"fill: none; stroke: #000000; stroke-width: 0.8; stroke-linejoin: miter; stroke-linecap: square\"/>\n",
       "   </g>\n",
       "   <g id=\"patch_51\">\n",
       "    <path d=\"M 623.554237 22.318125 \n",
       "L 680.3 22.318125 \n",
       "\" style=\"fill: none; stroke: #000000; stroke-width: 0.8; stroke-linejoin: miter; stroke-linecap: square\"/>\n",
       "   </g>\n",
       "   <g id=\"text_10\">\n",
       "    <!-- sandal -->\n",
       "    <g transform=\"translate(632.169306 16.318125)scale(0.12 -0.12)\">\n",
       "     <use xlink:href=\"#DejaVuSans-73\"/>\n",
       "     <use xlink:href=\"#DejaVuSans-61\" x=\"52.099609\"/>\n",
       "     <use xlink:href=\"#DejaVuSans-6e\" x=\"113.378906\"/>\n",
       "     <use xlink:href=\"#DejaVuSans-64\" x=\"176.757812\"/>\n",
       "     <use xlink:href=\"#DejaVuSans-61\" x=\"240.234375\"/>\n",
       "     <use xlink:href=\"#DejaVuSans-6c\" x=\"301.513672\"/>\n",
       "    </g>\n",
       "   </g>\n",
       "  </g>\n",
       " </g>\n",
       " <defs>\n",
       "  <clipPath id=\"p96d2e86af8\">\n",
       "   <rect x=\"10.7\" y=\"22.318125\" width=\"56.745763\" height=\"56.745763\"/>\n",
       "  </clipPath>\n",
       "  <clipPath id=\"p409ae3425c\">\n",
       "   <rect x=\"78.794915\" y=\"22.318125\" width=\"56.745763\" height=\"56.745763\"/>\n",
       "  </clipPath>\n",
       "  <clipPath id=\"p592125a939\">\n",
       "   <rect x=\"146.889831\" y=\"22.318125\" width=\"56.745763\" height=\"56.745763\"/>\n",
       "  </clipPath>\n",
       "  <clipPath id=\"pd966ee617c\">\n",
       "   <rect x=\"214.984746\" y=\"22.318125\" width=\"56.745763\" height=\"56.745763\"/>\n",
       "  </clipPath>\n",
       "  <clipPath id=\"p4c2bed7f62\">\n",
       "   <rect x=\"283.079661\" y=\"22.318125\" width=\"56.745763\" height=\"56.745763\"/>\n",
       "  </clipPath>\n",
       "  <clipPath id=\"pae4fbed64b\">\n",
       "   <rect x=\"351.174576\" y=\"22.318125\" width=\"56.745763\" height=\"56.745763\"/>\n",
       "  </clipPath>\n",
       "  <clipPath id=\"pe3fe7fd1e7\">\n",
       "   <rect x=\"419.269492\" y=\"22.318125\" width=\"56.745763\" height=\"56.745763\"/>\n",
       "  </clipPath>\n",
       "  <clipPath id=\"p8991ef9b1f\">\n",
       "   <rect x=\"487.364407\" y=\"22.318125\" width=\"56.745763\" height=\"56.745763\"/>\n",
       "  </clipPath>\n",
       "  <clipPath id=\"p0417950239\">\n",
       "   <rect x=\"555.459322\" y=\"22.318125\" width=\"56.745763\" height=\"56.745763\"/>\n",
       "  </clipPath>\n",
       "  <clipPath id=\"pe3c6f269c6\">\n",
       "   <rect x=\"623.554237\" y=\"22.318125\" width=\"56.745763\" height=\"56.745763\"/>\n",
       "  </clipPath>\n",
       " </defs>\n",
       "</svg>\n"
      ],
      "text/plain": [
       "<Figure size 864x864 with 10 Axes>"
      ]
     },
     "metadata": {
      "needs_background": "light"
     },
     "output_type": "display_data"
    }
   ],
   "source": [
    "X, y = [], []\n",
    "for i in range(10):\n",
    "    X.append(mnist_train[i][0])\n",
    "    y.append(mnist_train[i][1])\n",
    "show_fashion_mnist(X, get_fashion_mnist_labels(y))"
   ]
  },
  {
   "cell_type": "code",
   "execution_count": 257,
   "metadata": {},
   "outputs": [],
   "source": [
    "batch_size = 256\n",
    "if sys.platform.startswith('win'):\n",
    "    num_workers = 0  # 0表示不用额外的进程来加速读取数据\n",
    "else:\n",
    "    num_workers = 4\n",
    "train_iter = torch.utils.data.DataLoader(mnist_train, batch_size=batch_size, shuffle=True, num_workers=num_workers)\n",
    "test_iter = torch.utils.data.DataLoader(mnist_test, batch_size=batch_size, shuffle=False, num_workers=num_workers)\n"
   ]
  },
  {
   "cell_type": "code",
   "execution_count": 258,
   "metadata": {},
   "outputs": [
    {
     "name": "stdout",
     "output_type": "stream",
     "text": [
      "1.86 sec\n"
     ]
    }
   ],
   "source": [
    "start = time.time()\n",
    "for X, y in train_iter:\n",
    "    continue\n",
    "print('%.2f sec' % (time.time() - start))"
   ]
  },
  {
   "cell_type": "markdown",
   "metadata": {},
   "source": [
    "## softmax 回归的从零到一的实现"
   ]
  },
  {
   "cell_type": "markdown",
   "metadata": {},
   "source": [
    "### 获取和读取数据"
   ]
  },
  {
   "cell_type": "code",
   "execution_count": 259,
   "metadata": {},
   "outputs": [],
   "source": [
    "batch_size = 256\n",
    "train_iter,test_iter = d2l.load_data_fashion_mnist(batch_size)"
   ]
  },
  {
   "cell_type": "markdown",
   "metadata": {},
   "source": [
    "### 初始化参数"
   ]
  },
  {
   "cell_type": "code",
   "execution_count": 260,
   "metadata": {},
   "outputs": [],
   "source": [
    "num_inputs = 784\n",
    "num_outputs = 10\n",
    "W = torch.tensor(np.random.normal(0,0.01,(num_inputs,num_outputs)),dtype=torch.float)\n",
    "b = torch.zeros(num_outputs,dtype=torch.float)\n"
   ]
  },
  {
   "cell_type": "code",
   "execution_count": 261,
   "metadata": {},
   "outputs": [
    {
     "data": {
      "text/plain": [
       "tensor([0., 0., 0., 0., 0., 0., 0., 0., 0., 0.], requires_grad=True)"
      ]
     },
     "execution_count": 261,
     "metadata": {},
     "output_type": "execute_result"
    }
   ],
   "source": [
    "W.requires_grad_(requires_grad=True)\n",
    "b.requires_grad_(requires_grad=True)\n"
   ]
  },
  {
   "cell_type": "markdown",
   "metadata": {},
   "source": [
    "### 实现softmax运算"
   ]
  },
  {
   "cell_type": "code",
   "execution_count": 262,
   "metadata": {},
   "outputs": [],
   "source": [
    "X = torch.tensor([[1,2,3],[4,5,6]])"
   ]
  },
  {
   "cell_type": "code",
   "execution_count": 263,
   "metadata": {},
   "outputs": [],
   "source": [
    "from torch.nn import functional  as F"
   ]
  },
  {
   "cell_type": "code",
   "execution_count": 264,
   "metadata": {},
   "outputs": [
    {
     "data": {
      "text/plain": [
       "torch.Size([2, 3])"
      ]
     },
     "execution_count": 264,
     "metadata": {},
     "output_type": "execute_result"
    }
   ],
   "source": [
    "X.shape"
   ]
  },
  {
   "cell_type": "code",
   "execution_count": 265,
   "metadata": {},
   "outputs": [
    {
     "data": {
      "text/plain": [
       "tensor([[5, 7, 9]])"
      ]
     },
     "execution_count": 265,
     "metadata": {},
     "output_type": "execute_result"
    }
   ],
   "source": [
    "X.sum(dim=0,keepdim=True)"
   ]
  },
  {
   "cell_type": "code",
   "execution_count": 266,
   "metadata": {},
   "outputs": [
    {
     "data": {
      "text/plain": [
       "tensor([[ 6],\n",
       "        [15]])"
      ]
     },
     "execution_count": 266,
     "metadata": {},
     "output_type": "execute_result"
    }
   ],
   "source": [
    "X.sum(dim=1,keepdim=True)"
   ]
  },
  {
   "cell_type": "code",
   "execution_count": 267,
   "metadata": {},
   "outputs": [],
   "source": [
    "X = torch.randn((2,5))"
   ]
  },
  {
   "cell_type": "code",
   "execution_count": 268,
   "metadata": {},
   "outputs": [
    {
     "data": {
      "text/plain": [
       "tensor([[ 0.9979, -1.0174,  1.5603,  1.8363, -0.1405],\n",
       "        [ 2.6671,  1.3458,  1.2469, -1.2391, -0.8470]])"
      ]
     },
     "execution_count": 268,
     "metadata": {},
     "output_type": "execute_result"
    }
   ],
   "source": [
    "X"
   ]
  },
  {
   "cell_type": "code",
   "execution_count": 269,
   "metadata": {},
   "outputs": [
    {
     "name": "stderr",
     "output_type": "stream",
     "text": [
      "/Users/shizhonghui/anaconda3/envs/Tianchi/lib/python3.7/site-packages/ipykernel_launcher.py:1: UserWarning: Implicit dimension choice for softmax has been deprecated. Change the call to include dim=X as an argument.\n",
      "  \"\"\"Entry point for launching an IPython kernel.\n"
     ]
    }
   ],
   "source": [
    "X_pro = F.softmax(X)"
   ]
  },
  {
   "cell_type": "code",
   "execution_count": 270,
   "metadata": {},
   "outputs": [
    {
     "data": {
      "text/plain": [
       "tensor([[0.1811, 0.0241, 0.3178, 0.4189, 0.0580],\n",
       "        [0.6417, 0.1712, 0.1551, 0.0129, 0.0191]])"
      ]
     },
     "execution_count": 270,
     "metadata": {},
     "output_type": "execute_result"
    }
   ],
   "source": [
    "X_pro"
   ]
  },
  {
   "cell_type": "code",
   "execution_count": 271,
   "metadata": {},
   "outputs": [
    {
     "data": {
      "text/plain": [
       "tensor([[1.0000],\n",
       "        [1.0000]])"
      ]
     },
     "execution_count": 271,
     "metadata": {},
     "output_type": "execute_result"
    }
   ],
   "source": [
    "X_pro.sum(dim=1,keepdim=True)"
   ]
  },
  {
   "cell_type": "markdown",
   "metadata": {},
   "source": [
    "### 定义模型"
   ]
  },
  {
   "cell_type": "code",
   "execution_count": 272,
   "metadata": {},
   "outputs": [],
   "source": [
    "def net(X):\n",
    "    return F.softmax(torch.mm(X.view((-1,num_inputs)),W) + b)"
   ]
  },
  {
   "cell_type": "markdown",
   "metadata": {},
   "source": [
    "### 定义损失函数"
   ]
  },
  {
   "cell_type": "code",
   "execution_count": 273,
   "metadata": {},
   "outputs": [],
   "source": [
    "y_hat = torch.tensor([[0.1,0.3,0.6],[0.3,0.2,0.5]])\n",
    "y = torch.LongTensor([0,2])"
   ]
  },
  {
   "cell_type": "code",
   "execution_count": 274,
   "metadata": {},
   "outputs": [
    {
     "data": {
      "text/plain": [
       "tensor([[0],\n",
       "        [2]])"
      ]
     },
     "execution_count": 274,
     "metadata": {},
     "output_type": "execute_result"
    }
   ],
   "source": [
    "y.view(-1,1)"
   ]
  },
  {
   "cell_type": "code",
   "execution_count": 275,
   "metadata": {},
   "outputs": [
    {
     "data": {
      "text/plain": [
       "tensor([[0.1000],\n",
       "        [0.5000]])"
      ]
     },
     "execution_count": 275,
     "metadata": {},
     "output_type": "execute_result"
    }
   ],
   "source": [
    "y_hat.gather(1,y.view(-1,1))"
   ]
  },
  {
   "cell_type": "code",
   "execution_count": 276,
   "metadata": {},
   "outputs": [],
   "source": [
    "def cross_entropy(y_hat,y):\n",
    "    return -torch.log(y_hat.gather(1,y.view(-1,1)))"
   ]
  },
  {
   "cell_type": "markdown",
   "metadata": {},
   "source": [
    "### 计算分类准确率"
   ]
  },
  {
   "cell_type": "code",
   "execution_count": 277,
   "metadata": {},
   "outputs": [],
   "source": [
    "def accuracy(y_hat,y):\n",
    "    return (y_hat.argmax(dim=1) == y ).float().mean().item()"
   ]
  },
  {
   "cell_type": "code",
   "execution_count": 278,
   "metadata": {},
   "outputs": [
    {
     "data": {
      "text/plain": [
       "tensor([2, 2])"
      ]
     },
     "execution_count": 278,
     "metadata": {},
     "output_type": "execute_result"
    }
   ],
   "source": [
    "y_hat.argmax(dim=1)"
   ]
  },
  {
   "cell_type": "code",
   "execution_count": 279,
   "metadata": {},
   "outputs": [
    {
     "data": {
      "text/plain": [
       "tensor([False,  True])"
      ]
     },
     "execution_count": 279,
     "metadata": {},
     "output_type": "execute_result"
    }
   ],
   "source": [
    "y_hat.argmax(dim=1) == y "
   ]
  },
  {
   "cell_type": "code",
   "execution_count": 280,
   "metadata": {},
   "outputs": [
    {
     "data": {
      "text/plain": [
       "tensor([0., 1.])"
      ]
     },
     "execution_count": 280,
     "metadata": {},
     "output_type": "execute_result"
    }
   ],
   "source": [
    "(y_hat.argmax(dim=1) == y).float()"
   ]
  },
  {
   "cell_type": "code",
   "execution_count": 281,
   "metadata": {},
   "outputs": [
    {
     "data": {
      "text/plain": [
       "tensor(0.5000)"
      ]
     },
     "execution_count": 281,
     "metadata": {},
     "output_type": "execute_result"
    }
   ],
   "source": [
    "(y_hat.argmax(dim=1) == y).float().mean()"
   ]
  },
  {
   "cell_type": "code",
   "execution_count": 282,
   "metadata": {},
   "outputs": [
    {
     "data": {
      "text/plain": [
       "0.5"
      ]
     },
     "execution_count": 282,
     "metadata": {},
     "output_type": "execute_result"
    }
   ],
   "source": [
    "(y_hat.argmax(dim=1) == y).float().mean().item()"
   ]
  },
  {
   "cell_type": "code",
   "execution_count": 283,
   "metadata": {},
   "outputs": [],
   "source": [
    "# 本函数已保存在d2lzh_pytorch包中方便以后使用。该函数将被逐步改进：它的完整实现将在“图像增广”一节中描述\n",
    "def evaluate_accuracy(data_iter, net):\n",
    "    acc_sum, n = 0.0, 0\n",
    "    for X, y in data_iter:\n",
    "        acc_sum += (net(X).argmax(dim=1) == y).float().sum().item()\n",
    "        n += y.shape[0]\n",
    "    return acc_sum / n\n"
   ]
  },
  {
   "cell_type": "code",
   "execution_count": 284,
   "metadata": {},
   "outputs": [
    {
     "name": "stderr",
     "output_type": "stream",
     "text": [
      "/Users/shizhonghui/anaconda3/envs/Tianchi/lib/python3.7/site-packages/ipykernel_launcher.py:2: UserWarning: Implicit dimension choice for softmax has been deprecated. Change the call to include dim=X as an argument.\n",
      "  \n"
     ]
    },
    {
     "data": {
      "text/plain": [
       "0.1552"
      ]
     },
     "execution_count": 284,
     "metadata": {},
     "output_type": "execute_result"
    }
   ],
   "source": [
    "evaluate_accuracy(test_iter,net)"
   ]
  },
  {
   "cell_type": "code",
   "execution_count": null,
   "metadata": {},
   "outputs": [],
   "source": []
  },
  {
   "cell_type": "markdown",
   "metadata": {},
   "source": [
    "### 训练模型"
   ]
  },
  {
   "cell_type": "code",
   "execution_count": 285,
   "metadata": {},
   "outputs": [],
   "source": [
    "num_epoch,lr = 5,0.1\n",
    "def train_ch3(net,train_iter,test_iter,loss,num_epoch,batch_size,params= None,lr=None,optimizer=None):\n",
    "    for epoch in range(num_epoch):\n",
    "        train_l_sum,train_acc_sum,n = 0.0,0.0,0\n",
    "        for X,y in train_iter:\n",
    "            y_hat = net(X)\n",
    "            l = loss(y_hat,y)\n",
    "            # 梯度清零\n",
    "            if optimizer is not None:\n",
    "                optimizer.zero_gard()\n",
    "            elif params is not None and params[0].grad is not None:\n",
    "                for param in params:\n",
    "                    print(\"过\")\n",
    "                    print(param)\n",
    "            #print(\"1\")\n",
    "                    param.grad.data.zero_()\n",
    "                    \n",
    "            l.backward()\n",
    "            \n",
    "            if optimizer is None:\n",
    "                d2l.sgd(params,lr,batch_size)\n",
    "                \n",
    "            else:\n",
    "                optimizer.step()\n",
    "                \n",
    "            train_l_sum +=l.sum()\n",
    "            \n",
    "            train_acc_sum += (y_hat.argmax(dim=1) == y).sum().item()\n",
    "            n += y.shape[0]\n",
    "        test_acc = evaluate_accuracy(test_iter,net)\n",
    "        print('epoch %d, loss %.4f, train acc %.3f, test acc %.3f'\n",
    "              % (epoch + 1, train_l_sum / n, train_acc_sum / n, test_acc))\n",
    "        "
   ]
  },
  {
   "cell_type": "code",
   "execution_count": 286,
   "metadata": {},
   "outputs": [
    {
     "name": "stderr",
     "output_type": "stream",
     "text": [
      "/Users/shizhonghui/anaconda3/envs/Tianchi/lib/python3.7/site-packages/ipykernel_launcher.py:2: UserWarning: Implicit dimension choice for softmax has been deprecated. Change the call to include dim=X as an argument.\n",
      "  \n"
     ]
    },
    {
     "ename": "RuntimeError",
     "evalue": "grad can be implicitly created only for scalar outputs",
     "output_type": "error",
     "traceback": [
      "\u001b[0;31m---------------------------------------------------------------------------\u001b[0m",
      "\u001b[0;31mRuntimeError\u001b[0m                              Traceback (most recent call last)",
      "\u001b[0;32m<ipython-input-286-c35d7bacb5ae>\u001b[0m in \u001b[0;36m<module>\u001b[0;34m\u001b[0m\n\u001b[0;32m----> 1\u001b[0;31m \u001b[0mtrain_ch3\u001b[0m\u001b[0;34m(\u001b[0m\u001b[0mnet\u001b[0m\u001b[0;34m,\u001b[0m\u001b[0mtrain_iter\u001b[0m\u001b[0;34m,\u001b[0m\u001b[0mtest_iter\u001b[0m\u001b[0;34m,\u001b[0m\u001b[0mcross_entropy\u001b[0m\u001b[0;34m,\u001b[0m\u001b[0mnum_epoch\u001b[0m\u001b[0;34m,\u001b[0m\u001b[0mbatch_size\u001b[0m\u001b[0;34m,\u001b[0m\u001b[0;34m[\u001b[0m\u001b[0mW\u001b[0m\u001b[0;34m,\u001b[0m\u001b[0mb\u001b[0m\u001b[0;34m]\u001b[0m\u001b[0;34m,\u001b[0m\u001b[0mlr\u001b[0m\u001b[0;34m)\u001b[0m\u001b[0;34m\u001b[0m\u001b[0;34m\u001b[0m\u001b[0m\n\u001b[0m",
      "\u001b[0;32m<ipython-input-285-0f051a821029>\u001b[0m in \u001b[0;36mtrain_ch3\u001b[0;34m(net, train_iter, test_iter, loss, num_epoch, batch_size, params, lr, optimizer)\u001b[0m\n\u001b[1;32m     16\u001b[0m                     \u001b[0mparam\u001b[0m\u001b[0;34m.\u001b[0m\u001b[0mgrad\u001b[0m\u001b[0;34m.\u001b[0m\u001b[0mdata\u001b[0m\u001b[0;34m.\u001b[0m\u001b[0mzero_\u001b[0m\u001b[0;34m(\u001b[0m\u001b[0;34m)\u001b[0m\u001b[0;34m\u001b[0m\u001b[0;34m\u001b[0m\u001b[0m\n\u001b[1;32m     17\u001b[0m \u001b[0;34m\u001b[0m\u001b[0m\n\u001b[0;32m---> 18\u001b[0;31m             \u001b[0ml\u001b[0m\u001b[0;34m.\u001b[0m\u001b[0mbackward\u001b[0m\u001b[0;34m(\u001b[0m\u001b[0;34m)\u001b[0m\u001b[0;34m\u001b[0m\u001b[0;34m\u001b[0m\u001b[0m\n\u001b[0m\u001b[1;32m     19\u001b[0m \u001b[0;34m\u001b[0m\u001b[0m\n\u001b[1;32m     20\u001b[0m             \u001b[0;32mif\u001b[0m \u001b[0moptimizer\u001b[0m \u001b[0;32mis\u001b[0m \u001b[0;32mNone\u001b[0m\u001b[0;34m:\u001b[0m\u001b[0;34m\u001b[0m\u001b[0;34m\u001b[0m\u001b[0m\n",
      "\u001b[0;32m~/anaconda3/envs/Tianchi/lib/python3.7/site-packages/torch/_tensor.py\u001b[0m in \u001b[0;36mbackward\u001b[0;34m(self, gradient, retain_graph, create_graph, inputs)\u001b[0m\n\u001b[1;32m    305\u001b[0m                 \u001b[0mcreate_graph\u001b[0m\u001b[0;34m=\u001b[0m\u001b[0mcreate_graph\u001b[0m\u001b[0;34m,\u001b[0m\u001b[0;34m\u001b[0m\u001b[0;34m\u001b[0m\u001b[0m\n\u001b[1;32m    306\u001b[0m                 inputs=inputs)\n\u001b[0;32m--> 307\u001b[0;31m         \u001b[0mtorch\u001b[0m\u001b[0;34m.\u001b[0m\u001b[0mautograd\u001b[0m\u001b[0;34m.\u001b[0m\u001b[0mbackward\u001b[0m\u001b[0;34m(\u001b[0m\u001b[0mself\u001b[0m\u001b[0;34m,\u001b[0m \u001b[0mgradient\u001b[0m\u001b[0;34m,\u001b[0m \u001b[0mretain_graph\u001b[0m\u001b[0;34m,\u001b[0m \u001b[0mcreate_graph\u001b[0m\u001b[0;34m,\u001b[0m \u001b[0minputs\u001b[0m\u001b[0;34m=\u001b[0m\u001b[0minputs\u001b[0m\u001b[0;34m)\u001b[0m\u001b[0;34m\u001b[0m\u001b[0;34m\u001b[0m\u001b[0m\n\u001b[0m\u001b[1;32m    308\u001b[0m \u001b[0;34m\u001b[0m\u001b[0m\n\u001b[1;32m    309\u001b[0m     \u001b[0;32mdef\u001b[0m \u001b[0mregister_hook\u001b[0m\u001b[0;34m(\u001b[0m\u001b[0mself\u001b[0m\u001b[0;34m,\u001b[0m \u001b[0mhook\u001b[0m\u001b[0;34m)\u001b[0m\u001b[0;34m:\u001b[0m\u001b[0;34m\u001b[0m\u001b[0;34m\u001b[0m\u001b[0m\n",
      "\u001b[0;32m~/anaconda3/envs/Tianchi/lib/python3.7/site-packages/torch/autograd/__init__.py\u001b[0m in \u001b[0;36mbackward\u001b[0;34m(tensors, grad_tensors, retain_graph, create_graph, grad_variables, inputs)\u001b[0m\n\u001b[1;32m    148\u001b[0m \u001b[0;34m\u001b[0m\u001b[0m\n\u001b[1;32m    149\u001b[0m     \u001b[0mgrad_tensors_\u001b[0m \u001b[0;34m=\u001b[0m \u001b[0m_tensor_or_tensors_to_tuple\u001b[0m\u001b[0;34m(\u001b[0m\u001b[0mgrad_tensors\u001b[0m\u001b[0;34m,\u001b[0m \u001b[0mlen\u001b[0m\u001b[0;34m(\u001b[0m\u001b[0mtensors\u001b[0m\u001b[0;34m)\u001b[0m\u001b[0;34m)\u001b[0m\u001b[0;34m\u001b[0m\u001b[0;34m\u001b[0m\u001b[0m\n\u001b[0;32m--> 150\u001b[0;31m     \u001b[0mgrad_tensors_\u001b[0m \u001b[0;34m=\u001b[0m \u001b[0m_make_grads\u001b[0m\u001b[0;34m(\u001b[0m\u001b[0mtensors\u001b[0m\u001b[0;34m,\u001b[0m \u001b[0mgrad_tensors_\u001b[0m\u001b[0;34m)\u001b[0m\u001b[0;34m\u001b[0m\u001b[0;34m\u001b[0m\u001b[0m\n\u001b[0m\u001b[1;32m    151\u001b[0m     \u001b[0;32mif\u001b[0m \u001b[0mretain_graph\u001b[0m \u001b[0;32mis\u001b[0m \u001b[0;32mNone\u001b[0m\u001b[0;34m:\u001b[0m\u001b[0;34m\u001b[0m\u001b[0;34m\u001b[0m\u001b[0m\n\u001b[1;32m    152\u001b[0m         \u001b[0mretain_graph\u001b[0m \u001b[0;34m=\u001b[0m \u001b[0mcreate_graph\u001b[0m\u001b[0;34m\u001b[0m\u001b[0;34m\u001b[0m\u001b[0m\n",
      "\u001b[0;32m~/anaconda3/envs/Tianchi/lib/python3.7/site-packages/torch/autograd/__init__.py\u001b[0m in \u001b[0;36m_make_grads\u001b[0;34m(outputs, grads)\u001b[0m\n\u001b[1;32m     49\u001b[0m             \u001b[0;32mif\u001b[0m \u001b[0mout\u001b[0m\u001b[0;34m.\u001b[0m\u001b[0mrequires_grad\u001b[0m\u001b[0;34m:\u001b[0m\u001b[0;34m\u001b[0m\u001b[0;34m\u001b[0m\u001b[0m\n\u001b[1;32m     50\u001b[0m                 \u001b[0;32mif\u001b[0m \u001b[0mout\u001b[0m\u001b[0;34m.\u001b[0m\u001b[0mnumel\u001b[0m\u001b[0;34m(\u001b[0m\u001b[0;34m)\u001b[0m \u001b[0;34m!=\u001b[0m \u001b[0;36m1\u001b[0m\u001b[0;34m:\u001b[0m\u001b[0;34m\u001b[0m\u001b[0;34m\u001b[0m\u001b[0m\n\u001b[0;32m---> 51\u001b[0;31m                     \u001b[0;32mraise\u001b[0m \u001b[0mRuntimeError\u001b[0m\u001b[0;34m(\u001b[0m\u001b[0;34m\"grad can be implicitly created only for scalar outputs\"\u001b[0m\u001b[0;34m)\u001b[0m\u001b[0;34m\u001b[0m\u001b[0;34m\u001b[0m\u001b[0m\n\u001b[0m\u001b[1;32m     52\u001b[0m                 \u001b[0mnew_grads\u001b[0m\u001b[0;34m.\u001b[0m\u001b[0mappend\u001b[0m\u001b[0;34m(\u001b[0m\u001b[0mtorch\u001b[0m\u001b[0;34m.\u001b[0m\u001b[0mones_like\u001b[0m\u001b[0;34m(\u001b[0m\u001b[0mout\u001b[0m\u001b[0;34m,\u001b[0m \u001b[0mmemory_format\u001b[0m\u001b[0;34m=\u001b[0m\u001b[0mtorch\u001b[0m\u001b[0;34m.\u001b[0m\u001b[0mpreserve_format\u001b[0m\u001b[0;34m)\u001b[0m\u001b[0;34m)\u001b[0m\u001b[0;34m\u001b[0m\u001b[0;34m\u001b[0m\u001b[0m\n\u001b[1;32m     53\u001b[0m             \u001b[0;32melse\u001b[0m\u001b[0;34m:\u001b[0m\u001b[0;34m\u001b[0m\u001b[0;34m\u001b[0m\u001b[0m\n",
      "\u001b[0;31mRuntimeError\u001b[0m: grad can be implicitly created only for scalar outputs"
     ]
    }
   ],
   "source": [
    "train_ch3(net,train_iter,test_iter,cross_entropy,num_epoch,batch_size,[W,b],lr)"
   ]
  },
  {
   "cell_type": "code",
   "execution_count": 287,
   "metadata": {},
   "outputs": [
    {
     "name": "stdout",
     "output_type": "stream",
     "text": [
      "tensor([[[[0., 0., 0.,  ..., 0., 0., 0.],\n",
      "          [0., 0., 0.,  ..., 0., 0., 0.],\n",
      "          [0., 0., 0.,  ..., 0., 0., 0.],\n",
      "          ...,\n",
      "          [0., 0., 0.,  ..., 0., 0., 0.],\n",
      "          [0., 0., 0.,  ..., 0., 0., 0.],\n",
      "          [0., 0., 0.,  ..., 0., 0., 0.]]],\n",
      "\n",
      "\n",
      "        [[[0., 0., 0.,  ..., 0., 0., 0.],\n",
      "          [0., 0., 0.,  ..., 0., 0., 0.],\n",
      "          [0., 0., 0.,  ..., 0., 0., 0.],\n",
      "          ...,\n",
      "          [0., 0., 0.,  ..., 0., 0., 0.],\n",
      "          [0., 0., 0.,  ..., 0., 0., 0.],\n",
      "          [0., 0., 0.,  ..., 0., 0., 0.]]],\n",
      "\n",
      "\n",
      "        [[[0., 0., 0.,  ..., 0., 0., 0.],\n",
      "          [0., 0., 0.,  ..., 0., 0., 0.],\n",
      "          [0., 0., 0.,  ..., 0., 0., 0.],\n",
      "          ...,\n",
      "          [0., 0., 0.,  ..., 0., 0., 0.],\n",
      "          [0., 0., 0.,  ..., 0., 0., 0.],\n",
      "          [0., 0., 0.,  ..., 0., 0., 0.]]],\n",
      "\n",
      "\n",
      "        ...,\n",
      "\n",
      "\n",
      "        [[[0., 0., 0.,  ..., 0., 0., 0.],\n",
      "          [0., 0., 0.,  ..., 0., 0., 0.],\n",
      "          [0., 0., 0.,  ..., 0., 0., 0.],\n",
      "          ...,\n",
      "          [0., 0., 0.,  ..., 0., 0., 0.],\n",
      "          [0., 0., 0.,  ..., 0., 0., 0.],\n",
      "          [0., 0., 0.,  ..., 0., 0., 0.]]],\n",
      "\n",
      "\n",
      "        [[[0., 0., 0.,  ..., 0., 0., 0.],\n",
      "          [0., 0., 0.,  ..., 0., 0., 0.],\n",
      "          [0., 0., 0.,  ..., 0., 0., 0.],\n",
      "          ...,\n",
      "          [0., 0., 0.,  ..., 0., 0., 0.],\n",
      "          [0., 0., 0.,  ..., 0., 0., 0.],\n",
      "          [0., 0., 0.,  ..., 0., 0., 0.]]],\n",
      "\n",
      "\n",
      "        [[[0., 0., 0.,  ..., 0., 0., 0.],\n",
      "          [0., 0., 0.,  ..., 0., 0., 0.],\n",
      "          [0., 0., 0.,  ..., 0., 0., 0.],\n",
      "          ...,\n",
      "          [0., 0., 0.,  ..., 0., 0., 0.],\n",
      "          [0., 0., 0.,  ..., 0., 0., 0.],\n",
      "          [0., 0., 0.,  ..., 0., 0., 0.]]]]) tensor([0, 9, 2, 7, 9, 5, 2, 7, 2, 7, 1, 3, 4, 2, 3, 0, 4, 1, 6, 5, 5, 1, 0, 0,\n",
      "        9, 3, 4, 2, 5, 2, 1, 0, 4, 7, 0, 6, 7, 4, 5, 0, 3, 0, 3, 4, 5, 8, 6, 7,\n",
      "        8, 3, 9, 4, 4, 1, 5, 5, 8, 9, 0, 0, 6, 7, 8, 1, 7, 7, 9, 1, 3, 9, 6, 7,\n",
      "        4, 5, 6, 2, 8, 0, 7, 1, 6, 1, 4, 2, 7, 5, 2, 7, 5, 1, 9, 3, 0, 6, 8, 1,\n",
      "        6, 8, 7, 1, 6, 2, 3, 4, 2, 4, 5, 3, 4, 0, 2, 0, 2, 1, 0, 0, 5, 6, 9, 0,\n",
      "        9, 9, 6, 3, 8, 1, 6, 0, 1, 8, 4, 5, 1, 8, 9, 3, 0, 8, 4, 2, 2, 0, 7, 8,\n",
      "        4, 0, 4, 7, 9, 7, 5, 6, 8, 1, 0, 2, 0, 0, 2, 3, 0, 3, 5, 9, 5, 5, 6, 3,\n",
      "        8, 0, 0, 2, 6, 4, 6, 9, 1, 1, 8, 7, 2, 0, 2, 5, 7, 5, 5, 3, 2, 5, 0, 6,\n",
      "        0, 8, 1, 4, 3, 2, 6, 1, 4, 2, 0, 0, 6, 5, 3, 3, 8, 2, 1, 8, 9, 0, 7, 5,\n",
      "        5, 6, 8, 5, 4, 1, 5, 1, 4, 8, 2, 0, 3, 5, 1, 2, 7, 8, 2, 3, 3, 4, 4, 5,\n",
      "        4, 0, 8, 1, 1, 4, 3, 7, 3, 6, 5, 5, 5, 0, 2, 6])\n"
     ]
    }
   ],
   "source": [
    "for X,y in train_iter:\n",
    "    print(X,y)\n",
    "    break"
   ]
  },
  {
   "cell_type": "markdown",
   "metadata": {},
   "source": [
    "### 预测"
   ]
  },
  {
   "cell_type": "code",
   "execution_count": 288,
   "metadata": {},
   "outputs": [],
   "source": [
    "X,y = iter(test_iter).next()"
   ]
  },
  {
   "cell_type": "code",
   "execution_count": 289,
   "metadata": {},
   "outputs": [],
   "source": [
    "true_labels = d2l.get_fashion_mnist_labels(y.numpy())"
   ]
  },
  {
   "cell_type": "code",
   "execution_count": 290,
   "metadata": {},
   "outputs": [
    {
     "name": "stderr",
     "output_type": "stream",
     "text": [
      "/Users/shizhonghui/anaconda3/envs/Tianchi/lib/python3.7/site-packages/ipykernel_launcher.py:2: UserWarning: Implicit dimension choice for softmax has been deprecated. Change the call to include dim=X as an argument.\n",
      "  \n"
     ]
    }
   ],
   "source": [
    "pred_labels = d2l.get_fashion_mnist_labels(net(X).argmax(dim=1).numpy())"
   ]
  },
  {
   "cell_type": "code",
   "execution_count": 291,
   "metadata": {},
   "outputs": [],
   "source": [
    "titles = [true + '/n' + pred for true,pred in zip(true_labels,pred_labels)]"
   ]
  },
  {
   "cell_type": "code",
   "execution_count": 292,
   "metadata": {},
   "outputs": [
    {
     "data": {
      "image/svg+xml": [
       "<?xml version=\"1.0\" encoding=\"utf-8\" standalone=\"no\"?>\n",
       "<!DOCTYPE svg PUBLIC \"-//W3C//DTD SVG 1.1//EN\"\n",
       "  \"http://www.w3.org/Graphics/SVG/1.1/DTD/svg11.dtd\">\n",
       "<svg xmlns:xlink=\"http://www.w3.org/1999/xlink\" width=\"731.383001pt\" height=\"96.187936pt\" viewBox=\"0 0 731.383001 96.187936\" xmlns=\"http://www.w3.org/2000/svg\" version=\"1.1\">\n",
       " <metadata>\n",
       "  <rdf:RDF xmlns:dc=\"http://purl.org/dc/elements/1.1/\" xmlns:cc=\"http://creativecommons.org/ns#\" xmlns:rdf=\"http://www.w3.org/1999/02/22-rdf-syntax-ns#\">\n",
       "   <cc:Work>\n",
       "    <dc:type rdf:resource=\"http://purl.org/dc/dcmitype/StillImage\"/>\n",
       "    <dc:date>2023-01-05T18:55:36.127903</dc:date>\n",
       "    <dc:format>image/svg+xml</dc:format>\n",
       "    <dc:creator>\n",
       "     <cc:Agent>\n",
       "      <dc:title>Matplotlib v3.5.1, https://matplotlib.org/</dc:title>\n",
       "     </cc:Agent>\n",
       "    </dc:creator>\n",
       "   </cc:Work>\n",
       "  </rdf:RDF>\n",
       " </metadata>\n",
       " <defs>\n",
       "  <style type=\"text/css\">*{stroke-linejoin: round; stroke-linecap: butt}</style>\n",
       " </defs>\n",
       " <g id=\"figure_1\">\n",
       "  <g id=\"patch_1\">\n",
       "   <path d=\"M 0 96.187936 \n",
       "L 731.383001 96.187936 \n",
       "L 731.383001 0 \n",
       "L 0 0 \n",
       "L 0 96.187936 \n",
       "z\n",
       "\" style=\"fill: none\"/>\n",
       "  </g>\n",
       "  <g id=\"axes_1\">\n",
       "   <g id=\"patch_2\">\n",
       "    <path d=\"M 36.874157 85.487936 \n",
       "L 100.043968 85.487936 \n",
       "L 100.043968 22.318125 \n",
       "L 36.874157 22.318125 \n",
       "z\n",
       "\" style=\"fill: #ffffff\"/>\n",
       "   </g>\n",
       "   <g clip-path=\"url(#p0c771f93d2)\">\n",
       "    <image xlink:href=\"data:image/png;base64,\n",
       "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\" id=\"image2ec82e2fd4\" transform=\"scale(1 -1)translate(0 -64)\" x=\"36.874157\" y=\"-21.487936\" width=\"64\" height=\"64\"/>\n",
       "   </g>\n",
       "   <g id=\"patch_3\">\n",
       "    <path d=\"M 36.874157 85.487936 \n",
       "L 36.874157 22.318125 \n",
       "\" style=\"fill: none; stroke: #000000; stroke-width: 0.8; stroke-linejoin: miter; stroke-linecap: square\"/>\n",
       "   </g>\n",
       "   <g id=\"patch_4\">\n",
       "    <path d=\"M 100.043968 85.487936 \n",
       "L 100.043968 22.318125 \n",
       "\" style=\"fill: none; stroke: #000000; stroke-width: 0.8; stroke-linejoin: miter; stroke-linecap: square\"/>\n",
       "   </g>\n",
       "   <g id=\"patch_5\">\n",
       "    <path d=\"M 36.874157 85.487936 \n",
       "L 100.043968 85.487936 \n",
       "\" style=\"fill: none; stroke: #000000; stroke-width: 0.8; stroke-linejoin: miter; stroke-linecap: square\"/>\n",
       "   </g>\n",
       "   <g id=\"patch_6\">\n",
       "    <path d=\"M 36.874157 22.318125 \n",
       "L 100.043968 22.318125 \n",
       "\" style=\"fill: none; stroke: #000000; stroke-width: 0.8; stroke-linejoin: miter; stroke-linecap: square\"/>\n",
       "   </g>\n",
       "   <g id=\"text_1\">\n",
       "    <!-- ankle boot/nsneaker -->\n",
       "    <g transform=\"translate(7.2 16.318125)scale(0.12 -0.12)\">\n",
       "     <defs>\n",
       "      <path id=\"DejaVuSans-61\" d=\"M 2194 1759 \n",
       "Q 1497 1759 1228 1600 \n",
       "Q 959 1441 959 1056 \n",
       "Q 959 750 1161 570 \n",
       "Q 1363 391 1709 391 \n",
       "Q 2188 391 2477 730 \n",
       "Q 2766 1069 2766 1631 \n",
       "L 2766 1759 \n",
       "L 2194 1759 \n",
       "z\n",
       "M 3341 1997 \n",
       "L 3341 0 \n",
       "L 2766 0 \n",
       "L 2766 531 \n",
       "Q 2569 213 2275 61 \n",
       "Q 1981 -91 1556 -91 \n",
       "Q 1019 -91 701 211 \n",
       "Q 384 513 384 1019 \n",
       "Q 384 1609 779 1909 \n",
       "Q 1175 2209 1959 2209 \n",
       "L 2766 2209 \n",
       "L 2766 2266 \n",
       "Q 2766 2663 2505 2880 \n",
       "Q 2244 3097 1772 3097 \n",
       "Q 1472 3097 1187 3025 \n",
       "Q 903 2953 641 2809 \n",
       "L 641 3341 \n",
       "Q 956 3463 1253 3523 \n",
       "Q 1550 3584 1831 3584 \n",
       "Q 2591 3584 2966 3190 \n",
       "Q 3341 2797 3341 1997 \n",
       "z\n",
       "\" transform=\"scale(0.015625)\"/>\n",
       "      <path id=\"DejaVuSans-6e\" d=\"M 3513 2113 \n",
       "L 3513 0 \n",
       "L 2938 0 \n",
       "L 2938 2094 \n",
       "Q 2938 2591 2744 2837 \n",
       "Q 2550 3084 2163 3084 \n",
       "Q 1697 3084 1428 2787 \n",
       "Q 1159 2491 1159 1978 \n",
       "L 1159 0 \n",
       "L 581 0 \n",
       "L 581 3500 \n",
       "L 1159 3500 \n",
       "L 1159 2956 \n",
       "Q 1366 3272 1645 3428 \n",
       "Q 1925 3584 2291 3584 \n",
       "Q 2894 3584 3203 3211 \n",
       "Q 3513 2838 3513 2113 \n",
       "z\n",
       "\" transform=\"scale(0.015625)\"/>\n",
       "      <path id=\"DejaVuSans-6b\" d=\"M 581 4863 \n",
       "L 1159 4863 \n",
       "L 1159 1991 \n",
       "L 2875 3500 \n",
       "L 3609 3500 \n",
       "L 1753 1863 \n",
       "L 3688 0 \n",
       "L 2938 0 \n",
       "L 1159 1709 \n",
       "L 1159 0 \n",
       "L 581 0 \n",
       "L 581 4863 \n",
       "z\n",
       "\" transform=\"scale(0.015625)\"/>\n",
       "      <path id=\"DejaVuSans-6c\" d=\"M 603 4863 \n",
       "L 1178 4863 \n",
       "L 1178 0 \n",
       "L 603 0 \n",
       "L 603 4863 \n",
       "z\n",
       "\" transform=\"scale(0.015625)\"/>\n",
       "      <path id=\"DejaVuSans-65\" d=\"M 3597 1894 \n",
       "L 3597 1613 \n",
       "L 953 1613 \n",
       "Q 991 1019 1311 708 \n",
       "Q 1631 397 2203 397 \n",
       "Q 2534 397 2845 478 \n",
       "Q 3156 559 3463 722 \n",
       "L 3463 178 \n",
       "Q 3153 47 2828 -22 \n",
       "Q 2503 -91 2169 -91 \n",
       "Q 1331 -91 842 396 \n",
       "Q 353 884 353 1716 \n",
       "Q 353 2575 817 3079 \n",
       "Q 1281 3584 2069 3584 \n",
       "Q 2775 3584 3186 3129 \n",
       "Q 3597 2675 3597 1894 \n",
       "z\n",
       "M 3022 2063 \n",
       "Q 3016 2534 2758 2815 \n",
       "Q 2500 3097 2075 3097 \n",
       "Q 1594 3097 1305 2825 \n",
       "Q 1016 2553 972 2059 \n",
       "L 3022 2063 \n",
       "z\n",
       "\" transform=\"scale(0.015625)\"/>\n",
       "      <path id=\"DejaVuSans-20\" transform=\"scale(0.015625)\"/>\n",
       "      <path id=\"DejaVuSans-62\" d=\"M 3116 1747 \n",
       "Q 3116 2381 2855 2742 \n",
       "Q 2594 3103 2138 3103 \n",
       "Q 1681 3103 1420 2742 \n",
       "Q 1159 2381 1159 1747 \n",
       "Q 1159 1113 1420 752 \n",
       "Q 1681 391 2138 391 \n",
       "Q 2594 391 2855 752 \n",
       "Q 3116 1113 3116 1747 \n",
       "z\n",
       "M 1159 2969 \n",
       "Q 1341 3281 1617 3432 \n",
       "Q 1894 3584 2278 3584 \n",
       "Q 2916 3584 3314 3078 \n",
       "Q 3713 2572 3713 1747 \n",
       "Q 3713 922 3314 415 \n",
       "Q 2916 -91 2278 -91 \n",
       "Q 1894 -91 1617 61 \n",
       "Q 1341 213 1159 525 \n",
       "L 1159 0 \n",
       "L 581 0 \n",
       "L 581 4863 \n",
       "L 1159 4863 \n",
       "L 1159 2969 \n",
       "z\n",
       "\" transform=\"scale(0.015625)\"/>\n",
       "      <path id=\"DejaVuSans-6f\" d=\"M 1959 3097 \n",
       "Q 1497 3097 1228 2736 \n",
       "Q 959 2375 959 1747 \n",
       "Q 959 1119 1226 758 \n",
       "Q 1494 397 1959 397 \n",
       "Q 2419 397 2687 759 \n",
       "Q 2956 1122 2956 1747 \n",
       "Q 2956 2369 2687 2733 \n",
       "Q 2419 3097 1959 3097 \n",
       "z\n",
       "M 1959 3584 \n",
       "Q 2709 3584 3137 3096 \n",
       "Q 3566 2609 3566 1747 \n",
       "Q 3566 888 3137 398 \n",
       "Q 2709 -91 1959 -91 \n",
       "Q 1206 -91 779 398 \n",
       "Q 353 888 353 1747 \n",
       "Q 353 2609 779 3096 \n",
       "Q 1206 3584 1959 3584 \n",
       "z\n",
       "\" transform=\"scale(0.015625)\"/>\n",
       "      <path id=\"DejaVuSans-74\" d=\"M 1172 4494 \n",
       "L 1172 3500 \n",
       "L 2356 3500 \n",
       "L 2356 3053 \n",
       "L 1172 3053 \n",
       "L 1172 1153 \n",
       "Q 1172 725 1289 603 \n",
       "Q 1406 481 1766 481 \n",
       "L 2356 481 \n",
       "L 2356 0 \n",
       "L 1766 0 \n",
       "Q 1100 0 847 248 \n",
       "Q 594 497 594 1153 \n",
       "L 594 3053 \n",
       "L 172 3053 \n",
       "L 172 3500 \n",
       "L 594 3500 \n",
       "L 594 4494 \n",
       "L 1172 4494 \n",
       "z\n",
       "\" transform=\"scale(0.015625)\"/>\n",
       "      <path id=\"DejaVuSans-2f\" d=\"M 1625 4666 \n",
       "L 2156 4666 \n",
       "L 531 -594 \n",
       "L 0 -594 \n",
       "L 1625 4666 \n",
       "z\n",
       "\" transform=\"scale(0.015625)\"/>\n",
       "      <path id=\"DejaVuSans-73\" d=\"M 2834 3397 \n",
       "L 2834 2853 \n",
       "Q 2591 2978 2328 3040 \n",
       "Q 2066 3103 1784 3103 \n",
       "Q 1356 3103 1142 2972 \n",
       "Q 928 2841 928 2578 \n",
       "Q 928 2378 1081 2264 \n",
       "Q 1234 2150 1697 2047 \n",
       "L 1894 2003 \n",
       "Q 2506 1872 2764 1633 \n",
       "Q 3022 1394 3022 966 \n",
       "Q 3022 478 2636 193 \n",
       "Q 2250 -91 1575 -91 \n",
       "Q 1294 -91 989 -36 \n",
       "Q 684 19 347 128 \n",
       "L 347 722 \n",
       "Q 666 556 975 473 \n",
       "Q 1284 391 1588 391 \n",
       "Q 1994 391 2212 530 \n",
       "Q 2431 669 2431 922 \n",
       "Q 2431 1156 2273 1281 \n",
       "Q 2116 1406 1581 1522 \n",
       "L 1381 1569 \n",
       "Q 847 1681 609 1914 \n",
       "Q 372 2147 372 2553 \n",
       "Q 372 3047 722 3315 \n",
       "Q 1072 3584 1716 3584 \n",
       "Q 2034 3584 2315 3537 \n",
       "Q 2597 3491 2834 3397 \n",
       "z\n",
       "\" transform=\"scale(0.015625)\"/>\n",
       "      <path id=\"DejaVuSans-72\" d=\"M 2631 2963 \n",
       "Q 2534 3019 2420 3045 \n",
       "Q 2306 3072 2169 3072 \n",
       "Q 1681 3072 1420 2755 \n",
       "Q 1159 2438 1159 1844 \n",
       "L 1159 0 \n",
       "L 581 0 \n",
       "L 581 3500 \n",
       "L 1159 3500 \n",
       "L 1159 2956 \n",
       "Q 1341 3275 1631 3429 \n",
       "Q 1922 3584 2338 3584 \n",
       "Q 2397 3584 2469 3576 \n",
       "Q 2541 3569 2628 3553 \n",
       "L 2631 2963 \n",
       "z\n",
       "\" transform=\"scale(0.015625)\"/>\n",
       "     </defs>\n",
       "     <use xlink:href=\"#DejaVuSans-61\"/>\n",
       "     <use xlink:href=\"#DejaVuSans-6e\" x=\"61.279297\"/>\n",
       "     <use xlink:href=\"#DejaVuSans-6b\" x=\"124.658203\"/>\n",
       "     <use xlink:href=\"#DejaVuSans-6c\" x=\"182.568359\"/>\n",
       "     <use xlink:href=\"#DejaVuSans-65\" x=\"210.351562\"/>\n",
       "     <use xlink:href=\"#DejaVuSans-20\" x=\"271.875\"/>\n",
       "     <use xlink:href=\"#DejaVuSans-62\" x=\"303.662109\"/>\n",
       "     <use xlink:href=\"#DejaVuSans-6f\" x=\"367.138672\"/>\n",
       "     <use xlink:href=\"#DejaVuSans-6f\" x=\"428.320312\"/>\n",
       "     <use xlink:href=\"#DejaVuSans-74\" x=\"489.501953\"/>\n",
       "     <use xlink:href=\"#DejaVuSans-2f\" x=\"528.710938\"/>\n",
       "     <use xlink:href=\"#DejaVuSans-6e\" x=\"562.402344\"/>\n",
       "     <use xlink:href=\"#DejaVuSans-73\" x=\"625.78125\"/>\n",
       "     <use xlink:href=\"#DejaVuSans-6e\" x=\"677.880859\"/>\n",
       "     <use xlink:href=\"#DejaVuSans-65\" x=\"741.259766\"/>\n",
       "     <use xlink:href=\"#DejaVuSans-61\" x=\"802.783203\"/>\n",
       "     <use xlink:href=\"#DejaVuSans-6b\" x=\"864.0625\"/>\n",
       "     <use xlink:href=\"#DejaVuSans-65\" x=\"918.347656\"/>\n",
       "     <use xlink:href=\"#DejaVuSans-72\" x=\"979.871094\"/>\n",
       "    </g>\n",
       "   </g>\n",
       "  </g>\n",
       "  <g id=\"axes_2\">\n",
       "   <g id=\"patch_7\">\n",
       "    <path d=\"M 112.67793 85.487936 \n",
       "L 175.847742 85.487936 \n",
       "L 175.847742 22.318125 \n",
       "L 112.67793 22.318125 \n",
       "z\n",
       "\" style=\"fill: #ffffff\"/>\n",
       "   </g>\n",
       "   <g clip-path=\"url(#pdfa26a5699)\">\n",
       "    <image xlink:href=\"data:image/png;base64,\n",
       "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\" id=\"imagef33e37cd01\" transform=\"scale(1 -1)translate(0 -64)\" x=\"112.67793\" y=\"-21.487936\" width=\"64\" height=\"64\"/>\n",
       "   </g>\n",
       "   <g id=\"patch_8\">\n",
       "    <path d=\"M 112.67793 85.487936 \n",
       "L 112.67793 22.318125 \n",
       "\" style=\"fill: none; stroke: #000000; stroke-width: 0.8; stroke-linejoin: miter; stroke-linecap: square\"/>\n",
       "   </g>\n",
       "   <g id=\"patch_9\">\n",
       "    <path d=\"M 175.847742 85.487936 \n",
       "L 175.847742 22.318125 \n",
       "\" style=\"fill: none; stroke: #000000; stroke-width: 0.8; stroke-linejoin: miter; stroke-linecap: square\"/>\n",
       "   </g>\n",
       "   <g id=\"patch_10\">\n",
       "    <path d=\"M 112.67793 85.487936 \n",
       "L 175.847742 85.487936 \n",
       "\" style=\"fill: none; stroke: #000000; stroke-width: 0.8; stroke-linejoin: miter; stroke-linecap: square\"/>\n",
       "   </g>\n",
       "   <g id=\"patch_11\">\n",
       "    <path d=\"M 112.67793 22.318125 \n",
       "L 175.847742 22.318125 \n",
       "\" style=\"fill: none; stroke: #000000; stroke-width: 0.8; stroke-linejoin: miter; stroke-linecap: square\"/>\n",
       "   </g>\n",
       "   <g id=\"text_2\">\n",
       "    <!-- pullover/ntrouser -->\n",
       "    <g transform=\"translate(92.671274 16.318125)scale(0.12 -0.12)\">\n",
       "     <defs>\n",
       "      <path id=\"DejaVuSans-70\" d=\"M 1159 525 \n",
       "L 1159 -1331 \n",
       "L 581 -1331 \n",
       "L 581 3500 \n",
       "L 1159 3500 \n",
       "L 1159 2969 \n",
       "Q 1341 3281 1617 3432 \n",
       "Q 1894 3584 2278 3584 \n",
       "Q 2916 3584 3314 3078 \n",
       "Q 3713 2572 3713 1747 \n",
       "Q 3713 922 3314 415 \n",
       "Q 2916 -91 2278 -91 \n",
       "Q 1894 -91 1617 61 \n",
       "Q 1341 213 1159 525 \n",
       "z\n",
       "M 3116 1747 \n",
       "Q 3116 2381 2855 2742 \n",
       "Q 2594 3103 2138 3103 \n",
       "Q 1681 3103 1420 2742 \n",
       "Q 1159 2381 1159 1747 \n",
       "Q 1159 1113 1420 752 \n",
       "Q 1681 391 2138 391 \n",
       "Q 2594 391 2855 752 \n",
       "Q 3116 1113 3116 1747 \n",
       "z\n",
       "\" transform=\"scale(0.015625)\"/>\n",
       "      <path id=\"DejaVuSans-75\" d=\"M 544 1381 \n",
       "L 544 3500 \n",
       "L 1119 3500 \n",
       "L 1119 1403 \n",
       "Q 1119 906 1312 657 \n",
       "Q 1506 409 1894 409 \n",
       "Q 2359 409 2629 706 \n",
       "Q 2900 1003 2900 1516 \n",
       "L 2900 3500 \n",
       "L 3475 3500 \n",
       "L 3475 0 \n",
       "L 2900 0 \n",
       "L 2900 538 \n",
       "Q 2691 219 2414 64 \n",
       "Q 2138 -91 1772 -91 \n",
       "Q 1169 -91 856 284 \n",
       "Q 544 659 544 1381 \n",
       "z\n",
       "M 1991 3584 \n",
       "L 1991 3584 \n",
       "z\n",
       "\" transform=\"scale(0.015625)\"/>\n",
       "      <path id=\"DejaVuSans-76\" d=\"M 191 3500 \n",
       "L 800 3500 \n",
       "L 1894 563 \n",
       "L 2988 3500 \n",
       "L 3597 3500 \n",
       "L 2284 0 \n",
       "L 1503 0 \n",
       "L 191 3500 \n",
       "z\n",
       "\" transform=\"scale(0.015625)\"/>\n",
       "     </defs>\n",
       "     <use xlink:href=\"#DejaVuSans-70\"/>\n",
       "     <use xlink:href=\"#DejaVuSans-75\" x=\"63.476562\"/>\n",
       "     <use xlink:href=\"#DejaVuSans-6c\" x=\"126.855469\"/>\n",
       "     <use xlink:href=\"#DejaVuSans-6c\" x=\"154.638672\"/>\n",
       "     <use xlink:href=\"#DejaVuSans-6f\" x=\"182.421875\"/>\n",
       "     <use xlink:href=\"#DejaVuSans-76\" x=\"243.603516\"/>\n",
       "     <use xlink:href=\"#DejaVuSans-65\" x=\"302.783203\"/>\n",
       "     <use xlink:href=\"#DejaVuSans-72\" x=\"364.306641\"/>\n",
       "     <use xlink:href=\"#DejaVuSans-2f\" x=\"405.419922\"/>\n",
       "     <use xlink:href=\"#DejaVuSans-6e\" x=\"439.111328\"/>\n",
       "     <use xlink:href=\"#DejaVuSans-74\" x=\"502.490234\"/>\n",
       "     <use xlink:href=\"#DejaVuSans-72\" x=\"541.699219\"/>\n",
       "     <use xlink:href=\"#DejaVuSans-6f\" x=\"580.5625\"/>\n",
       "     <use xlink:href=\"#DejaVuSans-75\" x=\"641.744141\"/>\n",
       "     <use xlink:href=\"#DejaVuSans-73\" x=\"705.123047\"/>\n",
       "     <use xlink:href=\"#DejaVuSans-65\" x=\"757.222656\"/>\n",
       "     <use xlink:href=\"#DejaVuSans-72\" x=\"818.746094\"/>\n",
       "    </g>\n",
       "   </g>\n",
       "  </g>\n",
       "  <g id=\"axes_3\">\n",
       "   <g id=\"patch_12\">\n",
       "    <path d=\"M 188.481704 85.487936 \n",
       "L 251.651515 85.487936 \n",
       "L 251.651515 22.318125 \n",
       "L 188.481704 22.318125 \n",
       "z\n",
       "\" style=\"fill: #ffffff\"/>\n",
       "   </g>\n",
       "   <g clip-path=\"url(#p0eddc0d34b)\">\n",
       "    <image xlink:href=\"data:image/png;base64,\n",
       "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\" id=\"imagebd89df7cb1\" transform=\"scale(1 -1)translate(0 -64)\" x=\"188.481704\" y=\"-21.487936\" width=\"64\" height=\"64\"/>\n",
       "   </g>\n",
       "   <g id=\"patch_13\">\n",
       "    <path d=\"M 188.481704 85.487936 \n",
       "L 188.481704 22.318125 \n",
       "\" style=\"fill: none; stroke: #000000; stroke-width: 0.8; stroke-linejoin: miter; stroke-linecap: square\"/>\n",
       "   </g>\n",
       "   <g id=\"patch_14\">\n",
       "    <path d=\"M 251.651515 85.487936 \n",
       "L 251.651515 22.318125 \n",
       "\" style=\"fill: none; stroke: #000000; stroke-width: 0.8; stroke-linejoin: miter; stroke-linecap: square\"/>\n",
       "   </g>\n",
       "   <g id=\"patch_15\">\n",
       "    <path d=\"M 188.481704 85.487936 \n",
       "L 251.651515 85.487936 \n",
       "\" style=\"fill: none; stroke: #000000; stroke-width: 0.8; stroke-linejoin: miter; stroke-linecap: square\"/>\n",
       "   </g>\n",
       "   <g id=\"patch_16\">\n",
       "    <path d=\"M 188.481704 22.318125 \n",
       "L 251.651515 22.318125 \n",
       "\" style=\"fill: none; stroke: #000000; stroke-width: 0.8; stroke-linejoin: miter; stroke-linecap: square\"/>\n",
       "   </g>\n",
       "   <g id=\"text_3\">\n",
       "    <!-- trouser/ndress -->\n",
       "    <g transform=\"translate(176.717547 16.318125)scale(0.12 -0.12)\">\n",
       "     <defs>\n",
       "      <path id=\"DejaVuSans-64\" d=\"M 2906 2969 \n",
       "L 2906 4863 \n",
       "L 3481 4863 \n",
       "L 3481 0 \n",
       "L 2906 0 \n",
       "L 2906 525 \n",
       "Q 2725 213 2448 61 \n",
       "Q 2172 -91 1784 -91 \n",
       "Q 1150 -91 751 415 \n",
       "Q 353 922 353 1747 \n",
       "Q 353 2572 751 3078 \n",
       "Q 1150 3584 1784 3584 \n",
       "Q 2172 3584 2448 3432 \n",
       "Q 2725 3281 2906 2969 \n",
       "z\n",
       "M 947 1747 \n",
       "Q 947 1113 1208 752 \n",
       "Q 1469 391 1925 391 \n",
       "Q 2381 391 2643 752 \n",
       "Q 2906 1113 2906 1747 \n",
       "Q 2906 2381 2643 2742 \n",
       "Q 2381 3103 1925 3103 \n",
       "Q 1469 3103 1208 2742 \n",
       "Q 947 2381 947 1747 \n",
       "z\n",
       "\" transform=\"scale(0.015625)\"/>\n",
       "     </defs>\n",
       "     <use xlink:href=\"#DejaVuSans-74\"/>\n",
       "     <use xlink:href=\"#DejaVuSans-72\" x=\"39.208984\"/>\n",
       "     <use xlink:href=\"#DejaVuSans-6f\" x=\"78.072266\"/>\n",
       "     <use xlink:href=\"#DejaVuSans-75\" x=\"139.253906\"/>\n",
       "     <use xlink:href=\"#DejaVuSans-73\" x=\"202.632812\"/>\n",
       "     <use xlink:href=\"#DejaVuSans-65\" x=\"254.732422\"/>\n",
       "     <use xlink:href=\"#DejaVuSans-72\" x=\"316.255859\"/>\n",
       "     <use xlink:href=\"#DejaVuSans-2f\" x=\"357.369141\"/>\n",
       "     <use xlink:href=\"#DejaVuSans-6e\" x=\"391.060547\"/>\n",
       "     <use xlink:href=\"#DejaVuSans-64\" x=\"454.439453\"/>\n",
       "     <use xlink:href=\"#DejaVuSans-72\" x=\"517.916016\"/>\n",
       "     <use xlink:href=\"#DejaVuSans-65\" x=\"556.779297\"/>\n",
       "     <use xlink:href=\"#DejaVuSans-73\" x=\"618.302734\"/>\n",
       "     <use xlink:href=\"#DejaVuSans-73\" x=\"670.402344\"/>\n",
       "    </g>\n",
       "   </g>\n",
       "  </g>\n",
       "  <g id=\"axes_4\">\n",
       "   <g id=\"patch_17\">\n",
       "    <path d=\"M 264.285478 85.487936 \n",
       "L 327.455289 85.487936 \n",
       "L 327.455289 22.318125 \n",
       "L 264.285478 22.318125 \n",
       "z\n",
       "\" style=\"fill: #ffffff\"/>\n",
       "   </g>\n",
       "   <g clip-path=\"url(#pb3dccf52b8)\">\n",
       "    <image xlink:href=\"data:image/png;base64,\n",
       "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\" id=\"imagec640957902\" transform=\"scale(1 -1)translate(0 -64)\" x=\"264.285478\" y=\"-21.487936\" width=\"64\" height=\"64\"/>\n",
       "   </g>\n",
       "   <g id=\"patch_18\">\n",
       "    <path d=\"M 264.285478 85.487936 \n",
       "L 264.285478 22.318125 \n",
       "\" style=\"fill: none; stroke: #000000; stroke-width: 0.8; stroke-linejoin: miter; stroke-linecap: square\"/>\n",
       "   </g>\n",
       "   <g id=\"patch_19\">\n",
       "    <path d=\"M 327.455289 85.487936 \n",
       "L 327.455289 22.318125 \n",
       "\" style=\"fill: none; stroke: #000000; stroke-width: 0.8; stroke-linejoin: miter; stroke-linecap: square\"/>\n",
       "   </g>\n",
       "   <g id=\"patch_20\">\n",
       "    <path d=\"M 264.285478 85.487936 \n",
       "L 327.455289 85.487936 \n",
       "\" style=\"fill: none; stroke: #000000; stroke-width: 0.8; stroke-linejoin: miter; stroke-linecap: square\"/>\n",
       "   </g>\n",
       "   <g id=\"patch_21\">\n",
       "    <path d=\"M 264.285478 22.318125 \n",
       "L 327.455289 22.318125 \n",
       "\" style=\"fill: none; stroke: #000000; stroke-width: 0.8; stroke-linejoin: miter; stroke-linecap: square\"/>\n",
       "   </g>\n",
       "   <g id=\"text_4\">\n",
       "    <!-- trouser/ndress -->\n",
       "    <g transform=\"translate(252.521321 16.318125)scale(0.12 -0.12)\">\n",
       "     <use xlink:href=\"#DejaVuSans-74\"/>\n",
       "     <use xlink:href=\"#DejaVuSans-72\" x=\"39.208984\"/>\n",
       "     <use xlink:href=\"#DejaVuSans-6f\" x=\"78.072266\"/>\n",
       "     <use xlink:href=\"#DejaVuSans-75\" x=\"139.253906\"/>\n",
       "     <use xlink:href=\"#DejaVuSans-73\" x=\"202.632812\"/>\n",
       "     <use xlink:href=\"#DejaVuSans-65\" x=\"254.732422\"/>\n",
       "     <use xlink:href=\"#DejaVuSans-72\" x=\"316.255859\"/>\n",
       "     <use xlink:href=\"#DejaVuSans-2f\" x=\"357.369141\"/>\n",
       "     <use xlink:href=\"#DejaVuSans-6e\" x=\"391.060547\"/>\n",
       "     <use xlink:href=\"#DejaVuSans-64\" x=\"454.439453\"/>\n",
       "     <use xlink:href=\"#DejaVuSans-72\" x=\"517.916016\"/>\n",
       "     <use xlink:href=\"#DejaVuSans-65\" x=\"556.779297\"/>\n",
       "     <use xlink:href=\"#DejaVuSans-73\" x=\"618.302734\"/>\n",
       "     <use xlink:href=\"#DejaVuSans-73\" x=\"670.402344\"/>\n",
       "    </g>\n",
       "   </g>\n",
       "  </g>\n",
       "  <g id=\"axes_5\">\n",
       "   <g id=\"patch_22\">\n",
       "    <path d=\"M 340.089251 85.487936 \n",
       "L 403.259062 85.487936 \n",
       "L 403.259062 22.318125 \n",
       "L 340.089251 22.318125 \n",
       "z\n",
       "\" style=\"fill: #ffffff\"/>\n",
       "   </g>\n",
       "   <g clip-path=\"url(#p62592d66ac)\">\n",
       "    <image xlink:href=\"data:image/png;base64,\n",
       "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\" id=\"imagea71ac9d164\" transform=\"scale(1 -1)translate(0 -64)\" x=\"340.089251\" y=\"-21.487936\" width=\"64\" height=\"64\"/>\n",
       "   </g>\n",
       "   <g id=\"patch_23\">\n",
       "    <path d=\"M 340.089251 85.487936 \n",
       "L 340.089251 22.318125 \n",
       "\" style=\"fill: none; stroke: #000000; stroke-width: 0.8; stroke-linejoin: miter; stroke-linecap: square\"/>\n",
       "   </g>\n",
       "   <g id=\"patch_24\">\n",
       "    <path d=\"M 403.259062 85.487936 \n",
       "L 403.259062 22.318125 \n",
       "\" style=\"fill: none; stroke: #000000; stroke-width: 0.8; stroke-linejoin: miter; stroke-linecap: square\"/>\n",
       "   </g>\n",
       "   <g id=\"patch_25\">\n",
       "    <path d=\"M 340.089251 85.487936 \n",
       "L 403.259062 85.487936 \n",
       "\" style=\"fill: none; stroke: #000000; stroke-width: 0.8; stroke-linejoin: miter; stroke-linecap: square\"/>\n",
       "   </g>\n",
       "   <g id=\"patch_26\">\n",
       "    <path d=\"M 340.089251 22.318125 \n",
       "L 403.259062 22.318125 \n",
       "\" style=\"fill: none; stroke: #000000; stroke-width: 0.8; stroke-linejoin: miter; stroke-linecap: square\"/>\n",
       "   </g>\n",
       "   <g id=\"text_5\">\n",
       "    <!-- shirt/ncoat -->\n",
       "    <g transform=\"translate(339.437282 16.318125)scale(0.12 -0.12)\">\n",
       "     <defs>\n",
       "      <path id=\"DejaVuSans-68\" d=\"M 3513 2113 \n",
       "L 3513 0 \n",
       "L 2938 0 \n",
       "L 2938 2094 \n",
       "Q 2938 2591 2744 2837 \n",
       "Q 2550 3084 2163 3084 \n",
       "Q 1697 3084 1428 2787 \n",
       "Q 1159 2491 1159 1978 \n",
       "L 1159 0 \n",
       "L 581 0 \n",
       "L 581 4863 \n",
       "L 1159 4863 \n",
       "L 1159 2956 \n",
       "Q 1366 3272 1645 3428 \n",
       "Q 1925 3584 2291 3584 \n",
       "Q 2894 3584 3203 3211 \n",
       "Q 3513 2838 3513 2113 \n",
       "z\n",
       "\" transform=\"scale(0.015625)\"/>\n",
       "      <path id=\"DejaVuSans-69\" d=\"M 603 3500 \n",
       "L 1178 3500 \n",
       "L 1178 0 \n",
       "L 603 0 \n",
       "L 603 3500 \n",
       "z\n",
       "M 603 4863 \n",
       "L 1178 4863 \n",
       "L 1178 4134 \n",
       "L 603 4134 \n",
       "L 603 4863 \n",
       "z\n",
       "\" transform=\"scale(0.015625)\"/>\n",
       "      <path id=\"DejaVuSans-63\" d=\"M 3122 3366 \n",
       "L 3122 2828 \n",
       "Q 2878 2963 2633 3030 \n",
       "Q 2388 3097 2138 3097 \n",
       "Q 1578 3097 1268 2742 \n",
       "Q 959 2388 959 1747 \n",
       "Q 959 1106 1268 751 \n",
       "Q 1578 397 2138 397 \n",
       "Q 2388 397 2633 464 \n",
       "Q 2878 531 3122 666 \n",
       "L 3122 134 \n",
       "Q 2881 22 2623 -34 \n",
       "Q 2366 -91 2075 -91 \n",
       "Q 1284 -91 818 406 \n",
       "Q 353 903 353 1747 \n",
       "Q 353 2603 823 3093 \n",
       "Q 1294 3584 2113 3584 \n",
       "Q 2378 3584 2631 3529 \n",
       "Q 2884 3475 3122 3366 \n",
       "z\n",
       "\" transform=\"scale(0.015625)\"/>\n",
       "     </defs>\n",
       "     <use xlink:href=\"#DejaVuSans-73\"/>\n",
       "     <use xlink:href=\"#DejaVuSans-68\" x=\"52.099609\"/>\n",
       "     <use xlink:href=\"#DejaVuSans-69\" x=\"115.478516\"/>\n",
       "     <use xlink:href=\"#DejaVuSans-72\" x=\"143.261719\"/>\n",
       "     <use xlink:href=\"#DejaVuSans-74\" x=\"184.375\"/>\n",
       "     <use xlink:href=\"#DejaVuSans-2f\" x=\"223.583984\"/>\n",
       "     <use xlink:href=\"#DejaVuSans-6e\" x=\"257.275391\"/>\n",
       "     <use xlink:href=\"#DejaVuSans-63\" x=\"320.654297\"/>\n",
       "     <use xlink:href=\"#DejaVuSans-6f\" x=\"375.634766\"/>\n",
       "     <use xlink:href=\"#DejaVuSans-61\" x=\"436.816406\"/>\n",
       "     <use xlink:href=\"#DejaVuSans-74\" x=\"498.095703\"/>\n",
       "    </g>\n",
       "   </g>\n",
       "  </g>\n",
       "  <g id=\"axes_6\">\n",
       "   <g id=\"patch_27\">\n",
       "    <path d=\"M 415.893025 85.487936 \n",
       "L 479.062836 85.487936 \n",
       "L 479.062836 22.318125 \n",
       "L 415.893025 22.318125 \n",
       "z\n",
       "\" style=\"fill: #ffffff\"/>\n",
       "   </g>\n",
       "   <g clip-path=\"url(#pe75e8530bb)\">\n",
       "    <image xlink:href=\"data:image/png;base64,\n",
       "iVBORw0KGgoAAAANSUhEUgAAAEAAAABACAYAAACqaXHeAAAPpElEQVR4nM2bWY9lyVHHfxGZec65W229VK8z7fG4PbYHIwxIBmMBEvCGxINlxDfg6/Ah4GvwAA/gebCFbI/t8TBt91Ld013r3c6WGTycU7e63d3jtus2qpBKqtKt3CIjI/7xj7jyN/I94y2KhAz90m3S5pDHfzbh+OstJJAohBPlyg8TxbOG/OePaPcer8b527c4+ItbVFvC8V0jbTVQOrRSiifK9i8ixUFD9sNPiUfHv/f+/DoO+YWigmWBWHhiBoQESTCF5CF5IXkB1RfHOe0+C4JlCQ2JFIVkkDIlBSEFBdFXLvum8tYVoOMRT76zzfQODL52yPff/Zg2KY05Pj6+xoPlbQaPM4q9CTw8G5e2xhx8CO3Viu9+8Al/MHnIYTNiFnM+evoOn29cYbCX8c7HIzg8/L3399YVIFnG9A4UXzvi7+/8mH/a+gERoTHlPwZ3+Zdr15HoScPshXFxlJFulrx3bZ9/vPID/jTfZ5qMuXmuZX/Ivy3/hIVMsCJ79cJvKG//CThHHBiXRgsac3zSXEFJFNLwsNqm2POMHhh6siQ+Py4ZqXGUrWeecubJmKbAieXsNyPKZYYrBex8Luz/QQFKGkVujw9pk/Lj5S3GrmTHzbi/3GbyK2PrkyVyPH1hmJhB5VhUGUdxxNQ8R2nAURrytB4TZ55sIUgbX7Pwm8l6FSBnNyIhQzfGpO0JbtiyFZbk2gJQpcAxI46qAdk04Y+WWFW/PJ8zvEsk655MaYEyhdVn5vs1zyHrU4BI75ETmKGbE5oPbjO/VXDt0ud8ffiI0gJVCixSxl69ycPjTW7+ak765T2sflEB5hQtWkZZTdPf/kkqOIpDANywJRYBc+eLAucb/QUiIdBsBqoNYRRqCm0IElFJRFOmTUFde6Rusap66S2bgDjDaQKgMU8yRcVwsj7osl4FWFodxLYm7H8jcHzX2B2eABAkMtGSKnnuzXaopxnSplfP5YQ8b9jMlkSEecqZuCV3wlMybYkLj1sKEl8z/g1lfU/gN28wD1Q7RtxpGfuaaIoj4QQac5yUBVI5eM0BTATvEoXr/EZEcBgjrToLaBVpX173d5W3FgXacUZ6Z8mdK4fshDkRJZOWQhoeLLbY/3SH0UNFyuqV402FQdYw8jUOI5kSESJKtM7xreMlvDUFxKHn7vVHfGv7Pjt+TjJBJREk8mw5ZnJPGe0lbFG+crwpFL5l5DsFdQdXUv/DmtzA2hUgIUOKnHaojEPFxJVEhEXKCRJpLHJS5hT7Rn4UoW1fO5fTTmHQPZuEUpujNUWidEq4aE9ARwNke4tqw3E1n3HZT3nSbDIzj0rCSWI6G3Dns5LwbIYtl6+ZSAgaybUlItTmKVNANbGMAWkFfb3u3ny/55/iRZHJhObGNtWWMHA1QVqcnIYyxzzlxEZxixpZlNhrnSD43gJcb+8RJaEohjnD1rD7tVtAeXeXR9/NKd+puZkfnsV/jFksOG6HMA24hw+Jh0dY27xyHlNhK1uy4+cEaUkmRBNqc3iN2CASC/dyGv07ytotoJk4yt2W8faCQs4O53oA1JhDWsHK8pUAaCUCubYM9cwJJpTG/Grn5uwCQeFeyi3HlXeecWN8wjQVxFZRSQy1Zqg1KomU/XbwkjLh7ugJH+SP+Gj5Hs+aCYU25NpwUg96B3gBs8FmKHxj+yk72ZwqBZIpef8Mcm1wJHD2W5mc5ITr4ZBrrkujj5ph71MyyujBLigO0Ggs2kCuOQtXkWvL2JUEify6usReuYk/9hC/OI0Vg9IyjlLGz2bX+fTkMjvFnO1syXFVdEgwcvEsQCLMmxyviZHPiShBIiOtuLe4xE+eXiM7FOy3bdxgkTL244ifHV3l8dNNTjZzFuMZszJHGumg8DllvU5QBASkt80OtZ05qYfzTY4eT8iOeb0FqEPyHFOYxYKDOGZa5qSlp2o8VfSkJN3Oz+f/gDXzAeIcppC5iJdEY4o3hyMRpOXeg8tc/m/Pxr0Ka/rrU4eoYDF2PMKgQCdjUhAeVVtd6nw4xB94lnnOLG+IUTFnpItEiOhwiBQ5MRMUQ3/DQzXmkYVncBAJ07pLnQHRFw8gwUORE0M3j5OORtcIbVSSgdkarr6XtShAQkb85vssbhbMbxleY5/4JByJ4zjkOEKx55j88D42mxP7J2DJXlCCbG5Q377EYlf45vg+l9wMCWmF+syEGBUtFVcD6SLwASrUOxnza452o33p9ssUSAh+AfHRk5W5n4ql537PAs2Gpx3CVX/CRJeIPve5CZY6BygRSBcgCohzlFuOxa4hg8ii7bj6IAmvkfeLx4y04l83wF3axhZL4knHEp3evvU+sb26wcEHgWo3cq++3HEBS0+oBUplNi9IS49Pgpzv8oF1WYAI9YZQX4qEoqGK3bSZRkYm3AnPuOYqmknCNsad855OOytYAaJOA9VOxuzdiN8p2au3usyvVrQBt1TazCO1doe/SEDIRFZBtU2K4laAqDEHQCqM9tIYbwafa3ft9uI1toXARsto2OUAyXqPH8AcIPR/G+YF9IJEAZQO4gJl62nEUSdHMu1SYFvAuGFxs2AI6GfScagxdlbQ+4R6rOzuHnFlOF/VA/CJmBsWDNTAGXGYaAu9ONmgKaCG6lkINBMSwjQNmJrHZ5HljtJOwou5wHNWYA42soqxr86cqTPMG+YTLutyiRUhciGgsCoxAzdoybKWzPUhzoSq9Xxc3mA/jrmyPeXRH+WYBnb/02NN/dIB2qHw4dYjBq5ZochQtDRjR75dcnVzxqP9TdxeIEyBc5bG1geFFVQTTjoLOL29hHDcDjhsR0yyirBd0ozltQjOHGyHBRN3RpY6nyAk8qxlnFWoJrQRtLFzW8BaFCAixAzGw4pJUTEKNbk7y1TmMee4HfCNzT3+7ss/Z3k9dYjvFRJzeD9/wq3sgFzbjhQpKsKoZme0YHcwJcvi2ljh9fkAD4OsYeAbMm3xmhAxkglV9FTJc6fY5683PyZuta/lA5KDa/6YLTfvS2nGILQURcMkq9gMSzLfKVeMC4IE6cgZJ0ZwkaGv0WhMyQGokmeZMoZacTvsE0Y1XN7GAfH4BNLZOzYPV9yckLpDOhKjUBNNyHoaOCY9Q4LnlLVBYdPu8IVr2OiLGV670nYZPSoZI614z9fsbCxor27gAVkssOrsJMkbN5wRZImThIoxyUpEjKHvKsjJuuRoHVFgPU8gGZKEJjqSCV4j4Tmcmkz60paSgK1iyfTdgur2Njoouo2MRrjLl0g5aO8gY88nnDpVJ7Z6FuuStfkArWFa5rTmGLuKgWvQ3lO11oGixhylGd/avs/jv4zs/XmObG12nMA7N2i+9g7tTkPAdTlAXwtUMbwmMm0ZuhrvYseHrmH3a1GAmaERqsbTJqXQBq8vP9DaPPOkbPolw8sL6u2EBY+oECcF5eUMN4i4V4TIjhuwnmtgLWxQN+86JCXCCSyfDZnVOVfDCZt+SWtKEx2K4SXxrJnw0/oa237O997/ERtfOcRGBZJlHHw4Zu87woe3HgH0nWSONrkVIFK6J+C04wdMOTcjtB4FmOEqw82VOjpGWpE/V80BULGe5Bwz0oo/Hn7Grc1jLDhwjnJHkBsld8b7AEQT4m/Y+GltUcQ6C1iDFazNAvKTRL6vzMqciS4J2lK2nrLpAk3QyDIGnjUTGnPc9EdcyueYE8Qp1Y7x1RtP+HLxlEVqqMytaoptUsroac2hfWQwd8F8QDZN5AdGVQY2tKSQlrp1NNH1CxlVCuw3I6IpV1zNZlh2abQozVbk2zuf8W72lNISpZ1F6Dp5muRW1uTESKfF0XNmg+vBAcnwy5Zs6oiN9nxgS+Y7R6jPhUQVo7TA05gxdhVPvj1i8N5Xmdw45mo4IZPI1ITSwqqa5CXhVxxjn2doV0A9r6xHAZbw+0tGXrGFJyNSaMMwNKsQBmeKmMWCT+pddsMJX/qHT1m2ge/v/pS72WNUEo/jiKM07BXQkrmW1rTHF5HgIslxcWhxS4Y2La6MSPTdJnvA8vz2tAcyQH/DLV8ePyWiXPYnXeHUui6Q2hyxB0+8MEfq8MWFKoxYQmYLvArSFGxpzURf7vwIEtn0S1QS0zgg14a/3fwJhTQr6ygt9A2RXWf4MgbapLSp6zIrpCH3LSlY12Z/IcIgYHWDlDWSIAhkEldYfrWYWBfKsL7tLbGlC3bcgqwnRWtzlCnQWIccV01R/XjXW0DnALkgnKAZ6eQEKUtceYPGIEjL1cGUmc8pXNco0ZXIupaXIC0R5dPmalcypzPvxnzfCOGoUpdGt9Z1iKkYQ626pMgbyZ1/6+tLh6sKqyq0llVT41ZYPgdfz1ii03a5iPK0nbzQQ3Aqp7ffmr70BLxGTE/B0EWwgOfEVfCj6gYAt4sDFjHnQbnNMgaq5FcU+elhC2lWzixZl/ycmr1KlwCNQ0XmIkNX4yRRJ4+bK67ktZ2mbyrrV8ASPpq9x/XsmK/me5QWeFJvsF8NWcaMRcwZumqV5k5ciSNxFIeUFlYdoY25TkkKk1ARrWuxcRiLNiPMlDC3L+wzfBNZuwKyqfHRs3f5yuZTPizuM9KKkasY+gKvcQVvT5/Dafv7ImU0yfeOs3N0XhMk8JIApUyBozjkqBwQphBmhl0USuxUJr+uefRf13nw/hb/fPXf2XU1nxSfr0BNkEghLZm0lClwr7zMMp5972crLLgcpt3NU9Koo0oBkuewHfJLdtnb3+TaZ5Hi8wqWr261fVNZuwL8oiXfz6muZr0zpEOFru6dYW8BJCK68vRdptdZRUeG2IpQSQjJZKWotvSEWcTNm66ydJ79nmv0KyT8+hm7BuZG/PSvbpLl9ymkYdvPV54dWPX7DVwHlx2pD3M1uTaQYGpFZ/b1gFmb0yYlJiU8CQx+8RA7OiZeNAuwkynhgVAcDDlox8yzgEpaNU1WvXc/lSCRJLKCzkHbXhlpdfN1ctTRUbaBKjr8Qkj7h6Tp9HXbeGNZvwJiRJpmRVk7jMbOwp/2XSOFNgRrcVn3FE6t4xQfnFpKkMit4RF18hzUQ07qgoPMkHPG/1NZ//cFYsSaBo1nEDiarEze9bRWIQ1OE1tuAcA0DShTWCkj9uAgaOS6P+76DHUHpSuVr0veggUkKCtcZfzv8gqX/Ql7zXYf5hyRjjQ9dkMiwmEz6m+/A0G5thTaUKbAtC2IJgxc12E6bQrq5NbSIXoq61dAU2NNTXbc8j8HN3ov35l3GT118h297WsWbcZnRzvUrSe4iFNja7DkSjGjNeW4GpCQF5IqFVtLRehU3tpXZiRBk06xvCMhtMmtukfa5DqqKzratvMPZok2af+/unKCoJjZqgFznfJ/dudTg9FNSxIAAAAASUVORK5CYII=\" id=\"image1fde30d1e0\" transform=\"scale(1 -1)translate(0 -64)\" x=\"415.893025\" y=\"-21.487936\" width=\"64\" height=\"64\"/>\n",
       "   </g>\n",
       "   <g id=\"patch_28\">\n",
       "    <path d=\"M 415.893025 85.487936 \n",
       "L 415.893025 22.318125 \n",
       "\" style=\"fill: none; stroke: #000000; stroke-width: 0.8; stroke-linejoin: miter; stroke-linecap: square\"/>\n",
       "   </g>\n",
       "   <g id=\"patch_29\">\n",
       "    <path d=\"M 479.062836 85.487936 \n",
       "L 479.062836 22.318125 \n",
       "\" style=\"fill: none; stroke: #000000; stroke-width: 0.8; stroke-linejoin: miter; stroke-linecap: square\"/>\n",
       "   </g>\n",
       "   <g id=\"patch_30\">\n",
       "    <path d=\"M 415.893025 85.487936 \n",
       "L 479.062836 85.487936 \n",
       "\" style=\"fill: none; stroke: #000000; stroke-width: 0.8; stroke-linejoin: miter; stroke-linecap: square\"/>\n",
       "   </g>\n",
       "   <g id=\"patch_31\">\n",
       "    <path d=\"M 415.893025 22.318125 \n",
       "L 479.062836 22.318125 \n",
       "\" style=\"fill: none; stroke: #000000; stroke-width: 0.8; stroke-linejoin: miter; stroke-linecap: square\"/>\n",
       "   </g>\n",
       "   <g id=\"text_6\">\n",
       "    <!-- trouser/ndress -->\n",
       "    <g transform=\"translate(404.128868 16.318125)scale(0.12 -0.12)\">\n",
       "     <use xlink:href=\"#DejaVuSans-74\"/>\n",
       "     <use xlink:href=\"#DejaVuSans-72\" x=\"39.208984\"/>\n",
       "     <use xlink:href=\"#DejaVuSans-6f\" x=\"78.072266\"/>\n",
       "     <use xlink:href=\"#DejaVuSans-75\" x=\"139.253906\"/>\n",
       "     <use xlink:href=\"#DejaVuSans-73\" x=\"202.632812\"/>\n",
       "     <use xlink:href=\"#DejaVuSans-65\" x=\"254.732422\"/>\n",
       "     <use xlink:href=\"#DejaVuSans-72\" x=\"316.255859\"/>\n",
       "     <use xlink:href=\"#DejaVuSans-2f\" x=\"357.369141\"/>\n",
       "     <use xlink:href=\"#DejaVuSans-6e\" x=\"391.060547\"/>\n",
       "     <use xlink:href=\"#DejaVuSans-64\" x=\"454.439453\"/>\n",
       "     <use xlink:href=\"#DejaVuSans-72\" x=\"517.916016\"/>\n",
       "     <use xlink:href=\"#DejaVuSans-65\" x=\"556.779297\"/>\n",
       "     <use xlink:href=\"#DejaVuSans-73\" x=\"618.302734\"/>\n",
       "     <use xlink:href=\"#DejaVuSans-73\" x=\"670.402344\"/>\n",
       "    </g>\n",
       "   </g>\n",
       "  </g>\n",
       "  <g id=\"axes_7\">\n",
       "   <g id=\"patch_32\">\n",
       "    <path d=\"M 491.696798 85.487936 \n",
       "L 554.86661 85.487936 \n",
       "L 554.86661 22.318125 \n",
       "L 491.696798 22.318125 \n",
       "z\n",
       "\" style=\"fill: #ffffff\"/>\n",
       "   </g>\n",
       "   <g clip-path=\"url(#p4cc5deade3)\">\n",
       "    <image xlink:href=\"data:image/png;base64,\n",
       "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\" id=\"image477f4c5be9\" transform=\"scale(1 -1)translate(0 -64)\" x=\"491.696798\" y=\"-21.487936\" width=\"64\" height=\"64\"/>\n",
       "   </g>\n",
       "   <g id=\"patch_33\">\n",
       "    <path d=\"M 491.696798 85.487936 \n",
       "L 491.696798 22.318125 \n",
       "\" style=\"fill: none; stroke: #000000; stroke-width: 0.8; stroke-linejoin: miter; stroke-linecap: square\"/>\n",
       "   </g>\n",
       "   <g id=\"patch_34\">\n",
       "    <path d=\"M 554.86661 85.487936 \n",
       "L 554.86661 22.318125 \n",
       "\" style=\"fill: none; stroke: #000000; stroke-width: 0.8; stroke-linejoin: miter; stroke-linecap: square\"/>\n",
       "   </g>\n",
       "   <g id=\"patch_35\">\n",
       "    <path d=\"M 491.696798 85.487936 \n",
       "L 554.86661 85.487936 \n",
       "\" style=\"fill: none; stroke: #000000; stroke-width: 0.8; stroke-linejoin: miter; stroke-linecap: square\"/>\n",
       "   </g>\n",
       "   <g id=\"patch_36\">\n",
       "    <path d=\"M 491.696798 22.318125 \n",
       "L 554.86661 22.318125 \n",
       "\" style=\"fill: none; stroke: #000000; stroke-width: 0.8; stroke-linejoin: miter; stroke-linecap: square\"/>\n",
       "   </g>\n",
       "   <g id=\"text_7\">\n",
       "    <!-- coat/ncoat -->\n",
       "    <g transform=\"translate(491.459204 16.318125)scale(0.12 -0.12)\">\n",
       "     <use xlink:href=\"#DejaVuSans-63\"/>\n",
       "     <use xlink:href=\"#DejaVuSans-6f\" x=\"54.980469\"/>\n",
       "     <use xlink:href=\"#DejaVuSans-61\" x=\"116.162109\"/>\n",
       "     <use xlink:href=\"#DejaVuSans-74\" x=\"177.441406\"/>\n",
       "     <use xlink:href=\"#DejaVuSans-2f\" x=\"216.650391\"/>\n",
       "     <use xlink:href=\"#DejaVuSans-6e\" x=\"250.341797\"/>\n",
       "     <use xlink:href=\"#DejaVuSans-63\" x=\"313.720703\"/>\n",
       "     <use xlink:href=\"#DejaVuSans-6f\" x=\"368.701172\"/>\n",
       "     <use xlink:href=\"#DejaVuSans-61\" x=\"429.882812\"/>\n",
       "     <use xlink:href=\"#DejaVuSans-74\" x=\"491.162109\"/>\n",
       "    </g>\n",
       "   </g>\n",
       "  </g>\n",
       "  <g id=\"axes_8\">\n",
       "   <g id=\"patch_37\">\n",
       "    <path d=\"M 567.500572 85.487936 \n",
       "L 630.670383 85.487936 \n",
       "L 630.670383 22.318125 \n",
       "L 567.500572 22.318125 \n",
       "z\n",
       "\" style=\"fill: #ffffff\"/>\n",
       "   </g>\n",
       "   <g clip-path=\"url(#pb06b4f90d3)\">\n",
       "    <image xlink:href=\"data:image/png;base64,\n",
       "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\" id=\"imageb51eaba118\" transform=\"scale(1 -1)translate(0 -64)\" x=\"567.500572\" y=\"-21.487936\" width=\"64\" height=\"64\"/>\n",
       "   </g>\n",
       "   <g id=\"patch_38\">\n",
       "    <path d=\"M 567.500572 85.487936 \n",
       "L 567.500572 22.318125 \n",
       "\" style=\"fill: none; stroke: #000000; stroke-width: 0.8; stroke-linejoin: miter; stroke-linecap: square\"/>\n",
       "   </g>\n",
       "   <g id=\"patch_39\">\n",
       "    <path d=\"M 630.670383 85.487936 \n",
       "L 630.670383 22.318125 \n",
       "\" style=\"fill: none; stroke: #000000; stroke-width: 0.8; stroke-linejoin: miter; stroke-linecap: square\"/>\n",
       "   </g>\n",
       "   <g id=\"patch_40\">\n",
       "    <path d=\"M 567.500572 85.487936 \n",
       "L 630.670383 85.487936 \n",
       "\" style=\"fill: none; stroke: #000000; stroke-width: 0.8; stroke-linejoin: miter; stroke-linecap: square\"/>\n",
       "   </g>\n",
       "   <g id=\"patch_41\">\n",
       "    <path d=\"M 567.500572 22.318125 \n",
       "L 630.670383 22.318125 \n",
       "\" style=\"fill: none; stroke: #000000; stroke-width: 0.8; stroke-linejoin: miter; stroke-linecap: square\"/>\n",
       "   </g>\n",
       "   <g id=\"text_8\">\n",
       "    <!-- shirt/nsneaker -->\n",
       "    <g transform=\"translate(556.13579 16.318125)scale(0.12 -0.12)\">\n",
       "     <use xlink:href=\"#DejaVuSans-73\"/>\n",
       "     <use xlink:href=\"#DejaVuSans-68\" x=\"52.099609\"/>\n",
       "     <use xlink:href=\"#DejaVuSans-69\" x=\"115.478516\"/>\n",
       "     <use xlink:href=\"#DejaVuSans-72\" x=\"143.261719\"/>\n",
       "     <use xlink:href=\"#DejaVuSans-74\" x=\"184.375\"/>\n",
       "     <use xlink:href=\"#DejaVuSans-2f\" x=\"223.583984\"/>\n",
       "     <use xlink:href=\"#DejaVuSans-6e\" x=\"257.275391\"/>\n",
       "     <use xlink:href=\"#DejaVuSans-73\" x=\"320.654297\"/>\n",
       "     <use xlink:href=\"#DejaVuSans-6e\" x=\"372.753906\"/>\n",
       "     <use xlink:href=\"#DejaVuSans-65\" x=\"436.132812\"/>\n",
       "     <use xlink:href=\"#DejaVuSans-61\" x=\"497.65625\"/>\n",
       "     <use xlink:href=\"#DejaVuSans-6b\" x=\"558.935547\"/>\n",
       "     <use xlink:href=\"#DejaVuSans-65\" x=\"613.220703\"/>\n",
       "     <use xlink:href=\"#DejaVuSans-72\" x=\"674.744141\"/>\n",
       "    </g>\n",
       "   </g>\n",
       "  </g>\n",
       "  <g id=\"axes_9\">\n",
       "   <g id=\"patch_42\">\n",
       "    <path d=\"M 643.304346 85.487936 \n",
       "L 706.474157 85.487936 \n",
       "L 706.474157 22.318125 \n",
       "L 643.304346 22.318125 \n",
       "z\n",
       "\" style=\"fill: #ffffff\"/>\n",
       "   </g>\n",
       "   <g clip-path=\"url(#p14b972ae25)\">\n",
       "    <image xlink:href=\"data:image/png;base64,\n",
       "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\" id=\"image82d2f7bd17\" transform=\"scale(1 -1)translate(0 -64)\" x=\"643.304346\" y=\"-21.487936\" width=\"64\" height=\"64\"/>\n",
       "   </g>\n",
       "   <g id=\"patch_43\">\n",
       "    <path d=\"M 643.304346 85.487936 \n",
       "L 643.304346 22.318125 \n",
       "\" style=\"fill: none; stroke: #000000; stroke-width: 0.8; stroke-linejoin: miter; stroke-linecap: square\"/>\n",
       "   </g>\n",
       "   <g id=\"patch_44\">\n",
       "    <path d=\"M 706.474157 85.487936 \n",
       "L 706.474157 22.318125 \n",
       "\" style=\"fill: none; stroke: #000000; stroke-width: 0.8; stroke-linejoin: miter; stroke-linecap: square\"/>\n",
       "   </g>\n",
       "   <g id=\"patch_45\">\n",
       "    <path d=\"M 643.304346 85.487936 \n",
       "L 706.474157 85.487936 \n",
       "\" style=\"fill: none; stroke: #000000; stroke-width: 0.8; stroke-linejoin: miter; stroke-linecap: square\"/>\n",
       "   </g>\n",
       "   <g id=\"patch_46\">\n",
       "    <path d=\"M 643.304346 22.318125 \n",
       "L 706.474157 22.318125 \n",
       "\" style=\"fill: none; stroke: #000000; stroke-width: 0.8; stroke-linejoin: miter; stroke-linecap: square\"/>\n",
       "   </g>\n",
       "   <g id=\"text_9\">\n",
       "    <!-- sandal/nsneaker -->\n",
       "    <g transform=\"translate(625.595501 16.318125)scale(0.12 -0.12)\">\n",
       "     <use xlink:href=\"#DejaVuSans-73\"/>\n",
       "     <use xlink:href=\"#DejaVuSans-61\" x=\"52.099609\"/>\n",
       "     <use xlink:href=\"#DejaVuSans-6e\" x=\"113.378906\"/>\n",
       "     <use xlink:href=\"#DejaVuSans-64\" x=\"176.757812\"/>\n",
       "     <use xlink:href=\"#DejaVuSans-61\" x=\"240.234375\"/>\n",
       "     <use xlink:href=\"#DejaVuSans-6c\" x=\"301.513672\"/>\n",
       "     <use xlink:href=\"#DejaVuSans-2f\" x=\"329.296875\"/>\n",
       "     <use xlink:href=\"#DejaVuSans-6e\" x=\"362.988281\"/>\n",
       "     <use xlink:href=\"#DejaVuSans-73\" x=\"426.367188\"/>\n",
       "     <use xlink:href=\"#DejaVuSans-6e\" x=\"478.466797\"/>\n",
       "     <use xlink:href=\"#DejaVuSans-65\" x=\"541.845703\"/>\n",
       "     <use xlink:href=\"#DejaVuSans-61\" x=\"603.369141\"/>\n",
       "     <use xlink:href=\"#DejaVuSans-6b\" x=\"664.648438\"/>\n",
       "     <use xlink:href=\"#DejaVuSans-65\" x=\"718.933594\"/>\n",
       "     <use xlink:href=\"#DejaVuSans-72\" x=\"780.457031\"/>\n",
       "    </g>\n",
       "   </g>\n",
       "  </g>\n",
       " </g>\n",
       " <defs>\n",
       "  <clipPath id=\"p0c771f93d2\">\n",
       "   <rect x=\"36.874157\" y=\"22.318125\" width=\"63.169811\" height=\"63.169811\"/>\n",
       "  </clipPath>\n",
       "  <clipPath id=\"pdfa26a5699\">\n",
       "   <rect x=\"112.67793\" y=\"22.318125\" width=\"63.169811\" height=\"63.169811\"/>\n",
       "  </clipPath>\n",
       "  <clipPath id=\"p0eddc0d34b\">\n",
       "   <rect x=\"188.481704\" y=\"22.318125\" width=\"63.169811\" height=\"63.169811\"/>\n",
       "  </clipPath>\n",
       "  <clipPath id=\"pb3dccf52b8\">\n",
       "   <rect x=\"264.285478\" y=\"22.318125\" width=\"63.169811\" height=\"63.169811\"/>\n",
       "  </clipPath>\n",
       "  <clipPath id=\"p62592d66ac\">\n",
       "   <rect x=\"340.089251\" y=\"22.318125\" width=\"63.169811\" height=\"63.169811\"/>\n",
       "  </clipPath>\n",
       "  <clipPath id=\"pe75e8530bb\">\n",
       "   <rect x=\"415.893025\" y=\"22.318125\" width=\"63.169811\" height=\"63.169811\"/>\n",
       "  </clipPath>\n",
       "  <clipPath id=\"p4cc5deade3\">\n",
       "   <rect x=\"491.696798\" y=\"22.318125\" width=\"63.169811\" height=\"63.169811\"/>\n",
       "  </clipPath>\n",
       "  <clipPath id=\"pb06b4f90d3\">\n",
       "   <rect x=\"567.500572\" y=\"22.318125\" width=\"63.169811\" height=\"63.169811\"/>\n",
       "  </clipPath>\n",
       "  <clipPath id=\"p14b972ae25\">\n",
       "   <rect x=\"643.304346\" y=\"22.318125\" width=\"63.169811\" height=\"63.169811\"/>\n",
       "  </clipPath>\n",
       " </defs>\n",
       "</svg>\n"
      ],
      "text/plain": [
       "<Figure size 864x864 with 9 Axes>"
      ]
     },
     "metadata": {
      "needs_background": "light"
     },
     "output_type": "display_data"
    }
   ],
   "source": [
    "d2l.show_fashion_mnist(X[0:9],titles[0:9])"
   ]
  },
  {
   "cell_type": "markdown",
   "metadata": {},
   "source": [
    "## softmax回归简洁实现"
   ]
  },
  {
   "cell_type": "markdown",
   "metadata": {},
   "source": [
    "### 获取和读取数据"
   ]
  },
  {
   "cell_type": "code",
   "execution_count": 293,
   "metadata": {},
   "outputs": [],
   "source": [
    "batch_size  = 256\n",
    "train_iter,test_iter = d2l.load_data_fashion_mnist(batch_size)"
   ]
  },
  {
   "cell_type": "markdown",
   "metadata": {},
   "source": [
    "### 定义和初始化模型"
   ]
  },
  {
   "cell_type": "code",
   "execution_count": 294,
   "metadata": {},
   "outputs": [
    {
     "data": {
      "text/plain": [
       "'\\nsoftmax 回归的输出层是一个全连接层，故用 线性模块即可，batch形状为（batch,1,28,28）所以\\n要先用view()将x的形状转换成（batch,784） 才能送入全连接层。\\n\\n'"
      ]
     },
     "execution_count": 294,
     "metadata": {},
     "output_type": "execute_result"
    }
   ],
   "source": [
    "\"\"\"\n",
    "softmax 回归的输出层是一个全连接层，故用 线性模块即可，batch形状为（batch,1,28,28）所以\n",
    "要先用view()将x的形状转换成（batch,784） 才能送入全连接层。\n",
    "\n",
    "\"\"\""
   ]
  },
  {
   "cell_type": "code",
   "execution_count": 295,
   "metadata": {},
   "outputs": [],
   "source": [
    "num_inputs= 784\n",
    "num_outputs = 10 \n",
    "class LinearNet(nn.Module):\n",
    "    def __init__(self,num_inputs,num_outputs):\n",
    "        super(LinearNet,self).__init__()\n",
    "        self.linear = nn.Linear(num_inputs,num_outputs)\n",
    "        \n",
    "    def forward(self,x):\n",
    "        y = self.linear(x.view(x.shape[0],-1))\n",
    "        return y \n",
    "net = LinearNet(num_inputs,num_outputs)"
   ]
  },
  {
   "cell_type": "code",
   "execution_count": 296,
   "metadata": {},
   "outputs": [],
   "source": [
    "class FlattenLayer(nn.Module):\n",
    "    def __init__(self):\n",
    "        super(FlattenLayer,self).__init__()\n",
    "    def forward(self,x):\n",
    "        return x.view(x.shape[0],-1)\n",
    "        "
   ]
  },
  {
   "cell_type": "code",
   "execution_count": 297,
   "metadata": {},
   "outputs": [],
   "source": [
    "from collections import OrderedDict\n",
    "net = nn.Sequential(\n",
    "OrderedDict([\n",
    "    ('flatten',FlattenLayer()),\n",
    "    ('linear',nn.Linear(num_inputs,num_outputs))\n",
    "])\n",
    ")"
   ]
  },
  {
   "cell_type": "code",
   "execution_count": 298,
   "metadata": {},
   "outputs": [
    {
     "data": {
      "text/plain": [
       "Parameter containing:\n",
       "tensor([0., 0., 0., 0., 0., 0., 0., 0., 0., 0.], requires_grad=True)"
      ]
     },
     "execution_count": 298,
     "metadata": {},
     "output_type": "execute_result"
    }
   ],
   "source": [
    "# 初始化权重\n",
    "init.normal_(net.linear.weight,mean=0,std=0.01)\n",
    "init.constant_(net.linear.bias,val=0)"
   ]
  },
  {
   "cell_type": "markdown",
   "metadata": {},
   "source": [
    "### softmax和交叉熵损失函数"
   ]
  },
  {
   "cell_type": "code",
   "execution_count": 299,
   "metadata": {},
   "outputs": [],
   "source": [
    "loss = nn.CrossEntropyLoss()"
   ]
  },
  {
   "cell_type": "markdown",
   "metadata": {},
   "source": [
    "### 定义优化算法"
   ]
  },
  {
   "cell_type": "code",
   "execution_count": 300,
   "metadata": {},
   "outputs": [],
   "source": [
    "optimizer = torch.optim.SGD(net.parameters(),lr=0.1)"
   ]
  },
  {
   "cell_type": "markdown",
   "metadata": {},
   "source": [
    "### 训练模型"
   ]
  },
  {
   "cell_type": "code",
   "execution_count": 301,
   "metadata": {},
   "outputs": [
    {
     "name": "stdout",
     "output_type": "stream",
     "text": [
      "epoch 1, loss 0.0031, train acc 0.749, test acc 0.794\n",
      "epoch 2, loss 0.0022, train acc 0.812, test acc 0.803\n",
      "epoch 3, loss 0.0021, train acc 0.826, test acc 0.814\n",
      "epoch 4, loss 0.0020, train acc 0.833, test acc 0.815\n",
      "epoch 5, loss 0.0019, train acc 0.837, test acc 0.821\n"
     ]
    }
   ],
   "source": [
    "num_epoch = 5\n",
    "d2l.train_ch3(net,train_iter,test_iter,loss,num_epoch,batch_size,None,None,optimizer)"
   ]
  },
  {
   "cell_type": "markdown",
   "metadata": {},
   "source": [
    "## 多层感知机"
   ]
  },
  {
   "cell_type": "markdown",
   "metadata": {},
   "source": [
    "### 隐藏层"
   ]
  },
  {
   "cell_type": "code",
   "execution_count": 302,
   "metadata": {},
   "outputs": [
    {
     "data": {
      "text/plain": [
       "'\\n隐藏层和 输入输出层都是全连接关系\\n'"
      ]
     },
     "execution_count": 302,
     "metadata": {},
     "output_type": "execute_result"
    }
   ],
   "source": [
    "\"\"\"\n",
    "隐藏层和 输入输出层都是全连接关系\n",
    "\"\"\""
   ]
  },
  {
   "cell_type": "markdown",
   "metadata": {},
   "source": [
    "### 激活函数"
   ]
  },
  {
   "cell_type": "code",
   "execution_count": 303,
   "metadata": {},
   "outputs": [
    {
     "data": {
      "text/plain": [
       "'\\n为了解决隐藏层的仿射变换，只是线性叠加，所以引入非线性变换，作为下一%who全连接层的输入\\n\\n'"
      ]
     },
     "execution_count": 303,
     "metadata": {},
     "output_type": "execute_result"
    }
   ],
   "source": [
    "\"\"\"\n",
    "为了解决隐藏层的仿射变换，只是线性叠加，所以引入非线性变换，作为下一%who全连接层的输入\n",
    "\n",
    "\"\"\""
   ]
  },
  {
   "cell_type": "markdown",
   "metadata": {},
   "source": [
    "#### RuLU函数"
   ]
  },
  {
   "cell_type": "code",
   "execution_count": 304,
   "metadata": {},
   "outputs": [],
   "source": [
    "# 提供了简单的非线性变换，给定元素x 该函数定义为：\n",
    "# ReLU(x) = max(x,0)\n"
   ]
  },
  {
   "cell_type": "code",
   "execution_count": 305,
   "metadata": {},
   "outputs": [],
   "source": [
    "import torch\n",
    "import numpy as np \n",
    "import matplotlib.pylab as plt \n",
    "#import sys \n",
    "def xyplot(x_vals,y_vals,name):\n",
    "    d2l.set_figsize(figsize=(5,2.5))\n",
    "    d2l.plt.plot(x_vals.detach().numpy(),y_vals.detach().numpy())\n",
    "    d2l.plt.xlabel('x')\n",
    "    d2l.plt.ylabel(name  + '(x)')"
   ]
  },
  {
   "cell_type": "code",
   "execution_count": 306,
   "metadata": {},
   "outputs": [
    {
     "data": {
      "image/svg+xml": [
       "<?xml version=\"1.0\" encoding=\"utf-8\" standalone=\"no\"?>\n",
       "<!DOCTYPE svg PUBLIC \"-//W3C//DTD SVG 1.1//EN\"\n",
       "  \"http://www.w3.org/Graphics/SVG/1.1/DTD/svg11.dtd\">\n",
       "<svg xmlns:xlink=\"http://www.w3.org/1999/xlink\" width=\"320.440625pt\" height=\"180.65625pt\" viewBox=\"0 0 320.440625 180.65625\" xmlns=\"http://www.w3.org/2000/svg\" version=\"1.1\">\n",
       " <metadata>\n",
       "  <rdf:RDF xmlns:dc=\"http://purl.org/dc/elements/1.1/\" xmlns:cc=\"http://creativecommons.org/ns#\" xmlns:rdf=\"http://www.w3.org/1999/02/22-rdf-syntax-ns#\">\n",
       "   <cc:Work>\n",
       "    <dc:type rdf:resource=\"http://purl.org/dc/dcmitype/StillImage\"/>\n",
       "    <dc:date>2023-01-05T18:55:48.723668</dc:date>\n",
       "    <dc:format>image/svg+xml</dc:format>\n",
       "    <dc:creator>\n",
       "     <cc:Agent>\n",
       "      <dc:title>Matplotlib v3.5.1, https://matplotlib.org/</dc:title>\n",
       "     </cc:Agent>\n",
       "    </dc:creator>\n",
       "   </cc:Work>\n",
       "  </rdf:RDF>\n",
       " </metadata>\n",
       " <defs>\n",
       "  <style type=\"text/css\">*{stroke-linejoin: round; stroke-linecap: butt}</style>\n",
       " </defs>\n",
       " <g id=\"figure_1\">\n",
       "  <g id=\"patch_1\">\n",
       "   <path d=\"M 0 180.65625 \n",
       "L 320.440625 180.65625 \n",
       "L 320.440625 0 \n",
       "L 0 0 \n",
       "L 0 180.65625 \n",
       "z\n",
       "\" style=\"fill: none\"/>\n",
       "  </g>\n",
       "  <g id=\"axes_1\">\n",
       "   <g id=\"patch_2\">\n",
       "    <path d=\"M 34.240625 143.1 \n",
       "L 313.240625 143.1 \n",
       "L 313.240625 7.2 \n",
       "L 34.240625 7.2 \n",
       "z\n",
       "\" style=\"fill: #ffffff\"/>\n",
       "   </g>\n",
       "   <g id=\"matplotlib.axis_1\">\n",
       "    <g id=\"xtick_1\">\n",
       "     <g id=\"line2d_1\">\n",
       "      <defs>\n",
       "       <path id=\"m433a687222\" d=\"M 0 0 \n",
       "L 0 3.5 \n",
       "\" style=\"stroke: #000000; stroke-width: 0.8\"/>\n",
       "      </defs>\n",
       "      <g>\n",
       "       <use xlink:href=\"#m433a687222\" x=\"46.922443\" y=\"143.1\" style=\"stroke: #000000; stroke-width: 0.8\"/>\n",
       "      </g>\n",
       "     </g>\n",
       "     <g id=\"text_1\">\n",
       "      <!-- −8 -->\n",
       "      <g transform=\"translate(39.551349 157.698438)scale(0.1 -0.1)\">\n",
       "       <defs>\n",
       "        <path id=\"DejaVuSans-2212\" d=\"M 678 2272 \n",
       "L 4684 2272 \n",
       "L 4684 1741 \n",
       "L 678 1741 \n",
       "L 678 2272 \n",
       "z\n",
       "\" transform=\"scale(0.015625)\"/>\n",
       "        <path id=\"DejaVuSans-38\" d=\"M 2034 2216 \n",
       "Q 1584 2216 1326 1975 \n",
       "Q 1069 1734 1069 1313 \n",
       "Q 1069 891 1326 650 \n",
       "Q 1584 409 2034 409 \n",
       "Q 2484 409 2743 651 \n",
       "Q 3003 894 3003 1313 \n",
       "Q 3003 1734 2745 1975 \n",
       "Q 2488 2216 2034 2216 \n",
       "z\n",
       "M 1403 2484 \n",
       "Q 997 2584 770 2862 \n",
       "Q 544 3141 544 3541 \n",
       "Q 544 4100 942 4425 \n",
       "Q 1341 4750 2034 4750 \n",
       "Q 2731 4750 3128 4425 \n",
       "Q 3525 4100 3525 3541 \n",
       "Q 3525 3141 3298 2862 \n",
       "Q 3072 2584 2669 2484 \n",
       "Q 3125 2378 3379 2068 \n",
       "Q 3634 1759 3634 1313 \n",
       "Q 3634 634 3220 271 \n",
       "Q 2806 -91 2034 -91 \n",
       "Q 1263 -91 848 271 \n",
       "Q 434 634 434 1313 \n",
       "Q 434 1759 690 2068 \n",
       "Q 947 2378 1403 2484 \n",
       "z\n",
       "M 1172 3481 \n",
       "Q 1172 3119 1398 2916 \n",
       "Q 1625 2713 2034 2713 \n",
       "Q 2441 2713 2670 2916 \n",
       "Q 2900 3119 2900 3481 \n",
       "Q 2900 3844 2670 4047 \n",
       "Q 2441 4250 2034 4250 \n",
       "Q 1625 4250 1398 4047 \n",
       "Q 1172 3844 1172 3481 \n",
       "z\n",
       "\" transform=\"scale(0.015625)\"/>\n",
       "       </defs>\n",
       "       <use xlink:href=\"#DejaVuSans-2212\"/>\n",
       "       <use xlink:href=\"#DejaVuSans-38\" x=\"83.789062\"/>\n",
       "      </g>\n",
       "     </g>\n",
       "    </g>\n",
       "    <g id=\"xtick_2\">\n",
       "     <g id=\"line2d_2\">\n",
       "      <g>\n",
       "       <use xlink:href=\"#m433a687222\" x=\"78.826389\" y=\"143.1\" style=\"stroke: #000000; stroke-width: 0.8\"/>\n",
       "      </g>\n",
       "     </g>\n",
       "     <g id=\"text_2\">\n",
       "      <!-- −6 -->\n",
       "      <g transform=\"translate(71.455295 157.698438)scale(0.1 -0.1)\">\n",
       "       <defs>\n",
       "        <path id=\"DejaVuSans-36\" d=\"M 2113 2584 \n",
       "Q 1688 2584 1439 2293 \n",
       "Q 1191 2003 1191 1497 \n",
       "Q 1191 994 1439 701 \n",
       "Q 1688 409 2113 409 \n",
       "Q 2538 409 2786 701 \n",
       "Q 3034 994 3034 1497 \n",
       "Q 3034 2003 2786 2293 \n",
       "Q 2538 2584 2113 2584 \n",
       "z\n",
       "M 3366 4563 \n",
       "L 3366 3988 \n",
       "Q 3128 4100 2886 4159 \n",
       "Q 2644 4219 2406 4219 \n",
       "Q 1781 4219 1451 3797 \n",
       "Q 1122 3375 1075 2522 \n",
       "Q 1259 2794 1537 2939 \n",
       "Q 1816 3084 2150 3084 \n",
       "Q 2853 3084 3261 2657 \n",
       "Q 3669 2231 3669 1497 \n",
       "Q 3669 778 3244 343 \n",
       "Q 2819 -91 2113 -91 \n",
       "Q 1303 -91 875 529 \n",
       "Q 447 1150 447 2328 \n",
       "Q 447 3434 972 4092 \n",
       "Q 1497 4750 2381 4750 \n",
       "Q 2619 4750 2861 4703 \n",
       "Q 3103 4656 3366 4563 \n",
       "z\n",
       "\" transform=\"scale(0.015625)\"/>\n",
       "       </defs>\n",
       "       <use xlink:href=\"#DejaVuSans-2212\"/>\n",
       "       <use xlink:href=\"#DejaVuSans-36\" x=\"83.789062\"/>\n",
       "      </g>\n",
       "     </g>\n",
       "    </g>\n",
       "    <g id=\"xtick_3\">\n",
       "     <g id=\"line2d_3\">\n",
       "      <g>\n",
       "       <use xlink:href=\"#m433a687222\" x=\"110.730335\" y=\"143.1\" style=\"stroke: #000000; stroke-width: 0.8\"/>\n",
       "      </g>\n",
       "     </g>\n",
       "     <g id=\"text_3\">\n",
       "      <!-- −4 -->\n",
       "      <g transform=\"translate(103.359241 157.698438)scale(0.1 -0.1)\">\n",
       "       <defs>\n",
       "        <path id=\"DejaVuSans-34\" d=\"M 2419 4116 \n",
       "L 825 1625 \n",
       "L 2419 1625 \n",
       "L 2419 4116 \n",
       "z\n",
       "M 2253 4666 \n",
       "L 3047 4666 \n",
       "L 3047 1625 \n",
       "L 3713 1625 \n",
       "L 3713 1100 \n",
       "L 3047 1100 \n",
       "L 3047 0 \n",
       "L 2419 0 \n",
       "L 2419 1100 \n",
       "L 313 1100 \n",
       "L 313 1709 \n",
       "L 2253 4666 \n",
       "z\n",
       "\" transform=\"scale(0.015625)\"/>\n",
       "       </defs>\n",
       "       <use xlink:href=\"#DejaVuSans-2212\"/>\n",
       "       <use xlink:href=\"#DejaVuSans-34\" x=\"83.789062\"/>\n",
       "      </g>\n",
       "     </g>\n",
       "    </g>\n",
       "    <g id=\"xtick_4\">\n",
       "     <g id=\"line2d_4\">\n",
       "      <g>\n",
       "       <use xlink:href=\"#m433a687222\" x=\"142.634281\" y=\"143.1\" style=\"stroke: #000000; stroke-width: 0.8\"/>\n",
       "      </g>\n",
       "     </g>\n",
       "     <g id=\"text_4\">\n",
       "      <!-- −2 -->\n",
       "      <g transform=\"translate(135.263187 157.698438)scale(0.1 -0.1)\">\n",
       "       <defs>\n",
       "        <path id=\"DejaVuSans-32\" d=\"M 1228 531 \n",
       "L 3431 531 \n",
       "L 3431 0 \n",
       "L 469 0 \n",
       "L 469 531 \n",
       "Q 828 903 1448 1529 \n",
       "Q 2069 2156 2228 2338 \n",
       "Q 2531 2678 2651 2914 \n",
       "Q 2772 3150 2772 3378 \n",
       "Q 2772 3750 2511 3984 \n",
       "Q 2250 4219 1831 4219 \n",
       "Q 1534 4219 1204 4116 \n",
       "Q 875 4013 500 3803 \n",
       "L 500 4441 \n",
       "Q 881 4594 1212 4672 \n",
       "Q 1544 4750 1819 4750 \n",
       "Q 2544 4750 2975 4387 \n",
       "Q 3406 4025 3406 3419 \n",
       "Q 3406 3131 3298 2873 \n",
       "Q 3191 2616 2906 2266 \n",
       "Q 2828 2175 2409 1742 \n",
       "Q 1991 1309 1228 531 \n",
       "z\n",
       "\" transform=\"scale(0.015625)\"/>\n",
       "       </defs>\n",
       "       <use xlink:href=\"#DejaVuSans-2212\"/>\n",
       "       <use xlink:href=\"#DejaVuSans-32\" x=\"83.789062\"/>\n",
       "      </g>\n",
       "     </g>\n",
       "    </g>\n",
       "    <g id=\"xtick_5\">\n",
       "     <g id=\"line2d_5\">\n",
       "      <g>\n",
       "       <use xlink:href=\"#m433a687222\" x=\"174.538227\" y=\"143.1\" style=\"stroke: #000000; stroke-width: 0.8\"/>\n",
       "      </g>\n",
       "     </g>\n",
       "     <g id=\"text_5\">\n",
       "      <!-- 0 -->\n",
       "      <g transform=\"translate(171.356977 157.698438)scale(0.1 -0.1)\">\n",
       "       <defs>\n",
       "        <path id=\"DejaVuSans-30\" d=\"M 2034 4250 \n",
       "Q 1547 4250 1301 3770 \n",
       "Q 1056 3291 1056 2328 \n",
       "Q 1056 1369 1301 889 \n",
       "Q 1547 409 2034 409 \n",
       "Q 2525 409 2770 889 \n",
       "Q 3016 1369 3016 2328 \n",
       "Q 3016 3291 2770 3770 \n",
       "Q 2525 4250 2034 4250 \n",
       "z\n",
       "M 2034 4750 \n",
       "Q 2819 4750 3233 4129 \n",
       "Q 3647 3509 3647 2328 \n",
       "Q 3647 1150 3233 529 \n",
       "Q 2819 -91 2034 -91 \n",
       "Q 1250 -91 836 529 \n",
       "Q 422 1150 422 2328 \n",
       "Q 422 3509 836 4129 \n",
       "Q 1250 4750 2034 4750 \n",
       "z\n",
       "\" transform=\"scale(0.015625)\"/>\n",
       "       </defs>\n",
       "       <use xlink:href=\"#DejaVuSans-30\"/>\n",
       "      </g>\n",
       "     </g>\n",
       "    </g>\n",
       "    <g id=\"xtick_6\">\n",
       "     <g id=\"line2d_6\">\n",
       "      <g>\n",
       "       <use xlink:href=\"#m433a687222\" x=\"206.442173\" y=\"143.1\" style=\"stroke: #000000; stroke-width: 0.8\"/>\n",
       "      </g>\n",
       "     </g>\n",
       "     <g id=\"text_6\">\n",
       "      <!-- 2 -->\n",
       "      <g transform=\"translate(203.260923 157.698438)scale(0.1 -0.1)\">\n",
       "       <use xlink:href=\"#DejaVuSans-32\"/>\n",
       "      </g>\n",
       "     </g>\n",
       "    </g>\n",
       "    <g id=\"xtick_7\">\n",
       "     <g id=\"line2d_7\">\n",
       "      <g>\n",
       "       <use xlink:href=\"#m433a687222\" x=\"238.346118\" y=\"143.1\" style=\"stroke: #000000; stroke-width: 0.8\"/>\n",
       "      </g>\n",
       "     </g>\n",
       "     <g id=\"text_7\">\n",
       "      <!-- 4 -->\n",
       "      <g transform=\"translate(235.164868 157.698438)scale(0.1 -0.1)\">\n",
       "       <use xlink:href=\"#DejaVuSans-34\"/>\n",
       "      </g>\n",
       "     </g>\n",
       "    </g>\n",
       "    <g id=\"xtick_8\">\n",
       "     <g id=\"line2d_8\">\n",
       "      <g>\n",
       "       <use xlink:href=\"#m433a687222\" x=\"270.250064\" y=\"143.1\" style=\"stroke: #000000; stroke-width: 0.8\"/>\n",
       "      </g>\n",
       "     </g>\n",
       "     <g id=\"text_8\">\n",
       "      <!-- 6 -->\n",
       "      <g transform=\"translate(267.068814 157.698438)scale(0.1 -0.1)\">\n",
       "       <use xlink:href=\"#DejaVuSans-36\"/>\n",
       "      </g>\n",
       "     </g>\n",
       "    </g>\n",
       "    <g id=\"xtick_9\">\n",
       "     <g id=\"line2d_9\">\n",
       "      <g>\n",
       "       <use xlink:href=\"#m433a687222\" x=\"302.15401\" y=\"143.1\" style=\"stroke: #000000; stroke-width: 0.8\"/>\n",
       "      </g>\n",
       "     </g>\n",
       "     <g id=\"text_9\">\n",
       "      <!-- 8 -->\n",
       "      <g transform=\"translate(298.97276 157.698438)scale(0.1 -0.1)\">\n",
       "       <use xlink:href=\"#DejaVuSans-38\"/>\n",
       "      </g>\n",
       "     </g>\n",
       "    </g>\n",
       "    <g id=\"text_10\">\n",
       "     <!-- x -->\n",
       "     <g transform=\"translate(170.78125 171.376563)scale(0.1 -0.1)\">\n",
       "      <defs>\n",
       "       <path id=\"DejaVuSans-78\" d=\"M 3513 3500 \n",
       "L 2247 1797 \n",
       "L 3578 0 \n",
       "L 2900 0 \n",
       "L 1881 1375 \n",
       "L 863 0 \n",
       "L 184 0 \n",
       "L 1544 1831 \n",
       "L 300 3500 \n",
       "L 978 3500 \n",
       "L 1906 2253 \n",
       "L 2834 3500 \n",
       "L 3513 3500 \n",
       "z\n",
       "\" transform=\"scale(0.015625)\"/>\n",
       "      </defs>\n",
       "      <use xlink:href=\"#DejaVuSans-78\"/>\n",
       "     </g>\n",
       "    </g>\n",
       "   </g>\n",
       "   <g id=\"matplotlib.axis_2\">\n",
       "    <g id=\"ytick_1\">\n",
       "     <g id=\"line2d_10\">\n",
       "      <defs>\n",
       "       <path id=\"m4ef97f59ef\" d=\"M 0 0 \n",
       "L -3.5 0 \n",
       "\" style=\"stroke: #000000; stroke-width: 0.8\"/>\n",
       "      </defs>\n",
       "      <g>\n",
       "       <use xlink:href=\"#m4ef97f59ef\" x=\"34.240625\" y=\"136.922727\" style=\"stroke: #000000; stroke-width: 0.8\"/>\n",
       "      </g>\n",
       "     </g>\n",
       "     <g id=\"text_11\">\n",
       "      <!-- 0 -->\n",
       "      <g transform=\"translate(20.878125 140.721946)scale(0.1 -0.1)\">\n",
       "       <use xlink:href=\"#DejaVuSans-30\"/>\n",
       "      </g>\n",
       "     </g>\n",
       "    </g>\n",
       "    <g id=\"ytick_2\">\n",
       "     <g id=\"line2d_11\">\n",
       "      <g>\n",
       "       <use xlink:href=\"#m4ef97f59ef\" x=\"34.240625\" y=\"105.645395\" style=\"stroke: #000000; stroke-width: 0.8\"/>\n",
       "      </g>\n",
       "     </g>\n",
       "     <g id=\"text_12\">\n",
       "      <!-- 2 -->\n",
       "      <g transform=\"translate(20.878125 109.444614)scale(0.1 -0.1)\">\n",
       "       <use xlink:href=\"#DejaVuSans-32\"/>\n",
       "      </g>\n",
       "     </g>\n",
       "    </g>\n",
       "    <g id=\"ytick_3\">\n",
       "     <g id=\"line2d_12\">\n",
       "      <g>\n",
       "       <use xlink:href=\"#m4ef97f59ef\" x=\"34.240625\" y=\"74.368064\" style=\"stroke: #000000; stroke-width: 0.8\"/>\n",
       "      </g>\n",
       "     </g>\n",
       "     <g id=\"text_13\">\n",
       "      <!-- 4 -->\n",
       "      <g transform=\"translate(20.878125 78.167282)scale(0.1 -0.1)\">\n",
       "       <use xlink:href=\"#DejaVuSans-34\"/>\n",
       "      </g>\n",
       "     </g>\n",
       "    </g>\n",
       "    <g id=\"ytick_4\">\n",
       "     <g id=\"line2d_13\">\n",
       "      <g>\n",
       "       <use xlink:href=\"#m4ef97f59ef\" x=\"34.240625\" y=\"43.090732\" style=\"stroke: #000000; stroke-width: 0.8\"/>\n",
       "      </g>\n",
       "     </g>\n",
       "     <g id=\"text_14\">\n",
       "      <!-- 6 -->\n",
       "      <g transform=\"translate(20.878125 46.889951)scale(0.1 -0.1)\">\n",
       "       <use xlink:href=\"#DejaVuSans-36\"/>\n",
       "      </g>\n",
       "     </g>\n",
       "    </g>\n",
       "    <g id=\"ytick_5\">\n",
       "     <g id=\"line2d_14\">\n",
       "      <g>\n",
       "       <use xlink:href=\"#m4ef97f59ef\" x=\"34.240625\" y=\"11.8134\" style=\"stroke: #000000; stroke-width: 0.8\"/>\n",
       "      </g>\n",
       "     </g>\n",
       "     <g id=\"text_15\">\n",
       "      <!-- 8 -->\n",
       "      <g transform=\"translate(20.878125 15.612619)scale(0.1 -0.1)\">\n",
       "       <use xlink:href=\"#DejaVuSans-38\"/>\n",
       "      </g>\n",
       "     </g>\n",
       "    </g>\n",
       "    <g id=\"text_16\">\n",
       "     <!-- relu(x) -->\n",
       "     <g transform=\"translate(14.798438 91.588281)rotate(-90)scale(0.1 -0.1)\">\n",
       "      <defs>\n",
       "       <path id=\"DejaVuSans-72\" d=\"M 2631 2963 \n",
       "Q 2534 3019 2420 3045 \n",
       "Q 2306 3072 2169 3072 \n",
       "Q 1681 3072 1420 2755 \n",
       "Q 1159 2438 1159 1844 \n",
       "L 1159 0 \n",
       "L 581 0 \n",
       "L 581 3500 \n",
       "L 1159 3500 \n",
       "L 1159 2956 \n",
       "Q 1341 3275 1631 3429 \n",
       "Q 1922 3584 2338 3584 \n",
       "Q 2397 3584 2469 3576 \n",
       "Q 2541 3569 2628 3553 \n",
       "L 2631 2963 \n",
       "z\n",
       "\" transform=\"scale(0.015625)\"/>\n",
       "       <path id=\"DejaVuSans-65\" d=\"M 3597 1894 \n",
       "L 3597 1613 \n",
       "L 953 1613 \n",
       "Q 991 1019 1311 708 \n",
       "Q 1631 397 2203 397 \n",
       "Q 2534 397 2845 478 \n",
       "Q 3156 559 3463 722 \n",
       "L 3463 178 \n",
       "Q 3153 47 2828 -22 \n",
       "Q 2503 -91 2169 -91 \n",
       "Q 1331 -91 842 396 \n",
       "Q 353 884 353 1716 \n",
       "Q 353 2575 817 3079 \n",
       "Q 1281 3584 2069 3584 \n",
       "Q 2775 3584 3186 3129 \n",
       "Q 3597 2675 3597 1894 \n",
       "z\n",
       "M 3022 2063 \n",
       "Q 3016 2534 2758 2815 \n",
       "Q 2500 3097 2075 3097 \n",
       "Q 1594 3097 1305 2825 \n",
       "Q 1016 2553 972 2059 \n",
       "L 3022 2063 \n",
       "z\n",
       "\" transform=\"scale(0.015625)\"/>\n",
       "       <path id=\"DejaVuSans-6c\" d=\"M 603 4863 \n",
       "L 1178 4863 \n",
       "L 1178 0 \n",
       "L 603 0 \n",
       "L 603 4863 \n",
       "z\n",
       "\" transform=\"scale(0.015625)\"/>\n",
       "       <path id=\"DejaVuSans-75\" d=\"M 544 1381 \n",
       "L 544 3500 \n",
       "L 1119 3500 \n",
       "L 1119 1403 \n",
       "Q 1119 906 1312 657 \n",
       "Q 1506 409 1894 409 \n",
       "Q 2359 409 2629 706 \n",
       "Q 2900 1003 2900 1516 \n",
       "L 2900 3500 \n",
       "L 3475 3500 \n",
       "L 3475 0 \n",
       "L 2900 0 \n",
       "L 2900 538 \n",
       "Q 2691 219 2414 64 \n",
       "Q 2138 -91 1772 -91 \n",
       "Q 1169 -91 856 284 \n",
       "Q 544 659 544 1381 \n",
       "z\n",
       "M 1991 3584 \n",
       "L 1991 3584 \n",
       "z\n",
       "\" transform=\"scale(0.015625)\"/>\n",
       "       <path id=\"DejaVuSans-28\" d=\"M 1984 4856 \n",
       "Q 1566 4138 1362 3434 \n",
       "Q 1159 2731 1159 2009 \n",
       "Q 1159 1288 1364 580 \n",
       "Q 1569 -128 1984 -844 \n",
       "L 1484 -844 \n",
       "Q 1016 -109 783 600 \n",
       "Q 550 1309 550 2009 \n",
       "Q 550 2706 781 3412 \n",
       "Q 1013 4119 1484 4856 \n",
       "L 1984 4856 \n",
       "z\n",
       "\" transform=\"scale(0.015625)\"/>\n",
       "       <path id=\"DejaVuSans-29\" d=\"M 513 4856 \n",
       "L 1013 4856 \n",
       "Q 1481 4119 1714 3412 \n",
       "Q 1947 2706 1947 2009 \n",
       "Q 1947 1309 1714 600 \n",
       "Q 1481 -109 1013 -844 \n",
       "L 513 -844 \n",
       "Q 928 -128 1133 580 \n",
       "Q 1338 1288 1338 2009 \n",
       "Q 1338 2731 1133 3434 \n",
       "Q 928 4138 513 4856 \n",
       "z\n",
       "\" transform=\"scale(0.015625)\"/>\n",
       "      </defs>\n",
       "      <use xlink:href=\"#DejaVuSans-72\"/>\n",
       "      <use xlink:href=\"#DejaVuSans-65\" x=\"38.863281\"/>\n",
       "      <use xlink:href=\"#DejaVuSans-6c\" x=\"100.386719\"/>\n",
       "      <use xlink:href=\"#DejaVuSans-75\" x=\"128.169922\"/>\n",
       "      <use xlink:href=\"#DejaVuSans-28\" x=\"191.548828\"/>\n",
       "      <use xlink:href=\"#DejaVuSans-78\" x=\"230.5625\"/>\n",
       "      <use xlink:href=\"#DejaVuSans-29\" x=\"289.742188\"/>\n",
       "     </g>\n",
       "    </g>\n",
       "   </g>\n",
       "   <g id=\"line2d_15\">\n",
       "    <path d=\"M 46.922443 136.922727 \n",
       "L 174.538227 136.922727 \n",
       "L 300.558807 13.377273 \n",
       "L 300.558807 13.377273 \n",
       "\" clip-path=\"url(#p12a8299e4d)\" style=\"fill: none; stroke: #1f77b4; stroke-width: 1.5; stroke-linecap: square\"/>\n",
       "   </g>\n",
       "   <g id=\"patch_3\">\n",
       "    <path d=\"M 34.240625 143.1 \n",
       "L 34.240625 7.2 \n",
       "\" style=\"fill: none; stroke: #000000; stroke-width: 0.8; stroke-linejoin: miter; stroke-linecap: square\"/>\n",
       "   </g>\n",
       "   <g id=\"patch_4\">\n",
       "    <path d=\"M 313.240625 143.1 \n",
       "L 313.240625 7.2 \n",
       "\" style=\"fill: none; stroke: #000000; stroke-width: 0.8; stroke-linejoin: miter; stroke-linecap: square\"/>\n",
       "   </g>\n",
       "   <g id=\"patch_5\">\n",
       "    <path d=\"M 34.240625 143.1 \n",
       "L 313.240625 143.1 \n",
       "\" style=\"fill: none; stroke: #000000; stroke-width: 0.8; stroke-linejoin: miter; stroke-linecap: square\"/>\n",
       "   </g>\n",
       "   <g id=\"patch_6\">\n",
       "    <path d=\"M 34.240625 7.2 \n",
       "L 313.240625 7.2 \n",
       "\" style=\"fill: none; stroke: #000000; stroke-width: 0.8; stroke-linejoin: miter; stroke-linecap: square\"/>\n",
       "   </g>\n",
       "  </g>\n",
       " </g>\n",
       " <defs>\n",
       "  <clipPath id=\"p12a8299e4d\">\n",
       "   <rect x=\"34.240625\" y=\"7.2\" width=\"279\" height=\"135.9\"/>\n",
       "  </clipPath>\n",
       " </defs>\n",
       "</svg>\n"
      ],
      "text/plain": [
       "<Figure size 360x180 with 1 Axes>"
      ]
     },
     "metadata": {
      "needs_background": "light"
     },
     "output_type": "display_data"
    }
   ],
   "source": [
    "x = torch.arange(-8.0,8.0,0.1,requires_grad=True)\n",
    "y = x.relu()\n",
    "xyplot(x,y,'relu')"
   ]
  },
  {
   "cell_type": "code",
   "execution_count": 307,
   "metadata": {},
   "outputs": [
    {
     "data": {
      "image/svg+xml": [
       "<?xml version=\"1.0\" encoding=\"utf-8\" standalone=\"no\"?>\n",
       "<!DOCTYPE svg PUBLIC \"-//W3C//DTD SVG 1.1//EN\"\n",
       "  \"http://www.w3.org/Graphics/SVG/1.1/DTD/svg11.dtd\">\n",
       "<svg xmlns:xlink=\"http://www.w3.org/1999/xlink\" width=\"329.98125pt\" height=\"180.65625pt\" viewBox=\"0 0 329.98125 180.65625\" xmlns=\"http://www.w3.org/2000/svg\" version=\"1.1\">\n",
       " <metadata>\n",
       "  <rdf:RDF xmlns:dc=\"http://purl.org/dc/elements/1.1/\" xmlns:cc=\"http://creativecommons.org/ns#\" xmlns:rdf=\"http://www.w3.org/1999/02/22-rdf-syntax-ns#\">\n",
       "   <cc:Work>\n",
       "    <dc:type rdf:resource=\"http://purl.org/dc/dcmitype/StillImage\"/>\n",
       "    <dc:date>2023-01-05T18:55:48.854439</dc:date>\n",
       "    <dc:format>image/svg+xml</dc:format>\n",
       "    <dc:creator>\n",
       "     <cc:Agent>\n",
       "      <dc:title>Matplotlib v3.5.1, https://matplotlib.org/</dc:title>\n",
       "     </cc:Agent>\n",
       "    </dc:creator>\n",
       "   </cc:Work>\n",
       "  </rdf:RDF>\n",
       " </metadata>\n",
       " <defs>\n",
       "  <style type=\"text/css\">*{stroke-linejoin: round; stroke-linecap: butt}</style>\n",
       " </defs>\n",
       " <g id=\"figure_1\">\n",
       "  <g id=\"patch_1\">\n",
       "   <path d=\"M 0 180.65625 \n",
       "L 329.98125 180.65625 \n",
       "L 329.98125 0 \n",
       "L 0 0 \n",
       "L 0 180.65625 \n",
       "z\n",
       "\" style=\"fill: none\"/>\n",
       "  </g>\n",
       "  <g id=\"axes_1\">\n",
       "   <g id=\"patch_2\">\n",
       "    <path d=\"M 43.78125 143.1 \n",
       "L 322.78125 143.1 \n",
       "L 322.78125 7.2 \n",
       "L 43.78125 7.2 \n",
       "z\n",
       "\" style=\"fill: #ffffff\"/>\n",
       "   </g>\n",
       "   <g id=\"matplotlib.axis_1\">\n",
       "    <g id=\"xtick_1\">\n",
       "     <g id=\"line2d_1\">\n",
       "      <defs>\n",
       "       <path id=\"m40b78dfe79\" d=\"M 0 0 \n",
       "L 0 3.5 \n",
       "\" style=\"stroke: #000000; stroke-width: 0.8\"/>\n",
       "      </defs>\n",
       "      <g>\n",
       "       <use xlink:href=\"#m40b78dfe79\" x=\"56.463068\" y=\"143.1\" style=\"stroke: #000000; stroke-width: 0.8\"/>\n",
       "      </g>\n",
       "     </g>\n",
       "     <g id=\"text_1\">\n",
       "      <!-- −8 -->\n",
       "      <g transform=\"translate(49.091974 157.698438)scale(0.1 -0.1)\">\n",
       "       <defs>\n",
       "        <path id=\"DejaVuSans-2212\" d=\"M 678 2272 \n",
       "L 4684 2272 \n",
       "L 4684 1741 \n",
       "L 678 1741 \n",
       "L 678 2272 \n",
       "z\n",
       "\" transform=\"scale(0.015625)\"/>\n",
       "        <path id=\"DejaVuSans-38\" d=\"M 2034 2216 \n",
       "Q 1584 2216 1326 1975 \n",
       "Q 1069 1734 1069 1313 \n",
       "Q 1069 891 1326 650 \n",
       "Q 1584 409 2034 409 \n",
       "Q 2484 409 2743 651 \n",
       "Q 3003 894 3003 1313 \n",
       "Q 3003 1734 2745 1975 \n",
       "Q 2488 2216 2034 2216 \n",
       "z\n",
       "M 1403 2484 \n",
       "Q 997 2584 770 2862 \n",
       "Q 544 3141 544 3541 \n",
       "Q 544 4100 942 4425 \n",
       "Q 1341 4750 2034 4750 \n",
       "Q 2731 4750 3128 4425 \n",
       "Q 3525 4100 3525 3541 \n",
       "Q 3525 3141 3298 2862 \n",
       "Q 3072 2584 2669 2484 \n",
       "Q 3125 2378 3379 2068 \n",
       "Q 3634 1759 3634 1313 \n",
       "Q 3634 634 3220 271 \n",
       "Q 2806 -91 2034 -91 \n",
       "Q 1263 -91 848 271 \n",
       "Q 434 634 434 1313 \n",
       "Q 434 1759 690 2068 \n",
       "Q 947 2378 1403 2484 \n",
       "z\n",
       "M 1172 3481 \n",
       "Q 1172 3119 1398 2916 \n",
       "Q 1625 2713 2034 2713 \n",
       "Q 2441 2713 2670 2916 \n",
       "Q 2900 3119 2900 3481 \n",
       "Q 2900 3844 2670 4047 \n",
       "Q 2441 4250 2034 4250 \n",
       "Q 1625 4250 1398 4047 \n",
       "Q 1172 3844 1172 3481 \n",
       "z\n",
       "\" transform=\"scale(0.015625)\"/>\n",
       "       </defs>\n",
       "       <use xlink:href=\"#DejaVuSans-2212\"/>\n",
       "       <use xlink:href=\"#DejaVuSans-38\" x=\"83.789062\"/>\n",
       "      </g>\n",
       "     </g>\n",
       "    </g>\n",
       "    <g id=\"xtick_2\">\n",
       "     <g id=\"line2d_2\">\n",
       "      <g>\n",
       "       <use xlink:href=\"#m40b78dfe79\" x=\"88.367014\" y=\"143.1\" style=\"stroke: #000000; stroke-width: 0.8\"/>\n",
       "      </g>\n",
       "     </g>\n",
       "     <g id=\"text_2\">\n",
       "      <!-- −6 -->\n",
       "      <g transform=\"translate(80.99592 157.698438)scale(0.1 -0.1)\">\n",
       "       <defs>\n",
       "        <path id=\"DejaVuSans-36\" d=\"M 2113 2584 \n",
       "Q 1688 2584 1439 2293 \n",
       "Q 1191 2003 1191 1497 \n",
       "Q 1191 994 1439 701 \n",
       "Q 1688 409 2113 409 \n",
       "Q 2538 409 2786 701 \n",
       "Q 3034 994 3034 1497 \n",
       "Q 3034 2003 2786 2293 \n",
       "Q 2538 2584 2113 2584 \n",
       "z\n",
       "M 3366 4563 \n",
       "L 3366 3988 \n",
       "Q 3128 4100 2886 4159 \n",
       "Q 2644 4219 2406 4219 \n",
       "Q 1781 4219 1451 3797 \n",
       "Q 1122 3375 1075 2522 \n",
       "Q 1259 2794 1537 2939 \n",
       "Q 1816 3084 2150 3084 \n",
       "Q 2853 3084 3261 2657 \n",
       "Q 3669 2231 3669 1497 \n",
       "Q 3669 778 3244 343 \n",
       "Q 2819 -91 2113 -91 \n",
       "Q 1303 -91 875 529 \n",
       "Q 447 1150 447 2328 \n",
       "Q 447 3434 972 4092 \n",
       "Q 1497 4750 2381 4750 \n",
       "Q 2619 4750 2861 4703 \n",
       "Q 3103 4656 3366 4563 \n",
       "z\n",
       "\" transform=\"scale(0.015625)\"/>\n",
       "       </defs>\n",
       "       <use xlink:href=\"#DejaVuSans-2212\"/>\n",
       "       <use xlink:href=\"#DejaVuSans-36\" x=\"83.789062\"/>\n",
       "      </g>\n",
       "     </g>\n",
       "    </g>\n",
       "    <g id=\"xtick_3\">\n",
       "     <g id=\"line2d_3\">\n",
       "      <g>\n",
       "       <use xlink:href=\"#m40b78dfe79\" x=\"120.27096\" y=\"143.1\" style=\"stroke: #000000; stroke-width: 0.8\"/>\n",
       "      </g>\n",
       "     </g>\n",
       "     <g id=\"text_3\">\n",
       "      <!-- −4 -->\n",
       "      <g transform=\"translate(112.899866 157.698438)scale(0.1 -0.1)\">\n",
       "       <defs>\n",
       "        <path id=\"DejaVuSans-34\" d=\"M 2419 4116 \n",
       "L 825 1625 \n",
       "L 2419 1625 \n",
       "L 2419 4116 \n",
       "z\n",
       "M 2253 4666 \n",
       "L 3047 4666 \n",
       "L 3047 1625 \n",
       "L 3713 1625 \n",
       "L 3713 1100 \n",
       "L 3047 1100 \n",
       "L 3047 0 \n",
       "L 2419 0 \n",
       "L 2419 1100 \n",
       "L 313 1100 \n",
       "L 313 1709 \n",
       "L 2253 4666 \n",
       "z\n",
       "\" transform=\"scale(0.015625)\"/>\n",
       "       </defs>\n",
       "       <use xlink:href=\"#DejaVuSans-2212\"/>\n",
       "       <use xlink:href=\"#DejaVuSans-34\" x=\"83.789062\"/>\n",
       "      </g>\n",
       "     </g>\n",
       "    </g>\n",
       "    <g id=\"xtick_4\">\n",
       "     <g id=\"line2d_4\">\n",
       "      <g>\n",
       "       <use xlink:href=\"#m40b78dfe79\" x=\"152.174906\" y=\"143.1\" style=\"stroke: #000000; stroke-width: 0.8\"/>\n",
       "      </g>\n",
       "     </g>\n",
       "     <g id=\"text_4\">\n",
       "      <!-- −2 -->\n",
       "      <g transform=\"translate(144.803812 157.698438)scale(0.1 -0.1)\">\n",
       "       <defs>\n",
       "        <path id=\"DejaVuSans-32\" d=\"M 1228 531 \n",
       "L 3431 531 \n",
       "L 3431 0 \n",
       "L 469 0 \n",
       "L 469 531 \n",
       "Q 828 903 1448 1529 \n",
       "Q 2069 2156 2228 2338 \n",
       "Q 2531 2678 2651 2914 \n",
       "Q 2772 3150 2772 3378 \n",
       "Q 2772 3750 2511 3984 \n",
       "Q 2250 4219 1831 4219 \n",
       "Q 1534 4219 1204 4116 \n",
       "Q 875 4013 500 3803 \n",
       "L 500 4441 \n",
       "Q 881 4594 1212 4672 \n",
       "Q 1544 4750 1819 4750 \n",
       "Q 2544 4750 2975 4387 \n",
       "Q 3406 4025 3406 3419 \n",
       "Q 3406 3131 3298 2873 \n",
       "Q 3191 2616 2906 2266 \n",
       "Q 2828 2175 2409 1742 \n",
       "Q 1991 1309 1228 531 \n",
       "z\n",
       "\" transform=\"scale(0.015625)\"/>\n",
       "       </defs>\n",
       "       <use xlink:href=\"#DejaVuSans-2212\"/>\n",
       "       <use xlink:href=\"#DejaVuSans-32\" x=\"83.789062\"/>\n",
       "      </g>\n",
       "     </g>\n",
       "    </g>\n",
       "    <g id=\"xtick_5\">\n",
       "     <g id=\"line2d_5\">\n",
       "      <g>\n",
       "       <use xlink:href=\"#m40b78dfe79\" x=\"184.078852\" y=\"143.1\" style=\"stroke: #000000; stroke-width: 0.8\"/>\n",
       "      </g>\n",
       "     </g>\n",
       "     <g id=\"text_5\">\n",
       "      <!-- 0 -->\n",
       "      <g transform=\"translate(180.897602 157.698438)scale(0.1 -0.1)\">\n",
       "       <defs>\n",
       "        <path id=\"DejaVuSans-30\" d=\"M 2034 4250 \n",
       "Q 1547 4250 1301 3770 \n",
       "Q 1056 3291 1056 2328 \n",
       "Q 1056 1369 1301 889 \n",
       "Q 1547 409 2034 409 \n",
       "Q 2525 409 2770 889 \n",
       "Q 3016 1369 3016 2328 \n",
       "Q 3016 3291 2770 3770 \n",
       "Q 2525 4250 2034 4250 \n",
       "z\n",
       "M 2034 4750 \n",
       "Q 2819 4750 3233 4129 \n",
       "Q 3647 3509 3647 2328 \n",
       "Q 3647 1150 3233 529 \n",
       "Q 2819 -91 2034 -91 \n",
       "Q 1250 -91 836 529 \n",
       "Q 422 1150 422 2328 \n",
       "Q 422 3509 836 4129 \n",
       "Q 1250 4750 2034 4750 \n",
       "z\n",
       "\" transform=\"scale(0.015625)\"/>\n",
       "       </defs>\n",
       "       <use xlink:href=\"#DejaVuSans-30\"/>\n",
       "      </g>\n",
       "     </g>\n",
       "    </g>\n",
       "    <g id=\"xtick_6\">\n",
       "     <g id=\"line2d_6\">\n",
       "      <g>\n",
       "       <use xlink:href=\"#m40b78dfe79\" x=\"215.982798\" y=\"143.1\" style=\"stroke: #000000; stroke-width: 0.8\"/>\n",
       "      </g>\n",
       "     </g>\n",
       "     <g id=\"text_6\">\n",
       "      <!-- 2 -->\n",
       "      <g transform=\"translate(212.801548 157.698438)scale(0.1 -0.1)\">\n",
       "       <use xlink:href=\"#DejaVuSans-32\"/>\n",
       "      </g>\n",
       "     </g>\n",
       "    </g>\n",
       "    <g id=\"xtick_7\">\n",
       "     <g id=\"line2d_7\">\n",
       "      <g>\n",
       "       <use xlink:href=\"#m40b78dfe79\" x=\"247.886743\" y=\"143.1\" style=\"stroke: #000000; stroke-width: 0.8\"/>\n",
       "      </g>\n",
       "     </g>\n",
       "     <g id=\"text_7\">\n",
       "      <!-- 4 -->\n",
       "      <g transform=\"translate(244.705493 157.698438)scale(0.1 -0.1)\">\n",
       "       <use xlink:href=\"#DejaVuSans-34\"/>\n",
       "      </g>\n",
       "     </g>\n",
       "    </g>\n",
       "    <g id=\"xtick_8\">\n",
       "     <g id=\"line2d_8\">\n",
       "      <g>\n",
       "       <use xlink:href=\"#m40b78dfe79\" x=\"279.790689\" y=\"143.1\" style=\"stroke: #000000; stroke-width: 0.8\"/>\n",
       "      </g>\n",
       "     </g>\n",
       "     <g id=\"text_8\">\n",
       "      <!-- 6 -->\n",
       "      <g transform=\"translate(276.609439 157.698438)scale(0.1 -0.1)\">\n",
       "       <use xlink:href=\"#DejaVuSans-36\"/>\n",
       "      </g>\n",
       "     </g>\n",
       "    </g>\n",
       "    <g id=\"xtick_9\">\n",
       "     <g id=\"line2d_9\">\n",
       "      <g>\n",
       "       <use xlink:href=\"#m40b78dfe79\" x=\"311.694635\" y=\"143.1\" style=\"stroke: #000000; stroke-width: 0.8\"/>\n",
       "      </g>\n",
       "     </g>\n",
       "     <g id=\"text_9\">\n",
       "      <!-- 8 -->\n",
       "      <g transform=\"translate(308.513385 157.698438)scale(0.1 -0.1)\">\n",
       "       <use xlink:href=\"#DejaVuSans-38\"/>\n",
       "      </g>\n",
       "     </g>\n",
       "    </g>\n",
       "    <g id=\"text_10\">\n",
       "     <!-- x -->\n",
       "     <g transform=\"translate(180.321875 171.376563)scale(0.1 -0.1)\">\n",
       "      <defs>\n",
       "       <path id=\"DejaVuSans-78\" d=\"M 3513 3500 \n",
       "L 2247 1797 \n",
       "L 3578 0 \n",
       "L 2900 0 \n",
       "L 1881 1375 \n",
       "L 863 0 \n",
       "L 184 0 \n",
       "L 1544 1831 \n",
       "L 300 3500 \n",
       "L 978 3500 \n",
       "L 1906 2253 \n",
       "L 2834 3500 \n",
       "L 3513 3500 \n",
       "z\n",
       "\" transform=\"scale(0.015625)\"/>\n",
       "      </defs>\n",
       "      <use xlink:href=\"#DejaVuSans-78\"/>\n",
       "     </g>\n",
       "    </g>\n",
       "   </g>\n",
       "   <g id=\"matplotlib.axis_2\">\n",
       "    <g id=\"ytick_1\">\n",
       "     <g id=\"line2d_10\">\n",
       "      <defs>\n",
       "       <path id=\"m3fcc205cbc\" d=\"M 0 0 \n",
       "L -3.5 0 \n",
       "\" style=\"stroke: #000000; stroke-width: 0.8\"/>\n",
       "      </defs>\n",
       "      <g>\n",
       "       <use xlink:href=\"#m3fcc205cbc\" x=\"43.78125\" y=\"136.922727\" style=\"stroke: #000000; stroke-width: 0.8\"/>\n",
       "      </g>\n",
       "     </g>\n",
       "     <g id=\"text_11\">\n",
       "      <!-- 0.0 -->\n",
       "      <g transform=\"translate(20.878125 140.721946)scale(0.1 -0.1)\">\n",
       "       <defs>\n",
       "        <path id=\"DejaVuSans-2e\" d=\"M 684 794 \n",
       "L 1344 794 \n",
       "L 1344 0 \n",
       "L 684 0 \n",
       "L 684 794 \n",
       "z\n",
       "\" transform=\"scale(0.015625)\"/>\n",
       "       </defs>\n",
       "       <use xlink:href=\"#DejaVuSans-30\"/>\n",
       "       <use xlink:href=\"#DejaVuSans-2e\" x=\"63.623047\"/>\n",
       "       <use xlink:href=\"#DejaVuSans-30\" x=\"95.410156\"/>\n",
       "      </g>\n",
       "     </g>\n",
       "    </g>\n",
       "    <g id=\"ytick_2\">\n",
       "     <g id=\"line2d_11\">\n",
       "      <g>\n",
       "       <use xlink:href=\"#m3fcc205cbc\" x=\"43.78125\" y=\"112.213636\" style=\"stroke: #000000; stroke-width: 0.8\"/>\n",
       "      </g>\n",
       "     </g>\n",
       "     <g id=\"text_12\">\n",
       "      <!-- 0.2 -->\n",
       "      <g transform=\"translate(20.878125 116.012855)scale(0.1 -0.1)\">\n",
       "       <use xlink:href=\"#DejaVuSans-30\"/>\n",
       "       <use xlink:href=\"#DejaVuSans-2e\" x=\"63.623047\"/>\n",
       "       <use xlink:href=\"#DejaVuSans-32\" x=\"95.410156\"/>\n",
       "      </g>\n",
       "     </g>\n",
       "    </g>\n",
       "    <g id=\"ytick_3\">\n",
       "     <g id=\"line2d_12\">\n",
       "      <g>\n",
       "       <use xlink:href=\"#m3fcc205cbc\" x=\"43.78125\" y=\"87.504545\" style=\"stroke: #000000; stroke-width: 0.8\"/>\n",
       "      </g>\n",
       "     </g>\n",
       "     <g id=\"text_13\">\n",
       "      <!-- 0.4 -->\n",
       "      <g transform=\"translate(20.878125 91.303764)scale(0.1 -0.1)\">\n",
       "       <use xlink:href=\"#DejaVuSans-30\"/>\n",
       "       <use xlink:href=\"#DejaVuSans-2e\" x=\"63.623047\"/>\n",
       "       <use xlink:href=\"#DejaVuSans-34\" x=\"95.410156\"/>\n",
       "      </g>\n",
       "     </g>\n",
       "    </g>\n",
       "    <g id=\"ytick_4\">\n",
       "     <g id=\"line2d_13\">\n",
       "      <g>\n",
       "       <use xlink:href=\"#m3fcc205cbc\" x=\"43.78125\" y=\"62.795455\" style=\"stroke: #000000; stroke-width: 0.8\"/>\n",
       "      </g>\n",
       "     </g>\n",
       "     <g id=\"text_14\">\n",
       "      <!-- 0.6 -->\n",
       "      <g transform=\"translate(20.878125 66.594673)scale(0.1 -0.1)\">\n",
       "       <use xlink:href=\"#DejaVuSans-30\"/>\n",
       "       <use xlink:href=\"#DejaVuSans-2e\" x=\"63.623047\"/>\n",
       "       <use xlink:href=\"#DejaVuSans-36\" x=\"95.410156\"/>\n",
       "      </g>\n",
       "     </g>\n",
       "    </g>\n",
       "    <g id=\"ytick_5\">\n",
       "     <g id=\"line2d_14\">\n",
       "      <g>\n",
       "       <use xlink:href=\"#m3fcc205cbc\" x=\"43.78125\" y=\"38.086364\" style=\"stroke: #000000; stroke-width: 0.8\"/>\n",
       "      </g>\n",
       "     </g>\n",
       "     <g id=\"text_15\">\n",
       "      <!-- 0.8 -->\n",
       "      <g transform=\"translate(20.878125 41.885582)scale(0.1 -0.1)\">\n",
       "       <use xlink:href=\"#DejaVuSans-30\"/>\n",
       "       <use xlink:href=\"#DejaVuSans-2e\" x=\"63.623047\"/>\n",
       "       <use xlink:href=\"#DejaVuSans-38\" x=\"95.410156\"/>\n",
       "      </g>\n",
       "     </g>\n",
       "    </g>\n",
       "    <g id=\"ytick_6\">\n",
       "     <g id=\"line2d_15\">\n",
       "      <g>\n",
       "       <use xlink:href=\"#m3fcc205cbc\" x=\"43.78125\" y=\"13.377273\" style=\"stroke: #000000; stroke-width: 0.8\"/>\n",
       "      </g>\n",
       "     </g>\n",
       "     <g id=\"text_16\">\n",
       "      <!-- 1.0 -->\n",
       "      <g transform=\"translate(20.878125 17.176491)scale(0.1 -0.1)\">\n",
       "       <defs>\n",
       "        <path id=\"DejaVuSans-31\" d=\"M 794 531 \n",
       "L 1825 531 \n",
       "L 1825 4091 \n",
       "L 703 3866 \n",
       "L 703 4441 \n",
       "L 1819 4666 \n",
       "L 2450 4666 \n",
       "L 2450 531 \n",
       "L 3481 531 \n",
       "L 3481 0 \n",
       "L 794 0 \n",
       "L 794 531 \n",
       "z\n",
       "\" transform=\"scale(0.015625)\"/>\n",
       "       </defs>\n",
       "       <use xlink:href=\"#DejaVuSans-31\"/>\n",
       "       <use xlink:href=\"#DejaVuSans-2e\" x=\"63.623047\"/>\n",
       "       <use xlink:href=\"#DejaVuSans-30\" x=\"95.410156\"/>\n",
       "      </g>\n",
       "     </g>\n",
       "    </g>\n",
       "    <g id=\"text_17\">\n",
       "     <!-- grad of relu(x) -->\n",
       "     <g transform=\"translate(14.798438 111.053906)rotate(-90)scale(0.1 -0.1)\">\n",
       "      <defs>\n",
       "       <path id=\"DejaVuSans-67\" d=\"M 2906 1791 \n",
       "Q 2906 2416 2648 2759 \n",
       "Q 2391 3103 1925 3103 \n",
       "Q 1463 3103 1205 2759 \n",
       "Q 947 2416 947 1791 \n",
       "Q 947 1169 1205 825 \n",
       "Q 1463 481 1925 481 \n",
       "Q 2391 481 2648 825 \n",
       "Q 2906 1169 2906 1791 \n",
       "z\n",
       "M 3481 434 \n",
       "Q 3481 -459 3084 -895 \n",
       "Q 2688 -1331 1869 -1331 \n",
       "Q 1566 -1331 1297 -1286 \n",
       "Q 1028 -1241 775 -1147 \n",
       "L 775 -588 \n",
       "Q 1028 -725 1275 -790 \n",
       "Q 1522 -856 1778 -856 \n",
       "Q 2344 -856 2625 -561 \n",
       "Q 2906 -266 2906 331 \n",
       "L 2906 616 \n",
       "Q 2728 306 2450 153 \n",
       "Q 2172 0 1784 0 \n",
       "Q 1141 0 747 490 \n",
       "Q 353 981 353 1791 \n",
       "Q 353 2603 747 3093 \n",
       "Q 1141 3584 1784 3584 \n",
       "Q 2172 3584 2450 3431 \n",
       "Q 2728 3278 2906 2969 \n",
       "L 2906 3500 \n",
       "L 3481 3500 \n",
       "L 3481 434 \n",
       "z\n",
       "\" transform=\"scale(0.015625)\"/>\n",
       "       <path id=\"DejaVuSans-72\" d=\"M 2631 2963 \n",
       "Q 2534 3019 2420 3045 \n",
       "Q 2306 3072 2169 3072 \n",
       "Q 1681 3072 1420 2755 \n",
       "Q 1159 2438 1159 1844 \n",
       "L 1159 0 \n",
       "L 581 0 \n",
       "L 581 3500 \n",
       "L 1159 3500 \n",
       "L 1159 2956 \n",
       "Q 1341 3275 1631 3429 \n",
       "Q 1922 3584 2338 3584 \n",
       "Q 2397 3584 2469 3576 \n",
       "Q 2541 3569 2628 3553 \n",
       "L 2631 2963 \n",
       "z\n",
       "\" transform=\"scale(0.015625)\"/>\n",
       "       <path id=\"DejaVuSans-61\" d=\"M 2194 1759 \n",
       "Q 1497 1759 1228 1600 \n",
       "Q 959 1441 959 1056 \n",
       "Q 959 750 1161 570 \n",
       "Q 1363 391 1709 391 \n",
       "Q 2188 391 2477 730 \n",
       "Q 2766 1069 2766 1631 \n",
       "L 2766 1759 \n",
       "L 2194 1759 \n",
       "z\n",
       "M 3341 1997 \n",
       "L 3341 0 \n",
       "L 2766 0 \n",
       "L 2766 531 \n",
       "Q 2569 213 2275 61 \n",
       "Q 1981 -91 1556 -91 \n",
       "Q 1019 -91 701 211 \n",
       "Q 384 513 384 1019 \n",
       "Q 384 1609 779 1909 \n",
       "Q 1175 2209 1959 2209 \n",
       "L 2766 2209 \n",
       "L 2766 2266 \n",
       "Q 2766 2663 2505 2880 \n",
       "Q 2244 3097 1772 3097 \n",
       "Q 1472 3097 1187 3025 \n",
       "Q 903 2953 641 2809 \n",
       "L 641 3341 \n",
       "Q 956 3463 1253 3523 \n",
       "Q 1550 3584 1831 3584 \n",
       "Q 2591 3584 2966 3190 \n",
       "Q 3341 2797 3341 1997 \n",
       "z\n",
       "\" transform=\"scale(0.015625)\"/>\n",
       "       <path id=\"DejaVuSans-64\" d=\"M 2906 2969 \n",
       "L 2906 4863 \n",
       "L 3481 4863 \n",
       "L 3481 0 \n",
       "L 2906 0 \n",
       "L 2906 525 \n",
       "Q 2725 213 2448 61 \n",
       "Q 2172 -91 1784 -91 \n",
       "Q 1150 -91 751 415 \n",
       "Q 353 922 353 1747 \n",
       "Q 353 2572 751 3078 \n",
       "Q 1150 3584 1784 3584 \n",
       "Q 2172 3584 2448 3432 \n",
       "Q 2725 3281 2906 2969 \n",
       "z\n",
       "M 947 1747 \n",
       "Q 947 1113 1208 752 \n",
       "Q 1469 391 1925 391 \n",
       "Q 2381 391 2643 752 \n",
       "Q 2906 1113 2906 1747 \n",
       "Q 2906 2381 2643 2742 \n",
       "Q 2381 3103 1925 3103 \n",
       "Q 1469 3103 1208 2742 \n",
       "Q 947 2381 947 1747 \n",
       "z\n",
       "\" transform=\"scale(0.015625)\"/>\n",
       "       <path id=\"DejaVuSans-20\" transform=\"scale(0.015625)\"/>\n",
       "       <path id=\"DejaVuSans-6f\" d=\"M 1959 3097 \n",
       "Q 1497 3097 1228 2736 \n",
       "Q 959 2375 959 1747 \n",
       "Q 959 1119 1226 758 \n",
       "Q 1494 397 1959 397 \n",
       "Q 2419 397 2687 759 \n",
       "Q 2956 1122 2956 1747 \n",
       "Q 2956 2369 2687 2733 \n",
       "Q 2419 3097 1959 3097 \n",
       "z\n",
       "M 1959 3584 \n",
       "Q 2709 3584 3137 3096 \n",
       "Q 3566 2609 3566 1747 \n",
       "Q 3566 888 3137 398 \n",
       "Q 2709 -91 1959 -91 \n",
       "Q 1206 -91 779 398 \n",
       "Q 353 888 353 1747 \n",
       "Q 353 2609 779 3096 \n",
       "Q 1206 3584 1959 3584 \n",
       "z\n",
       "\" transform=\"scale(0.015625)\"/>\n",
       "       <path id=\"DejaVuSans-66\" d=\"M 2375 4863 \n",
       "L 2375 4384 \n",
       "L 1825 4384 \n",
       "Q 1516 4384 1395 4259 \n",
       "Q 1275 4134 1275 3809 \n",
       "L 1275 3500 \n",
       "L 2222 3500 \n",
       "L 2222 3053 \n",
       "L 1275 3053 \n",
       "L 1275 0 \n",
       "L 697 0 \n",
       "L 697 3053 \n",
       "L 147 3053 \n",
       "L 147 3500 \n",
       "L 697 3500 \n",
       "L 697 3744 \n",
       "Q 697 4328 969 4595 \n",
       "Q 1241 4863 1831 4863 \n",
       "L 2375 4863 \n",
       "z\n",
       "\" transform=\"scale(0.015625)\"/>\n",
       "       <path id=\"DejaVuSans-65\" d=\"M 3597 1894 \n",
       "L 3597 1613 \n",
       "L 953 1613 \n",
       "Q 991 1019 1311 708 \n",
       "Q 1631 397 2203 397 \n",
       "Q 2534 397 2845 478 \n",
       "Q 3156 559 3463 722 \n",
       "L 3463 178 \n",
       "Q 3153 47 2828 -22 \n",
       "Q 2503 -91 2169 -91 \n",
       "Q 1331 -91 842 396 \n",
       "Q 353 884 353 1716 \n",
       "Q 353 2575 817 3079 \n",
       "Q 1281 3584 2069 3584 \n",
       "Q 2775 3584 3186 3129 \n",
       "Q 3597 2675 3597 1894 \n",
       "z\n",
       "M 3022 2063 \n",
       "Q 3016 2534 2758 2815 \n",
       "Q 2500 3097 2075 3097 \n",
       "Q 1594 3097 1305 2825 \n",
       "Q 1016 2553 972 2059 \n",
       "L 3022 2063 \n",
       "z\n",
       "\" transform=\"scale(0.015625)\"/>\n",
       "       <path id=\"DejaVuSans-6c\" d=\"M 603 4863 \n",
       "L 1178 4863 \n",
       "L 1178 0 \n",
       "L 603 0 \n",
       "L 603 4863 \n",
       "z\n",
       "\" transform=\"scale(0.015625)\"/>\n",
       "       <path id=\"DejaVuSans-75\" d=\"M 544 1381 \n",
       "L 544 3500 \n",
       "L 1119 3500 \n",
       "L 1119 1403 \n",
       "Q 1119 906 1312 657 \n",
       "Q 1506 409 1894 409 \n",
       "Q 2359 409 2629 706 \n",
       "Q 2900 1003 2900 1516 \n",
       "L 2900 3500 \n",
       "L 3475 3500 \n",
       "L 3475 0 \n",
       "L 2900 0 \n",
       "L 2900 538 \n",
       "Q 2691 219 2414 64 \n",
       "Q 2138 -91 1772 -91 \n",
       "Q 1169 -91 856 284 \n",
       "Q 544 659 544 1381 \n",
       "z\n",
       "M 1991 3584 \n",
       "L 1991 3584 \n",
       "z\n",
       "\" transform=\"scale(0.015625)\"/>\n",
       "       <path id=\"DejaVuSans-28\" d=\"M 1984 4856 \n",
       "Q 1566 4138 1362 3434 \n",
       "Q 1159 2731 1159 2009 \n",
       "Q 1159 1288 1364 580 \n",
       "Q 1569 -128 1984 -844 \n",
       "L 1484 -844 \n",
       "Q 1016 -109 783 600 \n",
       "Q 550 1309 550 2009 \n",
       "Q 550 2706 781 3412 \n",
       "Q 1013 4119 1484 4856 \n",
       "L 1984 4856 \n",
       "z\n",
       "\" transform=\"scale(0.015625)\"/>\n",
       "       <path id=\"DejaVuSans-29\" d=\"M 513 4856 \n",
       "L 1013 4856 \n",
       "Q 1481 4119 1714 3412 \n",
       "Q 1947 2706 1947 2009 \n",
       "Q 1947 1309 1714 600 \n",
       "Q 1481 -109 1013 -844 \n",
       "L 513 -844 \n",
       "Q 928 -128 1133 580 \n",
       "Q 1338 1288 1338 2009 \n",
       "Q 1338 2731 1133 3434 \n",
       "Q 928 4138 513 4856 \n",
       "z\n",
       "\" transform=\"scale(0.015625)\"/>\n",
       "      </defs>\n",
       "      <use xlink:href=\"#DejaVuSans-67\"/>\n",
       "      <use xlink:href=\"#DejaVuSans-72\" x=\"63.476562\"/>\n",
       "      <use xlink:href=\"#DejaVuSans-61\" x=\"104.589844\"/>\n",
       "      <use xlink:href=\"#DejaVuSans-64\" x=\"165.869141\"/>\n",
       "      <use xlink:href=\"#DejaVuSans-20\" x=\"229.345703\"/>\n",
       "      <use xlink:href=\"#DejaVuSans-6f\" x=\"261.132812\"/>\n",
       "      <use xlink:href=\"#DejaVuSans-66\" x=\"322.314453\"/>\n",
       "      <use xlink:href=\"#DejaVuSans-20\" x=\"357.519531\"/>\n",
       "      <use xlink:href=\"#DejaVuSans-72\" x=\"389.306641\"/>\n",
       "      <use xlink:href=\"#DejaVuSans-65\" x=\"428.169922\"/>\n",
       "      <use xlink:href=\"#DejaVuSans-6c\" x=\"489.693359\"/>\n",
       "      <use xlink:href=\"#DejaVuSans-75\" x=\"517.476562\"/>\n",
       "      <use xlink:href=\"#DejaVuSans-28\" x=\"580.855469\"/>\n",
       "      <use xlink:href=\"#DejaVuSans-78\" x=\"619.869141\"/>\n",
       "      <use xlink:href=\"#DejaVuSans-29\" x=\"679.048828\"/>\n",
       "     </g>\n",
       "    </g>\n",
       "   </g>\n",
       "   <g id=\"line2d_16\">\n",
       "    <path d=\"M 56.463068 136.922727 \n",
       "L 184.078852 136.922727 \n",
       "L 185.674049 13.377273 \n",
       "L 310.099432 13.377273 \n",
       "L 310.099432 13.377273 \n",
       "\" clip-path=\"url(#pfe0a17528b)\" style=\"fill: none; stroke: #1f77b4; stroke-width: 1.5; stroke-linecap: square\"/>\n",
       "   </g>\n",
       "   <g id=\"patch_3\">\n",
       "    <path d=\"M 43.78125 143.1 \n",
       "L 43.78125 7.2 \n",
       "\" style=\"fill: none; stroke: #000000; stroke-width: 0.8; stroke-linejoin: miter; stroke-linecap: square\"/>\n",
       "   </g>\n",
       "   <g id=\"patch_4\">\n",
       "    <path d=\"M 322.78125 143.1 \n",
       "L 322.78125 7.2 \n",
       "\" style=\"fill: none; stroke: #000000; stroke-width: 0.8; stroke-linejoin: miter; stroke-linecap: square\"/>\n",
       "   </g>\n",
       "   <g id=\"patch_5\">\n",
       "    <path d=\"M 43.78125 143.1 \n",
       "L 322.78125 143.1 \n",
       "\" style=\"fill: none; stroke: #000000; stroke-width: 0.8; stroke-linejoin: miter; stroke-linecap: square\"/>\n",
       "   </g>\n",
       "   <g id=\"patch_6\">\n",
       "    <path d=\"M 43.78125 7.2 \n",
       "L 322.78125 7.2 \n",
       "\" style=\"fill: none; stroke: #000000; stroke-width: 0.8; stroke-linejoin: miter; stroke-linecap: square\"/>\n",
       "   </g>\n",
       "  </g>\n",
       " </g>\n",
       " <defs>\n",
       "  <clipPath id=\"pfe0a17528b\">\n",
       "   <rect x=\"43.78125\" y=\"7.2\" width=\"279\" height=\"135.9\"/>\n",
       "  </clipPath>\n",
       " </defs>\n",
       "</svg>\n"
      ],
      "text/plain": [
       "<Figure size 360x180 with 1 Axes>"
      ]
     },
     "metadata": {
      "needs_background": "light"
     },
     "output_type": "display_data"
    }
   ],
   "source": [
    "#求导数\n",
    "y.sum().backward()\n",
    "xyplot(x,x.grad,'grad of relu')"
   ]
  },
  {
   "cell_type": "markdown",
   "metadata": {},
   "source": [
    "#### sigmoid函数"
   ]
  },
  {
   "cell_type": "code",
   "execution_count": 308,
   "metadata": {},
   "outputs": [
    {
     "data": {
      "image/svg+xml": [
       "<?xml version=\"1.0\" encoding=\"utf-8\" standalone=\"no\"?>\n",
       "<!DOCTYPE svg PUBLIC \"-//W3C//DTD SVG 1.1//EN\"\n",
       "  \"http://www.w3.org/Graphics/SVG/1.1/DTD/svg11.dtd\">\n",
       "<svg xmlns:xlink=\"http://www.w3.org/1999/xlink\" width=\"329.98125pt\" height=\"180.65625pt\" viewBox=\"0 0 329.98125 180.65625\" xmlns=\"http://www.w3.org/2000/svg\" version=\"1.1\">\n",
       " <metadata>\n",
       "  <rdf:RDF xmlns:dc=\"http://purl.org/dc/elements/1.1/\" xmlns:cc=\"http://creativecommons.org/ns#\" xmlns:rdf=\"http://www.w3.org/1999/02/22-rdf-syntax-ns#\">\n",
       "   <cc:Work>\n",
       "    <dc:type rdf:resource=\"http://purl.org/dc/dcmitype/StillImage\"/>\n",
       "    <dc:date>2023-01-05T18:55:48.989896</dc:date>\n",
       "    <dc:format>image/svg+xml</dc:format>\n",
       "    <dc:creator>\n",
       "     <cc:Agent>\n",
       "      <dc:title>Matplotlib v3.5.1, https://matplotlib.org/</dc:title>\n",
       "     </cc:Agent>\n",
       "    </dc:creator>\n",
       "   </cc:Work>\n",
       "  </rdf:RDF>\n",
       " </metadata>\n",
       " <defs>\n",
       "  <style type=\"text/css\">*{stroke-linejoin: round; stroke-linecap: butt}</style>\n",
       " </defs>\n",
       " <g id=\"figure_1\">\n",
       "  <g id=\"patch_1\">\n",
       "   <path d=\"M 0 180.65625 \n",
       "L 329.98125 180.65625 \n",
       "L 329.98125 0 \n",
       "L 0 0 \n",
       "L 0 180.65625 \n",
       "z\n",
       "\" style=\"fill: none\"/>\n",
       "  </g>\n",
       "  <g id=\"axes_1\">\n",
       "   <g id=\"patch_2\">\n",
       "    <path d=\"M 43.78125 143.1 \n",
       "L 322.78125 143.1 \n",
       "L 322.78125 7.2 \n",
       "L 43.78125 7.2 \n",
       "z\n",
       "\" style=\"fill: #ffffff\"/>\n",
       "   </g>\n",
       "   <g id=\"matplotlib.axis_1\">\n",
       "    <g id=\"xtick_1\">\n",
       "     <g id=\"line2d_1\">\n",
       "      <defs>\n",
       "       <path id=\"m95c7f200bf\" d=\"M 0 0 \n",
       "L 0 3.5 \n",
       "\" style=\"stroke: #000000; stroke-width: 0.8\"/>\n",
       "      </defs>\n",
       "      <g>\n",
       "       <use xlink:href=\"#m95c7f200bf\" x=\"56.463068\" y=\"143.1\" style=\"stroke: #000000; stroke-width: 0.8\"/>\n",
       "      </g>\n",
       "     </g>\n",
       "     <g id=\"text_1\">\n",
       "      <!-- −8 -->\n",
       "      <g transform=\"translate(49.091974 157.698438)scale(0.1 -0.1)\">\n",
       "       <defs>\n",
       "        <path id=\"DejaVuSans-2212\" d=\"M 678 2272 \n",
       "L 4684 2272 \n",
       "L 4684 1741 \n",
       "L 678 1741 \n",
       "L 678 2272 \n",
       "z\n",
       "\" transform=\"scale(0.015625)\"/>\n",
       "        <path id=\"DejaVuSans-38\" d=\"M 2034 2216 \n",
       "Q 1584 2216 1326 1975 \n",
       "Q 1069 1734 1069 1313 \n",
       "Q 1069 891 1326 650 \n",
       "Q 1584 409 2034 409 \n",
       "Q 2484 409 2743 651 \n",
       "Q 3003 894 3003 1313 \n",
       "Q 3003 1734 2745 1975 \n",
       "Q 2488 2216 2034 2216 \n",
       "z\n",
       "M 1403 2484 \n",
       "Q 997 2584 770 2862 \n",
       "Q 544 3141 544 3541 \n",
       "Q 544 4100 942 4425 \n",
       "Q 1341 4750 2034 4750 \n",
       "Q 2731 4750 3128 4425 \n",
       "Q 3525 4100 3525 3541 \n",
       "Q 3525 3141 3298 2862 \n",
       "Q 3072 2584 2669 2484 \n",
       "Q 3125 2378 3379 2068 \n",
       "Q 3634 1759 3634 1313 \n",
       "Q 3634 634 3220 271 \n",
       "Q 2806 -91 2034 -91 \n",
       "Q 1263 -91 848 271 \n",
       "Q 434 634 434 1313 \n",
       "Q 434 1759 690 2068 \n",
       "Q 947 2378 1403 2484 \n",
       "z\n",
       "M 1172 3481 \n",
       "Q 1172 3119 1398 2916 \n",
       "Q 1625 2713 2034 2713 \n",
       "Q 2441 2713 2670 2916 \n",
       "Q 2900 3119 2900 3481 \n",
       "Q 2900 3844 2670 4047 \n",
       "Q 2441 4250 2034 4250 \n",
       "Q 1625 4250 1398 4047 \n",
       "Q 1172 3844 1172 3481 \n",
       "z\n",
       "\" transform=\"scale(0.015625)\"/>\n",
       "       </defs>\n",
       "       <use xlink:href=\"#DejaVuSans-2212\"/>\n",
       "       <use xlink:href=\"#DejaVuSans-38\" x=\"83.789062\"/>\n",
       "      </g>\n",
       "     </g>\n",
       "    </g>\n",
       "    <g id=\"xtick_2\">\n",
       "     <g id=\"line2d_2\">\n",
       "      <g>\n",
       "       <use xlink:href=\"#m95c7f200bf\" x=\"88.367014\" y=\"143.1\" style=\"stroke: #000000; stroke-width: 0.8\"/>\n",
       "      </g>\n",
       "     </g>\n",
       "     <g id=\"text_2\">\n",
       "      <!-- −6 -->\n",
       "      <g transform=\"translate(80.99592 157.698438)scale(0.1 -0.1)\">\n",
       "       <defs>\n",
       "        <path id=\"DejaVuSans-36\" d=\"M 2113 2584 \n",
       "Q 1688 2584 1439 2293 \n",
       "Q 1191 2003 1191 1497 \n",
       "Q 1191 994 1439 701 \n",
       "Q 1688 409 2113 409 \n",
       "Q 2538 409 2786 701 \n",
       "Q 3034 994 3034 1497 \n",
       "Q 3034 2003 2786 2293 \n",
       "Q 2538 2584 2113 2584 \n",
       "z\n",
       "M 3366 4563 \n",
       "L 3366 3988 \n",
       "Q 3128 4100 2886 4159 \n",
       "Q 2644 4219 2406 4219 \n",
       "Q 1781 4219 1451 3797 \n",
       "Q 1122 3375 1075 2522 \n",
       "Q 1259 2794 1537 2939 \n",
       "Q 1816 3084 2150 3084 \n",
       "Q 2853 3084 3261 2657 \n",
       "Q 3669 2231 3669 1497 \n",
       "Q 3669 778 3244 343 \n",
       "Q 2819 -91 2113 -91 \n",
       "Q 1303 -91 875 529 \n",
       "Q 447 1150 447 2328 \n",
       "Q 447 3434 972 4092 \n",
       "Q 1497 4750 2381 4750 \n",
       "Q 2619 4750 2861 4703 \n",
       "Q 3103 4656 3366 4563 \n",
       "z\n",
       "\" transform=\"scale(0.015625)\"/>\n",
       "       </defs>\n",
       "       <use xlink:href=\"#DejaVuSans-2212\"/>\n",
       "       <use xlink:href=\"#DejaVuSans-36\" x=\"83.789062\"/>\n",
       "      </g>\n",
       "     </g>\n",
       "    </g>\n",
       "    <g id=\"xtick_3\">\n",
       "     <g id=\"line2d_3\">\n",
       "      <g>\n",
       "       <use xlink:href=\"#m95c7f200bf\" x=\"120.27096\" y=\"143.1\" style=\"stroke: #000000; stroke-width: 0.8\"/>\n",
       "      </g>\n",
       "     </g>\n",
       "     <g id=\"text_3\">\n",
       "      <!-- −4 -->\n",
       "      <g transform=\"translate(112.899866 157.698438)scale(0.1 -0.1)\">\n",
       "       <defs>\n",
       "        <path id=\"DejaVuSans-34\" d=\"M 2419 4116 \n",
       "L 825 1625 \n",
       "L 2419 1625 \n",
       "L 2419 4116 \n",
       "z\n",
       "M 2253 4666 \n",
       "L 3047 4666 \n",
       "L 3047 1625 \n",
       "L 3713 1625 \n",
       "L 3713 1100 \n",
       "L 3047 1100 \n",
       "L 3047 0 \n",
       "L 2419 0 \n",
       "L 2419 1100 \n",
       "L 313 1100 \n",
       "L 313 1709 \n",
       "L 2253 4666 \n",
       "z\n",
       "\" transform=\"scale(0.015625)\"/>\n",
       "       </defs>\n",
       "       <use xlink:href=\"#DejaVuSans-2212\"/>\n",
       "       <use xlink:href=\"#DejaVuSans-34\" x=\"83.789062\"/>\n",
       "      </g>\n",
       "     </g>\n",
       "    </g>\n",
       "    <g id=\"xtick_4\">\n",
       "     <g id=\"line2d_4\">\n",
       "      <g>\n",
       "       <use xlink:href=\"#m95c7f200bf\" x=\"152.174906\" y=\"143.1\" style=\"stroke: #000000; stroke-width: 0.8\"/>\n",
       "      </g>\n",
       "     </g>\n",
       "     <g id=\"text_4\">\n",
       "      <!-- −2 -->\n",
       "      <g transform=\"translate(144.803812 157.698438)scale(0.1 -0.1)\">\n",
       "       <defs>\n",
       "        <path id=\"DejaVuSans-32\" d=\"M 1228 531 \n",
       "L 3431 531 \n",
       "L 3431 0 \n",
       "L 469 0 \n",
       "L 469 531 \n",
       "Q 828 903 1448 1529 \n",
       "Q 2069 2156 2228 2338 \n",
       "Q 2531 2678 2651 2914 \n",
       "Q 2772 3150 2772 3378 \n",
       "Q 2772 3750 2511 3984 \n",
       "Q 2250 4219 1831 4219 \n",
       "Q 1534 4219 1204 4116 \n",
       "Q 875 4013 500 3803 \n",
       "L 500 4441 \n",
       "Q 881 4594 1212 4672 \n",
       "Q 1544 4750 1819 4750 \n",
       "Q 2544 4750 2975 4387 \n",
       "Q 3406 4025 3406 3419 \n",
       "Q 3406 3131 3298 2873 \n",
       "Q 3191 2616 2906 2266 \n",
       "Q 2828 2175 2409 1742 \n",
       "Q 1991 1309 1228 531 \n",
       "z\n",
       "\" transform=\"scale(0.015625)\"/>\n",
       "       </defs>\n",
       "       <use xlink:href=\"#DejaVuSans-2212\"/>\n",
       "       <use xlink:href=\"#DejaVuSans-32\" x=\"83.789062\"/>\n",
       "      </g>\n",
       "     </g>\n",
       "    </g>\n",
       "    <g id=\"xtick_5\">\n",
       "     <g id=\"line2d_5\">\n",
       "      <g>\n",
       "       <use xlink:href=\"#m95c7f200bf\" x=\"184.078852\" y=\"143.1\" style=\"stroke: #000000; stroke-width: 0.8\"/>\n",
       "      </g>\n",
       "     </g>\n",
       "     <g id=\"text_5\">\n",
       "      <!-- 0 -->\n",
       "      <g transform=\"translate(180.897602 157.698438)scale(0.1 -0.1)\">\n",
       "       <defs>\n",
       "        <path id=\"DejaVuSans-30\" d=\"M 2034 4250 \n",
       "Q 1547 4250 1301 3770 \n",
       "Q 1056 3291 1056 2328 \n",
       "Q 1056 1369 1301 889 \n",
       "Q 1547 409 2034 409 \n",
       "Q 2525 409 2770 889 \n",
       "Q 3016 1369 3016 2328 \n",
       "Q 3016 3291 2770 3770 \n",
       "Q 2525 4250 2034 4250 \n",
       "z\n",
       "M 2034 4750 \n",
       "Q 2819 4750 3233 4129 \n",
       "Q 3647 3509 3647 2328 \n",
       "Q 3647 1150 3233 529 \n",
       "Q 2819 -91 2034 -91 \n",
       "Q 1250 -91 836 529 \n",
       "Q 422 1150 422 2328 \n",
       "Q 422 3509 836 4129 \n",
       "Q 1250 4750 2034 4750 \n",
       "z\n",
       "\" transform=\"scale(0.015625)\"/>\n",
       "       </defs>\n",
       "       <use xlink:href=\"#DejaVuSans-30\"/>\n",
       "      </g>\n",
       "     </g>\n",
       "    </g>\n",
       "    <g id=\"xtick_6\">\n",
       "     <g id=\"line2d_6\">\n",
       "      <g>\n",
       "       <use xlink:href=\"#m95c7f200bf\" x=\"215.982798\" y=\"143.1\" style=\"stroke: #000000; stroke-width: 0.8\"/>\n",
       "      </g>\n",
       "     </g>\n",
       "     <g id=\"text_6\">\n",
       "      <!-- 2 -->\n",
       "      <g transform=\"translate(212.801548 157.698438)scale(0.1 -0.1)\">\n",
       "       <use xlink:href=\"#DejaVuSans-32\"/>\n",
       "      </g>\n",
       "     </g>\n",
       "    </g>\n",
       "    <g id=\"xtick_7\">\n",
       "     <g id=\"line2d_7\">\n",
       "      <g>\n",
       "       <use xlink:href=\"#m95c7f200bf\" x=\"247.886743\" y=\"143.1\" style=\"stroke: #000000; stroke-width: 0.8\"/>\n",
       "      </g>\n",
       "     </g>\n",
       "     <g id=\"text_7\">\n",
       "      <!-- 4 -->\n",
       "      <g transform=\"translate(244.705493 157.698438)scale(0.1 -0.1)\">\n",
       "       <use xlink:href=\"#DejaVuSans-34\"/>\n",
       "      </g>\n",
       "     </g>\n",
       "    </g>\n",
       "    <g id=\"xtick_8\">\n",
       "     <g id=\"line2d_8\">\n",
       "      <g>\n",
       "       <use xlink:href=\"#m95c7f200bf\" x=\"279.790689\" y=\"143.1\" style=\"stroke: #000000; stroke-width: 0.8\"/>\n",
       "      </g>\n",
       "     </g>\n",
       "     <g id=\"text_8\">\n",
       "      <!-- 6 -->\n",
       "      <g transform=\"translate(276.609439 157.698438)scale(0.1 -0.1)\">\n",
       "       <use xlink:href=\"#DejaVuSans-36\"/>\n",
       "      </g>\n",
       "     </g>\n",
       "    </g>\n",
       "    <g id=\"xtick_9\">\n",
       "     <g id=\"line2d_9\">\n",
       "      <g>\n",
       "       <use xlink:href=\"#m95c7f200bf\" x=\"311.694635\" y=\"143.1\" style=\"stroke: #000000; stroke-width: 0.8\"/>\n",
       "      </g>\n",
       "     </g>\n",
       "     <g id=\"text_9\">\n",
       "      <!-- 8 -->\n",
       "      <g transform=\"translate(308.513385 157.698438)scale(0.1 -0.1)\">\n",
       "       <use xlink:href=\"#DejaVuSans-38\"/>\n",
       "      </g>\n",
       "     </g>\n",
       "    </g>\n",
       "    <g id=\"text_10\">\n",
       "     <!-- x -->\n",
       "     <g transform=\"translate(180.321875 171.376563)scale(0.1 -0.1)\">\n",
       "      <defs>\n",
       "       <path id=\"DejaVuSans-78\" d=\"M 3513 3500 \n",
       "L 2247 1797 \n",
       "L 3578 0 \n",
       "L 2900 0 \n",
       "L 1881 1375 \n",
       "L 863 0 \n",
       "L 184 0 \n",
       "L 1544 1831 \n",
       "L 300 3500 \n",
       "L 978 3500 \n",
       "L 1906 2253 \n",
       "L 2834 3500 \n",
       "L 3513 3500 \n",
       "z\n",
       "\" transform=\"scale(0.015625)\"/>\n",
       "      </defs>\n",
       "      <use xlink:href=\"#DejaVuSans-78\"/>\n",
       "     </g>\n",
       "    </g>\n",
       "   </g>\n",
       "   <g id=\"matplotlib.axis_2\">\n",
       "    <g id=\"ytick_1\">\n",
       "     <g id=\"line2d_10\">\n",
       "      <defs>\n",
       "       <path id=\"m07af2243ef\" d=\"M 0 0 \n",
       "L -3.5 0 \n",
       "\" style=\"stroke: #000000; stroke-width: 0.8\"/>\n",
       "      </defs>\n",
       "      <g>\n",
       "       <use xlink:href=\"#m07af2243ef\" x=\"43.78125\" y=\"136.964188\" style=\"stroke: #000000; stroke-width: 0.8\"/>\n",
       "      </g>\n",
       "     </g>\n",
       "     <g id=\"text_11\">\n",
       "      <!-- 0.0 -->\n",
       "      <g transform=\"translate(20.878125 140.763406)scale(0.1 -0.1)\">\n",
       "       <defs>\n",
       "        <path id=\"DejaVuSans-2e\" d=\"M 684 794 \n",
       "L 1344 794 \n",
       "L 1344 0 \n",
       "L 684 0 \n",
       "L 684 794 \n",
       "z\n",
       "\" transform=\"scale(0.015625)\"/>\n",
       "       </defs>\n",
       "       <use xlink:href=\"#DejaVuSans-30\"/>\n",
       "       <use xlink:href=\"#DejaVuSans-2e\" x=\"63.623047\"/>\n",
       "       <use xlink:href=\"#DejaVuSans-30\" x=\"95.410156\"/>\n",
       "      </g>\n",
       "     </g>\n",
       "    </g>\n",
       "    <g id=\"ytick_2\">\n",
       "     <g id=\"line2d_11\">\n",
       "      <g>\n",
       "       <use xlink:href=\"#m07af2243ef\" x=\"43.78125\" y=\"112.23764\" style=\"stroke: #000000; stroke-width: 0.8\"/>\n",
       "      </g>\n",
       "     </g>\n",
       "     <g id=\"text_12\">\n",
       "      <!-- 0.2 -->\n",
       "      <g transform=\"translate(20.878125 116.036859)scale(0.1 -0.1)\">\n",
       "       <use xlink:href=\"#DejaVuSans-30\"/>\n",
       "       <use xlink:href=\"#DejaVuSans-2e\" x=\"63.623047\"/>\n",
       "       <use xlink:href=\"#DejaVuSans-32\" x=\"95.410156\"/>\n",
       "      </g>\n",
       "     </g>\n",
       "    </g>\n",
       "    <g id=\"ytick_3\">\n",
       "     <g id=\"line2d_12\">\n",
       "      <g>\n",
       "       <use xlink:href=\"#m07af2243ef\" x=\"43.78125\" y=\"87.511093\" style=\"stroke: #000000; stroke-width: 0.8\"/>\n",
       "      </g>\n",
       "     </g>\n",
       "     <g id=\"text_13\">\n",
       "      <!-- 0.4 -->\n",
       "      <g transform=\"translate(20.878125 91.310312)scale(0.1 -0.1)\">\n",
       "       <use xlink:href=\"#DejaVuSans-30\"/>\n",
       "       <use xlink:href=\"#DejaVuSans-2e\" x=\"63.623047\"/>\n",
       "       <use xlink:href=\"#DejaVuSans-34\" x=\"95.410156\"/>\n",
       "      </g>\n",
       "     </g>\n",
       "    </g>\n",
       "    <g id=\"ytick_4\">\n",
       "     <g id=\"line2d_13\">\n",
       "      <g>\n",
       "       <use xlink:href=\"#m07af2243ef\" x=\"43.78125\" y=\"62.784546\" style=\"stroke: #000000; stroke-width: 0.8\"/>\n",
       "      </g>\n",
       "     </g>\n",
       "     <g id=\"text_14\">\n",
       "      <!-- 0.6 -->\n",
       "      <g transform=\"translate(20.878125 66.583765)scale(0.1 -0.1)\">\n",
       "       <use xlink:href=\"#DejaVuSans-30\"/>\n",
       "       <use xlink:href=\"#DejaVuSans-2e\" x=\"63.623047\"/>\n",
       "       <use xlink:href=\"#DejaVuSans-36\" x=\"95.410156\"/>\n",
       "      </g>\n",
       "     </g>\n",
       "    </g>\n",
       "    <g id=\"ytick_5\">\n",
       "     <g id=\"line2d_14\">\n",
       "      <g>\n",
       "       <use xlink:href=\"#m07af2243ef\" x=\"43.78125\" y=\"38.057999\" style=\"stroke: #000000; stroke-width: 0.8\"/>\n",
       "      </g>\n",
       "     </g>\n",
       "     <g id=\"text_15\">\n",
       "      <!-- 0.8 -->\n",
       "      <g transform=\"translate(20.878125 41.857218)scale(0.1 -0.1)\">\n",
       "       <use xlink:href=\"#DejaVuSans-30\"/>\n",
       "       <use xlink:href=\"#DejaVuSans-2e\" x=\"63.623047\"/>\n",
       "       <use xlink:href=\"#DejaVuSans-38\" x=\"95.410156\"/>\n",
       "      </g>\n",
       "     </g>\n",
       "    </g>\n",
       "    <g id=\"ytick_6\">\n",
       "     <g id=\"line2d_15\">\n",
       "      <g>\n",
       "       <use xlink:href=\"#m07af2243ef\" x=\"43.78125\" y=\"13.331452\" style=\"stroke: #000000; stroke-width: 0.8\"/>\n",
       "      </g>\n",
       "     </g>\n",
       "     <g id=\"text_16\">\n",
       "      <!-- 1.0 -->\n",
       "      <g transform=\"translate(20.878125 17.130671)scale(0.1 -0.1)\">\n",
       "       <defs>\n",
       "        <path id=\"DejaVuSans-31\" d=\"M 794 531 \n",
       "L 1825 531 \n",
       "L 1825 4091 \n",
       "L 703 3866 \n",
       "L 703 4441 \n",
       "L 1819 4666 \n",
       "L 2450 4666 \n",
       "L 2450 531 \n",
       "L 3481 531 \n",
       "L 3481 0 \n",
       "L 794 0 \n",
       "L 794 531 \n",
       "z\n",
       "\" transform=\"scale(0.015625)\"/>\n",
       "       </defs>\n",
       "       <use xlink:href=\"#DejaVuSans-31\"/>\n",
       "       <use xlink:href=\"#DejaVuSans-2e\" x=\"63.623047\"/>\n",
       "       <use xlink:href=\"#DejaVuSans-30\" x=\"95.410156\"/>\n",
       "      </g>\n",
       "     </g>\n",
       "    </g>\n",
       "    <g id=\"text_17\">\n",
       "     <!-- sigmoid(x) -->\n",
       "     <g transform=\"translate(14.798438 101.671875)rotate(-90)scale(0.1 -0.1)\">\n",
       "      <defs>\n",
       "       <path id=\"DejaVuSans-73\" d=\"M 2834 3397 \n",
       "L 2834 2853 \n",
       "Q 2591 2978 2328 3040 \n",
       "Q 2066 3103 1784 3103 \n",
       "Q 1356 3103 1142 2972 \n",
       "Q 928 2841 928 2578 \n",
       "Q 928 2378 1081 2264 \n",
       "Q 1234 2150 1697 2047 \n",
       "L 1894 2003 \n",
       "Q 2506 1872 2764 1633 \n",
       "Q 3022 1394 3022 966 \n",
       "Q 3022 478 2636 193 \n",
       "Q 2250 -91 1575 -91 \n",
       "Q 1294 -91 989 -36 \n",
       "Q 684 19 347 128 \n",
       "L 347 722 \n",
       "Q 666 556 975 473 \n",
       "Q 1284 391 1588 391 \n",
       "Q 1994 391 2212 530 \n",
       "Q 2431 669 2431 922 \n",
       "Q 2431 1156 2273 1281 \n",
       "Q 2116 1406 1581 1522 \n",
       "L 1381 1569 \n",
       "Q 847 1681 609 1914 \n",
       "Q 372 2147 372 2553 \n",
       "Q 372 3047 722 3315 \n",
       "Q 1072 3584 1716 3584 \n",
       "Q 2034 3584 2315 3537 \n",
       "Q 2597 3491 2834 3397 \n",
       "z\n",
       "\" transform=\"scale(0.015625)\"/>\n",
       "       <path id=\"DejaVuSans-69\" d=\"M 603 3500 \n",
       "L 1178 3500 \n",
       "L 1178 0 \n",
       "L 603 0 \n",
       "L 603 3500 \n",
       "z\n",
       "M 603 4863 \n",
       "L 1178 4863 \n",
       "L 1178 4134 \n",
       "L 603 4134 \n",
       "L 603 4863 \n",
       "z\n",
       "\" transform=\"scale(0.015625)\"/>\n",
       "       <path id=\"DejaVuSans-67\" d=\"M 2906 1791 \n",
       "Q 2906 2416 2648 2759 \n",
       "Q 2391 3103 1925 3103 \n",
       "Q 1463 3103 1205 2759 \n",
       "Q 947 2416 947 1791 \n",
       "Q 947 1169 1205 825 \n",
       "Q 1463 481 1925 481 \n",
       "Q 2391 481 2648 825 \n",
       "Q 2906 1169 2906 1791 \n",
       "z\n",
       "M 3481 434 \n",
       "Q 3481 -459 3084 -895 \n",
       "Q 2688 -1331 1869 -1331 \n",
       "Q 1566 -1331 1297 -1286 \n",
       "Q 1028 -1241 775 -1147 \n",
       "L 775 -588 \n",
       "Q 1028 -725 1275 -790 \n",
       "Q 1522 -856 1778 -856 \n",
       "Q 2344 -856 2625 -561 \n",
       "Q 2906 -266 2906 331 \n",
       "L 2906 616 \n",
       "Q 2728 306 2450 153 \n",
       "Q 2172 0 1784 0 \n",
       "Q 1141 0 747 490 \n",
       "Q 353 981 353 1791 \n",
       "Q 353 2603 747 3093 \n",
       "Q 1141 3584 1784 3584 \n",
       "Q 2172 3584 2450 3431 \n",
       "Q 2728 3278 2906 2969 \n",
       "L 2906 3500 \n",
       "L 3481 3500 \n",
       "L 3481 434 \n",
       "z\n",
       "\" transform=\"scale(0.015625)\"/>\n",
       "       <path id=\"DejaVuSans-6d\" d=\"M 3328 2828 \n",
       "Q 3544 3216 3844 3400 \n",
       "Q 4144 3584 4550 3584 \n",
       "Q 5097 3584 5394 3201 \n",
       "Q 5691 2819 5691 2113 \n",
       "L 5691 0 \n",
       "L 5113 0 \n",
       "L 5113 2094 \n",
       "Q 5113 2597 4934 2840 \n",
       "Q 4756 3084 4391 3084 \n",
       "Q 3944 3084 3684 2787 \n",
       "Q 3425 2491 3425 1978 \n",
       "L 3425 0 \n",
       "L 2847 0 \n",
       "L 2847 2094 \n",
       "Q 2847 2600 2669 2842 \n",
       "Q 2491 3084 2119 3084 \n",
       "Q 1678 3084 1418 2786 \n",
       "Q 1159 2488 1159 1978 \n",
       "L 1159 0 \n",
       "L 581 0 \n",
       "L 581 3500 \n",
       "L 1159 3500 \n",
       "L 1159 2956 \n",
       "Q 1356 3278 1631 3431 \n",
       "Q 1906 3584 2284 3584 \n",
       "Q 2666 3584 2933 3390 \n",
       "Q 3200 3197 3328 2828 \n",
       "z\n",
       "\" transform=\"scale(0.015625)\"/>\n",
       "       <path id=\"DejaVuSans-6f\" d=\"M 1959 3097 \n",
       "Q 1497 3097 1228 2736 \n",
       "Q 959 2375 959 1747 \n",
       "Q 959 1119 1226 758 \n",
       "Q 1494 397 1959 397 \n",
       "Q 2419 397 2687 759 \n",
       "Q 2956 1122 2956 1747 \n",
       "Q 2956 2369 2687 2733 \n",
       "Q 2419 3097 1959 3097 \n",
       "z\n",
       "M 1959 3584 \n",
       "Q 2709 3584 3137 3096 \n",
       "Q 3566 2609 3566 1747 \n",
       "Q 3566 888 3137 398 \n",
       "Q 2709 -91 1959 -91 \n",
       "Q 1206 -91 779 398 \n",
       "Q 353 888 353 1747 \n",
       "Q 353 2609 779 3096 \n",
       "Q 1206 3584 1959 3584 \n",
       "z\n",
       "\" transform=\"scale(0.015625)\"/>\n",
       "       <path id=\"DejaVuSans-64\" d=\"M 2906 2969 \n",
       "L 2906 4863 \n",
       "L 3481 4863 \n",
       "L 3481 0 \n",
       "L 2906 0 \n",
       "L 2906 525 \n",
       "Q 2725 213 2448 61 \n",
       "Q 2172 -91 1784 -91 \n",
       "Q 1150 -91 751 415 \n",
       "Q 353 922 353 1747 \n",
       "Q 353 2572 751 3078 \n",
       "Q 1150 3584 1784 3584 \n",
       "Q 2172 3584 2448 3432 \n",
       "Q 2725 3281 2906 2969 \n",
       "z\n",
       "M 947 1747 \n",
       "Q 947 1113 1208 752 \n",
       "Q 1469 391 1925 391 \n",
       "Q 2381 391 2643 752 \n",
       "Q 2906 1113 2906 1747 \n",
       "Q 2906 2381 2643 2742 \n",
       "Q 2381 3103 1925 3103 \n",
       "Q 1469 3103 1208 2742 \n",
       "Q 947 2381 947 1747 \n",
       "z\n",
       "\" transform=\"scale(0.015625)\"/>\n",
       "       <path id=\"DejaVuSans-28\" d=\"M 1984 4856 \n",
       "Q 1566 4138 1362 3434 \n",
       "Q 1159 2731 1159 2009 \n",
       "Q 1159 1288 1364 580 \n",
       "Q 1569 -128 1984 -844 \n",
       "L 1484 -844 \n",
       "Q 1016 -109 783 600 \n",
       "Q 550 1309 550 2009 \n",
       "Q 550 2706 781 3412 \n",
       "Q 1013 4119 1484 4856 \n",
       "L 1984 4856 \n",
       "z\n",
       "\" transform=\"scale(0.015625)\"/>\n",
       "       <path id=\"DejaVuSans-29\" d=\"M 513 4856 \n",
       "L 1013 4856 \n",
       "Q 1481 4119 1714 3412 \n",
       "Q 1947 2706 1947 2009 \n",
       "Q 1947 1309 1714 600 \n",
       "Q 1481 -109 1013 -844 \n",
       "L 513 -844 \n",
       "Q 928 -128 1133 580 \n",
       "Q 1338 1288 1338 2009 \n",
       "Q 1338 2731 1133 3434 \n",
       "Q 928 4138 513 4856 \n",
       "z\n",
       "\" transform=\"scale(0.015625)\"/>\n",
       "      </defs>\n",
       "      <use xlink:href=\"#DejaVuSans-73\"/>\n",
       "      <use xlink:href=\"#DejaVuSans-69\" x=\"52.099609\"/>\n",
       "      <use xlink:href=\"#DejaVuSans-67\" x=\"79.882812\"/>\n",
       "      <use xlink:href=\"#DejaVuSans-6d\" x=\"143.359375\"/>\n",
       "      <use xlink:href=\"#DejaVuSans-6f\" x=\"240.771484\"/>\n",
       "      <use xlink:href=\"#DejaVuSans-69\" x=\"301.953125\"/>\n",
       "      <use xlink:href=\"#DejaVuSans-64\" x=\"329.736328\"/>\n",
       "      <use xlink:href=\"#DejaVuSans-28\" x=\"393.212891\"/>\n",
       "      <use xlink:href=\"#DejaVuSans-78\" x=\"432.226562\"/>\n",
       "      <use xlink:href=\"#DejaVuSans-29\" x=\"491.40625\"/>\n",
       "     </g>\n",
       "    </g>\n",
       "   </g>\n",
       "   <g id=\"line2d_16\">\n",
       "    <path d=\"M 56.463068 136.922727 \n",
       "L 83.581419 136.737576 \n",
       "L 96.343001 136.460985 \n",
       "L 105.914183 136.050351 \n",
       "L 113.890169 135.464716 \n",
       "L 120.27096 134.740503 \n",
       "L 125.056551 133.981298 \n",
       "L 129.842142 132.971411 \n",
       "L 133.032538 132.122022 \n",
       "L 136.222933 131.100797 \n",
       "L 139.413328 129.877043 \n",
       "L 142.60372 128.416417 \n",
       "L 145.794115 126.68132 \n",
       "L 148.98451 124.631763 \n",
       "L 152.174906 122.226805 \n",
       "L 155.365299 119.426754 \n",
       "L 158.555695 116.196162 \n",
       "L 161.74609 112.507641 \n",
       "L 164.936483 108.346273 \n",
       "L 168.126879 103.714222 \n",
       "L 171.317273 98.634885 \n",
       "L 174.507668 93.155705 \n",
       "L 179.29326 84.35135 \n",
       "L 193.650036 57.139934 \n",
       "L 196.84043 51.660754 \n",
       "L 200.030825 46.581413 \n",
       "L 203.22122 41.949361 \n",
       "L 206.411613 37.787994 \n",
       "L 209.602009 34.09948 \n",
       "L 212.792404 30.868895 \n",
       "L 215.982798 28.068841 \n",
       "L 219.173193 25.663874 \n",
       "L 222.363588 23.614318 \n",
       "L 225.553984 21.879222 \n",
       "L 228.744379 20.418596 \n",
       "L 231.934771 19.194841 \n",
       "L 235.125166 18.173619 \n",
       "L 239.910757 16.955406 \n",
       "L 244.696348 16.036702 \n",
       "L 249.481939 15.346978 \n",
       "L 255.86273 14.689795 \n",
       "L 263.838716 14.158904 \n",
       "L 273.409899 13.786942 \n",
       "L 286.17148 13.536533 \n",
       "L 306.90904 13.38742 \n",
       "L 310.099432 13.377273 \n",
       "L 310.099432 13.377273 \n",
       "\" clip-path=\"url(#p6f502cd4c4)\" style=\"fill: none; stroke: #1f77b4; stroke-width: 1.5; stroke-linecap: square\"/>\n",
       "   </g>\n",
       "   <g id=\"patch_3\">\n",
       "    <path d=\"M 43.78125 143.1 \n",
       "L 43.78125 7.2 \n",
       "\" style=\"fill: none; stroke: #000000; stroke-width: 0.8; stroke-linejoin: miter; stroke-linecap: square\"/>\n",
       "   </g>\n",
       "   <g id=\"patch_4\">\n",
       "    <path d=\"M 322.78125 143.1 \n",
       "L 322.78125 7.2 \n",
       "\" style=\"fill: none; stroke: #000000; stroke-width: 0.8; stroke-linejoin: miter; stroke-linecap: square\"/>\n",
       "   </g>\n",
       "   <g id=\"patch_5\">\n",
       "    <path d=\"M 43.78125 143.1 \n",
       "L 322.78125 143.1 \n",
       "\" style=\"fill: none; stroke: #000000; stroke-width: 0.8; stroke-linejoin: miter; stroke-linecap: square\"/>\n",
       "   </g>\n",
       "   <g id=\"patch_6\">\n",
       "    <path d=\"M 43.78125 7.2 \n",
       "L 322.78125 7.2 \n",
       "\" style=\"fill: none; stroke: #000000; stroke-width: 0.8; stroke-linejoin: miter; stroke-linecap: square\"/>\n",
       "   </g>\n",
       "  </g>\n",
       " </g>\n",
       " <defs>\n",
       "  <clipPath id=\"p6f502cd4c4\">\n",
       "   <rect x=\"43.78125\" y=\"7.2\" width=\"279\" height=\"135.9\"/>\n",
       "  </clipPath>\n",
       " </defs>\n",
       "</svg>\n"
      ],
      "text/plain": [
       "<Figure size 360x180 with 1 Axes>"
      ]
     },
     "metadata": {
      "needs_background": "light"
     },
     "output_type": "display_data"
    }
   ],
   "source": [
    "y = x.sigmoid()\n",
    "xyplot(x,y,'sigmoid')"
   ]
  },
  {
   "cell_type": "code",
   "execution_count": 309,
   "metadata": {},
   "outputs": [
    {
     "data": {
      "image/svg+xml": [
       "<?xml version=\"1.0\" encoding=\"utf-8\" standalone=\"no\"?>\n",
       "<!DOCTYPE svg PUBLIC \"-//W3C//DTD SVG 1.1//EN\"\n",
       "  \"http://www.w3.org/Graphics/SVG/1.1/DTD/svg11.dtd\">\n",
       "<svg xmlns:xlink=\"http://www.w3.org/1999/xlink\" width=\"336.34375pt\" height=\"180.65625pt\" viewBox=\"0 0 336.34375 180.65625\" xmlns=\"http://www.w3.org/2000/svg\" version=\"1.1\">\n",
       " <metadata>\n",
       "  <rdf:RDF xmlns:dc=\"http://purl.org/dc/elements/1.1/\" xmlns:cc=\"http://creativecommons.org/ns#\" xmlns:rdf=\"http://www.w3.org/1999/02/22-rdf-syntax-ns#\">\n",
       "   <cc:Work>\n",
       "    <dc:type rdf:resource=\"http://purl.org/dc/dcmitype/StillImage\"/>\n",
       "    <dc:date>2023-01-05T18:55:49.124314</dc:date>\n",
       "    <dc:format>image/svg+xml</dc:format>\n",
       "    <dc:creator>\n",
       "     <cc:Agent>\n",
       "      <dc:title>Matplotlib v3.5.1, https://matplotlib.org/</dc:title>\n",
       "     </cc:Agent>\n",
       "    </dc:creator>\n",
       "   </cc:Work>\n",
       "  </rdf:RDF>\n",
       " </metadata>\n",
       " <defs>\n",
       "  <style type=\"text/css\">*{stroke-linejoin: round; stroke-linecap: butt}</style>\n",
       " </defs>\n",
       " <g id=\"figure_1\">\n",
       "  <g id=\"patch_1\">\n",
       "   <path d=\"M 0 180.65625 \n",
       "L 336.34375 180.65625 \n",
       "L 336.34375 0 \n",
       "L 0 0 \n",
       "L 0 180.65625 \n",
       "z\n",
       "\" style=\"fill: none\"/>\n",
       "  </g>\n",
       "  <g id=\"axes_1\">\n",
       "   <g id=\"patch_2\">\n",
       "    <path d=\"M 50.14375 143.1 \n",
       "L 329.14375 143.1 \n",
       "L 329.14375 7.2 \n",
       "L 50.14375 7.2 \n",
       "z\n",
       "\" style=\"fill: #ffffff\"/>\n",
       "   </g>\n",
       "   <g id=\"matplotlib.axis_1\">\n",
       "    <g id=\"xtick_1\">\n",
       "     <g id=\"line2d_1\">\n",
       "      <defs>\n",
       "       <path id=\"m77e42c7b7f\" d=\"M 0 0 \n",
       "L 0 3.5 \n",
       "\" style=\"stroke: #000000; stroke-width: 0.8\"/>\n",
       "      </defs>\n",
       "      <g>\n",
       "       <use xlink:href=\"#m77e42c7b7f\" x=\"62.825568\" y=\"143.1\" style=\"stroke: #000000; stroke-width: 0.8\"/>\n",
       "      </g>\n",
       "     </g>\n",
       "     <g id=\"text_1\">\n",
       "      <!-- −8 -->\n",
       "      <g transform=\"translate(55.454474 157.698438)scale(0.1 -0.1)\">\n",
       "       <defs>\n",
       "        <path id=\"DejaVuSans-2212\" d=\"M 678 2272 \n",
       "L 4684 2272 \n",
       "L 4684 1741 \n",
       "L 678 1741 \n",
       "L 678 2272 \n",
       "z\n",
       "\" transform=\"scale(0.015625)\"/>\n",
       "        <path id=\"DejaVuSans-38\" d=\"M 2034 2216 \n",
       "Q 1584 2216 1326 1975 \n",
       "Q 1069 1734 1069 1313 \n",
       "Q 1069 891 1326 650 \n",
       "Q 1584 409 2034 409 \n",
       "Q 2484 409 2743 651 \n",
       "Q 3003 894 3003 1313 \n",
       "Q 3003 1734 2745 1975 \n",
       "Q 2488 2216 2034 2216 \n",
       "z\n",
       "M 1403 2484 \n",
       "Q 997 2584 770 2862 \n",
       "Q 544 3141 544 3541 \n",
       "Q 544 4100 942 4425 \n",
       "Q 1341 4750 2034 4750 \n",
       "Q 2731 4750 3128 4425 \n",
       "Q 3525 4100 3525 3541 \n",
       "Q 3525 3141 3298 2862 \n",
       "Q 3072 2584 2669 2484 \n",
       "Q 3125 2378 3379 2068 \n",
       "Q 3634 1759 3634 1313 \n",
       "Q 3634 634 3220 271 \n",
       "Q 2806 -91 2034 -91 \n",
       "Q 1263 -91 848 271 \n",
       "Q 434 634 434 1313 \n",
       "Q 434 1759 690 2068 \n",
       "Q 947 2378 1403 2484 \n",
       "z\n",
       "M 1172 3481 \n",
       "Q 1172 3119 1398 2916 \n",
       "Q 1625 2713 2034 2713 \n",
       "Q 2441 2713 2670 2916 \n",
       "Q 2900 3119 2900 3481 \n",
       "Q 2900 3844 2670 4047 \n",
       "Q 2441 4250 2034 4250 \n",
       "Q 1625 4250 1398 4047 \n",
       "Q 1172 3844 1172 3481 \n",
       "z\n",
       "\" transform=\"scale(0.015625)\"/>\n",
       "       </defs>\n",
       "       <use xlink:href=\"#DejaVuSans-2212\"/>\n",
       "       <use xlink:href=\"#DejaVuSans-38\" x=\"83.789062\"/>\n",
       "      </g>\n",
       "     </g>\n",
       "    </g>\n",
       "    <g id=\"xtick_2\">\n",
       "     <g id=\"line2d_2\">\n",
       "      <g>\n",
       "       <use xlink:href=\"#m77e42c7b7f\" x=\"94.729514\" y=\"143.1\" style=\"stroke: #000000; stroke-width: 0.8\"/>\n",
       "      </g>\n",
       "     </g>\n",
       "     <g id=\"text_2\">\n",
       "      <!-- −6 -->\n",
       "      <g transform=\"translate(87.35842 157.698438)scale(0.1 -0.1)\">\n",
       "       <defs>\n",
       "        <path id=\"DejaVuSans-36\" d=\"M 2113 2584 \n",
       "Q 1688 2584 1439 2293 \n",
       "Q 1191 2003 1191 1497 \n",
       "Q 1191 994 1439 701 \n",
       "Q 1688 409 2113 409 \n",
       "Q 2538 409 2786 701 \n",
       "Q 3034 994 3034 1497 \n",
       "Q 3034 2003 2786 2293 \n",
       "Q 2538 2584 2113 2584 \n",
       "z\n",
       "M 3366 4563 \n",
       "L 3366 3988 \n",
       "Q 3128 4100 2886 4159 \n",
       "Q 2644 4219 2406 4219 \n",
       "Q 1781 4219 1451 3797 \n",
       "Q 1122 3375 1075 2522 \n",
       "Q 1259 2794 1537 2939 \n",
       "Q 1816 3084 2150 3084 \n",
       "Q 2853 3084 3261 2657 \n",
       "Q 3669 2231 3669 1497 \n",
       "Q 3669 778 3244 343 \n",
       "Q 2819 -91 2113 -91 \n",
       "Q 1303 -91 875 529 \n",
       "Q 447 1150 447 2328 \n",
       "Q 447 3434 972 4092 \n",
       "Q 1497 4750 2381 4750 \n",
       "Q 2619 4750 2861 4703 \n",
       "Q 3103 4656 3366 4563 \n",
       "z\n",
       "\" transform=\"scale(0.015625)\"/>\n",
       "       </defs>\n",
       "       <use xlink:href=\"#DejaVuSans-2212\"/>\n",
       "       <use xlink:href=\"#DejaVuSans-36\" x=\"83.789062\"/>\n",
       "      </g>\n",
       "     </g>\n",
       "    </g>\n",
       "    <g id=\"xtick_3\">\n",
       "     <g id=\"line2d_3\">\n",
       "      <g>\n",
       "       <use xlink:href=\"#m77e42c7b7f\" x=\"126.63346\" y=\"143.1\" style=\"stroke: #000000; stroke-width: 0.8\"/>\n",
       "      </g>\n",
       "     </g>\n",
       "     <g id=\"text_3\">\n",
       "      <!-- −4 -->\n",
       "      <g transform=\"translate(119.262366 157.698438)scale(0.1 -0.1)\">\n",
       "       <defs>\n",
       "        <path id=\"DejaVuSans-34\" d=\"M 2419 4116 \n",
       "L 825 1625 \n",
       "L 2419 1625 \n",
       "L 2419 4116 \n",
       "z\n",
       "M 2253 4666 \n",
       "L 3047 4666 \n",
       "L 3047 1625 \n",
       "L 3713 1625 \n",
       "L 3713 1100 \n",
       "L 3047 1100 \n",
       "L 3047 0 \n",
       "L 2419 0 \n",
       "L 2419 1100 \n",
       "L 313 1100 \n",
       "L 313 1709 \n",
       "L 2253 4666 \n",
       "z\n",
       "\" transform=\"scale(0.015625)\"/>\n",
       "       </defs>\n",
       "       <use xlink:href=\"#DejaVuSans-2212\"/>\n",
       "       <use xlink:href=\"#DejaVuSans-34\" x=\"83.789062\"/>\n",
       "      </g>\n",
       "     </g>\n",
       "    </g>\n",
       "    <g id=\"xtick_4\">\n",
       "     <g id=\"line2d_4\">\n",
       "      <g>\n",
       "       <use xlink:href=\"#m77e42c7b7f\" x=\"158.537406\" y=\"143.1\" style=\"stroke: #000000; stroke-width: 0.8\"/>\n",
       "      </g>\n",
       "     </g>\n",
       "     <g id=\"text_4\">\n",
       "      <!-- −2 -->\n",
       "      <g transform=\"translate(151.166312 157.698438)scale(0.1 -0.1)\">\n",
       "       <defs>\n",
       "        <path id=\"DejaVuSans-32\" d=\"M 1228 531 \n",
       "L 3431 531 \n",
       "L 3431 0 \n",
       "L 469 0 \n",
       "L 469 531 \n",
       "Q 828 903 1448 1529 \n",
       "Q 2069 2156 2228 2338 \n",
       "Q 2531 2678 2651 2914 \n",
       "Q 2772 3150 2772 3378 \n",
       "Q 2772 3750 2511 3984 \n",
       "Q 2250 4219 1831 4219 \n",
       "Q 1534 4219 1204 4116 \n",
       "Q 875 4013 500 3803 \n",
       "L 500 4441 \n",
       "Q 881 4594 1212 4672 \n",
       "Q 1544 4750 1819 4750 \n",
       "Q 2544 4750 2975 4387 \n",
       "Q 3406 4025 3406 3419 \n",
       "Q 3406 3131 3298 2873 \n",
       "Q 3191 2616 2906 2266 \n",
       "Q 2828 2175 2409 1742 \n",
       "Q 1991 1309 1228 531 \n",
       "z\n",
       "\" transform=\"scale(0.015625)\"/>\n",
       "       </defs>\n",
       "       <use xlink:href=\"#DejaVuSans-2212\"/>\n",
       "       <use xlink:href=\"#DejaVuSans-32\" x=\"83.789062\"/>\n",
       "      </g>\n",
       "     </g>\n",
       "    </g>\n",
       "    <g id=\"xtick_5\">\n",
       "     <g id=\"line2d_5\">\n",
       "      <g>\n",
       "       <use xlink:href=\"#m77e42c7b7f\" x=\"190.441352\" y=\"143.1\" style=\"stroke: #000000; stroke-width: 0.8\"/>\n",
       "      </g>\n",
       "     </g>\n",
       "     <g id=\"text_5\">\n",
       "      <!-- 0 -->\n",
       "      <g transform=\"translate(187.260102 157.698438)scale(0.1 -0.1)\">\n",
       "       <defs>\n",
       "        <path id=\"DejaVuSans-30\" d=\"M 2034 4250 \n",
       "Q 1547 4250 1301 3770 \n",
       "Q 1056 3291 1056 2328 \n",
       "Q 1056 1369 1301 889 \n",
       "Q 1547 409 2034 409 \n",
       "Q 2525 409 2770 889 \n",
       "Q 3016 1369 3016 2328 \n",
       "Q 3016 3291 2770 3770 \n",
       "Q 2525 4250 2034 4250 \n",
       "z\n",
       "M 2034 4750 \n",
       "Q 2819 4750 3233 4129 \n",
       "Q 3647 3509 3647 2328 \n",
       "Q 3647 1150 3233 529 \n",
       "Q 2819 -91 2034 -91 \n",
       "Q 1250 -91 836 529 \n",
       "Q 422 1150 422 2328 \n",
       "Q 422 3509 836 4129 \n",
       "Q 1250 4750 2034 4750 \n",
       "z\n",
       "\" transform=\"scale(0.015625)\"/>\n",
       "       </defs>\n",
       "       <use xlink:href=\"#DejaVuSans-30\"/>\n",
       "      </g>\n",
       "     </g>\n",
       "    </g>\n",
       "    <g id=\"xtick_6\">\n",
       "     <g id=\"line2d_6\">\n",
       "      <g>\n",
       "       <use xlink:href=\"#m77e42c7b7f\" x=\"222.345298\" y=\"143.1\" style=\"stroke: #000000; stroke-width: 0.8\"/>\n",
       "      </g>\n",
       "     </g>\n",
       "     <g id=\"text_6\">\n",
       "      <!-- 2 -->\n",
       "      <g transform=\"translate(219.164048 157.698438)scale(0.1 -0.1)\">\n",
       "       <use xlink:href=\"#DejaVuSans-32\"/>\n",
       "      </g>\n",
       "     </g>\n",
       "    </g>\n",
       "    <g id=\"xtick_7\">\n",
       "     <g id=\"line2d_7\">\n",
       "      <g>\n",
       "       <use xlink:href=\"#m77e42c7b7f\" x=\"254.249243\" y=\"143.1\" style=\"stroke: #000000; stroke-width: 0.8\"/>\n",
       "      </g>\n",
       "     </g>\n",
       "     <g id=\"text_7\">\n",
       "      <!-- 4 -->\n",
       "      <g transform=\"translate(251.067993 157.698438)scale(0.1 -0.1)\">\n",
       "       <use xlink:href=\"#DejaVuSans-34\"/>\n",
       "      </g>\n",
       "     </g>\n",
       "    </g>\n",
       "    <g id=\"xtick_8\">\n",
       "     <g id=\"line2d_8\">\n",
       "      <g>\n",
       "       <use xlink:href=\"#m77e42c7b7f\" x=\"286.153189\" y=\"143.1\" style=\"stroke: #000000; stroke-width: 0.8\"/>\n",
       "      </g>\n",
       "     </g>\n",
       "     <g id=\"text_8\">\n",
       "      <!-- 6 -->\n",
       "      <g transform=\"translate(282.971939 157.698438)scale(0.1 -0.1)\">\n",
       "       <use xlink:href=\"#DejaVuSans-36\"/>\n",
       "      </g>\n",
       "     </g>\n",
       "    </g>\n",
       "    <g id=\"xtick_9\">\n",
       "     <g id=\"line2d_9\">\n",
       "      <g>\n",
       "       <use xlink:href=\"#m77e42c7b7f\" x=\"318.057135\" y=\"143.1\" style=\"stroke: #000000; stroke-width: 0.8\"/>\n",
       "      </g>\n",
       "     </g>\n",
       "     <g id=\"text_9\">\n",
       "      <!-- 8 -->\n",
       "      <g transform=\"translate(314.875885 157.698438)scale(0.1 -0.1)\">\n",
       "       <use xlink:href=\"#DejaVuSans-38\"/>\n",
       "      </g>\n",
       "     </g>\n",
       "    </g>\n",
       "    <g id=\"text_10\">\n",
       "     <!-- x -->\n",
       "     <g transform=\"translate(186.684375 171.376563)scale(0.1 -0.1)\">\n",
       "      <defs>\n",
       "       <path id=\"DejaVuSans-78\" d=\"M 3513 3500 \n",
       "L 2247 1797 \n",
       "L 3578 0 \n",
       "L 2900 0 \n",
       "L 1881 1375 \n",
       "L 863 0 \n",
       "L 184 0 \n",
       "L 1544 1831 \n",
       "L 300 3500 \n",
       "L 978 3500 \n",
       "L 1906 2253 \n",
       "L 2834 3500 \n",
       "L 3513 3500 \n",
       "z\n",
       "\" transform=\"scale(0.015625)\"/>\n",
       "      </defs>\n",
       "      <use xlink:href=\"#DejaVuSans-78\"/>\n",
       "     </g>\n",
       "    </g>\n",
       "   </g>\n",
       "   <g id=\"matplotlib.axis_2\">\n",
       "    <g id=\"ytick_1\">\n",
       "     <g id=\"line2d_10\">\n",
       "      <defs>\n",
       "       <path id=\"m54eba928a6\" d=\"M 0 0 \n",
       "L -3.5 0 \n",
       "\" style=\"stroke: #000000; stroke-width: 0.8\"/>\n",
       "      </defs>\n",
       "      <g>\n",
       "       <use xlink:href=\"#m54eba928a6\" x=\"50.14375\" y=\"137.088618\" style=\"stroke: #000000; stroke-width: 0.8\"/>\n",
       "      </g>\n",
       "     </g>\n",
       "     <g id=\"text_11\">\n",
       "      <!-- 0.00 -->\n",
       "      <g transform=\"translate(20.878125 140.887837)scale(0.1 -0.1)\">\n",
       "       <defs>\n",
       "        <path id=\"DejaVuSans-2e\" d=\"M 684 794 \n",
       "L 1344 794 \n",
       "L 1344 0 \n",
       "L 684 0 \n",
       "L 684 794 \n",
       "z\n",
       "\" transform=\"scale(0.015625)\"/>\n",
       "       </defs>\n",
       "       <use xlink:href=\"#DejaVuSans-30\"/>\n",
       "       <use xlink:href=\"#DejaVuSans-2e\" x=\"63.623047\"/>\n",
       "       <use xlink:href=\"#DejaVuSans-30\" x=\"95.410156\"/>\n",
       "       <use xlink:href=\"#DejaVuSans-30\" x=\"159.033203\"/>\n",
       "      </g>\n",
       "     </g>\n",
       "    </g>\n",
       "    <g id=\"ytick_2\">\n",
       "     <g id=\"line2d_11\">\n",
       "      <g>\n",
       "       <use xlink:href=\"#m54eba928a6\" x=\"50.14375\" y=\"112.346349\" style=\"stroke: #000000; stroke-width: 0.8\"/>\n",
       "      </g>\n",
       "     </g>\n",
       "     <g id=\"text_12\">\n",
       "      <!-- 0.05 -->\n",
       "      <g transform=\"translate(20.878125 116.145568)scale(0.1 -0.1)\">\n",
       "       <defs>\n",
       "        <path id=\"DejaVuSans-35\" d=\"M 691 4666 \n",
       "L 3169 4666 \n",
       "L 3169 4134 \n",
       "L 1269 4134 \n",
       "L 1269 2991 \n",
       "Q 1406 3038 1543 3061 \n",
       "Q 1681 3084 1819 3084 \n",
       "Q 2600 3084 3056 2656 \n",
       "Q 3513 2228 3513 1497 \n",
       "Q 3513 744 3044 326 \n",
       "Q 2575 -91 1722 -91 \n",
       "Q 1428 -91 1123 -41 \n",
       "Q 819 9 494 109 \n",
       "L 494 744 \n",
       "Q 775 591 1075 516 \n",
       "Q 1375 441 1709 441 \n",
       "Q 2250 441 2565 725 \n",
       "Q 2881 1009 2881 1497 \n",
       "Q 2881 1984 2565 2268 \n",
       "Q 2250 2553 1709 2553 \n",
       "Q 1456 2553 1204 2497 \n",
       "Q 953 2441 691 2322 \n",
       "L 691 4666 \n",
       "z\n",
       "\" transform=\"scale(0.015625)\"/>\n",
       "       </defs>\n",
       "       <use xlink:href=\"#DejaVuSans-30\"/>\n",
       "       <use xlink:href=\"#DejaVuSans-2e\" x=\"63.623047\"/>\n",
       "       <use xlink:href=\"#DejaVuSans-30\" x=\"95.410156\"/>\n",
       "       <use xlink:href=\"#DejaVuSans-35\" x=\"159.033203\"/>\n",
       "      </g>\n",
       "     </g>\n",
       "    </g>\n",
       "    <g id=\"ytick_3\">\n",
       "     <g id=\"line2d_12\">\n",
       "      <g>\n",
       "       <use xlink:href=\"#m54eba928a6\" x=\"50.14375\" y=\"87.60408\" style=\"stroke: #000000; stroke-width: 0.8\"/>\n",
       "      </g>\n",
       "     </g>\n",
       "     <g id=\"text_13\">\n",
       "      <!-- 0.10 -->\n",
       "      <g transform=\"translate(20.878125 91.403299)scale(0.1 -0.1)\">\n",
       "       <defs>\n",
       "        <path id=\"DejaVuSans-31\" d=\"M 794 531 \n",
       "L 1825 531 \n",
       "L 1825 4091 \n",
       "L 703 3866 \n",
       "L 703 4441 \n",
       "L 1819 4666 \n",
       "L 2450 4666 \n",
       "L 2450 531 \n",
       "L 3481 531 \n",
       "L 3481 0 \n",
       "L 794 0 \n",
       "L 794 531 \n",
       "z\n",
       "\" transform=\"scale(0.015625)\"/>\n",
       "       </defs>\n",
       "       <use xlink:href=\"#DejaVuSans-30\"/>\n",
       "       <use xlink:href=\"#DejaVuSans-2e\" x=\"63.623047\"/>\n",
       "       <use xlink:href=\"#DejaVuSans-31\" x=\"95.410156\"/>\n",
       "       <use xlink:href=\"#DejaVuSans-30\" x=\"159.033203\"/>\n",
       "      </g>\n",
       "     </g>\n",
       "    </g>\n",
       "    <g id=\"ytick_4\">\n",
       "     <g id=\"line2d_13\">\n",
       "      <g>\n",
       "       <use xlink:href=\"#m54eba928a6\" x=\"50.14375\" y=\"62.861811\" style=\"stroke: #000000; stroke-width: 0.8\"/>\n",
       "      </g>\n",
       "     </g>\n",
       "     <g id=\"text_14\">\n",
       "      <!-- 0.15 -->\n",
       "      <g transform=\"translate(20.878125 66.66103)scale(0.1 -0.1)\">\n",
       "       <use xlink:href=\"#DejaVuSans-30\"/>\n",
       "       <use xlink:href=\"#DejaVuSans-2e\" x=\"63.623047\"/>\n",
       "       <use xlink:href=\"#DejaVuSans-31\" x=\"95.410156\"/>\n",
       "       <use xlink:href=\"#DejaVuSans-35\" x=\"159.033203\"/>\n",
       "      </g>\n",
       "     </g>\n",
       "    </g>\n",
       "    <g id=\"ytick_5\">\n",
       "     <g id=\"line2d_14\">\n",
       "      <g>\n",
       "       <use xlink:href=\"#m54eba928a6\" x=\"50.14375\" y=\"38.119542\" style=\"stroke: #000000; stroke-width: 0.8\"/>\n",
       "      </g>\n",
       "     </g>\n",
       "     <g id=\"text_15\">\n",
       "      <!-- 0.20 -->\n",
       "      <g transform=\"translate(20.878125 41.918761)scale(0.1 -0.1)\">\n",
       "       <use xlink:href=\"#DejaVuSans-30\"/>\n",
       "       <use xlink:href=\"#DejaVuSans-2e\" x=\"63.623047\"/>\n",
       "       <use xlink:href=\"#DejaVuSans-32\" x=\"95.410156\"/>\n",
       "       <use xlink:href=\"#DejaVuSans-30\" x=\"159.033203\"/>\n",
       "      </g>\n",
       "     </g>\n",
       "    </g>\n",
       "    <g id=\"ytick_6\">\n",
       "     <g id=\"line2d_15\">\n",
       "      <g>\n",
       "       <use xlink:href=\"#m54eba928a6\" x=\"50.14375\" y=\"13.377273\" style=\"stroke: #000000; stroke-width: 0.8\"/>\n",
       "      </g>\n",
       "     </g>\n",
       "     <g id=\"text_16\">\n",
       "      <!-- 0.25 -->\n",
       "      <g transform=\"translate(20.878125 17.176491)scale(0.1 -0.1)\">\n",
       "       <use xlink:href=\"#DejaVuSans-30\"/>\n",
       "       <use xlink:href=\"#DejaVuSans-2e\" x=\"63.623047\"/>\n",
       "       <use xlink:href=\"#DejaVuSans-32\" x=\"95.410156\"/>\n",
       "       <use xlink:href=\"#DejaVuSans-35\" x=\"159.033203\"/>\n",
       "      </g>\n",
       "     </g>\n",
       "    </g>\n",
       "    <g id=\"text_17\">\n",
       "     <!-- grad of sigmoid(x) -->\n",
       "     <g transform=\"translate(14.798438 121.1375)rotate(-90)scale(0.1 -0.1)\">\n",
       "      <defs>\n",
       "       <path id=\"DejaVuSans-67\" d=\"M 2906 1791 \n",
       "Q 2906 2416 2648 2759 \n",
       "Q 2391 3103 1925 3103 \n",
       "Q 1463 3103 1205 2759 \n",
       "Q 947 2416 947 1791 \n",
       "Q 947 1169 1205 825 \n",
       "Q 1463 481 1925 481 \n",
       "Q 2391 481 2648 825 \n",
       "Q 2906 1169 2906 1791 \n",
       "z\n",
       "M 3481 434 \n",
       "Q 3481 -459 3084 -895 \n",
       "Q 2688 -1331 1869 -1331 \n",
       "Q 1566 -1331 1297 -1286 \n",
       "Q 1028 -1241 775 -1147 \n",
       "L 775 -588 \n",
       "Q 1028 -725 1275 -790 \n",
       "Q 1522 -856 1778 -856 \n",
       "Q 2344 -856 2625 -561 \n",
       "Q 2906 -266 2906 331 \n",
       "L 2906 616 \n",
       "Q 2728 306 2450 153 \n",
       "Q 2172 0 1784 0 \n",
       "Q 1141 0 747 490 \n",
       "Q 353 981 353 1791 \n",
       "Q 353 2603 747 3093 \n",
       "Q 1141 3584 1784 3584 \n",
       "Q 2172 3584 2450 3431 \n",
       "Q 2728 3278 2906 2969 \n",
       "L 2906 3500 \n",
       "L 3481 3500 \n",
       "L 3481 434 \n",
       "z\n",
       "\" transform=\"scale(0.015625)\"/>\n",
       "       <path id=\"DejaVuSans-72\" d=\"M 2631 2963 \n",
       "Q 2534 3019 2420 3045 \n",
       "Q 2306 3072 2169 3072 \n",
       "Q 1681 3072 1420 2755 \n",
       "Q 1159 2438 1159 1844 \n",
       "L 1159 0 \n",
       "L 581 0 \n",
       "L 581 3500 \n",
       "L 1159 3500 \n",
       "L 1159 2956 \n",
       "Q 1341 3275 1631 3429 \n",
       "Q 1922 3584 2338 3584 \n",
       "Q 2397 3584 2469 3576 \n",
       "Q 2541 3569 2628 3553 \n",
       "L 2631 2963 \n",
       "z\n",
       "\" transform=\"scale(0.015625)\"/>\n",
       "       <path id=\"DejaVuSans-61\" d=\"M 2194 1759 \n",
       "Q 1497 1759 1228 1600 \n",
       "Q 959 1441 959 1056 \n",
       "Q 959 750 1161 570 \n",
       "Q 1363 391 1709 391 \n",
       "Q 2188 391 2477 730 \n",
       "Q 2766 1069 2766 1631 \n",
       "L 2766 1759 \n",
       "L 2194 1759 \n",
       "z\n",
       "M 3341 1997 \n",
       "L 3341 0 \n",
       "L 2766 0 \n",
       "L 2766 531 \n",
       "Q 2569 213 2275 61 \n",
       "Q 1981 -91 1556 -91 \n",
       "Q 1019 -91 701 211 \n",
       "Q 384 513 384 1019 \n",
       "Q 384 1609 779 1909 \n",
       "Q 1175 2209 1959 2209 \n",
       "L 2766 2209 \n",
       "L 2766 2266 \n",
       "Q 2766 2663 2505 2880 \n",
       "Q 2244 3097 1772 3097 \n",
       "Q 1472 3097 1187 3025 \n",
       "Q 903 2953 641 2809 \n",
       "L 641 3341 \n",
       "Q 956 3463 1253 3523 \n",
       "Q 1550 3584 1831 3584 \n",
       "Q 2591 3584 2966 3190 \n",
       "Q 3341 2797 3341 1997 \n",
       "z\n",
       "\" transform=\"scale(0.015625)\"/>\n",
       "       <path id=\"DejaVuSans-64\" d=\"M 2906 2969 \n",
       "L 2906 4863 \n",
       "L 3481 4863 \n",
       "L 3481 0 \n",
       "L 2906 0 \n",
       "L 2906 525 \n",
       "Q 2725 213 2448 61 \n",
       "Q 2172 -91 1784 -91 \n",
       "Q 1150 -91 751 415 \n",
       "Q 353 922 353 1747 \n",
       "Q 353 2572 751 3078 \n",
       "Q 1150 3584 1784 3584 \n",
       "Q 2172 3584 2448 3432 \n",
       "Q 2725 3281 2906 2969 \n",
       "z\n",
       "M 947 1747 \n",
       "Q 947 1113 1208 752 \n",
       "Q 1469 391 1925 391 \n",
       "Q 2381 391 2643 752 \n",
       "Q 2906 1113 2906 1747 \n",
       "Q 2906 2381 2643 2742 \n",
       "Q 2381 3103 1925 3103 \n",
       "Q 1469 3103 1208 2742 \n",
       "Q 947 2381 947 1747 \n",
       "z\n",
       "\" transform=\"scale(0.015625)\"/>\n",
       "       <path id=\"DejaVuSans-20\" transform=\"scale(0.015625)\"/>\n",
       "       <path id=\"DejaVuSans-6f\" d=\"M 1959 3097 \n",
       "Q 1497 3097 1228 2736 \n",
       "Q 959 2375 959 1747 \n",
       "Q 959 1119 1226 758 \n",
       "Q 1494 397 1959 397 \n",
       "Q 2419 397 2687 759 \n",
       "Q 2956 1122 2956 1747 \n",
       "Q 2956 2369 2687 2733 \n",
       "Q 2419 3097 1959 3097 \n",
       "z\n",
       "M 1959 3584 \n",
       "Q 2709 3584 3137 3096 \n",
       "Q 3566 2609 3566 1747 \n",
       "Q 3566 888 3137 398 \n",
       "Q 2709 -91 1959 -91 \n",
       "Q 1206 -91 779 398 \n",
       "Q 353 888 353 1747 \n",
       "Q 353 2609 779 3096 \n",
       "Q 1206 3584 1959 3584 \n",
       "z\n",
       "\" transform=\"scale(0.015625)\"/>\n",
       "       <path id=\"DejaVuSans-66\" d=\"M 2375 4863 \n",
       "L 2375 4384 \n",
       "L 1825 4384 \n",
       "Q 1516 4384 1395 4259 \n",
       "Q 1275 4134 1275 3809 \n",
       "L 1275 3500 \n",
       "L 2222 3500 \n",
       "L 2222 3053 \n",
       "L 1275 3053 \n",
       "L 1275 0 \n",
       "L 697 0 \n",
       "L 697 3053 \n",
       "L 147 3053 \n",
       "L 147 3500 \n",
       "L 697 3500 \n",
       "L 697 3744 \n",
       "Q 697 4328 969 4595 \n",
       "Q 1241 4863 1831 4863 \n",
       "L 2375 4863 \n",
       "z\n",
       "\" transform=\"scale(0.015625)\"/>\n",
       "       <path id=\"DejaVuSans-73\" d=\"M 2834 3397 \n",
       "L 2834 2853 \n",
       "Q 2591 2978 2328 3040 \n",
       "Q 2066 3103 1784 3103 \n",
       "Q 1356 3103 1142 2972 \n",
       "Q 928 2841 928 2578 \n",
       "Q 928 2378 1081 2264 \n",
       "Q 1234 2150 1697 2047 \n",
       "L 1894 2003 \n",
       "Q 2506 1872 2764 1633 \n",
       "Q 3022 1394 3022 966 \n",
       "Q 3022 478 2636 193 \n",
       "Q 2250 -91 1575 -91 \n",
       "Q 1294 -91 989 -36 \n",
       "Q 684 19 347 128 \n",
       "L 347 722 \n",
       "Q 666 556 975 473 \n",
       "Q 1284 391 1588 391 \n",
       "Q 1994 391 2212 530 \n",
       "Q 2431 669 2431 922 \n",
       "Q 2431 1156 2273 1281 \n",
       "Q 2116 1406 1581 1522 \n",
       "L 1381 1569 \n",
       "Q 847 1681 609 1914 \n",
       "Q 372 2147 372 2553 \n",
       "Q 372 3047 722 3315 \n",
       "Q 1072 3584 1716 3584 \n",
       "Q 2034 3584 2315 3537 \n",
       "Q 2597 3491 2834 3397 \n",
       "z\n",
       "\" transform=\"scale(0.015625)\"/>\n",
       "       <path id=\"DejaVuSans-69\" d=\"M 603 3500 \n",
       "L 1178 3500 \n",
       "L 1178 0 \n",
       "L 603 0 \n",
       "L 603 3500 \n",
       "z\n",
       "M 603 4863 \n",
       "L 1178 4863 \n",
       "L 1178 4134 \n",
       "L 603 4134 \n",
       "L 603 4863 \n",
       "z\n",
       "\" transform=\"scale(0.015625)\"/>\n",
       "       <path id=\"DejaVuSans-6d\" d=\"M 3328 2828 \n",
       "Q 3544 3216 3844 3400 \n",
       "Q 4144 3584 4550 3584 \n",
       "Q 5097 3584 5394 3201 \n",
       "Q 5691 2819 5691 2113 \n",
       "L 5691 0 \n",
       "L 5113 0 \n",
       "L 5113 2094 \n",
       "Q 5113 2597 4934 2840 \n",
       "Q 4756 3084 4391 3084 \n",
       "Q 3944 3084 3684 2787 \n",
       "Q 3425 2491 3425 1978 \n",
       "L 3425 0 \n",
       "L 2847 0 \n",
       "L 2847 2094 \n",
       "Q 2847 2600 2669 2842 \n",
       "Q 2491 3084 2119 3084 \n",
       "Q 1678 3084 1418 2786 \n",
       "Q 1159 2488 1159 1978 \n",
       "L 1159 0 \n",
       "L 581 0 \n",
       "L 581 3500 \n",
       "L 1159 3500 \n",
       "L 1159 2956 \n",
       "Q 1356 3278 1631 3431 \n",
       "Q 1906 3584 2284 3584 \n",
       "Q 2666 3584 2933 3390 \n",
       "Q 3200 3197 3328 2828 \n",
       "z\n",
       "\" transform=\"scale(0.015625)\"/>\n",
       "       <path id=\"DejaVuSans-28\" d=\"M 1984 4856 \n",
       "Q 1566 4138 1362 3434 \n",
       "Q 1159 2731 1159 2009 \n",
       "Q 1159 1288 1364 580 \n",
       "Q 1569 -128 1984 -844 \n",
       "L 1484 -844 \n",
       "Q 1016 -109 783 600 \n",
       "Q 550 1309 550 2009 \n",
       "Q 550 2706 781 3412 \n",
       "Q 1013 4119 1484 4856 \n",
       "L 1984 4856 \n",
       "z\n",
       "\" transform=\"scale(0.015625)\"/>\n",
       "       <path id=\"DejaVuSans-29\" d=\"M 513 4856 \n",
       "L 1013 4856 \n",
       "Q 1481 4119 1714 3412 \n",
       "Q 1947 2706 1947 2009 \n",
       "Q 1947 1309 1714 600 \n",
       "Q 1481 -109 1013 -844 \n",
       "L 513 -844 \n",
       "Q 928 -128 1133 580 \n",
       "Q 1338 1288 1338 2009 \n",
       "Q 1338 2731 1133 3434 \n",
       "Q 928 4138 513 4856 \n",
       "z\n",
       "\" transform=\"scale(0.015625)\"/>\n",
       "      </defs>\n",
       "      <use xlink:href=\"#DejaVuSans-67\"/>\n",
       "      <use xlink:href=\"#DejaVuSans-72\" x=\"63.476562\"/>\n",
       "      <use xlink:href=\"#DejaVuSans-61\" x=\"104.589844\"/>\n",
       "      <use xlink:href=\"#DejaVuSans-64\" x=\"165.869141\"/>\n",
       "      <use xlink:href=\"#DejaVuSans-20\" x=\"229.345703\"/>\n",
       "      <use xlink:href=\"#DejaVuSans-6f\" x=\"261.132812\"/>\n",
       "      <use xlink:href=\"#DejaVuSans-66\" x=\"322.314453\"/>\n",
       "      <use xlink:href=\"#DejaVuSans-20\" x=\"357.519531\"/>\n",
       "      <use xlink:href=\"#DejaVuSans-73\" x=\"389.306641\"/>\n",
       "      <use xlink:href=\"#DejaVuSans-69\" x=\"441.40625\"/>\n",
       "      <use xlink:href=\"#DejaVuSans-67\" x=\"469.189453\"/>\n",
       "      <use xlink:href=\"#DejaVuSans-6d\" x=\"532.666016\"/>\n",
       "      <use xlink:href=\"#DejaVuSans-6f\" x=\"630.078125\"/>\n",
       "      <use xlink:href=\"#DejaVuSans-69\" x=\"691.259766\"/>\n",
       "      <use xlink:href=\"#DejaVuSans-64\" x=\"719.042969\"/>\n",
       "      <use xlink:href=\"#DejaVuSans-28\" x=\"782.519531\"/>\n",
       "      <use xlink:href=\"#DejaVuSans-78\" x=\"821.533203\"/>\n",
       "      <use xlink:href=\"#DejaVuSans-29\" x=\"880.712891\"/>\n",
       "     </g>\n",
       "    </g>\n",
       "   </g>\n",
       "   <g id=\"line2d_16\">\n",
       "    <path d=\"M 62.825568 136.922727 \n",
       "L 78.777541 136.638199 \n",
       "L 88.348723 136.26913 \n",
       "L 96.32471 135.740413 \n",
       "L 102.705501 135.082727 \n",
       "L 107.491095 134.388643 \n",
       "L 112.276683 133.457984 \n",
       "L 115.467074 132.668631 \n",
       "L 118.657473 131.711514 \n",
       "L 121.847865 130.552846 \n",
       "L 125.038257 129.15292 \n",
       "L 128.228656 127.465526 \n",
       "L 131.419051 125.437529 \n",
       "L 134.609446 123.008771 \n",
       "L 137.799842 120.112511 \n",
       "L 140.990233 116.676734 \n",
       "L 144.180629 112.626646 \n",
       "L 147.371024 107.888924 \n",
       "L 150.561419 102.39812 \n",
       "L 153.751811 96.105742 \n",
       "L 156.942206 88.992273 \n",
       "L 160.132602 81.081894 \n",
       "L 163.322997 72.45897 \n",
       "L 168.10859 58.564138 \n",
       "L 174.489379 39.796107 \n",
       "L 177.679773 31.236391 \n",
       "L 179.274971 27.375027 \n",
       "L 180.870168 23.87579 \n",
       "L 182.465365 20.798118 \n",
       "L 184.060562 18.196696 \n",
       "L 185.65576 16.119549 \n",
       "L 187.250957 14.606178 \n",
       "L 188.846154 13.686027 \n",
       "L 190.441352 13.377273 \n",
       "L 192.036549 13.686035 \n",
       "L 193.631746 14.606185 \n",
       "L 195.226944 16.119549 \n",
       "L 196.822141 18.196696 \n",
       "L 198.417338 20.798118 \n",
       "L 200.012536 23.87579 \n",
       "L 201.607733 27.37502 \n",
       "L 203.20293 31.236391 \n",
       "L 206.393325 39.796115 \n",
       "L 211.178916 53.806965 \n",
       "L 215.964509 67.927146 \n",
       "L 219.154904 76.851396 \n",
       "L 222.345298 85.133007 \n",
       "L 225.535693 92.651352 \n",
       "L 228.726088 99.35419 \n",
       "L 231.916484 105.241217 \n",
       "L 235.106879 110.348108 \n",
       "L 238.297271 114.733159 \n",
       "L 241.487666 118.466706 \n",
       "L 244.678061 121.623505 \n",
       "L 247.868457 124.277258 \n",
       "L 251.058848 126.497666 \n",
       "L 254.249243 128.348296 \n",
       "L 257.439635 129.885771 \n",
       "L 260.630034 131.159691 \n",
       "L 263.820426 132.21301 \n",
       "L 267.010825 133.082384 \n",
       "L 271.79642 134.108142 \n",
       "L 276.582007 134.873661 \n",
       "L 282.96279 135.599466 \n",
       "L 289.343581 136.088434 \n",
       "L 297.319575 136.480971 \n",
       "L 308.485945 136.786478 \n",
       "L 316.461932 136.905286 \n",
       "L 316.461932 136.905286 \n",
       "\" clip-path=\"url(#pbb29f0b98e)\" style=\"fill: none; stroke: #1f77b4; stroke-width: 1.5; stroke-linecap: square\"/>\n",
       "   </g>\n",
       "   <g id=\"patch_3\">\n",
       "    <path d=\"M 50.14375 143.1 \n",
       "L 50.14375 7.2 \n",
       "\" style=\"fill: none; stroke: #000000; stroke-width: 0.8; stroke-linejoin: miter; stroke-linecap: square\"/>\n",
       "   </g>\n",
       "   <g id=\"patch_4\">\n",
       "    <path d=\"M 329.14375 143.1 \n",
       "L 329.14375 7.2 \n",
       "\" style=\"fill: none; stroke: #000000; stroke-width: 0.8; stroke-linejoin: miter; stroke-linecap: square\"/>\n",
       "   </g>\n",
       "   <g id=\"patch_5\">\n",
       "    <path d=\"M 50.14375 143.1 \n",
       "L 329.14375 143.1 \n",
       "\" style=\"fill: none; stroke: #000000; stroke-width: 0.8; stroke-linejoin: miter; stroke-linecap: square\"/>\n",
       "   </g>\n",
       "   <g id=\"patch_6\">\n",
       "    <path d=\"M 50.14375 7.2 \n",
       "L 329.14375 7.2 \n",
       "\" style=\"fill: none; stroke: #000000; stroke-width: 0.8; stroke-linejoin: miter; stroke-linecap: square\"/>\n",
       "   </g>\n",
       "  </g>\n",
       " </g>\n",
       " <defs>\n",
       "  <clipPath id=\"pbb29f0b98e\">\n",
       "   <rect x=\"50.14375\" y=\"7.2\" width=\"279\" height=\"135.9\"/>\n",
       "  </clipPath>\n",
       " </defs>\n",
       "</svg>\n"
      ],
      "text/plain": [
       "<Figure size 360x180 with 1 Axes>"
      ]
     },
     "metadata": {
      "needs_background": "light"
     },
     "output_type": "display_data"
    }
   ],
   "source": [
    "x.grad.zero_()\n",
    "y.sum().backward()\n",
    "xyplot(x,x.grad,'grad of sigmoid')"
   ]
  },
  {
   "cell_type": "markdown",
   "metadata": {},
   "source": [
    "#### tanh函数"
   ]
  },
  {
   "cell_type": "code",
   "execution_count": 310,
   "metadata": {},
   "outputs": [
    {
     "data": {
      "image/svg+xml": [
       "<?xml version=\"1.0\" encoding=\"utf-8\" standalone=\"no\"?>\n",
       "<!DOCTYPE svg PUBLIC \"-//W3C//DTD SVG 1.1//EN\"\n",
       "  \"http://www.w3.org/Graphics/SVG/1.1/DTD/svg11.dtd\">\n",
       "<svg xmlns:xlink=\"http://www.w3.org/1999/xlink\" width=\"338.360937pt\" height=\"180.65625pt\" viewBox=\"0 0 338.360937 180.65625\" xmlns=\"http://www.w3.org/2000/svg\" version=\"1.1\">\n",
       " <metadata>\n",
       "  <rdf:RDF xmlns:dc=\"http://purl.org/dc/elements/1.1/\" xmlns:cc=\"http://creativecommons.org/ns#\" xmlns:rdf=\"http://www.w3.org/1999/02/22-rdf-syntax-ns#\">\n",
       "   <cc:Work>\n",
       "    <dc:type rdf:resource=\"http://purl.org/dc/dcmitype/StillImage\"/>\n",
       "    <dc:date>2023-01-05T18:55:49.253249</dc:date>\n",
       "    <dc:format>image/svg+xml</dc:format>\n",
       "    <dc:creator>\n",
       "     <cc:Agent>\n",
       "      <dc:title>Matplotlib v3.5.1, https://matplotlib.org/</dc:title>\n",
       "     </cc:Agent>\n",
       "    </dc:creator>\n",
       "   </cc:Work>\n",
       "  </rdf:RDF>\n",
       " </metadata>\n",
       " <defs>\n",
       "  <style type=\"text/css\">*{stroke-linejoin: round; stroke-linecap: butt}</style>\n",
       " </defs>\n",
       " <g id=\"figure_1\">\n",
       "  <g id=\"patch_1\">\n",
       "   <path d=\"M 0 180.65625 \n",
       "L 338.360937 180.65625 \n",
       "L 338.360937 0 \n",
       "L 0 0 \n",
       "L 0 180.65625 \n",
       "z\n",
       "\" style=\"fill: none\"/>\n",
       "  </g>\n",
       "  <g id=\"axes_1\">\n",
       "   <g id=\"patch_2\">\n",
       "    <path d=\"M 52.160938 143.1 \n",
       "L 331.160937 143.1 \n",
       "L 331.160937 7.2 \n",
       "L 52.160938 7.2 \n",
       "z\n",
       "\" style=\"fill: #ffffff\"/>\n",
       "   </g>\n",
       "   <g id=\"matplotlib.axis_1\">\n",
       "    <g id=\"xtick_1\">\n",
       "     <g id=\"line2d_1\">\n",
       "      <defs>\n",
       "       <path id=\"meaf2d0b780\" d=\"M 0 0 \n",
       "L 0 3.5 \n",
       "\" style=\"stroke: #000000; stroke-width: 0.8\"/>\n",
       "      </defs>\n",
       "      <g>\n",
       "       <use xlink:href=\"#meaf2d0b780\" x=\"64.842756\" y=\"143.1\" style=\"stroke: #000000; stroke-width: 0.8\"/>\n",
       "      </g>\n",
       "     </g>\n",
       "     <g id=\"text_1\">\n",
       "      <!-- −8 -->\n",
       "      <g transform=\"translate(57.471662 157.698438)scale(0.1 -0.1)\">\n",
       "       <defs>\n",
       "        <path id=\"DejaVuSans-2212\" d=\"M 678 2272 \n",
       "L 4684 2272 \n",
       "L 4684 1741 \n",
       "L 678 1741 \n",
       "L 678 2272 \n",
       "z\n",
       "\" transform=\"scale(0.015625)\"/>\n",
       "        <path id=\"DejaVuSans-38\" d=\"M 2034 2216 \n",
       "Q 1584 2216 1326 1975 \n",
       "Q 1069 1734 1069 1313 \n",
       "Q 1069 891 1326 650 \n",
       "Q 1584 409 2034 409 \n",
       "Q 2484 409 2743 651 \n",
       "Q 3003 894 3003 1313 \n",
       "Q 3003 1734 2745 1975 \n",
       "Q 2488 2216 2034 2216 \n",
       "z\n",
       "M 1403 2484 \n",
       "Q 997 2584 770 2862 \n",
       "Q 544 3141 544 3541 \n",
       "Q 544 4100 942 4425 \n",
       "Q 1341 4750 2034 4750 \n",
       "Q 2731 4750 3128 4425 \n",
       "Q 3525 4100 3525 3541 \n",
       "Q 3525 3141 3298 2862 \n",
       "Q 3072 2584 2669 2484 \n",
       "Q 3125 2378 3379 2068 \n",
       "Q 3634 1759 3634 1313 \n",
       "Q 3634 634 3220 271 \n",
       "Q 2806 -91 2034 -91 \n",
       "Q 1263 -91 848 271 \n",
       "Q 434 634 434 1313 \n",
       "Q 434 1759 690 2068 \n",
       "Q 947 2378 1403 2484 \n",
       "z\n",
       "M 1172 3481 \n",
       "Q 1172 3119 1398 2916 \n",
       "Q 1625 2713 2034 2713 \n",
       "Q 2441 2713 2670 2916 \n",
       "Q 2900 3119 2900 3481 \n",
       "Q 2900 3844 2670 4047 \n",
       "Q 2441 4250 2034 4250 \n",
       "Q 1625 4250 1398 4047 \n",
       "Q 1172 3844 1172 3481 \n",
       "z\n",
       "\" transform=\"scale(0.015625)\"/>\n",
       "       </defs>\n",
       "       <use xlink:href=\"#DejaVuSans-2212\"/>\n",
       "       <use xlink:href=\"#DejaVuSans-38\" x=\"83.789062\"/>\n",
       "      </g>\n",
       "     </g>\n",
       "    </g>\n",
       "    <g id=\"xtick_2\">\n",
       "     <g id=\"line2d_2\">\n",
       "      <g>\n",
       "       <use xlink:href=\"#meaf2d0b780\" x=\"96.746702\" y=\"143.1\" style=\"stroke: #000000; stroke-width: 0.8\"/>\n",
       "      </g>\n",
       "     </g>\n",
       "     <g id=\"text_2\">\n",
       "      <!-- −6 -->\n",
       "      <g transform=\"translate(89.375608 157.698438)scale(0.1 -0.1)\">\n",
       "       <defs>\n",
       "        <path id=\"DejaVuSans-36\" d=\"M 2113 2584 \n",
       "Q 1688 2584 1439 2293 \n",
       "Q 1191 2003 1191 1497 \n",
       "Q 1191 994 1439 701 \n",
       "Q 1688 409 2113 409 \n",
       "Q 2538 409 2786 701 \n",
       "Q 3034 994 3034 1497 \n",
       "Q 3034 2003 2786 2293 \n",
       "Q 2538 2584 2113 2584 \n",
       "z\n",
       "M 3366 4563 \n",
       "L 3366 3988 \n",
       "Q 3128 4100 2886 4159 \n",
       "Q 2644 4219 2406 4219 \n",
       "Q 1781 4219 1451 3797 \n",
       "Q 1122 3375 1075 2522 \n",
       "Q 1259 2794 1537 2939 \n",
       "Q 1816 3084 2150 3084 \n",
       "Q 2853 3084 3261 2657 \n",
       "Q 3669 2231 3669 1497 \n",
       "Q 3669 778 3244 343 \n",
       "Q 2819 -91 2113 -91 \n",
       "Q 1303 -91 875 529 \n",
       "Q 447 1150 447 2328 \n",
       "Q 447 3434 972 4092 \n",
       "Q 1497 4750 2381 4750 \n",
       "Q 2619 4750 2861 4703 \n",
       "Q 3103 4656 3366 4563 \n",
       "z\n",
       "\" transform=\"scale(0.015625)\"/>\n",
       "       </defs>\n",
       "       <use xlink:href=\"#DejaVuSans-2212\"/>\n",
       "       <use xlink:href=\"#DejaVuSans-36\" x=\"83.789062\"/>\n",
       "      </g>\n",
       "     </g>\n",
       "    </g>\n",
       "    <g id=\"xtick_3\">\n",
       "     <g id=\"line2d_3\">\n",
       "      <g>\n",
       "       <use xlink:href=\"#meaf2d0b780\" x=\"128.650647\" y=\"143.1\" style=\"stroke: #000000; stroke-width: 0.8\"/>\n",
       "      </g>\n",
       "     </g>\n",
       "     <g id=\"text_3\">\n",
       "      <!-- −4 -->\n",
       "      <g transform=\"translate(121.279554 157.698438)scale(0.1 -0.1)\">\n",
       "       <defs>\n",
       "        <path id=\"DejaVuSans-34\" d=\"M 2419 4116 \n",
       "L 825 1625 \n",
       "L 2419 1625 \n",
       "L 2419 4116 \n",
       "z\n",
       "M 2253 4666 \n",
       "L 3047 4666 \n",
       "L 3047 1625 \n",
       "L 3713 1625 \n",
       "L 3713 1100 \n",
       "L 3047 1100 \n",
       "L 3047 0 \n",
       "L 2419 0 \n",
       "L 2419 1100 \n",
       "L 313 1100 \n",
       "L 313 1709 \n",
       "L 2253 4666 \n",
       "z\n",
       "\" transform=\"scale(0.015625)\"/>\n",
       "       </defs>\n",
       "       <use xlink:href=\"#DejaVuSans-2212\"/>\n",
       "       <use xlink:href=\"#DejaVuSans-34\" x=\"83.789062\"/>\n",
       "      </g>\n",
       "     </g>\n",
       "    </g>\n",
       "    <g id=\"xtick_4\">\n",
       "     <g id=\"line2d_4\">\n",
       "      <g>\n",
       "       <use xlink:href=\"#meaf2d0b780\" x=\"160.554593\" y=\"143.1\" style=\"stroke: #000000; stroke-width: 0.8\"/>\n",
       "      </g>\n",
       "     </g>\n",
       "     <g id=\"text_4\">\n",
       "      <!-- −2 -->\n",
       "      <g transform=\"translate(153.1835 157.698438)scale(0.1 -0.1)\">\n",
       "       <defs>\n",
       "        <path id=\"DejaVuSans-32\" d=\"M 1228 531 \n",
       "L 3431 531 \n",
       "L 3431 0 \n",
       "L 469 0 \n",
       "L 469 531 \n",
       "Q 828 903 1448 1529 \n",
       "Q 2069 2156 2228 2338 \n",
       "Q 2531 2678 2651 2914 \n",
       "Q 2772 3150 2772 3378 \n",
       "Q 2772 3750 2511 3984 \n",
       "Q 2250 4219 1831 4219 \n",
       "Q 1534 4219 1204 4116 \n",
       "Q 875 4013 500 3803 \n",
       "L 500 4441 \n",
       "Q 881 4594 1212 4672 \n",
       "Q 1544 4750 1819 4750 \n",
       "Q 2544 4750 2975 4387 \n",
       "Q 3406 4025 3406 3419 \n",
       "Q 3406 3131 3298 2873 \n",
       "Q 3191 2616 2906 2266 \n",
       "Q 2828 2175 2409 1742 \n",
       "Q 1991 1309 1228 531 \n",
       "z\n",
       "\" transform=\"scale(0.015625)\"/>\n",
       "       </defs>\n",
       "       <use xlink:href=\"#DejaVuSans-2212\"/>\n",
       "       <use xlink:href=\"#DejaVuSans-32\" x=\"83.789062\"/>\n",
       "      </g>\n",
       "     </g>\n",
       "    </g>\n",
       "    <g id=\"xtick_5\">\n",
       "     <g id=\"line2d_5\">\n",
       "      <g>\n",
       "       <use xlink:href=\"#meaf2d0b780\" x=\"192.458539\" y=\"143.1\" style=\"stroke: #000000; stroke-width: 0.8\"/>\n",
       "      </g>\n",
       "     </g>\n",
       "     <g id=\"text_5\">\n",
       "      <!-- 0 -->\n",
       "      <g transform=\"translate(189.277289 157.698438)scale(0.1 -0.1)\">\n",
       "       <defs>\n",
       "        <path id=\"DejaVuSans-30\" d=\"M 2034 4250 \n",
       "Q 1547 4250 1301 3770 \n",
       "Q 1056 3291 1056 2328 \n",
       "Q 1056 1369 1301 889 \n",
       "Q 1547 409 2034 409 \n",
       "Q 2525 409 2770 889 \n",
       "Q 3016 1369 3016 2328 \n",
       "Q 3016 3291 2770 3770 \n",
       "Q 2525 4250 2034 4250 \n",
       "z\n",
       "M 2034 4750 \n",
       "Q 2819 4750 3233 4129 \n",
       "Q 3647 3509 3647 2328 \n",
       "Q 3647 1150 3233 529 \n",
       "Q 2819 -91 2034 -91 \n",
       "Q 1250 -91 836 529 \n",
       "Q 422 1150 422 2328 \n",
       "Q 422 3509 836 4129 \n",
       "Q 1250 4750 2034 4750 \n",
       "z\n",
       "\" transform=\"scale(0.015625)\"/>\n",
       "       </defs>\n",
       "       <use xlink:href=\"#DejaVuSans-30\"/>\n",
       "      </g>\n",
       "     </g>\n",
       "    </g>\n",
       "    <g id=\"xtick_6\">\n",
       "     <g id=\"line2d_6\">\n",
       "      <g>\n",
       "       <use xlink:href=\"#meaf2d0b780\" x=\"224.362485\" y=\"143.1\" style=\"stroke: #000000; stroke-width: 0.8\"/>\n",
       "      </g>\n",
       "     </g>\n",
       "     <g id=\"text_6\">\n",
       "      <!-- 2 -->\n",
       "      <g transform=\"translate(221.181235 157.698438)scale(0.1 -0.1)\">\n",
       "       <use xlink:href=\"#DejaVuSans-32\"/>\n",
       "      </g>\n",
       "     </g>\n",
       "    </g>\n",
       "    <g id=\"xtick_7\">\n",
       "     <g id=\"line2d_7\">\n",
       "      <g>\n",
       "       <use xlink:href=\"#meaf2d0b780\" x=\"256.266431\" y=\"143.1\" style=\"stroke: #000000; stroke-width: 0.8\"/>\n",
       "      </g>\n",
       "     </g>\n",
       "     <g id=\"text_7\">\n",
       "      <!-- 4 -->\n",
       "      <g transform=\"translate(253.085181 157.698438)scale(0.1 -0.1)\">\n",
       "       <use xlink:href=\"#DejaVuSans-34\"/>\n",
       "      </g>\n",
       "     </g>\n",
       "    </g>\n",
       "    <g id=\"xtick_8\">\n",
       "     <g id=\"line2d_8\">\n",
       "      <g>\n",
       "       <use xlink:href=\"#meaf2d0b780\" x=\"288.170377\" y=\"143.1\" style=\"stroke: #000000; stroke-width: 0.8\"/>\n",
       "      </g>\n",
       "     </g>\n",
       "     <g id=\"text_8\">\n",
       "      <!-- 6 -->\n",
       "      <g transform=\"translate(284.989127 157.698438)scale(0.1 -0.1)\">\n",
       "       <use xlink:href=\"#DejaVuSans-36\"/>\n",
       "      </g>\n",
       "     </g>\n",
       "    </g>\n",
       "    <g id=\"xtick_9\">\n",
       "     <g id=\"line2d_9\">\n",
       "      <g>\n",
       "       <use xlink:href=\"#meaf2d0b780\" x=\"320.074323\" y=\"143.1\" style=\"stroke: #000000; stroke-width: 0.8\"/>\n",
       "      </g>\n",
       "     </g>\n",
       "     <g id=\"text_9\">\n",
       "      <!-- 8 -->\n",
       "      <g transform=\"translate(316.893073 157.698438)scale(0.1 -0.1)\">\n",
       "       <use xlink:href=\"#DejaVuSans-38\"/>\n",
       "      </g>\n",
       "     </g>\n",
       "    </g>\n",
       "    <g id=\"text_10\">\n",
       "     <!-- x -->\n",
       "     <g transform=\"translate(188.701562 171.376563)scale(0.1 -0.1)\">\n",
       "      <defs>\n",
       "       <path id=\"DejaVuSans-78\" d=\"M 3513 3500 \n",
       "L 2247 1797 \n",
       "L 3578 0 \n",
       "L 2900 0 \n",
       "L 1881 1375 \n",
       "L 863 0 \n",
       "L 184 0 \n",
       "L 1544 1831 \n",
       "L 300 3500 \n",
       "L 978 3500 \n",
       "L 1906 2253 \n",
       "L 2834 3500 \n",
       "L 3513 3500 \n",
       "z\n",
       "\" transform=\"scale(0.015625)\"/>\n",
       "      </defs>\n",
       "      <use xlink:href=\"#DejaVuSans-78\"/>\n",
       "     </g>\n",
       "    </g>\n",
       "   </g>\n",
       "   <g id=\"matplotlib.axis_2\">\n",
       "    <g id=\"ytick_1\">\n",
       "     <g id=\"line2d_10\">\n",
       "      <defs>\n",
       "       <path id=\"mf8929e33d2\" d=\"M 0 0 \n",
       "L -3.5 0 \n",
       "\" style=\"stroke: #000000; stroke-width: 0.8\"/>\n",
       "      </defs>\n",
       "      <g>\n",
       "       <use xlink:href=\"#mf8929e33d2\" x=\"52.160938\" y=\"136.922742\" style=\"stroke: #000000; stroke-width: 0.8\"/>\n",
       "      </g>\n",
       "     </g>\n",
       "     <g id=\"text_11\">\n",
       "      <!-- −1.0 -->\n",
       "      <g transform=\"translate(20.878125 140.721961)scale(0.1 -0.1)\">\n",
       "       <defs>\n",
       "        <path id=\"DejaVuSans-31\" d=\"M 794 531 \n",
       "L 1825 531 \n",
       "L 1825 4091 \n",
       "L 703 3866 \n",
       "L 703 4441 \n",
       "L 1819 4666 \n",
       "L 2450 4666 \n",
       "L 2450 531 \n",
       "L 3481 531 \n",
       "L 3481 0 \n",
       "L 794 0 \n",
       "L 794 531 \n",
       "z\n",
       "\" transform=\"scale(0.015625)\"/>\n",
       "        <path id=\"DejaVuSans-2e\" d=\"M 684 794 \n",
       "L 1344 794 \n",
       "L 1344 0 \n",
       "L 684 0 \n",
       "L 684 794 \n",
       "z\n",
       "\" transform=\"scale(0.015625)\"/>\n",
       "       </defs>\n",
       "       <use xlink:href=\"#DejaVuSans-2212\"/>\n",
       "       <use xlink:href=\"#DejaVuSans-31\" x=\"83.789062\"/>\n",
       "       <use xlink:href=\"#DejaVuSans-2e\" x=\"147.412109\"/>\n",
       "       <use xlink:href=\"#DejaVuSans-30\" x=\"179.199219\"/>\n",
       "      </g>\n",
       "     </g>\n",
       "    </g>\n",
       "    <g id=\"ytick_2\">\n",
       "     <g id=\"line2d_11\">\n",
       "      <g>\n",
       "       <use xlink:href=\"#mf8929e33d2\" x=\"52.160938\" y=\"106.03637\" style=\"stroke: #000000; stroke-width: 0.8\"/>\n",
       "      </g>\n",
       "     </g>\n",
       "     <g id=\"text_12\">\n",
       "      <!-- −0.5 -->\n",
       "      <g transform=\"translate(20.878125 109.835589)scale(0.1 -0.1)\">\n",
       "       <defs>\n",
       "        <path id=\"DejaVuSans-35\" d=\"M 691 4666 \n",
       "L 3169 4666 \n",
       "L 3169 4134 \n",
       "L 1269 4134 \n",
       "L 1269 2991 \n",
       "Q 1406 3038 1543 3061 \n",
       "Q 1681 3084 1819 3084 \n",
       "Q 2600 3084 3056 2656 \n",
       "Q 3513 2228 3513 1497 \n",
       "Q 3513 744 3044 326 \n",
       "Q 2575 -91 1722 -91 \n",
       "Q 1428 -91 1123 -41 \n",
       "Q 819 9 494 109 \n",
       "L 494 744 \n",
       "Q 775 591 1075 516 \n",
       "Q 1375 441 1709 441 \n",
       "Q 2250 441 2565 725 \n",
       "Q 2881 1009 2881 1497 \n",
       "Q 2881 1984 2565 2268 \n",
       "Q 2250 2553 1709 2553 \n",
       "Q 1456 2553 1204 2497 \n",
       "Q 953 2441 691 2322 \n",
       "L 691 4666 \n",
       "z\n",
       "\" transform=\"scale(0.015625)\"/>\n",
       "       </defs>\n",
       "       <use xlink:href=\"#DejaVuSans-2212\"/>\n",
       "       <use xlink:href=\"#DejaVuSans-30\" x=\"83.789062\"/>\n",
       "       <use xlink:href=\"#DejaVuSans-2e\" x=\"147.412109\"/>\n",
       "       <use xlink:href=\"#DejaVuSans-35\" x=\"179.199219\"/>\n",
       "      </g>\n",
       "     </g>\n",
       "    </g>\n",
       "    <g id=\"ytick_3\">\n",
       "     <g id=\"line2d_12\">\n",
       "      <g>\n",
       "       <use xlink:href=\"#mf8929e33d2\" x=\"52.160938\" y=\"75.149998\" style=\"stroke: #000000; stroke-width: 0.8\"/>\n",
       "      </g>\n",
       "     </g>\n",
       "     <g id=\"text_13\">\n",
       "      <!-- 0.0 -->\n",
       "      <g transform=\"translate(29.257812 78.949217)scale(0.1 -0.1)\">\n",
       "       <use xlink:href=\"#DejaVuSans-30\"/>\n",
       "       <use xlink:href=\"#DejaVuSans-2e\" x=\"63.623047\"/>\n",
       "       <use xlink:href=\"#DejaVuSans-30\" x=\"95.410156\"/>\n",
       "      </g>\n",
       "     </g>\n",
       "    </g>\n",
       "    <g id=\"ytick_4\">\n",
       "     <g id=\"line2d_13\">\n",
       "      <g>\n",
       "       <use xlink:href=\"#mf8929e33d2\" x=\"52.160938\" y=\"44.263626\" style=\"stroke: #000000; stroke-width: 0.8\"/>\n",
       "      </g>\n",
       "     </g>\n",
       "     <g id=\"text_14\">\n",
       "      <!-- 0.5 -->\n",
       "      <g transform=\"translate(29.257812 48.062845)scale(0.1 -0.1)\">\n",
       "       <use xlink:href=\"#DejaVuSans-30\"/>\n",
       "       <use xlink:href=\"#DejaVuSans-2e\" x=\"63.623047\"/>\n",
       "       <use xlink:href=\"#DejaVuSans-35\" x=\"95.410156\"/>\n",
       "      </g>\n",
       "     </g>\n",
       "    </g>\n",
       "    <g id=\"ytick_5\">\n",
       "     <g id=\"line2d_14\">\n",
       "      <g>\n",
       "       <use xlink:href=\"#mf8929e33d2\" x=\"52.160938\" y=\"13.377254\" style=\"stroke: #000000; stroke-width: 0.8\"/>\n",
       "      </g>\n",
       "     </g>\n",
       "     <g id=\"text_15\">\n",
       "      <!-- 1.0 -->\n",
       "      <g transform=\"translate(29.257812 17.176473)scale(0.1 -0.1)\">\n",
       "       <use xlink:href=\"#DejaVuSans-31\"/>\n",
       "       <use xlink:href=\"#DejaVuSans-2e\" x=\"63.623047\"/>\n",
       "       <use xlink:href=\"#DejaVuSans-30\" x=\"95.410156\"/>\n",
       "      </g>\n",
       "     </g>\n",
       "    </g>\n",
       "    <g id=\"text_16\">\n",
       "     <!-- tanh(x) -->\n",
       "     <g transform=\"translate(14.798437 93.372656)rotate(-90)scale(0.1 -0.1)\">\n",
       "      <defs>\n",
       "       <path id=\"DejaVuSans-74\" d=\"M 1172 4494 \n",
       "L 1172 3500 \n",
       "L 2356 3500 \n",
       "L 2356 3053 \n",
       "L 1172 3053 \n",
       "L 1172 1153 \n",
       "Q 1172 725 1289 603 \n",
       "Q 1406 481 1766 481 \n",
       "L 2356 481 \n",
       "L 2356 0 \n",
       "L 1766 0 \n",
       "Q 1100 0 847 248 \n",
       "Q 594 497 594 1153 \n",
       "L 594 3053 \n",
       "L 172 3053 \n",
       "L 172 3500 \n",
       "L 594 3500 \n",
       "L 594 4494 \n",
       "L 1172 4494 \n",
       "z\n",
       "\" transform=\"scale(0.015625)\"/>\n",
       "       <path id=\"DejaVuSans-61\" d=\"M 2194 1759 \n",
       "Q 1497 1759 1228 1600 \n",
       "Q 959 1441 959 1056 \n",
       "Q 959 750 1161 570 \n",
       "Q 1363 391 1709 391 \n",
       "Q 2188 391 2477 730 \n",
       "Q 2766 1069 2766 1631 \n",
       "L 2766 1759 \n",
       "L 2194 1759 \n",
       "z\n",
       "M 3341 1997 \n",
       "L 3341 0 \n",
       "L 2766 0 \n",
       "L 2766 531 \n",
       "Q 2569 213 2275 61 \n",
       "Q 1981 -91 1556 -91 \n",
       "Q 1019 -91 701 211 \n",
       "Q 384 513 384 1019 \n",
       "Q 384 1609 779 1909 \n",
       "Q 1175 2209 1959 2209 \n",
       "L 2766 2209 \n",
       "L 2766 2266 \n",
       "Q 2766 2663 2505 2880 \n",
       "Q 2244 3097 1772 3097 \n",
       "Q 1472 3097 1187 3025 \n",
       "Q 903 2953 641 2809 \n",
       "L 641 3341 \n",
       "Q 956 3463 1253 3523 \n",
       "Q 1550 3584 1831 3584 \n",
       "Q 2591 3584 2966 3190 \n",
       "Q 3341 2797 3341 1997 \n",
       "z\n",
       "\" transform=\"scale(0.015625)\"/>\n",
       "       <path id=\"DejaVuSans-6e\" d=\"M 3513 2113 \n",
       "L 3513 0 \n",
       "L 2938 0 \n",
       "L 2938 2094 \n",
       "Q 2938 2591 2744 2837 \n",
       "Q 2550 3084 2163 3084 \n",
       "Q 1697 3084 1428 2787 \n",
       "Q 1159 2491 1159 1978 \n",
       "L 1159 0 \n",
       "L 581 0 \n",
       "L 581 3500 \n",
       "L 1159 3500 \n",
       "L 1159 2956 \n",
       "Q 1366 3272 1645 3428 \n",
       "Q 1925 3584 2291 3584 \n",
       "Q 2894 3584 3203 3211 \n",
       "Q 3513 2838 3513 2113 \n",
       "z\n",
       "\" transform=\"scale(0.015625)\"/>\n",
       "       <path id=\"DejaVuSans-68\" d=\"M 3513 2113 \n",
       "L 3513 0 \n",
       "L 2938 0 \n",
       "L 2938 2094 \n",
       "Q 2938 2591 2744 2837 \n",
       "Q 2550 3084 2163 3084 \n",
       "Q 1697 3084 1428 2787 \n",
       "Q 1159 2491 1159 1978 \n",
       "L 1159 0 \n",
       "L 581 0 \n",
       "L 581 4863 \n",
       "L 1159 4863 \n",
       "L 1159 2956 \n",
       "Q 1366 3272 1645 3428 \n",
       "Q 1925 3584 2291 3584 \n",
       "Q 2894 3584 3203 3211 \n",
       "Q 3513 2838 3513 2113 \n",
       "z\n",
       "\" transform=\"scale(0.015625)\"/>\n",
       "       <path id=\"DejaVuSans-28\" d=\"M 1984 4856 \n",
       "Q 1566 4138 1362 3434 \n",
       "Q 1159 2731 1159 2009 \n",
       "Q 1159 1288 1364 580 \n",
       "Q 1569 -128 1984 -844 \n",
       "L 1484 -844 \n",
       "Q 1016 -109 783 600 \n",
       "Q 550 1309 550 2009 \n",
       "Q 550 2706 781 3412 \n",
       "Q 1013 4119 1484 4856 \n",
       "L 1984 4856 \n",
       "z\n",
       "\" transform=\"scale(0.015625)\"/>\n",
       "       <path id=\"DejaVuSans-29\" d=\"M 513 4856 \n",
       "L 1013 4856 \n",
       "Q 1481 4119 1714 3412 \n",
       "Q 1947 2706 1947 2009 \n",
       "Q 1947 1309 1714 600 \n",
       "Q 1481 -109 1013 -844 \n",
       "L 513 -844 \n",
       "Q 928 -128 1133 580 \n",
       "Q 1338 1288 1338 2009 \n",
       "Q 1338 2731 1133 3434 \n",
       "Q 928 4138 513 4856 \n",
       "z\n",
       "\" transform=\"scale(0.015625)\"/>\n",
       "      </defs>\n",
       "      <use xlink:href=\"#DejaVuSans-74\"/>\n",
       "      <use xlink:href=\"#DejaVuSans-61\" x=\"39.208984\"/>\n",
       "      <use xlink:href=\"#DejaVuSans-6e\" x=\"100.488281\"/>\n",
       "      <use xlink:href=\"#DejaVuSans-68\" x=\"163.867188\"/>\n",
       "      <use xlink:href=\"#DejaVuSans-28\" x=\"227.246094\"/>\n",
       "      <use xlink:href=\"#DejaVuSans-78\" x=\"266.259766\"/>\n",
       "      <use xlink:href=\"#DejaVuSans-29\" x=\"325.439453\"/>\n",
       "     </g>\n",
       "    </g>\n",
       "   </g>\n",
       "   <g id=\"line2d_15\">\n",
       "    <path d=\"M 64.842756 136.922727 \n",
       "L 135.031438 136.830572 \n",
       "L 144.60262 136.617262 \n",
       "L 150.983407 136.244933 \n",
       "L 155.768998 135.693242 \n",
       "L 158.959394 135.097478 \n",
       "L 162.149789 134.219412 \n",
       "L 163.744987 133.636804 \n",
       "L 165.340184 132.932783 \n",
       "L 166.935382 132.083992 \n",
       "L 168.53058 131.06349 \n",
       "L 170.125777 129.840599 \n",
       "L 171.720973 128.381004 \n",
       "L 173.316171 126.647133 \n",
       "L 174.911369 124.599019 \n",
       "L 176.506566 122.19576 \n",
       "L 178.101763 119.397683 \n",
       "L 179.696961 116.16937 \n",
       "L 181.292158 112.483455 \n",
       "L 182.887355 108.325025 \n",
       "L 184.482553 103.696243 \n",
       "L 186.07775 98.620489 \n",
       "L 189.268144 87.342415 \n",
       "L 197.244131 57.154817 \n",
       "L 198.839328 51.679508 \n",
       "L 200.434526 46.603753 \n",
       "L 202.029723 41.974971 \n",
       "L 203.62492 37.816541 \n",
       "L 205.220118 34.130626 \n",
       "L 206.815315 30.902314 \n",
       "L 208.410512 28.104236 \n",
       "L 210.00571 25.700977 \n",
       "L 211.600907 23.652864 \n",
       "L 213.196103 21.918996 \n",
       "L 214.791301 20.459397 \n",
       "L 216.386499 19.236506 \n",
       "L 217.981696 18.216004 \n",
       "L 219.576894 17.367213 \n",
       "L 222.767287 16.080588 \n",
       "L 225.957681 15.202518 \n",
       "L 229.148076 14.606754 \n",
       "L 233.933671 14.055063 \n",
       "L 238.719262 13.750165 \n",
       "L 246.695249 13.514705 \n",
       "L 261.052026 13.399994 \n",
       "L 312.098336 13.377291 \n",
       "L 318.479119 13.377273 \n",
       "L 318.479119 13.377273 \n",
       "\" clip-path=\"url(#p3135a5c186)\" style=\"fill: none; stroke: #1f77b4; stroke-width: 1.5; stroke-linecap: square\"/>\n",
       "   </g>\n",
       "   <g id=\"patch_3\">\n",
       "    <path d=\"M 52.160938 143.1 \n",
       "L 52.160938 7.2 \n",
       "\" style=\"fill: none; stroke: #000000; stroke-width: 0.8; stroke-linejoin: miter; stroke-linecap: square\"/>\n",
       "   </g>\n",
       "   <g id=\"patch_4\">\n",
       "    <path d=\"M 331.160937 143.1 \n",
       "L 331.160937 7.2 \n",
       "\" style=\"fill: none; stroke: #000000; stroke-width: 0.8; stroke-linejoin: miter; stroke-linecap: square\"/>\n",
       "   </g>\n",
       "   <g id=\"patch_5\">\n",
       "    <path d=\"M 52.160938 143.1 \n",
       "L 331.160938 143.1 \n",
       "\" style=\"fill: none; stroke: #000000; stroke-width: 0.8; stroke-linejoin: miter; stroke-linecap: square\"/>\n",
       "   </g>\n",
       "   <g id=\"patch_6\">\n",
       "    <path d=\"M 52.160938 7.2 \n",
       "L 331.160938 7.2 \n",
       "\" style=\"fill: none; stroke: #000000; stroke-width: 0.8; stroke-linejoin: miter; stroke-linecap: square\"/>\n",
       "   </g>\n",
       "  </g>\n",
       " </g>\n",
       " <defs>\n",
       "  <clipPath id=\"p3135a5c186\">\n",
       "   <rect x=\"52.160938\" y=\"7.2\" width=\"279\" height=\"135.9\"/>\n",
       "  </clipPath>\n",
       " </defs>\n",
       "</svg>\n"
      ],
      "text/plain": [
       "<Figure size 360x180 with 1 Axes>"
      ]
     },
     "metadata": {
      "needs_background": "light"
     },
     "output_type": "display_data"
    }
   ],
   "source": [
    "y = x.tanh()\n",
    "xyplot(x,y,'tanh')"
   ]
  },
  {
   "cell_type": "code",
   "execution_count": 311,
   "metadata": {},
   "outputs": [
    {
     "data": {
      "image/svg+xml": [
       "<?xml version=\"1.0\" encoding=\"utf-8\" standalone=\"no\"?>\n",
       "<!DOCTYPE svg PUBLIC \"-//W3C//DTD SVG 1.1//EN\"\n",
       "  \"http://www.w3.org/Graphics/SVG/1.1/DTD/svg11.dtd\">\n",
       "<svg xmlns:xlink=\"http://www.w3.org/1999/xlink\" width=\"329.98125pt\" height=\"180.65625pt\" viewBox=\"0 0 329.98125 180.65625\" xmlns=\"http://www.w3.org/2000/svg\" version=\"1.1\">\n",
       " <metadata>\n",
       "  <rdf:RDF xmlns:dc=\"http://purl.org/dc/elements/1.1/\" xmlns:cc=\"http://creativecommons.org/ns#\" xmlns:rdf=\"http://www.w3.org/1999/02/22-rdf-syntax-ns#\">\n",
       "   <cc:Work>\n",
       "    <dc:type rdf:resource=\"http://purl.org/dc/dcmitype/StillImage\"/>\n",
       "    <dc:date>2023-01-05T18:55:49.385062</dc:date>\n",
       "    <dc:format>image/svg+xml</dc:format>\n",
       "    <dc:creator>\n",
       "     <cc:Agent>\n",
       "      <dc:title>Matplotlib v3.5.1, https://matplotlib.org/</dc:title>\n",
       "     </cc:Agent>\n",
       "    </dc:creator>\n",
       "   </cc:Work>\n",
       "  </rdf:RDF>\n",
       " </metadata>\n",
       " <defs>\n",
       "  <style type=\"text/css\">*{stroke-linejoin: round; stroke-linecap: butt}</style>\n",
       " </defs>\n",
       " <g id=\"figure_1\">\n",
       "  <g id=\"patch_1\">\n",
       "   <path d=\"M 0 180.65625 \n",
       "L 329.98125 180.65625 \n",
       "L 329.98125 0 \n",
       "L 0 0 \n",
       "L 0 180.65625 \n",
       "z\n",
       "\" style=\"fill: none\"/>\n",
       "  </g>\n",
       "  <g id=\"axes_1\">\n",
       "   <g id=\"patch_2\">\n",
       "    <path d=\"M 43.78125 143.1 \n",
       "L 322.78125 143.1 \n",
       "L 322.78125 7.2 \n",
       "L 43.78125 7.2 \n",
       "z\n",
       "\" style=\"fill: #ffffff\"/>\n",
       "   </g>\n",
       "   <g id=\"matplotlib.axis_1\">\n",
       "    <g id=\"xtick_1\">\n",
       "     <g id=\"line2d_1\">\n",
       "      <defs>\n",
       "       <path id=\"m29b67abac3\" d=\"M 0 0 \n",
       "L 0 3.5 \n",
       "\" style=\"stroke: #000000; stroke-width: 0.8\"/>\n",
       "      </defs>\n",
       "      <g>\n",
       "       <use xlink:href=\"#m29b67abac3\" x=\"56.463068\" y=\"143.1\" style=\"stroke: #000000; stroke-width: 0.8\"/>\n",
       "      </g>\n",
       "     </g>\n",
       "     <g id=\"text_1\">\n",
       "      <!-- −8 -->\n",
       "      <g transform=\"translate(49.091974 157.698438)scale(0.1 -0.1)\">\n",
       "       <defs>\n",
       "        <path id=\"DejaVuSans-2212\" d=\"M 678 2272 \n",
       "L 4684 2272 \n",
       "L 4684 1741 \n",
       "L 678 1741 \n",
       "L 678 2272 \n",
       "z\n",
       "\" transform=\"scale(0.015625)\"/>\n",
       "        <path id=\"DejaVuSans-38\" d=\"M 2034 2216 \n",
       "Q 1584 2216 1326 1975 \n",
       "Q 1069 1734 1069 1313 \n",
       "Q 1069 891 1326 650 \n",
       "Q 1584 409 2034 409 \n",
       "Q 2484 409 2743 651 \n",
       "Q 3003 894 3003 1313 \n",
       "Q 3003 1734 2745 1975 \n",
       "Q 2488 2216 2034 2216 \n",
       "z\n",
       "M 1403 2484 \n",
       "Q 997 2584 770 2862 \n",
       "Q 544 3141 544 3541 \n",
       "Q 544 4100 942 4425 \n",
       "Q 1341 4750 2034 4750 \n",
       "Q 2731 4750 3128 4425 \n",
       "Q 3525 4100 3525 3541 \n",
       "Q 3525 3141 3298 2862 \n",
       "Q 3072 2584 2669 2484 \n",
       "Q 3125 2378 3379 2068 \n",
       "Q 3634 1759 3634 1313 \n",
       "Q 3634 634 3220 271 \n",
       "Q 2806 -91 2034 -91 \n",
       "Q 1263 -91 848 271 \n",
       "Q 434 634 434 1313 \n",
       "Q 434 1759 690 2068 \n",
       "Q 947 2378 1403 2484 \n",
       "z\n",
       "M 1172 3481 \n",
       "Q 1172 3119 1398 2916 \n",
       "Q 1625 2713 2034 2713 \n",
       "Q 2441 2713 2670 2916 \n",
       "Q 2900 3119 2900 3481 \n",
       "Q 2900 3844 2670 4047 \n",
       "Q 2441 4250 2034 4250 \n",
       "Q 1625 4250 1398 4047 \n",
       "Q 1172 3844 1172 3481 \n",
       "z\n",
       "\" transform=\"scale(0.015625)\"/>\n",
       "       </defs>\n",
       "       <use xlink:href=\"#DejaVuSans-2212\"/>\n",
       "       <use xlink:href=\"#DejaVuSans-38\" x=\"83.789062\"/>\n",
       "      </g>\n",
       "     </g>\n",
       "    </g>\n",
       "    <g id=\"xtick_2\">\n",
       "     <g id=\"line2d_2\">\n",
       "      <g>\n",
       "       <use xlink:href=\"#m29b67abac3\" x=\"88.367014\" y=\"143.1\" style=\"stroke: #000000; stroke-width: 0.8\"/>\n",
       "      </g>\n",
       "     </g>\n",
       "     <g id=\"text_2\">\n",
       "      <!-- −6 -->\n",
       "      <g transform=\"translate(80.99592 157.698438)scale(0.1 -0.1)\">\n",
       "       <defs>\n",
       "        <path id=\"DejaVuSans-36\" d=\"M 2113 2584 \n",
       "Q 1688 2584 1439 2293 \n",
       "Q 1191 2003 1191 1497 \n",
       "Q 1191 994 1439 701 \n",
       "Q 1688 409 2113 409 \n",
       "Q 2538 409 2786 701 \n",
       "Q 3034 994 3034 1497 \n",
       "Q 3034 2003 2786 2293 \n",
       "Q 2538 2584 2113 2584 \n",
       "z\n",
       "M 3366 4563 \n",
       "L 3366 3988 \n",
       "Q 3128 4100 2886 4159 \n",
       "Q 2644 4219 2406 4219 \n",
       "Q 1781 4219 1451 3797 \n",
       "Q 1122 3375 1075 2522 \n",
       "Q 1259 2794 1537 2939 \n",
       "Q 1816 3084 2150 3084 \n",
       "Q 2853 3084 3261 2657 \n",
       "Q 3669 2231 3669 1497 \n",
       "Q 3669 778 3244 343 \n",
       "Q 2819 -91 2113 -91 \n",
       "Q 1303 -91 875 529 \n",
       "Q 447 1150 447 2328 \n",
       "Q 447 3434 972 4092 \n",
       "Q 1497 4750 2381 4750 \n",
       "Q 2619 4750 2861 4703 \n",
       "Q 3103 4656 3366 4563 \n",
       "z\n",
       "\" transform=\"scale(0.015625)\"/>\n",
       "       </defs>\n",
       "       <use xlink:href=\"#DejaVuSans-2212\"/>\n",
       "       <use xlink:href=\"#DejaVuSans-36\" x=\"83.789062\"/>\n",
       "      </g>\n",
       "     </g>\n",
       "    </g>\n",
       "    <g id=\"xtick_3\">\n",
       "     <g id=\"line2d_3\">\n",
       "      <g>\n",
       "       <use xlink:href=\"#m29b67abac3\" x=\"120.27096\" y=\"143.1\" style=\"stroke: #000000; stroke-width: 0.8\"/>\n",
       "      </g>\n",
       "     </g>\n",
       "     <g id=\"text_3\">\n",
       "      <!-- −4 -->\n",
       "      <g transform=\"translate(112.899866 157.698438)scale(0.1 -0.1)\">\n",
       "       <defs>\n",
       "        <path id=\"DejaVuSans-34\" d=\"M 2419 4116 \n",
       "L 825 1625 \n",
       "L 2419 1625 \n",
       "L 2419 4116 \n",
       "z\n",
       "M 2253 4666 \n",
       "L 3047 4666 \n",
       "L 3047 1625 \n",
       "L 3713 1625 \n",
       "L 3713 1100 \n",
       "L 3047 1100 \n",
       "L 3047 0 \n",
       "L 2419 0 \n",
       "L 2419 1100 \n",
       "L 313 1100 \n",
       "L 313 1709 \n",
       "L 2253 4666 \n",
       "z\n",
       "\" transform=\"scale(0.015625)\"/>\n",
       "       </defs>\n",
       "       <use xlink:href=\"#DejaVuSans-2212\"/>\n",
       "       <use xlink:href=\"#DejaVuSans-34\" x=\"83.789062\"/>\n",
       "      </g>\n",
       "     </g>\n",
       "    </g>\n",
       "    <g id=\"xtick_4\">\n",
       "     <g id=\"line2d_4\">\n",
       "      <g>\n",
       "       <use xlink:href=\"#m29b67abac3\" x=\"152.174906\" y=\"143.1\" style=\"stroke: #000000; stroke-width: 0.8\"/>\n",
       "      </g>\n",
       "     </g>\n",
       "     <g id=\"text_4\">\n",
       "      <!-- −2 -->\n",
       "      <g transform=\"translate(144.803812 157.698438)scale(0.1 -0.1)\">\n",
       "       <defs>\n",
       "        <path id=\"DejaVuSans-32\" d=\"M 1228 531 \n",
       "L 3431 531 \n",
       "L 3431 0 \n",
       "L 469 0 \n",
       "L 469 531 \n",
       "Q 828 903 1448 1529 \n",
       "Q 2069 2156 2228 2338 \n",
       "Q 2531 2678 2651 2914 \n",
       "Q 2772 3150 2772 3378 \n",
       "Q 2772 3750 2511 3984 \n",
       "Q 2250 4219 1831 4219 \n",
       "Q 1534 4219 1204 4116 \n",
       "Q 875 4013 500 3803 \n",
       "L 500 4441 \n",
       "Q 881 4594 1212 4672 \n",
       "Q 1544 4750 1819 4750 \n",
       "Q 2544 4750 2975 4387 \n",
       "Q 3406 4025 3406 3419 \n",
       "Q 3406 3131 3298 2873 \n",
       "Q 3191 2616 2906 2266 \n",
       "Q 2828 2175 2409 1742 \n",
       "Q 1991 1309 1228 531 \n",
       "z\n",
       "\" transform=\"scale(0.015625)\"/>\n",
       "       </defs>\n",
       "       <use xlink:href=\"#DejaVuSans-2212\"/>\n",
       "       <use xlink:href=\"#DejaVuSans-32\" x=\"83.789062\"/>\n",
       "      </g>\n",
       "     </g>\n",
       "    </g>\n",
       "    <g id=\"xtick_5\">\n",
       "     <g id=\"line2d_5\">\n",
       "      <g>\n",
       "       <use xlink:href=\"#m29b67abac3\" x=\"184.078852\" y=\"143.1\" style=\"stroke: #000000; stroke-width: 0.8\"/>\n",
       "      </g>\n",
       "     </g>\n",
       "     <g id=\"text_5\">\n",
       "      <!-- 0 -->\n",
       "      <g transform=\"translate(180.897602 157.698438)scale(0.1 -0.1)\">\n",
       "       <defs>\n",
       "        <path id=\"DejaVuSans-30\" d=\"M 2034 4250 \n",
       "Q 1547 4250 1301 3770 \n",
       "Q 1056 3291 1056 2328 \n",
       "Q 1056 1369 1301 889 \n",
       "Q 1547 409 2034 409 \n",
       "Q 2525 409 2770 889 \n",
       "Q 3016 1369 3016 2328 \n",
       "Q 3016 3291 2770 3770 \n",
       "Q 2525 4250 2034 4250 \n",
       "z\n",
       "M 2034 4750 \n",
       "Q 2819 4750 3233 4129 \n",
       "Q 3647 3509 3647 2328 \n",
       "Q 3647 1150 3233 529 \n",
       "Q 2819 -91 2034 -91 \n",
       "Q 1250 -91 836 529 \n",
       "Q 422 1150 422 2328 \n",
       "Q 422 3509 836 4129 \n",
       "Q 1250 4750 2034 4750 \n",
       "z\n",
       "\" transform=\"scale(0.015625)\"/>\n",
       "       </defs>\n",
       "       <use xlink:href=\"#DejaVuSans-30\"/>\n",
       "      </g>\n",
       "     </g>\n",
       "    </g>\n",
       "    <g id=\"xtick_6\">\n",
       "     <g id=\"line2d_6\">\n",
       "      <g>\n",
       "       <use xlink:href=\"#m29b67abac3\" x=\"215.982798\" y=\"143.1\" style=\"stroke: #000000; stroke-width: 0.8\"/>\n",
       "      </g>\n",
       "     </g>\n",
       "     <g id=\"text_6\">\n",
       "      <!-- 2 -->\n",
       "      <g transform=\"translate(212.801548 157.698438)scale(0.1 -0.1)\">\n",
       "       <use xlink:href=\"#DejaVuSans-32\"/>\n",
       "      </g>\n",
       "     </g>\n",
       "    </g>\n",
       "    <g id=\"xtick_7\">\n",
       "     <g id=\"line2d_7\">\n",
       "      <g>\n",
       "       <use xlink:href=\"#m29b67abac3\" x=\"247.886743\" y=\"143.1\" style=\"stroke: #000000; stroke-width: 0.8\"/>\n",
       "      </g>\n",
       "     </g>\n",
       "     <g id=\"text_7\">\n",
       "      <!-- 4 -->\n",
       "      <g transform=\"translate(244.705493 157.698438)scale(0.1 -0.1)\">\n",
       "       <use xlink:href=\"#DejaVuSans-34\"/>\n",
       "      </g>\n",
       "     </g>\n",
       "    </g>\n",
       "    <g id=\"xtick_8\">\n",
       "     <g id=\"line2d_8\">\n",
       "      <g>\n",
       "       <use xlink:href=\"#m29b67abac3\" x=\"279.790689\" y=\"143.1\" style=\"stroke: #000000; stroke-width: 0.8\"/>\n",
       "      </g>\n",
       "     </g>\n",
       "     <g id=\"text_8\">\n",
       "      <!-- 6 -->\n",
       "      <g transform=\"translate(276.609439 157.698438)scale(0.1 -0.1)\">\n",
       "       <use xlink:href=\"#DejaVuSans-36\"/>\n",
       "      </g>\n",
       "     </g>\n",
       "    </g>\n",
       "    <g id=\"xtick_9\">\n",
       "     <g id=\"line2d_9\">\n",
       "      <g>\n",
       "       <use xlink:href=\"#m29b67abac3\" x=\"311.694635\" y=\"143.1\" style=\"stroke: #000000; stroke-width: 0.8\"/>\n",
       "      </g>\n",
       "     </g>\n",
       "     <g id=\"text_9\">\n",
       "      <!-- 8 -->\n",
       "      <g transform=\"translate(308.513385 157.698438)scale(0.1 -0.1)\">\n",
       "       <use xlink:href=\"#DejaVuSans-38\"/>\n",
       "      </g>\n",
       "     </g>\n",
       "    </g>\n",
       "    <g id=\"text_10\">\n",
       "     <!-- x -->\n",
       "     <g transform=\"translate(180.321875 171.376563)scale(0.1 -0.1)\">\n",
       "      <defs>\n",
       "       <path id=\"DejaVuSans-78\" d=\"M 3513 3500 \n",
       "L 2247 1797 \n",
       "L 3578 0 \n",
       "L 2900 0 \n",
       "L 1881 1375 \n",
       "L 863 0 \n",
       "L 184 0 \n",
       "L 1544 1831 \n",
       "L 300 3500 \n",
       "L 978 3500 \n",
       "L 1906 2253 \n",
       "L 2834 3500 \n",
       "L 3513 3500 \n",
       "z\n",
       "\" transform=\"scale(0.015625)\"/>\n",
       "      </defs>\n",
       "      <use xlink:href=\"#DejaVuSans-78\"/>\n",
       "     </g>\n",
       "    </g>\n",
       "   </g>\n",
       "   <g id=\"matplotlib.axis_2\">\n",
       "    <g id=\"ytick_1\">\n",
       "     <g id=\"line2d_10\">\n",
       "      <defs>\n",
       "       <path id=\"mee16ec7074\" d=\"M 0 0 \n",
       "L -3.5 0 \n",
       "\" style=\"stroke: #000000; stroke-width: 0.8\"/>\n",
       "      </defs>\n",
       "      <g>\n",
       "       <use xlink:href=\"#mee16ec7074\" x=\"43.78125\" y=\"136.922786\" style=\"stroke: #000000; stroke-width: 0.8\"/>\n",
       "      </g>\n",
       "     </g>\n",
       "     <g id=\"text_11\">\n",
       "      <!-- 0.0 -->\n",
       "      <g transform=\"translate(20.878125 140.722005)scale(0.1 -0.1)\">\n",
       "       <defs>\n",
       "        <path id=\"DejaVuSans-2e\" d=\"M 684 794 \n",
       "L 1344 794 \n",
       "L 1344 0 \n",
       "L 684 0 \n",
       "L 684 794 \n",
       "z\n",
       "\" transform=\"scale(0.015625)\"/>\n",
       "       </defs>\n",
       "       <use xlink:href=\"#DejaVuSans-30\"/>\n",
       "       <use xlink:href=\"#DejaVuSans-2e\" x=\"63.623047\"/>\n",
       "       <use xlink:href=\"#DejaVuSans-30\" x=\"95.410156\"/>\n",
       "      </g>\n",
       "     </g>\n",
       "    </g>\n",
       "    <g id=\"ytick_2\">\n",
       "     <g id=\"line2d_11\">\n",
       "      <g>\n",
       "       <use xlink:href=\"#mee16ec7074\" x=\"43.78125\" y=\"112.213683\" style=\"stroke: #000000; stroke-width: 0.8\"/>\n",
       "      </g>\n",
       "     </g>\n",
       "     <g id=\"text_12\">\n",
       "      <!-- 0.2 -->\n",
       "      <g transform=\"translate(20.878125 116.012902)scale(0.1 -0.1)\">\n",
       "       <use xlink:href=\"#DejaVuSans-30\"/>\n",
       "       <use xlink:href=\"#DejaVuSans-2e\" x=\"63.623047\"/>\n",
       "       <use xlink:href=\"#DejaVuSans-32\" x=\"95.410156\"/>\n",
       "      </g>\n",
       "     </g>\n",
       "    </g>\n",
       "    <g id=\"ytick_3\">\n",
       "     <g id=\"line2d_12\">\n",
       "      <g>\n",
       "       <use xlink:href=\"#mee16ec7074\" x=\"43.78125\" y=\"87.504581\" style=\"stroke: #000000; stroke-width: 0.8\"/>\n",
       "      </g>\n",
       "     </g>\n",
       "     <g id=\"text_13\">\n",
       "      <!-- 0.4 -->\n",
       "      <g transform=\"translate(20.878125 91.3038)scale(0.1 -0.1)\">\n",
       "       <use xlink:href=\"#DejaVuSans-30\"/>\n",
       "       <use xlink:href=\"#DejaVuSans-2e\" x=\"63.623047\"/>\n",
       "       <use xlink:href=\"#DejaVuSans-34\" x=\"95.410156\"/>\n",
       "      </g>\n",
       "     </g>\n",
       "    </g>\n",
       "    <g id=\"ytick_4\">\n",
       "     <g id=\"line2d_13\">\n",
       "      <g>\n",
       "       <use xlink:href=\"#mee16ec7074\" x=\"43.78125\" y=\"62.795478\" style=\"stroke: #000000; stroke-width: 0.8\"/>\n",
       "      </g>\n",
       "     </g>\n",
       "     <g id=\"text_14\">\n",
       "      <!-- 0.6 -->\n",
       "      <g transform=\"translate(20.878125 66.594697)scale(0.1 -0.1)\">\n",
       "       <use xlink:href=\"#DejaVuSans-30\"/>\n",
       "       <use xlink:href=\"#DejaVuSans-2e\" x=\"63.623047\"/>\n",
       "       <use xlink:href=\"#DejaVuSans-36\" x=\"95.410156\"/>\n",
       "      </g>\n",
       "     </g>\n",
       "    </g>\n",
       "    <g id=\"ytick_5\">\n",
       "     <g id=\"line2d_14\">\n",
       "      <g>\n",
       "       <use xlink:href=\"#mee16ec7074\" x=\"43.78125\" y=\"38.086375\" style=\"stroke: #000000; stroke-width: 0.8\"/>\n",
       "      </g>\n",
       "     </g>\n",
       "     <g id=\"text_15\">\n",
       "      <!-- 0.8 -->\n",
       "      <g transform=\"translate(20.878125 41.885594)scale(0.1 -0.1)\">\n",
       "       <use xlink:href=\"#DejaVuSans-30\"/>\n",
       "       <use xlink:href=\"#DejaVuSans-2e\" x=\"63.623047\"/>\n",
       "       <use xlink:href=\"#DejaVuSans-38\" x=\"95.410156\"/>\n",
       "      </g>\n",
       "     </g>\n",
       "    </g>\n",
       "    <g id=\"ytick_6\">\n",
       "     <g id=\"line2d_15\">\n",
       "      <g>\n",
       "       <use xlink:href=\"#mee16ec7074\" x=\"43.78125\" y=\"13.377273\" style=\"stroke: #000000; stroke-width: 0.8\"/>\n",
       "      </g>\n",
       "     </g>\n",
       "     <g id=\"text_16\">\n",
       "      <!-- 1.0 -->\n",
       "      <g transform=\"translate(20.878125 17.176491)scale(0.1 -0.1)\">\n",
       "       <defs>\n",
       "        <path id=\"DejaVuSans-31\" d=\"M 794 531 \n",
       "L 1825 531 \n",
       "L 1825 4091 \n",
       "L 703 3866 \n",
       "L 703 4441 \n",
       "L 1819 4666 \n",
       "L 2450 4666 \n",
       "L 2450 531 \n",
       "L 3481 531 \n",
       "L 3481 0 \n",
       "L 794 0 \n",
       "L 794 531 \n",
       "z\n",
       "\" transform=\"scale(0.015625)\"/>\n",
       "       </defs>\n",
       "       <use xlink:href=\"#DejaVuSans-31\"/>\n",
       "       <use xlink:href=\"#DejaVuSans-2e\" x=\"63.623047\"/>\n",
       "       <use xlink:href=\"#DejaVuSans-30\" x=\"95.410156\"/>\n",
       "      </g>\n",
       "     </g>\n",
       "    </g>\n",
       "    <g id=\"text_17\">\n",
       "     <!-- grad of tanh(x) -->\n",
       "     <g transform=\"translate(14.798438 112.838281)rotate(-90)scale(0.1 -0.1)\">\n",
       "      <defs>\n",
       "       <path id=\"DejaVuSans-67\" d=\"M 2906 1791 \n",
       "Q 2906 2416 2648 2759 \n",
       "Q 2391 3103 1925 3103 \n",
       "Q 1463 3103 1205 2759 \n",
       "Q 947 2416 947 1791 \n",
       "Q 947 1169 1205 825 \n",
       "Q 1463 481 1925 481 \n",
       "Q 2391 481 2648 825 \n",
       "Q 2906 1169 2906 1791 \n",
       "z\n",
       "M 3481 434 \n",
       "Q 3481 -459 3084 -895 \n",
       "Q 2688 -1331 1869 -1331 \n",
       "Q 1566 -1331 1297 -1286 \n",
       "Q 1028 -1241 775 -1147 \n",
       "L 775 -588 \n",
       "Q 1028 -725 1275 -790 \n",
       "Q 1522 -856 1778 -856 \n",
       "Q 2344 -856 2625 -561 \n",
       "Q 2906 -266 2906 331 \n",
       "L 2906 616 \n",
       "Q 2728 306 2450 153 \n",
       "Q 2172 0 1784 0 \n",
       "Q 1141 0 747 490 \n",
       "Q 353 981 353 1791 \n",
       "Q 353 2603 747 3093 \n",
       "Q 1141 3584 1784 3584 \n",
       "Q 2172 3584 2450 3431 \n",
       "Q 2728 3278 2906 2969 \n",
       "L 2906 3500 \n",
       "L 3481 3500 \n",
       "L 3481 434 \n",
       "z\n",
       "\" transform=\"scale(0.015625)\"/>\n",
       "       <path id=\"DejaVuSans-72\" d=\"M 2631 2963 \n",
       "Q 2534 3019 2420 3045 \n",
       "Q 2306 3072 2169 3072 \n",
       "Q 1681 3072 1420 2755 \n",
       "Q 1159 2438 1159 1844 \n",
       "L 1159 0 \n",
       "L 581 0 \n",
       "L 581 3500 \n",
       "L 1159 3500 \n",
       "L 1159 2956 \n",
       "Q 1341 3275 1631 3429 \n",
       "Q 1922 3584 2338 3584 \n",
       "Q 2397 3584 2469 3576 \n",
       "Q 2541 3569 2628 3553 \n",
       "L 2631 2963 \n",
       "z\n",
       "\" transform=\"scale(0.015625)\"/>\n",
       "       <path id=\"DejaVuSans-61\" d=\"M 2194 1759 \n",
       "Q 1497 1759 1228 1600 \n",
       "Q 959 1441 959 1056 \n",
       "Q 959 750 1161 570 \n",
       "Q 1363 391 1709 391 \n",
       "Q 2188 391 2477 730 \n",
       "Q 2766 1069 2766 1631 \n",
       "L 2766 1759 \n",
       "L 2194 1759 \n",
       "z\n",
       "M 3341 1997 \n",
       "L 3341 0 \n",
       "L 2766 0 \n",
       "L 2766 531 \n",
       "Q 2569 213 2275 61 \n",
       "Q 1981 -91 1556 -91 \n",
       "Q 1019 -91 701 211 \n",
       "Q 384 513 384 1019 \n",
       "Q 384 1609 779 1909 \n",
       "Q 1175 2209 1959 2209 \n",
       "L 2766 2209 \n",
       "L 2766 2266 \n",
       "Q 2766 2663 2505 2880 \n",
       "Q 2244 3097 1772 3097 \n",
       "Q 1472 3097 1187 3025 \n",
       "Q 903 2953 641 2809 \n",
       "L 641 3341 \n",
       "Q 956 3463 1253 3523 \n",
       "Q 1550 3584 1831 3584 \n",
       "Q 2591 3584 2966 3190 \n",
       "Q 3341 2797 3341 1997 \n",
       "z\n",
       "\" transform=\"scale(0.015625)\"/>\n",
       "       <path id=\"DejaVuSans-64\" d=\"M 2906 2969 \n",
       "L 2906 4863 \n",
       "L 3481 4863 \n",
       "L 3481 0 \n",
       "L 2906 0 \n",
       "L 2906 525 \n",
       "Q 2725 213 2448 61 \n",
       "Q 2172 -91 1784 -91 \n",
       "Q 1150 -91 751 415 \n",
       "Q 353 922 353 1747 \n",
       "Q 353 2572 751 3078 \n",
       "Q 1150 3584 1784 3584 \n",
       "Q 2172 3584 2448 3432 \n",
       "Q 2725 3281 2906 2969 \n",
       "z\n",
       "M 947 1747 \n",
       "Q 947 1113 1208 752 \n",
       "Q 1469 391 1925 391 \n",
       "Q 2381 391 2643 752 \n",
       "Q 2906 1113 2906 1747 \n",
       "Q 2906 2381 2643 2742 \n",
       "Q 2381 3103 1925 3103 \n",
       "Q 1469 3103 1208 2742 \n",
       "Q 947 2381 947 1747 \n",
       "z\n",
       "\" transform=\"scale(0.015625)\"/>\n",
       "       <path id=\"DejaVuSans-20\" transform=\"scale(0.015625)\"/>\n",
       "       <path id=\"DejaVuSans-6f\" d=\"M 1959 3097 \n",
       "Q 1497 3097 1228 2736 \n",
       "Q 959 2375 959 1747 \n",
       "Q 959 1119 1226 758 \n",
       "Q 1494 397 1959 397 \n",
       "Q 2419 397 2687 759 \n",
       "Q 2956 1122 2956 1747 \n",
       "Q 2956 2369 2687 2733 \n",
       "Q 2419 3097 1959 3097 \n",
       "z\n",
       "M 1959 3584 \n",
       "Q 2709 3584 3137 3096 \n",
       "Q 3566 2609 3566 1747 \n",
       "Q 3566 888 3137 398 \n",
       "Q 2709 -91 1959 -91 \n",
       "Q 1206 -91 779 398 \n",
       "Q 353 888 353 1747 \n",
       "Q 353 2609 779 3096 \n",
       "Q 1206 3584 1959 3584 \n",
       "z\n",
       "\" transform=\"scale(0.015625)\"/>\n",
       "       <path id=\"DejaVuSans-66\" d=\"M 2375 4863 \n",
       "L 2375 4384 \n",
       "L 1825 4384 \n",
       "Q 1516 4384 1395 4259 \n",
       "Q 1275 4134 1275 3809 \n",
       "L 1275 3500 \n",
       "L 2222 3500 \n",
       "L 2222 3053 \n",
       "L 1275 3053 \n",
       "L 1275 0 \n",
       "L 697 0 \n",
       "L 697 3053 \n",
       "L 147 3053 \n",
       "L 147 3500 \n",
       "L 697 3500 \n",
       "L 697 3744 \n",
       "Q 697 4328 969 4595 \n",
       "Q 1241 4863 1831 4863 \n",
       "L 2375 4863 \n",
       "z\n",
       "\" transform=\"scale(0.015625)\"/>\n",
       "       <path id=\"DejaVuSans-74\" d=\"M 1172 4494 \n",
       "L 1172 3500 \n",
       "L 2356 3500 \n",
       "L 2356 3053 \n",
       "L 1172 3053 \n",
       "L 1172 1153 \n",
       "Q 1172 725 1289 603 \n",
       "Q 1406 481 1766 481 \n",
       "L 2356 481 \n",
       "L 2356 0 \n",
       "L 1766 0 \n",
       "Q 1100 0 847 248 \n",
       "Q 594 497 594 1153 \n",
       "L 594 3053 \n",
       "L 172 3053 \n",
       "L 172 3500 \n",
       "L 594 3500 \n",
       "L 594 4494 \n",
       "L 1172 4494 \n",
       "z\n",
       "\" transform=\"scale(0.015625)\"/>\n",
       "       <path id=\"DejaVuSans-6e\" d=\"M 3513 2113 \n",
       "L 3513 0 \n",
       "L 2938 0 \n",
       "L 2938 2094 \n",
       "Q 2938 2591 2744 2837 \n",
       "Q 2550 3084 2163 3084 \n",
       "Q 1697 3084 1428 2787 \n",
       "Q 1159 2491 1159 1978 \n",
       "L 1159 0 \n",
       "L 581 0 \n",
       "L 581 3500 \n",
       "L 1159 3500 \n",
       "L 1159 2956 \n",
       "Q 1366 3272 1645 3428 \n",
       "Q 1925 3584 2291 3584 \n",
       "Q 2894 3584 3203 3211 \n",
       "Q 3513 2838 3513 2113 \n",
       "z\n",
       "\" transform=\"scale(0.015625)\"/>\n",
       "       <path id=\"DejaVuSans-68\" d=\"M 3513 2113 \n",
       "L 3513 0 \n",
       "L 2938 0 \n",
       "L 2938 2094 \n",
       "Q 2938 2591 2744 2837 \n",
       "Q 2550 3084 2163 3084 \n",
       "Q 1697 3084 1428 2787 \n",
       "Q 1159 2491 1159 1978 \n",
       "L 1159 0 \n",
       "L 581 0 \n",
       "L 581 4863 \n",
       "L 1159 4863 \n",
       "L 1159 2956 \n",
       "Q 1366 3272 1645 3428 \n",
       "Q 1925 3584 2291 3584 \n",
       "Q 2894 3584 3203 3211 \n",
       "Q 3513 2838 3513 2113 \n",
       "z\n",
       "\" transform=\"scale(0.015625)\"/>\n",
       "       <path id=\"DejaVuSans-28\" d=\"M 1984 4856 \n",
       "Q 1566 4138 1362 3434 \n",
       "Q 1159 2731 1159 2009 \n",
       "Q 1159 1288 1364 580 \n",
       "Q 1569 -128 1984 -844 \n",
       "L 1484 -844 \n",
       "Q 1016 -109 783 600 \n",
       "Q 550 1309 550 2009 \n",
       "Q 550 2706 781 3412 \n",
       "Q 1013 4119 1484 4856 \n",
       "L 1984 4856 \n",
       "z\n",
       "\" transform=\"scale(0.015625)\"/>\n",
       "       <path id=\"DejaVuSans-29\" d=\"M 513 4856 \n",
       "L 1013 4856 \n",
       "Q 1481 4119 1714 3412 \n",
       "Q 1947 2706 1947 2009 \n",
       "Q 1947 1309 1714 600 \n",
       "Q 1481 -109 1013 -844 \n",
       "L 513 -844 \n",
       "Q 928 -128 1133 580 \n",
       "Q 1338 1288 1338 2009 \n",
       "Q 1338 2731 1133 3434 \n",
       "Q 928 4138 513 4856 \n",
       "z\n",
       "\" transform=\"scale(0.015625)\"/>\n",
       "      </defs>\n",
       "      <use xlink:href=\"#DejaVuSans-67\"/>\n",
       "      <use xlink:href=\"#DejaVuSans-72\" x=\"63.476562\"/>\n",
       "      <use xlink:href=\"#DejaVuSans-61\" x=\"104.589844\"/>\n",
       "      <use xlink:href=\"#DejaVuSans-64\" x=\"165.869141\"/>\n",
       "      <use xlink:href=\"#DejaVuSans-20\" x=\"229.345703\"/>\n",
       "      <use xlink:href=\"#DejaVuSans-6f\" x=\"261.132812\"/>\n",
       "      <use xlink:href=\"#DejaVuSans-66\" x=\"322.314453\"/>\n",
       "      <use xlink:href=\"#DejaVuSans-20\" x=\"357.519531\"/>\n",
       "      <use xlink:href=\"#DejaVuSans-74\" x=\"389.306641\"/>\n",
       "      <use xlink:href=\"#DejaVuSans-61\" x=\"428.515625\"/>\n",
       "      <use xlink:href=\"#DejaVuSans-6e\" x=\"489.794922\"/>\n",
       "      <use xlink:href=\"#DejaVuSans-68\" x=\"553.173828\"/>\n",
       "      <use xlink:href=\"#DejaVuSans-28\" x=\"616.552734\"/>\n",
       "      <use xlink:href=\"#DejaVuSans-78\" x=\"655.566406\"/>\n",
       "      <use xlink:href=\"#DejaVuSans-29\" x=\"714.746094\"/>\n",
       "     </g>\n",
       "    </g>\n",
       "   </g>\n",
       "   <g id=\"line2d_16\">\n",
       "    <path d=\"M 56.463068 136.922727 \n",
       "L 117.080561 136.811702 \n",
       "L 126.651751 136.554378 \n",
       "L 131.437342 136.252349 \n",
       "L 136.222933 135.703886 \n",
       "L 139.413328 135.108803 \n",
       "L 142.60372 134.226426 \n",
       "L 144.198919 133.637432 \n",
       "L 145.794115 132.92192 \n",
       "L 147.389311 132.053726 \n",
       "L 148.98451 131.001824 \n",
       "L 150.579706 129.729595 \n",
       "L 152.174906 128.194195 \n",
       "L 153.770102 126.346073 \n",
       "L 155.365299 124.128615 \n",
       "L 156.960497 121.478375 \n",
       "L 158.555695 118.325836 \n",
       "L 160.150892 114.597294 \n",
       "L 161.74609 110.218123 \n",
       "L 163.341286 105.118072 \n",
       "L 164.936483 99.238944 \n",
       "L 166.531681 92.545076 \n",
       "L 168.126879 85.036842 \n",
       "L 169.722075 76.766329 \n",
       "L 172.912471 58.503559 \n",
       "L 176.102865 39.760701 \n",
       "L 177.698062 31.212458 \n",
       "L 179.29326 23.861724 \n",
       "L 180.888457 18.190235 \n",
       "L 182.483654 14.604538 \n",
       "L 184.078852 13.377273 \n",
       "L 185.674049 14.604538 \n",
       "L 187.269246 18.190235 \n",
       "L 188.864444 23.861724 \n",
       "L 190.459641 31.212458 \n",
       "L 192.054838 39.760701 \n",
       "L 198.435628 76.766329 \n",
       "L 200.030825 85.036842 \n",
       "L 201.626022 92.545076 \n",
       "L 203.22122 99.238944 \n",
       "L 204.816416 105.118065 \n",
       "L 206.411613 110.218123 \n",
       "L 208.006811 114.597294 \n",
       "L 209.602009 118.325836 \n",
       "L 211.197206 121.478375 \n",
       "L 212.792404 124.128615 \n",
       "L 214.3876 126.346058 \n",
       "L 215.982798 128.194195 \n",
       "L 217.577993 129.729595 \n",
       "L 219.173193 131.001824 \n",
       "L 220.768389 132.053726 \n",
       "L 222.363588 132.92192 \n",
       "L 223.958784 133.637432 \n",
       "L 227.149179 134.7108 \n",
       "L 230.339575 135.435642 \n",
       "L 233.52997 135.923941 \n",
       "L 238.315561 136.373595 \n",
       "L 244.696348 136.67572 \n",
       "L 254.267534 136.848323 \n",
       "L 275.005094 136.917249 \n",
       "L 310.099432 136.922713 \n",
       "L 310.099432 136.922713 \n",
       "\" clip-path=\"url(#p33831daddf)\" style=\"fill: none; stroke: #1f77b4; stroke-width: 1.5; stroke-linecap: square\"/>\n",
       "   </g>\n",
       "   <g id=\"patch_3\">\n",
       "    <path d=\"M 43.78125 143.1 \n",
       "L 43.78125 7.2 \n",
       "\" style=\"fill: none; stroke: #000000; stroke-width: 0.8; stroke-linejoin: miter; stroke-linecap: square\"/>\n",
       "   </g>\n",
       "   <g id=\"patch_4\">\n",
       "    <path d=\"M 322.78125 143.1 \n",
       "L 322.78125 7.2 \n",
       "\" style=\"fill: none; stroke: #000000; stroke-width: 0.8; stroke-linejoin: miter; stroke-linecap: square\"/>\n",
       "   </g>\n",
       "   <g id=\"patch_5\">\n",
       "    <path d=\"M 43.78125 143.1 \n",
       "L 322.78125 143.1 \n",
       "\" style=\"fill: none; stroke: #000000; stroke-width: 0.8; stroke-linejoin: miter; stroke-linecap: square\"/>\n",
       "   </g>\n",
       "   <g id=\"patch_6\">\n",
       "    <path d=\"M 43.78125 7.2 \n",
       "L 322.78125 7.2 \n",
       "\" style=\"fill: none; stroke: #000000; stroke-width: 0.8; stroke-linejoin: miter; stroke-linecap: square\"/>\n",
       "   </g>\n",
       "  </g>\n",
       " </g>\n",
       " <defs>\n",
       "  <clipPath id=\"p33831daddf\">\n",
       "   <rect x=\"43.78125\" y=\"7.2\" width=\"279\" height=\"135.9\"/>\n",
       "  </clipPath>\n",
       " </defs>\n",
       "</svg>\n"
      ],
      "text/plain": [
       "<Figure size 360x180 with 1 Axes>"
      ]
     },
     "metadata": {
      "needs_background": "light"
     },
     "output_type": "display_data"
    }
   ],
   "source": [
    "x.grad.zero_()\n",
    "y.sum().backward()\n",
    "xyplot(x,x.grad,'grad of tanh')"
   ]
  },
  {
   "cell_type": "markdown",
   "metadata": {},
   "source": [
    "### 多层感知机·"
   ]
  },
  {
   "cell_type": "code",
   "execution_count": 312,
   "metadata": {},
   "outputs": [
    {
     "data": {
      "text/plain": [
       "'\\n至少包含一层 隐藏层的由全连接层组成的神经网络，且每层隐%ed层的输出通过激活函数进行变换\\n多层感知机的层数和隐藏层中隐藏单元个数都是超参数\\n'"
      ]
     },
     "execution_count": 312,
     "metadata": {},
     "output_type": "execute_result"
    }
   ],
   "source": [
    "\"\"\"\n",
    "至少包含一层 隐藏层的由全连接层组成的神经网络，且每层隐%ed层的输出通过激活函数进行变换\n",
    "多层感知机的层数和隐藏层中隐藏单元个数都是超参数\n",
    "\"\"\""
   ]
  },
  {
   "cell_type": "markdown",
   "metadata": {},
   "source": [
    "## 多层感知机从零到一"
   ]
  },
  {
   "cell_type": "markdown",
   "metadata": {},
   "source": [
    "### 获取数据"
   ]
  },
  {
   "cell_type": "code",
   "execution_count": 313,
   "metadata": {},
   "outputs": [],
   "source": [
    "batch_size = 256\n",
    "train_iter,test_iter = d2l.load_data_fashion_mnist(batch_size)"
   ]
  },
  {
   "cell_type": "markdown",
   "metadata": {},
   "source": [
    "### 定义模型参数"
   ]
  },
  {
   "cell_type": "code",
   "execution_count": 314,
   "metadata": {},
   "outputs": [],
   "source": [
    "# 输入个数依然为 784，输出个数为10  超参数隐藏单元个数为256\n",
    "num_inputs,num_outputs,num_hiddens = 784,10,256\n",
    "W1 = torch.tensor(np.random.normal(0,0.01,(num_inputs,num_hiddens)),dtype=torch.float)\n",
    "b1 = torch.zeros(num_hiddens,dtype=torch.float)\n",
    "W2 = torch.tensor(np.random.normal(0.,0.01,(num_hiddens,num_outputs)),dtype=torch.float)\n",
    "b2 = torch.zeros(num_outputs,dtype = torch.float)\n",
    "\n",
    "params = [W1,b1,W2,b2]\n",
    "for param in params:\n",
    "    param.requires_grad_(requires_grad=True)"
   ]
  },
  {
   "cell_type": "markdown",
   "metadata": {},
   "source": [
    "### 定义激活函数"
   ]
  },
  {
   "cell_type": "code",
   "execution_count": 315,
   "metadata": {},
   "outputs": [],
   "source": [
    "def relu(X):\n",
    "    return torch.max(input=X,other = torch.tensor(0.0))"
   ]
  },
  {
   "cell_type": "markdown",
   "metadata": {},
   "source": [
    "### 定义模型"
   ]
  },
  {
   "cell_type": "code",
   "execution_count": 316,
   "metadata": {},
   "outputs": [],
   "source": [
    "def net(X):\n",
    "    X = X.view((-1,num_inputs))\n",
    "    H = relu(torch.matmul(X,W1) + b1)\n",
    "    return torch.matmul(H,W2) + b2"
   ]
  },
  {
   "cell_type": "markdown",
   "metadata": {},
   "source": [
    "### 定义损失函数"
   ]
  },
  {
   "cell_type": "code",
   "execution_count": 317,
   "metadata": {},
   "outputs": [],
   "source": [
    "loss = torch.nn.CrossEntropyLoss()"
   ]
  },
  {
   "cell_type": "markdown",
   "metadata": {},
   "source": [
    "### 训练模型"
   ]
  },
  {
   "cell_type": "code",
   "execution_count": 318,
   "metadata": {},
   "outputs": [
    {
     "name": "stdout",
     "output_type": "stream",
     "text": [
      "epoch 1, loss 0.0030, train acc 0.716, test acc 0.811\n",
      "epoch 2, loss 0.0019, train acc 0.824, test acc 0.814\n",
      "epoch 3, loss 0.0017, train acc 0.843, test acc 0.829\n",
      "epoch 4, loss 0.0015, train acc 0.857, test acc 0.821\n",
      "epoch 5, loss 0.0014, train acc 0.865, test acc 0.860\n"
     ]
    }
   ],
   "source": [
    "num_epochs,lr = 5,100.0\n",
    "d2l.train_ch3(net,train_iter,test_iter,loss,num_epochs,batch_size,params,lr)"
   ]
  },
  {
   "cell_type": "markdown",
   "metadata": {},
   "source": [
    "## 多层感知机简洁实现"
   ]
  },
  {
   "cell_type": "markdown",
   "metadata": {},
   "source": [
    "### 定义模型"
   ]
  },
  {
   "cell_type": "code",
   "execution_count": 319,
   "metadata": {},
   "outputs": [],
   "source": [
    "num_inputs,num_outputs,num_hiddens = 784,10,256\n",
    "net = nn.Sequential(\n",
    "d2l.FlattenLayer(),\n",
    "    nn.Linear(num_inputs,num_hiddens),\n",
    "    nn.ReLU(),\n",
    "    nn.Linear(num_hiddens,num_outputs),\n",
    ")\n",
    "for params in net.parameters():\n",
    "    init.normal_(params,mean=0,std=0.01)"
   ]
  },
  {
   "cell_type": "markdown",
   "metadata": {},
   "source": [
    "### 读取数据并训练模型"
   ]
  },
  {
   "cell_type": "code",
   "execution_count": 320,
   "metadata": {},
   "outputs": [
    {
     "name": "stdout",
     "output_type": "stream",
     "text": [
      "epoch 1, loss 0.0031, train acc 0.700, test acc 0.796\n",
      "epoch 2, loss 0.0019, train acc 0.821, test acc 0.817\n",
      "epoch 3, loss 0.0017, train acc 0.843, test acc 0.844\n",
      "epoch 4, loss 0.0015, train acc 0.858, test acc 0.772\n",
      "epoch 5, loss 0.0015, train acc 0.864, test acc 0.813\n"
     ]
    }
   ],
   "source": [
    "batch_size = 256\n",
    "train_iter,test_iter = d2l.load_data_fashion_mnist(batch_size)\n",
    "loss = nn.CrossEntropyLoss()\n",
    "optimizer = torch.optim.SGD(net.parameters(),lr=0.5)\n",
    "num_epochs = 5\n",
    "d2l.train_ch3(net,train_iter,test_iter,loss,num_epochs,batch_size,None,None,optimizer)"
   ]
  },
  {
   "cell_type": "markdown",
   "metadata": {},
   "source": [
    "# 深度学习计算"
   ]
  },
  {
   "cell_type": "markdown",
   "metadata": {},
   "source": [
    "## 模型构造"
   ]
  },
  {
   "cell_type": "markdown",
   "metadata": {},
   "source": [
    "### 继承Module 类来构造模型"
   ]
  },
  {
   "cell_type": "code",
   "execution_count": 321,
   "metadata": {},
   "outputs": [],
   "source": [
    "# Module 类 是nn模块里提供的一个模型构造类  是所有神经网络模块的基类\n",
    "# 我们可以继承他来定义我们想要的模型\n",
    "import torch \n",
    "from torch import nn\n",
    "class MLP(nn.Module):\n",
    "    # 声明带有模型参数的层，这里声明了两个全连接层\n",
    "    def __init__(self,**kwargs):\n",
    "        super(MLP,self).__init__(**kwargs)\n",
    "        self.hidden = nn.Linear(784,256) # 隐藏层\n",
    "        self.act = nn.ReLU()\n",
    "        self.output = nn.Linear(256,10) # 输出层\n",
    "        \n",
    "    def forward(self,x):\n",
    "        a = self.act(self.hidden(x))\n",
    "        return self.output(a)\n",
    "        "
   ]
  },
  {
   "cell_type": "code",
   "execution_count": 322,
   "metadata": {},
   "outputs": [],
   "source": [
    "# 以上的MLP 类中无须定义反向传播函数，系统将通过自动求梯度而自动生成反向传播\n",
    "# 所需的 backward函数\n",
    "\"\"\"我们可以实例化MLP类得到模型变量 net, 下面的代码初始化 net 并传入 输入数据X 做一次前向传播%%capture\n",
    "其中 net(X)会调用 MLP 继承 自 Module类的__call__ 函数 这个函数将调用 MLP 类定义的forward函数来完成前向计算\n",
    "\"\"\"\n",
    "X = torch.rand(2,784)"
   ]
  },
  {
   "cell_type": "code",
   "execution_count": 323,
   "metadata": {},
   "outputs": [
    {
     "data": {
      "text/plain": [
       "torch.Size([2, 784])"
      ]
     },
     "execution_count": 323,
     "metadata": {},
     "output_type": "execute_result"
    }
   ],
   "source": [
    "X.shape"
   ]
  },
  {
   "cell_type": "code",
   "execution_count": 324,
   "metadata": {},
   "outputs": [
    {
     "name": "stdout",
     "output_type": "stream",
     "text": [
      "MLP(\n",
      "  (hidden): Linear(in_features=784, out_features=256, bias=True)\n",
      "  (act): ReLU()\n",
      "  (output): Linear(in_features=256, out_features=10, bias=True)\n",
      ")\n"
     ]
    }
   ],
   "source": [
    "net = MLP()\n",
    "print(net)"
   ]
  },
  {
   "cell_type": "code",
   "execution_count": 325,
   "metadata": {},
   "outputs": [
    {
     "data": {
      "text/plain": [
       "tensor([[ 0.0810,  0.0573, -0.0109,  0.0124,  0.1750,  0.1575,  0.0784, -0.0355,\n",
       "         -0.0169, -0.1343],\n",
       "        [ 0.0569, -0.0489, -0.0373,  0.0115,  0.2082,  0.0727,  0.0123,  0.0366,\n",
       "          0.0895,  0.0107]], grad_fn=<AddmmBackward0>)"
      ]
     },
     "execution_count": 325,
     "metadata": {},
     "output_type": "execute_result"
    }
   ],
   "source": [
    "net(X)"
   ]
  },
  {
   "cell_type": "markdown",
   "metadata": {},
   "source": [
    "### Module的子类"
   ]
  },
  {
   "cell_type": "markdown",
   "metadata": {},
   "source": [
    "#### Sequential类"
   ]
  },
  {
   "cell_type": "code",
   "execution_count": 326,
   "metadata": {},
   "outputs": [],
   "source": [
    "class MySequential(nn.Module):\n",
    "    from collections import OrderedDict\n",
    "    def __init__(self,*args):\n",
    "        super(MySequential,self).__init__()\n",
    "        if len(args) == 1 and isinstance(args[0],OrderedDict):\n",
    "            for key,module in args[0].items():\n",
    "                # self.add_module方法会将module添加进 self._modules\n",
    "                self.add_module(key,module)\n",
    "                \n",
    "        else: # 传入的是一些Module\n",
    "            for idx,module in enumerate(args):\n",
    "                self.add_module(str(idx),module)\n",
    "    def forward(self,input):\n",
    "        for module in self._modules.values():\n",
    "            input = module(input)\n",
    "            \n",
    "        return input            "
   ]
  },
  {
   "cell_type": "code",
   "execution_count": 327,
   "metadata": {},
   "outputs": [],
   "source": [
    "net = MySequential(\n",
    "nn.Linear(784,256),\n",
    "nn.ReLU(),\n",
    "nn.Linear(256,10),\n",
    ")"
   ]
  },
  {
   "cell_type": "code",
   "execution_count": 328,
   "metadata": {},
   "outputs": [
    {
     "data": {
      "text/plain": [
       "MySequential(\n",
       "  (0): Linear(in_features=784, out_features=256, bias=True)\n",
       "  (1): ReLU()\n",
       "  (2): Linear(in_features=256, out_features=10, bias=True)\n",
       ")"
      ]
     },
     "execution_count": 328,
     "metadata": {},
     "output_type": "execute_result"
    }
   ],
   "source": [
    "net"
   ]
  },
  {
   "cell_type": "code",
   "execution_count": 329,
   "metadata": {},
   "outputs": [
    {
     "data": {
      "text/plain": [
       "tensor([[-0.0364,  0.1196,  0.0638,  0.0277, -0.0827,  0.2035,  0.1069,  0.0992,\n",
       "          0.0287,  0.1456],\n",
       "        [ 0.0232, -0.0185, -0.0027, -0.0353, -0.0998,  0.1738,  0.0833,  0.0093,\n",
       "         -0.0488, -0.0697]], grad_fn=<AddmmBackward0>)"
      ]
     },
     "execution_count": 329,
     "metadata": {},
     "output_type": "execute_result"
    }
   ],
   "source": [
    "net(X)"
   ]
  },
  {
   "cell_type": "markdown",
   "metadata": {},
   "source": [
    "#### ModuleList类"
   ]
  },
  {
   "cell_type": "code",
   "execution_count": 330,
   "metadata": {},
   "outputs": [
    {
     "data": {
      "text/plain": [
       "ModuleList(\n",
       "  (0): Linear(in_features=784, out_features=256, bias=True)\n",
       "  (1): ReLU()\n",
       "  (2): Linear(in_features=256, out_features=10, bias=True)\n",
       ")"
      ]
     },
     "execution_count": 330,
     "metadata": {},
     "output_type": "execute_result"
    }
   ],
   "source": [
    "net = nn.ModuleList([nn.Linear(784,256),nn.ReLU()])\n",
    "net.append(nn.Linear(256,10))"
   ]
  },
  {
   "cell_type": "code",
   "execution_count": 331,
   "metadata": {},
   "outputs": [
    {
     "data": {
      "text/plain": [
       "Linear(in_features=256, out_features=10, bias=True)"
      ]
     },
     "execution_count": 331,
     "metadata": {},
     "output_type": "execute_result"
    }
   ],
   "source": [
    "net[-1]"
   ]
  },
  {
   "cell_type": "code",
   "execution_count": 332,
   "metadata": {},
   "outputs": [
    {
     "data": {
      "text/plain": [
       "'\\nSequential 和 ModuleList 区别\\nModuleList仅仅是存储各个模块的列表，这些模块没有联系也没有\\n顺序 而且没有实现forward功能需要自己实现 而 Sequential内的\\n模块需要按照顺序排列，保证输入输出大小相匹配 内部forward功能 \\n已经实现\\n'"
      ]
     },
     "execution_count": 332,
     "metadata": {},
     "output_type": "execute_result"
    }
   ],
   "source": [
    "\"\"\"\n",
    "Sequential 和 ModuleList 区别\n",
    "ModuleList仅仅是存储各个模块的列表，这些模块没有联系也没有\n",
    "顺序 而且没有实现forward功能需要自己实现 而 Sequential内的\n",
    "模块需要按照顺序排列，保证输入输出大小相匹配 内部forward功能 \n",
    "已经实现\n",
    "\"\"\""
   ]
  },
  {
   "cell_type": "code",
   "execution_count": 333,
   "metadata": {},
   "outputs": [],
   "source": [
    "class MyModule(nn.Module):\n",
    "    def __init__(self):\n",
    "        super(MyModule,self).__init__()\n",
    "        self.linears = nn.ModuleList([nn.Linear(10,10) for _ in range(10)])\n",
    "        \n",
    "    def forward(self,x):\n",
    "        for i,l in enumerate(self.linears):\n",
    "            x = self.linears([i//2])(x) + l(x)\n",
    "            \n",
    "        return x "
   ]
  },
  {
   "cell_type": "markdown",
   "metadata": {},
   "source": [
    "#### ModuleDict 类"
   ]
  },
  {
   "cell_type": "code",
   "execution_count": 334,
   "metadata": {},
   "outputs": [],
   "source": [
    "# Module接受一个子模块的字典作为输入，然后也可以类似字典那样进行访问操作"
   ]
  },
  {
   "cell_type": "code",
   "execution_count": 335,
   "metadata": {},
   "outputs": [],
   "source": [
    "net = nn.ModuleDict({\n",
    "    'linear':nn.Linear(784,256),\n",
    "    'act' : nn.ReLU(),\n",
    "})\n",
    "net['output']  = nn.Linear(256,10) # 添加\n"
   ]
  },
  {
   "cell_type": "code",
   "execution_count": 336,
   "metadata": {},
   "outputs": [
    {
     "data": {
      "text/plain": [
       "Linear(in_features=784, out_features=256, bias=True)"
      ]
     },
     "execution_count": 336,
     "metadata": {},
     "output_type": "execute_result"
    }
   ],
   "source": [
    "net['linear']"
   ]
  },
  {
   "cell_type": "code",
   "execution_count": 337,
   "metadata": {},
   "outputs": [
    {
     "data": {
      "text/plain": [
       "ModuleDict(\n",
       "  (linear): Linear(in_features=784, out_features=256, bias=True)\n",
       "  (act): ReLU()\n",
       "  (output): Linear(in_features=256, out_features=10, bias=True)\n",
       ")"
      ]
     },
     "execution_count": 337,
     "metadata": {},
     "output_type": "execute_result"
    }
   ],
   "source": [
    "net"
   ]
  },
  {
   "cell_type": "code",
   "execution_count": 338,
   "metadata": {},
   "outputs": [
    {
     "data": {
      "text/plain": [
       "Linear(in_features=256, out_features=10, bias=True)"
      ]
     },
     "execution_count": 338,
     "metadata": {},
     "output_type": "execute_result"
    }
   ],
   "source": [
    "net.output"
   ]
  },
  {
   "cell_type": "markdown",
   "metadata": {},
   "source": [
    "#### 构造复杂的模型"
   ]
  },
  {
   "cell_type": "code",
   "execution_count": 339,
   "metadata": {},
   "outputs": [],
   "source": [
    "# 构造稍微复杂一点的网络 FancyMLP  在这个网络中 通过 get_constant函数 创建训练中不被迭代的参数 "
   ]
  },
  {
   "cell_type": "code",
   "execution_count": 340,
   "metadata": {},
   "outputs": [],
   "source": [
    "class FancyMLP(nn.Module):\n",
    "    def __init__(self,**kwargs):\n",
    "        super(FancyMLP,self).__init__(**kwargs)\n",
    "        \n",
    "        self.rand_weight = torch.rand((20,20),requires_grad=False) # 不可训练参数 常数参数\n",
    "        self.linear = nn.Linear(20,20)\n",
    "        \n",
    "    def forward(self,x):\n",
    "        x = self.linear(x)\n",
    "        # 使用创建的常数参数，以及nn.functional中的relu函数和mm函数\n",
    "        x = nn.functional.relu(torch.mm(x,self.rand_weight.data)+1)\n",
    "        # 复用全连接层，等价于两个全连接层共享参数\n",
    "        x = self.linear(x)\n",
    "        # 控制流这里 我们需要返回调用item 函数来返回标量进行比较\n",
    "        while x.norm().item() >1:\n",
    "            x /= 2\n",
    "        if x.norm().item() < 0.8:\n",
    "            x *= 10\n",
    "        return x.sum()"
   ]
  },
  {
   "cell_type": "code",
   "execution_count": 341,
   "metadata": {},
   "outputs": [
    {
     "name": "stdout",
     "output_type": "stream",
     "text": [
      "FancyMLP(\n",
      "  (linear): Linear(in_features=20, out_features=20, bias=True)\n",
      ")\n"
     ]
    },
    {
     "data": {
      "text/plain": [
       "tensor(12.6656, grad_fn=<SumBackward0>)"
      ]
     },
     "execution_count": 341,
     "metadata": {},
     "output_type": "execute_result"
    }
   ],
   "source": [
    "X = torch.rand(2,20)\n",
    "net = FancyMLP()\n",
    "print(net)\n",
    "net(X)"
   ]
  },
  {
   "cell_type": "code",
   "execution_count": 343,
   "metadata": {},
   "outputs": [
    {
     "name": "stdout",
     "output_type": "stream",
     "text": [
      "Sequential(\n",
      "  (0): NestMLP(\n",
      "    (net): Sequential(\n",
      "      (0): Linear(in_features=40, out_features=30, bias=True)\n",
      "      (1): ReLU()\n",
      "    )\n",
      "  )\n",
      "  (1): Linear(in_features=30, out_features=20, bias=True)\n",
      "  (2): FancyMLP(\n",
      "    (linear): Linear(in_features=20, out_features=20, bias=True)\n",
      "  )\n",
      ")\n"
     ]
    },
    {
     "data": {
      "text/plain": [
       "tensor(-14.3637, grad_fn=<SumBackward0>)"
      ]
     },
     "execution_count": 343,
     "metadata": {},
     "output_type": "execute_result"
    }
   ],
   "source": [
    "class NestMLP(nn.Module):\n",
    "    def __init__(self, **kwargs):\n",
    "        super(NestMLP, self).__init__(**kwargs)\n",
    "        self.net = nn.Sequential(nn.Linear(40, 30), nn.ReLU()) \n",
    "\n",
    "    def forward(self, x):\n",
    "        return self.net(x)\n",
    "\n",
    "net = nn.Sequential(NestMLP(), nn.Linear(30, 20), FancyMLP())\n",
    "\n",
    "X = torch.rand(2, 40)\n",
    "print(net)\n",
    "net(X)"
   ]
  },
  {
   "cell_type": "markdown",
   "metadata": {},
   "source": [
    "## 模型参数的访问、初始化和共享"
   ]
  },
  {
   "cell_type": "code",
   "execution_count": 344,
   "metadata": {},
   "outputs": [
    {
     "name": "stdout",
     "output_type": "stream",
     "text": [
      "Sequential(\n",
      "  (0): Linear(in_features=4, out_features=3, bias=True)\n",
      "  (1): ReLU()\n",
      "  (2): Linear(in_features=3, out_features=1, bias=True)\n",
      ")\n"
     ]
    }
   ],
   "source": [
    "import torch\n",
    "from torch import nn\n",
    "from torch.nn import init\n",
    "\n",
    "net = nn.Sequential(nn.Linear(4, 3), nn.ReLU(), nn.Linear(3, 1))  # pytorch已进行默认初始化\n",
    "\n",
    "print(net)\n",
    "X = torch.rand(2, 4)\n",
    "Y = net(X).sum()"
   ]
  },
  {
   "cell_type": "markdown",
   "metadata": {},
   "source": [
    "### 访问模型参数"
   ]
  },
  {
   "cell_type": "code",
   "execution_count": 345,
   "metadata": {},
   "outputs": [
    {
     "name": "stdout",
     "output_type": "stream",
     "text": [
      "<class 'generator'>\n",
      "0.weight torch.Size([3, 4])\n",
      "0.bias torch.Size([3])\n",
      "2.weight torch.Size([1, 3])\n",
      "2.bias torch.Size([1])\n"
     ]
    }
   ],
   "source": [
    "print(type(net.named_parameters()))\n",
    "for name, param in net.named_parameters():\n",
    "    print(name, param.size())"
   ]
  },
  {
   "cell_type": "code",
   "execution_count": 346,
   "metadata": {},
   "outputs": [
    {
     "name": "stdout",
     "output_type": "stream",
     "text": [
      "weight torch.Size([3, 4]) <class 'torch.nn.parameter.Parameter'>\n",
      "bias torch.Size([3]) <class 'torch.nn.parameter.Parameter'>\n"
     ]
    }
   ],
   "source": [
    "for name, param in net[0].named_parameters():\n",
    "    print(name, param.size(), type(param))"
   ]
  },
  {
   "cell_type": "code",
   "execution_count": 347,
   "metadata": {},
   "outputs": [
    {
     "name": "stdout",
     "output_type": "stream",
     "text": [
      "weight1\n"
     ]
    }
   ],
   "source": [
    "class MyModel(nn.Module):\n",
    "    def __init__(self, **kwargs):\n",
    "        super(MyModel, self).__init__(**kwargs)\n",
    "        self.weight1 = nn.Parameter(torch.rand(20, 20))\n",
    "        self.weight2 = torch.rand(20, 20)\n",
    "    def forward(self, x):\n",
    "        pass\n",
    "\n",
    "n = MyModel()\n",
    "for name, param in n.named_parameters():\n",
    "    print(name)"
   ]
  },
  {
   "cell_type": "code",
   "execution_count": 348,
   "metadata": {},
   "outputs": [
    {
     "name": "stdout",
     "output_type": "stream",
     "text": [
      "tensor([[ 0.1432, -0.3020,  0.4440, -0.2773],\n",
      "        [ 0.1211,  0.0780, -0.4309,  0.2484],\n",
      "        [-0.0338,  0.0143,  0.1860, -0.0329]])\n",
      "None\n",
      "tensor([[0.1503, 0.0187, 0.2651, 0.1097],\n",
      "        [0.0000, 0.0000, 0.0000, 0.0000],\n",
      "        [0.2962, 0.0934, 0.5417, 0.2612]])\n"
     ]
    }
   ],
   "source": [
    "weight_0 = list(net[0].parameters())[0]\n",
    "print(weight_0.data)\n",
    "print(weight_0.grad) # 反向传播前梯度为None\n",
    "Y.backward()\n",
    "print(weight_0.grad)"
   ]
  },
  {
   "cell_type": "markdown",
   "metadata": {},
   "source": [
    "### 初始化参数"
   ]
  },
  {
   "cell_type": "code",
   "execution_count": 350,
   "metadata": {},
   "outputs": [
    {
     "name": "stdout",
     "output_type": "stream",
     "text": [
      "0.weight tensor([[-0.0020, -0.0034, -0.0004,  0.0102],\n",
      "        [ 0.0057,  0.0170,  0.0042, -0.0054],\n",
      "        [-0.0012,  0.0097,  0.0016, -0.0028]])\n",
      "2.weight tensor([[ 0.0113, -0.0065, -0.0174]])\n"
     ]
    }
   ],
   "source": [
    "for name, param in net.named_parameters():\n",
    "    if 'weight' in name:\n",
    "        init.normal_(param, mean=0, std=0.01)\n",
    "        print(name, param.data)"
   ]
  },
  {
   "cell_type": "code",
   "execution_count": 351,
   "metadata": {},
   "outputs": [
    {
     "name": "stdout",
     "output_type": "stream",
     "text": [
      "0.bias tensor([0., 0., 0.])\n",
      "2.bias tensor([0.])\n"
     ]
    }
   ],
   "source": [
    "for name, param in net.named_parameters():\n",
    "    if 'bias' in name:\n",
    "        init.constant_(param, val=0)\n",
    "        print(name, param.data)"
   ]
  },
  {
   "cell_type": "markdown",
   "metadata": {},
   "source": [
    "### 自定义初始化方法"
   ]
  },
  {
   "cell_type": "code",
   "execution_count": 352,
   "metadata": {},
   "outputs": [],
   "source": [
    "def normal_(tensor, mean=0, std=1):\n",
    "    with torch.no_grad():\n",
    "        return tensor.normal_(mean, std)"
   ]
  },
  {
   "cell_type": "code",
   "execution_count": 353,
   "metadata": {},
   "outputs": [
    {
     "name": "stdout",
     "output_type": "stream",
     "text": [
      "0.weight tensor([[ 9.8796,  0.0000,  9.7087, -5.7925],\n",
      "        [ 0.0000, -0.0000,  0.0000, -6.6558],\n",
      "        [ 6.6121, -0.0000,  5.3925, -0.0000]])\n",
      "2.weight tensor([[ 8.2096, -8.7138,  0.0000]])\n"
     ]
    }
   ],
   "source": [
    "def init_weight_(tensor):\n",
    "    with torch.no_grad():\n",
    "        tensor.uniform_(-10, 10)\n",
    "        tensor *= (tensor.abs() >= 5).float()\n",
    "\n",
    "for name, param in net.named_parameters():\n",
    "    if 'weight' in name:\n",
    "        init_weight_(param)\n",
    "        print(name, param.data)"
   ]
  },
  {
   "cell_type": "code",
   "execution_count": 354,
   "metadata": {},
   "outputs": [
    {
     "name": "stdout",
     "output_type": "stream",
     "text": [
      "0.bias tensor([1., 1., 1.])\n",
      "2.bias tensor([1.])\n"
     ]
    }
   ],
   "source": [
    "for name, param in net.named_parameters():\n",
    "    if 'bias' in name:\n",
    "        param.data += 1\n",
    "        print(name, param.data)"
   ]
  },
  {
   "cell_type": "markdown",
   "metadata": {},
   "source": [
    "### 共享模型参数"
   ]
  },
  {
   "cell_type": "code",
   "execution_count": 355,
   "metadata": {},
   "outputs": [],
   "source": [
    "linear = nn.Linear(1,1,bias=False)\n",
    "net = nn.Sequential(linear,linear)"
   ]
  },
  {
   "cell_type": "code",
   "execution_count": 356,
   "metadata": {},
   "outputs": [
    {
     "data": {
      "text/plain": [
       "Sequential(\n",
       "  (0): Linear(in_features=1, out_features=1, bias=False)\n",
       "  (1): Linear(in_features=1, out_features=1, bias=False)\n",
       ")"
      ]
     },
     "execution_count": 356,
     "metadata": {},
     "output_type": "execute_result"
    }
   ],
   "source": [
    "net"
   ]
  },
  {
   "cell_type": "code",
   "execution_count": 357,
   "metadata": {},
   "outputs": [
    {
     "name": "stdout",
     "output_type": "stream",
     "text": [
      "0.weight tensor([[3.]])\n"
     ]
    }
   ],
   "source": [
    "for name,param in net.named_parameters():\n",
    "    init.constant_(param,val=3)\n",
    "    print(name,param.data)"
   ]
  },
  {
   "cell_type": "code",
   "execution_count": 358,
   "metadata": {},
   "outputs": [
    {
     "data": {
      "text/plain": [
       "True"
      ]
     },
     "execution_count": 358,
     "metadata": {},
     "output_type": "execute_result"
    }
   ],
   "source": [
    "id(net[0]) == id(net[1])"
   ]
  },
  {
   "cell_type": "code",
   "execution_count": 359,
   "metadata": {},
   "outputs": [
    {
     "data": {
      "text/plain": [
       "True"
      ]
     },
     "execution_count": 359,
     "metadata": {},
     "output_type": "execute_result"
    }
   ],
   "source": [
    "id(net[0].weight) == id(net[1].weight)"
   ]
  },
  {
   "cell_type": "code",
   "execution_count": 360,
   "metadata": {},
   "outputs": [],
   "source": [
    "x = torch.ones(1,1)\n",
    "y = net(x).sum()"
   ]
  },
  {
   "cell_type": "code",
   "execution_count": 361,
   "metadata": {},
   "outputs": [
    {
     "data": {
      "text/plain": [
       "tensor(9., grad_fn=<SumBackward0>)"
      ]
     },
     "execution_count": 361,
     "metadata": {},
     "output_type": "execute_result"
    }
   ],
   "source": [
    "y"
   ]
  },
  {
   "cell_type": "code",
   "execution_count": 362,
   "metadata": {},
   "outputs": [],
   "source": [
    "y.backward()"
   ]
  },
  {
   "cell_type": "code",
   "execution_count": 363,
   "metadata": {},
   "outputs": [
    {
     "name": "stdout",
     "output_type": "stream",
     "text": [
      "tensor([[6.]])\n"
     ]
    }
   ],
   "source": [
    "print(net[0].weight.grad)"
   ]
  },
  {
   "cell_type": "markdown",
   "metadata": {},
   "source": [
    "## 模型延后初始化"
   ]
  },
  {
   "cell_type": "markdown",
   "metadata": {},
   "source": [
    "## 自定义层"
   ]
  },
  {
   "cell_type": "markdown",
   "metadata": {},
   "source": [
    "### 不含模型参数的自定义层"
   ]
  },
  {
   "cell_type": "code",
   "execution_count": 365,
   "metadata": {},
   "outputs": [],
   "source": [
    "import torch\n",
    "from torch import nn  \n",
    "\n",
    "class CenteredLayer(nn.Module):\n",
    "    def __init__(self,**kwargs):\n",
    "        super(CenteredLayer,self).__init__(**kwargs)\n",
    "        \n",
    "    def forward(self,x):\n",
    "        return x - x.mean()"
   ]
  },
  {
   "cell_type": "code",
   "execution_count": 366,
   "metadata": {},
   "outputs": [],
   "source": [
    "layer = CenteredLayer()"
   ]
  },
  {
   "cell_type": "code",
   "execution_count": 368,
   "metadata": {},
   "outputs": [
    {
     "data": {
      "text/plain": [
       "tensor([-2., -1.,  0.,  1.,  2.])"
      ]
     },
     "execution_count": 368,
     "metadata": {},
     "output_type": "execute_result"
    }
   ],
   "source": [
    "layer(torch.tensor([1,2,3,4,5],dtype=torch.float))"
   ]
  },
  {
   "cell_type": "code",
   "execution_count": 369,
   "metadata": {},
   "outputs": [],
   "source": [
    "net = nn.Sequential(nn.Linear(8,128),CenteredLayer())"
   ]
  },
  {
   "cell_type": "code",
   "execution_count": 370,
   "metadata": {},
   "outputs": [
    {
     "data": {
      "text/plain": [
       "3.259629011154175e-09"
      ]
     },
     "execution_count": 370,
     "metadata": {},
     "output_type": "execute_result"
    }
   ],
   "source": [
    "y = net(torch.rand(4,8))\n",
    "y.mean().item()"
   ]
  },
  {
   "cell_type": "markdown",
   "metadata": {},
   "source": [
    "### 含模型参数的自定义层"
   ]
  },
  {
   "cell_type": "code",
   "execution_count": 371,
   "metadata": {},
   "outputs": [],
   "source": [
    "class MyDense(nn.Module):\n",
    "    def __init__(self):\n",
    "        super(MyDense,self).__init__()\n",
    "        self.params = nn.ParameterList([nn.Parameter(torch.rand(4,4)) for i in range(3)])\n",
    "        self.params.append(nn.Parameter(torch.randn(4,1)))\n",
    "        \n",
    "    def forward(self,x):\n",
    "        for i in range(len(self.params)):\n",
    "            x = torch.mm(x,self.params[i])\n",
    "        return x \n",
    "net  = MyDense()"
   ]
  },
  {
   "cell_type": "code",
   "execution_count": 372,
   "metadata": {},
   "outputs": [
    {
     "data": {
      "text/plain": [
       "MyDense(\n",
       "  (params): ParameterList(\n",
       "      (0): Parameter containing: [torch.FloatTensor of size 4x4]\n",
       "      (1): Parameter containing: [torch.FloatTensor of size 4x4]\n",
       "      (2): Parameter containing: [torch.FloatTensor of size 4x4]\n",
       "      (3): Parameter containing: [torch.FloatTensor of size 4x1]\n",
       "  )\n",
       ")"
      ]
     },
     "execution_count": 372,
     "metadata": {},
     "output_type": "execute_result"
    }
   ],
   "source": [
    "net"
   ]
  },
  {
   "cell_type": "code",
   "execution_count": null,
   "metadata": {},
   "outputs": [],
   "source": []
  }
 ],
 "metadata": {
  "kernelspec": {
   "display_name": "Tianchi",
   "language": "python",
   "name": "tianchi"
  },
  "language_info": {
   "codemirror_mode": {
    "name": "ipython",
    "version": 3
   },
   "file_extension": ".py",
   "mimetype": "text/x-python",
   "name": "python",
   "nbconvert_exporter": "python",
   "pygments_lexer": "ipython3",
   "version": "3.7.9"
  },
  "toc": {
   "base_numbering": 1,
   "nav_menu": {},
   "number_sections": true,
   "sideBar": true,
   "skip_h1_title": false,
   "title_cell": "Table of Contents",
   "title_sidebar": "Contents",
   "toc_cell": false,
   "toc_position": {
    "height": "861px",
    "left": "32px",
    "top": "111.141px",
    "width": "255px"
   },
   "toc_section_display": true,
   "toc_window_display": true
  }
 },
 "nbformat": 4,
 "nbformat_minor": 4
}
