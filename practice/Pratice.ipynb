{
 "cells": [
  {
   "cell_type": "markdown",
   "metadata": {},
   "source": [
    "# 预备知识"
   ]
  },
  {
   "cell_type": "markdown",
   "metadata": {},
   "source": [
    "## 数据操作"
   ]
  },
  {
   "cell_type": "markdown",
   "metadata": {},
   "source": [
    "### 创建tensor"
   ]
  },
  {
   "cell_type": "code",
   "execution_count": 1,
   "metadata": {},
   "outputs": [],
   "source": [
    "import torch"
   ]
  },
  {
   "cell_type": "code",
   "execution_count": 2,
   "metadata": {},
   "outputs": [],
   "source": [
    "import numpy as np"
   ]
  },
  {
   "cell_type": "code",
   "execution_count": 3,
   "metadata": {},
   "outputs": [
    {
     "data": {
      "text/plain": [
       "tensor([[2.3293e-21, 4.5866e-41, 3.3880e-24],\n",
       "        [4.5866e-41, 2.7393e-21, 4.5866e-41],\n",
       "        [2.7386e-21, 4.5866e-41, 4.7505e-24],\n",
       "        [4.5866e-41, 4.7514e-24, 4.5866e-41],\n",
       "        [3.5011e-24, 4.5866e-41, 4.8944e-24]])"
      ]
     },
     "execution_count": 3,
     "metadata": {},
     "output_type": "execute_result"
    }
   ],
   "source": [
    "# 未初始化 tensor\n",
    "torch.empty(5,3)"
   ]
  },
  {
   "cell_type": "code",
   "execution_count": 4,
   "metadata": {},
   "outputs": [
    {
     "data": {
      "text/plain": [
       "tensor([[ 0.6453, -0.4412, -0.2019],\n",
       "        [-0.3024,  0.8041, -0.7225],\n",
       "        [ 1.4159, -1.0577, -2.5929],\n",
       "        [-1.2507,  0.2685,  0.5462],\n",
       "        [ 2.0260, -0.4326,  0.3437]])"
      ]
     },
     "execution_count": 4,
     "metadata": {},
     "output_type": "execute_result"
    }
   ],
   "source": [
    "# 初始化 \n",
    "torch.randn(5,3)"
   ]
  },
  {
   "cell_type": "code",
   "execution_count": 5,
   "metadata": {},
   "outputs": [
    {
     "data": {
      "text/plain": [
       "tensor([[0., 0., 0.],\n",
       "        [0., 0., 0.],\n",
       "        [0., 0., 0.],\n",
       "        [0., 0., 0.],\n",
       "        [0., 0., 0.]])"
      ]
     },
     "execution_count": 5,
     "metadata": {},
     "output_type": "execute_result"
    }
   ],
   "source": [
    "# 全零\n",
    "torch.zeros(5,3)"
   ]
  },
  {
   "cell_type": "code",
   "execution_count": 6,
   "metadata": {},
   "outputs": [],
   "source": [
    "# 直接创建\n",
    "x = torch.Tensor([5.4,3])"
   ]
  },
  {
   "cell_type": "code",
   "execution_count": 7,
   "metadata": {},
   "outputs": [
    {
     "data": {
      "text/plain": [
       "tensor([5.4000, 3.0000])"
      ]
     },
     "execution_count": 7,
     "metadata": {},
     "output_type": "execute_result"
    }
   ],
   "source": [
    "x"
   ]
  },
  {
   "cell_type": "code",
   "execution_count": 8,
   "metadata": {},
   "outputs": [],
   "source": [
    "x = x.new_ones(5,3,dtype=torch.float64)"
   ]
  },
  {
   "cell_type": "code",
   "execution_count": 9,
   "metadata": {},
   "outputs": [
    {
     "data": {
      "text/plain": [
       "tensor([[1., 1., 1.],\n",
       "        [1., 1., 1.],\n",
       "        [1., 1., 1.],\n",
       "        [1., 1., 1.],\n",
       "        [1., 1., 1.]], dtype=torch.float64)"
      ]
     },
     "execution_count": 9,
     "metadata": {},
     "output_type": "execute_result"
    }
   ],
   "source": [
    "x"
   ]
  },
  {
   "cell_type": "code",
   "execution_count": 10,
   "metadata": {},
   "outputs": [],
   "source": [
    "x = torch.randn_like(x,dtype=torch.float)"
   ]
  },
  {
   "cell_type": "code",
   "execution_count": 11,
   "metadata": {},
   "outputs": [
    {
     "data": {
      "text/plain": [
       "tensor([[-0.3498,  0.5740, -0.3688],\n",
       "        [ 1.0734,  0.1213,  0.3771],\n",
       "        [-0.3765, -1.6282, -0.4795],\n",
       "        [ 0.6091,  0.2933,  1.3203],\n",
       "        [ 0.9451, -0.3866,  0.6288]])"
      ]
     },
     "execution_count": 11,
     "metadata": {},
     "output_type": "execute_result"
    }
   ],
   "source": [
    "x"
   ]
  },
  {
   "cell_type": "code",
   "execution_count": 12,
   "metadata": {},
   "outputs": [
    {
     "data": {
      "text/plain": [
       "torch.Size([5, 3])"
      ]
     },
     "execution_count": 12,
     "metadata": {},
     "output_type": "execute_result"
    }
   ],
   "source": [
    "# 获取形状\n",
    "x.size()"
   ]
  },
  {
   "cell_type": "code",
   "execution_count": 13,
   "metadata": {},
   "outputs": [
    {
     "data": {
      "text/plain": [
       "torch.Size([5, 3])"
      ]
     },
     "execution_count": 13,
     "metadata": {},
     "output_type": "execute_result"
    }
   ],
   "source": [
    "x.shape"
   ]
  },
  {
   "cell_type": "code",
   "execution_count": 14,
   "metadata": {},
   "outputs": [
    {
     "data": {
      "text/plain": [
       "tensor([[2., 4.],\n",
       "        [4., 5.]])"
      ]
     },
     "execution_count": 14,
     "metadata": {},
     "output_type": "execute_result"
    }
   ],
   "source": [
    "# 根据numpy\n",
    "torch.tensor(np.array([[2,4],[4,5]]),dtype=torch.float)"
   ]
  },
  {
   "cell_type": "code",
   "execution_count": 15,
   "metadata": {},
   "outputs": [
    {
     "data": {
      "text/plain": [
       "tensor([[1., 0.],\n",
       "        [0., 1.]])"
      ]
     },
     "execution_count": 15,
     "metadata": {},
     "output_type": "execute_result"
    }
   ],
   "source": [
    "torch.eye(2,2)"
   ]
  },
  {
   "cell_type": "code",
   "execution_count": 16,
   "metadata": {},
   "outputs": [],
   "source": [
    "x  = torch.arange(1,12,2).view(2,3)"
   ]
  },
  {
   "cell_type": "code",
   "execution_count": 17,
   "metadata": {},
   "outputs": [
    {
     "data": {
      "text/plain": [
       "torch.Size([2, 3])"
      ]
     },
     "execution_count": 17,
     "metadata": {},
     "output_type": "execute_result"
    }
   ],
   "source": [
    "x.size()"
   ]
  },
  {
   "cell_type": "code",
   "execution_count": 18,
   "metadata": {},
   "outputs": [
    {
     "data": {
      "text/plain": [
       "tensor([ 1.,  2.,  3.,  4.,  5.,  6.,  7.,  8.,  9., 10.], dtype=torch.float64)"
      ]
     },
     "execution_count": 18,
     "metadata": {},
     "output_type": "execute_result"
    }
   ],
   "source": [
    "torch.linspace(1,10,10,dtype=float)"
   ]
  },
  {
   "cell_type": "code",
   "execution_count": 19,
   "metadata": {},
   "outputs": [
    {
     "data": {
      "text/plain": [
       "tensor([[ 0.4777, -0.2387],\n",
       "        [-0.0118, -1.6641]])"
      ]
     },
     "execution_count": 19,
     "metadata": {},
     "output_type": "execute_result"
    }
   ],
   "source": [
    "torch.normal(0,1,(2,2))"
   ]
  },
  {
   "cell_type": "code",
   "execution_count": null,
   "metadata": {},
   "outputs": [],
   "source": []
  },
  {
   "cell_type": "markdown",
   "metadata": {},
   "source": [
    "### 操作"
   ]
  },
  {
   "cell_type": "code",
   "execution_count": 20,
   "metadata": {},
   "outputs": [],
   "source": [
    "# 算数操作"
   ]
  },
  {
   "cell_type": "code",
   "execution_count": 21,
   "metadata": {},
   "outputs": [],
   "source": [
    "\n",
    "# 加法形式1\n",
    "x = torch.randn(5,3)"
   ]
  },
  {
   "cell_type": "code",
   "execution_count": 22,
   "metadata": {},
   "outputs": [
    {
     "data": {
      "text/plain": [
       "tensor([[-1.0043, -0.0122, -0.3314],\n",
       "        [ 0.3395,  1.3533, -0.4196],\n",
       "        [ 0.1596, -0.1822, -1.2270],\n",
       "        [-1.1845, -0.9119,  1.1245],\n",
       "        [ 1.1597,  0.0052, -2.0162]])"
      ]
     },
     "execution_count": 22,
     "metadata": {},
     "output_type": "execute_result"
    }
   ],
   "source": [
    "x"
   ]
  },
  {
   "cell_type": "code",
   "execution_count": 23,
   "metadata": {},
   "outputs": [],
   "source": [
    "y = torch.rand(5,3)"
   ]
  },
  {
   "cell_type": "code",
   "execution_count": 24,
   "metadata": {},
   "outputs": [
    {
     "data": {
      "text/plain": [
       "tensor([[0.4077, 0.0346, 0.7830],\n",
       "        [0.8658, 0.0692, 0.0086],\n",
       "        [0.9508, 0.4843, 0.5302],\n",
       "        [0.8920, 0.7605, 0.6510],\n",
       "        [0.8059, 0.1358, 0.2871]])"
      ]
     },
     "execution_count": 24,
     "metadata": {},
     "output_type": "execute_result"
    }
   ],
   "source": [
    "y"
   ]
  },
  {
   "cell_type": "code",
   "execution_count": 25,
   "metadata": {},
   "outputs": [
    {
     "data": {
      "text/plain": [
       "tensor([[-0.5966,  0.0224,  0.4516],\n",
       "        [ 1.2053,  1.4224, -0.4110],\n",
       "        [ 1.1104,  0.3021, -0.6969],\n",
       "        [-0.2925, -0.1514,  1.7755],\n",
       "        [ 1.9656,  0.1410, -1.7291]])"
      ]
     },
     "execution_count": 25,
     "metadata": {},
     "output_type": "execute_result"
    }
   ],
   "source": [
    "x + y"
   ]
  },
  {
   "cell_type": "code",
   "execution_count": 26,
   "metadata": {},
   "outputs": [
    {
     "data": {
      "text/plain": [
       "tensor([[-0.5966,  0.0224,  0.4516],\n",
       "        [ 1.2053,  1.4224, -0.4110],\n",
       "        [ 1.1104,  0.3021, -0.6969],\n",
       "        [-0.2925, -0.1514,  1.7755],\n",
       "        [ 1.9656,  0.1410, -1.7291]])"
      ]
     },
     "execution_count": 26,
     "metadata": {},
     "output_type": "execute_result"
    }
   ],
   "source": [
    "# 加法形式2\n",
    "torch.add(x,y)"
   ]
  },
  {
   "cell_type": "code",
   "execution_count": 27,
   "metadata": {},
   "outputs": [
    {
     "data": {
      "text/plain": [
       "tensor([[-0.5966,  0.0224,  0.4516],\n",
       "        [ 1.2053,  1.4224, -0.4110],\n",
       "        [ 1.1104,  0.3021, -0.6969],\n",
       "        [-0.2925, -0.1514,  1.7755],\n",
       "        [ 1.9656,  0.1410, -1.7291]])"
      ]
     },
     "execution_count": 27,
     "metadata": {},
     "output_type": "execute_result"
    }
   ],
   "source": [
    "# 可以指定输出\n",
    "result = torch.empty(5,3)\n",
    "torch.add(x,y,out=result)"
   ]
  },
  {
   "cell_type": "code",
   "execution_count": 28,
   "metadata": {},
   "outputs": [
    {
     "data": {
      "text/plain": [
       "tensor([[-0.5966,  0.0224,  0.4516],\n",
       "        [ 1.2053,  1.4224, -0.4110],\n",
       "        [ 1.1104,  0.3021, -0.6969],\n",
       "        [-0.2925, -0.1514,  1.7755],\n",
       "        [ 1.9656,  0.1410, -1.7291]])"
      ]
     },
     "execution_count": 28,
     "metadata": {},
     "output_type": "execute_result"
    }
   ],
   "source": [
    "result"
   ]
  },
  {
   "cell_type": "code",
   "execution_count": 29,
   "metadata": {},
   "outputs": [
    {
     "data": {
      "text/plain": [
       "tensor([[-0.5966,  0.0224,  0.4516],\n",
       "        [ 1.2053,  1.4224, -0.4110],\n",
       "        [ 1.1104,  0.3021, -0.6969],\n",
       "        [-0.2925, -0.1514,  1.7755],\n",
       "        [ 1.9656,  0.1410, -1.7291]])"
      ]
     },
     "execution_count": 29,
     "metadata": {},
     "output_type": "execute_result"
    }
   ],
   "source": [
    "# 加法形式3\n",
    "y.add_(x)"
   ]
  },
  {
   "cell_type": "code",
   "execution_count": 30,
   "metadata": {},
   "outputs": [
    {
     "data": {
      "text/plain": [
       "tensor([[-0.5966,  0.0224,  0.4516],\n",
       "        [ 1.2053,  1.4224, -0.4110],\n",
       "        [ 1.1104,  0.3021, -0.6969],\n",
       "        [-0.2925, -0.1514,  1.7755],\n",
       "        [ 1.9656,  0.1410, -1.7291]])"
      ]
     },
     "execution_count": 30,
     "metadata": {},
     "output_type": "execute_result"
    }
   ],
   "source": [
    "y"
   ]
  },
  {
   "cell_type": "code",
   "execution_count": 31,
   "metadata": {},
   "outputs": [
    {
     "data": {
      "text/plain": [
       "tensor([[-1.0043, -0.0122, -0.3314],\n",
       "        [ 0.3395,  1.3533, -0.4196],\n",
       "        [ 0.1596, -0.1822, -1.2270],\n",
       "        [-1.1845, -0.9119,  1.1245],\n",
       "        [ 1.1597,  0.0052, -2.0162]])"
      ]
     },
     "execution_count": 31,
     "metadata": {},
     "output_type": "execute_result"
    }
   ],
   "source": [
    "x"
   ]
  },
  {
   "cell_type": "code",
   "execution_count": 32,
   "metadata": {},
   "outputs": [
    {
     "data": {
      "text/plain": [
       "tensor([[-1.0043,  0.3395,  0.1596, -1.1845,  1.1597],\n",
       "        [-0.0122,  1.3533, -0.1822, -0.9119,  0.0052],\n",
       "        [-0.3314, -0.4196, -1.2270,  1.1245, -2.0162]])"
      ]
     },
     "execution_count": 32,
     "metadata": {},
     "output_type": "execute_result"
    }
   ],
   "source": [
    "x.t_()"
   ]
  },
  {
   "cell_type": "code",
   "execution_count": 33,
   "metadata": {},
   "outputs": [
    {
     "data": {
      "text/plain": [
       "tensor([[-1.0043, -0.0122, -0.3314],\n",
       "        [ 0.3395,  1.3533, -0.4196],\n",
       "        [ 0.1596, -0.1822, -1.2270],\n",
       "        [-1.1845, -0.9119,  1.1245],\n",
       "        [ 1.1597,  0.0052, -2.0162]])"
      ]
     },
     "execution_count": 33,
     "metadata": {},
     "output_type": "execute_result"
    }
   ],
   "source": [
    "x.t_()"
   ]
  },
  {
   "cell_type": "code",
   "execution_count": 34,
   "metadata": {},
   "outputs": [
    {
     "data": {
      "text/plain": [
       "tensor([[-0.5966,  0.0224,  0.4516],\n",
       "        [ 1.2053,  1.4224, -0.4110],\n",
       "        [ 1.1104,  0.3021, -0.6969],\n",
       "        [-0.2925, -0.1514,  1.7755],\n",
       "        [ 1.9656,  0.1410, -1.7291]])"
      ]
     },
     "execution_count": 34,
     "metadata": {},
     "output_type": "execute_result"
    }
   ],
   "source": [
    "x.copy_(y)"
   ]
  },
  {
   "cell_type": "code",
   "execution_count": 35,
   "metadata": {},
   "outputs": [
    {
     "data": {
      "text/plain": [
       "tensor([[-0.5966,  0.0224,  0.4516],\n",
       "        [ 1.2053,  1.4224, -0.4110],\n",
       "        [ 1.1104,  0.3021, -0.6969],\n",
       "        [-0.2925, -0.1514,  1.7755],\n",
       "        [ 1.9656,  0.1410, -1.7291]])"
      ]
     },
     "execution_count": 35,
     "metadata": {},
     "output_type": "execute_result"
    }
   ],
   "source": [
    "x"
   ]
  },
  {
   "cell_type": "code",
   "execution_count": 36,
   "metadata": {},
   "outputs": [],
   "source": [
    "# 索引\n",
    "# 索引出来的结果与原数据共享内存，修改一个 另一个也随着变"
   ]
  },
  {
   "cell_type": "code",
   "execution_count": 37,
   "metadata": {},
   "outputs": [],
   "source": [
    "y = x[0,:]"
   ]
  },
  {
   "cell_type": "code",
   "execution_count": 38,
   "metadata": {},
   "outputs": [
    {
     "data": {
      "text/plain": [
       "tensor([-0.5966,  0.0224,  0.4516])"
      ]
     },
     "execution_count": 38,
     "metadata": {},
     "output_type": "execute_result"
    }
   ],
   "source": [
    "y"
   ]
  },
  {
   "cell_type": "code",
   "execution_count": 39,
   "metadata": {},
   "outputs": [],
   "source": [
    "y +=1"
   ]
  },
  {
   "cell_type": "code",
   "execution_count": 40,
   "metadata": {},
   "outputs": [
    {
     "data": {
      "text/plain": [
       "tensor([0.4034, 1.0224, 1.4516])"
      ]
     },
     "execution_count": 40,
     "metadata": {},
     "output_type": "execute_result"
    }
   ],
   "source": [
    "y"
   ]
  },
  {
   "cell_type": "code",
   "execution_count": 41,
   "metadata": {},
   "outputs": [
    {
     "data": {
      "text/plain": [
       "tensor([0.4034, 1.0224, 1.4516])"
      ]
     },
     "execution_count": 41,
     "metadata": {},
     "output_type": "execute_result"
    }
   ],
   "source": [
    "x[0,:]"
   ]
  },
  {
   "cell_type": "code",
   "execution_count": 42,
   "metadata": {},
   "outputs": [
    {
     "data": {
      "text/plain": [
       "tensor([[ 0.4034,  1.0224,  1.4516],\n",
       "        [ 1.2053,  1.4224, -0.4110],\n",
       "        [ 1.1104,  0.3021, -0.6969],\n",
       "        [-0.2925, -0.1514,  1.7755],\n",
       "        [ 1.9656,  0.1410, -1.7291]])"
      ]
     },
     "execution_count": 42,
     "metadata": {},
     "output_type": "execute_result"
    }
   ],
   "source": [
    "x"
   ]
  },
  {
   "cell_type": "code",
   "execution_count": 43,
   "metadata": {},
   "outputs": [
    {
     "data": {
      "text/plain": [
       "tensor([[ 0.4034,  0.4034,  1.0224],\n",
       "        [ 1.2053,  1.2053,  1.4224],\n",
       "        [ 1.1104,  1.1104,  0.3021],\n",
       "        [-0.2925, -0.2925, -0.1514],\n",
       "        [ 1.9656,  1.9656,  0.1410]])"
      ]
     },
     "execution_count": 43,
     "metadata": {},
     "output_type": "execute_result"
    }
   ],
   "source": [
    "torch.index_select(x,1,torch.LongTensor([0.,0.,1.]))"
   ]
  },
  {
   "cell_type": "code",
   "execution_count": 44,
   "metadata": {},
   "outputs": [],
   "source": [
    "# torch.gather(x,0,torch.LongTensor([1.,1.,0.]))"
   ]
  },
  {
   "cell_type": "code",
   "execution_count": 45,
   "metadata": {},
   "outputs": [],
   "source": [
    "# 改变形状\n",
    "y = x.view(15)"
   ]
  },
  {
   "cell_type": "code",
   "execution_count": 46,
   "metadata": {},
   "outputs": [
    {
     "data": {
      "text/plain": [
       "tensor([ 0.4034,  1.0224,  1.4516,  1.2053,  1.4224, -0.4110,  1.1104,  0.3021,\n",
       "        -0.6969, -0.2925, -0.1514,  1.7755,  1.9656,  0.1410, -1.7291])"
      ]
     },
     "execution_count": 46,
     "metadata": {},
     "output_type": "execute_result"
    }
   ],
   "source": [
    "y"
   ]
  },
  {
   "cell_type": "code",
   "execution_count": 47,
   "metadata": {},
   "outputs": [],
   "source": [
    "z = x.view(-1,5)"
   ]
  },
  {
   "cell_type": "code",
   "execution_count": 48,
   "metadata": {},
   "outputs": [
    {
     "data": {
      "text/plain": [
       "tensor([[ 0.4034,  1.0224,  1.4516,  1.2053,  1.4224],\n",
       "        [-0.4110,  1.1104,  0.3021, -0.6969, -0.2925],\n",
       "        [-0.1514,  1.7755,  1.9656,  0.1410, -1.7291]])"
      ]
     },
     "execution_count": 48,
     "metadata": {},
     "output_type": "execute_result"
    }
   ],
   "source": [
    "z "
   ]
  },
  {
   "cell_type": "code",
   "execution_count": 49,
   "metadata": {},
   "outputs": [
    {
     "data": {
      "text/plain": [
       "torch.Size([5, 3])"
      ]
     },
     "execution_count": 49,
     "metadata": {},
     "output_type": "execute_result"
    }
   ],
   "source": [
    "x.shape"
   ]
  },
  {
   "cell_type": "code",
   "execution_count": 50,
   "metadata": {},
   "outputs": [
    {
     "data": {
      "text/plain": [
       "torch.Size([15])"
      ]
     },
     "execution_count": 50,
     "metadata": {},
     "output_type": "execute_result"
    }
   ],
   "source": [
    "y.shape"
   ]
  },
  {
   "cell_type": "code",
   "execution_count": 51,
   "metadata": {},
   "outputs": [
    {
     "data": {
      "text/plain": [
       "torch.Size([3, 5])"
      ]
     },
     "execution_count": 51,
     "metadata": {},
     "output_type": "execute_result"
    }
   ],
   "source": [
    "z.shape"
   ]
  },
  {
   "cell_type": "code",
   "execution_count": 52,
   "metadata": {},
   "outputs": [],
   "source": [
    "# view()返回新的size 但是 是共享 data 的 改变其中一个另外一个也跟着改变\n",
    "x += 1"
   ]
  },
  {
   "cell_type": "code",
   "execution_count": 53,
   "metadata": {},
   "outputs": [
    {
     "data": {
      "text/plain": [
       "tensor([[ 1.4034,  2.0224,  2.4516],\n",
       "        [ 2.2053,  2.4224,  0.5890],\n",
       "        [ 2.1104,  1.3021,  0.3031],\n",
       "        [ 0.7075,  0.8486,  2.7755],\n",
       "        [ 2.9656,  1.1410, -0.7291]])"
      ]
     },
     "execution_count": 53,
     "metadata": {},
     "output_type": "execute_result"
    }
   ],
   "source": [
    "x"
   ]
  },
  {
   "cell_type": "code",
   "execution_count": 54,
   "metadata": {},
   "outputs": [
    {
     "data": {
      "text/plain": [
       "tensor([ 1.4034,  2.0224,  2.4516,  2.2053,  2.4224,  0.5890,  2.1104,  1.3021,\n",
       "         0.3031,  0.7075,  0.8486,  2.7755,  2.9656,  1.1410, -0.7291])"
      ]
     },
     "execution_count": 54,
     "metadata": {},
     "output_type": "execute_result"
    }
   ],
   "source": [
    "y"
   ]
  },
  {
   "cell_type": "code",
   "execution_count": 55,
   "metadata": {},
   "outputs": [
    {
     "data": {
      "text/plain": [
       "tensor([[ 1.4034,  2.0224,  2.4516,  2.2053,  2.4224],\n",
       "        [ 0.5890,  2.1104,  1.3021,  0.3031,  0.7075],\n",
       "        [ 0.8486,  2.7755,  2.9656,  1.1410, -0.7291]])"
      ]
     },
     "execution_count": 55,
     "metadata": {},
     "output_type": "execute_result"
    }
   ],
   "source": [
    "z"
   ]
  },
  {
   "cell_type": "code",
   "execution_count": 56,
   "metadata": {},
   "outputs": [],
   "source": [
    "#不变量共享 先用clone 创建一个副本然后在使用view\n",
    "x_cp = x.clone().view(15)"
   ]
  },
  {
   "cell_type": "code",
   "execution_count": 57,
   "metadata": {},
   "outputs": [
    {
     "data": {
      "text/plain": [
       "tensor([ 1.4034,  2.0224,  2.4516,  2.2053,  2.4224,  0.5890,  2.1104,  1.3021,\n",
       "         0.3031,  0.7075,  0.8486,  2.7755,  2.9656,  1.1410, -0.7291])"
      ]
     },
     "execution_count": 57,
     "metadata": {},
     "output_type": "execute_result"
    }
   ],
   "source": [
    "x_cp"
   ]
  },
  {
   "cell_type": "code",
   "execution_count": 58,
   "metadata": {},
   "outputs": [],
   "source": [
    "x +=1"
   ]
  },
  {
   "cell_type": "code",
   "execution_count": 59,
   "metadata": {},
   "outputs": [
    {
     "data": {
      "text/plain": [
       "tensor([[2.4034, 3.0224, 3.4516],\n",
       "        [3.2053, 3.4224, 1.5890],\n",
       "        [3.1104, 2.3021, 1.3031],\n",
       "        [1.7075, 1.8486, 3.7755],\n",
       "        [3.9656, 2.1410, 0.2709]])"
      ]
     },
     "execution_count": 59,
     "metadata": {},
     "output_type": "execute_result"
    }
   ],
   "source": [
    "x"
   ]
  },
  {
   "cell_type": "code",
   "execution_count": 60,
   "metadata": {},
   "outputs": [
    {
     "data": {
      "text/plain": [
       "tensor([ 1.4034,  2.0224,  2.4516,  2.2053,  2.4224,  0.5890,  2.1104,  1.3021,\n",
       "         0.3031,  0.7075,  0.8486,  2.7755,  2.9656,  1.1410, -0.7291])"
      ]
     },
     "execution_count": 60,
     "metadata": {},
     "output_type": "execute_result"
    }
   ],
   "source": [
    "x_cp"
   ]
  },
  {
   "cell_type": "code",
   "execution_count": 61,
   "metadata": {},
   "outputs": [],
   "source": [
    "# item 将Tensor 转成 python number \n",
    "x = torch.randn(1)"
   ]
  },
  {
   "cell_type": "code",
   "execution_count": 62,
   "metadata": {},
   "outputs": [
    {
     "data": {
      "text/plain": [
       "tensor([1.7351])"
      ]
     },
     "execution_count": 62,
     "metadata": {},
     "output_type": "execute_result"
    }
   ],
   "source": [
    "x"
   ]
  },
  {
   "cell_type": "code",
   "execution_count": 63,
   "metadata": {},
   "outputs": [
    {
     "data": {
      "text/plain": [
       "1.7351020574569702"
      ]
     },
     "execution_count": 63,
     "metadata": {},
     "output_type": "execute_result"
    }
   ],
   "source": [
    "x.item()"
   ]
  },
  {
   "cell_type": "code",
   "execution_count": 64,
   "metadata": {},
   "outputs": [
    {
     "data": {
      "text/plain": [
       "tensor([ 1.4034,  2.0224,  2.4516,  2.2053,  2.4224,  0.5890,  2.1104,  1.3021,\n",
       "         0.3031,  0.7075,  0.8486,  2.7755,  2.9656,  1.1410, -0.7291])"
      ]
     },
     "execution_count": 64,
     "metadata": {},
     "output_type": "execute_result"
    }
   ],
   "source": [
    "# 线性代数\n",
    "x_cp"
   ]
  },
  {
   "cell_type": "code",
   "execution_count": 65,
   "metadata": {},
   "outputs": [],
   "source": [
    "y_cp = x_cp.view(-1,5)"
   ]
  },
  {
   "cell_type": "code",
   "execution_count": 66,
   "metadata": {},
   "outputs": [
    {
     "data": {
      "text/plain": [
       "tensor(6.4794)"
      ]
     },
     "execution_count": 66,
     "metadata": {},
     "output_type": "execute_result"
    }
   ],
   "source": [
    "torch.trace(y_cp)"
   ]
  },
  {
   "cell_type": "code",
   "execution_count": 67,
   "metadata": {},
   "outputs": [
    {
     "data": {
      "text/plain": [
       "tensor([[ 1.4034,  2.0224,  2.4516,  2.2053,  2.4224],\n",
       "        [ 0.5890,  2.1104,  1.3021,  0.3031,  0.7075],\n",
       "        [ 0.8486,  2.7755,  2.9656,  1.1410, -0.7291]])"
      ]
     },
     "execution_count": 67,
     "metadata": {},
     "output_type": "execute_result"
    }
   ],
   "source": [
    "y_cp"
   ]
  },
  {
   "cell_type": "code",
   "execution_count": 68,
   "metadata": {},
   "outputs": [],
   "source": [
    "n = torch.diag(y_cp)"
   ]
  },
  {
   "cell_type": "code",
   "execution_count": 69,
   "metadata": {},
   "outputs": [
    {
     "data": {
      "text/plain": [
       "tensor(6.4794)"
      ]
     },
     "execution_count": 69,
     "metadata": {},
     "output_type": "execute_result"
    }
   ],
   "source": [
    "n.sum()"
   ]
  },
  {
   "cell_type": "code",
   "execution_count": 70,
   "metadata": {},
   "outputs": [
    {
     "data": {
      "text/plain": [
       "tensor([[ 1.4034,  0.5890,  0.8486],\n",
       "        [ 2.0224,  2.1104,  2.7755],\n",
       "        [ 2.4516,  1.3021,  2.9656],\n",
       "        [ 2.2053,  0.3031,  1.1410],\n",
       "        [ 2.4224,  0.7075, -0.7291]])"
      ]
     },
     "execution_count": 70,
     "metadata": {},
     "output_type": "execute_result"
    }
   ],
   "source": [
    "y_cp.t_()"
   ]
  },
  {
   "cell_type": "markdown",
   "metadata": {},
   "source": [
    "### 广播机制"
   ]
  },
  {
   "cell_type": "code",
   "execution_count": 71,
   "metadata": {},
   "outputs": [],
   "source": [
    "x = torch.arange(1,3).view(1,2)"
   ]
  },
  {
   "cell_type": "code",
   "execution_count": 72,
   "metadata": {},
   "outputs": [
    {
     "data": {
      "text/plain": [
       "tensor([[1, 2]])"
      ]
     },
     "execution_count": 72,
     "metadata": {},
     "output_type": "execute_result"
    }
   ],
   "source": [
    "x"
   ]
  },
  {
   "cell_type": "code",
   "execution_count": 73,
   "metadata": {},
   "outputs": [],
   "source": [
    "y = torch.arange(1,4).view(3,1)"
   ]
  },
  {
   "cell_type": "code",
   "execution_count": 74,
   "metadata": {},
   "outputs": [
    {
     "data": {
      "text/plain": [
       "tensor([[1],\n",
       "        [2],\n",
       "        [3]])"
      ]
     },
     "execution_count": 74,
     "metadata": {},
     "output_type": "execute_result"
    }
   ],
   "source": [
    "y"
   ]
  },
  {
   "cell_type": "code",
   "execution_count": 75,
   "metadata": {},
   "outputs": [
    {
     "data": {
      "text/plain": [
       "tensor([[2, 3],\n",
       "        [3, 4],\n",
       "        [4, 5]])"
      ]
     },
     "execution_count": 75,
     "metadata": {},
     "output_type": "execute_result"
    }
   ],
   "source": [
    "x + y"
   ]
  },
  {
   "cell_type": "markdown",
   "metadata": {},
   "source": [
    "### 运算内存开销"
   ]
  },
  {
   "cell_type": "code",
   "execution_count": 76,
   "metadata": {},
   "outputs": [],
   "source": [
    "# 索引操作是不会 开辟新内存，但是 y = x + y 这样的运算会新开内存，然后将\n",
    "# y指向新内存"
   ]
  },
  {
   "cell_type": "code",
   "execution_count": 77,
   "metadata": {},
   "outputs": [],
   "source": [
    "x = torch.tensor([1,2])"
   ]
  },
  {
   "cell_type": "code",
   "execution_count": 78,
   "metadata": {},
   "outputs": [],
   "source": [
    "y = torch.tensor([3,4])"
   ]
  },
  {
   "cell_type": "code",
   "execution_count": 79,
   "metadata": {},
   "outputs": [],
   "source": [
    "id_before = id(y)"
   ]
  },
  {
   "cell_type": "code",
   "execution_count": 80,
   "metadata": {},
   "outputs": [
    {
     "data": {
      "text/plain": [
       "140579175162320"
      ]
     },
     "execution_count": 80,
     "metadata": {},
     "output_type": "execute_result"
    }
   ],
   "source": [
    "id_before"
   ]
  },
  {
   "cell_type": "code",
   "execution_count": 81,
   "metadata": {},
   "outputs": [],
   "source": [
    "y = y + x "
   ]
  },
  {
   "cell_type": "code",
   "execution_count": 82,
   "metadata": {},
   "outputs": [
    {
     "data": {
      "text/plain": [
       "False"
      ]
     },
     "execution_count": 82,
     "metadata": {},
     "output_type": "execute_result"
    }
   ],
   "source": [
    "id(y) == id_before"
   ]
  },
  {
   "cell_type": "code",
   "execution_count": 83,
   "metadata": {},
   "outputs": [],
   "source": [
    "# 如果想指定结果到原来y的内存，我们可以 使用前面介绍的索引来进行替换操作"
   ]
  },
  {
   "cell_type": "code",
   "execution_count": 84,
   "metadata": {},
   "outputs": [],
   "source": [
    "x = torch.tensor([1,2])\n",
    "y = torch.tensor([3,4])\n",
    "id_before = id(y)\n",
    "y[:] = x + y "
   ]
  },
  {
   "cell_type": "code",
   "execution_count": 85,
   "metadata": {},
   "outputs": [
    {
     "data": {
      "text/plain": [
       "True"
      ]
     },
     "execution_count": 85,
     "metadata": {},
     "output_type": "execute_result"
    }
   ],
   "source": [
    "id(y) == id_before"
   ]
  },
  {
   "cell_type": "code",
   "execution_count": 86,
   "metadata": {},
   "outputs": [],
   "source": [
    "# 运算符全名函数中的out 参数 或者 自加运算 += 达到 上述效果 "
   ]
  },
  {
   "cell_type": "code",
   "execution_count": 87,
   "metadata": {},
   "outputs": [
    {
     "data": {
      "text/plain": [
       "tensor([5, 8])"
      ]
     },
     "execution_count": 87,
     "metadata": {},
     "output_type": "execute_result"
    }
   ],
   "source": [
    "torch.add(x,y,out=y)"
   ]
  },
  {
   "cell_type": "code",
   "execution_count": 88,
   "metadata": {},
   "outputs": [
    {
     "data": {
      "text/plain": [
       "True"
      ]
     },
     "execution_count": 88,
     "metadata": {},
     "output_type": "execute_result"
    }
   ],
   "source": [
    "id(y) == id_before"
   ]
  },
  {
   "cell_type": "markdown",
   "metadata": {},
   "source": [
    "### Tensor 和 Numpy 相互转换 "
   ]
  },
  {
   "cell_type": "code",
   "execution_count": 89,
   "metadata": {},
   "outputs": [],
   "source": [
    "# 容易使用numpy() 和 from_numpy() 将 Tensor 和 Numpy中的数据相互转换\n",
    "# 但是要注意的是数组之间 共享相同的内存 改变其中一个另外一个也改变"
   ]
  },
  {
   "cell_type": "code",
   "execution_count": 90,
   "metadata": {},
   "outputs": [],
   "source": [
    "a = torch.ones(5)"
   ]
  },
  {
   "cell_type": "code",
   "execution_count": 91,
   "metadata": {},
   "outputs": [
    {
     "data": {
      "text/plain": [
       "tensor([1., 1., 1., 1., 1.])"
      ]
     },
     "execution_count": 91,
     "metadata": {},
     "output_type": "execute_result"
    }
   ],
   "source": [
    "a"
   ]
  },
  {
   "cell_type": "code",
   "execution_count": 92,
   "metadata": {},
   "outputs": [],
   "source": [
    "b = a.numpy()"
   ]
  },
  {
   "cell_type": "code",
   "execution_count": 93,
   "metadata": {},
   "outputs": [
    {
     "data": {
      "text/plain": [
       "array([1., 1., 1., 1., 1.], dtype=float32)"
      ]
     },
     "execution_count": 93,
     "metadata": {},
     "output_type": "execute_result"
    }
   ],
   "source": [
    "b"
   ]
  },
  {
   "cell_type": "code",
   "execution_count": 94,
   "metadata": {},
   "outputs": [],
   "source": [
    "a +=1 "
   ]
  },
  {
   "cell_type": "code",
   "execution_count": 95,
   "metadata": {},
   "outputs": [
    {
     "data": {
      "text/plain": [
       "tensor([2., 2., 2., 2., 2.])"
      ]
     },
     "execution_count": 95,
     "metadata": {},
     "output_type": "execute_result"
    }
   ],
   "source": [
    "a"
   ]
  },
  {
   "cell_type": "code",
   "execution_count": 96,
   "metadata": {},
   "outputs": [
    {
     "data": {
      "text/plain": [
       "array([2., 2., 2., 2., 2.], dtype=float32)"
      ]
     },
     "execution_count": 96,
     "metadata": {},
     "output_type": "execute_result"
    }
   ],
   "source": [
    "b"
   ]
  },
  {
   "cell_type": "code",
   "execution_count": 97,
   "metadata": {},
   "outputs": [],
   "source": [
    "b +=1"
   ]
  },
  {
   "cell_type": "code",
   "execution_count": 98,
   "metadata": {},
   "outputs": [
    {
     "data": {
      "text/plain": [
       "array([3., 3., 3., 3., 3.], dtype=float32)"
      ]
     },
     "execution_count": 98,
     "metadata": {},
     "output_type": "execute_result"
    }
   ],
   "source": [
    "b"
   ]
  },
  {
   "cell_type": "code",
   "execution_count": 99,
   "metadata": {},
   "outputs": [
    {
     "data": {
      "text/plain": [
       "tensor([3., 3., 3., 3., 3.])"
      ]
     },
     "execution_count": 99,
     "metadata": {},
     "output_type": "execute_result"
    }
   ],
   "source": [
    "a"
   ]
  },
  {
   "cell_type": "code",
   "execution_count": 100,
   "metadata": {},
   "outputs": [],
   "source": [
    "a = np.ones(5)"
   ]
  },
  {
   "cell_type": "code",
   "execution_count": 101,
   "metadata": {},
   "outputs": [
    {
     "data": {
      "text/plain": [
       "array([1., 1., 1., 1., 1.])"
      ]
     },
     "execution_count": 101,
     "metadata": {},
     "output_type": "execute_result"
    }
   ],
   "source": [
    "a"
   ]
  },
  {
   "cell_type": "code",
   "execution_count": 102,
   "metadata": {},
   "outputs": [],
   "source": [
    "b = torch.from_numpy(a)"
   ]
  },
  {
   "cell_type": "code",
   "execution_count": 103,
   "metadata": {},
   "outputs": [
    {
     "data": {
      "text/plain": [
       "tensor([1., 1., 1., 1., 1.], dtype=torch.float64)"
      ]
     },
     "execution_count": 103,
     "metadata": {},
     "output_type": "execute_result"
    }
   ],
   "source": [
    "b"
   ]
  },
  {
   "cell_type": "code",
   "execution_count": 104,
   "metadata": {},
   "outputs": [],
   "source": [
    "a +=1"
   ]
  },
  {
   "cell_type": "code",
   "execution_count": 105,
   "metadata": {},
   "outputs": [
    {
     "data": {
      "text/plain": [
       "array([2., 2., 2., 2., 2.])"
      ]
     },
     "execution_count": 105,
     "metadata": {},
     "output_type": "execute_result"
    }
   ],
   "source": [
    "a"
   ]
  },
  {
   "cell_type": "code",
   "execution_count": 106,
   "metadata": {},
   "outputs": [
    {
     "data": {
      "text/plain": [
       "tensor([2., 2., 2., 2., 2.], dtype=torch.float64)"
      ]
     },
     "execution_count": 106,
     "metadata": {},
     "output_type": "execute_result"
    }
   ],
   "source": [
    "b"
   ]
  },
  {
   "cell_type": "code",
   "execution_count": 107,
   "metadata": {},
   "outputs": [],
   "source": [
    "# 直接用 torch.tensor()  会进行数据拷贝 返回的tensor 和原来的数据不在进行\n",
    "# 数据共享\n",
    "c = torch.tensor(a)"
   ]
  },
  {
   "cell_type": "code",
   "execution_count": 108,
   "metadata": {},
   "outputs": [
    {
     "data": {
      "text/plain": [
       "tensor([2., 2., 2., 2., 2.], dtype=torch.float64)"
      ]
     },
     "execution_count": 108,
     "metadata": {},
     "output_type": "execute_result"
    }
   ],
   "source": [
    "c"
   ]
  },
  {
   "cell_type": "code",
   "execution_count": 109,
   "metadata": {},
   "outputs": [],
   "source": [
    "a+=1"
   ]
  },
  {
   "cell_type": "code",
   "execution_count": 110,
   "metadata": {},
   "outputs": [
    {
     "data": {
      "text/plain": [
       "tensor([2., 2., 2., 2., 2.], dtype=torch.float64)"
      ]
     },
     "execution_count": 110,
     "metadata": {},
     "output_type": "execute_result"
    }
   ],
   "source": [
    "c"
   ]
  },
  {
   "cell_type": "code",
   "execution_count": 111,
   "metadata": {},
   "outputs": [
    {
     "data": {
      "text/plain": [
       "array([3., 3., 3., 3., 3.])"
      ]
     },
     "execution_count": 111,
     "metadata": {},
     "output_type": "execute_result"
    }
   ],
   "source": [
    "a"
   ]
  },
  {
   "cell_type": "code",
   "execution_count": 112,
   "metadata": {},
   "outputs": [],
   "source": [
    "### tensor on GPU"
   ]
  },
  {
   "cell_type": "markdown",
   "metadata": {},
   "source": [
    "## 自动求梯度"
   ]
  },
  {
   "cell_type": "markdown",
   "metadata": {},
   "source": [
    "### 概念"
   ]
  },
  {
   "cell_type": "code",
   "execution_count": 113,
   "metadata": {},
   "outputs": [],
   "source": [
    "# 属性为 requires_grad 设置为True  将追踪其上的所有操作  可以利用链式法则\n",
    "# 进行梯度传播了 计算完成后 可以调用 。backward()来完成所有的梯度计算\n",
    "# 此Tensor的梯度累计到.grad属性中"
   ]
  },
  {
   "cell_type": "markdown",
   "metadata": {},
   "source": [
    "### Tensor"
   ]
  },
  {
   "cell_type": "code",
   "execution_count": 114,
   "metadata": {},
   "outputs": [],
   "source": [
    "x = torch.ones(2,2,requires_grad=True)"
   ]
  },
  {
   "cell_type": "code",
   "execution_count": 115,
   "metadata": {},
   "outputs": [
    {
     "data": {
      "text/plain": [
       "tensor([[1., 1.],\n",
       "        [1., 1.]], requires_grad=True)"
      ]
     },
     "execution_count": 115,
     "metadata": {},
     "output_type": "execute_result"
    }
   ],
   "source": [
    "x"
   ]
  },
  {
   "cell_type": "code",
   "execution_count": 116,
   "metadata": {},
   "outputs": [
    {
     "name": "stdout",
     "output_type": "stream",
     "text": [
      "None\n"
     ]
    }
   ],
   "source": [
    "print(x.grad_fn)"
   ]
  },
  {
   "cell_type": "code",
   "execution_count": 117,
   "metadata": {},
   "outputs": [],
   "source": [
    "y = x + 2"
   ]
  },
  {
   "cell_type": "code",
   "execution_count": 118,
   "metadata": {},
   "outputs": [
    {
     "data": {
      "text/plain": [
       "tensor([[3., 3.],\n",
       "        [3., 3.]], grad_fn=<AddBackward0>)"
      ]
     },
     "execution_count": 118,
     "metadata": {},
     "output_type": "execute_result"
    }
   ],
   "source": [
    "y"
   ]
  },
  {
   "cell_type": "code",
   "execution_count": 119,
   "metadata": {},
   "outputs": [
    {
     "data": {
      "text/plain": [
       "<AddBackward0 at 0x7fdb23cd0f90>"
      ]
     },
     "execution_count": 119,
     "metadata": {},
     "output_type": "execute_result"
    }
   ],
   "source": [
    "y.grad_fn"
   ]
  },
  {
   "cell_type": "code",
   "execution_count": 120,
   "metadata": {},
   "outputs": [],
   "source": [
    "# 直接创建的成为叶子节点，叶子节点对应的grad_fn 是 None"
   ]
  },
  {
   "cell_type": "code",
   "execution_count": 121,
   "metadata": {},
   "outputs": [
    {
     "data": {
      "text/plain": [
       "True"
      ]
     },
     "execution_count": 121,
     "metadata": {},
     "output_type": "execute_result"
    }
   ],
   "source": [
    "x.is_leaf"
   ]
  },
  {
   "cell_type": "code",
   "execution_count": 122,
   "metadata": {},
   "outputs": [
    {
     "data": {
      "text/plain": [
       "False"
      ]
     },
     "execution_count": 122,
     "metadata": {},
     "output_type": "execute_result"
    }
   ],
   "source": [
    "y.is_leaf"
   ]
  },
  {
   "cell_type": "code",
   "execution_count": 123,
   "metadata": {},
   "outputs": [],
   "source": [
    "z = y * y * 3"
   ]
  },
  {
   "cell_type": "code",
   "execution_count": 124,
   "metadata": {},
   "outputs": [
    {
     "data": {
      "text/plain": [
       "tensor([[27., 27.],\n",
       "        [27., 27.]], grad_fn=<MulBackward0>)"
      ]
     },
     "execution_count": 124,
     "metadata": {},
     "output_type": "execute_result"
    }
   ],
   "source": [
    "z"
   ]
  },
  {
   "cell_type": "code",
   "execution_count": 125,
   "metadata": {},
   "outputs": [],
   "source": [
    "out = z.mean()"
   ]
  },
  {
   "cell_type": "code",
   "execution_count": 126,
   "metadata": {},
   "outputs": [
    {
     "data": {
      "text/plain": [
       "tensor(27., grad_fn=<MeanBackward0>)"
      ]
     },
     "execution_count": 126,
     "metadata": {},
     "output_type": "execute_result"
    }
   ],
   "source": [
    "out"
   ]
  },
  {
   "cell_type": "code",
   "execution_count": 127,
   "metadata": {},
   "outputs": [],
   "source": [
    "a = torch.randn(2,2)"
   ]
  },
  {
   "cell_type": "code",
   "execution_count": 128,
   "metadata": {},
   "outputs": [
    {
     "data": {
      "text/plain": [
       "tensor([[ 0.5895, -0.2710],\n",
       "        [ 0.9908, -1.2899]])"
      ]
     },
     "execution_count": 128,
     "metadata": {},
     "output_type": "execute_result"
    }
   ],
   "source": [
    "a"
   ]
  },
  {
   "cell_type": "code",
   "execution_count": 129,
   "metadata": {},
   "outputs": [],
   "source": [
    "a = ((a * 3) / (a - 1))"
   ]
  },
  {
   "cell_type": "code",
   "execution_count": 130,
   "metadata": {},
   "outputs": [
    {
     "data": {
      "text/plain": [
       "tensor([[  -4.3078,    0.6397],\n",
       "        [-324.8571,    1.6899]])"
      ]
     },
     "execution_count": 130,
     "metadata": {},
     "output_type": "execute_result"
    }
   ],
   "source": [
    "a"
   ]
  },
  {
   "cell_type": "code",
   "execution_count": 131,
   "metadata": {},
   "outputs": [
    {
     "data": {
      "text/plain": [
       "False"
      ]
     },
     "execution_count": 131,
     "metadata": {},
     "output_type": "execute_result"
    }
   ],
   "source": [
    "a.requires_grad"
   ]
  },
  {
   "cell_type": "code",
   "execution_count": 132,
   "metadata": {},
   "outputs": [
    {
     "data": {
      "text/plain": [
       "tensor([[  -4.3078,    0.6397],\n",
       "        [-324.8571,    1.6899]], requires_grad=True)"
      ]
     },
     "execution_count": 132,
     "metadata": {},
     "output_type": "execute_result"
    }
   ],
   "source": [
    "a.requires_grad_(True)"
   ]
  },
  {
   "cell_type": "code",
   "execution_count": 133,
   "metadata": {},
   "outputs": [],
   "source": [
    "b = (a * a).sum()"
   ]
  },
  {
   "cell_type": "code",
   "execution_count": 134,
   "metadata": {},
   "outputs": [
    {
     "data": {
      "text/plain": [
       "tensor(105553.9922, grad_fn=<SumBackward0>)"
      ]
     },
     "execution_count": 134,
     "metadata": {},
     "output_type": "execute_result"
    }
   ],
   "source": [
    "b"
   ]
  },
  {
   "cell_type": "code",
   "execution_count": 135,
   "metadata": {},
   "outputs": [
    {
     "data": {
      "text/plain": [
       "<SumBackward0 at 0x7fdb23d25110>"
      ]
     },
     "execution_count": 135,
     "metadata": {},
     "output_type": "execute_result"
    }
   ],
   "source": [
    "b.grad_fn"
   ]
  },
  {
   "cell_type": "markdown",
   "metadata": {},
   "source": [
    "### 梯度"
   ]
  },
  {
   "cell_type": "code",
   "execution_count": 136,
   "metadata": {},
   "outputs": [
    {
     "data": {
      "text/plain": [
       "tensor(27., grad_fn=<MeanBackward0>)"
      ]
     },
     "execution_count": 136,
     "metadata": {},
     "output_type": "execute_result"
    }
   ],
   "source": [
    "out"
   ]
  },
  {
   "cell_type": "code",
   "execution_count": 137,
   "metadata": {},
   "outputs": [],
   "source": [
    "out.backward()"
   ]
  },
  {
   "cell_type": "code",
   "execution_count": 138,
   "metadata": {},
   "outputs": [
    {
     "data": {
      "text/plain": [
       "tensor([[1., 1.],\n",
       "        [1., 1.]], requires_grad=True)"
      ]
     },
     "execution_count": 138,
     "metadata": {},
     "output_type": "execute_result"
    }
   ],
   "source": [
    "x"
   ]
  },
  {
   "cell_type": "code",
   "execution_count": 139,
   "metadata": {},
   "outputs": [
    {
     "data": {
      "text/plain": [
       "tensor([[4.5000, 4.5000],\n",
       "        [4.5000, 4.5000]])"
      ]
     },
     "execution_count": 139,
     "metadata": {},
     "output_type": "execute_result"
    }
   ],
   "source": [
    "x.grad"
   ]
  },
  {
   "cell_type": "code",
   "execution_count": 140,
   "metadata": {},
   "outputs": [],
   "source": [
    "# grad 在反向传播过程中是累加的，这意味 这 没运行一次反向传播 梯度都会累加之前\n",
    "# 之前的梯度，所以一般在反向传播之前需要把 梯度清零"
   ]
  },
  {
   "cell_type": "code",
   "execution_count": 141,
   "metadata": {},
   "outputs": [],
   "source": [
    "out2 = x.sum()"
   ]
  },
  {
   "cell_type": "code",
   "execution_count": 142,
   "metadata": {},
   "outputs": [
    {
     "data": {
      "text/plain": [
       "tensor(4., grad_fn=<SumBackward0>)"
      ]
     },
     "execution_count": 142,
     "metadata": {},
     "output_type": "execute_result"
    }
   ],
   "source": [
    "out2"
   ]
  },
  {
   "cell_type": "code",
   "execution_count": 143,
   "metadata": {},
   "outputs": [],
   "source": [
    "out2.backward()"
   ]
  },
  {
   "cell_type": "code",
   "execution_count": 144,
   "metadata": {},
   "outputs": [
    {
     "data": {
      "text/plain": [
       "tensor([[5.5000, 5.5000],\n",
       "        [5.5000, 5.5000]])"
      ]
     },
     "execution_count": 144,
     "metadata": {},
     "output_type": "execute_result"
    }
   ],
   "source": [
    "x.grad"
   ]
  },
  {
   "cell_type": "code",
   "execution_count": 145,
   "metadata": {},
   "outputs": [],
   "source": [
    "out3 = x.sum()"
   ]
  },
  {
   "cell_type": "code",
   "execution_count": 146,
   "metadata": {},
   "outputs": [
    {
     "data": {
      "text/plain": [
       "tensor([[0., 0.],\n",
       "        [0., 0.]])"
      ]
     },
     "execution_count": 146,
     "metadata": {},
     "output_type": "execute_result"
    }
   ],
   "source": [
    "x.grad.data.zero_()"
   ]
  },
  {
   "cell_type": "code",
   "execution_count": 147,
   "metadata": {},
   "outputs": [],
   "source": [
    "out3.backward()"
   ]
  },
  {
   "cell_type": "code",
   "execution_count": 148,
   "metadata": {},
   "outputs": [
    {
     "data": {
      "text/plain": [
       "tensor([[1., 1.],\n",
       "        [1., 1.]])"
      ]
     },
     "execution_count": 148,
     "metadata": {},
     "output_type": "execute_result"
    }
   ],
   "source": [
    "x.grad"
   ]
  },
  {
   "cell_type": "code",
   "execution_count": 149,
   "metadata": {},
   "outputs": [],
   "source": [
    "x  = torch.tensor([1.,2.,3.,4.],requires_grad=True)"
   ]
  },
  {
   "cell_type": "code",
   "execution_count": 150,
   "metadata": {},
   "outputs": [
    {
     "data": {
      "text/plain": [
       "tensor([1., 2., 3., 4.], requires_grad=True)"
      ]
     },
     "execution_count": 150,
     "metadata": {},
     "output_type": "execute_result"
    }
   ],
   "source": [
    "x"
   ]
  },
  {
   "cell_type": "code",
   "execution_count": 151,
   "metadata": {},
   "outputs": [],
   "source": [
    "y = x * 2 "
   ]
  },
  {
   "cell_type": "code",
   "execution_count": 152,
   "metadata": {},
   "outputs": [
    {
     "data": {
      "text/plain": [
       "tensor([2., 4., 6., 8.], grad_fn=<MulBackward0>)"
      ]
     },
     "execution_count": 152,
     "metadata": {},
     "output_type": "execute_result"
    }
   ],
   "source": [
    "y"
   ]
  },
  {
   "cell_type": "code",
   "execution_count": 153,
   "metadata": {},
   "outputs": [],
   "source": [
    "z = y.view(2,2)"
   ]
  },
  {
   "cell_type": "code",
   "execution_count": 154,
   "metadata": {},
   "outputs": [
    {
     "data": {
      "text/plain": [
       "tensor([[2., 4.],\n",
       "        [6., 8.]], grad_fn=<ViewBackward0>)"
      ]
     },
     "execution_count": 154,
     "metadata": {},
     "output_type": "execute_result"
    }
   ],
   "source": [
    "z"
   ]
  },
  {
   "cell_type": "code",
   "execution_count": 155,
   "metadata": {},
   "outputs": [],
   "source": [
    "# z 不是标量 所以在调用 backward 时 需要传入一个和z 同形的权重向量进行加权#\n",
    "# 求和得到一个标量\n",
    "v = torch.tensor([[1.,0.1],[0.01,0.001]],dtype=torch.float)"
   ]
  },
  {
   "cell_type": "code",
   "execution_count": 156,
   "metadata": {},
   "outputs": [],
   "source": [
    "z.backward(v)"
   ]
  },
  {
   "cell_type": "code",
   "execution_count": 157,
   "metadata": {},
   "outputs": [
    {
     "data": {
      "text/plain": [
       "tensor([2.0000, 0.2000, 0.0200, 0.0020])"
      ]
     },
     "execution_count": 157,
     "metadata": {},
     "output_type": "execute_result"
    }
   ],
   "source": [
    "x.grad"
   ]
  },
  {
   "cell_type": "code",
   "execution_count": 158,
   "metadata": {},
   "outputs": [],
   "source": [
    "# 中断 梯度追踪"
   ]
  },
  {
   "cell_type": "code",
   "execution_count": 159,
   "metadata": {},
   "outputs": [],
   "source": [
    "x = torch.tensor(1.0,requires_grad=True)"
   ]
  },
  {
   "cell_type": "code",
   "execution_count": 160,
   "metadata": {},
   "outputs": [
    {
     "data": {
      "text/plain": [
       "tensor(1., requires_grad=True)"
      ]
     },
     "execution_count": 160,
     "metadata": {},
     "output_type": "execute_result"
    }
   ],
   "source": [
    "x"
   ]
  },
  {
   "cell_type": "code",
   "execution_count": 161,
   "metadata": {},
   "outputs": [],
   "source": [
    "y1 = x ** 2"
   ]
  },
  {
   "cell_type": "code",
   "execution_count": 162,
   "metadata": {},
   "outputs": [],
   "source": [
    "with torch.no_grad():\n",
    "    y2 = x ** 3 \n",
    "y3 = y1 + y2 "
   ]
  },
  {
   "cell_type": "code",
   "execution_count": 163,
   "metadata": {},
   "outputs": [
    {
     "data": {
      "text/plain": [
       "True"
      ]
     },
     "execution_count": 163,
     "metadata": {},
     "output_type": "execute_result"
    }
   ],
   "source": [
    "x.requires_grad"
   ]
  },
  {
   "cell_type": "code",
   "execution_count": 164,
   "metadata": {},
   "outputs": [
    {
     "data": {
      "text/plain": [
       "tensor(1., grad_fn=<PowBackward0>)"
      ]
     },
     "execution_count": 164,
     "metadata": {},
     "output_type": "execute_result"
    }
   ],
   "source": [
    "y1"
   ]
  },
  {
   "cell_type": "code",
   "execution_count": 165,
   "metadata": {},
   "outputs": [
    {
     "data": {
      "text/plain": [
       "True"
      ]
     },
     "execution_count": 165,
     "metadata": {},
     "output_type": "execute_result"
    }
   ],
   "source": [
    "y1.requires_grad"
   ]
  },
  {
   "cell_type": "code",
   "execution_count": 166,
   "metadata": {},
   "outputs": [
    {
     "data": {
      "text/plain": [
       "False"
      ]
     },
     "execution_count": 166,
     "metadata": {},
     "output_type": "execute_result"
    }
   ],
   "source": [
    "y2.requires_grad"
   ]
  },
  {
   "cell_type": "code",
   "execution_count": 167,
   "metadata": {},
   "outputs": [
    {
     "data": {
      "text/plain": [
       "True"
      ]
     },
     "execution_count": 167,
     "metadata": {},
     "output_type": "execute_result"
    }
   ],
   "source": [
    "y3.requires_grad"
   ]
  },
  {
   "cell_type": "code",
   "execution_count": 168,
   "metadata": {},
   "outputs": [],
   "source": [
    "y3.backward()"
   ]
  },
  {
   "cell_type": "code",
   "execution_count": 169,
   "metadata": {},
   "outputs": [
    {
     "data": {
      "text/plain": [
       "tensor(2.)"
      ]
     },
     "execution_count": 169,
     "metadata": {},
     "output_type": "execute_result"
    }
   ],
   "source": [
    "x.grad"
   ]
  },
  {
   "cell_type": "code",
   "execution_count": 170,
   "metadata": {},
   "outputs": [],
   "source": [
    "# 想要修改 tensor 的数值，但是有不希望被 autograd 记录  需要对tensor.data\n",
    "# 进行操作"
   ]
  },
  {
   "cell_type": "code",
   "execution_count": 171,
   "metadata": {},
   "outputs": [],
   "source": [
    "x = torch.ones(1,requires_grad=True)"
   ]
  },
  {
   "cell_type": "code",
   "execution_count": 172,
   "metadata": {},
   "outputs": [
    {
     "data": {
      "text/plain": [
       "tensor([1.], requires_grad=True)"
      ]
     },
     "execution_count": 172,
     "metadata": {},
     "output_type": "execute_result"
    }
   ],
   "source": [
    "x"
   ]
  },
  {
   "cell_type": "code",
   "execution_count": 173,
   "metadata": {},
   "outputs": [
    {
     "data": {
      "text/plain": [
       "tensor([1.])"
      ]
     },
     "execution_count": 173,
     "metadata": {},
     "output_type": "execute_result"
    }
   ],
   "source": [
    "x.data"
   ]
  },
  {
   "cell_type": "code",
   "execution_count": 174,
   "metadata": {},
   "outputs": [
    {
     "data": {
      "text/plain": [
       "False"
      ]
     },
     "execution_count": 174,
     "metadata": {},
     "output_type": "execute_result"
    }
   ],
   "source": [
    "x.data.requires_grad"
   ]
  },
  {
   "cell_type": "code",
   "execution_count": 175,
   "metadata": {},
   "outputs": [],
   "source": [
    "y = 2 * x"
   ]
  },
  {
   "cell_type": "code",
   "execution_count": 176,
   "metadata": {},
   "outputs": [
    {
     "data": {
      "text/plain": [
       "tensor([2.], grad_fn=<MulBackward0>)"
      ]
     },
     "execution_count": 176,
     "metadata": {},
     "output_type": "execute_result"
    }
   ],
   "source": [
    "y"
   ]
  },
  {
   "cell_type": "code",
   "execution_count": 177,
   "metadata": {},
   "outputs": [],
   "source": [
    "x.data *= 100"
   ]
  },
  {
   "cell_type": "code",
   "execution_count": 178,
   "metadata": {},
   "outputs": [
    {
     "data": {
      "text/plain": [
       "tensor([100.], requires_grad=True)"
      ]
     },
     "execution_count": 178,
     "metadata": {},
     "output_type": "execute_result"
    }
   ],
   "source": [
    "x"
   ]
  },
  {
   "cell_type": "code",
   "execution_count": 179,
   "metadata": {},
   "outputs": [],
   "source": [
    "y.backward()"
   ]
  },
  {
   "cell_type": "code",
   "execution_count": 180,
   "metadata": {},
   "outputs": [
    {
     "data": {
      "text/plain": [
       "tensor([100.], requires_grad=True)"
      ]
     },
     "execution_count": 180,
     "metadata": {},
     "output_type": "execute_result"
    }
   ],
   "source": [
    "x"
   ]
  },
  {
   "cell_type": "code",
   "execution_count": 181,
   "metadata": {},
   "outputs": [
    {
     "data": {
      "text/plain": [
       "tensor([2.])"
      ]
     },
     "execution_count": 181,
     "metadata": {},
     "output_type": "execute_result"
    }
   ],
   "source": [
    "x.grad"
   ]
  },
  {
   "cell_type": "markdown",
   "metadata": {},
   "source": [
    "# 深度学习基础"
   ]
  },
  {
   "cell_type": "markdown",
   "metadata": {},
   "source": [
    "## 线性回归"
   ]
  },
  {
   "cell_type": "code",
   "execution_count": 182,
   "metadata": {},
   "outputs": [],
   "source": [
    "# 线性回归输出是一个连续值，因此适用于回归问题 回归问题很常见，预测房屋价格，气温，销售额等连续值的问题，\n",
    "# 与回归问题不同，分类问题中模型的最终输出是一个离散值，我们所说的图像分类，垃圾邮件识别\n",
    "# 疾病检测 softmax 回归则适用于分类问题"
   ]
  },
  {
   "cell_type": "markdown",
   "metadata": {},
   "source": [
    "### 线性回归的基本要素"
   ]
  },
  {
   "cell_type": "code",
   "execution_count": 183,
   "metadata": {},
   "outputs": [],
   "source": [
    "# 这个应用目标是预测一栋房子的售出价格  我们知道这个价格取决于很多因素，这里我们假设价格只取决于 面积 和 房龄 "
   ]
  },
  {
   "cell_type": "markdown",
   "metadata": {},
   "source": [
    "#### 模型定义"
   ]
  },
  {
   "cell_type": "code",
   "execution_count": 184,
   "metadata": {},
   "outputs": [],
   "source": [
    "# 房屋的面积 为 x1,房龄的面积为x2 售出的价格为y 我们需要建立 基于输入 x1和x2 来计算输出y的表达式 也就是模型\n",
    "# y^ = x1 w1 + x2 w2 + b\n",
    "# 其中w1 和 w2 是权重 b 是偏差  且均是标量 他们都是线性回归的参数\n",
    "# 模型输出y^是线性回归对真实价格y 的预测或是 估计 我们通常允许他们之间有一定的误差"
   ]
  },
  {
   "cell_type": "markdown",
   "metadata": {},
   "source": [
    "#### 模型训练"
   ]
  },
  {
   "cell_type": "code",
   "execution_count": 185,
   "metadata": {},
   "outputs": [
    {
     "data": {
      "text/plain": [
       "'\\n1) 训练数据  \\n  通常收集一系列的真实数据，例如真实的房屋价格和他们对应的面积和房龄，我们希望在这些数据上 寻找模型参数使模型的预测%%capture\\n  价格 和真实 价格的误差最小，该数据集 称为 训练数据集  一栋房屋被称为 样本，真实售出的价格叫做标签，用来预测%%latex\\n  标签的两个因素叫做特征,特征用来表征样本的特点。\\n 我们采集的样本数为n  索引为i的样本的特征为x1（i）和 x2(i),标签为 y(i) 对于索引为i的房屋，线性回归模型的房屋\\n 价格预测的表达式为 \\n                 y^(i) = x1(i) w1 + x2(i) w2 + b \\n2) 损失函数  \\n    在模型训练中，需要衡量价格预测与真实值之间的误差，通常我们会选取一个非负数作为误差，且数值越小越好，一个常用的选择 \\n    是平方函数，它的评估索引为i的样本误差的表达式为  \\n                l(i) (w1,w2,b) = 1/2(y^(i) - y(i))²\\n    通常用训练数据的所有样本误差的平均来 衡量模型预测的质量 \\n     \\n3) 优化算法   \\n    小批量梯度下降，步骤：先选取一组模型参数的初始值，如随机选取，接下来对参数进行多次迭代，使每次迭代都可能降低损失函数的值 \\n    在 每次迭代中，先随机均匀采样一个由固定数目训练数据样本所组成的小批量B 然后求小批量中数据样本的平均均匀有关模型参数的导数  \\n    最后用此结果与预先设定的一个正数的乘积作为模型参数在本次迭代的减少量\\n        \\n'"
      ]
     },
     "execution_count": 185,
     "metadata": {},
     "output_type": "execute_result"
    }
   ],
   "source": [
    "# 通过数据来寻找特定的模型参数值，是模型在数据上的误差尽可能小，这个过程叫做模型训练 \n",
    "# 模型模型所涉及的三要素\n",
    "\"\"\"\n",
    "1) 训练数据  \n",
    "  通常收集一系列的真实数据，例如真实的房屋价格和他们对应的面积和房龄，我们希望在这些数据上 寻找模型参数使模型的预测%%capture\n",
    "  价格 和真实 价格的误差最小，该数据集 称为 训练数据集  一栋房屋被称为 样本，真实售出的价格叫做标签，用来预测%%latex\n",
    "  标签的两个因素叫做特征,特征用来表征样本的特点。\n",
    " 我们采集的样本数为n  索引为i的样本的特征为x1（i）和 x2(i),标签为 y(i) 对于索引为i的房屋，线性回归模型的房屋\n",
    " 价格预测的表达式为 \n",
    "                 y^(i) = x1(i) w1 + x2(i) w2 + b \n",
    "2) 损失函数  \n",
    "    在模型训练中，需要衡量价格预测与真实值之间的误差，通常我们会选取一个非负数作为误差，且数值越小越好，一个常用的选择 \n",
    "    是平方函数，它的评估索引为i的样本误差的表达式为  \n",
    "                l(i) (w1,w2,b) = 1/2(y^(i) - y(i))²\n",
    "    通常用训练数据的所有样本误差的平均来 衡量模型预测的质量 \n",
    "     \n",
    "3) 优化算法   \n",
    "    小批量梯度下降，步骤：先选取一组模型参数的初始值，如随机选取，接下来对参数进行多次迭代，使每次迭代都可能降低损失函数的值 \n",
    "    在 每次迭代中，先随机均匀采样一个由固定数目训练数据样本所组成的小批量B 然后求小批量中数据样本的平均均匀有关模型参数的导数  \n",
    "    最后用此结果与预先设定的一个正数的乘积作为模型参数在本次迭代的减少量\n",
    "        \n",
    "\"\"\""
   ]
  },
  {
   "cell_type": "markdown",
   "metadata": {},
   "source": [
    "#### 模型预测"
   ]
  },
  {
   "cell_type": "code",
   "execution_count": 186,
   "metadata": {},
   "outputs": [],
   "source": [
    "# 模型训练完后，我们将模型参数 w1,w2,b 在优化算法停止时的值记作 w1^,w2^,b^  这里我们得到的并不一定是最小化\n",
    "# 损失函数的最优解 w1*,w2*,b* 而是最优解的一个近似,我们就可以使用学出的模型 x1 w1^ + x2 w2^ + b^ 来估算\n",
    "# 训练数据集以外任意一栋面积为x1 房龄为x2 的房屋价格，这里的估算也叫做 模型预测，模型推断，模型测试"
   ]
  },
  {
   "cell_type": "markdown",
   "metadata": {},
   "source": [
    "### 线性回归的表示方法"
   ]
  },
  {
   "cell_type": "markdown",
   "metadata": {},
   "source": [
    "#### 神经网络图"
   ]
  },
  {
   "cell_type": "markdown",
   "metadata": {},
   "source": [
    "#### 矢量计算表达式"
   ]
  },
  {
   "cell_type": "code",
   "execution_count": 187,
   "metadata": {},
   "outputs": [],
   "source": [
    "a = torch.ones(1000)\n",
    "b = torch.ones(1000)"
   ]
  },
  {
   "cell_type": "code",
   "execution_count": 188,
   "metadata": {},
   "outputs": [],
   "source": [
    "from time import time"
   ]
  },
  {
   "cell_type": "code",
   "execution_count": 189,
   "metadata": {},
   "outputs": [
    {
     "name": "stdout",
     "output_type": "stream",
     "text": [
      "0.009946823120117188\n"
     ]
    }
   ],
   "source": [
    "start = time()\n",
    "c  = torch.zeros(1000)\n",
    "for i in range(1000):\n",
    "    c[i] = a[i] + b[i]\n",
    "print(time() - start)"
   ]
  },
  {
   "cell_type": "code",
   "execution_count": 190,
   "metadata": {},
   "outputs": [
    {
     "name": "stdout",
     "output_type": "stream",
     "text": [
      "0.0002448558807373047\n"
     ]
    }
   ],
   "source": [
    "start = time()\n",
    "d = a + b \n",
    "print(time() - start)"
   ]
  },
  {
   "cell_type": "code",
   "execution_count": 191,
   "metadata": {},
   "outputs": [
    {
     "data": {
      "text/plain": [
       "tensor([11., 11., 11.])"
      ]
     },
     "execution_count": 191,
     "metadata": {},
     "output_type": "execute_result"
    }
   ],
   "source": [
    "a  = torch.ones(3)\n",
    "b = 10\n",
    "a + b "
   ]
  },
  {
   "cell_type": "markdown",
   "metadata": {},
   "source": [
    "## 线性回归的从零开始实现"
   ]
  },
  {
   "cell_type": "code",
   "execution_count": 192,
   "metadata": {},
   "outputs": [],
   "source": [
    "%matplotlib inline\n",
    "import torch\n",
    "from IPython import display\n",
    "from matplotlib import pyplot as plt \n",
    "import numpy as np \n",
    "import random"
   ]
  },
  {
   "cell_type": "markdown",
   "metadata": {},
   "source": [
    "### 生成数据集 "
   ]
  },
  {
   "cell_type": "code",
   "execution_count": 193,
   "metadata": {},
   "outputs": [],
   "source": [
    "# 构造简单的人工训练数据集 设训练数据集样本数为1000 输入个数为2 我们使用线性回归模型的真实权重 w = [2,-3.4]\n",
    "# 和偏差b = 4.2  以及一个随机噪声项 来生成标签 \n",
    "#  Y = Xw + b + e"
   ]
  },
  {
   "cell_type": "code",
   "execution_count": 194,
   "metadata": {},
   "outputs": [],
   "source": [
    "num_inputs = 2\n",
    "num_examples = 1000\n",
    "true_w = [2,-3.4]\n",
    "true_b = 4.2"
   ]
  },
  {
   "cell_type": "code",
   "execution_count": 195,
   "metadata": {},
   "outputs": [],
   "source": [
    "features = torch.randn(num_examples,num_inputs,dtype=torch.float)"
   ]
  },
  {
   "cell_type": "code",
   "execution_count": 196,
   "metadata": {},
   "outputs": [
    {
     "data": {
      "text/plain": [
       "tensor([[-0.1214, -1.0047],\n",
       "        [-0.3141, -0.2532],\n",
       "        [ 1.0713,  1.0559],\n",
       "        ...,\n",
       "        [ 1.0042,  0.8011],\n",
       "        [ 2.0522,  1.0282],\n",
       "        [-1.2268,  0.8675]])"
      ]
     },
     "execution_count": 196,
     "metadata": {},
     "output_type": "execute_result"
    }
   ],
   "source": [
    "features"
   ]
  },
  {
   "cell_type": "code",
   "execution_count": 197,
   "metadata": {},
   "outputs": [],
   "source": [
    "labels = true_w[0] * features[:,0] + true_w[1] * features[:,1] + true_b"
   ]
  },
  {
   "cell_type": "code",
   "execution_count": 198,
   "metadata": {},
   "outputs": [
    {
     "data": {
      "text/plain": [
       "torch.Size([1000])"
      ]
     },
     "execution_count": 198,
     "metadata": {},
     "output_type": "execute_result"
    }
   ],
   "source": [
    "labels.shape"
   ]
  },
  {
   "cell_type": "code",
   "execution_count": 199,
   "metadata": {},
   "outputs": [
    {
     "data": {
      "text/plain": [
       "torch.Size([1000])"
      ]
     },
     "execution_count": 199,
     "metadata": {},
     "output_type": "execute_result"
    }
   ],
   "source": [
    "labels.size()"
   ]
  },
  {
   "cell_type": "code",
   "execution_count": 200,
   "metadata": {},
   "outputs": [],
   "source": [
    "labels += torch.tensor(np.random.normal(0,0.01,size=labels.size()),dtype=torch.float32)"
   ]
  },
  {
   "cell_type": "code",
   "execution_count": 201,
   "metadata": {},
   "outputs": [
    {
     "data": {
      "text/plain": [
       "tensor([ 7.3628e+00,  4.4255e+00,  2.7635e+00,  7.0737e+00,  2.3539e+00,\n",
       "        -3.2826e+00, -6.1271e+00,  9.9743e+00,  8.1717e+00,  5.8328e+00,\n",
       "         6.1148e+00,  6.6076e+00,  3.8276e+00,  1.2212e+01,  2.2872e+00,\n",
       "        -5.4843e+00,  5.7695e+00, -8.0585e-02,  2.5828e+00,  8.7089e+00,\n",
       "         1.6107e+00,  7.3352e+00,  3.0150e+00,  6.3576e-01, -3.0998e+00,\n",
       "         1.3524e+00, -7.7365e-01,  2.2948e+00,  8.5219e-01,  5.2101e+00,\n",
       "        -1.4114e+00,  7.7483e+00,  6.3149e+00,  1.1695e+00,  2.9995e+00,\n",
       "        -3.6422e+00,  9.0982e+00,  8.8457e+00,  4.5620e+00,  5.4711e+00,\n",
       "         6.9645e+00, -3.0181e+00,  5.7441e+00,  2.0799e-01,  4.3266e+00,\n",
       "         3.9324e+00, -5.7141e+00,  6.0354e+00,  4.8628e-01,  4.8320e+00,\n",
       "         2.2186e+00,  1.6803e+00,  6.3512e+00,  3.4323e+00,  7.8873e-01,\n",
       "         1.7343e+01, -2.1458e-01,  7.9748e+00,  2.3786e+00,  3.5981e+00,\n",
       "        -5.0983e+00,  5.7180e+00,  6.0485e+00,  4.4419e+00,  2.0486e-02,\n",
       "         9.3817e+00,  3.5615e+00, -7.3712e-01, -5.8481e-01,  4.2261e+00,\n",
       "         4.6845e+00,  2.1521e+00,  1.7723e+00,  5.1031e+00,  2.1807e+00,\n",
       "         6.9778e+00,  3.6215e+00,  2.2299e+00,  6.3211e-01,  2.1146e+00,\n",
       "         4.0557e+00,  2.0504e-01,  1.1114e+01,  5.9381e-01,  5.5930e+00,\n",
       "         2.3149e+00,  1.1002e+01,  7.0695e+00,  2.7781e-01,  8.6995e+00,\n",
       "        -3.4907e-01,  8.7236e+00,  6.2110e+00, -1.7771e+00, -1.2235e+00,\n",
       "         6.5169e+00,  2.9779e+00, -6.0129e-01,  8.3517e+00,  2.5740e+00,\n",
       "         7.1191e-01,  5.1529e+00,  6.9877e+00,  2.0849e+00, -2.2480e+00,\n",
       "         5.0186e+00,  1.3851e+01,  9.8392e+00,  2.1393e+00,  7.7886e+00,\n",
       "         7.7654e+00, -1.0826e-01,  7.2732e+00, -5.6293e-01, -5.5899e+00,\n",
       "         5.3042e+00,  1.9091e+00,  7.9249e+00, -2.0956e+00,  3.1928e+00,\n",
       "         6.1671e+00,  1.6878e+00,  1.8652e+00,  5.4469e+00,  3.6038e+00,\n",
       "         6.6992e+00,  5.4898e+00, -1.0356e+00,  1.1079e+01,  5.6673e+00,\n",
       "         2.2670e+00,  2.2157e+00,  5.5483e+00,  6.4931e+00, -3.3575e-02,\n",
       "         5.9701e+00,  7.8430e+00,  9.0503e+00,  3.4257e+00, -2.7026e+00,\n",
       "         6.4227e+00,  1.7108e+00,  1.1208e+01,  3.1611e+00,  1.7312e+00,\n",
       "         7.7920e+00,  5.3841e+00,  6.5056e+00,  1.0136e+00,  2.6858e+00,\n",
       "         5.0417e+00,  1.2857e+01,  3.4294e+00,  5.5638e+00,  6.8915e-01,\n",
       "         3.9273e+00,  3.7735e+00,  3.2549e+00,  5.7725e+00,  2.8523e+00,\n",
       "         5.9557e+00,  6.6103e+00,  5.0442e+00,  9.9893e+00, -6.7168e-02,\n",
       "         8.4226e+00,  4.2453e+00, -7.8091e-01,  3.6308e+00, -2.0224e+00,\n",
       "         1.2322e+00, -1.4895e+00,  1.1262e-01,  6.1553e+00,  5.3252e+00,\n",
       "         4.5018e+00, -1.6361e+00,  3.5258e+00,  3.0909e+00,  3.9547e+00,\n",
       "         1.3094e+00,  6.9043e+00,  4.3971e+00,  2.0980e+00,  4.8491e+00,\n",
       "         8.3188e+00,  5.1114e+00,  2.3354e+00,  3.3845e+00,  4.4559e+00,\n",
       "         1.3119e+01,  5.0734e+00,  4.5176e+00,  4.6244e+00,  3.7041e+00,\n",
       "         7.4462e+00,  1.9383e+00,  1.3978e+01,  4.5598e+00,  3.7192e+00,\n",
       "         4.9834e+00,  4.5148e+00,  1.3937e+00,  3.6606e+00,  5.7210e+00,\n",
       "         3.5226e+00,  4.4654e+00, -5.0432e-01,  7.7357e+00,  3.5774e+00,\n",
       "         7.1555e+00,  6.5258e+00,  1.4558e+01, -7.6628e-03,  6.6258e+00,\n",
       "         8.0627e+00,  8.3522e+00,  2.2854e+00,  2.2444e+00,  4.2292e+00,\n",
       "         5.0075e+00,  8.6675e+00,  1.7790e+00,  6.4065e+00,  5.5418e+00,\n",
       "         1.3843e+01,  3.0951e+00,  6.5861e+00,  3.4139e+00,  2.8236e+00,\n",
       "         7.3770e+00,  1.8488e+00,  5.6051e+00, -1.5421e+00,  2.2991e+00,\n",
       "         4.1060e+00,  1.4919e+00,  4.0709e+00,  6.0208e+00,  6.2558e+00,\n",
       "         9.6441e+00,  8.0150e+00,  1.2865e+01,  3.9101e+00,  6.9813e+00,\n",
       "         1.3508e+00,  1.9578e+00,  8.3602e+00,  6.3149e+00,  5.6118e+00,\n",
       "         9.7503e-01,  2.4237e+00,  1.6242e+00,  5.7669e+00,  4.0480e+00,\n",
       "         1.2450e+00,  1.3821e+00,  3.1296e+00,  1.4305e+01,  2.4961e+00,\n",
       "         3.9566e+00,  4.0284e+00,  4.7676e+00,  5.3458e-01,  4.3771e+00,\n",
       "         1.5349e+00,  1.7514e+00,  4.7879e-01,  9.9992e+00,  6.4519e+00,\n",
       "        -1.5422e+00,  1.0352e+01,  7.4311e+00,  5.6082e+00,  7.9453e+00,\n",
       "         5.2602e+00,  1.9828e+00, -1.4844e+00,  9.4072e+00,  5.3887e+00,\n",
       "         3.1442e+00,  1.4215e+00,  1.0486e+01, -9.5519e-01, -8.1138e-01,\n",
       "        -4.8139e-01,  4.7413e+00, -6.6800e-01,  4.3467e+00,  4.7385e+00,\n",
       "         4.2443e+00,  8.7432e+00, -1.3311e+00,  3.6290e-01,  1.5010e+01,\n",
       "         8.1218e+00,  1.9393e+00,  6.2301e+00,  8.9974e+00,  1.1480e+01,\n",
       "        -1.4452e+00,  1.2399e+00, -4.7824e+00, -2.1247e-01,  3.5744e+00,\n",
       "         3.9434e+00,  7.7708e+00,  1.7994e+00,  1.1045e+01,  2.7389e+00,\n",
       "         4.3285e+00,  2.3421e+00,  1.0833e+01,  8.6226e-01, -7.7023e-01,\n",
       "         6.2651e+00,  3.9503e+00,  8.4193e-01,  3.6896e+00,  7.5186e+00,\n",
       "         5.7247e+00,  9.4485e+00,  4.3170e+00,  3.3557e+00,  1.0091e+01,\n",
       "         7.5724e+00,  2.4366e-01, -1.4708e+00,  4.8628e+00,  2.0875e+00,\n",
       "         8.2398e+00,  9.9916e+00,  6.1084e+00, -1.6211e+00,  5.5044e+00,\n",
       "        -2.3472e+00,  5.5842e+00,  6.1059e-01,  2.1050e+00,  7.0459e+00,\n",
       "         4.4342e+00,  3.1288e+00,  1.7291e+00,  6.8820e+00,  1.4749e+00,\n",
       "         3.4835e+00, -3.0394e+00,  5.0792e+00,  5.3100e+00,  6.0460e+00,\n",
       "         1.1370e+01,  2.7968e-01,  1.4857e+00, -3.8949e+00,  4.3018e+00,\n",
       "         8.0981e+00,  7.1853e+00,  1.1725e+01,  1.1051e+00, -1.8774e-01,\n",
       "         4.3099e+00, -3.4736e-01,  5.3655e+00,  1.6283e+01,  8.3150e-01,\n",
       "         3.4630e+00, -3.6280e+00,  2.5382e+00,  2.3127e+00,  1.0112e+01,\n",
       "         2.0107e+00,  3.6345e+00,  3.8978e+00,  2.7478e+00,  6.4767e+00,\n",
       "         1.4764e+00,  9.0124e+00, -5.1528e+00, -2.7656e+00,  2.9456e+00,\n",
       "         5.4246e+00,  7.0397e+00,  9.0706e+00,  7.9565e-01, -5.4314e+00,\n",
       "         5.9118e+00,  5.9457e-02,  3.4732e-01,  6.7769e-01, -4.8229e+00,\n",
       "        -9.6930e+00,  7.9557e+00,  4.0988e+00,  3.9066e+00,  8.5499e+00,\n",
       "         1.8448e+00,  4.0761e+00,  2.2128e+00,  2.0932e+00, -8.2430e-01,\n",
       "         9.4724e+00,  2.2422e+00,  9.6840e+00,  2.1445e+00,  6.9138e+00,\n",
       "        -7.5004e-01,  1.1440e+01,  9.6844e-01, -6.8178e-01,  1.0284e+01,\n",
       "         6.2239e+00, -4.4597e+00,  8.0328e+00,  6.6128e+00,  7.9341e+00,\n",
       "         6.3246e+00,  8.7077e+00,  7.4343e+00,  2.9196e+00,  1.4761e+01,\n",
       "         7.6851e+00,  9.9946e-01,  3.7651e+00, -1.9525e+00,  1.5524e+00,\n",
       "         2.3961e+00,  2.0024e+00,  4.2543e+00,  8.6600e+00,  6.7771e+00,\n",
       "         1.0963e+01,  1.4239e+01,  2.9146e-01, -3.8280e+00,  3.5412e+00,\n",
       "        -1.8314e+00,  4.9758e+00,  5.3147e+00,  1.8787e-01,  5.0106e+00,\n",
       "         4.6917e+00, -1.0636e+00,  4.4842e+00,  5.9697e+00,  2.9435e+00,\n",
       "        -5.9075e-01,  3.4998e+00,  4.7460e+00,  4.3519e+00,  6.9881e+00,\n",
       "         1.6653e+00,  6.7245e+00,  4.2491e+00,  7.7443e+00,  3.5457e+00,\n",
       "         1.0270e+00,  5.6093e+00, -7.1199e-01,  5.0883e+00, -2.7332e+00,\n",
       "         7.2913e+00,  8.5597e+00, -5.6058e+00,  3.5591e+00, -7.4321e-01,\n",
       "         3.1512e+00,  7.1071e+00,  1.0061e+00,  2.3217e+00,  2.5229e+00,\n",
       "         6.5305e+00,  3.4591e+00,  3.3780e+00,  3.5979e+00,  4.6906e+00,\n",
       "         4.5574e+00,  6.8791e+00,  7.4598e+00,  4.7853e+00, -3.7583e-01,\n",
       "        -2.9793e-01,  4.5934e+00,  1.2500e+01,  1.2262e-01,  2.5910e+00,\n",
       "         5.1572e+00,  8.3013e+00,  4.2111e+00,  1.5058e+01,  8.8330e+00,\n",
       "        -3.1138e+00,  1.9599e+00,  5.6625e+00, -2.6319e-01,  3.6910e+00,\n",
       "         1.6889e+00,  7.3547e+00,  5.3761e-01,  1.9450e+00,  5.8988e+00,\n",
       "         4.6947e+00,  4.8914e+00,  1.1522e+01,  1.3344e+00,  4.7929e-01,\n",
       "         2.5057e+00,  4.9098e+00,  4.7725e+00, -3.9074e+00, -2.7519e+00,\n",
       "         1.2379e+00,  9.1345e-01,  6.6217e+00,  3.5394e+00,  5.6606e+00,\n",
       "         3.4972e+00,  2.6460e+00,  2.7570e-01, -2.4158e-01,  2.1426e+00,\n",
       "         3.5932e+00,  2.0143e+00,  9.2222e-01,  2.5765e+00,  9.2567e+00,\n",
       "         5.0948e+00, -1.3541e+00,  9.8927e+00,  6.5290e+00,  7.6965e+00,\n",
       "        -1.5611e+00,  2.9112e+00,  5.9128e+00,  4.6915e+00,  5.8515e+00,\n",
       "        -1.5520e+00, -6.6895e+00,  8.1610e+00, -4.2172e+00, -3.5655e+00,\n",
       "         3.6573e+00,  8.7763e+00,  3.1010e+00,  6.5882e+00,  3.7160e+00,\n",
       "         6.0085e+00,  2.4180e+00,  4.3129e+00,  4.2482e+00,  6.8941e+00,\n",
       "         8.6899e+00,  2.3036e+00,  8.7489e+00,  2.9780e+00,  8.1622e+00,\n",
       "         4.7600e+00,  6.9956e+00,  9.8524e+00,  1.2650e+01, -1.5343e+00,\n",
       "        -1.1332e+00,  2.2864e+00,  7.4909e+00,  3.0664e+00,  6.9158e+00,\n",
       "         4.0825e+00,  2.4628e+00,  6.2868e+00,  3.1348e+00,  1.2894e+00,\n",
       "         7.5941e-01,  6.4747e+00,  6.9609e+00,  2.6179e+00,  6.8561e+00,\n",
       "         1.1673e+01,  4.4790e+00,  1.1304e+01, -1.9533e+00,  1.0331e+01,\n",
       "         1.7579e+00,  2.5871e+00,  9.6467e+00,  3.5062e+00, -2.9044e+00,\n",
       "         6.9415e+00,  5.9238e+00,  6.4378e+00,  9.9019e+00,  2.9587e+00,\n",
       "         6.8167e+00,  2.3871e+00,  3.1087e+00,  6.1874e+00,  3.5760e+00,\n",
       "        -3.6680e+00,  2.8259e+00,  4.9534e+00,  9.4686e+00,  8.0457e-01,\n",
       "         5.3951e+00,  3.4668e+00,  4.8092e+00,  8.9270e+00,  7.0160e+00,\n",
       "         4.1237e+00,  4.6722e+00,  5.5736e+00,  4.6210e+00,  3.5974e+00,\n",
       "         3.6313e+00,  2.5682e+00,  2.0541e+00,  6.4703e+00,  4.6932e+00,\n",
       "         2.8515e+00,  1.7061e+00,  5.7592e+00,  1.0696e+01,  7.4491e+00,\n",
       "         3.2731e+00, -3.4587e+00,  5.2464e+00,  1.8114e+00, -3.8053e+00,\n",
       "         1.2698e+01,  1.8310e+00,  1.2975e+00, -1.9221e+00, -3.5046e+00,\n",
       "         4.8140e+00, -1.8311e+00,  5.5293e+00,  1.2349e+01,  7.6852e+00,\n",
       "         7.4270e+00, -3.8726e+00,  1.0741e+01,  5.4545e+00,  3.4666e+00,\n",
       "         6.6187e-01,  4.8236e+00,  2.4210e+00,  5.9711e+00, -2.2361e+00,\n",
       "        -2.8845e+00, -4.1844e+00,  2.8832e-01,  1.7497e+00,  1.2952e+00,\n",
       "        -2.8030e-02,  4.5826e+00,  9.6404e-01,  6.0795e+00,  3.0516e+00,\n",
       "        -2.4764e+00,  8.0813e+00,  3.5021e+00,  2.9934e+00,  3.8209e+00,\n",
       "         8.5522e+00,  5.5031e+00,  8.4246e+00,  7.1819e+00,  3.7864e+00,\n",
       "         2.5660e+00,  5.3302e+00,  9.9700e+00,  7.0939e+00,  3.2591e+00,\n",
       "         1.1765e+00,  4.5542e+00,  5.9261e+00, -6.3160e-01,  8.9961e+00,\n",
       "         7.3634e+00,  9.5804e+00,  4.6643e+00, -6.8666e-01,  2.5751e+00,\n",
       "         2.8893e+00,  3.3297e+00, -3.0881e+00,  6.1195e+00, -1.2807e+00,\n",
       "         4.6277e+00,  7.8304e+00,  6.3235e+00,  3.2511e+00,  9.6676e+00,\n",
       "         7.0178e+00,  4.0409e+00,  4.6081e+00,  5.2431e+00,  2.0068e+00,\n",
       "         2.5168e+00,  5.3016e-01,  2.9702e-01,  4.9593e+00,  2.2633e+00,\n",
       "         8.6506e+00,  6.0220e+00,  1.1289e+00,  1.7064e+00,  1.1251e+01,\n",
       "         2.6447e+00,  1.3431e+01, -5.3949e+00, -1.3096e+00, -2.2095e+00,\n",
       "         1.0105e+01,  5.0815e+00, -2.1779e+00,  7.7322e+00,  2.2699e+00,\n",
       "         8.9458e+00,  6.9246e+00,  1.0162e+01,  6.1357e+00,  3.8691e+00,\n",
       "         1.3762e+01,  2.3560e+00,  6.1535e+00,  2.2210e+00,  5.0807e+00,\n",
       "         4.7349e+00,  7.6066e+00,  6.2552e+00, -1.4076e+00,  7.8479e+00,\n",
       "         2.0248e+00,  3.4569e+00,  9.0133e+00,  1.0359e+00,  6.7523e+00,\n",
       "         8.8296e+00,  4.9786e+00,  5.8869e+00,  8.0900e-01, -1.1469e+00,\n",
       "         4.9528e+00,  2.3208e+00, -4.3153e+00,  3.1085e+00,  8.0152e+00,\n",
       "         7.2205e+00, -1.9211e+00,  1.3586e+00, -1.8417e+00, -3.1996e+00,\n",
       "         1.1336e-01, -1.0248e+00,  8.1621e+00,  3.2205e+00,  1.3779e+00,\n",
       "         8.6864e+00,  4.9911e+00,  9.1621e+00,  1.0218e+01, -2.9828e-01,\n",
       "         7.4490e+00,  2.7961e+00,  5.5420e+00,  5.7702e+00, -5.2107e+00,\n",
       "         3.7470e+00,  4.3736e+00,  1.9047e+00,  4.4385e+00,  3.7376e+00,\n",
       "         3.5748e+00,  2.8044e+00,  9.4801e+00, -1.5295e-01,  3.4585e+00,\n",
       "         2.3850e+00,  4.0369e+00,  7.4040e+00, -7.8766e-01,  3.8650e+00,\n",
       "         5.6702e+00,  6.4492e+00,  8.9308e+00,  5.3655e+00, -1.1344e+00,\n",
       "         3.4547e+00,  1.9026e+00,  4.3279e+00,  5.1839e+00,  3.8595e+00,\n",
       "         4.0085e+00,  2.9315e+00,  8.6659e+00,  1.0413e+01,  1.2502e+00,\n",
       "         4.8989e+00,  6.5350e+00,  2.7205e+00, -3.4904e+00, -3.1053e-01,\n",
       "         7.7761e+00,  1.8743e+00, -2.1664e+00, -2.0499e+00,  1.6493e+00,\n",
       "         3.8236e+00,  1.2645e+00,  4.7055e+00, -1.3336e+00,  5.2450e+00,\n",
       "         8.3783e+00,  8.9543e+00,  8.9460e+00,  7.0840e+00,  4.7016e+00,\n",
       "         8.6175e+00,  7.2626e+00,  3.4560e+00,  5.3212e+00,  1.5589e-02,\n",
       "         8.1159e+00, -4.2603e-01,  2.5076e+00,  1.6248e+00,  3.4326e+00,\n",
       "         8.2179e-01,  8.2780e-01,  6.8359e+00, -1.9157e-02,  3.0397e+00,\n",
       "         3.6740e+00,  1.7532e-01,  1.9426e+00,  4.7305e+00,  4.8873e+00,\n",
       "         1.8722e+00,  5.1924e+00, -4.4210e-02,  2.6880e+00,  4.0833e+00,\n",
       "         6.6325e+00,  3.2281e+00,  5.9698e+00,  6.1020e+00,  8.8399e+00,\n",
       "         8.5742e+00,  2.3437e+00,  7.3057e+00,  3.4349e+00, -1.3174e+00,\n",
       "         3.8766e+00, -9.4490e-01, -1.3696e+00,  3.9138e-01,  1.7478e+00,\n",
       "         4.2423e+00, -1.4874e+00,  3.2489e+00,  1.1328e+01,  2.8952e+00,\n",
       "        -2.4159e-01, -1.4117e+00, -6.3586e-01,  3.3944e+00,  6.1460e+00,\n",
       "         1.0543e+01,  4.4808e+00,  4.3802e+00,  7.0718e+00,  1.0803e+00,\n",
       "        -3.2151e+00,  9.3552e+00,  4.3897e+00,  2.6411e+00,  1.6152e+00,\n",
       "         1.1142e-01,  6.0541e+00,  1.6571e+00,  9.7667e+00,  5.9970e+00,\n",
       "         1.3159e+00,  1.3718e+01, -4.0420e+00,  5.5990e+00,  3.4989e-01,\n",
       "        -1.7050e+00,  3.4248e+00,  8.0408e+00,  4.4439e+00,  8.7864e+00,\n",
       "         5.0367e+00, -5.8656e-03,  5.4521e+00,  4.2950e+00,  2.9918e+00,\n",
       "         8.9141e+00,  4.1568e+00,  4.0846e+00,  3.3095e+00, -2.9418e+00,\n",
       "         3.3845e+00,  7.9135e+00,  4.7676e+00,  8.5734e+00,  1.9905e+00,\n",
       "        -3.4361e+00,  1.0399e+01, -9.5221e-01,  1.3770e+00,  8.1381e+00,\n",
       "         4.2736e+00,  1.4201e+00, -7.3572e-01,  8.2954e+00,  6.3687e+00,\n",
       "         2.4987e+00,  1.9817e+00,  1.4483e+00,  6.5108e+00,  1.6446e-01,\n",
       "         8.5974e+00, -2.7467e+00,  1.2290e+00,  6.9650e+00,  2.7059e+00,\n",
       "         1.9731e+00,  1.7639e+00, -1.3804e+00,  3.6580e+00,  9.4865e+00,\n",
       "         3.6067e+00,  6.3671e+00,  5.7573e+00, -5.2764e-01, -4.6848e-01,\n",
       "         4.6288e+00,  2.8468e+00,  1.8867e+00,  2.4144e+00,  1.0538e+01,\n",
       "         6.7557e+00,  5.0117e+00,  3.3305e+00,  8.9217e+00,  5.2084e+00,\n",
       "         3.8115e+00,  1.0886e+01,  3.0111e+00,  1.6349e+00,  1.5299e+00,\n",
       "        -3.0628e+00,  5.1856e+00,  7.4681e+00,  2.7228e+00,  7.3683e+00,\n",
       "        -7.0865e-01, -1.4816e+00,  2.8787e+00, -3.9402e-01,  4.4929e+00,\n",
       "         3.8834e+00,  8.4616e-01,  4.7488e+00,  1.5413e+00,  2.5015e+00,\n",
       "         7.0900e+00,  6.0325e+00,  9.1490e+00,  3.9554e+00,  2.5984e+00,\n",
       "         3.1738e+00,  8.9635e+00,  1.4092e+01,  5.5581e+00,  4.9482e+00,\n",
       "         2.2494e+00,  3.5457e+00,  5.1530e+00,  5.2593e+00, -3.9058e-01,\n",
       "         5.9797e+00,  6.6554e+00,  1.5440e-01,  3.4916e+00,  2.3965e+00,\n",
       "         4.4367e+00,  6.0017e+00,  1.3843e+00,  5.2308e+00,  7.0633e+00,\n",
       "         1.0161e+01,  6.2144e-04,  3.4116e+00,  1.2682e+01,  1.4988e+00,\n",
       "        -9.8768e-01,  5.2564e+00,  3.4877e+00,  4.8140e+00, -1.2224e+00])"
      ]
     },
     "execution_count": 201,
     "metadata": {},
     "output_type": "execute_result"
    }
   ],
   "source": [
    "labels"
   ]
  },
  {
   "cell_type": "code",
   "execution_count": 202,
   "metadata": {},
   "outputs": [
    {
     "data": {
      "text/plain": [
       "tensor([-0.1214, -1.0047])"
      ]
     },
     "execution_count": 202,
     "metadata": {},
     "output_type": "execute_result"
    }
   ],
   "source": [
    "features[0]"
   ]
  },
  {
   "cell_type": "code",
   "execution_count": 203,
   "metadata": {},
   "outputs": [
    {
     "data": {
      "text/plain": [
       "tensor(7.3628)"
      ]
     },
     "execution_count": 203,
     "metadata": {},
     "output_type": "execute_result"
    }
   ],
   "source": [
    "labels[0]"
   ]
  },
  {
   "cell_type": "code",
   "execution_count": 204,
   "metadata": {},
   "outputs": [
    {
     "data": {
      "text/plain": [
       "tensor([[-0.3141, -0.2532],\n",
       "        [ 1.0713,  1.0559],\n",
       "        [ 0.1159,  0.6135],\n",
       "        [-0.5660,  1.8721],\n",
       "        [-0.9834,  2.4629]])"
      ]
     },
     "execution_count": 204,
     "metadata": {},
     "output_type": "execute_result"
    }
   ],
   "source": [
    "features.index_select(0,torch.LongTensor([1,2,4,5,6]))"
   ]
  },
  {
   "cell_type": "code",
   "execution_count": 205,
   "metadata": {},
   "outputs": [],
   "source": [
    "# 生成 features[:,1] 和标签 labels 的散点图。观察两者的线性关系"
   ]
  },
  {
   "cell_type": "code",
   "execution_count": 206,
   "metadata": {},
   "outputs": [],
   "source": [
    "def use_svg_display():\n",
    "    # 用矢量图显示\n",
    "    display.set_matplotlib_formats('svg')\n",
    "def set_figsize(figsize=(3.5,2.5)):\n",
    "    use_svg_display()\n",
    "    # 设置图的尺寸\n",
    "    plt.rcParams['figure.figsize'] = figsize"
   ]
  },
  {
   "cell_type": "code",
   "execution_count": 207,
   "metadata": {},
   "outputs": [],
   "source": [
    "set_figsize()"
   ]
  },
  {
   "cell_type": "code",
   "execution_count": 208,
   "metadata": {},
   "outputs": [
    {
     "data": {
      "text/plain": [
       "<matplotlib.collections.PathCollection at 0x7fdb248d0a50>"
      ]
     },
     "execution_count": 208,
     "metadata": {},
     "output_type": "execute_result"
    },
    {
     "data": {
      "image/svg+xml": [
       "<?xml version=\"1.0\" encoding=\"utf-8\" standalone=\"no\"?>\n",
       "<!DOCTYPE svg PUBLIC \"-//W3C//DTD SVG 1.1//EN\"\n",
       "  \"http://www.w3.org/Graphics/SVG/1.1/DTD/svg11.dtd\">\n",
       "<svg xmlns:xlink=\"http://www.w3.org/1999/xlink\" width=\"237.804688pt\" height=\"166.978125pt\" viewBox=\"0 0 237.804688 166.978125\" xmlns=\"http://www.w3.org/2000/svg\" version=\"1.1\">\n",
       " <metadata>\n",
       "  <rdf:RDF xmlns:dc=\"http://purl.org/dc/elements/1.1/\" xmlns:cc=\"http://creativecommons.org/ns#\" xmlns:rdf=\"http://www.w3.org/1999/02/22-rdf-syntax-ns#\">\n",
       "   <cc:Work>\n",
       "    <dc:type rdf:resource=\"http://purl.org/dc/dcmitype/StillImage\"/>\n",
       "    <dc:date>2022-12-08T19:08:22.306414</dc:date>\n",
       "    <dc:format>image/svg+xml</dc:format>\n",
       "    <dc:creator>\n",
       "     <cc:Agent>\n",
       "      <dc:title>Matplotlib v3.5.1, https://matplotlib.org/</dc:title>\n",
       "     </cc:Agent>\n",
       "    </dc:creator>\n",
       "   </cc:Work>\n",
       "  </rdf:RDF>\n",
       " </metadata>\n",
       " <defs>\n",
       "  <style type=\"text/css\">*{stroke-linejoin: round; stroke-linecap: butt}</style>\n",
       " </defs>\n",
       " <g id=\"figure_1\">\n",
       "  <g id=\"patch_1\">\n",
       "   <path d=\"M 0 166.978125 \n",
       "L 237.804688 166.978125 \n",
       "L 237.804688 0 \n",
       "L 0 0 \n",
       "L 0 166.978125 \n",
       "z\n",
       "\" style=\"fill: none\"/>\n",
       "  </g>\n",
       "  <g id=\"axes_1\">\n",
       "   <g id=\"patch_2\">\n",
       "    <path d=\"M 35.304688 143.1 \n",
       "L 230.604688 143.1 \n",
       "L 230.604688 7.2 \n",
       "L 35.304688 7.2 \n",
       "z\n",
       "\" style=\"fill: #ffffff\"/>\n",
       "   </g>\n",
       "   <g id=\"PathCollection_1\">\n",
       "    <defs>\n",
       "     <path id=\"me8e4543a19\" d=\"M 0 0.5 \n",
       "C 0.132602 0.5 0.25979 0.447317 0.353553 0.353553 \n",
       "C 0.447317 0.25979 0.5 0.132602 0.5 0 \n",
       "C 0.5 -0.132602 0.447317 -0.25979 0.353553 -0.353553 \n",
       "C 0.25979 -0.447317 0.132602 -0.5 0 -0.5 \n",
       "C -0.132602 -0.5 -0.25979 -0.447317 -0.353553 -0.353553 \n",
       "C -0.447317 -0.25979 -0.5 -0.132602 -0.5 0 \n",
       "C -0.5 0.132602 -0.447317 0.25979 -0.353553 0.353553 \n",
       "C -0.25979 0.447317 -0.132602 0.5 0 0.5 \n",
       "z\n",
       "\" style=\"stroke: #1f77b4\"/>\n",
       "    </defs>\n",
       "    <g clip-path=\"url(#pf67c29379f)\">\n",
       "     <use xlink:href=\"#me8e4543a19\" x=\"105.300402\" y=\"58.982188\" style=\"fill: #1f77b4; stroke: #1f77b4\"/>\n",
       "     <use xlink:href=\"#me8e4543a19\" x=\"125.921041\" y=\"72.404689\" style=\"fill: #1f77b4; stroke: #1f77b4\"/>\n",
       "     <use xlink:href=\"#me8e4543a19\" x=\"161.840331\" y=\"79.999795\" style=\"fill: #1f77b4; stroke: #1f77b4\"/>\n",
       "     <use xlink:href=\"#me8e4543a19\" x=\"121.279064\" y=\"60.303176\" style=\"fill: #1f77b4; stroke: #1f77b4\"/>\n",
       "     <use xlink:href=\"#me8e4543a19\" x=\"149.701708\" y=\"81.871545\" style=\"fill: #1f77b4; stroke: #1f77b4\"/>\n",
       "     <use xlink:href=\"#me8e4543a19\" x=\"184.237082\" y=\"107.628464\" style=\"fill: #1f77b4; stroke: #1f77b4\"/>\n",
       "     <use xlink:href=\"#me8e4543a19\" x=\"200.448873\" y=\"120.627283\" style=\"fill: #1f77b4; stroke: #1f77b4\"/>\n",
       "     <use xlink:href=\"#me8e4543a19\" x=\"110.381384\" y=\"47.047993\" style=\"fill: #1f77b4; stroke: #1f77b4\"/>\n",
       "     <use xlink:href=\"#me8e4543a19\" x=\"101.437348\" y=\"55.285455\" style=\"fill: #1f77b4; stroke: #1f77b4\"/>\n",
       "     <use xlink:href=\"#me8e4543a19\" x=\"132.194765\" y=\"65.973848\" style=\"fill: #1f77b4; stroke: #1f77b4\"/>\n",
       "     <use xlink:href=\"#me8e4543a19\" x=\"123.519384\" y=\"64.684917\" style=\"fill: #1f77b4; stroke: #1f77b4\"/>\n",
       "     <use xlink:href=\"#me8e4543a19\" x=\"109.116364\" y=\"62.432974\" style=\"fill: #1f77b4; stroke: #1f77b4\"/>\n",
       "     <use xlink:href=\"#me8e4543a19\" x=\"139.365648\" y=\"75.137021\" style=\"fill: #1f77b4; stroke: #1f77b4\"/>\n",
       "     <use xlink:href=\"#me8e4543a19\" x=\"87.156795\" y=\"36.823585\" style=\"fill: #1f77b4; stroke: #1f77b4\"/>\n",
       "     <use xlink:href=\"#me8e4543a19\" x=\"141.239437\" y=\"82.176181\" style=\"fill: #1f77b4; stroke: #1f77b4\"/>\n",
       "     <use xlink:href=\"#me8e4543a19\" x=\"212.75978\" y=\"117.689831\" style=\"fill: #1f77b4; stroke: #1f77b4\"/>\n",
       "     <use xlink:href=\"#me8e4543a19\" x=\"136.698733\" y=\"66.262778\" style=\"fill: #1f77b4; stroke: #1f77b4\"/>\n",
       "     <use xlink:href=\"#me8e4543a19\" x=\"162.058988\" y=\"92.996299\" style=\"fill: #1f77b4; stroke: #1f77b4\"/>\n",
       "     <use xlink:href=\"#me8e4543a19\" x=\"126.85741\" y=\"80.825518\" style=\"fill: #1f77b4; stroke: #1f77b4\"/>\n",
       "     <use xlink:href=\"#me8e4543a19\" x=\"121.017117\" y=\"52.830721\" style=\"fill: #1f77b4; stroke: #1f77b4\"/>\n",
       "     <use xlink:href=\"#me8e4543a19\" x=\"152.852318\" y=\"85.267657\" style=\"fill: #1f77b4; stroke: #1f77b4\"/>\n",
       "     <use xlink:href=\"#me8e4543a19\" x=\"117.301422\" y=\"59.107941\" style=\"fill: #1f77b4; stroke: #1f77b4\"/>\n",
       "     <use xlink:href=\"#me8e4543a19\" x=\"152.827473\" y=\"78.850094\" style=\"fill: #1f77b4; stroke: #1f77b4\"/>\n",
       "     <use xlink:href=\"#me8e4543a19\" x=\"165.775651\" y=\"89.722809\" style=\"fill: #1f77b4; stroke: #1f77b4\"/>\n",
       "     <use xlink:href=\"#me8e4543a19\" x=\"170.744455\" y=\"106.793237\" style=\"fill: #1f77b4; stroke: #1f77b4\"/>\n",
       "     <use xlink:href=\"#me8e4543a19\" x=\"163.383675\" y=\"86.447726\" style=\"fill: #1f77b4; stroke: #1f77b4\"/>\n",
       "     <use xlink:href=\"#me8e4543a19\" x=\"140.459078\" y=\"96.163406\" style=\"fill: #1f77b4; stroke: #1f77b4\"/>\n",
       "     <use xlink:href=\"#me8e4543a19\" x=\"158.798161\" y=\"82.141301\" style=\"fill: #1f77b4; stroke: #1f77b4\"/>\n",
       "     <use xlink:href=\"#me8e4543a19\" x=\"152.439757\" y=\"88.733775\" style=\"fill: #1f77b4; stroke: #1f77b4\"/>\n",
       "     <use xlink:href=\"#me8e4543a19\" x=\"152.512361\" y=\"68.819045\" style=\"fill: #1f77b4; stroke: #1f77b4\"/>\n",
       "     <use xlink:href=\"#me8e4543a19\" x=\"162.243245\" y=\"99.077884\" style=\"fill: #1f77b4; stroke: #1f77b4\"/>\n",
       "     <use xlink:href=\"#me8e4543a19\" x=\"121.515742\" y=\"57.220283\" style=\"fill: #1f77b4; stroke: #1f77b4\"/>\n",
       "     <use xlink:href=\"#me8e4543a19\" x=\"117.009294\" y=\"63.770445\" style=\"fill: #1f77b4; stroke: #1f77b4\"/>\n",
       "     <use xlink:href=\"#me8e4543a19\" x=\"134.172793\" y=\"87.283881\" style=\"fill: #1f77b4; stroke: #1f77b4\"/>\n",
       "     <use xlink:href=\"#me8e4543a19\" x=\"146.361436\" y=\"78.921021\" style=\"fill: #1f77b4; stroke: #1f77b4\"/>\n",
       "     <use xlink:href=\"#me8e4543a19\" x=\"177.964176\" y=\"109.272174\" style=\"fill: #1f77b4; stroke: #1f77b4\"/>\n",
       "     <use xlink:href=\"#me8e4543a19\" x=\"75.788919\" y=\"51.051754\" style=\"fill: #1f77b4; stroke: #1f77b4\"/>\n",
       "     <use xlink:href=\"#me8e4543a19\" x=\"79.71598\" y=\"52.205333\" style=\"fill: #1f77b4; stroke: #1f77b4\"/>\n",
       "     <use xlink:href=\"#me8e4543a19\" x=\"138.809118\" y=\"71.780968\" style=\"fill: #1f77b4; stroke: #1f77b4\"/>\n",
       "     <use xlink:href=\"#me8e4543a19\" x=\"105.302682\" y=\"67.626554\" style=\"fill: #1f77b4; stroke: #1f77b4\"/>\n",
       "     <use xlink:href=\"#me8e4543a19\" x=\"127.462275\" y=\"60.802142\" style=\"fill: #1f77b4; stroke: #1f77b4\"/>\n",
       "     <use xlink:href=\"#me8e4543a19\" x=\"165.564732\" y=\"106.42002\" style=\"fill: #1f77b4; stroke: #1f77b4\"/>\n",
       "     <use xlink:href=\"#me8e4543a19\" x=\"104.417375\" y=\"66.379039\" style=\"fill: #1f77b4; stroke: #1f77b4\"/>\n",
       "     <use xlink:href=\"#me8e4543a19\" x=\"141.903166\" y=\"91.677574\" style=\"fill: #1f77b4; stroke: #1f77b4\"/>\n",
       "     <use xlink:href=\"#me8e4543a19\" x=\"160.789831\" y=\"72.856682\" style=\"fill: #1f77b4; stroke: #1f77b4\"/>\n",
       "     <use xlink:href=\"#me8e4543a19\" x=\"131.145749\" y=\"74.65782\" style=\"fill: #1f77b4; stroke: #1f77b4\"/>\n",
       "     <use xlink:href=\"#me8e4543a19\" x=\"173.351638\" y=\"118.739991\" style=\"fill: #1f77b4; stroke: #1f77b4\"/>\n",
       "     <use xlink:href=\"#me8e4543a19\" x=\"115.102959\" y=\"65.048019\" style=\"fill: #1f77b4; stroke: #1f77b4\"/>\n",
       "     <use xlink:href=\"#me8e4543a19\" x=\"183.700538\" y=\"90.405849\" style=\"fill: #1f77b4; stroke: #1f77b4\"/>\n",
       "     <use xlink:href=\"#me8e4543a19\" x=\"123.489482\" y=\"70.546953\" style=\"fill: #1f77b4; stroke: #1f77b4\"/>\n",
       "     <use xlink:href=\"#me8e4543a19\" x=\"138.134958\" y=\"82.489819\" style=\"fill: #1f77b4; stroke: #1f77b4\"/>\n",
       "     <use xlink:href=\"#me8e4543a19\" x=\"142.047551\" y=\"84.949527\" style=\"fill: #1f77b4; stroke: #1f77b4\"/>\n",
       "     <use xlink:href=\"#me8e4543a19\" x=\"102.486075\" y=\"63.604828\" style=\"fill: #1f77b4; stroke: #1f77b4\"/>\n",
       "     <use xlink:href=\"#me8e4543a19\" x=\"134.149583\" y=\"76.943532\" style=\"fill: #1f77b4; stroke: #1f77b4\"/>\n",
       "     <use xlink:href=\"#me8e4543a19\" x=\"149.315774\" y=\"89.023733\" style=\"fill: #1f77b4; stroke: #1f77b4\"/>\n",
       "     <use xlink:href=\"#me8e4543a19\" x=\"78.200174\" y=\"13.377273\" style=\"fill: #1f77b4; stroke: #1f77b4\"/>\n",
       "     <use xlink:href=\"#me8e4543a19\" x=\"174.806256\" y=\"93.608616\" style=\"fill: #1f77b4; stroke: #1f77b4\"/>\n",
       "     <use xlink:href=\"#me8e4543a19\" x=\"113.725781\" y=\"56.1854\" style=\"fill: #1f77b4; stroke: #1f77b4\"/>\n",
       "     <use xlink:href=\"#me8e4543a19\" x=\"121.389185\" y=\"81.758464\" style=\"fill: #1f77b4; stroke: #1f77b4\"/>\n",
       "     <use xlink:href=\"#me8e4543a19\" x=\"142.367839\" y=\"76.185506\" style=\"fill: #1f77b4; stroke: #1f77b4\"/>\n",
       "     <use xlink:href=\"#me8e4543a19\" x=\"177.334499\" y=\"115.926128\" style=\"fill: #1f77b4; stroke: #1f77b4\"/>\n",
       "     <use xlink:href=\"#me8e4543a19\" x=\"115.286042\" y=\"66.49833\" style=\"fill: #1f77b4; stroke: #1f77b4\"/>\n",
       "     <use xlink:href=\"#me8e4543a19\" x=\"111.216396\" y=\"64.987777\" style=\"fill: #1f77b4; stroke: #1f77b4\"/>\n",
       "     <use xlink:href=\"#me8e4543a19\" x=\"113.747894\" y=\"72.32982\" style=\"fill: #1f77b4; stroke: #1f77b4\"/>\n",
       "     <use xlink:href=\"#me8e4543a19\" x=\"148.95247\" y=\"92.534428\" style=\"fill: #1f77b4; stroke: #1f77b4\"/>\n",
       "     <use xlink:href=\"#me8e4543a19\" x=\"77.485117\" y=\"49.756247\" style=\"fill: #1f77b4; stroke: #1f77b4\"/>\n",
       "     <use xlink:href=\"#me8e4543a19\" x=\"129.812059\" y=\"76.352722\" style=\"fill: #1f77b4; stroke: #1f77b4\"/>\n",
       "     <use xlink:href=\"#me8e4543a19\" x=\"168.351798\" y=\"95.996505\" style=\"fill: #1f77b4; stroke: #1f77b4\"/>\n",
       "     <use xlink:href=\"#me8e4543a19\" x=\"169.880815\" y=\"95.300469\" style=\"fill: #1f77b4; stroke: #1f77b4\"/>\n",
       "     <use xlink:href=\"#me8e4543a19\" x=\"113.708335\" y=\"73.315982\" style=\"fill: #1f77b4; stroke: #1f77b4\"/>\n",
       "     <use xlink:href=\"#me8e4543a19\" x=\"130.502293\" y=\"71.221103\" style=\"fill: #1f77b4; stroke: #1f77b4\"/>\n",
       "     <use xlink:href=\"#me8e4543a19\" x=\"150.745643\" y=\"82.793312\" style=\"fill: #1f77b4; stroke: #1f77b4\"/>\n",
       "     <use xlink:href=\"#me8e4543a19\" x=\"135.058136\" y=\"84.528947\" style=\"fill: #1f77b4; stroke: #1f77b4\"/>\n",
       "     <use xlink:href=\"#me8e4543a19\" x=\"123.6815\" y=\"69.30807\" style=\"fill: #1f77b4; stroke: #1f77b4\"/>\n",
       "     <use xlink:href=\"#me8e4543a19\" x=\"138.513584\" y=\"82.662886\" style=\"fill: #1f77b4; stroke: #1f77b4\"/>\n",
       "     <use xlink:href=\"#me8e4543a19\" x=\"94.648302\" y=\"60.741319\" style=\"fill: #1f77b4; stroke: #1f77b4\"/>\n",
       "     <use xlink:href=\"#me8e4543a19\" x=\"103.747961\" y=\"76.078698\" style=\"fill: #1f77b4; stroke: #1f77b4\"/>\n",
       "     <use xlink:href=\"#me8e4543a19\" x=\"129.872252\" y=\"82.437827\" style=\"fill: #1f77b4; stroke: #1f77b4\"/>\n",
       "     <use xlink:href=\"#me8e4543a19\" x=\"154.011948\" y=\"89.739456\" style=\"fill: #1f77b4; stroke: #1f77b4\"/>\n",
       "     <use xlink:href=\"#me8e4543a19\" x=\"127.463493\" y=\"82.964845\" style=\"fill: #1f77b4; stroke: #1f77b4\"/>\n",
       "     <use xlink:href=\"#me8e4543a19\" x=\"135.126437\" y=\"74.094403\" style=\"fill: #1f77b4; stroke: #1f77b4\"/>\n",
       "     <use xlink:href=\"#me8e4543a19\" x=\"147.909202\" y=\"91.691087\" style=\"fill: #1f77b4; stroke: #1f77b4\"/>\n",
       "     <use xlink:href=\"#me8e4543a19\" x=\"71.2359\" y=\"41.838387\" style=\"fill: #1f77b4; stroke: #1f77b4\"/>\n",
       "     <use xlink:href=\"#me8e4543a19\" x=\"189.185744\" y=\"89.914492\" style=\"fill: #1f77b4; stroke: #1f77b4\"/>\n",
       "     <use xlink:href=\"#me8e4543a19\" x=\"137.073692\" y=\"67.069511\" style=\"fill: #1f77b4; stroke: #1f77b4\"/>\n",
       "     <use xlink:href=\"#me8e4543a19\" x=\"140.953432\" y=\"82.049464\" style=\"fill: #1f77b4; stroke: #1f77b4\"/>\n",
       "     <use xlink:href=\"#me8e4543a19\" x=\"99.104057\" y=\"42.349917\" style=\"fill: #1f77b4; stroke: #1f77b4\"/>\n",
       "     <use xlink:href=\"#me8e4543a19\" x=\"114.333205\" y=\"60.322105\" style=\"fill: #1f77b4; stroke: #1f77b4\"/>\n",
       "     <use xlink:href=\"#me8e4543a19\" x=\"162.369117\" y=\"91.35853\" style=\"fill: #1f77b4; stroke: #1f77b4\"/>\n",
       "     <use xlink:href=\"#me8e4543a19\" x=\"116.196719\" y=\"52.873434\" style=\"fill: #1f77b4; stroke: #1f77b4\"/>\n",
       "     <use xlink:href=\"#me8e4543a19\" x=\"162.925193\" y=\"94.223211\" style=\"fill: #1f77b4; stroke: #1f77b4\"/>\n",
       "     <use xlink:href=\"#me8e4543a19\" x=\"124.413113\" y=\"52.763494\" style=\"fill: #1f77b4; stroke: #1f77b4\"/>\n",
       "     <use xlink:href=\"#me8e4543a19\" x=\"100.802801\" y=\"64.245304\" style=\"fill: #1f77b4; stroke: #1f77b4\"/>\n",
       "     <use xlink:href=\"#me8e4543a19\" x=\"178.55641\" y=\"100.74913\" style=\"fill: #1f77b4; stroke: #1f77b4\"/>\n",
       "     <use xlink:href=\"#me8e4543a19\" x=\"151.334064\" y=\"98.218895\" style=\"fill: #1f77b4; stroke: #1f77b4\"/>\n",
       "     <use xlink:href=\"#me8e4543a19\" x=\"127.56596\" y=\"62.847657\" style=\"fill: #1f77b4; stroke: #1f77b4\"/>\n",
       "     <use xlink:href=\"#me8e4543a19\" x=\"97.216187\" y=\"79.019836\" style=\"fill: #1f77b4; stroke: #1f77b4\"/>\n",
       "     <use xlink:href=\"#me8e4543a19\" x=\"157.3634\" y=\"95.375792\" style=\"fill: #1f77b4; stroke: #1f77b4\"/>\n",
       "     <use xlink:href=\"#me8e4543a19\" x=\"83.274747\" y=\"54.462765\" style=\"fill: #1f77b4; stroke: #1f77b4\"/>\n",
       "     <use xlink:href=\"#me8e4543a19\" x=\"155.960545\" y=\"80.865379\" style=\"fill: #1f77b4; stroke: #1f77b4\"/>\n",
       "     <use xlink:href=\"#me8e4543a19\" x=\"172.260143\" y=\"89.374795\" style=\"fill: #1f77b4; stroke: #1f77b4\"/>\n",
       "     <use xlink:href=\"#me8e4543a19\" x=\"134.061714\" y=\"69.080757\" style=\"fill: #1f77b4; stroke: #1f77b4\"/>\n",
       "     <use xlink:href=\"#me8e4543a19\" x=\"113.232477\" y=\"60.696202\" style=\"fill: #1f77b4; stroke: #1f77b4\"/>\n",
       "     <use xlink:href=\"#me8e4543a19\" x=\"158.723509\" y=\"83.100634\" style=\"fill: #1f77b4; stroke: #1f77b4\"/>\n",
       "     <use xlink:href=\"#me8e4543a19\" x=\"169.45315\" y=\"102.900838\" style=\"fill: #1f77b4; stroke: #1f77b4\"/>\n",
       "     <use xlink:href=\"#me8e4543a19\" x=\"141.817612\" y=\"69.694162\" style=\"fill: #1f77b4; stroke: #1f77b4\"/>\n",
       "     <use xlink:href=\"#me8e4543a19\" x=\"75.606337\" y=\"29.333149\" style=\"fill: #1f77b4; stroke: #1f77b4\"/>\n",
       "     <use xlink:href=\"#me8e4543a19\" x=\"80.201794\" y=\"47.665432\" style=\"fill: #1f77b4; stroke: #1f77b4\"/>\n",
       "     <use xlink:href=\"#me8e4543a19\" x=\"167.881655\" y=\"82.852019\" style=\"fill: #1f77b4; stroke: #1f77b4\"/>\n",
       "     <use xlink:href=\"#me8e4543a19\" x=\"113.449336\" y=\"57.036022\" style=\"fill: #1f77b4; stroke: #1f77b4\"/>\n",
       "     <use xlink:href=\"#me8e4543a19\" x=\"117.41744\" y=\"57.142356\" style=\"fill: #1f77b4; stroke: #1f77b4\"/>\n",
       "     <use xlink:href=\"#me8e4543a19\" x=\"165.395742\" y=\"93.122783\" style=\"fill: #1f77b4; stroke: #1f77b4\"/>\n",
       "     <use xlink:href=\"#me8e4543a19\" x=\"92.914824\" y=\"59.391255\" style=\"fill: #1f77b4; stroke: #1f77b4\"/>\n",
       "     <use xlink:href=\"#me8e4543a19\" x=\"136.056214\" y=\"95.200482\" style=\"fill: #1f77b4; stroke: #1f77b4\"/>\n",
       "     <use xlink:href=\"#me8e4543a19\" x=\"199.112571\" y=\"118.172532\" style=\"fill: #1f77b4; stroke: #1f77b4\"/>\n",
       "     <use xlink:href=\"#me8e4543a19\" x=\"132.975425\" y=\"68.389072\" style=\"fill: #1f77b4; stroke: #1f77b4\"/>\n",
       "     <use xlink:href=\"#me8e4543a19\" x=\"139.635421\" y=\"83.904089\" style=\"fill: #1f77b4; stroke: #1f77b4\"/>\n",
       "     <use xlink:href=\"#me8e4543a19\" x=\"127.086271\" y=\"56.413271\" style=\"fill: #1f77b4; stroke: #1f77b4\"/>\n",
       "     <use xlink:href=\"#me8e4543a19\" x=\"176.104689\" y=\"102.204204\" style=\"fill: #1f77b4; stroke: #1f77b4\"/>\n",
       "     <use xlink:href=\"#me8e4543a19\" x=\"141.663768\" y=\"78.037653\" style=\"fill: #1f77b4; stroke: #1f77b4\"/>\n",
       "     <use xlink:href=\"#me8e4543a19\" x=\"130.04302\" y=\"64.445913\" style=\"fill: #1f77b4; stroke: #1f77b4\"/>\n",
       "     <use xlink:href=\"#me8e4543a19\" x=\"148.336857\" y=\"84.915056\" style=\"fill: #1f77b4; stroke: #1f77b4\"/>\n",
       "     <use xlink:href=\"#me8e4543a19\" x=\"146.867959\" y=\"84.104467\" style=\"fill: #1f77b4; stroke: #1f77b4\"/>\n",
       "     <use xlink:href=\"#me8e4543a19\" x=\"114.855066\" y=\"67.737257\" style=\"fill: #1f77b4; stroke: #1f77b4\"/>\n",
       "     <use xlink:href=\"#me8e4543a19\" x=\"119.304753\" y=\"76.15955\" style=\"fill: #1f77b4; stroke: #1f77b4\"/>\n",
       "     <use xlink:href=\"#me8e4543a19\" x=\"97.500088\" y=\"62.014371\" style=\"fill: #1f77b4; stroke: #1f77b4\"/>\n",
       "     <use xlink:href=\"#me8e4543a19\" x=\"134.107663\" y=\"67.541142\" style=\"fill: #1f77b4; stroke: #1f77b4\"/>\n",
       "     <use xlink:href=\"#me8e4543a19\" x=\"154.173578\" y=\"97.360555\" style=\"fill: #1f77b4; stroke: #1f77b4\"/>\n",
       "     <use xlink:href=\"#me8e4543a19\" x=\"106.152623\" y=\"41.999874\" style=\"fill: #1f77b4; stroke: #1f77b4\"/>\n",
       "     <use xlink:href=\"#me8e4543a19\" x=\"100.146501\" y=\"66.730021\" style=\"fill: #1f77b4; stroke: #1f77b4\"/>\n",
       "     <use xlink:href=\"#me8e4543a19\" x=\"138.3553\" y=\"82.268269\" style=\"fill: #1f77b4; stroke: #1f77b4\"/>\n",
       "     <use xlink:href=\"#me8e4543a19\" x=\"143.957305\" y=\"82.502868\" style=\"fill: #1f77b4; stroke: #1f77b4\"/>\n",
       "     <use xlink:href=\"#me8e4543a19\" x=\"103.051323\" y=\"67.273713\" style=\"fill: #1f77b4; stroke: #1f77b4\"/>\n",
       "     <use xlink:href=\"#me8e4543a19\" x=\"108.132896\" y=\"62.956482\" style=\"fill: #1f77b4; stroke: #1f77b4\"/>\n",
       "     <use xlink:href=\"#me8e4543a19\" x=\"162.465147\" y=\"92.781472\" style=\"fill: #1f77b4; stroke: #1f77b4\"/>\n",
       "     <use xlink:href=\"#me8e4543a19\" x=\"126.330352\" y=\"65.34627\" style=\"fill: #1f77b4; stroke: #1f77b4\"/>\n",
       "     <use xlink:href=\"#me8e4543a19\" x=\"106.239283\" y=\"56.787479\" style=\"fill: #1f77b4; stroke: #1f77b4\"/>\n",
       "     <use xlink:href=\"#me8e4543a19\" x=\"84.644537\" y=\"51.270607\" style=\"fill: #1f77b4; stroke: #1f77b4\"/>\n",
       "     <use xlink:href=\"#me8e4543a19\" x=\"154.414998\" y=\"76.973404\" style=\"fill: #1f77b4; stroke: #1f77b4\"/>\n",
       "     <use xlink:href=\"#me8e4543a19\" x=\"189.315394\" y=\"104.978344\" style=\"fill: #1f77b4; stroke: #1f77b4\"/>\n",
       "     <use xlink:href=\"#me8e4543a19\" x=\"129.272898\" y=\"63.27794\" style=\"fill: #1f77b4; stroke: #1f77b4\"/>\n",
       "     <use xlink:href=\"#me8e4543a19\" x=\"151.816035\" y=\"84.810157\" style=\"fill: #1f77b4; stroke: #1f77b4\"/>\n",
       "     <use xlink:href=\"#me8e4543a19\" x=\"79.925181\" y=\"41.410614\" style=\"fill: #1f77b4; stroke: #1f77b4\"/>\n",
       "     <use xlink:href=\"#me8e4543a19\" x=\"135.947421\" y=\"78.182467\" style=\"fill: #1f77b4; stroke: #1f77b4\"/>\n",
       "     <use xlink:href=\"#me8e4543a19\" x=\"148.509498\" y=\"84.716776\" style=\"fill: #1f77b4; stroke: #1f77b4\"/>\n",
       "     <use xlink:href=\"#me8e4543a19\" x=\"117.684965\" y=\"57.020728\" style=\"fill: #1f77b4; stroke: #1f77b4\"/>\n",
       "     <use xlink:href=\"#me8e4543a19\" x=\"127.309956\" y=\"68.024099\" style=\"fill: #1f77b4; stroke: #1f77b4\"/>\n",
       "     <use xlink:href=\"#me8e4543a19\" x=\"118.93508\" y=\"62.898954\" style=\"fill: #1f77b4; stroke: #1f77b4\"/>\n",
       "     <use xlink:href=\"#me8e4543a19\" x=\"148.817439\" y=\"87.996225\" style=\"fill: #1f77b4; stroke: #1f77b4\"/>\n",
       "     <use xlink:href=\"#me8e4543a19\" x=\"151.657749\" y=\"80.354661\" style=\"fill: #1f77b4; stroke: #1f77b4\"/>\n",
       "     <use xlink:href=\"#me8e4543a19\" x=\"146.85893\" y=\"69.588676\" style=\"fill: #1f77b4; stroke: #1f77b4\"/>\n",
       "     <use xlink:href=\"#me8e4543a19\" x=\"96.639762\" y=\"33.875787\" style=\"fill: #1f77b4; stroke: #1f77b4\"/>\n",
       "     <use xlink:href=\"#me8e4543a19\" x=\"139.16563\" y=\"76.956644\" style=\"fill: #1f77b4; stroke: #1f77b4\"/>\n",
       "     <use xlink:href=\"#me8e4543a19\" x=\"140.080387\" y=\"67.203141\" style=\"fill: #1f77b4; stroke: #1f77b4\"/>\n",
       "     <use xlink:href=\"#me8e4543a19\" x=\"151.832919\" y=\"89.478795\" style=\"fill: #1f77b4; stroke: #1f77b4\"/>\n",
       "     <use xlink:href=\"#me8e4543a19\" x=\"114.245839\" y=\"74.681227\" style=\"fill: #1f77b4; stroke: #1f77b4\"/>\n",
       "     <use xlink:href=\"#me8e4543a19\" x=\"126.507214\" y=\"75.384244\" style=\"fill: #1f77b4; stroke: #1f77b4\"/>\n",
       "     <use xlink:href=\"#me8e4543a19\" x=\"173.120874\" y=\"77.753843\" style=\"fill: #1f77b4; stroke: #1f77b4\"/>\n",
       "     <use xlink:href=\"#me8e4543a19\" x=\"129.035805\" y=\"66.249209\" style=\"fill: #1f77b4; stroke: #1f77b4\"/>\n",
       "     <use xlink:href=\"#me8e4543a19\" x=\"142.624386\" y=\"79.593938\" style=\"fill: #1f77b4; stroke: #1f77b4\"/>\n",
       "     <use xlink:href=\"#me8e4543a19\" x=\"129.97016\" y=\"65.411846\" style=\"fill: #1f77b4; stroke: #1f77b4\"/>\n",
       "     <use xlink:href=\"#me8e4543a19\" x=\"100.181893\" y=\"62.420735\" style=\"fill: #1f77b4; stroke: #1f77b4\"/>\n",
       "     <use xlink:href=\"#me8e4543a19\" x=\"127.13696\" y=\"69.57753\" style=\"fill: #1f77b4; stroke: #1f77b4\"/>\n",
       "     <use xlink:href=\"#me8e4543a19\" x=\"111.774706\" y=\"46.979371\" style=\"fill: #1f77b4; stroke: #1f77b4\"/>\n",
       "     <use xlink:href=\"#me8e4543a19\" x=\"157.198805\" y=\"92.934987\" style=\"fill: #1f77b4; stroke: #1f77b4\"/>\n",
       "     <use xlink:href=\"#me8e4543a19\" x=\"103.113469\" y=\"54.139145\" style=\"fill: #1f77b4; stroke: #1f77b4\"/>\n",
       "     <use xlink:href=\"#me8e4543a19\" x=\"123.709781\" y=\"73.228279\" style=\"fill: #1f77b4; stroke: #1f77b4\"/>\n",
       "     <use xlink:href=\"#me8e4543a19\" x=\"154.137551\" y=\"96.196582\" style=\"fill: #1f77b4; stroke: #1f77b4\"/>\n",
       "     <use xlink:href=\"#me8e4543a19\" x=\"129.596759\" y=\"76.036039\" style=\"fill: #1f77b4; stroke: #1f77b4\"/>\n",
       "     <use xlink:href=\"#me8e4543a19\" x=\"187.626496\" y=\"101.869742\" style=\"fill: #1f77b4; stroke: #1f77b4\"/>\n",
       "     <use xlink:href=\"#me8e4543a19\" x=\"157.012525\" y=\"86.997292\" style=\"fill: #1f77b4; stroke: #1f77b4\"/>\n",
       "     <use xlink:href=\"#me8e4543a19\" x=\"160.58588\" y=\"99.434739\" style=\"fill: #1f77b4; stroke: #1f77b4\"/>\n",
       "     <use xlink:href=\"#me8e4543a19\" x=\"148.393342\" y=\"92.113387\" style=\"fill: #1f77b4; stroke: #1f77b4\"/>\n",
       "     <use xlink:href=\"#me8e4543a19\" x=\"112.528675\" y=\"64.499875\" style=\"fill: #1f77b4; stroke: #1f77b4\"/>\n",
       "     <use xlink:href=\"#me8e4543a19\" x=\"125.419525\" y=\"68.293308\" style=\"fill: #1f77b4; stroke: #1f77b4\"/>\n",
       "     <use xlink:href=\"#me8e4543a19\" x=\"129.822414\" y=\"72.056131\" style=\"fill: #1f77b4; stroke: #1f77b4\"/>\n",
       "     <use xlink:href=\"#me8e4543a19\" x=\"184.956094\" y=\"100.104592\" style=\"fill: #1f77b4; stroke: #1f77b4\"/>\n",
       "     <use xlink:href=\"#me8e4543a19\" x=\"134.415424\" y=\"76.516143\" style=\"fill: #1f77b4; stroke: #1f77b4\"/>\n",
       "     <use xlink:href=\"#me8e4543a19\" x=\"142.091185\" y=\"78.503499\" style=\"fill: #1f77b4; stroke: #1f77b4\"/>\n",
       "     <use xlink:href=\"#me8e4543a19\" x=\"103.527135\" y=\"74.555893\" style=\"fill: #1f77b4; stroke: #1f77b4\"/>\n",
       "     <use xlink:href=\"#me8e4543a19\" x=\"153.399287\" y=\"86.644327\" style=\"fill: #1f77b4; stroke: #1f77b4\"/>\n",
       "     <use xlink:href=\"#me8e4543a19\" x=\"105.362581\" y=\"61.077219\" style=\"fill: #1f77b4; stroke: #1f77b4\"/>\n",
       "     <use xlink:href=\"#me8e4543a19\" x=\"127.255279\" y=\"72.534648\" style=\"fill: #1f77b4; stroke: #1f77b4\"/>\n",
       "     <use xlink:href=\"#me8e4543a19\" x=\"170.623271\" y=\"83.040942\" style=\"fill: #1f77b4; stroke: #1f77b4\"/>\n",
       "     <use xlink:href=\"#me8e4543a19\" x=\"122.941477\" y=\"70.469125\" style=\"fill: #1f77b4; stroke: #1f77b4\"/>\n",
       "     <use xlink:href=\"#me8e4543a19\" x=\"96.407844\" y=\"54.613318\" style=\"fill: #1f77b4; stroke: #1f77b4\"/>\n",
       "     <use xlink:href=\"#me8e4543a19\" x=\"110.745945\" y=\"69.270088\" style=\"fill: #1f77b4; stroke: #1f77b4\"/>\n",
       "     <use xlink:href=\"#me8e4543a19\" x=\"148.117586\" y=\"81.955957\" style=\"fill: #1f77b4; stroke: #1f77b4\"/>\n",
       "     <use xlink:href=\"#me8e4543a19\" x=\"119.432699\" y=\"77.161548\" style=\"fill: #1f77b4; stroke: #1f77b4\"/>\n",
       "     <use xlink:href=\"#me8e4543a19\" x=\"126.73147\" y=\"72.265574\" style=\"fill: #1f77b4; stroke: #1f77b4\"/>\n",
       "     <use xlink:href=\"#me8e4543a19\" x=\"73.780881\" y=\"32.679482\" style=\"fill: #1f77b4; stroke: #1f77b4\"/>\n",
       "     <use xlink:href=\"#me8e4543a19\" x=\"146.428345\" y=\"69.443708\" style=\"fill: #1f77b4; stroke: #1f77b4\"/>\n",
       "     <use xlink:href=\"#me8e4543a19\" x=\"147.062864\" y=\"71.983602\" style=\"fill: #1f77b4; stroke: #1f77b4\"/>\n",
       "     <use xlink:href=\"#me8e4543a19\" x=\"154.218713\" y=\"71.4958\" style=\"fill: #1f77b4; stroke: #1f77b4\"/>\n",
       "     <use xlink:href=\"#me8e4543a19\" x=\"128.519702\" y=\"75.701111\" style=\"fill: #1f77b4; stroke: #1f77b4\"/>\n",
       "     <use xlink:href=\"#me8e4543a19\" x=\"132.938998\" y=\"58.600924\" style=\"fill: #1f77b4; stroke: #1f77b4\"/>\n",
       "     <use xlink:href=\"#me8e4543a19\" x=\"138.023519\" y=\"83.770412\" style=\"fill: #1f77b4; stroke: #1f77b4\"/>\n",
       "     <use xlink:href=\"#me8e4543a19\" x=\"80.193159\" y=\"28.750461\" style=\"fill: #1f77b4; stroke: #1f77b4\"/>\n",
       "     <use xlink:href=\"#me8e4543a19\" x=\"146.589056\" y=\"71.791122\" style=\"fill: #1f77b4; stroke: #1f77b4\"/>\n",
       "     <use xlink:href=\"#me8e4543a19\" x=\"129.474054\" y=\"75.632303\" style=\"fill: #1f77b4; stroke: #1f77b4\"/>\n",
       "     <use xlink:href=\"#me8e4543a19\" x=\"125.814519\" y=\"69.855\" style=\"fill: #1f77b4; stroke: #1f77b4\"/>\n",
       "     <use xlink:href=\"#me8e4543a19\" x=\"134.576723\" y=\"71.996798\" style=\"fill: #1f77b4; stroke: #1f77b4\"/>\n",
       "     <use xlink:href=\"#me8e4543a19\" x=\"117.874116\" y=\"86.259397\" style=\"fill: #1f77b4; stroke: #1f77b4\"/>\n",
       "     <use xlink:href=\"#me8e4543a19\" x=\"136.167211\" y=\"75.899915\" style=\"fill: #1f77b4; stroke: #1f77b4\"/>\n",
       "     <use xlink:href=\"#me8e4543a19\" x=\"126.457162\" y=\"66.484692\" style=\"fill: #1f77b4; stroke: #1f77b4\"/>\n",
       "     <use xlink:href=\"#me8e4543a19\" x=\"159.155031\" y=\"76.530601\" style=\"fill: #1f77b4; stroke: #1f77b4\"/>\n",
       "     <use xlink:href=\"#me8e4543a19\" x=\"127.351284\" y=\"72.222373\" style=\"fill: #1f77b4; stroke: #1f77b4\"/>\n",
       "     <use xlink:href=\"#me8e4543a19\" x=\"185.472483\" y=\"94.932656\" style=\"fill: #1f77b4; stroke: #1f77b4\"/>\n",
       "     <use xlink:href=\"#me8e4543a19\" x=\"108.958576\" y=\"57.278068\" style=\"fill: #1f77b4; stroke: #1f77b4\"/>\n",
       "     <use xlink:href=\"#me8e4543a19\" x=\"135.28182\" y=\"76.280408\" style=\"fill: #1f77b4; stroke: #1f77b4\"/>\n",
       "     <use xlink:href=\"#me8e4543a19\" x=\"119.405235\" y=\"59.929084\" style=\"fill: #1f77b4; stroke: #1f77b4\"/>\n",
       "     <use xlink:href=\"#me8e4543a19\" x=\"127.004282\" y=\"62.807014\" style=\"fill: #1f77b4; stroke: #1f77b4\"/>\n",
       "     <use xlink:href=\"#me8e4543a19\" x=\"82.403368\" y=\"26.099912\" style=\"fill: #1f77b4; stroke: #1f77b4\"/>\n",
       "     <use xlink:href=\"#me8e4543a19\" x=\"151.380246\" y=\"92.663062\" style=\"fill: #1f77b4; stroke: #1f77b4\"/>\n",
       "     <use xlink:href=\"#me8e4543a19\" x=\"127.406668\" y=\"62.349858\" style=\"fill: #1f77b4; stroke: #1f77b4\"/>\n",
       "     <use xlink:href=\"#me8e4543a19\" x=\"104.742517\" y=\"55.783401\" style=\"fill: #1f77b4; stroke: #1f77b4\"/>\n",
       "     <use xlink:href=\"#me8e4543a19\" x=\"119.980394\" y=\"54.460499\" style=\"fill: #1f77b4; stroke: #1f77b4\"/>\n",
       "     <use xlink:href=\"#me8e4543a19\" x=\"136.186366\" y=\"82.184517\" style=\"fill: #1f77b4; stroke: #1f77b4\"/>\n",
       "     <use xlink:href=\"#me8e4543a19\" x=\"146.539492\" y=\"82.371787\" style=\"fill: #1f77b4; stroke: #1f77b4\"/>\n",
       "     <use xlink:href=\"#me8e4543a19\" x=\"133.834671\" y=\"73.30147\" style=\"fill: #1f77b4; stroke: #1f77b4\"/>\n",
       "     <use xlink:href=\"#me8e4543a19\" x=\"127.897266\" y=\"69.745097\" style=\"fill: #1f77b4; stroke: #1f77b4\"/>\n",
       "     <use xlink:href=\"#me8e4543a19\" x=\"99.495104\" y=\"53.019703\" style=\"fill: #1f77b4; stroke: #1f77b4\"/>\n",
       "     <use xlink:href=\"#me8e4543a19\" x=\"118.740173\" y=\"84.498448\" style=\"fill: #1f77b4; stroke: #1f77b4\"/>\n",
       "     <use xlink:href=\"#me8e4543a19\" x=\"128.425431\" y=\"63.352018\" style=\"fill: #1f77b4; stroke: #1f77b4\"/>\n",
       "     <use xlink:href=\"#me8e4543a19\" x=\"119.655185\" y=\"67.303405\" style=\"fill: #1f77b4; stroke: #1f77b4\"/>\n",
       "     <use xlink:href=\"#me8e4543a19\" x=\"57.068364\" y=\"29.367652\" style=\"fill: #1f77b4; stroke: #1f77b4\"/>\n",
       "     <use xlink:href=\"#me8e4543a19\" x=\"133.180682\" y=\"78.48433\" style=\"fill: #1f77b4; stroke: #1f77b4\"/>\n",
       "     <use xlink:href=\"#me8e4543a19\" x=\"113.030238\" y=\"62.531392\" style=\"fill: #1f77b4; stroke: #1f77b4\"/>\n",
       "     <use xlink:href=\"#me8e4543a19\" x=\"139.813422\" y=\"77.027205\" style=\"fill: #1f77b4; stroke: #1f77b4\"/>\n",
       "     <use xlink:href=\"#me8e4543a19\" x=\"120.651603\" y=\"79.725113\" style=\"fill: #1f77b4; stroke: #1f77b4\"/>\n",
       "     <use xlink:href=\"#me8e4543a19\" x=\"114.181976\" y=\"58.917248\" style=\"fill: #1f77b4; stroke: #1f77b4\"/>\n",
       "     <use xlink:href=\"#me8e4543a19\" x=\"155.4849\" y=\"84.179536\" style=\"fill: #1f77b4; stroke: #1f77b4\"/>\n",
       "     <use xlink:href=\"#me8e4543a19\" x=\"117.005583\" y=\"67.014251\" style=\"fill: #1f77b4; stroke: #1f77b4\"/>\n",
       "     <use xlink:href=\"#me8e4543a19\" x=\"165.116947\" y=\"99.675117\" style=\"fill: #1f77b4; stroke: #1f77b4\"/>\n",
       "     <use xlink:href=\"#me8e4543a19\" x=\"148.407672\" y=\"82.121859\" style=\"fill: #1f77b4; stroke: #1f77b4\"/>\n",
       "     <use xlink:href=\"#me8e4543a19\" x=\"126.922187\" y=\"73.864808\" style=\"fill: #1f77b4; stroke: #1f77b4\"/>\n",
       "     <use xlink:href=\"#me8e4543a19\" x=\"162.632234\" y=\"85.810307\" style=\"fill: #1f77b4; stroke: #1f77b4\"/>\n",
       "     <use xlink:href=\"#me8e4543a19\" x=\"146.974609\" y=\"74.025006\" style=\"fill: #1f77b4; stroke: #1f77b4\"/>\n",
       "     <use xlink:href=\"#me8e4543a19\" x=\"128.344874\" y=\"65.11459\" style=\"fill: #1f77b4; stroke: #1f77b4\"/>\n",
       "     <use xlink:href=\"#me8e4543a19\" x=\"146.363866\" y=\"64.04082\" style=\"fill: #1f77b4; stroke: #1f77b4\"/>\n",
       "     <use xlink:href=\"#me8e4543a19\" x=\"95.069171\" y=\"48.556791\" style=\"fill: #1f77b4; stroke: #1f77b4\"/>\n",
       "     <use xlink:href=\"#me8e4543a19\" x=\"101.567267\" y=\"56.001464\" style=\"fill: #1f77b4; stroke: #1f77b4\"/>\n",
       "     <use xlink:href=\"#me8e4543a19\" x=\"78.038095\" y=\"33.837323\" style=\"fill: #1f77b4; stroke: #1f77b4\"/>\n",
       "     <use xlink:href=\"#me8e4543a19\" x=\"150.731374\" y=\"74.760129\" style=\"fill: #1f77b4; stroke: #1f77b4\"/>\n",
       "     <use xlink:href=\"#me8e4543a19\" x=\"102.722168\" y=\"60.725362\" style=\"fill: #1f77b4; stroke: #1f77b4\"/>\n",
       "     <use xlink:href=\"#me8e4543a19\" x=\"158.237463\" y=\"86.455231\" style=\"fill: #1f77b4; stroke: #1f77b4\"/>\n",
       "     <use xlink:href=\"#me8e4543a19\" x=\"139.146886\" y=\"83.68129\" style=\"fill: #1f77b4; stroke: #1f77b4\"/>\n",
       "     <use xlink:href=\"#me8e4543a19\" x=\"103.160049\" y=\"54.424183\" style=\"fill: #1f77b4; stroke: #1f77b4\"/>\n",
       "     <use xlink:href=\"#me8e4543a19\" x=\"108.105812\" y=\"63.770373\" style=\"fill: #1f77b4; stroke: #1f77b4\"/>\n",
       "     <use xlink:href=\"#me8e4543a19\" x=\"120.951823\" y=\"66.983467\" style=\"fill: #1f77b4; stroke: #1f77b4\"/>\n",
       "     <use xlink:href=\"#me8e4543a19\" x=\"156.803421\" y=\"88.172411\" style=\"fill: #1f77b4; stroke: #1f77b4\"/>\n",
       "     <use xlink:href=\"#me8e4543a19\" x=\"133.397973\" y=\"81.552481\" style=\"fill: #1f77b4; stroke: #1f77b4\"/>\n",
       "     <use xlink:href=\"#me8e4543a19\" x=\"165.180561\" y=\"85.205962\" style=\"fill: #1f77b4; stroke: #1f77b4\"/>\n",
       "     <use xlink:href=\"#me8e4543a19\" x=\"107.962206\" y=\"66.274911\" style=\"fill: #1f77b4; stroke: #1f77b4\"/>\n",
       "     <use xlink:href=\"#me8e4543a19\" x=\"133.084233\" y=\"74.129958\" style=\"fill: #1f77b4; stroke: #1f77b4\"/>\n",
       "     <use xlink:href=\"#me8e4543a19\" x=\"166.290038\" y=\"86.938821\" style=\"fill: #1f77b4; stroke: #1f77b4\"/>\n",
       "     <use xlink:href=\"#me8e4543a19\" x=\"125.908066\" y=\"86.312033\" style=\"fill: #1f77b4; stroke: #1f77b4\"/>\n",
       "     <use xlink:href=\"#me8e4543a19\" x=\"134.158687\" y=\"78.326398\" style=\"fill: #1f77b4; stroke: #1f77b4\"/>\n",
       "     <use xlink:href=\"#me8e4543a19\" x=\"56.524819\" y=\"27.259165\" style=\"fill: #1f77b4; stroke: #1f77b4\"/>\n",
       "     <use xlink:href=\"#me8e4543a19\" x=\"172.39815\" y=\"81.221328\" style=\"fill: #1f77b4; stroke: #1f77b4\"/>\n",
       "     <use xlink:href=\"#me8e4543a19\" x=\"121.176495\" y=\"74.547569\" style=\"fill: #1f77b4; stroke: #1f77b4\"/>\n",
       "     <use xlink:href=\"#me8e4543a19\" x=\"142.098694\" y=\"74.219353\" style=\"fill: #1f77b4; stroke: #1f77b4\"/>\n",
       "     <use xlink:href=\"#me8e4543a19\" x=\"123.98883\" y=\"70.841258\" style=\"fill: #1f77b4; stroke: #1f77b4\"/>\n",
       "     <use xlink:href=\"#me8e4543a19\" x=\"162.98234\" y=\"90.185141\" style=\"fill: #1f77b4; stroke: #1f77b4\"/>\n",
       "     <use xlink:href=\"#me8e4543a19\" x=\"135.420911\" y=\"72.625797\" style=\"fill: #1f77b4; stroke: #1f77b4\"/>\n",
       "     <use xlink:href=\"#me8e4543a19\" x=\"129.191876\" y=\"85.613788\" style=\"fill: #1f77b4; stroke: #1f77b4\"/>\n",
       "     <use xlink:href=\"#me8e4543a19\" x=\"171.618935\" y=\"84.624455\" style=\"fill: #1f77b4; stroke: #1f77b4\"/>\n",
       "     <use xlink:href=\"#me8e4543a19\" x=\"145.408618\" y=\"90.440102\" style=\"fill: #1f77b4; stroke: #1f77b4\"/>\n",
       "     <use xlink:href=\"#me8e4543a19\" x=\"90.381517\" y=\"46.934405\" style=\"fill: #1f77b4; stroke: #1f77b4\"/>\n",
       "     <use xlink:href=\"#me8e4543a19\" x=\"129.611414\" y=\"63.144506\" style=\"fill: #1f77b4; stroke: #1f77b4\"/>\n",
       "     <use xlink:href=\"#me8e4543a19\" x=\"157.737307\" y=\"99.67538\" style=\"fill: #1f77b4; stroke: #1f77b4\"/>\n",
       "     <use xlink:href=\"#me8e4543a19\" x=\"117.809057\" y=\"45.324251\" style=\"fill: #1f77b4; stroke: #1f77b4\"/>\n",
       "     <use xlink:href=\"#me8e4543a19\" x=\"114.338671\" y=\"58.669688\" style=\"fill: #1f77b4; stroke: #1f77b4\"/>\n",
       "     <use xlink:href=\"#me8e4543a19\" x=\"127.005701\" y=\"67.000233\" style=\"fill: #1f77b4; stroke: #1f77b4\"/>\n",
       "     <use xlink:href=\"#me8e4543a19\" x=\"121.741701\" y=\"56.320309\" style=\"fill: #1f77b4; stroke: #1f77b4\"/>\n",
       "     <use xlink:href=\"#me8e4543a19\" x=\"151.406722\" y=\"68.590119\" style=\"fill: #1f77b4; stroke: #1f77b4\"/>\n",
       "     <use xlink:href=\"#me8e4543a19\" x=\"117.996897\" y=\"83.567222\" style=\"fill: #1f77b4; stroke: #1f77b4\"/>\n",
       "     <use xlink:href=\"#me8e4543a19\" x=\"162.176993\" y=\"99.411554\" style=\"fill: #1f77b4; stroke: #1f77b4\"/>\n",
       "     <use xlink:href=\"#me8e4543a19\" x=\"115.523021\" y=\"49.639504\" style=\"fill: #1f77b4; stroke: #1f77b4\"/>\n",
       "     <use xlink:href=\"#me8e4543a19\" x=\"108.261655\" y=\"68.003222\" style=\"fill: #1f77b4; stroke: #1f77b4\"/>\n",
       "     <use xlink:href=\"#me8e4543a19\" x=\"134.935826\" y=\"78.260052\" style=\"fill: #1f77b4; stroke: #1f77b4\"/>\n",
       "     <use xlink:href=\"#me8e4543a19\" x=\"169.194334\" y=\"86.132068\" style=\"fill: #1f77b4; stroke: #1f77b4\"/>\n",
       "     <use xlink:href=\"#me8e4543a19\" x=\"106.972179\" y=\"44.711266\" style=\"fill: #1f77b4; stroke: #1f77b4\"/>\n",
       "     <use xlink:href=\"#me8e4543a19\" x=\"149.92623\" y=\"96.993012\" style=\"fill: #1f77b4; stroke: #1f77b4\"/>\n",
       "     <use xlink:href=\"#me8e4543a19\" x=\"141.546408\" y=\"96.335853\" style=\"fill: #1f77b4; stroke: #1f77b4\"/>\n",
       "     <use xlink:href=\"#me8e4543a19\" x=\"180.988986\" y=\"94.827859\" style=\"fill: #1f77b4; stroke: #1f77b4\"/>\n",
       "     <use xlink:href=\"#me8e4543a19\" x=\"134.526486\" y=\"70.961366\" style=\"fill: #1f77b4; stroke: #1f77b4\"/>\n",
       "     <use xlink:href=\"#me8e4543a19\" x=\"190.121006\" y=\"95.680624\" style=\"fill: #1f77b4; stroke: #1f77b4\"/>\n",
       "     <use xlink:href=\"#me8e4543a19\" x=\"138.65576\" y=\"72.764614\" style=\"fill: #1f77b4; stroke: #1f77b4\"/>\n",
       "     <use xlink:href=\"#me8e4543a19\" x=\"124.266341\" y=\"70.97424\" style=\"fill: #1f77b4; stroke: #1f77b4\"/>\n",
       "     <use xlink:href=\"#me8e4543a19\" x=\"161.47539\" y=\"73.232635\" style=\"fill: #1f77b4; stroke: #1f77b4\"/>\n",
       "     <use xlink:href=\"#me8e4543a19\" x=\"116.126198\" y=\"52.673701\" style=\"fill: #1f77b4; stroke: #1f77b4\"/>\n",
       "     <use xlink:href=\"#me8e4543a19\" x=\"171.708931\" y=\"98.710941\" style=\"fill: #1f77b4; stroke: #1f77b4\"/>\n",
       "     <use xlink:href=\"#me8e4543a19\" x=\"155.095391\" y=\"90.96969\" style=\"fill: #1f77b4; stroke: #1f77b4\"/>\n",
       "     <use xlink:href=\"#me8e4543a19\" x=\"60.309999\" y=\"24.035136\" style=\"fill: #1f77b4; stroke: #1f77b4\"/>\n",
       "     <use xlink:href=\"#me8e4543a19\" x=\"113.60807\" y=\"55.513328\" style=\"fill: #1f77b4; stroke: #1f77b4\"/>\n",
       "     <use xlink:href=\"#me8e4543a19\" x=\"147.283362\" y=\"83.765764\" style=\"fill: #1f77b4; stroke: #1f77b4\"/>\n",
       "     <use xlink:href=\"#me8e4543a19\" x=\"127.995042\" y=\"64.158193\" style=\"fill: #1f77b4; stroke: #1f77b4\"/>\n",
       "     <use xlink:href=\"#me8e4543a19\" x=\"133.321275\" y=\"51.512051\" style=\"fill: #1f77b4; stroke: #1f77b4\"/>\n",
       "     <use xlink:href=\"#me8e4543a19\" x=\"56.479699\" y=\"40.169382\" style=\"fill: #1f77b4; stroke: #1f77b4\"/>\n",
       "     <use xlink:href=\"#me8e4543a19\" x=\"163.480219\" y=\"99.232305\" style=\"fill: #1f77b4; stroke: #1f77b4\"/>\n",
       "     <use xlink:href=\"#me8e4543a19\" x=\"167.346756\" y=\"86.961839\" style=\"fill: #1f77b4; stroke: #1f77b4\"/>\n",
       "     <use xlink:href=\"#me8e4543a19\" x=\"156.3437\" y=\"114.482388\" style=\"fill: #1f77b4; stroke: #1f77b4\"/>\n",
       "     <use xlink:href=\"#me8e4543a19\" x=\"162.727129\" y=\"93.598985\" style=\"fill: #1f77b4; stroke: #1f77b4\"/>\n",
       "     <use xlink:href=\"#me8e4543a19\" x=\"149.040233\" y=\"76.293914\" style=\"fill: #1f77b4; stroke: #1f77b4\"/>\n",
       "     <use xlink:href=\"#me8e4543a19\" x=\"131.867863\" y=\"74.607746\" style=\"fill: #1f77b4; stroke: #1f77b4\"/>\n",
       "     <use xlink:href=\"#me8e4543a19\" x=\"112.71967\" y=\"57.11733\" style=\"fill: #1f77b4; stroke: #1f77b4\"/>\n",
       "     <use xlink:href=\"#me8e4543a19\" x=\"158.538201\" y=\"84.40541\" style=\"fill: #1f77b4; stroke: #1f77b4\"/>\n",
       "     <use xlink:href=\"#me8e4543a19\" x=\"95.697232\" y=\"42.15411\" style=\"fill: #1f77b4; stroke: #1f77b4\"/>\n",
       "     <use xlink:href=\"#me8e4543a19\" x=\"115.697713\" y=\"80.111918\" style=\"fill: #1f77b4; stroke: #1f77b4\"/>\n",
       "     <use xlink:href=\"#me8e4543a19\" x=\"133.466299\" y=\"72.84807\" style=\"fill: #1f77b4; stroke: #1f77b4\"/>\n",
       "     <use xlink:href=\"#me8e4543a19\" x=\"135.466705\" y=\"81.925257\" style=\"fill: #1f77b4; stroke: #1f77b4\"/>\n",
       "     <use xlink:href=\"#me8e4543a19\" x=\"102.726367\" y=\"43.12184\" style=\"fill: #1f77b4; stroke: #1f77b4\"/>\n",
       "     <use xlink:href=\"#me8e4543a19\" x=\"157.445279\" y=\"88.687741\" style=\"fill: #1f77b4; stroke: #1f77b4\"/>\n",
       "     <use xlink:href=\"#me8e4543a19\" x=\"157.61387\" y=\"96.147794\" style=\"fill: #1f77b4; stroke: #1f77b4\"/>\n",
       "     <use xlink:href=\"#me8e4543a19\" x=\"127.677506\" y=\"63.998109\" style=\"fill: #1f77b4; stroke: #1f77b4\"/>\n",
       "     <use xlink:href=\"#me8e4543a19\" x=\"138.130937\" y=\"74.576006\" style=\"fill: #1f77b4; stroke: #1f77b4\"/>\n",
       "     <use xlink:href=\"#me8e4543a19\" x=\"179.030488\" y=\"88.780659\" style=\"fill: #1f77b4; stroke: #1f77b4\"/>\n",
       "     <use xlink:href=\"#me8e4543a19\" x=\"143.057678\" y=\"75.767501\" style=\"fill: #1f77b4; stroke: #1f77b4\"/>\n",
       "     <use xlink:href=\"#me8e4543a19\" x=\"100.556886\" y=\"58.270042\" style=\"fill: #1f77b4; stroke: #1f77b4\"/>\n",
       "     <use xlink:href=\"#me8e4543a19\" x=\"116.803929\" y=\"66.467591\" style=\"fill: #1f77b4; stroke: #1f77b4\"/>\n",
       "     <use xlink:href=\"#me8e4543a19\" x=\"100.965344\" y=\"49.450844\" style=\"fill: #1f77b4; stroke: #1f77b4\"/>\n",
       "     <use xlink:href=\"#me8e4543a19\" x=\"139.416397\" y=\"72.900611\" style=\"fill: #1f77b4; stroke: #1f77b4\"/>\n",
       "     <use xlink:href=\"#me8e4543a19\" x=\"135.2027\" y=\"77.293167\" style=\"fill: #1f77b4; stroke: #1f77b4\"/>\n",
       "     <use xlink:href=\"#me8e4543a19\" x=\"97.734725\" y=\"46.516625\" style=\"fill: #1f77b4; stroke: #1f77b4\"/>\n",
       "     <use xlink:href=\"#me8e4543a19\" x=\"132.84626\" y=\"58.024355\" style=\"fill: #1f77b4; stroke: #1f77b4\"/>\n",
       "     <use xlink:href=\"#me8e4543a19\" x=\"122.606278\" y=\"91.514598\" style=\"fill: #1f77b4; stroke: #1f77b4\"/>\n",
       "     <use xlink:href=\"#me8e4543a19\" x=\"174.081699\" y=\"99.34906\" style=\"fill: #1f77b4; stroke: #1f77b4\"/>\n",
       "     <use xlink:href=\"#me8e4543a19\" x=\"147.34066\" y=\"70.406465\" style=\"fill: #1f77b4; stroke: #1f77b4\"/>\n",
       "     <use xlink:href=\"#me8e4543a19\" x=\"147.742163\" y=\"83.088701\" style=\"fill: #1f77b4; stroke: #1f77b4\"/>\n",
       "     <use xlink:href=\"#me8e4543a19\" x=\"113.964279\" y=\"54.974404\" style=\"fill: #1f77b4; stroke: #1f77b4\"/>\n",
       "     <use xlink:href=\"#me8e4543a19\" x=\"116.164011\" y=\"46.969169\" style=\"fill: #1f77b4; stroke: #1f77b4\"/>\n",
       "     <use xlink:href=\"#me8e4543a19\" x=\"129.03058\" y=\"64.714277\" style=\"fill: #1f77b4; stroke: #1f77b4\"/>\n",
       "     <use xlink:href=\"#me8e4543a19\" x=\"152.367499\" y=\"100.036212\" style=\"fill: #1f77b4; stroke: #1f77b4\"/>\n",
       "     <use xlink:href=\"#me8e4543a19\" x=\"121.825145\" y=\"67.47446\" style=\"fill: #1f77b4; stroke: #1f77b4\"/>\n",
       "     <use xlink:href=\"#me8e4543a19\" x=\"183.447116\" y=\"103.354211\" style=\"fill: #1f77b4; stroke: #1f77b4\"/>\n",
       "     <use xlink:href=\"#me8e4543a19\" x=\"124.911603\" y=\"67.109663\" style=\"fill: #1f77b4; stroke: #1f77b4\"/>\n",
       "     <use xlink:href=\"#me8e4543a19\" x=\"156.396498\" y=\"89.837807\" style=\"fill: #1f77b4; stroke: #1f77b4\"/>\n",
       "     <use xlink:href=\"#me8e4543a19\" x=\"119.438173\" y=\"83.008694\" style=\"fill: #1f77b4; stroke: #1f77b4\"/>\n",
       "     <use xlink:href=\"#me8e4543a19\" x=\"122.045711\" y=\"60.430242\" style=\"fill: #1f77b4; stroke: #1f77b4\"/>\n",
       "     <use xlink:href=\"#me8e4543a19\" x=\"114.608975\" y=\"72.364916\" style=\"fill: #1f77b4; stroke: #1f77b4\"/>\n",
       "     <use xlink:href=\"#me8e4543a19\" x=\"124.80395\" y=\"78.330444\" style=\"fill: #1f77b4; stroke: #1f77b4\"/>\n",
       "     <use xlink:href=\"#me8e4543a19\" x=\"153.933941\" y=\"84.726479\" style=\"fill: #1f77b4; stroke: #1f77b4\"/>\n",
       "     <use xlink:href=\"#me8e4543a19\" x=\"93.72863\" y=\"61.179034\" style=\"fill: #1f77b4; stroke: #1f77b4\"/>\n",
       "     <use xlink:href=\"#me8e4543a19\" x=\"153.837304\" y=\"85.88816\" style=\"fill: #1f77b4; stroke: #1f77b4\"/>\n",
       "     <use xlink:href=\"#me8e4543a19\" x=\"143.024664\" y=\"76.709209\" style=\"fill: #1f77b4; stroke: #1f77b4\"/>\n",
       "     <use xlink:href=\"#me8e4543a19\" x=\"170.701137\" y=\"106.517481\" style=\"fill: #1f77b4; stroke: #1f77b4\"/>\n",
       "     <use xlink:href=\"#me8e4543a19\" x=\"135.620294\" y=\"69.417568\" style=\"fill: #1f77b4; stroke: #1f77b4\"/>\n",
       "     <use xlink:href=\"#me8e4543a19\" x=\"101.101781\" y=\"68.362784\" style=\"fill: #1f77b4; stroke: #1f77b4\"/>\n",
       "     <use xlink:href=\"#me8e4543a19\" x=\"105.682283\" y=\"64.999402\" style=\"fill: #1f77b4; stroke: #1f77b4\"/>\n",
       "     <use xlink:href=\"#me8e4543a19\" x=\"108.880245\" y=\"40.670867\" style=\"fill: #1f77b4; stroke: #1f77b4\"/>\n",
       "     <use xlink:href=\"#me8e4543a19\" x=\"137.216155\" y=\"91.349999\" style=\"fill: #1f77b4; stroke: #1f77b4\"/>\n",
       "     <use xlink:href=\"#me8e4543a19\" x=\"152.335296\" y=\"85.838646\" style=\"fill: #1f77b4; stroke: #1f77b4\"/>\n",
       "     <use xlink:href=\"#me8e4543a19\" x=\"180.642825\" y=\"110.426847\" style=\"fill: #1f77b4; stroke: #1f77b4\"/>\n",
       "     <use xlink:href=\"#me8e4543a19\" x=\"137.746309\" y=\"72.96976\" style=\"fill: #1f77b4; stroke: #1f77b4\"/>\n",
       "     <use xlink:href=\"#me8e4543a19\" x=\"121.284944\" y=\"55.621865\" style=\"fill: #1f77b4; stroke: #1f77b4\"/>\n",
       "     <use xlink:href=\"#me8e4543a19\" x=\"113.209583\" y=\"59.793111\" style=\"fill: #1f77b4; stroke: #1f77b4\"/>\n",
       "     <use xlink:href=\"#me8e4543a19\" x=\"84.673963\" y=\"39.047086\" style=\"fill: #1f77b4; stroke: #1f77b4\"/>\n",
       "     <use xlink:href=\"#me8e4543a19\" x=\"163.316887\" y=\"87.578177\" style=\"fill: #1f77b4; stroke: #1f77b4\"/>\n",
       "     <use xlink:href=\"#me8e4543a19\" x=\"157.3732\" y=\"93.485978\" style=\"fill: #1f77b4; stroke: #1f77b4\"/>\n",
       "     <use xlink:href=\"#me8e4543a19\" x=\"127.743336\" y=\"72.933083\" style=\"fill: #1f77b4; stroke: #1f77b4\"/>\n",
       "     <use xlink:href=\"#me8e4543a19\" x=\"148.196358\" y=\"94.215409\" style=\"fill: #1f77b4; stroke: #1f77b4\"/>\n",
       "     <use xlink:href=\"#me8e4543a19\" x=\"123.119111\" y=\"68.108906\" style=\"fill: #1f77b4; stroke: #1f77b4\"/>\n",
       "     <use xlink:href=\"#me8e4543a19\" x=\"48.65185\" y=\"18.219966\" style=\"fill: #1f77b4; stroke: #1f77b4\"/>\n",
       "     <use xlink:href=\"#me8e4543a19\" x=\"144.14074\" y=\"88.828305\" style=\"fill: #1f77b4; stroke: #1f77b4\"/>\n",
       "     <use xlink:href=\"#me8e4543a19\" x=\"132.446491\" y=\"76.803011\" style=\"fill: #1f77b4; stroke: #1f77b4\"/>\n",
       "     <use xlink:href=\"#me8e4543a19\" x=\"169.600558\" y=\"109.206842\" style=\"fill: #1f77b4; stroke: #1f77b4\"/>\n",
       "     <use xlink:href=\"#me8e4543a19\" x=\"150.822462\" y=\"81.029078\" style=\"fill: #1f77b4; stroke: #1f77b4\"/>\n",
       "     <use xlink:href=\"#me8e4543a19\" x=\"135.851576\" y=\"82.059568\" style=\"fill: #1f77b4; stroke: #1f77b4\"/>\n",
       "     <use xlink:href=\"#me8e4543a19\" x=\"91.006529\" y=\"46.420666\" style=\"fill: #1f77b4; stroke: #1f77b4\"/>\n",
       "     <use xlink:href=\"#me8e4543a19\" x=\"147.857293\" y=\"83.439866\" style=\"fill: #1f77b4; stroke: #1f77b4\"/>\n",
       "     <use xlink:href=\"#me8e4543a19\" x=\"127.830739\" y=\"76.019278\" style=\"fill: #1f77b4; stroke: #1f77b4\"/>\n",
       "     <use xlink:href=\"#me8e4543a19\" x=\"147.0778\" y=\"74.815981\" style=\"fill: #1f77b4; stroke: #1f77b4\"/>\n",
       "     <use xlink:href=\"#me8e4543a19\" x=\"156.856414\" y=\"80.07149\" style=\"fill: #1f77b4; stroke: #1f77b4\"/>\n",
       "     <use xlink:href=\"#me8e4543a19\" x=\"108.721152\" y=\"63.031345\" style=\"fill: #1f77b4; stroke: #1f77b4\"/>\n",
       "     <use xlink:href=\"#me8e4543a19\" x=\"162.785919\" y=\"85.881401\" style=\"fill: #1f77b4; stroke: #1f77b4\"/>\n",
       "     <use xlink:href=\"#me8e4543a19\" x=\"117.289031\" y=\"51.443743\" style=\"fill: #1f77b4; stroke: #1f77b4\"/>\n",
       "     <use xlink:href=\"#me8e4543a19\" x=\"189.881528\" y=\"116.174889\" style=\"fill: #1f77b4; stroke: #1f77b4\"/>\n",
       "     <use xlink:href=\"#me8e4543a19\" x=\"168.88695\" y=\"105.265966\" style=\"fill: #1f77b4; stroke: #1f77b4\"/>\n",
       "     <use xlink:href=\"#me8e4543a19\" x=\"127.526706\" y=\"79.167305\" style=\"fill: #1f77b4; stroke: #1f77b4\"/>\n",
       "     <use xlink:href=\"#me8e4543a19\" x=\"138.908203\" y=\"67.838986\" style=\"fill: #1f77b4; stroke: #1f77b4\"/>\n",
       "     <use xlink:href=\"#me8e4543a19\" x=\"113.97827\" y=\"60.458246\" style=\"fill: #1f77b4; stroke: #1f77b4\"/>\n",
       "     <use xlink:href=\"#me8e4543a19\" x=\"122.193471\" y=\"51.177663\" style=\"fill: #1f77b4; stroke: #1f77b4\"/>\n",
       "     <use xlink:href=\"#me8e4543a19\" x=\"163.488219\" y=\"88.992131\" style=\"fill: #1f77b4; stroke: #1f77b4\"/>\n",
       "     <use xlink:href=\"#me8e4543a19\" x=\"221.727415\" y=\"117.448255\" style=\"fill: #1f77b4; stroke: #1f77b4\"/>\n",
       "     <use xlink:href=\"#me8e4543a19\" x=\"104.2598\" y=\"65.612564\" style=\"fill: #1f77b4; stroke: #1f77b4\"/>\n",
       "     <use xlink:href=\"#me8e4543a19\" x=\"158.678658\" y=\"92.35634\" style=\"fill: #1f77b4; stroke: #1f77b4\"/>\n",
       "     <use xlink:href=\"#me8e4543a19\" x=\"147.701063\" y=\"91.040873\" style=\"fill: #1f77b4; stroke: #1f77b4\"/>\n",
       "     <use xlink:href=\"#me8e4543a19\" x=\"153.091877\" y=\"89.531192\" style=\"fill: #1f77b4; stroke: #1f77b4\"/>\n",
       "     <use xlink:href=\"#me8e4543a19\" x=\"190.28964\" y=\"114.667318\" style=\"fill: #1f77b4; stroke: #1f77b4\"/>\n",
       "     <use xlink:href=\"#me8e4543a19\" x=\"206.365362\" y=\"136.922727\" style=\"fill: #1f77b4; stroke: #1f77b4\"/>\n",
       "     <use xlink:href=\"#me8e4543a19\" x=\"111.550838\" y=\"56.272347\" style=\"fill: #1f77b4; stroke: #1f77b4\"/>\n",
       "     <use xlink:href=\"#me8e4543a19\" x=\"147.436189\" y=\"73.897786\" style=\"fill: #1f77b4; stroke: #1f77b4\"/>\n",
       "     <use xlink:href=\"#me8e4543a19\" x=\"147.890571\" y=\"74.775976\" style=\"fill: #1f77b4; stroke: #1f77b4\"/>\n",
       "     <use xlink:href=\"#me8e4543a19\" x=\"100.598853\" y=\"53.557329\" style=\"fill: #1f77b4; stroke: #1f77b4\"/>\n",
       "     <use xlink:href=\"#me8e4543a19\" x=\"136.038331\" y=\"84.197899\" style=\"fill: #1f77b4; stroke: #1f77b4\"/>\n",
       "     <use xlink:href=\"#me8e4543a19\" x=\"138.615688\" y=\"74.001233\" style=\"fill: #1f77b4; stroke: #1f77b4\"/>\n",
       "     <use xlink:href=\"#me8e4543a19\" x=\"154.315549\" y=\"82.516173\" style=\"fill: #1f77b4; stroke: #1f77b4\"/>\n",
       "     <use xlink:href=\"#me8e4543a19\" x=\"159.859315\" y=\"83.062589\" style=\"fill: #1f77b4; stroke: #1f77b4\"/>\n",
       "     <use xlink:href=\"#me8e4543a19\" x=\"152.903772\" y=\"96.394878\" style=\"fill: #1f77b4; stroke: #1f77b4\"/>\n",
       "     <use xlink:href=\"#me8e4543a19\" x=\"109.365668\" y=\"49.341706\" style=\"fill: #1f77b4; stroke: #1f77b4\"/>\n",
       "     <use xlink:href=\"#me8e4543a19\" x=\"144.887819\" y=\"82.38166\" style=\"fill: #1f77b4; stroke: #1f77b4\"/>\n",
       "     <use xlink:href=\"#me8e4543a19\" x=\"110.127529\" y=\"48.374721\" style=\"fill: #1f77b4; stroke: #1f77b4\"/>\n",
       "     <use xlink:href=\"#me8e4543a19\" x=\"138.397293\" y=\"82.828385\" style=\"fill: #1f77b4; stroke: #1f77b4\"/>\n",
       "     <use xlink:href=\"#me8e4543a19\" x=\"118.489469\" y=\"61.033789\" style=\"fill: #1f77b4; stroke: #1f77b4\"/>\n",
       "     <use xlink:href=\"#me8e4543a19\" x=\"153.167804\" y=\"96.055531\" style=\"fill: #1f77b4; stroke: #1f77b4\"/>\n",
       "     <use xlink:href=\"#me8e4543a19\" x=\"85.462942\" y=\"40.348672\" style=\"fill: #1f77b4; stroke: #1f77b4\"/>\n",
       "     <use xlink:href=\"#me8e4543a19\" x=\"153.258454\" y=\"88.202511\" style=\"fill: #1f77b4; stroke: #1f77b4\"/>\n",
       "     <use xlink:href=\"#me8e4543a19\" x=\"169.094182\" y=\"95.743623\" style=\"fill: #1f77b4; stroke: #1f77b4\"/>\n",
       "     <use xlink:href=\"#me8e4543a19\" x=\"94.627521\" y=\"45.631624\" style=\"fill: #1f77b4; stroke: #1f77b4\"/>\n",
       "     <use xlink:href=\"#me8e4543a19\" x=\"114.762639\" y=\"64.186614\" style=\"fill: #1f77b4; stroke: #1f77b4\"/>\n",
       "     <use xlink:href=\"#me8e4543a19\" x=\"187.964274\" y=\"113.007768\" style=\"fill: #1f77b4; stroke: #1f77b4\"/>\n",
       "     <use xlink:href=\"#me8e4543a19\" x=\"104.510389\" y=\"55.9202\" style=\"fill: #1f77b4; stroke: #1f77b4\"/>\n",
       "     <use xlink:href=\"#me8e4543a19\" x=\"119.509196\" y=\"62.409388\" style=\"fill: #1f77b4; stroke: #1f77b4\"/>\n",
       "     <use xlink:href=\"#me8e4543a19\" x=\"96.740179\" y=\"56.371142\" style=\"fill: #1f77b4; stroke: #1f77b4\"/>\n",
       "     <use xlink:href=\"#me8e4543a19\" x=\"99.250749\" y=\"63.726063\" style=\"fill: #1f77b4; stroke: #1f77b4\"/>\n",
       "     <use xlink:href=\"#me8e4543a19\" x=\"136.221955\" y=\"52.835942\" style=\"fill: #1f77b4; stroke: #1f77b4\"/>\n",
       "     <use xlink:href=\"#me8e4543a19\" x=\"131.682929\" y=\"58.655127\" style=\"fill: #1f77b4; stroke: #1f77b4\"/>\n",
       "     <use xlink:href=\"#me8e4543a19\" x=\"131.171052\" y=\"79.286419\" style=\"fill: #1f77b4; stroke: #1f77b4\"/>\n",
       "     <use xlink:href=\"#me8e4543a19\" x=\"59.108169\" y=\"25.172956\" style=\"fill: #1f77b4; stroke: #1f77b4\"/>\n",
       "     <use xlink:href=\"#me8e4543a19\" x=\"128.576566\" y=\"57.509306\" style=\"fill: #1f77b4; stroke: #1f77b4\"/>\n",
       "     <use xlink:href=\"#me8e4543a19\" x=\"158.151652\" y=\"88.060774\" style=\"fill: #1f77b4; stroke: #1f77b4\"/>\n",
       "     <use xlink:href=\"#me8e4543a19\" x=\"143.230103\" y=\"75.422589\" style=\"fill: #1f77b4; stroke: #1f77b4\"/>\n",
       "     <use xlink:href=\"#me8e4543a19\" x=\"154.429157\" y=\"101.550496\" style=\"fill: #1f77b4; stroke: #1f77b4\"/>\n",
       "     <use xlink:href=\"#me8e4543a19\" x=\"134.077483\" y=\"85.53408\" style=\"fill: #1f77b4; stroke: #1f77b4\"/>\n",
       "     <use xlink:href=\"#me8e4543a19\" x=\"129.250169\" y=\"81.678554\" style=\"fill: #1f77b4; stroke: #1f77b4\"/>\n",
       "     <use xlink:href=\"#me8e4543a19\" x=\"136.402281\" y=\"83.477807\" style=\"fill: #1f77b4; stroke: #1f77b4\"/>\n",
       "     <use xlink:href=\"#me8e4543a19\" x=\"113.32407\" y=\"73.187037\" style=\"fill: #1f77b4; stroke: #1f77b4\"/>\n",
       "     <use xlink:href=\"#me8e4543a19\" x=\"109.519988\" y=\"53.05428\" style=\"fill: #1f77b4; stroke: #1f77b4\"/>\n",
       "     <use xlink:href=\"#me8e4543a19\" x=\"118.974823\" y=\"61.658611\" style=\"fill: #1f77b4; stroke: #1f77b4\"/>\n",
       "     <use xlink:href=\"#me8e4543a19\" x=\"83.629214\" y=\"42.529372\" style=\"fill: #1f77b4; stroke: #1f77b4\"/>\n",
       "     <use xlink:href=\"#me8e4543a19\" x=\"87.309568\" y=\"27.558126\" style=\"fill: #1f77b4; stroke: #1f77b4\"/>\n",
       "     <use xlink:href=\"#me8e4543a19\" x=\"147.903234\" y=\"91.296168\" style=\"fill: #1f77b4; stroke: #1f77b4\"/>\n",
       "     <use xlink:href=\"#me8e4543a19\" x=\"185.028701\" y=\"110.121189\" style=\"fill: #1f77b4; stroke: #1f77b4\"/>\n",
       "     <use xlink:href=\"#me8e4543a19\" x=\"118.546993\" y=\"76.445794\" style=\"fill: #1f77b4; stroke: #1f77b4\"/>\n",
       "     <use xlink:href=\"#me8e4543a19\" x=\"172.984332\" y=\"100.997066\" style=\"fill: #1f77b4; stroke: #1f77b4\"/>\n",
       "     <use xlink:href=\"#me8e4543a19\" x=\"114.639431\" y=\"69.889987\" style=\"fill: #1f77b4; stroke: #1f77b4\"/>\n",
       "     <use xlink:href=\"#me8e4543a19\" x=\"146.265494\" y=\"68.341234\" style=\"fill: #1f77b4; stroke: #1f77b4\"/>\n",
       "     <use xlink:href=\"#me8e4543a19\" x=\"148.227685\" y=\"91.769516\" style=\"fill: #1f77b4; stroke: #1f77b4\"/>\n",
       "     <use xlink:href=\"#me8e4543a19\" x=\"140.835689\" y=\"69.730966\" style=\"fill: #1f77b4; stroke: #1f77b4\"/>\n",
       "     <use xlink:href=\"#me8e4543a19\" x=\"136.127087\" y=\"71.188344\" style=\"fill: #1f77b4; stroke: #1f77b4\"/>\n",
       "     <use xlink:href=\"#me8e4543a19\" x=\"164.842129\" y=\"97.488557\" style=\"fill: #1f77b4; stroke: #1f77b4\"/>\n",
       "     <use xlink:href=\"#me8e4543a19\" x=\"127.792268\" y=\"72.136295\" style=\"fill: #1f77b4; stroke: #1f77b4\"/>\n",
       "     <use xlink:href=\"#me8e4543a19\" x=\"105.14584\" y=\"65.348026\" style=\"fill: #1f77b4; stroke: #1f77b4\"/>\n",
       "     <use xlink:href=\"#me8e4543a19\" x=\"127.774669\" y=\"79.177061\" style=\"fill: #1f77b4; stroke: #1f77b4\"/>\n",
       "     <use xlink:href=\"#me8e4543a19\" x=\"191.965499\" y=\"95.32762\" style=\"fill: #1f77b4; stroke: #1f77b4\"/>\n",
       "     <use xlink:href=\"#me8e4543a19\" x=\"115.105991\" y=\"76.634792\" style=\"fill: #1f77b4; stroke: #1f77b4\"/>\n",
       "     <use xlink:href=\"#me8e4543a19\" x=\"109.371631\" y=\"70.939894\" style=\"fill: #1f77b4; stroke: #1f77b4\"/>\n",
       "     <use xlink:href=\"#me8e4543a19\" x=\"147.672081\" y=\"72.740986\" style=\"fill: #1f77b4; stroke: #1f77b4\"/>\n",
       "     <use xlink:href=\"#me8e4543a19\" x=\"111.832564\" y=\"60.694413\" style=\"fill: #1f77b4; stroke: #1f77b4\"/>\n",
       "     <use xlink:href=\"#me8e4543a19\" x=\"172.437484\" y=\"85.017935\" style=\"fill: #1f77b4; stroke: #1f77b4\"/>\n",
       "     <use xlink:href=\"#me8e4543a19\" x=\"137.623953\" y=\"61.898661\" style=\"fill: #1f77b4; stroke: #1f77b4\"/>\n",
       "     <use xlink:href=\"#me8e4543a19\" x=\"146.875465\" y=\"73.210779\" style=\"fill: #1f77b4; stroke: #1f77b4\"/>\n",
       "     <use xlink:href=\"#me8e4543a19\" x=\"113.101885\" y=\"57.238508\" style=\"fill: #1f77b4; stroke: #1f77b4\"/>\n",
       "     <use xlink:href=\"#me8e4543a19\" x=\"120.222302\" y=\"76.42528\" style=\"fill: #1f77b4; stroke: #1f77b4\"/>\n",
       "     <use xlink:href=\"#me8e4543a19\" x=\"146.794643\" y=\"87.935049\" style=\"fill: #1f77b4; stroke: #1f77b4\"/>\n",
       "     <use xlink:href=\"#me8e4543a19\" x=\"150.692824\" y=\"66.994957\" style=\"fill: #1f77b4; stroke: #1f77b4\"/>\n",
       "     <use xlink:href=\"#me8e4543a19\" x=\"165.755649\" y=\"95.881673\" style=\"fill: #1f77b4; stroke: #1f77b4\"/>\n",
       "     <use xlink:href=\"#me8e4543a19\" x=\"130.495694\" y=\"69.375864\" style=\"fill: #1f77b4; stroke: #1f77b4\"/>\n",
       "     <use xlink:href=\"#me8e4543a19\" x=\"171.337562\" y=\"105.118205\" style=\"fill: #1f77b4; stroke: #1f77b4\"/>\n",
       "     <use xlink:href=\"#me8e4543a19\" x=\"119.277363\" y=\"59.308718\" style=\"fill: #1f77b4; stroke: #1f77b4\"/>\n",
       "     <use xlink:href=\"#me8e4543a19\" x=\"113.040316\" y=\"53.512345\" style=\"fill: #1f77b4; stroke: #1f77b4\"/>\n",
       "     <use xlink:href=\"#me8e4543a19\" x=\"177.095872\" y=\"118.24493\" style=\"fill: #1f77b4; stroke: #1f77b4\"/>\n",
       "     <use xlink:href=\"#me8e4543a19\" x=\"127.508783\" y=\"76.363843\" style=\"fill: #1f77b4; stroke: #1f77b4\"/>\n",
       "     <use xlink:href=\"#me8e4543a19\" x=\"149.963623\" y=\"96.024329\" style=\"fill: #1f77b4; stroke: #1f77b4\"/>\n",
       "     <use xlink:href=\"#me8e4543a19\" x=\"111.539643\" y=\"78.228058\" style=\"fill: #1f77b4; stroke: #1f77b4\"/>\n",
       "     <use xlink:href=\"#me8e4543a19\" x=\"116.143287\" y=\"60.150292\" style=\"fill: #1f77b4; stroke: #1f77b4\"/>\n",
       "     <use xlink:href=\"#me8e4543a19\" x=\"130.757701\" y=\"88.030639\" style=\"fill: #1f77b4; stroke: #1f77b4\"/>\n",
       "     <use xlink:href=\"#me8e4543a19\" x=\"144.743056\" y=\"82.018632\" style=\"fill: #1f77b4; stroke: #1f77b4\"/>\n",
       "     <use xlink:href=\"#me8e4543a19\" x=\"142.314633\" y=\"81.098953\" style=\"fill: #1f77b4; stroke: #1f77b4\"/>\n",
       "     <use xlink:href=\"#me8e4543a19\" x=\"112.831037\" y=\"62.785326\" style=\"fill: #1f77b4; stroke: #1f77b4\"/>\n",
       "     <use xlink:href=\"#me8e4543a19\" x=\"126.876166\" y=\"76.820691\" style=\"fill: #1f77b4; stroke: #1f77b4\"/>\n",
       "     <use xlink:href=\"#me8e4543a19\" x=\"139.723523\" y=\"77.191391\" style=\"fill: #1f77b4; stroke: #1f77b4\"/>\n",
       "     <use xlink:href=\"#me8e4543a19\" x=\"121.770906\" y=\"76.18643\" style=\"fill: #1f77b4; stroke: #1f77b4\"/>\n",
       "     <use xlink:href=\"#me8e4543a19\" x=\"136.557081\" y=\"71.193251\" style=\"fill: #1f77b4; stroke: #1f77b4\"/>\n",
       "     <use xlink:href=\"#me8e4543a19\" x=\"148.667851\" y=\"71.801821\" style=\"fill: #1f77b4; stroke: #1f77b4\"/>\n",
       "     <use xlink:href=\"#me8e4543a19\" x=\"110.716223\" y=\"61.192256\" style=\"fill: #1f77b4; stroke: #1f77b4\"/>\n",
       "     <use xlink:href=\"#me8e4543a19\" x=\"109.389707\" y=\"58.538663\" style=\"fill: #1f77b4; stroke: #1f77b4\"/>\n",
       "     <use xlink:href=\"#me8e4543a19\" x=\"152.672428\" y=\"70.760432\" style=\"fill: #1f77b4; stroke: #1f77b4\"/>\n",
       "     <use xlink:href=\"#me8e4543a19\" x=\"165.917162\" y=\"94.345498\" style=\"fill: #1f77b4; stroke: #1f77b4\"/>\n",
       "     <use xlink:href=\"#me8e4543a19\" x=\"163.305226\" y=\"93.989504\" style=\"fill: #1f77b4; stroke: #1f77b4\"/>\n",
       "     <use xlink:href=\"#me8e4543a19\" x=\"141.505429\" y=\"71.637229\" style=\"fill: #1f77b4; stroke: #1f77b4\"/>\n",
       "     <use xlink:href=\"#me8e4543a19\" x=\"90.314477\" y=\"35.504018\" style=\"fill: #1f77b4; stroke: #1f77b4\"/>\n",
       "     <use xlink:href=\"#me8e4543a19\" x=\"150.588523\" y=\"92.067722\" style=\"fill: #1f77b4; stroke: #1f77b4\"/>\n",
       "     <use xlink:href=\"#me8e4543a19\" x=\"159.75758\" y=\"80.788036\" style=\"fill: #1f77b4; stroke: #1f77b4\"/>\n",
       "     <use xlink:href=\"#me8e4543a19\" x=\"120.79094\" y=\"69.061206\" style=\"fill: #1f77b4; stroke: #1f77b4\"/>\n",
       "     <use xlink:href=\"#me8e4543a19\" x=\"87.274349\" y=\"54.693249\" style=\"fill: #1f77b4; stroke: #1f77b4\"/>\n",
       "     <use xlink:href=\"#me8e4543a19\" x=\"128.938906\" y=\"73.384234\" style=\"fill: #1f77b4; stroke: #1f77b4\"/>\n",
       "     <use xlink:href=\"#me8e4543a19\" x=\"44.18196\" y=\"23.817003\" style=\"fill: #1f77b4; stroke: #1f77b4\"/>\n",
       "     <use xlink:href=\"#me8e4543a19\" x=\"92.612173\" y=\"52.263583\" style=\"fill: #1f77b4; stroke: #1f77b4\"/>\n",
       "     <use xlink:href=\"#me8e4543a19\" x=\"164.805013\" y=\"106.857463\" style=\"fill: #1f77b4; stroke: #1f77b4\"/>\n",
       "     <use xlink:href=\"#me8e4543a19\" x=\"139.891311\" y=\"83.672004\" style=\"fill: #1f77b4; stroke: #1f77b4\"/>\n",
       "     <use xlink:href=\"#me8e4543a19\" x=\"126.627817\" y=\"66.751676\" style=\"fill: #1f77b4; stroke: #1f77b4\"/>\n",
       "     <use xlink:href=\"#me8e4543a19\" x=\"159.629883\" y=\"93.830761\" style=\"fill: #1f77b4; stroke: #1f77b4\"/>\n",
       "     <use xlink:href=\"#me8e4543a19\" x=\"121.516419\" y=\"75.761231\" style=\"fill: #1f77b4; stroke: #1f77b4\"/>\n",
       "     <use xlink:href=\"#me8e4543a19\" x=\"147.494318\" y=\"84.910344\" style=\"fill: #1f77b4; stroke: #1f77b4\"/>\n",
       "     <use xlink:href=\"#me8e4543a19\" x=\"122.139899\" y=\"59.01912\" style=\"fill: #1f77b4; stroke: #1f77b4\"/>\n",
       "     <use xlink:href=\"#me8e4543a19\" x=\"140.679458\" y=\"90.171287\" style=\"fill: #1f77b4; stroke: #1f77b4\"/>\n",
       "     <use xlink:href=\"#me8e4543a19\" x=\"163.956871\" y=\"83.739725\" style=\"fill: #1f77b4; stroke: #1f77b4\"/>\n",
       "     <use xlink:href=\"#me8e4543a19\" x=\"100.45905\" y=\"65.6722\" style=\"fill: #1f77b4; stroke: #1f77b4\"/>\n",
       "     <use xlink:href=\"#me8e4543a19\" x=\"112.193699\" y=\"71.174544\" style=\"fill: #1f77b4; stroke: #1f77b4\"/>\n",
       "     <use xlink:href=\"#me8e4543a19\" x=\"101.509579\" y=\"70.275434\" style=\"fill: #1f77b4; stroke: #1f77b4\"/>\n",
       "     <use xlink:href=\"#me8e4543a19\" x=\"99.332005\" y=\"39.973262\" style=\"fill: #1f77b4; stroke: #1f77b4\"/>\n",
       "     <use xlink:href=\"#me8e4543a19\" x=\"163.165593\" y=\"86.530326\" style=\"fill: #1f77b4; stroke: #1f77b4\"/>\n",
       "     <use xlink:href=\"#me8e4543a19\" x=\"135.274308\" y=\"90.43781\" style=\"fill: #1f77b4; stroke: #1f77b4\"/>\n",
       "     <use xlink:href=\"#me8e4543a19\" x=\"165.867334\" y=\"81.177753\" style=\"fill: #1f77b4; stroke: #1f77b4\"/>\n",
       "     <use xlink:href=\"#me8e4543a19\" x=\"125.075277\" y=\"70.191352\" style=\"fill: #1f77b4; stroke: #1f77b4\"/>\n",
       "     <use xlink:href=\"#me8e4543a19\" x=\"105.99451\" y=\"70.818902\" style=\"fill: #1f77b4; stroke: #1f77b4\"/>\n",
       "     <use xlink:href=\"#me8e4543a19\" x=\"183.896462\" y=\"110.483657\" style=\"fill: #1f77b4; stroke: #1f77b4\"/>\n",
       "     <use xlink:href=\"#me8e4543a19\" x=\"167.565011\" y=\"105.203608\" style=\"fill: #1f77b4; stroke: #1f77b4\"/>\n",
       "     <use xlink:href=\"#me8e4543a19\" x=\"162.990178\" y=\"86.971265\" style=\"fill: #1f77b4; stroke: #1f77b4\"/>\n",
       "     <use xlink:href=\"#me8e4543a19\" x=\"140.779812\" y=\"88.453795\" style=\"fill: #1f77b4; stroke: #1f77b4\"/>\n",
       "     <use xlink:href=\"#me8e4543a19\" x=\"97.865415\" y=\"62.368525\" style=\"fill: #1f77b4; stroke: #1f77b4\"/>\n",
       "     <use xlink:href=\"#me8e4543a19\" x=\"169.774161\" y=\"76.453791\" style=\"fill: #1f77b4; stroke: #1f77b4\"/>\n",
       "     <use xlink:href=\"#me8e4543a19\" x=\"123.403603\" y=\"66.760353\" style=\"fill: #1f77b4; stroke: #1f77b4\"/>\n",
       "     <use xlink:href=\"#me8e4543a19\" x=\"132.056098\" y=\"76.646654\" style=\"fill: #1f77b4; stroke: #1f77b4\"/>\n",
       "     <use xlink:href=\"#me8e4543a19\" x=\"142.147256\" y=\"80.536418\" style=\"fill: #1f77b4; stroke: #1f77b4\"/>\n",
       "     <use xlink:href=\"#me8e4543a19\" x=\"146.646247\" y=\"91.368174\" style=\"fill: #1f77b4; stroke: #1f77b4\"/>\n",
       "     <use xlink:href=\"#me8e4543a19\" x=\"147.004336\" y=\"93.732014\" style=\"fill: #1f77b4; stroke: #1f77b4\"/>\n",
       "     <use xlink:href=\"#me8e4543a19\" x=\"144.740248\" y=\"82.836969\" style=\"fill: #1f77b4; stroke: #1f77b4\"/>\n",
       "     <use xlink:href=\"#me8e4543a19\" x=\"133.129532\" y=\"76.208071\" style=\"fill: #1f77b4; stroke: #1f77b4\"/>\n",
       "     <use xlink:href=\"#me8e4543a19\" x=\"169.128907\" y=\"83.423058\" style=\"fill: #1f77b4; stroke: #1f77b4\"/>\n",
       "     <use xlink:href=\"#me8e4543a19\" x=\"141.881407\" y=\"88.413741\" style=\"fill: #1f77b4; stroke: #1f77b4\"/>\n",
       "     <use xlink:href=\"#me8e4543a19\" x=\"146.355667\" y=\"80.854267\" style=\"fill: #1f77b4; stroke: #1f77b4\"/>\n",
       "     <use xlink:href=\"#me8e4543a19\" x=\"126.098144\" y=\"50.327469\" style=\"fill: #1f77b4; stroke: #1f77b4\"/>\n",
       "     <use xlink:href=\"#me8e4543a19\" x=\"108.854134\" y=\"69.346016\" style=\"fill: #1f77b4; stroke: #1f77b4\"/>\n",
       "     <use xlink:href=\"#me8e4543a19\" x=\"180.049946\" y=\"98.815851\" style=\"fill: #1f77b4; stroke: #1f77b4\"/>\n",
       "     <use xlink:href=\"#me8e4543a19\" x=\"105.191598\" y=\"47.420828\" style=\"fill: #1f77b4; stroke: #1f77b4\"/>\n",
       "     <use xlink:href=\"#me8e4543a19\" x=\"128.49484\" y=\"62.792097\" style=\"fill: #1f77b4; stroke: #1f77b4\"/>\n",
       "     <use xlink:href=\"#me8e4543a19\" x=\"95.427674\" y=\"57.457145\" style=\"fill: #1f77b4; stroke: #1f77b4\"/>\n",
       "     <use xlink:href=\"#me8e4543a19\" x=\"174.350606\" y=\"99.761976\" style=\"fill: #1f77b4; stroke: #1f77b4\"/>\n",
       "     <use xlink:href=\"#me8e4543a19\" x=\"144.485458\" y=\"79.324774\" style=\"fill: #1f77b4; stroke: #1f77b4\"/>\n",
       "     <use xlink:href=\"#me8e4543a19\" x=\"136.603811\" y=\"65.608193\" style=\"fill: #1f77b4; stroke: #1f77b4\"/>\n",
       "     <use xlink:href=\"#me8e4543a19\" x=\"144.763119\" y=\"71.189139\" style=\"fill: #1f77b4; stroke: #1f77b4\"/>\n",
       "     <use xlink:href=\"#me8e4543a19\" x=\"128.698232\" y=\"65.888132\" style=\"fill: #1f77b4; stroke: #1f77b4\"/>\n",
       "     <use xlink:href=\"#me8e4543a19\" x=\"184.215942\" y=\"99.720409\" style=\"fill: #1f77b4; stroke: #1f77b4\"/>\n",
       "     <use xlink:href=\"#me8e4543a19\" x=\"207.999307\" y=\"123.197337\" style=\"fill: #1f77b4; stroke: #1f77b4\"/>\n",
       "     <use xlink:href=\"#me8e4543a19\" x=\"101.216633\" y=\"55.334583\" style=\"fill: #1f77b4; stroke: #1f77b4\"/>\n",
       "     <use xlink:href=\"#me8e4543a19\" x=\"168.236662\" y=\"111.899543\" style=\"fill: #1f77b4; stroke: #1f77b4\"/>\n",
       "     <use xlink:href=\"#me8e4543a19\" x=\"175.768533\" y=\"108.921463\" style=\"fill: #1f77b4; stroke: #1f77b4\"/>\n",
       "     <use xlink:href=\"#me8e4543a19\" x=\"143.744099\" y=\"75.915157\" style=\"fill: #1f77b4; stroke: #1f77b4\"/>\n",
       "     <use xlink:href=\"#me8e4543a19\" x=\"96.418272\" y=\"52.52259\" style=\"fill: #1f77b4; stroke: #1f77b4\"/>\n",
       "     <use xlink:href=\"#me8e4543a19\" x=\"130.865792\" y=\"78.457188\" style=\"fill: #1f77b4; stroke: #1f77b4\"/>\n",
       "     <use xlink:href=\"#me8e4543a19\" x=\"135.142459\" y=\"62.521857\" style=\"fill: #1f77b4; stroke: #1f77b4\"/>\n",
       "     <use xlink:href=\"#me8e4543a19\" x=\"129.818594\" y=\"75.64677\" style=\"fill: #1f77b4; stroke: #1f77b4\"/>\n",
       "     <use xlink:href=\"#me8e4543a19\" x=\"117.511782\" y=\"65.170732\" style=\"fill: #1f77b4; stroke: #1f77b4\"/>\n",
       "     <use xlink:href=\"#me8e4543a19\" x=\"137.927133\" y=\"81.578246\" style=\"fill: #1f77b4; stroke: #1f77b4\"/>\n",
       "     <use xlink:href=\"#me8e4543a19\" x=\"123.142225\" y=\"72.919246\" style=\"fill: #1f77b4; stroke: #1f77b4\"/>\n",
       "     <use xlink:href=\"#me8e4543a19\" x=\"130.576895\" y=\"73.214721\" style=\"fill: #1f77b4; stroke: #1f77b4\"/>\n",
       "     <use xlink:href=\"#me8e4543a19\" x=\"125.897245\" y=\"61.123587\" style=\"fill: #1f77b4; stroke: #1f77b4\"/>\n",
       "     <use xlink:href=\"#me8e4543a19\" x=\"94.206983\" y=\"52.917246\" style=\"fill: #1f77b4; stroke: #1f77b4\"/>\n",
       "     <use xlink:href=\"#me8e4543a19\" x=\"157.425491\" y=\"82.101001\" style=\"fill: #1f77b4; stroke: #1f77b4\"/>\n",
       "     <use xlink:href=\"#me8e4543a19\" x=\"71.437447\" y=\"52.647818\" style=\"fill: #1f77b4; stroke: #1f77b4\"/>\n",
       "     <use xlink:href=\"#me8e4543a19\" x=\"144.849553\" y=\"79.019582\" style=\"fill: #1f77b4; stroke: #1f77b4\"/>\n",
       "     <use xlink:href=\"#me8e4543a19\" x=\"107.581002\" y=\"55.328857\" style=\"fill: #1f77b4; stroke: #1f77b4\"/>\n",
       "     <use xlink:href=\"#me8e4543a19\" x=\"135.536818\" y=\"70.876238\" style=\"fill: #1f77b4; stroke: #1f77b4\"/>\n",
       "     <use xlink:href=\"#me8e4543a19\" x=\"103.858443\" y=\"60.659906\" style=\"fill: #1f77b4; stroke: #1f77b4\"/>\n",
       "     <use xlink:href=\"#me8e4543a19\" x=\"113.344693\" y=\"47.60496\" style=\"fill: #1f77b4; stroke: #1f77b4\"/>\n",
       "     <use xlink:href=\"#me8e4543a19\" x=\"67.566605\" y=\"34.820999\" style=\"fill: #1f77b4; stroke: #1f77b4\"/>\n",
       "     <use xlink:href=\"#me8e4543a19\" x=\"160.402451\" y=\"99.639621\" style=\"fill: #1f77b4; stroke: #1f77b4\"/>\n",
       "     <use xlink:href=\"#me8e4543a19\" x=\"172.909953\" y=\"97.806674\" style=\"fill: #1f77b4; stroke: #1f77b4\"/>\n",
       "     <use xlink:href=\"#me8e4543a19\" x=\"161.865776\" y=\"82.179769\" style=\"fill: #1f77b4; stroke: #1f77b4\"/>\n",
       "     <use xlink:href=\"#me8e4543a19\" x=\"115.070536\" y=\"58.396772\" style=\"fill: #1f77b4; stroke: #1f77b4\"/>\n",
       "     <use xlink:href=\"#me8e4543a19\" x=\"161.868746\" y=\"78.615579\" style=\"fill: #1f77b4; stroke: #1f77b4\"/>\n",
       "     <use xlink:href=\"#me8e4543a19\" x=\"132.635574\" y=\"61.024622\" style=\"fill: #1f77b4; stroke: #1f77b4\"/>\n",
       "     <use xlink:href=\"#me8e4543a19\" x=\"137.405783\" y=\"73.972195\" style=\"fill: #1f77b4; stroke: #1f77b4\"/>\n",
       "     <use xlink:href=\"#me8e4543a19\" x=\"148.313727\" y=\"81.373479\" style=\"fill: #1f77b4; stroke: #1f77b4\"/>\n",
       "     <use xlink:href=\"#me8e4543a19\" x=\"121.032687\" y=\"63.898796\" style=\"fill: #1f77b4; stroke: #1f77b4\"/>\n",
       "     <use xlink:href=\"#me8e4543a19\" x=\"158.847215\" y=\"78.302925\" style=\"fill: #1f77b4; stroke: #1f77b4\"/>\n",
       "     <use xlink:href=\"#me8e4543a19\" x=\"132.260673\" y=\"86.735712\" style=\"fill: #1f77b4; stroke: #1f77b4\"/>\n",
       "     <use xlink:href=\"#me8e4543a19\" x=\"148.693594\" y=\"89.157736\" style=\"fill: #1f77b4; stroke: #1f77b4\"/>\n",
       "     <use xlink:href=\"#me8e4543a19\" x=\"130.656425\" y=\"63.040414\" style=\"fill: #1f77b4; stroke: #1f77b4\"/>\n",
       "     <use xlink:href=\"#me8e4543a19\" x=\"96.822468\" y=\"60.818537\" style=\"fill: #1f77b4; stroke: #1f77b4\"/>\n",
       "     <use xlink:href=\"#me8e4543a19\" x=\"158.161641\" y=\"80.665017\" style=\"fill: #1f77b4; stroke: #1f77b4\"/>\n",
       "     <use xlink:href=\"#me8e4543a19\" x=\"129.077231\" y=\"61.297383\" style=\"fill: #1f77b4; stroke: #1f77b4\"/>\n",
       "     <use xlink:href=\"#me8e4543a19\" x=\"94.844655\" y=\"39.283536\" style=\"fill: #1f77b4; stroke: #1f77b4\"/>\n",
       "     <use xlink:href=\"#me8e4543a19\" x=\"149.679715\" y=\"72.159985\" style=\"fill: #1f77b4; stroke: #1f77b4\"/>\n",
       "     <use xlink:href=\"#me8e4543a19\" x=\"99.039923\" y=\"40.973494\" style=\"fill: #1f77b4; stroke: #1f77b4\"/>\n",
       "     <use xlink:href=\"#me8e4543a19\" x=\"161.496197\" y=\"101.554207\" style=\"fill: #1f77b4; stroke: #1f77b4\"/>\n",
       "     <use xlink:href=\"#me8e4543a19\" x=\"108.238154\" y=\"45.418342\" style=\"fill: #1f77b4; stroke: #1f77b4\"/>\n",
       "     <use xlink:href=\"#me8e4543a19\" x=\"130.734588\" y=\"84.594682\" style=\"fill: #1f77b4; stroke: #1f77b4\"/>\n",
       "     <use xlink:href=\"#me8e4543a19\" x=\"119.388563\" y=\"80.805741\" style=\"fill: #1f77b4; stroke: #1f77b4\"/>\n",
       "     <use xlink:href=\"#me8e4543a19\" x=\"96.704761\" y=\"48.545251\" style=\"fill: #1f77b4; stroke: #1f77b4\"/>\n",
       "     <use xlink:href=\"#me8e4543a19\" x=\"153.219479\" y=\"76.605763\" style=\"fill: #1f77b4; stroke: #1f77b4\"/>\n",
       "     <use xlink:href=\"#me8e4543a19\" x=\"145.168083\" y=\"105.900394\" style=\"fill: #1f77b4; stroke: #1f77b4\"/>\n",
       "     <use xlink:href=\"#me8e4543a19\" x=\"96.008786\" y=\"60.907014\" style=\"fill: #1f77b4; stroke: #1f77b4\"/>\n",
       "     <use xlink:href=\"#me8e4543a19\" x=\"107.797259\" y=\"65.557938\" style=\"fill: #1f77b4; stroke: #1f77b4\"/>\n",
       "     <use xlink:href=\"#me8e4543a19\" x=\"138.277264\" y=\"63.208989\" style=\"fill: #1f77b4; stroke: #1f77b4\"/>\n",
       "     <use xlink:href=\"#me8e4543a19\" x=\"96.619662\" y=\"47.379052\" style=\"fill: #1f77b4; stroke: #1f77b4\"/>\n",
       "     <use xlink:href=\"#me8e4543a19\" x=\"152.666172\" y=\"79.107465\" style=\"fill: #1f77b4; stroke: #1f77b4\"/>\n",
       "     <use xlink:href=\"#me8e4543a19\" x=\"87.321112\" y=\"61.477593\" style=\"fill: #1f77b4; stroke: #1f77b4\"/>\n",
       "     <use xlink:href=\"#me8e4543a19\" x=\"154.319015\" y=\"81.719771\" style=\"fill: #1f77b4; stroke: #1f77b4\"/>\n",
       "     <use xlink:href=\"#me8e4543a19\" x=\"160.224355\" y=\"78.422133\" style=\"fill: #1f77b4; stroke: #1f77b4\"/>\n",
       "     <use xlink:href=\"#me8e4543a19\" x=\"112.497058\" y=\"64.353294\" style=\"fill: #1f77b4; stroke: #1f77b4\"/>\n",
       "     <use xlink:href=\"#me8e4543a19\" x=\"129.675437\" y=\"76.286505\" style=\"fill: #1f77b4; stroke: #1f77b4\"/>\n",
       "     <use xlink:href=\"#me8e4543a19\" x=\"182.080165\" y=\"109.390004\" style=\"fill: #1f77b4; stroke: #1f77b4\"/>\n",
       "     <use xlink:href=\"#me8e4543a19\" x=\"141.196352\" y=\"79.714467\" style=\"fill: #1f77b4; stroke: #1f77b4\"/>\n",
       "     <use xlink:href=\"#me8e4543a19\" x=\"136.587808\" y=\"69.992346\" style=\"fill: #1f77b4; stroke: #1f77b4\"/>\n",
       "     <use xlink:href=\"#me8e4543a19\" x=\"114.489394\" y=\"49.358885\" style=\"fill: #1f77b4; stroke: #1f77b4\"/>\n",
       "     <use xlink:href=\"#me8e4543a19\" x=\"159.799557\" y=\"88.951379\" style=\"fill: #1f77b4; stroke: #1f77b4\"/>\n",
       "     <use xlink:href=\"#me8e4543a19\" x=\"124.908547\" y=\"67.973933\" style=\"fill: #1f77b4; stroke: #1f77b4\"/>\n",
       "     <use xlink:href=\"#me8e4543a19\" x=\"141.150978\" y=\"76.7858\" style=\"fill: #1f77b4; stroke: #1f77b4\"/>\n",
       "     <use xlink:href=\"#me8e4543a19\" x=\"132.200084\" y=\"70.651235\" style=\"fill: #1f77b4; stroke: #1f77b4\"/>\n",
       "     <use xlink:href=\"#me8e4543a19\" x=\"104.043004\" y=\"51.834093\" style=\"fill: #1f77b4; stroke: #1f77b4\"/>\n",
       "     <use xlink:href=\"#me8e4543a19\" x=\"107.965727\" y=\"60.566659\" style=\"fill: #1f77b4; stroke: #1f77b4\"/>\n",
       "     <use xlink:href=\"#me8e4543a19\" x=\"133.573219\" y=\"73.783919\" style=\"fill: #1f77b4; stroke: #1f77b4\"/>\n",
       "     <use xlink:href=\"#me8e4543a19\" x=\"134.007452\" y=\"71.27732\" style=\"fill: #1f77b4; stroke: #1f77b4\"/>\n",
       "     <use xlink:href=\"#me8e4543a19\" x=\"138.176179\" y=\"67.15826\" style=\"fill: #1f77b4; stroke: #1f77b4\"/>\n",
       "     <use xlink:href=\"#me8e4543a19\" x=\"122.240938\" y=\"71.51139\" style=\"fill: #1f77b4; stroke: #1f77b4\"/>\n",
       "     <use xlink:href=\"#me8e4543a19\" x=\"151.651465\" y=\"76.18875\" style=\"fill: #1f77b4; stroke: #1f77b4\"/>\n",
       "     <use xlink:href=\"#me8e4543a19\" x=\"125.422054\" y=\"76.03392\" style=\"fill: #1f77b4; stroke: #1f77b4\"/>\n",
       "     <use xlink:href=\"#me8e4543a19\" x=\"132.849042\" y=\"80.892265\" style=\"fill: #1f77b4; stroke: #1f77b4\"/>\n",
       "     <use xlink:href=\"#me8e4543a19\" x=\"149.767584\" y=\"83.241428\" style=\"fill: #1f77b4; stroke: #1f77b4\"/>\n",
       "     <use xlink:href=\"#me8e4543a19\" x=\"113.844631\" y=\"63.060378\" style=\"fill: #1f77b4; stroke: #1f77b4\"/>\n",
       "     <use xlink:href=\"#me8e4543a19\" x=\"138.036383\" y=\"71.181508\" style=\"fill: #1f77b4; stroke: #1f77b4\"/>\n",
       "     <use xlink:href=\"#me8e4543a19\" x=\"158.03531\" y=\"79.597534\" style=\"fill: #1f77b4; stroke: #1f77b4\"/>\n",
       "     <use xlink:href=\"#me8e4543a19\" x=\"144.188987\" y=\"84.831424\" style=\"fill: #1f77b4; stroke: #1f77b4\"/>\n",
       "     <use xlink:href=\"#me8e4543a19\" x=\"134.816497\" y=\"66.310049\" style=\"fill: #1f77b4; stroke: #1f77b4\"/>\n",
       "     <use xlink:href=\"#me8e4543a19\" x=\"125.698947\" y=\"43.749193\" style=\"fill: #1f77b4; stroke: #1f77b4\"/>\n",
       "     <use xlink:href=\"#me8e4543a19\" x=\"116.902588\" y=\"58.587541\" style=\"fill: #1f77b4; stroke: #1f77b4\"/>\n",
       "     <use xlink:href=\"#me8e4543a19\" x=\"112.939257\" y=\"77.670894\" style=\"fill: #1f77b4; stroke: #1f77b4\"/>\n",
       "     <use xlink:href=\"#me8e4543a19\" x=\"188.851433\" y=\"108.433455\" style=\"fill: #1f77b4; stroke: #1f77b4\"/>\n",
       "     <use xlink:href=\"#me8e4543a19\" x=\"133.244532\" y=\"68.653479\" style=\"fill: #1f77b4; stroke: #1f77b4\"/>\n",
       "     <use xlink:href=\"#me8e4543a19\" x=\"146.793253\" y=\"84.350562\" style=\"fill: #1f77b4; stroke: #1f77b4\"/>\n",
       "     <use xlink:href=\"#me8e4543a19\" x=\"196.605678\" y=\"110.017334\" style=\"fill: #1f77b4; stroke: #1f77b4\"/>\n",
       "     <use xlink:href=\"#me8e4543a19\" x=\"105.11558\" y=\"34.60324\" style=\"fill: #1f77b4; stroke: #1f77b4\"/>\n",
       "     <use xlink:href=\"#me8e4543a19\" x=\"140.553608\" y=\"84.260909\" style=\"fill: #1f77b4; stroke: #1f77b4\"/>\n",
       "     <use xlink:href=\"#me8e4543a19\" x=\"156.31326\" y=\"86.698966\" style=\"fill: #1f77b4; stroke: #1f77b4\"/>\n",
       "     <use xlink:href=\"#me8e4543a19\" x=\"167.107628\" y=\"101.411559\" style=\"fill: #1f77b4; stroke: #1f77b4\"/>\n",
       "     <use xlink:href=\"#me8e4543a19\" x=\"170.848856\" y=\"108.642984\" style=\"fill: #1f77b4; stroke: #1f77b4\"/>\n",
       "     <use xlink:href=\"#me8e4543a19\" x=\"107.998822\" y=\"70.629348\" style=\"fill: #1f77b4; stroke: #1f77b4\"/>\n",
       "     <use xlink:href=\"#me8e4543a19\" x=\"160.664783\" y=\"100.995797\" style=\"fill: #1f77b4; stroke: #1f77b4\"/>\n",
       "     <use xlink:href=\"#me8e4543a19\" x=\"107.646349\" y=\"67.360473\" style=\"fill: #1f77b4; stroke: #1f77b4\"/>\n",
       "     <use xlink:href=\"#me8e4543a19\" x=\"77.187029\" y=\"36.198058\" style=\"fill: #1f77b4; stroke: #1f77b4\"/>\n",
       "     <use xlink:href=\"#me8e4543a19\" x=\"98.502933\" y=\"57.508593\" style=\"fill: #1f77b4; stroke: #1f77b4\"/>\n",
       "     <use xlink:href=\"#me8e4543a19\" x=\"115.202294\" y=\"58.688423\" style=\"fill: #1f77b4; stroke: #1f77b4\"/>\n",
       "     <use xlink:href=\"#me8e4543a19\" x=\"174.173514\" y=\"110.324709\" style=\"fill: #1f77b4; stroke: #1f77b4\"/>\n",
       "     <use xlink:href=\"#me8e4543a19\" x=\"93.460279\" y=\"43.546209\" style=\"fill: #1f77b4; stroke: #1f77b4\"/>\n",
       "     <use xlink:href=\"#me8e4543a19\" x=\"113.426815\" y=\"67.702259\" style=\"fill: #1f77b4; stroke: #1f77b4\"/>\n",
       "     <use xlink:href=\"#me8e4543a19\" x=\"138.273266\" y=\"76.786395\" style=\"fill: #1f77b4; stroke: #1f77b4\"/>\n",
       "     <use xlink:href=\"#me8e4543a19\" x=\"153.86122\" y=\"89.603479\" style=\"fill: #1f77b4; stroke: #1f77b4\"/>\n",
       "     <use xlink:href=\"#me8e4543a19\" x=\"137.808592\" y=\"70.585557\" style=\"fill: #1f77b4; stroke: #1f77b4\"/>\n",
       "     <use xlink:href=\"#me8e4543a19\" x=\"127.85909\" y=\"81.564563\" style=\"fill: #1f77b4; stroke: #1f77b4\"/>\n",
       "     <use xlink:href=\"#me8e4543a19\" x=\"123.909145\" y=\"65.341729\" style=\"fill: #1f77b4; stroke: #1f77b4\"/>\n",
       "     <use xlink:href=\"#me8e4543a19\" x=\"163.242121\" y=\"102.84643\" style=\"fill: #1f77b4; stroke: #1f77b4\"/>\n",
       "     <use xlink:href=\"#me8e4543a19\" x=\"183.617853\" y=\"105.809599\" style=\"fill: #1f77b4; stroke: #1f77b4\"/>\n",
       "     <use xlink:href=\"#me8e4543a19\" x=\"168.916356\" y=\"111.749818\" style=\"fill: #1f77b4; stroke: #1f77b4\"/>\n",
       "     <use xlink:href=\"#me8e4543a19\" x=\"145.154261\" y=\"91.310509\" style=\"fill: #1f77b4; stroke: #1f77b4\"/>\n",
       "     <use xlink:href=\"#me8e4543a19\" x=\"168.738694\" y=\"84.632543\" style=\"fill: #1f77b4; stroke: #1f77b4\"/>\n",
       "     <use xlink:href=\"#me8e4543a19\" x=\"160.205933\" y=\"86.709373\" style=\"fill: #1f77b4; stroke: #1f77b4\"/>\n",
       "     <use xlink:href=\"#me8e4543a19\" x=\"174.229016\" y=\"92.756136\" style=\"fill: #1f77b4; stroke: #1f77b4\"/>\n",
       "     <use xlink:href=\"#me8e4543a19\" x=\"138.374907\" y=\"71.686588\" style=\"fill: #1f77b4; stroke: #1f77b4\"/>\n",
       "     <use xlink:href=\"#me8e4543a19\" x=\"171.78805\" y=\"88.222644\" style=\"fill: #1f77b4; stroke: #1f77b4\"/>\n",
       "     <use xlink:href=\"#me8e4543a19\" x=\"112.335465\" y=\"64.846158\" style=\"fill: #1f77b4; stroke: #1f77b4\"/>\n",
       "     <use xlink:href=\"#me8e4543a19\" x=\"119.367879\" y=\"78.683142\" style=\"fill: #1f77b4; stroke: #1f77b4\"/>\n",
       "     <use xlink:href=\"#me8e4543a19\" x=\"186.44159\" y=\"103.944643\" style=\"fill: #1f77b4; stroke: #1f77b4\"/>\n",
       "     <use xlink:href=\"#me8e4543a19\" x=\"111.517524\" y=\"55.698815\" style=\"fill: #1f77b4; stroke: #1f77b4\"/>\n",
       "     <use xlink:href=\"#me8e4543a19\" x=\"114.109659\" y=\"76.624539\" style=\"fill: #1f77b4; stroke: #1f77b4\"/>\n",
       "     <use xlink:href=\"#me8e4543a19\" x=\"137.048744\" y=\"78.949061\" style=\"fill: #1f77b4; stroke: #1f77b4\"/>\n",
       "     <use xlink:href=\"#me8e4543a19\" x=\"127.330547\" y=\"75.167356\" style=\"fill: #1f77b4; stroke: #1f77b4\"/>\n",
       "     <use xlink:href=\"#me8e4543a19\" x=\"96.939302\" y=\"53.546539\" style=\"fill: #1f77b4; stroke: #1f77b4\"/>\n",
       "     <use xlink:href=\"#me8e4543a19\" x=\"144.306311\" y=\"67.480247\" style=\"fill: #1f77b4; stroke: #1f77b4\"/>\n",
       "     <use xlink:href=\"#me8e4543a19\" x=\"111.937169\" y=\"54.129745\" style=\"fill: #1f77b4; stroke: #1f77b4\"/>\n",
       "     <use xlink:href=\"#me8e4543a19\" x=\"103.880411\" y=\"59.808514\" style=\"fill: #1f77b4; stroke: #1f77b4\"/>\n",
       "     <use xlink:href=\"#me8e4543a19\" x=\"151.291065\" y=\"75.325296\" style=\"fill: #1f77b4; stroke: #1f77b4\"/>\n",
       "     <use xlink:href=\"#me8e4543a19\" x=\"130.665223\" y=\"80.901908\" style=\"fill: #1f77b4; stroke: #1f77b4\"/>\n",
       "     <use xlink:href=\"#me8e4543a19\" x=\"98.183518\" y=\"68.270513\" style=\"fill: #1f77b4; stroke: #1f77b4\"/>\n",
       "     <use xlink:href=\"#me8e4543a19\" x=\"115.76672\" y=\"47.067722\" style=\"fill: #1f77b4; stroke: #1f77b4\"/>\n",
       "     <use xlink:href=\"#me8e4543a19\" x=\"131.656598\" y=\"60.210581\" style=\"fill: #1f77b4; stroke: #1f77b4\"/>\n",
       "     <use xlink:href=\"#me8e4543a19\" x=\"136.476676\" y=\"77.734626\" style=\"fill: #1f77b4; stroke: #1f77b4\"/>\n",
       "     <use xlink:href=\"#me8e4543a19\" x=\"178.279218\" y=\"87.25191\" style=\"fill: #1f77b4; stroke: #1f77b4\"/>\n",
       "     <use xlink:href=\"#me8e4543a19\" x=\"126.762787\" y=\"71.816401\" style=\"fill: #1f77b4; stroke: #1f77b4\"/>\n",
       "     <use xlink:href=\"#me8e4543a19\" x=\"131.309005\" y=\"65.547448\" style=\"fill: #1f77b4; stroke: #1f77b4\"/>\n",
       "     <use xlink:href=\"#me8e4543a19\" x=\"170.673883\" y=\"95.514313\" style=\"fill: #1f77b4; stroke: #1f77b4\"/>\n",
       "     <use xlink:href=\"#me8e4543a19\" x=\"106.652131\" y=\"51.518056\" style=\"fill: #1f77b4; stroke: #1f77b4\"/>\n",
       "     <use xlink:href=\"#me8e4543a19\" x=\"140.195486\" y=\"58.979422\" style=\"fill: #1f77b4; stroke: #1f77b4\"/>\n",
       "     <use xlink:href=\"#me8e4543a19\" x=\"111.561732\" y=\"48.848092\" style=\"fill: #1f77b4; stroke: #1f77b4\"/>\n",
       "     <use xlink:href=\"#me8e4543a19\" x=\"125.645753\" y=\"71.313474\" style=\"fill: #1f77b4; stroke: #1f77b4\"/>\n",
       "     <use xlink:href=\"#me8e4543a19\" x=\"150.203328\" y=\"95.765921\" style=\"fill: #1f77b4; stroke: #1f77b4\"/>\n",
       "     <use xlink:href=\"#me8e4543a19\" x=\"150.329932\" y=\"80.86031\" style=\"fill: #1f77b4; stroke: #1f77b4\"/>\n",
       "     <use xlink:href=\"#me8e4543a19\" x=\"138.57282\" y=\"79.42492\" style=\"fill: #1f77b4; stroke: #1f77b4\"/>\n",
       "     <use xlink:href=\"#me8e4543a19\" x=\"145.215636\" y=\"77.412304\" style=\"fill: #1f77b4; stroke: #1f77b4\"/>\n",
       "     <use xlink:href=\"#me8e4543a19\" x=\"156.361838\" y=\"106.73976\" style=\"fill: #1f77b4; stroke: #1f77b4\"/>\n",
       "     <use xlink:href=\"#me8e4543a19\" x=\"128.931282\" y=\"64.663572\" style=\"fill: #1f77b4; stroke: #1f77b4\"/>\n",
       "     <use xlink:href=\"#me8e4543a19\" x=\"148.29589\" y=\"98.48067\" style=\"fill: #1f77b4; stroke: #1f77b4\"/>\n",
       "     <use xlink:href=\"#me8e4543a19\" x=\"147.747545\" y=\"71.48047\" style=\"fill: #1f77b4; stroke: #1f77b4\"/>\n",
       "     <use xlink:href=\"#me8e4543a19\" x=\"107.240031\" y=\"56.845321\" style=\"fill: #1f77b4; stroke: #1f77b4\"/>\n",
       "     <use xlink:href=\"#me8e4543a19\" x=\"85.300448\" y=\"63.731388\" style=\"fill: #1f77b4; stroke: #1f77b4\"/>\n",
       "     <use xlink:href=\"#me8e4543a19\" x=\"142.097379\" y=\"77.771449\" style=\"fill: #1f77b4; stroke: #1f77b4\"/>\n",
       "     <use xlink:href=\"#me8e4543a19\" x=\"104.532112\" y=\"48.449719\" style=\"fill: #1f77b4; stroke: #1f77b4\"/>\n",
       "     <use xlink:href=\"#me8e4543a19\" x=\"102.587542\" y=\"60.558721\" style=\"fill: #1f77b4; stroke: #1f77b4\"/>\n",
       "     <use xlink:href=\"#me8e4543a19\" x=\"126.507363\" y=\"74.162034\" style=\"fill: #1f77b4; stroke: #1f77b4\"/>\n",
       "     <use xlink:href=\"#me8e4543a19\" x=\"132.565664\" y=\"71.570289\" style=\"fill: #1f77b4; stroke: #1f77b4\"/>\n",
       "     <use xlink:href=\"#me8e4543a19\" x=\"130.612414\" y=\"68.668324\" style=\"fill: #1f77b4; stroke: #1f77b4\"/>\n",
       "     <use xlink:href=\"#me8e4543a19\" x=\"140.387592\" y=\"83.457408\" style=\"fill: #1f77b4; stroke: #1f77b4\"/>\n",
       "     <use xlink:href=\"#me8e4543a19\" x=\"164.890648\" y=\"81.127052\" style=\"fill: #1f77b4; stroke: #1f77b4\"/>\n",
       "     <use xlink:href=\"#me8e4543a19\" x=\"164.770932\" y=\"90.205367\" style=\"fill: #1f77b4; stroke: #1f77b4\"/>\n",
       "     <use xlink:href=\"#me8e4543a19\" x=\"191.523062\" y=\"91.270751\" style=\"fill: #1f77b4; stroke: #1f77b4\"/>\n",
       "     <use xlink:href=\"#me8e4543a19\" x=\"113.313489\" y=\"69.965488\" style=\"fill: #1f77b4; stroke: #1f77b4\"/>\n",
       "     <use xlink:href=\"#me8e4543a19\" x=\"134.256348\" y=\"82.285281\" style=\"fill: #1f77b4; stroke: #1f77b4\"/>\n",
       "     <use xlink:href=\"#me8e4543a19\" x=\"113.643658\" y=\"53.097032\" style=\"fill: #1f77b4; stroke: #1f77b4\"/>\n",
       "     <use xlink:href=\"#me8e4543a19\" x=\"118.67368\" y=\"65.109088\" style=\"fill: #1f77b4; stroke: #1f77b4\"/>\n",
       "     <use xlink:href=\"#me8e4543a19\" x=\"140.726407\" y=\"87.469057\" style=\"fill: #1f77b4; stroke: #1f77b4\"/>\n",
       "     <use xlink:href=\"#me8e4543a19\" x=\"154.924811\" y=\"84.830417\" style=\"fill: #1f77b4; stroke: #1f77b4\"/>\n",
       "     <use xlink:href=\"#me8e4543a19\" x=\"93.746051\" y=\"41.214977\" style=\"fill: #1f77b4; stroke: #1f77b4\"/>\n",
       "     <use xlink:href=\"#me8e4543a19\" x=\"140.049256\" y=\"80.54266\" style=\"fill: #1f77b4; stroke: #1f77b4\"/>\n",
       "     <use xlink:href=\"#me8e4543a19\" x=\"73.559244\" y=\"31.251774\" style=\"fill: #1f77b4; stroke: #1f77b4\"/>\n",
       "     <use xlink:href=\"#me8e4543a19\" x=\"191.821856\" y=\"117.281201\" style=\"fill: #1f77b4; stroke: #1f77b4\"/>\n",
       "     <use xlink:href=\"#me8e4543a19\" x=\"174.948954\" y=\"98.612611\" style=\"fill: #1f77b4; stroke: #1f77b4\"/>\n",
       "     <use xlink:href=\"#me8e4543a19\" x=\"194.390369\" y=\"102.724829\" style=\"fill: #1f77b4; stroke: #1f77b4\"/>\n",
       "     <use xlink:href=\"#me8e4543a19\" x=\"118.173167\" y=\"46.452815\" style=\"fill: #1f77b4; stroke: #1f77b4\"/>\n",
       "     <use xlink:href=\"#me8e4543a19\" x=\"109.227101\" y=\"69.407046\" style=\"fill: #1f77b4; stroke: #1f77b4\"/>\n",
       "     <use xlink:href=\"#me8e4543a19\" x=\"180.233555\" y=\"102.580426\" style=\"fill: #1f77b4; stroke: #1f77b4\"/>\n",
       "     <use xlink:href=\"#me8e4543a19\" x=\"123.520014\" y=\"57.293921\" style=\"fill: #1f77b4; stroke: #1f77b4\"/>\n",
       "     <use xlink:href=\"#me8e4543a19\" x=\"165.167595\" y=\"82.254978\" style=\"fill: #1f77b4; stroke: #1f77b4\"/>\n",
       "     <use xlink:href=\"#me8e4543a19\" x=\"109.590219\" y=\"51.747839\" style=\"fill: #1f77b4; stroke: #1f77b4\"/>\n",
       "     <use xlink:href=\"#me8e4543a19\" x=\"118.717086\" y=\"60.98457\" style=\"fill: #1f77b4; stroke: #1f77b4\"/>\n",
       "     <use xlink:href=\"#me8e4543a19\" x=\"102.481463\" y=\"46.1905\" style=\"fill: #1f77b4; stroke: #1f77b4\"/>\n",
       "     <use xlink:href=\"#me8e4543a19\" x=\"109.792838\" y=\"64.589589\" style=\"fill: #1f77b4; stroke: #1f77b4\"/>\n",
       "     <use xlink:href=\"#me8e4543a19\" x=\"129.472922\" y=\"74.947071\" style=\"fill: #1f77b4; stroke: #1f77b4\"/>\n",
       "     <use xlink:href=\"#me8e4543a19\" x=\"84.348484\" y=\"29.73863\" style=\"fill: #1f77b4; stroke: #1f77b4\"/>\n",
       "     <use xlink:href=\"#me8e4543a19\" x=\"145.723534\" y=\"81.861547\" style=\"fill: #1f77b4; stroke: #1f77b4\"/>\n",
       "     <use xlink:href=\"#me8e4543a19\" x=\"129.916826\" y=\"64.508148\" style=\"fill: #1f77b4; stroke: #1f77b4\"/>\n",
       "     <use xlink:href=\"#me8e4543a19\" x=\"139.716738\" y=\"82.478704\" style=\"fill: #1f77b4; stroke: #1f77b4\"/>\n",
       "     <use xlink:href=\"#me8e4543a19\" x=\"122.642508\" y=\"69.410377\" style=\"fill: #1f77b4; stroke: #1f77b4\"/>\n",
       "     <use xlink:href=\"#me8e4543a19\" x=\"128.830268\" y=\"70.990792\" style=\"fill: #1f77b4; stroke: #1f77b4\"/>\n",
       "     <use xlink:href=\"#me8e4543a19\" x=\"103.202147\" y=\"57.867858\" style=\"fill: #1f77b4; stroke: #1f77b4\"/>\n",
       "     <use xlink:href=\"#me8e4543a19\" x=\"108.144191\" y=\"64.043254\" style=\"fill: #1f77b4; stroke: #1f77b4\"/>\n",
       "     <use xlink:href=\"#me8e4543a19\" x=\"163.782025\" y=\"99.060412\" style=\"fill: #1f77b4; stroke: #1f77b4\"/>\n",
       "     <use xlink:href=\"#me8e4543a19\" x=\"116.546211\" y=\"56.765242\" style=\"fill: #1f77b4; stroke: #1f77b4\"/>\n",
       "     <use xlink:href=\"#me8e4543a19\" x=\"142.833556\" y=\"83.375387\" style=\"fill: #1f77b4; stroke: #1f77b4\"/>\n",
       "     <use xlink:href=\"#me8e4543a19\" x=\"121.672527\" y=\"76.831093\" style=\"fill: #1f77b4; stroke: #1f77b4\"/>\n",
       "     <use xlink:href=\"#me8e4543a19\" x=\"102.400931\" y=\"51.43952\" style=\"fill: #1f77b4; stroke: #1f77b4\"/>\n",
       "     <use xlink:href=\"#me8e4543a19\" x=\"141.775144\" y=\"87.894259\" style=\"fill: #1f77b4; stroke: #1f77b4\"/>\n",
       "     <use xlink:href=\"#me8e4543a19\" x=\"147.215927\" y=\"61.771818\" style=\"fill: #1f77b4; stroke: #1f77b4\"/>\n",
       "     <use xlink:href=\"#me8e4543a19\" x=\"116.385504\" y=\"52.27925\" style=\"fill: #1f77b4; stroke: #1f77b4\"/>\n",
       "     <use xlink:href=\"#me8e4543a19\" x=\"102.895378\" y=\"69.87732\" style=\"fill: #1f77b4; stroke: #1f77b4\"/>\n",
       "     <use xlink:href=\"#me8e4543a19\" x=\"117.973601\" y=\"65.726486\" style=\"fill: #1f77b4; stroke: #1f77b4\"/>\n",
       "     <use xlink:href=\"#me8e4543a19\" x=\"152.64838\" y=\"88.931136\" style=\"fill: #1f77b4; stroke: #1f77b4\"/>\n",
       "     <use xlink:href=\"#me8e4543a19\" x=\"182.302761\" y=\"97.869051\" style=\"fill: #1f77b4; stroke: #1f77b4\"/>\n",
       "     <use xlink:href=\"#me8e4543a19\" x=\"113.911632\" y=\"69.994928\" style=\"fill: #1f77b4; stroke: #1f77b4\"/>\n",
       "     <use xlink:href=\"#me8e4543a19\" x=\"136.50465\" y=\"82.022493\" style=\"fill: #1f77b4; stroke: #1f77b4\"/>\n",
       "     <use xlink:href=\"#me8e4543a19\" x=\"169.125394\" y=\"112.347751\" style=\"fill: #1f77b4; stroke: #1f77b4\"/>\n",
       "     <use xlink:href=\"#me8e4543a19\" x=\"146.473117\" y=\"78.422901\" style=\"fill: #1f77b4; stroke: #1f77b4\"/>\n",
       "     <use xlink:href=\"#me8e4543a19\" x=\"88.318713\" y=\"56.000684\" style=\"fill: #1f77b4; stroke: #1f77b4\"/>\n",
       "     <use xlink:href=\"#me8e4543a19\" x=\"122.00176\" y=\"59.632244\" style=\"fill: #1f77b4; stroke: #1f77b4\"/>\n",
       "     <use xlink:href=\"#me8e4543a19\" x=\"162.411623\" y=\"101.40693\" style=\"fill: #1f77b4; stroke: #1f77b4\"/>\n",
       "     <use xlink:href=\"#me8e4543a19\" x=\"156.938267\" y=\"86.419751\" style=\"fill: #1f77b4; stroke: #1f77b4\"/>\n",
       "     <use xlink:href=\"#me8e4543a19\" x=\"185.269517\" y=\"101.044055\" style=\"fill: #1f77b4; stroke: #1f77b4\"/>\n",
       "     <use xlink:href=\"#me8e4543a19\" x=\"192.562146\" y=\"107.249614\" style=\"fill: #1f77b4; stroke: #1f77b4\"/>\n",
       "     <use xlink:href=\"#me8e4543a19\" x=\"154.664622\" y=\"92.110001\" style=\"fill: #1f77b4; stroke: #1f77b4\"/>\n",
       "     <use xlink:href=\"#me8e4543a19\" x=\"175.688671\" y=\"97.311\" style=\"fill: #1f77b4; stroke: #1f77b4\"/>\n",
       "     <use xlink:href=\"#me8e4543a19\" x=\"116.537795\" y=\"55.329149\" style=\"fill: #1f77b4; stroke: #1f77b4\"/>\n",
       "     <use xlink:href=\"#me8e4543a19\" x=\"128.09175\" y=\"77.911137\" style=\"fill: #1f77b4; stroke: #1f77b4\"/>\n",
       "     <use xlink:href=\"#me8e4543a19\" x=\"145.476445\" y=\"86.331512\" style=\"fill: #1f77b4; stroke: #1f77b4\"/>\n",
       "     <use xlink:href=\"#me8e4543a19\" x=\"105.731115\" y=\"52.933492\" style=\"fill: #1f77b4; stroke: #1f77b4\"/>\n",
       "     <use xlink:href=\"#me8e4543a19\" x=\"103.311215\" y=\"69.819972\" style=\"fill: #1f77b4; stroke: #1f77b4\"/>\n",
       "     <use xlink:href=\"#me8e4543a19\" x=\"121.364976\" y=\"50.759848\" style=\"fill: #1f77b4; stroke: #1f77b4\"/>\n",
       "     <use xlink:href=\"#me8e4543a19\" x=\"115.361128\" y=\"45.933545\" style=\"fill: #1f77b4; stroke: #1f77b4\"/>\n",
       "     <use xlink:href=\"#me8e4543a19\" x=\"153.586811\" y=\"93.991124\" style=\"fill: #1f77b4; stroke: #1f77b4\"/>\n",
       "     <use xlink:href=\"#me8e4543a19\" x=\"124.423277\" y=\"58.587822\" style=\"fill: #1f77b4; stroke: #1f77b4\"/>\n",
       "     <use xlink:href=\"#me8e4543a19\" x=\"143.782386\" y=\"79.850606\" style=\"fill: #1f77b4; stroke: #1f77b4\"/>\n",
       "     <use xlink:href=\"#me8e4543a19\" x=\"113.678953\" y=\"67.302431\" style=\"fill: #1f77b4; stroke: #1f77b4\"/>\n",
       "     <use xlink:href=\"#me8e4543a19\" x=\"123.699756\" y=\"66.259799\" style=\"fill: #1f77b4; stroke: #1f77b4\"/>\n",
       "     <use xlink:href=\"#me8e4543a19\" x=\"191.514459\" y=\"116.439551\" style=\"fill: #1f77b4; stroke: #1f77b4\"/>\n",
       "     <use xlink:href=\"#me8e4543a19\" x=\"149.021829\" y=\"75.505215\" style=\"fill: #1f77b4; stroke: #1f77b4\"/>\n",
       "     <use xlink:href=\"#me8e4543a19\" x=\"110.613334\" y=\"72.641876\" style=\"fill: #1f77b4; stroke: #1f77b4\"/>\n",
       "     <use xlink:href=\"#me8e4543a19\" x=\"157.482953\" y=\"83.924008\" style=\"fill: #1f77b4; stroke: #1f77b4\"/>\n",
       "     <use xlink:href=\"#me8e4543a19\" x=\"140.295409\" y=\"72.345093\" style=\"fill: #1f77b4; stroke: #1f77b4\"/>\n",
       "     <use xlink:href=\"#me8e4543a19\" x=\"156.163108\" y=\"75.54841\" style=\"fill: #1f77b4; stroke: #1f77b4\"/>\n",
       "     <use xlink:href=\"#me8e4543a19\" x=\"115.172631\" y=\"76.29213\" style=\"fill: #1f77b4; stroke: #1f77b4\"/>\n",
       "     <use xlink:href=\"#me8e4543a19\" x=\"120.109335\" y=\"79.812721\" style=\"fill: #1f77b4; stroke: #1f77b4\"/>\n",
       "     <use xlink:href=\"#me8e4543a19\" x=\"102.526106\" y=\"49.306231\" style=\"fill: #1f77b4; stroke: #1f77b4\"/>\n",
       "     <use xlink:href=\"#me8e4543a19\" x=\"170.941661\" y=\"93.326973\" style=\"fill: #1f77b4; stroke: #1f77b4\"/>\n",
       "     <use xlink:href=\"#me8e4543a19\" x=\"174.036452\" y=\"76.823454\" style=\"fill: #1f77b4; stroke: #1f77b4\"/>\n",
       "     <use xlink:href=\"#me8e4543a19\" x=\"146.660896\" y=\"81.729056\" style=\"fill: #1f77b4; stroke: #1f77b4\"/>\n",
       "     <use xlink:href=\"#me8e4543a19\" x=\"141.872958\" y=\"74.180645\" style=\"fill: #1f77b4; stroke: #1f77b4\"/>\n",
       "     <use xlink:href=\"#me8e4543a19\" x=\"114.282813\" y=\"58.793798\" style=\"fill: #1f77b4; stroke: #1f77b4\"/>\n",
       "     <use xlink:href=\"#me8e4543a19\" x=\"161.581181\" y=\"96.227454\" style=\"fill: #1f77b4; stroke: #1f77b4\"/>\n",
       "     <use xlink:href=\"#me8e4543a19\" x=\"135.147294\" y=\"74.965802\" style=\"fill: #1f77b4; stroke: #1f77b4\"/>\n",
       "     <use xlink:href=\"#me8e4543a19\" x=\"162.608496\" y=\"66.716877\" style=\"fill: #1f77b4; stroke: #1f77b4\"/>\n",
       "     <use xlink:href=\"#me8e4543a19\" x=\"95.159434\" y=\"63.156682\" style=\"fill: #1f77b4; stroke: #1f77b4\"/>\n",
       "     <use xlink:href=\"#me8e4543a19\" x=\"117.771628\" y=\"51.816539\" style=\"fill: #1f77b4; stroke: #1f77b4\"/>\n",
       "     <use xlink:href=\"#me8e4543a19\" x=\"133.118871\" y=\"68.109044\" style=\"fill: #1f77b4; stroke: #1f77b4\"/>\n",
       "     <use xlink:href=\"#me8e4543a19\" x=\"174.638695\" y=\"97.811752\" style=\"fill: #1f77b4; stroke: #1f77b4\"/>\n",
       "     <use xlink:href=\"#me8e4543a19\" x=\"118.678567\" y=\"76.840749\" style=\"fill: #1f77b4; stroke: #1f77b4\"/>\n",
       "     <use xlink:href=\"#me8e4543a19\" x=\"131.734451\" y=\"83.933603\" style=\"fill: #1f77b4; stroke: #1f77b4\"/>\n",
       "     <use xlink:href=\"#me8e4543a19\" x=\"109.484498\" y=\"72.850476\" style=\"fill: #1f77b4; stroke: #1f77b4\"/>\n",
       "     <use xlink:href=\"#me8e4543a19\" x=\"126.810886\" y=\"68.938846\" style=\"fill: #1f77b4; stroke: #1f77b4\"/>\n",
       "     <use xlink:href=\"#me8e4543a19\" x=\"134.342648\" y=\"74.991345\" style=\"fill: #1f77b4; stroke: #1f77b4\"/>\n",
       "     <use xlink:href=\"#me8e4543a19\" x=\"131.952262\" y=\"74.310238\" style=\"fill: #1f77b4; stroke: #1f77b4\"/>\n",
       "     <use xlink:href=\"#me8e4543a19\" x=\"156.900849\" y=\"79.232008\" style=\"fill: #1f77b4; stroke: #1f77b4\"/>\n",
       "     <use xlink:href=\"#me8e4543a19\" x=\"96.432272\" y=\"53.026933\" style=\"fill: #1f77b4; stroke: #1f77b4\"/>\n",
       "     <use xlink:href=\"#me8e4543a19\" x=\"81.508738\" y=\"45.0447\" style=\"fill: #1f77b4; stroke: #1f77b4\"/>\n",
       "     <use xlink:href=\"#me8e4543a19\" x=\"147.336063\" y=\"86.914973\" style=\"fill: #1f77b4; stroke: #1f77b4\"/>\n",
       "     <use xlink:href=\"#me8e4543a19\" x=\"138.228238\" y=\"70.241193\" style=\"fill: #1f77b4; stroke: #1f77b4\"/>\n",
       "     <use xlink:href=\"#me8e4543a19\" x=\"122.062535\" y=\"62.764955\" style=\"fill: #1f77b4; stroke: #1f77b4\"/>\n",
       "     <use xlink:href=\"#me8e4543a19\" x=\"131.156816\" y=\"80.196239\" style=\"fill: #1f77b4; stroke: #1f77b4\"/>\n",
       "     <use xlink:href=\"#me8e4543a19\" x=\"175.109443\" y=\"108.57818\" style=\"fill: #1f77b4; stroke: #1f77b4\"/>\n",
       "     <use xlink:href=\"#me8e4543a19\" x=\"173.433832\" y=\"94.047075\" style=\"fill: #1f77b4; stroke: #1f77b4\"/>\n",
       "     <use xlink:href=\"#me8e4543a19\" x=\"126.866692\" y=\"57.093082\" style=\"fill: #1f77b4; stroke: #1f77b4\"/>\n",
       "     <use xlink:href=\"#me8e4543a19\" x=\"149.322818\" y=\"84.062874\" style=\"fill: #1f77b4; stroke: #1f77b4\"/>\n",
       "     <use xlink:href=\"#me8e4543a19\" x=\"177.713463\" y=\"102.527863\" style=\"fill: #1f77b4; stroke: #1f77b4\"/>\n",
       "     <use xlink:href=\"#me8e4543a19\" x=\"165.753918\" y=\"101.995496\" style=\"fill: #1f77b4; stroke: #1f77b4\"/>\n",
       "     <use xlink:href=\"#me8e4543a19\" x=\"158.607512\" y=\"85.091214\" style=\"fill: #1f77b4; stroke: #1f77b4\"/>\n",
       "     <use xlink:href=\"#me8e4543a19\" x=\"125.25661\" y=\"75.154959\" style=\"fill: #1f77b4; stroke: #1f77b4\"/>\n",
       "     <use xlink:href=\"#me8e4543a19\" x=\"166.506311\" y=\"86.849735\" style=\"fill: #1f77b4; stroke: #1f77b4\"/>\n",
       "     <use xlink:href=\"#me8e4543a19\" x=\"155.371002\" y=\"71.12495\" style=\"fill: #1f77b4; stroke: #1f77b4\"/>\n",
       "     <use xlink:href=\"#me8e4543a19\" x=\"156.03686\" y=\"98.722314\" style=\"fill: #1f77b4; stroke: #1f77b4\"/>\n",
       "     <use xlink:href=\"#me8e4543a19\" x=\"128.235647\" y=\"68.659682\" style=\"fill: #1f77b4; stroke: #1f77b4\"/>\n",
       "     <use xlink:href=\"#me8e4543a19\" x=\"118.171746\" y=\"54.341611\" style=\"fill: #1f77b4; stroke: #1f77b4\"/>\n",
       "     <use xlink:href=\"#me8e4543a19\" x=\"101.567885\" y=\"51.709022\" style=\"fill: #1f77b4; stroke: #1f77b4\"/>\n",
       "     <use xlink:href=\"#me8e4543a19\" x=\"114.267168\" y=\"51.747067\" style=\"fill: #1f77b4; stroke: #1f77b4\"/>\n",
       "     <use xlink:href=\"#me8e4543a19\" x=\"117.579947\" y=\"60.256199\" style=\"fill: #1f77b4; stroke: #1f77b4\"/>\n",
       "     <use xlink:href=\"#me8e4543a19\" x=\"110.902141\" y=\"71.142863\" style=\"fill: #1f77b4; stroke: #1f77b4\"/>\n",
       "     <use xlink:href=\"#me8e4543a19\" x=\"116.883083\" y=\"53.248244\" style=\"fill: #1f77b4; stroke: #1f77b4\"/>\n",
       "     <use xlink:href=\"#me8e4543a19\" x=\"128.169636\" y=\"59.439636\" style=\"fill: #1f77b4; stroke: #1f77b4\"/>\n",
       "     <use xlink:href=\"#me8e4543a19\" x=\"141.142324\" y=\"76.835043\" style=\"fill: #1f77b4; stroke: #1f77b4\"/>\n",
       "     <use xlink:href=\"#me8e4543a19\" x=\"106.031015\" y=\"68.311706\" style=\"fill: #1f77b4; stroke: #1f77b4\"/>\n",
       "     <use xlink:href=\"#me8e4543a19\" x=\"153.853128\" y=\"92.556808\" style=\"fill: #1f77b4; stroke: #1f77b4\"/>\n",
       "     <use xlink:href=\"#me8e4543a19\" x=\"108.17776\" y=\"55.540331\" style=\"fill: #1f77b4; stroke: #1f77b4\"/>\n",
       "     <use xlink:href=\"#me8e4543a19\" x=\"168.564222\" y=\"94.574902\" style=\"fill: #1f77b4; stroke: #1f77b4\"/>\n",
       "     <use xlink:href=\"#me8e4543a19\" x=\"144.917982\" y=\"81.169109\" style=\"fill: #1f77b4; stroke: #1f77b4\"/>\n",
       "     <use xlink:href=\"#me8e4543a19\" x=\"144.242496\" y=\"85.203143\" style=\"fill: #1f77b4; stroke: #1f77b4\"/>\n",
       "     <use xlink:href=\"#me8e4543a19\" x=\"92.226697\" y=\"76.942094\" style=\"fill: #1f77b4; stroke: #1f77b4\"/>\n",
       "     <use xlink:href=\"#me8e4543a19\" x=\"99.731347\" y=\"88.872665\" style=\"fill: #1f77b4; stroke: #1f77b4\"/>\n",
       "     <use xlink:href=\"#me8e4543a19\" x=\"157.503114\" y=\"88.845226\" style=\"fill: #1f77b4; stroke: #1f77b4\"/>\n",
       "     <use xlink:href=\"#me8e4543a19\" x=\"108.319846\" y=\"61.389695\" style=\"fill: #1f77b4; stroke: #1f77b4\"/>\n",
       "     <use xlink:href=\"#me8e4543a19\" x=\"166.598795\" y=\"92.715589\" style=\"fill: #1f77b4; stroke: #1f77b4\"/>\n",
       "     <use xlink:href=\"#me8e4543a19\" x=\"139.486058\" y=\"78.73718\" style=\"fill: #1f77b4; stroke: #1f77b4\"/>\n",
       "     <use xlink:href=\"#me8e4543a19\" x=\"149.318346\" y=\"75.838734\" style=\"fill: #1f77b4; stroke: #1f77b4\"/>\n",
       "     <use xlink:href=\"#me8e4543a19\" x=\"162.801774\" y=\"91.826868\" style=\"fill: #1f77b4; stroke: #1f77b4\"/>\n",
       "     <use xlink:href=\"#me8e4543a19\" x=\"138.043664\" y=\"83.750801\" style=\"fill: #1f77b4; stroke: #1f77b4\"/>\n",
       "     <use xlink:href=\"#me8e4543a19\" x=\"129.049385\" y=\"71.010819\" style=\"fill: #1f77b4; stroke: #1f77b4\"/>\n",
       "     <use xlink:href=\"#me8e4543a19\" x=\"122.609921\" y=\"70.29457\" style=\"fill: #1f77b4; stroke: #1f77b4\"/>\n",
       "     <use xlink:href=\"#me8e4543a19\" x=\"129.976761\" y=\"84.072718\" style=\"fill: #1f77b4; stroke: #1f77b4\"/>\n",
       "     <use xlink:href=\"#me8e4543a19\" x=\"156.986712\" y=\"68.900264\" style=\"fill: #1f77b4; stroke: #1f77b4\"/>\n",
       "     <use xlink:href=\"#me8e4543a19\" x=\"182.611679\" y=\"92.830074\" style=\"fill: #1f77b4; stroke: #1f77b4\"/>\n",
       "     <use xlink:href=\"#me8e4543a19\" x=\"141.260298\" y=\"80.344428\" style=\"fill: #1f77b4; stroke: #1f77b4\"/>\n",
       "     <use xlink:href=\"#me8e4543a19\" x=\"132.937753\" y=\"73.968345\" style=\"fill: #1f77b4; stroke: #1f77b4\"/>\n",
       "     <use xlink:href=\"#me8e4543a19\" x=\"108.642839\" y=\"62.319081\" style=\"fill: #1f77b4; stroke: #1f77b4\"/>\n",
       "     <use xlink:href=\"#me8e4543a19\" x=\"134.182012\" y=\"77.876299\" style=\"fill: #1f77b4; stroke: #1f77b4\"/>\n",
       "     <use xlink:href=\"#me8e4543a19\" x=\"136.855875\" y=\"65.347769\" style=\"fill: #1f77b4; stroke: #1f77b4\"/>\n",
       "     <use xlink:href=\"#me8e4543a19\" x=\"100.368668\" y=\"64.743468\" style=\"fill: #1f77b4; stroke: #1f77b4\"/>\n",
       "     <use xlink:href=\"#me8e4543a19\" x=\"113.048342\" y=\"52.232013\" style=\"fill: #1f77b4; stroke: #1f77b4\"/>\n",
       "     <use xlink:href=\"#me8e4543a19\" x=\"125.587757\" y=\"53.446138\" style=\"fill: #1f77b4; stroke: #1f77b4\"/>\n",
       "     <use xlink:href=\"#me8e4543a19\" x=\"130.756967\" y=\"81.918147\" style=\"fill: #1f77b4; stroke: #1f77b4\"/>\n",
       "     <use xlink:href=\"#me8e4543a19\" x=\"109.909568\" y=\"59.242836\" style=\"fill: #1f77b4; stroke: #1f77b4\"/>\n",
       "     <use xlink:href=\"#me8e4543a19\" x=\"136.861357\" y=\"76.931466\" style=\"fill: #1f77b4; stroke: #1f77b4\"/>\n",
       "     <use xlink:href=\"#me8e4543a19\" x=\"179.765178\" y=\"98.648111\" style=\"fill: #1f77b4; stroke: #1f77b4\"/>\n",
       "     <use xlink:href=\"#me8e4543a19\" x=\"139.850176\" y=\"74.913052\" style=\"fill: #1f77b4; stroke: #1f77b4\"/>\n",
       "     <use xlink:href=\"#me8e4543a19\" x=\"161.992295\" y=\"96.945971\" style=\"fill: #1f77b4; stroke: #1f77b4\"/>\n",
       "     <use xlink:href=\"#me8e4543a19\" x=\"186.910412\" y=\"98.886623\" style=\"fill: #1f77b4; stroke: #1f77b4\"/>\n",
       "     <use xlink:href=\"#me8e4543a19\" x=\"141.364748\" y=\"90.839541\" style=\"fill: #1f77b4; stroke: #1f77b4\"/>\n",
       "     <use xlink:href=\"#me8e4543a19\" x=\"148.622408\" y=\"84.641029\" style=\"fill: #1f77b4; stroke: #1f77b4\"/>\n",
       "     <use xlink:href=\"#me8e4543a19\" x=\"114.520281\" y=\"73.241619\" style=\"fill: #1f77b4; stroke: #1f77b4\"/>\n",
       "     <use xlink:href=\"#me8e4543a19\" x=\"172.788111\" y=\"99.425194\" style=\"fill: #1f77b4; stroke: #1f77b4\"/>\n",
       "     <use xlink:href=\"#me8e4543a19\" x=\"151.181869\" y=\"77.781449\" style=\"fill: #1f77b4; stroke: #1f77b4\"/>\n",
       "     <use xlink:href=\"#me8e4543a19\" x=\"94.929462\" y=\"40.864137\" style=\"fill: #1f77b4; stroke: #1f77b4\"/>\n",
       "     <use xlink:href=\"#me8e4543a19\" x=\"164.946713\" y=\"79.397681\" style=\"fill: #1f77b4; stroke: #1f77b4\"/>\n",
       "     <use xlink:href=\"#me8e4543a19\" x=\"167.412055\" y=\"93.732043\" style=\"fill: #1f77b4; stroke: #1f77b4\"/>\n",
       "     <use xlink:href=\"#me8e4543a19\" x=\"164.077231\" y=\"99.079148\" style=\"fill: #1f77b4; stroke: #1f77b4\"/>\n",
       "     <use xlink:href=\"#me8e4543a19\" x=\"153.51777\" y=\"95.53378\" style=\"fill: #1f77b4; stroke: #1f77b4\"/>\n",
       "     <use xlink:href=\"#me8e4543a19\" x=\"146.314872\" y=\"77.116372\" style=\"fill: #1f77b4; stroke: #1f77b4\"/>\n",
       "     <use xlink:href=\"#me8e4543a19\" x=\"128.650996\" y=\"64.542405\" style=\"fill: #1f77b4; stroke: #1f77b4\"/>\n",
       "     <use xlink:href=\"#me8e4543a19\" x=\"85.418888\" y=\"44.448638\" style=\"fill: #1f77b4; stroke: #1f77b4\"/>\n",
       "     <use xlink:href=\"#me8e4543a19\" x=\"106.771255\" y=\"72.151923\" style=\"fill: #1f77b4; stroke: #1f77b4\"/>\n",
       "     <use xlink:href=\"#me8e4543a19\" x=\"164.5387\" y=\"72.611629\" style=\"fill: #1f77b4; stroke: #1f77b4\"/>\n",
       "     <use xlink:href=\"#me8e4543a19\" x=\"118.639001\" y=\"60.311814\" style=\"fill: #1f77b4; stroke: #1f77b4\"/>\n",
       "     <use xlink:href=\"#me8e4543a19\" x=\"145.406778\" y=\"87.691147\" style=\"fill: #1f77b4; stroke: #1f77b4\"/>\n",
       "     <use xlink:href=\"#me8e4543a19\" x=\"168.803398\" y=\"107.320156\" style=\"fill: #1f77b4; stroke: #1f77b4\"/>\n",
       "     <use xlink:href=\"#me8e4543a19\" x=\"137.297741\" y=\"49.877139\" style=\"fill: #1f77b4; stroke: #1f77b4\"/>\n",
       "     <use xlink:href=\"#me8e4543a19\" x=\"149.164133\" y=\"72.568467\" style=\"fill: #1f77b4; stroke: #1f77b4\"/>\n",
       "     <use xlink:href=\"#me8e4543a19\" x=\"157.497762\" y=\"80.55889\" style=\"fill: #1f77b4; stroke: #1f77b4\"/>\n",
       "     <use xlink:href=\"#me8e4543a19\" x=\"154.952892\" y=\"85.24721\" style=\"fill: #1f77b4; stroke: #1f77b4\"/>\n",
       "     <use xlink:href=\"#me8e4543a19\" x=\"142.909365\" y=\"92.118892\" style=\"fill: #1f77b4; stroke: #1f77b4\"/>\n",
       "     <use xlink:href=\"#me8e4543a19\" x=\"122.573812\" y=\"64.962444\" style=\"fill: #1f77b4; stroke: #1f77b4\"/>\n",
       "     <use xlink:href=\"#me8e4543a19\" x=\"149.352169\" y=\"85.055368\" style=\"fill: #1f77b4; stroke: #1f77b4\"/>\n",
       "     <use xlink:href=\"#me8e4543a19\" x=\"90.389223\" y=\"47.996918\" style=\"fill: #1f77b4; stroke: #1f77b4\"/>\n",
       "     <use xlink:href=\"#me8e4543a19\" x=\"120.018663\" y=\"65.223271\" style=\"fill: #1f77b4; stroke: #1f77b4\"/>\n",
       "     <use xlink:href=\"#me8e4543a19\" x=\"147.987775\" y=\"86.614588\" style=\"fill: #1f77b4; stroke: #1f77b4\"/>\n",
       "     <use xlink:href=\"#me8e4543a19\" x=\"73.856847\" y=\"29.940425\" style=\"fill: #1f77b4; stroke: #1f77b4\"/>\n",
       "     <use xlink:href=\"#me8e4543a19\" x=\"190.106136\" y=\"111.098886\" style=\"fill: #1f77b4; stroke: #1f77b4\"/>\n",
       "     <use xlink:href=\"#me8e4543a19\" x=\"109.859801\" y=\"67.041859\" style=\"fill: #1f77b4; stroke: #1f77b4\"/>\n",
       "     <use xlink:href=\"#me8e4543a19\" x=\"169.815222\" y=\"91.029124\" style=\"fill: #1f77b4; stroke: #1f77b4\"/>\n",
       "     <use xlink:href=\"#me8e4543a19\" x=\"178.321993\" y=\"100.419558\" style=\"fill: #1f77b4; stroke: #1f77b4\"/>\n",
       "     <use xlink:href=\"#me8e4543a19\" x=\"122.029559\" y=\"76.97743\" style=\"fill: #1f77b4; stroke: #1f77b4\"/>\n",
       "     <use xlink:href=\"#me8e4543a19\" x=\"104.295412\" y=\"55.883623\" style=\"fill: #1f77b4; stroke: #1f77b4\"/>\n",
       "     <use xlink:href=\"#me8e4543a19\" x=\"152.53465\" y=\"72.320588\" style=\"fill: #1f77b4; stroke: #1f77b4\"/>\n",
       "     <use xlink:href=\"#me8e4543a19\" x=\"116.287557\" y=\"52.476416\" style=\"fill: #1f77b4; stroke: #1f77b4\"/>\n",
       "     <use xlink:href=\"#me8e4543a19\" x=\"113.979574\" y=\"69.611625\" style=\"fill: #1f77b4; stroke: #1f77b4\"/>\n",
       "     <use xlink:href=\"#me8e4543a19\" x=\"164.958139\" y=\"92.65485\" style=\"fill: #1f77b4; stroke: #1f77b4\"/>\n",
       "     <use xlink:href=\"#me8e4543a19\" x=\"97.484211\" y=\"67.713551\" style=\"fill: #1f77b4; stroke: #1f77b4\"/>\n",
       "     <use xlink:href=\"#me8e4543a19\" x=\"130.948596\" y=\"73.000865\" style=\"fill: #1f77b4; stroke: #1f77b4\"/>\n",
       "     <use xlink:href=\"#me8e4543a19\" x=\"143.478133\" y=\"78.956321\" style=\"fill: #1f77b4; stroke: #1f77b4\"/>\n",
       "     <use xlink:href=\"#me8e4543a19\" x=\"115.281453\" y=\"51.892696\" style=\"fill: #1f77b4; stroke: #1f77b4\"/>\n",
       "     <use xlink:href=\"#me8e4543a19\" x=\"142.268741\" y=\"73.632566\" style=\"fill: #1f77b4; stroke: #1f77b4\"/>\n",
       "     <use xlink:href=\"#me8e4543a19\" x=\"122.98831\" y=\"73.962646\" style=\"fill: #1f77b4; stroke: #1f77b4\"/>\n",
       "     <use xlink:href=\"#me8e4543a19\" x=\"155.625081\" y=\"77.504667\" style=\"fill: #1f77b4; stroke: #1f77b4\"/>\n",
       "     <use xlink:href=\"#me8e4543a19\" x=\"175.358904\" y=\"106.07141\" style=\"fill: #1f77b4; stroke: #1f77b4\"/>\n",
       "     <use xlink:href=\"#me8e4543a19\" x=\"138.965698\" y=\"77.161919\" style=\"fill: #1f77b4; stroke: #1f77b4\"/>\n",
       "     <use xlink:href=\"#me8e4543a19\" x=\"101.969301\" y=\"56.465559\" style=\"fill: #1f77b4; stroke: #1f77b4\"/>\n",
       "     <use xlink:href=\"#me8e4543a19\" x=\"123.214714\" y=\"70.841213\" style=\"fill: #1f77b4; stroke: #1f77b4\"/>\n",
       "     <use xlink:href=\"#me8e4543a19\" x=\"141.322461\" y=\"53.449707\" style=\"fill: #1f77b4; stroke: #1f77b4\"/>\n",
       "     <use xlink:href=\"#me8e4543a19\" x=\"157.487429\" y=\"83.532074\" style=\"fill: #1f77b4; stroke: #1f77b4\"/>\n",
       "     <use xlink:href=\"#me8e4543a19\" x=\"195.775343\" y=\"108.330255\" style=\"fill: #1f77b4; stroke: #1f77b4\"/>\n",
       "     <use xlink:href=\"#me8e4543a19\" x=\"95.002511\" y=\"45.105757\" style=\"fill: #1f77b4; stroke: #1f77b4\"/>\n",
       "     <use xlink:href=\"#me8e4543a19\" x=\"163.114238\" y=\"96.979397\" style=\"fill: #1f77b4; stroke: #1f77b4\"/>\n",
       "     <use xlink:href=\"#me8e4543a19\" x=\"156.302639\" y=\"86.335367\" style=\"fill: #1f77b4; stroke: #1f77b4\"/>\n",
       "     <use xlink:href=\"#me8e4543a19\" x=\"89.280977\" y=\"55.439207\" style=\"fill: #1f77b4; stroke: #1f77b4\"/>\n",
       "     <use xlink:href=\"#me8e4543a19\" x=\"119.657435\" y=\"73.098673\" style=\"fill: #1f77b4; stroke: #1f77b4\"/>\n",
       "     <use xlink:href=\"#me8e4543a19\" x=\"145.689054\" y=\"86.138582\" style=\"fill: #1f77b4; stroke: #1f77b4\"/>\n",
       "     <use xlink:href=\"#me8e4543a19\" x=\"177.764677\" y=\"95.990102\" style=\"fill: #1f77b4; stroke: #1f77b4\"/>\n",
       "     <use xlink:href=\"#me8e4543a19\" x=\"114.42341\" y=\"54.720042\" style=\"fill: #1f77b4; stroke: #1f77b4\"/>\n",
       "     <use xlink:href=\"#me8e4543a19\" x=\"132.420956\" y=\"63.524926\" style=\"fill: #1f77b4; stroke: #1f77b4\"/>\n",
       "     <use xlink:href=\"#me8e4543a19\" x=\"124.991033\" y=\"81.209619\" style=\"fill: #1f77b4; stroke: #1f77b4\"/>\n",
       "     <use xlink:href=\"#me8e4543a19\" x=\"146.409979\" y=\"83.572291\" style=\"fill: #1f77b4; stroke: #1f77b4\"/>\n",
       "     <use xlink:href=\"#me8e4543a19\" x=\"142.614631\" y=\"86.009879\" style=\"fill: #1f77b4; stroke: #1f77b4\"/>\n",
       "     <use xlink:href=\"#me8e4543a19\" x=\"116.820612\" y=\"62.875501\" style=\"fill: #1f77b4; stroke: #1f77b4\"/>\n",
       "     <use xlink:href=\"#me8e4543a19\" x=\"139.850928\" y=\"91.876512\" style=\"fill: #1f77b4; stroke: #1f77b4\"/>\n",
       "     <use xlink:href=\"#me8e4543a19\" x=\"93.935371\" y=\"53.34002\" style=\"fill: #1f77b4; stroke: #1f77b4\"/>\n",
       "     <use xlink:href=\"#me8e4543a19\" x=\"156.378044\" y=\"105.179638\" style=\"fill: #1f77b4; stroke: #1f77b4\"/>\n",
       "     <use xlink:href=\"#me8e4543a19\" x=\"147.073072\" y=\"87.011607\" style=\"fill: #1f77b4; stroke: #1f77b4\"/>\n",
       "     <use xlink:href=\"#me8e4543a19\" x=\"130.952523\" y=\"60.79973\" style=\"fill: #1f77b4; stroke: #1f77b4\"/>\n",
       "     <use xlink:href=\"#me8e4543a19\" x=\"137.000852\" y=\"80.262844\" style=\"fill: #1f77b4; stroke: #1f77b4\"/>\n",
       "     <use xlink:href=\"#me8e4543a19\" x=\"135.570534\" y=\"83.611363\" style=\"fill: #1f77b4; stroke: #1f77b4\"/>\n",
       "     <use xlink:href=\"#me8e4543a19\" x=\"172.677145\" y=\"84.56767\" style=\"fill: #1f77b4; stroke: #1f77b4\"/>\n",
       "     <use xlink:href=\"#me8e4543a19\" x=\"170.662147\" y=\"98.936307\" style=\"fill: #1f77b4; stroke: #1f77b4\"/>\n",
       "     <use xlink:href=\"#me8e4543a19\" x=\"151.225967\" y=\"75.911936\" style=\"fill: #1f77b4; stroke: #1f77b4\"/>\n",
       "     <use xlink:href=\"#me8e4543a19\" x=\"137.880558\" y=\"49.277246\" style=\"fill: #1f77b4; stroke: #1f77b4\"/>\n",
       "     <use xlink:href=\"#me8e4543a19\" x=\"134.8493\" y=\"76.146151\" style=\"fill: #1f77b4; stroke: #1f77b4\"/>\n",
       "     <use xlink:href=\"#me8e4543a19\" x=\"119.325443\" y=\"63.532014\" style=\"fill: #1f77b4; stroke: #1f77b4\"/>\n",
       "     <use xlink:href=\"#me8e4543a19\" x=\"123.624132\" y=\"66.318868\" style=\"fill: #1f77b4; stroke: #1f77b4\"/>\n",
       "     <use xlink:href=\"#me8e4543a19\" x=\"143.563334\" y=\"95.039237\" style=\"fill: #1f77b4; stroke: #1f77b4\"/>\n",
       "     <use xlink:href=\"#me8e4543a19\" x=\"146.863009\" y=\"94.768895\" style=\"fill: #1f77b4; stroke: #1f77b4\"/>\n",
       "     <use xlink:href=\"#me8e4543a19\" x=\"133.145725\" y=\"71.475761\" style=\"fill: #1f77b4; stroke: #1f77b4\"/>\n",
       "     <use xlink:href=\"#me8e4543a19\" x=\"161.305634\" y=\"79.618715\" style=\"fill: #1f77b4; stroke: #1f77b4\"/>\n",
       "     <use xlink:href=\"#me8e4543a19\" x=\"131.010655\" y=\"84.006253\" style=\"fill: #1f77b4; stroke: #1f77b4\"/>\n",
       "     <use xlink:href=\"#me8e4543a19\" x=\"144.596738\" y=\"81.594981\" style=\"fill: #1f77b4; stroke: #1f77b4\"/>\n",
       "     <use xlink:href=\"#me8e4543a19\" x=\"114.424347\" y=\"44.471831\" style=\"fill: #1f77b4; stroke: #1f77b4\"/>\n",
       "     <use xlink:href=\"#me8e4543a19\" x=\"124.958994\" y=\"61.756421\" style=\"fill: #1f77b4; stroke: #1f77b4\"/>\n",
       "     <use xlink:href=\"#me8e4543a19\" x=\"156.380995\" y=\"69.725837\" style=\"fill: #1f77b4; stroke: #1f77b4\"/>\n",
       "     <use xlink:href=\"#me8e4543a19\" x=\"151.5786\" y=\"77.408297\" style=\"fill: #1f77b4; stroke: #1f77b4\"/>\n",
       "     <use xlink:href=\"#me8e4543a19\" x=\"115.553626\" y=\"51.858071\" style=\"fill: #1f77b4; stroke: #1f77b4\"/>\n",
       "     <use xlink:href=\"#me8e4543a19\" x=\"136.286558\" y=\"68.826796\" style=\"fill: #1f77b4; stroke: #1f77b4\"/>\n",
       "     <use xlink:href=\"#me8e4543a19\" x=\"130.390727\" y=\"75.210259\" style=\"fill: #1f77b4; stroke: #1f77b4\"/>\n",
       "     <use xlink:href=\"#me8e4543a19\" x=\"86.393183\" y=\"42.883947\" style=\"fill: #1f77b4; stroke: #1f77b4\"/>\n",
       "     <use xlink:href=\"#me8e4543a19\" x=\"127.196164\" y=\"78.868174\" style=\"fill: #1f77b4; stroke: #1f77b4\"/>\n",
       "     <use xlink:href=\"#me8e4543a19\" x=\"156.297329\" y=\"85.157168\" style=\"fill: #1f77b4; stroke: #1f77b4\"/>\n",
       "     <use xlink:href=\"#me8e4543a19\" x=\"135.434721\" y=\"85.63662\" style=\"fill: #1f77b4; stroke: #1f77b4\"/>\n",
       "     <use xlink:href=\"#me8e4543a19\" x=\"202.693981\" y=\"106.624424\" style=\"fill: #1f77b4; stroke: #1f77b4\"/>\n",
       "     <use xlink:href=\"#me8e4543a19\" x=\"112.565221\" y=\"68.931149\" style=\"fill: #1f77b4; stroke: #1f77b4\"/>\n",
       "     <use xlink:href=\"#me8e4543a19\" x=\"110.737665\" y=\"58.500944\" style=\"fill: #1f77b4; stroke: #1f77b4\"/>\n",
       "     <use xlink:href=\"#me8e4543a19\" x=\"132.392869\" y=\"80.185765\" style=\"fill: #1f77b4; stroke: #1f77b4\"/>\n",
       "     <use xlink:href=\"#me8e4543a19\" x=\"92.736046\" y=\"58.956641\" style=\"fill: #1f77b4; stroke: #1f77b4\"/>\n",
       "     <use xlink:href=\"#me8e4543a19\" x=\"144.261535\" y=\"95.866383\" style=\"fill: #1f77b4; stroke: #1f77b4\"/>\n",
       "     <use xlink:href=\"#me8e4543a19\" x=\"143.667998\" y=\"99.398376\" style=\"fill: #1f77b4; stroke: #1f77b4\"/>\n",
       "     <use xlink:href=\"#me8e4543a19\" x=\"138.528472\" y=\"79.473331\" style=\"fill: #1f77b4; stroke: #1f77b4\"/>\n",
       "     <use xlink:href=\"#me8e4543a19\" x=\"146.964927\" y=\"94.428604\" style=\"fill: #1f77b4; stroke: #1f77b4\"/>\n",
       "     <use xlink:href=\"#me8e4543a19\" x=\"139.252215\" y=\"72.096554\" style=\"fill: #1f77b4; stroke: #1f77b4\"/>\n",
       "     <use xlink:href=\"#me8e4543a19\" x=\"131.082294\" y=\"74.881975\" style=\"fill: #1f77b4; stroke: #1f77b4\"/>\n",
       "     <use xlink:href=\"#me8e4543a19\" x=\"156.107824\" y=\"88.761333\" style=\"fill: #1f77b4; stroke: #1f77b4\"/>\n",
       "     <use xlink:href=\"#me8e4543a19\" x=\"124.087893\" y=\"70.927088\" style=\"fill: #1f77b4; stroke: #1f77b4\"/>\n",
       "     <use xlink:href=\"#me8e4543a19\" x=\"145.864413\" y=\"85.584924\" style=\"fill: #1f77b4; stroke: #1f77b4\"/>\n",
       "     <use xlink:href=\"#me8e4543a19\" x=\"130.358246\" y=\"81.196938\" style=\"fill: #1f77b4; stroke: #1f77b4\"/>\n",
       "     <use xlink:href=\"#me8e4543a19\" x=\"88.798018\" y=\"60.228682\" style=\"fill: #1f77b4; stroke: #1f77b4\"/>\n",
       "     <use xlink:href=\"#me8e4543a19\" x=\"130.552304\" y=\"65.060969\" style=\"fill: #1f77b4; stroke: #1f77b4\"/>\n",
       "     <use xlink:href=\"#me8e4543a19\" x=\"105.853042\" y=\"50.819401\" style=\"fill: #1f77b4; stroke: #1f77b4\"/>\n",
       "     <use xlink:href=\"#me8e4543a19\" x=\"143.042088\" y=\"74.552674\" style=\"fill: #1f77b4; stroke: #1f77b4\"/>\n",
       "     <use xlink:href=\"#me8e4543a19\" x=\"135.689893\" y=\"80.754069\" style=\"fill: #1f77b4; stroke: #1f77b4\"/>\n",
       "     <use xlink:href=\"#me8e4543a19\" x=\"132.776338\" y=\"78.12445\" style=\"fill: #1f77b4; stroke: #1f77b4\"/>\n",
       "     <use xlink:href=\"#me8e4543a19\" x=\"115.819663\" y=\"51.667315\" style=\"fill: #1f77b4; stroke: #1f77b4\"/>\n",
       "     <use xlink:href=\"#me8e4543a19\" x=\"80.104432\" y=\"28.232996\" style=\"fill: #1f77b4; stroke: #1f77b4\"/>\n",
       "     <use xlink:href=\"#me8e4543a19\" x=\"132.709651\" y=\"67.229135\" style=\"fill: #1f77b4; stroke: #1f77b4\"/>\n",
       "     <use xlink:href=\"#me8e4543a19\" x=\"103.276821\" y=\"70.015978\" style=\"fill: #1f77b4; stroke: #1f77b4\"/>\n",
       "     <use xlink:href=\"#me8e4543a19\" x=\"155.486959\" y=\"82.348781\" style=\"fill: #1f77b4; stroke: #1f77b4\"/>\n",
       "     <use xlink:href=\"#me8e4543a19\" x=\"154.304924\" y=\"76.425168\" style=\"fill: #1f77b4; stroke: #1f77b4\"/>\n",
       "     <use xlink:href=\"#me8e4543a19\" x=\"146.362366\" y=\"69.080273\" style=\"fill: #1f77b4; stroke: #1f77b4\"/>\n",
       "     <use xlink:href=\"#me8e4543a19\" x=\"132.027237\" y=\"68.594595\" style=\"fill: #1f77b4; stroke: #1f77b4\"/>\n",
       "     <use xlink:href=\"#me8e4543a19\" x=\"156.139555\" y=\"94.412913\" style=\"fill: #1f77b4; stroke: #1f77b4\"/>\n",
       "     <use xlink:href=\"#me8e4543a19\" x=\"83.863327\" y=\"65.302311\" style=\"fill: #1f77b4; stroke: #1f77b4\"/>\n",
       "     <use xlink:href=\"#me8e4543a19\" x=\"120.482755\" y=\"62.214536\" style=\"fill: #1f77b4; stroke: #1f77b4\"/>\n",
       "     <use xlink:href=\"#me8e4543a19\" x=\"141.333377\" y=\"91.922462\" style=\"fill: #1f77b4; stroke: #1f77b4\"/>\n",
       "     <use xlink:href=\"#me8e4543a19\" x=\"148.350868\" y=\"76.672452\" style=\"fill: #1f77b4; stroke: #1f77b4\"/>\n",
       "     <use xlink:href=\"#me8e4543a19\" x=\"160.85319\" y=\"81.676656\" style=\"fill: #1f77b4; stroke: #1f77b4\"/>\n",
       "     <use xlink:href=\"#me8e4543a19\" x=\"139.293114\" y=\"72.35329\" style=\"fill: #1f77b4; stroke: #1f77b4\"/>\n",
       "     <use xlink:href=\"#me8e4543a19\" x=\"116.003544\" y=\"65.201672\" style=\"fill: #1f77b4; stroke: #1f77b4\"/>\n",
       "     <use xlink:href=\"#me8e4543a19\" x=\"147.051336\" y=\"86.302286\" style=\"fill: #1f77b4; stroke: #1f77b4\"/>\n",
       "     <use xlink:href=\"#me8e4543a19\" x=\"111.6773\" y=\"68.724731\" style=\"fill: #1f77b4; stroke: #1f77b4\"/>\n",
       "     <use xlink:href=\"#me8e4543a19\" x=\"102.163017\" y=\"60.35076\" style=\"fill: #1f77b4; stroke: #1f77b4\"/>\n",
       "     <use xlink:href=\"#me8e4543a19\" x=\"96.977733\" y=\"46.194958\" style=\"fill: #1f77b4; stroke: #1f77b4\"/>\n",
       "     <use xlink:href=\"#me8e4543a19\" x=\"174.387808\" y=\"92.625205\" style=\"fill: #1f77b4; stroke: #1f77b4\"/>\n",
       "     <use xlink:href=\"#me8e4543a19\" x=\"118.027962\" y=\"77.037704\" style=\"fill: #1f77b4; stroke: #1f77b4\"/>\n",
       "     <use xlink:href=\"#me8e4543a19\" x=\"85.399069\" y=\"34.674494\" style=\"fill: #1f77b4; stroke: #1f77b4\"/>\n",
       "     <use xlink:href=\"#me8e4543a19\" x=\"157.704406\" y=\"85.778722\" style=\"fill: #1f77b4; stroke: #1f77b4\"/>\n",
       "     <use xlink:href=\"#me8e4543a19\" x=\"160.659837\" y=\"97.141491\" style=\"fill: #1f77b4; stroke: #1f77b4\"/>\n",
       "     <use xlink:href=\"#me8e4543a19\" x=\"120.165377\" y=\"68.607575\" style=\"fill: #1f77b4; stroke: #1f77b4\"/>\n",
       "     <use xlink:href=\"#me8e4543a19\" x=\"154.849085\" y=\"76.689987\" style=\"fill: #1f77b4; stroke: #1f77b4\"/>\n",
       "     <use xlink:href=\"#me8e4543a19\" x=\"161.082394\" y=\"70.629529\" style=\"fill: #1f77b4; stroke: #1f77b4\"/>\n",
       "     <use xlink:href=\"#me8e4543a19\" x=\"156.6729\" y=\"98.21419\" style=\"fill: #1f77b4; stroke: #1f77b4\"/>\n",
       "    </g>\n",
       "   </g>\n",
       "   <g id=\"matplotlib.axis_1\">\n",
       "    <g id=\"xtick_1\">\n",
       "     <g id=\"line2d_1\">\n",
       "      <defs>\n",
       "       <path id=\"mce3d3a2beb\" d=\"M 0 0 \n",
       "L 0 3.5 \n",
       "\" style=\"stroke: #000000; stroke-width: 0.8\"/>\n",
       "      </defs>\n",
       "      <g>\n",
       "       <use xlink:href=\"#mce3d3a2beb\" x=\"77.989907\" y=\"143.1\" style=\"stroke: #000000; stroke-width: 0.8\"/>\n",
       "      </g>\n",
       "     </g>\n",
       "     <g id=\"text_1\">\n",
       "      <!-- −2 -->\n",
       "      <g transform=\"translate(70.618813 157.698438)scale(0.1 -0.1)\">\n",
       "       <defs>\n",
       "        <path id=\"DejaVuSans-2212\" d=\"M 678 2272 \n",
       "L 4684 2272 \n",
       "L 4684 1741 \n",
       "L 678 1741 \n",
       "L 678 2272 \n",
       "z\n",
       "\" transform=\"scale(0.015625)\"/>\n",
       "        <path id=\"DejaVuSans-32\" d=\"M 1228 531 \n",
       "L 3431 531 \n",
       "L 3431 0 \n",
       "L 469 0 \n",
       "L 469 531 \n",
       "Q 828 903 1448 1529 \n",
       "Q 2069 2156 2228 2338 \n",
       "Q 2531 2678 2651 2914 \n",
       "Q 2772 3150 2772 3378 \n",
       "Q 2772 3750 2511 3984 \n",
       "Q 2250 4219 1831 4219 \n",
       "Q 1534 4219 1204 4116 \n",
       "Q 875 4013 500 3803 \n",
       "L 500 4441 \n",
       "Q 881 4594 1212 4672 \n",
       "Q 1544 4750 1819 4750 \n",
       "Q 2544 4750 2975 4387 \n",
       "Q 3406 4025 3406 3419 \n",
       "Q 3406 3131 3298 2873 \n",
       "Q 3191 2616 2906 2266 \n",
       "Q 2828 2175 2409 1742 \n",
       "Q 1991 1309 1228 531 \n",
       "z\n",
       "\" transform=\"scale(0.015625)\"/>\n",
       "       </defs>\n",
       "       <use xlink:href=\"#DejaVuSans-2212\"/>\n",
       "       <use xlink:href=\"#DejaVuSans-32\" x=\"83.789062\"/>\n",
       "      </g>\n",
       "     </g>\n",
       "    </g>\n",
       "    <g id=\"xtick_2\">\n",
       "     <g id=\"line2d_2\">\n",
       "      <g>\n",
       "       <use xlink:href=\"#mce3d3a2beb\" x=\"132.86845\" y=\"143.1\" style=\"stroke: #000000; stroke-width: 0.8\"/>\n",
       "      </g>\n",
       "     </g>\n",
       "     <g id=\"text_2\">\n",
       "      <!-- 0 -->\n",
       "      <g transform=\"translate(129.6872 157.698438)scale(0.1 -0.1)\">\n",
       "       <defs>\n",
       "        <path id=\"DejaVuSans-30\" d=\"M 2034 4250 \n",
       "Q 1547 4250 1301 3770 \n",
       "Q 1056 3291 1056 2328 \n",
       "Q 1056 1369 1301 889 \n",
       "Q 1547 409 2034 409 \n",
       "Q 2525 409 2770 889 \n",
       "Q 3016 1369 3016 2328 \n",
       "Q 3016 3291 2770 3770 \n",
       "Q 2525 4250 2034 4250 \n",
       "z\n",
       "M 2034 4750 \n",
       "Q 2819 4750 3233 4129 \n",
       "Q 3647 3509 3647 2328 \n",
       "Q 3647 1150 3233 529 \n",
       "Q 2819 -91 2034 -91 \n",
       "Q 1250 -91 836 529 \n",
       "Q 422 1150 422 2328 \n",
       "Q 422 3509 836 4129 \n",
       "Q 1250 4750 2034 4750 \n",
       "z\n",
       "\" transform=\"scale(0.015625)\"/>\n",
       "       </defs>\n",
       "       <use xlink:href=\"#DejaVuSans-30\"/>\n",
       "      </g>\n",
       "     </g>\n",
       "    </g>\n",
       "    <g id=\"xtick_3\">\n",
       "     <g id=\"line2d_3\">\n",
       "      <g>\n",
       "       <use xlink:href=\"#mce3d3a2beb\" x=\"187.746994\" y=\"143.1\" style=\"stroke: #000000; stroke-width: 0.8\"/>\n",
       "      </g>\n",
       "     </g>\n",
       "     <g id=\"text_3\">\n",
       "      <!-- 2 -->\n",
       "      <g transform=\"translate(184.565744 157.698438)scale(0.1 -0.1)\">\n",
       "       <use xlink:href=\"#DejaVuSans-32\"/>\n",
       "      </g>\n",
       "     </g>\n",
       "    </g>\n",
       "   </g>\n",
       "   <g id=\"matplotlib.axis_2\">\n",
       "    <g id=\"ytick_1\">\n",
       "     <g id=\"line2d_4\">\n",
       "      <defs>\n",
       "       <path id=\"m935625d757\" d=\"M 0 0 \n",
       "L -3.5 0 \n",
       "\" style=\"stroke: #000000; stroke-width: 0.8\"/>\n",
       "      </defs>\n",
       "      <g>\n",
       "       <use xlink:href=\"#m935625d757\" x=\"35.304688\" y=\"138.325451\" style=\"stroke: #000000; stroke-width: 0.8\"/>\n",
       "      </g>\n",
       "     </g>\n",
       "     <g id=\"text_4\">\n",
       "      <!-- −10 -->\n",
       "      <g transform=\"translate(7.2 142.12467)scale(0.1 -0.1)\">\n",
       "       <defs>\n",
       "        <path id=\"DejaVuSans-31\" d=\"M 794 531 \n",
       "L 1825 531 \n",
       "L 1825 4091 \n",
       "L 703 3866 \n",
       "L 703 4441 \n",
       "L 1819 4666 \n",
       "L 2450 4666 \n",
       "L 2450 531 \n",
       "L 3481 531 \n",
       "L 3481 0 \n",
       "L 794 0 \n",
       "L 794 531 \n",
       "z\n",
       "\" transform=\"scale(0.015625)\"/>\n",
       "       </defs>\n",
       "       <use xlink:href=\"#DejaVuSans-2212\"/>\n",
       "       <use xlink:href=\"#DejaVuSans-31\" x=\"83.789062\"/>\n",
       "       <use xlink:href=\"#DejaVuSans-30\" x=\"147.412109\"/>\n",
       "      </g>\n",
       "     </g>\n",
       "    </g>\n",
       "    <g id=\"ytick_2\">\n",
       "     <g id=\"line2d_5\">\n",
       "      <g>\n",
       "       <use xlink:href=\"#m935625d757\" x=\"35.304688\" y=\"115.476748\" style=\"stroke: #000000; stroke-width: 0.8\"/>\n",
       "      </g>\n",
       "     </g>\n",
       "     <g id=\"text_5\">\n",
       "      <!-- −5 -->\n",
       "      <g transform=\"translate(13.5625 119.275967)scale(0.1 -0.1)\">\n",
       "       <defs>\n",
       "        <path id=\"DejaVuSans-35\" d=\"M 691 4666 \n",
       "L 3169 4666 \n",
       "L 3169 4134 \n",
       "L 1269 4134 \n",
       "L 1269 2991 \n",
       "Q 1406 3038 1543 3061 \n",
       "Q 1681 3084 1819 3084 \n",
       "Q 2600 3084 3056 2656 \n",
       "Q 3513 2228 3513 1497 \n",
       "Q 3513 744 3044 326 \n",
       "Q 2575 -91 1722 -91 \n",
       "Q 1428 -91 1123 -41 \n",
       "Q 819 9 494 109 \n",
       "L 494 744 \n",
       "Q 775 591 1075 516 \n",
       "Q 1375 441 1709 441 \n",
       "Q 2250 441 2565 725 \n",
       "Q 2881 1009 2881 1497 \n",
       "Q 2881 1984 2565 2268 \n",
       "Q 2250 2553 1709 2553 \n",
       "Q 1456 2553 1204 2497 \n",
       "Q 953 2441 691 2322 \n",
       "L 691 4666 \n",
       "z\n",
       "\" transform=\"scale(0.015625)\"/>\n",
       "       </defs>\n",
       "       <use xlink:href=\"#DejaVuSans-2212\"/>\n",
       "       <use xlink:href=\"#DejaVuSans-35\" x=\"83.789062\"/>\n",
       "      </g>\n",
       "     </g>\n",
       "    </g>\n",
       "    <g id=\"ytick_3\">\n",
       "     <g id=\"line2d_6\">\n",
       "      <g>\n",
       "       <use xlink:href=\"#m935625d757\" x=\"35.304688\" y=\"92.628045\" style=\"stroke: #000000; stroke-width: 0.8\"/>\n",
       "      </g>\n",
       "     </g>\n",
       "     <g id=\"text_6\">\n",
       "      <!-- 0 -->\n",
       "      <g transform=\"translate(21.942187 96.427264)scale(0.1 -0.1)\">\n",
       "       <use xlink:href=\"#DejaVuSans-30\"/>\n",
       "      </g>\n",
       "     </g>\n",
       "    </g>\n",
       "    <g id=\"ytick_4\">\n",
       "     <g id=\"line2d_7\">\n",
       "      <g>\n",
       "       <use xlink:href=\"#m935625d757\" x=\"35.304688\" y=\"69.779342\" style=\"stroke: #000000; stroke-width: 0.8\"/>\n",
       "      </g>\n",
       "     </g>\n",
       "     <g id=\"text_7\">\n",
       "      <!-- 5 -->\n",
       "      <g transform=\"translate(21.942187 73.578561)scale(0.1 -0.1)\">\n",
       "       <use xlink:href=\"#DejaVuSans-35\"/>\n",
       "      </g>\n",
       "     </g>\n",
       "    </g>\n",
       "    <g id=\"ytick_5\">\n",
       "     <g id=\"line2d_8\">\n",
       "      <g>\n",
       "       <use xlink:href=\"#m935625d757\" x=\"35.304688\" y=\"46.93064\" style=\"stroke: #000000; stroke-width: 0.8\"/>\n",
       "      </g>\n",
       "     </g>\n",
       "     <g id=\"text_8\">\n",
       "      <!-- 10 -->\n",
       "      <g transform=\"translate(15.579687 50.729858)scale(0.1 -0.1)\">\n",
       "       <use xlink:href=\"#DejaVuSans-31\"/>\n",
       "       <use xlink:href=\"#DejaVuSans-30\" x=\"63.623047\"/>\n",
       "      </g>\n",
       "     </g>\n",
       "    </g>\n",
       "    <g id=\"ytick_6\">\n",
       "     <g id=\"line2d_9\">\n",
       "      <g>\n",
       "       <use xlink:href=\"#m935625d757\" x=\"35.304688\" y=\"24.081937\" style=\"stroke: #000000; stroke-width: 0.8\"/>\n",
       "      </g>\n",
       "     </g>\n",
       "     <g id=\"text_9\">\n",
       "      <!-- 15 -->\n",
       "      <g transform=\"translate(15.579687 27.881155)scale(0.1 -0.1)\">\n",
       "       <use xlink:href=\"#DejaVuSans-31\"/>\n",
       "       <use xlink:href=\"#DejaVuSans-35\" x=\"63.623047\"/>\n",
       "      </g>\n",
       "     </g>\n",
       "    </g>\n",
       "   </g>\n",
       "   <g id=\"patch_3\">\n",
       "    <path d=\"M 35.304688 143.1 \n",
       "L 35.304688 7.2 \n",
       "\" style=\"fill: none; stroke: #000000; stroke-width: 0.8; stroke-linejoin: miter; stroke-linecap: square\"/>\n",
       "   </g>\n",
       "   <g id=\"patch_4\">\n",
       "    <path d=\"M 230.604688 143.1 \n",
       "L 230.604688 7.2 \n",
       "\" style=\"fill: none; stroke: #000000; stroke-width: 0.8; stroke-linejoin: miter; stroke-linecap: square\"/>\n",
       "   </g>\n",
       "   <g id=\"patch_5\">\n",
       "    <path d=\"M 35.304687 143.1 \n",
       "L 230.604688 143.1 \n",
       "\" style=\"fill: none; stroke: #000000; stroke-width: 0.8; stroke-linejoin: miter; stroke-linecap: square\"/>\n",
       "   </g>\n",
       "   <g id=\"patch_6\">\n",
       "    <path d=\"M 35.304687 7.2 \n",
       "L 230.604688 7.2 \n",
       "\" style=\"fill: none; stroke: #000000; stroke-width: 0.8; stroke-linejoin: miter; stroke-linecap: square\"/>\n",
       "   </g>\n",
       "  </g>\n",
       " </g>\n",
       " <defs>\n",
       "  <clipPath id=\"pf67c29379f\">\n",
       "   <rect x=\"35.304688\" y=\"7.2\" width=\"195.3\" height=\"135.9\"/>\n",
       "  </clipPath>\n",
       " </defs>\n",
       "</svg>\n"
      ],
      "text/plain": [
       "<Figure size 252x180 with 1 Axes>"
      ]
     },
     "metadata": {
      "needs_background": "light"
     },
     "output_type": "display_data"
    }
   ],
   "source": [
    "plt.scatter(features[:,1].numpy(),labels.numpy(),1)"
   ]
  },
  {
   "cell_type": "markdown",
   "metadata": {},
   "source": [
    "### 读取数据"
   ]
  },
  {
   "cell_type": "code",
   "execution_count": 209,
   "metadata": {},
   "outputs": [],
   "source": [
    "def data_iter(batch_size,features,labels):\n",
    "    num_examples = len(features)\n",
    "    indices = list(range(num_examples))\n",
    "    random.shuffle(indices)\n",
    "    for i in range(0,num_examples,batch_size):\n",
    "        j = torch.LongTensor(indices[i:min(i+batch_size,num_examples)])\n",
    "        yield features.index_select(0,j),labels.index_select(0,j)"
   ]
  },
  {
   "cell_type": "code",
   "execution_count": 210,
   "metadata": {},
   "outputs": [
    {
     "name": "stdout",
     "output_type": "stream",
     "text": [
      "tensor([[ 0.1007, -0.1812],\n",
      "        [-0.3014,  0.5102],\n",
      "        [-0.0277, -0.4025],\n",
      "        [-0.3720, -0.1237],\n",
      "        [ 0.6502, -1.1627],\n",
      "        [-1.1315,  1.0101],\n",
      "        [ 1.7208,  0.7159],\n",
      "        [ 0.4899, -0.2383],\n",
      "        [-0.7958, -0.6909],\n",
      "        [ 0.1031,  0.3363]]) tensor([ 5.0075,  1.8652,  5.5044,  3.8691,  9.4485, -1.4895,  5.2101,  5.9701,\n",
      "         4.9528,  3.2511])\n"
     ]
    }
   ],
   "source": [
    "batch_size = 10 \n",
    "for X,y in data_iter(batch_size,features,labels):\n",
    "    print(X,y)\n",
    "    break"
   ]
  },
  {
   "cell_type": "markdown",
   "metadata": {},
   "source": [
    "### 初始化模型参数"
   ]
  },
  {
   "cell_type": "code",
   "execution_count": 211,
   "metadata": {},
   "outputs": [],
   "source": [
    "w = torch.tensor(np.random.normal(0,0.01,( num_inputs,1)),dtype=torch.float32)"
   ]
  },
  {
   "cell_type": "code",
   "execution_count": 212,
   "metadata": {},
   "outputs": [
    {
     "data": {
      "text/plain": [
       "tensor([[-0.0202],\n",
       "        [ 0.0114]])"
      ]
     },
     "execution_count": 212,
     "metadata": {},
     "output_type": "execute_result"
    }
   ],
   "source": [
    "w"
   ]
  },
  {
   "cell_type": "code",
   "execution_count": 213,
   "metadata": {},
   "outputs": [],
   "source": [
    "b = torch.zeros(1,dtype=torch.float32)"
   ]
  },
  {
   "cell_type": "code",
   "execution_count": 214,
   "metadata": {},
   "outputs": [
    {
     "data": {
      "text/plain": [
       "tensor([0.])"
      ]
     },
     "execution_count": 214,
     "metadata": {},
     "output_type": "execute_result"
    }
   ],
   "source": [
    "b"
   ]
  },
  {
   "cell_type": "code",
   "execution_count": 215,
   "metadata": {},
   "outputs": [
    {
     "data": {
      "text/plain": [
       "tensor([0.], requires_grad=True)"
      ]
     },
     "execution_count": 215,
     "metadata": {},
     "output_type": "execute_result"
    }
   ],
   "source": [
    "# 这些参数要求梯度来迭代参数的值，设置 requires_grad=True\n",
    "w.requires_grad_(requires_grad = True)\n",
    "b.requires_grad_(requires_grad = True)"
   ]
  },
  {
   "cell_type": "markdown",
   "metadata": {},
   "source": [
    "### 定义模型"
   ]
  },
  {
   "cell_type": "code",
   "execution_count": 216,
   "metadata": {},
   "outputs": [],
   "source": [
    "def linreg(X,w,b):\n",
    "    return torch.mm(X,w) + b "
   ]
  },
  {
   "cell_type": "markdown",
   "metadata": {},
   "source": [
    "### 定义损失函数"
   ]
  },
  {
   "cell_type": "code",
   "execution_count": 217,
   "metadata": {},
   "outputs": [],
   "source": [
    "def squared_loss(y_hat,y):\n",
    "    # 返回的是向量\n",
    "    return (y_hat - y.view(y_hat.size())) ** 2 / 2"
   ]
  },
  {
   "cell_type": "markdown",
   "metadata": {},
   "source": [
    "### 定义优化算法"
   ]
  },
  {
   "cell_type": "code",
   "execution_count": 218,
   "metadata": {},
   "outputs": [],
   "source": [
    "# 通过不断迭代模型参数来优化损失函数\n",
    "def sgd(params,lr,batch_size):\n",
    "    for param in params:\n",
    "        param.data -= lr * param.grad/ batch_size # 自动求梯度计算的是一个批量样本的 梯度和\n",
    "        # 我们将它除以批量大小来得到平均值\n",
    "        "
   ]
  },
  {
   "cell_type": "markdown",
   "metadata": {},
   "source": [
    "### 训练模型"
   ]
  },
  {
   "cell_type": "code",
   "execution_count": 219,
   "metadata": {},
   "outputs": [
    {
     "data": {
      "text/plain": [
       "'\\n在一个迭代周期 中，我们将完成遍历一遍data_iter函数，并对训练数据集中所有样本都使用一次，这里的迭代周期个数num_epochs\\n和学习率lr都是超参数，分别设3和0.03 在实践中要反复调整这个参数 \\n\\n'"
      ]
     },
     "execution_count": 219,
     "metadata": {},
     "output_type": "execute_result"
    }
   ],
   "source": [
    "# 多次迭代模型参数，在每次迭代中，我们根据当前读取的小批量数据样本，通过调用反向函数backward计算小批量\n",
    "# 随机梯度，并调用优化算法sgd迭代模型参数，batch_size 为10，每个小批量的损失l 的形状为（10，1）\n",
    "# 由于l并不是标量 所以调用.sum() 将其求和得到一个标量，在运行l.backward() 得到该变量有关模型参数\n",
    "# 的梯度。注意在每次更新完参数后不要 忘记将参数的梯度清零\n",
    "\n",
    "\"\"\"\n",
    "在一个迭代周期 中，我们将完成遍历一遍data_iter函数，并对训练数据集中所有样本都使用一次，这里的迭代周期个数num_epochs\n",
    "和学习率lr都是超参数，分别设3和0.03 在实践中要反复调整这个参数 \n",
    "\n",
    "\"\"\""
   ]
  },
  {
   "cell_type": "code",
   "execution_count": 220,
   "metadata": {},
   "outputs": [
    {
     "data": {
      "text/plain": [
       "tensor([[-0.0202],\n",
       "        [ 0.0114]], requires_grad=True)"
      ]
     },
     "execution_count": 220,
     "metadata": {},
     "output_type": "execute_result"
    }
   ],
   "source": [
    "w"
   ]
  },
  {
   "cell_type": "code",
   "execution_count": 221,
   "metadata": {},
   "outputs": [
    {
     "name": "stdout",
     "output_type": "stream",
     "text": [
      "epoch:1 loss 0.05\n",
      "epoch:2 loss 0.00\n",
      "epoch:3 loss 0.00\n"
     ]
    }
   ],
   "source": [
    "lr = 0.03\n",
    "num_epoch=3\n",
    "net = linreg\n",
    "loss = squared_loss\n",
    "\n",
    "for epoch in range(num_epoch):\n",
    "    # 每一次迭代周期中，会使用训练数据集中所有样本一次，X和y分别是小批量样本的特征和标签\n",
    "    for X,y in data_iter(batch_size,features,labels):\n",
    "        l = loss(net(X,w,b),y).sum() # l 是小批量X和y的损失\n",
    "        l.backward() # 小批量的损失对模型参数求导数\n",
    "        sgd([w,b],lr,batch_size) # 使用小批量随机梯度下降迭代模型参数\n",
    "        \n",
    "        # 不要忘记梯度清零\n",
    "        w.grad.data.zero_()\n",
    "        b.grad.data.zero_()\n",
    "\n",
    "    train_l = loss(net(features,w,b),labels)\n",
    "    \n",
    "    print(\"epoch:%d loss %.2f\" %(epoch + 1 ,train_l.mean().item()))"
   ]
  },
  {
   "cell_type": "code",
   "execution_count": 222,
   "metadata": {},
   "outputs": [
    {
     "name": "stdout",
     "output_type": "stream",
     "text": [
      "[2, -3.4] \n",
      " tensor([[ 1.9995],\n",
      "        [-3.3991]], requires_grad=True)\n",
      "4.2 \n",
      " tensor([4.1987], requires_grad=True)\n"
     ]
    }
   ],
   "source": [
    "print(true_w, '\\n',w)\n",
    "print(true_b, '\\n',b)"
   ]
  },
  {
   "cell_type": "markdown",
   "metadata": {},
   "source": [
    "## 线性回归简洁实现"
   ]
  },
  {
   "cell_type": "markdown",
   "metadata": {},
   "source": [
    "### 生成数据集"
   ]
  },
  {
   "cell_type": "code",
   "execution_count": 223,
   "metadata": {},
   "outputs": [],
   "source": [
    "num_inputs =2 \n",
    "num_examples = 1000\n",
    "true_w = [2,-3.4]\n",
    "true_b = 4.2\n",
    "\n",
    "features = torch.tensor(np.random.normal(0,1,(num_examples,num_inputs)),dtype=torch.float)\n",
    "labels = true_w[0] * features[:,0] + true_w[1] * features[:,1] + true_b\n",
    "labels += torch.tensor(np.random.normal(0,0.01,size = labels.size()),dtype=torch.float)\n"
   ]
  },
  {
   "cell_type": "markdown",
   "metadata": {},
   "source": [
    "### 读取数据"
   ]
  },
  {
   "cell_type": "code",
   "execution_count": 224,
   "metadata": {},
   "outputs": [],
   "source": [
    "# Pytorch 提供data 包来读取数据，由于data 常用做变量名，我们将导入的data模块用Data 代替在每次一迭代中\n",
    "# 我们将随机读取包含数据样本的小批量\n",
    "import torch.utils.data as Data\n",
    "\n",
    "batch_size = 10 \n",
    "# 将训练数据的特征和标签组合 \n",
    "dataset = Data.TensorDataset(features,labels)\n"
   ]
  },
  {
   "cell_type": "code",
   "execution_count": 225,
   "metadata": {},
   "outputs": [],
   "source": [
    "# 读取小批量\n",
    "data_iter = Data.DataLoader(dataset,batch_size,shuffle=True)"
   ]
  },
  {
   "cell_type": "code",
   "execution_count": 226,
   "metadata": {},
   "outputs": [
    {
     "data": {
      "text/plain": [
       "<torch.utils.data.dataloader.DataLoader at 0x7fdb23d11650>"
      ]
     },
     "execution_count": 226,
     "metadata": {},
     "output_type": "execute_result"
    }
   ],
   "source": [
    "data_iter"
   ]
  },
  {
   "cell_type": "code",
   "execution_count": 227,
   "metadata": {},
   "outputs": [],
   "source": [
    "import torch.nn as nn"
   ]
  },
  {
   "cell_type": "markdown",
   "metadata": {},
   "source": [
    "### 定义模型"
   ]
  },
  {
   "cell_type": "code",
   "execution_count": 228,
   "metadata": {},
   "outputs": [],
   "source": [
    "# Pytorch 提供大量预定义层，我们只要关注使用哪些层来构造函数 首先导入 torch.nn 模块，该模块定义了大量的\n",
    "# 神经网络层，之前用过autograd 而 nn 就是利用 autograd 来定义模型，nn的核心数据结构是Module 他是一个\n",
    "# 抽象概念，既可以表示神经网络的某一个层，也可以表示一个包含很多层的神经网络，在实际使用中 最常见的就是继承\n",
    "# nn.Module 撰写自己的网络层，一个nn.Module实例应该包含 一些层以及返回输出的前向传播（forward）方法，"
   ]
  },
  {
   "cell_type": "code",
   "execution_count": 229,
   "metadata": {},
   "outputs": [],
   "source": [
    "class LinearNet(nn.Module):\n",
    "    def __init__(self,n_feature):\n",
    "        super(LinearNet,self).__init__()\n",
    "        self.linear = nn.Linear(n_feature,1)\n",
    "        \n",
    "    # forward前向传播 \n",
    "    def forward(self,x):\n",
    "        y = self.linear(x)\n",
    "        return y\n",
    "net = LinearNet(num_inputs)"
   ]
  },
  {
   "cell_type": "code",
   "execution_count": 230,
   "metadata": {},
   "outputs": [
    {
     "data": {
      "text/plain": [
       "LinearNet(\n",
       "  (linear): Linear(in_features=2, out_features=1, bias=True)\n",
       ")"
      ]
     },
     "execution_count": 230,
     "metadata": {},
     "output_type": "execute_result"
    }
   ],
   "source": [
    "net"
   ]
  },
  {
   "cell_type": "code",
   "execution_count": 231,
   "metadata": {},
   "outputs": [],
   "source": [
    "# 我们还可以用nn.Sequential 来更加方便的搭建网络，Sequential 是一个有序的容器，网络层将按照在传入的\n",
    "# Sequential的顺序依次被添加到计算图中\n"
   ]
  },
  {
   "cell_type": "code",
   "execution_count": 232,
   "metadata": {},
   "outputs": [
    {
     "name": "stdout",
     "output_type": "stream",
     "text": [
      "Sequential(\n",
      "  (linear): Linear(in_features=2, out_features=1, bias=True)\n",
      ")\n"
     ]
    }
   ],
   "source": [
    "# 写法一\n",
    "net = nn.Sequential(\n",
    "nn.Linear(num_inputs,1)\n",
    "    # 此外还可以传 其他层\n",
    ")\n",
    "# 写法二\n",
    "net  = nn.Sequential()\n",
    "net.add_module('linear',nn.Linear(num_inputs,1))\n",
    "# net.add_module()\n",
    "\n",
    "# 写法三\n",
    "from collections import OrderedDict\n",
    "\n",
    "net = nn.Sequential(OrderedDict([\n",
    "    ('linear',nn.Linear(num_inputs,1))\n",
    "    # ....\n",
    "    \n",
    "]))\n",
    "\n",
    "print(net)"
   ]
  },
  {
   "cell_type": "code",
   "execution_count": 233,
   "metadata": {},
   "outputs": [
    {
     "data": {
      "text/plain": [
       "Linear(in_features=2, out_features=1, bias=True)"
      ]
     },
     "execution_count": 233,
     "metadata": {},
     "output_type": "execute_result"
    }
   ],
   "source": [
    "net[0]"
   ]
  },
  {
   "cell_type": "code",
   "execution_count": 234,
   "metadata": {},
   "outputs": [],
   "source": [
    "# 可以通过net.parameters() 来 查看模型所有的可学习参数"
   ]
  },
  {
   "cell_type": "code",
   "execution_count": 235,
   "metadata": {},
   "outputs": [
    {
     "name": "stdout",
     "output_type": "stream",
     "text": [
      "Parameter containing:\n",
      "tensor([[-0.4133,  0.0649]], requires_grad=True)\n",
      "Parameter containing:\n",
      "tensor([-0.1067], requires_grad=True)\n"
     ]
    }
   ],
   "source": [
    "for param in net.parameters():\n",
    "    print(param)"
   ]
  },
  {
   "cell_type": "markdown",
   "metadata": {},
   "source": [
    "### 初始化模型参数"
   ]
  },
  {
   "cell_type": "code",
   "execution_count": 236,
   "metadata": {},
   "outputs": [],
   "source": [
    "# 在net 前，我们要初始化模型参数，线性回归模型参数中的权重 和偏差 Pytorch在init模块中 提供了多种\n",
    "# 参数初始化方法 \n"
   ]
  },
  {
   "cell_type": "code",
   "execution_count": 237,
   "metadata": {},
   "outputs": [
    {
     "data": {
      "text/plain": [
       "Parameter containing:\n",
       "tensor([0.0100], requires_grad=True)"
      ]
     },
     "execution_count": 237,
     "metadata": {},
     "output_type": "execute_result"
    }
   ],
   "source": [
    "from torch.nn import init\n",
    "\n",
    "init.normal_(net[0].weight,mean=0,std=0.01)\n",
    "init.constant_(net[0].bias,val=0.01)"
   ]
  },
  {
   "cell_type": "markdown",
   "metadata": {},
   "source": [
    "### 定义损失函数"
   ]
  },
  {
   "cell_type": "code",
   "execution_count": 238,
   "metadata": {},
   "outputs": [],
   "source": [
    "loss = nn.MSELoss()"
   ]
  },
  {
   "cell_type": "markdown",
   "metadata": {},
   "source": [
    "### 优化算法"
   ]
  },
  {
   "cell_type": "code",
   "execution_count": 239,
   "metadata": {},
   "outputs": [],
   "source": [
    "import torch.optim as optim \n",
    "optimizer = optim.SGD(net.parameters(),lr=0.03)"
   ]
  },
  {
   "cell_type": "code",
   "execution_count": 240,
   "metadata": {},
   "outputs": [
    {
     "data": {
      "text/plain": [
       "SGD (\n",
       "Parameter Group 0\n",
       "    dampening: 0\n",
       "    lr: 0.03\n",
       "    momentum: 0\n",
       "    nesterov: False\n",
       "    weight_decay: 0\n",
       ")"
      ]
     },
     "execution_count": 240,
     "metadata": {},
     "output_type": "execute_result"
    }
   ],
   "source": [
    "optimizer"
   ]
  },
  {
   "cell_type": "markdown",
   "metadata": {},
   "source": [
    "### 训练模型"
   ]
  },
  {
   "cell_type": "code",
   "execution_count": 241,
   "metadata": {},
   "outputs": [
    {
     "name": "stdout",
     "output_type": "stream",
     "text": [
      "epoch 1 loss 0.00\n",
      "epoch 2 loss 0.00\n",
      "epoch 3 loss 0.00\n"
     ]
    }
   ],
   "source": [
    "num_epoch = 3\n",
    "for epoch in range(1,num_epoch+1):\n",
    "    for X,y in data_iter:\n",
    "        out_put = net(X)\n",
    "        l = loss(out_put,y.view(-1,1))\n",
    "        optimizer.zero_grad()\n",
    "        l.backward()\n",
    "        optimizer.step()\n",
    "        \n",
    "    print(\"epoch %d loss %.2f\" %(epoch,l.item()))"
   ]
  },
  {
   "cell_type": "code",
   "execution_count": 242,
   "metadata": {},
   "outputs": [],
   "source": [
    "dense = net[0]"
   ]
  },
  {
   "cell_type": "code",
   "execution_count": 243,
   "metadata": {},
   "outputs": [
    {
     "name": "stdout",
     "output_type": "stream",
     "text": [
      "[2, -3.4] Parameter containing:\n",
      "tensor([[ 1.9995, -3.4000]], requires_grad=True)\n"
     ]
    }
   ],
   "source": [
    "print(true_w,dense.weight)"
   ]
  },
  {
   "cell_type": "markdown",
   "metadata": {},
   "source": [
    "## softmax回归"
   ]
  },
  {
   "cell_type": "markdown",
   "metadata": {},
   "source": [
    "### 分类问题"
   ]
  },
  {
   "cell_type": "code",
   "execution_count": 244,
   "metadata": {},
   "outputs": [
    {
     "data": {
      "text/plain": [
       "'\\n我们考虑一个简单的分类问题，其输入图像的高和宽均为2像素，且色彩为灰度，这样%hist个像素值都可以用一个标量表示  \\n我们将图像中的4个像素分别即记为X1,X2,X3,X4 假设训练数据集中图像的真实标签为 狗、猫、鸡 这类标签，\\n分别对应离散值Y1,Y2,y3\\n我们通常，使用离散数值 来表示类别  例如 y1 = 1,y2= 2 y3 = 3 如此 一张图像的标签为 1，2，3这个3个数值中一个\\n虽然我们仍然可以使用回归模型来建模，并将预测值就近定点化到 1、2、3这3个离散值值一，但是这种连续续值到离散值的转化\\n通常会影响到分类质量，因此 我们一般使用更合适离散值输出的模型来解决分类问题\\n'"
      ]
     },
     "execution_count": 244,
     "metadata": {},
     "output_type": "execute_result"
    }
   ],
   "source": [
    "\"\"\"\n",
    "我们考虑一个简单的分类问题，其输入图像的高和宽均为2像素，且色彩为灰度，这样%hist个像素值都可以用一个标量表示  \n",
    "我们将图像中的4个像素分别即记为X1,X2,X3,X4 假设训练数据集中图像的真实标签为 狗、猫、鸡 这类标签，\n",
    "分别对应离散值Y1,Y2,y3\n",
    "我们通常，使用离散数值 来表示类别  例如 y1 = 1,y2= 2 y3 = 3 如此 一张图像的标签为 1，2，3这个3个数值中一个\n",
    "虽然我们仍然可以使用回归模型来建模，并将预测值就近定点化到 1、2、3这3个离散值值一，但是这种连续续值到离散值的转化\n",
    "通常会影响到分类质量，因此 我们一般使用更合适离散值输出的模型来解决分类问题\n",
    "\"\"\""
   ]
  },
  {
   "cell_type": "markdown",
   "metadata": {},
   "source": [
    "### softmax 回归模型"
   ]
  },
  {
   "cell_type": "code",
   "execution_count": 245,
   "metadata": {},
   "outputs": [
    {
     "data": {
      "text/plain": [
       "'\\nsoftmax回归跟线性回归一样将输入特征与权重做线性叠加。与线性回归的一个主要不同在于，\\nsoftmax回归的输出值个数等于标签里的类别数。因为一共有4种特征和3种输出动物类别，所以权重包含12个标量（带下标的ww）、\\n偏差包含3个标量（带下标的b），且对每个输入计算o1,o2,o3o 这3个输出\\n\\n\\n'"
      ]
     },
     "execution_count": 245,
     "metadata": {},
     "output_type": "execute_result"
    }
   ],
   "source": [
    "\"\"\"\n",
    "softmax回归跟线性回归一样将输入特征与权重做线性叠加。与线性回归的一个主要不同在于，\n",
    "softmax回归的输出值个数等于标签里的类别数。因为一共有4种特征和3种输出动物类别，所以权重包含12个标量（带下标的ww）、\n",
    "偏差包含3个标量（带下标的b），且对每个输入计算o1,o2,o3o 这3个输出\n",
    "\n",
    "\n",
    "\"\"\""
   ]
  },
  {
   "cell_type": "markdown",
   "metadata": {},
   "source": [
    "## 图像分类数据集"
   ]
  },
  {
   "cell_type": "markdown",
   "metadata": {},
   "source": [
    "### 获取数据集"
   ]
  },
  {
   "cell_type": "code",
   "execution_count": 246,
   "metadata": {},
   "outputs": [],
   "source": [
    "import torch\n",
    "import torchvision\n",
    "import torchvision.transforms as transforms\n",
    "import matplotlib.pyplot as plt\n",
    "import time\n",
    "import sys\n",
    "sys.path.append(\"..\") # 为了导入上层目录的d2lzh_pytorch\n",
    "import d2lzh_pytorch as d2l  "
   ]
  },
  {
   "cell_type": "code",
   "execution_count": 247,
   "metadata": {},
   "outputs": [],
   "source": [
    "mnist_train = torchvision.datasets.FashionMNIST(root='~/Datasets/FashionMNIST', train=True, download=True, transform=transforms.ToTensor())\n",
    "mnist_test = torchvision.datasets.FashionMNIST(root='~/Datasets/FashionMNIST', train=False, download=True, transform=transforms.ToTensor())"
   ]
  },
  {
   "cell_type": "code",
   "execution_count": 248,
   "metadata": {},
   "outputs": [
    {
     "data": {
      "text/plain": [
       "torchvision.datasets.mnist.FashionMNIST"
      ]
     },
     "execution_count": 248,
     "metadata": {},
     "output_type": "execute_result"
    }
   ],
   "source": [
    "type(mnist_train)"
   ]
  },
  {
   "cell_type": "code",
   "execution_count": 249,
   "metadata": {},
   "outputs": [
    {
     "data": {
      "text/plain": [
       "60000"
      ]
     },
     "execution_count": 249,
     "metadata": {},
     "output_type": "execute_result"
    }
   ],
   "source": [
    "len(mnist_train)"
   ]
  },
  {
   "cell_type": "code",
   "execution_count": 250,
   "metadata": {},
   "outputs": [
    {
     "data": {
      "text/plain": [
       "10000"
      ]
     },
     "execution_count": 250,
     "metadata": {},
     "output_type": "execute_result"
    }
   ],
   "source": [
    "len(mnist_test)"
   ]
  },
  {
   "cell_type": "code",
   "execution_count": 251,
   "metadata": {},
   "outputs": [],
   "source": [
    "feature,label = mnist_train[0]"
   ]
  },
  {
   "cell_type": "code",
   "execution_count": 252,
   "metadata": {},
   "outputs": [
    {
     "data": {
      "text/plain": [
       "torch.Size([1, 28, 28])"
      ]
     },
     "execution_count": 252,
     "metadata": {},
     "output_type": "execute_result"
    }
   ],
   "source": [
    "feature.shape"
   ]
  },
  {
   "cell_type": "code",
   "execution_count": 253,
   "metadata": {},
   "outputs": [
    {
     "data": {
      "text/plain": [
       "9"
      ]
     },
     "execution_count": 253,
     "metadata": {},
     "output_type": "execute_result"
    }
   ],
   "source": [
    "label"
   ]
  },
  {
   "cell_type": "code",
   "execution_count": 254,
   "metadata": {},
   "outputs": [],
   "source": [
    "# 本函数已保存在d2lzh包中方便以后使用\n",
    "def get_fashion_mnist_labels(labels):\n",
    "    text_labels = ['t-shirt', 'trouser', 'pullover', 'dress', 'coat',\n",
    "                   'sandal', 'shirt', 'sneaker', 'bag', 'ankle boot']\n",
    "    return [text_labels[int(i)] for i in labels]"
   ]
  },
  {
   "cell_type": "code",
   "execution_count": 255,
   "metadata": {},
   "outputs": [],
   "source": [
    "# 本函数已保存在d2lzh包中方便以后使用\n",
    "def show_fashion_mnist(images, labels):\n",
    "    d2l.use_svg_display()\n",
    "    # 这里的_表示我们忽略（不使用）的变量\n",
    "    _, figs = plt.subplots(1, len(images), figsize=(12, 12))\n",
    "    for f, img, lbl in zip(figs, images, labels):\n",
    "        f.imshow(img.view((28, 28)).numpy())\n",
    "        f.set_title(lbl)\n",
    "        f.axes.get_xaxis().set_visible(False)\n",
    "        f.axes.get_yaxis().set_visible(False)\n",
    "    plt.show()"
   ]
  },
  {
   "cell_type": "code",
   "execution_count": 256,
   "metadata": {},
   "outputs": [
    {
     "data": {
      "image/svg+xml": [
       "<?xml version=\"1.0\" encoding=\"utf-8\" standalone=\"no\"?>\n",
       "<!DOCTYPE svg PUBLIC \"-//W3C//DTD SVG 1.1//EN\"\n",
       "  \"http://www.w3.org/Graphics/SVG/1.1/DTD/svg11.dtd\">\n",
       "<svg xmlns:xlink=\"http://www.w3.org/1999/xlink\" width=\"687.5pt\" height=\"89.763888pt\" viewBox=\"0 0 687.5 89.763888\" xmlns=\"http://www.w3.org/2000/svg\" version=\"1.1\">\n",
       " <metadata>\n",
       "  <rdf:RDF xmlns:dc=\"http://purl.org/dc/elements/1.1/\" xmlns:cc=\"http://creativecommons.org/ns#\" xmlns:rdf=\"http://www.w3.org/1999/02/22-rdf-syntax-ns#\">\n",
       "   <cc:Work>\n",
       "    <dc:type rdf:resource=\"http://purl.org/dc/dcmitype/StillImage\"/>\n",
       "    <dc:date>2022-12-08T19:08:23.787372</dc:date>\n",
       "    <dc:format>image/svg+xml</dc:format>\n",
       "    <dc:creator>\n",
       "     <cc:Agent>\n",
       "      <dc:title>Matplotlib v3.5.1, https://matplotlib.org/</dc:title>\n",
       "     </cc:Agent>\n",
       "    </dc:creator>\n",
       "   </cc:Work>\n",
       "  </rdf:RDF>\n",
       " </metadata>\n",
       " <defs>\n",
       "  <style type=\"text/css\">*{stroke-linejoin: round; stroke-linecap: butt}</style>\n",
       " </defs>\n",
       " <g id=\"figure_1\">\n",
       "  <g id=\"patch_1\">\n",
       "   <path d=\"M 0 89.763888 \n",
       "L 687.5 89.763888 \n",
       "L 687.5 -0 \n",
       "L 0 -0 \n",
       "L 0 89.763888 \n",
       "z\n",
       "\" style=\"fill: none\"/>\n",
       "  </g>\n",
       "  <g id=\"axes_1\">\n",
       "   <g id=\"patch_2\">\n",
       "    <path d=\"M 10.7 79.063888 \n",
       "L 67.445763 79.063888 \n",
       "L 67.445763 22.318125 \n",
       "L 10.7 22.318125 \n",
       "z\n",
       "\" style=\"fill: #ffffff\"/>\n",
       "   </g>\n",
       "   <g clip-path=\"url(#p92c7ccda85)\">\n",
       "    <image xlink:href=\"data:image/png;base64,\n",
       "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\" id=\"imagea646b9b2ac\" transform=\"scale(1 -1)translate(0 -57)\" x=\"10.7\" y=\"-22.063888\" width=\"57\" height=\"57\"/>\n",
       "   </g>\n",
       "   <g id=\"patch_3\">\n",
       "    <path d=\"M 10.7 79.063888 \n",
       "L 10.7 22.318125 \n",
       "\" style=\"fill: none; stroke: #000000; stroke-width: 0.8; stroke-linejoin: miter; stroke-linecap: square\"/>\n",
       "   </g>\n",
       "   <g id=\"patch_4\">\n",
       "    <path d=\"M 67.445763 79.063888 \n",
       "L 67.445763 22.318125 \n",
       "\" style=\"fill: none; stroke: #000000; stroke-width: 0.8; stroke-linejoin: miter; stroke-linecap: square\"/>\n",
       "   </g>\n",
       "   <g id=\"patch_5\">\n",
       "    <path d=\"M 10.7 79.063888 \n",
       "L 67.445763 79.063888 \n",
       "\" style=\"fill: none; stroke: #000000; stroke-width: 0.8; stroke-linejoin: miter; stroke-linecap: square\"/>\n",
       "   </g>\n",
       "   <g id=\"patch_6\">\n",
       "    <path d=\"M 10.7 22.318125 \n",
       "L 67.445763 22.318125 \n",
       "\" style=\"fill: none; stroke: #000000; stroke-width: 0.8; stroke-linejoin: miter; stroke-linecap: square\"/>\n",
       "   </g>\n",
       "   <g id=\"text_1\">\n",
       "    <!-- ankle boot -->\n",
       "    <g transform=\"translate(7.349756 16.318125)scale(0.12 -0.12)\">\n",
       "     <defs>\n",
       "      <path id=\"DejaVuSans-61\" d=\"M 2194 1759 \n",
       "Q 1497 1759 1228 1600 \n",
       "Q 959 1441 959 1056 \n",
       "Q 959 750 1161 570 \n",
       "Q 1363 391 1709 391 \n",
       "Q 2188 391 2477 730 \n",
       "Q 2766 1069 2766 1631 \n",
       "L 2766 1759 \n",
       "L 2194 1759 \n",
       "z\n",
       "M 3341 1997 \n",
       "L 3341 0 \n",
       "L 2766 0 \n",
       "L 2766 531 \n",
       "Q 2569 213 2275 61 \n",
       "Q 1981 -91 1556 -91 \n",
       "Q 1019 -91 701 211 \n",
       "Q 384 513 384 1019 \n",
       "Q 384 1609 779 1909 \n",
       "Q 1175 2209 1959 2209 \n",
       "L 2766 2209 \n",
       "L 2766 2266 \n",
       "Q 2766 2663 2505 2880 \n",
       "Q 2244 3097 1772 3097 \n",
       "Q 1472 3097 1187 3025 \n",
       "Q 903 2953 641 2809 \n",
       "L 641 3341 \n",
       "Q 956 3463 1253 3523 \n",
       "Q 1550 3584 1831 3584 \n",
       "Q 2591 3584 2966 3190 \n",
       "Q 3341 2797 3341 1997 \n",
       "z\n",
       "\" transform=\"scale(0.015625)\"/>\n",
       "      <path id=\"DejaVuSans-6e\" d=\"M 3513 2113 \n",
       "L 3513 0 \n",
       "L 2938 0 \n",
       "L 2938 2094 \n",
       "Q 2938 2591 2744 2837 \n",
       "Q 2550 3084 2163 3084 \n",
       "Q 1697 3084 1428 2787 \n",
       "Q 1159 2491 1159 1978 \n",
       "L 1159 0 \n",
       "L 581 0 \n",
       "L 581 3500 \n",
       "L 1159 3500 \n",
       "L 1159 2956 \n",
       "Q 1366 3272 1645 3428 \n",
       "Q 1925 3584 2291 3584 \n",
       "Q 2894 3584 3203 3211 \n",
       "Q 3513 2838 3513 2113 \n",
       "z\n",
       "\" transform=\"scale(0.015625)\"/>\n",
       "      <path id=\"DejaVuSans-6b\" d=\"M 581 4863 \n",
       "L 1159 4863 \n",
       "L 1159 1991 \n",
       "L 2875 3500 \n",
       "L 3609 3500 \n",
       "L 1753 1863 \n",
       "L 3688 0 \n",
       "L 2938 0 \n",
       "L 1159 1709 \n",
       "L 1159 0 \n",
       "L 581 0 \n",
       "L 581 4863 \n",
       "z\n",
       "\" transform=\"scale(0.015625)\"/>\n",
       "      <path id=\"DejaVuSans-6c\" d=\"M 603 4863 \n",
       "L 1178 4863 \n",
       "L 1178 0 \n",
       "L 603 0 \n",
       "L 603 4863 \n",
       "z\n",
       "\" transform=\"scale(0.015625)\"/>\n",
       "      <path id=\"DejaVuSans-65\" d=\"M 3597 1894 \n",
       "L 3597 1613 \n",
       "L 953 1613 \n",
       "Q 991 1019 1311 708 \n",
       "Q 1631 397 2203 397 \n",
       "Q 2534 397 2845 478 \n",
       "Q 3156 559 3463 722 \n",
       "L 3463 178 \n",
       "Q 3153 47 2828 -22 \n",
       "Q 2503 -91 2169 -91 \n",
       "Q 1331 -91 842 396 \n",
       "Q 353 884 353 1716 \n",
       "Q 353 2575 817 3079 \n",
       "Q 1281 3584 2069 3584 \n",
       "Q 2775 3584 3186 3129 \n",
       "Q 3597 2675 3597 1894 \n",
       "z\n",
       "M 3022 2063 \n",
       "Q 3016 2534 2758 2815 \n",
       "Q 2500 3097 2075 3097 \n",
       "Q 1594 3097 1305 2825 \n",
       "Q 1016 2553 972 2059 \n",
       "L 3022 2063 \n",
       "z\n",
       "\" transform=\"scale(0.015625)\"/>\n",
       "      <path id=\"DejaVuSans-20\" transform=\"scale(0.015625)\"/>\n",
       "      <path id=\"DejaVuSans-62\" d=\"M 3116 1747 \n",
       "Q 3116 2381 2855 2742 \n",
       "Q 2594 3103 2138 3103 \n",
       "Q 1681 3103 1420 2742 \n",
       "Q 1159 2381 1159 1747 \n",
       "Q 1159 1113 1420 752 \n",
       "Q 1681 391 2138 391 \n",
       "Q 2594 391 2855 752 \n",
       "Q 3116 1113 3116 1747 \n",
       "z\n",
       "M 1159 2969 \n",
       "Q 1341 3281 1617 3432 \n",
       "Q 1894 3584 2278 3584 \n",
       "Q 2916 3584 3314 3078 \n",
       "Q 3713 2572 3713 1747 \n",
       "Q 3713 922 3314 415 \n",
       "Q 2916 -91 2278 -91 \n",
       "Q 1894 -91 1617 61 \n",
       "Q 1341 213 1159 525 \n",
       "L 1159 0 \n",
       "L 581 0 \n",
       "L 581 4863 \n",
       "L 1159 4863 \n",
       "L 1159 2969 \n",
       "z\n",
       "\" transform=\"scale(0.015625)\"/>\n",
       "      <path id=\"DejaVuSans-6f\" d=\"M 1959 3097 \n",
       "Q 1497 3097 1228 2736 \n",
       "Q 959 2375 959 1747 \n",
       "Q 959 1119 1226 758 \n",
       "Q 1494 397 1959 397 \n",
       "Q 2419 397 2687 759 \n",
       "Q 2956 1122 2956 1747 \n",
       "Q 2956 2369 2687 2733 \n",
       "Q 2419 3097 1959 3097 \n",
       "z\n",
       "M 1959 3584 \n",
       "Q 2709 3584 3137 3096 \n",
       "Q 3566 2609 3566 1747 \n",
       "Q 3566 888 3137 398 \n",
       "Q 2709 -91 1959 -91 \n",
       "Q 1206 -91 779 398 \n",
       "Q 353 888 353 1747 \n",
       "Q 353 2609 779 3096 \n",
       "Q 1206 3584 1959 3584 \n",
       "z\n",
       "\" transform=\"scale(0.015625)\"/>\n",
       "      <path id=\"DejaVuSans-74\" d=\"M 1172 4494 \n",
       "L 1172 3500 \n",
       "L 2356 3500 \n",
       "L 2356 3053 \n",
       "L 1172 3053 \n",
       "L 1172 1153 \n",
       "Q 1172 725 1289 603 \n",
       "Q 1406 481 1766 481 \n",
       "L 2356 481 \n",
       "L 2356 0 \n",
       "L 1766 0 \n",
       "Q 1100 0 847 248 \n",
       "Q 594 497 594 1153 \n",
       "L 594 3053 \n",
       "L 172 3053 \n",
       "L 172 3500 \n",
       "L 594 3500 \n",
       "L 594 4494 \n",
       "L 1172 4494 \n",
       "z\n",
       "\" transform=\"scale(0.015625)\"/>\n",
       "     </defs>\n",
       "     <use xlink:href=\"#DejaVuSans-61\"/>\n",
       "     <use xlink:href=\"#DejaVuSans-6e\" x=\"61.279297\"/>\n",
       "     <use xlink:href=\"#DejaVuSans-6b\" x=\"124.658203\"/>\n",
       "     <use xlink:href=\"#DejaVuSans-6c\" x=\"182.568359\"/>\n",
       "     <use xlink:href=\"#DejaVuSans-65\" x=\"210.351562\"/>\n",
       "     <use xlink:href=\"#DejaVuSans-20\" x=\"271.875\"/>\n",
       "     <use xlink:href=\"#DejaVuSans-62\" x=\"303.662109\"/>\n",
       "     <use xlink:href=\"#DejaVuSans-6f\" x=\"367.138672\"/>\n",
       "     <use xlink:href=\"#DejaVuSans-6f\" x=\"428.320312\"/>\n",
       "     <use xlink:href=\"#DejaVuSans-74\" x=\"489.501953\"/>\n",
       "    </g>\n",
       "   </g>\n",
       "  </g>\n",
       "  <g id=\"axes_2\">\n",
       "   <g id=\"patch_7\">\n",
       "    <path d=\"M 78.794915 79.063888 \n",
       "L 135.540678 79.063888 \n",
       "L 135.540678 22.318125 \n",
       "L 78.794915 22.318125 \n",
       "z\n",
       "\" style=\"fill: #ffffff\"/>\n",
       "   </g>\n",
       "   <g clip-path=\"url(#p77b8ee086f)\">\n",
       "    <image xlink:href=\"data:image/png;base64,\n",
       "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\" id=\"image48744d865c\" transform=\"scale(1 -1)translate(0 -57)\" x=\"78.794915\" y=\"-22.063888\" width=\"57\" height=\"57\"/>\n",
       "   </g>\n",
       "   <g id=\"patch_8\">\n",
       "    <path d=\"M 78.794915 79.063888 \n",
       "L 78.794915 22.318125 \n",
       "\" style=\"fill: none; stroke: #000000; stroke-width: 0.8; stroke-linejoin: miter; stroke-linecap: square\"/>\n",
       "   </g>\n",
       "   <g id=\"patch_9\">\n",
       "    <path d=\"M 135.540678 79.063888 \n",
       "L 135.540678 22.318125 \n",
       "\" style=\"fill: none; stroke: #000000; stroke-width: 0.8; stroke-linejoin: miter; stroke-linecap: square\"/>\n",
       "   </g>\n",
       "   <g id=\"patch_10\">\n",
       "    <path d=\"M 78.794915 79.063888 \n",
       "L 135.540678 79.063888 \n",
       "\" style=\"fill: none; stroke: #000000; stroke-width: 0.8; stroke-linejoin: miter; stroke-linecap: square\"/>\n",
       "   </g>\n",
       "   <g id=\"patch_11\">\n",
       "    <path d=\"M 78.794915 22.318125 \n",
       "L 135.540678 22.318125 \n",
       "\" style=\"fill: none; stroke: #000000; stroke-width: 0.8; stroke-linejoin: miter; stroke-linecap: square\"/>\n",
       "   </g>\n",
       "   <g id=\"text_2\">\n",
       "    <!-- t-shirt -->\n",
       "    <g transform=\"translate(89.237172 16.318125)scale(0.12 -0.12)\">\n",
       "     <defs>\n",
       "      <path id=\"DejaVuSans-2d\" d=\"M 313 2009 \n",
       "L 1997 2009 \n",
       "L 1997 1497 \n",
       "L 313 1497 \n",
       "L 313 2009 \n",
       "z\n",
       "\" transform=\"scale(0.015625)\"/>\n",
       "      <path id=\"DejaVuSans-73\" d=\"M 2834 3397 \n",
       "L 2834 2853 \n",
       "Q 2591 2978 2328 3040 \n",
       "Q 2066 3103 1784 3103 \n",
       "Q 1356 3103 1142 2972 \n",
       "Q 928 2841 928 2578 \n",
       "Q 928 2378 1081 2264 \n",
       "Q 1234 2150 1697 2047 \n",
       "L 1894 2003 \n",
       "Q 2506 1872 2764 1633 \n",
       "Q 3022 1394 3022 966 \n",
       "Q 3022 478 2636 193 \n",
       "Q 2250 -91 1575 -91 \n",
       "Q 1294 -91 989 -36 \n",
       "Q 684 19 347 128 \n",
       "L 347 722 \n",
       "Q 666 556 975 473 \n",
       "Q 1284 391 1588 391 \n",
       "Q 1994 391 2212 530 \n",
       "Q 2431 669 2431 922 \n",
       "Q 2431 1156 2273 1281 \n",
       "Q 2116 1406 1581 1522 \n",
       "L 1381 1569 \n",
       "Q 847 1681 609 1914 \n",
       "Q 372 2147 372 2553 \n",
       "Q 372 3047 722 3315 \n",
       "Q 1072 3584 1716 3584 \n",
       "Q 2034 3584 2315 3537 \n",
       "Q 2597 3491 2834 3397 \n",
       "z\n",
       "\" transform=\"scale(0.015625)\"/>\n",
       "      <path id=\"DejaVuSans-68\" d=\"M 3513 2113 \n",
       "L 3513 0 \n",
       "L 2938 0 \n",
       "L 2938 2094 \n",
       "Q 2938 2591 2744 2837 \n",
       "Q 2550 3084 2163 3084 \n",
       "Q 1697 3084 1428 2787 \n",
       "Q 1159 2491 1159 1978 \n",
       "L 1159 0 \n",
       "L 581 0 \n",
       "L 581 4863 \n",
       "L 1159 4863 \n",
       "L 1159 2956 \n",
       "Q 1366 3272 1645 3428 \n",
       "Q 1925 3584 2291 3584 \n",
       "Q 2894 3584 3203 3211 \n",
       "Q 3513 2838 3513 2113 \n",
       "z\n",
       "\" transform=\"scale(0.015625)\"/>\n",
       "      <path id=\"DejaVuSans-69\" d=\"M 603 3500 \n",
       "L 1178 3500 \n",
       "L 1178 0 \n",
       "L 603 0 \n",
       "L 603 3500 \n",
       "z\n",
       "M 603 4863 \n",
       "L 1178 4863 \n",
       "L 1178 4134 \n",
       "L 603 4134 \n",
       "L 603 4863 \n",
       "z\n",
       "\" transform=\"scale(0.015625)\"/>\n",
       "      <path id=\"DejaVuSans-72\" d=\"M 2631 2963 \n",
       "Q 2534 3019 2420 3045 \n",
       "Q 2306 3072 2169 3072 \n",
       "Q 1681 3072 1420 2755 \n",
       "Q 1159 2438 1159 1844 \n",
       "L 1159 0 \n",
       "L 581 0 \n",
       "L 581 3500 \n",
       "L 1159 3500 \n",
       "L 1159 2956 \n",
       "Q 1341 3275 1631 3429 \n",
       "Q 1922 3584 2338 3584 \n",
       "Q 2397 3584 2469 3576 \n",
       "Q 2541 3569 2628 3553 \n",
       "L 2631 2963 \n",
       "z\n",
       "\" transform=\"scale(0.015625)\"/>\n",
       "     </defs>\n",
       "     <use xlink:href=\"#DejaVuSans-74\"/>\n",
       "     <use xlink:href=\"#DejaVuSans-2d\" x=\"39.208984\"/>\n",
       "     <use xlink:href=\"#DejaVuSans-73\" x=\"75.292969\"/>\n",
       "     <use xlink:href=\"#DejaVuSans-68\" x=\"127.392578\"/>\n",
       "     <use xlink:href=\"#DejaVuSans-69\" x=\"190.771484\"/>\n",
       "     <use xlink:href=\"#DejaVuSans-72\" x=\"218.554688\"/>\n",
       "     <use xlink:href=\"#DejaVuSans-74\" x=\"259.667969\"/>\n",
       "    </g>\n",
       "   </g>\n",
       "  </g>\n",
       "  <g id=\"axes_3\">\n",
       "   <g id=\"patch_12\">\n",
       "    <path d=\"M 146.889831 79.063888 \n",
       "L 203.635593 79.063888 \n",
       "L 203.635593 22.318125 \n",
       "L 146.889831 22.318125 \n",
       "z\n",
       "\" style=\"fill: #ffffff\"/>\n",
       "   </g>\n",
       "   <g clip-path=\"url(#p78aa9dd08d)\">\n",
       "    <image xlink:href=\"data:image/png;base64,\n",
       "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\" id=\"imagea44d9df96f\" transform=\"scale(1 -1)translate(0 -57)\" x=\"146.889831\" y=\"-22.063888\" width=\"57\" height=\"57\"/>\n",
       "   </g>\n",
       "   <g id=\"patch_13\">\n",
       "    <path d=\"M 146.889831 79.063888 \n",
       "L 146.889831 22.318125 \n",
       "\" style=\"fill: none; stroke: #000000; stroke-width: 0.8; stroke-linejoin: miter; stroke-linecap: square\"/>\n",
       "   </g>\n",
       "   <g id=\"patch_14\">\n",
       "    <path d=\"M 203.635593 79.063888 \n",
       "L 203.635593 22.318125 \n",
       "\" style=\"fill: none; stroke: #000000; stroke-width: 0.8; stroke-linejoin: miter; stroke-linecap: square\"/>\n",
       "   </g>\n",
       "   <g id=\"patch_15\">\n",
       "    <path d=\"M 146.889831 79.063888 \n",
       "L 203.635593 79.063888 \n",
       "\" style=\"fill: none; stroke: #000000; stroke-width: 0.8; stroke-linejoin: miter; stroke-linecap: square\"/>\n",
       "   </g>\n",
       "   <g id=\"patch_16\">\n",
       "    <path d=\"M 146.889831 22.318125 \n",
       "L 203.635593 22.318125 \n",
       "\" style=\"fill: none; stroke: #000000; stroke-width: 0.8; stroke-linejoin: miter; stroke-linecap: square\"/>\n",
       "   </g>\n",
       "   <g id=\"text_3\">\n",
       "    <!-- t-shirt -->\n",
       "    <g transform=\"translate(157.332087 16.318125)scale(0.12 -0.12)\">\n",
       "     <use xlink:href=\"#DejaVuSans-74\"/>\n",
       "     <use xlink:href=\"#DejaVuSans-2d\" x=\"39.208984\"/>\n",
       "     <use xlink:href=\"#DejaVuSans-73\" x=\"75.292969\"/>\n",
       "     <use xlink:href=\"#DejaVuSans-68\" x=\"127.392578\"/>\n",
       "     <use xlink:href=\"#DejaVuSans-69\" x=\"190.771484\"/>\n",
       "     <use xlink:href=\"#DejaVuSans-72\" x=\"218.554688\"/>\n",
       "     <use xlink:href=\"#DejaVuSans-74\" x=\"259.667969\"/>\n",
       "    </g>\n",
       "   </g>\n",
       "  </g>\n",
       "  <g id=\"axes_4\">\n",
       "   <g id=\"patch_17\">\n",
       "    <path d=\"M 214.984746 79.063888 \n",
       "L 271.730508 79.063888 \n",
       "L 271.730508 22.318125 \n",
       "L 214.984746 22.318125 \n",
       "z\n",
       "\" style=\"fill: #ffffff\"/>\n",
       "   </g>\n",
       "   <g clip-path=\"url(#p1824d1bf6a)\">\n",
       "    <image xlink:href=\"data:image/png;base64,\n",
       "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\" id=\"imagecbc830bd60\" transform=\"scale(1 -1)translate(0 -57)\" x=\"214.984746\" y=\"-22.063888\" width=\"57\" height=\"57\"/>\n",
       "   </g>\n",
       "   <g id=\"patch_18\">\n",
       "    <path d=\"M 214.984746 79.063888 \n",
       "L 214.984746 22.318125 \n",
       "\" style=\"fill: none; stroke: #000000; stroke-width: 0.8; stroke-linejoin: miter; stroke-linecap: square\"/>\n",
       "   </g>\n",
       "   <g id=\"patch_19\">\n",
       "    <path d=\"M 271.730508 79.063888 \n",
       "L 271.730508 22.318125 \n",
       "\" style=\"fill: none; stroke: #000000; stroke-width: 0.8; stroke-linejoin: miter; stroke-linecap: square\"/>\n",
       "   </g>\n",
       "   <g id=\"patch_20\">\n",
       "    <path d=\"M 214.984746 79.063888 \n",
       "L 271.730508 79.063888 \n",
       "\" style=\"fill: none; stroke: #000000; stroke-width: 0.8; stroke-linejoin: miter; stroke-linecap: square\"/>\n",
       "   </g>\n",
       "   <g id=\"patch_21\">\n",
       "    <path d=\"M 214.984746 22.318125 \n",
       "L 271.730508 22.318125 \n",
       "\" style=\"fill: none; stroke: #000000; stroke-width: 0.8; stroke-linejoin: miter; stroke-linecap: square\"/>\n",
       "   </g>\n",
       "   <g id=\"text_4\">\n",
       "    <!-- dress -->\n",
       "    <g transform=\"translate(227.273877 16.318125)scale(0.12 -0.12)\">\n",
       "     <defs>\n",
       "      <path id=\"DejaVuSans-64\" d=\"M 2906 2969 \n",
       "L 2906 4863 \n",
       "L 3481 4863 \n",
       "L 3481 0 \n",
       "L 2906 0 \n",
       "L 2906 525 \n",
       "Q 2725 213 2448 61 \n",
       "Q 2172 -91 1784 -91 \n",
       "Q 1150 -91 751 415 \n",
       "Q 353 922 353 1747 \n",
       "Q 353 2572 751 3078 \n",
       "Q 1150 3584 1784 3584 \n",
       "Q 2172 3584 2448 3432 \n",
       "Q 2725 3281 2906 2969 \n",
       "z\n",
       "M 947 1747 \n",
       "Q 947 1113 1208 752 \n",
       "Q 1469 391 1925 391 \n",
       "Q 2381 391 2643 752 \n",
       "Q 2906 1113 2906 1747 \n",
       "Q 2906 2381 2643 2742 \n",
       "Q 2381 3103 1925 3103 \n",
       "Q 1469 3103 1208 2742 \n",
       "Q 947 2381 947 1747 \n",
       "z\n",
       "\" transform=\"scale(0.015625)\"/>\n",
       "     </defs>\n",
       "     <use xlink:href=\"#DejaVuSans-64\"/>\n",
       "     <use xlink:href=\"#DejaVuSans-72\" x=\"63.476562\"/>\n",
       "     <use xlink:href=\"#DejaVuSans-65\" x=\"102.339844\"/>\n",
       "     <use xlink:href=\"#DejaVuSans-73\" x=\"163.863281\"/>\n",
       "     <use xlink:href=\"#DejaVuSans-73\" x=\"215.962891\"/>\n",
       "    </g>\n",
       "   </g>\n",
       "  </g>\n",
       "  <g id=\"axes_5\">\n",
       "   <g id=\"patch_22\">\n",
       "    <path d=\"M 283.079661 79.063888 \n",
       "L 339.825424 79.063888 \n",
       "L 339.825424 22.318125 \n",
       "L 283.079661 22.318125 \n",
       "z\n",
       "\" style=\"fill: #ffffff\"/>\n",
       "   </g>\n",
       "   <g clip-path=\"url(#p48d7637c83)\">\n",
       "    <image xlink:href=\"data:image/png;base64,\n",
       "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\" id=\"imagea694610b17\" transform=\"scale(1 -1)translate(0 -57)\" x=\"283.079661\" y=\"-22.063888\" width=\"57\" height=\"57\"/>\n",
       "   </g>\n",
       "   <g id=\"patch_23\">\n",
       "    <path d=\"M 283.079661 79.063888 \n",
       "L 283.079661 22.318125 \n",
       "\" style=\"fill: none; stroke: #000000; stroke-width: 0.8; stroke-linejoin: miter; stroke-linecap: square\"/>\n",
       "   </g>\n",
       "   <g id=\"patch_24\">\n",
       "    <path d=\"M 339.825424 79.063888 \n",
       "L 339.825424 22.318125 \n",
       "\" style=\"fill: none; stroke: #000000; stroke-width: 0.8; stroke-linejoin: miter; stroke-linecap: square\"/>\n",
       "   </g>\n",
       "   <g id=\"patch_25\">\n",
       "    <path d=\"M 283.079661 79.063888 \n",
       "L 339.825424 79.063888 \n",
       "\" style=\"fill: none; stroke: #000000; stroke-width: 0.8; stroke-linejoin: miter; stroke-linecap: square\"/>\n",
       "   </g>\n",
       "   <g id=\"patch_26\">\n",
       "    <path d=\"M 283.079661 22.318125 \n",
       "L 339.825424 22.318125 \n",
       "\" style=\"fill: none; stroke: #000000; stroke-width: 0.8; stroke-linejoin: miter; stroke-linecap: square\"/>\n",
       "   </g>\n",
       "   <g id=\"text_5\">\n",
       "    <!-- t-shirt -->\n",
       "    <g transform=\"translate(293.521917 16.318125)scale(0.12 -0.12)\">\n",
       "     <use xlink:href=\"#DejaVuSans-74\"/>\n",
       "     <use xlink:href=\"#DejaVuSans-2d\" x=\"39.208984\"/>\n",
       "     <use xlink:href=\"#DejaVuSans-73\" x=\"75.292969\"/>\n",
       "     <use xlink:href=\"#DejaVuSans-68\" x=\"127.392578\"/>\n",
       "     <use xlink:href=\"#DejaVuSans-69\" x=\"190.771484\"/>\n",
       "     <use xlink:href=\"#DejaVuSans-72\" x=\"218.554688\"/>\n",
       "     <use xlink:href=\"#DejaVuSans-74\" x=\"259.667969\"/>\n",
       "    </g>\n",
       "   </g>\n",
       "  </g>\n",
       "  <g id=\"axes_6\">\n",
       "   <g id=\"patch_27\">\n",
       "    <path d=\"M 351.174576 79.063888 \n",
       "L 407.920339 79.063888 \n",
       "L 407.920339 22.318125 \n",
       "L 351.174576 22.318125 \n",
       "z\n",
       "\" style=\"fill: #ffffff\"/>\n",
       "   </g>\n",
       "   <g clip-path=\"url(#pec24ad2f2a)\">\n",
       "    <image xlink:href=\"data:image/png;base64,\n",
       "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\" id=\"image21c861b7e4\" transform=\"scale(1 -1)translate(0 -57)\" x=\"351.174576\" y=\"-22.063888\" width=\"57\" height=\"57\"/>\n",
       "   </g>\n",
       "   <g id=\"patch_28\">\n",
       "    <path d=\"M 351.174576 79.063888 \n",
       "L 351.174576 22.318125 \n",
       "\" style=\"fill: none; stroke: #000000; stroke-width: 0.8; stroke-linejoin: miter; stroke-linecap: square\"/>\n",
       "   </g>\n",
       "   <g id=\"patch_29\">\n",
       "    <path d=\"M 407.920339 79.063888 \n",
       "L 407.920339 22.318125 \n",
       "\" style=\"fill: none; stroke: #000000; stroke-width: 0.8; stroke-linejoin: miter; stroke-linecap: square\"/>\n",
       "   </g>\n",
       "   <g id=\"patch_30\">\n",
       "    <path d=\"M 351.174576 79.063888 \n",
       "L 407.920339 79.063888 \n",
       "\" style=\"fill: none; stroke: #000000; stroke-width: 0.8; stroke-linejoin: miter; stroke-linecap: square\"/>\n",
       "   </g>\n",
       "   <g id=\"patch_31\">\n",
       "    <path d=\"M 351.174576 22.318125 \n",
       "L 407.920339 22.318125 \n",
       "\" style=\"fill: none; stroke: #000000; stroke-width: 0.8; stroke-linejoin: miter; stroke-linecap: square\"/>\n",
       "   </g>\n",
       "   <g id=\"text_6\">\n",
       "    <!-- pullover -->\n",
       "    <g transform=\"translate(355.221208 16.318125)scale(0.12 -0.12)\">\n",
       "     <defs>\n",
       "      <path id=\"DejaVuSans-70\" d=\"M 1159 525 \n",
       "L 1159 -1331 \n",
       "L 581 -1331 \n",
       "L 581 3500 \n",
       "L 1159 3500 \n",
       "L 1159 2969 \n",
       "Q 1341 3281 1617 3432 \n",
       "Q 1894 3584 2278 3584 \n",
       "Q 2916 3584 3314 3078 \n",
       "Q 3713 2572 3713 1747 \n",
       "Q 3713 922 3314 415 \n",
       "Q 2916 -91 2278 -91 \n",
       "Q 1894 -91 1617 61 \n",
       "Q 1341 213 1159 525 \n",
       "z\n",
       "M 3116 1747 \n",
       "Q 3116 2381 2855 2742 \n",
       "Q 2594 3103 2138 3103 \n",
       "Q 1681 3103 1420 2742 \n",
       "Q 1159 2381 1159 1747 \n",
       "Q 1159 1113 1420 752 \n",
       "Q 1681 391 2138 391 \n",
       "Q 2594 391 2855 752 \n",
       "Q 3116 1113 3116 1747 \n",
       "z\n",
       "\" transform=\"scale(0.015625)\"/>\n",
       "      <path id=\"DejaVuSans-75\" d=\"M 544 1381 \n",
       "L 544 3500 \n",
       "L 1119 3500 \n",
       "L 1119 1403 \n",
       "Q 1119 906 1312 657 \n",
       "Q 1506 409 1894 409 \n",
       "Q 2359 409 2629 706 \n",
       "Q 2900 1003 2900 1516 \n",
       "L 2900 3500 \n",
       "L 3475 3500 \n",
       "L 3475 0 \n",
       "L 2900 0 \n",
       "L 2900 538 \n",
       "Q 2691 219 2414 64 \n",
       "Q 2138 -91 1772 -91 \n",
       "Q 1169 -91 856 284 \n",
       "Q 544 659 544 1381 \n",
       "z\n",
       "M 1991 3584 \n",
       "L 1991 3584 \n",
       "z\n",
       "\" transform=\"scale(0.015625)\"/>\n",
       "      <path id=\"DejaVuSans-76\" d=\"M 191 3500 \n",
       "L 800 3500 \n",
       "L 1894 563 \n",
       "L 2988 3500 \n",
       "L 3597 3500 \n",
       "L 2284 0 \n",
       "L 1503 0 \n",
       "L 191 3500 \n",
       "z\n",
       "\" transform=\"scale(0.015625)\"/>\n",
       "     </defs>\n",
       "     <use xlink:href=\"#DejaVuSans-70\"/>\n",
       "     <use xlink:href=\"#DejaVuSans-75\" x=\"63.476562\"/>\n",
       "     <use xlink:href=\"#DejaVuSans-6c\" x=\"126.855469\"/>\n",
       "     <use xlink:href=\"#DejaVuSans-6c\" x=\"154.638672\"/>\n",
       "     <use xlink:href=\"#DejaVuSans-6f\" x=\"182.421875\"/>\n",
       "     <use xlink:href=\"#DejaVuSans-76\" x=\"243.603516\"/>\n",
       "     <use xlink:href=\"#DejaVuSans-65\" x=\"302.783203\"/>\n",
       "     <use xlink:href=\"#DejaVuSans-72\" x=\"364.306641\"/>\n",
       "    </g>\n",
       "   </g>\n",
       "  </g>\n",
       "  <g id=\"axes_7\">\n",
       "   <g id=\"patch_32\">\n",
       "    <path d=\"M 419.269492 79.063888 \n",
       "L 476.015254 79.063888 \n",
       "L 476.015254 22.318125 \n",
       "L 419.269492 22.318125 \n",
       "z\n",
       "\" style=\"fill: #ffffff\"/>\n",
       "   </g>\n",
       "   <g clip-path=\"url(#p17f4cce6f8)\">\n",
       "    <image xlink:href=\"data:image/png;base64,\n",
       "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\" id=\"image6539a4a8a2\" transform=\"scale(1 -1)translate(0 -57)\" x=\"419.269492\" y=\"-22.063888\" width=\"57\" height=\"57\"/>\n",
       "   </g>\n",
       "   <g id=\"patch_33\">\n",
       "    <path d=\"M 419.269492 79.063888 \n",
       "L 419.269492 22.318125 \n",
       "\" style=\"fill: none; stroke: #000000; stroke-width: 0.8; stroke-linejoin: miter; stroke-linecap: square\"/>\n",
       "   </g>\n",
       "   <g id=\"patch_34\">\n",
       "    <path d=\"M 476.015254 79.063888 \n",
       "L 476.015254 22.318125 \n",
       "\" style=\"fill: none; stroke: #000000; stroke-width: 0.8; stroke-linejoin: miter; stroke-linecap: square\"/>\n",
       "   </g>\n",
       "   <g id=\"patch_35\">\n",
       "    <path d=\"M 419.269492 79.063888 \n",
       "L 476.015254 79.063888 \n",
       "\" style=\"fill: none; stroke: #000000; stroke-width: 0.8; stroke-linejoin: miter; stroke-linecap: square\"/>\n",
       "   </g>\n",
       "   <g id=\"patch_36\">\n",
       "    <path d=\"M 419.269492 22.318125 \n",
       "L 476.015254 22.318125 \n",
       "\" style=\"fill: none; stroke: #000000; stroke-width: 0.8; stroke-linejoin: miter; stroke-linecap: square\"/>\n",
       "   </g>\n",
       "   <g id=\"text_7\">\n",
       "    <!-- sneaker -->\n",
       "    <g transform=\"translate(423.930185 16.318125)scale(0.12 -0.12)\">\n",
       "     <use xlink:href=\"#DejaVuSans-73\"/>\n",
       "     <use xlink:href=\"#DejaVuSans-6e\" x=\"52.099609\"/>\n",
       "     <use xlink:href=\"#DejaVuSans-65\" x=\"115.478516\"/>\n",
       "     <use xlink:href=\"#DejaVuSans-61\" x=\"177.001953\"/>\n",
       "     <use xlink:href=\"#DejaVuSans-6b\" x=\"238.28125\"/>\n",
       "     <use xlink:href=\"#DejaVuSans-65\" x=\"292.566406\"/>\n",
       "     <use xlink:href=\"#DejaVuSans-72\" x=\"354.089844\"/>\n",
       "    </g>\n",
       "   </g>\n",
       "  </g>\n",
       "  <g id=\"axes_8\">\n",
       "   <g id=\"patch_37\">\n",
       "    <path d=\"M 487.364407 79.063888 \n",
       "L 544.110169 79.063888 \n",
       "L 544.110169 22.318125 \n",
       "L 487.364407 22.318125 \n",
       "z\n",
       "\" style=\"fill: #ffffff\"/>\n",
       "   </g>\n",
       "   <g clip-path=\"url(#p2d323bd133)\">\n",
       "    <image xlink:href=\"data:image/png;base64,\n",
       "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\" id=\"image9bc9456de7\" transform=\"scale(1 -1)translate(0 -57)\" x=\"487.364407\" y=\"-22.063888\" width=\"57\" height=\"57\"/>\n",
       "   </g>\n",
       "   <g id=\"patch_38\">\n",
       "    <path d=\"M 487.364407 79.063888 \n",
       "L 487.364407 22.318125 \n",
       "\" style=\"fill: none; stroke: #000000; stroke-width: 0.8; stroke-linejoin: miter; stroke-linecap: square\"/>\n",
       "   </g>\n",
       "   <g id=\"patch_39\">\n",
       "    <path d=\"M 544.110169 79.063888 \n",
       "L 544.110169 22.318125 \n",
       "\" style=\"fill: none; stroke: #000000; stroke-width: 0.8; stroke-linejoin: miter; stroke-linecap: square\"/>\n",
       "   </g>\n",
       "   <g id=\"patch_40\">\n",
       "    <path d=\"M 487.364407 79.063888 \n",
       "L 544.110169 79.063888 \n",
       "\" style=\"fill: none; stroke: #000000; stroke-width: 0.8; stroke-linejoin: miter; stroke-linecap: square\"/>\n",
       "   </g>\n",
       "   <g id=\"patch_41\">\n",
       "    <path d=\"M 487.364407 22.318125 \n",
       "L 544.110169 22.318125 \n",
       "\" style=\"fill: none; stroke: #000000; stroke-width: 0.8; stroke-linejoin: miter; stroke-linecap: square\"/>\n",
       "   </g>\n",
       "   <g id=\"text_8\">\n",
       "    <!-- pullover -->\n",
       "    <g transform=\"translate(491.411038 16.318125)scale(0.12 -0.12)\">\n",
       "     <use xlink:href=\"#DejaVuSans-70\"/>\n",
       "     <use xlink:href=\"#DejaVuSans-75\" x=\"63.476562\"/>\n",
       "     <use xlink:href=\"#DejaVuSans-6c\" x=\"126.855469\"/>\n",
       "     <use xlink:href=\"#DejaVuSans-6c\" x=\"154.638672\"/>\n",
       "     <use xlink:href=\"#DejaVuSans-6f\" x=\"182.421875\"/>\n",
       "     <use xlink:href=\"#DejaVuSans-76\" x=\"243.603516\"/>\n",
       "     <use xlink:href=\"#DejaVuSans-65\" x=\"302.783203\"/>\n",
       "     <use xlink:href=\"#DejaVuSans-72\" x=\"364.306641\"/>\n",
       "    </g>\n",
       "   </g>\n",
       "  </g>\n",
       "  <g id=\"axes_9\">\n",
       "   <g id=\"patch_42\">\n",
       "    <path d=\"M 555.459322 79.063888 \n",
       "L 612.205085 79.063888 \n",
       "L 612.205085 22.318125 \n",
       "L 555.459322 22.318125 \n",
       "z\n",
       "\" style=\"fill: #ffffff\"/>\n",
       "   </g>\n",
       "   <g clip-path=\"url(#p7acfa5d504)\">\n",
       "    <image xlink:href=\"data:image/png;base64,\n",
       "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\" id=\"image9bf9438eb8\" transform=\"scale(1 -1)translate(0 -57)\" x=\"555.459322\" y=\"-22.063888\" width=\"57\" height=\"57\"/>\n",
       "   </g>\n",
       "   <g id=\"patch_43\">\n",
       "    <path d=\"M 555.459322 79.063888 \n",
       "L 555.459322 22.318125 \n",
       "\" style=\"fill: none; stroke: #000000; stroke-width: 0.8; stroke-linejoin: miter; stroke-linecap: square\"/>\n",
       "   </g>\n",
       "   <g id=\"patch_44\">\n",
       "    <path d=\"M 612.205085 79.063888 \n",
       "L 612.205085 22.318125 \n",
       "\" style=\"fill: none; stroke: #000000; stroke-width: 0.8; stroke-linejoin: miter; stroke-linecap: square\"/>\n",
       "   </g>\n",
       "   <g id=\"patch_45\">\n",
       "    <path d=\"M 555.459322 79.063888 \n",
       "L 612.205085 79.063888 \n",
       "\" style=\"fill: none; stroke: #000000; stroke-width: 0.8; stroke-linejoin: miter; stroke-linecap: square\"/>\n",
       "   </g>\n",
       "   <g id=\"patch_46\">\n",
       "    <path d=\"M 555.459322 22.318125 \n",
       "L 612.205085 22.318125 \n",
       "\" style=\"fill: none; stroke: #000000; stroke-width: 0.8; stroke-linejoin: miter; stroke-linecap: square\"/>\n",
       "   </g>\n",
       "   <g id=\"text_9\">\n",
       "    <!-- sandal -->\n",
       "    <g transform=\"translate(564.074391 16.318125)scale(0.12 -0.12)\">\n",
       "     <use xlink:href=\"#DejaVuSans-73\"/>\n",
       "     <use xlink:href=\"#DejaVuSans-61\" x=\"52.099609\"/>\n",
       "     <use xlink:href=\"#DejaVuSans-6e\" x=\"113.378906\"/>\n",
       "     <use xlink:href=\"#DejaVuSans-64\" x=\"176.757812\"/>\n",
       "     <use xlink:href=\"#DejaVuSans-61\" x=\"240.234375\"/>\n",
       "     <use xlink:href=\"#DejaVuSans-6c\" x=\"301.513672\"/>\n",
       "    </g>\n",
       "   </g>\n",
       "  </g>\n",
       "  <g id=\"axes_10\">\n",
       "   <g id=\"patch_47\">\n",
       "    <path d=\"M 623.554237 79.063888 \n",
       "L 680.3 79.063888 \n",
       "L 680.3 22.318125 \n",
       "L 623.554237 22.318125 \n",
       "z\n",
       "\" style=\"fill: #ffffff\"/>\n",
       "   </g>\n",
       "   <g clip-path=\"url(#pd06b0ad262)\">\n",
       "    <image xlink:href=\"data:image/png;base64,\n",
       "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\" id=\"image60d4b93ca6\" transform=\"scale(1 -1)translate(0 -57)\" x=\"623.554237\" y=\"-22.063888\" width=\"57\" height=\"57\"/>\n",
       "   </g>\n",
       "   <g id=\"patch_48\">\n",
       "    <path d=\"M 623.554237 79.063888 \n",
       "L 623.554237 22.318125 \n",
       "\" style=\"fill: none; stroke: #000000; stroke-width: 0.8; stroke-linejoin: miter; stroke-linecap: square\"/>\n",
       "   </g>\n",
       "   <g id=\"patch_49\">\n",
       "    <path d=\"M 680.3 79.063888 \n",
       "L 680.3 22.318125 \n",
       "\" style=\"fill: none; stroke: #000000; stroke-width: 0.8; stroke-linejoin: miter; stroke-linecap: square\"/>\n",
       "   </g>\n",
       "   <g id=\"patch_50\">\n",
       "    <path d=\"M 623.554237 79.063888 \n",
       "L 680.3 79.063888 \n",
       "\" style=\"fill: none; stroke: #000000; stroke-width: 0.8; stroke-linejoin: miter; stroke-linecap: square\"/>\n",
       "   </g>\n",
       "   <g id=\"patch_51\">\n",
       "    <path d=\"M 623.554237 22.318125 \n",
       "L 680.3 22.318125 \n",
       "\" style=\"fill: none; stroke: #000000; stroke-width: 0.8; stroke-linejoin: miter; stroke-linecap: square\"/>\n",
       "   </g>\n",
       "   <g id=\"text_10\">\n",
       "    <!-- sandal -->\n",
       "    <g transform=\"translate(632.169306 16.318125)scale(0.12 -0.12)\">\n",
       "     <use xlink:href=\"#DejaVuSans-73\"/>\n",
       "     <use xlink:href=\"#DejaVuSans-61\" x=\"52.099609\"/>\n",
       "     <use xlink:href=\"#DejaVuSans-6e\" x=\"113.378906\"/>\n",
       "     <use xlink:href=\"#DejaVuSans-64\" x=\"176.757812\"/>\n",
       "     <use xlink:href=\"#DejaVuSans-61\" x=\"240.234375\"/>\n",
       "     <use xlink:href=\"#DejaVuSans-6c\" x=\"301.513672\"/>\n",
       "    </g>\n",
       "   </g>\n",
       "  </g>\n",
       " </g>\n",
       " <defs>\n",
       "  <clipPath id=\"p92c7ccda85\">\n",
       "   <rect x=\"10.7\" y=\"22.318125\" width=\"56.745763\" height=\"56.745763\"/>\n",
       "  </clipPath>\n",
       "  <clipPath id=\"p77b8ee086f\">\n",
       "   <rect x=\"78.794915\" y=\"22.318125\" width=\"56.745763\" height=\"56.745763\"/>\n",
       "  </clipPath>\n",
       "  <clipPath id=\"p78aa9dd08d\">\n",
       "   <rect x=\"146.889831\" y=\"22.318125\" width=\"56.745763\" height=\"56.745763\"/>\n",
       "  </clipPath>\n",
       "  <clipPath id=\"p1824d1bf6a\">\n",
       "   <rect x=\"214.984746\" y=\"22.318125\" width=\"56.745763\" height=\"56.745763\"/>\n",
       "  </clipPath>\n",
       "  <clipPath id=\"p48d7637c83\">\n",
       "   <rect x=\"283.079661\" y=\"22.318125\" width=\"56.745763\" height=\"56.745763\"/>\n",
       "  </clipPath>\n",
       "  <clipPath id=\"pec24ad2f2a\">\n",
       "   <rect x=\"351.174576\" y=\"22.318125\" width=\"56.745763\" height=\"56.745763\"/>\n",
       "  </clipPath>\n",
       "  <clipPath id=\"p17f4cce6f8\">\n",
       "   <rect x=\"419.269492\" y=\"22.318125\" width=\"56.745763\" height=\"56.745763\"/>\n",
       "  </clipPath>\n",
       "  <clipPath id=\"p2d323bd133\">\n",
       "   <rect x=\"487.364407\" y=\"22.318125\" width=\"56.745763\" height=\"56.745763\"/>\n",
       "  </clipPath>\n",
       "  <clipPath id=\"p7acfa5d504\">\n",
       "   <rect x=\"555.459322\" y=\"22.318125\" width=\"56.745763\" height=\"56.745763\"/>\n",
       "  </clipPath>\n",
       "  <clipPath id=\"pd06b0ad262\">\n",
       "   <rect x=\"623.554237\" y=\"22.318125\" width=\"56.745763\" height=\"56.745763\"/>\n",
       "  </clipPath>\n",
       " </defs>\n",
       "</svg>\n"
      ],
      "text/plain": [
       "<Figure size 864x864 with 10 Axes>"
      ]
     },
     "metadata": {
      "needs_background": "light"
     },
     "output_type": "display_data"
    }
   ],
   "source": [
    "X, y = [], []\n",
    "for i in range(10):\n",
    "    X.append(mnist_train[i][0])\n",
    "    y.append(mnist_train[i][1])\n",
    "show_fashion_mnist(X, get_fashion_mnist_labels(y))"
   ]
  },
  {
   "cell_type": "code",
   "execution_count": 257,
   "metadata": {},
   "outputs": [],
   "source": [
    "batch_size = 256\n",
    "if sys.platform.startswith('win'):\n",
    "    num_workers = 0  # 0表示不用额外的进程来加速读取数据\n",
    "else:\n",
    "    num_workers = 4\n",
    "train_iter = torch.utils.data.DataLoader(mnist_train, batch_size=batch_size, shuffle=True, num_workers=num_workers)\n",
    "test_iter = torch.utils.data.DataLoader(mnist_test, batch_size=batch_size, shuffle=False, num_workers=num_workers)\n"
   ]
  },
  {
   "cell_type": "code",
   "execution_count": 258,
   "metadata": {},
   "outputs": [
    {
     "name": "stdout",
     "output_type": "stream",
     "text": [
      "2.31 sec\n"
     ]
    }
   ],
   "source": [
    "start = time.time()\n",
    "for X, y in train_iter:\n",
    "    continue\n",
    "print('%.2f sec' % (time.time() - start))"
   ]
  },
  {
   "cell_type": "markdown",
   "metadata": {},
   "source": [
    "## softmax 回归的从零到一的实现"
   ]
  },
  {
   "cell_type": "markdown",
   "metadata": {},
   "source": [
    "### 获取和读取数据"
   ]
  },
  {
   "cell_type": "code",
   "execution_count": 259,
   "metadata": {},
   "outputs": [],
   "source": [
    "batch_size = 256\n",
    "train_iter,test_iter = d2l.load_data_fashion_mnist(batch_size)"
   ]
  },
  {
   "cell_type": "markdown",
   "metadata": {},
   "source": [
    "### 初始化参数"
   ]
  },
  {
   "cell_type": "code",
   "execution_count": 260,
   "metadata": {},
   "outputs": [],
   "source": [
    "num_inputs = 784\n",
    "num_outputs = 10\n",
    "W = torch.tensor(np.random.normal(0,0.01,(num_inputs,num_outputs)),dtype=torch.float)\n",
    "b = torch.zeros(num_outputs,dtype=torch.float)\n"
   ]
  },
  {
   "cell_type": "code",
   "execution_count": 261,
   "metadata": {},
   "outputs": [
    {
     "data": {
      "text/plain": [
       "tensor([0., 0., 0., 0., 0., 0., 0., 0., 0., 0.], requires_grad=True)"
      ]
     },
     "execution_count": 261,
     "metadata": {},
     "output_type": "execute_result"
    }
   ],
   "source": [
    "W.requires_grad_(requires_grad=True)\n",
    "b.requires_grad_(requires_grad=True)\n"
   ]
  },
  {
   "cell_type": "markdown",
   "metadata": {},
   "source": [
    "### 实现softmax运算"
   ]
  },
  {
   "cell_type": "code",
   "execution_count": 262,
   "metadata": {},
   "outputs": [],
   "source": [
    "X = torch.tensor([[1,2,3],[4,5,6]])"
   ]
  },
  {
   "cell_type": "code",
   "execution_count": 263,
   "metadata": {},
   "outputs": [],
   "source": [
    "from torch.nn import functional  as F"
   ]
  },
  {
   "cell_type": "code",
   "execution_count": 264,
   "metadata": {},
   "outputs": [
    {
     "data": {
      "text/plain": [
       "torch.Size([2, 3])"
      ]
     },
     "execution_count": 264,
     "metadata": {},
     "output_type": "execute_result"
    }
   ],
   "source": [
    "X.shape"
   ]
  },
  {
   "cell_type": "code",
   "execution_count": 265,
   "metadata": {},
   "outputs": [
    {
     "data": {
      "text/plain": [
       "tensor([[5, 7, 9]])"
      ]
     },
     "execution_count": 265,
     "metadata": {},
     "output_type": "execute_result"
    }
   ],
   "source": [
    "X.sum(dim=0,keepdim=True)"
   ]
  },
  {
   "cell_type": "code",
   "execution_count": 266,
   "metadata": {},
   "outputs": [
    {
     "data": {
      "text/plain": [
       "tensor([[ 6],\n",
       "        [15]])"
      ]
     },
     "execution_count": 266,
     "metadata": {},
     "output_type": "execute_result"
    }
   ],
   "source": [
    "X.sum(dim=1,keepdim=True)"
   ]
  },
  {
   "cell_type": "code",
   "execution_count": 267,
   "metadata": {},
   "outputs": [],
   "source": [
    "X = torch.randn((2,5))"
   ]
  },
  {
   "cell_type": "code",
   "execution_count": 268,
   "metadata": {},
   "outputs": [
    {
     "data": {
      "text/plain": [
       "tensor([[ 0.5957, -1.4041, -1.6211, -0.2656, -0.8026],\n",
       "        [-0.0924, -1.8190,  0.7213,  1.2245, -1.4655]])"
      ]
     },
     "execution_count": 268,
     "metadata": {},
     "output_type": "execute_result"
    }
   ],
   "source": [
    "X"
   ]
  },
  {
   "cell_type": "code",
   "execution_count": 269,
   "metadata": {},
   "outputs": [
    {
     "name": "stderr",
     "output_type": "stream",
     "text": [
      "/Users/shizhonghui/anaconda3/envs/Tianchi/lib/python3.7/site-packages/ipykernel_launcher.py:1: UserWarning: Implicit dimension choice for softmax has been deprecated. Change the call to include dim=X as an argument.\n",
      "  \"\"\"Entry point for launching an IPython kernel.\n"
     ]
    }
   ],
   "source": [
    "X_pro = F.softmax(X)"
   ]
  },
  {
   "cell_type": "code",
   "execution_count": 270,
   "metadata": {},
   "outputs": [
    {
     "data": {
      "text/plain": [
       "tensor([[0.5225, 0.0707, 0.0569, 0.2208, 0.1291],\n",
       "        [0.1348, 0.0240, 0.3041, 0.5030, 0.0341]])"
      ]
     },
     "execution_count": 270,
     "metadata": {},
     "output_type": "execute_result"
    }
   ],
   "source": [
    "X_pro"
   ]
  },
  {
   "cell_type": "code",
   "execution_count": 271,
   "metadata": {},
   "outputs": [
    {
     "data": {
      "text/plain": [
       "tensor([[1.],\n",
       "        [1.]])"
      ]
     },
     "execution_count": 271,
     "metadata": {},
     "output_type": "execute_result"
    }
   ],
   "source": [
    "X_pro.sum(dim=1,keepdim=True)"
   ]
  },
  {
   "cell_type": "markdown",
   "metadata": {},
   "source": [
    "### 定义模型"
   ]
  },
  {
   "cell_type": "code",
   "execution_count": 272,
   "metadata": {},
   "outputs": [],
   "source": [
    "def net(X):\n",
    "    return F.softmax(torch.mm(X.view((-1,num_inputs)),W) + b)"
   ]
  },
  {
   "cell_type": "markdown",
   "metadata": {},
   "source": [
    "### 定义损失函数"
   ]
  },
  {
   "cell_type": "code",
   "execution_count": 273,
   "metadata": {},
   "outputs": [],
   "source": [
    "y_hat = torch.tensor([[0.1,0.3,0.6],[0.3,0.2,0.5]])\n",
    "y = torch.LongTensor([0,2])"
   ]
  },
  {
   "cell_type": "code",
   "execution_count": 274,
   "metadata": {},
   "outputs": [
    {
     "data": {
      "text/plain": [
       "tensor([[0],\n",
       "        [2]])"
      ]
     },
     "execution_count": 274,
     "metadata": {},
     "output_type": "execute_result"
    }
   ],
   "source": [
    "y.view(-1,1)"
   ]
  },
  {
   "cell_type": "code",
   "execution_count": 275,
   "metadata": {},
   "outputs": [
    {
     "data": {
      "text/plain": [
       "tensor([[0.1000],\n",
       "        [0.5000]])"
      ]
     },
     "execution_count": 275,
     "metadata": {},
     "output_type": "execute_result"
    }
   ],
   "source": [
    "y_hat.gather(1,y.view(-1,1))"
   ]
  },
  {
   "cell_type": "code",
   "execution_count": 276,
   "metadata": {},
   "outputs": [],
   "source": [
    "def cross_entropy(y_hat,y):\n",
    "    return -torch.log(y_hat.gather(1,y.view(-1,1)))"
   ]
  },
  {
   "cell_type": "markdown",
   "metadata": {},
   "source": [
    "### 计算分类准确率"
   ]
  },
  {
   "cell_type": "code",
   "execution_count": 277,
   "metadata": {},
   "outputs": [],
   "source": [
    "def accuracy(y_hat,y):\n",
    "    return (y_hat.argmax(dim=1) == y ).float().mean().item()"
   ]
  },
  {
   "cell_type": "code",
   "execution_count": 278,
   "metadata": {},
   "outputs": [
    {
     "data": {
      "text/plain": [
       "tensor([2, 2])"
      ]
     },
     "execution_count": 278,
     "metadata": {},
     "output_type": "execute_result"
    }
   ],
   "source": [
    "y_hat.argmax(dim=1)"
   ]
  },
  {
   "cell_type": "code",
   "execution_count": 279,
   "metadata": {},
   "outputs": [
    {
     "data": {
      "text/plain": [
       "tensor([False,  True])"
      ]
     },
     "execution_count": 279,
     "metadata": {},
     "output_type": "execute_result"
    }
   ],
   "source": [
    "y_hat.argmax(dim=1) == y "
   ]
  },
  {
   "cell_type": "code",
   "execution_count": 280,
   "metadata": {},
   "outputs": [
    {
     "data": {
      "text/plain": [
       "tensor([0., 1.])"
      ]
     },
     "execution_count": 280,
     "metadata": {},
     "output_type": "execute_result"
    }
   ],
   "source": [
    "(y_hat.argmax(dim=1) == y).float()"
   ]
  },
  {
   "cell_type": "code",
   "execution_count": 281,
   "metadata": {},
   "outputs": [
    {
     "data": {
      "text/plain": [
       "tensor(0.5000)"
      ]
     },
     "execution_count": 281,
     "metadata": {},
     "output_type": "execute_result"
    }
   ],
   "source": [
    "(y_hat.argmax(dim=1) == y).float().mean()"
   ]
  },
  {
   "cell_type": "code",
   "execution_count": 282,
   "metadata": {},
   "outputs": [
    {
     "data": {
      "text/plain": [
       "0.5"
      ]
     },
     "execution_count": 282,
     "metadata": {},
     "output_type": "execute_result"
    }
   ],
   "source": [
    "(y_hat.argmax(dim=1) == y).float().mean().item()"
   ]
  },
  {
   "cell_type": "code",
   "execution_count": 283,
   "metadata": {},
   "outputs": [],
   "source": [
    "# 本函数已保存在d2lzh_pytorch包中方便以后使用。该函数将被逐步改进：它的完整实现将在“图像增广”一节中描述\n",
    "def evaluate_accuracy(data_iter, net):\n",
    "    acc_sum, n = 0.0, 0\n",
    "    for X, y in data_iter:\n",
    "        acc_sum += (net(X).argmax(dim=1) == y).float().sum().item()\n",
    "        n += y.shape[0]\n",
    "    return acc_sum / n\n"
   ]
  },
  {
   "cell_type": "code",
   "execution_count": 284,
   "metadata": {},
   "outputs": [
    {
     "name": "stderr",
     "output_type": "stream",
     "text": [
      "/Users/shizhonghui/anaconda3/envs/Tianchi/lib/python3.7/site-packages/ipykernel_launcher.py:2: UserWarning: Implicit dimension choice for softmax has been deprecated. Change the call to include dim=X as an argument.\n",
      "  \n"
     ]
    },
    {
     "data": {
      "text/plain": [
       "0.1599"
      ]
     },
     "execution_count": 284,
     "metadata": {},
     "output_type": "execute_result"
    }
   ],
   "source": [
    "evaluate_accuracy(test_iter,net)"
   ]
  },
  {
   "cell_type": "code",
   "execution_count": null,
   "metadata": {},
   "outputs": [],
   "source": []
  },
  {
   "cell_type": "markdown",
   "metadata": {},
   "source": [
    "### 训练模型"
   ]
  },
  {
   "cell_type": "code",
   "execution_count": 285,
   "metadata": {},
   "outputs": [],
   "source": [
    "num_epoch,lr = 5,0.1\n",
    "def train_ch3(net,train_iter,test_iter,loss,num_epoch,batch_size,params= None,lr=None,optimizer=None):\n",
    "    for epoch in range(num_epoch):\n",
    "        train_l_sum,train_acc_sum,n = 0.0,0.0,0\n",
    "        for X,y in train_iter:\n",
    "            y_hat = net(X)\n",
    "            l = loss(y_hat,y)\n",
    "            # 梯度清零\n",
    "            if optimizer is not None:\n",
    "                optimizer.zero_gard()\n",
    "            elif params is not None and params[0].grad is not None:\n",
    "                for param in params:\n",
    "                    print(\"过\")\n",
    "                    print(param)\n",
    "            #print(\"1\")\n",
    "                    param.grad.data.zero_()\n",
    "                    \n",
    "            l.backward()\n",
    "            \n",
    "            if optimizer is None:\n",
    "                d2l.sgd(params,lr,batch_size)\n",
    "                \n",
    "            else:\n",
    "                optimizer.step()\n",
    "                \n",
    "            train_l_sum +=l.sum()\n",
    "            \n",
    "            train_acc_sum += (y_hat.argmax(dim=1) == y).sum().item()\n",
    "            n += y.shape[0]\n",
    "        test_acc = evaluate_accuracy(test_iter,net)\n",
    "        print('epoch %d, loss %.4f, train acc %.3f, test acc %.3f'\n",
    "              % (epoch + 1, train_l_sum / n, train_acc_sum / n, test_acc))\n",
    "        "
   ]
  },
  {
   "cell_type": "code",
   "execution_count": 286,
   "metadata": {
    "collapsed": true
   },
   "outputs": [
    {
     "name": "stderr",
     "output_type": "stream",
     "text": [
      "/Users/shizhonghui/anaconda3/envs/Tianchi/lib/python3.7/site-packages/ipykernel_launcher.py:2: UserWarning: Implicit dimension choice for softmax has been deprecated. Change the call to include dim=X as an argument.\n",
      "  \n"
     ]
    },
    {
     "ename": "RuntimeError",
     "evalue": "grad can be implicitly created only for scalar outputs",
     "output_type": "error",
     "traceback": [
      "\u001B[0;31m---------------------------------------------------------------------------\u001B[0m",
      "\u001B[0;31mRuntimeError\u001B[0m                              Traceback (most recent call last)",
      "\u001B[0;32m<ipython-input-286-c35d7bacb5ae>\u001B[0m in \u001B[0;36m<module>\u001B[0;34m\u001B[0m\n\u001B[0;32m----> 1\u001B[0;31m \u001B[0mtrain_ch3\u001B[0m\u001B[0;34m(\u001B[0m\u001B[0mnet\u001B[0m\u001B[0;34m,\u001B[0m\u001B[0mtrain_iter\u001B[0m\u001B[0;34m,\u001B[0m\u001B[0mtest_iter\u001B[0m\u001B[0;34m,\u001B[0m\u001B[0mcross_entropy\u001B[0m\u001B[0;34m,\u001B[0m\u001B[0mnum_epoch\u001B[0m\u001B[0;34m,\u001B[0m\u001B[0mbatch_size\u001B[0m\u001B[0;34m,\u001B[0m\u001B[0;34m[\u001B[0m\u001B[0mW\u001B[0m\u001B[0;34m,\u001B[0m\u001B[0mb\u001B[0m\u001B[0;34m]\u001B[0m\u001B[0;34m,\u001B[0m\u001B[0mlr\u001B[0m\u001B[0;34m)\u001B[0m\u001B[0;34m\u001B[0m\u001B[0;34m\u001B[0m\u001B[0m\n\u001B[0m",
      "\u001B[0;32m<ipython-input-285-0f051a821029>\u001B[0m in \u001B[0;36mtrain_ch3\u001B[0;34m(net, train_iter, test_iter, loss, num_epoch, batch_size, params, lr, optimizer)\u001B[0m\n\u001B[1;32m     16\u001B[0m                     \u001B[0mparam\u001B[0m\u001B[0;34m.\u001B[0m\u001B[0mgrad\u001B[0m\u001B[0;34m.\u001B[0m\u001B[0mdata\u001B[0m\u001B[0;34m.\u001B[0m\u001B[0mzero_\u001B[0m\u001B[0;34m(\u001B[0m\u001B[0;34m)\u001B[0m\u001B[0;34m\u001B[0m\u001B[0;34m\u001B[0m\u001B[0m\n\u001B[1;32m     17\u001B[0m \u001B[0;34m\u001B[0m\u001B[0m\n\u001B[0;32m---> 18\u001B[0;31m             \u001B[0ml\u001B[0m\u001B[0;34m.\u001B[0m\u001B[0mbackward\u001B[0m\u001B[0;34m(\u001B[0m\u001B[0;34m)\u001B[0m\u001B[0;34m\u001B[0m\u001B[0;34m\u001B[0m\u001B[0m\n\u001B[0m\u001B[1;32m     19\u001B[0m \u001B[0;34m\u001B[0m\u001B[0m\n\u001B[1;32m     20\u001B[0m             \u001B[0;32mif\u001B[0m \u001B[0moptimizer\u001B[0m \u001B[0;32mis\u001B[0m \u001B[0;32mNone\u001B[0m\u001B[0;34m:\u001B[0m\u001B[0;34m\u001B[0m\u001B[0;34m\u001B[0m\u001B[0m\n",
      "\u001B[0;32m~/anaconda3/envs/Tianchi/lib/python3.7/site-packages/torch/_tensor.py\u001B[0m in \u001B[0;36mbackward\u001B[0;34m(self, gradient, retain_graph, create_graph, inputs)\u001B[0m\n\u001B[1;32m    305\u001B[0m                 \u001B[0mcreate_graph\u001B[0m\u001B[0;34m=\u001B[0m\u001B[0mcreate_graph\u001B[0m\u001B[0;34m,\u001B[0m\u001B[0;34m\u001B[0m\u001B[0;34m\u001B[0m\u001B[0m\n\u001B[1;32m    306\u001B[0m                 inputs=inputs)\n\u001B[0;32m--> 307\u001B[0;31m         \u001B[0mtorch\u001B[0m\u001B[0;34m.\u001B[0m\u001B[0mautograd\u001B[0m\u001B[0;34m.\u001B[0m\u001B[0mbackward\u001B[0m\u001B[0;34m(\u001B[0m\u001B[0mself\u001B[0m\u001B[0;34m,\u001B[0m \u001B[0mgradient\u001B[0m\u001B[0;34m,\u001B[0m \u001B[0mretain_graph\u001B[0m\u001B[0;34m,\u001B[0m \u001B[0mcreate_graph\u001B[0m\u001B[0;34m,\u001B[0m \u001B[0minputs\u001B[0m\u001B[0;34m=\u001B[0m\u001B[0minputs\u001B[0m\u001B[0;34m)\u001B[0m\u001B[0;34m\u001B[0m\u001B[0;34m\u001B[0m\u001B[0m\n\u001B[0m\u001B[1;32m    308\u001B[0m \u001B[0;34m\u001B[0m\u001B[0m\n\u001B[1;32m    309\u001B[0m     \u001B[0;32mdef\u001B[0m \u001B[0mregister_hook\u001B[0m\u001B[0;34m(\u001B[0m\u001B[0mself\u001B[0m\u001B[0;34m,\u001B[0m \u001B[0mhook\u001B[0m\u001B[0;34m)\u001B[0m\u001B[0;34m:\u001B[0m\u001B[0;34m\u001B[0m\u001B[0;34m\u001B[0m\u001B[0m\n",
      "\u001B[0;32m~/anaconda3/envs/Tianchi/lib/python3.7/site-packages/torch/autograd/__init__.py\u001B[0m in \u001B[0;36mbackward\u001B[0;34m(tensors, grad_tensors, retain_graph, create_graph, grad_variables, inputs)\u001B[0m\n\u001B[1;32m    148\u001B[0m \u001B[0;34m\u001B[0m\u001B[0m\n\u001B[1;32m    149\u001B[0m     \u001B[0mgrad_tensors_\u001B[0m \u001B[0;34m=\u001B[0m \u001B[0m_tensor_or_tensors_to_tuple\u001B[0m\u001B[0;34m(\u001B[0m\u001B[0mgrad_tensors\u001B[0m\u001B[0;34m,\u001B[0m \u001B[0mlen\u001B[0m\u001B[0;34m(\u001B[0m\u001B[0mtensors\u001B[0m\u001B[0;34m)\u001B[0m\u001B[0;34m)\u001B[0m\u001B[0;34m\u001B[0m\u001B[0;34m\u001B[0m\u001B[0m\n\u001B[0;32m--> 150\u001B[0;31m     \u001B[0mgrad_tensors_\u001B[0m \u001B[0;34m=\u001B[0m \u001B[0m_make_grads\u001B[0m\u001B[0;34m(\u001B[0m\u001B[0mtensors\u001B[0m\u001B[0;34m,\u001B[0m \u001B[0mgrad_tensors_\u001B[0m\u001B[0;34m)\u001B[0m\u001B[0;34m\u001B[0m\u001B[0;34m\u001B[0m\u001B[0m\n\u001B[0m\u001B[1;32m    151\u001B[0m     \u001B[0;32mif\u001B[0m \u001B[0mretain_graph\u001B[0m \u001B[0;32mis\u001B[0m \u001B[0;32mNone\u001B[0m\u001B[0;34m:\u001B[0m\u001B[0;34m\u001B[0m\u001B[0;34m\u001B[0m\u001B[0m\n\u001B[1;32m    152\u001B[0m         \u001B[0mretain_graph\u001B[0m \u001B[0;34m=\u001B[0m \u001B[0mcreate_graph\u001B[0m\u001B[0;34m\u001B[0m\u001B[0;34m\u001B[0m\u001B[0m\n",
      "\u001B[0;32m~/anaconda3/envs/Tianchi/lib/python3.7/site-packages/torch/autograd/__init__.py\u001B[0m in \u001B[0;36m_make_grads\u001B[0;34m(outputs, grads)\u001B[0m\n\u001B[1;32m     49\u001B[0m             \u001B[0;32mif\u001B[0m \u001B[0mout\u001B[0m\u001B[0;34m.\u001B[0m\u001B[0mrequires_grad\u001B[0m\u001B[0;34m:\u001B[0m\u001B[0;34m\u001B[0m\u001B[0;34m\u001B[0m\u001B[0m\n\u001B[1;32m     50\u001B[0m                 \u001B[0;32mif\u001B[0m \u001B[0mout\u001B[0m\u001B[0;34m.\u001B[0m\u001B[0mnumel\u001B[0m\u001B[0;34m(\u001B[0m\u001B[0;34m)\u001B[0m \u001B[0;34m!=\u001B[0m \u001B[0;36m1\u001B[0m\u001B[0;34m:\u001B[0m\u001B[0;34m\u001B[0m\u001B[0;34m\u001B[0m\u001B[0m\n\u001B[0;32m---> 51\u001B[0;31m                     \u001B[0;32mraise\u001B[0m \u001B[0mRuntimeError\u001B[0m\u001B[0;34m(\u001B[0m\u001B[0;34m\"grad can be implicitly created only for scalar outputs\"\u001B[0m\u001B[0;34m)\u001B[0m\u001B[0;34m\u001B[0m\u001B[0;34m\u001B[0m\u001B[0m\n\u001B[0m\u001B[1;32m     52\u001B[0m                 \u001B[0mnew_grads\u001B[0m\u001B[0;34m.\u001B[0m\u001B[0mappend\u001B[0m\u001B[0;34m(\u001B[0m\u001B[0mtorch\u001B[0m\u001B[0;34m.\u001B[0m\u001B[0mones_like\u001B[0m\u001B[0;34m(\u001B[0m\u001B[0mout\u001B[0m\u001B[0;34m,\u001B[0m \u001B[0mmemory_format\u001B[0m\u001B[0;34m=\u001B[0m\u001B[0mtorch\u001B[0m\u001B[0;34m.\u001B[0m\u001B[0mpreserve_format\u001B[0m\u001B[0;34m)\u001B[0m\u001B[0;34m)\u001B[0m\u001B[0;34m\u001B[0m\u001B[0;34m\u001B[0m\u001B[0m\n\u001B[1;32m     53\u001B[0m             \u001B[0;32melse\u001B[0m\u001B[0;34m:\u001B[0m\u001B[0;34m\u001B[0m\u001B[0;34m\u001B[0m\u001B[0m\n",
      "\u001B[0;31mRuntimeError\u001B[0m: grad can be implicitly created only for scalar outputs"
     ]
    }
   ],
   "source": [
    "train_ch3(net,train_iter,test_iter,cross_entropy,num_epoch,batch_size,[W,b],lr)"
   ]
  },
  {
   "cell_type": "code",
   "execution_count": null,
   "metadata": {},
   "outputs": [],
   "source": [
    "for X,y in train_iter:\n",
    "    print(X,y)\n",
    "    break"
   ]
  },
  {
   "cell_type": "markdown",
   "metadata": {},
   "source": [
    "### 预测"
   ]
  },
  {
   "cell_type": "code",
   "execution_count": 287,
   "metadata": {},
   "outputs": [],
   "source": [
    "X,y = iter(test_iter).next()"
   ]
  },
  {
   "cell_type": "code",
   "execution_count": 288,
   "metadata": {},
   "outputs": [],
   "source": [
    "true_labels = d2l.get_fashion_mnist_labels(y.numpy())"
   ]
  },
  {
   "cell_type": "code",
   "execution_count": 289,
   "metadata": {},
   "outputs": [
    {
     "name": "stderr",
     "output_type": "stream",
     "text": [
      "/Users/shizhonghui/anaconda3/envs/Tianchi/lib/python3.7/site-packages/ipykernel_launcher.py:2: UserWarning: Implicit dimension choice for softmax has been deprecated. Change the call to include dim=X as an argument.\n",
      "  \n"
     ]
    }
   ],
   "source": [
    "pred_labels = d2l.get_fashion_mnist_labels(net(X).argmax(dim=1).numpy())"
   ]
  },
  {
   "cell_type": "code",
   "execution_count": 291,
   "metadata": {},
   "outputs": [],
   "source": [
    "titles = [true + '/n' + pred for true,pred in zip(true_labels,pred_labels)]"
   ]
  },
  {
   "cell_type": "code",
   "execution_count": 292,
   "metadata": {},
   "outputs": [
    {
     "data": {
      "image/svg+xml": [
       "<?xml version=\"1.0\" encoding=\"utf-8\" standalone=\"no\"?>\n",
       "<!DOCTYPE svg PUBLIC \"-//W3C//DTD SVG 1.1//EN\"\n",
       "  \"http://www.w3.org/Graphics/SVG/1.1/DTD/svg11.dtd\">\n",
       "<svg xmlns:xlink=\"http://www.w3.org/1999/xlink\" width=\"729.726439pt\" height=\"96.187936pt\" viewBox=\"0 0 729.726439 96.187936\" xmlns=\"http://www.w3.org/2000/svg\" version=\"1.1\">\n",
       " <metadata>\n",
       "  <rdf:RDF xmlns:dc=\"http://purl.org/dc/elements/1.1/\" xmlns:cc=\"http://creativecommons.org/ns#\" xmlns:rdf=\"http://www.w3.org/1999/02/22-rdf-syntax-ns#\">\n",
       "   <cc:Work>\n",
       "    <dc:type rdf:resource=\"http://purl.org/dc/dcmitype/StillImage\"/>\n",
       "    <dc:date>2022-12-08T19:14:20.755245</dc:date>\n",
       "    <dc:format>image/svg+xml</dc:format>\n",
       "    <dc:creator>\n",
       "     <cc:Agent>\n",
       "      <dc:title>Matplotlib v3.5.1, https://matplotlib.org/</dc:title>\n",
       "     </cc:Agent>\n",
       "    </dc:creator>\n",
       "   </cc:Work>\n",
       "  </rdf:RDF>\n",
       " </metadata>\n",
       " <defs>\n",
       "  <style type=\"text/css\">*{stroke-linejoin: round; stroke-linecap: butt}</style>\n",
       " </defs>\n",
       " <g id=\"figure_1\">\n",
       "  <g id=\"patch_1\">\n",
       "   <path d=\"M 0 96.187936 \n",
       "L 729.726439 96.187936 \n",
       "L 729.726439 0 \n",
       "L 0 0 \n",
       "L 0 96.187936 \n",
       "z\n",
       "\" style=\"fill: none\"/>\n",
       "  </g>\n",
       "  <g id=\"axes_1\">\n",
       "   <g id=\"patch_2\">\n",
       "    <path d=\"M 34.603532 85.487936 \n",
       "L 97.773343 85.487936 \n",
       "L 97.773343 22.318125 \n",
       "L 34.603532 22.318125 \n",
       "z\n",
       "\" style=\"fill: #ffffff\"/>\n",
       "   </g>\n",
       "   <g clip-path=\"url(#p47bb79564c)\">\n",
       "    <image xlink:href=\"data:image/png;base64,\n",
       "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\" id=\"image3213afbb89\" transform=\"scale(1 -1)translate(0 -64)\" x=\"34.603532\" y=\"-21.487936\" width=\"64\" height=\"64\"/>\n",
       "   </g>\n",
       "   <g id=\"patch_3\">\n",
       "    <path d=\"M 34.603532 85.487936 \n",
       "L 34.603532 22.318125 \n",
       "\" style=\"fill: none; stroke: #000000; stroke-width: 0.8; stroke-linejoin: miter; stroke-linecap: square\"/>\n",
       "   </g>\n",
       "   <g id=\"patch_4\">\n",
       "    <path d=\"M 97.773343 85.487936 \n",
       "L 97.773343 22.318125 \n",
       "\" style=\"fill: none; stroke: #000000; stroke-width: 0.8; stroke-linejoin: miter; stroke-linecap: square\"/>\n",
       "   </g>\n",
       "   <g id=\"patch_5\">\n",
       "    <path d=\"M 34.603532 85.487936 \n",
       "L 97.773343 85.487936 \n",
       "\" style=\"fill: none; stroke: #000000; stroke-width: 0.8; stroke-linejoin: miter; stroke-linecap: square\"/>\n",
       "   </g>\n",
       "   <g id=\"patch_6\">\n",
       "    <path d=\"M 34.603532 22.318125 \n",
       "L 97.773343 22.318125 \n",
       "\" style=\"fill: none; stroke: #000000; stroke-width: 0.8; stroke-linejoin: miter; stroke-linecap: square\"/>\n",
       "   </g>\n",
       "   <g id=\"text_1\">\n",
       "    <!-- ankle boot/ntrouser -->\n",
       "    <g transform=\"translate(7.2 16.318125)scale(0.12 -0.12)\">\n",
       "     <defs>\n",
       "      <path id=\"DejaVuSans-61\" d=\"M 2194 1759 \n",
       "Q 1497 1759 1228 1600 \n",
       "Q 959 1441 959 1056 \n",
       "Q 959 750 1161 570 \n",
       "Q 1363 391 1709 391 \n",
       "Q 2188 391 2477 730 \n",
       "Q 2766 1069 2766 1631 \n",
       "L 2766 1759 \n",
       "L 2194 1759 \n",
       "z\n",
       "M 3341 1997 \n",
       "L 3341 0 \n",
       "L 2766 0 \n",
       "L 2766 531 \n",
       "Q 2569 213 2275 61 \n",
       "Q 1981 -91 1556 -91 \n",
       "Q 1019 -91 701 211 \n",
       "Q 384 513 384 1019 \n",
       "Q 384 1609 779 1909 \n",
       "Q 1175 2209 1959 2209 \n",
       "L 2766 2209 \n",
       "L 2766 2266 \n",
       "Q 2766 2663 2505 2880 \n",
       "Q 2244 3097 1772 3097 \n",
       "Q 1472 3097 1187 3025 \n",
       "Q 903 2953 641 2809 \n",
       "L 641 3341 \n",
       "Q 956 3463 1253 3523 \n",
       "Q 1550 3584 1831 3584 \n",
       "Q 2591 3584 2966 3190 \n",
       "Q 3341 2797 3341 1997 \n",
       "z\n",
       "\" transform=\"scale(0.015625)\"/>\n",
       "      <path id=\"DejaVuSans-6e\" d=\"M 3513 2113 \n",
       "L 3513 0 \n",
       "L 2938 0 \n",
       "L 2938 2094 \n",
       "Q 2938 2591 2744 2837 \n",
       "Q 2550 3084 2163 3084 \n",
       "Q 1697 3084 1428 2787 \n",
       "Q 1159 2491 1159 1978 \n",
       "L 1159 0 \n",
       "L 581 0 \n",
       "L 581 3500 \n",
       "L 1159 3500 \n",
       "L 1159 2956 \n",
       "Q 1366 3272 1645 3428 \n",
       "Q 1925 3584 2291 3584 \n",
       "Q 2894 3584 3203 3211 \n",
       "Q 3513 2838 3513 2113 \n",
       "z\n",
       "\" transform=\"scale(0.015625)\"/>\n",
       "      <path id=\"DejaVuSans-6b\" d=\"M 581 4863 \n",
       "L 1159 4863 \n",
       "L 1159 1991 \n",
       "L 2875 3500 \n",
       "L 3609 3500 \n",
       "L 1753 1863 \n",
       "L 3688 0 \n",
       "L 2938 0 \n",
       "L 1159 1709 \n",
       "L 1159 0 \n",
       "L 581 0 \n",
       "L 581 4863 \n",
       "z\n",
       "\" transform=\"scale(0.015625)\"/>\n",
       "      <path id=\"DejaVuSans-6c\" d=\"M 603 4863 \n",
       "L 1178 4863 \n",
       "L 1178 0 \n",
       "L 603 0 \n",
       "L 603 4863 \n",
       "z\n",
       "\" transform=\"scale(0.015625)\"/>\n",
       "      <path id=\"DejaVuSans-65\" d=\"M 3597 1894 \n",
       "L 3597 1613 \n",
       "L 953 1613 \n",
       "Q 991 1019 1311 708 \n",
       "Q 1631 397 2203 397 \n",
       "Q 2534 397 2845 478 \n",
       "Q 3156 559 3463 722 \n",
       "L 3463 178 \n",
       "Q 3153 47 2828 -22 \n",
       "Q 2503 -91 2169 -91 \n",
       "Q 1331 -91 842 396 \n",
       "Q 353 884 353 1716 \n",
       "Q 353 2575 817 3079 \n",
       "Q 1281 3584 2069 3584 \n",
       "Q 2775 3584 3186 3129 \n",
       "Q 3597 2675 3597 1894 \n",
       "z\n",
       "M 3022 2063 \n",
       "Q 3016 2534 2758 2815 \n",
       "Q 2500 3097 2075 3097 \n",
       "Q 1594 3097 1305 2825 \n",
       "Q 1016 2553 972 2059 \n",
       "L 3022 2063 \n",
       "z\n",
       "\" transform=\"scale(0.015625)\"/>\n",
       "      <path id=\"DejaVuSans-20\" transform=\"scale(0.015625)\"/>\n",
       "      <path id=\"DejaVuSans-62\" d=\"M 3116 1747 \n",
       "Q 3116 2381 2855 2742 \n",
       "Q 2594 3103 2138 3103 \n",
       "Q 1681 3103 1420 2742 \n",
       "Q 1159 2381 1159 1747 \n",
       "Q 1159 1113 1420 752 \n",
       "Q 1681 391 2138 391 \n",
       "Q 2594 391 2855 752 \n",
       "Q 3116 1113 3116 1747 \n",
       "z\n",
       "M 1159 2969 \n",
       "Q 1341 3281 1617 3432 \n",
       "Q 1894 3584 2278 3584 \n",
       "Q 2916 3584 3314 3078 \n",
       "Q 3713 2572 3713 1747 \n",
       "Q 3713 922 3314 415 \n",
       "Q 2916 -91 2278 -91 \n",
       "Q 1894 -91 1617 61 \n",
       "Q 1341 213 1159 525 \n",
       "L 1159 0 \n",
       "L 581 0 \n",
       "L 581 4863 \n",
       "L 1159 4863 \n",
       "L 1159 2969 \n",
       "z\n",
       "\" transform=\"scale(0.015625)\"/>\n",
       "      <path id=\"DejaVuSans-6f\" d=\"M 1959 3097 \n",
       "Q 1497 3097 1228 2736 \n",
       "Q 959 2375 959 1747 \n",
       "Q 959 1119 1226 758 \n",
       "Q 1494 397 1959 397 \n",
       "Q 2419 397 2687 759 \n",
       "Q 2956 1122 2956 1747 \n",
       "Q 2956 2369 2687 2733 \n",
       "Q 2419 3097 1959 3097 \n",
       "z\n",
       "M 1959 3584 \n",
       "Q 2709 3584 3137 3096 \n",
       "Q 3566 2609 3566 1747 \n",
       "Q 3566 888 3137 398 \n",
       "Q 2709 -91 1959 -91 \n",
       "Q 1206 -91 779 398 \n",
       "Q 353 888 353 1747 \n",
       "Q 353 2609 779 3096 \n",
       "Q 1206 3584 1959 3584 \n",
       "z\n",
       "\" transform=\"scale(0.015625)\"/>\n",
       "      <path id=\"DejaVuSans-74\" d=\"M 1172 4494 \n",
       "L 1172 3500 \n",
       "L 2356 3500 \n",
       "L 2356 3053 \n",
       "L 1172 3053 \n",
       "L 1172 1153 \n",
       "Q 1172 725 1289 603 \n",
       "Q 1406 481 1766 481 \n",
       "L 2356 481 \n",
       "L 2356 0 \n",
       "L 1766 0 \n",
       "Q 1100 0 847 248 \n",
       "Q 594 497 594 1153 \n",
       "L 594 3053 \n",
       "L 172 3053 \n",
       "L 172 3500 \n",
       "L 594 3500 \n",
       "L 594 4494 \n",
       "L 1172 4494 \n",
       "z\n",
       "\" transform=\"scale(0.015625)\"/>\n",
       "      <path id=\"DejaVuSans-2f\" d=\"M 1625 4666 \n",
       "L 2156 4666 \n",
       "L 531 -594 \n",
       "L 0 -594 \n",
       "L 1625 4666 \n",
       "z\n",
       "\" transform=\"scale(0.015625)\"/>\n",
       "      <path id=\"DejaVuSans-72\" d=\"M 2631 2963 \n",
       "Q 2534 3019 2420 3045 \n",
       "Q 2306 3072 2169 3072 \n",
       "Q 1681 3072 1420 2755 \n",
       "Q 1159 2438 1159 1844 \n",
       "L 1159 0 \n",
       "L 581 0 \n",
       "L 581 3500 \n",
       "L 1159 3500 \n",
       "L 1159 2956 \n",
       "Q 1341 3275 1631 3429 \n",
       "Q 1922 3584 2338 3584 \n",
       "Q 2397 3584 2469 3576 \n",
       "Q 2541 3569 2628 3553 \n",
       "L 2631 2963 \n",
       "z\n",
       "\" transform=\"scale(0.015625)\"/>\n",
       "      <path id=\"DejaVuSans-75\" d=\"M 544 1381 \n",
       "L 544 3500 \n",
       "L 1119 3500 \n",
       "L 1119 1403 \n",
       "Q 1119 906 1312 657 \n",
       "Q 1506 409 1894 409 \n",
       "Q 2359 409 2629 706 \n",
       "Q 2900 1003 2900 1516 \n",
       "L 2900 3500 \n",
       "L 3475 3500 \n",
       "L 3475 0 \n",
       "L 2900 0 \n",
       "L 2900 538 \n",
       "Q 2691 219 2414 64 \n",
       "Q 2138 -91 1772 -91 \n",
       "Q 1169 -91 856 284 \n",
       "Q 544 659 544 1381 \n",
       "z\n",
       "M 1991 3584 \n",
       "L 1991 3584 \n",
       "z\n",
       "\" transform=\"scale(0.015625)\"/>\n",
       "      <path id=\"DejaVuSans-73\" d=\"M 2834 3397 \n",
       "L 2834 2853 \n",
       "Q 2591 2978 2328 3040 \n",
       "Q 2066 3103 1784 3103 \n",
       "Q 1356 3103 1142 2972 \n",
       "Q 928 2841 928 2578 \n",
       "Q 928 2378 1081 2264 \n",
       "Q 1234 2150 1697 2047 \n",
       "L 1894 2003 \n",
       "Q 2506 1872 2764 1633 \n",
       "Q 3022 1394 3022 966 \n",
       "Q 3022 478 2636 193 \n",
       "Q 2250 -91 1575 -91 \n",
       "Q 1294 -91 989 -36 \n",
       "Q 684 19 347 128 \n",
       "L 347 722 \n",
       "Q 666 556 975 473 \n",
       "Q 1284 391 1588 391 \n",
       "Q 1994 391 2212 530 \n",
       "Q 2431 669 2431 922 \n",
       "Q 2431 1156 2273 1281 \n",
       "Q 2116 1406 1581 1522 \n",
       "L 1381 1569 \n",
       "Q 847 1681 609 1914 \n",
       "Q 372 2147 372 2553 \n",
       "Q 372 3047 722 3315 \n",
       "Q 1072 3584 1716 3584 \n",
       "Q 2034 3584 2315 3537 \n",
       "Q 2597 3491 2834 3397 \n",
       "z\n",
       "\" transform=\"scale(0.015625)\"/>\n",
       "     </defs>\n",
       "     <use xlink:href=\"#DejaVuSans-61\"/>\n",
       "     <use xlink:href=\"#DejaVuSans-6e\" x=\"61.279297\"/>\n",
       "     <use xlink:href=\"#DejaVuSans-6b\" x=\"124.658203\"/>\n",
       "     <use xlink:href=\"#DejaVuSans-6c\" x=\"182.568359\"/>\n",
       "     <use xlink:href=\"#DejaVuSans-65\" x=\"210.351562\"/>\n",
       "     <use xlink:href=\"#DejaVuSans-20\" x=\"271.875\"/>\n",
       "     <use xlink:href=\"#DejaVuSans-62\" x=\"303.662109\"/>\n",
       "     <use xlink:href=\"#DejaVuSans-6f\" x=\"367.138672\"/>\n",
       "     <use xlink:href=\"#DejaVuSans-6f\" x=\"428.320312\"/>\n",
       "     <use xlink:href=\"#DejaVuSans-74\" x=\"489.501953\"/>\n",
       "     <use xlink:href=\"#DejaVuSans-2f\" x=\"528.710938\"/>\n",
       "     <use xlink:href=\"#DejaVuSans-6e\" x=\"562.402344\"/>\n",
       "     <use xlink:href=\"#DejaVuSans-74\" x=\"625.78125\"/>\n",
       "     <use xlink:href=\"#DejaVuSans-72\" x=\"664.990234\"/>\n",
       "     <use xlink:href=\"#DejaVuSans-6f\" x=\"703.853516\"/>\n",
       "     <use xlink:href=\"#DejaVuSans-75\" x=\"765.035156\"/>\n",
       "     <use xlink:href=\"#DejaVuSans-73\" x=\"828.414062\"/>\n",
       "     <use xlink:href=\"#DejaVuSans-65\" x=\"880.513672\"/>\n",
       "     <use xlink:href=\"#DejaVuSans-72\" x=\"942.037109\"/>\n",
       "    </g>\n",
       "   </g>\n",
       "  </g>\n",
       "  <g id=\"axes_2\">\n",
       "   <g id=\"patch_7\">\n",
       "    <path d=\"M 110.407305 85.487936 \n",
       "L 173.577117 85.487936 \n",
       "L 173.577117 22.318125 \n",
       "L 110.407305 22.318125 \n",
       "z\n",
       "\" style=\"fill: #ffffff\"/>\n",
       "   </g>\n",
       "   <g clip-path=\"url(#pb52771ac06)\">\n",
       "    <image xlink:href=\"data:image/png;base64,\n",
       "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\" id=\"image6fd685803f\" transform=\"scale(1 -1)translate(0 -64)\" x=\"110.407305\" y=\"-21.487936\" width=\"64\" height=\"64\"/>\n",
       "   </g>\n",
       "   <g id=\"patch_8\">\n",
       "    <path d=\"M 110.407305 85.487936 \n",
       "L 110.407305 22.318125 \n",
       "\" style=\"fill: none; stroke: #000000; stroke-width: 0.8; stroke-linejoin: miter; stroke-linecap: square\"/>\n",
       "   </g>\n",
       "   <g id=\"patch_9\">\n",
       "    <path d=\"M 173.577117 85.487936 \n",
       "L 173.577117 22.318125 \n",
       "\" style=\"fill: none; stroke: #000000; stroke-width: 0.8; stroke-linejoin: miter; stroke-linecap: square\"/>\n",
       "   </g>\n",
       "   <g id=\"patch_10\">\n",
       "    <path d=\"M 110.407305 85.487936 \n",
       "L 173.577117 85.487936 \n",
       "\" style=\"fill: none; stroke: #000000; stroke-width: 0.8; stroke-linejoin: miter; stroke-linecap: square\"/>\n",
       "   </g>\n",
       "   <g id=\"patch_11\">\n",
       "    <path d=\"M 110.407305 22.318125 \n",
       "L 173.577117 22.318125 \n",
       "\" style=\"fill: none; stroke: #000000; stroke-width: 0.8; stroke-linejoin: miter; stroke-linecap: square\"/>\n",
       "   </g>\n",
       "   <g id=\"text_2\">\n",
       "    <!-- pullover/nankle boot -->\n",
       "    <g transform=\"translate(80.119086 16.318125)scale(0.12 -0.12)\">\n",
       "     <defs>\n",
       "      <path id=\"DejaVuSans-70\" d=\"M 1159 525 \n",
       "L 1159 -1331 \n",
       "L 581 -1331 \n",
       "L 581 3500 \n",
       "L 1159 3500 \n",
       "L 1159 2969 \n",
       "Q 1341 3281 1617 3432 \n",
       "Q 1894 3584 2278 3584 \n",
       "Q 2916 3584 3314 3078 \n",
       "Q 3713 2572 3713 1747 \n",
       "Q 3713 922 3314 415 \n",
       "Q 2916 -91 2278 -91 \n",
       "Q 1894 -91 1617 61 \n",
       "Q 1341 213 1159 525 \n",
       "z\n",
       "M 3116 1747 \n",
       "Q 3116 2381 2855 2742 \n",
       "Q 2594 3103 2138 3103 \n",
       "Q 1681 3103 1420 2742 \n",
       "Q 1159 2381 1159 1747 \n",
       "Q 1159 1113 1420 752 \n",
       "Q 1681 391 2138 391 \n",
       "Q 2594 391 2855 752 \n",
       "Q 3116 1113 3116 1747 \n",
       "z\n",
       "\" transform=\"scale(0.015625)\"/>\n",
       "      <path id=\"DejaVuSans-76\" d=\"M 191 3500 \n",
       "L 800 3500 \n",
       "L 1894 563 \n",
       "L 2988 3500 \n",
       "L 3597 3500 \n",
       "L 2284 0 \n",
       "L 1503 0 \n",
       "L 191 3500 \n",
       "z\n",
       "\" transform=\"scale(0.015625)\"/>\n",
       "     </defs>\n",
       "     <use xlink:href=\"#DejaVuSans-70\"/>\n",
       "     <use xlink:href=\"#DejaVuSans-75\" x=\"63.476562\"/>\n",
       "     <use xlink:href=\"#DejaVuSans-6c\" x=\"126.855469\"/>\n",
       "     <use xlink:href=\"#DejaVuSans-6c\" x=\"154.638672\"/>\n",
       "     <use xlink:href=\"#DejaVuSans-6f\" x=\"182.421875\"/>\n",
       "     <use xlink:href=\"#DejaVuSans-76\" x=\"243.603516\"/>\n",
       "     <use xlink:href=\"#DejaVuSans-65\" x=\"302.783203\"/>\n",
       "     <use xlink:href=\"#DejaVuSans-72\" x=\"364.306641\"/>\n",
       "     <use xlink:href=\"#DejaVuSans-2f\" x=\"405.419922\"/>\n",
       "     <use xlink:href=\"#DejaVuSans-6e\" x=\"439.111328\"/>\n",
       "     <use xlink:href=\"#DejaVuSans-61\" x=\"502.490234\"/>\n",
       "     <use xlink:href=\"#DejaVuSans-6e\" x=\"563.769531\"/>\n",
       "     <use xlink:href=\"#DejaVuSans-6b\" x=\"627.148438\"/>\n",
       "     <use xlink:href=\"#DejaVuSans-6c\" x=\"685.058594\"/>\n",
       "     <use xlink:href=\"#DejaVuSans-65\" x=\"712.841797\"/>\n",
       "     <use xlink:href=\"#DejaVuSans-20\" x=\"774.365234\"/>\n",
       "     <use xlink:href=\"#DejaVuSans-62\" x=\"806.152344\"/>\n",
       "     <use xlink:href=\"#DejaVuSans-6f\" x=\"869.628906\"/>\n",
       "     <use xlink:href=\"#DejaVuSans-6f\" x=\"930.810547\"/>\n",
       "     <use xlink:href=\"#DejaVuSans-74\" x=\"991.992188\"/>\n",
       "    </g>\n",
       "   </g>\n",
       "  </g>\n",
       "  <g id=\"axes_3\">\n",
       "   <g id=\"patch_12\">\n",
       "    <path d=\"M 186.211079 85.487936 \n",
       "L 249.38089 85.487936 \n",
       "L 249.38089 22.318125 \n",
       "L 186.211079 22.318125 \n",
       "z\n",
       "\" style=\"fill: #ffffff\"/>\n",
       "   </g>\n",
       "   <g clip-path=\"url(#pe5777d8a46)\">\n",
       "    <image xlink:href=\"data:image/png;base64,\n",
       "iVBORw0KGgoAAAANSUhEUgAAAEAAAABACAYAAACqaXHeAAANGklEQVR4nNWbW28cR3bHf6eqq7vnxhlKpChStpXI3o3WcYKskwALLHIDNovNBvuWh+xLPkI+RT5I9iFP+RB5SZCFAyRZWFG8vq0VS7QuFIfkcHr6VnXy0D0jDimtHbsJMH+AENXsS9W/Tp3zP6eq5AfyV8olwk7GTP/iO5zeMsxve9LdOcX/DNn6D6F3UNP/+cf46fTF/W9/m5PvbHJy2yJ/PGWzv2BWxJR1RHhvwvYvKtIvMnj/l2hdf+P2mW/8hi+DGIITggN1ios8mih1D+q+QZIYiSIQAUCNwcfN/YmrSWxN6mriqEYjUCtgpbPmRZ296RWQfo/p29C7O+WHe5/xZ+MP+PjODv/5u6/x/v4ext9m8Okm5vMn+OmUxRsjnv0+mFtz/vbOv3DLHTIPCVlI+LvZj5nO+6jp03/fQgcW0C0BIqDnZpSLqPcKfvjGB/zl+Bf8aS9QDQ843fx3fnbtbX722o+JsiG9wxlMpxQTi7s953d29/nJ4EN2oyGVzsm05B92nvNgu0fxzDIQoYu52x0BIiAGCOskGEOcVryRHOKk5sAvOA7KIz/k/dlrDB570s+P0dPT1SOqUAdDrpCFkkJrZho4LWPsQrBl6KzZHRJgECNoMKB+dVmNsDHIeTt9iEXZ95b9eswHxS73pzuMf3WK/+DjF6QphCCUISJTS6YVx0GZBcdskRItICoCet7Svia69wHajI4kCWYypr6xwTg9ZGRyYgIWxRAIalAVCKxZTHDCsF8wiRd4hEoVj+AR6tqQFmCq7gJXdwRoaEa/hd2cMP/uG8xej/j++D57tqDSpr+xeJx4RC52pBwJ7954xLcHTwgqZApeGwLK3DE+UqK5h9ANCd2GQT0zN5OYYmIpJ8LQFsQiOGk+WKrlSbVBVsTIOVNWA4OoIDEVAB4h0IY9BQmK+CtpAboWBcJkyOFvC+Veya1kStledwL38tf5x19+l/DZADl9vPYaUShCRFCDEcWi+Nbfi1VCJGjUnQ7o2ALOzOUkotzybFybMzILltPWAgfVkOpZj2QqSHUulrf3edY7adGGX9M41q5waUKo2oi5fecpf7j1gJvRMbk2IdIKPMwn9B5ZBvsKRbn2nFoY2oK+Wb/uEWzkqXuCjw2uIxIujYB6aPnRzf/mB6N7xAQqDDEBDxzkQwb7Sv9JhZ4nwMAwKhiYAtuaw9IHRJHHpxDi/wcWgEKlllwdSEWsgRKDIZBVMfFpwJ3W4P3aYyGCG+6Eic1W10bG4zRgjNKJ/DuDSyNAAmQhJg8OawIIjchBOF6kbD0tiQ5O0XLdAkIM34ofrwjwCDvGYjA46/GheXdX6J4AYxEXEZzgxGPb1gY1lNLE9LK22EWF5AXBr/dGBVJTEfPiusFg5YzZd2gFnRNgN4bI5oTFpmE3PmLbzpmFmFxdI2jUsJgn2Ef7+MMpWlfrLzCQSoV7yTCrChK4oB2+CbqvB7iYMOjhU2FgClLxK2e2hHpB8wItigvZo0oT8pwEzMuGWrnaFsD2JrPfGpPtKtvRCX1RZuLxCNdMSSoel9bwijCmFrZtiQOOdP2eoIK56k4wDBKybUM1DoxMTiqCk4DHM5KaiTFEzr/yeTVKXwTLK0LdVbeAchyT7YG5XhDjCYBrdcCDeoP7GrM4SV+dzAg4aWZmoBn1QMBiV39/FTdfB50TUGxGlLcL3tg6wonHq2KlIeGT8gb3sz3MUbSeOJ3DcvTP24kRRa86AT4RBhs5W72mwlPROjUCh37Ag+watpBfawEAHqXSdtTbkCiiBAMqV1gJFmPD9/Ye8Fb/KRal0iYDdBL41WKbe1/skhwK6l/tBwCCKnONAag0w4nFGqWOQDtsdedhMESwHc/YjOZAo+SWHzmtY8qF41ye8wJfdWSvshMMCbyZPuWmOwIa5VehVAiP5hPsk4TkWC/kAEsFqaZRfk0toC2htcSUtcWU3ZbEurcACxObMZBmmANCoCEiqxw2B1tc7IAYQUTWHNwFAQWIp1ML6J6AGO7GT9iLZniEvHVksQQ24oJqqNQ9AXPu09aCfdHlcKYYukRkAiFuV4c6QvdTwCm3I8FjOPS27UCJAUZxThh46tRdeE5EEGvXLKDSCCOBoAoCkQ1Urqkcd4XupfC5tnlM6wiVkSuww5qQuHWHJ4KZjNHRAJ8qFZ6K1gJWoRCsCYSoKZp0hUurBwRVSizhTGt3k2O2NmecDHtrU0CsJexco9gZoMOaQgO5Krm6taJoYj0hhhA1/qILV3Cpq8OWgJGA18YRDm3BJF3gY20c3hJi8MOE/FqE7dWrRnk1F4qjzf3dtfHSLMBIUxBBoVBLheFO8hS24MPN19ayQXERx3d6HN2FN3cOSMWSa03AdF4CO49LXR63KKGdyyiM7IK9eIq60C6kthCh7kM1DmymGeacYXZYAbuASyegoimOVsAte8yd6BA7qtbrAcZQDQQZl1yLM8K5Ll/mPL00As7m88t5fM1WbJmYNK0uyN4QQ9KrGNii+T9gLnXsG1z+FhmaeF61GYwTizGh2RZjmhAnItQ92BrN2YwyPIpXGh9wBomt8YkSrnIy9DKUy/UBGgIiEyCKENfuDTJC3Vd+Y+M5O+6YSkMrn18URgCSqCYkincvUZJfE91PgQDVqtjxQsQ0oqb5vRdXhK0xVhX/9KDZSNUPvNk/4KY7wonBtOWQpRUYDLGpCU47XRztnADjhaMQaNSqxUigwlJptBrJ3cEJD9+5weCLHsl8DlFEvJ3xN5P3GBlhKD1mkl1QgmOXowOPT+xXT52/rL2dvOUsFDK1FNqUsJbwZxTh2OUUE0MxiSBqfYPzXLOWvjjqtpZ4obHS5ATaoRDqnABTwifVdR77PsBqW4w9s9Dxe6PPOXq35Pk7FhkNgSbTG0pCoTX7dcGhd8TiGZhi1ciFd1AaTK0Xd6N93fZ28pYzkABHvs8s9JoPvGQbzI47YuvGCcWWR+PGOYooVgweZaYRuUaYlrwlQrunqMu1we4toIaDeoOTkK6KoU5qDIFcLcdhwQ074/u7n5LuztFk3Q0FoGpzACvNs0tNUatBvFxtAsTDYT0gCwkGxbbbXKwsCfBcsxl/Pr7HW9sHaLJeG/BtIQQaJXnWAurQENClPuqcAFson2XX2S83AXAoph2ySi3zdifZtp3xzsY+j/5kxLOfvMXd60+p1ONpVpKXdYTmR6nUE1tPSEKnVeHOw6Cbw/2DnabTG5AKq+Jmrg4fhIkp+FZU8deb75H9NOa46vHTrZ+TaUmh7c4wNW06bKhUqcQzsCXS8/gk6iwMdq8DKuU0SzgsBqutLWdHc2nwHmUgNXd7X5AlCQNTkAVPrnZ1/xJNQhVIbI2JfadSuHMC0qlHPxvwiVXy2xYrgSwkHPkB2/aE1NR4hMMAIPxR/2M8QhYcH9XDZiOFWgIGK4GAYR4MXgKTKGN7c8bxoH91pbApA24uFPmLVzdbXl8ouqBChWnqhKaRvFlwZCF56TsrTBNRjKfvKqZX2QLccU5/PybfajrTF8tASnKTr8RQiaFsleFx3fy7XAZbpsCBxgfQRo+gTYVp4Eo0OldS+wbo3gKykt40EM2bjjmxpFKRmrItcLYODqHSqHGMyIVFkLOo2ilhUFJbdVoV7l4HnC5InxbEJy/M3onHtdldpXbl4EwrdJZ/g/UawNIKnHhSqSk0Ylr0Mee2FX0TdE6AzmbEDw9Jpk3YMxicBGJZEhDh2zkd49fyhLIlJ7RRYOkMYwJ9U3NaJxwtephCOjsv0D0BZYUuckzFmqJzUq8E0Vk0Ke+ZbfbteYKzSMSTiuIx5FWE+fUr6/8ndL82uFjgnz3HZbrqmJNAKjUxHiMB23Zw2flwLu5bCSsZ7KTmulW2TMzCO+azFLsAQjd6+BLqAQrBI16psKsK77oDfPVnz1vEspFOLGWI0NI0FnBlj8y0aNLiAcfhOV4FI8rcJxz6IampGJlF4wfEA565xm1UkNVymsdg2/pgIPAsH2KnDneqnVnA5RGgMA8J86As17ICpnGMGlYx3rXOcRkFl0oQwJ6rJRQ+avYXlFfxxAisnRixeeDfTn6TDbPg3fQh28Yzkue8Hh21PqEpfWet579uFqvXGJQKQ662iQDSEPJ83ic9EOITfwVPjS2VWUuCKQMfHW+zHb/Ou+lDtuyALbv+SKWeJ745TTIxhkQinFicWCr1TEOOARJJqdQzXyRMDpV4VnV2aOoSjs01DYuPSz78aIdnswFDW/AH/U95XI85qDdIWh+Qa8wn+Q2KEDGOFvRN2f4UVGqZtVWl2/EBAPV+n9HnBe7ZHP8lu8y+Kro/NNXCfnHI3j/1ybY2+Pvye/zzzTf59Nl1isMeJJ50WFJXFn+QYEohJIo6hTgQpTWqQvCCscrO9WNi69m8J0T/+l8E7yFcNQLOw3uiRcAWBl8bFrWjKiNM3sicKrGE0mJzg7TnptS3G6qMbQzJC94qi9IRnGBqmh3mHeJ/AfEdb6dI91UyAAAAAElFTkSuQmCC\" id=\"imaged873708ef7\" transform=\"scale(1 -1)translate(0 -64)\" x=\"186.211079\" y=\"-21.487936\" width=\"64\" height=\"64\"/>\n",
       "   </g>\n",
       "   <g id=\"patch_13\">\n",
       "    <path d=\"M 186.211079 85.487936 \n",
       "L 186.211079 22.318125 \n",
       "\" style=\"fill: none; stroke: #000000; stroke-width: 0.8; stroke-linejoin: miter; stroke-linecap: square\"/>\n",
       "   </g>\n",
       "   <g id=\"patch_14\">\n",
       "    <path d=\"M 249.38089 85.487936 \n",
       "L 249.38089 22.318125 \n",
       "\" style=\"fill: none; stroke: #000000; stroke-width: 0.8; stroke-linejoin: miter; stroke-linecap: square\"/>\n",
       "   </g>\n",
       "   <g id=\"patch_15\">\n",
       "    <path d=\"M 186.211079 85.487936 \n",
       "L 249.38089 85.487936 \n",
       "\" style=\"fill: none; stroke: #000000; stroke-width: 0.8; stroke-linejoin: miter; stroke-linecap: square\"/>\n",
       "   </g>\n",
       "   <g id=\"patch_16\">\n",
       "    <path d=\"M 186.211079 22.318125 \n",
       "L 249.38089 22.318125 \n",
       "\" style=\"fill: none; stroke: #000000; stroke-width: 0.8; stroke-linejoin: miter; stroke-linecap: square\"/>\n",
       "   </g>\n",
       "   <g id=\"text_3\">\n",
       "    <!-- trouser/ntrouser -->\n",
       "    <g transform=\"translate(169.08911 16.318125)scale(0.12 -0.12)\">\n",
       "     <use xlink:href=\"#DejaVuSans-74\"/>\n",
       "     <use xlink:href=\"#DejaVuSans-72\" x=\"39.208984\"/>\n",
       "     <use xlink:href=\"#DejaVuSans-6f\" x=\"78.072266\"/>\n",
       "     <use xlink:href=\"#DejaVuSans-75\" x=\"139.253906\"/>\n",
       "     <use xlink:href=\"#DejaVuSans-73\" x=\"202.632812\"/>\n",
       "     <use xlink:href=\"#DejaVuSans-65\" x=\"254.732422\"/>\n",
       "     <use xlink:href=\"#DejaVuSans-72\" x=\"316.255859\"/>\n",
       "     <use xlink:href=\"#DejaVuSans-2f\" x=\"357.369141\"/>\n",
       "     <use xlink:href=\"#DejaVuSans-6e\" x=\"391.060547\"/>\n",
       "     <use xlink:href=\"#DejaVuSans-74\" x=\"454.439453\"/>\n",
       "     <use xlink:href=\"#DejaVuSans-72\" x=\"493.648438\"/>\n",
       "     <use xlink:href=\"#DejaVuSans-6f\" x=\"532.511719\"/>\n",
       "     <use xlink:href=\"#DejaVuSans-75\" x=\"593.693359\"/>\n",
       "     <use xlink:href=\"#DejaVuSans-73\" x=\"657.072266\"/>\n",
       "     <use xlink:href=\"#DejaVuSans-65\" x=\"709.171875\"/>\n",
       "     <use xlink:href=\"#DejaVuSans-72\" x=\"770.695312\"/>\n",
       "    </g>\n",
       "   </g>\n",
       "  </g>\n",
       "  <g id=\"axes_4\">\n",
       "   <g id=\"patch_17\">\n",
       "    <path d=\"M 262.014853 85.487936 \n",
       "L 325.184664 85.487936 \n",
       "L 325.184664 22.318125 \n",
       "L 262.014853 22.318125 \n",
       "z\n",
       "\" style=\"fill: #ffffff\"/>\n",
       "   </g>\n",
       "   <g clip-path=\"url(#paca7ce5134)\">\n",
       "    <image xlink:href=\"data:image/png;base64,\n",
       "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\" id=\"image2ed1cb81fc\" transform=\"scale(1 -1)translate(0 -64)\" x=\"262.014853\" y=\"-21.487936\" width=\"64\" height=\"64\"/>\n",
       "   </g>\n",
       "   <g id=\"patch_18\">\n",
       "    <path d=\"M 262.014853 85.487936 \n",
       "L 262.014853 22.318125 \n",
       "\" style=\"fill: none; stroke: #000000; stroke-width: 0.8; stroke-linejoin: miter; stroke-linecap: square\"/>\n",
       "   </g>\n",
       "   <g id=\"patch_19\">\n",
       "    <path d=\"M 325.184664 85.487936 \n",
       "L 325.184664 22.318125 \n",
       "\" style=\"fill: none; stroke: #000000; stroke-width: 0.8; stroke-linejoin: miter; stroke-linecap: square\"/>\n",
       "   </g>\n",
       "   <g id=\"patch_20\">\n",
       "    <path d=\"M 262.014853 85.487936 \n",
       "L 325.184664 85.487936 \n",
       "\" style=\"fill: none; stroke: #000000; stroke-width: 0.8; stroke-linejoin: miter; stroke-linecap: square\"/>\n",
       "   </g>\n",
       "   <g id=\"patch_21\">\n",
       "    <path d=\"M 262.014853 22.318125 \n",
       "L 325.184664 22.318125 \n",
       "\" style=\"fill: none; stroke: #000000; stroke-width: 0.8; stroke-linejoin: miter; stroke-linecap: square\"/>\n",
       "   </g>\n",
       "   <g id=\"text_4\">\n",
       "    <!-- trouser/ntrouser -->\n",
       "    <g transform=\"translate(244.892883 16.318125)scale(0.12 -0.12)\">\n",
       "     <use xlink:href=\"#DejaVuSans-74\"/>\n",
       "     <use xlink:href=\"#DejaVuSans-72\" x=\"39.208984\"/>\n",
       "     <use xlink:href=\"#DejaVuSans-6f\" x=\"78.072266\"/>\n",
       "     <use xlink:href=\"#DejaVuSans-75\" x=\"139.253906\"/>\n",
       "     <use xlink:href=\"#DejaVuSans-73\" x=\"202.632812\"/>\n",
       "     <use xlink:href=\"#DejaVuSans-65\" x=\"254.732422\"/>\n",
       "     <use xlink:href=\"#DejaVuSans-72\" x=\"316.255859\"/>\n",
       "     <use xlink:href=\"#DejaVuSans-2f\" x=\"357.369141\"/>\n",
       "     <use xlink:href=\"#DejaVuSans-6e\" x=\"391.060547\"/>\n",
       "     <use xlink:href=\"#DejaVuSans-74\" x=\"454.439453\"/>\n",
       "     <use xlink:href=\"#DejaVuSans-72\" x=\"493.648438\"/>\n",
       "     <use xlink:href=\"#DejaVuSans-6f\" x=\"532.511719\"/>\n",
       "     <use xlink:href=\"#DejaVuSans-75\" x=\"593.693359\"/>\n",
       "     <use xlink:href=\"#DejaVuSans-73\" x=\"657.072266\"/>\n",
       "     <use xlink:href=\"#DejaVuSans-65\" x=\"709.171875\"/>\n",
       "     <use xlink:href=\"#DejaVuSans-72\" x=\"770.695312\"/>\n",
       "    </g>\n",
       "   </g>\n",
       "  </g>\n",
       "  <g id=\"axes_5\">\n",
       "   <g id=\"patch_22\">\n",
       "    <path d=\"M 337.818626 85.487936 \n",
       "L 400.988438 85.487936 \n",
       "L 400.988438 22.318125 \n",
       "L 337.818626 22.318125 \n",
       "z\n",
       "\" style=\"fill: #ffffff\"/>\n",
       "   </g>\n",
       "   <g clip-path=\"url(#p5a47307332)\">\n",
       "    <image xlink:href=\"data:image/png;base64,\n",
       "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\" id=\"image1a5ae6423e\" transform=\"scale(1 -1)translate(0 -64)\" x=\"337.818626\" y=\"-21.487936\" width=\"64\" height=\"64\"/>\n",
       "   </g>\n",
       "   <g id=\"patch_23\">\n",
       "    <path d=\"M 337.818626 85.487936 \n",
       "L 337.818626 22.318125 \n",
       "\" style=\"fill: none; stroke: #000000; stroke-width: 0.8; stroke-linejoin: miter; stroke-linecap: square\"/>\n",
       "   </g>\n",
       "   <g id=\"patch_24\">\n",
       "    <path d=\"M 400.988438 85.487936 \n",
       "L 400.988438 22.318125 \n",
       "\" style=\"fill: none; stroke: #000000; stroke-width: 0.8; stroke-linejoin: miter; stroke-linecap: square\"/>\n",
       "   </g>\n",
       "   <g id=\"patch_25\">\n",
       "    <path d=\"M 337.818626 85.487936 \n",
       "L 400.988438 85.487936 \n",
       "\" style=\"fill: none; stroke: #000000; stroke-width: 0.8; stroke-linejoin: miter; stroke-linecap: square\"/>\n",
       "   </g>\n",
       "   <g id=\"patch_26\">\n",
       "    <path d=\"M 337.818626 22.318125 \n",
       "L 400.988438 22.318125 \n",
       "\" style=\"fill: none; stroke: #000000; stroke-width: 0.8; stroke-linejoin: miter; stroke-linecap: square\"/>\n",
       "   </g>\n",
       "   <g id=\"text_5\">\n",
       "    <!-- shirt/ntrouser -->\n",
       "    <g transform=\"translate(328.724469 16.318125)scale(0.12 -0.12)\">\n",
       "     <defs>\n",
       "      <path id=\"DejaVuSans-68\" d=\"M 3513 2113 \n",
       "L 3513 0 \n",
       "L 2938 0 \n",
       "L 2938 2094 \n",
       "Q 2938 2591 2744 2837 \n",
       "Q 2550 3084 2163 3084 \n",
       "Q 1697 3084 1428 2787 \n",
       "Q 1159 2491 1159 1978 \n",
       "L 1159 0 \n",
       "L 581 0 \n",
       "L 581 4863 \n",
       "L 1159 4863 \n",
       "L 1159 2956 \n",
       "Q 1366 3272 1645 3428 \n",
       "Q 1925 3584 2291 3584 \n",
       "Q 2894 3584 3203 3211 \n",
       "Q 3513 2838 3513 2113 \n",
       "z\n",
       "\" transform=\"scale(0.015625)\"/>\n",
       "      <path id=\"DejaVuSans-69\" d=\"M 603 3500 \n",
       "L 1178 3500 \n",
       "L 1178 0 \n",
       "L 603 0 \n",
       "L 603 3500 \n",
       "z\n",
       "M 603 4863 \n",
       "L 1178 4863 \n",
       "L 1178 4134 \n",
       "L 603 4134 \n",
       "L 603 4863 \n",
       "z\n",
       "\" transform=\"scale(0.015625)\"/>\n",
       "     </defs>\n",
       "     <use xlink:href=\"#DejaVuSans-73\"/>\n",
       "     <use xlink:href=\"#DejaVuSans-68\" x=\"52.099609\"/>\n",
       "     <use xlink:href=\"#DejaVuSans-69\" x=\"115.478516\"/>\n",
       "     <use xlink:href=\"#DejaVuSans-72\" x=\"143.261719\"/>\n",
       "     <use xlink:href=\"#DejaVuSans-74\" x=\"184.375\"/>\n",
       "     <use xlink:href=\"#DejaVuSans-2f\" x=\"223.583984\"/>\n",
       "     <use xlink:href=\"#DejaVuSans-6e\" x=\"257.275391\"/>\n",
       "     <use xlink:href=\"#DejaVuSans-74\" x=\"320.654297\"/>\n",
       "     <use xlink:href=\"#DejaVuSans-72\" x=\"359.863281\"/>\n",
       "     <use xlink:href=\"#DejaVuSans-6f\" x=\"398.726562\"/>\n",
       "     <use xlink:href=\"#DejaVuSans-75\" x=\"459.908203\"/>\n",
       "     <use xlink:href=\"#DejaVuSans-73\" x=\"523.287109\"/>\n",
       "     <use xlink:href=\"#DejaVuSans-65\" x=\"575.386719\"/>\n",
       "     <use xlink:href=\"#DejaVuSans-72\" x=\"636.910156\"/>\n",
       "    </g>\n",
       "   </g>\n",
       "  </g>\n",
       "  <g id=\"axes_6\">\n",
       "   <g id=\"patch_27\">\n",
       "    <path d=\"M 413.6224 85.487936 \n",
       "L 476.792211 85.487936 \n",
       "L 476.792211 22.318125 \n",
       "L 413.6224 22.318125 \n",
       "z\n",
       "\" style=\"fill: #ffffff\"/>\n",
       "   </g>\n",
       "   <g clip-path=\"url(#pf8421b7af8)\">\n",
       "    <image xlink:href=\"data:image/png;base64,\n",
       "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\" id=\"image42f7c48dea\" transform=\"scale(1 -1)translate(0 -64)\" x=\"413.6224\" y=\"-21.487936\" width=\"64\" height=\"64\"/>\n",
       "   </g>\n",
       "   <g id=\"patch_28\">\n",
       "    <path d=\"M 413.6224 85.487936 \n",
       "L 413.6224 22.318125 \n",
       "\" style=\"fill: none; stroke: #000000; stroke-width: 0.8; stroke-linejoin: miter; stroke-linecap: square\"/>\n",
       "   </g>\n",
       "   <g id=\"patch_29\">\n",
       "    <path d=\"M 476.792211 85.487936 \n",
       "L 476.792211 22.318125 \n",
       "\" style=\"fill: none; stroke: #000000; stroke-width: 0.8; stroke-linejoin: miter; stroke-linecap: square\"/>\n",
       "   </g>\n",
       "   <g id=\"patch_30\">\n",
       "    <path d=\"M 413.6224 85.487936 \n",
       "L 476.792211 85.487936 \n",
       "\" style=\"fill: none; stroke: #000000; stroke-width: 0.8; stroke-linejoin: miter; stroke-linecap: square\"/>\n",
       "   </g>\n",
       "   <g id=\"patch_31\">\n",
       "    <path d=\"M 413.6224 22.318125 \n",
       "L 476.792211 22.318125 \n",
       "\" style=\"fill: none; stroke: #000000; stroke-width: 0.8; stroke-linejoin: miter; stroke-linecap: square\"/>\n",
       "   </g>\n",
       "   <g id=\"text_6\">\n",
       "    <!-- trouser/ntrouser -->\n",
       "    <g transform=\"translate(396.50043 16.318125)scale(0.12 -0.12)\">\n",
       "     <use xlink:href=\"#DejaVuSans-74\"/>\n",
       "     <use xlink:href=\"#DejaVuSans-72\" x=\"39.208984\"/>\n",
       "     <use xlink:href=\"#DejaVuSans-6f\" x=\"78.072266\"/>\n",
       "     <use xlink:href=\"#DejaVuSans-75\" x=\"139.253906\"/>\n",
       "     <use xlink:href=\"#DejaVuSans-73\" x=\"202.632812\"/>\n",
       "     <use xlink:href=\"#DejaVuSans-65\" x=\"254.732422\"/>\n",
       "     <use xlink:href=\"#DejaVuSans-72\" x=\"316.255859\"/>\n",
       "     <use xlink:href=\"#DejaVuSans-2f\" x=\"357.369141\"/>\n",
       "     <use xlink:href=\"#DejaVuSans-6e\" x=\"391.060547\"/>\n",
       "     <use xlink:href=\"#DejaVuSans-74\" x=\"454.439453\"/>\n",
       "     <use xlink:href=\"#DejaVuSans-72\" x=\"493.648438\"/>\n",
       "     <use xlink:href=\"#DejaVuSans-6f\" x=\"532.511719\"/>\n",
       "     <use xlink:href=\"#DejaVuSans-75\" x=\"593.693359\"/>\n",
       "     <use xlink:href=\"#DejaVuSans-73\" x=\"657.072266\"/>\n",
       "     <use xlink:href=\"#DejaVuSans-65\" x=\"709.171875\"/>\n",
       "     <use xlink:href=\"#DejaVuSans-72\" x=\"770.695312\"/>\n",
       "    </g>\n",
       "   </g>\n",
       "  </g>\n",
       "  <g id=\"axes_7\">\n",
       "   <g id=\"patch_32\">\n",
       "    <path d=\"M 489.426173 85.487936 \n",
       "L 552.595985 85.487936 \n",
       "L 552.595985 22.318125 \n",
       "L 489.426173 22.318125 \n",
       "z\n",
       "\" style=\"fill: #ffffff\"/>\n",
       "   </g>\n",
       "   <g clip-path=\"url(#pce566e2353)\">\n",
       "    <image xlink:href=\"data:image/png;base64,\n",
       "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\" id=\"image489519f57f\" transform=\"scale(1 -1)translate(0 -64)\" x=\"489.426173\" y=\"-21.487936\" width=\"64\" height=\"64\"/>\n",
       "   </g>\n",
       "   <g id=\"patch_33\">\n",
       "    <path d=\"M 489.426173 85.487936 \n",
       "L 489.426173 22.318125 \n",
       "\" style=\"fill: none; stroke: #000000; stroke-width: 0.8; stroke-linejoin: miter; stroke-linecap: square\"/>\n",
       "   </g>\n",
       "   <g id=\"patch_34\">\n",
       "    <path d=\"M 552.595985 85.487936 \n",
       "L 552.595985 22.318125 \n",
       "\" style=\"fill: none; stroke: #000000; stroke-width: 0.8; stroke-linejoin: miter; stroke-linecap: square\"/>\n",
       "   </g>\n",
       "   <g id=\"patch_35\">\n",
       "    <path d=\"M 489.426173 85.487936 \n",
       "L 552.595985 85.487936 \n",
       "\" style=\"fill: none; stroke: #000000; stroke-width: 0.8; stroke-linejoin: miter; stroke-linecap: square\"/>\n",
       "   </g>\n",
       "   <g id=\"patch_36\">\n",
       "    <path d=\"M 489.426173 22.318125 \n",
       "L 552.595985 22.318125 \n",
       "\" style=\"fill: none; stroke: #000000; stroke-width: 0.8; stroke-linejoin: miter; stroke-linecap: square\"/>\n",
       "   </g>\n",
       "   <g id=\"text_7\">\n",
       "    <!-- coat/nankle boot -->\n",
       "    <g transform=\"translate(470.464829 16.318125)scale(0.12 -0.12)\">\n",
       "     <defs>\n",
       "      <path id=\"DejaVuSans-63\" d=\"M 3122 3366 \n",
       "L 3122 2828 \n",
       "Q 2878 2963 2633 3030 \n",
       "Q 2388 3097 2138 3097 \n",
       "Q 1578 3097 1268 2742 \n",
       "Q 959 2388 959 1747 \n",
       "Q 959 1106 1268 751 \n",
       "Q 1578 397 2138 397 \n",
       "Q 2388 397 2633 464 \n",
       "Q 2878 531 3122 666 \n",
       "L 3122 134 \n",
       "Q 2881 22 2623 -34 \n",
       "Q 2366 -91 2075 -91 \n",
       "Q 1284 -91 818 406 \n",
       "Q 353 903 353 1747 \n",
       "Q 353 2603 823 3093 \n",
       "Q 1294 3584 2113 3584 \n",
       "Q 2378 3584 2631 3529 \n",
       "Q 2884 3475 3122 3366 \n",
       "z\n",
       "\" transform=\"scale(0.015625)\"/>\n",
       "     </defs>\n",
       "     <use xlink:href=\"#DejaVuSans-63\"/>\n",
       "     <use xlink:href=\"#DejaVuSans-6f\" x=\"54.980469\"/>\n",
       "     <use xlink:href=\"#DejaVuSans-61\" x=\"116.162109\"/>\n",
       "     <use xlink:href=\"#DejaVuSans-74\" x=\"177.441406\"/>\n",
       "     <use xlink:href=\"#DejaVuSans-2f\" x=\"216.650391\"/>\n",
       "     <use xlink:href=\"#DejaVuSans-6e\" x=\"250.341797\"/>\n",
       "     <use xlink:href=\"#DejaVuSans-61\" x=\"313.720703\"/>\n",
       "     <use xlink:href=\"#DejaVuSans-6e\" x=\"375\"/>\n",
       "     <use xlink:href=\"#DejaVuSans-6b\" x=\"438.378906\"/>\n",
       "     <use xlink:href=\"#DejaVuSans-6c\" x=\"496.289062\"/>\n",
       "     <use xlink:href=\"#DejaVuSans-65\" x=\"524.072266\"/>\n",
       "     <use xlink:href=\"#DejaVuSans-20\" x=\"585.595703\"/>\n",
       "     <use xlink:href=\"#DejaVuSans-62\" x=\"617.382812\"/>\n",
       "     <use xlink:href=\"#DejaVuSans-6f\" x=\"680.859375\"/>\n",
       "     <use xlink:href=\"#DejaVuSans-6f\" x=\"742.041016\"/>\n",
       "     <use xlink:href=\"#DejaVuSans-74\" x=\"803.222656\"/>\n",
       "    </g>\n",
       "   </g>\n",
       "  </g>\n",
       "  <g id=\"axes_8\">\n",
       "   <g id=\"patch_37\">\n",
       "    <path d=\"M 565.229947 85.487936 \n",
       "L 628.399758 85.487936 \n",
       "L 628.399758 22.318125 \n",
       "L 565.229947 22.318125 \n",
       "z\n",
       "\" style=\"fill: #ffffff\"/>\n",
       "   </g>\n",
       "   <g clip-path=\"url(#p4ff0c6d2b6)\">\n",
       "    <image xlink:href=\"data:image/png;base64,\n",
       "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\" id=\"imagebf4e774438\" transform=\"scale(1 -1)translate(0 -64)\" x=\"565.229947\" y=\"-21.487936\" width=\"64\" height=\"64\"/>\n",
       "   </g>\n",
       "   <g id=\"patch_38\">\n",
       "    <path d=\"M 565.229947 85.487936 \n",
       "L 565.229947 22.318125 \n",
       "\" style=\"fill: none; stroke: #000000; stroke-width: 0.8; stroke-linejoin: miter; stroke-linecap: square\"/>\n",
       "   </g>\n",
       "   <g id=\"patch_39\">\n",
       "    <path d=\"M 628.399758 85.487936 \n",
       "L 628.399758 22.318125 \n",
       "\" style=\"fill: none; stroke: #000000; stroke-width: 0.8; stroke-linejoin: miter; stroke-linecap: square\"/>\n",
       "   </g>\n",
       "   <g id=\"patch_40\">\n",
       "    <path d=\"M 565.229947 85.487936 \n",
       "L 628.399758 85.487936 \n",
       "\" style=\"fill: none; stroke: #000000; stroke-width: 0.8; stroke-linejoin: miter; stroke-linecap: square\"/>\n",
       "   </g>\n",
       "   <g id=\"patch_41\">\n",
       "    <path d=\"M 565.229947 22.318125 \n",
       "L 628.399758 22.318125 \n",
       "\" style=\"fill: none; stroke: #000000; stroke-width: 0.8; stroke-linejoin: miter; stroke-linecap: square\"/>\n",
       "   </g>\n",
       "   <g id=\"text_8\">\n",
       "    <!-- shirt/ntrouser -->\n",
       "    <g transform=\"translate(556.13579 16.318125)scale(0.12 -0.12)\">\n",
       "     <use xlink:href=\"#DejaVuSans-73\"/>\n",
       "     <use xlink:href=\"#DejaVuSans-68\" x=\"52.099609\"/>\n",
       "     <use xlink:href=\"#DejaVuSans-69\" x=\"115.478516\"/>\n",
       "     <use xlink:href=\"#DejaVuSans-72\" x=\"143.261719\"/>\n",
       "     <use xlink:href=\"#DejaVuSans-74\" x=\"184.375\"/>\n",
       "     <use xlink:href=\"#DejaVuSans-2f\" x=\"223.583984\"/>\n",
       "     <use xlink:href=\"#DejaVuSans-6e\" x=\"257.275391\"/>\n",
       "     <use xlink:href=\"#DejaVuSans-74\" x=\"320.654297\"/>\n",
       "     <use xlink:href=\"#DejaVuSans-72\" x=\"359.863281\"/>\n",
       "     <use xlink:href=\"#DejaVuSans-6f\" x=\"398.726562\"/>\n",
       "     <use xlink:href=\"#DejaVuSans-75\" x=\"459.908203\"/>\n",
       "     <use xlink:href=\"#DejaVuSans-73\" x=\"523.287109\"/>\n",
       "     <use xlink:href=\"#DejaVuSans-65\" x=\"575.386719\"/>\n",
       "     <use xlink:href=\"#DejaVuSans-72\" x=\"636.910156\"/>\n",
       "    </g>\n",
       "   </g>\n",
       "  </g>\n",
       "  <g id=\"axes_9\">\n",
       "   <g id=\"patch_42\">\n",
       "    <path d=\"M 641.033721 85.487936 \n",
       "L 704.203532 85.487936 \n",
       "L 704.203532 22.318125 \n",
       "L 641.033721 22.318125 \n",
       "z\n",
       "\" style=\"fill: #ffffff\"/>\n",
       "   </g>\n",
       "   <g clip-path=\"url(#pc8584ae5a7)\">\n",
       "    <image xlink:href=\"data:image/png;base64,\n",
       "iVBORw0KGgoAAAANSUhEUgAAAEAAAABACAYAAACqaXHeAAAHQUlEQVR4nO2aW28cSRXHf6eq+jLjsWOPndiON2FvgGClgIR45QEBn4BPwAfiS/DMA18BJMTDroAIBMsuq91sro4zY8+l71WHh25PnMTL5gLqh52/NOrp7qru//nVqdPV9sjP5JfKN1imbwN9aw2gbwN9aw2gbwN9aw2gbwN9aw2gbwN9aw2gbwN9aw2gbwN9aw2gbwN9aw2gbwN9aw2gbwN9aw2gbwN9aw2gbwN9yyECYpDIIc6BMYgIGAFrn20dFLy//JzI0++qT9sDeI+qQgir71o3XRv/es4v3u911Hl09soWOEd4+5BynOITQz00+FioNqXNEW0/UabYUvGJUG8IXPAQLO2+ggQQD7ZWxLf9TK3EZw3RosYsKux0hpYl4fQMbZpXi905ZDBod3wH0Np24J6XefGYVjUhy1oAJAniHNU4JbvqaIZtcD6FaltRA4Q2NrcUbN6eq0e6mkAqoLbbD+cABFOBaYRoLtgSmlRIUkucWKK6abMuy9trhAv/oNLwwki1kXfZGsdImnbkfZtpzr0Q7ArI82DEQFGCBpykSZvOQTENRAvFZYpaYXDcBiedh2wfiqtKfCrs3VZUoN4QghNCIgQHyIU+3cc07fHswDC/aQCH6ABpIFocYWqIF4orA7ZQXN5gSo89y6FuYL6EpkFvHFAcbFCPDMVOS99ULfBnA2w9XNwChAiCEwYnga1/zRHvcZrEYLuLNYqt2nSVoNjSQ+hGQYRiPKDZrUlPYnb+OgVVysNNfGqoNyy+u0FwgHk6LVTaqVRcVeqrNXbQsDXKURWWRYxvLOEkIVpY3EJITh0ug42HMS7zRJFDiorZ+5ucvm+prij1ft1GVRjECwRpQayCVujKlBptISQem3iWdwZIGGFrxcl8CcaQRBa3TDBNQGoPqqstQdHIUW+lfPD+Pf45fbs9X1TEJxnqDHHi0MigRgi2LaJq5OkICERzR3U/xscxRTpETZu1YqAZKvVmoB4JxT6YSljcjJEG4tkAUyvNhrR9KsE+iUAUCefDuypB3f2knZZ0AyBdDa4NUS7YWjGV4pqHj9qseXSMEQMaOJ914cK8NIOUcn+T37z3W3569qv2wvMl3H8ITdP2XTW+vEIPrG3n4/mTZpCiB7s0Wylf/jzFH5Xsj2fc2r2PE08kHo9hUg3JmpiPPv0W6ecJLofB4xZwMwQ13aivgu/2Ox/n59QKaiE+BZsHTK248yLzdZVYmwY3dfxu+TZ5GZHfTIm3UuxkC1M3UJRo46Gu0KLsHnsKRjCjDSSKIInROAJj0MihiaXaHVCPLPWmcmWUc204561kipWAV0MWYu7UO0zLITKLSCbgCiVatAW6ydqgVj5XAGQF4/y4mnYqphMlmtdIE5DV7wO6CouGZyvvalQt/ic/YPK9hPyqULxTQmOIThw2F4aPlORMGTyuSR7MoaqRZQ5pwvzWPsW2JTsUyrHiNwJmuwJRNAhilO8fPeS7m484Sqa8Gx8z8SP+kV/ni2zMh3/6DoMHhr2/1Qz//gBCWA2YOPesz69aH1w8XtdolqOq3UII2uDPt3rJ4kQD8d0pu36bxz8ckP5oiYhyGo2oCwviaAaCmgjTbCBVwKYJOojI9izlrpAdBty1nCvDksOtGQCldxhR3h2dcJRMGZqKeRgwaUbcy7e5O98mfWwY3Qukd+c0X979L3n66nqKT59/llzQeXYcPyFe5uy56zwajKmuKOadnMGVHHcYEFHmjeNJ6QjB4KuNtrstEaPs7Sy4Pprx2XTMx3+5iUbK8PqC7WHOjsv4dvKQX3/+C+58eEQ8E0ZfKlEWeOuLGeYsg5Ppyo90K9FXXUR9NYAViEvSv8sOP5/DbEaSxOxsHbA8sMzfC1zbXPDB9gNupBOGpmLbZtRqKULEPKT8+ewmk3LI0fCM/WTGvye7jL4w+BSKcUSTlgxtya5Zcud4zNEfGpLHBeb2J4SiQAH/vJ9u7YLI5Z5fUvJSvxE6nybdjezuGD26Rj0ecnIrpdqCcjcQNjxEARMFjFGiuMF7Q308wOYGuZHx7v4JH392yN4fIwCKPcHHUI4DYRjYvu04+P0EM1/i7z24fIS7DNCgr/8u0enFDLhMzxH2TyYwmeLimKNPdiGOqK/vUG1FqLP4uK0HxdggATbvNris5uGPN/hUheg4Ip0GoqVn93aBVA2SlUjdoLMF/vSU8PwS+KIP1TdO/XO9HIDL1L3R6XIJVYybxJgyIUQWtYJPLa5wSID0cYUpakZ3I+ZuyOCRkp5U2LzGnGVt4HmBVjWa52+U0q+q1wcAEDz+bNa+oJyeIda0q09jcCKkFwtVCOx9NuBqEqN1jeYFhEDwoV18nS+6LivG/0cgbwYAWnPq0eDR+mvaFsUb3+5/rW/8X4TWAPo20LfWAPo20LfWAPo20LfWAPo20LfWAPo20LfWAPo20LfWAPo20LfWAPo20LfWAPo20LfWAPo20LfWAPo20Lf+Axe0YRKCvzxBAAAAAElFTkSuQmCC\" id=\"image316862ebe9\" transform=\"scale(1 -1)translate(0 -64)\" x=\"641.033721\" y=\"-21.487936\" width=\"64\" height=\"64\"/>\n",
       "   </g>\n",
       "   <g id=\"patch_43\">\n",
       "    <path d=\"M 641.033721 85.487936 \n",
       "L 641.033721 22.318125 \n",
       "\" style=\"fill: none; stroke: #000000; stroke-width: 0.8; stroke-linejoin: miter; stroke-linecap: square\"/>\n",
       "   </g>\n",
       "   <g id=\"patch_44\">\n",
       "    <path d=\"M 704.203532 85.487936 \n",
       "L 704.203532 22.318125 \n",
       "\" style=\"fill: none; stroke: #000000; stroke-width: 0.8; stroke-linejoin: miter; stroke-linecap: square\"/>\n",
       "   </g>\n",
       "   <g id=\"patch_45\">\n",
       "    <path d=\"M 641.033721 85.487936 \n",
       "L 704.203532 85.487936 \n",
       "\" style=\"fill: none; stroke: #000000; stroke-width: 0.8; stroke-linejoin: miter; stroke-linecap: square\"/>\n",
       "   </g>\n",
       "   <g id=\"patch_46\">\n",
       "    <path d=\"M 641.033721 22.318125 \n",
       "L 704.203532 22.318125 \n",
       "\" style=\"fill: none; stroke: #000000; stroke-width: 0.8; stroke-linejoin: miter; stroke-linecap: square\"/>\n",
       "   </g>\n",
       "   <g id=\"text_9\">\n",
       "    <!-- sandal/npullover -->\n",
       "    <g transform=\"translate(622.710814 16.318125)scale(0.12 -0.12)\">\n",
       "     <defs>\n",
       "      <path id=\"DejaVuSans-64\" d=\"M 2906 2969 \n",
       "L 2906 4863 \n",
       "L 3481 4863 \n",
       "L 3481 0 \n",
       "L 2906 0 \n",
       "L 2906 525 \n",
       "Q 2725 213 2448 61 \n",
       "Q 2172 -91 1784 -91 \n",
       "Q 1150 -91 751 415 \n",
       "Q 353 922 353 1747 \n",
       "Q 353 2572 751 3078 \n",
       "Q 1150 3584 1784 3584 \n",
       "Q 2172 3584 2448 3432 \n",
       "Q 2725 3281 2906 2969 \n",
       "z\n",
       "M 947 1747 \n",
       "Q 947 1113 1208 752 \n",
       "Q 1469 391 1925 391 \n",
       "Q 2381 391 2643 752 \n",
       "Q 2906 1113 2906 1747 \n",
       "Q 2906 2381 2643 2742 \n",
       "Q 2381 3103 1925 3103 \n",
       "Q 1469 3103 1208 2742 \n",
       "Q 947 2381 947 1747 \n",
       "z\n",
       "\" transform=\"scale(0.015625)\"/>\n",
       "     </defs>\n",
       "     <use xlink:href=\"#DejaVuSans-73\"/>\n",
       "     <use xlink:href=\"#DejaVuSans-61\" x=\"52.099609\"/>\n",
       "     <use xlink:href=\"#DejaVuSans-6e\" x=\"113.378906\"/>\n",
       "     <use xlink:href=\"#DejaVuSans-64\" x=\"176.757812\"/>\n",
       "     <use xlink:href=\"#DejaVuSans-61\" x=\"240.234375\"/>\n",
       "     <use xlink:href=\"#DejaVuSans-6c\" x=\"301.513672\"/>\n",
       "     <use xlink:href=\"#DejaVuSans-2f\" x=\"329.296875\"/>\n",
       "     <use xlink:href=\"#DejaVuSans-6e\" x=\"362.988281\"/>\n",
       "     <use xlink:href=\"#DejaVuSans-70\" x=\"426.367188\"/>\n",
       "     <use xlink:href=\"#DejaVuSans-75\" x=\"489.84375\"/>\n",
       "     <use xlink:href=\"#DejaVuSans-6c\" x=\"553.222656\"/>\n",
       "     <use xlink:href=\"#DejaVuSans-6c\" x=\"581.005859\"/>\n",
       "     <use xlink:href=\"#DejaVuSans-6f\" x=\"608.789062\"/>\n",
       "     <use xlink:href=\"#DejaVuSans-76\" x=\"669.970703\"/>\n",
       "     <use xlink:href=\"#DejaVuSans-65\" x=\"729.150391\"/>\n",
       "     <use xlink:href=\"#DejaVuSans-72\" x=\"790.673828\"/>\n",
       "    </g>\n",
       "   </g>\n",
       "  </g>\n",
       " </g>\n",
       " <defs>\n",
       "  <clipPath id=\"p47bb79564c\">\n",
       "   <rect x=\"34.603532\" y=\"22.318125\" width=\"63.169811\" height=\"63.169811\"/>\n",
       "  </clipPath>\n",
       "  <clipPath id=\"pb52771ac06\">\n",
       "   <rect x=\"110.407305\" y=\"22.318125\" width=\"63.169811\" height=\"63.169811\"/>\n",
       "  </clipPath>\n",
       "  <clipPath id=\"pe5777d8a46\">\n",
       "   <rect x=\"186.211079\" y=\"22.318125\" width=\"63.169811\" height=\"63.169811\"/>\n",
       "  </clipPath>\n",
       "  <clipPath id=\"paca7ce5134\">\n",
       "   <rect x=\"262.014853\" y=\"22.318125\" width=\"63.169811\" height=\"63.169811\"/>\n",
       "  </clipPath>\n",
       "  <clipPath id=\"p5a47307332\">\n",
       "   <rect x=\"337.818626\" y=\"22.318125\" width=\"63.169811\" height=\"63.169811\"/>\n",
       "  </clipPath>\n",
       "  <clipPath id=\"pf8421b7af8\">\n",
       "   <rect x=\"413.6224\" y=\"22.318125\" width=\"63.169811\" height=\"63.169811\"/>\n",
       "  </clipPath>\n",
       "  <clipPath id=\"pce566e2353\">\n",
       "   <rect x=\"489.426173\" y=\"22.318125\" width=\"63.169811\" height=\"63.169811\"/>\n",
       "  </clipPath>\n",
       "  <clipPath id=\"p4ff0c6d2b6\">\n",
       "   <rect x=\"565.229947\" y=\"22.318125\" width=\"63.169811\" height=\"63.169811\"/>\n",
       "  </clipPath>\n",
       "  <clipPath id=\"pc8584ae5a7\">\n",
       "   <rect x=\"641.033721\" y=\"22.318125\" width=\"63.169811\" height=\"63.169811\"/>\n",
       "  </clipPath>\n",
       " </defs>\n",
       "</svg>\n"
      ],
      "text/plain": [
       "<Figure size 864x864 with 9 Axes>"
      ]
     },
     "metadata": {
      "needs_background": "light"
     },
     "output_type": "display_data"
    }
   ],
   "source": [
    "d2l.show_fashion_mnist(X[0:9],titles[0:9])"
   ]
  },
  {
   "cell_type": "markdown",
   "metadata": {},
   "source": [
    "## softmax回归简洁实现"
   ]
  },
  {
   "cell_type": "markdown",
   "metadata": {},
   "source": [
    "### 获取和读取数据"
   ]
  },
  {
   "cell_type": "code",
   "execution_count": 293,
   "metadata": {},
   "outputs": [],
   "source": [
    "batch_size  = 256\n",
    "train_iter,test_iter = d2l.load_data_fashion_mnist(batch_size)"
   ]
  },
  {
   "cell_type": "markdown",
   "metadata": {},
   "source": [
    "### 定义和初始化模型"
   ]
  },
  {
   "cell_type": "code",
   "execution_count": 294,
   "metadata": {},
   "outputs": [
    {
     "data": {
      "text/plain": [
       "'\\nsoftmax 回归的输出层是一个全连接层，故用 线性模块即可，batch形状为（batch,1,28,28）所以\\n要先用view()将x的形状转换成（batch,784） 才能送入全连接层。\\n\\n'"
      ]
     },
     "execution_count": 294,
     "metadata": {},
     "output_type": "execute_result"
    }
   ],
   "source": [
    "\"\"\"\n",
    "softmax 回归的输出层是一个全连接层，故用 线性模块即可，batch形状为（batch,1,28,28）所以\n",
    "要先用view()将x的形状转换成（batch,784） 才能送入全连接层。\n",
    "\n",
    "\"\"\""
   ]
  },
  {
   "cell_type": "code",
   "execution_count": 295,
   "metadata": {},
   "outputs": [],
   "source": [
    "num_inputs= 784\n",
    "num_outputs = 10 \n",
    "class LinearNet(nn.Module):\n",
    "    def __init__(self,num_inputs,num_outputs):\n",
    "        super(LinearNet,self).__init__()\n",
    "        self.linear = nn.Linear(num_inputs,num_outputs)\n",
    "        \n",
    "    def forward(self,x):\n",
    "        y = self.linear(x.view(x.shape[0],-1))\n",
    "        return y \n",
    "net = LinearNet(num_inputs,num_outputs)"
   ]
  },
  {
   "cell_type": "code",
   "execution_count": 296,
   "metadata": {},
   "outputs": [],
   "source": [
    "class FlattenLayer(nn.Module):\n",
    "    def __init__(self):\n",
    "        super(FlattenLayer,self).__init__()\n",
    "    def forward(self,x):\n",
    "        return x.view(x.shape[0],-1)\n",
    "        "
   ]
  },
  {
   "cell_type": "code",
   "execution_count": null,
   "metadata": {},
   "outputs": [],
   "source": [
    "from collections import OrderedDict\n",
    "net = nn.Sequential(\n",
    "OrderedDict([\n",
    "    ('flatten',FlattenLayer()),\n",
    "    ('linear',nn)\n",
    "])\n",
    ")"
   ]
  }
 ],
 "metadata": {
  "kernelspec": {
   "display_name": "Tianchi",
   "language": "python",
   "name": "tianchi"
  },
  "language_info": {
   "codemirror_mode": {
    "name": "ipython",
    "version": 3
   },
   "file_extension": ".py",
   "mimetype": "text/x-python",
   "name": "python",
   "nbconvert_exporter": "python",
   "pygments_lexer": "ipython3",
   "version": "3.7.9"
  },
  "toc": {
   "base_numbering": 1,
   "nav_menu": {},
   "number_sections": true,
   "sideBar": true,
   "skip_h1_title": false,
   "title_cell": "Table of Contents",
   "title_sidebar": "Contents",
   "toc_cell": false,
   "toc_position": {
    "height": "861px",
    "left": "32px",
    "top": "111.141px",
    "width": "194px"
   },
   "toc_section_display": true,
   "toc_window_display": true
  }
 },
 "nbformat": 4,
 "nbformat_minor": 4
}