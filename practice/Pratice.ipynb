{
 "cells": [
  {
   "cell_type": "markdown",
   "metadata": {},
   "source": [
    "# 预备知识"
   ]
  },
  {
   "cell_type": "markdown",
   "metadata": {},
   "source": [
    "## 数据操作"
   ]
  },
  {
   "cell_type": "markdown",
   "metadata": {},
   "source": [
    "### 创建tensor"
   ]
  },
  {
   "cell_type": "code",
   "execution_count": 1,
   "metadata": {},
   "outputs": [],
   "source": [
    "import torch"
   ]
  },
  {
   "cell_type": "code",
   "execution_count": 15,
   "metadata": {},
   "outputs": [],
   "source": [
    "import numpy as np"
   ]
  },
  {
   "cell_type": "code",
   "execution_count": 2,
   "metadata": {},
   "outputs": [
    {
     "data": {
      "text/plain": [
       "tensor([[ 0.0000e+00,  0.0000e+00,  2.4153e-33],\n",
       "        [ 1.4013e-45, -7.7987e-36,  4.5754e-41],\n",
       "        [-1.0649e-37,  4.5754e-41,  2.4204e-33],\n",
       "        [ 1.4013e-45,  2.4107e-33,  1.4013e-45],\n",
       "        [ 0.0000e+00,  0.0000e+00,  0.0000e+00]])"
      ]
     },
     "execution_count": 2,
     "metadata": {},
     "output_type": "execute_result"
    }
   ],
   "source": [
    "# 未初始化 tensor\n",
    "torch.empty(5,3)"
   ]
  },
  {
   "cell_type": "code",
   "execution_count": 3,
   "metadata": {},
   "outputs": [
    {
     "data": {
      "text/plain": [
       "tensor([[-0.1113, -0.0239, -1.4283],\n",
       "        [ 0.8953, -0.1287,  0.9335],\n",
       "        [-0.9187,  0.5247, -0.9564],\n",
       "        [-0.9037,  1.2366, -0.1941],\n",
       "        [ 0.6389, -1.1047, -0.3533]])"
      ]
     },
     "execution_count": 3,
     "metadata": {},
     "output_type": "execute_result"
    }
   ],
   "source": [
    "# 初始化 \n",
    "torch.randn(5,3)"
   ]
  },
  {
   "cell_type": "code",
   "execution_count": 4,
   "metadata": {},
   "outputs": [
    {
     "data": {
      "text/plain": [
       "tensor([[0., 0., 0.],\n",
       "        [0., 0., 0.],\n",
       "        [0., 0., 0.],\n",
       "        [0., 0., 0.],\n",
       "        [0., 0., 0.]])"
      ]
     },
     "execution_count": 4,
     "metadata": {},
     "output_type": "execute_result"
    }
   ],
   "source": [
    "# 全零\n",
    "torch.zeros(5,3)"
   ]
  },
  {
   "cell_type": "code",
   "execution_count": 6,
   "metadata": {},
   "outputs": [],
   "source": [
    "# 直接创建\n",
    "x = torch.Tensor([5.4,3])"
   ]
  },
  {
   "cell_type": "code",
   "execution_count": 7,
   "metadata": {},
   "outputs": [
    {
     "data": {
      "text/plain": [
       "tensor([5.4000, 3.0000])"
      ]
     },
     "execution_count": 7,
     "metadata": {},
     "output_type": "execute_result"
    }
   ],
   "source": [
    "x"
   ]
  },
  {
   "cell_type": "code",
   "execution_count": 8,
   "metadata": {},
   "outputs": [],
   "source": [
    "x = x.new_ones(5,3,dtype=torch.float64)"
   ]
  },
  {
   "cell_type": "code",
   "execution_count": 9,
   "metadata": {},
   "outputs": [
    {
     "data": {
      "text/plain": [
       "tensor([[1., 1., 1.],\n",
       "        [1., 1., 1.],\n",
       "        [1., 1., 1.],\n",
       "        [1., 1., 1.],\n",
       "        [1., 1., 1.]], dtype=torch.float64)"
      ]
     },
     "execution_count": 9,
     "metadata": {},
     "output_type": "execute_result"
    }
   ],
   "source": [
    "x"
   ]
  },
  {
   "cell_type": "code",
   "execution_count": 10,
   "metadata": {},
   "outputs": [],
   "source": [
    "x = torch.randn_like(x,dtype=torch.float)"
   ]
  },
  {
   "cell_type": "code",
   "execution_count": 11,
   "metadata": {},
   "outputs": [
    {
     "data": {
      "text/plain": [
       "tensor([[ 0.2558, -2.5110,  0.9224],\n",
       "        [ 0.2972,  0.1293, -0.3202],\n",
       "        [ 0.3940,  0.7585,  1.0187],\n",
       "        [ 0.3075,  0.9384, -0.6080],\n",
       "        [ 0.8044, -0.6716,  0.8548]])"
      ]
     },
     "execution_count": 11,
     "metadata": {},
     "output_type": "execute_result"
    }
   ],
   "source": [
    "x"
   ]
  },
  {
   "cell_type": "code",
   "execution_count": 12,
   "metadata": {},
   "outputs": [
    {
     "data": {
      "text/plain": [
       "torch.Size([5, 3])"
      ]
     },
     "execution_count": 12,
     "metadata": {},
     "output_type": "execute_result"
    }
   ],
   "source": [
    "# 获取形状\n",
    "x.size()"
   ]
  },
  {
   "cell_type": "code",
   "execution_count": 13,
   "metadata": {},
   "outputs": [
    {
     "data": {
      "text/plain": [
       "torch.Size([5, 3])"
      ]
     },
     "execution_count": 13,
     "metadata": {},
     "output_type": "execute_result"
    }
   ],
   "source": [
    "x.shape"
   ]
  },
  {
   "cell_type": "code",
   "execution_count": 16,
   "metadata": {},
   "outputs": [
    {
     "data": {
      "text/plain": [
       "tensor([[2., 4.],\n",
       "        [4., 5.]])"
      ]
     },
     "execution_count": 16,
     "metadata": {},
     "output_type": "execute_result"
    }
   ],
   "source": [
    "# 根据numpy\n",
    "torch.tensor(np.array([[2,4],[4,5]]),dtype=torch.float)"
   ]
  },
  {
   "cell_type": "code",
   "execution_count": 18,
   "metadata": {},
   "outputs": [
    {
     "data": {
      "text/plain": [
       "tensor([[1., 0.],\n",
       "        [0., 1.]])"
      ]
     },
     "execution_count": 18,
     "metadata": {},
     "output_type": "execute_result"
    }
   ],
   "source": [
    "torch.eye(2,2)"
   ]
  },
  {
   "cell_type": "code",
   "execution_count": 25,
   "metadata": {},
   "outputs": [],
   "source": [
    "x  = torch.arange(1,12,2).view(2,3)"
   ]
  },
  {
   "cell_type": "code",
   "execution_count": 26,
   "metadata": {},
   "outputs": [
    {
     "data": {
      "text/plain": [
       "torch.Size([2, 3])"
      ]
     },
     "execution_count": 26,
     "metadata": {},
     "output_type": "execute_result"
    }
   ],
   "source": [
    "x.size()"
   ]
  },
  {
   "cell_type": "code",
   "execution_count": 34,
   "metadata": {},
   "outputs": [
    {
     "data": {
      "text/plain": [
       "tensor([ 1.,  2.,  3.,  4.,  5.,  6.,  7.,  8.,  9., 10.], dtype=torch.float64)"
      ]
     },
     "execution_count": 34,
     "metadata": {},
     "output_type": "execute_result"
    }
   ],
   "source": [
    "torch.linspace(1,10,10,dtype=float)"
   ]
  },
  {
   "cell_type": "code",
   "execution_count": 39,
   "metadata": {},
   "outputs": [
    {
     "data": {
      "text/plain": [
       "tensor([[1.8975, 0.6649],\n",
       "        [0.0799, 0.1688]])"
      ]
     },
     "execution_count": 39,
     "metadata": {},
     "output_type": "execute_result"
    }
   ],
   "source": [
    "torch.normal(0,1,(2,2))"
   ]
  },
  {
   "cell_type": "code",
   "execution_count": 40,
   "metadata": {},
   "outputs": [
    {
     "ename": "AttributeError",
     "evalue": "module 'torch' has no attribute 'uniform'",
     "output_type": "error",
     "traceback": [
      "\u001b[0;31m---------------------------------------------------------------------------\u001b[0m",
      "\u001b[0;31mAttributeError\u001b[0m                            Traceback (most recent call last)",
      "\u001b[0;32m<ipython-input-40-f4c9f1249acf>\u001b[0m in \u001b[0;36m<module>\u001b[0;34m\u001b[0m\n\u001b[0;32m----> 1\u001b[0;31m \u001b[0mtorch\u001b[0m\u001b[0;34m.\u001b[0m\u001b[0muniform\u001b[0m\u001b[0;34m(\u001b[0m\u001b[0;36m0\u001b[0m\u001b[0;34m,\u001b[0m\u001b[0;36m1\u001b[0m\u001b[0;34m,\u001b[0m\u001b[0;34m(\u001b[0m\u001b[0;36m2\u001b[0m\u001b[0;34m,\u001b[0m\u001b[0;36m2\u001b[0m\u001b[0;34m)\u001b[0m\u001b[0;34m)\u001b[0m\u001b[0;34m\u001b[0m\u001b[0;34m\u001b[0m\u001b[0m\n\u001b[0m",
      "\u001b[0;31mAttributeError\u001b[0m: module 'torch' has no attribute 'uniform'"
     ]
    }
   ],
   "source": []
  },
  {
   "cell_type": "markdown",
   "metadata": {},
   "source": [
    "### 操作"
   ]
  },
  {
   "cell_type": "code",
   "execution_count": null,
   "metadata": {},
   "outputs": [],
   "source": [
    "# 算数操作"
   ]
  },
  {
   "cell_type": "code",
   "execution_count": 41,
   "metadata": {},
   "outputs": [],
   "source": [
    "\n",
    "# 加法形式1\n",
    "x = torch.randn(5,3)"
   ]
  },
  {
   "cell_type": "code",
   "execution_count": 42,
   "metadata": {},
   "outputs": [
    {
     "data": {
      "text/plain": [
       "tensor([[ 0.7086, -0.7837,  1.3360],\n",
       "        [ 1.1197,  1.9167,  0.8196],\n",
       "        [ 0.3701, -1.4880,  0.0214],\n",
       "        [-1.7331, -0.2454, -1.4524],\n",
       "        [-1.4059,  0.2681,  0.5895]])"
      ]
     },
     "execution_count": 42,
     "metadata": {},
     "output_type": "execute_result"
    }
   ],
   "source": [
    "x"
   ]
  },
  {
   "cell_type": "code",
   "execution_count": 43,
   "metadata": {},
   "outputs": [],
   "source": [
    "y = torch.rand(5,3)"
   ]
  },
  {
   "cell_type": "code",
   "execution_count": 44,
   "metadata": {},
   "outputs": [
    {
     "data": {
      "text/plain": [
       "tensor([[0.3692, 0.2018, 0.7290],\n",
       "        [0.3640, 0.4273, 0.0786],\n",
       "        [0.2943, 0.6365, 0.5373],\n",
       "        [0.6194, 0.7344, 0.9623],\n",
       "        [0.0420, 0.1156, 0.6017]])"
      ]
     },
     "execution_count": 44,
     "metadata": {},
     "output_type": "execute_result"
    }
   ],
   "source": [
    "y"
   ]
  },
  {
   "cell_type": "code",
   "execution_count": 45,
   "metadata": {},
   "outputs": [
    {
     "data": {
      "text/plain": [
       "tensor([[ 1.0778, -0.5819,  2.0650],\n",
       "        [ 1.4837,  2.3440,  0.8982],\n",
       "        [ 0.6643, -0.8515,  0.5587],\n",
       "        [-1.1137,  0.4890, -0.4901],\n",
       "        [-1.3639,  0.3837,  1.1912]])"
      ]
     },
     "execution_count": 45,
     "metadata": {},
     "output_type": "execute_result"
    }
   ],
   "source": [
    "x + y"
   ]
  },
  {
   "cell_type": "code",
   "execution_count": 46,
   "metadata": {},
   "outputs": [
    {
     "data": {
      "text/plain": [
       "tensor([[ 1.0778, -0.5819,  2.0650],\n",
       "        [ 1.4837,  2.3440,  0.8982],\n",
       "        [ 0.6643, -0.8515,  0.5587],\n",
       "        [-1.1137,  0.4890, -0.4901],\n",
       "        [-1.3639,  0.3837,  1.1912]])"
      ]
     },
     "execution_count": 46,
     "metadata": {},
     "output_type": "execute_result"
    }
   ],
   "source": [
    "# 加法形式2\n",
    "torch.add(x,y)"
   ]
  },
  {
   "cell_type": "code",
   "execution_count": 47,
   "metadata": {},
   "outputs": [
    {
     "data": {
      "text/plain": [
       "tensor([[ 1.0778, -0.5819,  2.0650],\n",
       "        [ 1.4837,  2.3440,  0.8982],\n",
       "        [ 0.6643, -0.8515,  0.5587],\n",
       "        [-1.1137,  0.4890, -0.4901],\n",
       "        [-1.3639,  0.3837,  1.1912]])"
      ]
     },
     "execution_count": 47,
     "metadata": {},
     "output_type": "execute_result"
    }
   ],
   "source": [
    "# 可以指定输出\n",
    "result = torch.empty(5,3)\n",
    "torch.add(x,y,out=result)"
   ]
  },
  {
   "cell_type": "code",
   "execution_count": 48,
   "metadata": {},
   "outputs": [
    {
     "data": {
      "text/plain": [
       "tensor([[ 1.0778, -0.5819,  2.0650],\n",
       "        [ 1.4837,  2.3440,  0.8982],\n",
       "        [ 0.6643, -0.8515,  0.5587],\n",
       "        [-1.1137,  0.4890, -0.4901],\n",
       "        [-1.3639,  0.3837,  1.1912]])"
      ]
     },
     "execution_count": 48,
     "metadata": {},
     "output_type": "execute_result"
    }
   ],
   "source": [
    "result"
   ]
  },
  {
   "cell_type": "code",
   "execution_count": 49,
   "metadata": {},
   "outputs": [
    {
     "data": {
      "text/plain": [
       "tensor([[ 1.0778, -0.5819,  2.0650],\n",
       "        [ 1.4837,  2.3440,  0.8982],\n",
       "        [ 0.6643, -0.8515,  0.5587],\n",
       "        [-1.1137,  0.4890, -0.4901],\n",
       "        [-1.3639,  0.3837,  1.1912]])"
      ]
     },
     "execution_count": 49,
     "metadata": {},
     "output_type": "execute_result"
    }
   ],
   "source": [
    "# 加法形式3\n",
    "y.add_(x)"
   ]
  },
  {
   "cell_type": "code",
   "execution_count": 50,
   "metadata": {},
   "outputs": [
    {
     "data": {
      "text/plain": [
       "tensor([[ 1.0778, -0.5819,  2.0650],\n",
       "        [ 1.4837,  2.3440,  0.8982],\n",
       "        [ 0.6643, -0.8515,  0.5587],\n",
       "        [-1.1137,  0.4890, -0.4901],\n",
       "        [-1.3639,  0.3837,  1.1912]])"
      ]
     },
     "execution_count": 50,
     "metadata": {},
     "output_type": "execute_result"
    }
   ],
   "source": [
    "y"
   ]
  },
  {
   "cell_type": "code",
   "execution_count": 51,
   "metadata": {},
   "outputs": [
    {
     "data": {
      "text/plain": [
       "tensor([[ 0.7086, -0.7837,  1.3360],\n",
       "        [ 1.1197,  1.9167,  0.8196],\n",
       "        [ 0.3701, -1.4880,  0.0214],\n",
       "        [-1.7331, -0.2454, -1.4524],\n",
       "        [-1.4059,  0.2681,  0.5895]])"
      ]
     },
     "execution_count": 51,
     "metadata": {},
     "output_type": "execute_result"
    }
   ],
   "source": [
    "x"
   ]
  },
  {
   "cell_type": "code",
   "execution_count": 52,
   "metadata": {},
   "outputs": [
    {
     "data": {
      "text/plain": [
       "tensor([[ 0.7086,  1.1197,  0.3701, -1.7331, -1.4059],\n",
       "        [-0.7837,  1.9167, -1.4880, -0.2454,  0.2681],\n",
       "        [ 1.3360,  0.8196,  0.0214, -1.4524,  0.5895]])"
      ]
     },
     "execution_count": 52,
     "metadata": {},
     "output_type": "execute_result"
    }
   ],
   "source": [
    "x.t_()"
   ]
  },
  {
   "cell_type": "code",
   "execution_count": 54,
   "metadata": {},
   "outputs": [
    {
     "data": {
      "text/plain": [
       "tensor([[ 0.7086, -0.7837,  1.3360],\n",
       "        [ 1.1197,  1.9167,  0.8196],\n",
       "        [ 0.3701, -1.4880,  0.0214],\n",
       "        [-1.7331, -0.2454, -1.4524],\n",
       "        [-1.4059,  0.2681,  0.5895]])"
      ]
     },
     "execution_count": 54,
     "metadata": {},
     "output_type": "execute_result"
    }
   ],
   "source": [
    "x.t_()"
   ]
  },
  {
   "cell_type": "code",
   "execution_count": 55,
   "metadata": {},
   "outputs": [
    {
     "data": {
      "text/plain": [
       "tensor([[ 1.0778, -0.5819,  2.0650],\n",
       "        [ 1.4837,  2.3440,  0.8982],\n",
       "        [ 0.6643, -0.8515,  0.5587],\n",
       "        [-1.1137,  0.4890, -0.4901],\n",
       "        [-1.3639,  0.3837,  1.1912]])"
      ]
     },
     "execution_count": 55,
     "metadata": {},
     "output_type": "execute_result"
    }
   ],
   "source": [
    "x.copy_(y)"
   ]
  },
  {
   "cell_type": "code",
   "execution_count": 56,
   "metadata": {},
   "outputs": [
    {
     "data": {
      "text/plain": [
       "tensor([[ 1.0778, -0.5819,  2.0650],\n",
       "        [ 1.4837,  2.3440,  0.8982],\n",
       "        [ 0.6643, -0.8515,  0.5587],\n",
       "        [-1.1137,  0.4890, -0.4901],\n",
       "        [-1.3639,  0.3837,  1.1912]])"
      ]
     },
     "execution_count": 56,
     "metadata": {},
     "output_type": "execute_result"
    }
   ],
   "source": [
    "x"
   ]
  },
  {
   "cell_type": "code",
   "execution_count": null,
   "metadata": {},
   "outputs": [],
   "source": [
    "# 索引\n",
    "# 索引出来的结果与原数据共享内存，修改一个 另一个也随着变"
   ]
  },
  {
   "cell_type": "code",
   "execution_count": 57,
   "metadata": {},
   "outputs": [],
   "source": [
    "y = x[0,:]"
   ]
  },
  {
   "cell_type": "code",
   "execution_count": 58,
   "metadata": {},
   "outputs": [
    {
     "data": {
      "text/plain": [
       "tensor([ 1.0778, -0.5819,  2.0650])"
      ]
     },
     "execution_count": 58,
     "metadata": {},
     "output_type": "execute_result"
    }
   ],
   "source": [
    "y"
   ]
  },
  {
   "cell_type": "code",
   "execution_count": 59,
   "metadata": {},
   "outputs": [],
   "source": [
    "y +=1"
   ]
  },
  {
   "cell_type": "code",
   "execution_count": 60,
   "metadata": {},
   "outputs": [
    {
     "data": {
      "text/plain": [
       "tensor([2.0778, 0.4181, 3.0650])"
      ]
     },
     "execution_count": 60,
     "metadata": {},
     "output_type": "execute_result"
    }
   ],
   "source": [
    "y"
   ]
  },
  {
   "cell_type": "code",
   "execution_count": 61,
   "metadata": {},
   "outputs": [
    {
     "data": {
      "text/plain": [
       "tensor([2.0778, 0.4181, 3.0650])"
      ]
     },
     "execution_count": 61,
     "metadata": {},
     "output_type": "execute_result"
    }
   ],
   "source": [
    "x[0,:]"
   ]
  },
  {
   "cell_type": "code",
   "execution_count": 62,
   "metadata": {},
   "outputs": [
    {
     "data": {
      "text/plain": [
       "tensor([[ 2.0778,  0.4181,  3.0650],\n",
       "        [ 1.4837,  2.3440,  0.8982],\n",
       "        [ 0.6643, -0.8515,  0.5587],\n",
       "        [-1.1137,  0.4890, -0.4901],\n",
       "        [-1.3639,  0.3837,  1.1912]])"
      ]
     },
     "execution_count": 62,
     "metadata": {},
     "output_type": "execute_result"
    }
   ],
   "source": [
    "x"
   ]
  },
  {
   "cell_type": "code",
   "execution_count": 68,
   "metadata": {},
   "outputs": [
    {
     "data": {
      "text/plain": [
       "tensor([[ 2.0778,  2.0778,  0.4181],\n",
       "        [ 1.4837,  1.4837,  2.3440],\n",
       "        [ 0.6643,  0.6643, -0.8515],\n",
       "        [-1.1137, -1.1137,  0.4890],\n",
       "        [-1.3639, -1.3639,  0.3837]])"
      ]
     },
     "execution_count": 68,
     "metadata": {},
     "output_type": "execute_result"
    }
   ],
   "source": [
    "torch.index_select(x,1,torch.LongTensor([0.,0.,1.]))"
   ]
  },
  {
   "cell_type": "code",
   "execution_count": 69,
   "metadata": {},
   "outputs": [
    {
     "ename": "RuntimeError",
     "evalue": "Index tensor must have the same number of dimensions as input tensor",
     "output_type": "error",
     "traceback": [
      "\u001b[0;31m---------------------------------------------------------------------------\u001b[0m",
      "\u001b[0;31mRuntimeError\u001b[0m                              Traceback (most recent call last)",
      "\u001b[0;32m<ipython-input-69-b70b9ff869ef>\u001b[0m in \u001b[0;36m<module>\u001b[0;34m\u001b[0m\n\u001b[0;32m----> 1\u001b[0;31m \u001b[0mtorch\u001b[0m\u001b[0;34m.\u001b[0m\u001b[0mgather\u001b[0m\u001b[0;34m(\u001b[0m\u001b[0mx\u001b[0m\u001b[0;34m,\u001b[0m\u001b[0;36m0\u001b[0m\u001b[0;34m,\u001b[0m\u001b[0mtorch\u001b[0m\u001b[0;34m.\u001b[0m\u001b[0mLongTensor\u001b[0m\u001b[0;34m(\u001b[0m\u001b[0;34m[\u001b[0m\u001b[0;36m1.\u001b[0m\u001b[0;34m,\u001b[0m\u001b[0;36m1.\u001b[0m\u001b[0;34m,\u001b[0m\u001b[0;36m0.\u001b[0m\u001b[0;34m]\u001b[0m\u001b[0;34m)\u001b[0m\u001b[0;34m)\u001b[0m\u001b[0;34m\u001b[0m\u001b[0;34m\u001b[0m\u001b[0m\n\u001b[0m",
      "\u001b[0;31mRuntimeError\u001b[0m: Index tensor must have the same number of dimensions as input tensor"
     ]
    }
   ],
   "source": [
    "# torch.gather(x,0,torch.LongTensor([1.,1.,0.]))"
   ]
  },
  {
   "cell_type": "code",
   "execution_count": 70,
   "metadata": {},
   "outputs": [],
   "source": [
    "# 改变形状\n",
    "y = x.view(15)"
   ]
  },
  {
   "cell_type": "code",
   "execution_count": 71,
   "metadata": {},
   "outputs": [
    {
     "data": {
      "text/plain": [
       "tensor([ 2.0778,  0.4181,  3.0650,  1.4837,  2.3440,  0.8982,  0.6643, -0.8515,\n",
       "         0.5587, -1.1137,  0.4890, -0.4901, -1.3639,  0.3837,  1.1912])"
      ]
     },
     "execution_count": 71,
     "metadata": {},
     "output_type": "execute_result"
    }
   ],
   "source": [
    "y"
   ]
  },
  {
   "cell_type": "code",
   "execution_count": 73,
   "metadata": {},
   "outputs": [],
   "source": [
    "z = x.view(-1,5)"
   ]
  },
  {
   "cell_type": "code",
   "execution_count": 74,
   "metadata": {},
   "outputs": [
    {
     "data": {
      "text/plain": [
       "tensor([[ 2.0778,  0.4181,  3.0650,  1.4837,  2.3440],\n",
       "        [ 0.8982,  0.6643, -0.8515,  0.5587, -1.1137],\n",
       "        [ 0.4890, -0.4901, -1.3639,  0.3837,  1.1912]])"
      ]
     },
     "execution_count": 74,
     "metadata": {},
     "output_type": "execute_result"
    }
   ],
   "source": [
    "z "
   ]
  },
  {
   "cell_type": "code",
   "execution_count": 75,
   "metadata": {},
   "outputs": [
    {
     "data": {
      "text/plain": [
       "torch.Size([5, 3])"
      ]
     },
     "execution_count": 75,
     "metadata": {},
     "output_type": "execute_result"
    }
   ],
   "source": [
    "x.shape"
   ]
  },
  {
   "cell_type": "code",
   "execution_count": 76,
   "metadata": {},
   "outputs": [
    {
     "data": {
      "text/plain": [
       "torch.Size([15])"
      ]
     },
     "execution_count": 76,
     "metadata": {},
     "output_type": "execute_result"
    }
   ],
   "source": [
    "y.shape"
   ]
  },
  {
   "cell_type": "code",
   "execution_count": 77,
   "metadata": {},
   "outputs": [
    {
     "data": {
      "text/plain": [
       "torch.Size([3, 5])"
      ]
     },
     "execution_count": 77,
     "metadata": {},
     "output_type": "execute_result"
    }
   ],
   "source": [
    "z.shape"
   ]
  },
  {
   "cell_type": "code",
   "execution_count": 78,
   "metadata": {},
   "outputs": [],
   "source": [
    "# view()返回新的size 但是 是共享 data 的 改变其中一个另外一个也跟着改变\n",
    "x += 1"
   ]
  },
  {
   "cell_type": "code",
   "execution_count": 79,
   "metadata": {},
   "outputs": [
    {
     "data": {
      "text/plain": [
       "tensor([[ 3.0778,  1.4181,  4.0650],\n",
       "        [ 2.4837,  3.3440,  1.8982],\n",
       "        [ 1.6643,  0.1485,  1.5587],\n",
       "        [-0.1137,  1.4890,  0.5099],\n",
       "        [-0.3639,  1.3837,  2.1912]])"
      ]
     },
     "execution_count": 79,
     "metadata": {},
     "output_type": "execute_result"
    }
   ],
   "source": [
    "x"
   ]
  },
  {
   "cell_type": "code",
   "execution_count": 80,
   "metadata": {},
   "outputs": [
    {
     "data": {
      "text/plain": [
       "tensor([ 3.0778,  1.4181,  4.0650,  2.4837,  3.3440,  1.8982,  1.6643,  0.1485,\n",
       "         1.5587, -0.1137,  1.4890,  0.5099, -0.3639,  1.3837,  2.1912])"
      ]
     },
     "execution_count": 80,
     "metadata": {},
     "output_type": "execute_result"
    }
   ],
   "source": [
    "y"
   ]
  },
  {
   "cell_type": "code",
   "execution_count": 81,
   "metadata": {},
   "outputs": [
    {
     "data": {
      "text/plain": [
       "tensor([[ 3.0778,  1.4181,  4.0650,  2.4837,  3.3440],\n",
       "        [ 1.8982,  1.6643,  0.1485,  1.5587, -0.1137],\n",
       "        [ 1.4890,  0.5099, -0.3639,  1.3837,  2.1912]])"
      ]
     },
     "execution_count": 81,
     "metadata": {},
     "output_type": "execute_result"
    }
   ],
   "source": [
    "z"
   ]
  },
  {
   "cell_type": "code",
   "execution_count": 82,
   "metadata": {},
   "outputs": [],
   "source": [
    "#不变量共享 先用clone 创建一个副本然后在使用view\n",
    "x_cp = x.clone().view(15)"
   ]
  },
  {
   "cell_type": "code",
   "execution_count": 83,
   "metadata": {},
   "outputs": [
    {
     "data": {
      "text/plain": [
       "tensor([ 3.0778,  1.4181,  4.0650,  2.4837,  3.3440,  1.8982,  1.6643,  0.1485,\n",
       "         1.5587, -0.1137,  1.4890,  0.5099, -0.3639,  1.3837,  2.1912])"
      ]
     },
     "execution_count": 83,
     "metadata": {},
     "output_type": "execute_result"
    }
   ],
   "source": [
    "x_cp"
   ]
  },
  {
   "cell_type": "code",
   "execution_count": 84,
   "metadata": {},
   "outputs": [],
   "source": [
    "x +=1"
   ]
  },
  {
   "cell_type": "code",
   "execution_count": 85,
   "metadata": {},
   "outputs": [
    {
     "data": {
      "text/plain": [
       "tensor([[4.0778, 2.4181, 5.0650],\n",
       "        [3.4837, 4.3440, 2.8982],\n",
       "        [2.6643, 1.1485, 2.5587],\n",
       "        [0.8863, 2.4890, 1.5099],\n",
       "        [0.6361, 2.3837, 3.1912]])"
      ]
     },
     "execution_count": 85,
     "metadata": {},
     "output_type": "execute_result"
    }
   ],
   "source": [
    "x"
   ]
  },
  {
   "cell_type": "code",
   "execution_count": 86,
   "metadata": {},
   "outputs": [
    {
     "data": {
      "text/plain": [
       "tensor([ 3.0778,  1.4181,  4.0650,  2.4837,  3.3440,  1.8982,  1.6643,  0.1485,\n",
       "         1.5587, -0.1137,  1.4890,  0.5099, -0.3639,  1.3837,  2.1912])"
      ]
     },
     "execution_count": 86,
     "metadata": {},
     "output_type": "execute_result"
    }
   ],
   "source": [
    "x_cp"
   ]
  },
  {
   "cell_type": "code",
   "execution_count": 87,
   "metadata": {},
   "outputs": [],
   "source": [
    "# item 将Tensor 转成 python number \n",
    "x = torch.randn(1)"
   ]
  },
  {
   "cell_type": "code",
   "execution_count": 88,
   "metadata": {},
   "outputs": [
    {
     "data": {
      "text/plain": [
       "tensor([0.5193])"
      ]
     },
     "execution_count": 88,
     "metadata": {},
     "output_type": "execute_result"
    }
   ],
   "source": [
    "x"
   ]
  },
  {
   "cell_type": "code",
   "execution_count": 89,
   "metadata": {},
   "outputs": [
    {
     "data": {
      "text/plain": [
       "0.5193179845809937"
      ]
     },
     "execution_count": 89,
     "metadata": {},
     "output_type": "execute_result"
    }
   ],
   "source": [
    "x.item()"
   ]
  },
  {
   "cell_type": "code",
   "execution_count": 90,
   "metadata": {},
   "outputs": [
    {
     "data": {
      "text/plain": [
       "tensor([ 3.0778,  1.4181,  4.0650,  2.4837,  3.3440,  1.8982,  1.6643,  0.1485,\n",
       "         1.5587, -0.1137,  1.4890,  0.5099, -0.3639,  1.3837,  2.1912])"
      ]
     },
     "execution_count": 90,
     "metadata": {},
     "output_type": "execute_result"
    }
   ],
   "source": [
    "# 线性代数\n",
    "x_cp"
   ]
  },
  {
   "cell_type": "code",
   "execution_count": 96,
   "metadata": {},
   "outputs": [],
   "source": [
    "y_cp = x_cp.view(-1,5)"
   ]
  },
  {
   "cell_type": "code",
   "execution_count": 97,
   "metadata": {},
   "outputs": [
    {
     "data": {
      "text/plain": [
       "tensor(4.3782)"
      ]
     },
     "execution_count": 97,
     "metadata": {},
     "output_type": "execute_result"
    }
   ],
   "source": [
    "torch.trace(y_cp)"
   ]
  },
  {
   "cell_type": "code",
   "execution_count": 98,
   "metadata": {},
   "outputs": [
    {
     "data": {
      "text/plain": [
       "tensor([[ 3.0778,  1.4181,  4.0650,  2.4837,  3.3440],\n",
       "        [ 1.8982,  1.6643,  0.1485,  1.5587, -0.1137],\n",
       "        [ 1.4890,  0.5099, -0.3639,  1.3837,  2.1912]])"
      ]
     },
     "execution_count": 98,
     "metadata": {},
     "output_type": "execute_result"
    }
   ],
   "source": [
    "y_cp"
   ]
  },
  {
   "cell_type": "code",
   "execution_count": 100,
   "metadata": {},
   "outputs": [],
   "source": [
    "n = torch.diag(y_cp)"
   ]
  },
  {
   "cell_type": "code",
   "execution_count": 101,
   "metadata": {},
   "outputs": [
    {
     "data": {
      "text/plain": [
       "tensor(4.3782)"
      ]
     },
     "execution_count": 101,
     "metadata": {},
     "output_type": "execute_result"
    }
   ],
   "source": [
    "n.sum()"
   ]
  },
  {
   "cell_type": "code",
   "execution_count": 102,
   "metadata": {},
   "outputs": [
    {
     "data": {
      "text/plain": [
       "tensor([[ 3.0778,  1.8982,  1.4890],\n",
       "        [ 1.4181,  1.6643,  0.5099],\n",
       "        [ 4.0650,  0.1485, -0.3639],\n",
       "        [ 2.4837,  1.5587,  1.3837],\n",
       "        [ 3.3440, -0.1137,  2.1912]])"
      ]
     },
     "execution_count": 102,
     "metadata": {},
     "output_type": "execute_result"
    }
   ],
   "source": [
    "y_cp.t_()"
   ]
  },
  {
   "cell_type": "markdown",
   "metadata": {},
   "source": [
    "### 广播机制"
   ]
  },
  {
   "cell_type": "code",
   "execution_count": 103,
   "metadata": {},
   "outputs": [],
   "source": [
    "x = torch.arange(1,3).view(1,2)"
   ]
  },
  {
   "cell_type": "code",
   "execution_count": 104,
   "metadata": {},
   "outputs": [
    {
     "data": {
      "text/plain": [
       "tensor([[1, 2]])"
      ]
     },
     "execution_count": 104,
     "metadata": {},
     "output_type": "execute_result"
    }
   ],
   "source": [
    "x"
   ]
  },
  {
   "cell_type": "code",
   "execution_count": 105,
   "metadata": {},
   "outputs": [],
   "source": [
    "y = torch.arange(1,4).view(3,1)"
   ]
  },
  {
   "cell_type": "code",
   "execution_count": 106,
   "metadata": {},
   "outputs": [
    {
     "data": {
      "text/plain": [
       "tensor([[1],\n",
       "        [2],\n",
       "        [3]])"
      ]
     },
     "execution_count": 106,
     "metadata": {},
     "output_type": "execute_result"
    }
   ],
   "source": [
    "y"
   ]
  },
  {
   "cell_type": "code",
   "execution_count": 107,
   "metadata": {},
   "outputs": [
    {
     "data": {
      "text/plain": [
       "tensor([[2, 3],\n",
       "        [3, 4],\n",
       "        [4, 5]])"
      ]
     },
     "execution_count": 107,
     "metadata": {},
     "output_type": "execute_result"
    }
   ],
   "source": [
    "x + y"
   ]
  },
  {
   "cell_type": "markdown",
   "metadata": {},
   "source": [
    "### 运算内存开销"
   ]
  },
  {
   "cell_type": "code",
   "execution_count": null,
   "metadata": {},
   "outputs": [],
   "source": [
    "# 索引操作是不会 开辟新内存，但是 y = x + y 这样的运算会新开内存，然后将\n",
    "# y指向新内存"
   ]
  },
  {
   "cell_type": "code",
   "execution_count": 108,
   "metadata": {},
   "outputs": [],
   "source": [
    "x = torch.tensor([1,2])"
   ]
  },
  {
   "cell_type": "code",
   "execution_count": 109,
   "metadata": {},
   "outputs": [],
   "source": [
    "y = torch.tensor([3,4])"
   ]
  },
  {
   "cell_type": "code",
   "execution_count": 110,
   "metadata": {},
   "outputs": [],
   "source": [
    "id_before = id(y)"
   ]
  },
  {
   "cell_type": "code",
   "execution_count": 111,
   "metadata": {},
   "outputs": [
    {
     "data": {
      "text/plain": [
       "140237196385744"
      ]
     },
     "execution_count": 111,
     "metadata": {},
     "output_type": "execute_result"
    }
   ],
   "source": [
    "id_before"
   ]
  },
  {
   "cell_type": "code",
   "execution_count": 112,
   "metadata": {},
   "outputs": [],
   "source": [
    "y = y + x "
   ]
  },
  {
   "cell_type": "code",
   "execution_count": 113,
   "metadata": {},
   "outputs": [
    {
     "data": {
      "text/plain": [
       "False"
      ]
     },
     "execution_count": 113,
     "metadata": {},
     "output_type": "execute_result"
    }
   ],
   "source": [
    "id(y) == id_before"
   ]
  },
  {
   "cell_type": "code",
   "execution_count": 114,
   "metadata": {},
   "outputs": [],
   "source": [
    "# 如果想指定结果到原来y的内存，我们可以 使用前面介绍的索引来进行替换操作"
   ]
  },
  {
   "cell_type": "code",
   "execution_count": 115,
   "metadata": {},
   "outputs": [],
   "source": [
    "x = torch.tensor([1,2])\n",
    "y = torch.tensor([3,4])\n",
    "id_before = id(y)\n",
    "y[:] = x + y "
   ]
  },
  {
   "cell_type": "code",
   "execution_count": 116,
   "metadata": {},
   "outputs": [
    {
     "data": {
      "text/plain": [
       "True"
      ]
     },
     "execution_count": 116,
     "metadata": {},
     "output_type": "execute_result"
    }
   ],
   "source": [
    "id(y) == id_before"
   ]
  },
  {
   "cell_type": "code",
   "execution_count": 117,
   "metadata": {},
   "outputs": [],
   "source": [
    "# 运算符全名函数中的out 参数 或者 自加运算 += 达到 上述效果 "
   ]
  },
  {
   "cell_type": "code",
   "execution_count": 118,
   "metadata": {},
   "outputs": [
    {
     "data": {
      "text/plain": [
       "tensor([5, 8])"
      ]
     },
     "execution_count": 118,
     "metadata": {},
     "output_type": "execute_result"
    }
   ],
   "source": [
    "torch.add(x,y,out=y)"
   ]
  },
  {
   "cell_type": "code",
   "execution_count": 119,
   "metadata": {},
   "outputs": [
    {
     "data": {
      "text/plain": [
       "True"
      ]
     },
     "execution_count": 119,
     "metadata": {},
     "output_type": "execute_result"
    }
   ],
   "source": [
    "id(y) == id_before"
   ]
  },
  {
   "cell_type": "markdown",
   "metadata": {},
   "source": [
    "### Tensor 和 Numpy 相互转换 "
   ]
  },
  {
   "cell_type": "code",
   "execution_count": 121,
   "metadata": {},
   "outputs": [],
   "source": [
    "# 容易使用numpy() 和 from_numpy() 将 Tensor 和 Numpy中的数据相互转换\n",
    "# 但是要注意的是数组之间 共享相同的内存 改变其中一个另外一个也改变"
   ]
  },
  {
   "cell_type": "code",
   "execution_count": 122,
   "metadata": {},
   "outputs": [],
   "source": [
    "a = torch.ones(5)"
   ]
  },
  {
   "cell_type": "code",
   "execution_count": 123,
   "metadata": {},
   "outputs": [
    {
     "data": {
      "text/plain": [
       "tensor([1., 1., 1., 1., 1.])"
      ]
     },
     "execution_count": 123,
     "metadata": {},
     "output_type": "execute_result"
    }
   ],
   "source": [
    "a"
   ]
  },
  {
   "cell_type": "code",
   "execution_count": 124,
   "metadata": {},
   "outputs": [],
   "source": [
    "b = a.numpy()"
   ]
  },
  {
   "cell_type": "code",
   "execution_count": 125,
   "metadata": {},
   "outputs": [
    {
     "data": {
      "text/plain": [
       "array([1., 1., 1., 1., 1.], dtype=float32)"
      ]
     },
     "execution_count": 125,
     "metadata": {},
     "output_type": "execute_result"
    }
   ],
   "source": [
    "b"
   ]
  },
  {
   "cell_type": "code",
   "execution_count": 126,
   "metadata": {},
   "outputs": [],
   "source": [
    "a +=1 "
   ]
  },
  {
   "cell_type": "code",
   "execution_count": 127,
   "metadata": {},
   "outputs": [
    {
     "data": {
      "text/plain": [
       "tensor([2., 2., 2., 2., 2.])"
      ]
     },
     "execution_count": 127,
     "metadata": {},
     "output_type": "execute_result"
    }
   ],
   "source": [
    "a"
   ]
  },
  {
   "cell_type": "code",
   "execution_count": 128,
   "metadata": {},
   "outputs": [
    {
     "data": {
      "text/plain": [
       "array([2., 2., 2., 2., 2.], dtype=float32)"
      ]
     },
     "execution_count": 128,
     "metadata": {},
     "output_type": "execute_result"
    }
   ],
   "source": [
    "b"
   ]
  },
  {
   "cell_type": "code",
   "execution_count": 129,
   "metadata": {},
   "outputs": [],
   "source": [
    "b +=1"
   ]
  },
  {
   "cell_type": "code",
   "execution_count": 130,
   "metadata": {},
   "outputs": [
    {
     "data": {
      "text/plain": [
       "array([3., 3., 3., 3., 3.], dtype=float32)"
      ]
     },
     "execution_count": 130,
     "metadata": {},
     "output_type": "execute_result"
    }
   ],
   "source": [
    "b"
   ]
  },
  {
   "cell_type": "code",
   "execution_count": 131,
   "metadata": {},
   "outputs": [
    {
     "data": {
      "text/plain": [
       "tensor([3., 3., 3., 3., 3.])"
      ]
     },
     "execution_count": 131,
     "metadata": {},
     "output_type": "execute_result"
    }
   ],
   "source": [
    "a"
   ]
  },
  {
   "cell_type": "code",
   "execution_count": 132,
   "metadata": {},
   "outputs": [],
   "source": [
    "a = np.ones(5)"
   ]
  },
  {
   "cell_type": "code",
   "execution_count": 133,
   "metadata": {},
   "outputs": [
    {
     "data": {
      "text/plain": [
       "array([1., 1., 1., 1., 1.])"
      ]
     },
     "execution_count": 133,
     "metadata": {},
     "output_type": "execute_result"
    }
   ],
   "source": [
    "a"
   ]
  },
  {
   "cell_type": "code",
   "execution_count": 134,
   "metadata": {},
   "outputs": [],
   "source": [
    "b = torch.from_numpy(a)"
   ]
  },
  {
   "cell_type": "code",
   "execution_count": 135,
   "metadata": {},
   "outputs": [
    {
     "data": {
      "text/plain": [
       "tensor([1., 1., 1., 1., 1.], dtype=torch.float64)"
      ]
     },
     "execution_count": 135,
     "metadata": {},
     "output_type": "execute_result"
    }
   ],
   "source": [
    "b"
   ]
  },
  {
   "cell_type": "code",
   "execution_count": 136,
   "metadata": {},
   "outputs": [],
   "source": [
    "a +=1"
   ]
  },
  {
   "cell_type": "code",
   "execution_count": 137,
   "metadata": {},
   "outputs": [
    {
     "data": {
      "text/plain": [
       "array([2., 2., 2., 2., 2.])"
      ]
     },
     "execution_count": 137,
     "metadata": {},
     "output_type": "execute_result"
    }
   ],
   "source": [
    "a"
   ]
  },
  {
   "cell_type": "code",
   "execution_count": 138,
   "metadata": {},
   "outputs": [
    {
     "data": {
      "text/plain": [
       "tensor([2., 2., 2., 2., 2.], dtype=torch.float64)"
      ]
     },
     "execution_count": 138,
     "metadata": {},
     "output_type": "execute_result"
    }
   ],
   "source": [
    "b"
   ]
  },
  {
   "cell_type": "code",
   "execution_count": 140,
   "metadata": {},
   "outputs": [],
   "source": [
    "# 直接用 torch.tensor()  会进行数据拷贝 返回的tensor 和原来的数据不在进行\n",
    "# 数据共享\n",
    "c = torch.tensor(a)"
   ]
  },
  {
   "cell_type": "code",
   "execution_count": 141,
   "metadata": {},
   "outputs": [
    {
     "data": {
      "text/plain": [
       "tensor([2., 2., 2., 2., 2.], dtype=torch.float64)"
      ]
     },
     "execution_count": 141,
     "metadata": {},
     "output_type": "execute_result"
    }
   ],
   "source": [
    "c"
   ]
  },
  {
   "cell_type": "code",
   "execution_count": 142,
   "metadata": {},
   "outputs": [],
   "source": [
    "a+=1"
   ]
  },
  {
   "cell_type": "code",
   "execution_count": 143,
   "metadata": {},
   "outputs": [
    {
     "data": {
      "text/plain": [
       "tensor([2., 2., 2., 2., 2.], dtype=torch.float64)"
      ]
     },
     "execution_count": 143,
     "metadata": {},
     "output_type": "execute_result"
    }
   ],
   "source": [
    "c"
   ]
  },
  {
   "cell_type": "code",
   "execution_count": 144,
   "metadata": {},
   "outputs": [
    {
     "data": {
      "text/plain": [
       "array([3., 3., 3., 3., 3.])"
      ]
     },
     "execution_count": 144,
     "metadata": {},
     "output_type": "execute_result"
    }
   ],
   "source": [
    "a"
   ]
  },
  {
   "cell_type": "code",
   "execution_count": null,
   "metadata": {},
   "outputs": [],
   "source": [
    "### tensor on GPU"
   ]
  },
  {
   "cell_type": "markdown",
   "metadata": {},
   "source": [
    "## 自动求梯度"
   ]
  },
  {
   "cell_type": "markdown",
   "metadata": {},
   "source": [
    "### 概念"
   ]
  },
  {
   "cell_type": "code",
   "execution_count": 145,
   "metadata": {},
   "outputs": [],
   "source": [
    "# 属性为 requires_grad 设置为True  将追踪其上的所有操作  可以利用链式法则\n",
    "# 进行梯度传播了 计算完成后 可以调用 。backward()来完成所有的梯度计算\n",
    "# 此Tensor的梯度累计到.grad属性中"
   ]
  },
  {
   "cell_type": "markdown",
   "metadata": {},
   "source": [
    "### Tensor"
   ]
  },
  {
   "cell_type": "code",
   "execution_count": 146,
   "metadata": {},
   "outputs": [],
   "source": [
    "x = torch.ones(2,2,requires_grad=True)"
   ]
  },
  {
   "cell_type": "code",
   "execution_count": 147,
   "metadata": {},
   "outputs": [
    {
     "data": {
      "text/plain": [
       "tensor([[1., 1.],\n",
       "        [1., 1.]], requires_grad=True)"
      ]
     },
     "execution_count": 147,
     "metadata": {},
     "output_type": "execute_result"
    }
   ],
   "source": [
    "x"
   ]
  },
  {
   "cell_type": "code",
   "execution_count": 149,
   "metadata": {},
   "outputs": [
    {
     "name": "stdout",
     "output_type": "stream",
     "text": [
      "None\n"
     ]
    }
   ],
   "source": [
    "print(x.grad_fn)"
   ]
  },
  {
   "cell_type": "code",
   "execution_count": 150,
   "metadata": {},
   "outputs": [],
   "source": [
    "y = x + 2"
   ]
  },
  {
   "cell_type": "code",
   "execution_count": 151,
   "metadata": {},
   "outputs": [
    {
     "data": {
      "text/plain": [
       "tensor([[3., 3.],\n",
       "        [3., 3.]], grad_fn=<AddBackward0>)"
      ]
     },
     "execution_count": 151,
     "metadata": {},
     "output_type": "execute_result"
    }
   ],
   "source": [
    "y"
   ]
  },
  {
   "cell_type": "code",
   "execution_count": 152,
   "metadata": {},
   "outputs": [
    {
     "data": {
      "text/plain": [
       "<AddBackward0 at 0x7f8b846627d0>"
      ]
     },
     "execution_count": 152,
     "metadata": {},
     "output_type": "execute_result"
    }
   ],
   "source": [
    "y.grad_fn"
   ]
  },
  {
   "cell_type": "code",
   "execution_count": 153,
   "metadata": {},
   "outputs": [],
   "source": [
    "# 直接创建的成为叶子节点，叶子节点对应的grad_fn 是 None"
   ]
  },
  {
   "cell_type": "code",
   "execution_count": 154,
   "metadata": {},
   "outputs": [
    {
     "data": {
      "text/plain": [
       "True"
      ]
     },
     "execution_count": 154,
     "metadata": {},
     "output_type": "execute_result"
    }
   ],
   "source": [
    "x.is_leaf"
   ]
  },
  {
   "cell_type": "code",
   "execution_count": 156,
   "metadata": {},
   "outputs": [
    {
     "data": {
      "text/plain": [
       "False"
      ]
     },
     "execution_count": 156,
     "metadata": {},
     "output_type": "execute_result"
    }
   ],
   "source": [
    "y.is_leaf"
   ]
  },
  {
   "cell_type": "code",
   "execution_count": 157,
   "metadata": {},
   "outputs": [],
   "source": [
    "z = y * y * 3"
   ]
  },
  {
   "cell_type": "code",
   "execution_count": 158,
   "metadata": {},
   "outputs": [
    {
     "data": {
      "text/plain": [
       "tensor([[27., 27.],\n",
       "        [27., 27.]], grad_fn=<MulBackward0>)"
      ]
     },
     "execution_count": 158,
     "metadata": {},
     "output_type": "execute_result"
    }
   ],
   "source": [
    "z"
   ]
  },
  {
   "cell_type": "code",
   "execution_count": 159,
   "metadata": {},
   "outputs": [],
   "source": [
    "out = z.mean()"
   ]
  },
  {
   "cell_type": "code",
   "execution_count": 160,
   "metadata": {},
   "outputs": [
    {
     "data": {
      "text/plain": [
       "tensor(27., grad_fn=<MeanBackward0>)"
      ]
     },
     "execution_count": 160,
     "metadata": {},
     "output_type": "execute_result"
    }
   ],
   "source": [
    "out"
   ]
  },
  {
   "cell_type": "code",
   "execution_count": 161,
   "metadata": {},
   "outputs": [],
   "source": [
    "a = torch.randn(2,2)"
   ]
  },
  {
   "cell_type": "code",
   "execution_count": 162,
   "metadata": {},
   "outputs": [
    {
     "data": {
      "text/plain": [
       "tensor([[-0.0293, -0.8738],\n",
       "        [ 1.2695,  0.0943]])"
      ]
     },
     "execution_count": 162,
     "metadata": {},
     "output_type": "execute_result"
    }
   ],
   "source": [
    "a"
   ]
  },
  {
   "cell_type": "code",
   "execution_count": 163,
   "metadata": {},
   "outputs": [],
   "source": [
    "a = ((a * 3) / (a - 1))"
   ]
  },
  {
   "cell_type": "code",
   "execution_count": 164,
   "metadata": {},
   "outputs": [
    {
     "data": {
      "text/plain": [
       "tensor([[ 0.0853,  1.3990],\n",
       "        [14.1313, -0.3122]])"
      ]
     },
     "execution_count": 164,
     "metadata": {},
     "output_type": "execute_result"
    }
   ],
   "source": [
    "a"
   ]
  },
  {
   "cell_type": "code",
   "execution_count": 165,
   "metadata": {},
   "outputs": [
    {
     "data": {
      "text/plain": [
       "False"
      ]
     },
     "execution_count": 165,
     "metadata": {},
     "output_type": "execute_result"
    }
   ],
   "source": [
    "a.requires_grad"
   ]
  },
  {
   "cell_type": "code",
   "execution_count": 166,
   "metadata": {},
   "outputs": [
    {
     "data": {
      "text/plain": [
       "tensor([[ 0.0853,  1.3990],\n",
       "        [14.1313, -0.3122]], requires_grad=True)"
      ]
     },
     "execution_count": 166,
     "metadata": {},
     "output_type": "execute_result"
    }
   ],
   "source": [
    "a.requires_grad_(True)"
   ]
  },
  {
   "cell_type": "code",
   "execution_count": 167,
   "metadata": {},
   "outputs": [],
   "source": [
    "b = (a * a).sum()"
   ]
  },
  {
   "cell_type": "code",
   "execution_count": 168,
   "metadata": {},
   "outputs": [
    {
     "data": {
      "text/plain": [
       "tensor(201.7562, grad_fn=<SumBackward0>)"
      ]
     },
     "execution_count": 168,
     "metadata": {},
     "output_type": "execute_result"
    }
   ],
   "source": [
    "b"
   ]
  },
  {
   "cell_type": "code",
   "execution_count": 169,
   "metadata": {},
   "outputs": [
    {
     "data": {
      "text/plain": [
       "<SumBackward0 at 0x7f8b89286e90>"
      ]
     },
     "execution_count": 169,
     "metadata": {},
     "output_type": "execute_result"
    }
   ],
   "source": [
    "b.grad_fn"
   ]
  },
  {
   "cell_type": "markdown",
   "metadata": {},
   "source": [
    "### 梯度"
   ]
  },
  {
   "cell_type": "code",
   "execution_count": 170,
   "metadata": {},
   "outputs": [
    {
     "data": {
      "text/plain": [
       "tensor(27., grad_fn=<MeanBackward0>)"
      ]
     },
     "execution_count": 170,
     "metadata": {},
     "output_type": "execute_result"
    }
   ],
   "source": [
    "out"
   ]
  },
  {
   "cell_type": "code",
   "execution_count": 171,
   "metadata": {},
   "outputs": [],
   "source": [
    "out.backward()"
   ]
  },
  {
   "cell_type": "code",
   "execution_count": 172,
   "metadata": {},
   "outputs": [
    {
     "data": {
      "text/plain": [
       "tensor([[1., 1.],\n",
       "        [1., 1.]], requires_grad=True)"
      ]
     },
     "execution_count": 172,
     "metadata": {},
     "output_type": "execute_result"
    }
   ],
   "source": [
    "x"
   ]
  },
  {
   "cell_type": "code",
   "execution_count": 173,
   "metadata": {},
   "outputs": [
    {
     "data": {
      "text/plain": [
       "tensor([[4.5000, 4.5000],\n",
       "        [4.5000, 4.5000]])"
      ]
     },
     "execution_count": 173,
     "metadata": {},
     "output_type": "execute_result"
    }
   ],
   "source": [
    "x.grad"
   ]
  },
  {
   "cell_type": "code",
   "execution_count": 175,
   "metadata": {},
   "outputs": [],
   "source": [
    "# grad 在反向传播过程中是累加的，这意味 这 没运行一次反向传播 梯度都会累加之前\n",
    "# 之前的梯度，所以一般在反向传播之前需要把 梯度清零"
   ]
  },
  {
   "cell_type": "code",
   "execution_count": 176,
   "metadata": {},
   "outputs": [],
   "source": [
    "out2 = x.sum()"
   ]
  },
  {
   "cell_type": "code",
   "execution_count": 177,
   "metadata": {},
   "outputs": [
    {
     "data": {
      "text/plain": [
       "tensor(4., grad_fn=<SumBackward0>)"
      ]
     },
     "execution_count": 177,
     "metadata": {},
     "output_type": "execute_result"
    }
   ],
   "source": [
    "out2"
   ]
  },
  {
   "cell_type": "code",
   "execution_count": 178,
   "metadata": {},
   "outputs": [],
   "source": [
    "out2.backward()"
   ]
  },
  {
   "cell_type": "code",
   "execution_count": 179,
   "metadata": {},
   "outputs": [
    {
     "data": {
      "text/plain": [
       "tensor([[5.5000, 5.5000],\n",
       "        [5.5000, 5.5000]])"
      ]
     },
     "execution_count": 179,
     "metadata": {},
     "output_type": "execute_result"
    }
   ],
   "source": [
    "x.grad"
   ]
  },
  {
   "cell_type": "code",
   "execution_count": 180,
   "metadata": {},
   "outputs": [],
   "source": [
    "out3 = x.sum()"
   ]
  },
  {
   "cell_type": "code",
   "execution_count": 181,
   "metadata": {},
   "outputs": [
    {
     "data": {
      "text/plain": [
       "tensor([[0., 0.],\n",
       "        [0., 0.]])"
      ]
     },
     "execution_count": 181,
     "metadata": {},
     "output_type": "execute_result"
    }
   ],
   "source": [
    "x.grad.data.zero_()"
   ]
  },
  {
   "cell_type": "code",
   "execution_count": 182,
   "metadata": {},
   "outputs": [],
   "source": [
    "out3.backward()"
   ]
  },
  {
   "cell_type": "code",
   "execution_count": 183,
   "metadata": {},
   "outputs": [
    {
     "data": {
      "text/plain": [
       "tensor([[1., 1.],\n",
       "        [1., 1.]])"
      ]
     },
     "execution_count": 183,
     "metadata": {},
     "output_type": "execute_result"
    }
   ],
   "source": [
    "x.grad"
   ]
  },
  {
   "cell_type": "code",
   "execution_count": 184,
   "metadata": {},
   "outputs": [],
   "source": [
    "x  = torch.tensor([1.,2.,3.,4.],requires_grad=True)"
   ]
  },
  {
   "cell_type": "code",
   "execution_count": 185,
   "metadata": {},
   "outputs": [
    {
     "data": {
      "text/plain": [
       "tensor([1., 2., 3., 4.], requires_grad=True)"
      ]
     },
     "execution_count": 185,
     "metadata": {},
     "output_type": "execute_result"
    }
   ],
   "source": [
    "x"
   ]
  },
  {
   "cell_type": "code",
   "execution_count": 186,
   "metadata": {},
   "outputs": [],
   "source": [
    "y = x * 2 "
   ]
  },
  {
   "cell_type": "code",
   "execution_count": 187,
   "metadata": {},
   "outputs": [
    {
     "data": {
      "text/plain": [
       "tensor([2., 4., 6., 8.], grad_fn=<MulBackward0>)"
      ]
     },
     "execution_count": 187,
     "metadata": {},
     "output_type": "execute_result"
    }
   ],
   "source": [
    "y"
   ]
  },
  {
   "cell_type": "code",
   "execution_count": 188,
   "metadata": {},
   "outputs": [],
   "source": [
    "z = y.view(2,2)"
   ]
  },
  {
   "cell_type": "code",
   "execution_count": 189,
   "metadata": {},
   "outputs": [
    {
     "data": {
      "text/plain": [
       "tensor([[2., 4.],\n",
       "        [6., 8.]], grad_fn=<ViewBackward0>)"
      ]
     },
     "execution_count": 189,
     "metadata": {},
     "output_type": "execute_result"
    }
   ],
   "source": [
    "z"
   ]
  },
  {
   "cell_type": "code",
   "execution_count": 190,
   "metadata": {},
   "outputs": [],
   "source": [
    "# z 不是标量 所以在调用 backward 时 需要传入一个和z 同形的权重向量进行加权#\n",
    "# 求和得到一个标量\n",
    "v = torch.tensor([[1.,0.1],[0.01,0.001]],dtype=torch.float)"
   ]
  },
  {
   "cell_type": "code",
   "execution_count": 191,
   "metadata": {},
   "outputs": [],
   "source": [
    "z.backward(v)"
   ]
  },
  {
   "cell_type": "code",
   "execution_count": 192,
   "metadata": {},
   "outputs": [
    {
     "data": {
      "text/plain": [
       "tensor([2.0000, 0.2000, 0.0200, 0.0020])"
      ]
     },
     "execution_count": 192,
     "metadata": {},
     "output_type": "execute_result"
    }
   ],
   "source": [
    "x.grad"
   ]
  },
  {
   "cell_type": "code",
   "execution_count": 193,
   "metadata": {},
   "outputs": [],
   "source": [
    "# 中断 梯度追踪"
   ]
  },
  {
   "cell_type": "code",
   "execution_count": 194,
   "metadata": {},
   "outputs": [],
   "source": [
    "x = torch.tensor(1.0,requires_grad=True)"
   ]
  },
  {
   "cell_type": "code",
   "execution_count": 195,
   "metadata": {},
   "outputs": [
    {
     "data": {
      "text/plain": [
       "tensor(1., requires_grad=True)"
      ]
     },
     "execution_count": 195,
     "metadata": {},
     "output_type": "execute_result"
    }
   ],
   "source": [
    "x"
   ]
  },
  {
   "cell_type": "code",
   "execution_count": 196,
   "metadata": {},
   "outputs": [],
   "source": [
    "y1 = x ** 2"
   ]
  },
  {
   "cell_type": "code",
   "execution_count": 197,
   "metadata": {},
   "outputs": [],
   "source": [
    "with torch.no_grad():\n",
    "    y2 = x ** 3 \n",
    "y3 = y1 + y2 "
   ]
  },
  {
   "cell_type": "code",
   "execution_count": 198,
   "metadata": {},
   "outputs": [
    {
     "data": {
      "text/plain": [
       "True"
      ]
     },
     "execution_count": 198,
     "metadata": {},
     "output_type": "execute_result"
    }
   ],
   "source": [
    "x.requires_grad"
   ]
  },
  {
   "cell_type": "code",
   "execution_count": 199,
   "metadata": {},
   "outputs": [
    {
     "data": {
      "text/plain": [
       "tensor(1., grad_fn=<PowBackward0>)"
      ]
     },
     "execution_count": 199,
     "metadata": {},
     "output_type": "execute_result"
    }
   ],
   "source": [
    "y1"
   ]
  },
  {
   "cell_type": "code",
   "execution_count": 200,
   "metadata": {},
   "outputs": [
    {
     "data": {
      "text/plain": [
       "True"
      ]
     },
     "execution_count": 200,
     "metadata": {},
     "output_type": "execute_result"
    }
   ],
   "source": [
    "y1.requires_grad"
   ]
  },
  {
   "cell_type": "code",
   "execution_count": 201,
   "metadata": {},
   "outputs": [
    {
     "data": {
      "text/plain": [
       "False"
      ]
     },
     "execution_count": 201,
     "metadata": {},
     "output_type": "execute_result"
    }
   ],
   "source": [
    "y2.requires_grad"
   ]
  },
  {
   "cell_type": "code",
   "execution_count": 202,
   "metadata": {},
   "outputs": [
    {
     "data": {
      "text/plain": [
       "True"
      ]
     },
     "execution_count": 202,
     "metadata": {},
     "output_type": "execute_result"
    }
   ],
   "source": [
    "y3.requires_grad"
   ]
  },
  {
   "cell_type": "code",
   "execution_count": 203,
   "metadata": {},
   "outputs": [],
   "source": [
    "y3.backward()"
   ]
  },
  {
   "cell_type": "code",
   "execution_count": 204,
   "metadata": {},
   "outputs": [
    {
     "data": {
      "text/plain": [
       "tensor(2.)"
      ]
     },
     "execution_count": 204,
     "metadata": {},
     "output_type": "execute_result"
    }
   ],
   "source": [
    "x.grad"
   ]
  },
  {
   "cell_type": "code",
   "execution_count": 205,
   "metadata": {},
   "outputs": [],
   "source": [
    "# 想要修改 tensor 的数值，但是有不希望被 autograd 记录  需要对tensor.data\n",
    "# 进行操作"
   ]
  },
  {
   "cell_type": "code",
   "execution_count": 206,
   "metadata": {},
   "outputs": [],
   "source": [
    "x = torch.ones(1,requires_grad=True)"
   ]
  },
  {
   "cell_type": "code",
   "execution_count": 207,
   "metadata": {},
   "outputs": [
    {
     "data": {
      "text/plain": [
       "tensor([1.], requires_grad=True)"
      ]
     },
     "execution_count": 207,
     "metadata": {},
     "output_type": "execute_result"
    }
   ],
   "source": [
    "x"
   ]
  },
  {
   "cell_type": "code",
   "execution_count": 208,
   "metadata": {},
   "outputs": [
    {
     "data": {
      "text/plain": [
       "tensor([1.])"
      ]
     },
     "execution_count": 208,
     "metadata": {},
     "output_type": "execute_result"
    }
   ],
   "source": [
    "x.data"
   ]
  },
  {
   "cell_type": "code",
   "execution_count": 209,
   "metadata": {},
   "outputs": [
    {
     "data": {
      "text/plain": [
       "False"
      ]
     },
     "execution_count": 209,
     "metadata": {},
     "output_type": "execute_result"
    }
   ],
   "source": [
    "x.data.requires_grad"
   ]
  },
  {
   "cell_type": "code",
   "execution_count": 210,
   "metadata": {},
   "outputs": [],
   "source": [
    "y = 2 * x"
   ]
  },
  {
   "cell_type": "code",
   "execution_count": 211,
   "metadata": {},
   "outputs": [
    {
     "data": {
      "text/plain": [
       "tensor([2.], grad_fn=<MulBackward0>)"
      ]
     },
     "execution_count": 211,
     "metadata": {},
     "output_type": "execute_result"
    }
   ],
   "source": [
    "y"
   ]
  },
  {
   "cell_type": "code",
   "execution_count": 212,
   "metadata": {},
   "outputs": [],
   "source": [
    "x.data *= 100"
   ]
  },
  {
   "cell_type": "code",
   "execution_count": 213,
   "metadata": {},
   "outputs": [
    {
     "data": {
      "text/plain": [
       "tensor([100.], requires_grad=True)"
      ]
     },
     "execution_count": 213,
     "metadata": {},
     "output_type": "execute_result"
    }
   ],
   "source": [
    "x"
   ]
  },
  {
   "cell_type": "code",
   "execution_count": 214,
   "metadata": {},
   "outputs": [],
   "source": [
    "y.backward()"
   ]
  },
  {
   "cell_type": "code",
   "execution_count": 215,
   "metadata": {},
   "outputs": [
    {
     "data": {
      "text/plain": [
       "tensor([100.], requires_grad=True)"
      ]
     },
     "execution_count": 215,
     "metadata": {},
     "output_type": "execute_result"
    }
   ],
   "source": [
    "x"
   ]
  },
  {
   "cell_type": "code",
   "execution_count": 216,
   "metadata": {},
   "outputs": [
    {
     "data": {
      "text/plain": [
       "tensor([2.])"
      ]
     },
     "execution_count": 216,
     "metadata": {},
     "output_type": "execute_result"
    }
   ],
   "source": [
    "x.grad"
   ]
  },
  {
   "cell_type": "markdown",
   "metadata": {},
   "source": [
    "# 深度学习基础"
   ]
  },
  {
   "cell_type": "markdown",
   "metadata": {
    "heading_collapsed": true
   },
   "source": [
    "## 线性回归"
   ]
  },
  {
   "cell_type": "code",
   "execution_count": null,
   "metadata": {
    "hidden": true
   },
   "outputs": [],
   "source": [
    "# 线性回归输出是一个连续值，因此适用于回归问题 回归问题很常见，预测房屋价格，气温，销售额等连续值的问题，\n",
    "# 与回归问题不同，分类问题中模型的最终输出是一个离散值，我们所说的图像分类，垃圾邮件识别\n",
    "# 疾病检测 softmax 回归则适用于分类问题"
   ]
  },
  {
   "cell_type": "markdown",
   "metadata": {
    "hidden": true
   },
   "source": [
    "### 线性回归的基本要素"
   ]
  },
  {
   "cell_type": "code",
   "execution_count": 217,
   "metadata": {
    "hidden": true
   },
   "outputs": [],
   "source": [
    "# 这个应用目标是预测一栋房子的售出价格  我们知道这个价格取决于很多因素，这里我们假设价格只取决于 面积 和 房龄 "
   ]
  },
  {
   "cell_type": "markdown",
   "metadata": {
    "hidden": true
   },
   "source": [
    "#### 模型定义"
   ]
  },
  {
   "cell_type": "code",
   "execution_count": 218,
   "metadata": {
    "hidden": true
   },
   "outputs": [],
   "source": [
    "# 房屋的面积 为 x1,房龄的面积为x2 售出的价格为y 我们需要建立 基于输入 x1和x2 来计算输出y的表达式 也就是模型\n",
    "# y^ = x1 w1 + x2 w2 + b\n",
    "# 其中w1 和 w2 是权重 b 是偏差  且均是标量 他们都是线性回归的参数\n",
    "# 模型输出y^是线性回归对真实价格y 的预测或是 估计 我们通常允许他们之间有一定的误差"
   ]
  },
  {
   "cell_type": "markdown",
   "metadata": {
    "hidden": true
   },
   "source": [
    "#### 模型训练"
   ]
  },
  {
   "cell_type": "code",
   "execution_count": 219,
   "metadata": {
    "collapsed": true,
    "hidden": true
   },
   "outputs": [
    {
     "data": {
      "text/plain": [
       "'\\n1) 训练数据  \\n  通常收集一系列的真实数据，例如真实的房屋价格和他们对应的面积和房龄，我们希望在这些数据上 寻找模型参数使模型的预测%%capture\\n  价格 和真实 价格的误差最小，该数据集 称为 训练数据集  一栋房屋被称为 样本，真实售出的价格叫做标签，用来预测%%latex\\n  标签的两个因素叫做特征,特征用来表征样本的特点。\\n 我们采集的样本数为n  索引为i的样本的特征为x1（i）和 x2(i),标签为 y(i) 对于索引为i的房屋，线性回归模型的房屋\\n 价格预测的表达式为 \\n                 y^(i) = x1(i) w1 + x2(i) w2 + b \\n2) 损失函数  \\n    在模型训练中，需要衡量价格预测与真实值之间的误差，通常我们会选取一个非负数作为误差，且数值越小越好，一个常用的选择 \\n    是平方函数，它的评估索引为i的样本误差的表达式为  \\n                l(i) (w1,w2,b) = 1/2(y^(i) - y(i))²\\n    通常用训练数据的所有样本误差的平均来 衡量模型预测的质量 \\n     \\n3) 优化算法   \\n    小批量梯度下降，步骤：先选取一组模型参数的初始值，如随机选取，接下来对参数进行多次迭代，使每次迭代都可能降低损失函数的值 \\n    在 每次迭代中，先随机均匀采样一个由固定数目训练数据样本所组成的小批量B 然后求小批量中数据样本的平均均匀有关模型参数的导数  \\n    最后用此结果与预先设定的一个正数的乘积作为模型参数在本次迭代的减少量\\n        \\n'"
      ]
     },
     "execution_count": 219,
     "metadata": {},
     "output_type": "execute_result"
    }
   ],
   "source": [
    "# 通过数据来寻找特定的模型参数值，是模型在数据上的误差尽可能小，这个过程叫做模型训练 \n",
    "# 模型模型所涉及的三要素\n",
    "\"\"\"\n",
    "1) 训练数据  \n",
    "  通常收集一系列的真实数据，例如真实的房屋价格和他们对应的面积和房龄，我们希望在这些数据上 寻找模型参数使模型的预测%%capture\n",
    "  价格 和真实 价格的误差最小，该数据集 称为 训练数据集  一栋房屋被称为 样本，真实售出的价格叫做标签，用来预测%%latex\n",
    "  标签的两个因素叫做特征,特征用来表征样本的特点。\n",
    " 我们采集的样本数为n  索引为i的样本的特征为x1（i）和 x2(i),标签为 y(i) 对于索引为i的房屋，线性回归模型的房屋\n",
    " 价格预测的表达式为 \n",
    "                 y^(i) = x1(i) w1 + x2(i) w2 + b \n",
    "2) 损失函数  \n",
    "    在模型训练中，需要衡量价格预测与真实值之间的误差，通常我们会选取一个非负数作为误差，且数值越小越好，一个常用的选择 \n",
    "    是平方函数，它的评估索引为i的样本误差的表达式为  \n",
    "                l(i) (w1,w2,b) = 1/2(y^(i) - y(i))²\n",
    "    通常用训练数据的所有样本误差的平均来 衡量模型预测的质量 \n",
    "     \n",
    "3) 优化算法   \n",
    "    小批量梯度下降，步骤：先选取一组模型参数的初始值，如随机选取，接下来对参数进行多次迭代，使每次迭代都可能降低损失函数的值 \n",
    "    在 每次迭代中，先随机均匀采样一个由固定数目训练数据样本所组成的小批量B 然后求小批量中数据样本的平均均匀有关模型参数的导数  \n",
    "    最后用此结果与预先设定的一个正数的乘积作为模型参数在本次迭代的减少量\n",
    "        \n",
    "\"\"\""
   ]
  },
  {
   "cell_type": "markdown",
   "metadata": {
    "hidden": true
   },
   "source": [
    "#### 模型预测"
   ]
  },
  {
   "cell_type": "code",
   "execution_count": 220,
   "metadata": {
    "hidden": true
   },
   "outputs": [],
   "source": [
    "# 模型训练完后，我们将模型参数 w1,w2,b 在优化算法停止时的值记作 w1^,w2^,b^  这里我们得到的并不一定是最小化\n",
    "# 损失函数的最优解 w1*,w2*,b* 而是最优解的一个近似,我们就可以使用学出的模型 x1 w1^ + x2 w2^ + b^ 来估算\n",
    "# 训练数据集以外任意一栋面积为x1 房龄为x2 的房屋价格，这里的估算也叫做 模型预测，模型推断，模型测试"
   ]
  },
  {
   "cell_type": "markdown",
   "metadata": {
    "hidden": true
   },
   "source": [
    "### 线性回归的表示方法"
   ]
  },
  {
   "cell_type": "markdown",
   "metadata": {
    "hidden": true
   },
   "source": [
    "#### 神经网络图"
   ]
  },
  {
   "cell_type": "markdown",
   "metadata": {
    "hidden": true
   },
   "source": [
    "#### 矢量计算表达式"
   ]
  },
  {
   "cell_type": "code",
   "execution_count": 222,
   "metadata": {
    "hidden": true
   },
   "outputs": [],
   "source": [
    "a = torch.ones(1000)\n",
    "b = torch.ones(1000)"
   ]
  },
  {
   "cell_type": "code",
   "execution_count": 224,
   "metadata": {
    "hidden": true
   },
   "outputs": [],
   "source": [
    "from time import time"
   ]
  },
  {
   "cell_type": "code",
   "execution_count": 225,
   "metadata": {
    "hidden": true
   },
   "outputs": [
    {
     "name": "stdout",
     "output_type": "stream",
     "text": [
      "0.023530960083007812\n"
     ]
    }
   ],
   "source": [
    "start = time()\n",
    "c  = torch.zeros(1000)\n",
    "for i in range(1000):\n",
    "    c[i] = a[i] + b[i]\n",
    "print(time() - start)"
   ]
  },
  {
   "cell_type": "code",
   "execution_count": 226,
   "metadata": {
    "hidden": true
   },
   "outputs": [
    {
     "name": "stdout",
     "output_type": "stream",
     "text": [
      "0.00011324882507324219\n"
     ]
    }
   ],
   "source": [
    "start = time()\n",
    "d = a + b \n",
    "print(time() - start)"
   ]
  },
  {
   "cell_type": "code",
   "execution_count": 227,
   "metadata": {
    "hidden": true
   },
   "outputs": [
    {
     "data": {
      "text/plain": [
       "tensor([11., 11., 11.])"
      ]
     },
     "execution_count": 227,
     "metadata": {},
     "output_type": "execute_result"
    }
   ],
   "source": [
    "a  = torch.ones(3)\n",
    "b = 10\n",
    "a + b "
   ]
  },
  {
   "cell_type": "markdown",
   "metadata": {},
   "source": [
    "## 线性回归的从零开始实现"
   ]
  },
  {
   "cell_type": "code",
   "execution_count": 228,
   "metadata": {},
   "outputs": [],
   "source": [
    "%matplotlib inline\n",
    "import torch\n",
    "from IPython import display\n",
    "from matplotlib import pyplot as plt \n",
    "import numpy as np \n",
    "import random"
   ]
  },
  {
   "cell_type": "markdown",
   "metadata": {},
   "source": [
    "### 生成数据集 "
   ]
  },
  {
   "cell_type": "code",
   "execution_count": 229,
   "metadata": {},
   "outputs": [],
   "source": [
    "# 构造简单的人工训练数据集 设训练数据集样本数为1000 输入个数为2 我们使用线性回归模型的真实权重 w = [2,-3.4]\n",
    "# 和偏差b = 4.2  以及一个随机噪声项 来生成标签 \n",
    "#  Y = Xw + b + e"
   ]
  },
  {
   "cell_type": "code",
   "execution_count": 230,
   "metadata": {},
   "outputs": [],
   "source": [
    "num_inputs = 2\n",
    "num_examples = 1000\n",
    "true_w = [2,-3.4]\n",
    "true_b = 4.2"
   ]
  },
  {
   "cell_type": "code",
   "execution_count": 231,
   "metadata": {},
   "outputs": [],
   "source": [
    "features = torch.randn(num_examples,num_inputs,dtype=torch.float)"
   ]
  },
  {
   "cell_type": "code",
   "execution_count": 233,
   "metadata": {},
   "outputs": [
    {
     "data": {
      "text/plain": [
       "tensor([[-0.7740, -0.3611],\n",
       "        [ 0.3573,  0.4827],\n",
       "        [-0.3865, -1.3188],\n",
       "        ...,\n",
       "        [-1.5395,  0.7065],\n",
       "        [-0.2205,  1.4166],\n",
       "        [-1.0628, -1.0049]])"
      ]
     },
     "execution_count": 233,
     "metadata": {},
     "output_type": "execute_result"
    }
   ],
   "source": [
    "features"
   ]
  },
  {
   "cell_type": "code",
   "execution_count": 234,
   "metadata": {},
   "outputs": [],
   "source": [
    "labels = true_w[0] * features[:,0] + true_w[1] * features[:,1] + true_b"
   ]
  },
  {
   "cell_type": "code",
   "execution_count": 236,
   "metadata": {},
   "outputs": [
    {
     "data": {
      "text/plain": [
       "torch.Size([1000])"
      ]
     },
     "execution_count": 236,
     "metadata": {},
     "output_type": "execute_result"
    }
   ],
   "source": [
    "labels.shape"
   ]
  },
  {
   "cell_type": "code",
   "execution_count": 237,
   "metadata": {},
   "outputs": [
    {
     "data": {
      "text/plain": [
       "torch.Size([1000])"
      ]
     },
     "execution_count": 237,
     "metadata": {},
     "output_type": "execute_result"
    }
   ],
   "source": [
    "labels.size()"
   ]
  },
  {
   "cell_type": "code",
   "execution_count": 238,
   "metadata": {},
   "outputs": [],
   "source": [
    "labels += torch.tensor(np.random.normal(0,0.01,size=labels.size()),dtype=torch.float32)"
   ]
  },
  {
   "cell_type": "code",
   "execution_count": 239,
   "metadata": {
    "collapsed": true
   },
   "outputs": [
    {
     "data": {
      "text/plain": [
       "tensor([ 3.8928,  3.2644,  7.8991,  3.7897,  6.7244,  2.7179,  8.9103,  4.1548,\n",
       "         3.6820,  0.1884,  4.9139,  6.3130,  8.4086,  1.7055, -1.7703,  5.7587,\n",
       "         3.2462,  6.8706,  3.5039,  2.4164, 13.6838, -2.6070, -3.4203,  5.7284,\n",
       "        11.2216,  0.5555,  4.1927,  5.9103,  4.1201,  2.9054, -2.6687,  6.5300,\n",
       "        -3.3912,  2.4833,  5.3816,  6.9253,  2.3425,  5.1237,  5.7498, -4.1793,\n",
       "        10.7793,  0.7495, -2.2293,  3.1815,  6.5810,  5.4912, -1.7662,  4.3309,\n",
       "         7.0045,  7.1244, -0.0366,  2.1052,  8.1386,  7.1965,  7.2891,  9.7359,\n",
       "         2.7948, 12.0449,  6.3835,  3.0806,  6.0670,  4.8028,  2.6301, -0.4319,\n",
       "         2.4351,  7.1461,  8.6958,  7.9386,  3.2282,  6.1553, 10.1932,  5.5438,\n",
       "         5.9377,  1.8964, -1.6534,  1.6802,  8.9063,  9.8287,  4.1300,  3.8037,\n",
       "         7.3531,  5.7481,  2.2589,  5.6907,  4.9018, 11.2578,  5.2296, -2.5270,\n",
       "         1.3032,  9.0893,  4.8252,  4.2852,  7.0011,  0.3448, -0.2996,  4.4705,\n",
       "         1.5652,  1.3944, -3.1253,  6.2404, 10.2854,  9.6025,  4.2957,  2.9309,\n",
       "         1.2820,  0.1677,  5.1732,  4.7592,  5.1982,  3.4416,  5.9864, 12.6704,\n",
       "         8.5417,  4.7259, 10.5555,  1.5168, -2.7244,  4.6921,  4.9036, -2.3850,\n",
       "         2.2911, -1.7796,  8.9494, -6.8823,  2.6813,  1.5204, 11.4727,  2.1634,\n",
       "        12.4851,  4.5196, -4.0199,  2.6682,  1.4765,  1.2103,  1.8461,  9.8764,\n",
       "         6.2350,  5.0677,  6.4404, -1.1829,  0.5914, -0.5281, -0.0662,  4.9381,\n",
       "         7.3372,  0.5174,  9.2821, -3.1469,  4.7005,  4.7245, 10.0477,  6.1539,\n",
       "        -5.8007,  0.8107,  4.1271,  0.8236, -1.1338,  9.8316,  4.2489,  8.0427,\n",
       "        -0.5483,  3.4676,  5.8426,  0.2865,  3.8283, 13.4466,  6.5227, -4.3060,\n",
       "        10.7515,  4.4333,  4.2133,  6.2958, -0.6383,  6.4449,  5.0916,  2.0815,\n",
       "         9.7738,  0.1271,  2.7711,  0.0364,  0.5136,  4.5038,  6.8522,  9.8617,\n",
       "        -3.4590,  3.5569,  4.9610, 10.5934,  0.0339,  8.4584,  6.2533,  0.3667,\n",
       "         8.6376,  5.1778,  6.4107,  0.2543,  7.9589,  1.3648,  8.0113, -0.4664,\n",
       "        -3.7880,  0.5129,  2.1439,  4.1551,  4.1533, 11.2493,  1.8601,  6.8926,\n",
       "         3.2718,  1.3114,  2.9844,  7.7747,  8.9602,  3.1091, -0.4089,  9.1976,\n",
       "         4.1286,  0.5767, -3.3219, 10.9523,  5.3252,  2.9471,  9.6499,  7.6437,\n",
       "         2.7995, 11.9969,  6.4080,  4.1898,  0.3253,  0.5964,  7.2791, -1.6640,\n",
       "        10.2078,  9.9972,  5.5362,  1.7806,  3.4821,  2.3349,  6.4449, 10.6067,\n",
       "         0.7163,  1.4182,  6.7313,  2.3239, 10.3570,  0.9486, -0.2340,  1.6586,\n",
       "         2.1757,  0.0933,  8.7242,  8.7000, -3.0681,  0.1818,  4.2861,  4.7001,\n",
       "         2.8456,  2.9868, -3.7034, 10.9583,  4.8507,  5.3486, -2.7730, -1.8967,\n",
       "        -0.9006,  4.6331,  5.2223,  4.8666,  5.5673,  3.4684,  3.7706,  4.7822,\n",
       "         2.9440,  6.5665, 13.6544,  9.5011,  7.0047,  2.5768,  5.3122,  0.8262,\n",
       "         1.7643,  1.7646,  5.7766,  7.9274,  2.4483,  0.6064,  1.7658,  2.0549,\n",
       "        13.3479,  1.4999,  3.5422,  7.2360,  1.6571,  6.7133,  7.0752,  3.6164,\n",
       "        -1.9282,  3.8021, -1.6735, -3.0021,  6.7146,  4.9525, -0.8139,  6.1400,\n",
       "         1.6808,  6.4526,  6.0442,  2.0211, -3.4545, 10.7054,  0.8566,  4.2549,\n",
       "         4.8828, 12.7585,  5.5386,  3.3021,  0.9489,  2.0570,  0.1769,  6.5013,\n",
       "         3.3680,  7.2496,  4.1397,  5.2106,  7.3097,  3.3131,  1.7209,  6.9321,\n",
       "         3.9484,  1.7215,  1.2600,  3.9433, -3.8317,  8.7382, 14.0711, 12.5165,\n",
       "         4.9605,  4.1410,  3.0148,  7.9918,  2.4202, -0.7167,  6.3803,  8.9647,\n",
       "         4.7426,  1.9990,  9.9947, -4.4928,  4.5280,  3.5232, 12.6206,  1.8349,\n",
       "         9.4549,  2.7408,  3.5423,  6.3556, -2.1051,  6.5403,  0.6869,  3.2297,\n",
       "         3.2517,  5.7650,  4.2570,  1.7539,  8.3509,  3.9224, 10.1100,  1.9566,\n",
       "        12.9189,  4.7043,  4.7383, -2.9065,  1.5882,  4.4458,  2.0612,  1.4714,\n",
       "         0.9193,  3.6698, -3.7488,  3.9318,  2.2200,  6.5280,  6.9563,  4.6083,\n",
       "        -0.1327,  0.7354,  0.1204,  2.7079,  0.4228,  6.5977,  3.9806,  5.5017,\n",
       "         4.3736,  3.3680,  8.9929,  7.6583,  3.6508,  0.9777,  2.3390,  5.4544,\n",
       "         8.0654,  6.7142, -4.3836,  7.4003,  6.1880,  8.0139, 10.8914, -0.4645,\n",
       "         6.9682,  5.0052, 13.4763,  1.8454, -0.0500,  2.9954,  6.8700,  6.7910,\n",
       "         1.2900, -1.0008,  1.4837,  6.7854, -5.5927,  1.3767,  7.8844,  7.2235,\n",
       "         7.6031,  1.0362,  4.8528, -1.4429,  2.8523,  8.7420,  2.4889,  3.7957,\n",
       "        15.9024,  3.6818, -0.6718, 14.3335,  1.9700,  5.1517,  8.9834,  7.4679,\n",
       "        10.3897,  3.2707,  6.0120,  3.0643, 14.8329,  7.4554,  2.6599, -3.9823,\n",
       "         9.2125,  6.2566,  3.4992,  3.3475,  2.2928,  4.7139, 11.9635,  6.3112,\n",
       "        -2.2602,  5.9715,  1.8303,  5.6712, -0.2521,  5.0180,  3.0243,  0.1596,\n",
       "         1.3754,  2.3701,  0.8029,  5.9416, 12.3336,  9.5635,  0.9145,  2.6440,\n",
       "        13.4354,  3.0391,  8.4106,  3.4402,  6.1011,  6.5365,  2.9871,  4.6212,\n",
       "         5.5594,  9.2537,  2.3974,  3.3429,  4.4555,  9.4501, -0.6387,  3.3593,\n",
       "         5.6725,  4.4593,  5.8863,  4.6887,  0.4468,  2.7284,  4.4500, 10.9669,\n",
       "         8.1506, -0.5231, 12.2861,  3.2916,  2.7792,  3.7476,  4.0084,  2.0227,\n",
       "         7.7825,  5.8436,  4.4703,  8.7147,  9.4367,  1.3679,  9.0570,  7.8742,\n",
       "         7.5897, 10.0867,  0.1553,  1.7954,  3.7076,  2.0300,  3.6276, 15.5324,\n",
       "         4.7701,  9.2873,  4.5945,  2.0374,  4.8294,  6.9112, -1.0717,  5.0053,\n",
       "         5.1342, -0.2045, 10.4854,  3.4114, 13.9737,  0.5841,  5.0977,  0.6037,\n",
       "         4.0170,  3.0559,  5.9663,  1.6521, -2.9103,  9.0801, -6.6637,  7.0855,\n",
       "         3.4847,  8.7602,  1.6353,  6.0817,  7.9850, -1.0121,  0.8160,  7.0649,\n",
       "         5.2251,  5.6869,  6.6178,  5.2790,  2.0288,  4.7788,  3.2595,  3.9010,\n",
       "         2.1349,  8.1071,  8.8901,  2.7674, -1.9117,  9.1472,  6.3554, -1.3428,\n",
       "         4.8836,  8.2339,  5.8542,  9.0300,  7.6088,  5.2881,  4.8746,  8.6838,\n",
       "         1.4315, -0.8228,  0.0643, -2.0493,  4.9514,  5.6597,  1.1491,  5.8737,\n",
       "         3.4733,  0.4465,  2.2666,  1.7208,  5.6096,  5.4395,  8.0735,  4.0834,\n",
       "         7.9963,  1.9848,  3.0273,  2.3998,  5.1777,  2.9250,  0.8905,  6.5854,\n",
       "         0.9415,  5.5947,  5.6093,  5.3813,  3.5142,  3.1209,  3.0231, -4.5983,\n",
       "         1.2325,  5.7095,  1.2161,  7.5721,  2.7468,  2.8144, -1.5764,  3.4070,\n",
       "         5.0395,  4.0823,  3.2174, -0.1685,  3.5098,  2.3373,  9.8635,  4.2759,\n",
       "         5.5318, -0.5028,  7.7355,  3.5562,  7.0580,  3.9027,  1.1657,  4.8282,\n",
       "         5.0095, -1.9167, 10.5625,  9.8351,  7.1003,  7.0210,  6.7504, -0.3936,\n",
       "         2.8526,  2.5541,  5.0080,  1.5406,  5.6582,  3.5990,  8.9041, 12.1812,\n",
       "         6.1913,  3.0839,  5.3691, -2.5126,  0.2086, 11.1622, 11.9078,  2.2044,\n",
       "         5.8530,  5.7232, -4.2598,  4.8228,  1.9849,  3.2452, -3.1884,  5.7037,\n",
       "         6.1777,  1.7366, -2.2502,  4.6460,  8.0098, -1.0815,  9.8453,  0.9244,\n",
       "         3.3075,  1.5420, -2.3181,  9.1060,  6.4321,  8.2259,  1.7422,  5.3720,\n",
       "        11.2492,  7.9780, 13.2494,  4.0702,  2.2109,  1.0369,  6.3806,  3.3261,\n",
       "         0.9704, -1.9518,  7.4450,  8.3543,  2.2331,  9.1738,  9.9293,  6.8046,\n",
       "        -0.5617,  6.0501,  6.2578,  3.6765,  3.5884,  5.3686,  8.3997,  9.3546,\n",
       "         5.9343,  5.1919,  6.7636,  0.4740, -1.4180,  6.0182,  4.4899,  9.6658,\n",
       "         6.4639, 11.5037, -2.6644,  2.1787,  3.8718,  6.6058,  2.8160,  5.3039,\n",
       "         0.2389, -1.4438,  2.6818, -0.2722,  4.5855,  9.3949,  6.3162,  3.9630,\n",
       "         4.1025,  6.1587,  5.5578,  1.9782, -1.5877,  7.6677,  6.2980,  4.6243,\n",
       "         1.4857,  4.7550,  6.5279,  4.6844,  1.3085,  1.2876,  7.2878,  0.6920,\n",
       "         8.6517,  3.6090, 10.2052,  6.3905,  5.9043,  3.0105, 10.5262,  8.0990,\n",
       "         1.5378,  9.9948, -0.8451,  8.8051,  2.5239,  3.1271,  1.8521,  5.9719,\n",
       "         8.1632,  5.3070,  1.6868,  6.8204,  8.1459,  5.4337,  7.7323,  4.1548,\n",
       "         5.6213,  6.0264,  0.7253,  0.6842,  2.9260, 11.0147, -1.9031,  2.6078,\n",
       "         1.4616,  6.7619,  2.3494, -1.2178,  8.7131,  4.9083,  2.8764,  7.7386,\n",
       "        -2.6233,  8.4066,  7.9939,  1.9261,  5.8516,  6.8972,  3.3110,  3.8416,\n",
       "        11.3707,  3.8307,  5.7877,  8.5130,  4.9981, -0.3868,  4.3502,  2.2704,\n",
       "         2.7221,  9.1756,  6.0495, 11.4858,  8.9366,  5.7132,  6.0149,  7.0610,\n",
       "         1.3197,  5.6401,  0.1219, -0.5046,  4.7155,  9.2701,  5.1435,  9.3459,\n",
       "         1.1209,  0.1037,  9.8838,  9.4574,  5.5848,  2.0548,  3.7728,  5.6675,\n",
       "         3.5175,  6.3397,  2.1028, -4.6467, -2.0014,  3.2839, -3.4694, -1.9153,\n",
       "        10.1594,  7.2476, -1.1071,  3.4832, -1.6862,  4.1069,  9.6844,  2.1948,\n",
       "        -0.6221,  3.0775, 11.2616,  0.6593,  3.7580,  4.8753,  3.6555,  4.9563,\n",
       "        10.0813,  1.1969,  1.6427,  4.1295,  2.0668, -3.6914,  3.0763,  2.9914,\n",
       "         8.3963, 14.1822,  4.4373,  6.9332,  2.3786,  5.0500,  6.9806,  1.1298,\n",
       "         1.4499,  7.9255,  2.7706,  5.6585,  5.7852,  5.1639,  6.2493, -4.6313,\n",
       "         6.8695,  4.5671,  6.4908,  4.2555,  2.0742,  4.0495, -0.7133,  3.8665,\n",
       "         2.1558,  0.7213,  5.1616, -3.9773,  3.7518,  3.9079,  5.3325, -1.7144,\n",
       "         0.5121,  7.8938,  4.4781,  1.4029,  7.8703, -2.5572,  0.2063,  4.2228,\n",
       "         5.7824,  7.0892,  2.3767,  0.7604,  1.6912,  3.0250,  2.8302,  4.7024,\n",
       "        -0.2373, -2.3769,  5.4958,  1.9616,  2.5987,  9.3293,  5.4061,  2.0047,\n",
       "         3.3414,  5.8320, -1.8962,  4.5737,  8.2119,  2.4716,  6.1998,  1.5968,\n",
       "        -1.7318,  3.6798,  2.5364,  3.0912,  2.8228,  3.8473,  8.0719, 10.3215,\n",
       "         3.7460,  3.8519,  2.5469,  3.8461,  7.8084,  1.2652,  4.7385,  8.8392,\n",
       "         3.5978,  6.2064, -0.0195,  1.4847,  9.0864, -0.5270,  4.5902,  9.3259,\n",
       "         0.0527,  6.6690,  9.1866,  9.1380,  3.3720,  5.4677,  5.6643,  0.8305,\n",
       "         2.7745,  4.5845,  0.5057,  6.1183, -0.1505,  5.3764,  5.1789,  2.2712,\n",
       "         7.3588, -0.4741,  3.8462,  7.1365,  1.9915,  0.9698,  8.2011,  3.5412,\n",
       "         8.5225,  1.4732,  3.8302,  3.8611,  7.4172,  6.3762, -0.1242, -3.1071,\n",
       "        10.1436, -1.0926,  9.0469, -2.9444,  4.1635,  6.5633, 13.8274,  2.1936,\n",
       "         2.1519,  0.1710,  9.7970, -1.3076,  2.1858,  5.0954,  5.4520,  8.7146,\n",
       "         8.3478,  6.3306,  2.7121,  3.0208,  6.3239, -1.2754, -1.0454,  5.4828])"
      ]
     },
     "execution_count": 239,
     "metadata": {},
     "output_type": "execute_result"
    }
   ],
   "source": [
    "labels"
   ]
  },
  {
   "cell_type": "code",
   "execution_count": 240,
   "metadata": {},
   "outputs": [
    {
     "data": {
      "text/plain": [
       "tensor([-0.7740, -0.3611])"
      ]
     },
     "execution_count": 240,
     "metadata": {},
     "output_type": "execute_result"
    }
   ],
   "source": [
    "features[0]"
   ]
  },
  {
   "cell_type": "code",
   "execution_count": 241,
   "metadata": {},
   "outputs": [
    {
     "data": {
      "text/plain": [
       "tensor(3.8928)"
      ]
     },
     "execution_count": 241,
     "metadata": {},
     "output_type": "execute_result"
    }
   ],
   "source": [
    "labels[0]"
   ]
  },
  {
   "cell_type": "code",
   "execution_count": 247,
   "metadata": {},
   "outputs": [
    {
     "data": {
      "text/plain": [
       "tensor([[ 0.3573,  0.4827],\n",
       "        [-0.3865, -1.3188],\n",
       "        [-0.3744, -0.9644],\n",
       "        [-0.8857, -0.0803],\n",
       "        [ 1.2485, -0.6487]])"
      ]
     },
     "execution_count": 247,
     "metadata": {},
     "output_type": "execute_result"
    }
   ],
   "source": [
    "features.index_select(0,torch.LongTensor([1,2,4,5,6]))"
   ]
  },
  {
   "cell_type": "code",
   "execution_count": 242,
   "metadata": {},
   "outputs": [],
   "source": [
    "# 生成 features[:,1] 和标签 labels 的散点图。观察两者的线性关系"
   ]
  },
  {
   "cell_type": "code",
   "execution_count": 243,
   "metadata": {},
   "outputs": [],
   "source": [
    "def use_svg_display():\n",
    "    # 用矢量图显示\n",
    "    display.set_matplotlib_formats('svg')\n",
    "def set_figsize(figsize=(3.5,2.5)):\n",
    "    use_svg_display()\n",
    "    # 设置图的尺寸\n",
    "    plt.rcParams['figure.figsize'] = figsize"
   ]
  },
  {
   "cell_type": "code",
   "execution_count": 244,
   "metadata": {},
   "outputs": [],
   "source": [
    "set_figsize()"
   ]
  },
  {
   "cell_type": "code",
   "execution_count": 245,
   "metadata": {},
   "outputs": [
    {
     "data": {
      "text/plain": [
       "<matplotlib.collections.PathCollection at 0x7f8b6c6bf810>"
      ]
     },
     "execution_count": 245,
     "metadata": {},
     "output_type": "execute_result"
    },
    {
     "data": {
      "image/svg+xml": [
       "<?xml version=\"1.0\" encoding=\"utf-8\" standalone=\"no\"?>\n",
       "<!DOCTYPE svg PUBLIC \"-//W3C//DTD SVG 1.1//EN\"\n",
       "  \"http://www.w3.org/Graphics/SVG/1.1/DTD/svg11.dtd\">\n",
       "<svg xmlns:xlink=\"http://www.w3.org/1999/xlink\" width=\"231.442187pt\" height=\"166.978125pt\" viewBox=\"0 0 231.442187 166.978125\" xmlns=\"http://www.w3.org/2000/svg\" version=\"1.1\">\n",
       " <metadata>\n",
       "  <rdf:RDF xmlns:dc=\"http://purl.org/dc/elements/1.1/\" xmlns:cc=\"http://creativecommons.org/ns#\" xmlns:rdf=\"http://www.w3.org/1999/02/22-rdf-syntax-ns#\">\n",
       "   <cc:Work>\n",
       "    <dc:type rdf:resource=\"http://purl.org/dc/dcmitype/StillImage\"/>\n",
       "    <dc:date>2022-10-12T11:31:02.087841</dc:date>\n",
       "    <dc:format>image/svg+xml</dc:format>\n",
       "    <dc:creator>\n",
       "     <cc:Agent>\n",
       "      <dc:title>Matplotlib v3.5.1, https://matplotlib.org/</dc:title>\n",
       "     </cc:Agent>\n",
       "    </dc:creator>\n",
       "   </cc:Work>\n",
       "  </rdf:RDF>\n",
       " </metadata>\n",
       " <defs>\n",
       "  <style type=\"text/css\">*{stroke-linejoin: round; stroke-linecap: butt}</style>\n",
       " </defs>\n",
       " <g id=\"figure_1\">\n",
       "  <g id=\"patch_1\">\n",
       "   <path d=\"M 0 166.978125 \n",
       "L 231.442187 166.978125 \n",
       "L 231.442187 0 \n",
       "L 0 0 \n",
       "L 0 166.978125 \n",
       "z\n",
       "\" style=\"fill: none\"/>\n",
       "  </g>\n",
       "  <g id=\"axes_1\">\n",
       "   <g id=\"patch_2\">\n",
       "    <path d=\"M 28.942188 143.1 \n",
       "L 224.242188 143.1 \n",
       "L 224.242188 7.2 \n",
       "L 28.942188 7.2 \n",
       "z\n",
       "\" style=\"fill: #ffffff\"/>\n",
       "   </g>\n",
       "   <g id=\"PathCollection_1\">\n",
       "    <defs>\n",
       "     <path id=\"mde9751aa6a\" d=\"M 0 0.5 \n",
       "C 0.132602 0.5 0.25979 0.447317 0.353553 0.353553 \n",
       "C 0.447317 0.25979 0.5 0.132602 0.5 0 \n",
       "C 0.5 -0.132602 0.447317 -0.25979 0.353553 -0.353553 \n",
       "C 0.25979 -0.447317 0.132602 -0.5 0 -0.5 \n",
       "C -0.132602 -0.5 -0.25979 -0.447317 -0.353553 -0.353553 \n",
       "C -0.447317 -0.25979 -0.5 -0.132602 -0.5 0 \n",
       "C -0.5 0.132602 -0.447317 0.25979 -0.353553 0.353553 \n",
       "C -0.25979 0.447317 -0.132602 0.5 0 0.5 \n",
       "z\n",
       "\" style=\"stroke: #1f77b4\"/>\n",
       "    </defs>\n",
       "    <g clip-path=\"url(#p438e3ad410)\">\n",
       "     <use xlink:href=\"#mde9751aa6a\" x=\"125.731697\" y=\"78.496901\" style=\"fill: #1f77b4; stroke: #1f77b4\"/>\n",
       "     <use xlink:href=\"#mde9751aa6a\" x=\"149.968684\" y=\"81.904702\" style=\"fill: #1f77b4; stroke: #1f77b4\"/>\n",
       "     <use xlink:href=\"#mde9751aa6a\" x=\"98.226445\" y=\"56.77352\" style=\"fill: #1f77b4; stroke: #1f77b4\"/>\n",
       "     <use xlink:href=\"#mde9751aa6a\" x=\"151.432047\" y=\"79.056038\" style=\"fill: #1f77b4; stroke: #1f77b4\"/>\n",
       "     <use xlink:href=\"#mde9751aa6a\" x=\"108.404324\" y=\"63.143138\" style=\"fill: #1f77b4; stroke: #1f77b4\"/>\n",
       "     <use xlink:href=\"#mde9751aa6a\" x=\"133.796774\" y=\"84.867826\" style=\"fill: #1f77b4; stroke: #1f77b4\"/>\n",
       "     <use xlink:href=\"#mde9751aa6a\" x=\"117.472579\" y=\"51.290861\" style=\"fill: #1f77b4; stroke: #1f77b4\"/>\n",
       "     <use xlink:href=\"#mde9751aa6a\" x=\"148.945926\" y=\"77.076567\" style=\"fill: #1f77b4; stroke: #1f77b4\"/>\n",
       "     <use xlink:href=\"#mde9751aa6a\" x=\"109.774177\" y=\"79.64029\" style=\"fill: #1f77b4; stroke: #1f77b4\"/>\n",
       "     <use xlink:href=\"#mde9751aa6a\" x=\"173.370988\" y=\"98.583323\" style=\"fill: #1f77b4; stroke: #1f77b4\"/>\n",
       "     <use xlink:href=\"#mde9751aa6a\" x=\"126.82238\" y=\"72.960131\" style=\"fill: #1f77b4; stroke: #1f77b4\"/>\n",
       "     <use xlink:href=\"#mde9751aa6a\" x=\"122.023179\" y=\"65.373903\" style=\"fill: #1f77b4; stroke: #1f77b4\"/>\n",
       "     <use xlink:href=\"#mde9751aa6a\" x=\"116.151002\" y=\"54.011311\" style=\"fill: #1f77b4; stroke: #1f77b4\"/>\n",
       "     <use xlink:href=\"#mde9751aa6a\" x=\"140.462561\" y=\"90.35705\" style=\"fill: #1f77b4; stroke: #1f77b4\"/>\n",
       "     <use xlink:href=\"#mde9751aa6a\" x=\"197.603467\" y=\"109.204003\" style=\"fill: #1f77b4; stroke: #1f77b4\"/>\n",
       "     <use xlink:href=\"#mde9751aa6a\" x=\"130.099987\" y=\"68.379619\" style=\"fill: #1f77b4; stroke: #1f77b4\"/>\n",
       "     <use xlink:href=\"#mde9751aa6a\" x=\"168.429249\" y=\"82.003382\" style=\"fill: #1f77b4; stroke: #1f77b4\"/>\n",
       "     <use xlink:href=\"#mde9751aa6a\" x=\"145.695219\" y=\"62.350726\" style=\"fill: #1f77b4; stroke: #1f77b4\"/>\n",
       "     <use xlink:href=\"#mde9751aa6a\" x=\"167.879068\" y=\"80.605638\" style=\"fill: #1f77b4; stroke: #1f77b4\"/>\n",
       "     <use xlink:href=\"#mde9751aa6a\" x=\"111.006033\" y=\"86.502561\" style=\"fill: #1f77b4; stroke: #1f77b4\"/>\n",
       "     <use xlink:href=\"#mde9751aa6a\" x=\"70.80271\" y=\"25.407503\" style=\"fill: #1f77b4; stroke: #1f77b4\"/>\n",
       "     <use xlink:href=\"#mde9751aa6a\" x=\"154.709926\" y=\"113.740748\" style=\"fill: #1f77b4; stroke: #1f77b4\"/>\n",
       "     <use xlink:href=\"#mde9751aa6a\" x=\"159.425123\" y=\"118.150672\" style=\"fill: #1f77b4; stroke: #1f77b4\"/>\n",
       "     <use xlink:href=\"#mde9751aa6a\" x=\"109.890533\" y=\"68.543998\" style=\"fill: #1f77b4; stroke: #1f77b4\"/>\n",
       "     <use xlink:href=\"#mde9751aa6a\" x=\"63.115032\" y=\"38.758268\" style=\"fill: #1f77b4; stroke: #1f77b4\"/>\n",
       "     <use xlink:href=\"#mde9751aa6a\" x=\"136.1676\" y=\"96.592897\" style=\"fill: #1f77b4; stroke: #1f77b4\"/>\n",
       "     <use xlink:href=\"#mde9751aa6a\" x=\"141.804209\" y=\"76.871049\" style=\"fill: #1f77b4; stroke: #1f77b4\"/>\n",
       "     <use xlink:href=\"#mde9751aa6a\" x=\"127.423575\" y=\"67.557786\" style=\"fill: #1f77b4; stroke: #1f77b4\"/>\n",
       "     <use xlink:href=\"#mde9751aa6a\" x=\"155.111808\" y=\"77.264516\" style=\"fill: #1f77b4; stroke: #1f77b4\"/>\n",
       "     <use xlink:href=\"#mde9751aa6a\" x=\"139.019366\" y=\"83.850785\" style=\"fill: #1f77b4; stroke: #1f77b4\"/>\n",
       "     <use xlink:href=\"#mde9751aa6a\" x=\"169.722297\" y=\"114.075653\" style=\"fill: #1f77b4; stroke: #1f77b4\"/>\n",
       "     <use xlink:href=\"#mde9751aa6a\" x=\"116.262253\" y=\"64.197128\" style=\"fill: #1f77b4; stroke: #1f77b4\"/>\n",
       "     <use xlink:href=\"#mde9751aa6a\" x=\"171.706219\" y=\"117.993162\" style=\"fill: #1f77b4; stroke: #1f77b4\"/>\n",
       "     <use xlink:href=\"#mde9751aa6a\" x=\"146.088565\" y=\"86.139908\" style=\"fill: #1f77b4; stroke: #1f77b4\"/>\n",
       "     <use xlink:href=\"#mde9751aa6a\" x=\"136.476256\" y=\"70.424121\" style=\"fill: #1f77b4; stroke: #1f77b4\"/>\n",
       "     <use xlink:href=\"#mde9751aa6a\" x=\"128.49255\" y=\"62.053801\" style=\"fill: #1f77b4; stroke: #1f77b4\"/>\n",
       "     <use xlink:href=\"#mde9751aa6a\" x=\"126.353541\" y=\"86.903399\" style=\"fill: #1f77b4; stroke: #1f77b4\"/>\n",
       "     <use xlink:href=\"#mde9751aa6a\" x=\"166.795494\" y=\"71.82285\" style=\"fill: #1f77b4; stroke: #1f77b4\"/>\n",
       "     <use xlink:href=\"#mde9751aa6a\" x=\"140.142519\" y=\"68.427866\" style=\"fill: #1f77b4; stroke: #1f77b4\"/>\n",
       "     <use xlink:href=\"#mde9751aa6a\" x=\"194.861078\" y=\"122.26659\" style=\"fill: #1f77b4; stroke: #1f77b4\"/>\n",
       "     <use xlink:href=\"#mde9751aa6a\" x=\"108.911386\" y=\"41.156651\" style=\"fill: #1f77b4; stroke: #1f77b4\"/>\n",
       "     <use xlink:href=\"#mde9751aa6a\" x=\"131.64276\" y=\"95.541232\" style=\"fill: #1f77b4; stroke: #1f77b4\"/>\n",
       "     <use xlink:href=\"#mde9751aa6a\" x=\"156.997105\" y=\"111.693097\" style=\"fill: #1f77b4; stroke: #1f77b4\"/>\n",
       "     <use xlink:href=\"#mde9751aa6a\" x=\"142.991843\" y=\"82.353848\" style=\"fill: #1f77b4; stroke: #1f77b4\"/>\n",
       "     <use xlink:href=\"#mde9751aa6a\" x=\"136.637191\" y=\"63.920665\" style=\"fill: #1f77b4; stroke: #1f77b4\"/>\n",
       "     <use xlink:href=\"#mde9751aa6a\" x=\"105.788395\" y=\"69.83007\" style=\"fill: #1f77b4; stroke: #1f77b4\"/>\n",
       "     <use xlink:href=\"#mde9751aa6a\" x=\"157.054825\" y=\"109.181805\" style=\"fill: #1f77b4; stroke: #1f77b4\"/>\n",
       "     <use xlink:href=\"#mde9751aa6a\" x=\"133.063765\" y=\"76.121824\" style=\"fill: #1f77b4; stroke: #1f77b4\"/>\n",
       "     <use xlink:href=\"#mde9751aa6a\" x=\"101.991904\" y=\"61.624558\" style=\"fill: #1f77b4; stroke: #1f77b4\"/>\n",
       "     <use xlink:href=\"#mde9751aa6a\" x=\"122.017274\" y=\"60.974424\" style=\"fill: #1f77b4; stroke: #1f77b4\"/>\n",
       "     <use xlink:href=\"#mde9751aa6a\" x=\"178.292344\" y=\"99.803174\" style=\"fill: #1f77b4; stroke: #1f77b4\"/>\n",
       "     <use xlink:href=\"#mde9751aa6a\" x=\"157.808681\" y=\"88.189782\" style=\"fill: #1f77b4; stroke: #1f77b4\"/>\n",
       "     <use xlink:href=\"#mde9751aa6a\" x=\"115.040703\" y=\"55.474997\" style=\"fill: #1f77b4; stroke: #1f77b4\"/>\n",
       "     <use xlink:href=\"#mde9751aa6a\" x=\"124.073069\" y=\"60.583387\" style=\"fill: #1f77b4; stroke: #1f77b4\"/>\n",
       "     <use xlink:href=\"#mde9751aa6a\" x=\"95.354983\" y=\"60.081382\" style=\"fill: #1f77b4; stroke: #1f77b4\"/>\n",
       "     <use xlink:href=\"#mde9751aa6a\" x=\"106.1052\" y=\"46.813885\" style=\"fill: #1f77b4; stroke: #1f77b4\"/>\n",
       "     <use xlink:href=\"#mde9751aa6a\" x=\"147.255803\" y=\"84.450732\" style=\"fill: #1f77b4; stroke: #1f77b4\"/>\n",
       "     <use xlink:href=\"#mde9751aa6a\" x=\"89.872883\" y=\"34.294018\" style=\"fill: #1f77b4; stroke: #1f77b4\"/>\n",
       "     <use xlink:href=\"#mde9751aa6a\" x=\"114.803648\" y=\"64.991926\" style=\"fill: #1f77b4; stroke: #1f77b4\"/>\n",
       "     <use xlink:href=\"#mde9751aa6a\" x=\"133.148668\" y=\"82.900867\" style=\"fill: #1f77b4; stroke: #1f77b4\"/>\n",
       "     <use xlink:href=\"#mde9751aa6a\" x=\"127.336829\" y=\"66.707884\" style=\"fill: #1f77b4; stroke: #1f77b4\"/>\n",
       "     <use xlink:href=\"#mde9751aa6a\" x=\"124.358805\" y=\"73.562554\" style=\"fill: #1f77b4; stroke: #1f77b4\"/>\n",
       "     <use xlink:href=\"#mde9751aa6a\" x=\"159.962894\" y=\"85.343966\" style=\"fill: #1f77b4; stroke: #1f77b4\"/>\n",
       "     <use xlink:href=\"#mde9751aa6a\" x=\"146.215113\" y=\"101.946877\" style=\"fill: #1f77b4; stroke: #1f77b4\"/>\n",
       "     <use xlink:href=\"#mde9751aa6a\" x=\"159.506134\" y=\"86.401158\" style=\"fill: #1f77b4; stroke: #1f77b4\"/>\n",
       "     <use xlink:href=\"#mde9751aa6a\" x=\"112.764418\" y=\"60.856735\" style=\"fill: #1f77b4; stroke: #1f77b4\"/>\n",
       "     <use xlink:href=\"#mde9751aa6a\" x=\"116.644225\" y=\"52.453774\" style=\"fill: #1f77b4; stroke: #1f77b4\"/>\n",
       "     <use xlink:href=\"#mde9751aa6a\" x=\"80.89463\" y=\"56.559713\" style=\"fill: #1f77b4; stroke: #1f77b4\"/>\n",
       "     <use xlink:href=\"#mde9751aa6a\" x=\"135.731878\" y=\"82.100643\" style=\"fill: #1f77b4; stroke: #1f77b4\"/>\n",
       "     <use xlink:href=\"#mde9751aa6a\" x=\"123.817838\" y=\"66.229169\" style=\"fill: #1f77b4; stroke: #1f77b4\"/>\n",
       "     <use xlink:href=\"#mde9751aa6a\" x=\"96.003909\" y=\"44.334237\" style=\"fill: #1f77b4; stroke: #1f77b4\"/>\n",
       "     <use xlink:href=\"#mde9751aa6a\" x=\"121.094485\" y=\"69.544713\" style=\"fill: #1f77b4; stroke: #1f77b4\"/>\n",
       "     <use xlink:href=\"#mde9751aa6a\" x=\"121.438988\" y=\"67.408825\" style=\"fill: #1f77b4; stroke: #1f77b4\"/>\n",
       "     <use xlink:href=\"#mde9751aa6a\" x=\"130.631708\" y=\"89.322353\" style=\"fill: #1f77b4; stroke: #1f77b4\"/>\n",
       "     <use xlink:href=\"#mde9751aa6a\" x=\"147.509426\" y=\"108.570081\" style=\"fill: #1f77b4; stroke: #1f77b4\"/>\n",
       "     <use xlink:href=\"#mde9751aa6a\" x=\"136.408354\" y=\"90.494279\" style=\"fill: #1f77b4; stroke: #1f77b4\"/>\n",
       "     <use xlink:href=\"#mde9751aa6a\" x=\"90.763785\" y=\"51.312564\" style=\"fill: #1f77b4; stroke: #1f77b4\"/>\n",
       "     <use xlink:href=\"#mde9751aa6a\" x=\"95.477014\" y=\"46.310607\" style=\"fill: #1f77b4; stroke: #1f77b4\"/>\n",
       "     <use xlink:href=\"#mde9751aa6a\" x=\"117.111628\" y=\"77.210873\" style=\"fill: #1f77b4; stroke: #1f77b4\"/>\n",
       "     <use xlink:href=\"#mde9751aa6a\" x=\"153.12453\" y=\"78.979932\" style=\"fill: #1f77b4; stroke: #1f77b4\"/>\n",
       "     <use xlink:href=\"#mde9751aa6a\" x=\"104.765854\" y=\"59.734445\" style=\"fill: #1f77b4; stroke: #1f77b4\"/>\n",
       "     <use xlink:href=\"#mde9751aa6a\" x=\"141.124055\" y=\"68.437179\" style=\"fill: #1f77b4; stroke: #1f77b4\"/>\n",
       "     <use xlink:href=\"#mde9751aa6a\" x=\"158.229929\" y=\"87.356542\" style=\"fill: #1f77b4; stroke: #1f77b4\"/>\n",
       "     <use xlink:href=\"#mde9751aa6a\" x=\"135.609279\" y=\"68.748071\" style=\"fill: #1f77b4; stroke: #1f77b4\"/>\n",
       "     <use xlink:href=\"#mde9751aa6a\" x=\"159.436973\" y=\"73.025959\" style=\"fill: #1f77b4; stroke: #1f77b4\"/>\n",
       "     <use xlink:href=\"#mde9751aa6a\" x=\"105.987535\" y=\"38.562087\" style=\"fill: #1f77b4; stroke: #1f77b4\"/>\n",
       "     <use xlink:href=\"#mde9751aa6a\" x=\"111.732003\" y=\"71.24871\" style=\"fill: #1f77b4; stroke: #1f77b4\"/>\n",
       "     <use xlink:href=\"#mde9751aa6a\" x=\"203.642085\" y=\"113.307052\" style=\"fill: #1f77b4; stroke: #1f77b4\"/>\n",
       "     <use xlink:href=\"#mde9751aa6a\" x=\"178.128419\" y=\"92.538884\" style=\"fill: #1f77b4; stroke: #1f77b4\"/>\n",
       "     <use xlink:href=\"#mde9751aa6a\" x=\"105.729671\" y=\"50.320007\" style=\"fill: #1f77b4; stroke: #1f77b4\"/>\n",
       "     <use xlink:href=\"#mde9751aa6a\" x=\"130.694426\" y=\"73.441566\" style=\"fill: #1f77b4; stroke: #1f77b4\"/>\n",
       "     <use xlink:href=\"#mde9751aa6a\" x=\"127.465698\" y=\"76.369367\" style=\"fill: #1f77b4; stroke: #1f77b4\"/>\n",
       "     <use xlink:href=\"#mde9751aa6a\" x=\"102.617811\" y=\"61.643094\" style=\"fill: #1f77b4; stroke: #1f77b4\"/>\n",
       "     <use xlink:href=\"#mde9751aa6a\" x=\"172.57061\" y=\"97.735497\" style=\"fill: #1f77b4; stroke: #1f77b4\"/>\n",
       "     <use xlink:href=\"#mde9751aa6a\" x=\"168.682274\" y=\"101.229318\" style=\"fill: #1f77b4; stroke: #1f77b4\"/>\n",
       "     <use xlink:href=\"#mde9751aa6a\" x=\"115.459427\" y=\"75.36459\" style=\"fill: #1f77b4; stroke: #1f77b4\"/>\n",
       "     <use xlink:href=\"#mde9751aa6a\" x=\"170.530162\" y=\"91.11801\" style=\"fill: #1f77b4; stroke: #1f77b4\"/>\n",
       "     <use xlink:href=\"#mde9751aa6a\" x=\"148.371306\" y=\"92.044244\" style=\"fill: #1f77b4; stroke: #1f77b4\"/>\n",
       "     <use xlink:href=\"#mde9751aa6a\" x=\"172.412488\" y=\"116.551474\" style=\"fill: #1f77b4; stroke: #1f77b4\"/>\n",
       "     <use xlink:href=\"#mde9751aa6a\" x=\"111.931453\" y=\"65.767804\" style=\"fill: #1f77b4; stroke: #1f77b4\"/>\n",
       "     <use xlink:href=\"#mde9751aa6a\" x=\"96.636054\" y=\"43.83473\" style=\"fill: #1f77b4; stroke: #1f77b4\"/>\n",
       "     <use xlink:href=\"#mde9751aa6a\" x=\"105.267734\" y=\"47.537405\" style=\"fill: #1f77b4; stroke: #1f77b4\"/>\n",
       "     <use xlink:href=\"#mde9751aa6a\" x=\"141.115745\" y=\"76.312578\" style=\"fill: #1f77b4; stroke: #1f77b4\"/>\n",
       "     <use xlink:href=\"#mde9751aa6a\" x=\"163.73276\" y=\"83.712857\" style=\"fill: #1f77b4; stroke: #1f77b4\"/>\n",
       "     <use xlink:href=\"#mde9751aa6a\" x=\"144.117395\" y=\"92.653477\" style=\"fill: #1f77b4; stroke: #1f77b4\"/>\n",
       "     <use xlink:href=\"#mde9751aa6a\" x=\"172.695503\" y=\"98.695881\" style=\"fill: #1f77b4; stroke: #1f77b4\"/>\n",
       "     <use xlink:href=\"#mde9751aa6a\" x=\"121.546351\" y=\"71.554454\" style=\"fill: #1f77b4; stroke: #1f77b4\"/>\n",
       "     <use xlink:href=\"#mde9751aa6a\" x=\"119.699373\" y=\"73.799171\" style=\"fill: #1f77b4; stroke: #1f77b4\"/>\n",
       "     <use xlink:href=\"#mde9751aa6a\" x=\"137.619511\" y=\"71.418873\" style=\"fill: #1f77b4; stroke: #1f77b4\"/>\n",
       "     <use xlink:href=\"#mde9751aa6a\" x=\"144.274452\" y=\"80.943594\" style=\"fill: #1f77b4; stroke: #1f77b4\"/>\n",
       "     <use xlink:href=\"#mde9751aa6a\" x=\"143.939962\" y=\"67.144791\" style=\"fill: #1f77b4; stroke: #1f77b4\"/>\n",
       "     <use xlink:href=\"#mde9751aa6a\" x=\"94.871951\" y=\"30.902379\" style=\"fill: #1f77b4; stroke: #1f77b4\"/>\n",
       "     <use xlink:href=\"#mde9751aa6a\" x=\"132.233899\" y=\"53.289445\" style=\"fill: #1f77b4; stroke: #1f77b4\"/>\n",
       "     <use xlink:href=\"#mde9751aa6a\" x=\"124.998093\" y=\"73.979516\" style=\"fill: #1f77b4; stroke: #1f77b4\"/>\n",
       "     <use xlink:href=\"#mde9751aa6a\" x=\"103.262611\" y=\"42.370108\" style=\"fill: #1f77b4; stroke: #1f77b4\"/>\n",
       "     <use xlink:href=\"#mde9751aa6a\" x=\"154.552679\" y=\"91.380281\" style=\"fill: #1f77b4; stroke: #1f77b4\"/>\n",
       "     <use xlink:href=\"#mde9751aa6a\" x=\"164.421017\" y=\"114.377216\" style=\"fill: #1f77b4; stroke: #1f77b4\"/>\n",
       "     <use xlink:href=\"#mde9751aa6a\" x=\"129.124264\" y=\"74.163165\" style=\"fill: #1f77b4; stroke: #1f77b4\"/>\n",
       "     <use xlink:href=\"#mde9751aa6a\" x=\"122.695489\" y=\"73.015963\" style=\"fill: #1f77b4; stroke: #1f77b4\"/>\n",
       "     <use xlink:href=\"#mde9751aa6a\" x=\"190.153078\" y=\"112.536923\" style=\"fill: #1f77b4; stroke: #1f77b4\"/>\n",
       "     <use xlink:href=\"#mde9751aa6a\" x=\"179.71301\" y=\"87.182202\" style=\"fill: #1f77b4; stroke: #1f77b4\"/>\n",
       "     <use xlink:href=\"#mde9751aa6a\" x=\"183.387877\" y=\"109.25435\" style=\"fill: #1f77b4; stroke: #1f77b4\"/>\n",
       "     <use xlink:href=\"#mde9751aa6a\" x=\"111.026113\" y=\"51.078556\" style=\"fill: #1f77b4; stroke: #1f77b4\"/>\n",
       "     <use xlink:href=\"#mde9751aa6a\" x=\"200.056126\" y=\"136.922727\" style=\"fill: #1f77b4; stroke: #1f77b4\"/>\n",
       "     <use xlink:href=\"#mde9751aa6a\" x=\"150.581273\" y=\"85.065937\" style=\"fill: #1f77b4; stroke: #1f77b4\"/>\n",
       "     <use xlink:href=\"#mde9751aa6a\" x=\"143.98588\" y=\"91.360797\" style=\"fill: #1f77b4; stroke: #1f77b4\"/>\n",
       "     <use xlink:href=\"#mde9751aa6a\" x=\"94.78015\" y=\"37.396799\" style=\"fill: #1f77b4; stroke: #1f77b4\"/>\n",
       "     <use xlink:href=\"#mde9751aa6a\" x=\"128.853029\" y=\"87.874645\" style=\"fill: #1f77b4; stroke: #1f77b4\"/>\n",
       "     <use xlink:href=\"#mde9751aa6a\" x=\"100.263178\" y=\"31.90729\" style=\"fill: #1f77b4; stroke: #1f77b4\"/>\n",
       "     <use xlink:href=\"#mde9751aa6a\" x=\"136.118074\" y=\"75.098374\" style=\"fill: #1f77b4; stroke: #1f77b4\"/>\n",
       "     <use xlink:href=\"#mde9751aa6a\" x=\"194.77872\" y=\"121.401989\" style=\"fill: #1f77b4; stroke: #1f77b4\"/>\n",
       "     <use xlink:href=\"#mde9751aa6a\" x=\"146.941511\" y=\"85.136965\" style=\"fill: #1f77b4; stroke: #1f77b4\"/>\n",
       "     <use xlink:href=\"#mde9751aa6a\" x=\"154.418904\" y=\"91.59897\" style=\"fill: #1f77b4; stroke: #1f77b4\"/>\n",
       "     <use xlink:href=\"#mde9751aa6a\" x=\"161.449612\" y=\"93.042435\" style=\"fill: #1f77b4; stroke: #1f77b4\"/>\n",
       "     <use xlink:href=\"#mde9751aa6a\" x=\"151.088855\" y=\"89.59484\" style=\"fill: #1f77b4; stroke: #1f77b4\"/>\n",
       "     <use xlink:href=\"#mde9751aa6a\" x=\"125.559609\" y=\"46.052249\" style=\"fill: #1f77b4; stroke: #1f77b4\"/>\n",
       "     <use xlink:href=\"#mde9751aa6a\" x=\"109.817312\" y=\"65.796971\" style=\"fill: #1f77b4; stroke: #1f77b4\"/>\n",
       "     <use xlink:href=\"#mde9751aa6a\" x=\"125.492394\" y=\"72.126334\" style=\"fill: #1f77b4; stroke: #1f77b4\"/>\n",
       "     <use xlink:href=\"#mde9751aa6a\" x=\"132.79843\" y=\"64.683366\" style=\"fill: #1f77b4; stroke: #1f77b4\"/>\n",
       "     <use xlink:href=\"#mde9751aa6a\" x=\"175.869753\" y=\"106.019276\" style=\"fill: #1f77b4; stroke: #1f77b4\"/>\n",
       "     <use xlink:href=\"#mde9751aa6a\" x=\"160.757405\" y=\"96.398297\" style=\"fill: #1f77b4; stroke: #1f77b4\"/>\n",
       "     <use xlink:href=\"#mde9751aa6a\" x=\"151.212134\" y=\"102.468335\" style=\"fill: #1f77b4; stroke: #1f77b4\"/>\n",
       "     <use xlink:href=\"#mde9751aa6a\" x=\"182.078867\" y=\"99.963918\" style=\"fill: #1f77b4; stroke: #1f77b4\"/>\n",
       "     <use xlink:href=\"#mde9751aa6a\" x=\"142.392578\" y=\"72.829359\" style=\"fill: #1f77b4; stroke: #1f77b4\"/>\n",
       "     <use xlink:href=\"#mde9751aa6a\" x=\"79.912105\" y=\"59.820678\" style=\"fill: #1f77b4; stroke: #1f77b4\"/>\n",
       "     <use xlink:href=\"#mde9751aa6a\" x=\"159.082786\" y=\"96.799483\" style=\"fill: #1f77b4; stroke: #1f77b4\"/>\n",
       "     <use xlink:href=\"#mde9751aa6a\" x=\"110.364353\" y=\"49.274808\" style=\"fill: #1f77b4; stroke: #1f77b4\"/>\n",
       "     <use xlink:href=\"#mde9751aa6a\" x=\"190.515356\" y=\"116.668342\" style=\"fill: #1f77b4; stroke: #1f77b4\"/>\n",
       "     <use xlink:href=\"#mde9751aa6a\" x=\"125.976325\" y=\"74.117532\" style=\"fill: #1f77b4; stroke: #1f77b4\"/>\n",
       "     <use xlink:href=\"#mde9751aa6a\" x=\"150.402648\" y=\"73.987445\" style=\"fill: #1f77b4; stroke: #1f77b4\"/>\n",
       "     <use xlink:href=\"#mde9751aa6a\" x=\"66.781383\" y=\"45.12312\" style=\"fill: #1f77b4; stroke: #1f77b4\"/>\n",
       "     <use xlink:href=\"#mde9751aa6a\" x=\"123.61456\" y=\"66.236662\" style=\"fill: #1f77b4; stroke: #1f77b4\"/>\n",
       "     <use xlink:href=\"#mde9751aa6a\" x=\"180.77775\" y=\"131.058233\" style=\"fill: #1f77b4; stroke: #1f77b4\"/>\n",
       "     <use xlink:href=\"#mde9751aa6a\" x=\"140.363519\" y=\"95.209269\" style=\"fill: #1f77b4; stroke: #1f77b4\"/>\n",
       "     <use xlink:href=\"#mde9751aa6a\" x=\"126.887849\" y=\"77.226852\" style=\"fill: #1f77b4; stroke: #1f77b4\"/>\n",
       "     <use xlink:href=\"#mde9751aa6a\" x=\"149.933891\" y=\"95.139393\" style=\"fill: #1f77b4; stroke: #1f77b4\"/>\n",
       "     <use xlink:href=\"#mde9751aa6a\" x=\"198.122179\" y=\"105.753036\" style=\"fill: #1f77b4; stroke: #1f77b4\"/>\n",
       "     <use xlink:href=\"#mde9751aa6a\" x=\"103.573414\" y=\"46.295151\" style=\"fill: #1f77b4; stroke: #1f77b4\"/>\n",
       "     <use xlink:href=\"#mde9751aa6a\" x=\"120.550954\" y=\"76.566332\" style=\"fill: #1f77b4; stroke: #1f77b4\"/>\n",
       "     <use xlink:href=\"#mde9751aa6a\" x=\"94.349127\" y=\"55.995168\" style=\"fill: #1f77b4; stroke: #1f77b4\"/>\n",
       "     <use xlink:href=\"#mde9751aa6a\" x=\"171.769955\" y=\"102.57801\" style=\"fill: #1f77b4; stroke: #1f77b4\"/>\n",
       "     <use xlink:href=\"#mde9751aa6a\" x=\"117.175432\" y=\"80.802367\" style=\"fill: #1f77b4; stroke: #1f77b4\"/>\n",
       "     <use xlink:href=\"#mde9751aa6a\" x=\"130.422097\" y=\"67.924888\" style=\"fill: #1f77b4; stroke: #1f77b4\"/>\n",
       "     <use xlink:href=\"#mde9751aa6a\" x=\"173.532715\" y=\"98.051578\" style=\"fill: #1f77b4; stroke: #1f77b4\"/>\n",
       "     <use xlink:href=\"#mde9751aa6a\" x=\"120.886419\" y=\"78.846787\" style=\"fill: #1f77b4; stroke: #1f77b4\"/>\n",
       "     <use xlink:href=\"#mde9751aa6a\" x=\"60.254896\" y=\"26.693417\" style=\"fill: #1f77b4; stroke: #1f77b4\"/>\n",
       "     <use xlink:href=\"#mde9751aa6a\" x=\"137.686255\" y=\"64.236785\" style=\"fill: #1f77b4; stroke: #1f77b4\"/>\n",
       "     <use xlink:href=\"#mde9751aa6a\" x=\"182.324945\" y=\"122.953418\" style=\"fill: #1f77b4; stroke: #1f77b4\"/>\n",
       "     <use xlink:href=\"#mde9751aa6a\" x=\"108.479334\" y=\"41.307255\" style=\"fill: #1f77b4; stroke: #1f77b4\"/>\n",
       "     <use xlink:href=\"#mde9751aa6a\" x=\"163.463362\" y=\"75.566406\" style=\"fill: #1f77b4; stroke: #1f77b4\"/>\n",
       "     <use xlink:href=\"#mde9751aa6a\" x=\"129.739348\" y=\"76.759418\" style=\"fill: #1f77b4; stroke: #1f77b4\"/>\n",
       "     <use xlink:href=\"#mde9751aa6a\" x=\"116.058288\" y=\"65.467101\" style=\"fill: #1f77b4; stroke: #1f77b4\"/>\n",
       "     <use xlink:href=\"#mde9751aa6a\" x=\"148.485297\" y=\"103.066217\" style=\"fill: #1f77b4; stroke: #1f77b4\"/>\n",
       "     <use xlink:href=\"#mde9751aa6a\" x=\"113.442955\" y=\"64.659029\" style=\"fill: #1f77b4; stroke: #1f77b4\"/>\n",
       "     <use xlink:href=\"#mde9751aa6a\" x=\"150.63841\" y=\"71.996563\" style=\"fill: #1f77b4; stroke: #1f77b4\"/>\n",
       "     <use xlink:href=\"#mde9751aa6a\" x=\"130.33972\" y=\"88.318278\" style=\"fill: #1f77b4; stroke: #1f77b4\"/>\n",
       "     <use xlink:href=\"#mde9751aa6a\" x=\"121.125646\" y=\"46.608421\" style=\"fill: #1f77b4; stroke: #1f77b4\"/>\n",
       "     <use xlink:href=\"#mde9751aa6a\" x=\"137.328217\" y=\"98.915672\" style=\"fill: #1f77b4; stroke: #1f77b4\"/>\n",
       "     <use xlink:href=\"#mde9751aa6a\" x=\"163.049787\" y=\"84.579376\" style=\"fill: #1f77b4; stroke: #1f77b4\"/>\n",
       "     <use xlink:href=\"#mde9751aa6a\" x=\"157.69301\" y=\"99.40739\" style=\"fill: #1f77b4; stroke: #1f77b4\"/>\n",
       "     <use xlink:href=\"#mde9751aa6a\" x=\"154.142752\" y=\"96.82022\" style=\"fill: #1f77b4; stroke: #1f77b4\"/>\n",
       "     <use xlink:href=\"#mde9751aa6a\" x=\"154.646805\" y=\"75.184124\" style=\"fill: #1f77b4; stroke: #1f77b4\"/>\n",
       "     <use xlink:href=\"#mde9751aa6a\" x=\"78.589221\" y=\"62.450368\" style=\"fill: #1f77b4; stroke: #1f77b4\"/>\n",
       "     <use xlink:href=\"#mde9751aa6a\" x=\"93.073086\" y=\"46.132018\" style=\"fill: #1f77b4; stroke: #1f77b4\"/>\n",
       "     <use xlink:href=\"#mde9751aa6a\" x=\"182.942875\" y=\"118.360691\" style=\"fill: #1f77b4; stroke: #1f77b4\"/>\n",
       "     <use xlink:href=\"#mde9751aa6a\" x=\"164.220727\" y=\"80.318404\" style=\"fill: #1f77b4; stroke: #1f77b4\"/>\n",
       "     <use xlink:href=\"#mde9751aa6a\" x=\"127.031531\" y=\"72.704805\" style=\"fill: #1f77b4; stroke: #1f77b4\"/>\n",
       "     <use xlink:href=\"#mde9751aa6a\" x=\"85.488865\" y=\"42.164649\" style=\"fill: #1f77b4; stroke: #1f77b4\"/>\n",
       "     <use xlink:href=\"#mde9751aa6a\" x=\"167.327542\" y=\"99.421329\" style=\"fill: #1f77b4; stroke: #1f77b4\"/>\n",
       "     <use xlink:href=\"#mde9751aa6a\" x=\"116.90495\" y=\"53.741012\" style=\"fill: #1f77b4; stroke: #1f77b4\"/>\n",
       "     <use xlink:href=\"#mde9751aa6a\" x=\"128.563712\" y=\"65.697621\" style=\"fill: #1f77b4; stroke: #1f77b4\"/>\n",
       "     <use xlink:href=\"#mde9751aa6a\" x=\"156.867427\" y=\"97.616449\" style=\"fill: #1f77b4; stroke: #1f77b4\"/>\n",
       "     <use xlink:href=\"#mde9751aa6a\" x=\"99.011926\" y=\"52.769429\" style=\"fill: #1f77b4; stroke: #1f77b4\"/>\n",
       "     <use xlink:href=\"#mde9751aa6a\" x=\"134.039357\" y=\"71.52932\" style=\"fill: #1f77b4; stroke: #1f77b4\"/>\n",
       "     <use xlink:href=\"#mde9751aa6a\" x=\"129.625444\" y=\"64.844464\" style=\"fill: #1f77b4; stroke: #1f77b4\"/>\n",
       "     <use xlink:href=\"#mde9751aa6a\" x=\"129.453817\" y=\"98.225968\" style=\"fill: #1f77b4; stroke: #1f77b4\"/>\n",
       "     <use xlink:href=\"#mde9751aa6a\" x=\"128.283607\" y=\"56.449346\" style=\"fill: #1f77b4; stroke: #1f77b4\"/>\n",
       "     <use xlink:href=\"#mde9751aa6a\" x=\"160.307599\" y=\"92.20468\" style=\"fill: #1f77b4; stroke: #1f77b4\"/>\n",
       "     <use xlink:href=\"#mde9751aa6a\" x=\"123.996696\" y=\"56.165473\" style=\"fill: #1f77b4; stroke: #1f77b4\"/>\n",
       "     <use xlink:href=\"#mde9751aa6a\" x=\"159.64716\" y=\"102.133952\" style=\"fill: #1f77b4; stroke: #1f77b4\"/>\n",
       "     <use xlink:href=\"#mde9751aa6a\" x=\"191.339612\" y=\"120.144536\" style=\"fill: #1f77b4; stroke: #1f77b4\"/>\n",
       "     <use xlink:href=\"#mde9751aa6a\" x=\"167.047807\" y=\"96.823997\" style=\"fill: #1f77b4; stroke: #1f77b4\"/>\n",
       "     <use xlink:href=\"#mde9751aa6a\" x=\"141.760027\" y=\"87.979854\" style=\"fill: #1f77b4; stroke: #1f77b4\"/>\n",
       "     <use xlink:href=\"#mde9751aa6a\" x=\"117.668887\" y=\"77.074553\" style=\"fill: #1f77b4; stroke: #1f77b4\"/>\n",
       "     <use xlink:href=\"#mde9751aa6a\" x=\"108.531314\" y=\"77.08481\" style=\"fill: #1f77b4; stroke: #1f77b4\"/>\n",
       "     <use xlink:href=\"#mde9751aa6a\" x=\"89.860561\" y=\"38.608073\" style=\"fill: #1f77b4; stroke: #1f77b4\"/>\n",
       "     <use xlink:href=\"#mde9751aa6a\" x=\"134.364187\" y=\"89.519204\" style=\"fill: #1f77b4; stroke: #1f77b4\"/>\n",
       "     <use xlink:href=\"#mde9751aa6a\" x=\"110.857611\" y=\"62.231534\" style=\"fill: #1f77b4; stroke: #1f77b4\"/>\n",
       "     <use xlink:href=\"#mde9751aa6a\" x=\"132.144259\" y=\"81.864575\" style=\"fill: #1f77b4; stroke: #1f77b4\"/>\n",
       "     <use xlink:href=\"#mde9751aa6a\" x=\"149.948871\" y=\"92.493937\" style=\"fill: #1f77b4; stroke: #1f77b4\"/>\n",
       "     <use xlink:href=\"#mde9751aa6a\" x=\"159.549915\" y=\"83.42271\" style=\"fill: #1f77b4; stroke: #1f77b4\"/>\n",
       "     <use xlink:href=\"#mde9751aa6a\" x=\"105.400482\" y=\"57.448119\" style=\"fill: #1f77b4; stroke: #1f77b4\"/>\n",
       "     <use xlink:href=\"#mde9751aa6a\" x=\"129.30269\" y=\"51.020122\" style=\"fill: #1f77b4; stroke: #1f77b4\"/>\n",
       "     <use xlink:href=\"#mde9751aa6a\" x=\"148.996039\" y=\"82.746542\" style=\"fill: #1f77b4; stroke: #1f77b4\"/>\n",
       "     <use xlink:href=\"#mde9751aa6a\" x=\"196.528086\" y=\"101.822091\" style=\"fill: #1f77b4; stroke: #1f77b4\"/>\n",
       "     <use xlink:href=\"#mde9751aa6a\" x=\"102.270989\" y=\"49.732993\" style=\"fill: #1f77b4; stroke: #1f77b4\"/>\n",
       "     <use xlink:href=\"#mde9751aa6a\" x=\"149.923131\" y=\"77.21824\" style=\"fill: #1f77b4; stroke: #1f77b4\"/>\n",
       "     <use xlink:href=\"#mde9751aa6a\" x=\"142.389475\" y=\"96.478133\" style=\"fill: #1f77b4; stroke: #1f77b4\"/>\n",
       "     <use xlink:href=\"#mde9751aa6a\" x=\"185.311666\" y=\"117.617502\" style=\"fill: #1f77b4; stroke: #1f77b4\"/>\n",
       "     <use xlink:href=\"#mde9751aa6a\" x=\"80.194668\" y=\"40.218143\" style=\"fill: #1f77b4; stroke: #1f77b4\"/>\n",
       "     <use xlink:href=\"#mde9751aa6a\" x=\"129.513662\" y=\"70.730015\" style=\"fill: #1f77b4; stroke: #1f77b4\"/>\n",
       "     <use xlink:href=\"#mde9751aa6a\" x=\"145.350135\" y=\"83.624972\" style=\"fill: #1f77b4; stroke: #1f77b4\"/>\n",
       "     <use xlink:href=\"#mde9751aa6a\" x=\"111.864134\" y=\"47.280567\" style=\"fill: #1f77b4; stroke: #1f77b4\"/>\n",
       "     <use xlink:href=\"#mde9751aa6a\" x=\"124.721125\" y=\"58.158422\" style=\"fill: #1f77b4; stroke: #1f77b4\"/>\n",
       "     <use xlink:href=\"#mde9751aa6a\" x=\"143.751803\" y=\"84.425301\" style=\"fill: #1f77b4; stroke: #1f77b4\"/>\n",
       "     <use xlink:href=\"#mde9751aa6a\" x=\"90.271988\" y=\"34.554104\" style=\"fill: #1f77b4; stroke: #1f77b4\"/>\n",
       "     <use xlink:href=\"#mde9751aa6a\" x=\"125.47813\" y=\"64.858796\" style=\"fill: #1f77b4; stroke: #1f77b4\"/>\n",
       "     <use xlink:href=\"#mde9751aa6a\" x=\"132.531545\" y=\"76.886609\" style=\"fill: #1f77b4; stroke: #1f77b4\"/>\n",
       "     <use xlink:href=\"#mde9751aa6a\" x=\"161.2477\" y=\"97.841277\" style=\"fill: #1f77b4; stroke: #1f77b4\"/>\n",
       "     <use xlink:href=\"#mde9751aa6a\" x=\"151.614884\" y=\"96.370984\" style=\"fill: #1f77b4; stroke: #1f77b4\"/>\n",
       "     <use xlink:href=\"#mde9751aa6a\" x=\"128.950985\" y=\"60.135552\" style=\"fill: #1f77b4; stroke: #1f77b4\"/>\n",
       "     <use xlink:href=\"#mde9751aa6a\" x=\"133.17975\" y=\"108.627721\" style=\"fill: #1f77b4; stroke: #1f77b4\"/>\n",
       "     <use xlink:href=\"#mde9751aa6a\" x=\"99.589203\" y=\"44.255011\" style=\"fill: #1f77b4; stroke: #1f77b4\"/>\n",
       "     <use xlink:href=\"#mde9751aa6a\" x=\"105.269207\" y=\"45.397256\" style=\"fill: #1f77b4; stroke: #1f77b4\"/>\n",
       "     <use xlink:href=\"#mde9751aa6a\" x=\"147.354373\" y=\"69.586206\" style=\"fill: #1f77b4; stroke: #1f77b4\"/>\n",
       "     <use xlink:href=\"#mde9751aa6a\" x=\"172.420459\" y=\"89.949911\" style=\"fill: #1f77b4; stroke: #1f77b4\"/>\n",
       "     <use xlink:href=\"#mde9751aa6a\" x=\"110.249949\" y=\"80.724177\" style=\"fill: #1f77b4; stroke: #1f77b4\"/>\n",
       "     <use xlink:href=\"#mde9751aa6a\" x=\"169.996433\" y=\"86.94465\" style=\"fill: #1f77b4; stroke: #1f77b4\"/>\n",
       "     <use xlink:href=\"#mde9751aa6a\" x=\"140.803825\" y=\"64.658959\" style=\"fill: #1f77b4; stroke: #1f77b4\"/>\n",
       "     <use xlink:href=\"#mde9751aa6a\" x=\"113.629543\" y=\"42.092213\" style=\"fill: #1f77b4; stroke: #1f77b4\"/>\n",
       "     <use xlink:href=\"#mde9751aa6a\" x=\"147.443843\" y=\"95.721162\" style=\"fill: #1f77b4; stroke: #1f77b4\"/>\n",
       "     <use xlink:href=\"#mde9751aa6a\" x=\"160.679267\" y=\"91.914926\" style=\"fill: #1f77b4; stroke: #1f77b4\"/>\n",
       "     <use xlink:href=\"#mde9751aa6a\" x=\"150.564845\" y=\"63.105769\" style=\"fill: #1f77b4; stroke: #1f77b4\"/>\n",
       "     <use xlink:href=\"#mde9751aa6a\" x=\"138.622033\" y=\"87.004203\" style=\"fill: #1f77b4; stroke: #1f77b4\"/>\n",
       "     <use xlink:href=\"#mde9751aa6a\" x=\"123.174936\" y=\"43.446256\" style=\"fill: #1f77b4; stroke: #1f77b4\"/>\n",
       "     <use xlink:href=\"#mde9751aa6a\" x=\"174.11606\" y=\"94.461372\" style=\"fill: #1f77b4; stroke: #1f77b4\"/>\n",
       "     <use xlink:href=\"#mde9751aa6a\" x=\"149.967482\" y=\"100.873974\" style=\"fill: #1f77b4; stroke: #1f77b4\"/>\n",
       "     <use xlink:href=\"#mde9751aa6a\" x=\"160.813584\" y=\"90.611813\" style=\"fill: #1f77b4; stroke: #1f77b4\"/>\n",
       "     <use xlink:href=\"#mde9751aa6a\" x=\"152.821819\" y=\"87.807475\" style=\"fill: #1f77b4; stroke: #1f77b4\"/>\n",
       "     <use xlink:href=\"#mde9751aa6a\" x=\"178.220059\" y=\"99.099202\" style=\"fill: #1f77b4; stroke: #1f77b4\"/>\n",
       "     <use xlink:href=\"#mde9751aa6a\" x=\"121.711738\" y=\"52.299738\" style=\"fill: #1f77b4; stroke: #1f77b4\"/>\n",
       "     <use xlink:href=\"#mde9751aa6a\" x=\"112.885022\" y=\"52.430929\" style=\"fill: #1f77b4; stroke: #1f77b4\"/>\n",
       "     <use xlink:href=\"#mde9751aa6a\" x=\"197.432389\" y=\"116.241082\" style=\"fill: #1f77b4; stroke: #1f77b4\"/>\n",
       "     <use xlink:href=\"#mde9751aa6a\" x=\"177.809135\" y=\"98.619052\" style=\"fill: #1f77b4; stroke: #1f77b4\"/>\n",
       "     <use xlink:href=\"#mde9751aa6a\" x=\"120.696422\" y=\"76.364483\" style=\"fill: #1f77b4; stroke: #1f77b4\"/>\n",
       "     <use xlink:href=\"#mde9751aa6a\" x=\"136.73004\" y=\"74.119712\" style=\"fill: #1f77b4; stroke: #1f77b4\"/>\n",
       "     <use xlink:href=\"#mde9751aa6a\" x=\"155.452282\" y=\"84.175103\" style=\"fill: #1f77b4; stroke: #1f77b4\"/>\n",
       "     <use xlink:href=\"#mde9751aa6a\" x=\"132.657207\" y=\"83.409723\" style=\"fill: #1f77b4; stroke: #1f77b4\"/>\n",
       "     <use xlink:href=\"#mde9751aa6a\" x=\"188.969519\" y=\"119.685805\" style=\"fill: #1f77b4; stroke: #1f77b4\"/>\n",
       "     <use xlink:href=\"#mde9751aa6a\" x=\"94.168209\" y=\"40.185787\" style=\"fill: #1f77b4; stroke: #1f77b4\"/>\n",
       "     <use xlink:href=\"#mde9751aa6a\" x=\"113.953564\" y=\"73.302947\" style=\"fill: #1f77b4; stroke: #1f77b4\"/>\n",
       "     <use xlink:href=\"#mde9751aa6a\" x=\"125.296581\" y=\"70.603416\" style=\"fill: #1f77b4; stroke: #1f77b4\"/>\n",
       "     <use xlink:href=\"#mde9751aa6a\" x=\"199.800697\" y=\"114.640924\" style=\"fill: #1f77b4; stroke: #1f77b4\"/>\n",
       "     <use xlink:href=\"#mde9751aa6a\" x=\"205.08793\" y=\"109.88921\" style=\"fill: #1f77b4; stroke: #1f77b4\"/>\n",
       "     <use xlink:href=\"#mde9751aa6a\" x=\"152.207149\" y=\"104.488155\" style=\"fill: #1f77b4; stroke: #1f77b4\"/>\n",
       "     <use xlink:href=\"#mde9751aa6a\" x=\"101.321367\" y=\"74.483013\" style=\"fill: #1f77b4; stroke: #1f77b4\"/>\n",
       "     <use xlink:href=\"#mde9751aa6a\" x=\"131.708124\" y=\"71.28837\" style=\"fill: #1f77b4; stroke: #1f77b4\"/>\n",
       "     <use xlink:href=\"#mde9751aa6a\" x=\"119.752565\" y=\"73.216837\" style=\"fill: #1f77b4; stroke: #1f77b4\"/>\n",
       "     <use xlink:href=\"#mde9751aa6a\" x=\"131.300069\" y=\"69.417341\" style=\"fill: #1f77b4; stroke: #1f77b4\"/>\n",
       "     <use xlink:href=\"#mde9751aa6a\" x=\"136.111458\" y=\"80.798119\" style=\"fill: #1f77b4; stroke: #1f77b4\"/>\n",
       "     <use xlink:href=\"#mde9751aa6a\" x=\"147.523318\" y=\"79.159919\" style=\"fill: #1f77b4; stroke: #1f77b4\"/>\n",
       "     <use xlink:href=\"#mde9751aa6a\" x=\"144.196022\" y=\"73.674638\" style=\"fill: #1f77b4; stroke: #1f77b4\"/>\n",
       "     <use xlink:href=\"#mde9751aa6a\" x=\"136.763034\" y=\"83.64171\" style=\"fill: #1f77b4; stroke: #1f77b4\"/>\n",
       "     <use xlink:href=\"#mde9751aa6a\" x=\"121.609319\" y=\"63.999483\" style=\"fill: #1f77b4; stroke: #1f77b4\"/>\n",
       "     <use xlink:href=\"#mde9751aa6a\" x=\"89.922348\" y=\"25.567063\" style=\"fill: #1f77b4; stroke: #1f77b4\"/>\n",
       "     <use xlink:href=\"#mde9751aa6a\" x=\"125.550549\" y=\"48.08716\" style=\"fill: #1f77b4; stroke: #1f77b4\"/>\n",
       "     <use xlink:href=\"#mde9751aa6a\" x=\"120.530989\" y=\"61.623516\" style=\"fill: #1f77b4; stroke: #1f77b4\"/>\n",
       "     <use xlink:href=\"#mde9751aa6a\" x=\"157.027617\" y=\"85.632615\" style=\"fill: #1f77b4; stroke: #1f77b4\"/>\n",
       "     <use xlink:href=\"#mde9751aa6a\" x=\"129.486126\" y=\"70.800823\" style=\"fill: #1f77b4; stroke: #1f77b4\"/>\n",
       "     <use xlink:href=\"#mde9751aa6a\" x=\"157.418856\" y=\"95.124902\" style=\"fill: #1f77b4; stroke: #1f77b4\"/>\n",
       "     <use xlink:href=\"#mde9751aa6a\" x=\"161.936006\" y=\"90.0385\" style=\"fill: #1f77b4; stroke: #1f77b4\"/>\n",
       "     <use xlink:href=\"#mde9751aa6a\" x=\"158.174934\" y=\"90.036529\" style=\"fill: #1f77b4; stroke: #1f77b4\"/>\n",
       "     <use xlink:href=\"#mde9751aa6a\" x=\"129.873771\" y=\"68.282281\" style=\"fill: #1f77b4; stroke: #1f77b4\"/>\n",
       "     <use xlink:href=\"#mde9751aa6a\" x=\"121.463624\" y=\"56.620016\" style=\"fill: #1f77b4; stroke: #1f77b4\"/>\n",
       "     <use xlink:href=\"#mde9751aa6a\" x=\"145.669475\" y=\"86.329331\" style=\"fill: #1f77b4; stroke: #1f77b4\"/>\n",
       "     <use xlink:href=\"#mde9751aa6a\" x=\"153.563616\" y=\"96.31671\" style=\"fill: #1f77b4; stroke: #1f77b4\"/>\n",
       "     <use xlink:href=\"#mde9751aa6a\" x=\"154.93959\" y=\"90.030324\" style=\"fill: #1f77b4; stroke: #1f77b4\"/>\n",
       "     <use xlink:href=\"#mde9751aa6a\" x=\"150.62642\" y=\"88.462506\" style=\"fill: #1f77b4; stroke: #1f77b4\"/>\n",
       "     <use xlink:href=\"#mde9751aa6a\" x=\"68.323214\" y=\"27.228559\" style=\"fill: #1f77b4; stroke: #1f77b4\"/>\n",
       "     <use xlink:href=\"#mde9751aa6a\" x=\"156.095595\" y=\"91.47213\" style=\"fill: #1f77b4; stroke: #1f77b4\"/>\n",
       "     <use xlink:href=\"#mde9751aa6a\" x=\"124.209571\" y=\"80.3983\" style=\"fill: #1f77b4; stroke: #1f77b4\"/>\n",
       "     <use xlink:href=\"#mde9751aa6a\" x=\"109.516212\" y=\"60.369283\" style=\"fill: #1f77b4; stroke: #1f77b4\"/>\n",
       "     <use xlink:href=\"#mde9751aa6a\" x=\"153.051298\" y=\"90.619472\" style=\"fill: #1f77b4; stroke: #1f77b4\"/>\n",
       "     <use xlink:href=\"#mde9751aa6a\" x=\"125.069411\" y=\"63.203425\" style=\"fill: #1f77b4; stroke: #1f77b4\"/>\n",
       "     <use xlink:href=\"#mde9751aa6a\" x=\"143.819401\" y=\"61.241025\" style=\"fill: #1f77b4; stroke: #1f77b4\"/>\n",
       "     <use xlink:href=\"#mde9751aa6a\" x=\"114.575107\" y=\"79.995666\" style=\"fill: #1f77b4; stroke: #1f77b4\"/>\n",
       "     <use xlink:href=\"#mde9751aa6a\" x=\"198.204448\" y=\"110.06005\" style=\"fill: #1f77b4; stroke: #1f77b4\"/>\n",
       "     <use xlink:href=\"#mde9751aa6a\" x=\"150.597812\" y=\"78.988659\" style=\"fill: #1f77b4; stroke: #1f77b4\"/>\n",
       "     <use xlink:href=\"#mde9751aa6a\" x=\"179.415635\" y=\"108.679073\" style=\"fill: #1f77b4; stroke: #1f77b4\"/>\n",
       "     <use xlink:href=\"#mde9751aa6a\" x=\"204.65839\" y=\"115.883071\" style=\"fill: #1f77b4; stroke: #1f77b4\"/>\n",
       "     <use xlink:href=\"#mde9751aa6a\" x=\"135.280519\" y=\"63.196633\" style=\"fill: #1f77b4; stroke: #1f77b4\"/>\n",
       "     <use xlink:href=\"#mde9751aa6a\" x=\"144.002816\" y=\"72.751143\" style=\"fill: #1f77b4; stroke: #1f77b4\"/>\n",
       "     <use xlink:href=\"#mde9751aa6a\" x=\"194.961665\" y=\"104.018078\" style=\"fill: #1f77b4; stroke: #1f77b4\"/>\n",
       "     <use xlink:href=\"#mde9751aa6a\" x=\"108.133152\" y=\"66.311871\" style=\"fill: #1f77b4; stroke: #1f77b4\"/>\n",
       "     <use xlink:href=\"#mde9751aa6a\" x=\"157.490886\" y=\"90.491389\" style=\"fill: #1f77b4; stroke: #1f77b4\"/>\n",
       "     <use xlink:href=\"#mde9751aa6a\" x=\"108.42182\" y=\"64.617037\" style=\"fill: #1f77b4; stroke: #1f77b4\"/>\n",
       "     <use xlink:href=\"#mde9751aa6a\" x=\"122.674927\" y=\"66.831373\" style=\"fill: #1f77b4; stroke: #1f77b4\"/>\n",
       "     <use xlink:href=\"#mde9751aa6a\" x=\"161.605854\" y=\"88.645764\" style=\"fill: #1f77b4; stroke: #1f77b4\"/>\n",
       "     <use xlink:href=\"#mde9751aa6a\" x=\"193.583893\" y=\"118.336137\" style=\"fill: #1f77b4; stroke: #1f77b4\"/>\n",
       "     <use xlink:href=\"#mde9751aa6a\" x=\"96.503649\" y=\"41.55721\" style=\"fill: #1f77b4; stroke: #1f77b4\"/>\n",
       "     <use xlink:href=\"#mde9751aa6a\" x=\"136.291795\" y=\"94.960098\" style=\"fill: #1f77b4; stroke: #1f77b4\"/>\n",
       "     <use xlink:href=\"#mde9751aa6a\" x=\"154.044838\" y=\"76.533725\" style=\"fill: #1f77b4; stroke: #1f77b4\"/>\n",
       "     <use xlink:href=\"#mde9751aa6a\" x=\"122.710726\" y=\"73.12882\" style=\"fill: #1f77b4; stroke: #1f77b4\"/>\n",
       "     <use xlink:href=\"#mde9751aa6a\" x=\"94.534017\" y=\"30.424378\" style=\"fill: #1f77b4; stroke: #1f77b4\"/>\n",
       "     <use xlink:href=\"#mde9751aa6a\" x=\"90.353538\" y=\"69.572963\" style=\"fill: #1f77b4; stroke: #1f77b4\"/>\n",
       "     <use xlink:href=\"#mde9751aa6a\" x=\"128.12512\" y=\"81.700075\" style=\"fill: #1f77b4; stroke: #1f77b4\"/>\n",
       "     <use xlink:href=\"#mde9751aa6a\" x=\"178.920504\" y=\"94.459506\" style=\"fill: #1f77b4; stroke: #1f77b4\"/>\n",
       "     <use xlink:href=\"#mde9751aa6a\" x=\"140.322742\" y=\"88.451484\" style=\"fill: #1f77b4; stroke: #1f77b4\"/>\n",
       "     <use xlink:href=\"#mde9751aa6a\" x=\"145.864613\" y=\"98.645716\" style=\"fill: #1f77b4; stroke: #1f77b4\"/>\n",
       "     <use xlink:href=\"#mde9751aa6a\" x=\"131.780871\" y=\"64.353104\" style=\"fill: #1f77b4; stroke: #1f77b4\"/>\n",
       "     <use xlink:href=\"#mde9751aa6a\" x=\"151.736754\" y=\"81.342778\" style=\"fill: #1f77b4; stroke: #1f77b4\"/>\n",
       "     <use xlink:href=\"#mde9751aa6a\" x=\"145.053662\" y=\"60.295458\" style=\"fill: #1f77b4; stroke: #1f77b4\"/>\n",
       "     <use xlink:href=\"#mde9751aa6a\" x=\"122.992496\" y=\"77.158244\" style=\"fill: #1f77b4; stroke: #1f77b4\"/>\n",
       "     <use xlink:href=\"#mde9751aa6a\" x=\"152.393272\" y=\"71.351512\" style=\"fill: #1f77b4; stroke: #1f77b4\"/>\n",
       "     <use xlink:href=\"#mde9751aa6a\" x=\"130.309726\" y=\"59.969386\" style=\"fill: #1f77b4; stroke: #1f77b4\"/>\n",
       "     <use xlink:href=\"#mde9751aa6a\" x=\"123.50982\" y=\"81.64064\" style=\"fill: #1f77b4; stroke: #1f77b4\"/>\n",
       "     <use xlink:href=\"#mde9751aa6a\" x=\"144.626247\" y=\"90.273803\" style=\"fill: #1f77b4; stroke: #1f77b4\"/>\n",
       "     <use xlink:href=\"#mde9751aa6a\" x=\"132.833436\" y=\"62.016954\" style=\"fill: #1f77b4; stroke: #1f77b4\"/>\n",
       "     <use xlink:href=\"#mde9751aa6a\" x=\"131.904232\" y=\"78.195691\" style=\"fill: #1f77b4; stroke: #1f77b4\"/>\n",
       "     <use xlink:href=\"#mde9751aa6a\" x=\"150.836044\" y=\"90.270398\" style=\"fill: #1f77b4; stroke: #1f77b4\"/>\n",
       "     <use xlink:href=\"#mde9751aa6a\" x=\"141.367972\" y=\"92.772768\" style=\"fill: #1f77b4; stroke: #1f77b4\"/>\n",
       "     <use xlink:href=\"#mde9751aa6a\" x=\"129.382328\" y=\"78.223039\" style=\"fill: #1f77b4; stroke: #1f77b4\"/>\n",
       "     <use xlink:href=\"#mde9751aa6a\" x=\"179.477012\" y=\"120.381758\" style=\"fill: #1f77b4; stroke: #1f77b4\"/>\n",
       "     <use xlink:href=\"#mde9751aa6a\" x=\"97.017848\" y=\"52.223847\" style=\"fill: #1f77b4; stroke: #1f77b4\"/>\n",
       "     <use xlink:href=\"#mde9751aa6a\" x=\"70.421152\" y=\"23.307239\" style=\"fill: #1f77b4; stroke: #1f77b4\"/>\n",
       "     <use xlink:href=\"#mde9751aa6a\" x=\"77.877252\" y=\"31.736597\" style=\"fill: #1f77b4; stroke: #1f77b4\"/>\n",
       "     <use xlink:href=\"#mde9751aa6a\" x=\"111.384479\" y=\"72.707791\" style=\"fill: #1f77b4; stroke: #1f77b4\"/>\n",
       "     <use xlink:href=\"#mde9751aa6a\" x=\"161.985115\" y=\"77.151225\" style=\"fill: #1f77b4; stroke: #1f77b4\"/>\n",
       "     <use xlink:href=\"#mde9751aa6a\" x=\"139.325911\" y=\"83.258109\" style=\"fill: #1f77b4; stroke: #1f77b4\"/>\n",
       "     <use xlink:href=\"#mde9751aa6a\" x=\"121.640449\" y=\"56.271194\" style=\"fill: #1f77b4; stroke: #1f77b4\"/>\n",
       "     <use xlink:href=\"#mde9751aa6a\" x=\"170.672401\" y=\"86.482091\" style=\"fill: #1f77b4; stroke: #1f77b4\"/>\n",
       "     <use xlink:href=\"#mde9751aa6a\" x=\"152.605137\" y=\"103.491089\" style=\"fill: #1f77b4; stroke: #1f77b4\"/>\n",
       "     <use xlink:href=\"#mde9751aa6a\" x=\"128.358615\" y=\"65.009058\" style=\"fill: #1f77b4; stroke: #1f77b4\"/>\n",
       "     <use xlink:href=\"#mde9751aa6a\" x=\"112.12462\" y=\"50.995477\" style=\"fill: #1f77b4; stroke: #1f77b4\"/>\n",
       "     <use xlink:href=\"#mde9751aa6a\" x=\"149.368172\" y=\"73.889016\" style=\"fill: #1f77b4; stroke: #1f77b4\"/>\n",
       "     <use xlink:href=\"#mde9751aa6a\" x=\"162.557165\" y=\"88.765707\" style=\"fill: #1f77b4; stroke: #1f77b4\"/>\n",
       "     <use xlink:href=\"#mde9751aa6a\" x=\"109.495148\" y=\"45.410546\" style=\"fill: #1f77b4; stroke: #1f77b4\"/>\n",
       "     <use xlink:href=\"#mde9751aa6a\" x=\"196.718584\" y=\"123.966089\" style=\"fill: #1f77b4; stroke: #1f77b4\"/>\n",
       "     <use xlink:href=\"#mde9751aa6a\" x=\"125.347029\" y=\"75.052765\" style=\"fill: #1f77b4; stroke: #1f77b4\"/>\n",
       "     <use xlink:href=\"#mde9751aa6a\" x=\"142.864952\" y=\"80.501018\" style=\"fill: #1f77b4; stroke: #1f77b4\"/>\n",
       "     <use xlink:href=\"#mde9751aa6a\" x=\"90.460733\" y=\"31.172409\" style=\"fill: #1f77b4; stroke: #1f77b4\"/>\n",
       "     <use xlink:href=\"#mde9751aa6a\" x=\"154.564667\" y=\"89.655525\" style=\"fill: #1f77b4; stroke: #1f77b4\"/>\n",
       "     <use xlink:href=\"#mde9751aa6a\" x=\"108.26459\" y=\"48.337902\" style=\"fill: #1f77b4; stroke: #1f77b4\"/>\n",
       "     <use xlink:href=\"#mde9751aa6a\" x=\"141.795003\" y=\"84.74345\" style=\"fill: #1f77b4; stroke: #1f77b4\"/>\n",
       "     <use xlink:href=\"#mde9751aa6a\" x=\"138.624775\" y=\"80.397429\" style=\"fill: #1f77b4; stroke: #1f77b4\"/>\n",
       "     <use xlink:href=\"#mde9751aa6a\" x=\"126.312554\" y=\"65.142943\" style=\"fill: #1f77b4; stroke: #1f77b4\"/>\n",
       "     <use xlink:href=\"#mde9751aa6a\" x=\"146.537178\" y=\"111.019721\" style=\"fill: #1f77b4; stroke: #1f77b4\"/>\n",
       "     <use xlink:href=\"#mde9751aa6a\" x=\"120.23347\" y=\"64.141287\" style=\"fill: #1f77b4; stroke: #1f77b4\"/>\n",
       "     <use xlink:href=\"#mde9751aa6a\" x=\"148.591332\" y=\"95.880167\" style=\"fill: #1f77b4; stroke: #1f77b4\"/>\n",
       "     <use xlink:href=\"#mde9751aa6a\" x=\"140.28653\" y=\"82.092528\" style=\"fill: #1f77b4; stroke: #1f77b4\"/>\n",
       "     <use xlink:href=\"#mde9751aa6a\" x=\"130.075302\" y=\"81.973205\" style=\"fill: #1f77b4; stroke: #1f77b4\"/>\n",
       "     <use xlink:href=\"#mde9751aa6a\" x=\"120.581477\" y=\"68.345684\" style=\"fill: #1f77b4; stroke: #1f77b4\"/>\n",
       "     <use xlink:href=\"#mde9751aa6a\" x=\"130.705915\" y=\"76.522258\" style=\"fill: #1f77b4; stroke: #1f77b4\"/>\n",
       "     <use xlink:href=\"#mde9751aa6a\" x=\"153.752672\" y=\"90.094791\" style=\"fill: #1f77b4; stroke: #1f77b4\"/>\n",
       "     <use xlink:href=\"#mde9751aa6a\" x=\"97.708428\" y=\"54.323676\" style=\"fill: #1f77b4; stroke: #1f77b4\"/>\n",
       "     <use xlink:href=\"#mde9751aa6a\" x=\"133.876477\" y=\"78.336332\" style=\"fill: #1f77b4; stroke: #1f77b4\"/>\n",
       "     <use xlink:href=\"#mde9751aa6a\" x=\"86.223446\" y=\"44.785773\" style=\"fill: #1f77b4; stroke: #1f77b4\"/>\n",
       "     <use xlink:href=\"#mde9751aa6a\" x=\"151.857887\" y=\"88.995487\" style=\"fill: #1f77b4; stroke: #1f77b4\"/>\n",
       "     <use xlink:href=\"#mde9751aa6a\" x=\"53.148032\" y=\"29.554754\" style=\"fill: #1f77b4; stroke: #1f77b4\"/>\n",
       "     <use xlink:href=\"#mde9751aa6a\" x=\"147.022233\" y=\"74.097135\" style=\"fill: #1f77b4; stroke: #1f77b4\"/>\n",
       "     <use xlink:href=\"#mde9751aa6a\" x=\"145.235771\" y=\"73.912503\" style=\"fill: #1f77b4; stroke: #1f77b4\"/>\n",
       "     <use xlink:href=\"#mde9751aa6a\" x=\"169.408987\" y=\"115.364843\" style=\"fill: #1f77b4; stroke: #1f77b4\"/>\n",
       "     <use xlink:href=\"#mde9751aa6a\" x=\"127.895421\" y=\"90.993042\" style=\"fill: #1f77b4; stroke: #1f77b4\"/>\n",
       "     <use xlink:href=\"#mde9751aa6a\" x=\"128.319864\" y=\"75.498706\" style=\"fill: #1f77b4; stroke: #1f77b4\"/>\n",
       "     <use xlink:href=\"#mde9751aa6a\" x=\"143.704442\" y=\"88.428632\" style=\"fill: #1f77b4; stroke: #1f77b4\"/>\n",
       "     <use xlink:href=\"#mde9751aa6a\" x=\"124.480417\" y=\"91.626487\" style=\"fill: #1f77b4; stroke: #1f77b4\"/>\n",
       "     <use xlink:href=\"#mde9751aa6a\" x=\"163.641563\" y=\"94.620317\" style=\"fill: #1f77b4; stroke: #1f77b4\"/>\n",
       "     <use xlink:href=\"#mde9751aa6a\" x=\"149.715381\" y=\"79.706114\" style=\"fill: #1f77b4; stroke: #1f77b4\"/>\n",
       "     <use xlink:href=\"#mde9751aa6a\" x=\"163.173776\" y=\"119.932161\" style=\"fill: #1f77b4; stroke: #1f77b4\"/>\n",
       "     <use xlink:href=\"#mde9751aa6a\" x=\"134.341656\" y=\"78.285554\" style=\"fill: #1f77b4; stroke: #1f77b4\"/>\n",
       "     <use xlink:href=\"#mde9751aa6a\" x=\"134.668481\" y=\"87.567488\" style=\"fill: #1f77b4; stroke: #1f77b4\"/>\n",
       "     <use xlink:href=\"#mde9751aa6a\" x=\"122.092889\" y=\"64.208339\" style=\"fill: #1f77b4; stroke: #1f77b4\"/>\n",
       "     <use xlink:href=\"#mde9751aa6a\" x=\"112.821818\" y=\"61.885815\" style=\"fill: #1f77b4; stroke: #1f77b4\"/>\n",
       "     <use xlink:href=\"#mde9751aa6a\" x=\"146.371974\" y=\"74.617172\" style=\"fill: #1f77b4; stroke: #1f77b4\"/>\n",
       "     <use xlink:href=\"#mde9751aa6a\" x=\"177.981609\" y=\"100.324752\" style=\"fill: #1f77b4; stroke: #1f77b4\"/>\n",
       "     <use xlink:href=\"#mde9751aa6a\" x=\"142.887935\" y=\"95.617379\" style=\"fill: #1f77b4; stroke: #1f77b4\"/>\n",
       "     <use xlink:href=\"#mde9751aa6a\" x=\"160.020105\" y=\"98.952323\" style=\"fill: #1f77b4; stroke: #1f77b4\"/>\n",
       "     <use xlink:href=\"#mde9751aa6a\" x=\"137.484196\" y=\"84.922011\" style=\"fill: #1f77b4; stroke: #1f77b4\"/>\n",
       "     <use xlink:href=\"#mde9751aa6a\" x=\"151.111018\" y=\"97.312405\" style=\"fill: #1f77b4; stroke: #1f77b4\"/>\n",
       "     <use xlink:href=\"#mde9751aa6a\" x=\"112.212606\" y=\"63.830233\" style=\"fill: #1f77b4; stroke: #1f77b4\"/>\n",
       "     <use xlink:href=\"#mde9751aa6a\" x=\"134.236425\" y=\"78.020887\" style=\"fill: #1f77b4; stroke: #1f77b4\"/>\n",
       "     <use xlink:href=\"#mde9751aa6a\" x=\"116.56129\" y=\"69.773255\" style=\"fill: #1f77b4; stroke: #1f77b4\"/>\n",
       "     <use xlink:href=\"#mde9751aa6a\" x=\"148.906358\" y=\"75.890013\" style=\"fill: #1f77b4; stroke: #1f77b4\"/>\n",
       "     <use xlink:href=\"#mde9751aa6a\" x=\"151.681472\" y=\"81.34279\" style=\"fill: #1f77b4; stroke: #1f77b4\"/>\n",
       "     <use xlink:href=\"#mde9751aa6a\" x=\"121.813427\" y=\"50.842831\" style=\"fill: #1f77b4; stroke: #1f77b4\"/>\n",
       "     <use xlink:href=\"#mde9751aa6a\" x=\"113.316934\" y=\"58.079397\" style=\"fill: #1f77b4; stroke: #1f77b4\"/>\n",
       "     <use xlink:href=\"#mde9751aa6a\" x=\"149.082059\" y=\"79.809097\" style=\"fill: #1f77b4; stroke: #1f77b4\"/>\n",
       "     <use xlink:href=\"#mde9751aa6a\" x=\"145.629558\" y=\"94.303614\" style=\"fill: #1f77b4; stroke: #1f77b4\"/>\n",
       "     <use xlink:href=\"#mde9751aa6a\" x=\"127.808835\" y=\"86.922129\" style=\"fill: #1f77b4; stroke: #1f77b4\"/>\n",
       "     <use xlink:href=\"#mde9751aa6a\" x=\"113.377302\" y=\"70.029736\" style=\"fill: #1f77b4; stroke: #1f77b4\"/>\n",
       "     <use xlink:href=\"#mde9751aa6a\" x=\"120.35784\" y=\"55.872251\" style=\"fill: #1f77b4; stroke: #1f77b4\"/>\n",
       "     <use xlink:href=\"#mde9751aa6a\" x=\"111.09955\" y=\"63.1986\" style=\"fill: #1f77b4; stroke: #1f77b4\"/>\n",
       "     <use xlink:href=\"#mde9751aa6a\" x=\"199.829629\" y=\"123.374194\" style=\"fill: #1f77b4; stroke: #1f77b4\"/>\n",
       "     <use xlink:href=\"#mde9751aa6a\" x=\"112.945151\" y=\"59.478369\" style=\"fill: #1f77b4; stroke: #1f77b4\"/>\n",
       "     <use xlink:href=\"#mde9751aa6a\" x=\"113.360378\" y=\"66.051661\" style=\"fill: #1f77b4; stroke: #1f77b4\"/>\n",
       "     <use xlink:href=\"#mde9751aa6a\" x=\"121.948214\" y=\"56.151263\" style=\"fill: #1f77b4; stroke: #1f77b4\"/>\n",
       "     <use xlink:href=\"#mde9751aa6a\" x=\"81.476122\" y=\"40.548602\" style=\"fill: #1f77b4; stroke: #1f77b4\"/>\n",
       "     <use xlink:href=\"#mde9751aa6a\" x=\"180.814567\" y=\"102.123686\" style=\"fill: #1f77b4; stroke: #1f77b4\"/>\n",
       "     <use xlink:href=\"#mde9751aa6a\" x=\"140.024734\" y=\"61.821417\" style=\"fill: #1f77b4; stroke: #1f77b4\"/>\n",
       "     <use xlink:href=\"#mde9751aa6a\" x=\"155.718965\" y=\"72.465148\" style=\"fill: #1f77b4; stroke: #1f77b4\"/>\n",
       "     <use xlink:href=\"#mde9751aa6a\" x=\"54.578593\" y=\"26.532254\" style=\"fill: #1f77b4; stroke: #1f77b4\"/>\n",
       "     <use xlink:href=\"#mde9751aa6a\" x=\"134.896259\" y=\"89.598816\" style=\"fill: #1f77b4; stroke: #1f77b4\"/>\n",
       "     <use xlink:href=\"#mde9751aa6a\" x=\"133.548305\" y=\"99.875825\" style=\"fill: #1f77b4; stroke: #1f77b4\"/>\n",
       "     <use xlink:href=\"#mde9751aa6a\" x=\"152.529505\" y=\"83.363042\" style=\"fill: #1f77b4; stroke: #1f77b4\"/>\n",
       "     <use xlink:href=\"#mde9751aa6a\" x=\"124.197958\" y=\"62.353733\" style=\"fill: #1f77b4; stroke: #1f77b4\"/>\n",
       "     <use xlink:href=\"#mde9751aa6a\" x=\"99.347881\" y=\"62.78213\" style=\"fill: #1f77b4; stroke: #1f77b4\"/>\n",
       "     <use xlink:href=\"#mde9751aa6a\" x=\"141.712663\" y=\"92.610313\" style=\"fill: #1f77b4; stroke: #1f77b4\"/>\n",
       "     <use xlink:href=\"#mde9751aa6a\" x=\"172.550241\" y=\"105.031606\" style=\"fill: #1f77b4; stroke: #1f77b4\"/>\n",
       "     <use xlink:href=\"#mde9751aa6a\" x=\"139.17732\" y=\"91.559881\" style=\"fill: #1f77b4; stroke: #1f77b4\"/>\n",
       "     <use xlink:href=\"#mde9751aa6a\" x=\"105.757627\" y=\"62.812466\" style=\"fill: #1f77b4; stroke: #1f77b4\"/>\n",
       "     <use xlink:href=\"#mde9751aa6a\" x=\"184.91871\" y=\"129.930036\" style=\"fill: #1f77b4; stroke: #1f77b4\"/>\n",
       "     <use xlink:href=\"#mde9751aa6a\" x=\"149.894392\" y=\"92.139951\" style=\"fill: #1f77b4; stroke: #1f77b4\"/>\n",
       "     <use xlink:href=\"#mde9751aa6a\" x=\"121.974798\" y=\"56.853277\" style=\"fill: #1f77b4; stroke: #1f77b4\"/>\n",
       "     <use xlink:href=\"#mde9751aa6a\" x=\"116.457753\" y=\"60.437071\" style=\"fill: #1f77b4; stroke: #1f77b4\"/>\n",
       "     <use xlink:href=\"#mde9751aa6a\" x=\"107.383713\" y=\"58.378553\" style=\"fill: #1f77b4; stroke: #1f77b4\"/>\n",
       "     <use xlink:href=\"#mde9751aa6a\" x=\"153.904724\" y=\"93.98664\" style=\"fill: #1f77b4; stroke: #1f77b4\"/>\n",
       "     <use xlink:href=\"#mde9751aa6a\" x=\"134.315683\" y=\"73.291449\" style=\"fill: #1f77b4; stroke: #1f77b4\"/>\n",
       "     <use xlink:href=\"#mde9751aa6a\" x=\"183.110652\" y=\"107.428649\" style=\"fill: #1f77b4; stroke: #1f77b4\"/>\n",
       "     <use xlink:href=\"#mde9751aa6a\" x=\"148.177666\" y=\"84.138876\" style=\"fill: #1f77b4; stroke: #1f77b4\"/>\n",
       "     <use xlink:href=\"#mde9751aa6a\" x=\"91.376445\" y=\"52.203359\" style=\"fill: #1f77b4; stroke: #1f77b4\"/>\n",
       "     <use xlink:href=\"#mde9751aa6a\" x=\"137.605603\" y=\"86.109277\" style=\"fill: #1f77b4; stroke: #1f77b4\"/>\n",
       "     <use xlink:href=\"#mde9751aa6a\" x=\"137.685415\" y=\"79.023702\" style=\"fill: #1f77b4; stroke: #1f77b4\"/>\n",
       "     <use xlink:href=\"#mde9751aa6a\" x=\"56.624468\" y=\"13.377273\" style=\"fill: #1f77b4; stroke: #1f77b4\"/>\n",
       "     <use xlink:href=\"#mde9751aa6a\" x=\"119.953135\" y=\"79.641176\" style=\"fill: #1f77b4; stroke: #1f77b4\"/>\n",
       "     <use xlink:href=\"#mde9751aa6a\" x=\"163.889079\" y=\"103.247651\" style=\"fill: #1f77b4; stroke: #1f77b4\"/>\n",
       "     <use xlink:href=\"#mde9751aa6a\" x=\"70.698356\" y=\"21.884782\" style=\"fill: #1f77b4; stroke: #1f77b4\"/>\n",
       "     <use xlink:href=\"#mde9751aa6a\" x=\"159.142017\" y=\"88.923293\" style=\"fill: #1f77b4; stroke: #1f77b4\"/>\n",
       "     <use xlink:href=\"#mde9751aa6a\" x=\"87.210363\" y=\"71.670918\" style=\"fill: #1f77b4; stroke: #1f77b4\"/>\n",
       "     <use xlink:href=\"#mde9751aa6a\" x=\"87.858022\" y=\"50.89433\" style=\"fill: #1f77b4; stroke: #1f77b4\"/>\n",
       "     <use xlink:href=\"#mde9751aa6a\" x=\"115.97667\" y=\"59.111859\" style=\"fill: #1f77b4; stroke: #1f77b4\"/>\n",
       "     <use xlink:href=\"#mde9751aa6a\" x=\"90.95229\" y=\"43.269099\" style=\"fill: #1f77b4; stroke: #1f77b4\"/>\n",
       "     <use xlink:href=\"#mde9751aa6a\" x=\"175.437926\" y=\"81.870529\" style=\"fill: #1f77b4; stroke: #1f77b4\"/>\n",
       "     <use xlink:href=\"#mde9751aa6a\" x=\"140.660561\" y=\"67.006174\" style=\"fill: #1f77b4; stroke: #1f77b4\"/>\n",
       "     <use xlink:href=\"#mde9751aa6a\" x=\"163.09929\" y=\"82.989518\" style=\"fill: #1f77b4; stroke: #1f77b4\"/>\n",
       "     <use xlink:href=\"#mde9751aa6a\" x=\"37.81946\" y=\"19.176515\" style=\"fill: #1f77b4; stroke: #1f77b4\"/>\n",
       "     <use xlink:href=\"#mde9751aa6a\" x=\"107.094778\" y=\"59.179583\" style=\"fill: #1f77b4; stroke: #1f77b4\"/>\n",
       "     <use xlink:href=\"#mde9751aa6a\" x=\"133.155845\" y=\"85.182428\" style=\"fill: #1f77b4; stroke: #1f77b4\"/>\n",
       "     <use xlink:href=\"#mde9751aa6a\" x=\"185.640592\" y=\"121.198272\" style=\"fill: #1f77b4; stroke: #1f77b4\"/>\n",
       "     <use xlink:href=\"#mde9751aa6a\" x=\"113.865375\" y=\"49.651833\" style=\"fill: #1f77b4; stroke: #1f77b4\"/>\n",
       "     <use xlink:href=\"#mde9751aa6a\" x=\"145.969855\" y=\"65.679908\" style=\"fill: #1f77b4; stroke: #1f77b4\"/>\n",
       "     <use xlink:href=\"#mde9751aa6a\" x=\"142.826936\" y=\"80.63139\" style=\"fill: #1f77b4; stroke: #1f77b4\"/>\n",
       "     <use xlink:href=\"#mde9751aa6a\" x=\"154.759644\" y=\"81.453884\" style=\"fill: #1f77b4; stroke: #1f77b4\"/>\n",
       "     <use xlink:href=\"#mde9751aa6a\" x=\"170.166166\" y=\"87.172966\" style=\"fill: #1f77b4; stroke: #1f77b4\"/>\n",
       "     <use xlink:href=\"#mde9751aa6a\" x=\"130.034806\" y=\"74.04477\" style=\"fill: #1f77b4; stroke: #1f77b4\"/>\n",
       "     <use xlink:href=\"#mde9751aa6a\" x=\"84.663106\" y=\"34.735129\" style=\"fill: #1f77b4; stroke: #1f77b4\"/>\n",
       "     <use xlink:href=\"#mde9751aa6a\" x=\"139.696458\" y=\"65.383852\" style=\"fill: #1f77b4; stroke: #1f77b4\"/>\n",
       "     <use xlink:href=\"#mde9751aa6a\" x=\"168.37532\" y=\"111.860361\" style=\"fill: #1f77b4; stroke: #1f77b4\"/>\n",
       "     <use xlink:href=\"#mde9751aa6a\" x=\"109.78617\" y=\"67.225522\" style=\"fill: #1f77b4; stroke: #1f77b4\"/>\n",
       "     <use xlink:href=\"#mde9751aa6a\" x=\"132.315019\" y=\"89.6806\" style=\"fill: #1f77b4; stroke: #1f77b4\"/>\n",
       "     <use xlink:href=\"#mde9751aa6a\" x=\"129.444009\" y=\"68.854314\" style=\"fill: #1f77b4; stroke: #1f77b4\"/>\n",
       "     <use xlink:href=\"#mde9751aa6a\" x=\"155.161836\" y=\"100.971703\" style=\"fill: #1f77b4; stroke: #1f77b4\"/>\n",
       "     <use xlink:href=\"#mde9751aa6a\" x=\"129.704877\" y=\"72.395808\" style=\"fill: #1f77b4; stroke: #1f77b4\"/>\n",
       "     <use xlink:href=\"#mde9751aa6a\" x=\"145.959838\" y=\"83.206241\" style=\"fill: #1f77b4; stroke: #1f77b4\"/>\n",
       "     <use xlink:href=\"#mde9751aa6a\" x=\"153.94951\" y=\"98.739446\" style=\"fill: #1f77b4; stroke: #1f77b4\"/>\n",
       "     <use xlink:href=\"#mde9751aa6a\" x=\"152.47935\" y=\"92.147161\" style=\"fill: #1f77b4; stroke: #1f77b4\"/>\n",
       "     <use xlink:href=\"#mde9751aa6a\" x=\"117.695515\" y=\"86.753829\" style=\"fill: #1f77b4; stroke: #1f77b4\"/>\n",
       "     <use xlink:href=\"#mde9751aa6a\" x=\"147.882471\" y=\"95.251502\" style=\"fill: #1f77b4; stroke: #1f77b4\"/>\n",
       "     <use xlink:href=\"#mde9751aa6a\" x=\"124.471671\" y=\"67.387794\" style=\"fill: #1f77b4; stroke: #1f77b4\"/>\n",
       "     <use xlink:href=\"#mde9751aa6a\" x=\"84.946162\" y=\"32.728534\" style=\"fill: #1f77b4; stroke: #1f77b4\"/>\n",
       "     <use xlink:href=\"#mde9751aa6a\" x=\"105.937005\" y=\"47.748826\" style=\"fill: #1f77b4; stroke: #1f77b4\"/>\n",
       "     <use xlink:href=\"#mde9751aa6a\" x=\"152.934306\" y=\"94.646557\" style=\"fill: #1f77b4; stroke: #1f77b4\"/>\n",
       "     <use xlink:href=\"#mde9751aa6a\" x=\"143.245899\" y=\"85.268499\" style=\"fill: #1f77b4; stroke: #1f77b4\"/>\n",
       "     <use xlink:href=\"#mde9751aa6a\" x=\"72.7408\" y=\"26.754255\" style=\"fill: #1f77b4; stroke: #1f77b4\"/>\n",
       "     <use xlink:href=\"#mde9751aa6a\" x=\"139.848321\" y=\"83.125841\" style=\"fill: #1f77b4; stroke: #1f77b4\"/>\n",
       "     <use xlink:href=\"#mde9751aa6a\" x=\"113.933447\" y=\"54.000224\" style=\"fill: #1f77b4; stroke: #1f77b4\"/>\n",
       "     <use xlink:href=\"#mde9751aa6a\" x=\"119.217799\" y=\"80.951126\" style=\"fill: #1f77b4; stroke: #1f77b4\"/>\n",
       "     <use xlink:href=\"#mde9751aa6a\" x=\"121.92595\" y=\"66.523085\" style=\"fill: #1f77b4; stroke: #1f77b4\"/>\n",
       "     <use xlink:href=\"#mde9751aa6a\" x=\"84.115671\" y=\"64.162026\" style=\"fill: #1f77b4; stroke: #1f77b4\"/>\n",
       "     <use xlink:href=\"#mde9751aa6a\" x=\"148.873765\" y=\"83.408235\" style=\"fill: #1f77b4; stroke: #1f77b4\"/>\n",
       "     <use xlink:href=\"#mde9751aa6a\" x=\"148.283956\" y=\"74.547404\" style=\"fill: #1f77b4; stroke: #1f77b4\"/>\n",
       "     <use xlink:href=\"#mde9751aa6a\" x=\"117.934624\" y=\"69.460176\" style=\"fill: #1f77b4; stroke: #1f77b4\"/>\n",
       "     <use xlink:href=\"#mde9751aa6a\" x=\"115.291216\" y=\"49.428891\" style=\"fill: #1f77b4; stroke: #1f77b4\"/>\n",
       "     <use xlink:href=\"#mde9751aa6a\" x=\"167.499849\" y=\"86.605531\" style=\"fill: #1f77b4; stroke: #1f77b4\"/>\n",
       "     <use xlink:href=\"#mde9751aa6a\" x=\"183.523059\" y=\"81.47873\" style=\"fill: #1f77b4; stroke: #1f77b4\"/>\n",
       "     <use xlink:href=\"#mde9751aa6a\" x=\"127.105993\" y=\"75.445828\" style=\"fill: #1f77b4; stroke: #1f77b4\"/>\n",
       "     <use xlink:href=\"#mde9751aa6a\" x=\"122.431423\" y=\"48.363778\" style=\"fill: #1f77b4; stroke: #1f77b4\"/>\n",
       "     <use xlink:href=\"#mde9751aa6a\" x=\"157.006482\" y=\"103.067937\" style=\"fill: #1f77b4; stroke: #1f77b4\"/>\n",
       "     <use xlink:href=\"#mde9751aa6a\" x=\"123.406777\" y=\"81.389813\" style=\"fill: #1f77b4; stroke: #1f77b4\"/>\n",
       "     <use xlink:href=\"#mde9751aa6a\" x=\"107.994493\" y=\"68.847139\" style=\"fill: #1f77b4; stroke: #1f77b4\"/>\n",
       "     <use xlink:href=\"#mde9751aa6a\" x=\"135.537943\" y=\"75.425317\" style=\"fill: #1f77b4; stroke: #1f77b4\"/>\n",
       "     <use xlink:href=\"#mde9751aa6a\" x=\"127.527799\" y=\"67.687573\" style=\"fill: #1f77b4; stroke: #1f77b4\"/>\n",
       "     <use xlink:href=\"#mde9751aa6a\" x=\"152.234148\" y=\"74.181558\" style=\"fill: #1f77b4; stroke: #1f77b4\"/>\n",
       "     <use xlink:href=\"#mde9751aa6a\" x=\"163.786433\" y=\"97.182235\" style=\"fill: #1f77b4; stroke: #1f77b4\"/>\n",
       "     <use xlink:href=\"#mde9751aa6a\" x=\"138.279728\" y=\"84.810522\" style=\"fill: #1f77b4; stroke: #1f77b4\"/>\n",
       "     <use xlink:href=\"#mde9751aa6a\" x=\"128.955804\" y=\"75.475782\" style=\"fill: #1f77b4; stroke: #1f77b4\"/>\n",
       "     <use xlink:href=\"#mde9751aa6a\" x=\"94.279691\" y=\"40.13904\" style=\"fill: #1f77b4; stroke: #1f77b4\"/>\n",
       "     <use xlink:href=\"#mde9751aa6a\" x=\"123.624385\" y=\"55.409882\" style=\"fill: #1f77b4; stroke: #1f77b4\"/>\n",
       "     <use xlink:href=\"#mde9751aa6a\" x=\"135.375365\" y=\"102.44144\" style=\"fill: #1f77b4; stroke: #1f77b4\"/>\n",
       "     <use xlink:href=\"#mde9751aa6a\" x=\"93.097571\" y=\"32.985967\" style=\"fill: #1f77b4; stroke: #1f77b4\"/>\n",
       "     <use xlink:href=\"#mde9751aa6a\" x=\"136.905506\" y=\"81.756789\" style=\"fill: #1f77b4; stroke: #1f77b4\"/>\n",
       "     <use xlink:href=\"#mde9751aa6a\" x=\"142.867353\" y=\"84.535309\" style=\"fill: #1f77b4; stroke: #1f77b4\"/>\n",
       "     <use xlink:href=\"#mde9751aa6a\" x=\"130.967217\" y=\"79.284194\" style=\"fill: #1f77b4; stroke: #1f77b4\"/>\n",
       "     <use xlink:href=\"#mde9751aa6a\" x=\"116.014817\" y=\"77.870254\" style=\"fill: #1f77b4; stroke: #1f77b4\"/>\n",
       "     <use xlink:href=\"#mde9751aa6a\" x=\"156.079941\" y=\"88.637041\" style=\"fill: #1f77b4; stroke: #1f77b4\"/>\n",
       "     <use xlink:href=\"#mde9751aa6a\" x=\"97.86048\" y=\"57.406212\" style=\"fill: #1f77b4; stroke: #1f77b4\"/>\n",
       "     <use xlink:href=\"#mde9751aa6a\" x=\"120.232222\" y=\"67.919148\" style=\"fill: #1f77b4; stroke: #1f77b4\"/>\n",
       "     <use xlink:href=\"#mde9751aa6a\" x=\"141.372228\" y=\"75.365534\" style=\"fill: #1f77b4; stroke: #1f77b4\"/>\n",
       "     <use xlink:href=\"#mde9751aa6a\" x=\"106.883531\" y=\"52.351345\" style=\"fill: #1f77b4; stroke: #1f77b4\"/>\n",
       "     <use xlink:href=\"#mde9751aa6a\" x=\"101.217363\" y=\"48.436608\" style=\"fill: #1f77b4; stroke: #1f77b4\"/>\n",
       "     <use xlink:href=\"#mde9751aa6a\" x=\"151.313513\" y=\"92.187591\" style=\"fill: #1f77b4; stroke: #1f77b4\"/>\n",
       "     <use xlink:href=\"#mde9751aa6a\" x=\"88.603601\" y=\"50.495204\" style=\"fill: #1f77b4; stroke: #1f77b4\"/>\n",
       "     <use xlink:href=\"#mde9751aa6a\" x=\"94.827033\" y=\"56.908499\" style=\"fill: #1f77b4; stroke: #1f77b4\"/>\n",
       "     <use xlink:href=\"#mde9751aa6a\" x=\"127.033632\" y=\"58.45159\" style=\"fill: #1f77b4; stroke: #1f77b4\"/>\n",
       "     <use xlink:href=\"#mde9751aa6a\" x=\"94.475801\" y=\"44.912165\" style=\"fill: #1f77b4; stroke: #1f77b4\"/>\n",
       "     <use xlink:href=\"#mde9751aa6a\" x=\"161.749197\" y=\"98.762795\" style=\"fill: #1f77b4; stroke: #1f77b4\"/>\n",
       "     <use xlink:href=\"#mde9751aa6a\" x=\"144.195693\" y=\"89.869616\" style=\"fill: #1f77b4; stroke: #1f77b4\"/>\n",
       "     <use xlink:href=\"#mde9751aa6a\" x=\"142.555828\" y=\"79.501353\" style=\"fill: #1f77b4; stroke: #1f77b4\"/>\n",
       "     <use xlink:href=\"#mde9751aa6a\" x=\"152.679058\" y=\"88.597918\" style=\"fill: #1f77b4; stroke: #1f77b4\"/>\n",
       "     <use xlink:href=\"#mde9751aa6a\" x=\"188.711396\" y=\"79.934942\" style=\"fill: #1f77b4; stroke: #1f77b4\"/>\n",
       "     <use xlink:href=\"#mde9751aa6a\" x=\"52.338851\" y=\"15.383738\" style=\"fill: #1f77b4; stroke: #1f77b4\"/>\n",
       "     <use xlink:href=\"#mde9751aa6a\" x=\"153.811871\" y=\"73.740355\" style=\"fill: #1f77b4; stroke: #1f77b4\"/>\n",
       "     <use xlink:href=\"#mde9751aa6a\" x=\"123.480612\" y=\"49.246346\" style=\"fill: #1f77b4; stroke: #1f77b4\"/>\n",
       "     <use xlink:href=\"#mde9751aa6a\" x=\"142.236717\" y=\"74.692502\" style=\"fill: #1f77b4; stroke: #1f77b4\"/>\n",
       "     <use xlink:href=\"#mde9751aa6a\" x=\"135.644168\" y=\"88.557627\" style=\"fill: #1f77b4; stroke: #1f77b4\"/>\n",
       "     <use xlink:href=\"#mde9751aa6a\" x=\"114.684992\" y=\"73.418453\" style=\"fill: #1f77b4; stroke: #1f77b4\"/>\n",
       "     <use xlink:href=\"#mde9751aa6a\" x=\"122.381567\" y=\"62.130282\" style=\"fill: #1f77b4; stroke: #1f77b4\"/>\n",
       "     <use xlink:href=\"#mde9751aa6a\" x=\"164.551055\" y=\"105.415789\" style=\"fill: #1f77b4; stroke: #1f77b4\"/>\n",
       "     <use xlink:href=\"#mde9751aa6a\" x=\"121.806232\" y=\"72.464563\" style=\"fill: #1f77b4; stroke: #1f77b4\"/>\n",
       "     <use xlink:href=\"#mde9751aa6a\" x=\"154.134778\" y=\"71.76594\" style=\"fill: #1f77b4; stroke: #1f77b4\"/>\n",
       "     <use xlink:href=\"#mde9751aa6a\" x=\"175.197593\" y=\"100.71385\" style=\"fill: #1f77b4; stroke: #1f77b4\"/>\n",
       "     <use xlink:href=\"#mde9751aa6a\" x=\"123.929775\" y=\"42.750251\" style=\"fill: #1f77b4; stroke: #1f77b4\"/>\n",
       "     <use xlink:href=\"#mde9751aa6a\" x=\"153.363205\" y=\"81.10713\" style=\"fill: #1f77b4; stroke: #1f77b4\"/>\n",
       "     <use xlink:href=\"#mde9751aa6a\" x=\"67.009613\" y=\"23.835689\" style=\"fill: #1f77b4; stroke: #1f77b4\"/>\n",
       "     <use xlink:href=\"#mde9751aa6a\" x=\"143.609576\" y=\"96.437657\" style=\"fill: #1f77b4; stroke: #1f77b4\"/>\n",
       "     <use xlink:href=\"#mde9751aa6a\" x=\"137.42877\" y=\"71.963838\" style=\"fill: #1f77b4; stroke: #1f77b4\"/>\n",
       "     <use xlink:href=\"#mde9751aa6a\" x=\"152.322651\" y=\"96.331771\" style=\"fill: #1f77b4; stroke: #1f77b4\"/>\n",
       "     <use xlink:href=\"#mde9751aa6a\" x=\"138.813074\" y=\"77.823445\" style=\"fill: #1f77b4; stroke: #1f77b4\"/>\n",
       "     <use xlink:href=\"#mde9751aa6a\" x=\"131.867875\" y=\"83.035013\" style=\"fill: #1f77b4; stroke: #1f77b4\"/>\n",
       "     <use xlink:href=\"#mde9751aa6a\" x=\"116.94706\" y=\"67.254113\" style=\"fill: #1f77b4; stroke: #1f77b4\"/>\n",
       "     <use xlink:href=\"#mde9751aa6a\" x=\"175.635149\" y=\"90.646649\" style=\"fill: #1f77b4; stroke: #1f77b4\"/>\n",
       "     <use xlink:href=\"#mde9751aa6a\" x=\"153.960341\" y=\"115.38553\" style=\"fill: #1f77b4; stroke: #1f77b4\"/>\n",
       "     <use xlink:href=\"#mde9751aa6a\" x=\"72.028789\" y=\"50.370249\" style=\"fill: #1f77b4; stroke: #1f77b4\"/>\n",
       "     <use xlink:href=\"#mde9751aa6a\" x=\"204.424771\" y=\"135.737596\" style=\"fill: #1f77b4; stroke: #1f77b4\"/>\n",
       "     <use xlink:href=\"#mde9751aa6a\" x=\"108.60062\" y=\"61.185255\" style=\"fill: #1f77b4; stroke: #1f77b4\"/>\n",
       "     <use xlink:href=\"#mde9751aa6a\" x=\"122.573575\" y=\"80.710084\" style=\"fill: #1f77b4; stroke: #1f77b4\"/>\n",
       "     <use xlink:href=\"#mde9751aa6a\" x=\"108.25661\" y=\"52.104772\" style=\"fill: #1f77b4; stroke: #1f77b4\"/>\n",
       "     <use xlink:href=\"#mde9751aa6a\" x=\"164.596043\" y=\"90.737867\" style=\"fill: #1f77b4; stroke: #1f77b4\"/>\n",
       "     <use xlink:href=\"#mde9751aa6a\" x=\"104.471534\" y=\"66.628058\" style=\"fill: #1f77b4; stroke: #1f77b4\"/>\n",
       "     <use xlink:href=\"#mde9751aa6a\" x=\"99.926041\" y=\"56.308092\" style=\"fill: #1f77b4; stroke: #1f77b4\"/>\n",
       "     <use xlink:href=\"#mde9751aa6a\" x=\"152.457509\" y=\"105.092771\" style=\"fill: #1f77b4; stroke: #1f77b4\"/>\n",
       "     <use xlink:href=\"#mde9751aa6a\" x=\"146.578568\" y=\"95.180566\" style=\"fill: #1f77b4; stroke: #1f77b4\"/>\n",
       "     <use xlink:href=\"#mde9751aa6a\" x=\"112.375053\" y=\"61.297134\" style=\"fill: #1f77b4; stroke: #1f77b4\"/>\n",
       "     <use xlink:href=\"#mde9751aa6a\" x=\"158.745588\" y=\"71.272989\" style=\"fill: #1f77b4; stroke: #1f77b4\"/>\n",
       "     <use xlink:href=\"#mde9751aa6a\" x=\"105.664279\" y=\"68.768771\" style=\"fill: #1f77b4; stroke: #1f77b4\"/>\n",
       "     <use xlink:href=\"#mde9751aa6a\" x=\"121.723172\" y=\"63.7212\" style=\"fill: #1f77b4; stroke: #1f77b4\"/>\n",
       "     <use xlink:href=\"#mde9751aa6a\" x=\"99.829967\" y=\"70.98064\" style=\"fill: #1f77b4; stroke: #1f77b4\"/>\n",
       "     <use xlink:href=\"#mde9751aa6a\" x=\"145.269082\" y=\"88.604316\" style=\"fill: #1f77b4; stroke: #1f77b4\"/>\n",
       "     <use xlink:href=\"#mde9751aa6a\" x=\"120.775122\" y=\"73.692835\" style=\"fill: #1f77b4; stroke: #1f77b4\"/>\n",
       "     <use xlink:href=\"#mde9751aa6a\" x=\"135.465905\" y=\"81.930859\" style=\"fill: #1f77b4; stroke: #1f77b4\"/>\n",
       "     <use xlink:href=\"#mde9751aa6a\" x=\"118.714707\" y=\"78.452727\" style=\"fill: #1f77b4; stroke: #1f77b4\"/>\n",
       "     <use xlink:href=\"#mde9751aa6a\" x=\"157.036591\" y=\"88.029039\" style=\"fill: #1f77b4; stroke: #1f77b4\"/>\n",
       "     <use xlink:href=\"#mde9751aa6a\" x=\"129.751497\" y=\"55.646103\" style=\"fill: #1f77b4; stroke: #1f77b4\"/>\n",
       "     <use xlink:href=\"#mde9751aa6a\" x=\"108.341589\" y=\"51.400291\" style=\"fill: #1f77b4; stroke: #1f77b4\"/>\n",
       "     <use xlink:href=\"#mde9751aa6a\" x=\"140.203366\" y=\"84.599266\" style=\"fill: #1f77b4; stroke: #1f77b4\"/>\n",
       "     <use xlink:href=\"#mde9751aa6a\" x=\"166.813764\" y=\"109.970822\" style=\"fill: #1f77b4; stroke: #1f77b4\"/>\n",
       "     <use xlink:href=\"#mde9751aa6a\" x=\"108.202462\" y=\"50.005976\" style=\"fill: #1f77b4; stroke: #1f77b4\"/>\n",
       "     <use xlink:href=\"#mde9751aa6a\" x=\"118.622693\" y=\"65.143933\" style=\"fill: #1f77b4; stroke: #1f77b4\"/>\n",
       "     <use xlink:href=\"#mde9751aa6a\" x=\"163.257189\" y=\"106.885817\" style=\"fill: #1f77b4; stroke: #1f77b4\"/>\n",
       "     <use xlink:href=\"#mde9751aa6a\" x=\"149.483167\" y=\"73.124624\" style=\"fill: #1f77b4; stroke: #1f77b4\"/>\n",
       "     <use xlink:href=\"#mde9751aa6a\" x=\"98.371525\" y=\"54.958109\" style=\"fill: #1f77b4; stroke: #1f77b4\"/>\n",
       "     <use xlink:href=\"#mde9751aa6a\" x=\"125.071464\" y=\"67.861984\" style=\"fill: #1f77b4; stroke: #1f77b4\"/>\n",
       "     <use xlink:href=\"#mde9751aa6a\" x=\"108.57495\" y=\"50.64167\" style=\"fill: #1f77b4; stroke: #1f77b4\"/>\n",
       "     <use xlink:href=\"#mde9751aa6a\" x=\"102.280329\" y=\"58.347852\" style=\"fill: #1f77b4; stroke: #1f77b4\"/>\n",
       "     <use xlink:href=\"#mde9751aa6a\" x=\"116.211002\" y=\"70.93159\" style=\"fill: #1f77b4; stroke: #1f77b4\"/>\n",
       "     <use xlink:href=\"#mde9751aa6a\" x=\"138.966805\" y=\"73.173545\" style=\"fill: #1f77b4; stroke: #1f77b4\"/>\n",
       "     <use xlink:href=\"#mde9751aa6a\" x=\"125.463647\" y=\"52.51878\" style=\"fill: #1f77b4; stroke: #1f77b4\"/>\n",
       "     <use xlink:href=\"#mde9751aa6a\" x=\"163.336603\" y=\"91.843214\" style=\"fill: #1f77b4; stroke: #1f77b4\"/>\n",
       "     <use xlink:href=\"#mde9751aa6a\" x=\"187.29639\" y=\"104.066313\" style=\"fill: #1f77b4; stroke: #1f77b4\"/>\n",
       "     <use xlink:href=\"#mde9751aa6a\" x=\"179.96078\" y=\"99.256499\" style=\"fill: #1f77b4; stroke: #1f77b4\"/>\n",
       "     <use xlink:href=\"#mde9751aa6a\" x=\"160.407232\" y=\"110.716924\" style=\"fill: #1f77b4; stroke: #1f77b4\"/>\n",
       "     <use xlink:href=\"#mde9751aa6a\" x=\"142.541728\" y=\"72.757294\" style=\"fill: #1f77b4; stroke: #1f77b4\"/>\n",
       "     <use xlink:href=\"#mde9751aa6a\" x=\"135.388815\" y=\"68.916442\" style=\"fill: #1f77b4; stroke: #1f77b4\"/>\n",
       "     <use xlink:href=\"#mde9751aa6a\" x=\"150.002863\" y=\"93.374213\" style=\"fill: #1f77b4; stroke: #1f77b4\"/>\n",
       "     <use xlink:href=\"#mde9751aa6a\" x=\"149.070814\" y=\"67.756258\" style=\"fill: #1f77b4; stroke: #1f77b4\"/>\n",
       "     <use xlink:href=\"#mde9751aa6a\" x=\"135.595159\" y=\"80.771897\" style=\"fill: #1f77b4; stroke: #1f77b4\"/>\n",
       "     <use xlink:href=\"#mde9751aa6a\" x=\"116.817038\" y=\"97.184172\" style=\"fill: #1f77b4; stroke: #1f77b4\"/>\n",
       "     <use xlink:href=\"#mde9751aa6a\" x=\"137.411969\" y=\"87.314895\" style=\"fill: #1f77b4; stroke: #1f77b4\"/>\n",
       "     <use xlink:href=\"#mde9751aa6a\" x=\"147.700135\" y=\"90.274491\" style=\"fill: #1f77b4; stroke: #1f77b4\"/>\n",
       "     <use xlink:href=\"#mde9751aa6a\" x=\"99.886235\" y=\"69.187871\" style=\"fill: #1f77b4; stroke: #1f77b4\"/>\n",
       "     <use xlink:href=\"#mde9751aa6a\" x=\"123.582262\" y=\"70.110475\" style=\"fill: #1f77b4; stroke: #1f77b4\"/>\n",
       "     <use xlink:href=\"#mde9751aa6a\" x=\"102.010685\" y=\"55.828255\" style=\"fill: #1f77b4; stroke: #1f77b4\"/>\n",
       "     <use xlink:href=\"#mde9751aa6a\" x=\"141.50713\" y=\"77.463676\" style=\"fill: #1f77b4; stroke: #1f77b4\"/>\n",
       "     <use xlink:href=\"#mde9751aa6a\" x=\"133.562669\" y=\"56.246929\" style=\"fill: #1f77b4; stroke: #1f77b4\"/>\n",
       "     <use xlink:href=\"#mde9751aa6a\" x=\"159.494483\" y=\"88.842796\" style=\"fill: #1f77b4; stroke: #1f77b4\"/>\n",
       "     <use xlink:href=\"#mde9751aa6a\" x=\"119.032828\" y=\"83.190082\" style=\"fill: #1f77b4; stroke: #1f77b4\"/>\n",
       "     <use xlink:href=\"#mde9751aa6a\" x=\"141.542235\" y=\"86.59282\" style=\"fill: #1f77b4; stroke: #1f77b4\"/>\n",
       "     <use xlink:href=\"#mde9751aa6a\" x=\"121.592589\" y=\"71.529819\" style=\"fill: #1f77b4; stroke: #1f77b4\"/>\n",
       "     <use xlink:href=\"#mde9751aa6a\" x=\"154.787355\" y=\"83.744936\" style=\"fill: #1f77b4; stroke: #1f77b4\"/>\n",
       "     <use xlink:href=\"#mde9751aa6a\" x=\"143.642284\" y=\"94.776388\" style=\"fill: #1f77b4; stroke: #1f77b4\"/>\n",
       "     <use xlink:href=\"#mde9751aa6a\" x=\"115.505723\" y=\"63.896844\" style=\"fill: #1f77b4; stroke: #1f77b4\"/>\n",
       "     <use xlink:href=\"#mde9751aa6a\" x=\"143.7706\" y=\"94.500151\" style=\"fill: #1f77b4; stroke: #1f77b4\"/>\n",
       "     <use xlink:href=\"#mde9751aa6a\" x=\"124.382707\" y=\"69.268602\" style=\"fill: #1f77b4; stroke: #1f77b4\"/>\n",
       "     <use xlink:href=\"#mde9751aa6a\" x=\"145.954476\" y=\"69.189724\" style=\"fill: #1f77b4; stroke: #1f77b4\"/>\n",
       "     <use xlink:href=\"#mde9751aa6a\" x=\"134.0855\" y=\"70.425794\" style=\"fill: #1f77b4; stroke: #1f77b4\"/>\n",
       "     <use xlink:href=\"#mde9751aa6a\" x=\"130.64971\" y=\"80.549934\" style=\"fill: #1f77b4; stroke: #1f77b4\"/>\n",
       "     <use xlink:href=\"#mde9751aa6a\" x=\"128.614642\" y=\"82.682775\" style=\"fill: #1f77b4; stroke: #1f77b4\"/>\n",
       "     <use xlink:href=\"#mde9751aa6a\" x=\"138.596381\" y=\"83.212994\" style=\"fill: #1f77b4; stroke: #1f77b4\"/>\n",
       "     <use xlink:href=\"#mde9751aa6a\" x=\"193.43187\" y=\"124.538421\" style=\"fill: #1f77b4; stroke: #1f77b4\"/>\n",
       "     <use xlink:href=\"#mde9751aa6a\" x=\"140.83172\" y=\"92.921978\" style=\"fill: #1f77b4; stroke: #1f77b4\"/>\n",
       "     <use xlink:href=\"#mde9751aa6a\" x=\"126.862353\" y=\"68.646484\" style=\"fill: #1f77b4; stroke: #1f77b4\"/>\n",
       "     <use xlink:href=\"#mde9751aa6a\" x=\"161.560034\" y=\"93.011097\" style=\"fill: #1f77b4; stroke: #1f77b4\"/>\n",
       "     <use xlink:href=\"#mde9751aa6a\" x=\"149.95785\" y=\"58.546867\" style=\"fill: #1f77b4; stroke: #1f77b4\"/>\n",
       "     <use xlink:href=\"#mde9751aa6a\" x=\"142.330972\" y=\"84.711168\" style=\"fill: #1f77b4; stroke: #1f77b4\"/>\n",
       "     <use xlink:href=\"#mde9751aa6a\" x=\"137.612219\" y=\"84.344719\" style=\"fill: #1f77b4; stroke: #1f77b4\"/>\n",
       "     <use xlink:href=\"#mde9751aa6a\" x=\"170.919294\" y=\"108.15287\" style=\"fill: #1f77b4; stroke: #1f77b4\"/>\n",
       "     <use xlink:href=\"#mde9751aa6a\" x=\"158.843076\" y=\"81.131295\" style=\"fill: #1f77b4; stroke: #1f77b4\"/>\n",
       "     <use xlink:href=\"#mde9751aa6a\" x=\"130.128921\" y=\"72.279195\" style=\"fill: #1f77b4; stroke: #1f77b4\"/>\n",
       "     <use xlink:href=\"#mde9751aa6a\" x=\"128.642575\" y=\"77.469356\" style=\"fill: #1f77b4; stroke: #1f77b4\"/>\n",
       "     <use xlink:href=\"#mde9751aa6a\" x=\"137.724089\" y=\"82.159247\" style=\"fill: #1f77b4; stroke: #1f77b4\"/>\n",
       "     <use xlink:href=\"#mde9751aa6a\" x=\"156.240165\" y=\"100.518593\" style=\"fill: #1f77b4; stroke: #1f77b4\"/>\n",
       "     <use xlink:href=\"#mde9751aa6a\" x=\"159.474557\" y=\"80.573741\" style=\"fill: #1f77b4; stroke: #1f77b4\"/>\n",
       "     <use xlink:href=\"#mde9751aa6a\" x=\"144.252739\" y=\"86.931472\" style=\"fill: #1f77b4; stroke: #1f77b4\"/>\n",
       "     <use xlink:href=\"#mde9751aa6a\" x=\"94.4991\" y=\"46.122436\" style=\"fill: #1f77b4; stroke: #1f77b4\"/>\n",
       "     <use xlink:href=\"#mde9751aa6a\" x=\"156.994779\" y=\"76.419723\" style=\"fill: #1f77b4; stroke: #1f77b4\"/>\n",
       "     <use xlink:href=\"#mde9751aa6a\" x=\"109.615893\" y=\"69.610021\" style=\"fill: #1f77b4; stroke: #1f77b4\"/>\n",
       "     <use xlink:href=\"#mde9751aa6a\" x=\"158.708713\" y=\"102.331338\" style=\"fill: #1f77b4; stroke: #1f77b4\"/>\n",
       "     <use xlink:href=\"#mde9751aa6a\" x=\"119.067197\" y=\"57.661073\" style=\"fill: #1f77b4; stroke: #1f77b4\"/>\n",
       "     <use xlink:href=\"#mde9751aa6a\" x=\"138.058624\" y=\"80.321956\" style=\"fill: #1f77b4; stroke: #1f77b4\"/>\n",
       "     <use xlink:href=\"#mde9751aa6a\" x=\"135.668731\" y=\"61.33425\" style=\"fill: #1f77b4; stroke: #1f77b4\"/>\n",
       "     <use xlink:href=\"#mde9751aa6a\" x=\"138.38034\" y=\"78.443412\" style=\"fill: #1f77b4; stroke: #1f77b4\"/>\n",
       "     <use xlink:href=\"#mde9751aa6a\" x=\"175.107952\" y=\"93.284265\" style=\"fill: #1f77b4; stroke: #1f77b4\"/>\n",
       "     <use xlink:href=\"#mde9751aa6a\" x=\"140.369498\" y=\"73.425124\" style=\"fill: #1f77b4; stroke: #1f77b4\"/>\n",
       "     <use xlink:href=\"#mde9751aa6a\" x=\"152.270779\" y=\"72.441909\" style=\"fill: #1f77b4; stroke: #1f77b4\"/>\n",
       "     <use xlink:href=\"#mde9751aa6a\" x=\"161.040054\" y=\"109.997902\" style=\"fill: #1f77b4; stroke: #1f77b4\"/>\n",
       "     <use xlink:href=\"#mde9751aa6a\" x=\"117.907192\" y=\"42.33209\" style=\"fill: #1f77b4; stroke: #1f77b4\"/>\n",
       "     <use xlink:href=\"#mde9751aa6a\" x=\"85.812655\" y=\"46.27624\" style=\"fill: #1f77b4; stroke: #1f77b4\"/>\n",
       "     <use xlink:href=\"#mde9751aa6a\" x=\"137.003712\" y=\"61.105224\" style=\"fill: #1f77b4; stroke: #1f77b4\"/>\n",
       "     <use xlink:href=\"#mde9751aa6a\" x=\"96.400521\" y=\"61.534863\" style=\"fill: #1f77b4; stroke: #1f77b4\"/>\n",
       "     <use xlink:href=\"#mde9751aa6a\" x=\"118.642305\" y=\"63.002437\" style=\"fill: #1f77b4; stroke: #1f77b4\"/>\n",
       "     <use xlink:href=\"#mde9751aa6a\" x=\"171.756629\" y=\"101.73931\" style=\"fill: #1f77b4; stroke: #1f77b4\"/>\n",
       "     <use xlink:href=\"#mde9751aa6a\" x=\"179.423082\" y=\"84.137124\" style=\"fill: #1f77b4; stroke: #1f77b4\"/>\n",
       "     <use xlink:href=\"#mde9751aa6a\" x=\"176.491086\" y=\"85.755938\" style=\"fill: #1f77b4; stroke: #1f77b4\"/>\n",
       "     <use xlink:href=\"#mde9751aa6a\" x=\"122.14451\" y=\"72.450239\" style=\"fill: #1f77b4; stroke: #1f77b4\"/>\n",
       "     <use xlink:href=\"#mde9751aa6a\" x=\"138.502864\" y=\"91.251265\" style=\"fill: #1f77b4; stroke: #1f77b4\"/>\n",
       "     <use xlink:href=\"#mde9751aa6a\" x=\"134.827829\" y=\"68.924488\" style=\"fill: #1f77b4; stroke: #1f77b4\"/>\n",
       "     <use xlink:href=\"#mde9751aa6a\" x=\"151.942457\" y=\"80.090032\" style=\"fill: #1f77b4; stroke: #1f77b4\"/>\n",
       "     <use xlink:href=\"#mde9751aa6a\" x=\"87.577014\" y=\"51.32408\" style=\"fill: #1f77b4; stroke: #1f77b4\"/>\n",
       "     <use xlink:href=\"#mde9751aa6a\" x=\"80.45212\" y=\"33.554897\" style=\"fill: #1f77b4; stroke: #1f77b4\"/>\n",
       "     <use xlink:href=\"#mde9751aa6a\" x=\"120.196814\" y=\"66.034152\" style=\"fill: #1f77b4; stroke: #1f77b4\"/>\n",
       "     <use xlink:href=\"#mde9751aa6a\" x=\"119.144223\" y=\"82.883305\" style=\"fill: #1f77b4; stroke: #1f77b4\"/>\n",
       "     <use xlink:href=\"#mde9751aa6a\" x=\"140.016281\" y=\"70.492093\" style=\"fill: #1f77b4; stroke: #1f77b4\"/>\n",
       "     <use xlink:href=\"#mde9751aa6a\" x=\"215.364915\" y=\"113.229139\" style=\"fill: #1f77b4; stroke: #1f77b4\"/>\n",
       "     <use xlink:href=\"#mde9751aa6a\" x=\"164.804842\" y=\"98.474029\" style=\"fill: #1f77b4; stroke: #1f77b4\"/>\n",
       "     <use xlink:href=\"#mde9751aa6a\" x=\"79.419644\" y=\"39.080086\" style=\"fill: #1f77b4; stroke: #1f77b4\"/>\n",
       "     <use xlink:href=\"#mde9751aa6a\" x=\"89.159869\" y=\"35.037318\" style=\"fill: #1f77b4; stroke: #1f77b4\"/>\n",
       "     <use xlink:href=\"#mde9751aa6a\" x=\"134.290232\" y=\"87.652109\" style=\"fill: #1f77b4; stroke: #1f77b4\"/>\n",
       "     <use xlink:href=\"#mde9751aa6a\" x=\"119.187365\" y=\"67.868358\" style=\"fill: #1f77b4; stroke: #1f77b4\"/>\n",
       "     <use xlink:href=\"#mde9751aa6a\" x=\"112.995078\" y=\"68.572344\" style=\"fill: #1f77b4; stroke: #1f77b4\"/>\n",
       "     <use xlink:href=\"#mde9751aa6a\" x=\"170.85879\" y=\"122.702788\" style=\"fill: #1f77b4; stroke: #1f77b4\"/>\n",
       "     <use xlink:href=\"#mde9751aa6a\" x=\"133.868411\" y=\"73.454088\" style=\"fill: #1f77b4; stroke: #1f77b4\"/>\n",
       "     <use xlink:href=\"#mde9751aa6a\" x=\"147.908752\" y=\"88.842054\" style=\"fill: #1f77b4; stroke: #1f77b4\"/>\n",
       "     <use xlink:href=\"#mde9751aa6a\" x=\"128.198129\" y=\"82.008618\" style=\"fill: #1f77b4; stroke: #1f77b4\"/>\n",
       "     <use xlink:href=\"#mde9751aa6a\" x=\"173.789911\" y=\"116.8934\" style=\"fill: #1f77b4; stroke: #1f77b4\"/>\n",
       "     <use xlink:href=\"#mde9751aa6a\" x=\"124.909266\" y=\"68.678095\" style=\"fill: #1f77b4; stroke: #1f77b4\"/>\n",
       "     <use xlink:href=\"#mde9751aa6a\" x=\"126.526322\" y=\"66.107837\" style=\"fill: #1f77b4; stroke: #1f77b4\"/>\n",
       "     <use xlink:href=\"#mde9751aa6a\" x=\"153.078638\" y=\"90.188579\" style=\"fill: #1f77b4; stroke: #1f77b4\"/>\n",
       "     <use xlink:href=\"#mde9751aa6a\" x=\"161.794497\" y=\"111.805986\" style=\"fill: #1f77b4; stroke: #1f77b4\"/>\n",
       "     <use xlink:href=\"#mde9751aa6a\" x=\"169.032935\" y=\"74.413237\" style=\"fill: #1f77b4; stroke: #1f77b4\"/>\n",
       "     <use xlink:href=\"#mde9751aa6a\" x=\"123.716833\" y=\"56.173613\" style=\"fill: #1f77b4; stroke: #1f77b4\"/>\n",
       "     <use xlink:href=\"#mde9751aa6a\" x=\"173.308368\" y=\"105.469079\" style=\"fill: #1f77b4; stroke: #1f77b4\"/>\n",
       "     <use xlink:href=\"#mde9751aa6a\" x=\"94.763486\" y=\"46.220894\" style=\"fill: #1f77b4; stroke: #1f77b4\"/>\n",
       "     <use xlink:href=\"#mde9751aa6a\" x=\"122.564734\" y=\"94.592517\" style=\"fill: #1f77b4; stroke: #1f77b4\"/>\n",
       "     <use xlink:href=\"#mde9751aa6a\" x=\"156.413742\" y=\"81.670973\" style=\"fill: #1f77b4; stroke: #1f77b4\"/>\n",
       "     <use xlink:href=\"#mde9751aa6a\" x=\"163.276436\" y=\"91.243721\" style=\"fill: #1f77b4; stroke: #1f77b4\"/>\n",
       "     <use xlink:href=\"#mde9751aa6a\" x=\"190.135541\" y=\"112.174344\" style=\"fill: #1f77b4; stroke: #1f77b4\"/>\n",
       "     <use xlink:href=\"#mde9751aa6a\" x=\"107.543831\" y=\"50.229466\" style=\"fill: #1f77b4; stroke: #1f77b4\"/>\n",
       "     <use xlink:href=\"#mde9751aa6a\" x=\"123.891278\" y=\"64.728125\" style=\"fill: #1f77b4; stroke: #1f77b4\"/>\n",
       "     <use xlink:href=\"#mde9751aa6a\" x=\"97.90232\" y=\"55.001463\" style=\"fill: #1f77b4; stroke: #1f77b4\"/>\n",
       "     <use xlink:href=\"#mde9751aa6a\" x=\"170.772289\" y=\"90.158134\" style=\"fill: #1f77b4; stroke: #1f77b4\"/>\n",
       "     <use xlink:href=\"#mde9751aa6a\" x=\"144.735163\" y=\"70.476628\" style=\"fill: #1f77b4; stroke: #1f77b4\"/>\n",
       "     <use xlink:href=\"#mde9751aa6a\" x=\"96.578368\" y=\"38.608725\" style=\"fill: #1f77b4; stroke: #1f77b4\"/>\n",
       "     <use xlink:href=\"#mde9751aa6a\" x=\"108.770787\" y=\"56.346002\" style=\"fill: #1f77b4; stroke: #1f77b4\"/>\n",
       "     <use xlink:href=\"#mde9751aa6a\" x=\"65.681097\" y=\"27.762615\" style=\"fill: #1f77b4; stroke: #1f77b4\"/>\n",
       "     <use xlink:href=\"#mde9751aa6a\" x=\"128.336621\" y=\"77.535407\" style=\"fill: #1f77b4; stroke: #1f77b4\"/>\n",
       "     <use xlink:href=\"#mde9751aa6a\" x=\"126.658321\" y=\"87.616672\" style=\"fill: #1f77b4; stroke: #1f77b4\"/>\n",
       "     <use xlink:href=\"#mde9751aa6a\" x=\"171.225406\" y=\"93.982531\" style=\"fill: #1f77b4; stroke: #1f77b4\"/>\n",
       "     <use xlink:href=\"#mde9751aa6a\" x=\"125.718071\" y=\"65.007439\" style=\"fill: #1f77b4; stroke: #1f77b4\"/>\n",
       "     <use xlink:href=\"#mde9751aa6a\" x=\"140.061084\" y=\"81.570112\" style=\"fill: #1f77b4; stroke: #1f77b4\"/>\n",
       "     <use xlink:href=\"#mde9751aa6a\" x=\"140.71971\" y=\"94.343183\" style=\"fill: #1f77b4; stroke: #1f77b4\"/>\n",
       "     <use xlink:href=\"#mde9751aa6a\" x=\"170.48597\" y=\"110.188204\" style=\"fill: #1f77b4; stroke: #1f77b4\"/>\n",
       "     <use xlink:href=\"#mde9751aa6a\" x=\"143.945436\" y=\"59.236031\" style=\"fill: #1f77b4; stroke: #1f77b4\"/>\n",
       "     <use xlink:href=\"#mde9751aa6a\" x=\"104.477276\" y=\"54.305453\" style=\"fill: #1f77b4; stroke: #1f77b4\"/>\n",
       "     <use xlink:href=\"#mde9751aa6a\" x=\"152.002659\" y=\"87.496609\" style=\"fill: #1f77b4; stroke: #1f77b4\"/>\n",
       "     <use xlink:href=\"#mde9751aa6a\" x=\"81.371916\" y=\"49.862105\" style=\"fill: #1f77b4; stroke: #1f77b4\"/>\n",
       "     <use xlink:href=\"#mde9751aa6a\" x=\"96.476394\" y=\"45.765376\" style=\"fill: #1f77b4; stroke: #1f77b4\"/>\n",
       "     <use xlink:href=\"#mde9751aa6a\" x=\"115.791468\" y=\"62.708245\" style=\"fill: #1f77b4; stroke: #1f77b4\"/>\n",
       "     <use xlink:href=\"#mde9751aa6a\" x=\"170.237246\" y=\"102.650765\" style=\"fill: #1f77b4; stroke: #1f77b4\"/>\n",
       "     <use xlink:href=\"#mde9751aa6a\" x=\"102.833509\" y=\"66.799723\" style=\"fill: #1f77b4; stroke: #1f77b4\"/>\n",
       "     <use xlink:href=\"#mde9751aa6a\" x=\"135.226178\" y=\"65.673092\" style=\"fill: #1f77b4; stroke: #1f77b4\"/>\n",
       "     <use xlink:href=\"#mde9751aa6a\" x=\"146.657297\" y=\"79.669734\" style=\"fill: #1f77b4; stroke: #1f77b4\"/>\n",
       "     <use xlink:href=\"#mde9751aa6a\" x=\"173.974718\" y=\"80.147505\" style=\"fill: #1f77b4; stroke: #1f77b4\"/>\n",
       "     <use xlink:href=\"#mde9751aa6a\" x=\"135.218143\" y=\"70.494753\" style=\"fill: #1f77b4; stroke: #1f77b4\"/>\n",
       "     <use xlink:href=\"#mde9751aa6a\" x=\"88.09664\" y=\"54.059216\" style=\"fill: #1f77b4; stroke: #1f77b4\"/>\n",
       "     <use xlink:href=\"#mde9751aa6a\" x=\"79.086082\" y=\"48.881499\" style=\"fill: #1f77b4; stroke: #1f77b4\"/>\n",
       "     <use xlink:href=\"#mde9751aa6a\" x=\"124.075436\" y=\"67.427599\" style=\"fill: #1f77b4; stroke: #1f77b4\"/>\n",
       "     <use xlink:href=\"#mde9751aa6a\" x=\"143.293489\" y=\"71.452971\" style=\"fill: #1f77b4; stroke: #1f77b4\"/>\n",
       "     <use xlink:href=\"#mde9751aa6a\" x=\"108.829474\" y=\"62.93051\" style=\"fill: #1f77b4; stroke: #1f77b4\"/>\n",
       "     <use xlink:href=\"#mde9751aa6a\" x=\"146.877909\" y=\"97.034927\" style=\"fill: #1f77b4; stroke: #1f77b4\"/>\n",
       "     <use xlink:href=\"#mde9751aa6a\" x=\"190.199588\" y=\"107.29397\" style=\"fill: #1f77b4; stroke: #1f77b4\"/>\n",
       "     <use xlink:href=\"#mde9751aa6a\" x=\"149.150081\" y=\"66.972335\" style=\"fill: #1f77b4; stroke: #1f77b4\"/>\n",
       "     <use xlink:href=\"#mde9751aa6a\" x=\"118.432601\" y=\"75.259677\" style=\"fill: #1f77b4; stroke: #1f77b4\"/>\n",
       "     <use xlink:href=\"#mde9751aa6a\" x=\"137.985518\" y=\"47.194359\" style=\"fill: #1f77b4; stroke: #1f77b4\"/>\n",
       "     <use xlink:href=\"#mde9751aa6a\" x=\"113.497989\" y=\"64.555627\" style=\"fill: #1f77b4; stroke: #1f77b4\"/>\n",
       "     <use xlink:href=\"#mde9751aa6a\" x=\"93.879264\" y=\"37.228759\" style=\"fill: #1f77b4; stroke: #1f77b4\"/>\n",
       "     <use xlink:href=\"#mde9751aa6a\" x=\"203.589816\" y=\"114.051911\" style=\"fill: #1f77b4; stroke: #1f77b4\"/>\n",
       "     <use xlink:href=\"#mde9751aa6a\" x=\"140.068492\" y=\"87.791192\" style=\"fill: #1f77b4; stroke: #1f77b4\"/>\n",
       "     <use xlink:href=\"#mde9751aa6a\" x=\"146.931384\" y=\"78.610788\" style=\"fill: #1f77b4; stroke: #1f77b4\"/>\n",
       "     <use xlink:href=\"#mde9751aa6a\" x=\"124.088953\" y=\"63.786196\" style=\"fill: #1f77b4; stroke: #1f77b4\"/>\n",
       "     <use xlink:href=\"#mde9751aa6a\" x=\"140.109213\" y=\"84.336014\" style=\"fill: #1f77b4; stroke: #1f77b4\"/>\n",
       "     <use xlink:href=\"#mde9751aa6a\" x=\"136.324749\" y=\"70.845517\" style=\"fill: #1f77b4; stroke: #1f77b4\"/>\n",
       "     <use xlink:href=\"#mde9751aa6a\" x=\"176.996332\" y=\"98.309721\" style=\"fill: #1f77b4; stroke: #1f77b4\"/>\n",
       "     <use xlink:href=\"#mde9751aa6a\" x=\"186.171311\" y=\"107.433824\" style=\"fill: #1f77b4; stroke: #1f77b4\"/>\n",
       "     <use xlink:href=\"#mde9751aa6a\" x=\"157.56641\" y=\"85.063357\" style=\"fill: #1f77b4; stroke: #1f77b4\"/>\n",
       "     <use xlink:href=\"#mde9751aa6a\" x=\"152.853226\" y=\"101.081149\" style=\"fill: #1f77b4; stroke: #1f77b4\"/>\n",
       "     <use xlink:href=\"#mde9751aa6a\" x=\"164.238687\" y=\"74.740844\" style=\"fill: #1f77b4; stroke: #1f77b4\"/>\n",
       "     <use xlink:href=\"#mde9751aa6a\" x=\"84.604838\" y=\"48.663227\" style=\"fill: #1f77b4; stroke: #1f77b4\"/>\n",
       "     <use xlink:href=\"#mde9751aa6a\" x=\"135.886207\" y=\"65.356445\" style=\"fill: #1f77b4; stroke: #1f77b4\"/>\n",
       "     <use xlink:href=\"#mde9751aa6a\" x=\"127.808107\" y=\"78.116427\" style=\"fill: #1f77b4; stroke: #1f77b4\"/>\n",
       "     <use xlink:href=\"#mde9751aa6a\" x=\"153.517236\" y=\"77.360132\" style=\"fill: #1f77b4; stroke: #1f77b4\"/>\n",
       "     <use xlink:href=\"#mde9751aa6a\" x=\"131.649517\" y=\"66.210489\" style=\"fill: #1f77b4; stroke: #1f77b4\"/>\n",
       "     <use xlink:href=\"#mde9751aa6a\" x=\"95.501077\" y=\"69.468912\" style=\"fill: #1f77b4; stroke: #1f77b4\"/>\n",
       "     <use xlink:href=\"#mde9751aa6a\" x=\"150.507841\" y=\"88.878438\" style=\"fill: #1f77b4; stroke: #1f77b4\"/>\n",
       "     <use xlink:href=\"#mde9751aa6a\" x=\"188.28554\" y=\"108.214088\" style=\"fill: #1f77b4; stroke: #1f77b4\"/>\n",
       "     <use xlink:href=\"#mde9751aa6a\" x=\"134.078845\" y=\"58.028335\" style=\"fill: #1f77b4; stroke: #1f77b4\"/>\n",
       "     <use xlink:href=\"#mde9751aa6a\" x=\"106.781773\" y=\"65.455585\" style=\"fill: #1f77b4; stroke: #1f77b4\"/>\n",
       "     <use xlink:href=\"#mde9751aa6a\" x=\"134.526893\" y=\"74.530481\" style=\"fill: #1f77b4; stroke: #1f77b4\"/>\n",
       "     <use xlink:href=\"#mde9751aa6a\" x=\"163.27461\" y=\"91.548939\" style=\"fill: #1f77b4; stroke: #1f77b4\"/>\n",
       "     <use xlink:href=\"#mde9751aa6a\" x=\"118.845872\" y=\"73.821926\" style=\"fill: #1f77b4; stroke: #1f77b4\"/>\n",
       "     <use xlink:href=\"#mde9751aa6a\" x=\"135.848274\" y=\"64.208514\" style=\"fill: #1f77b4; stroke: #1f77b4\"/>\n",
       "     <use xlink:href=\"#mde9751aa6a\" x=\"153.707301\" y=\"74.204691\" style=\"fill: #1f77b4; stroke: #1f77b4\"/>\n",
       "     <use xlink:href=\"#mde9751aa6a\" x=\"162.5325\" y=\"92.50997\" style=\"fill: #1f77b4; stroke: #1f77b4\"/>\n",
       "     <use xlink:href=\"#mde9751aa6a\" x=\"175.906656\" y=\"92.623252\" style=\"fill: #1f77b4; stroke: #1f77b4\"/>\n",
       "     <use xlink:href=\"#mde9751aa6a\" x=\"128.474851\" y=\"60.08819\" style=\"fill: #1f77b4; stroke: #1f77b4\"/>\n",
       "     <use xlink:href=\"#mde9751aa6a\" x=\"163.175206\" y=\"95.852973\" style=\"fill: #1f77b4; stroke: #1f77b4\"/>\n",
       "     <use xlink:href=\"#mde9751aa6a\" x=\"105.133282\" y=\"52.692881\" style=\"fill: #1f77b4; stroke: #1f77b4\"/>\n",
       "     <use xlink:href=\"#mde9751aa6a\" x=\"179.099429\" y=\"80.035745\" style=\"fill: #1f77b4; stroke: #1f77b4\"/>\n",
       "     <use xlink:href=\"#mde9751aa6a\" x=\"113.380339\" y=\"44.269609\" style=\"fill: #1f77b4; stroke: #1f77b4\"/>\n",
       "     <use xlink:href=\"#mde9751aa6a\" x=\"136.86248\" y=\"64.953632\" style=\"fill: #1f77b4; stroke: #1f77b4\"/>\n",
       "     <use xlink:href=\"#mde9751aa6a\" x=\"103.900639\" y=\"67.590292\" style=\"fill: #1f77b4; stroke: #1f77b4\"/>\n",
       "     <use xlink:href=\"#mde9751aa6a\" x=\"98.834825\" y=\"83.281203\" style=\"fill: #1f77b4; stroke: #1f77b4\"/>\n",
       "     <use xlink:href=\"#mde9751aa6a\" x=\"84.904602\" y=\"42.528648\" style=\"fill: #1f77b4; stroke: #1f77b4\"/>\n",
       "     <use xlink:href=\"#mde9751aa6a\" x=\"102.231344\" y=\"55.689634\" style=\"fill: #1f77b4; stroke: #1f77b4\"/>\n",
       "     <use xlink:href=\"#mde9751aa6a\" x=\"170.569482\" y=\"91.266607\" style=\"fill: #1f77b4; stroke: #1f77b4\"/>\n",
       "     <use xlink:href=\"#mde9751aa6a\" x=\"85.446788\" y=\"45.410297\" style=\"fill: #1f77b4; stroke: #1f77b4\"/>\n",
       "     <use xlink:href=\"#mde9751aa6a\" x=\"163.695761\" y=\"104.187532\" style=\"fill: #1f77b4; stroke: #1f77b4\"/>\n",
       "     <use xlink:href=\"#mde9751aa6a\" x=\"102.565909\" y=\"51.861052\" style=\"fill: #1f77b4; stroke: #1f77b4\"/>\n",
       "     <use xlink:href=\"#mde9751aa6a\" x=\"149.513055\" y=\"85.919616\" style=\"fill: #1f77b4; stroke: #1f77b4\"/>\n",
       "     <use xlink:href=\"#mde9751aa6a\" x=\"130.179902\" y=\"82.649054\" style=\"fill: #1f77b4; stroke: #1f77b4\"/>\n",
       "     <use xlink:href=\"#mde9751aa6a\" x=\"149.222713\" y=\"89.562569\" style=\"fill: #1f77b4; stroke: #1f77b4\"/>\n",
       "     <use xlink:href=\"#mde9751aa6a\" x=\"132.76609\" y=\"67.223666\" style=\"fill: #1f77b4; stroke: #1f77b4\"/>\n",
       "     <use xlink:href=\"#mde9751aa6a\" x=\"99.488637\" y=\"55.341924\" style=\"fill: #1f77b4; stroke: #1f77b4\"/>\n",
       "     <use xlink:href=\"#mde9751aa6a\" x=\"116.842062\" y=\"70.828721\" style=\"fill: #1f77b4; stroke: #1f77b4\"/>\n",
       "     <use xlink:href=\"#mde9751aa6a\" x=\"134.359496\" y=\"90.458665\" style=\"fill: #1f77b4; stroke: #1f77b4\"/>\n",
       "     <use xlink:href=\"#mde9751aa6a\" x=\"129.369365\" y=\"62.622829\" style=\"fill: #1f77b4; stroke: #1f77b4\"/>\n",
       "     <use xlink:href=\"#mde9751aa6a\" x=\"101.226669\" y=\"55.435252\" style=\"fill: #1f77b4; stroke: #1f77b4\"/>\n",
       "     <use xlink:href=\"#mde9751aa6a\" x=\"121.871882\" y=\"70.142079\" style=\"fill: #1f77b4; stroke: #1f77b4\"/>\n",
       "     <use xlink:href=\"#mde9751aa6a\" x=\"144.425517\" y=\"57.677988\" style=\"fill: #1f77b4; stroke: #1f77b4\"/>\n",
       "     <use xlink:href=\"#mde9751aa6a\" x=\"143.174642\" y=\"77.076345\" style=\"fill: #1f77b4; stroke: #1f77b4\"/>\n",
       "     <use xlink:href=\"#mde9751aa6a\" x=\"120.708336\" y=\"69.124884\" style=\"fill: #1f77b4; stroke: #1f77b4\"/>\n",
       "     <use xlink:href=\"#mde9751aa6a\" x=\"111.886578\" y=\"66.92793\" style=\"fill: #1f77b4; stroke: #1f77b4\"/>\n",
       "     <use xlink:href=\"#mde9751aa6a\" x=\"154.783714\" y=\"95.671979\" style=\"fill: #1f77b4; stroke: #1f77b4\"/>\n",
       "     <use xlink:href=\"#mde9751aa6a\" x=\"152.445394\" y=\"95.895112\" style=\"fill: #1f77b4; stroke: #1f77b4\"/>\n",
       "     <use xlink:href=\"#mde9751aa6a\" x=\"138.718983\" y=\"83.739118\" style=\"fill: #1f77b4; stroke: #1f77b4\"/>\n",
       "     <use xlink:href=\"#mde9751aa6a\" x=\"113.957288\" y=\"39.879803\" style=\"fill: #1f77b4; stroke: #1f77b4\"/>\n",
       "     <use xlink:href=\"#mde9751aa6a\" x=\"184.443461\" y=\"109.924102\" style=\"fill: #1f77b4; stroke: #1f77b4\"/>\n",
       "     <use xlink:href=\"#mde9751aa6a\" x=\"151.915136\" y=\"85.464485\" style=\"fill: #1f77b4; stroke: #1f77b4\"/>\n",
       "     <use xlink:href=\"#mde9751aa6a\" x=\"144.368455\" y=\"91.679788\" style=\"fill: #1f77b4; stroke: #1f77b4\"/>\n",
       "     <use xlink:href=\"#mde9751aa6a\" x=\"129.689928\" y=\"62.939981\" style=\"fill: #1f77b4; stroke: #1f77b4\"/>\n",
       "     <use xlink:href=\"#mde9751aa6a\" x=\"154.52191\" y=\"86.865892\" style=\"fill: #1f77b4; stroke: #1f77b4\"/>\n",
       "     <use xlink:href=\"#mde9751aa6a\" x=\"162.980406\" y=\"106.208468\" style=\"fill: #1f77b4; stroke: #1f77b4\"/>\n",
       "     <use xlink:href=\"#mde9751aa6a\" x=\"103.005292\" y=\"52.360162\" style=\"fill: #1f77b4; stroke: #1f77b4\"/>\n",
       "     <use xlink:href=\"#mde9751aa6a\" x=\"108.458301\" y=\"72.990648\" style=\"fill: #1f77b4; stroke: #1f77b4\"/>\n",
       "     <use xlink:href=\"#mde9751aa6a\" x=\"168.117576\" y=\"84.00848\" style=\"fill: #1f77b4; stroke: #1f77b4\"/>\n",
       "     <use xlink:href=\"#mde9751aa6a\" x=\"114.047676\" y=\"57.644135\" style=\"fill: #1f77b4; stroke: #1f77b4\"/>\n",
       "     <use xlink:href=\"#mde9751aa6a\" x=\"185.182712\" y=\"113.829324\" style=\"fill: #1f77b4; stroke: #1f77b4\"/>\n",
       "     <use xlink:href=\"#mde9751aa6a\" x=\"116.436896\" y=\"54.02217\" style=\"fill: #1f77b4; stroke: #1f77b4\"/>\n",
       "     <use xlink:href=\"#mde9751aa6a\" x=\"78.107063\" y=\"56.259528\" style=\"fill: #1f77b4; stroke: #1f77b4\"/>\n",
       "     <use xlink:href=\"#mde9751aa6a\" x=\"134.026369\" y=\"89.161054\" style=\"fill: #1f77b4; stroke: #1f77b4\"/>\n",
       "     <use xlink:href=\"#mde9751aa6a\" x=\"123.742491\" y=\"67.875814\" style=\"fill: #1f77b4; stroke: #1f77b4\"/>\n",
       "     <use xlink:href=\"#mde9751aa6a\" x=\"116.546185\" y=\"62.206276\" style=\"fill: #1f77b4; stroke: #1f77b4\"/>\n",
       "     <use xlink:href=\"#mde9751aa6a\" x=\"126.127529\" y=\"81.651693\" style=\"fill: #1f77b4; stroke: #1f77b4\"/>\n",
       "     <use xlink:href=\"#mde9751aa6a\" x=\"153.379173\" y=\"78.774587\" style=\"fill: #1f77b4; stroke: #1f77b4\"/>\n",
       "     <use xlink:href=\"#mde9751aa6a\" x=\"86.784343\" y=\"37.949724\" style=\"fill: #1f77b4; stroke: #1f77b4\"/>\n",
       "     <use xlink:href=\"#mde9751aa6a\" x=\"130.506847\" y=\"78.833588\" style=\"fill: #1f77b4; stroke: #1f77b4\"/>\n",
       "     <use xlink:href=\"#mde9751aa6a\" x=\"109.599775\" y=\"68.222395\" style=\"fill: #1f77b4; stroke: #1f77b4\"/>\n",
       "     <use xlink:href=\"#mde9751aa6a\" x=\"112.575825\" y=\"53.444982\" style=\"fill: #1f77b4; stroke: #1f77b4\"/>\n",
       "     <use xlink:href=\"#mde9751aa6a\" x=\"119.127449\" y=\"72.503564\" style=\"fill: #1f77b4; stroke: #1f77b4\"/>\n",
       "     <use xlink:href=\"#mde9751aa6a\" x=\"155.272106\" y=\"101.702255\" style=\"fill: #1f77b4; stroke: #1f77b4\"/>\n",
       "     <use xlink:href=\"#mde9751aa6a\" x=\"144.081787\" y=\"76.01678\" style=\"fill: #1f77b4; stroke: #1f77b4\"/>\n",
       "     <use xlink:href=\"#mde9751aa6a\" x=\"178.518262\" y=\"87.294342\" style=\"fill: #1f77b4; stroke: #1f77b4\"/>\n",
       "     <use xlink:href=\"#mde9751aa6a\" x=\"151.666001\" y=\"84.845152\" style=\"fill: #1f77b4; stroke: #1f77b4\"/>\n",
       "     <use xlink:href=\"#mde9751aa6a\" x=\"112.578232\" y=\"49.852161\" style=\"fill: #1f77b4; stroke: #1f77b4\"/>\n",
       "     <use xlink:href=\"#mde9751aa6a\" x=\"137.127077\" y=\"66.802733\" style=\"fill: #1f77b4; stroke: #1f77b4\"/>\n",
       "     <use xlink:href=\"#mde9751aa6a\" x=\"57.456492\" y=\"37.325552\" style=\"fill: #1f77b4; stroke: #1f77b4\"/>\n",
       "     <use xlink:href=\"#mde9751aa6a\" x=\"118.081325\" y=\"51.147931\" style=\"fill: #1f77b4; stroke: #1f77b4\"/>\n",
       "     <use xlink:href=\"#mde9751aa6a\" x=\"141.096842\" y=\"68.626309\" style=\"fill: #1f77b4; stroke: #1f77b4\"/>\n",
       "     <use xlink:href=\"#mde9751aa6a\" x=\"143.036039\" y=\"66.990589\" style=\"fill: #1f77b4; stroke: #1f77b4\"/>\n",
       "     <use xlink:href=\"#mde9751aa6a\" x=\"96.396286\" y=\"61.318191\" style=\"fill: #1f77b4; stroke: #1f77b4\"/>\n",
       "     <use xlink:href=\"#mde9751aa6a\" x=\"126.675239\" y=\"92.448942\" style=\"fill: #1f77b4; stroke: #1f77b4\"/>\n",
       "     <use xlink:href=\"#mde9751aa6a\" x=\"112.426835\" y=\"69.022711\" style=\"fill: #1f77b4; stroke: #1f77b4\"/>\n",
       "     <use xlink:href=\"#mde9751aa6a\" x=\"176.703144\" y=\"98.944208\" style=\"fill: #1f77b4; stroke: #1f77b4\"/>\n",
       "     <use xlink:href=\"#mde9751aa6a\" x=\"143.193715\" y=\"102.340894\" style=\"fill: #1f77b4; stroke: #1f77b4\"/>\n",
       "     <use xlink:href=\"#mde9751aa6a\" x=\"129.659511\" y=\"74.036214\" style=\"fill: #1f77b4; stroke: #1f77b4\"/>\n",
       "     <use xlink:href=\"#mde9751aa6a\" x=\"97.619055\" y=\"49.339596\" style=\"fill: #1f77b4; stroke: #1f77b4\"/>\n",
       "     <use xlink:href=\"#mde9751aa6a\" x=\"124.260135\" y=\"71.715614\" style=\"fill: #1f77b4; stroke: #1f77b4\"/>\n",
       "     <use xlink:href=\"#mde9751aa6a\" x=\"117.332316\" y=\"48.928639\" style=\"fill: #1f77b4; stroke: #1f77b4\"/>\n",
       "     <use xlink:href=\"#mde9751aa6a\" x=\"135.663946\" y=\"93.527232\" style=\"fill: #1f77b4; stroke: #1f77b4\"/>\n",
       "     <use xlink:href=\"#mde9751aa6a\" x=\"158.321012\" y=\"99.04252\" style=\"fill: #1f77b4; stroke: #1f77b4\"/>\n",
       "     <use xlink:href=\"#mde9751aa6a\" x=\"102.622687\" y=\"46.011857\" style=\"fill: #1f77b4; stroke: #1f77b4\"/>\n",
       "     <use xlink:href=\"#mde9751aa6a\" x=\"104.945485\" y=\"48.323919\" style=\"fill: #1f77b4; stroke: #1f77b4\"/>\n",
       "     <use xlink:href=\"#mde9751aa6a\" x=\"115.508188\" y=\"69.322627\" style=\"fill: #1f77b4; stroke: #1f77b4\"/>\n",
       "     <use xlink:href=\"#mde9751aa6a\" x=\"141.184829\" y=\"88.463285\" style=\"fill: #1f77b4; stroke: #1f77b4\"/>\n",
       "     <use xlink:href=\"#mde9751aa6a\" x=\"138.33404\" y=\"79.147816\" style=\"fill: #1f77b4; stroke: #1f77b4\"/>\n",
       "     <use xlink:href=\"#mde9751aa6a\" x=\"112.032299\" y=\"68.874184\" style=\"fill: #1f77b4; stroke: #1f77b4\"/>\n",
       "     <use xlink:href=\"#mde9751aa6a\" x=\"144.75018\" y=\"80.532061\" style=\"fill: #1f77b4; stroke: #1f77b4\"/>\n",
       "     <use xlink:href=\"#mde9751aa6a\" x=\"127.061354\" y=\"65.22906\" style=\"fill: #1f77b4; stroke: #1f77b4\"/>\n",
       "     <use xlink:href=\"#mde9751aa6a\" x=\"117.785849\" y=\"88.203128\" style=\"fill: #1f77b4; stroke: #1f77b4\"/>\n",
       "     <use xlink:href=\"#mde9751aa6a\" x=\"197.263701\" y=\"124.800958\" style=\"fill: #1f77b4; stroke: #1f77b4\"/>\n",
       "     <use xlink:href=\"#mde9751aa6a\" x=\"170.656161\" y=\"110.457045\" style=\"fill: #1f77b4; stroke: #1f77b4\"/>\n",
       "     <use xlink:href=\"#mde9751aa6a\" x=\"152.749041\" y=\"81.798738\" style=\"fill: #1f77b4; stroke: #1f77b4\"/>\n",
       "     <use xlink:href=\"#mde9751aa6a\" x=\"170.497636\" y=\"118.417106\" style=\"fill: #1f77b4; stroke: #1f77b4\"/>\n",
       "     <use xlink:href=\"#mde9751aa6a\" x=\"167.203577\" y=\"109.990488\" style=\"fill: #1f77b4; stroke: #1f77b4\"/>\n",
       "     <use xlink:href=\"#mde9751aa6a\" x=\"86.781974\" y=\"44.517755\" style=\"fill: #1f77b4; stroke: #1f77b4\"/>\n",
       "     <use xlink:href=\"#mde9751aa6a\" x=\"119.710225\" y=\"60.306503\" style=\"fill: #1f77b4; stroke: #1f77b4\"/>\n",
       "     <use xlink:href=\"#mde9751aa6a\" x=\"165.92242\" y=\"105.60788\" style=\"fill: #1f77b4; stroke: #1f77b4\"/>\n",
       "     <use xlink:href=\"#mde9751aa6a\" x=\"153.904534\" y=\"80.718113\" style=\"fill: #1f77b4; stroke: #1f77b4\"/>\n",
       "     <use xlink:href=\"#mde9751aa6a\" x=\"170.222595\" y=\"108.748234\" style=\"fill: #1f77b4; stroke: #1f77b4\"/>\n",
       "     <use xlink:href=\"#mde9751aa6a\" x=\"117.442685\" y=\"77.336324\" style=\"fill: #1f77b4; stroke: #1f77b4\"/>\n",
       "     <use xlink:href=\"#mde9751aa6a\" x=\"99.904704\" y=\"47.093238\" style=\"fill: #1f77b4; stroke: #1f77b4\"/>\n",
       "     <use xlink:href=\"#mde9751aa6a\" x=\"139.480091\" y=\"87.70396\" style=\"fill: #1f77b4; stroke: #1f77b4\"/>\n",
       "     <use xlink:href=\"#mde9751aa6a\" x=\"179.847096\" y=\"102.978355\" style=\"fill: #1f77b4; stroke: #1f77b4\"/>\n",
       "     <use xlink:href=\"#mde9751aa6a\" x=\"140.885933\" y=\"82.917752\" style=\"fill: #1f77b4; stroke: #1f77b4\"/>\n",
       "     <use xlink:href=\"#mde9751aa6a\" x=\"91.676185\" y=\"38.5415\" style=\"fill: #1f77b4; stroke: #1f77b4\"/>\n",
       "     <use xlink:href=\"#mde9751aa6a\" x=\"138.603035\" y=\"96.03013\" style=\"fill: #1f77b4; stroke: #1f77b4\"/>\n",
       "     <use xlink:href=\"#mde9751aa6a\" x=\"106.44575\" y=\"79.227752\" style=\"fill: #1f77b4; stroke: #1f77b4\"/>\n",
       "     <use xlink:href=\"#mde9751aa6a\" x=\"121.770824\" y=\"73.169561\" style=\"fill: #1f77b4; stroke: #1f77b4\"/>\n",
       "     <use xlink:href=\"#mde9751aa6a\" x=\"182.835539\" y=\"79.783792\" style=\"fill: #1f77b4; stroke: #1f77b4\"/>\n",
       "     <use xlink:href=\"#mde9751aa6a\" x=\"126.381578\" y=\"72.730557\" style=\"fill: #1f77b4; stroke: #1f77b4\"/>\n",
       "     <use xlink:href=\"#mde9751aa6a\" x=\"103.489252\" y=\"44.941072\" style=\"fill: #1f77b4; stroke: #1f77b4\"/>\n",
       "     <use xlink:href=\"#mde9751aa6a\" x=\"154.555437\" y=\"93.115303\" style=\"fill: #1f77b4; stroke: #1f77b4\"/>\n",
       "     <use xlink:href=\"#mde9751aa6a\" x=\"165.746042\" y=\"90.69776\" style=\"fill: #1f77b4; stroke: #1f77b4\"/>\n",
       "     <use xlink:href=\"#mde9751aa6a\" x=\"124.433869\" y=\"77.213456\" style=\"fill: #1f77b4; stroke: #1f77b4\"/>\n",
       "     <use xlink:href=\"#mde9751aa6a\" x=\"166.552439\" y=\"88.398007\" style=\"fill: #1f77b4; stroke: #1f77b4\"/>\n",
       "     <use xlink:href=\"#mde9751aa6a\" x=\"186.070046\" y=\"119.620852\" style=\"fill: #1f77b4; stroke: #1f77b4\"/>\n",
       "     <use xlink:href=\"#mde9751aa6a\" x=\"139.126788\" y=\"82.924335\" style=\"fill: #1f77b4; stroke: #1f77b4\"/>\n",
       "     <use xlink:href=\"#mde9751aa6a\" x=\"139.572011\" y=\"83.384553\" style=\"fill: #1f77b4; stroke: #1f77b4\"/>\n",
       "     <use xlink:href=\"#mde9751aa6a\" x=\"99.133152\" y=\"54.077615\" style=\"fill: #1f77b4; stroke: #1f77b4\"/>\n",
       "     <use xlink:href=\"#mde9751aa6a\" x=\"46.19927\" y=\"22.704831\" style=\"fill: #1f77b4; stroke: #1f77b4\"/>\n",
       "     <use xlink:href=\"#mde9751aa6a\" x=\"99.071731\" y=\"75.544723\" style=\"fill: #1f77b4; stroke: #1f77b4\"/>\n",
       "     <use xlink:href=\"#mde9751aa6a\" x=\"110.810078\" y=\"62.01094\" style=\"fill: #1f77b4; stroke: #1f77b4\"/>\n",
       "     <use xlink:href=\"#mde9751aa6a\" x=\"153.363546\" y=\"86.707354\" style=\"fill: #1f77b4; stroke: #1f77b4\"/>\n",
       "     <use xlink:href=\"#mde9751aa6a\" x=\"131.826332\" y=\"72.222282\" style=\"fill: #1f77b4; stroke: #1f77b4\"/>\n",
       "     <use xlink:href=\"#mde9751aa6a\" x=\"161.760751\" y=\"61.754004\" style=\"fill: #1f77b4; stroke: #1f77b4\"/>\n",
       "     <use xlink:href=\"#mde9751aa6a\" x=\"153.268176\" y=\"93.478719\" style=\"fill: #1f77b4; stroke: #1f77b4\"/>\n",
       "     <use xlink:href=\"#mde9751aa6a\" x=\"130.16122\" y=\"91.743461\" style=\"fill: #1f77b4; stroke: #1f77b4\"/>\n",
       "     <use xlink:href=\"#mde9751aa6a\" x=\"127.730773\" y=\"56.630562\" style=\"fill: #1f77b4; stroke: #1f77b4\"/>\n",
       "     <use xlink:href=\"#mde9751aa6a\" x=\"144.172986\" y=\"84.581928\" style=\"fill: #1f77b4; stroke: #1f77b4\"/>\n",
       "     <use xlink:href=\"#mde9751aa6a\" x=\"110.579511\" y=\"68.922782\" style=\"fill: #1f77b4; stroke: #1f77b4\"/>\n",
       "     <use xlink:href=\"#mde9751aa6a\" x=\"136.901727\" y=\"68.235723\" style=\"fill: #1f77b4; stroke: #1f77b4\"/>\n",
       "     <use xlink:href=\"#mde9751aa6a\" x=\"114.596188\" y=\"71.604715\" style=\"fill: #1f77b4; stroke: #1f77b4\"/>\n",
       "     <use xlink:href=\"#mde9751aa6a\" x=\"130.861504\" y=\"65.719361\" style=\"fill: #1f77b4; stroke: #1f77b4\"/>\n",
       "     <use xlink:href=\"#mde9751aa6a\" x=\"187.753567\" y=\"124.717421\" style=\"fill: #1f77b4; stroke: #1f77b4\"/>\n",
       "     <use xlink:href=\"#mde9751aa6a\" x=\"112.20904\" y=\"62.356479\" style=\"fill: #1f77b4; stroke: #1f77b4\"/>\n",
       "     <use xlink:href=\"#mde9751aa6a\" x=\"133.535616\" y=\"74.84076\" style=\"fill: #1f77b4; stroke: #1f77b4\"/>\n",
       "     <use xlink:href=\"#mde9751aa6a\" x=\"141.13265\" y=\"64.409761\" style=\"fill: #1f77b4; stroke: #1f77b4\"/>\n",
       "     <use xlink:href=\"#mde9751aa6a\" x=\"132.944387\" y=\"76.530623\" style=\"fill: #1f77b4; stroke: #1f77b4\"/>\n",
       "     <use xlink:href=\"#mde9751aa6a\" x=\"163.437619\" y=\"88.357808\" style=\"fill: #1f77b4; stroke: #1f77b4\"/>\n",
       "     <use xlink:href=\"#mde9751aa6a\" x=\"121.4392\" y=\"77.647627\" style=\"fill: #1f77b4; stroke: #1f77b4\"/>\n",
       "     <use xlink:href=\"#mde9751aa6a\" x=\"166.58448\" y=\"103.47253\" style=\"fill: #1f77b4; stroke: #1f77b4\"/>\n",
       "     <use xlink:href=\"#mde9751aa6a\" x=\"158.217924\" y=\"78.639578\" style=\"fill: #1f77b4; stroke: #1f77b4\"/>\n",
       "     <use xlink:href=\"#mde9751aa6a\" x=\"158.453635\" y=\"87.915415\" style=\"fill: #1f77b4; stroke: #1f77b4\"/>\n",
       "     <use xlink:href=\"#mde9751aa6a\" x=\"165.983479\" y=\"95.694121\" style=\"fill: #1f77b4; stroke: #1f77b4\"/>\n",
       "     <use xlink:href=\"#mde9751aa6a\" x=\"116.647298\" y=\"71.61712\" style=\"fill: #1f77b4; stroke: #1f77b4\"/>\n",
       "     <use xlink:href=\"#mde9751aa6a\" x=\"188.129397\" y=\"121.171286\" style=\"fill: #1f77b4; stroke: #1f77b4\"/>\n",
       "     <use xlink:href=\"#mde9751aa6a\" x=\"120.006997\" y=\"79.26157\" style=\"fill: #1f77b4; stroke: #1f77b4\"/>\n",
       "     <use xlink:href=\"#mde9751aa6a\" x=\"147.094225\" y=\"78.414942\" style=\"fill: #1f77b4; stroke: #1f77b4\"/>\n",
       "     <use xlink:href=\"#mde9751aa6a\" x=\"153.462373\" y=\"70.690751\" style=\"fill: #1f77b4; stroke: #1f77b4\"/>\n",
       "     <use xlink:href=\"#mde9751aa6a\" x=\"169.466519\" y=\"108.90087\" style=\"fill: #1f77b4; stroke: #1f77b4\"/>\n",
       "     <use xlink:href=\"#mde9751aa6a\" x=\"146.489594\" y=\"96.82847\" style=\"fill: #1f77b4; stroke: #1f77b4\"/>\n",
       "     <use xlink:href=\"#mde9751aa6a\" x=\"123.471479\" y=\"56.802639\" style=\"fill: #1f77b4; stroke: #1f77b4\"/>\n",
       "     <use xlink:href=\"#mde9751aa6a\" x=\"151.773937\" y=\"75.323565\" style=\"fill: #1f77b4; stroke: #1f77b4\"/>\n",
       "     <use xlink:href=\"#mde9751aa6a\" x=\"159.630024\" y=\"91.997796\" style=\"fill: #1f77b4; stroke: #1f77b4\"/>\n",
       "     <use xlink:href=\"#mde9751aa6a\" x=\"102.739825\" y=\"56.929995\" style=\"fill: #1f77b4; stroke: #1f77b4\"/>\n",
       "     <use xlink:href=\"#mde9751aa6a\" x=\"151.088326\" y=\"113.471028\" style=\"fill: #1f77b4; stroke: #1f77b4\"/>\n",
       "     <use xlink:href=\"#mde9751aa6a\" x=\"121.965329\" y=\"98.486133\" style=\"fill: #1f77b4; stroke: #1f77b4\"/>\n",
       "     <use xlink:href=\"#mde9751aa6a\" x=\"101.743324\" y=\"76.707689\" style=\"fill: #1f77b4; stroke: #1f77b4\"/>\n",
       "     <use xlink:href=\"#mde9751aa6a\" x=\"118.13117\" y=\"68.251195\" style=\"fill: #1f77b4; stroke: #1f77b4\"/>\n",
       "     <use xlink:href=\"#mde9751aa6a\" x=\"109.274146\" y=\"61.165364\" style=\"fill: #1f77b4; stroke: #1f77b4\"/>\n",
       "     <use xlink:href=\"#mde9751aa6a\" x=\"125.877794\" y=\"86.718026\" style=\"fill: #1f77b4; stroke: #1f77b4\"/>\n",
       "     <use xlink:href=\"#mde9751aa6a\" x=\"160.10542\" y=\"95.482089\" style=\"fill: #1f77b4; stroke: #1f77b4\"/>\n",
       "     <use xlink:href=\"#mde9751aa6a\" x=\"129.311245\" y=\"90.43488\" style=\"fill: #1f77b4; stroke: #1f77b4\"/>\n",
       "     <use xlink:href=\"#mde9751aa6a\" x=\"142.591861\" y=\"83.202507\" style=\"fill: #1f77b4; stroke: #1f77b4\"/>\n",
       "     <use xlink:href=\"#mde9751aa6a\" x=\"133.505207\" y=\"84.259028\" style=\"fill: #1f77b4; stroke: #1f77b4\"/>\n",
       "     <use xlink:href=\"#mde9751aa6a\" x=\"107.664396\" y=\"74.107296\" style=\"fill: #1f77b4; stroke: #1f77b4\"/>\n",
       "     <use xlink:href=\"#mde9751aa6a\" x=\"172.774924\" y=\"100.891844\" style=\"fill: #1f77b4; stroke: #1f77b4\"/>\n",
       "     <use xlink:href=\"#mde9751aa6a\" x=\"169.98447\" y=\"112.49335\" style=\"fill: #1f77b4; stroke: #1f77b4\"/>\n",
       "     <use xlink:href=\"#mde9751aa6a\" x=\"125.274833\" y=\"69.805249\" style=\"fill: #1f77b4; stroke: #1f77b4\"/>\n",
       "     <use xlink:href=\"#mde9751aa6a\" x=\"156.949717\" y=\"88.968464\" style=\"fill: #1f77b4; stroke: #1f77b4\"/>\n",
       "     <use xlink:href=\"#mde9751aa6a\" x=\"150.014479\" y=\"85.51403\" style=\"fill: #1f77b4; stroke: #1f77b4\"/>\n",
       "     <use xlink:href=\"#mde9751aa6a\" x=\"112.153574\" y=\"49.019019\" style=\"fill: #1f77b4; stroke: #1f77b4\"/>\n",
       "     <use xlink:href=\"#mde9751aa6a\" x=\"129.686477\" y=\"70.29149\" style=\"fill: #1f77b4; stroke: #1f77b4\"/>\n",
       "     <use xlink:href=\"#mde9751aa6a\" x=\"152.156959\" y=\"88.734857\" style=\"fill: #1f77b4; stroke: #1f77b4\"/>\n",
       "     <use xlink:href=\"#mde9751aa6a\" x=\"150.70891\" y=\"81.48716\" style=\"fill: #1f77b4; stroke: #1f77b4\"/>\n",
       "     <use xlink:href=\"#mde9751aa6a\" x=\"128.846422\" y=\"67.982409\" style=\"fill: #1f77b4; stroke: #1f77b4\"/>\n",
       "     <use xlink:href=\"#mde9751aa6a\" x=\"163.445895\" y=\"109.886648\" style=\"fill: #1f77b4; stroke: #1f77b4\"/>\n",
       "     <use xlink:href=\"#mde9751aa6a\" x=\"141.039124\" y=\"74.805038\" style=\"fill: #1f77b4; stroke: #1f77b4\"/>\n",
       "     <use xlink:href=\"#mde9751aa6a\" x=\"123.141643\" y=\"55.077551\" style=\"fill: #1f77b4; stroke: #1f77b4\"/>\n",
       "     <use xlink:href=\"#mde9751aa6a\" x=\"154.913231\" y=\"86.203356\" style=\"fill: #1f77b4; stroke: #1f77b4\"/>\n",
       "     <use xlink:href=\"#mde9751aa6a\" x=\"110.811998\" y=\"65.988025\" style=\"fill: #1f77b4; stroke: #1f77b4\"/>\n",
       "     <use xlink:href=\"#mde9751aa6a\" x=\"143.22007\" y=\"90.946772\" style=\"fill: #1f77b4; stroke: #1f77b4\"/>\n",
       "     <use xlink:href=\"#mde9751aa6a\" x=\"191.43532\" y=\"108.995557\" style=\"fill: #1f77b4; stroke: #1f77b4\"/>\n",
       "     <use xlink:href=\"#mde9751aa6a\" x=\"143.294177\" y=\"79.651996\" style=\"fill: #1f77b4; stroke: #1f77b4\"/>\n",
       "     <use xlink:href=\"#mde9751aa6a\" x=\"141.578039\" y=\"85.85169\" style=\"fill: #1f77b4; stroke: #1f77b4\"/>\n",
       "     <use xlink:href=\"#mde9751aa6a\" x=\"161.210228\" y=\"82.843517\" style=\"fill: #1f77b4; stroke: #1f77b4\"/>\n",
       "     <use xlink:href=\"#mde9751aa6a\" x=\"159.86564\" y=\"84.298725\" style=\"fill: #1f77b4; stroke: #1f77b4\"/>\n",
       "     <use xlink:href=\"#mde9751aa6a\" x=\"114.058047\" y=\"78.74359\" style=\"fill: #1f77b4; stroke: #1f77b4\"/>\n",
       "     <use xlink:href=\"#mde9751aa6a\" x=\"107.504479\" y=\"55.837\" style=\"fill: #1f77b4; stroke: #1f77b4\"/>\n",
       "     <use xlink:href=\"#mde9751aa6a\" x=\"95.505196\" y=\"43.638921\" style=\"fill: #1f77b4; stroke: #1f77b4\"/>\n",
       "     <use xlink:href=\"#mde9751aa6a\" x=\"145.458903\" y=\"79.293334\" style=\"fill: #1f77b4; stroke: #1f77b4\"/>\n",
       "     <use xlink:href=\"#mde9751aa6a\" x=\"159.815619\" y=\"78.71866\" style=\"fill: #1f77b4; stroke: #1f77b4\"/>\n",
       "     <use xlink:href=\"#mde9751aa6a\" x=\"166.20788\" y=\"85.794775\" style=\"fill: #1f77b4; stroke: #1f77b4\"/>\n",
       "     <use xlink:href=\"#mde9751aa6a\" x=\"133.358118\" y=\"78.750311\" style=\"fill: #1f77b4; stroke: #1f77b4\"/>\n",
       "     <use xlink:href=\"#mde9751aa6a\" x=\"145.686149\" y=\"57.265359\" style=\"fill: #1f77b4; stroke: #1f77b4\"/>\n",
       "     <use xlink:href=\"#mde9751aa6a\" x=\"156.640436\" y=\"92.744745\" style=\"fill: #1f77b4; stroke: #1f77b4\"/>\n",
       "     <use xlink:href=\"#mde9751aa6a\" x=\"139.70398\" y=\"73.911655\" style=\"fill: #1f77b4; stroke: #1f77b4\"/>\n",
       "     <use xlink:href=\"#mde9751aa6a\" x=\"111.652781\" y=\"51.676496\" style=\"fill: #1f77b4; stroke: #1f77b4\"/>\n",
       "     <use xlink:href=\"#mde9751aa6a\" x=\"143.412675\" y=\"80.096503\" style=\"fill: #1f77b4; stroke: #1f77b4\"/>\n",
       "     <use xlink:href=\"#mde9751aa6a\" x=\"125.328152\" y=\"65.951993\" style=\"fill: #1f77b4; stroke: #1f77b4\"/>\n",
       "     <use xlink:href=\"#mde9751aa6a\" x=\"161.722473\" y=\"99.71086\" style=\"fill: #1f77b4; stroke: #1f77b4\"/>\n",
       "     <use xlink:href=\"#mde9751aa6a\" x=\"183.988608\" y=\"91.554706\" style=\"fill: #1f77b4; stroke: #1f77b4\"/>\n",
       "     <use xlink:href=\"#mde9751aa6a\" x=\"113.410378\" y=\"50.335965\" style=\"fill: #1f77b4; stroke: #1f77b4\"/>\n",
       "     <use xlink:href=\"#mde9751aa6a\" x=\"171.974207\" y=\"102.462347\" style=\"fill: #1f77b4; stroke: #1f77b4\"/>\n",
       "     <use xlink:href=\"#mde9751aa6a\" x=\"109.220177\" y=\"74.71564\" style=\"fill: #1f77b4; stroke: #1f77b4\"/>\n",
       "     <use xlink:href=\"#mde9751aa6a\" x=\"107.313304\" y=\"49.037165\" style=\"fill: #1f77b4; stroke: #1f77b4\"/>\n",
       "     <use xlink:href=\"#mde9751aa6a\" x=\"144.099507\" y=\"99.319027\" style=\"fill: #1f77b4; stroke: #1f77b4\"/>\n",
       "     <use xlink:href=\"#mde9751aa6a\" x=\"120.014639\" y=\"63.443827\" style=\"fill: #1f77b4; stroke: #1f77b4\"/>\n",
       "     <use xlink:href=\"#mde9751aa6a\" x=\"79.138368\" y=\"49.792652\" style=\"fill: #1f77b4; stroke: #1f77b4\"/>\n",
       "     <use xlink:href=\"#mde9751aa6a\" x=\"97.354984\" y=\"50.05611\" style=\"fill: #1f77b4; stroke: #1f77b4\"/>\n",
       "     <use xlink:href=\"#mde9751aa6a\" x=\"128.570821\" y=\"81.321182\" style=\"fill: #1f77b4; stroke: #1f77b4\"/>\n",
       "     <use xlink:href=\"#mde9751aa6a\" x=\"131.567474\" y=\"69.957292\" style=\"fill: #1f77b4; stroke: #1f77b4\"/>\n",
       "     <use xlink:href=\"#mde9751aa6a\" x=\"104.645091\" y=\"68.891507\" style=\"fill: #1f77b4; stroke: #1f77b4\"/>\n",
       "     <use xlink:href=\"#mde9751aa6a\" x=\"165.296205\" y=\"95.101502\" style=\"fill: #1f77b4; stroke: #1f77b4\"/>\n",
       "     <use xlink:href=\"#mde9751aa6a\" x=\"161.474545\" y=\"84.560723\" style=\"fill: #1f77b4; stroke: #1f77b4\"/>\n",
       "     <use xlink:href=\"#mde9751aa6a\" x=\"123.758528\" y=\"74.74637\" style=\"fill: #1f77b4; stroke: #1f77b4\"/>\n",
       "     <use xlink:href=\"#mde9751aa6a\" x=\"141.698516\" y=\"96.862877\" style=\"fill: #1f77b4; stroke: #1f77b4\"/>\n",
       "     <use xlink:href=\"#mde9751aa6a\" x=\"137.058756\" y=\"66.429506\" style=\"fill: #1f77b4; stroke: #1f77b4\"/>\n",
       "     <use xlink:href=\"#mde9751aa6a\" x=\"157.781312\" y=\"100.420989\" style=\"fill: #1f77b4; stroke: #1f77b4\"/>\n",
       "     <use xlink:href=\"#mde9751aa6a\" x=\"142.896824\" y=\"70.452717\" style=\"fill: #1f77b4; stroke: #1f77b4\"/>\n",
       "     <use xlink:href=\"#mde9751aa6a\" x=\"151.719877\" y=\"71.523306\" style=\"fill: #1f77b4; stroke: #1f77b4\"/>\n",
       "     <use xlink:href=\"#mde9751aa6a\" x=\"158.842909\" y=\"87.289716\" style=\"fill: #1f77b4; stroke: #1f77b4\"/>\n",
       "     <use xlink:href=\"#mde9751aa6a\" x=\"90.109306\" y=\"59.703472\" style=\"fill: #1f77b4; stroke: #1f77b4\"/>\n",
       "     <use xlink:href=\"#mde9751aa6a\" x=\"177.295904\" y=\"102.175767\" style=\"fill: #1f77b4; stroke: #1f77b4\"/>\n",
       "     <use xlink:href=\"#mde9751aa6a\" x=\"139.144837\" y=\"78.749557\" style=\"fill: #1f77b4; stroke: #1f77b4\"/>\n",
       "     <use xlink:href=\"#mde9751aa6a\" x=\"114.613345\" y=\"60.908929\" style=\"fill: #1f77b4; stroke: #1f77b4\"/>\n",
       "     <use xlink:href=\"#mde9751aa6a\" x=\"163.440545\" y=\"88.806566\" style=\"fill: #1f77b4; stroke: #1f77b4\"/>\n",
       "     <use xlink:href=\"#mde9751aa6a\" x=\"169.995208\" y=\"94.346695\" style=\"fill: #1f77b4; stroke: #1f77b4\"/>\n",
       "     <use xlink:href=\"#mde9751aa6a\" x=\"110.842635\" y=\"55.136\" style=\"fill: #1f77b4; stroke: #1f77b4\"/>\n",
       "     <use xlink:href=\"#mde9751aa6a\" x=\"166.266179\" y=\"80.40354\" style=\"fill: #1f77b4; stroke: #1f77b4\"/>\n",
       "     <use xlink:href=\"#mde9751aa6a\" x=\"117.756176\" y=\"53.393214\" style=\"fill: #1f77b4; stroke: #1f77b4\"/>\n",
       "     <use xlink:href=\"#mde9751aa6a\" x=\"171.382481\" y=\"91.61669\" style=\"fill: #1f77b4; stroke: #1f77b4\"/>\n",
       "     <use xlink:href=\"#mde9751aa6a\" x=\"141.958914\" y=\"78.836335\" style=\"fill: #1f77b4; stroke: #1f77b4\"/>\n",
       "     <use xlink:href=\"#mde9751aa6a\" x=\"146.218986\" y=\"78.668694\" style=\"fill: #1f77b4; stroke: #1f77b4\"/>\n",
       "     <use xlink:href=\"#mde9751aa6a\" x=\"100.46429\" y=\"59.386494\" style=\"fill: #1f77b4; stroke: #1f77b4\"/>\n",
       "     <use xlink:href=\"#mde9751aa6a\" x=\"134.038625\" y=\"65.031128\" style=\"fill: #1f77b4; stroke: #1f77b4\"/>\n",
       "     <use xlink:href=\"#mde9751aa6a\" x=\"172.652746\" y=\"100.278348\" style=\"fill: #1f77b4; stroke: #1f77b4\"/>\n",
       "     <use xlink:href=\"#mde9751aa6a\" x=\"164.895244\" y=\"116.452673\" style=\"fill: #1f77b4; stroke: #1f77b4\"/>\n",
       "     <use xlink:href=\"#mde9751aa6a\" x=\"107.419826\" y=\"44.603181\" style=\"fill: #1f77b4; stroke: #1f77b4\"/>\n",
       "     <use xlink:href=\"#mde9751aa6a\" x=\"157.181988\" y=\"105.529239\" style=\"fill: #1f77b4; stroke: #1f77b4\"/>\n",
       "     <use xlink:href=\"#mde9751aa6a\" x=\"115.183653\" y=\"50.549841\" style=\"fill: #1f77b4; stroke: #1f77b4\"/>\n",
       "     <use xlink:href=\"#mde9751aa6a\" x=\"204.831721\" y=\"115.570483\" style=\"fill: #1f77b4; stroke: #1f77b4\"/>\n",
       "     <use xlink:href=\"#mde9751aa6a\" x=\"149.424961\" y=\"77.029404\" style=\"fill: #1f77b4; stroke: #1f77b4\"/>\n",
       "     <use xlink:href=\"#mde9751aa6a\" x=\"140.670601\" y=\"64.01671\" style=\"fill: #1f77b4; stroke: #1f77b4\"/>\n",
       "     <use xlink:href=\"#mde9751aa6a\" x=\"63.8592\" y=\"24.628611\" style=\"fill: #1f77b4; stroke: #1f77b4\"/>\n",
       "     <use xlink:href=\"#mde9751aa6a\" x=\"122.828406\" y=\"87.710875\" style=\"fill: #1f77b4; stroke: #1f77b4\"/>\n",
       "     <use xlink:href=\"#mde9751aa6a\" x=\"135.764416\" y=\"87.936838\" style=\"fill: #1f77b4; stroke: #1f77b4\"/>\n",
       "     <use xlink:href=\"#mde9751aa6a\" x=\"146.116118\" y=\"98.67775\" style=\"fill: #1f77b4; stroke: #1f77b4\"/>\n",
       "     <use xlink:href=\"#mde9751aa6a\" x=\"98.642464\" y=\"46.482676\" style=\"fill: #1f77b4; stroke: #1f77b4\"/>\n",
       "     <use xlink:href=\"#mde9751aa6a\" x=\"158.547997\" y=\"106.695377\" style=\"fill: #1f77b4; stroke: #1f77b4\"/>\n",
       "     <use xlink:href=\"#mde9751aa6a\" x=\"154.999078\" y=\"87.752734\" style=\"fill: #1f77b4; stroke: #1f77b4\"/>\n",
       "     <use xlink:href=\"#mde9751aa6a\" x=\"99.967789\" y=\"71.975972\" style=\"fill: #1f77b4; stroke: #1f77b4\"/>\n",
       "     <use xlink:href=\"#mde9751aa6a\" x=\"108.736761\" y=\"70.042752\" style=\"fill: #1f77b4; stroke: #1f77b4\"/>\n",
       "     <use xlink:href=\"#mde9751aa6a\" x=\"116.072693\" y=\"52.351754\" style=\"fill: #1f77b4; stroke: #1f77b4\"/>\n",
       "     <use xlink:href=\"#mde9751aa6a\" x=\"113.315001\" y=\"54.340658\" style=\"fill: #1f77b4; stroke: #1f77b4\"/>\n",
       "     <use xlink:href=\"#mde9751aa6a\" x=\"134.466936\" y=\"65.278532\" style=\"fill: #1f77b4; stroke: #1f77b4\"/>\n",
       "     <use xlink:href=\"#mde9751aa6a\" x=\"123.554621\" y=\"84.898939\" style=\"fill: #1f77b4; stroke: #1f77b4\"/>\n",
       "     <use xlink:href=\"#mde9751aa6a\" x=\"130.990248\" y=\"83.225508\" style=\"fill: #1f77b4; stroke: #1f77b4\"/>\n",
       "     <use xlink:href=\"#mde9751aa6a\" x=\"149.283601\" y=\"65.315024\" style=\"fill: #1f77b4; stroke: #1f77b4\"/>\n",
       "     <use xlink:href=\"#mde9751aa6a\" x=\"156.394246\" y=\"106.520754\" style=\"fill: #1f77b4; stroke: #1f77b4\"/>\n",
       "     <use xlink:href=\"#mde9751aa6a\" x=\"176.791535\" y=\"105.273405\" style=\"fill: #1f77b4; stroke: #1f77b4\"/>\n",
       "     <use xlink:href=\"#mde9751aa6a\" x=\"107.242149\" y=\"69.875568\" style=\"fill: #1f77b4; stroke: #1f77b4\"/>\n",
       "    </g>\n",
       "   </g>\n",
       "   <g id=\"matplotlib.axis_1\">\n",
       "    <g id=\"xtick_1\">\n",
       "     <g id=\"line2d_1\">\n",
       "      <defs>\n",
       "       <path id=\"mcfe51e0ef2\" d=\"M 0 0 \n",
       "L 0 3.5 \n",
       "\" style=\"stroke: #000000; stroke-width: 0.8\"/>\n",
       "      </defs>\n",
       "      <g>\n",
       "       <use xlink:href=\"#mcfe51e0ef2\" x=\"78.660205\" y=\"143.1\" style=\"stroke: #000000; stroke-width: 0.8\"/>\n",
       "      </g>\n",
       "     </g>\n",
       "     <g id=\"text_1\">\n",
       "      <!-- −2 -->\n",
       "      <g transform=\"translate(71.289112 157.698438)scale(0.1 -0.1)\">\n",
       "       <defs>\n",
       "        <path id=\"DejaVuSans-2212\" d=\"M 678 2272 \n",
       "L 4684 2272 \n",
       "L 4684 1741 \n",
       "L 678 1741 \n",
       "L 678 2272 \n",
       "z\n",
       "\" transform=\"scale(0.015625)\"/>\n",
       "        <path id=\"DejaVuSans-32\" d=\"M 1228 531 \n",
       "L 3431 531 \n",
       "L 3431 0 \n",
       "L 469 0 \n",
       "L 469 531 \n",
       "Q 828 903 1448 1529 \n",
       "Q 2069 2156 2228 2338 \n",
       "Q 2531 2678 2651 2914 \n",
       "Q 2772 3150 2772 3378 \n",
       "Q 2772 3750 2511 3984 \n",
       "Q 2250 4219 1831 4219 \n",
       "Q 1534 4219 1204 4116 \n",
       "Q 875 4013 500 3803 \n",
       "L 500 4441 \n",
       "Q 881 4594 1212 4672 \n",
       "Q 1544 4750 1819 4750 \n",
       "Q 2544 4750 2975 4387 \n",
       "Q 3406 4025 3406 3419 \n",
       "Q 3406 3131 3298 2873 \n",
       "Q 3191 2616 2906 2266 \n",
       "Q 2828 2175 2409 1742 \n",
       "Q 1991 1309 1228 531 \n",
       "z\n",
       "\" transform=\"scale(0.015625)\"/>\n",
       "       </defs>\n",
       "       <use xlink:href=\"#DejaVuSans-2212\"/>\n",
       "       <use xlink:href=\"#DejaVuSans-32\" x=\"83.789062\"/>\n",
       "      </g>\n",
       "     </g>\n",
       "    </g>\n",
       "    <g id=\"xtick_2\">\n",
       "     <g id=\"line2d_2\">\n",
       "      <g>\n",
       "       <use xlink:href=\"#mcfe51e0ef2\" x=\"136.103475\" y=\"143.1\" style=\"stroke: #000000; stroke-width: 0.8\"/>\n",
       "      </g>\n",
       "     </g>\n",
       "     <g id=\"text_2\">\n",
       "      <!-- 0 -->\n",
       "      <g transform=\"translate(132.922225 157.698438)scale(0.1 -0.1)\">\n",
       "       <defs>\n",
       "        <path id=\"DejaVuSans-30\" d=\"M 2034 4250 \n",
       "Q 1547 4250 1301 3770 \n",
       "Q 1056 3291 1056 2328 \n",
       "Q 1056 1369 1301 889 \n",
       "Q 1547 409 2034 409 \n",
       "Q 2525 409 2770 889 \n",
       "Q 3016 1369 3016 2328 \n",
       "Q 3016 3291 2770 3770 \n",
       "Q 2525 4250 2034 4250 \n",
       "z\n",
       "M 2034 4750 \n",
       "Q 2819 4750 3233 4129 \n",
       "Q 3647 3509 3647 2328 \n",
       "Q 3647 1150 3233 529 \n",
       "Q 2819 -91 2034 -91 \n",
       "Q 1250 -91 836 529 \n",
       "Q 422 1150 422 2328 \n",
       "Q 422 3509 836 4129 \n",
       "Q 1250 4750 2034 4750 \n",
       "z\n",
       "\" transform=\"scale(0.015625)\"/>\n",
       "       </defs>\n",
       "       <use xlink:href=\"#DejaVuSans-30\"/>\n",
       "      </g>\n",
       "     </g>\n",
       "    </g>\n",
       "    <g id=\"xtick_3\">\n",
       "     <g id=\"line2d_3\">\n",
       "      <g>\n",
       "       <use xlink:href=\"#mcfe51e0ef2\" x=\"193.546744\" y=\"143.1\" style=\"stroke: #000000; stroke-width: 0.8\"/>\n",
       "      </g>\n",
       "     </g>\n",
       "     <g id=\"text_3\">\n",
       "      <!-- 2 -->\n",
       "      <g transform=\"translate(190.365494 157.698438)scale(0.1 -0.1)\">\n",
       "       <use xlink:href=\"#DejaVuSans-32\"/>\n",
       "      </g>\n",
       "     </g>\n",
       "    </g>\n",
       "   </g>\n",
       "   <g id=\"matplotlib.axis_2\">\n",
       "    <g id=\"ytick_1\">\n",
       "     <g id=\"line2d_4\">\n",
       "      <defs>\n",
       "       <path id=\"m224ef2960b\" d=\"M 0 0 \n",
       "L -3.5 0 \n",
       "\" style=\"stroke: #000000; stroke-width: 0.8\"/>\n",
       "      </defs>\n",
       "      <g>\n",
       "       <use xlink:href=\"#m224ef2960b\" x=\"28.942188\" y=\"126.716454\" style=\"stroke: #000000; stroke-width: 0.8\"/>\n",
       "      </g>\n",
       "     </g>\n",
       "     <g id=\"text_4\">\n",
       "      <!-- −5 -->\n",
       "      <g transform=\"translate(7.2 130.515672)scale(0.1 -0.1)\">\n",
       "       <defs>\n",
       "        <path id=\"DejaVuSans-35\" d=\"M 691 4666 \n",
       "L 3169 4666 \n",
       "L 3169 4134 \n",
       "L 1269 4134 \n",
       "L 1269 2991 \n",
       "Q 1406 3038 1543 3061 \n",
       "Q 1681 3084 1819 3084 \n",
       "Q 2600 3084 3056 2656 \n",
       "Q 3513 2228 3513 1497 \n",
       "Q 3513 744 3044 326 \n",
       "Q 2575 -91 1722 -91 \n",
       "Q 1428 -91 1123 -41 \n",
       "Q 819 9 494 109 \n",
       "L 494 744 \n",
       "Q 775 591 1075 516 \n",
       "Q 1375 441 1709 441 \n",
       "Q 2250 441 2565 725 \n",
       "Q 2881 1009 2881 1497 \n",
       "Q 2881 1984 2565 2268 \n",
       "Q 2250 2553 1709 2553 \n",
       "Q 1456 2553 1204 2497 \n",
       "Q 953 2441 691 2322 \n",
       "L 691 4666 \n",
       "z\n",
       "\" transform=\"scale(0.015625)\"/>\n",
       "       </defs>\n",
       "       <use xlink:href=\"#DejaVuSans-2212\"/>\n",
       "       <use xlink:href=\"#DejaVuSans-35\" x=\"83.789062\"/>\n",
       "      </g>\n",
       "     </g>\n",
       "    </g>\n",
       "    <g id=\"ytick_2\">\n",
       "     <g id=\"line2d_5\">\n",
       "      <g>\n",
       "       <use xlink:href=\"#m224ef2960b\" x=\"28.942188\" y=\"99.60498\" style=\"stroke: #000000; stroke-width: 0.8\"/>\n",
       "      </g>\n",
       "     </g>\n",
       "     <g id=\"text_5\">\n",
       "      <!-- 0 -->\n",
       "      <g transform=\"translate(15.579688 103.404199)scale(0.1 -0.1)\">\n",
       "       <use xlink:href=\"#DejaVuSans-30\"/>\n",
       "      </g>\n",
       "     </g>\n",
       "    </g>\n",
       "    <g id=\"ytick_3\">\n",
       "     <g id=\"line2d_6\">\n",
       "      <g>\n",
       "       <use xlink:href=\"#m224ef2960b\" x=\"28.942188\" y=\"72.493506\" style=\"stroke: #000000; stroke-width: 0.8\"/>\n",
       "      </g>\n",
       "     </g>\n",
       "     <g id=\"text_6\">\n",
       "      <!-- 5 -->\n",
       "      <g transform=\"translate(15.579688 76.292725)scale(0.1 -0.1)\">\n",
       "       <use xlink:href=\"#DejaVuSans-35\"/>\n",
       "      </g>\n",
       "     </g>\n",
       "    </g>\n",
       "    <g id=\"ytick_4\">\n",
       "     <g id=\"line2d_7\">\n",
       "      <g>\n",
       "       <use xlink:href=\"#m224ef2960b\" x=\"28.942188\" y=\"45.382032\" style=\"stroke: #000000; stroke-width: 0.8\"/>\n",
       "      </g>\n",
       "     </g>\n",
       "     <g id=\"text_7\">\n",
       "      <!-- 10 -->\n",
       "      <g transform=\"translate(9.217188 49.181251)scale(0.1 -0.1)\">\n",
       "       <defs>\n",
       "        <path id=\"DejaVuSans-31\" d=\"M 794 531 \n",
       "L 1825 531 \n",
       "L 1825 4091 \n",
       "L 703 3866 \n",
       "L 703 4441 \n",
       "L 1819 4666 \n",
       "L 2450 4666 \n",
       "L 2450 531 \n",
       "L 3481 531 \n",
       "L 3481 0 \n",
       "L 794 0 \n",
       "L 794 531 \n",
       "z\n",
       "\" transform=\"scale(0.015625)\"/>\n",
       "       </defs>\n",
       "       <use xlink:href=\"#DejaVuSans-31\"/>\n",
       "       <use xlink:href=\"#DejaVuSans-30\" x=\"63.623047\"/>\n",
       "      </g>\n",
       "     </g>\n",
       "    </g>\n",
       "    <g id=\"ytick_5\">\n",
       "     <g id=\"line2d_8\">\n",
       "      <g>\n",
       "       <use xlink:href=\"#m224ef2960b\" x=\"28.942188\" y=\"18.270558\" style=\"stroke: #000000; stroke-width: 0.8\"/>\n",
       "      </g>\n",
       "     </g>\n",
       "     <g id=\"text_8\">\n",
       "      <!-- 15 -->\n",
       "      <g transform=\"translate(9.217188 22.069777)scale(0.1 -0.1)\">\n",
       "       <use xlink:href=\"#DejaVuSans-31\"/>\n",
       "       <use xlink:href=\"#DejaVuSans-35\" x=\"63.623047\"/>\n",
       "      </g>\n",
       "     </g>\n",
       "    </g>\n",
       "   </g>\n",
       "   <g id=\"patch_3\">\n",
       "    <path d=\"M 28.942188 143.1 \n",
       "L 28.942188 7.2 \n",
       "\" style=\"fill: none; stroke: #000000; stroke-width: 0.8; stroke-linejoin: miter; stroke-linecap: square\"/>\n",
       "   </g>\n",
       "   <g id=\"patch_4\">\n",
       "    <path d=\"M 224.242188 143.1 \n",
       "L 224.242188 7.2 \n",
       "\" style=\"fill: none; stroke: #000000; stroke-width: 0.8; stroke-linejoin: miter; stroke-linecap: square\"/>\n",
       "   </g>\n",
       "   <g id=\"patch_5\">\n",
       "    <path d=\"M 28.942187 143.1 \n",
       "L 224.242188 143.1 \n",
       "\" style=\"fill: none; stroke: #000000; stroke-width: 0.8; stroke-linejoin: miter; stroke-linecap: square\"/>\n",
       "   </g>\n",
       "   <g id=\"patch_6\">\n",
       "    <path d=\"M 28.942187 7.2 \n",
       "L 224.242188 7.2 \n",
       "\" style=\"fill: none; stroke: #000000; stroke-width: 0.8; stroke-linejoin: miter; stroke-linecap: square\"/>\n",
       "   </g>\n",
       "  </g>\n",
       " </g>\n",
       " <defs>\n",
       "  <clipPath id=\"p438e3ad410\">\n",
       "   <rect x=\"28.942188\" y=\"7.2\" width=\"195.3\" height=\"135.9\"/>\n",
       "  </clipPath>\n",
       " </defs>\n",
       "</svg>\n"
      ],
      "text/plain": [
       "<Figure size 252x180 with 1 Axes>"
      ]
     },
     "metadata": {
      "needs_background": "light"
     },
     "output_type": "display_data"
    }
   ],
   "source": [
    "plt.scatter(features[:,1].numpy(),labels.numpy(),1)"
   ]
  },
  {
   "cell_type": "markdown",
   "metadata": {},
   "source": [
    "### 读取数据"
   ]
  },
  {
   "cell_type": "code",
   "execution_count": 248,
   "metadata": {},
   "outputs": [],
   "source": [
    "def data_iter(batch_size,features,labels):\n",
    "    num_examples = len(features)\n",
    "    indices = list(range(num_examples))\n",
    "    random.shuffle(indices)\n",
    "    for i in range(0,num_examples,batch_size):\n",
    "        j = torch.LongTensor(indices[i:min(i+batch_size,num_examples)])\n",
    "        yield features.index_select(0,j),labels.index_select(0,j)"
   ]
  },
  {
   "cell_type": "code",
   "execution_count": 250,
   "metadata": {},
   "outputs": [
    {
     "name": "stdout",
     "output_type": "stream",
     "text": [
      "tensor([[-1.1604, -0.4711],\n",
      "        [ 1.2114, -0.0287],\n",
      "        [ 0.9234, -0.6947],\n",
      "        [-0.2187, -0.8318],\n",
      "        [-0.8439,  1.7133],\n",
      "        [-0.6648, -0.6774],\n",
      "        [ 0.2617,  0.9460],\n",
      "        [-1.1815,  0.7278],\n",
      "        [-0.1449,  0.5589],\n",
      "        [ 0.6286, -0.4145]]) tensor([ 3.4847,  6.7146,  8.4086,  6.5977, -3.3219,  5.1616,  1.4857, -0.6387,\n",
      "         2.0047,  6.8700])\n"
     ]
    }
   ],
   "source": [
    "batch_size = 10 \n",
    "for X,y in data_iter(batch_size,features,labels):\n",
    "    print(X,y)\n",
    "    break"
   ]
  },
  {
   "cell_type": "markdown",
   "metadata": {},
   "source": [
    "### 初始化模型参数"
   ]
  },
  {
   "cell_type": "code",
   "execution_count": 251,
   "metadata": {},
   "outputs": [],
   "source": [
    "w = torch.tensor(np.random.normal(0,0.01,( num_inputs,1)),dtype=torch.float32)"
   ]
  },
  {
   "cell_type": "code",
   "execution_count": 252,
   "metadata": {},
   "outputs": [
    {
     "data": {
      "text/plain": [
       "tensor([[-0.0023],\n",
       "        [-0.0161]])"
      ]
     },
     "execution_count": 252,
     "metadata": {},
     "output_type": "execute_result"
    }
   ],
   "source": [
    "w"
   ]
  },
  {
   "cell_type": "code",
   "execution_count": 253,
   "metadata": {},
   "outputs": [],
   "source": [
    "b = torch.zeros(1,dtype=torch.float32)"
   ]
  },
  {
   "cell_type": "code",
   "execution_count": 254,
   "metadata": {},
   "outputs": [
    {
     "data": {
      "text/plain": [
       "tensor([0.])"
      ]
     },
     "execution_count": 254,
     "metadata": {},
     "output_type": "execute_result"
    }
   ],
   "source": [
    "b"
   ]
  },
  {
   "cell_type": "code",
   "execution_count": 255,
   "metadata": {},
   "outputs": [
    {
     "data": {
      "text/plain": [
       "tensor([0.], requires_grad=True)"
      ]
     },
     "execution_count": 255,
     "metadata": {},
     "output_type": "execute_result"
    }
   ],
   "source": [
    "# 这些参数要求梯度来迭代参数的值，设置 requires_grad=True\n",
    "w.requires_grad_(requires_grad = True)\n",
    "b.requires_grad_(requires_grad = True)"
   ]
  },
  {
   "cell_type": "markdown",
   "metadata": {},
   "source": [
    "### 定义模型"
   ]
  },
  {
   "cell_type": "code",
   "execution_count": 256,
   "metadata": {},
   "outputs": [],
   "source": [
    "def linreg(X,w,b):\n",
    "    return torch.mm(X,w) + b "
   ]
  },
  {
   "cell_type": "markdown",
   "metadata": {},
   "source": [
    "### 定义损失函数"
   ]
  },
  {
   "cell_type": "code",
   "execution_count": 257,
   "metadata": {},
   "outputs": [],
   "source": [
    "def squared_loss(y_hat,y):\n",
    "    # 返回的是向量\n",
    "    return (y_hat - y.view(y_hat.size())) ** 2 / 2"
   ]
  },
  {
   "cell_type": "markdown",
   "metadata": {},
   "source": [
    "### 定义优化算法"
   ]
  },
  {
   "cell_type": "code",
   "execution_count": 258,
   "metadata": {},
   "outputs": [],
   "source": [
    "# 通过不断迭代模型参数来优化损失函数\n",
    "def sgd(params,lr,batch_size):\n",
    "    for param in params:\n",
    "        param.data -= lr * param.grad/ batch_size # 自动求梯度计算的是一个批量样本的 梯度和\n",
    "        # 我们将它除以批量大小来得到平均值\n",
    "        "
   ]
  },
  {
   "cell_type": "markdown",
   "metadata": {},
   "source": [
    "### 训练模型"
   ]
  },
  {
   "cell_type": "code",
   "execution_count": 259,
   "metadata": {},
   "outputs": [
    {
     "data": {
      "text/plain": [
       "'\\n在一个迭代周期 中，我们将完成遍历一遍data_iter函数，并对训练数据集中所有样本都使用一次，这里的迭代周期个数num_epochs\\n和学习率lr都是超参数，分别设3和0.03 在实践中要反复调整这个参数 \\n\\n'"
      ]
     },
     "execution_count": 259,
     "metadata": {},
     "output_type": "execute_result"
    }
   ],
   "source": [
    "# 多次迭代模型参数，在每次迭代中，我们根据当前读取的小批量数据样本，通过调用反向函数backward计算小批量\n",
    "# 随机梯度，并调用优化算法sgd迭代模型参数，batch_size 为10，每个小批量的损失l 的形状为（10，1）\n",
    "# 由于l并不是标量 所以调用.sum() 将其求和得到一个标量，在运行l.backward() 得到该变量有关模型参数\n",
    "# 的梯度。注意在每次更新完参数后不要 忘记将参数的梯度清零\n",
    "\n",
    "\"\"\"\n",
    "在一个迭代周期 中，我们将完成遍历一遍data_iter函数，并对训练数据集中所有样本都使用一次，这里的迭代周期个数num_epochs\n",
    "和学习率lr都是超参数，分别设3和0.03 在实践中要反复调整这个参数 \n",
    "\n",
    "\"\"\""
   ]
  },
  {
   "cell_type": "code",
   "execution_count": 261,
   "metadata": {},
   "outputs": [
    {
     "data": {
      "text/plain": [
       "tensor([[-0.0023],\n",
       "        [-0.0161]], requires_grad=True)"
      ]
     },
     "execution_count": 261,
     "metadata": {},
     "output_type": "execute_result"
    }
   ],
   "source": [
    "w"
   ]
  },
  {
   "cell_type": "code",
   "execution_count": 263,
   "metadata": {},
   "outputs": [
    {
     "name": "stdout",
     "output_type": "stream",
     "text": [
      "epoch:1 loss 0.04\n",
      "epoch:2 loss 0.00\n",
      "epoch:3 loss 0.00\n"
     ]
    }
   ],
   "source": [
    "lr = 0.03\n",
    "num_epoch=3\n",
    "net = linreg\n",
    "loss = squared_loss\n",
    "\n",
    "for epoch in range(num_epoch):\n",
    "    # 每一次迭代周期中，会使用训练数据集中所有样本一次，X和y分别是小批量样本的特征和标签\n",
    "    for X,y in data_iter(batch_size,features,labels):\n",
    "        l = loss(net(X,w,b),y).sum() # l 是小批量X和y的损失\n",
    "        l.backward() # 小批量的损失对模型参数求导数\n",
    "        sgd([w,b],lr,batch_size) # 使用小批量随机梯度下降迭代模型参数\n",
    "        \n",
    "        # 不要忘记梯度清零\n",
    "        w.grad.data.zero_()\n",
    "        b.grad.data.zero_()\n",
    "\n",
    "    train_l = loss(net(features,w,b),labels)\n",
    "    \n",
    "    print(\"epoch:%d loss %.2f\" %(epoch + 1 ,train_l.mean().item()))"
   ]
  },
  {
   "cell_type": "code",
   "execution_count": 264,
   "metadata": {},
   "outputs": [
    {
     "name": "stdout",
     "output_type": "stream",
     "text": [
      "[2, -3.4] \n",
      " tensor([[ 1.9997],\n",
      "        [-3.3993]], requires_grad=True)\n",
      "4.2 \n",
      " tensor([4.2000], requires_grad=True)\n"
     ]
    }
   ],
   "source": [
    "print(true_w, '\\n',w)\n",
    "print(true_b, '\\n',b)"
   ]
  },
  {
   "cell_type": "markdown",
   "metadata": {},
   "source": [
    "## 线性回归简洁实现"
   ]
  },
  {
   "cell_type": "markdown",
   "metadata": {},
   "source": [
    "### 生成数据集"
   ]
  },
  {
   "cell_type": "code",
   "execution_count": 265,
   "metadata": {},
   "outputs": [],
   "source": [
    "num_inputs =2 \n",
    "num_examples = 1000\n",
    "true_w = [2,-3.4]\n",
    "true_b = 4.2\n",
    "\n",
    "features = torch.tensor(np.random.normal(0,1,(num_examples,num_inputs)),dtype=torch.float)\n",
    "labels = true_w[0] * features[:,0] + true_w[1] * features[:,1] + true_b\n",
    "labels += torch.tensor(np.random.normal(0,0.01,size = labels.size()),dtype=torch.float)\n"
   ]
  },
  {
   "cell_type": "markdown",
   "metadata": {},
   "source": [
    "### 读取数据"
   ]
  },
  {
   "cell_type": "code",
   "execution_count": 266,
   "metadata": {},
   "outputs": [],
   "source": [
    "# Pytorch 提供data 包来读取数据，由于data 常用做变量名，我们将导入的data模块用Data 代替在每次一迭代中\n",
    "# 我们将随机读取包含数据样本的小批量\n",
    "import torch.utils.data as Data\n",
    "\n",
    "batch_size = 10 \n",
    "# 将训练数据的特征和标签组合 \n",
    "dataset = Data.TensorDataset(features,labels)\n"
   ]
  },
  {
   "cell_type": "code",
   "execution_count": 269,
   "metadata": {},
   "outputs": [],
   "source": [
    "# 读取小批量\n",
    "data_iter = Data.DataLoader(dataset,batch_size,shuffle=True)"
   ]
  },
  {
   "cell_type": "code",
   "execution_count": 270,
   "metadata": {},
   "outputs": [
    {
     "data": {
      "text/plain": [
       "<torch.utils.data.dataloader.DataLoader at 0x7f8b6e18c2d0>"
      ]
     },
     "execution_count": 270,
     "metadata": {},
     "output_type": "execute_result"
    }
   ],
   "source": [
    "data_iter"
   ]
  },
  {
   "cell_type": "code",
   "execution_count": 273,
   "metadata": {},
   "outputs": [],
   "source": [
    "import torch.nn as nn"
   ]
  },
  {
   "cell_type": "markdown",
   "metadata": {},
   "source": [
    "### 定义模型"
   ]
  },
  {
   "cell_type": "code",
   "execution_count": 272,
   "metadata": {},
   "outputs": [],
   "source": [
    "# Pytorch 提供大量预定义层，我们只要关注使用哪些层来构造函数 首先导入 torch.nn 模块，该模块定义了大量的\n",
    "# 神经网络层，之前用过autograd 而 nn 就是利用 autograd 来定义模型，nn的核心数据结构是Module 他是一个\n",
    "# 抽象概念，既可以表示神经网络的某一个层，也可以表示一个包含很多层的神经网络，在实际使用中 最常见的就是继承\n",
    "# nn.Module 撰写自己的网络层，一个nn.Module实例应该包含 一些层以及返回输出的前向传播（forward）方法，"
   ]
  },
  {
   "cell_type": "code",
   "execution_count": 274,
   "metadata": {},
   "outputs": [],
   "source": [
    "class LinearNet(nn.Module):\n",
    "    def __init__(self,n_feature):\n",
    "        super(LinearNet,self).__init__()\n",
    "        self.linear = nn.Linear(n_feature,1)\n",
    "        \n",
    "    # forward前向传播 \n",
    "    def forward(self,x):\n",
    "        y = self.linear(x)\n",
    "        return y\n",
    "net = LinearNet(num_inputs)"
   ]
  },
  {
   "cell_type": "code",
   "execution_count": 275,
   "metadata": {},
   "outputs": [
    {
     "data": {
      "text/plain": [
       "LinearNet(\n",
       "  (linear): Linear(in_features=2, out_features=1, bias=True)\n",
       ")"
      ]
     },
     "execution_count": 275,
     "metadata": {},
     "output_type": "execute_result"
    }
   ],
   "source": [
    "net"
   ]
  },
  {
   "cell_type": "code",
   "execution_count": 276,
   "metadata": {},
   "outputs": [],
   "source": [
    "# 我们还可以用nn.Sequential 来更加方便的搭建网络，Sequential 是一个有序的容器，网络层将按照在传入的\n",
    "# Sequential的顺序依次被添加到计算图中\n"
   ]
  },
  {
   "cell_type": "code",
   "execution_count": 278,
   "metadata": {},
   "outputs": [
    {
     "name": "stdout",
     "output_type": "stream",
     "text": [
      "Sequential(\n",
      "  (linear): Linear(in_features=2, out_features=1, bias=True)\n",
      ")\n"
     ]
    }
   ],
   "source": [
    "# 写法一\n",
    "net = nn.Sequential(\n",
    "nn.Linear(num_inputs,1)\n",
    "    # 此外还可以传 其他层\n",
    ")\n",
    "# 写法二\n",
    "net  = nn.Sequential()\n",
    "net.add_module('linear',nn.Linear(num_inputs,1))\n",
    "# net.add_module()\n",
    "\n",
    "# 写法三\n",
    "from collections import OrderedDict\n",
    "\n",
    "net = nn.Sequential(OrderedDict([\n",
    "    ('linear',nn.Linear(num_inputs,1))\n",
    "    # ....\n",
    "    \n",
    "]))\n",
    "\n",
    "print(net)"
   ]
  },
  {
   "cell_type": "code",
   "execution_count": 279,
   "metadata": {},
   "outputs": [
    {
     "data": {
      "text/plain": [
       "Linear(in_features=2, out_features=1, bias=True)"
      ]
     },
     "execution_count": 279,
     "metadata": {},
     "output_type": "execute_result"
    }
   ],
   "source": [
    "net[0]"
   ]
  },
  {
   "cell_type": "code",
   "execution_count": 280,
   "metadata": {},
   "outputs": [],
   "source": [
    "# 可以通过net.parameters() 来 查看模型所有的可学习参数"
   ]
  },
  {
   "cell_type": "code",
   "execution_count": 281,
   "metadata": {},
   "outputs": [
    {
     "name": "stdout",
     "output_type": "stream",
     "text": [
      "Parameter containing:\n",
      "tensor([[-0.1082,  0.5079]], requires_grad=True)\n",
      "Parameter containing:\n",
      "tensor([-0.4594], requires_grad=True)\n"
     ]
    }
   ],
   "source": [
    "for param in net.parameters():\n",
    "    print(param)"
   ]
  },
  {
   "cell_type": "markdown",
   "metadata": {},
   "source": [
    "### 初始化模型参数"
   ]
  },
  {
   "cell_type": "code",
   "execution_count": 282,
   "metadata": {},
   "outputs": [],
   "source": [
    "# 在net 前，我们要初始化模型参数，线性回归模型参数中的权重 和偏差 Pytorch在init模块中 提供了多种\n",
    "# 参数初始化方法 \n"
   ]
  },
  {
   "cell_type": "code",
   "execution_count": 283,
   "metadata": {},
   "outputs": [
    {
     "data": {
      "text/plain": [
       "Parameter containing:\n",
       "tensor([0.0100], requires_grad=True)"
      ]
     },
     "execution_count": 283,
     "metadata": {},
     "output_type": "execute_result"
    }
   ],
   "source": [
    "from torch.nn import init\n",
    "\n",
    "init.normal_(net[0].weight,mean=0,std=0.01)\n",
    "init.constant_(net[0].bias,val=0.01)"
   ]
  },
  {
   "cell_type": "markdown",
   "metadata": {},
   "source": [
    "### 定义损失函数"
   ]
  },
  {
   "cell_type": "code",
   "execution_count": 284,
   "metadata": {},
   "outputs": [],
   "source": [
    "loss = nn.MSELoss()"
   ]
  },
  {
   "cell_type": "markdown",
   "metadata": {},
   "source": [
    "### 优化算法"
   ]
  },
  {
   "cell_type": "code",
   "execution_count": 285,
   "metadata": {},
   "outputs": [],
   "source": [
    "import torch.optim as optim \n",
    "optimizer = optim.SGD(net.parameters(),lr=0.03)"
   ]
  },
  {
   "cell_type": "code",
   "execution_count": 286,
   "metadata": {},
   "outputs": [
    {
     "data": {
      "text/plain": [
       "SGD (\n",
       "Parameter Group 0\n",
       "    dampening: 0\n",
       "    lr: 0.03\n",
       "    momentum: 0\n",
       "    nesterov: False\n",
       "    weight_decay: 0\n",
       ")"
      ]
     },
     "execution_count": 286,
     "metadata": {},
     "output_type": "execute_result"
    }
   ],
   "source": [
    "optimizer"
   ]
  },
  {
   "cell_type": "markdown",
   "metadata": {},
   "source": [
    "### 训练模型"
   ]
  },
  {
   "cell_type": "code",
   "execution_count": 288,
   "metadata": {},
   "outputs": [
    {
     "name": "stdout",
     "output_type": "stream",
     "text": [
      "epoch 1 loss 0.00\n",
      "epoch 2 loss 0.00\n",
      "epoch 3 loss 0.00\n"
     ]
    }
   ],
   "source": [
    "num_epoch = 3\n",
    "for epoch in range(1,num_epoch+1):\n",
    "    for X,y in data_iter:\n",
    "        out_put = net(X)\n",
    "        l = loss(out_put,y.view(-1,1))\n",
    "        optimizer.zero_grad()\n",
    "        l.backward()\n",
    "        optimizer.step()\n",
    "        \n",
    "    print(\"epoch %d loss %.2f\" %(epoch,l.item()))"
   ]
  },
  {
   "cell_type": "code",
   "execution_count": 289,
   "metadata": {},
   "outputs": [],
   "source": [
    "dense = net[0]"
   ]
  },
  {
   "cell_type": "code",
   "execution_count": 290,
   "metadata": {},
   "outputs": [
    {
     "name": "stdout",
     "output_type": "stream",
     "text": [
      "[2, -3.4] Parameter containing:\n",
      "tensor([[ 2.0001, -3.4001]], requires_grad=True)\n"
     ]
    }
   ],
   "source": [
    "print(true_w,dense.weight)"
   ]
  },
  {
   "cell_type": "markdown",
   "metadata": {},
   "source": [
    "## softmax回归"
   ]
  },
  {
   "cell_type": "markdown",
   "metadata": {},
   "source": [
    "### 分类问题"
   ]
  },
  {
   "cell_type": "code",
   "execution_count": 291,
   "metadata": {},
   "outputs": [
    {
     "data": {
      "text/plain": [
       "'\\n我们考虑一个简单的分类问题，其输入图像的高和宽均为2像素，且色彩为灰度，这样%hist个像素值都可以用一个标量表示  \\n我们将图像中的4个像素分别即记为X1,X2,X3,X4 假设训练数据集中图像的真实标签为 狗、猫、鸡 这类标签，\\n分别对应离散值Y1,Y2,y3\\n我们通常，使用离散数值 来表示类别  例如 y1 = 1,y2= 2 y3 = 3 如此 一张图像的标签为 1，2，3这个3个数值中一个\\n虽然我们仍然可以使用回归模型来建模，并将预测值就近定点化到 1、2、3这3个离散值值一，但是这种连续续值到离散值的转化\\n通常会影响到分类质量，因此 我们一般使用更合适离散值输出的模型来解决分类问题\\n'"
      ]
     },
     "execution_count": 291,
     "metadata": {},
     "output_type": "execute_result"
    }
   ],
   "source": [
    "\"\"\"\n",
    "我们考虑一个简单的分类问题，其输入图像的高和宽均为2像素，且色彩为灰度，这样%hist个像素值都可以用一个标量表示  \n",
    "我们将图像中的4个像素分别即记为X1,X2,X3,X4 假设训练数据集中图像的真实标签为 狗、猫、鸡 这类标签，\n",
    "分别对应离散值Y1,Y2,y3\n",
    "我们通常，使用离散数值 来表示类别  例如 y1 = 1,y2= 2 y3 = 3 如此 一张图像的标签为 1，2，3这个3个数值中一个\n",
    "虽然我们仍然可以使用回归模型来建模，并将预测值就近定点化到 1、2、3这3个离散值值一，但是这种连续续值到离散值的转化\n",
    "通常会影响到分类质量，因此 我们一般使用更合适离散值输出的模型来解决分类问题\n",
    "\"\"\""
   ]
  },
  {
   "cell_type": "markdown",
   "metadata": {},
   "source": [
    "### softmax 回归模型"
   ]
  },
  {
   "cell_type": "code",
   "execution_count": 292,
   "metadata": {},
   "outputs": [
    {
     "data": {
      "text/plain": [
       "'\\nsoftmax回归跟线性回归一样将输入特征与权重做线性叠加。与线性回归的一个主要不同在于，\\nsoftmax回归的输出值个数等于标签里的类别数。因为一共有4种特征和3种输出动物类别，所以权重包含12个标量（带下标的ww）、\\n偏差包含3个标量（带下标的b），且对每个输入计算o1,o2,o3o 这3个输出\\n\\n\\n'"
      ]
     },
     "execution_count": 292,
     "metadata": {},
     "output_type": "execute_result"
    }
   ],
   "source": [
    "\"\"\"\n",
    "softmax回归跟线性回归一样将输入特征与权重做线性叠加。与线性回归的一个主要不同在于，\n",
    "softmax回归的输出值个数等于标签里的类别数。因为一共有4种特征和3种输出动物类别，所以权重包含12个标量（带下标的ww）、\n",
    "偏差包含3个标量（带下标的b），且对每个输入计算o1,o2,o3o 这3个输出\n",
    "\n",
    "\n",
    "\"\"\""
   ]
  },
  {
   "cell_type": "markdown",
   "metadata": {},
   "source": [
    "## 图像分类数据集"
   ]
  },
  {
   "cell_type": "markdown",
   "metadata": {},
   "source": [
    "### 获取数据集"
   ]
  },
  {
   "cell_type": "code",
   "execution_count": 294,
   "metadata": {},
   "outputs": [],
   "source": [
    "import torch\n",
    "import torchvision\n",
    "import torchvision.transforms as transforms\n",
    "import matplotlib.pyplot as plt\n",
    "import time\n",
    "import sys\n",
    "sys.path.append(\"..\") # 为了导入上层目录的d2lzh_pytorch\n",
    "import d2lzh_pytorch as d2l  "
   ]
  },
  {
   "cell_type": "code",
   "execution_count": 295,
   "metadata": {
    "scrolled": true
   },
   "outputs": [
    {
     "name": "stdout",
     "output_type": "stream",
     "text": [
      "Downloading http://fashion-mnist.s3-website.eu-central-1.amazonaws.com/train-images-idx3-ubyte.gz\n",
      "Downloading http://fashion-mnist.s3-website.eu-central-1.amazonaws.com/train-images-idx3-ubyte.gz to /Users/shizhonghui/Datasets/FashionMNIST/FashionMNIST/raw/train-images-idx3-ubyte.gz\n"
     ]
    },
    {
     "data": {
      "application/vnd.jupyter.widget-view+json": {
       "model_id": "3a397537ddb54a6197b96404f71705c4",
       "version_major": 2,
       "version_minor": 0
      },
      "text/plain": [
       "  0%|          | 0/26421880 [00:00<?, ?it/s]"
      ]
     },
     "metadata": {},
     "output_type": "display_data"
    },
    {
     "name": "stdout",
     "output_type": "stream",
     "text": [
      "\n"
     ]
    },
    {
     "ename": "KeyboardInterrupt",
     "evalue": "",
     "output_type": "error",
     "traceback": [
      "\u001b[0;31m--------------------------------------------------------------\u001b[0m",
      "\u001b[0;31mKeyboardInterrupt\u001b[0m            Traceback (most recent call last)",
      "\u001b[0;32m<ipython-input-295-11bc6d04d2d5>\u001b[0m in \u001b[0;36m<module>\u001b[0;34m\u001b[0m\n\u001b[0;32m----> 1\u001b[0;31m \u001b[0mmnist_train\u001b[0m \u001b[0;34m=\u001b[0m \u001b[0mtorchvision\u001b[0m\u001b[0;34m.\u001b[0m\u001b[0mdatasets\u001b[0m\u001b[0;34m.\u001b[0m\u001b[0mFashionMNIST\u001b[0m\u001b[0;34m(\u001b[0m\u001b[0mroot\u001b[0m\u001b[0;34m=\u001b[0m\u001b[0;34m'~/Datasets/FashionMNIST'\u001b[0m\u001b[0;34m,\u001b[0m \u001b[0mtrain\u001b[0m\u001b[0;34m=\u001b[0m\u001b[0;32mTrue\u001b[0m\u001b[0;34m,\u001b[0m \u001b[0mdownload\u001b[0m\u001b[0;34m=\u001b[0m\u001b[0;32mTrue\u001b[0m\u001b[0;34m,\u001b[0m \u001b[0mtransform\u001b[0m\u001b[0;34m=\u001b[0m\u001b[0mtransforms\u001b[0m\u001b[0;34m.\u001b[0m\u001b[0mToTensor\u001b[0m\u001b[0;34m(\u001b[0m\u001b[0;34m)\u001b[0m\u001b[0;34m)\u001b[0m\u001b[0;34m\u001b[0m\u001b[0;34m\u001b[0m\u001b[0m\n\u001b[0m\u001b[1;32m      2\u001b[0m \u001b[0mmnist_test\u001b[0m \u001b[0;34m=\u001b[0m \u001b[0mtorchvision\u001b[0m\u001b[0;34m.\u001b[0m\u001b[0mdatasets\u001b[0m\u001b[0;34m.\u001b[0m\u001b[0mFashionMNIST\u001b[0m\u001b[0;34m(\u001b[0m\u001b[0mroot\u001b[0m\u001b[0;34m=\u001b[0m\u001b[0;34m'~/Datasets/FashionMNIST'\u001b[0m\u001b[0;34m,\u001b[0m \u001b[0mtrain\u001b[0m\u001b[0;34m=\u001b[0m\u001b[0;32mFalse\u001b[0m\u001b[0;34m,\u001b[0m \u001b[0mdownload\u001b[0m\u001b[0;34m=\u001b[0m\u001b[0;32mTrue\u001b[0m\u001b[0;34m,\u001b[0m \u001b[0mtransform\u001b[0m\u001b[0;34m=\u001b[0m\u001b[0mtransforms\u001b[0m\u001b[0;34m.\u001b[0m\u001b[0mToTensor\u001b[0m\u001b[0;34m(\u001b[0m\u001b[0;34m)\u001b[0m\u001b[0;34m)\u001b[0m\u001b[0;34m\u001b[0m\u001b[0;34m\u001b[0m\u001b[0m\n",
      "\u001b[0;32m~/anaconda3/envs/Tianchi/lib/python3.7/site-packages/torchvision/datasets/mnist.py\u001b[0m in \u001b[0;36m__init__\u001b[0;34m(self, root, train, transform, target_transform, download)\u001b[0m\n\u001b[1;32m     85\u001b[0m \u001b[0;34m\u001b[0m\u001b[0m\n\u001b[1;32m     86\u001b[0m         \u001b[0;32mif\u001b[0m \u001b[0mdownload\u001b[0m\u001b[0;34m:\u001b[0m\u001b[0;34m\u001b[0m\u001b[0;34m\u001b[0m\u001b[0m\n\u001b[0;32m---> 87\u001b[0;31m             \u001b[0mself\u001b[0m\u001b[0;34m.\u001b[0m\u001b[0mdownload\u001b[0m\u001b[0;34m(\u001b[0m\u001b[0;34m)\u001b[0m\u001b[0;34m\u001b[0m\u001b[0;34m\u001b[0m\u001b[0m\n\u001b[0m\u001b[1;32m     88\u001b[0m \u001b[0;34m\u001b[0m\u001b[0m\n\u001b[1;32m     89\u001b[0m         \u001b[0;32mif\u001b[0m \u001b[0;32mnot\u001b[0m \u001b[0mself\u001b[0m\u001b[0;34m.\u001b[0m\u001b[0m_check_exists\u001b[0m\u001b[0;34m(\u001b[0m\u001b[0;34m)\u001b[0m\u001b[0;34m:\u001b[0m\u001b[0;34m\u001b[0m\u001b[0;34m\u001b[0m\u001b[0m\n",
      "\u001b[0;32m~/anaconda3/envs/Tianchi/lib/python3.7/site-packages/torchvision/datasets/mnist.py\u001b[0m in \u001b[0;36mdownload\u001b[0;34m(self)\u001b[0m\n\u001b[1;32m    177\u001b[0m                         \u001b[0murl\u001b[0m\u001b[0;34m,\u001b[0m \u001b[0mdownload_root\u001b[0m\u001b[0;34m=\u001b[0m\u001b[0mself\u001b[0m\u001b[0;34m.\u001b[0m\u001b[0mraw_folder\u001b[0m\u001b[0;34m,\u001b[0m\u001b[0;34m\u001b[0m\u001b[0;34m\u001b[0m\u001b[0m\n\u001b[1;32m    178\u001b[0m                         \u001b[0mfilename\u001b[0m\u001b[0;34m=\u001b[0m\u001b[0mfilename\u001b[0m\u001b[0;34m,\u001b[0m\u001b[0;34m\u001b[0m\u001b[0;34m\u001b[0m\u001b[0m\n\u001b[0;32m--> 179\u001b[0;31m                         \u001b[0mmd5\u001b[0m\u001b[0;34m=\u001b[0m\u001b[0mmd5\u001b[0m\u001b[0;34m\u001b[0m\u001b[0;34m\u001b[0m\u001b[0m\n\u001b[0m\u001b[1;32m    180\u001b[0m                     )\n\u001b[1;32m    181\u001b[0m                 \u001b[0;32mexcept\u001b[0m \u001b[0mURLError\u001b[0m \u001b[0;32mas\u001b[0m \u001b[0merror\u001b[0m\u001b[0;34m:\u001b[0m\u001b[0;34m\u001b[0m\u001b[0;34m\u001b[0m\u001b[0m\n",
      "\u001b[0;32m~/anaconda3/envs/Tianchi/lib/python3.7/site-packages/torchvision/datasets/utils.py\u001b[0m in \u001b[0;36mdownload_and_extract_archive\u001b[0;34m(url, download_root, extract_root, filename, md5, remove_finished)\u001b[0m\n\u001b[1;32m    425\u001b[0m         \u001b[0mfilename\u001b[0m \u001b[0;34m=\u001b[0m \u001b[0mos\u001b[0m\u001b[0;34m.\u001b[0m\u001b[0mpath\u001b[0m\u001b[0;34m.\u001b[0m\u001b[0mbasename\u001b[0m\u001b[0;34m(\u001b[0m\u001b[0murl\u001b[0m\u001b[0;34m)\u001b[0m\u001b[0;34m\u001b[0m\u001b[0;34m\u001b[0m\u001b[0m\n\u001b[1;32m    426\u001b[0m \u001b[0;34m\u001b[0m\u001b[0m\n\u001b[0;32m--> 427\u001b[0;31m     \u001b[0mdownload_url\u001b[0m\u001b[0;34m(\u001b[0m\u001b[0murl\u001b[0m\u001b[0;34m,\u001b[0m \u001b[0mdownload_root\u001b[0m\u001b[0;34m,\u001b[0m \u001b[0mfilename\u001b[0m\u001b[0;34m,\u001b[0m \u001b[0mmd5\u001b[0m\u001b[0;34m)\u001b[0m\u001b[0;34m\u001b[0m\u001b[0;34m\u001b[0m\u001b[0m\n\u001b[0m\u001b[1;32m    428\u001b[0m \u001b[0;34m\u001b[0m\u001b[0m\n\u001b[1;32m    429\u001b[0m     \u001b[0marchive\u001b[0m \u001b[0;34m=\u001b[0m \u001b[0mos\u001b[0m\u001b[0;34m.\u001b[0m\u001b[0mpath\u001b[0m\u001b[0;34m.\u001b[0m\u001b[0mjoin\u001b[0m\u001b[0;34m(\u001b[0m\u001b[0mdownload_root\u001b[0m\u001b[0;34m,\u001b[0m \u001b[0mfilename\u001b[0m\u001b[0;34m)\u001b[0m\u001b[0;34m\u001b[0m\u001b[0;34m\u001b[0m\u001b[0m\n",
      "\u001b[0;32m~/anaconda3/envs/Tianchi/lib/python3.7/site-packages/torchvision/datasets/utils.py\u001b[0m in \u001b[0;36mdownload_url\u001b[0;34m(url, root, filename, md5, max_redirect_hops)\u001b[0m\n\u001b[1;32m    138\u001b[0m         \u001b[0;32mtry\u001b[0m\u001b[0;34m:\u001b[0m\u001b[0;34m\u001b[0m\u001b[0;34m\u001b[0m\u001b[0m\n\u001b[1;32m    139\u001b[0m             \u001b[0mprint\u001b[0m\u001b[0;34m(\u001b[0m\u001b[0;34m'Downloading '\u001b[0m \u001b[0;34m+\u001b[0m \u001b[0murl\u001b[0m \u001b[0;34m+\u001b[0m \u001b[0;34m' to '\u001b[0m \u001b[0;34m+\u001b[0m \u001b[0mfpath\u001b[0m\u001b[0;34m)\u001b[0m\u001b[0;34m\u001b[0m\u001b[0;34m\u001b[0m\u001b[0m\n\u001b[0;32m--> 140\u001b[0;31m             \u001b[0m_urlretrieve\u001b[0m\u001b[0;34m(\u001b[0m\u001b[0murl\u001b[0m\u001b[0;34m,\u001b[0m \u001b[0mfpath\u001b[0m\u001b[0;34m)\u001b[0m\u001b[0;34m\u001b[0m\u001b[0;34m\u001b[0m\u001b[0m\n\u001b[0m\u001b[1;32m    141\u001b[0m         \u001b[0;32mexcept\u001b[0m \u001b[0;34m(\u001b[0m\u001b[0murllib\u001b[0m\u001b[0;34m.\u001b[0m\u001b[0merror\u001b[0m\u001b[0;34m.\u001b[0m\u001b[0mURLError\u001b[0m\u001b[0;34m,\u001b[0m \u001b[0mIOError\u001b[0m\u001b[0;34m)\u001b[0m \u001b[0;32mas\u001b[0m \u001b[0me\u001b[0m\u001b[0;34m:\u001b[0m  \u001b[0;31m# type: ignore[attr-defined]\u001b[0m\u001b[0;34m\u001b[0m\u001b[0;34m\u001b[0m\u001b[0m\n\u001b[1;32m    142\u001b[0m             \u001b[0;32mif\u001b[0m \u001b[0murl\u001b[0m\u001b[0;34m[\u001b[0m\u001b[0;34m:\u001b[0m\u001b[0;36m5\u001b[0m\u001b[0;34m]\u001b[0m \u001b[0;34m==\u001b[0m \u001b[0;34m'https'\u001b[0m\u001b[0;34m:\u001b[0m\u001b[0;34m\u001b[0m\u001b[0;34m\u001b[0m\u001b[0m\n",
      "\u001b[0;32m~/anaconda3/envs/Tianchi/lib/python3.7/site-packages/torchvision/datasets/utils.py\u001b[0m in \u001b[0;36m_urlretrieve\u001b[0;34m(url, filename, chunk_size)\u001b[0m\n\u001b[1;32m     32\u001b[0m         \u001b[0;32mwith\u001b[0m \u001b[0murllib\u001b[0m\u001b[0;34m.\u001b[0m\u001b[0mrequest\u001b[0m\u001b[0;34m.\u001b[0m\u001b[0murlopen\u001b[0m\u001b[0;34m(\u001b[0m\u001b[0murllib\u001b[0m\u001b[0;34m.\u001b[0m\u001b[0mrequest\u001b[0m\u001b[0;34m.\u001b[0m\u001b[0mRequest\u001b[0m\u001b[0;34m(\u001b[0m\u001b[0murl\u001b[0m\u001b[0;34m,\u001b[0m \u001b[0mheaders\u001b[0m\u001b[0;34m=\u001b[0m\u001b[0;34m{\u001b[0m\u001b[0;34m\"User-Agent\"\u001b[0m\u001b[0;34m:\u001b[0m \u001b[0mUSER_AGENT\u001b[0m\u001b[0;34m}\u001b[0m\u001b[0;34m)\u001b[0m\u001b[0;34m)\u001b[0m \u001b[0;32mas\u001b[0m \u001b[0mresponse\u001b[0m\u001b[0;34m:\u001b[0m\u001b[0;34m\u001b[0m\u001b[0;34m\u001b[0m\u001b[0m\n\u001b[1;32m     33\u001b[0m             \u001b[0;32mwith\u001b[0m \u001b[0mtqdm\u001b[0m\u001b[0;34m(\u001b[0m\u001b[0mtotal\u001b[0m\u001b[0;34m=\u001b[0m\u001b[0mresponse\u001b[0m\u001b[0;34m.\u001b[0m\u001b[0mlength\u001b[0m\u001b[0;34m)\u001b[0m \u001b[0;32mas\u001b[0m \u001b[0mpbar\u001b[0m\u001b[0;34m:\u001b[0m\u001b[0;34m\u001b[0m\u001b[0;34m\u001b[0m\u001b[0m\n\u001b[0;32m---> 34\u001b[0;31m                 \u001b[0;32mfor\u001b[0m \u001b[0mchunk\u001b[0m \u001b[0;32min\u001b[0m \u001b[0miter\u001b[0m\u001b[0;34m(\u001b[0m\u001b[0;32mlambda\u001b[0m\u001b[0;34m:\u001b[0m \u001b[0mresponse\u001b[0m\u001b[0;34m.\u001b[0m\u001b[0mread\u001b[0m\u001b[0;34m(\u001b[0m\u001b[0mchunk_size\u001b[0m\u001b[0;34m)\u001b[0m\u001b[0;34m,\u001b[0m \u001b[0;34m\"\"\u001b[0m\u001b[0;34m)\u001b[0m\u001b[0;34m:\u001b[0m\u001b[0;34m\u001b[0m\u001b[0;34m\u001b[0m\u001b[0m\n\u001b[0m\u001b[1;32m     35\u001b[0m                     \u001b[0;32mif\u001b[0m \u001b[0;32mnot\u001b[0m \u001b[0mchunk\u001b[0m\u001b[0;34m:\u001b[0m\u001b[0;34m\u001b[0m\u001b[0;34m\u001b[0m\u001b[0m\n\u001b[1;32m     36\u001b[0m                         \u001b[0;32mbreak\u001b[0m\u001b[0;34m\u001b[0m\u001b[0;34m\u001b[0m\u001b[0m\n",
      "\u001b[0;32m~/anaconda3/envs/Tianchi/lib/python3.7/site-packages/torchvision/datasets/utils.py\u001b[0m in \u001b[0;36m<lambda>\u001b[0;34m()\u001b[0m\n\u001b[1;32m     32\u001b[0m         \u001b[0;32mwith\u001b[0m \u001b[0murllib\u001b[0m\u001b[0;34m.\u001b[0m\u001b[0mrequest\u001b[0m\u001b[0;34m.\u001b[0m\u001b[0murlopen\u001b[0m\u001b[0;34m(\u001b[0m\u001b[0murllib\u001b[0m\u001b[0;34m.\u001b[0m\u001b[0mrequest\u001b[0m\u001b[0;34m.\u001b[0m\u001b[0mRequest\u001b[0m\u001b[0;34m(\u001b[0m\u001b[0murl\u001b[0m\u001b[0;34m,\u001b[0m \u001b[0mheaders\u001b[0m\u001b[0;34m=\u001b[0m\u001b[0;34m{\u001b[0m\u001b[0;34m\"User-Agent\"\u001b[0m\u001b[0;34m:\u001b[0m \u001b[0mUSER_AGENT\u001b[0m\u001b[0;34m}\u001b[0m\u001b[0;34m)\u001b[0m\u001b[0;34m)\u001b[0m \u001b[0;32mas\u001b[0m \u001b[0mresponse\u001b[0m\u001b[0;34m:\u001b[0m\u001b[0;34m\u001b[0m\u001b[0;34m\u001b[0m\u001b[0m\n\u001b[1;32m     33\u001b[0m             \u001b[0;32mwith\u001b[0m \u001b[0mtqdm\u001b[0m\u001b[0;34m(\u001b[0m\u001b[0mtotal\u001b[0m\u001b[0;34m=\u001b[0m\u001b[0mresponse\u001b[0m\u001b[0;34m.\u001b[0m\u001b[0mlength\u001b[0m\u001b[0;34m)\u001b[0m \u001b[0;32mas\u001b[0m \u001b[0mpbar\u001b[0m\u001b[0;34m:\u001b[0m\u001b[0;34m\u001b[0m\u001b[0;34m\u001b[0m\u001b[0m\n\u001b[0;32m---> 34\u001b[0;31m                 \u001b[0;32mfor\u001b[0m \u001b[0mchunk\u001b[0m \u001b[0;32min\u001b[0m \u001b[0miter\u001b[0m\u001b[0;34m(\u001b[0m\u001b[0;32mlambda\u001b[0m\u001b[0;34m:\u001b[0m \u001b[0mresponse\u001b[0m\u001b[0;34m.\u001b[0m\u001b[0mread\u001b[0m\u001b[0;34m(\u001b[0m\u001b[0mchunk_size\u001b[0m\u001b[0;34m)\u001b[0m\u001b[0;34m,\u001b[0m \u001b[0;34m\"\"\u001b[0m\u001b[0;34m)\u001b[0m\u001b[0;34m:\u001b[0m\u001b[0;34m\u001b[0m\u001b[0;34m\u001b[0m\u001b[0m\n\u001b[0m\u001b[1;32m     35\u001b[0m                     \u001b[0;32mif\u001b[0m \u001b[0;32mnot\u001b[0m \u001b[0mchunk\u001b[0m\u001b[0;34m:\u001b[0m\u001b[0;34m\u001b[0m\u001b[0;34m\u001b[0m\u001b[0m\n\u001b[1;32m     36\u001b[0m                         \u001b[0;32mbreak\u001b[0m\u001b[0;34m\u001b[0m\u001b[0;34m\u001b[0m\u001b[0m\n",
      "\u001b[0;32m~/anaconda3/envs/Tianchi/lib/python3.7/http/client.py\u001b[0m in \u001b[0;36mread\u001b[0;34m(self, amt)\u001b[0m\n\u001b[1;32m    459\u001b[0m             \u001b[0;31m# Amount is given, implement using readinto\u001b[0m\u001b[0;34m\u001b[0m\u001b[0;34m\u001b[0m\u001b[0;34m\u001b[0m\u001b[0m\n\u001b[1;32m    460\u001b[0m             \u001b[0mb\u001b[0m \u001b[0;34m=\u001b[0m \u001b[0mbytearray\u001b[0m\u001b[0;34m(\u001b[0m\u001b[0mamt\u001b[0m\u001b[0;34m)\u001b[0m\u001b[0;34m\u001b[0m\u001b[0;34m\u001b[0m\u001b[0m\n\u001b[0;32m--> 461\u001b[0;31m             \u001b[0mn\u001b[0m \u001b[0;34m=\u001b[0m \u001b[0mself\u001b[0m\u001b[0;34m.\u001b[0m\u001b[0mreadinto\u001b[0m\u001b[0;34m(\u001b[0m\u001b[0mb\u001b[0m\u001b[0;34m)\u001b[0m\u001b[0;34m\u001b[0m\u001b[0;34m\u001b[0m\u001b[0m\n\u001b[0m\u001b[1;32m    462\u001b[0m             \u001b[0;32mreturn\u001b[0m \u001b[0mmemoryview\u001b[0m\u001b[0;34m(\u001b[0m\u001b[0mb\u001b[0m\u001b[0;34m)\u001b[0m\u001b[0;34m[\u001b[0m\u001b[0;34m:\u001b[0m\u001b[0mn\u001b[0m\u001b[0;34m]\u001b[0m\u001b[0;34m.\u001b[0m\u001b[0mtobytes\u001b[0m\u001b[0;34m(\u001b[0m\u001b[0;34m)\u001b[0m\u001b[0;34m\u001b[0m\u001b[0;34m\u001b[0m\u001b[0m\n\u001b[1;32m    463\u001b[0m         \u001b[0;32melse\u001b[0m\u001b[0;34m:\u001b[0m\u001b[0;34m\u001b[0m\u001b[0;34m\u001b[0m\u001b[0m\n",
      "\u001b[0;32m~/anaconda3/envs/Tianchi/lib/python3.7/http/client.py\u001b[0m in \u001b[0;36mreadinto\u001b[0;34m(self, b)\u001b[0m\n\u001b[1;32m    503\u001b[0m         \u001b[0;31m# connection, and the user is reading more bytes than will be provided\u001b[0m\u001b[0;34m\u001b[0m\u001b[0;34m\u001b[0m\u001b[0;34m\u001b[0m\u001b[0m\n\u001b[1;32m    504\u001b[0m         \u001b[0;31m# (for example, reading in 1k chunks)\u001b[0m\u001b[0;34m\u001b[0m\u001b[0;34m\u001b[0m\u001b[0;34m\u001b[0m\u001b[0m\n\u001b[0;32m--> 505\u001b[0;31m         \u001b[0mn\u001b[0m \u001b[0;34m=\u001b[0m \u001b[0mself\u001b[0m\u001b[0;34m.\u001b[0m\u001b[0mfp\u001b[0m\u001b[0;34m.\u001b[0m\u001b[0mreadinto\u001b[0m\u001b[0;34m(\u001b[0m\u001b[0mb\u001b[0m\u001b[0;34m)\u001b[0m\u001b[0;34m\u001b[0m\u001b[0;34m\u001b[0m\u001b[0m\n\u001b[0m\u001b[1;32m    506\u001b[0m         \u001b[0;32mif\u001b[0m \u001b[0;32mnot\u001b[0m \u001b[0mn\u001b[0m \u001b[0;32mand\u001b[0m \u001b[0mb\u001b[0m\u001b[0;34m:\u001b[0m\u001b[0;34m\u001b[0m\u001b[0;34m\u001b[0m\u001b[0m\n\u001b[1;32m    507\u001b[0m             \u001b[0;31m# Ideally, we would raise IncompleteRead if the content-length\u001b[0m\u001b[0;34m\u001b[0m\u001b[0;34m\u001b[0m\u001b[0;34m\u001b[0m\u001b[0m\n",
      "\u001b[0;32m~/anaconda3/envs/Tianchi/lib/python3.7/socket.py\u001b[0m in \u001b[0;36mreadinto\u001b[0;34m(self, b)\u001b[0m\n\u001b[1;32m    587\u001b[0m         \u001b[0;32mwhile\u001b[0m \u001b[0;32mTrue\u001b[0m\u001b[0;34m:\u001b[0m\u001b[0;34m\u001b[0m\u001b[0;34m\u001b[0m\u001b[0m\n\u001b[1;32m    588\u001b[0m             \u001b[0;32mtry\u001b[0m\u001b[0;34m:\u001b[0m\u001b[0;34m\u001b[0m\u001b[0;34m\u001b[0m\u001b[0m\n\u001b[0;32m--> 589\u001b[0;31m                 \u001b[0;32mreturn\u001b[0m \u001b[0mself\u001b[0m\u001b[0;34m.\u001b[0m\u001b[0m_sock\u001b[0m\u001b[0;34m.\u001b[0m\u001b[0mrecv_into\u001b[0m\u001b[0;34m(\u001b[0m\u001b[0mb\u001b[0m\u001b[0;34m)\u001b[0m\u001b[0;34m\u001b[0m\u001b[0;34m\u001b[0m\u001b[0m\n\u001b[0m\u001b[1;32m    590\u001b[0m             \u001b[0;32mexcept\u001b[0m \u001b[0mtimeout\u001b[0m\u001b[0;34m:\u001b[0m\u001b[0;34m\u001b[0m\u001b[0;34m\u001b[0m\u001b[0m\n\u001b[1;32m    591\u001b[0m                 \u001b[0mself\u001b[0m\u001b[0;34m.\u001b[0m\u001b[0m_timeout_occurred\u001b[0m \u001b[0;34m=\u001b[0m \u001b[0;32mTrue\u001b[0m\u001b[0;34m\u001b[0m\u001b[0;34m\u001b[0m\u001b[0m\n",
      "\u001b[0;31mKeyboardInterrupt\u001b[0m: "
     ]
    }
   ],
   "source": [
    "mnist_train = torchvision.datasets.FashionMNIST(root='~/Datasets/FashionMNIST', train=True, download=True, transform=transforms.ToTensor())\n",
    "mnist_test = torchvision.datasets.FashionMNIST(root='~/Datasets/FashionMNIST', train=False, download=True, transform=transforms.ToTensor())"
   ]
  },
  {
   "cell_type": "code",
   "execution_count": null,
   "metadata": {},
   "outputs": [],
   "source": []
  }
 ],
 "metadata": {
  "kernelspec": {
   "display_name": "Tianchi",
   "language": "python",
   "name": "tianchi"
  },
  "language_info": {
   "codemirror_mode": {
    "name": "ipython",
    "version": 3
   },
   "file_extension": ".py",
   "mimetype": "text/x-python",
   "name": "python",
   "nbconvert_exporter": "python",
   "pygments_lexer": "ipython3",
   "version": "3.7.9"
  },
  "toc": {
   "base_numbering": 1,
   "nav_menu": {},
   "number_sections": true,
   "sideBar": true,
   "skip_h1_title": false,
   "title_cell": "Table of Contents",
   "title_sidebar": "Contents",
   "toc_cell": false,
   "toc_position": {
    "height": "calc(100% - 180px)",
    "left": "10px",
    "top": "150px",
    "width": "165px"
   },
   "toc_section_display": true,
   "toc_window_display": false
  }
 },
 "nbformat": 4,
 "nbformat_minor": 4
}
